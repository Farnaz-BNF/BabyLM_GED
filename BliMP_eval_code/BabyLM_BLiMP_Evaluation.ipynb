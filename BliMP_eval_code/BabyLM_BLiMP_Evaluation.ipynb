{
  "cells": [
    {
      "cell_type": "markdown",
      "metadata": {
        "id": "kRGWKaudsoSu"
      },
      "source": [
        "# Instructions\n",
        "This notebook allows you to load and evaluate a huggingface model on a subset of BLiMP (a linguistic acceptability judgment dataset) and GLUE (a natural language understanding benchmark collection). It is HIGHLY recommended to clone the GitHub repository and evaluate your model in the command-line; this will give you more freedom in the kinds of models you can evaluate. However, Colab provides a GPU that will allow you to load and evaluate smaller models.\n",
        "\n",
        "To use this notebook:\n",
        "\n",
        "1. Start by making a copy of this notebook so that you can make edits and run the code: File > Save a copy in Drive.\n",
        "\n",
        "2. Set Runtime > Change runtime type > Hardware accelerator to GPU if it isn't already.\n",
        "\n",
        "3. Run the setup script to install the required packages for evaluating.\n",
        "\n",
        "4. Upload your model to the colab in the `/content/model_folder/` directory. This folder should include the following files, and probably a couple more depending on the type of model and tokenizer you use:\n",
        "* `config.json`\n",
        "* `pytorch_model.bin`\n",
        "* `tokenizer_config.json`\n",
        "* `vocab.json`\n",
        "\n",
        "  a. To obtain these files given your pre-trained model and your tokenizer, load them using huggingface `transformers` and save them using these commands:\n",
        "```\n",
        "tokenizer.save_pretrained(\"./model_dir\")\n",
        "model.save_pretrained(\"./model_dir\")\n",
        "```\n",
        "  b. Then, upload all the contents of `model_dir` (including any other files not mentioned above) to the `model_folder` folder in this Colab.\n",
        "\n",
        "5. Choose the proper model type in the dropdown in the \"load model and evaluate\" cell. Use \"decoder\" for autoregressive (sometimes called \"causal\") language models, like GPT/OPT; \"encoder\" for masked language models, like BERT/RoBERTa; or \"encoder-decoder\" for text-to-text models, like T5/BART.\n",
        "\n",
        "6. Run the cells below to load and evaluate your model."
      ]
    },
    {
      "cell_type": "code",
      "execution_count": null,
      "metadata": {
        "colab": {
          "base_uri": "https://localhost:8080/"
        },
        "id": "7LFM77G5QIEJ",
        "outputId": "dc537783-89d6-4ee9-85c5-1b16ba6a36db"
      },
      "outputs": [
        {
          "name": "stdout",
          "output_type": "stream",
          "text": [
            "Mounted at /content/drive\n"
          ]
        }
      ],
      "source": [
        "from google.colab import drive\n",
        "drive.mount('/content/drive')"
      ]
    },
    {
      "cell_type": "code",
      "execution_count": null,
      "metadata": {
        "id": "JrGcqhaDvaC3"
      },
      "outputs": [],
      "source": [
        "!cp -r \"/content/drive/MyDrive/VU Thesis/Code/BliMP_eval_code/evaluation-pipeline\" \"/content/\""
      ]
    },
    {
      "cell_type": "code",
      "execution_count": null,
      "metadata": {
        "id": "bl0LNqpbQSkP"
      },
      "outputs": [],
      "source": [
        "!mkdir model_folder\n",
        "!cp \"/content/drive/MyDrive/VU Thesis/Code/test_models/model_4_folder/config.json\" \"/content/model_folder\"\n",
        "!cp \"/content/drive/MyDrive/VU Thesis/Code/test_models/model_4_folder/merges.txt\" \"/content/model_folder\"\n",
        "!cp \"/content/drive/MyDrive/VU Thesis/Code/test_models/model_4_folder/model.safetensors\" \"/content/model_folder\"\n",
        "!cp \"/content/drive/MyDrive/VU Thesis/Code/test_models/model_4_folder/special_tokens_map.json\" \"/content/model_folder\"\n",
        "!cp \"/content/drive/MyDrive/VU Thesis/Code/test_models/model_4_folder/tokenizer.json\" \"/content/model_folder\"\n",
        "!cp \"/content/drive/MyDrive/VU Thesis/Code/test_models/model_4_folder/tokenizer_config.json\" \"/content/model_folder\"\n",
        "!cp \"/content/drive/MyDrive/VU Thesis/Code/test_models/model_4_folder/training_args.bin\" \"/content/model_folder\"\n",
        "!cp \"/content/drive/MyDrive/VU Thesis/Code/test_models/model_4_folder/vocab.json\" \"/content/model_folder\""
      ]
    },
    {
      "cell_type": "code",
      "execution_count": null,
      "metadata": {
        "id": "7C3ZRYgmSTTI"
      },
      "outputs": [],
      "source": [
        "!cp -r \"/content/drive/MyDrive/VU Thesis/Code/BliMP_eval_code/lm_eval\" \"/content/\""
      ]
    },
    {
      "cell_type": "code",
      "execution_count": null,
      "metadata": {
        "colab": {
          "base_uri": "https://localhost:8080/"
        },
        "id": "Lk4Epwozk_sf",
        "outputId": "a2e349b3-4b94-4dff-9508-94ea853ebb95"
      },
      "outputs": [
        {
          "name": "stdout",
          "output_type": "stream",
          "text": [
            "mkdir: cannot create directory ‘model_folder’: File exists\n",
            "\u001b[33mWARNING: Skipping lm-eval as it is not installed.\u001b[0m\u001b[33m\n",
            "\u001b[0mObtaining file:///content/evaluation-pipeline\n",
            "  Preparing metadata (setup.py) ... \u001b[?25l\u001b[?25hdone\n",
            "Collecting accelerate@ git+https://github.com/huggingface/accelerate@main (from lm_eval==0.2.0)\n",
            "  Cloning https://github.com/huggingface/accelerate (to revision main) to /tmp/pip-install-4_odshay/accelerate_894968b5d87547bebb4316a52e08271c\n",
            "  Running command git clone --filter=blob:none --quiet https://github.com/huggingface/accelerate /tmp/pip-install-4_odshay/accelerate_894968b5d87547bebb4316a52e08271c\n",
            "  Resolved https://github.com/huggingface/accelerate to commit 650b6659c0856e0a995d04e491b9672bbf49c720\n",
            "  Installing build dependencies ... \u001b[?25l\u001b[?25hdone\n",
            "  Getting requirements to build wheel ... \u001b[?25l\u001b[?25hdone\n",
            "  Preparing metadata (pyproject.toml) ... \u001b[?25l\u001b[?25hdone\n",
            "Collecting datasets>=2.0.0 (from lm_eval==0.2.0)\n",
            "  Downloading datasets-3.5.0-py3-none-any.whl.metadata (19 kB)\n",
            "Collecting nltk==3.6 (from lm_eval==0.2.0)\n",
            "  Downloading nltk-3.6-py3-none-any.whl.metadata (2.9 kB)\n",
            "Collecting openai==0.13.0 (from lm_eval==0.2.0)\n",
            "  Downloading openai-0.13.0.tar.gz (37 kB)\n",
            "  Preparing metadata (setup.py) ... \u001b[?25l\u001b[?25hdone\n",
            "Collecting pycountry==20.7.3 (from lm_eval==0.2.0)\n",
            "  Downloading pycountry-20.7.3.tar.gz (10.1 MB)\n",
            "\u001b[2K     \u001b[90m━━━━━━━━━━━━━━━━━━━━━━━━━━━━━━━━━━━━━━━━\u001b[0m \u001b[32m10.1/10.1 MB\u001b[0m \u001b[31m120.7 MB/s\u001b[0m eta \u001b[36m0:00:00\u001b[0m\n",
            "\u001b[?25h  Preparing metadata (setup.py) ... \u001b[?25l\u001b[?25hdone\n",
            "Collecting pytablewriter==0.58.0 (from lm_eval==0.2.0)\n",
            "  Downloading pytablewriter-0.58.0-py3-none-any.whl.metadata (31 kB)\n",
            "Collecting rouge-score==0.0.4 (from lm_eval==0.2.0)\n",
            "  Downloading rouge_score-0.0.4-py2.py3-none-any.whl.metadata (3.8 kB)\n",
            "Collecting sacrebleu==1.5.0 (from lm_eval==0.2.0)\n",
            "  Downloading sacrebleu-1.5.0-py3-none-any.whl.metadata (1.3 kB)\n",
            "Requirement already satisfied: scikit-learn>=0.24.1 in /usr/local/lib/python3.11/dist-packages (from lm_eval==0.2.0) (1.6.1)\n",
            "Collecting sqlitedict==1.6.0 (from lm_eval==0.2.0)\n",
            "  Downloading sqlitedict-1.6.0.tar.gz (29 kB)\n",
            "  Preparing metadata (setup.py) ... \u001b[?25l\u001b[?25hdone\n",
            "INFO: pip is looking at multiple versions of lm-eval to determine which version is compatible with other requirements. This could take a while.\n",
            "\u001b[31mERROR: Could not find a version that satisfies the requirement torch==1.11.0 (from lm-eval) (from versions: 1.13.0, 1.13.1, 2.0.0, 2.0.1, 2.1.0, 2.1.1, 2.1.2, 2.2.0, 2.2.1, 2.2.2, 2.3.0, 2.3.1, 2.4.0, 2.4.1, 2.5.0, 2.5.1, 2.6.0)\u001b[0m\u001b[31m\n",
            "\u001b[0m\u001b[31mERROR: No matching distribution found for torch==1.11.0\u001b[0m\u001b[31m\n",
            "\u001b[0mLooking in indexes: https://pypi.org/simple, https://download.pytorch.org/whl/cu113\n",
            "\u001b[31mERROR: Could not find a version that satisfies the requirement torch==1.11.0+cu113 (from versions: 1.13.0, 1.13.1, 2.0.0, 2.0.1, 2.1.0, 2.1.1, 2.1.2, 2.2.0, 2.2.1, 2.2.2, 2.3.0, 2.3.1, 2.4.0, 2.4.1, 2.5.0, 2.5.1, 2.6.0)\u001b[0m\u001b[31m\n",
            "\u001b[0m\u001b[31mERROR: No matching distribution found for torch==1.11.0+cu113\u001b[0m\u001b[31m\n",
            "\u001b[0mArchive:  filter_data.zip\n",
            "   creating: filter-data/\n",
            "   creating: filter-data/syllogisms_filtered/\n",
            "   creating: filter-data/syllogisms_filtered/syllogism_problems/\n",
            "  inflating: filter-data/syllogisms_filtered/syllogism_problems/syllogism_problems.json  \n",
            "  inflating: filter-data/syllogisms_filtered/syllogism_problems/LICENSE.txt  \n",
            "  inflating: filter-data/syllogisms_filtered/syllogisms_nonsense.train  \n",
            "   creating: filter-data/glue_filtered/\n",
            "  inflating: filter-data/glue_filtered/boolq.test.json  \n",
            "  inflating: filter-data/glue_filtered/boolq.train.json  \n",
            "  inflating: filter-data/glue_filtered/boolq.validation.json  \n",
            "  inflating: filter-data/glue_filtered/cola.test.json  \n",
            "  inflating: filter-data/glue_filtered/cola.train.json  \n",
            "  inflating: filter-data/glue_filtered/cola.validation.json  \n",
            "  inflating: filter-data/glue_filtered/mnli_mismatched.test.json  \n",
            "  inflating: filter-data/glue_filtered/mnli.test.json  \n",
            "  inflating: filter-data/glue_filtered/mnli.train.json  \n",
            "  inflating: filter-data/glue_filtered/mnli.validation_matched.json  \n",
            "  inflating: filter-data/glue_filtered/mnli.validation_mismatched.json  \n",
            "  inflating: filter-data/glue_filtered/mrpc.test.json  \n",
            "  inflating: filter-data/glue_filtered/mrpc.train.json  \n",
            "  inflating: filter-data/glue_filtered/mrpc.validation.json  \n",
            "  inflating: filter-data/glue_filtered/multirc.test.json  \n",
            "  inflating: filter-data/glue_filtered/multirc.train.json  \n",
            "  inflating: filter-data/glue_filtered/multirc.validation.json  \n",
            "  inflating: filter-data/glue_filtered/qnli.test.json  \n",
            "  inflating: filter-data/glue_filtered/qnli.train.json  \n",
            "  inflating: filter-data/glue_filtered/qnli.validation.json  \n",
            "  inflating: filter-data/glue_filtered/qqp.test.json  \n",
            "  inflating: filter-data/glue_filtered/qqp.train.json  \n",
            "  inflating: filter-data/glue_filtered/qqp.validation.json  \n",
            "  inflating: filter-data/glue_filtered/rte.test.json  \n",
            "  inflating: filter-data/glue_filtered/rte.train.json  \n",
            "  inflating: filter-data/glue_filtered/rte.validation.json  \n",
            "  inflating: filter-data/glue_filtered/sst2.test.json  \n",
            "  inflating: filter-data/glue_filtered/sst2.train.json  \n",
            "  inflating: filter-data/glue_filtered/sst2.validation.json  \n",
            "  inflating: filter-data/glue_filtered/wsc.test.json  \n",
            "  inflating: filter-data/glue_filtered/wsc.train.json  \n",
            "  inflating: filter-data/glue_filtered/wsc.validation.json  \n",
            "   creating: filter-data/blimp_filtered/\n",
            "  inflating: filter-data/blimp_filtered/island_effects.json  \n",
            "  inflating: filter-data/blimp_filtered/anaphor_agreement.json  \n",
            "  inflating: filter-data/blimp_filtered/argument_structure.json  \n",
            "  inflating: filter-data/blimp_filtered/determiner_noun_agreement.json  \n",
            "  inflating: filter-data/blimp_filtered/subject_verb_agreement.json  \n",
            "  inflating: filter-data/blimp_filtered/ellipsis.json  \n",
            "  inflating: filter-data/blimp_filtered/control_raising.json  \n",
            "  inflating: filter-data/blimp_filtered/quantifiers.json  \n",
            "  inflating: filter-data/blimp_filtered/irregular_forms.json  \n",
            "  inflating: filter-data/blimp_filtered/npi_licensing.json  \n",
            "  inflating: filter-data/blimp_filtered/binding.json  \n",
            "  inflating: filter-data/blimp_filtered/filler_gap.json  \n"
          ]
        },
        {
          "data": {
            "text/plain": []
          },
          "execution_count": 4,
          "metadata": {},
          "output_type": "execute_result"
        }
      ],
      "source": [
        "#@title Setup script { display-mode: \"form\" }\n",
        "#@markdown Run this cell to install the necessary packages (may take a few minutes).\n",
        "%%shell\n",
        "# Remove previous installation if it exists\n",
        "cd /content\n",
        "# mkdir model_folder\n",
        "pip uninstall -y lm-eval\n",
        "# rm -rf evaluation-pipeline/\n",
        "\n",
        "# Install evaluation-pipeline\n",
        "# cp -r /content/drive/MyDrive/VU Thesis/Code/BliMP_eval_code/evaluation-pipeline /content/\n",
        "cd evaluation-pipeline/\n",
        "pip install -e \".[colab]\"\n",
        "# Install other necessary packages\n",
        "pip install torch==1.11.0+cu113 torchvision==0.12.0+cu113 torchaudio==0.11.0 --extra-index-url https://download.pytorch.org/whl/cu113\n",
        "\n",
        "# Unpack dataset\n",
        "# unzip filter_data.zip"
      ]
    },
    {
      "cell_type": "code",
      "execution_count": null,
      "metadata": {
        "id": "vcozbn-5REZ-"
      },
      "outputs": [],
      "source": [
        "!pip install sacrebleu"
      ]
    },
    {
      "cell_type": "code",
      "execution_count": null,
      "metadata": {
        "id": "TEIKpPrtQ9d2"
      },
      "outputs": [],
      "source": [
        "!pip install datasets"
      ]
    },
    {
      "cell_type": "code",
      "execution_count": null,
      "metadata": {
        "id": "ltCbAiXPRRAC"
      },
      "outputs": [],
      "source": [
        "!pip install rouge_score"
      ]
    },
    {
      "cell_type": "code",
      "execution_count": null,
      "metadata": {
        "colab": {
          "base_uri": "https://localhost:8080/",
          "height": 1000
        },
        "id": "OY4ZeQiAS5On",
        "outputId": "c6c634ce-884f-4805-ea13-6819dd4f9d6e"
      },
      "outputs": [
        {
          "name": "stdout",
          "output_type": "stream",
          "text": [
            "Collecting lm_eval\n",
            "  Downloading lm_eval-0.4.8-py3-none-any.whl.metadata (50 kB)\n",
            "\u001b[?25l     \u001b[90m━━━━━━━━━━━━━━━━━━━━━━━━━━━━━━━━━━━━━━━━\u001b[0m \u001b[32m0.0/50.5 kB\u001b[0m \u001b[31m?\u001b[0m eta \u001b[36m-:--:--\u001b[0m\r\u001b[2K     \u001b[90m━━━━━━━━━━━━━━━━━━━━━━━━━━━━━━━━━━━━━━━━\u001b[0m \u001b[32m50.5/50.5 kB\u001b[0m \u001b[31m4.4 MB/s\u001b[0m eta \u001b[36m0:00:00\u001b[0m\n",
            "\u001b[?25hRequirement already satisfied: accelerate>=0.26.0 in /usr/local/lib/python3.11/dist-packages (from lm_eval) (1.5.2)\n",
            "Collecting evaluate (from lm_eval)\n",
            "  Downloading evaluate-0.4.3-py3-none-any.whl.metadata (9.2 kB)\n",
            "Requirement already satisfied: datasets>=2.16.0 in /usr/local/lib/python3.11/dist-packages (from lm_eval) (3.5.0)\n",
            "Collecting jsonlines (from lm_eval)\n",
            "  Downloading jsonlines-4.0.0-py3-none-any.whl.metadata (1.6 kB)\n",
            "Requirement already satisfied: numexpr in /usr/local/lib/python3.11/dist-packages (from lm_eval) (2.10.2)\n",
            "Requirement already satisfied: peft>=0.2.0 in /usr/local/lib/python3.11/dist-packages (from lm_eval) (0.14.0)\n",
            "Collecting pybind11>=2.6.2 (from lm_eval)\n",
            "  Downloading pybind11-2.13.6-py3-none-any.whl.metadata (9.5 kB)\n",
            "Collecting pytablewriter (from lm_eval)\n",
            "  Downloading pytablewriter-1.2.1-py3-none-any.whl.metadata (38 kB)\n",
            "Requirement already satisfied: rouge-score>=0.0.4 in /usr/local/lib/python3.11/dist-packages (from lm_eval) (0.1.2)\n",
            "Requirement already satisfied: sacrebleu>=1.5.0 in /usr/local/lib/python3.11/dist-packages (from lm_eval) (2.5.1)\n",
            "Requirement already satisfied: scikit-learn>=0.24.1 in /usr/local/lib/python3.11/dist-packages (from lm_eval) (1.6.1)\n",
            "Collecting sqlitedict (from lm_eval)\n",
            "  Downloading sqlitedict-2.1.0.tar.gz (21 kB)\n",
            "  Preparing metadata (setup.py) ... \u001b[?25l\u001b[?25hdone\n",
            "Requirement already satisfied: torch>=1.8 in /usr/local/lib/python3.11/dist-packages (from lm_eval) (2.6.0+cu124)\n",
            "Collecting tqdm-multiprocess (from lm_eval)\n",
            "  Downloading tqdm_multiprocess-0.0.11-py3-none-any.whl.metadata (5.7 kB)\n",
            "Requirement already satisfied: transformers>=4.1 in /usr/local/lib/python3.11/dist-packages (from lm_eval) (4.50.3)\n",
            "Requirement already satisfied: zstandard in /usr/local/lib/python3.11/dist-packages (from lm_eval) (0.23.0)\n",
            "Requirement already satisfied: dill in /usr/local/lib/python3.11/dist-packages (from lm_eval) (0.3.8)\n",
            "Collecting word2number (from lm_eval)\n",
            "  Downloading word2number-1.1.zip (9.7 kB)\n",
            "  Preparing metadata (setup.py) ... \u001b[?25l\u001b[?25hdone\n",
            "Requirement already satisfied: more_itertools in /usr/local/lib/python3.11/dist-packages (from lm_eval) (10.6.0)\n",
            "Requirement already satisfied: numpy<3.0.0,>=1.17 in /usr/local/lib/python3.11/dist-packages (from accelerate>=0.26.0->lm_eval) (2.0.2)\n",
            "Requirement already satisfied: packaging>=20.0 in /usr/local/lib/python3.11/dist-packages (from accelerate>=0.26.0->lm_eval) (24.2)\n",
            "Requirement already satisfied: psutil in /usr/local/lib/python3.11/dist-packages (from accelerate>=0.26.0->lm_eval) (5.9.5)\n",
            "Requirement already satisfied: pyyaml in /usr/local/lib/python3.11/dist-packages (from accelerate>=0.26.0->lm_eval) (6.0.2)\n",
            "Requirement already satisfied: huggingface-hub>=0.21.0 in /usr/local/lib/python3.11/dist-packages (from accelerate>=0.26.0->lm_eval) (0.30.1)\n",
            "Requirement already satisfied: safetensors>=0.4.3 in /usr/local/lib/python3.11/dist-packages (from accelerate>=0.26.0->lm_eval) (0.5.3)\n",
            "Requirement already satisfied: filelock in /usr/local/lib/python3.11/dist-packages (from datasets>=2.16.0->lm_eval) (3.18.0)\n",
            "Requirement already satisfied: pyarrow>=15.0.0 in /usr/local/lib/python3.11/dist-packages (from datasets>=2.16.0->lm_eval) (18.1.0)\n",
            "Requirement already satisfied: pandas in /usr/local/lib/python3.11/dist-packages (from datasets>=2.16.0->lm_eval) (2.2.2)\n",
            "Requirement already satisfied: requests>=2.32.2 in /usr/local/lib/python3.11/dist-packages (from datasets>=2.16.0->lm_eval) (2.32.3)\n",
            "Requirement already satisfied: tqdm>=4.66.3 in /usr/local/lib/python3.11/dist-packages (from datasets>=2.16.0->lm_eval) (4.67.1)\n",
            "Requirement already satisfied: xxhash in /usr/local/lib/python3.11/dist-packages (from datasets>=2.16.0->lm_eval) (3.5.0)\n",
            "Requirement already satisfied: multiprocess<0.70.17 in /usr/local/lib/python3.11/dist-packages (from datasets>=2.16.0->lm_eval) (0.70.16)\n",
            "Requirement already satisfied: fsspec<=2024.12.0,>=2023.1.0 in /usr/local/lib/python3.11/dist-packages (from fsspec[http]<=2024.12.0,>=2023.1.0->datasets>=2.16.0->lm_eval) (2024.12.0)\n",
            "Requirement already satisfied: aiohttp in /usr/local/lib/python3.11/dist-packages (from datasets>=2.16.0->lm_eval) (3.11.15)\n",
            "Requirement already satisfied: absl-py in /usr/local/lib/python3.11/dist-packages (from rouge-score>=0.0.4->lm_eval) (1.4.0)\n",
            "Requirement already satisfied: nltk in /usr/local/lib/python3.11/dist-packages (from rouge-score>=0.0.4->lm_eval) (3.9.1)\n",
            "Requirement already satisfied: six>=1.14.0 in /usr/local/lib/python3.11/dist-packages (from rouge-score>=0.0.4->lm_eval) (1.17.0)\n",
            "Requirement already satisfied: portalocker in /usr/local/lib/python3.11/dist-packages (from sacrebleu>=1.5.0->lm_eval) (3.1.1)\n",
            "Requirement already satisfied: regex in /usr/local/lib/python3.11/dist-packages (from sacrebleu>=1.5.0->lm_eval) (2024.11.6)\n",
            "Requirement already satisfied: tabulate>=0.8.9 in /usr/local/lib/python3.11/dist-packages (from sacrebleu>=1.5.0->lm_eval) (0.9.0)\n",
            "Requirement already satisfied: colorama in /usr/local/lib/python3.11/dist-packages (from sacrebleu>=1.5.0->lm_eval) (0.4.6)\n",
            "Requirement already satisfied: lxml in /usr/local/lib/python3.11/dist-packages (from sacrebleu>=1.5.0->lm_eval) (5.3.1)\n",
            "Requirement already satisfied: scipy>=1.6.0 in /usr/local/lib/python3.11/dist-packages (from scikit-learn>=0.24.1->lm_eval) (1.14.1)\n",
            "Requirement already satisfied: joblib>=1.2.0 in /usr/local/lib/python3.11/dist-packages (from scikit-learn>=0.24.1->lm_eval) (1.4.2)\n",
            "Requirement already satisfied: threadpoolctl>=3.1.0 in /usr/local/lib/python3.11/dist-packages (from scikit-learn>=0.24.1->lm_eval) (3.6.0)\n",
            "Requirement already satisfied: typing-extensions>=4.10.0 in /usr/local/lib/python3.11/dist-packages (from torch>=1.8->lm_eval) (4.13.1)\n",
            "Requirement already satisfied: networkx in /usr/local/lib/python3.11/dist-packages (from torch>=1.8->lm_eval) (3.4.2)\n",
            "Requirement already satisfied: jinja2 in /usr/local/lib/python3.11/dist-packages (from torch>=1.8->lm_eval) (3.1.6)\n",
            "Collecting nvidia-cuda-nvrtc-cu12==12.4.127 (from torch>=1.8->lm_eval)\n",
            "  Downloading nvidia_cuda_nvrtc_cu12-12.4.127-py3-none-manylinux2014_x86_64.whl.metadata (1.5 kB)\n",
            "Collecting nvidia-cuda-runtime-cu12==12.4.127 (from torch>=1.8->lm_eval)\n",
            "  Downloading nvidia_cuda_runtime_cu12-12.4.127-py3-none-manylinux2014_x86_64.whl.metadata (1.5 kB)\n",
            "Collecting nvidia-cuda-cupti-cu12==12.4.127 (from torch>=1.8->lm_eval)\n",
            "  Downloading nvidia_cuda_cupti_cu12-12.4.127-py3-none-manylinux2014_x86_64.whl.metadata (1.6 kB)\n",
            "Collecting nvidia-cudnn-cu12==9.1.0.70 (from torch>=1.8->lm_eval)\n",
            "  Downloading nvidia_cudnn_cu12-9.1.0.70-py3-none-manylinux2014_x86_64.whl.metadata (1.6 kB)\n",
            "Collecting nvidia-cublas-cu12==12.4.5.8 (from torch>=1.8->lm_eval)\n",
            "  Downloading nvidia_cublas_cu12-12.4.5.8-py3-none-manylinux2014_x86_64.whl.metadata (1.5 kB)\n",
            "Collecting nvidia-cufft-cu12==11.2.1.3 (from torch>=1.8->lm_eval)\n",
            "  Downloading nvidia_cufft_cu12-11.2.1.3-py3-none-manylinux2014_x86_64.whl.metadata (1.5 kB)\n",
            "Collecting nvidia-curand-cu12==10.3.5.147 (from torch>=1.8->lm_eval)\n",
            "  Downloading nvidia_curand_cu12-10.3.5.147-py3-none-manylinux2014_x86_64.whl.metadata (1.5 kB)\n",
            "Collecting nvidia-cusolver-cu12==11.6.1.9 (from torch>=1.8->lm_eval)\n",
            "  Downloading nvidia_cusolver_cu12-11.6.1.9-py3-none-manylinux2014_x86_64.whl.metadata (1.6 kB)\n",
            "Collecting nvidia-cusparse-cu12==12.3.1.170 (from torch>=1.8->lm_eval)\n",
            "  Downloading nvidia_cusparse_cu12-12.3.1.170-py3-none-manylinux2014_x86_64.whl.metadata (1.6 kB)\n",
            "Requirement already satisfied: nvidia-cusparselt-cu12==0.6.2 in /usr/local/lib/python3.11/dist-packages (from torch>=1.8->lm_eval) (0.6.2)\n",
            "Requirement already satisfied: nvidia-nccl-cu12==2.21.5 in /usr/local/lib/python3.11/dist-packages (from torch>=1.8->lm_eval) (2.21.5)\n",
            "Requirement already satisfied: nvidia-nvtx-cu12==12.4.127 in /usr/local/lib/python3.11/dist-packages (from torch>=1.8->lm_eval) (12.4.127)\n",
            "Collecting nvidia-nvjitlink-cu12==12.4.127 (from torch>=1.8->lm_eval)\n",
            "  Downloading nvidia_nvjitlink_cu12-12.4.127-py3-none-manylinux2014_x86_64.whl.metadata (1.5 kB)\n",
            "Requirement already satisfied: triton==3.2.0 in /usr/local/lib/python3.11/dist-packages (from torch>=1.8->lm_eval) (3.2.0)\n",
            "Requirement already satisfied: sympy==1.13.1 in /usr/local/lib/python3.11/dist-packages (from torch>=1.8->lm_eval) (1.13.1)\n",
            "Requirement already satisfied: mpmath<1.4,>=1.1.0 in /usr/local/lib/python3.11/dist-packages (from sympy==1.13.1->torch>=1.8->lm_eval) (1.3.0)\n",
            "Requirement already satisfied: tokenizers<0.22,>=0.21 in /usr/local/lib/python3.11/dist-packages (from transformers>=4.1->lm_eval) (0.21.1)\n",
            "Requirement already satisfied: attrs>=19.2.0 in /usr/local/lib/python3.11/dist-packages (from jsonlines->lm_eval) (25.3.0)\n",
            "Requirement already satisfied: setuptools>=38.3.0 in /usr/local/lib/python3.11/dist-packages (from pytablewriter->lm_eval) (75.2.0)\n",
            "Collecting DataProperty<2,>=1.1.0 (from pytablewriter->lm_eval)\n",
            "  Downloading DataProperty-1.1.0-py3-none-any.whl.metadata (11 kB)\n",
            "Collecting mbstrdecoder<2,>=1.0.0 (from pytablewriter->lm_eval)\n",
            "  Downloading mbstrdecoder-1.1.4-py3-none-any.whl.metadata (4.3 kB)\n",
            "Collecting pathvalidate<4,>=2.3.0 (from pytablewriter->lm_eval)\n",
            "  Downloading pathvalidate-3.2.3-py3-none-any.whl.metadata (12 kB)\n",
            "Collecting tabledata<2,>=1.3.1 (from pytablewriter->lm_eval)\n",
            "  Downloading tabledata-1.3.4-py3-none-any.whl.metadata (3.7 kB)\n",
            "Collecting tcolorpy<1,>=0.0.5 (from pytablewriter->lm_eval)\n",
            "  Downloading tcolorpy-0.1.7-py3-none-any.whl.metadata (6.3 kB)\n",
            "Collecting typepy<2,>=1.3.2 (from typepy[datetime]<2,>=1.3.2->pytablewriter->lm_eval)\n",
            "  Downloading typepy-1.3.4-py3-none-any.whl.metadata (9.2 kB)\n",
            "Requirement already satisfied: aiohappyeyeballs>=2.3.0 in /usr/local/lib/python3.11/dist-packages (from aiohttp->datasets>=2.16.0->lm_eval) (2.6.1)\n",
            "Requirement already satisfied: aiosignal>=1.1.2 in /usr/local/lib/python3.11/dist-packages (from aiohttp->datasets>=2.16.0->lm_eval) (1.3.2)\n",
            "Requirement already satisfied: frozenlist>=1.1.1 in /usr/local/lib/python3.11/dist-packages (from aiohttp->datasets>=2.16.0->lm_eval) (1.5.0)\n",
            "Requirement already satisfied: multidict<7.0,>=4.5 in /usr/local/lib/python3.11/dist-packages (from aiohttp->datasets>=2.16.0->lm_eval) (6.2.0)\n",
            "Requirement already satisfied: propcache>=0.2.0 in /usr/local/lib/python3.11/dist-packages (from aiohttp->datasets>=2.16.0->lm_eval) (0.3.1)\n",
            "Requirement already satisfied: yarl<2.0,>=1.17.0 in /usr/local/lib/python3.11/dist-packages (from aiohttp->datasets>=2.16.0->lm_eval) (1.18.3)\n",
            "Requirement already satisfied: chardet<6,>=3.0.4 in /usr/local/lib/python3.11/dist-packages (from mbstrdecoder<2,>=1.0.0->pytablewriter->lm_eval) (5.2.0)\n",
            "Requirement already satisfied: charset-normalizer<4,>=2 in /usr/local/lib/python3.11/dist-packages (from requests>=2.32.2->datasets>=2.16.0->lm_eval) (3.4.1)\n",
            "Requirement already satisfied: idna<4,>=2.5 in /usr/local/lib/python3.11/dist-packages (from requests>=2.32.2->datasets>=2.16.0->lm_eval) (3.10)\n",
            "Requirement already satisfied: urllib3<3,>=1.21.1 in /usr/local/lib/python3.11/dist-packages (from requests>=2.32.2->datasets>=2.16.0->lm_eval) (2.3.0)\n",
            "Requirement already satisfied: certifi>=2017.4.17 in /usr/local/lib/python3.11/dist-packages (from requests>=2.32.2->datasets>=2.16.0->lm_eval) (2025.1.31)\n",
            "Requirement already satisfied: python-dateutil<3.0.0,>=2.8.0 in /usr/local/lib/python3.11/dist-packages (from typepy[datetime]<2,>=1.3.2->pytablewriter->lm_eval) (2.8.2)\n",
            "Requirement already satisfied: pytz>=2018.9 in /usr/local/lib/python3.11/dist-packages (from typepy[datetime]<2,>=1.3.2->pytablewriter->lm_eval) (2025.2)\n",
            "Requirement already satisfied: MarkupSafe>=2.0 in /usr/local/lib/python3.11/dist-packages (from jinja2->torch>=1.8->lm_eval) (3.0.2)\n",
            "Requirement already satisfied: click in /usr/local/lib/python3.11/dist-packages (from nltk->rouge-score>=0.0.4->lm_eval) (8.1.8)\n",
            "Requirement already satisfied: tzdata>=2022.7 in /usr/local/lib/python3.11/dist-packages (from pandas->datasets>=2.16.0->lm_eval) (2025.2)\n",
            "Downloading lm_eval-0.4.8-py3-none-any.whl (3.9 MB)\n",
            "\u001b[2K   \u001b[90m━━━━━━━━━━━━━━━━━━━━━━━━━━━━━━━━━━━━━━━━\u001b[0m \u001b[32m3.9/3.9 MB\u001b[0m \u001b[31m98.1 MB/s\u001b[0m eta \u001b[36m0:00:00\u001b[0m\n",
            "\u001b[?25hDownloading evaluate-0.4.3-py3-none-any.whl (84 kB)\n",
            "\u001b[2K   \u001b[90m━━━━━━━━━━━━━━━━━━━━━━━━━━━━━━━━━━━━━━━━\u001b[0m \u001b[32m84.0/84.0 kB\u001b[0m \u001b[31m8.2 MB/s\u001b[0m eta \u001b[36m0:00:00\u001b[0m\n",
            "\u001b[?25hDownloading pybind11-2.13.6-py3-none-any.whl (243 kB)\n",
            "\u001b[2K   \u001b[90m━━━━━━━━━━━━━━━━━━━━━━━━━━━━━━━━━━━━━━━━\u001b[0m \u001b[32m243.3/243.3 kB\u001b[0m \u001b[31m21.8 MB/s\u001b[0m eta \u001b[36m0:00:00\u001b[0m\n",
            "\u001b[?25hDownloading nvidia_cublas_cu12-12.4.5.8-py3-none-manylinux2014_x86_64.whl (363.4 MB)\n",
            "\u001b[2K   \u001b[90m━━━━━━━━━━━━━━━━━━━━━━━━━━━━━━━━━━━━━━━━\u001b[0m \u001b[32m363.4/363.4 MB\u001b[0m \u001b[31m3.8 MB/s\u001b[0m eta \u001b[36m0:00:00\u001b[0m\n",
            "\u001b[?25hDownloading nvidia_cuda_cupti_cu12-12.4.127-py3-none-manylinux2014_x86_64.whl (13.8 MB)\n",
            "\u001b[2K   \u001b[90m━━━━━━━━━━━━━━━━━━━━━━━━━━━━━━━━━━━━━━━━\u001b[0m \u001b[32m13.8/13.8 MB\u001b[0m \u001b[31m71.1 MB/s\u001b[0m eta \u001b[36m0:00:00\u001b[0m\n",
            "\u001b[?25hDownloading nvidia_cuda_nvrtc_cu12-12.4.127-py3-none-manylinux2014_x86_64.whl (24.6 MB)\n",
            "\u001b[2K   \u001b[90m━━━━━━━━━━━━━━━━━━━━━━━━━━━━━━━━━━━━━━━━\u001b[0m \u001b[32m24.6/24.6 MB\u001b[0m \u001b[31m61.6 MB/s\u001b[0m eta \u001b[36m0:00:00\u001b[0m\n",
            "\u001b[?25hDownloading nvidia_cuda_runtime_cu12-12.4.127-py3-none-manylinux2014_x86_64.whl (883 kB)\n",
            "\u001b[2K   \u001b[90m━━━━━━━━━━━━━━━━━━━━━━━━━━━━━━━━━━━━━━━━\u001b[0m \u001b[32m883.7/883.7 kB\u001b[0m \u001b[31m49.6 MB/s\u001b[0m eta \u001b[36m0:00:00\u001b[0m\n",
            "\u001b[?25hDownloading nvidia_cudnn_cu12-9.1.0.70-py3-none-manylinux2014_x86_64.whl (664.8 MB)\n",
            "\u001b[2K   \u001b[90m━━━━━━━━━━━━━━━━━━━━━━━━━━━━━━━━━━━━━━━━\u001b[0m \u001b[32m664.8/664.8 MB\u001b[0m \u001b[31m1.1 MB/s\u001b[0m eta \u001b[36m0:00:00\u001b[0m\n",
            "\u001b[?25hDownloading nvidia_cufft_cu12-11.2.1.3-py3-none-manylinux2014_x86_64.whl (211.5 MB)\n",
            "\u001b[2K   \u001b[90m━━━━━━━━━━━━━━━━━━━━━━━━━━━━━━━━━━━━━━━━\u001b[0m \u001b[32m211.5/211.5 MB\u001b[0m \u001b[31m5.9 MB/s\u001b[0m eta \u001b[36m0:00:00\u001b[0m\n",
            "\u001b[?25hDownloading nvidia_curand_cu12-10.3.5.147-py3-none-manylinux2014_x86_64.whl (56.3 MB)\n",
            "\u001b[2K   \u001b[90m━━━━━━━━━━━━━━━━━━━━━━━━━━━━━━━━━━━━━━━━\u001b[0m \u001b[32m56.3/56.3 MB\u001b[0m \u001b[31m13.1 MB/s\u001b[0m eta \u001b[36m0:00:00\u001b[0m\n",
            "\u001b[?25hDownloading nvidia_cusolver_cu12-11.6.1.9-py3-none-manylinux2014_x86_64.whl (127.9 MB)\n",
            "\u001b[2K   \u001b[90m━━━━━━━━━━━━━━━━━━━━━━━━━━━━━━━━━━━━━━━━\u001b[0m \u001b[32m127.9/127.9 MB\u001b[0m \u001b[31m7.5 MB/s\u001b[0m eta \u001b[36m0:00:00\u001b[0m\n",
            "\u001b[?25hDownloading nvidia_cusparse_cu12-12.3.1.170-py3-none-manylinux2014_x86_64.whl (207.5 MB)\n",
            "\u001b[2K   \u001b[90m━━━━━━━━━━━━━━━━━━━━━━━━━━━━━━━━━━━━━━━━\u001b[0m \u001b[32m207.5/207.5 MB\u001b[0m \u001b[31m5.9 MB/s\u001b[0m eta \u001b[36m0:00:00\u001b[0m\n",
            "\u001b[?25hDownloading nvidia_nvjitlink_cu12-12.4.127-py3-none-manylinux2014_x86_64.whl (21.1 MB)\n",
            "\u001b[2K   \u001b[90m━━━━━━━━━━━━━━━━━━━━━━━━━━━━━━━━━━━━━━━━\u001b[0m \u001b[32m21.1/21.1 MB\u001b[0m \u001b[31m87.7 MB/s\u001b[0m eta \u001b[36m0:00:00\u001b[0m\n",
            "\u001b[?25hDownloading jsonlines-4.0.0-py3-none-any.whl (8.7 kB)\n",
            "Downloading pytablewriter-1.2.1-py3-none-any.whl (91 kB)\n",
            "\u001b[2K   \u001b[90m━━━━━━━━━━━━━━━━━━━━━━━━━━━━━━━━━━━━━━━━\u001b[0m \u001b[32m91.1/91.1 kB\u001b[0m \u001b[31m9.1 MB/s\u001b[0m eta \u001b[36m0:00:00\u001b[0m\n",
            "\u001b[?25hDownloading tqdm_multiprocess-0.0.11-py3-none-any.whl (9.8 kB)\n",
            "Downloading DataProperty-1.1.0-py3-none-any.whl (27 kB)\n",
            "Downloading mbstrdecoder-1.1.4-py3-none-any.whl (7.9 kB)\n",
            "Downloading pathvalidate-3.2.3-py3-none-any.whl (24 kB)\n",
            "Downloading tabledata-1.3.4-py3-none-any.whl (11 kB)\n",
            "Downloading tcolorpy-0.1.7-py3-none-any.whl (8.1 kB)\n",
            "Downloading typepy-1.3.4-py3-none-any.whl (31 kB)\n",
            "Building wheels for collected packages: sqlitedict, word2number\n",
            "  Building wheel for sqlitedict (setup.py) ... \u001b[?25l\u001b[?25hdone\n",
            "  Created wheel for sqlitedict: filename=sqlitedict-2.1.0-py3-none-any.whl size=16862 sha256=c7e3fd2164a13de512ee14ba6889daa29a8c0aeb0e48095a087a8d28d13d14fe\n",
            "  Stored in directory: /root/.cache/pip/wheels/73/63/89/7210274f9b7fb033b8f22671f64c0e0b55083d30c3c046a3ff\n",
            "  Building wheel for word2number (setup.py) ... \u001b[?25l\u001b[?25hdone\n",
            "  Created wheel for word2number: filename=word2number-1.1-py3-none-any.whl size=5568 sha256=b6859fd40e1ea7ec0f3111b92aedd239e5c331b955644df930efaa9235a5611c\n",
            "  Stored in directory: /root/.cache/pip/wheels/cd/ef/ae/073b491b14d25e2efafcffca9e16b2ee6d114ec5c643ba4f06\n",
            "Successfully built sqlitedict word2number\n",
            "Installing collected packages: word2number, sqlitedict, tqdm-multiprocess, tcolorpy, pybind11, pathvalidate, nvidia-nvjitlink-cu12, nvidia-curand-cu12, nvidia-cufft-cu12, nvidia-cuda-runtime-cu12, nvidia-cuda-nvrtc-cu12, nvidia-cuda-cupti-cu12, nvidia-cublas-cu12, mbstrdecoder, jsonlines, typepy, nvidia-cusparse-cu12, nvidia-cudnn-cu12, nvidia-cusolver-cu12, DataProperty, tabledata, evaluate, pytablewriter, lm_eval\n",
            "  Attempting uninstall: nvidia-nvjitlink-cu12\n",
            "    Found existing installation: nvidia-nvjitlink-cu12 12.5.82\n",
            "    Uninstalling nvidia-nvjitlink-cu12-12.5.82:\n",
            "      Successfully uninstalled nvidia-nvjitlink-cu12-12.5.82\n",
            "  Attempting uninstall: nvidia-curand-cu12\n",
            "    Found existing installation: nvidia-curand-cu12 10.3.6.82\n",
            "    Uninstalling nvidia-curand-cu12-10.3.6.82:\n",
            "      Successfully uninstalled nvidia-curand-cu12-10.3.6.82\n",
            "  Attempting uninstall: nvidia-cufft-cu12\n",
            "    Found existing installation: nvidia-cufft-cu12 11.2.3.61\n",
            "    Uninstalling nvidia-cufft-cu12-11.2.3.61:\n",
            "      Successfully uninstalled nvidia-cufft-cu12-11.2.3.61\n",
            "  Attempting uninstall: nvidia-cuda-runtime-cu12\n",
            "    Found existing installation: nvidia-cuda-runtime-cu12 12.5.82\n",
            "    Uninstalling nvidia-cuda-runtime-cu12-12.5.82:\n",
            "      Successfully uninstalled nvidia-cuda-runtime-cu12-12.5.82\n",
            "  Attempting uninstall: nvidia-cuda-nvrtc-cu12\n",
            "    Found existing installation: nvidia-cuda-nvrtc-cu12 12.5.82\n",
            "    Uninstalling nvidia-cuda-nvrtc-cu12-12.5.82:\n",
            "      Successfully uninstalled nvidia-cuda-nvrtc-cu12-12.5.82\n",
            "  Attempting uninstall: nvidia-cuda-cupti-cu12\n",
            "    Found existing installation: nvidia-cuda-cupti-cu12 12.5.82\n",
            "    Uninstalling nvidia-cuda-cupti-cu12-12.5.82:\n",
            "      Successfully uninstalled nvidia-cuda-cupti-cu12-12.5.82\n",
            "  Attempting uninstall: nvidia-cublas-cu12\n",
            "    Found existing installation: nvidia-cublas-cu12 12.5.3.2\n",
            "    Uninstalling nvidia-cublas-cu12-12.5.3.2:\n",
            "      Successfully uninstalled nvidia-cublas-cu12-12.5.3.2\n",
            "  Attempting uninstall: nvidia-cusparse-cu12\n",
            "    Found existing installation: nvidia-cusparse-cu12 12.5.1.3\n",
            "    Uninstalling nvidia-cusparse-cu12-12.5.1.3:\n",
            "      Successfully uninstalled nvidia-cusparse-cu12-12.5.1.3\n",
            "  Attempting uninstall: nvidia-cudnn-cu12\n",
            "    Found existing installation: nvidia-cudnn-cu12 9.3.0.75\n",
            "    Uninstalling nvidia-cudnn-cu12-9.3.0.75:\n",
            "      Successfully uninstalled nvidia-cudnn-cu12-9.3.0.75\n",
            "  Attempting uninstall: nvidia-cusolver-cu12\n",
            "    Found existing installation: nvidia-cusolver-cu12 11.6.3.83\n",
            "    Uninstalling nvidia-cusolver-cu12-11.6.3.83:\n",
            "      Successfully uninstalled nvidia-cusolver-cu12-11.6.3.83\n",
            "Successfully installed DataProperty-1.1.0 evaluate-0.4.3 jsonlines-4.0.0 lm_eval-0.4.8 mbstrdecoder-1.1.4 nvidia-cublas-cu12-12.4.5.8 nvidia-cuda-cupti-cu12-12.4.127 nvidia-cuda-nvrtc-cu12-12.4.127 nvidia-cuda-runtime-cu12-12.4.127 nvidia-cudnn-cu12-9.1.0.70 nvidia-cufft-cu12-11.2.1.3 nvidia-curand-cu12-10.3.5.147 nvidia-cusolver-cu12-11.6.1.9 nvidia-cusparse-cu12-12.3.1.170 nvidia-nvjitlink-cu12-12.4.127 pathvalidate-3.2.3 pybind11-2.13.6 pytablewriter-1.2.1 sqlitedict-2.1.0 tabledata-1.3.4 tcolorpy-0.1.7 tqdm-multiprocess-0.0.11 typepy-1.3.4 word2number-1.1\n"
          ]
        },
        {
          "data": {
            "application/vnd.colab-display-data+json": {
              "id": "c810115ae46e4386bb2356fcc8a057d5",
              "pip_warning": {
                "packages": [
                  "nvidia"
                ]
              }
            }
          },
          "metadata": {},
          "output_type": "display_data"
        }
      ],
      "source": [
        "!pip install lm_eval"
      ]
    },
    {
      "cell_type": "markdown",
      "metadata": {
        "id": "4iu0RtSOmFGq"
      },
      "source": [
        "# Evaluation"
      ]
    },
    {
      "cell_type": "code",
      "execution_count": null,
      "metadata": {
        "colab": {
          "base_uri": "https://localhost:8080/",
          "height": 1000,
          "referenced_widgets": [
            "b386f923b54845ce85a408a4b18e039b",
            "446f65e85d784c1892e65a8c7193c680",
            "aba142d97b2b458b84ed215c958b0b50",
            "f76ba4bf81184984b5535019fe94f129",
            "869a51fdbf58472fa7347ccad5ce35d4",
            "5bfbed3fdc33477bb0edcde2f2f12471",
            "0a2853bf6e424897ab4710ec669c213d",
            "1fe6ead9ef3c4c47ad8ca23b3e85af7d",
            "55c618083d8f4ce5a38305b85e1b7428",
            "affe1cffb76649128d7f0f3a67c11f76",
            "fa4952d21b774c8d87b9987d9e6d5aa5",
            "80a5b527994c4e40b4d627df7e9eadef",
            "e38c4cd33909496880cfe2f16fbc8244",
            "65f1f150f57f40db9aa5ec36ff0bbd44",
            "5be4585b9ff64cbba0fc9e434a5d05c7",
            "96d031da81254b599d6a546db34814a9",
            "f945d766a63e4dc2a3b5f85bee838850",
            "d890a41a78b04df9ba8cb7b9e07a3348",
            "09afe96237894596b455cd2caeeeb694",
            "43e28a7a10a74c5ba7be171ddcf3c577",
            "19a1144599f245229bae58f48cf4991e",
            "f01a429ee5ff4635ac743427b0658a4c",
            "9f40f748911b40468b9e953ffb1e8d32",
            "a3618e208fc74453b4b95db49e6e27fe",
            "9a5c6a405e564d2ab6c4f4aa73edc304",
            "4aa928c50ccf472db097ee7999d1ad08",
            "7df8c14df0d8464ea065d790a0061e2c",
            "0f03f2d6f5274a08acd65c83438af89e",
            "13b9ae7573d34685815d137f8f067bb8",
            "49fc4d2f52da4d5bbf5dcd24aa4e0288",
            "dcbebbe86579476b880b8dd5677f5a6f",
            "ef5254deb3c54210b05b1ca5d1d09452",
            "4645d87ac3334fcb98e983071aab46cf",
            "822b863f70054ef6bd6d2dc6865200ba",
            "76291e1adfc74e41ac9750ab13c4b05e",
            "532951d9108a4f14bf11ae100f41f52e",
            "e48957299c3d45dd8242463d3a70ed37",
            "97062befa0f94b5f91ed56e55ed3f3f3",
            "be445ef79d504fbaacfa30d9a4e7272b",
            "33d8dd7d268c47cfa2b3833ef8e62cff",
            "d652249de68348dd897f7e1d14bd6254",
            "5c5623b23e934e9198feacd1fb0181a0",
            "49bf13685f614b14b850c395da71fa04",
            "f203c1bc39c54bbd8f65593676029706",
            "8ba3bed57e464d20b7fc8e779ce10828",
            "26a228a171934ebf997732e8cb750b04",
            "b3d86c3978054fb8bf061a3c6abc73ce",
            "4d391f8e8c924c0786699505a0e3a348",
            "ba10842c34bb4025962ac8888757668d",
            "00369c780dd04926aa7411713df40d95",
            "580a35d75035408fbf690d858c8e490f",
            "7195475bed5f4633a40a1cc4eba158e5",
            "f0217eed5bf6441184fcd61d68a92dd5",
            "08cd02f2c1b9449caf1ca664e3b88f22",
            "2bb9406808ef4df8a6585bf1d9cede53",
            "6cec586758b54307823cb235a4b9b044",
            "0b13608cac3c463b8c5bf1125b33ef68",
            "e1984a021e9b44f99d04712eb2b77952",
            "21e49012b3184a3bbef634af43655d16",
            "80b230ee2cd54004858c83dea80689d6",
            "2bc035c909ae493d88c6cc773882143c",
            "ffe3281828bb40c8a7969cb71668c5b4",
            "40b500f4345543beb90c23fe5dc51313",
            "b8fea222f09547218a7b344e5add9f2b",
            "83d2b8d9460345eabae456e1cf91e878",
            "97a237d08cc04606a0ec42646b598bb0",
            "2d112ef9e3494781ba1bb4487c98f2d8",
            "0957a7c58abc4553895a516fa11499ed",
            "1247e9c3883d45259033dc4ca9c5d522",
            "0b4b90df464a4aa4935c6fcca99fd54e",
            "fbb41b65bacb4417a7d7038b5bfb946e",
            "62635a313f1a46a0a06c497eca0735af",
            "dc05e5ce68a84fafbc12a24a4f397f58",
            "fb62e40f0c3c4183a7d3a63aafb86359",
            "31dc8f59557843e687783ae2b01f571f",
            "33f9e2b77d4248f4b9ba6ca2023b2459",
            "2919459e5d754a6a8ae2e421df8bd397",
            "8f51b2248f9c4c46b7fe0f54a29dc7de",
            "81fddf4761c74f9399de16e9e82ecf91",
            "2379e882880c46c4b55df249e81a10c6",
            "023734839f71456e8ab141b65dc598c3",
            "276a8b5a417049b0b8303bee3184db06",
            "602e459c46f54e80a1360e82322682cb",
            "6fa8ad53fe46499ca894623fab26defd",
            "f7840461c28d452d94513a9edbbd9624",
            "289bec0a8d1b481a9304a9b6a79c61ee",
            "193ed9f3f0b0490c8c940c760a45d765",
            "ecdd401b227d42a1a7439d05a030bbf0",
            "1c19f88aa92f425898e3014487c58d3d",
            "d0ed101e2ee44f80b9d4752fe7a13aa1",
            "42cf9669f4654bdb8e88e270ed3726f3",
            "5bf70264f66b4787b1da4ed6732c276f",
            "3bc0fca4faa149968c10497c5b4391c5",
            "62c5830dd58b4890ad8f99608ed1a8ef",
            "4ee3d251c6d347aa9b699a1889f9b616",
            "7a67f611d33944ffb0453eaf8b54e314",
            "c17362c8bc774bf1a5640c59ac23a3eb",
            "2750737f856542ba90628c5d9df713f9",
            "b277c419700f4c13bd376a48a7cc1a50",
            "5344a6af4ae14da7acb74ebbb05a591d",
            "636d6993372b4813ab2b9551058e35ac",
            "d051edde14d6466b95d2012b8515aba5",
            "87f40ab820484f18a062fce470f5f767",
            "770e592014244221a80498a0d5fc3070",
            "8803cb2e51db4075b63fa9d4d9fdf1ce",
            "5500d8b693e94b09989d4697de380a58",
            "6ead0352fcbc4b06b528fc096102def7",
            "5b47c482b13b49aa9eb0b20c37e966b2",
            "46545f5714a544f8bdd6cda002ad83d3",
            "9643f2a03ce6439db4e2078f59f264d9",
            "788250ae7178493ba303d6408160d509",
            "ab675834d00040eeaf7b81f5f17e5a5b",
            "8f20896e2cde48708e835a1f6d898293",
            "228f3592b01a47ed8448b5086e7f5f7e",
            "8ec70552fbb843e6b4b9b42a3602930d",
            "5e5da825533f4a67ab72cee30a959acd",
            "9cac27b842f648188d0f7ca565839c1b",
            "b980e6e9f95746b98cfe7ae44610d7ee",
            "0bef02607c664219aece8410c86eb0a3",
            "3b0c70d684ce4e80bdf593a1ad210d35",
            "16523c16ad12469096a8dfbe313951b2",
            "e14e4c042c804df8b0b9dc65acf75480",
            "9f4af98b24334e50b5d2baa22d3eb2e7",
            "c3b30a8e58f4446f8a96b4710115f5fb",
            "bb9e11344ec74dfcbb02656e6ee26d55",
            "146710ba1dad402c898d6769e4018020",
            "1b7894ccd1a74de4a8d43f335bff3a50",
            "c781693581f24ad5b9a3027833c0a2c0",
            "ef20563fb559458fbcf94c87aeb74a8b",
            "156fd0b3e0ae4ba9b6a4c29062466349",
            "6d2908682b534a45ac63017ddb98b481",
            "7e0423b87151474eac30c4250d27f0bb",
            "e683fbf4a4c74f7fad2d046fbcfcd6aa",
            "c141195de94d440a853a739c4cb773c5",
            "96b34afb334f4e089790afb3f9474c1b",
            "72b9aaf44a3546a39fe18cf691cb2eb4",
            "2e94eb62e1f84fa6b0a3dd466f53ce0d",
            "7c1b233e12a64ccfb7012ebdb4b69232",
            "4185b14130284c99aa7f63b2b5241033",
            "406103d6a2de48b8b5a69c9677ab60b2",
            "af19978b56a14faf85551208fd81bd2b",
            "abe1833516284f7489ca0273b76b6d7f",
            "97cbdd958f894ab0b4383d8795f019e8",
            "bd80e51ca3cd493e853c1c8cd7ff9266",
            "c5116b37a84447e582106f5e92148271",
            "9f0f862a923d49cb9bdacc49ddc18d99",
            "3790085276f244d4913653cfd5b77599",
            "aaf3212617a04cb7b6221845409318c1",
            "635dd8d1b6b249729a20493cbba355f6",
            "1e307d754744490d90d5b7ab3d8fd2a3",
            "ca47a98678434e4a95710f331c4f5521",
            "abe65fc2eedf495f92998b05a30bc755",
            "f88849dc647945889b3c40d4757bc572",
            "2f2cfc8d5cf04469b3cec49cc073534b",
            "aa0eb435418e420fa198e4a49e21bd90",
            "3c864b5d58b342b784b1b8857c2bccf1",
            "29f124f66bdb484faca3902ff215686a",
            "393da7c90dc741d3932c5ff8938a7427",
            "091ba1a5d2384ca8a3e3582b5825a1b2",
            "ea03bd5740ce47ed8b88f6f8e056614d",
            "ce7229eb21134026bf178c28abae2c7e",
            "fa46b28531d142259084c78099c022cf",
            "0a5096b7938a468a87b7d50ac9c6527d",
            "3af50fd210384974a2c16336c58c3f10",
            "0d54a9d097164050bd9fba7e6f429d49",
            "c15ad298c4e94cf1bd5b992afd2e2ecb",
            "3dee239b282c41619f2b0559090cc3fb",
            "9b0d49c6c7554f278c3b5289b43c040a",
            "a307ff5eac5e470ba372ddd4cc46331f",
            "b582cc98580f422cb2234079a418f85b",
            "3d1dd614be81467c9598c57c9f4eefed",
            "1896cc8ccca2406199bb0c2838990c3d",
            "0780249788a34768b95427b4e757706a",
            "604967f9d49d4bcfad2b2e2cd3234b03",
            "1d917f2c047d4b31b3379ffe212af40d",
            "fd5db59d676b43eca341082422393dea",
            "dceab23db91443b3a6be29a16cf03b93",
            "a5dce2183bd34126980e14365af1dedb",
            "37ae3b135a9b4089b7c6fa0d98d45ef6",
            "f159b8d012354a16aeb682baab9dd0e9",
            "539825439b534e66ae4562c79e276a89",
            "2cfe3a91fdb6427ba1c92db2110c2078",
            "b4897805cf7c40138499d9144834a03f",
            "8f823c0429ff45e481b71cf687d58b76",
            "9b9f9365790e4ab98a15ce4483c0e45a",
            "2eb243a1085e422d93541a50ab9cc872",
            "2f0048588a3845be9d54e3e25421e672",
            "60b4009ece094441a9b1de833e88eaa1",
            "22d6920c9bf04a518ac1c48b8b4eaf36",
            "845d3715148d4f4faad9ae9a4f8a91ab",
            "9eff67ce36754e0c9d8cdf0297299cc9",
            "ce21a5b5d48341209bda0e6a5403e9b3",
            "9656a19769e445f9babcb53a4471f29b",
            "2b5a9b1017d647fcb3cb36f98768ea29",
            "975892a3195f4252bfdc9f349d611f07",
            "8cb8a868aca640308c3a8cc4a73c521b",
            "1436f23e49a2423daf704008e5aee6f3",
            "2b4cb530acbc4ad8a567eb70456c9786",
            "81e6a675e65a424db1d3c92506ddea82",
            "66b5b56a7fc34f30a1667794cf885adc",
            "eb71caa20b394fd287fc29da233bbe19",
            "c98b027e3b5543bb9e2c8bfdf1579f77",
            "d546176a88544dcfb4f1212483cd0206",
            "2e2715fc13424dccad569f57e4cc0880",
            "acf6bcfeb2b74c719c358dc9781781d0",
            "dd736cdbdef34113b9731fae022c8267",
            "7d261f28ce4a4385a768c82e032c1ace",
            "b54916b3af1945758262d91252afaf3d",
            "2d13f806d2d04b13b43e32086e086968",
            "18e230f24a5a49bcb2a001da1a84b4c2",
            "e8b2802c8d4e495e950e66ce9aa4f76a",
            "671c356c37f847909f2dbbfb32791618",
            "ea9a5e106a60456395ec7009d450d67e",
            "c5a583e3aed240b1ba37f87a06fab44c",
            "3447d7ce227c499c8655f71f14407011",
            "e34f7cfda9e94ee2b63c79d190dd6289",
            "c5b1b324a11145eeac67d5b2b640ddd3",
            "9bb82992827a44ef80aed5ba1a67fb1c",
            "fb780ac113cc48eea46d010df70ac1c3",
            "9db2a234ea974747aad84c0a20722b71",
            "c76f00467e444d7da2fb9b72bc98b470",
            "eedade972f3f411a97723e76e7b5f2bb",
            "7caa6d7617d04d7d8c357a014fd3b0a1",
            "be9bed3a0ba64c97a39dff800178590b",
            "a01d5b09a5bb41bd9dfdd5861db6bc59",
            "0219a47251814432abc9b57daf4abba4",
            "e79aff7da7344bf6bcd567eee4157b47",
            "0d3568a9a1c347fe9e845dff0090d9d2",
            "e1f3e1c672b24a57afb90ca3e7a43316",
            "a1fa535d73c4432db2e9b7118f7c8e95",
            "94d8fd07d7024f97932278b263cf5166",
            "0097b62941c24bdbaea81db2a054db4f",
            "edc4ce47482f45c499d89c50cfd77466",
            "01de37b8daf4491382a324eee086fa41",
            "4569a9a6c41f4467b3dc2a3dc76c6beb",
            "1c7745b23f47477888f0704ac5f324a5",
            "afb7b79211914d9baee1793aa044837e",
            "0ebde431010d45a0bd65ed5d0324c735",
            "990bd0eed45a462d9bb7502802abb09f",
            "d3d71e67d2aa4bc0bc087020af1e3193",
            "0de00eca2fd04fb388af4fa1d95ca670",
            "04904cb6047b48e28234184a114f6ff4",
            "6c20957f14184e05a9f77d6db2aa00fc",
            "6041fdaca90942a989e086fe61c8f06d",
            "c9c3bcbf07bb463f873dc45824e958f4",
            "6ab3a9e6d13e402b8e596bb8b270ba8c",
            "0d7b6497623347f88655ff3eda936698",
            "493e182ca8a54e52a2e7d36cd351918e",
            "246b3225ed2a4492a56dc63419538e31",
            "039b12ee57c14a5782645650214909d8",
            "ed2043069a8c440fbc134d6b1c906925",
            "977fff0cb33448f888d65f092f08173a",
            "0c1bb6328ab54a2e8f7868c528a25c82",
            "a758bac5613d404d9de0ef2aeb5c65de",
            "63e99557963b4b308b36e8792cba2ed6",
            "84e9aa9155dc445f9b80488d08d39b16",
            "013c8a0a07824952a57ef0f3b1eff8a9",
            "c93ad734f9eb488faded9cc80630df7d",
            "02f3fc02bde14ac9b5ca7b29b2159634",
            "6c188fa04374400e8b5d554d8f8cfd39",
            "ed9e2ea5a9ca4049b21c84b97015469d",
            "08d8fe59ae7143bda7ab6fc8867e22cb",
            "c297b39c5b874ff6b50416479bc66712",
            "e53d974a0a974642b60d610d9aa97800",
            "0b95038d348141cfa95de6c95b2b1360",
            "85178456dc954c3b933ee0bd7b0ec0bb",
            "6d5d11fc22a8468583ea141dbc01644c",
            "104bdb925b414a8594b2540004c0bae4",
            "430acd601b02497c9a9813c5a9304f63",
            "ffd731792b1e435bbe637826ba64588a",
            "80b8e46df6644ea0bd712c5c96d50f5f",
            "0be1c62c23bc456191c93416053fc5ac",
            "8ce20d4cbaa445628f2242cb75807d87",
            "dac0eabf6aa2431b98d6ba8b3170dac6",
            "2b7bce3fc95b4db9a229d753db833b6a",
            "554b328bd26f406ea49ef99d48f6b294",
            "43fe437e7f6740ae81cf4b6f68cdb1b9",
            "99da4a19474b4e34986072a198148e82",
            "27db33f4bdd845a4b5e9daaf6980acce",
            "b00a8de314e04420a773edf439b8566a",
            "140c4d158a7e4d478ff4b84095e0e328",
            "8632078d16544b9ea90bff9e6eb0dd76",
            "f4d74ff2a56d4a1f939fab0d10ce3363",
            "e1173717e5f141a08448cadc8559cf8f",
            "af0f7283122e49dc9793d580e6ccf6a0",
            "2fda232d8f5d4530ac17554d3c634d89",
            "3c306fd6b0cc415f9c2a9a9d3c477363",
            "6c52fd861b4b49f6a04f2344e1fd3d49",
            "e0ec76ba31ed46d6b88a70593884341d",
            "052be86aca634e448996592441373ac8",
            "1090bb72dde94cc9867995bf9162b875",
            "45e2ed9f1c3745d5b912ebc49f30d0ec",
            "7780e568886c45dab896456f8f769d5e",
            "aa648d333fc342a79279c276d8c25757",
            "4a1c9408298240b9b529cc69b8163eef",
            "5c41ee3a7f6b496aa56e32c52b4d14bf",
            "e73fa077f15342af93a025ec880a171b",
            "15553ac5de8b43479ab8e10ef6e2592e",
            "0c5de74938fe4945a8aa057b37fcd75d",
            "3475d92683164eb69b9a0cfd4536cb33",
            "14d4f98135fb4a568558f28c2928b141",
            "db05003ed5a041a5832b175caed6b990",
            "8bae1937801d4f65b335b11fb939e41a",
            "423bca3d53cf496c861213c0e0b39808",
            "4aa8ac8d51584347848218a2d2f8a5e9",
            "8d760d4549194d91964101c41333b48f",
            "14ccfb3ff8bd415b8a1704796ca1cfbe",
            "62bb35ee957b403280df99aacb29789e",
            "368a023f80154b4bbb9274126ad3a81f",
            "e9b02344c89148759b67808d641a14df",
            "0e88564ea5c044f08675619d806bd89b",
            "acd6093de2814d7f9c806835ec99089b",
            "d6e31978ff2e461a8f6ef2edf89c12aa",
            "a738d61f4d544548bdbacadc6a93cf27",
            "68113ebf5c7a4eecbe3ee7fb87f6666b",
            "f0affea0e14146a5a177c418b5807d0d",
            "1bda50f0332041f893228a9803f9b5b2",
            "f30e5385d1494f19a94b4e5ab6284acf",
            "dd6af09de7aa42d198c8d5311b0d117a",
            "a8243e27b6f6479f8e1e783be4c2443e",
            "d626ea2e2b1b47b1b914e3a14b87b539",
            "3a146efc46024bb4ba21d7147269a011",
            "4f9eb43cd1864909bcee8cd5882ece44",
            "b94a6cb92ad145aa91a91e875f3782fd",
            "daea1ea8481b41d19359a8c8099ea2a3",
            "4d7f94019dc946ccb3ee2dd2bd3e7b4f",
            "cffa241475e549b19f9e447c7bcd4b56",
            "728e5cc435e04608a6faf0504ea88825",
            "e8b1e45accbc473f9b4babdbcc47af24",
            "a556f301e30442f9a1007f67da619f58",
            "f4e8e8640b0c40ebbb7c18cc1fb9ae1b",
            "9a9c09b7b82c4b5ebe0ac6b2db71b12d",
            "83016a4080dc4af2a33192c59f2a9b2b",
            "29c3443302ac4f8387214a2eb1c4921c",
            "3760d2f1afb94f299b0d4709e712cf1c",
            "21331217f9e34adcaf771302fa8a2c4d",
            "4a09d72c60dc40179a6acf5678d08622",
            "5edadd0a999e403fa9ef34436d7c8f04",
            "642ef00569c440ccae850fc8e72c07a9",
            "1d4f3381071a463b8c338d3c7bf11c32",
            "02416ba5824b463b82ff6149298e27b7",
            "6be18b3bf9ca409ea7467665e6a7f823",
            "b2adee2fcaec4f3387da2459fef94f83",
            "aaa39f99df504a208595a4e1240bc73e",
            "eea88ce2c2f94198be73cc42e2ceb417",
            "5bcd92daa9bb4a11b2cbc859993cf9a8",
            "edac5ed0b17b43c1b4b7c4e370fde13b",
            "87e93173fcce4c75aaeea663943a0185",
            "46c63383022e44c09cf8bbfa2aac2992",
            "71b871b3a77d48acb086d730c20dd31f",
            "b23a78e396b74bf1aaf83c36d7c4b70e",
            "b8fb4941845847dcacba5455812360dd",
            "2ccd007fe46049809db5738b8691eab0",
            "ba4d1309315d42d095e0a4a219d8623c",
            "11b55c74d0dd45cebfa17f81424ad137",
            "169fa6b8782644d3b0f67971f3d0a05b",
            "7ad111546c944f1e9a9b2d16ba665a68",
            "1c9f3526f262457585408c3196fe3aff",
            "b5afb9d5cc0b40a8923aff525aecb472",
            "4c50b5a606214621b0b69ecb6cf1e328",
            "2964e7ed5ab44cc9854b9e812b600bd6",
            "d488bcba46d747f8a0243f81e0cb2221",
            "74cc04edbf984c1a94b6ec0aa9862a3e",
            "f822053000d643939ede9e6e37bdcf37",
            "5c5f8195af5a4358bd2f24e89e238e80",
            "c0cda716dd1944bfa87ec39259dbf689",
            "87a885842d414276a857694cf941e102",
            "fa366195338f47b586b6b9b783bbb4b9",
            "68ea0a16e45947b993dd6f7cb55fd6f6",
            "7f5db89185114b4e9ec9c0c89aa39175",
            "a1870b537fc94a3387e6b51471c93c24",
            "0f4fb343d1694f349c54dae110c5f852",
            "7645397034e54e25b5ba95d906ae4c41",
            "afe77e8e00dd41b086618e61942b3c24",
            "7605efd650804c79aa4df6d8a97aaee6",
            "81f081f4743a4e229266eba32a3d3cdc",
            "fcbc8cc4ccab455c9eef232510ff3423",
            "1e07c4d25b0b4534866fd638d59890cd",
            "b83741e33f0b48e090ba2c87a9cbb000",
            "4dacb9df2e444a979890b39bf68938c2",
            "a015430868a14d1e93620d0ca7d8dbd7",
            "fc4f5edc93d948f4b128cfed3bbb47da",
            "ab87394c14644d00919405aa894f1ab7",
            "118b2694a95343f69fcb3a47f49fdf89",
            "0750cfe75ee94c12b661499d547ed4ca",
            "106d5f667e1a4131a577b2c795981765",
            "f8ba3ad0d6064c71b02af802803a5e11",
            "57822bb71d6a4dc2b3718f0a50d22fa1",
            "0405e3f4397548bc9ed4163eade3c00c",
            "5f8b22065dbd47c4a0b82c4f60907b58",
            "c2b0af734c934c2b8b407abc1cb7ce32",
            "eb5e1533346f4e06a3edea3ce8be885c",
            "4542c4116f4b43cd813a61e144571f6f",
            "6ad4203bbcc04e13a733873078850f84",
            "3109f437dfc94d98a3f6c7ce6ceb6a0e",
            "2e9b07d3db314655a8dfa7d2538bfc54"
          ]
        },
        "id": "f4ftRocjmIa4",
        "outputId": "075200ac-89dc-409d-cf50-ced2a9773cbc"
      },
      "outputs": [
        {
          "name": "stdout",
          "output_type": "stream",
          "text": [
            "/content/evaluation-pipeline\n"
          ]
        },
        {
          "data": {
            "application/vnd.jupyter.widget-view+json": {
              "model_id": "b386f923b54845ce85a408a4b18e039b",
              "version_major": 2,
              "version_minor": 0
            },
            "text/plain": [
              "Generating train split: 0 examples [00:00, ? examples/s]"
            ]
          },
          "metadata": {},
          "output_type": "display_data"
        },
        {
          "name": "stdout",
          "output_type": "stream",
          "text": [
            "\n",
            "» Assigning unique IDs to 'blimp_from_file+null' docs\n"
          ]
        },
        {
          "name": "stderr",
          "output_type": "stream",
          "text": [
            "INFO:lm_eval.evaluator:\n",
            "» Assigning unique IDs to 'blimp_from_file+null' docs\n"
          ]
        },
        {
          "data": {
            "application/vnd.jupyter.widget-view+json": {
              "model_id": "80a5b527994c4e40b4d627df7e9eadef",
              "version_major": 2,
              "version_minor": 0
            },
            "text/plain": [
              "Map:   0%|          | 0/1956 [00:00<?, ? examples/s]"
            ]
          },
          "metadata": {},
          "output_type": "display_data"
        },
        {
          "name": "stdout",
          "output_type": "stream",
          "text": [
            "\n",
            "» Filtering invalid docs from 'blimp_from_file+null'\n"
          ]
        },
        {
          "name": "stderr",
          "output_type": "stream",
          "text": [
            "INFO:lm_eval.evaluator:\n",
            "» Filtering invalid docs from 'blimp_from_file+null'\n"
          ]
        },
        {
          "data": {
            "application/vnd.jupyter.widget-view+json": {
              "model_id": "9f40f748911b40468b9e953ffb1e8d32",
              "version_major": 2,
              "version_minor": 0
            },
            "text/plain": [
              "Filter:   0%|          | 0/1956 [00:00<?, ? examples/s]"
            ]
          },
          "metadata": {},
          "output_type": "display_data"
        },
        {
          "name": "stdout",
          "output_type": "stream",
          "text": [
            "\n",
            "» Constructing 'blimp_from_file+null' contexts and requests\n"
          ]
        },
        {
          "name": "stderr",
          "output_type": "stream",
          "text": [
            "INFO:lm_eval.evaluator:\n",
            "» Constructing 'blimp_from_file+null' contexts and requests\n",
            "100%|██████████| 1956/1956 [00:00<00:00, 4772.60it/s]"
          ]
        },
        {
          "name": "stdout",
          "output_type": "stream",
          "text": [
            "\n",
            "» Running all `loglikelihood` requests\n"
          ]
        },
        {
          "name": "stderr",
          "output_type": "stream",
          "text": [
            "\n",
            "INFO:lm_eval.evaluator:\n",
            "» Running all `loglikelihood` requests\n",
            "100%|██████████| 3912/3912 [00:20<00:00, 187.12it/s]\n"
          ]
        },
        {
          "name": "stdout",
          "output_type": "stream",
          "text": [
            "anaphor_agreement:\t67.08%\n"
          ]
        },
        {
          "data": {
            "application/vnd.jupyter.widget-view+json": {
              "model_id": "822b863f70054ef6bd6d2dc6865200ba",
              "version_major": 2,
              "version_minor": 0
            },
            "text/plain": [
              "Generating train split: 0 examples [00:00, ? examples/s]"
            ]
          },
          "metadata": {},
          "output_type": "display_data"
        },
        {
          "name": "stdout",
          "output_type": "stream",
          "text": [
            "\n",
            "» Assigning unique IDs to 'blimp_from_file+null' docs\n"
          ]
        },
        {
          "name": "stderr",
          "output_type": "stream",
          "text": [
            "INFO:lm_eval.evaluator:\n",
            "» Assigning unique IDs to 'blimp_from_file+null' docs\n"
          ]
        },
        {
          "data": {
            "application/vnd.jupyter.widget-view+json": {
              "model_id": "8ba3bed57e464d20b7fc8e779ce10828",
              "version_major": 2,
              "version_minor": 0
            },
            "text/plain": [
              "Map:   0%|          | 0/8248 [00:00<?, ? examples/s]"
            ]
          },
          "metadata": {},
          "output_type": "display_data"
        },
        {
          "name": "stdout",
          "output_type": "stream",
          "text": [
            "\n",
            "» Filtering invalid docs from 'blimp_from_file+null'\n"
          ]
        },
        {
          "name": "stderr",
          "output_type": "stream",
          "text": [
            "INFO:lm_eval.evaluator:\n",
            "» Filtering invalid docs from 'blimp_from_file+null'\n"
          ]
        },
        {
          "data": {
            "application/vnd.jupyter.widget-view+json": {
              "model_id": "6cec586758b54307823cb235a4b9b044",
              "version_major": 2,
              "version_minor": 0
            },
            "text/plain": [
              "Filter:   0%|          | 0/8248 [00:00<?, ? examples/s]"
            ]
          },
          "metadata": {},
          "output_type": "display_data"
        },
        {
          "name": "stdout",
          "output_type": "stream",
          "text": [
            "\n",
            "» Constructing 'blimp_from_file+null' contexts and requests\n"
          ]
        },
        {
          "name": "stderr",
          "output_type": "stream",
          "text": [
            "INFO:lm_eval.evaluator:\n",
            "» Constructing 'blimp_from_file+null' contexts and requests\n",
            "100%|██████████| 8248/8248 [00:01<00:00, 5392.49it/s]"
          ]
        },
        {
          "name": "stdout",
          "output_type": "stream",
          "text": [
            "\n",
            "» Running all `loglikelihood` requests\n"
          ]
        },
        {
          "name": "stderr",
          "output_type": "stream",
          "text": [
            "\n",
            "INFO:lm_eval.evaluator:\n",
            "» Running all `loglikelihood` requests\n",
            "100%|██████████| 16496/16496 [01:28<00:00, 185.55it/s]\n"
          ]
        },
        {
          "name": "stdout",
          "output_type": "stream",
          "text": [
            "argument_structure:\t57.66%\n"
          ]
        },
        {
          "data": {
            "application/vnd.jupyter.widget-view+json": {
              "model_id": "2d112ef9e3494781ba1bb4487c98f2d8",
              "version_major": 2,
              "version_minor": 0
            },
            "text/plain": [
              "Generating train split: 0 examples [00:00, ? examples/s]"
            ]
          },
          "metadata": {},
          "output_type": "display_data"
        },
        {
          "name": "stdout",
          "output_type": "stream",
          "text": [
            "\n",
            "» Assigning unique IDs to 'blimp_from_file+null' docs\n"
          ]
        },
        {
          "name": "stderr",
          "output_type": "stream",
          "text": [
            "INFO:lm_eval.evaluator:\n",
            "» Assigning unique IDs to 'blimp_from_file+null' docs\n"
          ]
        },
        {
          "data": {
            "application/vnd.jupyter.widget-view+json": {
              "model_id": "8f51b2248f9c4c46b7fe0f54a29dc7de",
              "version_major": 2,
              "version_minor": 0
            },
            "text/plain": [
              "Map:   0%|          | 0/6738 [00:00<?, ? examples/s]"
            ]
          },
          "metadata": {},
          "output_type": "display_data"
        },
        {
          "name": "stdout",
          "output_type": "stream",
          "text": [
            "\n",
            "» Filtering invalid docs from 'blimp_from_file+null'\n"
          ]
        },
        {
          "name": "stderr",
          "output_type": "stream",
          "text": [
            "INFO:lm_eval.evaluator:\n",
            "» Filtering invalid docs from 'blimp_from_file+null'\n"
          ]
        },
        {
          "data": {
            "application/vnd.jupyter.widget-view+json": {
              "model_id": "1c19f88aa92f425898e3014487c58d3d",
              "version_major": 2,
              "version_minor": 0
            },
            "text/plain": [
              "Filter:   0%|          | 0/6738 [00:00<?, ? examples/s]"
            ]
          },
          "metadata": {},
          "output_type": "display_data"
        },
        {
          "name": "stdout",
          "output_type": "stream",
          "text": [
            "\n",
            "» Constructing 'blimp_from_file+null' contexts and requests\n"
          ]
        },
        {
          "name": "stderr",
          "output_type": "stream",
          "text": [
            "INFO:lm_eval.evaluator:\n",
            "» Constructing 'blimp_from_file+null' contexts and requests\n",
            "100%|██████████| 6738/6738 [00:01<00:00, 6352.37it/s]"
          ]
        },
        {
          "name": "stdout",
          "output_type": "stream",
          "text": [
            "\n",
            "» Running all `loglikelihood` requests\n"
          ]
        },
        {
          "name": "stderr",
          "output_type": "stream",
          "text": [
            "\n",
            "INFO:lm_eval.evaluator:\n",
            "» Running all `loglikelihood` requests\n",
            "100%|██████████| 13476/13476 [01:15<00:00, 177.54it/s]\n"
          ]
        },
        {
          "name": "stdout",
          "output_type": "stream",
          "text": [
            "binding:\t59.10%\n"
          ]
        },
        {
          "data": {
            "application/vnd.jupyter.widget-view+json": {
              "model_id": "5344a6af4ae14da7acb74ebbb05a591d",
              "version_major": 2,
              "version_minor": 0
            },
            "text/plain": [
              "Generating train split: 0 examples [00:00, ? examples/s]"
            ]
          },
          "metadata": {},
          "output_type": "display_data"
        },
        {
          "name": "stdout",
          "output_type": "stream",
          "text": [
            "\n",
            "» Assigning unique IDs to 'blimp_from_file+null' docs\n"
          ]
        },
        {
          "name": "stderr",
          "output_type": "stream",
          "text": [
            "INFO:lm_eval.evaluator:\n",
            "» Assigning unique IDs to 'blimp_from_file+null' docs\n"
          ]
        },
        {
          "data": {
            "application/vnd.jupyter.widget-view+json": {
              "model_id": "788250ae7178493ba303d6408160d509",
              "version_major": 2,
              "version_minor": 0
            },
            "text/plain": [
              "Map:   0%|          | 0/4526 [00:00<?, ? examples/s]"
            ]
          },
          "metadata": {},
          "output_type": "display_data"
        },
        {
          "name": "stdout",
          "output_type": "stream",
          "text": [
            "\n",
            "» Filtering invalid docs from 'blimp_from_file+null'\n"
          ]
        },
        {
          "name": "stderr",
          "output_type": "stream",
          "text": [
            "INFO:lm_eval.evaluator:\n",
            "» Filtering invalid docs from 'blimp_from_file+null'\n"
          ]
        },
        {
          "data": {
            "application/vnd.jupyter.widget-view+json": {
              "model_id": "e14e4c042c804df8b0b9dc65acf75480",
              "version_major": 2,
              "version_minor": 0
            },
            "text/plain": [
              "Filter:   0%|          | 0/4526 [00:00<?, ? examples/s]"
            ]
          },
          "metadata": {},
          "output_type": "display_data"
        },
        {
          "name": "stdout",
          "output_type": "stream",
          "text": [
            "\n",
            "» Constructing 'blimp_from_file+null' contexts and requests\n"
          ]
        },
        {
          "name": "stderr",
          "output_type": "stream",
          "text": [
            "INFO:lm_eval.evaluator:\n",
            "» Constructing 'blimp_from_file+null' contexts and requests\n",
            "100%|██████████| 4526/4526 [00:00<00:00, 7177.61it/s]"
          ]
        },
        {
          "name": "stdout",
          "output_type": "stream",
          "text": [
            "\n",
            "» Running all `loglikelihood` requests\n"
          ]
        },
        {
          "name": "stderr",
          "output_type": "stream",
          "text": [
            "\n",
            "INFO:lm_eval.evaluator:\n",
            "» Running all `loglikelihood` requests\n",
            "100%|██████████| 9052/9052 [00:53<00:00, 168.25it/s]\n"
          ]
        },
        {
          "name": "stdout",
          "output_type": "stream",
          "text": [
            "control_raising:\t56.87%\n"
          ]
        },
        {
          "data": {
            "application/vnd.jupyter.widget-view+json": {
              "model_id": "e683fbf4a4c74f7fad2d046fbcfcd6aa",
              "version_major": 2,
              "version_minor": 0
            },
            "text/plain": [
              "Generating train split: 0 examples [00:00, ? examples/s]"
            ]
          },
          "metadata": {},
          "output_type": "display_data"
        },
        {
          "name": "stdout",
          "output_type": "stream",
          "text": [
            "\n",
            "» Assigning unique IDs to 'blimp_from_file+null' docs\n"
          ]
        },
        {
          "name": "stderr",
          "output_type": "stream",
          "text": [
            "INFO:lm_eval.evaluator:\n",
            "» Assigning unique IDs to 'blimp_from_file+null' docs\n"
          ]
        },
        {
          "data": {
            "application/vnd.jupyter.widget-view+json": {
              "model_id": "bd80e51ca3cd493e853c1c8cd7ff9266",
              "version_major": 2,
              "version_minor": 0
            },
            "text/plain": [
              "Map:   0%|          | 0/7542 [00:00<?, ? examples/s]"
            ]
          },
          "metadata": {},
          "output_type": "display_data"
        },
        {
          "name": "stdout",
          "output_type": "stream",
          "text": [
            "\n",
            "» Filtering invalid docs from 'blimp_from_file+null'\n"
          ]
        },
        {
          "name": "stderr",
          "output_type": "stream",
          "text": [
            "INFO:lm_eval.evaluator:\n",
            "» Filtering invalid docs from 'blimp_from_file+null'\n"
          ]
        },
        {
          "data": {
            "application/vnd.jupyter.widget-view+json": {
              "model_id": "aa0eb435418e420fa198e4a49e21bd90",
              "version_major": 2,
              "version_minor": 0
            },
            "text/plain": [
              "Filter:   0%|          | 0/7542 [00:00<?, ? examples/s]"
            ]
          },
          "metadata": {},
          "output_type": "display_data"
        },
        {
          "name": "stdout",
          "output_type": "stream",
          "text": [
            "\n",
            "» Constructing 'blimp_from_file+null' contexts and requests\n"
          ]
        },
        {
          "name": "stderr",
          "output_type": "stream",
          "text": [
            "INFO:lm_eval.evaluator:\n",
            "» Constructing 'blimp_from_file+null' contexts and requests\n",
            "100%|██████████| 7542/7542 [00:01<00:00, 3836.36it/s]"
          ]
        },
        {
          "name": "stdout",
          "output_type": "stream",
          "text": [
            "\n",
            "» Running all `loglikelihood` requests\n"
          ]
        },
        {
          "name": "stderr",
          "output_type": "stream",
          "text": [
            "\n",
            "INFO:lm_eval.evaluator:\n",
            "» Running all `loglikelihood` requests\n",
            "100%|██████████| 15084/15084 [01:23<00:00, 181.24it/s]\n"
          ]
        },
        {
          "name": "stdout",
          "output_type": "stream",
          "text": [
            "determiner_noun_agreement:\t58.99%\n"
          ]
        },
        {
          "data": {
            "application/vnd.jupyter.widget-view+json": {
              "model_id": "c15ad298c4e94cf1bd5b992afd2e2ecb",
              "version_major": 2,
              "version_minor": 0
            },
            "text/plain": [
              "Generating train split: 0 examples [00:00, ? examples/s]"
            ]
          },
          "metadata": {},
          "output_type": "display_data"
        },
        {
          "name": "stdout",
          "output_type": "stream",
          "text": [
            "\n",
            "» Assigning unique IDs to 'blimp_from_file+null' docs\n"
          ]
        },
        {
          "name": "stderr",
          "output_type": "stream",
          "text": [
            "INFO:lm_eval.evaluator:\n",
            "» Assigning unique IDs to 'blimp_from_file+null' docs\n"
          ]
        },
        {
          "data": {
            "application/vnd.jupyter.widget-view+json": {
              "model_id": "dceab23db91443b3a6be29a16cf03b93",
              "version_major": 2,
              "version_minor": 0
            },
            "text/plain": [
              "Map:   0%|          | 0/1732 [00:00<?, ? examples/s]"
            ]
          },
          "metadata": {},
          "output_type": "display_data"
        },
        {
          "name": "stdout",
          "output_type": "stream",
          "text": [
            "\n",
            "» Filtering invalid docs from 'blimp_from_file+null'\n"
          ]
        },
        {
          "name": "stderr",
          "output_type": "stream",
          "text": [
            "INFO:lm_eval.evaluator:\n",
            "» Filtering invalid docs from 'blimp_from_file+null'\n"
          ]
        },
        {
          "data": {
            "application/vnd.jupyter.widget-view+json": {
              "model_id": "60b4009ece094441a9b1de833e88eaa1",
              "version_major": 2,
              "version_minor": 0
            },
            "text/plain": [
              "Filter:   0%|          | 0/1732 [00:00<?, ? examples/s]"
            ]
          },
          "metadata": {},
          "output_type": "display_data"
        },
        {
          "name": "stdout",
          "output_type": "stream",
          "text": [
            "\n",
            "» Constructing 'blimp_from_file+null' contexts and requests\n"
          ]
        },
        {
          "name": "stderr",
          "output_type": "stream",
          "text": [
            "INFO:lm_eval.evaluator:\n",
            "» Constructing 'blimp_from_file+null' contexts and requests\n",
            "100%|██████████| 1732/1732 [00:00<00:00, 6895.80it/s]"
          ]
        },
        {
          "name": "stdout",
          "output_type": "stream",
          "text": [
            "\n",
            "» Running all `loglikelihood` requests\n"
          ]
        },
        {
          "name": "stderr",
          "output_type": "stream",
          "text": [
            "\n",
            "INFO:lm_eval.evaluator:\n",
            "» Running all `loglikelihood` requests\n",
            "100%|██████████| 3464/3464 [00:22<00:00, 151.65it/s]\n"
          ]
        },
        {
          "name": "stdout",
          "output_type": "stream",
          "text": [
            "ellipsis:\t26.67%\n"
          ]
        },
        {
          "data": {
            "application/vnd.jupyter.widget-view+json": {
              "model_id": "81e6a675e65a424db1d3c92506ddea82",
              "version_major": 2,
              "version_minor": 0
            },
            "text/plain": [
              "Generating train split: 0 examples [00:00, ? examples/s]"
            ]
          },
          "metadata": {},
          "output_type": "display_data"
        },
        {
          "name": "stdout",
          "output_type": "stream",
          "text": [
            "\n",
            "» Assigning unique IDs to 'blimp_from_file+null' docs\n"
          ]
        },
        {
          "name": "stderr",
          "output_type": "stream",
          "text": [
            "INFO:lm_eval.evaluator:\n",
            "» Assigning unique IDs to 'blimp_from_file+null' docs\n"
          ]
        },
        {
          "data": {
            "application/vnd.jupyter.widget-view+json": {
              "model_id": "18e230f24a5a49bcb2a001da1a84b4c2",
              "version_major": 2,
              "version_minor": 0
            },
            "text/plain": [
              "Map:   0%|          | 0/6426 [00:00<?, ? examples/s]"
            ]
          },
          "metadata": {},
          "output_type": "display_data"
        },
        {
          "name": "stdout",
          "output_type": "stream",
          "text": [
            "\n",
            "» Filtering invalid docs from 'blimp_from_file+null'\n"
          ]
        },
        {
          "name": "stderr",
          "output_type": "stream",
          "text": [
            "INFO:lm_eval.evaluator:\n",
            "» Filtering invalid docs from 'blimp_from_file+null'\n"
          ]
        },
        {
          "data": {
            "application/vnd.jupyter.widget-view+json": {
              "model_id": "c76f00467e444d7da2fb9b72bc98b470",
              "version_major": 2,
              "version_minor": 0
            },
            "text/plain": [
              "Filter:   0%|          | 0/6426 [00:00<?, ? examples/s]"
            ]
          },
          "metadata": {},
          "output_type": "display_data"
        },
        {
          "name": "stdout",
          "output_type": "stream",
          "text": [
            "\n",
            "» Constructing 'blimp_from_file+null' contexts and requests\n"
          ]
        },
        {
          "name": "stderr",
          "output_type": "stream",
          "text": [
            "INFO:lm_eval.evaluator:\n",
            "» Constructing 'blimp_from_file+null' contexts and requests\n",
            "100%|██████████| 6426/6426 [00:00<00:00, 7194.67it/s]"
          ]
        },
        {
          "name": "stdout",
          "output_type": "stream",
          "text": [
            "\n",
            "» Running all `loglikelihood` requests\n"
          ]
        },
        {
          "name": "stderr",
          "output_type": "stream",
          "text": [
            "\n",
            "INFO:lm_eval.evaluator:\n",
            "» Running all `loglikelihood` requests\n",
            "100%|██████████| 12852/12852 [01:19<00:00, 162.65it/s]\n"
          ]
        },
        {
          "name": "stdout",
          "output_type": "stream",
          "text": [
            "filler_gap:\t61.55%\n"
          ]
        },
        {
          "data": {
            "application/vnd.jupyter.widget-view+json": {
              "model_id": "0097b62941c24bdbaea81db2a054db4f",
              "version_major": 2,
              "version_minor": 0
            },
            "text/plain": [
              "Generating train split: 0 examples [00:00, ? examples/s]"
            ]
          },
          "metadata": {},
          "output_type": "display_data"
        },
        {
          "name": "stdout",
          "output_type": "stream",
          "text": [
            "\n",
            "» Assigning unique IDs to 'blimp_from_file+null' docs\n"
          ]
        },
        {
          "name": "stderr",
          "output_type": "stream",
          "text": [
            "INFO:lm_eval.evaluator:\n",
            "» Assigning unique IDs to 'blimp_from_file+null' docs\n"
          ]
        },
        {
          "data": {
            "application/vnd.jupyter.widget-view+json": {
              "model_id": "6c20957f14184e05a9f77d6db2aa00fc",
              "version_major": 2,
              "version_minor": 0
            },
            "text/plain": [
              "Map:   0%|          | 0/1965 [00:00<?, ? examples/s]"
            ]
          },
          "metadata": {},
          "output_type": "display_data"
        },
        {
          "name": "stdout",
          "output_type": "stream",
          "text": [
            "\n",
            "» Filtering invalid docs from 'blimp_from_file+null'\n"
          ]
        },
        {
          "name": "stderr",
          "output_type": "stream",
          "text": [
            "INFO:lm_eval.evaluator:\n",
            "» Filtering invalid docs from 'blimp_from_file+null'\n"
          ]
        },
        {
          "data": {
            "application/vnd.jupyter.widget-view+json": {
              "model_id": "a758bac5613d404d9de0ef2aeb5c65de",
              "version_major": 2,
              "version_minor": 0
            },
            "text/plain": [
              "Filter:   0%|          | 0/1965 [00:00<?, ? examples/s]"
            ]
          },
          "metadata": {},
          "output_type": "display_data"
        },
        {
          "name": "stdout",
          "output_type": "stream",
          "text": [
            "\n",
            "» Constructing 'blimp_from_file+null' contexts and requests\n"
          ]
        },
        {
          "name": "stderr",
          "output_type": "stream",
          "text": [
            "INFO:lm_eval.evaluator:\n",
            "» Constructing 'blimp_from_file+null' contexts and requests\n",
            "100%|██████████| 1965/1965 [00:00<00:00, 7320.69it/s]"
          ]
        },
        {
          "name": "stdout",
          "output_type": "stream",
          "text": [
            "\n",
            "» Running all `loglikelihood` requests\n"
          ]
        },
        {
          "name": "stderr",
          "output_type": "stream",
          "text": [
            "\n",
            "INFO:lm_eval.evaluator:\n",
            "» Running all `loglikelihood` requests\n",
            "100%|██████████| 3930/3930 [00:20<00:00, 191.73it/s]\n"
          ]
        },
        {
          "name": "stdout",
          "output_type": "stream",
          "text": [
            "irregular_forms:\t74.55%\n"
          ]
        },
        {
          "data": {
            "application/vnd.jupyter.widget-view+json": {
              "model_id": "0b95038d348141cfa95de6c95b2b1360",
              "version_major": 2,
              "version_minor": 0
            },
            "text/plain": [
              "Generating train split: 0 examples [00:00, ? examples/s]"
            ]
          },
          "metadata": {},
          "output_type": "display_data"
        },
        {
          "name": "stdout",
          "output_type": "stream",
          "text": [
            "\n",
            "» Assigning unique IDs to 'blimp_from_file+null' docs\n"
          ]
        },
        {
          "name": "stderr",
          "output_type": "stream",
          "text": [
            "INFO:lm_eval.evaluator:\n",
            "» Assigning unique IDs to 'blimp_from_file+null' docs\n"
          ]
        },
        {
          "data": {
            "application/vnd.jupyter.widget-view+json": {
              "model_id": "554b328bd26f406ea49ef99d48f6b294",
              "version_major": 2,
              "version_minor": 0
            },
            "text/plain": [
              "Map:   0%|          | 0/2676 [00:00<?, ? examples/s]"
            ]
          },
          "metadata": {},
          "output_type": "display_data"
        },
        {
          "name": "stdout",
          "output_type": "stream",
          "text": [
            "\n",
            "» Filtering invalid docs from 'blimp_from_file+null'\n"
          ]
        },
        {
          "name": "stderr",
          "output_type": "stream",
          "text": [
            "INFO:lm_eval.evaluator:\n",
            "» Filtering invalid docs from 'blimp_from_file+null'\n"
          ]
        },
        {
          "data": {
            "application/vnd.jupyter.widget-view+json": {
              "model_id": "3c306fd6b0cc415f9c2a9a9d3c477363",
              "version_major": 2,
              "version_minor": 0
            },
            "text/plain": [
              "Filter:   0%|          | 0/2676 [00:00<?, ? examples/s]"
            ]
          },
          "metadata": {},
          "output_type": "display_data"
        },
        {
          "name": "stdout",
          "output_type": "stream",
          "text": [
            "\n",
            "» Constructing 'blimp_from_file+null' contexts and requests\n"
          ]
        },
        {
          "name": "stderr",
          "output_type": "stream",
          "text": [
            "INFO:lm_eval.evaluator:\n",
            "» Constructing 'blimp_from_file+null' contexts and requests\n",
            "100%|██████████| 2676/2676 [00:00<00:00, 4320.40it/s]"
          ]
        },
        {
          "name": "stdout",
          "output_type": "stream",
          "text": [
            "\n",
            "» Running all `loglikelihood` requests\n"
          ]
        },
        {
          "name": "stderr",
          "output_type": "stream",
          "text": [
            "\n",
            "INFO:lm_eval.evaluator:\n",
            "» Running all `loglikelihood` requests\n",
            "100%|██████████| 5352/5352 [00:31<00:00, 167.26it/s]\n"
          ]
        },
        {
          "name": "stdout",
          "output_type": "stream",
          "text": [
            "island_effects:\t40.62%\n"
          ]
        },
        {
          "data": {
            "application/vnd.jupyter.widget-view+json": {
              "model_id": "15553ac5de8b43479ab8e10ef6e2592e",
              "version_major": 2,
              "version_minor": 0
            },
            "text/plain": [
              "Generating train split: 0 examples [00:00, ? examples/s]"
            ]
          },
          "metadata": {},
          "output_type": "display_data"
        },
        {
          "name": "stdout",
          "output_type": "stream",
          "text": [
            "\n",
            "» Assigning unique IDs to 'blimp_from_file+null' docs\n"
          ]
        },
        {
          "name": "stderr",
          "output_type": "stream",
          "text": [
            "INFO:lm_eval.evaluator:\n",
            "» Assigning unique IDs to 'blimp_from_file+null' docs\n"
          ]
        },
        {
          "data": {
            "application/vnd.jupyter.widget-view+json": {
              "model_id": "368a023f80154b4bbb9274126ad3a81f",
              "version_major": 2,
              "version_minor": 0
            },
            "text/plain": [
              "Map:   0%|          | 0/6586 [00:00<?, ? examples/s]"
            ]
          },
          "metadata": {},
          "output_type": "display_data"
        },
        {
          "name": "stdout",
          "output_type": "stream",
          "text": [
            "\n",
            "» Filtering invalid docs from 'blimp_from_file+null'\n"
          ]
        },
        {
          "name": "stderr",
          "output_type": "stream",
          "text": [
            "INFO:lm_eval.evaluator:\n",
            "» Filtering invalid docs from 'blimp_from_file+null'\n"
          ]
        },
        {
          "data": {
            "application/vnd.jupyter.widget-view+json": {
              "model_id": "a8243e27b6f6479f8e1e783be4c2443e",
              "version_major": 2,
              "version_minor": 0
            },
            "text/plain": [
              "Filter:   0%|          | 0/6586 [00:00<?, ? examples/s]"
            ]
          },
          "metadata": {},
          "output_type": "display_data"
        },
        {
          "name": "stdout",
          "output_type": "stream",
          "text": [
            "\n",
            "» Constructing 'blimp_from_file+null' contexts and requests\n"
          ]
        },
        {
          "name": "stderr",
          "output_type": "stream",
          "text": [
            "INFO:lm_eval.evaluator:\n",
            "» Constructing 'blimp_from_file+null' contexts and requests\n",
            "100%|██████████| 6586/6586 [00:01<00:00, 5244.36it/s]"
          ]
        },
        {
          "name": "stdout",
          "output_type": "stream",
          "text": [
            "\n",
            "» Running all `loglikelihood` requests\n"
          ]
        },
        {
          "name": "stderr",
          "output_type": "stream",
          "text": [
            "\n",
            "INFO:lm_eval.evaluator:\n",
            "» Running all `loglikelihood` requests\n",
            "100%|██████████| 13172/13172 [01:17<00:00, 169.62it/s]\n"
          ]
        },
        {
          "name": "stdout",
          "output_type": "stream",
          "text": [
            "npi_licensing:\t47.28%\n"
          ]
        },
        {
          "data": {
            "application/vnd.jupyter.widget-view+json": {
              "model_id": "f4e8e8640b0c40ebbb7c18cc1fb9ae1b",
              "version_major": 2,
              "version_minor": 0
            },
            "text/plain": [
              "Generating train split: 0 examples [00:00, ? examples/s]"
            ]
          },
          "metadata": {},
          "output_type": "display_data"
        },
        {
          "name": "stdout",
          "output_type": "stream",
          "text": [
            "\n",
            "» Assigning unique IDs to 'blimp_from_file+null' docs\n"
          ]
        },
        {
          "name": "stderr",
          "output_type": "stream",
          "text": [
            "INFO:lm_eval.evaluator:\n",
            "» Assigning unique IDs to 'blimp_from_file+null' docs\n"
          ]
        },
        {
          "data": {
            "application/vnd.jupyter.widget-view+json": {
              "model_id": "6be18b3bf9ca409ea7467665e6a7f823",
              "version_major": 2,
              "version_minor": 0
            },
            "text/plain": [
              "Map:   0%|          | 0/3882 [00:00<?, ? examples/s]"
            ]
          },
          "metadata": {},
          "output_type": "display_data"
        },
        {
          "name": "stdout",
          "output_type": "stream",
          "text": [
            "\n",
            "» Filtering invalid docs from 'blimp_from_file+null'\n"
          ]
        },
        {
          "name": "stderr",
          "output_type": "stream",
          "text": [
            "INFO:lm_eval.evaluator:\n",
            "» Filtering invalid docs from 'blimp_from_file+null'\n"
          ]
        },
        {
          "data": {
            "application/vnd.jupyter.widget-view+json": {
              "model_id": "2ccd007fe46049809db5738b8691eab0",
              "version_major": 2,
              "version_minor": 0
            },
            "text/plain": [
              "Filter:   0%|          | 0/3882 [00:00<?, ? examples/s]"
            ]
          },
          "metadata": {},
          "output_type": "display_data"
        },
        {
          "name": "stdout",
          "output_type": "stream",
          "text": [
            "\n",
            "» Constructing 'blimp_from_file+null' contexts and requests\n"
          ]
        },
        {
          "name": "stderr",
          "output_type": "stream",
          "text": [
            "INFO:lm_eval.evaluator:\n",
            "» Constructing 'blimp_from_file+null' contexts and requests\n",
            "100%|██████████| 3882/3882 [00:00<00:00, 7045.03it/s]"
          ]
        },
        {
          "name": "stdout",
          "output_type": "stream",
          "text": [
            "\n",
            "» Running all `loglikelihood` requests\n"
          ]
        },
        {
          "name": "stderr",
          "output_type": "stream",
          "text": [
            "\n",
            "INFO:lm_eval.evaluator:\n",
            "» Running all `loglikelihood` requests\n",
            "100%|██████████| 7764/7764 [00:43<00:00, 176.81it/s]\n"
          ]
        },
        {
          "name": "stdout",
          "output_type": "stream",
          "text": [
            "quantifiers:\t54.22%\n"
          ]
        },
        {
          "data": {
            "application/vnd.jupyter.widget-view+json": {
              "model_id": "f822053000d643939ede9e6e37bdcf37",
              "version_major": 2,
              "version_minor": 0
            },
            "text/plain": [
              "Generating train split: 0 examples [00:00, ? examples/s]"
            ]
          },
          "metadata": {},
          "output_type": "display_data"
        },
        {
          "name": "stdout",
          "output_type": "stream",
          "text": [
            "\n",
            "» Assigning unique IDs to 'blimp_from_file+null' docs\n"
          ]
        },
        {
          "name": "stderr",
          "output_type": "stream",
          "text": [
            "INFO:lm_eval.evaluator:\n",
            "» Assigning unique IDs to 'blimp_from_file+null' docs\n"
          ]
        },
        {
          "data": {
            "application/vnd.jupyter.widget-view+json": {
              "model_id": "7605efd650804c79aa4df6d8a97aaee6",
              "version_major": 2,
              "version_minor": 0
            },
            "text/plain": [
              "Map:   0%|          | 0/5535 [00:00<?, ? examples/s]"
            ]
          },
          "metadata": {},
          "output_type": "display_data"
        },
        {
          "name": "stdout",
          "output_type": "stream",
          "text": [
            "\n",
            "» Filtering invalid docs from 'blimp_from_file+null'\n"
          ]
        },
        {
          "name": "stderr",
          "output_type": "stream",
          "text": [
            "INFO:lm_eval.evaluator:\n",
            "» Filtering invalid docs from 'blimp_from_file+null'\n"
          ]
        },
        {
          "data": {
            "application/vnd.jupyter.widget-view+json": {
              "model_id": "106d5f667e1a4131a577b2c795981765",
              "version_major": 2,
              "version_minor": 0
            },
            "text/plain": [
              "Filter:   0%|          | 0/5535 [00:00<?, ? examples/s]"
            ]
          },
          "metadata": {},
          "output_type": "display_data"
        },
        {
          "name": "stdout",
          "output_type": "stream",
          "text": [
            "\n",
            "» Constructing 'blimp_from_file+null' contexts and requests\n"
          ]
        },
        {
          "name": "stderr",
          "output_type": "stream",
          "text": [
            "INFO:lm_eval.evaluator:\n",
            "» Constructing 'blimp_from_file+null' contexts and requests\n",
            "100%|██████████| 5535/5535 [00:00<00:00, 6648.26it/s]"
          ]
        },
        {
          "name": "stdout",
          "output_type": "stream",
          "text": [
            "\n",
            "» Running all `loglikelihood` requests\n"
          ]
        },
        {
          "name": "stderr",
          "output_type": "stream",
          "text": [
            "\n",
            "INFO:lm_eval.evaluator:\n",
            "» Running all `loglikelihood` requests\n",
            "100%|██████████| 11070/11070 [01:01<00:00, 181.36it/s]\n"
          ]
        },
        {
          "name": "stdout",
          "output_type": "stream",
          "text": [
            "subject_verb_agreement:\t51.65%\n",
            "\n",
            "Scores:\n",
            "anaphor_agreement:\t67.08%\n",
            "argument_structure:\t57.66%\n",
            "binding:\t59.10%\n",
            "control_raising:\t56.87%\n",
            "determiner_noun_agreement:\t58.99%\n",
            "ellipsis:\t26.67%\n",
            "filler_gap:\t61.55%\n",
            "irregular_forms:\t74.55%\n",
            "island_effects:\t40.62%\n",
            "npi_licensing:\t47.28%\n",
            "quantifiers:\t54.22%\n",
            "subject_verb_agreement:\t51.65%\n"
          ]
        }
      ],
      "source": [
        "#@title Load model and evaluate (BLiMP) { display-mode: \"form\" }\n",
        "model = \"/content/model_folder/\" #@param {\"type\": \"string\"}\n",
        "model_type = \"encoder\" #@param [\"decoder\", \"encoder\", \"encoder-decoder\"]\n",
        "# file_name = \"examples3.csv\" #@param {\"type\": \"string\"}\n",
        "# model_names = [\"opt-125m\", \"opt-350m\", \"opt-1.3b\", \"opt-2.7b\"] #@param {\"type\": \"raw\"}\n",
        "\n",
        "%cd /content/evaluation-pipeline\n",
        "%run /content/evaluation-pipeline/babylm_eval.py \\\n",
        "  \"$model\" \\\n",
        "  \"$model_type\" \\\n",
        "  -t \"blimp\""
      ]
    }
  ],
  "metadata": {
    "accelerator": "GPU",
    "colab": {
      "provenance": []
    },
    "gpuClass": "standard",
    "kernelspec": {
      "display_name": "Python 3",
      "name": "python3"
    },
    "language_info": {
      "name": "python"
    }
  },
  "nbformat": 4,
  "nbformat_minor": 0
}
