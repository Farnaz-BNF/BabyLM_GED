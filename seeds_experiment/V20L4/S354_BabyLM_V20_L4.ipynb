{
  "nbformat": 4,
  "nbformat_minor": 0,
  "metadata": {
    "colab": {
      "provenance": [],
      "gpuType": "T4"
    },
    "kernelspec": {
      "name": "python3",
      "display_name": "Python 3"
    },
    "language_info": {
      "name": "python"
    },
    "accelerator": "GPU"
  },
  "cells": [
    {
      "cell_type": "code",
      "source": [
        "import os\n",
        "import torch\n",
        "import transformers\n",
        "import pandas as pd\n",
        "from transformers.trainer import *\n",
        "from transformers import RobertaConfig\n",
        "from transformers import RobertaForMaskedLM\n",
        "from tokenizers import ByteLevelBPETokenizer\n",
        "from transformers import RobertaTokenizerFast\n",
        "from torch.utils.data import SequentialSampler\n",
        "from torch.utils.data import Dataset, DataLoader\n",
        "from transformers import Trainer, TrainingArguments\n",
        "from transformers import AutoTokenizer, RobertaModel\n",
        "from transformers import DataCollatorForLanguageModeling"
      ],
      "metadata": {
        "id": "ajNr4mE7_n5Y"
      },
      "execution_count": null,
      "outputs": []
    },
    {
      "cell_type": "code",
      "source": [
        "from google.colab import drive\n",
        "drive.mount('/content/drive')"
      ],
      "metadata": {
        "colab": {
          "base_uri": "https://localhost:8080/"
        },
        "id": "89NPyPRbUlPx",
        "outputId": "163b1b4d-dbea-4d02-842b-ae80949b0609"
      },
      "execution_count": null,
      "outputs": [
        {
          "output_type": "stream",
          "name": "stdout",
          "text": [
            "Mounted at /content/drive\n"
          ]
        }
      ]
    },
    {
      "cell_type": "code",
      "source": [
        "model_path = \"/content/drive/MyDrive/VU Thesis/Code/seeds_experiment/V20L4/seed_354\""
      ],
      "metadata": {
        "id": "tyeTVVi-WP2n"
      },
      "execution_count": null,
      "outputs": []
    },
    {
      "cell_type": "code",
      "source": [
        "def load_data(data_directory_path):\n",
        "  all_data = []\n",
        "  total_sentence = 0\n",
        "  for filename in os.listdir(data_directory_path):\n",
        "    file_path = os.path.join(data_directory_path, filename)\n",
        "    if os.path.isfile(file_path):\n",
        "      print(f'Reading file: {filename}')\n",
        "      with open(file_path, 'r', encoding='utf-8') as file:\n",
        "        for line in file:\n",
        "          total_sentence+=1\n",
        "          all_data.append(line.strip())\n",
        "  print(f\"total sentece in directory: {total_sentence}\")\n",
        "  return all_data"
      ],
      "metadata": {
        "id": "ZtfvzGt5EEVa"
      },
      "execution_count": null,
      "outputs": []
    },
    {
      "cell_type": "code",
      "source": [
        "train_directory_path = '/content/drive/MyDrive/VU Thesis/Code/Data/babylm_10M'\n",
        "sequences = load_data(train_directory_path)\n",
        "print('='*50)\n",
        "\n",
        "dev_directory_path = '/content/drive/MyDrive/VU Thesis/Code/Data/babylm_dev'\n",
        "devset = load_data(dev_directory_path)\n",
        "print('='*50)\n",
        "\n",
        "test_directory_path = '/content/drive/MyDrive/VU Thesis/Code/Data/babylm_test'\n",
        "test_data = load_data(test_directory_path)\n",
        "print('='*50)\n",
        "\n",
        "print(len(sequences))\n",
        "print(len(devset))\n",
        "print(len(test_data))"
      ],
      "metadata": {
        "id": "OAYA9cYv_pM0",
        "colab": {
          "base_uri": "https://localhost:8080/"
        },
        "outputId": "060c3914-6130-4594-a6af-4e77165c9cb4"
      },
      "execution_count": null,
      "outputs": [
        {
          "output_type": "stream",
          "name": "stdout",
          "text": [
            "Reading file: wikipedia.train\n",
            "Reading file: gutenberg.train\n",
            "Reading file: open_subtitles.train\n",
            "Reading file: simple_wikipedia.train\n",
            "Reading file: qed.train\n",
            "Reading file: aochildes.train\n",
            "Reading file: bnc_spoken.train\n",
            "Reading file: switchboard.train\n",
            "Reading file: children_stories.train\n",
            "Reading file: cbt.train\n",
            "total sentece in directory: 1058740\n",
            "==================================================\n",
            "Reading file: gutenberg.dev\n",
            "Reading file: bnc_spoken.dev\n",
            "Reading file: open_subtitles.dev\n",
            "Reading file: children_stories.dev\n",
            "Reading file: cbt.dev\n",
            "Reading file: qed.dev\n",
            "Reading file: aochildes.dev\n",
            "Reading file: wikipedia.dev\n",
            "Reading file: simple_wikipedia.dev\n",
            "Reading file: switchboard.dev\n",
            "total sentece in directory: 1026747\n",
            "==================================================\n",
            "Reading file: cbt.test\n",
            "Reading file: children_stories.test\n",
            "Reading file: aochildes.test\n",
            "Reading file: bnc_spoken.test\n",
            "Reading file: gutenberg.test\n",
            "Reading file: simple_wikipedia.test\n",
            "Reading file: open_subtitles.test\n",
            "Reading file: switchboard.test\n",
            "Reading file: wikipedia.test\n",
            "Reading file: qed.test\n",
            "total sentece in directory: 1054646\n",
            "==================================================\n",
            "1058740\n",
            "1026747\n",
            "1054646\n"
          ]
        }
      ]
    },
    {
      "cell_type": "code",
      "source": [
        "tokenizer_folder = '/content/drive/MyDrive/VU Thesis/Code/baby_models/tokenizer_V20_folder'\n",
        "\n",
        "# if not os.path.exists(tokenizer_folder):\n",
        "  # os.mkdir(tokenizer_folder)"
      ],
      "metadata": {
        "id": "MzNl_-6P_qif"
      },
      "execution_count": null,
      "outputs": []
    },
    {
      "cell_type": "code",
      "source": [
        "def train_tokenizer(sequence_data, vocab_size, tokenizer_folder):\n",
        "  # Initialize tokenizer\n",
        "  tokenizer = ByteLevelBPETokenizer()\n",
        "\n",
        "  tokenizer.train_from_iterator(sequences,\n",
        "                                vocab_size=vocab_size,\n",
        "                                min_frequency=2,\n",
        "                                show_progress=True,\n",
        "                                special_tokens=[\n",
        "                                    \"<s>\",\n",
        "                                    \"<pad>\",\n",
        "                                    \"</s>\",\n",
        "                                    \"<unk>\",\n",
        "                                    \"<mask>\"]\n",
        "                                )\n",
        "  # Save tokenizer\n",
        "  tokenizer.save_model(tokenizer_folder)\n",
        "\n",
        "if not os.path.exists(tokenizer_folder):\n",
        "  os.mkdir(tokenizer_folder)\n",
        "  train_tokenizer(sequences, 20_480, tokenizer_folder)"
      ],
      "metadata": {
        "id": "2A_EdNBWGjNP"
      },
      "execution_count": null,
      "outputs": []
    },
    {
      "cell_type": "code",
      "source": [
        "# create CustomDataset class\n",
        "class CustomDataset(Dataset):\n",
        "  def __init__(self, data, tokenizer):\n",
        "    self.examples = []\n",
        "    self.mask = []\n",
        "    max_length = 512\n",
        "    for example in data:\n",
        "      x=tokenizer.encode_plus(example, max_length = max_length, truncation=True, padding=True)\n",
        "      self.examples += [x.input_ids]\n",
        "      self.mask += [x.attention_mask]\n",
        "\n",
        "  def __len__(self):\n",
        "    return len(self.examples)\n",
        "\n",
        "  def __getitem__(self, i):\n",
        "    return torch.tensor(self.examples[i])"
      ],
      "metadata": {
        "id": "H8-vw_zrqBhX"
      },
      "execution_count": null,
      "outputs": []
    },
    {
      "cell_type": "code",
      "source": [
        "def get_train_dataloader(self) -> DataLoader:\n",
        "    \"\"\"\n",
        "    Returns the training :class:`~torch.utils.data.DataLoader`.\n",
        "\n",
        "    Will use no sampler if :obj:`self.train_dataset` does not implement :obj:`__len__`, a random sampler (adapted\n",
        "    to distributed training if necessary) otherwise.\n",
        "\n",
        "    Subclass and override this method if you want to inject some custom behavior.\n",
        "    \"\"\"\n",
        "    if self.train_dataset is None:\n",
        "        raise ValueError(\"Trainer: training requires a train_dataset.\")\n",
        "\n",
        "    return DataLoader(\n",
        "        self.train_dataset,\n",
        "        batch_size=self.args.train_batch_size,\n",
        "        sampler=SequentialSampler(self.train_dataset),\n",
        "        collate_fn=self.data_collator,\n",
        "        drop_last=self.args.dataloader_drop_last,\n",
        "        num_workers=self.args.dataloader_num_workers,\n",
        "        shuffle=False\n",
        "    )"
      ],
      "metadata": {
        "id": "XyWPGTuJqIB0"
      },
      "execution_count": null,
      "outputs": []
    },
    {
      "cell_type": "code",
      "source": [
        "def train_baby_lm(babaylm_config, tokenizer_path, train_data, dev_data, epochs_start, epochs_number, batch_size):\n",
        "    # model = RobertaForMaskedLM(config=babaylm_config)\n",
        "    # print('Model parameters: ',model.num_parameters())\n",
        "    max_length = 512\n",
        "    tokenizer = RobertaTokenizerFast.from_pretrained(tokenizer_path, max_len=max_length)\n",
        "\n",
        "    # Define data collator\n",
        "    data_collator = DataCollatorForLanguageModeling(tokenizer=tokenizer, mlm=True, mlm_probability=0.15)\n",
        "    Trainer.get_train_dataloader = get_train_dataloader\n",
        "\n",
        "    # batch_size = 16\n",
        "    # Define training arguments\n",
        "    training_args = TrainingArguments(\n",
        "        output_dir=f'{model_path}/run_model_s354_folder',\n",
        "        overwrite_output_dir=True,\n",
        "        eval_strategy = 'epoch',\n",
        "        num_train_epochs=1,\n",
        "        learning_rate=1e-4,\n",
        "        weight_decay=0.01,\n",
        "        per_device_train_batch_size=batch_size,\n",
        "        per_device_eval_batch_size=batch_size,\n",
        "        save_strategy=\"epoch\",\n",
        "        seed=354,\n",
        "        save_total_limit=1,\n",
        "        max_steps=int(len(train_dataset)/ batch_size)\n",
        "    )\n",
        "\n",
        "    model = RobertaForMaskedLM(config=babaylm_config)\n",
        "    print('Model parameters: ',model.num_parameters())\n",
        "\n",
        "    for i in range(epochs_start, epochs_start + epochs_number):\n",
        "\n",
        "        # if os.path.exists(f'{model_path}/model_s354_e{i}_v20_l4'):\n",
        "        #     model = RobertaForMaskedLM.from_pretrained(f'{model_path}/model_s354_e{i}_v20_l4')\n",
        "        #     print(f\"pretrained model load (from Epoch {i})...\")\n",
        "\n",
        "        # else:\n",
        "        #     print(\"No checkpoint... Create New Model\")\n",
        "        #     model = RobertaForMaskedLM(config=babaylm_config)\n",
        "        #     print('Model parameters: ',model.num_parameters())\n",
        "\n",
        "        trainer = Trainer(\n",
        "            model=model,\n",
        "            args=training_args,\n",
        "            data_collator=data_collator,\n",
        "            train_dataset=train_data,#train_dataset,\n",
        "            eval_dataset=dev_data,#eval_dataset,\n",
        "            tokenizer=tokenizer)\n",
        "\n",
        "        trainer.train()\n",
        "        trainer.save_model(f'{model_path}/model_s354_e{i+1}_v20_l4')"
      ],
      "metadata": {
        "id": "clxn9BJZpKoS"
      },
      "execution_count": null,
      "outputs": []
    },
    {
      "cell_type": "code",
      "source": [
        "import pickle\n",
        "import os\n",
        "\n",
        "max_length = 512\n",
        "tokenizer = RobertaTokenizerFast.from_pretrained(tokenizer_folder, max_len=max_length)\n",
        "\n",
        "train_custom_data_path =  \"/content/drive/MyDrive/VU Thesis/Code/baby_models/train_V20.pkl\"\n",
        "dev_custom_data_path = \"/content/drive/MyDrive/VU Thesis/Code/baby_models/dev_V20.pkl\"\n",
        "\n",
        "if os.path.isfile(train_custom_data_path):\n",
        "  with open(train_custom_data_path, 'rb') as file:\n",
        "    train_dataset = pickle.load(file)\n",
        "else:\n",
        "  train_dataset = CustomDataset(sequences, tokenizer)\n",
        "  with open(train_custom_data_path, 'wb') as file:\n",
        "    pickle.dump(train_dataset, file)\n",
        "\n",
        "\n",
        "if os.path.isfile(dev_custom_data_path):\n",
        "  with open(dev_custom_data_path, 'rb') as file:\n",
        "    eval_dataset = pickle.load(file)\n",
        "else:\n",
        "  eval_dataset = CustomDataset(devset, tokenizer)\n",
        "  with open(dev_custom_data_path, 'wb') as file:\n",
        "    pickle.dump(eval_dataset, file)"
      ],
      "metadata": {
        "id": "-KFanF-9wUr1"
      },
      "execution_count": null,
      "outputs": []
    },
    {
      "cell_type": "code",
      "source": [
        "# Epochs 1-10\n",
        "config = RobertaConfig(\n",
        "    vocab_size=20480,\n",
        "    num_hidden_layers=6,\n",
        "    max_position_embeddings=514,\n",
        "    num_attention_heads=8,\n",
        "    type_vocab_size=1,\n",
        "    intermediate_size=3072,\n",
        "    layer_norm_eps = 1e-05,\n",
        "    hidden_size=256,\n",
        "    initializer_range=0.02,\n",
        "    classifier_dropout = None,\n",
        "    hidden_act=\"gelu\",\n",
        "    position_embedding_type= \"absolute\",\n",
        "    hidden_dropout_prob= 0.1,\n",
        "    attention_probs_dropout_prob= 0.1,\n",
        ")\n",
        "\n",
        "epochs_start = 0\n",
        "epochs = 10\n",
        "batch_size = 32\n",
        "\n",
        "train_baby_lm(config, tokenizer_folder, train_dataset, eval_dataset, epochs_start, epochs, batch_size)"
      ],
      "metadata": {
        "id": "CxgrV8m0sxmW",
        "colab": {
          "base_uri": "https://localhost:8080/",
          "height": 1000
        },
        "outputId": "376576b8-cb6c-4b06-b518-52cd5747f5b5"
      },
      "execution_count": null,
      "outputs": [
        {
          "output_type": "stream",
          "name": "stdout",
          "text": [
            "Model parameters:  16504320\n"
          ]
        },
        {
          "output_type": "stream",
          "name": "stderr",
          "text": [
            "<ipython-input-10-46a9faf1de2f>:42: FutureWarning: `tokenizer` is deprecated and will be removed in version 5.0.0 for `Trainer.__init__`. Use `processing_class` instead.\n",
            "  trainer = Trainer(\n"
          ]
        },
        {
          "output_type": "display_data",
          "data": {
            "text/plain": [
              "<IPython.core.display.Javascript object>"
            ],
            "application/javascript": [
              "\n",
              "        window._wandbApiKey = new Promise((resolve, reject) => {\n",
              "            function loadScript(url) {\n",
              "            return new Promise(function(resolve, reject) {\n",
              "                let newScript = document.createElement(\"script\");\n",
              "                newScript.onerror = reject;\n",
              "                newScript.onload = resolve;\n",
              "                document.body.appendChild(newScript);\n",
              "                newScript.src = url;\n",
              "            });\n",
              "            }\n",
              "            loadScript(\"https://cdn.jsdelivr.net/npm/postmate/build/postmate.min.js\").then(() => {\n",
              "            const iframe = document.createElement('iframe')\n",
              "            iframe.style.cssText = \"width:0;height:0;border:none\"\n",
              "            document.body.appendChild(iframe)\n",
              "            const handshake = new Postmate({\n",
              "                container: iframe,\n",
              "                url: 'https://wandb.ai/authorize'\n",
              "            });\n",
              "            const timeout = setTimeout(() => reject(\"Couldn't auto authenticate\"), 5000)\n",
              "            handshake.then(function(child) {\n",
              "                child.on('authorize', data => {\n",
              "                    clearTimeout(timeout)\n",
              "                    resolve(data)\n",
              "                });\n",
              "            });\n",
              "            })\n",
              "        });\n",
              "    "
            ]
          },
          "metadata": {}
        },
        {
          "output_type": "stream",
          "name": "stderr",
          "text": [
            "\u001b[34m\u001b[1mwandb\u001b[0m: Logging into wandb.ai. (Learn how to deploy a W&B server locally: https://wandb.me/wandb-server)\n",
            "\u001b[34m\u001b[1mwandb\u001b[0m: You can find your API key in your browser here: https://wandb.ai/authorize\n",
            "wandb: Paste an API key from your profile and hit enter:"
          ]
        },
        {
          "name": "stdout",
          "output_type": "stream",
          "text": [
            " ··········\n"
          ]
        },
        {
          "output_type": "stream",
          "name": "stderr",
          "text": [
            "\u001b[34m\u001b[1mwandb\u001b[0m: \u001b[33mWARNING\u001b[0m If you're specifying your api key in code, ensure this code is not shared publicly.\n",
            "\u001b[34m\u001b[1mwandb\u001b[0m: \u001b[33mWARNING\u001b[0m Consider setting the WANDB_API_KEY environment variable, or running `wandb login` from the command line.\n",
            "\u001b[34m\u001b[1mwandb\u001b[0m: No netrc file found, creating one.\n",
            "\u001b[34m\u001b[1mwandb\u001b[0m: Appending key for api.wandb.ai to your netrc file: /root/.netrc\n",
            "\u001b[34m\u001b[1mwandb\u001b[0m: Currently logged in as: \u001b[33mfarnaz-banifatemi-vu\u001b[0m (\u001b[33mfarnaz-banifatemi-vu-vrije-universiteit-amsterdam\u001b[0m) to \u001b[32mhttps://api.wandb.ai\u001b[0m. Use \u001b[1m`wandb login --relogin`\u001b[0m to force relogin\n"
          ]
        },
        {
          "output_type": "display_data",
          "data": {
            "text/plain": [
              "<IPython.core.display.HTML object>"
            ],
            "text/html": [
              "Tracking run with wandb version 0.19.9"
            ]
          },
          "metadata": {}
        },
        {
          "output_type": "display_data",
          "data": {
            "text/plain": [
              "<IPython.core.display.HTML object>"
            ],
            "text/html": [
              "Run data is saved locally in <code>/content/wandb/run-20250426_085423-6inuzcet</code>"
            ]
          },
          "metadata": {}
        },
        {
          "output_type": "display_data",
          "data": {
            "text/plain": [
              "<IPython.core.display.HTML object>"
            ],
            "text/html": [
              "Syncing run <strong><a href='https://wandb.ai/farnaz-banifatemi-vu-vrije-universiteit-amsterdam/huggingface/runs/6inuzcet' target=\"_blank\">/content/drive/MyDrive/VU Thesis/Code/seeds_experiment/V20L4/seed_56/run_model_s56_folder</a></strong> to <a href='https://wandb.ai/farnaz-banifatemi-vu-vrije-universiteit-amsterdam/huggingface' target=\"_blank\">Weights & Biases</a> (<a href='https://wandb.me/developer-guide' target=\"_blank\">docs</a>)<br>"
            ]
          },
          "metadata": {}
        },
        {
          "output_type": "display_data",
          "data": {
            "text/plain": [
              "<IPython.core.display.HTML object>"
            ],
            "text/html": [
              " View project at <a href='https://wandb.ai/farnaz-banifatemi-vu-vrije-universiteit-amsterdam/huggingface' target=\"_blank\">https://wandb.ai/farnaz-banifatemi-vu-vrije-universiteit-amsterdam/huggingface</a>"
            ]
          },
          "metadata": {}
        },
        {
          "output_type": "display_data",
          "data": {
            "text/plain": [
              "<IPython.core.display.HTML object>"
            ],
            "text/html": [
              " View run at <a href='https://wandb.ai/farnaz-banifatemi-vu-vrije-universiteit-amsterdam/huggingface/runs/6inuzcet' target=\"_blank\">https://wandb.ai/farnaz-banifatemi-vu-vrije-universiteit-amsterdam/huggingface/runs/6inuzcet</a>"
            ]
          },
          "metadata": {}
        },
        {
          "output_type": "stream",
          "name": "stderr",
          "text": [
            "We strongly recommend passing in an `attention_mask` since your input_ids may be padded. See https://huggingface.co/docs/transformers/troubleshooting#incorrect-output-when-padding-tokens-arent-masked.\n"
          ]
        },
        {
          "output_type": "display_data",
          "data": {
            "text/plain": [
              "<IPython.core.display.HTML object>"
            ],
            "text/html": [
              "\n",
              "    <div>\n",
              "      \n",
              "      <progress value='33085' max='33085' style='width:300px; height:20px; vertical-align: middle;'></progress>\n",
              "      [33085/33085 44:39, Epoch 0/1]\n",
              "    </div>\n",
              "    <table border=\"1\" class=\"dataframe\">\n",
              "  <thead>\n",
              " <tr style=\"text-align: left;\">\n",
              "      <th>Epoch</th>\n",
              "      <th>Training Loss</th>\n",
              "      <th>Validation Loss</th>\n",
              "    </tr>\n",
              "  </thead>\n",
              "  <tbody>\n",
              "    <tr>\n",
              "      <td>0</td>\n",
              "      <td>6.084100</td>\n",
              "      <td>4.928582</td>\n",
              "    </tr>\n",
              "  </tbody>\n",
              "</table><p>"
            ]
          },
          "metadata": {}
        },
        {
          "output_type": "stream",
          "name": "stderr",
          "text": [
            "<ipython-input-10-46a9faf1de2f>:42: FutureWarning: `tokenizer` is deprecated and will be removed in version 5.0.0 for `Trainer.__init__`. Use `processing_class` instead.\n",
            "  trainer = Trainer(\n"
          ]
        },
        {
          "output_type": "display_data",
          "data": {
            "text/plain": [
              "<IPython.core.display.HTML object>"
            ],
            "text/html": [
              "\n",
              "    <div>\n",
              "      \n",
              "      <progress value='33085' max='33085' style='width:300px; height:20px; vertical-align: middle;'></progress>\n",
              "      [33085/33085 44:55, Epoch 0/1]\n",
              "    </div>\n",
              "    <table border=\"1\" class=\"dataframe\">\n",
              "  <thead>\n",
              " <tr style=\"text-align: left;\">\n",
              "      <th>Epoch</th>\n",
              "      <th>Training Loss</th>\n",
              "      <th>Validation Loss</th>\n",
              "    </tr>\n",
              "  </thead>\n",
              "  <tbody>\n",
              "    <tr>\n",
              "      <td>0</td>\n",
              "      <td>5.485000</td>\n",
              "      <td>4.467409</td>\n",
              "    </tr>\n",
              "  </tbody>\n",
              "</table><p>"
            ]
          },
          "metadata": {}
        },
        {
          "output_type": "stream",
          "name": "stderr",
          "text": [
            "<ipython-input-10-46a9faf1de2f>:42: FutureWarning: `tokenizer` is deprecated and will be removed in version 5.0.0 for `Trainer.__init__`. Use `processing_class` instead.\n",
            "  trainer = Trainer(\n"
          ]
        },
        {
          "output_type": "display_data",
          "data": {
            "text/plain": [
              "<IPython.core.display.HTML object>"
            ],
            "text/html": [
              "\n",
              "    <div>\n",
              "      \n",
              "      <progress value='33085' max='33085' style='width:300px; height:20px; vertical-align: middle;'></progress>\n",
              "      [33085/33085 45:09, Epoch 0/1]\n",
              "    </div>\n",
              "    <table border=\"1\" class=\"dataframe\">\n",
              "  <thead>\n",
              " <tr style=\"text-align: left;\">\n",
              "      <th>Epoch</th>\n",
              "      <th>Training Loss</th>\n",
              "      <th>Validation Loss</th>\n",
              "    </tr>\n",
              "  </thead>\n",
              "  <tbody>\n",
              "    <tr>\n",
              "      <td>0</td>\n",
              "      <td>5.241900</td>\n",
              "      <td>4.271183</td>\n",
              "    </tr>\n",
              "  </tbody>\n",
              "</table><p>"
            ]
          },
          "metadata": {}
        },
        {
          "output_type": "stream",
          "name": "stderr",
          "text": [
            "<ipython-input-10-46a9faf1de2f>:42: FutureWarning: `tokenizer` is deprecated and will be removed in version 5.0.0 for `Trainer.__init__`. Use `processing_class` instead.\n",
            "  trainer = Trainer(\n"
          ]
        },
        {
          "output_type": "display_data",
          "data": {
            "text/plain": [
              "<IPython.core.display.HTML object>"
            ],
            "text/html": [
              "\n",
              "    <div>\n",
              "      \n",
              "      <progress value='33085' max='33085' style='width:300px; height:20px; vertical-align: middle;'></progress>\n",
              "      [33085/33085 45:28, Epoch 0/1]\n",
              "    </div>\n",
              "    <table border=\"1\" class=\"dataframe\">\n",
              "  <thead>\n",
              " <tr style=\"text-align: left;\">\n",
              "      <th>Epoch</th>\n",
              "      <th>Training Loss</th>\n",
              "      <th>Validation Loss</th>\n",
              "    </tr>\n",
              "  </thead>\n",
              "  <tbody>\n",
              "    <tr>\n",
              "      <td>0</td>\n",
              "      <td>5.133000</td>\n",
              "      <td>4.164947</td>\n",
              "    </tr>\n",
              "  </tbody>\n",
              "</table><p>"
            ]
          },
          "metadata": {}
        },
        {
          "output_type": "stream",
          "name": "stderr",
          "text": [
            "<ipython-input-10-46a9faf1de2f>:42: FutureWarning: `tokenizer` is deprecated and will be removed in version 5.0.0 for `Trainer.__init__`. Use `processing_class` instead.\n",
            "  trainer = Trainer(\n"
          ]
        },
        {
          "output_type": "display_data",
          "data": {
            "text/plain": [
              "<IPython.core.display.HTML object>"
            ],
            "text/html": [
              "\n",
              "    <div>\n",
              "      \n",
              "      <progress value='33085' max='33085' style='width:300px; height:20px; vertical-align: middle;'></progress>\n",
              "      [33085/33085 45:53, Epoch 0/1]\n",
              "    </div>\n",
              "    <table border=\"1\" class=\"dataframe\">\n",
              "  <thead>\n",
              " <tr style=\"text-align: left;\">\n",
              "      <th>Epoch</th>\n",
              "      <th>Training Loss</th>\n",
              "      <th>Validation Loss</th>\n",
              "    </tr>\n",
              "  </thead>\n",
              "  <tbody>\n",
              "    <tr>\n",
              "      <td>0</td>\n",
              "      <td>5.090300</td>\n",
              "      <td>4.115246</td>\n",
              "    </tr>\n",
              "  </tbody>\n",
              "</table><p>"
            ]
          },
          "metadata": {}
        },
        {
          "output_type": "stream",
          "name": "stderr",
          "text": [
            "<ipython-input-10-46a9faf1de2f>:42: FutureWarning: `tokenizer` is deprecated and will be removed in version 5.0.0 for `Trainer.__init__`. Use `processing_class` instead.\n",
            "  trainer = Trainer(\n"
          ]
        },
        {
          "output_type": "display_data",
          "data": {
            "text/plain": [
              "<IPython.core.display.HTML object>"
            ],
            "text/html": [
              "\n",
              "    <div>\n",
              "      \n",
              "      <progress value='33085' max='33085' style='width:300px; height:20px; vertical-align: middle;'></progress>\n",
              "      [33085/33085 45:57, Epoch 0/1]\n",
              "    </div>\n",
              "    <table border=\"1\" class=\"dataframe\">\n",
              "  <thead>\n",
              " <tr style=\"text-align: left;\">\n",
              "      <th>Epoch</th>\n",
              "      <th>Training Loss</th>\n",
              "      <th>Validation Loss</th>\n",
              "    </tr>\n",
              "  </thead>\n",
              "  <tbody>\n",
              "    <tr>\n",
              "      <td>0</td>\n",
              "      <td>5.077600</td>\n",
              "      <td>4.097756</td>\n",
              "    </tr>\n",
              "  </tbody>\n",
              "</table><p>"
            ]
          },
          "metadata": {}
        },
        {
          "output_type": "stream",
          "name": "stderr",
          "text": [
            "<ipython-input-10-46a9faf1de2f>:42: FutureWarning: `tokenizer` is deprecated and will be removed in version 5.0.0 for `Trainer.__init__`. Use `processing_class` instead.\n",
            "  trainer = Trainer(\n"
          ]
        },
        {
          "output_type": "display_data",
          "data": {
            "text/plain": [
              "<IPython.core.display.HTML object>"
            ],
            "text/html": [
              "\n",
              "    <div>\n",
              "      \n",
              "      <progress value='33085' max='33085' style='width:300px; height:20px; vertical-align: middle;'></progress>\n",
              "      [33085/33085 46:09, Epoch 0/1]\n",
              "    </div>\n",
              "    <table border=\"1\" class=\"dataframe\">\n",
              "  <thead>\n",
              " <tr style=\"text-align: left;\">\n",
              "      <th>Epoch</th>\n",
              "      <th>Training Loss</th>\n",
              "      <th>Validation Loss</th>\n",
              "    </tr>\n",
              "  </thead>\n",
              "  <tbody>\n",
              "    <tr>\n",
              "      <td>0</td>\n",
              "      <td>5.081500</td>\n",
              "      <td>4.105257</td>\n",
              "    </tr>\n",
              "  </tbody>\n",
              "</table><p>"
            ]
          },
          "metadata": {}
        },
        {
          "output_type": "stream",
          "name": "stderr",
          "text": [
            "<ipython-input-10-46a9faf1de2f>:42: FutureWarning: `tokenizer` is deprecated and will be removed in version 5.0.0 for `Trainer.__init__`. Use `processing_class` instead.\n",
            "  trainer = Trainer(\n"
          ]
        },
        {
          "output_type": "display_data",
          "data": {
            "text/plain": [
              "<IPython.core.display.HTML object>"
            ],
            "text/html": [
              "\n",
              "    <div>\n",
              "      \n",
              "      <progress value='33085' max='33085' style='width:300px; height:20px; vertical-align: middle;'></progress>\n",
              "      [33085/33085 46:15, Epoch 0/1]\n",
              "    </div>\n",
              "    <table border=\"1\" class=\"dataframe\">\n",
              "  <thead>\n",
              " <tr style=\"text-align: left;\">\n",
              "      <th>Epoch</th>\n",
              "      <th>Training Loss</th>\n",
              "      <th>Validation Loss</th>\n",
              "    </tr>\n",
              "  </thead>\n",
              "  <tbody>\n",
              "    <tr>\n",
              "      <td>0</td>\n",
              "      <td>5.112800</td>\n",
              "      <td>4.127924</td>\n",
              "    </tr>\n",
              "  </tbody>\n",
              "</table><p>"
            ]
          },
          "metadata": {}
        },
        {
          "output_type": "stream",
          "name": "stderr",
          "text": [
            "<ipython-input-10-46a9faf1de2f>:42: FutureWarning: `tokenizer` is deprecated and will be removed in version 5.0.0 for `Trainer.__init__`. Use `processing_class` instead.\n",
            "  trainer = Trainer(\n"
          ]
        },
        {
          "output_type": "display_data",
          "data": {
            "text/plain": [
              "<IPython.core.display.HTML object>"
            ],
            "text/html": [
              "\n",
              "    <div>\n",
              "      \n",
              "      <progress value='33085' max='33085' style='width:300px; height:20px; vertical-align: middle;'></progress>\n",
              "      [33085/33085 46:45, Epoch 0/1]\n",
              "    </div>\n",
              "    <table border=\"1\" class=\"dataframe\">\n",
              "  <thead>\n",
              " <tr style=\"text-align: left;\">\n",
              "      <th>Epoch</th>\n",
              "      <th>Training Loss</th>\n",
              "      <th>Validation Loss</th>\n",
              "    </tr>\n",
              "  </thead>\n",
              "  <tbody>\n",
              "    <tr>\n",
              "      <td>0</td>\n",
              "      <td>5.152400</td>\n",
              "      <td>4.155162</td>\n",
              "    </tr>\n",
              "  </tbody>\n",
              "</table><p>"
            ]
          },
          "metadata": {}
        },
        {
          "output_type": "stream",
          "name": "stderr",
          "text": [
            "<ipython-input-10-46a9faf1de2f>:42: FutureWarning: `tokenizer` is deprecated and will be removed in version 5.0.0 for `Trainer.__init__`. Use `processing_class` instead.\n",
            "  trainer = Trainer(\n"
          ]
        },
        {
          "output_type": "display_data",
          "data": {
            "text/plain": [
              "<IPython.core.display.HTML object>"
            ],
            "text/html": [
              "\n",
              "    <div>\n",
              "      \n",
              "      <progress value='33085' max='33085' style='width:300px; height:20px; vertical-align: middle;'></progress>\n",
              "      [33085/33085 46:48, Epoch 0/1]\n",
              "    </div>\n",
              "    <table border=\"1\" class=\"dataframe\">\n",
              "  <thead>\n",
              " <tr style=\"text-align: left;\">\n",
              "      <th>Epoch</th>\n",
              "      <th>Training Loss</th>\n",
              "      <th>Validation Loss</th>\n",
              "    </tr>\n",
              "  </thead>\n",
              "  <tbody>\n",
              "    <tr>\n",
              "      <td>0</td>\n",
              "      <td>5.187100</td>\n",
              "      <td>4.179324</td>\n",
              "    </tr>\n",
              "  </tbody>\n",
              "</table><p>"
            ]
          },
          "metadata": {}
        }
      ]
    },
    {
      "cell_type": "code",
      "source": [
        "# # Epochs 6-10\n",
        "# config = RobertaConfig(\n",
        "#     vocab_size=20480,\n",
        "#     num_hidden_layers=6,\n",
        "#     max_position_embeddings=514,\n",
        "#     num_attention_heads=8,\n",
        "#     type_vocab_size=1,\n",
        "#     intermediate_size=3072,\n",
        "#     layer_norm_eps = 1e-05,\n",
        "#     hidden_size=256,\n",
        "#     initializer_range=0.02,\n",
        "#     classifier_dropout = None,\n",
        "#     hidden_act=\"gelu\",\n",
        "#     position_embedding_type= \"absolute\",\n",
        "#     hidden_dropout_prob= 0.1,\n",
        "#     attention_probs_dropout_prob= 0.1,\n",
        "# )\n",
        "\n",
        "# epochs_start = 5\n",
        "# epochs = 5\n",
        "# batch_size = 32\n",
        "\n",
        "# train_baby_lm(config, tokenizer_folder, train_dataset, eval_dataset, epochs_start, epochs, batch_size)"
      ],
      "metadata": {
        "id": "jGn3Bp_-ywwg"
      },
      "execution_count": null,
      "outputs": []
    },
    {
      "cell_type": "markdown",
      "source": [
        "## BLiMP Evaluation for Epoch 5"
      ],
      "metadata": {
        "id": "q0J3NNwdac3C"
      }
    },
    {
      "cell_type": "code",
      "source": [
        "!cp -r \"/content/drive/MyDrive/VU Thesis/Code/BliMP_eval_code/evaluation-pipeline\" \"/content/\""
      ],
      "metadata": {
        "id": "ZPR0rs54ageo"
      },
      "execution_count": null,
      "outputs": []
    },
    {
      "cell_type": "code",
      "source": [
        "!cp -r \"/content/drive/MyDrive/VU Thesis/Code/BliMP_eval_code/lm_eval\" \"/content/\""
      ],
      "metadata": {
        "id": "s18aZ9f0btoZ",
        "colab": {
          "base_uri": "https://localhost:8080/"
        },
        "outputId": "08e1bb3e-36be-444c-ccb6-97f7cf75cefb"
      },
      "execution_count": null,
      "outputs": [
        {
          "output_type": "stream",
          "name": "stdout",
          "text": [
            "^C\n"
          ]
        }
      ]
    },
    {
      "cell_type": "code",
      "source": [
        "!mkdir model_folder\n",
        "\n",
        "!cp \"/content/drive/MyDrive/VU Thesis/Code/seeds_experiment/V20L4/seed_354/model_s354_e5_v20_l4/config.json\" \"/content/model_folder\"\n",
        "!cp \"/content/drive/MyDrive/VU Thesis/Code/seeds_experiment/V20L4/seed_354/model_s354_e5_v20_l4/merges.txt\" \"/content/model_folder\"\n",
        "!cp \"/content/drive/MyDrive/VU Thesis/Code/seeds_experiment/V20L4/seed_354/model_s354_e5_v20_l4/model.safetensors\" \"/content/model_folder\"\n",
        "!cp \"/content/drive/MyDrive/VU Thesis/Code/seeds_experiment/V20L4/seed_354/model_s354_e5_v20_l4/special_tokens_map.json\" \"/content/model_folder\"\n",
        "!cp \"/content/drive/MyDrive/VU Thesis/Code/seeds_experiment/V20L4/seed_354/model_s354_e5_v20_l4/tokenizer.json\" \"/content/model_folder\"\n",
        "!cp \"/content/drive/MyDrive/VU Thesis/Code/seeds_experiment/V20L4/seed_354/model_s354_e5_v20_l4/tokenizer_config.json\" \"/content/model_folder\"\n",
        "!cp \"/content/drive/MyDrive/VU Thesis/Code/seeds_experiment/V20L4/seed_354/model_s354_e5_v20_l4/training_args.bin\" \"/content/model_folder\"\n",
        "!cp \"/content/drive/MyDrive/VU Thesis/Code/seeds_experiment/V20L4/seed_354/model_s354_e5_v20_l4/vocab.json\" \"/content/model_folder\""
      ],
      "metadata": {
        "id": "5EdBLVsfbnbu"
      },
      "execution_count": null,
      "outputs": []
    },
    {
      "cell_type": "code",
      "source": [
        "#@title Setup script { display-mode: \"form\" }\n",
        "#@markdown Run this cell to install the necessary packages (may take a few minutes).\n",
        "%%shell\n",
        "# Remove previous installation if it exists\n",
        "cd /content\n",
        "# mkdir model_folder\n",
        "pip uninstall -y lm-eval\n",
        "# rm -rf evaluation-pipeline/\n",
        "\n",
        "# Install evaluation-pipeline\n",
        "# cp -r /content/drive/MyDrive/VU Thesis/Code/BliMP_eval_code/evaluation-pipeline /content/\n",
        "cd evaluation-pipeline/\n",
        "pip install -e \".[colab]\"\n",
        "# Install other necessary packages\n",
        "pip install torch==1.11.0+cu113 torchvision==0.12.0+cu113 torchaudio==0.11.0 --extra-index-url https://download.pytorch.org/whl/cu113\n",
        "\n",
        "# Unpack dataset\n",
        "# unzip filter_data.zip"
      ],
      "metadata": {
        "id": "VcKAHtFpbwgb"
      },
      "execution_count": null,
      "outputs": []
    },
    {
      "cell_type": "code",
      "source": [
        "!pip install sacrebleu"
      ],
      "metadata": {
        "id": "nP_CtLXNbz0U"
      },
      "execution_count": null,
      "outputs": []
    },
    {
      "cell_type": "code",
      "source": [
        "!pip install datasets"
      ],
      "metadata": {
        "id": "WoPl0Ubub1zD"
      },
      "execution_count": null,
      "outputs": []
    },
    {
      "cell_type": "code",
      "source": [
        "!pip install rouge_score"
      ],
      "metadata": {
        "id": "Ttj2qGrIb3ak"
      },
      "execution_count": null,
      "outputs": []
    },
    {
      "cell_type": "code",
      "source": [
        "!pip install lm_eval"
      ],
      "metadata": {
        "id": "9XAVOPX_b4xZ"
      },
      "execution_count": null,
      "outputs": []
    },
    {
      "cell_type": "code",
      "source": [
        "#@title Load model and evaluate (BLiMP) { display-mode: \"form\" }\n",
        "model = \"/content/model_folder/\" #@param {\"type\": \"string\"}\n",
        "model_type = \"encoder\" #@param [\"decoder\", \"encoder\", \"encoder-decoder\"]\n",
        "# file_name = \"examples3.csv\" #@param {\"type\": \"string\"}\n",
        "# model_names = [\"opt-125m\", \"opt-350m\", \"opt-1.3b\", \"opt-2.7b\"] #@param {\"type\": \"raw\"}\n",
        "\n",
        "%cd /content/evaluation-pipeline\n",
        "%run /content/evaluation-pipeline/babylm_eval.py \\\n",
        "  \"$model\" \\\n",
        "  \"$model_type\" \\\n",
        "  -t \"blimp\""
      ],
      "metadata": {
        "id": "ZkLlbEO8b9SY"
      },
      "execution_count": null,
      "outputs": []
    },
    {
      "cell_type": "code",
      "source": [
        "!cp -r \"/content/model_folder/zeroshot\" \"/content/drive/MyDrive/VU Thesis/Code/seeds_experiment/V20L4/seed_354/model_s354_e5_v20_l4\""
      ],
      "metadata": {
        "id": "QUY6rGfRdHth"
      },
      "execution_count": null,
      "outputs": []
    },
    {
      "cell_type": "markdown",
      "source": [
        "## BLiMP Evaluation for Epoch 10"
      ],
      "metadata": {
        "id": "K4K9n93EGR2l"
      }
    },
    {
      "cell_type": "code",
      "source": [
        "!cp -r \"/content/drive/MyDrive/VU Thesis/Code/BliMP_eval_code/evaluation-pipeline\" \"/content/\""
      ],
      "metadata": {
        "id": "4U91WRE-GR2l"
      },
      "execution_count": null,
      "outputs": []
    },
    {
      "cell_type": "code",
      "source": [
        "!cp -r \"/content/drive/MyDrive/VU Thesis/Code/BliMP_eval_code/lm_eval\" \"/content/\""
      ],
      "metadata": {
        "id": "_M3FeKONGR2m"
      },
      "execution_count": null,
      "outputs": []
    },
    {
      "cell_type": "code",
      "source": [
        "!mkdir model_folder\n",
        "\n",
        "!cp \"/content/drive/MyDrive/VU Thesis/Code/seeds_experiment/V20L4/seed_354/model_s354_e10_v20_l4/config.json\" \"/content/model_folder\"\n",
        "!cp \"/content/drive/MyDrive/VU Thesis/Code/seeds_experiment/V20L4/seed_354/model_s354_e10_v20_l4/merges.txt\" \"/content/model_folder\"\n",
        "!cp \"/content/drive/MyDrive/VU Thesis/Code/seeds_experiment/V20L4/seed_354/model_s354_e10_v20_l4/model.safetensors\" \"/content/model_folder\"\n",
        "!cp \"/content/drive/MyDrive/VU Thesis/Code/seeds_experiment/V20L4/seed_354/model_s354_e10_v20_l4/special_tokens_map.json\" \"/content/model_folder\"\n",
        "!cp \"/content/drive/MyDrive/VU Thesis/Code/seeds_experiment/V20L4/seed_354/model_s354_e10_v20_l4/tokenizer.json\" \"/content/model_folder\"\n",
        "!cp \"/content/drive/MyDrive/VU Thesis/Code/seeds_experiment/V20L4/seed_354/model_s354_e10_v20_l4/tokenizer_config.json\" \"/content/model_folder\"\n",
        "!cp \"/content/drive/MyDrive/VU Thesis/Code/seeds_experiment/V20L4/seed_354/model_s354_e10_v20_l4/training_args.bin\" \"/content/model_folder\"\n",
        "!cp \"/content/drive/MyDrive/VU Thesis/Code/seeds_experiment/V20L4/seed_354/model_s354_e10_v20_l4/vocab.json\" \"/content/model_folder\""
      ],
      "metadata": {
        "id": "i230rxvUGR2m",
        "colab": {
          "base_uri": "https://localhost:8080/"
        },
        "outputId": "055a7841-4da1-4d95-919a-a0ca3860c4d8"
      },
      "execution_count": null,
      "outputs": [
        {
          "output_type": "stream",
          "name": "stdout",
          "text": [
            "mkdir: cannot create directory ‘model_folder’: File exists\n"
          ]
        }
      ]
    },
    {
      "cell_type": "code",
      "source": [
        "#@title Setup script { display-mode: \"form\" }\n",
        "#@markdown Run this cell to install the necessary packages (may take a few minutes).\n",
        "%%shell\n",
        "# Remove previous installation if it exists\n",
        "cd /content\n",
        "# mkdir model_folder\n",
        "pip uninstall -y lm-eval\n",
        "# rm -rf evaluation-pipeline/\n",
        "\n",
        "# Install evaluation-pipeline\n",
        "# cp -r /content/drive/MyDrive/VU Thesis/Code/BliMP_eval_code/evaluation-pipeline /content/\n",
        "cd evaluation-pipeline/\n",
        "pip install -e \".[colab]\"\n",
        "# Install other necessary packages\n",
        "pip install torch==1.11.0+cu113 torchvision==0.12.0+cu113 torchaudio==0.11.0 --extra-index-url https://download.pytorch.org/whl/cu113\n",
        "\n",
        "# Unpack dataset\n",
        "# unzip filter_data.zip"
      ],
      "metadata": {
        "id": "dcxirSJ6GR2m",
        "colab": {
          "base_uri": "https://localhost:8080/",
          "height": 1000
        },
        "outputId": "900ad546-03a4-4e12-c3df-8229f21c5fbc"
      },
      "execution_count": null,
      "outputs": [
        {
          "output_type": "stream",
          "name": "stdout",
          "text": [
            "\u001b[33mWARNING: Skipping lm-eval as it is not installed.\u001b[0m\u001b[33m\n",
            "\u001b[0mObtaining file:///content/evaluation-pipeline\n",
            "  Preparing metadata (setup.py) ... \u001b[?25l\u001b[?25hdone\n",
            "Collecting accelerate@ git+https://github.com/huggingface/accelerate@main (from lm_eval==0.2.0)\n",
            "  Cloning https://github.com/huggingface/accelerate (to revision main) to /tmp/pip-install-p8qsvh7v/accelerate_a1cb8a585b764384b18e1744b7562c1f\n",
            "  Running command git clone --filter=blob:none --quiet https://github.com/huggingface/accelerate /tmp/pip-install-p8qsvh7v/accelerate_a1cb8a585b764384b18e1744b7562c1f\n",
            "  Resolved https://github.com/huggingface/accelerate to commit 39e2bebb12bc0b9996a523e65e4e201198620f86\n",
            "  Installing build dependencies ... \u001b[?25l\u001b[?25hdone\n",
            "  Getting requirements to build wheel ... \u001b[?25l\u001b[?25hdone\n",
            "  Preparing metadata (pyproject.toml) ... \u001b[?25l\u001b[?25hdone\n",
            "Collecting datasets>=2.0.0 (from lm_eval==0.2.0)\n",
            "  Downloading datasets-3.5.1-py3-none-any.whl.metadata (19 kB)\n",
            "Collecting nltk==3.6 (from lm_eval==0.2.0)\n",
            "  Downloading nltk-3.6-py3-none-any.whl.metadata (2.9 kB)\n",
            "Collecting openai==0.13.0 (from lm_eval==0.2.0)\n",
            "  Downloading openai-0.13.0.tar.gz (37 kB)\n",
            "  Preparing metadata (setup.py) ... \u001b[?25l\u001b[?25hdone\n",
            "Collecting pycountry==20.7.3 (from lm_eval==0.2.0)\n",
            "  Downloading pycountry-20.7.3.tar.gz (10.1 MB)\n",
            "\u001b[2K     \u001b[90m━━━━━━━━━━━━━━━━━━━━━━━━━━━━━━━━━━━━━━━\u001b[0m \u001b[32m10.1/10.1 MB\u001b[0m \u001b[31m120.6 MB/s\u001b[0m eta \u001b[36m0:00:00\u001b[0m\n",
            "\u001b[?25h  Preparing metadata (setup.py) ... \u001b[?25l\u001b[?25hdone\n",
            "Collecting pytablewriter==0.58.0 (from lm_eval==0.2.0)\n",
            "  Downloading pytablewriter-0.58.0-py3-none-any.whl.metadata (31 kB)\n",
            "Collecting rouge-score==0.0.4 (from lm_eval==0.2.0)\n",
            "  Downloading rouge_score-0.0.4-py2.py3-none-any.whl.metadata (3.8 kB)\n",
            "Collecting sacrebleu==1.5.0 (from lm_eval==0.2.0)\n",
            "  Downloading sacrebleu-1.5.0-py3-none-any.whl.metadata (1.3 kB)\n",
            "Requirement already satisfied: scikit-learn>=0.24.1 in /usr/local/lib/python3.11/dist-packages (from lm_eval==0.2.0) (1.6.1)\n",
            "Collecting sqlitedict==1.6.0 (from lm_eval==0.2.0)\n",
            "  Downloading sqlitedict-1.6.0.tar.gz (29 kB)\n",
            "  Preparing metadata (setup.py) ... \u001b[?25l\u001b[?25hdone\n",
            "INFO: pip is looking at multiple versions of lm-eval to determine which version is compatible with other requirements. This could take a while.\n",
            "\u001b[31mERROR: Could not find a version that satisfies the requirement torch==1.11.0 (from lm-eval) (from versions: 1.13.0, 1.13.1, 2.0.0, 2.0.1, 2.1.0, 2.1.1, 2.1.2, 2.2.0, 2.2.1, 2.2.2, 2.3.0, 2.3.1, 2.4.0, 2.4.1, 2.5.0, 2.5.1, 2.6.0, 2.7.0)\u001b[0m\u001b[31m\n",
            "\u001b[0m\u001b[31mERROR: No matching distribution found for torch==1.11.0\u001b[0m\u001b[31m\n",
            "\u001b[0mLooking in indexes: https://pypi.org/simple, https://download.pytorch.org/whl/cu113\n",
            "\u001b[31mERROR: Could not find a version that satisfies the requirement torch==1.11.0+cu113 (from versions: 1.13.0, 1.13.1, 2.0.0, 2.0.1, 2.1.0, 2.1.1, 2.1.2, 2.2.0, 2.2.1, 2.2.2, 2.3.0, 2.3.1, 2.4.0, 2.4.1, 2.5.0, 2.5.1, 2.6.0, 2.7.0)\u001b[0m\u001b[31m\n",
            "\u001b[0m\u001b[31mERROR: No matching distribution found for torch==1.11.0+cu113\u001b[0m\u001b[31m\n",
            "\u001b[0m"
          ]
        },
        {
          "output_type": "error",
          "ename": "CalledProcessError",
          "evalue": "Command '# Remove previous installation if it exists\ncd /content\n# mkdir model_folder\npip uninstall -y lm-eval\n# rm -rf evaluation-pipeline/\n\n# Install evaluation-pipeline\n# cp -r /content/drive/MyDrive/VU Thesis/Code/BliMP_eval_code/evaluation-pipeline /content/\ncd evaluation-pipeline/\npip install -e \".[colab]\"\n# Install other necessary packages\npip install torch==1.11.0+cu113 torchvision==0.12.0+cu113 torchaudio==0.11.0 --extra-index-url https://download.pytorch.org/whl/cu113\n\n# Unpack dataset\n# unzip filter_data.zip\n' returned non-zero exit status 1.",
          "traceback": [
            "\u001b[0;31m---------------------------------------------------------------------------\u001b[0m",
            "\u001b[0;31mCalledProcessError\u001b[0m                        Traceback (most recent call last)",
            "\u001b[0;32m<ipython-input-9-655be3614e85>\u001b[0m in \u001b[0;36m<cell line: 0>\u001b[0;34m()\u001b[0m\n\u001b[0;32m----> 1\u001b[0;31m \u001b[0mget_ipython\u001b[0m\u001b[0;34m(\u001b[0m\u001b[0;34m)\u001b[0m\u001b[0;34m.\u001b[0m\u001b[0mrun_cell_magic\u001b[0m\u001b[0;34m(\u001b[0m\u001b[0;34m'shell'\u001b[0m\u001b[0;34m,\u001b[0m \u001b[0;34m''\u001b[0m\u001b[0;34m,\u001b[0m \u001b[0;34m'# Remove previous installation if it exists\\ncd /content\\n# mkdir model_folder\\npip uninstall -y lm-eval\\n# rm -rf evaluation-pipeline/\\n\\n# Install evaluation-pipeline\\n# cp -r /content/drive/MyDrive/VU Thesis/Code/BliMP_eval_code/evaluation-pipeline /content/\\ncd evaluation-pipeline/\\npip install -e \".[colab]\"\\n# Install other necessary packages\\npip install torch==1.11.0+cu113 torchvision==0.12.0+cu113 torchaudio==0.11.0 --extra-index-url https://download.pytorch.org/whl/cu113\\n\\n# Unpack dataset\\n# unzip filter_data.zip\\n'\u001b[0m\u001b[0;34m)\u001b[0m\u001b[0;34m\u001b[0m\u001b[0;34m\u001b[0m\u001b[0m\n\u001b[0m",
            "\u001b[0;32m/usr/local/lib/python3.11/dist-packages/google/colab/_shell.py\u001b[0m in \u001b[0;36mrun_cell_magic\u001b[0;34m(self, magic_name, line, cell)\u001b[0m\n\u001b[1;32m    356\u001b[0m     \u001b[0;32mif\u001b[0m \u001b[0mline\u001b[0m \u001b[0;32mand\u001b[0m \u001b[0;32mnot\u001b[0m \u001b[0mcell\u001b[0m\u001b[0;34m:\u001b[0m\u001b[0;34m\u001b[0m\u001b[0;34m\u001b[0m\u001b[0m\n\u001b[1;32m    357\u001b[0m       \u001b[0mcell\u001b[0m \u001b[0;34m=\u001b[0m \u001b[0;34m' '\u001b[0m\u001b[0;34m\u001b[0m\u001b[0;34m\u001b[0m\u001b[0m\n\u001b[0;32m--> 358\u001b[0;31m     \u001b[0;32mreturn\u001b[0m \u001b[0msuper\u001b[0m\u001b[0;34m(\u001b[0m\u001b[0;34m)\u001b[0m\u001b[0;34m.\u001b[0m\u001b[0mrun_cell_magic\u001b[0m\u001b[0;34m(\u001b[0m\u001b[0mmagic_name\u001b[0m\u001b[0;34m,\u001b[0m \u001b[0mline\u001b[0m\u001b[0;34m,\u001b[0m \u001b[0mcell\u001b[0m\u001b[0;34m)\u001b[0m\u001b[0;34m\u001b[0m\u001b[0;34m\u001b[0m\u001b[0m\n\u001b[0m\u001b[1;32m    359\u001b[0m \u001b[0;34m\u001b[0m\u001b[0m\n\u001b[1;32m    360\u001b[0m \u001b[0;34m\u001b[0m\u001b[0m\n",
            "\u001b[0;32m/usr/local/lib/python3.11/dist-packages/IPython/core/interactiveshell.py\u001b[0m in \u001b[0;36mrun_cell_magic\u001b[0;34m(self, magic_name, line, cell)\u001b[0m\n\u001b[1;32m   2471\u001b[0m             \u001b[0;32mwith\u001b[0m \u001b[0mself\u001b[0m\u001b[0;34m.\u001b[0m\u001b[0mbuiltin_trap\u001b[0m\u001b[0;34m:\u001b[0m\u001b[0;34m\u001b[0m\u001b[0;34m\u001b[0m\u001b[0m\n\u001b[1;32m   2472\u001b[0m                 \u001b[0margs\u001b[0m \u001b[0;34m=\u001b[0m \u001b[0;34m(\u001b[0m\u001b[0mmagic_arg_s\u001b[0m\u001b[0;34m,\u001b[0m \u001b[0mcell\u001b[0m\u001b[0;34m)\u001b[0m\u001b[0;34m\u001b[0m\u001b[0;34m\u001b[0m\u001b[0m\n\u001b[0;32m-> 2473\u001b[0;31m                 \u001b[0mresult\u001b[0m \u001b[0;34m=\u001b[0m \u001b[0mfn\u001b[0m\u001b[0;34m(\u001b[0m\u001b[0;34m*\u001b[0m\u001b[0margs\u001b[0m\u001b[0;34m,\u001b[0m \u001b[0;34m**\u001b[0m\u001b[0mkwargs\u001b[0m\u001b[0;34m)\u001b[0m\u001b[0;34m\u001b[0m\u001b[0;34m\u001b[0m\u001b[0m\n\u001b[0m\u001b[1;32m   2474\u001b[0m             \u001b[0;32mreturn\u001b[0m \u001b[0mresult\u001b[0m\u001b[0;34m\u001b[0m\u001b[0;34m\u001b[0m\u001b[0m\n\u001b[1;32m   2475\u001b[0m \u001b[0;34m\u001b[0m\u001b[0m\n",
            "\u001b[0;32m/usr/local/lib/python3.11/dist-packages/google/colab/_system_commands.py\u001b[0m in \u001b[0;36m_shell_cell_magic\u001b[0;34m(args, cmd)\u001b[0m\n\u001b[1;32m    110\u001b[0m   \u001b[0mresult\u001b[0m \u001b[0;34m=\u001b[0m \u001b[0m_run_command\u001b[0m\u001b[0;34m(\u001b[0m\u001b[0mcmd\u001b[0m\u001b[0;34m,\u001b[0m \u001b[0mclear_streamed_output\u001b[0m\u001b[0;34m=\u001b[0m\u001b[0;32mFalse\u001b[0m\u001b[0;34m)\u001b[0m\u001b[0;34m\u001b[0m\u001b[0;34m\u001b[0m\u001b[0m\n\u001b[1;32m    111\u001b[0m   \u001b[0;32mif\u001b[0m \u001b[0;32mnot\u001b[0m \u001b[0mparsed_args\u001b[0m\u001b[0;34m.\u001b[0m\u001b[0mignore_errors\u001b[0m\u001b[0;34m:\u001b[0m\u001b[0;34m\u001b[0m\u001b[0;34m\u001b[0m\u001b[0m\n\u001b[0;32m--> 112\u001b[0;31m     \u001b[0mresult\u001b[0m\u001b[0;34m.\u001b[0m\u001b[0mcheck_returncode\u001b[0m\u001b[0;34m(\u001b[0m\u001b[0;34m)\u001b[0m\u001b[0;34m\u001b[0m\u001b[0;34m\u001b[0m\u001b[0m\n\u001b[0m\u001b[1;32m    113\u001b[0m   \u001b[0;32mreturn\u001b[0m \u001b[0mresult\u001b[0m\u001b[0;34m\u001b[0m\u001b[0;34m\u001b[0m\u001b[0m\n\u001b[1;32m    114\u001b[0m \u001b[0;34m\u001b[0m\u001b[0m\n",
            "\u001b[0;32m/usr/local/lib/python3.11/dist-packages/google/colab/_system_commands.py\u001b[0m in \u001b[0;36mcheck_returncode\u001b[0;34m(self)\u001b[0m\n\u001b[1;32m    135\u001b[0m   \u001b[0;32mdef\u001b[0m \u001b[0mcheck_returncode\u001b[0m\u001b[0;34m(\u001b[0m\u001b[0mself\u001b[0m\u001b[0;34m)\u001b[0m\u001b[0;34m:\u001b[0m\u001b[0;34m\u001b[0m\u001b[0;34m\u001b[0m\u001b[0m\n\u001b[1;32m    136\u001b[0m     \u001b[0;32mif\u001b[0m \u001b[0mself\u001b[0m\u001b[0;34m.\u001b[0m\u001b[0mreturncode\u001b[0m\u001b[0;34m:\u001b[0m\u001b[0;34m\u001b[0m\u001b[0;34m\u001b[0m\u001b[0m\n\u001b[0;32m--> 137\u001b[0;31m       raise subprocess.CalledProcessError(\n\u001b[0m\u001b[1;32m    138\u001b[0m           \u001b[0mreturncode\u001b[0m\u001b[0;34m=\u001b[0m\u001b[0mself\u001b[0m\u001b[0;34m.\u001b[0m\u001b[0mreturncode\u001b[0m\u001b[0;34m,\u001b[0m \u001b[0mcmd\u001b[0m\u001b[0;34m=\u001b[0m\u001b[0mself\u001b[0m\u001b[0;34m.\u001b[0m\u001b[0margs\u001b[0m\u001b[0;34m,\u001b[0m \u001b[0moutput\u001b[0m\u001b[0;34m=\u001b[0m\u001b[0mself\u001b[0m\u001b[0;34m.\u001b[0m\u001b[0moutput\u001b[0m\u001b[0;34m\u001b[0m\u001b[0;34m\u001b[0m\u001b[0m\n\u001b[1;32m    139\u001b[0m       )\n",
            "\u001b[0;31mCalledProcessError\u001b[0m: Command '# Remove previous installation if it exists\ncd /content\n# mkdir model_folder\npip uninstall -y lm-eval\n# rm -rf evaluation-pipeline/\n\n# Install evaluation-pipeline\n# cp -r /content/drive/MyDrive/VU Thesis/Code/BliMP_eval_code/evaluation-pipeline /content/\ncd evaluation-pipeline/\npip install -e \".[colab]\"\n# Install other necessary packages\npip install torch==1.11.0+cu113 torchvision==0.12.0+cu113 torchaudio==0.11.0 --extra-index-url https://download.pytorch.org/whl/cu113\n\n# Unpack dataset\n# unzip filter_data.zip\n' returned non-zero exit status 1."
          ]
        }
      ]
    },
    {
      "cell_type": "code",
      "source": [
        "!pip install sacrebleu"
      ],
      "metadata": {
        "id": "U07o7qSoGR2m",
        "colab": {
          "base_uri": "https://localhost:8080/"
        },
        "outputId": "0bc2700a-0bb1-44d6-f050-a27d6d6da72f"
      },
      "execution_count": null,
      "outputs": [
        {
          "output_type": "stream",
          "name": "stdout",
          "text": [
            "Collecting sacrebleu\n",
            "  Downloading sacrebleu-2.5.1-py3-none-any.whl.metadata (51 kB)\n",
            "\u001b[?25l     \u001b[90m━━━━━━━━━━━━━━━━━━━━━━━━━━━━━━━━━━━━━━━━\u001b[0m \u001b[32m0.0/51.8 kB\u001b[0m \u001b[31m?\u001b[0m eta \u001b[36m-:--:--\u001b[0m\r\u001b[2K     \u001b[90m━━━━━━━━━━━━━━━━━━━━━━━━━━━━━━━━━━━━━━━━\u001b[0m \u001b[32m51.8/51.8 kB\u001b[0m \u001b[31m4.4 MB/s\u001b[0m eta \u001b[36m0:00:00\u001b[0m\n",
            "\u001b[?25hCollecting portalocker (from sacrebleu)\n",
            "  Downloading portalocker-3.1.1-py3-none-any.whl.metadata (8.6 kB)\n",
            "Requirement already satisfied: regex in /usr/local/lib/python3.11/dist-packages (from sacrebleu) (2024.11.6)\n",
            "Requirement already satisfied: tabulate>=0.8.9 in /usr/local/lib/python3.11/dist-packages (from sacrebleu) (0.9.0)\n",
            "Requirement already satisfied: numpy>=1.17 in /usr/local/lib/python3.11/dist-packages (from sacrebleu) (2.0.2)\n",
            "Collecting colorama (from sacrebleu)\n",
            "  Downloading colorama-0.4.6-py2.py3-none-any.whl.metadata (17 kB)\n",
            "Requirement already satisfied: lxml in /usr/local/lib/python3.11/dist-packages (from sacrebleu) (5.4.0)\n",
            "Downloading sacrebleu-2.5.1-py3-none-any.whl (104 kB)\n",
            "\u001b[2K   \u001b[90m━━━━━━━━━━━━━━━━━━━━━━━━━━━━━━━━━━━━━━━━\u001b[0m \u001b[32m104.1/104.1 kB\u001b[0m \u001b[31m6.0 MB/s\u001b[0m eta \u001b[36m0:00:00\u001b[0m\n",
            "\u001b[?25hDownloading colorama-0.4.6-py2.py3-none-any.whl (25 kB)\n",
            "Downloading portalocker-3.1.1-py3-none-any.whl (19 kB)\n",
            "Installing collected packages: portalocker, colorama, sacrebleu\n",
            "Successfully installed colorama-0.4.6 portalocker-3.1.1 sacrebleu-2.5.1\n"
          ]
        }
      ]
    },
    {
      "cell_type": "code",
      "source": [
        "!pip install datasets"
      ],
      "metadata": {
        "id": "vXmdbm1sGR2n",
        "colab": {
          "base_uri": "https://localhost:8080/"
        },
        "outputId": "5e626b4a-ad0f-4545-8ede-867a0c6d74a2"
      },
      "execution_count": null,
      "outputs": [
        {
          "output_type": "stream",
          "name": "stdout",
          "text": [
            "Collecting datasets\n",
            "  Using cached datasets-3.5.1-py3-none-any.whl.metadata (19 kB)\n",
            "Requirement already satisfied: filelock in /usr/local/lib/python3.11/dist-packages (from datasets) (3.18.0)\n",
            "Requirement already satisfied: numpy>=1.17 in /usr/local/lib/python3.11/dist-packages (from datasets) (2.0.2)\n",
            "Requirement already satisfied: pyarrow>=15.0.0 in /usr/local/lib/python3.11/dist-packages (from datasets) (18.1.0)\n",
            "Collecting dill<0.3.9,>=0.3.0 (from datasets)\n",
            "  Downloading dill-0.3.8-py3-none-any.whl.metadata (10 kB)\n",
            "Requirement already satisfied: pandas in /usr/local/lib/python3.11/dist-packages (from datasets) (2.2.2)\n",
            "Requirement already satisfied: requests>=2.32.2 in /usr/local/lib/python3.11/dist-packages (from datasets) (2.32.3)\n",
            "Requirement already satisfied: tqdm>=4.66.3 in /usr/local/lib/python3.11/dist-packages (from datasets) (4.67.1)\n",
            "Collecting xxhash (from datasets)\n",
            "  Downloading xxhash-3.5.0-cp311-cp311-manylinux_2_17_x86_64.manylinux2014_x86_64.whl.metadata (12 kB)\n",
            "Collecting multiprocess<0.70.17 (from datasets)\n",
            "  Downloading multiprocess-0.70.16-py311-none-any.whl.metadata (7.2 kB)\n",
            "Collecting fsspec<=2025.3.0,>=2023.1.0 (from fsspec[http]<=2025.3.0,>=2023.1.0->datasets)\n",
            "  Downloading fsspec-2025.3.0-py3-none-any.whl.metadata (11 kB)\n",
            "Requirement already satisfied: aiohttp in /usr/local/lib/python3.11/dist-packages (from datasets) (3.11.15)\n",
            "Requirement already satisfied: huggingface-hub>=0.24.0 in /usr/local/lib/python3.11/dist-packages (from datasets) (0.30.2)\n",
            "Requirement already satisfied: packaging in /usr/local/lib/python3.11/dist-packages (from datasets) (24.2)\n",
            "Requirement already satisfied: pyyaml>=5.1 in /usr/local/lib/python3.11/dist-packages (from datasets) (6.0.2)\n",
            "Requirement already satisfied: aiohappyeyeballs>=2.3.0 in /usr/local/lib/python3.11/dist-packages (from aiohttp->datasets) (2.6.1)\n",
            "Requirement already satisfied: aiosignal>=1.1.2 in /usr/local/lib/python3.11/dist-packages (from aiohttp->datasets) (1.3.2)\n",
            "Requirement already satisfied: attrs>=17.3.0 in /usr/local/lib/python3.11/dist-packages (from aiohttp->datasets) (25.3.0)\n",
            "Requirement already satisfied: frozenlist>=1.1.1 in /usr/local/lib/python3.11/dist-packages (from aiohttp->datasets) (1.6.0)\n",
            "Requirement already satisfied: multidict<7.0,>=4.5 in /usr/local/lib/python3.11/dist-packages (from aiohttp->datasets) (6.4.3)\n",
            "Requirement already satisfied: propcache>=0.2.0 in /usr/local/lib/python3.11/dist-packages (from aiohttp->datasets) (0.3.1)\n",
            "Requirement already satisfied: yarl<2.0,>=1.17.0 in /usr/local/lib/python3.11/dist-packages (from aiohttp->datasets) (1.20.0)\n",
            "Requirement already satisfied: typing-extensions>=3.7.4.3 in /usr/local/lib/python3.11/dist-packages (from huggingface-hub>=0.24.0->datasets) (4.13.2)\n",
            "Requirement already satisfied: charset-normalizer<4,>=2 in /usr/local/lib/python3.11/dist-packages (from requests>=2.32.2->datasets) (3.4.1)\n",
            "Requirement already satisfied: idna<4,>=2.5 in /usr/local/lib/python3.11/dist-packages (from requests>=2.32.2->datasets) (3.10)\n",
            "Requirement already satisfied: urllib3<3,>=1.21.1 in /usr/local/lib/python3.11/dist-packages (from requests>=2.32.2->datasets) (2.4.0)\n",
            "Requirement already satisfied: certifi>=2017.4.17 in /usr/local/lib/python3.11/dist-packages (from requests>=2.32.2->datasets) (2025.1.31)\n",
            "Requirement already satisfied: python-dateutil>=2.8.2 in /usr/local/lib/python3.11/dist-packages (from pandas->datasets) (2.9.0.post0)\n",
            "Requirement already satisfied: pytz>=2020.1 in /usr/local/lib/python3.11/dist-packages (from pandas->datasets) (2025.2)\n",
            "Requirement already satisfied: tzdata>=2022.7 in /usr/local/lib/python3.11/dist-packages (from pandas->datasets) (2025.2)\n",
            "Requirement already satisfied: six>=1.5 in /usr/local/lib/python3.11/dist-packages (from python-dateutil>=2.8.2->pandas->datasets) (1.17.0)\n",
            "Downloading datasets-3.5.1-py3-none-any.whl (491 kB)\n",
            "\u001b[2K   \u001b[90m━━━━━━━━━━━━━━━━━━━━━━━━━━━━━━━━━━━━━━━━\u001b[0m \u001b[32m491.4/491.4 kB\u001b[0m \u001b[31m37.1 MB/s\u001b[0m eta \u001b[36m0:00:00\u001b[0m\n",
            "\u001b[?25hDownloading dill-0.3.8-py3-none-any.whl (116 kB)\n",
            "\u001b[2K   \u001b[90m━━━━━━━━━━━━━━━━━━━━━━━━━━━━━━━━━━━━━━━━\u001b[0m \u001b[32m116.3/116.3 kB\u001b[0m \u001b[31m12.9 MB/s\u001b[0m eta \u001b[36m0:00:00\u001b[0m\n",
            "\u001b[?25hDownloading fsspec-2025.3.0-py3-none-any.whl (193 kB)\n",
            "\u001b[2K   \u001b[90m━━━━━━━━━━━━━━━━━━━━━━━━━━━━━━━━━━━━━━━━\u001b[0m \u001b[32m193.6/193.6 kB\u001b[0m \u001b[31m19.2 MB/s\u001b[0m eta \u001b[36m0:00:00\u001b[0m\n",
            "\u001b[?25hDownloading multiprocess-0.70.16-py311-none-any.whl (143 kB)\n",
            "\u001b[2K   \u001b[90m━━━━━━━━━━━━━━━━━━━━━━━━━━━━━━━━━━━━━━━━\u001b[0m \u001b[32m143.5/143.5 kB\u001b[0m \u001b[31m13.9 MB/s\u001b[0m eta \u001b[36m0:00:00\u001b[0m\n",
            "\u001b[?25hDownloading xxhash-3.5.0-cp311-cp311-manylinux_2_17_x86_64.manylinux2014_x86_64.whl (194 kB)\n",
            "\u001b[2K   \u001b[90m━━━━━━━━━━━━━━━━━━━━━━━━━━━━━━━━━━━━━━━━\u001b[0m \u001b[32m194.8/194.8 kB\u001b[0m \u001b[31m18.8 MB/s\u001b[0m eta \u001b[36m0:00:00\u001b[0m\n",
            "\u001b[?25hInstalling collected packages: xxhash, fsspec, dill, multiprocess, datasets\n",
            "  Attempting uninstall: fsspec\n",
            "    Found existing installation: fsspec 2025.3.2\n",
            "    Uninstalling fsspec-2025.3.2:\n",
            "      Successfully uninstalled fsspec-2025.3.2\n",
            "\u001b[31mERROR: pip's dependency resolver does not currently take into account all the packages that are installed. This behaviour is the source of the following dependency conflicts.\n",
            "torch 2.6.0+cu124 requires nvidia-cublas-cu12==12.4.5.8; platform_system == \"Linux\" and platform_machine == \"x86_64\", but you have nvidia-cublas-cu12 12.5.3.2 which is incompatible.\n",
            "torch 2.6.0+cu124 requires nvidia-cuda-cupti-cu12==12.4.127; platform_system == \"Linux\" and platform_machine == \"x86_64\", but you have nvidia-cuda-cupti-cu12 12.5.82 which is incompatible.\n",
            "torch 2.6.0+cu124 requires nvidia-cuda-nvrtc-cu12==12.4.127; platform_system == \"Linux\" and platform_machine == \"x86_64\", but you have nvidia-cuda-nvrtc-cu12 12.5.82 which is incompatible.\n",
            "torch 2.6.0+cu124 requires nvidia-cuda-runtime-cu12==12.4.127; platform_system == \"Linux\" and platform_machine == \"x86_64\", but you have nvidia-cuda-runtime-cu12 12.5.82 which is incompatible.\n",
            "torch 2.6.0+cu124 requires nvidia-cudnn-cu12==9.1.0.70; platform_system == \"Linux\" and platform_machine == \"x86_64\", but you have nvidia-cudnn-cu12 9.3.0.75 which is incompatible.\n",
            "torch 2.6.0+cu124 requires nvidia-cufft-cu12==11.2.1.3; platform_system == \"Linux\" and platform_machine == \"x86_64\", but you have nvidia-cufft-cu12 11.2.3.61 which is incompatible.\n",
            "torch 2.6.0+cu124 requires nvidia-curand-cu12==10.3.5.147; platform_system == \"Linux\" and platform_machine == \"x86_64\", but you have nvidia-curand-cu12 10.3.6.82 which is incompatible.\n",
            "torch 2.6.0+cu124 requires nvidia-cusolver-cu12==11.6.1.9; platform_system == \"Linux\" and platform_machine == \"x86_64\", but you have nvidia-cusolver-cu12 11.6.3.83 which is incompatible.\n",
            "torch 2.6.0+cu124 requires nvidia-cusparse-cu12==12.3.1.170; platform_system == \"Linux\" and platform_machine == \"x86_64\", but you have nvidia-cusparse-cu12 12.5.1.3 which is incompatible.\n",
            "torch 2.6.0+cu124 requires nvidia-nvjitlink-cu12==12.4.127; platform_system == \"Linux\" and platform_machine == \"x86_64\", but you have nvidia-nvjitlink-cu12 12.5.82 which is incompatible.\n",
            "gcsfs 2025.3.2 requires fsspec==2025.3.2, but you have fsspec 2025.3.0 which is incompatible.\u001b[0m\u001b[31m\n",
            "\u001b[0mSuccessfully installed datasets-3.5.1 dill-0.3.8 fsspec-2025.3.0 multiprocess-0.70.16 xxhash-3.5.0\n"
          ]
        }
      ]
    },
    {
      "cell_type": "code",
      "source": [
        "!pip install rouge_score"
      ],
      "metadata": {
        "id": "_D9zv8xdGR2n",
        "colab": {
          "base_uri": "https://localhost:8080/"
        },
        "outputId": "751cf51c-8424-4b0e-e424-a112118fb8fd"
      },
      "execution_count": null,
      "outputs": [
        {
          "output_type": "stream",
          "name": "stdout",
          "text": [
            "Collecting rouge_score\n",
            "  Downloading rouge_score-0.1.2.tar.gz (17 kB)\n",
            "  Preparing metadata (setup.py) ... \u001b[?25l\u001b[?25hdone\n",
            "Requirement already satisfied: absl-py in /usr/local/lib/python3.11/dist-packages (from rouge_score) (1.4.0)\n",
            "Requirement already satisfied: nltk in /usr/local/lib/python3.11/dist-packages (from rouge_score) (3.9.1)\n",
            "Requirement already satisfied: numpy in /usr/local/lib/python3.11/dist-packages (from rouge_score) (2.0.2)\n",
            "Requirement already satisfied: six>=1.14.0 in /usr/local/lib/python3.11/dist-packages (from rouge_score) (1.17.0)\n",
            "Requirement already satisfied: click in /usr/local/lib/python3.11/dist-packages (from nltk->rouge_score) (8.1.8)\n",
            "Requirement already satisfied: joblib in /usr/local/lib/python3.11/dist-packages (from nltk->rouge_score) (1.4.2)\n",
            "Requirement already satisfied: regex>=2021.8.3 in /usr/local/lib/python3.11/dist-packages (from nltk->rouge_score) (2024.11.6)\n",
            "Requirement already satisfied: tqdm in /usr/local/lib/python3.11/dist-packages (from nltk->rouge_score) (4.67.1)\n",
            "Building wheels for collected packages: rouge_score\n",
            "  Building wheel for rouge_score (setup.py) ... \u001b[?25l\u001b[?25hdone\n",
            "  Created wheel for rouge_score: filename=rouge_score-0.1.2-py3-none-any.whl size=24934 sha256=32c6c31b0df10571970d5c7aebd109c994c6f4abae5d2815c3f0fd3717a7821d\n",
            "  Stored in directory: /root/.cache/pip/wheels/1e/19/43/8a442dc83660ca25e163e1bd1f89919284ab0d0c1475475148\n",
            "Successfully built rouge_score\n",
            "Installing collected packages: rouge_score\n",
            "Successfully installed rouge_score-0.1.2\n"
          ]
        }
      ]
    },
    {
      "cell_type": "code",
      "source": [
        "!pip install lm_eval"
      ],
      "metadata": {
        "id": "y0ieslOEGR2n",
        "colab": {
          "base_uri": "https://localhost:8080/"
        },
        "outputId": "ff811692-4403-4d8c-9d47-86933f403cd5"
      },
      "execution_count": null,
      "outputs": [
        {
          "output_type": "stream",
          "name": "stdout",
          "text": [
            "Collecting lm_eval\n",
            "  Downloading lm_eval-0.4.8-py3-none-any.whl.metadata (50 kB)\n",
            "\u001b[?25l     \u001b[90m━━━━━━━━━━━━━━━━━━━━━━━━━━━━━━━━━━━━━━━━\u001b[0m \u001b[32m0.0/50.5 kB\u001b[0m \u001b[31m?\u001b[0m eta \u001b[36m-:--:--\u001b[0m\r\u001b[2K     \u001b[90m━━━━━━━━━━━━━━━━━━━━━━━━━━━━━━━━━━━━━━━━\u001b[0m \u001b[32m50.5/50.5 kB\u001b[0m \u001b[31m5.1 MB/s\u001b[0m eta \u001b[36m0:00:00\u001b[0m\n",
            "\u001b[?25hRequirement already satisfied: accelerate>=0.26.0 in /usr/local/lib/python3.11/dist-packages (from lm_eval) (1.6.0)\n",
            "Collecting evaluate (from lm_eval)\n",
            "  Downloading evaluate-0.4.3-py3-none-any.whl.metadata (9.2 kB)\n",
            "Requirement already satisfied: datasets>=2.16.0 in /usr/local/lib/python3.11/dist-packages (from lm_eval) (3.5.1)\n",
            "Collecting jsonlines (from lm_eval)\n",
            "  Downloading jsonlines-4.0.0-py3-none-any.whl.metadata (1.6 kB)\n",
            "Requirement already satisfied: numexpr in /usr/local/lib/python3.11/dist-packages (from lm_eval) (2.10.2)\n",
            "Requirement already satisfied: peft>=0.2.0 in /usr/local/lib/python3.11/dist-packages (from lm_eval) (0.15.2)\n",
            "Collecting pybind11>=2.6.2 (from lm_eval)\n",
            "  Downloading pybind11-2.13.6-py3-none-any.whl.metadata (9.5 kB)\n",
            "Collecting pytablewriter (from lm_eval)\n",
            "  Downloading pytablewriter-1.2.1-py3-none-any.whl.metadata (38 kB)\n",
            "Requirement already satisfied: rouge-score>=0.0.4 in /usr/local/lib/python3.11/dist-packages (from lm_eval) (0.1.2)\n",
            "Requirement already satisfied: sacrebleu>=1.5.0 in /usr/local/lib/python3.11/dist-packages (from lm_eval) (2.5.1)\n",
            "Requirement already satisfied: scikit-learn>=0.24.1 in /usr/local/lib/python3.11/dist-packages (from lm_eval) (1.6.1)\n",
            "Collecting sqlitedict (from lm_eval)\n",
            "  Downloading sqlitedict-2.1.0.tar.gz (21 kB)\n",
            "  Preparing metadata (setup.py) ... \u001b[?25l\u001b[?25hdone\n",
            "Requirement already satisfied: torch>=1.8 in /usr/local/lib/python3.11/dist-packages (from lm_eval) (2.6.0+cu124)\n",
            "Collecting tqdm-multiprocess (from lm_eval)\n",
            "  Downloading tqdm_multiprocess-0.0.11-py3-none-any.whl.metadata (5.7 kB)\n",
            "Requirement already satisfied: transformers>=4.1 in /usr/local/lib/python3.11/dist-packages (from lm_eval) (4.51.3)\n",
            "Requirement already satisfied: zstandard in /usr/local/lib/python3.11/dist-packages (from lm_eval) (0.23.0)\n",
            "Requirement already satisfied: dill in /usr/local/lib/python3.11/dist-packages (from lm_eval) (0.3.8)\n",
            "Collecting word2number (from lm_eval)\n",
            "  Downloading word2number-1.1.zip (9.7 kB)\n",
            "  Preparing metadata (setup.py) ... \u001b[?25l\u001b[?25hdone\n",
            "Requirement already satisfied: more_itertools in /usr/local/lib/python3.11/dist-packages (from lm_eval) (10.7.0)\n",
            "Requirement already satisfied: numpy<3.0.0,>=1.17 in /usr/local/lib/python3.11/dist-packages (from accelerate>=0.26.0->lm_eval) (2.0.2)\n",
            "Requirement already satisfied: packaging>=20.0 in /usr/local/lib/python3.11/dist-packages (from accelerate>=0.26.0->lm_eval) (24.2)\n",
            "Requirement already satisfied: psutil in /usr/local/lib/python3.11/dist-packages (from accelerate>=0.26.0->lm_eval) (5.9.5)\n",
            "Requirement already satisfied: pyyaml in /usr/local/lib/python3.11/dist-packages (from accelerate>=0.26.0->lm_eval) (6.0.2)\n",
            "Requirement already satisfied: huggingface-hub>=0.21.0 in /usr/local/lib/python3.11/dist-packages (from accelerate>=0.26.0->lm_eval) (0.30.2)\n",
            "Requirement already satisfied: safetensors>=0.4.3 in /usr/local/lib/python3.11/dist-packages (from accelerate>=0.26.0->lm_eval) (0.5.3)\n",
            "Requirement already satisfied: filelock in /usr/local/lib/python3.11/dist-packages (from datasets>=2.16.0->lm_eval) (3.18.0)\n",
            "Requirement already satisfied: pyarrow>=15.0.0 in /usr/local/lib/python3.11/dist-packages (from datasets>=2.16.0->lm_eval) (18.1.0)\n",
            "Requirement already satisfied: pandas in /usr/local/lib/python3.11/dist-packages (from datasets>=2.16.0->lm_eval) (2.2.2)\n",
            "Requirement already satisfied: requests>=2.32.2 in /usr/local/lib/python3.11/dist-packages (from datasets>=2.16.0->lm_eval) (2.32.3)\n",
            "Requirement already satisfied: tqdm>=4.66.3 in /usr/local/lib/python3.11/dist-packages (from datasets>=2.16.0->lm_eval) (4.67.1)\n",
            "Requirement already satisfied: xxhash in /usr/local/lib/python3.11/dist-packages (from datasets>=2.16.0->lm_eval) (3.5.0)\n",
            "Requirement already satisfied: multiprocess<0.70.17 in /usr/local/lib/python3.11/dist-packages (from datasets>=2.16.0->lm_eval) (0.70.16)\n",
            "Requirement already satisfied: fsspec<=2025.3.0,>=2023.1.0 in /usr/local/lib/python3.11/dist-packages (from fsspec[http]<=2025.3.0,>=2023.1.0->datasets>=2.16.0->lm_eval) (2025.3.0)\n",
            "Requirement already satisfied: aiohttp in /usr/local/lib/python3.11/dist-packages (from datasets>=2.16.0->lm_eval) (3.11.15)\n",
            "Requirement already satisfied: absl-py in /usr/local/lib/python3.11/dist-packages (from rouge-score>=0.0.4->lm_eval) (1.4.0)\n",
            "Requirement already satisfied: nltk in /usr/local/lib/python3.11/dist-packages (from rouge-score>=0.0.4->lm_eval) (3.9.1)\n",
            "Requirement already satisfied: six>=1.14.0 in /usr/local/lib/python3.11/dist-packages (from rouge-score>=0.0.4->lm_eval) (1.17.0)\n",
            "Requirement already satisfied: portalocker in /usr/local/lib/python3.11/dist-packages (from sacrebleu>=1.5.0->lm_eval) (3.1.1)\n",
            "Requirement already satisfied: regex in /usr/local/lib/python3.11/dist-packages (from sacrebleu>=1.5.0->lm_eval) (2024.11.6)\n",
            "Requirement already satisfied: tabulate>=0.8.9 in /usr/local/lib/python3.11/dist-packages (from sacrebleu>=1.5.0->lm_eval) (0.9.0)\n",
            "Requirement already satisfied: colorama in /usr/local/lib/python3.11/dist-packages (from sacrebleu>=1.5.0->lm_eval) (0.4.6)\n",
            "Requirement already satisfied: lxml in /usr/local/lib/python3.11/dist-packages (from sacrebleu>=1.5.0->lm_eval) (5.4.0)\n",
            "Requirement already satisfied: scipy>=1.6.0 in /usr/local/lib/python3.11/dist-packages (from scikit-learn>=0.24.1->lm_eval) (1.15.2)\n",
            "Requirement already satisfied: joblib>=1.2.0 in /usr/local/lib/python3.11/dist-packages (from scikit-learn>=0.24.1->lm_eval) (1.4.2)\n",
            "Requirement already satisfied: threadpoolctl>=3.1.0 in /usr/local/lib/python3.11/dist-packages (from scikit-learn>=0.24.1->lm_eval) (3.6.0)\n",
            "Requirement already satisfied: typing-extensions>=4.10.0 in /usr/local/lib/python3.11/dist-packages (from torch>=1.8->lm_eval) (4.13.2)\n",
            "Requirement already satisfied: networkx in /usr/local/lib/python3.11/dist-packages (from torch>=1.8->lm_eval) (3.4.2)\n",
            "Requirement already satisfied: jinja2 in /usr/local/lib/python3.11/dist-packages (from torch>=1.8->lm_eval) (3.1.6)\n",
            "Collecting nvidia-cuda-nvrtc-cu12==12.4.127 (from torch>=1.8->lm_eval)\n",
            "  Downloading nvidia_cuda_nvrtc_cu12-12.4.127-py3-none-manylinux2014_x86_64.whl.metadata (1.5 kB)\n",
            "Collecting nvidia-cuda-runtime-cu12==12.4.127 (from torch>=1.8->lm_eval)\n",
            "  Downloading nvidia_cuda_runtime_cu12-12.4.127-py3-none-manylinux2014_x86_64.whl.metadata (1.5 kB)\n",
            "Collecting nvidia-cuda-cupti-cu12==12.4.127 (from torch>=1.8->lm_eval)\n",
            "  Downloading nvidia_cuda_cupti_cu12-12.4.127-py3-none-manylinux2014_x86_64.whl.metadata (1.6 kB)\n",
            "Collecting nvidia-cudnn-cu12==9.1.0.70 (from torch>=1.8->lm_eval)\n",
            "  Downloading nvidia_cudnn_cu12-9.1.0.70-py3-none-manylinux2014_x86_64.whl.metadata (1.6 kB)\n",
            "Collecting nvidia-cublas-cu12==12.4.5.8 (from torch>=1.8->lm_eval)\n",
            "  Downloading nvidia_cublas_cu12-12.4.5.8-py3-none-manylinux2014_x86_64.whl.metadata (1.5 kB)\n",
            "Collecting nvidia-cufft-cu12==11.2.1.3 (from torch>=1.8->lm_eval)\n",
            "  Downloading nvidia_cufft_cu12-11.2.1.3-py3-none-manylinux2014_x86_64.whl.metadata (1.5 kB)\n",
            "Collecting nvidia-curand-cu12==10.3.5.147 (from torch>=1.8->lm_eval)\n",
            "  Downloading nvidia_curand_cu12-10.3.5.147-py3-none-manylinux2014_x86_64.whl.metadata (1.5 kB)\n",
            "Collecting nvidia-cusolver-cu12==11.6.1.9 (from torch>=1.8->lm_eval)\n",
            "  Downloading nvidia_cusolver_cu12-11.6.1.9-py3-none-manylinux2014_x86_64.whl.metadata (1.6 kB)\n",
            "Collecting nvidia-cusparse-cu12==12.3.1.170 (from torch>=1.8->lm_eval)\n",
            "  Downloading nvidia_cusparse_cu12-12.3.1.170-py3-none-manylinux2014_x86_64.whl.metadata (1.6 kB)\n",
            "Requirement already satisfied: nvidia-cusparselt-cu12==0.6.2 in /usr/local/lib/python3.11/dist-packages (from torch>=1.8->lm_eval) (0.6.2)\n",
            "Requirement already satisfied: nvidia-nccl-cu12==2.21.5 in /usr/local/lib/python3.11/dist-packages (from torch>=1.8->lm_eval) (2.21.5)\n",
            "Requirement already satisfied: nvidia-nvtx-cu12==12.4.127 in /usr/local/lib/python3.11/dist-packages (from torch>=1.8->lm_eval) (12.4.127)\n",
            "Collecting nvidia-nvjitlink-cu12==12.4.127 (from torch>=1.8->lm_eval)\n",
            "  Downloading nvidia_nvjitlink_cu12-12.4.127-py3-none-manylinux2014_x86_64.whl.metadata (1.5 kB)\n",
            "Requirement already satisfied: triton==3.2.0 in /usr/local/lib/python3.11/dist-packages (from torch>=1.8->lm_eval) (3.2.0)\n",
            "Requirement already satisfied: sympy==1.13.1 in /usr/local/lib/python3.11/dist-packages (from torch>=1.8->lm_eval) (1.13.1)\n",
            "Requirement already satisfied: mpmath<1.4,>=1.1.0 in /usr/local/lib/python3.11/dist-packages (from sympy==1.13.1->torch>=1.8->lm_eval) (1.3.0)\n",
            "Requirement already satisfied: tokenizers<0.22,>=0.21 in /usr/local/lib/python3.11/dist-packages (from transformers>=4.1->lm_eval) (0.21.1)\n",
            "Requirement already satisfied: attrs>=19.2.0 in /usr/local/lib/python3.11/dist-packages (from jsonlines->lm_eval) (25.3.0)\n",
            "Requirement already satisfied: setuptools>=38.3.0 in /usr/local/lib/python3.11/dist-packages (from pytablewriter->lm_eval) (75.2.0)\n",
            "Collecting DataProperty<2,>=1.1.0 (from pytablewriter->lm_eval)\n",
            "  Downloading DataProperty-1.1.0-py3-none-any.whl.metadata (11 kB)\n",
            "Collecting mbstrdecoder<2,>=1.0.0 (from pytablewriter->lm_eval)\n",
            "  Downloading mbstrdecoder-1.1.4-py3-none-any.whl.metadata (4.3 kB)\n",
            "Collecting pathvalidate<4,>=2.3.0 (from pytablewriter->lm_eval)\n",
            "  Downloading pathvalidate-3.2.3-py3-none-any.whl.metadata (12 kB)\n",
            "Collecting tabledata<2,>=1.3.1 (from pytablewriter->lm_eval)\n",
            "  Downloading tabledata-1.3.4-py3-none-any.whl.metadata (3.7 kB)\n",
            "Collecting tcolorpy<1,>=0.0.5 (from pytablewriter->lm_eval)\n",
            "  Downloading tcolorpy-0.1.7-py3-none-any.whl.metadata (6.3 kB)\n",
            "Collecting typepy<2,>=1.3.2 (from typepy[datetime]<2,>=1.3.2->pytablewriter->lm_eval)\n",
            "  Downloading typepy-1.3.4-py3-none-any.whl.metadata (9.2 kB)\n",
            "Requirement already satisfied: aiohappyeyeballs>=2.3.0 in /usr/local/lib/python3.11/dist-packages (from aiohttp->datasets>=2.16.0->lm_eval) (2.6.1)\n",
            "Requirement already satisfied: aiosignal>=1.1.2 in /usr/local/lib/python3.11/dist-packages (from aiohttp->datasets>=2.16.0->lm_eval) (1.3.2)\n",
            "Requirement already satisfied: frozenlist>=1.1.1 in /usr/local/lib/python3.11/dist-packages (from aiohttp->datasets>=2.16.0->lm_eval) (1.6.0)\n",
            "Requirement already satisfied: multidict<7.0,>=4.5 in /usr/local/lib/python3.11/dist-packages (from aiohttp->datasets>=2.16.0->lm_eval) (6.4.3)\n",
            "Requirement already satisfied: propcache>=0.2.0 in /usr/local/lib/python3.11/dist-packages (from aiohttp->datasets>=2.16.0->lm_eval) (0.3.1)\n",
            "Requirement already satisfied: yarl<2.0,>=1.17.0 in /usr/local/lib/python3.11/dist-packages (from aiohttp->datasets>=2.16.0->lm_eval) (1.20.0)\n",
            "Requirement already satisfied: chardet<6,>=3.0.4 in /usr/local/lib/python3.11/dist-packages (from mbstrdecoder<2,>=1.0.0->pytablewriter->lm_eval) (5.2.0)\n",
            "Requirement already satisfied: charset-normalizer<4,>=2 in /usr/local/lib/python3.11/dist-packages (from requests>=2.32.2->datasets>=2.16.0->lm_eval) (3.4.1)\n",
            "Requirement already satisfied: idna<4,>=2.5 in /usr/local/lib/python3.11/dist-packages (from requests>=2.32.2->datasets>=2.16.0->lm_eval) (3.10)\n",
            "Requirement already satisfied: urllib3<3,>=1.21.1 in /usr/local/lib/python3.11/dist-packages (from requests>=2.32.2->datasets>=2.16.0->lm_eval) (2.4.0)\n",
            "Requirement already satisfied: certifi>=2017.4.17 in /usr/local/lib/python3.11/dist-packages (from requests>=2.32.2->datasets>=2.16.0->lm_eval) (2025.1.31)\n",
            "Requirement already satisfied: python-dateutil<3.0.0,>=2.8.0 in /usr/local/lib/python3.11/dist-packages (from typepy[datetime]<2,>=1.3.2->pytablewriter->lm_eval) (2.9.0.post0)\n",
            "Requirement already satisfied: pytz>=2018.9 in /usr/local/lib/python3.11/dist-packages (from typepy[datetime]<2,>=1.3.2->pytablewriter->lm_eval) (2025.2)\n",
            "Requirement already satisfied: MarkupSafe>=2.0 in /usr/local/lib/python3.11/dist-packages (from jinja2->torch>=1.8->lm_eval) (3.0.2)\n",
            "Requirement already satisfied: click in /usr/local/lib/python3.11/dist-packages (from nltk->rouge-score>=0.0.4->lm_eval) (8.1.8)\n",
            "Requirement already satisfied: tzdata>=2022.7 in /usr/local/lib/python3.11/dist-packages (from pandas->datasets>=2.16.0->lm_eval) (2025.2)\n",
            "Downloading lm_eval-0.4.8-py3-none-any.whl (3.9 MB)\n",
            "\u001b[2K   \u001b[90m━━━━━━━━━━━━━━━━━━━━━━━━━━━━━━━━━━━━━━━━\u001b[0m \u001b[32m3.9/3.9 MB\u001b[0m \u001b[31m69.3 MB/s\u001b[0m eta \u001b[36m0:00:00\u001b[0m\n",
            "\u001b[?25hDownloading evaluate-0.4.3-py3-none-any.whl (84 kB)\n",
            "\u001b[2K   \u001b[90m━━━━━━━━━━━━━━━━━━━━━━━━━━━━━━━━━━━━━━━━\u001b[0m \u001b[32m84.0/84.0 kB\u001b[0m \u001b[31m7.9 MB/s\u001b[0m eta \u001b[36m0:00:00\u001b[0m\n",
            "\u001b[?25hDownloading pybind11-2.13.6-py3-none-any.whl (243 kB)\n",
            "\u001b[2K   \u001b[90m━━━━━━━━━━━━━━━━━━━━━━━━━━━━━━━━━━━━━━━━\u001b[0m \u001b[32m243.3/243.3 kB\u001b[0m \u001b[31m14.5 MB/s\u001b[0m eta \u001b[36m0:00:00\u001b[0m\n",
            "\u001b[?25hDownloading nvidia_cublas_cu12-12.4.5.8-py3-none-manylinux2014_x86_64.whl (363.4 MB)\n",
            "\u001b[2K   \u001b[90m━━━━━━━━━━━━━━━━━━━━━━━━━━━━━━━━━━━━━━━━\u001b[0m \u001b[32m363.4/363.4 MB\u001b[0m \u001b[31m4.3 MB/s\u001b[0m eta \u001b[36m0:00:00\u001b[0m\n",
            "\u001b[?25hDownloading nvidia_cuda_cupti_cu12-12.4.127-py3-none-manylinux2014_x86_64.whl (13.8 MB)\n",
            "\u001b[2K   \u001b[90m━━━━━━━━━━━━━━━━━━━━━━━━━━━━━━━━━━━━━━━━\u001b[0m \u001b[32m13.8/13.8 MB\u001b[0m \u001b[31m98.5 MB/s\u001b[0m eta \u001b[36m0:00:00\u001b[0m\n",
            "\u001b[?25hDownloading nvidia_cuda_nvrtc_cu12-12.4.127-py3-none-manylinux2014_x86_64.whl (24.6 MB)\n",
            "\u001b[2K   \u001b[90m━━━━━━━━━━━━━━━━━━━━━━━━━━━━━━━━━━━━━━━━\u001b[0m \u001b[32m24.6/24.6 MB\u001b[0m \u001b[31m71.2 MB/s\u001b[0m eta \u001b[36m0:00:00\u001b[0m\n",
            "\u001b[?25hDownloading nvidia_cuda_runtime_cu12-12.4.127-py3-none-manylinux2014_x86_64.whl (883 kB)\n",
            "\u001b[2K   \u001b[90m━━━━━━━━━━━━━━━━━━━━━━━━━━━━━━━━━━━━━━━━\u001b[0m \u001b[32m883.7/883.7 kB\u001b[0m \u001b[31m52.4 MB/s\u001b[0m eta \u001b[36m0:00:00\u001b[0m\n",
            "\u001b[?25hDownloading nvidia_cudnn_cu12-9.1.0.70-py3-none-manylinux2014_x86_64.whl (664.8 MB)\n",
            "\u001b[2K   \u001b[90m━━━━━━━━━━━━━━━━━━━━━━━━━━━━━━━━━━━━━━━━\u001b[0m \u001b[32m664.8/664.8 MB\u001b[0m \u001b[31m2.9 MB/s\u001b[0m eta \u001b[36m0:00:00\u001b[0m\n",
            "\u001b[?25hDownloading nvidia_cufft_cu12-11.2.1.3-py3-none-manylinux2014_x86_64.whl (211.5 MB)\n",
            "\u001b[2K   \u001b[90m━━━━━━━━━━━━━━━━━━━━━━━━━━━━━━━━━━━━━━━━\u001b[0m \u001b[32m211.5/211.5 MB\u001b[0m \u001b[31m5.6 MB/s\u001b[0m eta \u001b[36m0:00:00\u001b[0m\n",
            "\u001b[?25hDownloading nvidia_curand_cu12-10.3.5.147-py3-none-manylinux2014_x86_64.whl (56.3 MB)\n",
            "\u001b[2K   \u001b[90m━━━━━━━━━━━━━━━━━━━━━━━━━━━━━━━━━━━━━━━━\u001b[0m \u001b[32m56.3/56.3 MB\u001b[0m \u001b[31m11.9 MB/s\u001b[0m eta \u001b[36m0:00:00\u001b[0m\n",
            "\u001b[?25hDownloading nvidia_cusolver_cu12-11.6.1.9-py3-none-manylinux2014_x86_64.whl (127.9 MB)\n",
            "\u001b[2K   \u001b[90m━━━━━━━━━━━━━━━━━━━━━━━━━━━━━━━━━━━━━━━━\u001b[0m \u001b[32m127.9/127.9 MB\u001b[0m \u001b[31m7.5 MB/s\u001b[0m eta \u001b[36m0:00:00\u001b[0m\n",
            "\u001b[?25hDownloading nvidia_cusparse_cu12-12.3.1.170-py3-none-manylinux2014_x86_64.whl (207.5 MB)\n",
            "\u001b[2K   \u001b[90m━━━━━━━━━━━━━━━━━━━━━━━━━━━━━━━━━━━━━━━━\u001b[0m \u001b[32m207.5/207.5 MB\u001b[0m \u001b[31m5.5 MB/s\u001b[0m eta \u001b[36m0:00:00\u001b[0m\n",
            "\u001b[?25hDownloading nvidia_nvjitlink_cu12-12.4.127-py3-none-manylinux2014_x86_64.whl (21.1 MB)\n",
            "\u001b[2K   \u001b[90m━━━━━━━━━━━━━━━━━━━━━━━━━━━━━━━━━━━━━━━━\u001b[0m \u001b[32m21.1/21.1 MB\u001b[0m \u001b[31m104.7 MB/s\u001b[0m eta \u001b[36m0:00:00\u001b[0m\n",
            "\u001b[?25hDownloading jsonlines-4.0.0-py3-none-any.whl (8.7 kB)\n",
            "Downloading pytablewriter-1.2.1-py3-none-any.whl (91 kB)\n",
            "\u001b[2K   \u001b[90m━━━━━━━━━━━━━━━━━━━━━━━━━━━━━━━━━━━━━━━━\u001b[0m \u001b[32m91.1/91.1 kB\u001b[0m \u001b[31m10.4 MB/s\u001b[0m eta \u001b[36m0:00:00\u001b[0m\n",
            "\u001b[?25hDownloading tqdm_multiprocess-0.0.11-py3-none-any.whl (9.8 kB)\n",
            "Downloading DataProperty-1.1.0-py3-none-any.whl (27 kB)\n",
            "Downloading mbstrdecoder-1.1.4-py3-none-any.whl (7.9 kB)\n",
            "Downloading pathvalidate-3.2.3-py3-none-any.whl (24 kB)\n",
            "Downloading tabledata-1.3.4-py3-none-any.whl (11 kB)\n",
            "Downloading tcolorpy-0.1.7-py3-none-any.whl (8.1 kB)\n",
            "Downloading typepy-1.3.4-py3-none-any.whl (31 kB)\n",
            "Building wheels for collected packages: sqlitedict, word2number\n",
            "  Building wheel for sqlitedict (setup.py) ... \u001b[?25l\u001b[?25hdone\n",
            "  Created wheel for sqlitedict: filename=sqlitedict-2.1.0-py3-none-any.whl size=16862 sha256=92ae7f0b336498ad0b000f14a6ab6b6d6b3e36557c353d3cc98c9d291e5a5416\n",
            "  Stored in directory: /root/.cache/pip/wheels/73/63/89/7210274f9b7fb033b8f22671f64c0e0b55083d30c3c046a3ff\n",
            "  Building wheel for word2number (setup.py) ... \u001b[?25l\u001b[?25hdone\n",
            "  Created wheel for word2number: filename=word2number-1.1-py3-none-any.whl size=5568 sha256=d7bc59c079342dce64e1a4b838eb79c5b9da587d51851846a1ee651aadbf5d29\n",
            "  Stored in directory: /root/.cache/pip/wheels/cd/ef/ae/073b491b14d25e2efafcffca9e16b2ee6d114ec5c643ba4f06\n",
            "Successfully built sqlitedict word2number\n",
            "Installing collected packages: word2number, sqlitedict, tqdm-multiprocess, tcolorpy, pybind11, pathvalidate, nvidia-nvjitlink-cu12, nvidia-curand-cu12, nvidia-cufft-cu12, nvidia-cuda-runtime-cu12, nvidia-cuda-nvrtc-cu12, nvidia-cuda-cupti-cu12, nvidia-cublas-cu12, mbstrdecoder, jsonlines, typepy, nvidia-cusparse-cu12, nvidia-cudnn-cu12, nvidia-cusolver-cu12, DataProperty, tabledata, evaluate, pytablewriter, lm_eval\n",
            "  Attempting uninstall: nvidia-nvjitlink-cu12\n",
            "    Found existing installation: nvidia-nvjitlink-cu12 12.5.82\n",
            "    Uninstalling nvidia-nvjitlink-cu12-12.5.82:\n",
            "      Successfully uninstalled nvidia-nvjitlink-cu12-12.5.82\n",
            "  Attempting uninstall: nvidia-curand-cu12\n",
            "    Found existing installation: nvidia-curand-cu12 10.3.6.82\n",
            "    Uninstalling nvidia-curand-cu12-10.3.6.82:\n",
            "      Successfully uninstalled nvidia-curand-cu12-10.3.6.82\n",
            "  Attempting uninstall: nvidia-cufft-cu12\n",
            "    Found existing installation: nvidia-cufft-cu12 11.2.3.61\n",
            "    Uninstalling nvidia-cufft-cu12-11.2.3.61:\n",
            "      Successfully uninstalled nvidia-cufft-cu12-11.2.3.61\n",
            "  Attempting uninstall: nvidia-cuda-runtime-cu12\n",
            "    Found existing installation: nvidia-cuda-runtime-cu12 12.5.82\n",
            "    Uninstalling nvidia-cuda-runtime-cu12-12.5.82:\n",
            "      Successfully uninstalled nvidia-cuda-runtime-cu12-12.5.82\n",
            "  Attempting uninstall: nvidia-cuda-nvrtc-cu12\n",
            "    Found existing installation: nvidia-cuda-nvrtc-cu12 12.5.82\n",
            "    Uninstalling nvidia-cuda-nvrtc-cu12-12.5.82:\n",
            "      Successfully uninstalled nvidia-cuda-nvrtc-cu12-12.5.82\n",
            "  Attempting uninstall: nvidia-cuda-cupti-cu12\n",
            "    Found existing installation: nvidia-cuda-cupti-cu12 12.5.82\n",
            "    Uninstalling nvidia-cuda-cupti-cu12-12.5.82:\n",
            "      Successfully uninstalled nvidia-cuda-cupti-cu12-12.5.82\n",
            "  Attempting uninstall: nvidia-cublas-cu12\n",
            "    Found existing installation: nvidia-cublas-cu12 12.5.3.2\n",
            "    Uninstalling nvidia-cublas-cu12-12.5.3.2:\n",
            "      Successfully uninstalled nvidia-cublas-cu12-12.5.3.2\n",
            "  Attempting uninstall: nvidia-cusparse-cu12\n",
            "    Found existing installation: nvidia-cusparse-cu12 12.5.1.3\n",
            "    Uninstalling nvidia-cusparse-cu12-12.5.1.3:\n",
            "      Successfully uninstalled nvidia-cusparse-cu12-12.5.1.3\n",
            "  Attempting uninstall: nvidia-cudnn-cu12\n",
            "    Found existing installation: nvidia-cudnn-cu12 9.3.0.75\n",
            "    Uninstalling nvidia-cudnn-cu12-9.3.0.75:\n",
            "      Successfully uninstalled nvidia-cudnn-cu12-9.3.0.75\n",
            "  Attempting uninstall: nvidia-cusolver-cu12\n",
            "    Found existing installation: nvidia-cusolver-cu12 11.6.3.83\n",
            "    Uninstalling nvidia-cusolver-cu12-11.6.3.83:\n",
            "      Successfully uninstalled nvidia-cusolver-cu12-11.6.3.83\n",
            "Successfully installed DataProperty-1.1.0 evaluate-0.4.3 jsonlines-4.0.0 lm_eval-0.4.8 mbstrdecoder-1.1.4 nvidia-cublas-cu12-12.4.5.8 nvidia-cuda-cupti-cu12-12.4.127 nvidia-cuda-nvrtc-cu12-12.4.127 nvidia-cuda-runtime-cu12-12.4.127 nvidia-cudnn-cu12-9.1.0.70 nvidia-cufft-cu12-11.2.1.3 nvidia-curand-cu12-10.3.5.147 nvidia-cusolver-cu12-11.6.1.9 nvidia-cusparse-cu12-12.3.1.170 nvidia-nvjitlink-cu12-12.4.127 pathvalidate-3.2.3 pybind11-2.13.6 pytablewriter-1.2.1 sqlitedict-2.1.0 tabledata-1.3.4 tcolorpy-0.1.7 tqdm-multiprocess-0.0.11 typepy-1.3.4 word2number-1.1\n"
          ]
        }
      ]
    },
    {
      "cell_type": "code",
      "source": [
        "#@title Load model and evaluate (BLiMP) { display-mode: \"form\" }\n",
        "model = \"/content/model_folder/\" #@param {\"type\": \"string\"}\n",
        "model_type = \"encoder\" #@param [\"decoder\", \"encoder\", \"encoder-decoder\"]\n",
        "# file_name = \"examples3.csv\" #@param {\"type\": \"string\"}\n",
        "# model_names = [\"opt-125m\", \"opt-350m\", \"opt-1.3b\", \"opt-2.7b\"] #@param {\"type\": \"raw\"}\n",
        "\n",
        "%cd /content/evaluation-pipeline\n",
        "%run /content/evaluation-pipeline/babylm_eval.py \\\n",
        "  \"$model\" \\\n",
        "  \"$model_type\" \\\n",
        "  -t \"blimp\""
      ],
      "metadata": {
        "id": "6N7YwpaoGR2n",
        "colab": {
          "base_uri": "https://localhost:8080/",
          "height": 1000,
          "referenced_widgets": [
            "b33af465be45423981281ed9d38b2f65",
            "ca07002825bc48c9a189764c99dde5f0",
            "8804ed9fcfeb46818576f35d680dd983",
            "6e033201ca4940e791e4246fe7bf2763",
            "d8f97875831d49668f7699f6b1197739",
            "185bf53e36564c85a4afe8d0cf16c2fb",
            "a0b69165077b427daf6957d53a8dff11",
            "7ccc04fadff34d7da0e54b37e132a3a3",
            "65818f499a0b48ef894641e3fb5b7b6b",
            "618be2c2a18e486a9f4acedf3b28999d",
            "af916abc3e0044458797031177cee4a8",
            "6ba97138f14c43afa0200c49ffa14e25",
            "aefd1da415694cbc953a50cd62ce713f",
            "dc0457331d764396a5149733fa3aa6cc",
            "cd34de51d0b046659ea98ca9b2e6f750",
            "5dfe6bca090b490596647137235248be",
            "9c7ee67674754f7aa30d628da65a4d40",
            "dabbf4fd714d4fd395900941c5bd5aba",
            "59c9926e0c85421eb9634091553c63a0",
            "e8f4d78aa4ed4e9fb80bc96d548bd3e4",
            "0691493f810a40c28a30da64a9f0c6af",
            "5fda33e4700946dcb0718847d18c3f09",
            "fdaf69491bf1478ebeb982364d8424ba",
            "48d2e280565247a0a82b7fd2d3d5f940",
            "0cea477aae2449258777f7a5c1ac09bf",
            "32025ee66d5a47e7a8bd5bbb4b3fcbbf",
            "ffe2d6ed3e004bdcb15137901c0d3314",
            "d4d0f7a81f6740a99edee97695cc2846",
            "9c6dff7fc7ef411aa9e0a936e5068938",
            "77c54d4e67c849e28ce1dee3bc7fcd7e",
            "bf2fdc69ccc64715abe60c1dfaf08cc4",
            "edf93709f6e946ffb4f74958bc18dedc",
            "d6307740d40f4a9aa828b68f08df2ddf",
            "4c1a984c44074330a4a88f084989118a",
            "2813131139e34cc9aa2cb1d7c20425fe",
            "c6d48b58b6d4474c9d97c765089d1cb8",
            "185b260f76034e8394fe33b700157113",
            "97faa8cb74c244b0ac333e10da0a6399",
            "d18be106c41c4f6f89260298424b7cd1",
            "c93668cb846f434b9cf33a1088f5222b",
            "5ebb42caa1be403ca3b9c134f516c7e5",
            "afa55751421f4b77a8feb8074eafeb43",
            "30e36f90ef01479ba37d668885c89407",
            "0d0684f2bf104c76aacfa272fa2481c5",
            "7792715e8aba40869bd5692943cb5954",
            "0185eb4da3094022b8be35a9fcd72e65",
            "e5fe5facf7ac4364953d874d26f8944e",
            "3ce5186d5cee45c68e7afb882e6b3950",
            "bd76edd21edf46b99176b63941211e25",
            "31ad9016fb404e1c988a31fe3b02b38a",
            "389733906892439bb063368c0c62c868",
            "6ab28f5e01cd45a9a452be44873a6d26",
            "24cf49f66c2b4b2a859164e6700b954c",
            "968ebdf462df48b79288e0a8468fc234",
            "7581f27562d44124bcaa3b3df6977096",
            "be01ba2c416e416aa7d90614760b928a",
            "ccf77bf9411d4b25a37d29c741fa065a",
            "f131407b56bd44c6980b5338af38805a",
            "5e9eea41911b41788cb7db4b983eff95",
            "6211932ecc964790b833761c6fe43b50",
            "39a70ac168704823b4d60b67fbf179e7",
            "ac2eacb938b8499a8e375a1fae3c41ee",
            "ce7b7614b4dd44319bbf321c583877fa",
            "cbfff0b94103432b8b9e345e09bcea4f",
            "9fda94e505684b36908c4a1c42559ddc",
            "6d89f6f733e241d89a93d4ad5b0f38ba",
            "5057351216914fd29eb04d667b42d2b0",
            "a6f6c423462e4790bc48b062a001190d",
            "8760caa035cb4aa18e210083e02df837",
            "9767712c90dd4970bbd2ee2ec473a862",
            "75582f264c3e41c5afb2239f8dcbf418",
            "d949232661274e5f9775b12057461f49",
            "934377ffec1c4bf38d218e5a8736b61c",
            "157b9dc11966454fb0465c0ed1eb3d40",
            "5c754a6006c94ea585c5327bb8f9392e",
            "a7e182ab03d344f193a8e046f849b40f",
            "7bc0ec5f6827439c9dc787c08e74018f",
            "157ca30298bb4517b405710a353d7121",
            "768d293b1dc84f98b13eea4127a15259",
            "72d6233316954cea993ca626819c67c8",
            "55a635a789bf4c4ba9f1d098b41a5613",
            "d1edcb0d1af04d8b9be4acd5b3ea5308",
            "ee68f992251d477abae594838ad94c4c",
            "e0601b9d3b674a8f9792b2b659b82f8f",
            "24a00e265e7a485b8702ece404cf7cbb",
            "bf3a0e5505ec4ed3b3b914b3240f1819",
            "59a5c2b62ab04b6eb8182edcd06cbcda",
            "851ab73798d0468d997f518a5c231a6c",
            "8969455776104f5baf5a32c6ccbb286a",
            "705b5e8858b94fd8b486e3a73ac9ed4a",
            "965748c78e52452f8991a7f23cf76e07",
            "29ff7c6618e248d091c276ca4e1adffb",
            "580e4513e4d442a8979ccbfd7d32ec77",
            "4c169d8b1f0c445e86b340529e03e89f",
            "dacf7f81882946d8a0ea5a05c2c88b50",
            "2164b48d954d4cc7a0cb48162e190bb3",
            "e160de4b31a0454580d6b4c7a9cdc7a4",
            "3be01960bbc94c5fa15896c0ce0962b5",
            "8dbc0e97438a4847838ac2ab3012f643",
            "147bdacd1f9b49028f8deaa2504c20fd",
            "393e297b7ce3476ba30c1153b577dfcb",
            "e9a5df7c36414d07b37650d7b6cac8c2",
            "e9222f1cf52340d0a3b61cad63b94215",
            "3485c91d51e04a5599d2f3ec9efcd2c3",
            "99d28435c7f0434c93368f540d0f2560",
            "dcb0e6fe4c434ae0ac877db3828f28cb",
            "b8c71438f3ba4fee8f882779dbd7f076",
            "1bd0afe4d891430dae874fec0341d254",
            "c434463fbf804dc3b2e2392209b5aa75",
            "d1474813c1514174bcd8f5b60f62a885",
            "25c9f27496b64673953c172cb8dfeaca",
            "e400f65c00b24a79b271f28f68110c22",
            "1c31a2bd880f42919a3cfb2872743080",
            "e1eb7ec647c44d9db29fc463120fb926",
            "afeae119eeaf45a6be23a1a92f867422",
            "f76ccbcdb28f4ccfaa69c9fab56162d8",
            "d484de35551e4425aa6068a3aae400e7",
            "ee056be40da04a15b909b543796604ff",
            "f4de305cfc7f4d85a1855561f2e5ebdf",
            "80c9a192680f454dae6c2b40c6bcf22a",
            "09fa578cb9b241d4b5f0c4d73d0140a0",
            "787cfba2d1fd4b6faffa51bc40b9a7e3",
            "fd95c2a2d2244d7d90b5ccb905ea8c45",
            "4da39441f2f84cc398cfe0f5e15f2176",
            "81916abf52d94f34ba6c966057dd029a",
            "dc1dcecf684d4e65a8f9b42c53ec3727",
            "0f423a6ad90b4cac9f064df842043394",
            "8e995b92383b4a6a9ff5dfb14691e5ca",
            "18c98baa78eb491f93793b0ec54dce46",
            "8c922de82755464f81b9d9763fd2bd48",
            "043a8a91f74a43278c7e4836b8ad7bd4",
            "7f98c1cfa6d94c23b4fa1fa8b221633e",
            "d1c411c81f6148fbb5b2f40685f9fed2",
            "9c777c7a609c46adad3123b93a87f434",
            "88d31e4b32f346239d5610d184b80325",
            "7acb23f191cb4594b7c58e632aa60ba2",
            "1087aeb1bb2e4c4f88c5c94681bb3e48",
            "0c48da94015f49c48f7f1491aefe31a6",
            "43e32c7fbdb54fbdb6d4e63f4ae047cd",
            "6c8fd340554e48ba83134d3a97aeb4ae",
            "2130c8ecaec142b38a13c0f0d0e23222",
            "6811e7576153489ca3ad9be4318c224e",
            "da91517aa7ad4649b4b4ff12e12b1559",
            "b1770f02c29b4c469505366cb9b6e781",
            "fe2638be6d5547c4be2cf45b993187a1",
            "35f6d0d30df34ea29c54c7459818e795",
            "77a49a08672d4ac48d235a683e87399f",
            "87ce41c7a21e433e8050313bf6556e2d",
            "4b9ddd7368a0437abd5c86ef0a8f8d92",
            "fd4cfb1ef2144037a840372b391152ff",
            "a3d4b5ad9e75433881039849e8eedab3",
            "63db82a7451d4346b78af72af218c885",
            "1034437b76ab40a887e86b10b5b707f4",
            "431150cfd463432dba6a8515d7977eed",
            "ccef3e4a12f54ee1ae29c795fec29a63",
            "a28eac9824f840daab6dc30dbbabf939",
            "7762f63ebcc2491d8b5d7f9a3bfe5a8f",
            "3942bf3a06604686b7c9ddd1cb402c51",
            "1b625502e2584848a6cb172381fb4f35",
            "73880e9c47bf4fafb319da39c110922a",
            "99d24621b89a49369104a5b74f3cf266",
            "e8197c1e49e74eafa496f581fae84ca7",
            "b8dedaf35c2a4341bc2996668e1f9a77",
            "ff9aa16103ab474e87e24dfddebd39d5",
            "c0e91bb33b6745b6b23fd4e680cb98bb",
            "f682b1d0647445549f4e96275de95309",
            "67f0ce8781774cd6aa0be0c3bc021335",
            "17d63df205e64363ae12794172e3da16",
            "e8b4a7eafeff4cd7a2077e470b1b8ca1",
            "bd6a8bfd68b14e2698a92d25176ef18a",
            "62eb6ac91eec45f68b4af48caa1e024c",
            "33975c41f1f74ad2913634da9779761c",
            "4571efedf2324d2ea47f7f3509ee4e17",
            "4f0777879984467b9d481c97fc08a962",
            "81f6b39464594381aa97b6d0b4c416d1",
            "68ed7c73c53e4cf1a1175f46fe5d9678",
            "437ef4aa47c44d168ca9d13adcf4a866",
            "a736c5183d374122acc4d03ddb87dc24",
            "de8dfbc1b49d406285ae0d47655eb922",
            "678de8cbcf864e7497510a848ade6064",
            "a88e8e71568a454eb5e8670ce49477dd",
            "44d8eb6ee916431fad8bfd93628ad149",
            "0ad2bcfa9dbc4a3d9ffefe829618ec56",
            "6b6c4a9a055247c88091a7f8798af573",
            "a4d186f17560487aa19450b52f1fe43f",
            "84ffb7a13f1940e882965ee101229eb9",
            "6b77679d871a474ca80ac4f767265d8c",
            "c8742139da064926830e3077ebe324dd",
            "e98836b0f2f94e4fa87759b879dc1aa8",
            "377ab650691c413c9398769acbff5b33",
            "7a560d13ec4a412ebeb86d403b9078bd",
            "4c4740a47d8b497cb32e477414001096",
            "350b65a8d83940788d0fae72b2d9e2a1",
            "471a84d9246345049b191103a36ac216",
            "0af3922c89e44a399b1d07aa848fc0de",
            "592c3dae226749e19432b96a6edd63a4",
            "03131a3a313c48cbbc8fd0beca087978",
            "ac8d71e52c7b42f293bf6dd00e66992e",
            "5814a90b851a4504947be0502f641d0d",
            "577305d0536c4434a086568fa3c60244",
            "0cf48c7af0a34822828cab6c85dc7d33",
            "1c199d3f07814fbbb73e512454c12b58",
            "af15b316516d4080a794f29e3bf56d93",
            "626f8353fcc64e34b889bc10363f338c",
            "4a9f785c711843d89b81ed9dff6b6568",
            "c75791f517294462bd7078a3cdc34c3b",
            "b1c067e9020142ed85efdc27864479ea",
            "48e9fad8cbdd42e6b905287257b3b613",
            "9bde6f851927406985b69dcaaef3d59e",
            "840e4fbb8520495cbfcabf794a698d13",
            "49f1e0a575d1420296cc6094520d3a5e",
            "cde8a300363b4dadb22df02cfc87a043",
            "83fa374e66f947ef909df642dce036b8",
            "51f3462e0aaa4dbba43a9fdfaf09bae5",
            "2c465c01cb07458eb1e94c2f052fcb83",
            "2eddf04415284959996b1dd0aea5bc19",
            "c66a90794dd142ef92e5dd32bbdab427",
            "172de5b533894c0a830ed3a907a68462",
            "09dab6e4a4bb4f5fb83c594aa9b2f9b6",
            "5730891395854917b62b206c30f9b108",
            "a5d0000eb23b4649ad60b03e94208182",
            "5dc844f780df4d8f919330c10428fcdd",
            "43e3829c09a14022a5f639ba567c72ef",
            "211d2e445c0945e7a175c4a2d6cb6c94",
            "e5cf59a44c7f49e688598e93da2dfbb2",
            "bb89caddb2094864869f909e2958d2cc",
            "b12a6fee89f14c6293f3ae28f93dcd75",
            "3ba573a21fd546989c76c76685279c8b",
            "df4aa80276b5478db2f294602c583eac",
            "75a2e38cbd054d8e88bf446523e0d16d",
            "42226b8288304b06a16cf59442b8a48a",
            "356163007d9845788e80c8acbeed6d22",
            "0dc94314983e4c75aed5df6a160d3591",
            "c4bfb4a1a018471680abcb4ddbd160db",
            "0bbc26e021484936b052671f1b951026",
            "b8b0cc38088f432e90479653f8fe6e9a",
            "8291aad355fb467c931ee800951df183",
            "f971c7d3d56b485399a18f5a51c0dfb5",
            "030de64deade4d1fa7e197563c75dec1",
            "c62a5b060e1248429593e10307109492",
            "b259cc1f4ee94e0b8ed5ef09d7df4cfd",
            "de001fe8c38f4d1ca0a8ede6987900fc",
            "66ac6f381dc743bfb58e2d0165b4b562",
            "b05d7d8d75ab4920982e45fd7bff2a40",
            "421173df9de94e88a7a14a9936fa65ab",
            "fc8a9408b75e4939a3c3409d80757744",
            "7d528ce1bde94d5794548ed2377aeefb",
            "35edc6cfb0d742678fb360d5151180aa",
            "2111d45b478a4a97b75e0de8c3134111",
            "1a3c5b680b2d4b4da1b80a607190f114",
            "6b645b1b58a94879a46ff7853d02929e",
            "d89b216b2bd34d82881b9e373bc83193",
            "a675d212577847c7996f2b9a243599b8",
            "a3d3b390a1ae4a8cabb3b6553a11cc9b",
            "eb741d75aac948b08219fb79cb963655",
            "0d392a8d8bc942a48390fe552ba2b415",
            "9ba01a5c1c0b49fa8b92ab7ae672cef0",
            "e0b177ed67954163b7745eba8f80d58f",
            "7e3462b02dcb452caa74fe668e75e0c6",
            "5cf4ebb8b216469086baf0501de9a7e0",
            "3b0d0c1ce3f34572a6d817956f982c07",
            "3cb3efc067d64e5d9b21034be8986076",
            "25b812fe687d4619a918fb16d2609b8e",
            "392fc73850e64d1b864bfa6ce56e895b",
            "6cbd19a11b894f2abb7f56c0571d124d",
            "e424ca1655424214bd1238c52d23c20a",
            "e4b867ac7e584b908a6c4cddfdfd179b",
            "eef63522cc5c409b91f0b070bb5a888d",
            "1ab941bf34b544c5bec8adb53b20f2dd",
            "a65c65c81d384ca48c1566faf1621714",
            "c0983173a62a408c80f9df4f4ec38303",
            "83e187d4ae924228b377d84d528feb46",
            "24d193ad969548c2862f6e60bdb473bc",
            "eba55053beef47a189a736fd7022b810",
            "927c97e937ed49cf86f598d90a0754d4",
            "d91779e7de3945c29b499508a1aa0c01",
            "9a0d61ee18c042c1922e840b46908926",
            "b9f53e553fb04b43b478d8f8e79a5832",
            "0f7a42b304a147ed9970fc7679e5e9c8",
            "5194eeb4cb304daf8d6fb7ba54f5bb35",
            "33826d8a2e9e478baa89f8c27044f966",
            "d3ac2917f69c4844869ba5c08e7c2a92",
            "47336e5d87524c20aed487cf4c995dd9",
            "104787cb38ce40c4a8e2a7b6b985401b",
            "0beea44f697440739d5c3893802f93fc",
            "774bf0ddd8c744a79e309cb07650e825",
            "9d08686788274d82b331cde0399c145d",
            "160b5644ae8f42d18fd3d84bafa77d6e",
            "b5af5902979d4e87a5aa63988e1fe93a",
            "e8943ea4a59344549951da2cb3537a75",
            "72e242610592438aa5ed9f83534c08fd",
            "7795092979434fed94bf8e8fbfb4e370",
            "305c03dec260422b8a7ff1fa11bc702a",
            "bb368cb0a67d451795f91ef8ce2bebf9",
            "b787294b6cde47f19549b8c6d6601db5",
            "2fae8cd934084559b353f5330cf09d5e",
            "1d8100d37b504b0aab1d666536b2a475",
            "c7b681f08835403f83b96c0e48ff3b19",
            "f68a9e886e7c461e82b3904c7380cdd5",
            "62345e51e2ed49e396203678f1e9b1b3",
            "ef806538c76d4fefb7bdd1453ae89c83",
            "e23af21ac2774e79b04f98d6653b2481",
            "38224182140849939120f8be372fcbe3",
            "1ec6558b5df24722805579bef06f1184",
            "c565f99c15594ec98e93603e1adbf721",
            "cf0caca383d546478371d40b254a221d",
            "6a90abdf7c5b4f87b53310d8285ecb26",
            "656d6f2b7d7d4bbaab0ec1a2fe231908",
            "2d1e7a8fd3c245a3af33a790c9886d26",
            "244769745cb042959853c6fdfae6efdc",
            "d93f7b89b5f34df39575c0176e6423be",
            "42a6a94a36c34f09974f435e83adcf53",
            "8b620a120b5b4993b9841dac47325922",
            "1b392d19a959454f87a612826d9738b5",
            "067a8c1cdd364a6ca66be6b1dee093fa",
            "d991318faa8d43b693f868b489593343",
            "e24cae45d4c14e4782f51d110c6eaa12",
            "015c89b4626549c49671b65d0239ebbc",
            "ee5a1cc4c1ea472191a4d2c382be9cbe",
            "ca5fd5502c4e47cf8031d28b41306eaa",
            "bc940f3146664f2e958028655168fef1",
            "43b57d53e0a44938b47659e53498070f",
            "41367fbfc70a4ae1b595fd85f75461d1",
            "931d6182641b4bcfbe34c2b9d4a61660",
            "79ced388658d483a82abe7dc3a2cb754",
            "5d98a1c5adff4605ac7f1415d1075dcb",
            "97c47c7892d54bf7a237a96065f79aa3",
            "b25edc61a9bf4a228f68b715201f74b6",
            "ab5591deca36446faf82c56fa1b64fa5",
            "a3ae1b70bee44448aabfbff15ec64370",
            "082e29f491a5494e81ff0c48e153aab9",
            "a8210131bded4f36b5d88d3e2ab3dd17",
            "f3f43b5558234a9ba380af4f1fe47ac8",
            "8655223cf8914115b6dd8e6e44379346",
            "602b55150eb143648f78351c2f5a901d",
            "92da30d4d25d4286a96c174b47b89786",
            "f4ed4d4423d04f20b8168b43a3177cff",
            "432cbb10b3e642bcb14aa070673e00fc",
            "4e896d1b2bc14758994749f4a97da11c",
            "4367e276e4b340b9803a175bbdefb7a0",
            "b07cc5bd5b574c0fbd1cd627b9f3cb99",
            "505d8983bd7f4dd38d7cc4bae1a12d5d",
            "0073f24fcdf444faa3cd309797255bbf",
            "c117dcae5cb344e5ba6583215e92e6f7",
            "0b58859709e74b22a1b9c2e43bf609df",
            "1ee3f22bf14b4e77a6c6e0b72352c28d",
            "62e6e8b4123b45aa97c1c37e0796e816",
            "866c47f783ee4ddd9946d42f0d082521",
            "d1f8c7f14d624fe9aa74368593428d0d",
            "56ddae1ad73f49f28def9bd313cdc5c7",
            "098a63dc6dd740ff93ba97e35034ca77",
            "38a69f128b114fa1b3d24e4b945424bb",
            "d477d0c1bf604874801044749fe8d730",
            "1c2d8587072b4da3983fdd76c82fe647",
            "a65a80de22d84b9bb7fca494f2670000",
            "ff05ede949a643f49b25bd1f48b29b66",
            "082561c2b41b436c9dda29c826af987b",
            "5532009eca29493bbf3940ac8d8c4470",
            "67adc7c2317d40ddb69b27cec63d0464",
            "1b9ef92c25e04aeb9c8ca598a83fdd56",
            "f6b22a5e81a040f2a1663459b2167163",
            "ea9275930e0c4afd8a48cb0825489c9f",
            "c53fc4fe7caa4519b72b6542e16decfb",
            "0f28af6dc6064e13a721ff1896b15174",
            "7c10477b759b4668a212207adbf6e372",
            "75a0af587dba47baaacf550a462a7b10",
            "335909e5298241aea79fb307f46e3de3",
            "4925541d5f6d46ea88617d9dc4b6dd61",
            "ff707c084bf545839e171fa7e7c4c883",
            "95408b69aa7643a7a692eb039a9ef7bd",
            "3f96305f074d4c3ba5bed5f1b085b83a",
            "f1646782dc764f9399feec2eceb66f93",
            "e1b4c812d4ab4046992f203c61a918c5",
            "fc7c38c748b24eb3bec3bff1bb0951eb",
            "1195452a754447e8bdfe0343bb422027",
            "83467a2300e7467a892f66931df54bef",
            "d1f3b5c1097d4a93bee00a8353957fbd",
            "8ae43a6b35b94c2ab2d73f79d92aa831",
            "e472a90497634b8f96c3ff35e59d03a9",
            "1c87ea3051f94e52a616a89d777c0f7d",
            "7c7b765f737c42f1addf6d5b0e4592ac",
            "e40ca8ec4b564d84ba7fdfff4ff234bd",
            "dae30baf42874c6bbf2a1759d9788117",
            "ba4019542c70406183ebfe0b7f049b5c",
            "a4937699b1d54701a7e87bffc1900eae",
            "0306128b87c94e2492c05e0fb48fe4b2",
            "1764312af5104387a9ed9be0072ba408",
            "52aa751300af4c3fb744175f4aba0af2",
            "13e0b4c562134be4a04285da5f94c0cf",
            "5b125d58434b43a1b7fb81adab0da667",
            "8fe855c79e214cd7ac3b6f42895ee35b",
            "d3361410b3674d80ba5d9542d0a90dde",
            "9e4873c491814687a3b7b85f232fb8cd",
            "462e07cfb4944e988cf7c9db35d8f317",
            "b006d34742bf4040982bf6de8951d9c2",
            "b0a86f9d1cb24be0ac189f40185af98e"
          ]
        },
        "outputId": "064b2f64-4e80-40c0-c569-6fb4471ac90d"
      },
      "execution_count": null,
      "outputs": [
        {
          "output_type": "stream",
          "name": "stdout",
          "text": [
            "/content/evaluation-pipeline\n"
          ]
        },
        {
          "output_type": "display_data",
          "data": {
            "text/plain": [
              "Generating train split: 0 examples [00:00, ? examples/s]"
            ],
            "application/vnd.jupyter.widget-view+json": {
              "version_major": 2,
              "version_minor": 0,
              "model_id": "b33af465be45423981281ed9d38b2f65"
            }
          },
          "metadata": {}
        },
        {
          "output_type": "stream",
          "name": "stdout",
          "text": [
            "\n",
            "» Assigning unique IDs to 'blimp_from_file+null' docs\n"
          ]
        },
        {
          "output_type": "stream",
          "name": "stderr",
          "text": [
            "INFO:lm_eval.evaluator:\n",
            "» Assigning unique IDs to 'blimp_from_file+null' docs\n"
          ]
        },
        {
          "output_type": "display_data",
          "data": {
            "text/plain": [
              "Map:   0%|          | 0/1956 [00:00<?, ? examples/s]"
            ],
            "application/vnd.jupyter.widget-view+json": {
              "version_major": 2,
              "version_minor": 0,
              "model_id": "6ba97138f14c43afa0200c49ffa14e25"
            }
          },
          "metadata": {}
        },
        {
          "output_type": "stream",
          "name": "stdout",
          "text": [
            "\n",
            "» Filtering invalid docs from 'blimp_from_file+null'\n"
          ]
        },
        {
          "output_type": "stream",
          "name": "stderr",
          "text": [
            "INFO:lm_eval.evaluator:\n",
            "» Filtering invalid docs from 'blimp_from_file+null'\n"
          ]
        },
        {
          "output_type": "display_data",
          "data": {
            "text/plain": [
              "Filter:   0%|          | 0/1956 [00:00<?, ? examples/s]"
            ],
            "application/vnd.jupyter.widget-view+json": {
              "version_major": 2,
              "version_minor": 0,
              "model_id": "fdaf69491bf1478ebeb982364d8424ba"
            }
          },
          "metadata": {}
        },
        {
          "output_type": "stream",
          "name": "stdout",
          "text": [
            "\n",
            "» Constructing 'blimp_from_file+null' contexts and requests\n"
          ]
        },
        {
          "output_type": "stream",
          "name": "stderr",
          "text": [
            "INFO:lm_eval.evaluator:\n",
            "» Constructing 'blimp_from_file+null' contexts and requests\n",
            "100%|██████████| 1956/1956 [00:00<00:00, 3093.84it/s]"
          ]
        },
        {
          "output_type": "stream",
          "name": "stdout",
          "text": [
            "\n",
            "» Running all `loglikelihood` requests\n"
          ]
        },
        {
          "output_type": "stream",
          "name": "stderr",
          "text": [
            "\n",
            "INFO:lm_eval.evaluator:\n",
            "» Running all `loglikelihood` requests\n",
            "100%|██████████| 3912/3912 [00:27<00:00, 144.69it/s]\n"
          ]
        },
        {
          "output_type": "stream",
          "name": "stdout",
          "text": [
            "anaphor_agreement:\t61.55%\n"
          ]
        },
        {
          "output_type": "display_data",
          "data": {
            "text/plain": [
              "Generating train split: 0 examples [00:00, ? examples/s]"
            ],
            "application/vnd.jupyter.widget-view+json": {
              "version_major": 2,
              "version_minor": 0,
              "model_id": "4c1a984c44074330a4a88f084989118a"
            }
          },
          "metadata": {}
        },
        {
          "output_type": "stream",
          "name": "stdout",
          "text": [
            "\n",
            "» Assigning unique IDs to 'blimp_from_file+null' docs\n"
          ]
        },
        {
          "output_type": "stream",
          "name": "stderr",
          "text": [
            "INFO:lm_eval.evaluator:\n",
            "» Assigning unique IDs to 'blimp_from_file+null' docs\n"
          ]
        },
        {
          "output_type": "display_data",
          "data": {
            "text/plain": [
              "Map:   0%|          | 0/8248 [00:00<?, ? examples/s]"
            ],
            "application/vnd.jupyter.widget-view+json": {
              "version_major": 2,
              "version_minor": 0,
              "model_id": "7792715e8aba40869bd5692943cb5954"
            }
          },
          "metadata": {}
        },
        {
          "output_type": "stream",
          "name": "stdout",
          "text": [
            "\n",
            "» Filtering invalid docs from 'blimp_from_file+null'\n"
          ]
        },
        {
          "output_type": "stream",
          "name": "stderr",
          "text": [
            "INFO:lm_eval.evaluator:\n",
            "» Filtering invalid docs from 'blimp_from_file+null'\n"
          ]
        },
        {
          "output_type": "display_data",
          "data": {
            "text/plain": [
              "Filter:   0%|          | 0/8248 [00:00<?, ? examples/s]"
            ],
            "application/vnd.jupyter.widget-view+json": {
              "version_major": 2,
              "version_minor": 0,
              "model_id": "be01ba2c416e416aa7d90614760b928a"
            }
          },
          "metadata": {}
        },
        {
          "output_type": "stream",
          "name": "stdout",
          "text": [
            "\n",
            "» Constructing 'blimp_from_file+null' contexts and requests\n"
          ]
        },
        {
          "output_type": "stream",
          "name": "stderr",
          "text": [
            "INFO:lm_eval.evaluator:\n",
            "» Constructing 'blimp_from_file+null' contexts and requests\n",
            "100%|██████████| 8248/8248 [00:01<00:00, 4863.01it/s]"
          ]
        },
        {
          "output_type": "stream",
          "name": "stdout",
          "text": [
            "\n",
            "» Running all `loglikelihood` requests\n"
          ]
        },
        {
          "output_type": "stream",
          "name": "stderr",
          "text": [
            "\n",
            "INFO:lm_eval.evaluator:\n",
            "» Running all `loglikelihood` requests\n",
            "100%|██████████| 16496/16496 [01:54<00:00, 143.65it/s]\n"
          ]
        },
        {
          "output_type": "stream",
          "name": "stdout",
          "text": [
            "argument_structure:\t61.14%\n"
          ]
        },
        {
          "output_type": "display_data",
          "data": {
            "text/plain": [
              "Generating train split: 0 examples [00:00, ? examples/s]"
            ],
            "application/vnd.jupyter.widget-view+json": {
              "version_major": 2,
              "version_minor": 0,
              "model_id": "5057351216914fd29eb04d667b42d2b0"
            }
          },
          "metadata": {}
        },
        {
          "output_type": "stream",
          "name": "stdout",
          "text": [
            "\n",
            "» Assigning unique IDs to 'blimp_from_file+null' docs\n"
          ]
        },
        {
          "output_type": "stream",
          "name": "stderr",
          "text": [
            "INFO:lm_eval.evaluator:\n",
            "» Assigning unique IDs to 'blimp_from_file+null' docs\n"
          ]
        },
        {
          "output_type": "display_data",
          "data": {
            "text/plain": [
              "Map:   0%|          | 0/6738 [00:00<?, ? examples/s]"
            ],
            "application/vnd.jupyter.widget-view+json": {
              "version_major": 2,
              "version_minor": 0,
              "model_id": "157ca30298bb4517b405710a353d7121"
            }
          },
          "metadata": {}
        },
        {
          "output_type": "stream",
          "name": "stdout",
          "text": [
            "\n",
            "» Filtering invalid docs from 'blimp_from_file+null'\n"
          ]
        },
        {
          "output_type": "stream",
          "name": "stderr",
          "text": [
            "INFO:lm_eval.evaluator:\n",
            "» Filtering invalid docs from 'blimp_from_file+null'\n"
          ]
        },
        {
          "output_type": "display_data",
          "data": {
            "text/plain": [
              "Filter:   0%|          | 0/6738 [00:00<?, ? examples/s]"
            ],
            "application/vnd.jupyter.widget-view+json": {
              "version_major": 2,
              "version_minor": 0,
              "model_id": "8969455776104f5baf5a32c6ccbb286a"
            }
          },
          "metadata": {}
        },
        {
          "output_type": "stream",
          "name": "stdout",
          "text": [
            "\n",
            "» Constructing 'blimp_from_file+null' contexts and requests\n"
          ]
        },
        {
          "output_type": "stream",
          "name": "stderr",
          "text": [
            "INFO:lm_eval.evaluator:\n",
            "» Constructing 'blimp_from_file+null' contexts and requests\n",
            "100%|██████████| 6738/6738 [00:01<00:00, 5248.61it/s]"
          ]
        },
        {
          "output_type": "stream",
          "name": "stdout",
          "text": [
            "\n",
            "» Running all `loglikelihood` requests\n"
          ]
        },
        {
          "output_type": "stream",
          "name": "stderr",
          "text": [
            "\n",
            "INFO:lm_eval.evaluator:\n",
            "» Running all `loglikelihood` requests\n",
            "100%|██████████| 13476/13476 [01:37<00:00, 138.67it/s]\n"
          ]
        },
        {
          "output_type": "stream",
          "name": "stdout",
          "text": [
            "binding:\t64.38%\n"
          ]
        },
        {
          "output_type": "display_data",
          "data": {
            "text/plain": [
              "Generating train split: 0 examples [00:00, ? examples/s]"
            ],
            "application/vnd.jupyter.widget-view+json": {
              "version_major": 2,
              "version_minor": 0,
              "model_id": "147bdacd1f9b49028f8deaa2504c20fd"
            }
          },
          "metadata": {}
        },
        {
          "output_type": "stream",
          "name": "stdout",
          "text": [
            "\n",
            "» Assigning unique IDs to 'blimp_from_file+null' docs\n"
          ]
        },
        {
          "output_type": "stream",
          "name": "stderr",
          "text": [
            "INFO:lm_eval.evaluator:\n",
            "» Assigning unique IDs to 'blimp_from_file+null' docs\n"
          ]
        },
        {
          "output_type": "display_data",
          "data": {
            "text/plain": [
              "Map:   0%|          | 0/4526 [00:00<?, ? examples/s]"
            ],
            "application/vnd.jupyter.widget-view+json": {
              "version_major": 2,
              "version_minor": 0,
              "model_id": "25c9f27496b64673953c172cb8dfeaca"
            }
          },
          "metadata": {}
        },
        {
          "output_type": "stream",
          "name": "stdout",
          "text": [
            "\n",
            "» Filtering invalid docs from 'blimp_from_file+null'\n"
          ]
        },
        {
          "output_type": "stream",
          "name": "stderr",
          "text": [
            "INFO:lm_eval.evaluator:\n",
            "» Filtering invalid docs from 'blimp_from_file+null'\n"
          ]
        },
        {
          "output_type": "display_data",
          "data": {
            "text/plain": [
              "Filter:   0%|          | 0/4526 [00:00<?, ? examples/s]"
            ],
            "application/vnd.jupyter.widget-view+json": {
              "version_major": 2,
              "version_minor": 0,
              "model_id": "787cfba2d1fd4b6faffa51bc40b9a7e3"
            }
          },
          "metadata": {}
        },
        {
          "output_type": "stream",
          "name": "stdout",
          "text": [
            "\n",
            "» Constructing 'blimp_from_file+null' contexts and requests\n"
          ]
        },
        {
          "output_type": "stream",
          "name": "stderr",
          "text": [
            "INFO:lm_eval.evaluator:\n",
            "» Constructing 'blimp_from_file+null' contexts and requests\n",
            "100%|██████████| 4526/4526 [00:00<00:00, 7223.77it/s]"
          ]
        },
        {
          "output_type": "stream",
          "name": "stdout",
          "text": [
            "\n",
            "» Running all `loglikelihood` requests\n"
          ]
        },
        {
          "output_type": "stream",
          "name": "stderr",
          "text": [
            "\n",
            "INFO:lm_eval.evaluator:\n",
            "» Running all `loglikelihood` requests\n",
            "100%|██████████| 9052/9052 [01:07<00:00, 133.36it/s]\n"
          ]
        },
        {
          "output_type": "stream",
          "name": "stdout",
          "text": [
            "control_raising:\t59.30%\n"
          ]
        },
        {
          "output_type": "display_data",
          "data": {
            "text/plain": [
              "Generating train split: 0 examples [00:00, ? examples/s]"
            ],
            "application/vnd.jupyter.widget-view+json": {
              "version_major": 2,
              "version_minor": 0,
              "model_id": "d1c411c81f6148fbb5b2f40685f9fed2"
            }
          },
          "metadata": {}
        },
        {
          "output_type": "stream",
          "name": "stdout",
          "text": [
            "\n",
            "» Assigning unique IDs to 'blimp_from_file+null' docs\n"
          ]
        },
        {
          "output_type": "stream",
          "name": "stderr",
          "text": [
            "INFO:lm_eval.evaluator:\n",
            "» Assigning unique IDs to 'blimp_from_file+null' docs\n"
          ]
        },
        {
          "output_type": "display_data",
          "data": {
            "text/plain": [
              "Map:   0%|          | 0/7542 [00:00<?, ? examples/s]"
            ],
            "application/vnd.jupyter.widget-view+json": {
              "version_major": 2,
              "version_minor": 0,
              "model_id": "b1770f02c29b4c469505366cb9b6e781"
            }
          },
          "metadata": {}
        },
        {
          "output_type": "stream",
          "name": "stdout",
          "text": [
            "\n",
            "» Filtering invalid docs from 'blimp_from_file+null'\n"
          ]
        },
        {
          "output_type": "stream",
          "name": "stderr",
          "text": [
            "INFO:lm_eval.evaluator:\n",
            "» Filtering invalid docs from 'blimp_from_file+null'\n"
          ]
        },
        {
          "output_type": "display_data",
          "data": {
            "text/plain": [
              "Filter:   0%|          | 0/7542 [00:00<?, ? examples/s]"
            ],
            "application/vnd.jupyter.widget-view+json": {
              "version_major": 2,
              "version_minor": 0,
              "model_id": "ccef3e4a12f54ee1ae29c795fec29a63"
            }
          },
          "metadata": {}
        },
        {
          "output_type": "stream",
          "name": "stdout",
          "text": [
            "\n",
            "» Constructing 'blimp_from_file+null' contexts and requests\n"
          ]
        },
        {
          "output_type": "stream",
          "name": "stderr",
          "text": [
            "INFO:lm_eval.evaluator:\n",
            "» Constructing 'blimp_from_file+null' contexts and requests\n",
            "100%|██████████| 7542/7542 [00:01<00:00, 3848.14it/s]"
          ]
        },
        {
          "output_type": "stream",
          "name": "stdout",
          "text": [
            "\n",
            "» Running all `loglikelihood` requests\n"
          ]
        },
        {
          "output_type": "stream",
          "name": "stderr",
          "text": [
            "\n",
            "INFO:lm_eval.evaluator:\n",
            "» Running all `loglikelihood` requests\n",
            "100%|██████████| 15084/15084 [01:47<00:00, 140.49it/s]\n"
          ]
        },
        {
          "output_type": "stream",
          "name": "stdout",
          "text": [
            "determiner_noun_agreement:\t77.57%\n"
          ]
        },
        {
          "output_type": "display_data",
          "data": {
            "text/plain": [
              "Generating train split: 0 examples [00:00, ? examples/s]"
            ],
            "application/vnd.jupyter.widget-view+json": {
              "version_major": 2,
              "version_minor": 0,
              "model_id": "f682b1d0647445549f4e96275de95309"
            }
          },
          "metadata": {}
        },
        {
          "output_type": "stream",
          "name": "stdout",
          "text": [
            "\n",
            "» Assigning unique IDs to 'blimp_from_file+null' docs\n"
          ]
        },
        {
          "output_type": "stream",
          "name": "stderr",
          "text": [
            "INFO:lm_eval.evaluator:\n",
            "» Assigning unique IDs to 'blimp_from_file+null' docs\n"
          ]
        },
        {
          "output_type": "display_data",
          "data": {
            "text/plain": [
              "Map:   0%|          | 0/1732 [00:00<?, ? examples/s]"
            ],
            "application/vnd.jupyter.widget-view+json": {
              "version_major": 2,
              "version_minor": 0,
              "model_id": "437ef4aa47c44d168ca9d13adcf4a866"
            }
          },
          "metadata": {}
        },
        {
          "output_type": "stream",
          "name": "stdout",
          "text": [
            "\n",
            "» Filtering invalid docs from 'blimp_from_file+null'\n"
          ]
        },
        {
          "output_type": "stream",
          "name": "stderr",
          "text": [
            "INFO:lm_eval.evaluator:\n",
            "» Filtering invalid docs from 'blimp_from_file+null'\n"
          ]
        },
        {
          "output_type": "display_data",
          "data": {
            "text/plain": [
              "Filter:   0%|          | 0/1732 [00:00<?, ? examples/s]"
            ],
            "application/vnd.jupyter.widget-view+json": {
              "version_major": 2,
              "version_minor": 0,
              "model_id": "c8742139da064926830e3077ebe324dd"
            }
          },
          "metadata": {}
        },
        {
          "output_type": "stream",
          "name": "stdout",
          "text": [
            "\n",
            "» Constructing 'blimp_from_file+null' contexts and requests\n"
          ]
        },
        {
          "output_type": "stream",
          "name": "stderr",
          "text": [
            "INFO:lm_eval.evaluator:\n",
            "» Constructing 'blimp_from_file+null' contexts and requests\n",
            "100%|██████████| 1732/1732 [00:00<00:00, 7363.07it/s]"
          ]
        },
        {
          "output_type": "stream",
          "name": "stdout",
          "text": [
            "\n",
            "» Running all `loglikelihood` requests\n"
          ]
        },
        {
          "output_type": "stream",
          "name": "stderr",
          "text": [
            "\n",
            "INFO:lm_eval.evaluator:\n",
            "» Running all `loglikelihood` requests\n",
            "100%|██████████| 3464/3464 [00:28<00:00, 120.63it/s]\n"
          ]
        },
        {
          "output_type": "stream",
          "name": "stdout",
          "text": [
            "ellipsis:\t53.75%\n"
          ]
        },
        {
          "output_type": "display_data",
          "data": {
            "text/plain": [
              "Generating train split: 0 examples [00:00, ? examples/s]"
            ],
            "application/vnd.jupyter.widget-view+json": {
              "version_major": 2,
              "version_minor": 0,
              "model_id": "5814a90b851a4504947be0502f641d0d"
            }
          },
          "metadata": {}
        },
        {
          "output_type": "stream",
          "name": "stdout",
          "text": [
            "\n",
            "» Assigning unique IDs to 'blimp_from_file+null' docs\n"
          ]
        },
        {
          "output_type": "stream",
          "name": "stderr",
          "text": [
            "INFO:lm_eval.evaluator:\n",
            "» Assigning unique IDs to 'blimp_from_file+null' docs\n"
          ]
        },
        {
          "output_type": "display_data",
          "data": {
            "text/plain": [
              "Map:   0%|          | 0/6426 [00:00<?, ? examples/s]"
            ],
            "application/vnd.jupyter.widget-view+json": {
              "version_major": 2,
              "version_minor": 0,
              "model_id": "840e4fbb8520495cbfcabf794a698d13"
            }
          },
          "metadata": {}
        },
        {
          "output_type": "stream",
          "name": "stdout",
          "text": [
            "\n",
            "» Filtering invalid docs from 'blimp_from_file+null'\n"
          ]
        },
        {
          "output_type": "stream",
          "name": "stderr",
          "text": [
            "INFO:lm_eval.evaluator:\n",
            "» Filtering invalid docs from 'blimp_from_file+null'\n"
          ]
        },
        {
          "output_type": "display_data",
          "data": {
            "text/plain": [
              "Filter:   0%|          | 0/6426 [00:00<?, ? examples/s]"
            ],
            "application/vnd.jupyter.widget-view+json": {
              "version_major": 2,
              "version_minor": 0,
              "model_id": "a5d0000eb23b4649ad60b03e94208182"
            }
          },
          "metadata": {}
        },
        {
          "output_type": "stream",
          "name": "stdout",
          "text": [
            "\n",
            "» Constructing 'blimp_from_file+null' contexts and requests\n"
          ]
        },
        {
          "output_type": "stream",
          "name": "stderr",
          "text": [
            "INFO:lm_eval.evaluator:\n",
            "» Constructing 'blimp_from_file+null' contexts and requests\n",
            "100%|██████████| 6426/6426 [00:00<00:00, 6959.88it/s]"
          ]
        },
        {
          "output_type": "stream",
          "name": "stdout",
          "text": [
            "\n",
            "» Running all `loglikelihood` requests\n"
          ]
        },
        {
          "output_type": "stream",
          "name": "stderr",
          "text": [
            "\n",
            "INFO:lm_eval.evaluator:\n",
            "» Running all `loglikelihood` requests\n",
            "100%|██████████| 12852/12852 [01:36<00:00, 133.52it/s]\n"
          ]
        },
        {
          "output_type": "stream",
          "name": "stdout",
          "text": [
            "filler_gap:\t65.22%\n"
          ]
        },
        {
          "output_type": "display_data",
          "data": {
            "text/plain": [
              "Generating train split: 0 examples [00:00, ? examples/s]"
            ],
            "application/vnd.jupyter.widget-view+json": {
              "version_major": 2,
              "version_minor": 0,
              "model_id": "356163007d9845788e80c8acbeed6d22"
            }
          },
          "metadata": {}
        },
        {
          "output_type": "stream",
          "name": "stdout",
          "text": [
            "\n",
            "» Assigning unique IDs to 'blimp_from_file+null' docs\n"
          ]
        },
        {
          "output_type": "stream",
          "name": "stderr",
          "text": [
            "INFO:lm_eval.evaluator:\n",
            "» Assigning unique IDs to 'blimp_from_file+null' docs\n"
          ]
        },
        {
          "output_type": "display_data",
          "data": {
            "text/plain": [
              "Map:   0%|          | 0/1965 [00:00<?, ? examples/s]"
            ],
            "application/vnd.jupyter.widget-view+json": {
              "version_major": 2,
              "version_minor": 0,
              "model_id": "66ac6f381dc743bfb58e2d0165b4b562"
            }
          },
          "metadata": {}
        },
        {
          "output_type": "stream",
          "name": "stdout",
          "text": [
            "\n",
            "» Filtering invalid docs from 'blimp_from_file+null'\n"
          ]
        },
        {
          "output_type": "stream",
          "name": "stderr",
          "text": [
            "INFO:lm_eval.evaluator:\n",
            "» Filtering invalid docs from 'blimp_from_file+null'\n"
          ]
        },
        {
          "output_type": "display_data",
          "data": {
            "text/plain": [
              "Filter:   0%|          | 0/1965 [00:00<?, ? examples/s]"
            ],
            "application/vnd.jupyter.widget-view+json": {
              "version_major": 2,
              "version_minor": 0,
              "model_id": "a3d3b390a1ae4a8cabb3b6553a11cc9b"
            }
          },
          "metadata": {}
        },
        {
          "output_type": "stream",
          "name": "stdout",
          "text": [
            "\n",
            "» Constructing 'blimp_from_file+null' contexts and requests\n"
          ]
        },
        {
          "output_type": "stream",
          "name": "stderr",
          "text": [
            "INFO:lm_eval.evaluator:\n",
            "» Constructing 'blimp_from_file+null' contexts and requests\n",
            "100%|██████████| 1965/1965 [00:00<00:00, 4004.68it/s]"
          ]
        },
        {
          "output_type": "stream",
          "name": "stdout",
          "text": [
            "\n",
            "» Running all `loglikelihood` requests\n"
          ]
        },
        {
          "output_type": "stream",
          "name": "stderr",
          "text": [
            "\n",
            "INFO:lm_eval.evaluator:\n",
            "» Running all `loglikelihood` requests\n",
            "100%|██████████| 3930/3930 [00:26<00:00, 148.59it/s]\n"
          ]
        },
        {
          "output_type": "stream",
          "name": "stdout",
          "text": [
            "irregular_forms:\t83.41%\n"
          ]
        },
        {
          "output_type": "display_data",
          "data": {
            "text/plain": [
              "Generating train split: 0 examples [00:00, ? examples/s]"
            ],
            "application/vnd.jupyter.widget-view+json": {
              "version_major": 2,
              "version_minor": 0,
              "model_id": "6cbd19a11b894f2abb7f56c0571d124d"
            }
          },
          "metadata": {}
        },
        {
          "output_type": "stream",
          "name": "stdout",
          "text": [
            "\n",
            "» Assigning unique IDs to 'blimp_from_file+null' docs\n"
          ]
        },
        {
          "output_type": "stream",
          "name": "stderr",
          "text": [
            "INFO:lm_eval.evaluator:\n",
            "» Assigning unique IDs to 'blimp_from_file+null' docs\n"
          ]
        },
        {
          "output_type": "display_data",
          "data": {
            "text/plain": [
              "Map:   0%|          | 0/2676 [00:00<?, ? examples/s]"
            ],
            "application/vnd.jupyter.widget-view+json": {
              "version_major": 2,
              "version_minor": 0,
              "model_id": "d91779e7de3945c29b499508a1aa0c01"
            }
          },
          "metadata": {}
        },
        {
          "output_type": "stream",
          "name": "stdout",
          "text": [
            "\n",
            "» Filtering invalid docs from 'blimp_from_file+null'\n"
          ]
        },
        {
          "output_type": "stream",
          "name": "stderr",
          "text": [
            "INFO:lm_eval.evaluator:\n",
            "» Filtering invalid docs from 'blimp_from_file+null'\n"
          ]
        },
        {
          "output_type": "display_data",
          "data": {
            "text/plain": [
              "Filter:   0%|          | 0/2676 [00:00<?, ? examples/s]"
            ],
            "application/vnd.jupyter.widget-view+json": {
              "version_major": 2,
              "version_minor": 0,
              "model_id": "9d08686788274d82b331cde0399c145d"
            }
          },
          "metadata": {}
        },
        {
          "output_type": "stream",
          "name": "stdout",
          "text": [
            "\n",
            "» Constructing 'blimp_from_file+null' contexts and requests\n"
          ]
        },
        {
          "output_type": "stream",
          "name": "stderr",
          "text": [
            "INFO:lm_eval.evaluator:\n",
            "» Constructing 'blimp_from_file+null' contexts and requests\n",
            "100%|██████████| 2676/2676 [00:00<00:00, 7354.86it/s]"
          ]
        },
        {
          "output_type": "stream",
          "name": "stdout",
          "text": [
            "\n",
            "» Running all `loglikelihood` requests\n"
          ]
        },
        {
          "output_type": "stream",
          "name": "stderr",
          "text": [
            "\n",
            "INFO:lm_eval.evaluator:\n",
            "» Running all `loglikelihood` requests\n",
            "100%|██████████| 5352/5352 [00:39<00:00, 136.24it/s]\n"
          ]
        },
        {
          "output_type": "stream",
          "name": "stdout",
          "text": [
            "island_effects:\t44.28%\n"
          ]
        },
        {
          "output_type": "display_data",
          "data": {
            "text/plain": [
              "Generating train split: 0 examples [00:00, ? examples/s]"
            ],
            "application/vnd.jupyter.widget-view+json": {
              "version_major": 2,
              "version_minor": 0,
              "model_id": "c7b681f08835403f83b96c0e48ff3b19"
            }
          },
          "metadata": {}
        },
        {
          "output_type": "stream",
          "name": "stdout",
          "text": [
            "\n",
            "» Assigning unique IDs to 'blimp_from_file+null' docs\n"
          ]
        },
        {
          "output_type": "stream",
          "name": "stderr",
          "text": [
            "INFO:lm_eval.evaluator:\n",
            "» Assigning unique IDs to 'blimp_from_file+null' docs\n"
          ]
        },
        {
          "output_type": "display_data",
          "data": {
            "text/plain": [
              "Map:   0%|          | 0/6586 [00:00<?, ? examples/s]"
            ],
            "application/vnd.jupyter.widget-view+json": {
              "version_major": 2,
              "version_minor": 0,
              "model_id": "2d1e7a8fd3c245a3af33a790c9886d26"
            }
          },
          "metadata": {}
        },
        {
          "output_type": "stream",
          "name": "stdout",
          "text": [
            "\n",
            "» Filtering invalid docs from 'blimp_from_file+null'\n"
          ]
        },
        {
          "output_type": "stream",
          "name": "stderr",
          "text": [
            "INFO:lm_eval.evaluator:\n",
            "» Filtering invalid docs from 'blimp_from_file+null'\n"
          ]
        },
        {
          "output_type": "display_data",
          "data": {
            "text/plain": [
              "Filter:   0%|          | 0/6586 [00:00<?, ? examples/s]"
            ],
            "application/vnd.jupyter.widget-view+json": {
              "version_major": 2,
              "version_minor": 0,
              "model_id": "ca5fd5502c4e47cf8031d28b41306eaa"
            }
          },
          "metadata": {}
        },
        {
          "output_type": "stream",
          "name": "stdout",
          "text": [
            "\n",
            "» Constructing 'blimp_from_file+null' contexts and requests\n"
          ]
        },
        {
          "output_type": "stream",
          "name": "stderr",
          "text": [
            "INFO:lm_eval.evaluator:\n",
            "» Constructing 'blimp_from_file+null' contexts and requests\n",
            "100%|██████████| 6586/6586 [00:01<00:00, 5076.80it/s]"
          ]
        },
        {
          "output_type": "stream",
          "name": "stdout",
          "text": [
            "\n",
            "» Running all `loglikelihood` requests\n"
          ]
        },
        {
          "output_type": "stream",
          "name": "stderr",
          "text": [
            "\n",
            "INFO:lm_eval.evaluator:\n",
            "» Running all `loglikelihood` requests\n",
            "100%|██████████| 13172/13172 [01:33<00:00, 140.64it/s]\n"
          ]
        },
        {
          "output_type": "stream",
          "name": "stdout",
          "text": [
            "npi_licensing:\t54.11%\n"
          ]
        },
        {
          "output_type": "display_data",
          "data": {
            "text/plain": [
              "Generating train split: 0 examples [00:00, ? examples/s]"
            ],
            "application/vnd.jupyter.widget-view+json": {
              "version_major": 2,
              "version_minor": 0,
              "model_id": "082e29f491a5494e81ff0c48e153aab9"
            }
          },
          "metadata": {}
        },
        {
          "output_type": "stream",
          "name": "stdout",
          "text": [
            "\n",
            "» Assigning unique IDs to 'blimp_from_file+null' docs\n"
          ]
        },
        {
          "output_type": "stream",
          "name": "stderr",
          "text": [
            "INFO:lm_eval.evaluator:\n",
            "» Assigning unique IDs to 'blimp_from_file+null' docs\n"
          ]
        },
        {
          "output_type": "display_data",
          "data": {
            "text/plain": [
              "Map:   0%|          | 0/3882 [00:00<?, ? examples/s]"
            ],
            "application/vnd.jupyter.widget-view+json": {
              "version_major": 2,
              "version_minor": 0,
              "model_id": "505d8983bd7f4dd38d7cc4bae1a12d5d"
            }
          },
          "metadata": {}
        },
        {
          "output_type": "stream",
          "name": "stdout",
          "text": [
            "\n",
            "» Filtering invalid docs from 'blimp_from_file+null'\n"
          ]
        },
        {
          "output_type": "stream",
          "name": "stderr",
          "text": [
            "INFO:lm_eval.evaluator:\n",
            "» Filtering invalid docs from 'blimp_from_file+null'\n"
          ]
        },
        {
          "output_type": "display_data",
          "data": {
            "text/plain": [
              "Filter:   0%|          | 0/3882 [00:00<?, ? examples/s]"
            ],
            "application/vnd.jupyter.widget-view+json": {
              "version_major": 2,
              "version_minor": 0,
              "model_id": "d477d0c1bf604874801044749fe8d730"
            }
          },
          "metadata": {}
        },
        {
          "output_type": "stream",
          "name": "stdout",
          "text": [
            "\n",
            "» Constructing 'blimp_from_file+null' contexts and requests\n"
          ]
        },
        {
          "output_type": "stream",
          "name": "stderr",
          "text": [
            "INFO:lm_eval.evaluator:\n",
            "» Constructing 'blimp_from_file+null' contexts and requests\n",
            "100%|██████████| 3882/3882 [00:00<00:00, 7083.99it/s]"
          ]
        },
        {
          "output_type": "stream",
          "name": "stdout",
          "text": [
            "\n",
            "» Running all `loglikelihood` requests\n"
          ]
        },
        {
          "output_type": "stream",
          "name": "stderr",
          "text": [
            "\n",
            "INFO:lm_eval.evaluator:\n",
            "» Running all `loglikelihood` requests\n",
            "100%|██████████| 7764/7764 [00:54<00:00, 141.24it/s]\n"
          ]
        },
        {
          "output_type": "stream",
          "name": "stdout",
          "text": [
            "quantifiers:\t79.16%\n"
          ]
        },
        {
          "output_type": "display_data",
          "data": {
            "text/plain": [
              "Generating train split: 0 examples [00:00, ? examples/s]"
            ],
            "application/vnd.jupyter.widget-view+json": {
              "version_major": 2,
              "version_minor": 0,
              "model_id": "0f28af6dc6064e13a721ff1896b15174"
            }
          },
          "metadata": {}
        },
        {
          "output_type": "stream",
          "name": "stdout",
          "text": [
            "\n",
            "» Assigning unique IDs to 'blimp_from_file+null' docs\n"
          ]
        },
        {
          "output_type": "stream",
          "name": "stderr",
          "text": [
            "INFO:lm_eval.evaluator:\n",
            "» Assigning unique IDs to 'blimp_from_file+null' docs\n"
          ]
        },
        {
          "output_type": "display_data",
          "data": {
            "text/plain": [
              "Map:   0%|          | 0/5535 [00:00<?, ? examples/s]"
            ],
            "application/vnd.jupyter.widget-view+json": {
              "version_major": 2,
              "version_minor": 0,
              "model_id": "1195452a754447e8bdfe0343bb422027"
            }
          },
          "metadata": {}
        },
        {
          "output_type": "stream",
          "name": "stdout",
          "text": [
            "\n",
            "» Filtering invalid docs from 'blimp_from_file+null'\n"
          ]
        },
        {
          "output_type": "stream",
          "name": "stderr",
          "text": [
            "INFO:lm_eval.evaluator:\n",
            "» Filtering invalid docs from 'blimp_from_file+null'\n"
          ]
        },
        {
          "output_type": "display_data",
          "data": {
            "text/plain": [
              "Filter:   0%|          | 0/5535 [00:00<?, ? examples/s]"
            ],
            "application/vnd.jupyter.widget-view+json": {
              "version_major": 2,
              "version_minor": 0,
              "model_id": "0306128b87c94e2492c05e0fb48fe4b2"
            }
          },
          "metadata": {}
        },
        {
          "output_type": "stream",
          "name": "stdout",
          "text": [
            "\n",
            "» Constructing 'blimp_from_file+null' contexts and requests\n"
          ]
        },
        {
          "output_type": "stream",
          "name": "stderr",
          "text": [
            "INFO:lm_eval.evaluator:\n",
            "» Constructing 'blimp_from_file+null' contexts and requests\n",
            "100%|██████████| 5535/5535 [00:00<00:00, 7289.90it/s]"
          ]
        },
        {
          "output_type": "stream",
          "name": "stdout",
          "text": [
            "\n",
            "» Running all `loglikelihood` requests\n"
          ]
        },
        {
          "output_type": "stream",
          "name": "stderr",
          "text": [
            "\n",
            "INFO:lm_eval.evaluator:\n",
            "» Running all `loglikelihood` requests\n",
            "100%|██████████| 11070/11070 [01:17<00:00, 143.36it/s]\n"
          ]
        },
        {
          "output_type": "stream",
          "name": "stdout",
          "text": [
            "subject_verb_agreement:\t55.00%\n",
            "\n",
            "Scores:\n",
            "anaphor_agreement:\t61.55%\n",
            "argument_structure:\t61.14%\n",
            "binding:\t64.38%\n",
            "control_raising:\t59.30%\n",
            "determiner_noun_agreement:\t77.57%\n",
            "ellipsis:\t53.75%\n",
            "filler_gap:\t65.22%\n",
            "irregular_forms:\t83.41%\n",
            "island_effects:\t44.28%\n",
            "npi_licensing:\t54.11%\n",
            "quantifiers:\t79.16%\n",
            "subject_verb_agreement:\t55.00%\n"
          ]
        }
      ]
    },
    {
      "cell_type": "code",
      "source": [
        "!cp -r \"/content/model_folder/zeroshot\" \"/content/drive/MyDrive/VU Thesis/Code/seeds_experiment/V20L4/seed_354/model_s354_e10_v20_l4\""
      ],
      "metadata": {
        "id": "rcKalHSzGR2o"
      },
      "execution_count": null,
      "outputs": []
    }
  ]
}