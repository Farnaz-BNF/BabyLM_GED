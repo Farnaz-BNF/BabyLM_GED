{
  "cells": [
    {
      "cell_type": "code",
      "execution_count": null,
      "metadata": {
        "id": "kLxsUDypEB70"
      },
      "outputs": [],
      "source": [
        "%%capture\n",
        "!pip install simpletransformers"
      ]
    },
    {
      "cell_type": "code",
      "execution_count": null,
      "metadata": {
        "id": "2XC_dbuQETFB"
      },
      "outputs": [],
      "source": [
        "from simpletransformers.classification import ClassificationModel, ClassificationArgs\n",
        "import os\n",
        "import json\n",
        "import math\n",
        "import random\n",
        "import pandas as pd\n",
        "from random import shuffle\n",
        "from sklearn.model_selection import train_test_split\n",
        "from sklearn.metrics import confusion_matrix, ConfusionMatrixDisplay, precision_score, recall_score, fbeta_score, precision_recall_fscore_support"
      ]
    },
    {
      "cell_type": "code",
      "execution_count": null,
      "metadata": {
        "id": "4Ondun9UEVyJ"
      },
      "outputs": [],
      "source": [
        "# Custom classification report function with F0.5 score (modify sklearn's classification_report)\n",
        "\n",
        "from sklearn.metrics import precision_score, recall_score, fbeta_score, precision_recall_fscore_support\n",
        "from sklearn.utils import _unique\n",
        "from sklearn.metrics import _classification\n",
        "from sklearn.utils import multiclass\n",
        "import warnings\n",
        "import numpy as np\n",
        "from numbers import Integral, Real\n",
        "from sklearn.utils._param_validation import (\n",
        "    Hidden,\n",
        "    Interval,\n",
        "    Options,\n",
        "    StrOptions,\n",
        "    validate_params,\n",
        ")\n",
        "\n",
        "@validate_params(\n",
        "    {\n",
        "        \"y_true\": [\"array-like\", \"sparse matrix\"],\n",
        "        \"y_pred\": [\"array-like\", \"sparse matrix\"],\n",
        "        \"labels\": [\"array-like\", None],\n",
        "        \"target_names\": [\"array-like\", None],\n",
        "        \"sample_weight\": [\"array-like\", None],\n",
        "        \"digits\": [Interval(Integral, 0, None, closed=\"left\")],\n",
        "        \"output_dict\": [\"boolean\"],\n",
        "        \"zero_division\": [\n",
        "            Options(Real, {0.0, 1.0}),\n",
        "            \"nan\",\n",
        "            StrOptions({\"warn\"}),\n",
        "        ],\n",
        "    },\n",
        "    prefer_skip_nested_validation=True,\n",
        ")\n",
        "def classification_report_f0_5(\n",
        "    y_true,\n",
        "    y_pred,\n",
        "    *,\n",
        "    labels=None,\n",
        "    target_names=None,\n",
        "    sample_weight=None,\n",
        "    digits=2,\n",
        "    output_dict=False,\n",
        "    zero_division=\"warn\",\n",
        "):\n",
        "    \"\"\"Build a text report showing the main classification metrics.\n",
        "\n",
        "    Read more in the :ref:`User Guide <classification_report>`.\n",
        "\n",
        "    Parameters\n",
        "    ----------\n",
        "    y_true : 1d array-like, or label indicator array / sparse matrix\n",
        "        Ground truth (correct) target values.\n",
        "\n",
        "    y_pred : 1d array-like, or label indicator array / sparse matrix\n",
        "        Estimated targets as returned by a classifier.\n",
        "\n",
        "    labels : array-like of shape (n_labels,), default=None\n",
        "        Optional list of label indices to include in the report.\n",
        "\n",
        "    target_names : array-like of shape (n_labels,), default=None\n",
        "        Optional display names matching the labels (same order).\n",
        "\n",
        "    sample_weight : array-like of shape (n_samples,), default=None\n",
        "        Sample weights.\n",
        "\n",
        "    digits : int, default=2\n",
        "        Number of digits for formatting output floating point values.\n",
        "        When ``output_dict`` is ``True``, this will be ignored and the\n",
        "        returned values will not be rounded.\n",
        "\n",
        "    output_dict : bool, default=False\n",
        "        If True, return output as dict.\n",
        "\n",
        "        .. versionadded:: 0.20\n",
        "\n",
        "    zero_division : {\"warn\", 0.0, 1.0, np.nan}, default=\"warn\"\n",
        "        Sets the value to return when there is a zero division. If set to\n",
        "        \"warn\", this acts as 0, but warnings are also raised.\n",
        "\n",
        "        .. versionadded:: 1.3\n",
        "           `np.nan` option was added.\n",
        "\n",
        "    Returns\n",
        "    -------\n",
        "    report : str or dict\n",
        "        Text summary of the precision, recall, F1 score for each class.\n",
        "        Dictionary returned if output_dict is True. Dictionary has the\n",
        "        following structure::\n",
        "\n",
        "            {'label 1': {'precision':0.5,\n",
        "                         'recall':1.0,\n",
        "                         'f1-score':0.67,\n",
        "                         'support':1},\n",
        "             'label 2': { ... },\n",
        "              ...\n",
        "            }\n",
        "\n",
        "        The reported averages include macro average (averaging the unweighted\n",
        "        mean per label), weighted average (averaging the support-weighted mean\n",
        "        per label), and sample average (only for multilabel classification).\n",
        "        Micro average (averaging the total true positives, false negatives and\n",
        "        false positives) is only shown for multi-label or multi-class\n",
        "        with a subset of classes, because it corresponds to accuracy\n",
        "        otherwise and would be the same for all metrics.\n",
        "        See also :func:`precision_recall_fscore_support` for more details\n",
        "        on averages.\n",
        "\n",
        "        Note that in binary classification, recall of the positive class\n",
        "        is also known as \"sensitivity\"; recall of the negative class is\n",
        "        \"specificity\".\n",
        "\n",
        "    See Also\n",
        "    --------\n",
        "    precision_recall_fscore_support: Compute precision, recall, F-measure and\n",
        "        support for each class.\n",
        "    confusion_matrix: Compute confusion matrix to evaluate the accuracy of a\n",
        "        classification.\n",
        "    multilabel_confusion_matrix: Compute a confusion matrix for each class or sample.\n",
        "\n",
        "    Examples\n",
        "    --------\n",
        "    >>> from sklearn.metrics import classification_report\n",
        "    >>> y_true = [0, 1, 2, 2, 2]\n",
        "    >>> y_pred = [0, 0, 2, 2, 1]\n",
        "    >>> target_names = ['class 0', 'class 1', 'class 2']\n",
        "    >>> print(classification_report(y_true, y_pred, target_names=target_names))\n",
        "                  precision    recall  f1-score   support\n",
        "    <BLANKLINE>\n",
        "         class 0       0.50      1.00      0.67         1\n",
        "         class 1       0.00      0.00      0.00         1\n",
        "         class 2       1.00      0.67      0.80         3\n",
        "    <BLANKLINE>\n",
        "        accuracy                           0.60         5\n",
        "       macro avg       0.50      0.56      0.49         5\n",
        "    weighted avg       0.70      0.60      0.61         5\n",
        "    <BLANKLINE>\n",
        "    >>> y_pred = [1, 1, 0]\n",
        "    >>> y_true = [1, 1, 1]\n",
        "    >>> print(classification_report(y_true, y_pred, labels=[1, 2, 3]))\n",
        "                  precision    recall  f1-score   support\n",
        "    <BLANKLINE>\n",
        "               1       1.00      0.67      0.80         3\n",
        "               2       0.00      0.00      0.00         0\n",
        "               3       0.00      0.00      0.00         0\n",
        "    <BLANKLINE>\n",
        "       micro avg       1.00      0.67      0.80         3\n",
        "       macro avg       0.33      0.22      0.27         3\n",
        "    weighted avg       1.00      0.67      0.80         3\n",
        "    <BLANKLINE>\n",
        "    \"\"\"\n",
        "\n",
        "    y_true, y_pred = _unique.attach_unique(y_true, y_pred)\n",
        "    y_type, y_true, y_pred = _classification._check_targets(y_true, y_pred)\n",
        "\n",
        "    if labels is None:\n",
        "        labels = multiclass.unique_labels(y_true, y_pred)\n",
        "        labels_given = False\n",
        "    else:\n",
        "        labels = np.asarray(labels)\n",
        "        labels_given = True\n",
        "\n",
        "    # labelled micro average\n",
        "    micro_is_accuracy = (y_type == \"multiclass\" or y_type == \"binary\") and (\n",
        "        not labels_given or (set(labels) >= set(multiclass.unique_labels(y_true, y_pred)))\n",
        "    )\n",
        "\n",
        "    if target_names is not None and len(labels) != len(target_names):\n",
        "        if labels_given:\n",
        "            warnings.warn(\n",
        "                \"labels size, {0}, does not match size of target_names, {1}\".format(\n",
        "                    len(labels), len(target_names)\n",
        "                )\n",
        "            )\n",
        "        else:\n",
        "            raise ValueError(\n",
        "                \"Number of classes, {0}, does not match size of \"\n",
        "                \"target_names, {1}. Try specifying the labels \"\n",
        "                \"parameter\".format(len(labels), len(target_names))\n",
        "            )\n",
        "    if target_names is None:\n",
        "        target_names = [\"%s\" % l for l in labels]\n",
        "\n",
        "    headers = [\"precision\", \"recall\", \"f0.5-score\", \"support\"]\n",
        "    # compute per-class results without averaging\n",
        "    p, r, f1, s = precision_recall_fscore_support(\n",
        "        y_true,\n",
        "        y_pred,\n",
        "        labels=labels,\n",
        "        beta=0.5,\n",
        "        average=None,\n",
        "        sample_weight=sample_weight,\n",
        "        zero_division=zero_division,\n",
        "    )\n",
        "    rows = zip(target_names, p, r, f1, s)\n",
        "\n",
        "    if y_type.startswith(\"multilabel\"):\n",
        "        average_options = (\"micro\", \"macro\", \"weighted\", \"samples\")\n",
        "    else:\n",
        "        average_options = (\"micro\", \"macro\", \"weighted\")\n",
        "\n",
        "    if output_dict:\n",
        "        report_dict = {label[0]: label[1:] for label in rows}\n",
        "        for label, scores in report_dict.items():\n",
        "            report_dict[label] = dict(zip(headers, [float(i) for i in scores]))\n",
        "    else:\n",
        "        longest_last_line_heading = \"weighted avg\"\n",
        "        name_width = max(len(cn) for cn in target_names)\n",
        "        width = max(name_width, len(longest_last_line_heading), digits)\n",
        "        head_fmt = \"{:>{width}s} \" + \" {:>9}\" * len(headers)\n",
        "        report = head_fmt.format(\"\", *headers, width=width)\n",
        "        report += \"\\n\\n\"\n",
        "        row_fmt = \"{:>{width}s} \" + \" {:>9.{digits}f}\" * 3 + \" {:>9}\\n\"\n",
        "        for row in rows:\n",
        "            report += row_fmt.format(*row, width=width, digits=digits)\n",
        "        report += \"\\n\"\n",
        "\n",
        "    # compute all applicable averages\n",
        "    for average in average_options:\n",
        "        if average.startswith(\"micro\") and micro_is_accuracy:\n",
        "            line_heading = \"accuracy\"\n",
        "        else:\n",
        "            line_heading = average + \" avg\"\n",
        "\n",
        "        # compute averages with specified averaging method\n",
        "        avg_p, avg_r, avg_f1, _ = precision_recall_fscore_support(\n",
        "            y_true,\n",
        "            y_pred,\n",
        "            labels=labels,\n",
        "            beta=0.5,\n",
        "            average=average,\n",
        "            sample_weight=sample_weight,\n",
        "            zero_division=zero_division,\n",
        "        )\n",
        "        avg = [avg_p, avg_r, avg_f1, np.sum(s)]\n",
        "\n",
        "        if output_dict:\n",
        "            report_dict[line_heading] = dict(zip(headers, [float(i) for i in avg]))\n",
        "        else:\n",
        "            if line_heading == \"accuracy\":\n",
        "                row_fmt_accuracy = (\n",
        "                    \"{:>{width}s} \"\n",
        "                    + \" {:>9.{digits}}\" * 2\n",
        "                    + \" {:>9.{digits}f}\"\n",
        "                    + \" {:>9}\\n\"\n",
        "                )\n",
        "                report += row_fmt_accuracy.format(\n",
        "                    line_heading, \"\", \"\", *avg[2:], width=width, digits=digits\n",
        "                )\n",
        "            else:\n",
        "                report += row_fmt.format(line_heading, *avg, width=width, digits=digits)\n",
        "\n",
        "    if output_dict:\n",
        "        if \"accuracy\" in report_dict.keys():\n",
        "            report_dict[\"accuracy\"] = report_dict[\"accuracy\"][\"precision\"]\n",
        "        return report_dict\n",
        "    else:\n",
        "        return report"
      ]
    },
    {
      "cell_type": "code",
      "execution_count": null,
      "metadata": {
        "id": "dlvudk5tGLbV"
      },
      "outputs": [],
      "source": [
        "from sklearn.metrics import classification_report, confusion_matrix, fbeta_score, ConfusionMatrixDisplay\n",
        "from matplotlib import pyplot as plt\n",
        "\n",
        "# I used 'provide_confusion_matrix' , 'calculate_precision_recall_f1score' , 'evaluation_model' functions from previous term\n",
        "def provide_confusion_matrix(GoldLabel, PredictLabel, label_set):\n",
        "    \"\"\"\n",
        "    use `sklearn.metric confusion_matrix` to create confusion matrix of model predict.\n",
        "    and `sklearn.metric ConfusionMatrixDisplay` to display created confusion matrix.\n",
        "\n",
        "    Parameters\n",
        "    ----------\n",
        "    GoldLabel : list\n",
        "        list of all Gold labels\n",
        "    PredictLabel : list\n",
        "        list of all Prediction labels\n",
        "    label_set : list\n",
        "        list of all classes\n",
        "\n",
        "    Returns\n",
        "    -------\n",
        "        Confusion matrix\n",
        "    \"\"\"\n",
        "    print(label_set)\n",
        "    cf_matrix = confusion_matrix(GoldLabel, PredictLabel) # create a confusion matrix with gold and predicts\n",
        "    print(cf_matrix) # print confusion_matrix as text\n",
        "    display = ConfusionMatrixDisplay(confusion_matrix=cf_matrix, display_labels=label_set) # create graphical confusion_matrix\n",
        "    fig, ax = plt.subplots()# figsize=(15,15)) # create bigger plot because there is many classes in this task\n",
        "    display.plot(ax =ax) # show confusion_matrix\n",
        "    plt.xticks(rotation=90) # rotate X label of plot 90 degree\n",
        "    plt.show() # show confusion matrix\n",
        "    return cf_matrix # return confusion_matrix (maybe useful later)\n",
        "\n",
        "def calculate_precision_recall_f05score(GoldLabel, PredictLabel, label_set): # function get gold and predict and set of labels\n",
        "    \"\"\"\n",
        "    use `sklearn.metric classification_report` to get report of model predict.\n",
        "\n",
        "    Parameters\n",
        "    ----------\n",
        "    GoldLabel : list\n",
        "        list of all Gold labels\n",
        "    PredictLabel : list\n",
        "        list of all Prediction labels\n",
        "    label_set : list\n",
        "        list of all classes\n",
        "\n",
        "    Returns\n",
        "    -------\n",
        "        Classification report\n",
        "    \"\"\"\n",
        "    print(label_set)\n",
        "    report = classification_report_f0_5(GoldLabel, PredictLabel, digits = 3, target_names=label_set) # calculate report\n",
        "    print(report) # print report\n",
        "    return report # return report (maybe useful later)\n",
        "\n",
        "\n",
        "def fine_tune_eval(GoldLabel, PredictLabel, target_names): # get gold and predict\n",
        "    \"\"\"\n",
        "    Evaluation models by call `calculate_precision_recall_f1score` and `provide_confusion_matrix` functions.\n",
        "\n",
        "    Parameters\n",
        "    ----------\n",
        "    data :\n",
        "        Train or test or dev dataset (after extracting fetures)\n",
        "    PredictLabel : list\n",
        "        list of all Prediction labels\n",
        "\n",
        "    Returns\n",
        "    -------\n",
        "        Classification report and Confusion matrix\n",
        "    \"\"\"\n",
        "    # set(list(preds_hp_2_1)+test_data_gold)\n",
        "    label_set = target_names\n",
        "    # label_set = sorted(set(list(PredictLabel) + GoldLabel)) # find unique lables in gold\n",
        "\n",
        "    print(label_set)\n",
        "\n",
        "    print('precision_recall_f1-score')\n",
        "    report = calculate_precision_recall_f05score(GoldLabel, PredictLabel, label_set) # calculate_precision_recall_f1score\n",
        "\n",
        "    print('Confusion matrix')\n",
        "    cf_matrix = provide_confusion_matrix(GoldLabel, PredictLabel, label_set) # provide_confusion_matrix\n",
        "\n",
        "    return report, cf_matrix # return report and cf_matrix\n"
      ]
    },
    {
      "cell_type": "code",
      "execution_count": null,
      "metadata": {
        "id": "lKup5Nn-Efam"
      },
      "outputs": [],
      "source": [
        "def predict_model(model_path, test_data):\n",
        "  \"\"\"\n",
        "  Predicts labels for the test data using a pre-trained model.\n",
        "  Args:\n",
        "\tmodel_path (str): Path to the pre-trained model.\n",
        "\ttest_data (list): List of test data instances.\n",
        "  Returns:\n",
        "\tpredictions (list): List of predicted labels.\n",
        "\traw_outputs (list): List of raw output scores from the model.\n",
        "  \"\"\"\n",
        "  model = ClassificationModel('roberta', model_path)\n",
        "  predictions, raw_outputs = model.predict(test_data)\n",
        "\n",
        "  return predictions, raw_outputs\n"
      ]
    },
    {
      "cell_type": "code",
      "execution_count": null,
      "metadata": {
        "id": "NKLX6QEDEhDs"
      },
      "outputs": [],
      "source": [
        "def save_model_preds(test_data, model_preds, model_prob, save_path, model_name):\n",
        "  \"\"\"\n",
        "  Saves test data with model predictions and probabilities to a CSV file.\n",
        "  Args:\n",
        "\ttest_data (DataFrame): DataFrame containing the test data.\n",
        "\tmodel_preds (list): List of predicted labels.\n",
        "\tmodel_prob (list): List of model probabilities for each class.\n",
        "\tsave_path (str): Path to save the output CSV file.\n",
        "\tmodel_name (str): Name of the model for the output file.\n",
        "  Returns:\n",
        "\tout_data (DataFrame): DataFrame containing the test data with predictions and probabilities.\n",
        "  \"\"\"\n",
        "  out_data = test_data.copy()\n",
        "  out_data['prediction']=model_preds\n",
        "  list_of_model_prob = [arr.tolist() for arr in model_prob]\n",
        "  dict_of_model_prob = [{'G':probs[0], 'PREP':probs[1], 'DET':probs[2], 'SVA':probs[3]} for probs in list_of_model_prob]\n",
        "    # Add the list of lists as a new column to the DataFrame\n",
        "    # df['new_column'] = list_of_lists\n",
        "  out_data['Probabilities']=dict_of_model_prob\n",
        "  out_data.to_csv(os.path.join(save_path, f\"outfile_prob_{model_name}.csv\"), index=False)\n",
        "  return out_data"
      ]
    },
    {
      "cell_type": "code",
      "execution_count": null,
      "metadata": {
        "id": "ViIvegujEzLf"
      },
      "outputs": [],
      "source": [
        "outfile_path = \"/content/drive/MyDrive/VU Thesis/Code/Error_Analysis/outfiles_with_prob\"\n",
        "data_path = \"/content/drive/MyDrive/VU Thesis/Code/fine_tune/data\"\n"
      ]
    },
    {
      "cell_type": "code",
      "execution_count": null,
      "metadata": {
        "colab": {
          "base_uri": "https://localhost:8080/"
        },
        "id": "ddiRykGmF7ZI",
        "outputId": "876cf6dc-6b30-4d21-acd7-99099271f128"
      },
      "outputs": [
        {
          "name": "stdout",
          "output_type": "stream",
          "text": [
            "loading data...\n",
            "loading train_data.csv\n",
            "loading dev_data.csv\n",
            "loading test_data.csv\n",
            "loading data compelete.\n"
          ]
        }
      ],
      "source": [
        "print(\"loading data...\")\n",
        "\n",
        "print(\"loading train_data.csv\")\n",
        "train_df =pd.read_csv(os.path.join(data_path, \"train_data.csv\"))\n",
        "\n",
        "print(\"loading dev_data.csv\")\n",
        "dev_df =pd.read_csv(os.path.join(data_path, \"dev_data.csv\"))\n",
        "\n",
        "print(\"loading test_data.csv\")\n",
        "test_df =pd.read_csv(os.path.join(data_path, \"test_data.csv\"))\n",
        "\n",
        "print(\"loading data compelete.\")"
      ]
    },
    {
      "cell_type": "code",
      "execution_count": null,
      "metadata": {
        "colab": {
          "base_uri": "https://localhost:8080/"
        },
        "id": "yCwo4CiRF-qG",
        "outputId": "9f417f5b-46b3-4c6f-ef86-752698c3626a"
      },
      "outputs": [
        {
          "name": "stdout",
          "output_type": "stream",
          "text": [
            "6988 6988\n"
          ]
        }
      ],
      "source": [
        "test_data = list(test_df.text)#.to_list()\n",
        "gold_labels = list(test_df.labels)#.to_list()\n",
        "print(len(test_data), len(gold_labels))"
      ]
    },
    {
      "cell_type": "code",
      "execution_count": null,
      "metadata": {
        "colab": {
          "base_uri": "https://localhost:8080/",
          "height": 937,
          "referenced_widgets": [
            "b3d98719a5b54309b1cb716c1b9b467f",
            "d5b033fc3b0f491a8b3b3f170614bced",
            "369241f9d48d4998b7cf4598e307c37d",
            "ad94f0a203a24e11ac165c5ac367d07d",
            "dae52b5b3a404fcaba0b00a53f1ac416",
            "f7f3601f46bf4d18bf79fb786c6db479",
            "1d45b893bc0d43fbbfdd80d4a0fada30",
            "66283ec5ac0848ada5c3706667b9d22d",
            "6f88e61fa97042c499dc8edbcbd1d313",
            "ce214039d9e045308eb59ab757de6b5f",
            "7a7eef2334bb457ab456248b886475f4",
            "4a9c0c1b85ad4f33959441d46deecce7",
            "a329d8c4e3574787a41d1efb5c5743de",
            "c5aa59612fca4e9ab70a0a9b29e5230e",
            "4ec22e7064124adb92169b3933548358",
            "2b203ce288e242f5aa61821220056653",
            "f5590f8a881c4030b70a119d71ec144d",
            "2332877120074fb896e50e70b461bed9",
            "a31a604da1e846728cf5db3313290c70",
            "13e46ecc93b141e0b69e03186dc290d0",
            "ffbb3ed0bc124b3cb972b1f2ad3b9936",
            "4ca2a43451c642daa8d5d0c8d618c40c"
          ]
        },
        "id": "Y6YRyrCtEkhV",
        "outputId": "270687f7-54da-4909-c043-7a068212783b"
      },
      "outputs": [
        {
          "data": {
            "application/vnd.jupyter.widget-view+json": {
              "model_id": "b3d98719a5b54309b1cb716c1b9b467f",
              "version_major": 2,
              "version_minor": 0
            },
            "text/plain": [
              "  0%|          | 0/13 [00:00<?, ?it/s]"
            ]
          },
          "metadata": {},
          "output_type": "display_data"
        },
        {
          "data": {
            "application/vnd.jupyter.widget-view+json": {
              "model_id": "4a9c0c1b85ad4f33959441d46deecce7",
              "version_major": 2,
              "version_minor": 0
            },
            "text/plain": [
              "  0%|          | 0/70 [00:00<?, ?it/s]"
            ]
          },
          "metadata": {},
          "output_type": "display_data"
        },
        {
          "name": "stderr",
          "output_type": "stream",
          "text": [
            "/usr/local/lib/python3.11/dist-packages/simpletransformers/classification/classification_model.py:2188: FutureWarning: `torch.cuda.amp.autocast(args...)` is deprecated. Please use `torch.amp.autocast('cuda', args...)` instead.\n",
            "  with amp.autocast():\n"
          ]
        },
        {
          "name": "stdout",
          "output_type": "stream",
          "text": [
            "['DET', 'G', 'PREP', 'SVA']\n",
            "precision_recall_f1-score\n",
            "['DET', 'G', 'PREP', 'SVA']\n",
            "              precision    recall f0.5-score   support\n",
            "\n",
            "         DET      0.993     1.000     0.994      1508\n",
            "           G      0.922     0.827     0.901      3494\n",
            "        PREP      0.557     0.787     0.591       879\n",
            "         SVA      0.960     0.946     0.957      1107\n",
            "\n",
            "    accuracy                          0.878      6988\n",
            "   macro avg      0.858     0.890     0.861      6988\n",
            "weighted avg      0.897     0.878     0.891      6988\n",
            "\n",
            "Confusion matrix\n",
            "['DET', 'G', 'PREP', 'SVA']\n",
            "[[1508    0    0    0]\n",
            " [  10 2890  551   43]\n",
            " [   0  186  692    1]\n",
            " [   1   59    0 1047]]\n"
          ]
        },
        {
          "data": {
            "image/png": "[encoded data removed]",
            "text/plain": [
              "<Figure size 640x480 with 2 Axes>"
            ]
          },
          "metadata": {},
          "output_type": "display_data"
        }
      ],
      "source": [
        "model_e9_path = '/content/drive/MyDrive/VU Thesis/Code/fine_tune/models/fine_tuned_v20_l4_e9_model'\n",
        "\n",
        "preds_e9, probs_e9 = predict_model(model_e9_path, test_data)\n",
        "# report = classification_report_f0_5(test_df.labels.tolist(), preds) #, output_dict=True)\n",
        "target_names = ['DET', 'G', 'PREP','SVA']\n",
        "# target_names = ['G', 'PREP', 'DET','SVA']\n",
        "report_e9, cf_matrix_e9 = fine_tune_eval(gold_labels, preds_e9, target_names)\n",
        "df_e9 = save_model_preds(test_df, preds_e9, probs_e9, outfile_path, 'v20_l4_e9')"
      ]
    },
    {
      "cell_type": "code",
      "execution_count": null,
      "metadata": {
        "colab": {
          "base_uri": "https://localhost:8080/",
          "height": 937,
          "referenced_widgets": [
            "1a55e5164d79449d92ced098a27ddd4d",
            "20df07dd69d04420a7a7357494ff083d",
            "bcf7473dd94e43deaa5b18cad6fc4bae",
            "a98b1f35a41344f9bd128df87f2299bc",
            "adf477dcef2d46048cb1a632c2245e59",
            "c178c9f83dab439c93d671efe0345b4d",
            "1a499367138f45a2825cee21ced0effd",
            "32a2dab48c394d368b6332730e9bf674",
            "aa10a9e885cf4f08bcfc9cd0f5802190",
            "fec81c564b3940009fc44f30f9a5c581",
            "28d0fc4c8f3a4c688eac656730365f1a",
            "f4b4b71719284028aad57871c351ff91",
            "941244b6e6654e429c7fd4e6f976a789",
            "621ef77f915a4919ab74af8aacfe7950",
            "d3a01277a6ca468bbfefc44084130ab8",
            "b88a54b59276435f82e0f6139688c636",
            "b394c2f7686943598724c2a707040237",
            "275c442efd8e4ed4bda37fa77b85f7b6",
            "49d30141e63d4af2aab49573f61c8cc0",
            "2899189ee21e41058009f536c08f6a1e",
            "022f9f9ce960465aabd68523a2164322",
            "3904486612c54130be4205317b940d00"
          ]
        },
        "id": "RcrH2sZhEmxp",
        "outputId": "ac8e2e1e-5d12-49f2-eaeb-aa3935d900f5"
      },
      "outputs": [
        {
          "data": {
            "application/vnd.jupyter.widget-view+json": {
              "model_id": "1a55e5164d79449d92ced098a27ddd4d",
              "version_major": 2,
              "version_minor": 0
            },
            "text/plain": [
              "  0%|          | 0/13 [00:00<?, ?it/s]"
            ]
          },
          "metadata": {},
          "output_type": "display_data"
        },
        {
          "data": {
            "application/vnd.jupyter.widget-view+json": {
              "model_id": "f4b4b71719284028aad57871c351ff91",
              "version_major": 2,
              "version_minor": 0
            },
            "text/plain": [
              "  0%|          | 0/70 [00:00<?, ?it/s]"
            ]
          },
          "metadata": {},
          "output_type": "display_data"
        },
        {
          "name": "stderr",
          "output_type": "stream",
          "text": [
            "/usr/local/lib/python3.11/dist-packages/simpletransformers/classification/classification_model.py:2188: FutureWarning: `torch.cuda.amp.autocast(args...)` is deprecated. Please use `torch.amp.autocast('cuda', args...)` instead.\n",
            "  with amp.autocast():\n"
          ]
        },
        {
          "name": "stdout",
          "output_type": "stream",
          "text": [
            "['DET', 'G', 'PREP', 'SVA']\n",
            "precision_recall_f1-score\n",
            "['DET', 'G', 'PREP', 'SVA']\n",
            "              precision    recall f0.5-score   support\n",
            "\n",
            "         DET      0.999     1.000     0.999      1508\n",
            "           G      0.905     0.939     0.911      3494\n",
            "        PREP      0.722     0.617     0.698       879\n",
            "         SVA      0.995     0.992     0.995      1107\n",
            "\n",
            "    accuracy                          0.920      6988\n",
            "   macro avg      0.905     0.887     0.901      6988\n",
            "weighted avg      0.917     0.920     0.917      6988\n",
            "\n",
            "Confusion matrix\n",
            "['DET', 'G', 'PREP', 'SVA']\n",
            "[[1508    0    0    0]\n",
            " [   1 3280  209    4]\n",
            " [   0  336  542    1]\n",
            " [   0    9    0 1098]]\n"
          ]
        },
        {
          "data": {
            "image/png": "[encoded data removed]",
            "text/plain": [
              "<Figure size 640x480 with 2 Axes>"
            ]
          },
          "metadata": {},
          "output_type": "display_data"
        }
      ],
      "source": [
        "model_o_path = '/content/drive/MyDrive/VU Thesis/Code/fine_tune/models/fine_tuned_O_RoBERTa_model'\n",
        "\n",
        "preds_o, probs_o = predict_model(model_o_path, test_data)\n",
        "# report = classification_report_f0_5(test_df.labels.tolist(), preds) #, output_dict=True)\n",
        "target_names = ['DET', 'G', 'PREP','SVA']\n",
        "# target_names = ['G', 'PREP', 'DET','SVA']\n",
        "report_o, cf_matrix_o = fine_tune_eval(gold_labels, preds_o, target_names)\n",
        "df_o = save_model_preds(test_df, preds_o, probs_o, outfile_path, 'o_RoBERTa')\n"
      ]
    },
    {
      "cell_type": "code",
      "execution_count": null,
      "metadata": {
        "colab": {
          "base_uri": "https://localhost:8080/",
          "height": 937,
          "referenced_widgets": [
            "dac7621da36040e68f7eb72d6f90a5df",
            "da0a120c4c3c4683ab8930938f448dd5",
            "e7e0c62656fb4be8926aa02a4fb5a971",
            "194219b67ecf4eef8f64ef7b61d12606",
            "4c62d9c63a2641bda39cea239c9406c4",
            "4788fc93d7da4226a34c6f2079e531e2",
            "0e8846c3db684f78bda63e08924b5504",
            "3b148ed51bba4ad6a75e940e91d281c1",
            "223c730b35674cbba3e6d56331040de0",
            "2cfcf30535704b64ad8131c7e884e5ed",
            "428e7f460e1648f0a766cfc4f4a6ae0e",
            "a785324ac23f40a2a36d617389246ba1",
            "f2091d457a874f35bb512d82309ade44",
            "b9d19ea3a5e945e186421dad755e961a",
            "bc5dd2431fbe4fc2a948a01119d6cd60",
            "9d3fbd1ba7f84c3fbcbf7996e5eda705",
            "046235dea31045dfb37b4d217ea9127f",
            "770c2ed74a224215a21b7f4b53efa6b3",
            "fa724377d94f40f48c10a75072dbd017",
            "cb2cc1a33a724f30a0174823443a13a7",
            "7413223ddc4748a2aaf568a2c4551a52",
            "eebd4eebea0a42a68e2d42d624abe991"
          ]
        },
        "id": "Kzt-UC68EomO",
        "outputId": "23243e47-1670-4b82-bc0e-96ef9b7ab187"
      },
      "outputs": [
        {
          "data": {
            "application/vnd.jupyter.widget-view+json": {
              "model_id": "dac7621da36040e68f7eb72d6f90a5df",
              "version_major": 2,
              "version_minor": 0
            },
            "text/plain": [
              "  0%|          | 0/13 [00:00<?, ?it/s]"
            ]
          },
          "metadata": {},
          "output_type": "display_data"
        },
        {
          "data": {
            "application/vnd.jupyter.widget-view+json": {
              "model_id": "a785324ac23f40a2a36d617389246ba1",
              "version_major": 2,
              "version_minor": 0
            },
            "text/plain": [
              "  0%|          | 0/70 [00:00<?, ?it/s]"
            ]
          },
          "metadata": {},
          "output_type": "display_data"
        },
        {
          "name": "stderr",
          "output_type": "stream",
          "text": [
            "/usr/local/lib/python3.11/dist-packages/simpletransformers/classification/classification_model.py:2188: FutureWarning: `torch.cuda.amp.autocast(args...)` is deprecated. Please use `torch.amp.autocast('cuda', args...)` instead.\n",
            "  with amp.autocast():\n"
          ]
        },
        {
          "name": "stdout",
          "output_type": "stream",
          "text": [
            "['DET', 'G', 'PREP', 'SVA']\n",
            "precision_recall_f1-score\n",
            "['DET', 'G', 'PREP', 'SVA']\n",
            "              precision    recall f0.5-score   support\n",
            "\n",
            "         DET      0.999     1.000     0.999      1508\n",
            "           G      0.915     0.845     0.900      3494\n",
            "        PREP      0.538     0.702     0.565       879\n",
            "         SVA      0.985     0.986     0.985      1107\n",
            "\n",
            "    accuracy                          0.883      6988\n",
            "   macro avg      0.859     0.883     0.862      6988\n",
            "weighted avg      0.897     0.883     0.893      6988\n",
            "\n",
            "Confusion matrix\n",
            "['DET', 'G', 'PREP', 'SVA']\n",
            "[[1508    0    0    0]\n",
            " [   1 2951  529   13]\n",
            " [   0  258  617    4]\n",
            " [   0   15    0 1092]]\n"
          ]
        },
        {
          "data": {
            "image/png": "[encoded data removed]",
            "text/plain": [
              "<Figure size 640x480 with 2 Axes>"
            ]
          },
          "metadata": {},
          "output_type": "display_data"
        }
      ],
      "source": [
        "model_bb_path = '/content/drive/MyDrive/VU Thesis/Code/fine_tune/models/fine_tuned_BB_RoBERTa_model'\n",
        "\n",
        "preds_bb, probs_bb = predict_model(model_bb_path, test_data)\n",
        "# report = classification_report_f0_5(test_df.labels.tolist(), preds) #, output_dict=True)\n",
        "target_names = ['DET', 'G', 'PREP','SVA']\n",
        "# target_names = ['G', 'PREP', 'DET','SVA']\n",
        "report_bb, cf_matrix_bb = fine_tune_eval(gold_labels, preds_bb, target_names)\n",
        "df_bb = save_model_preds(test_df, preds_bb, probs_bb, outfile_path, 'bb_RoBERTa')"
      ]
    }
  ],
  "metadata": {
    "accelerator": "GPU",
    "colab": {
      "gpuType": "T4",
      "provenance": []
    },
    "kernelspec": {
      "display_name": "Python 3",
      "name": "python3"
    },
    "language_info": {
      "name": "python"
    }
  },
  "nbformat": 4,
  "nbformat_minor": 0
}
