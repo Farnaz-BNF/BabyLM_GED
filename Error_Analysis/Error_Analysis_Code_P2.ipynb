{
  "nbformat": 4,
  "nbformat_minor": 0,
  "metadata": {
    "colab": {
      "provenance": []
    },
    "kernelspec": {
      "name": "python3",
      "display_name": "Python 3"
    },
    "language_info": {
      "name": "python"
    }
  },
  "cells": [
    {
      "cell_type": "code",
      "source": [
        "from google.colab import drive\n",
        "drive.mount('/content/drive')"
      ],
      "metadata": {
        "colab": {
          "base_uri": "https://localhost:8080/"
        },
        "id": "t4F2tju1dVFU",
        "outputId": "956cbff3-42a3-486b-b1c0-6cefe0ab8176"
      },
      "execution_count": null,
      "outputs": [
        {
          "output_type": "stream",
          "name": "stdout",
          "text": [
            "Mounted at /content/drive\n"
          ]
        }
      ]
    },
    {
      "cell_type": "code",
      "source": [
        "import pandas as pd\n",
        "import os\n",
        "import json"
      ],
      "metadata": {
        "id": "fX8XNKjufMFx"
      },
      "execution_count": 1,
      "outputs": []
    },
    {
      "cell_type": "code",
      "execution_count": null,
      "metadata": {
        "id": "V_32tC35dMSi"
      },
      "outputs": [],
      "source": [
        "def unique_errors (dataframes):\n",
        "\n",
        "    combined_df = pd.concat(dataframes, ignore_index=True)\n",
        "\n",
        "    unique_rows = combined_df[['text', 'labels', 'UID']].drop_duplicates()\n",
        "    unique_count = unique_rows.shape[0]\n",
        "\n",
        "    print(unique_count)\n"
      ]
    },
    {
      "cell_type": "code",
      "source": [
        "def error_count_per_model(pair_df, gold_lable, wrong_lable):\n",
        "    name_list = [\"v20_l4_e9_preds\", \"O_RoBERTa_preds\", \"BB_RoBERTa_preds\"]\n",
        "    name_map = {\"v20_l4_e9_preds\": \"BabyLM\", \"O_RoBERTa_preds\": \"O_RoBERTa\", \"BB_RoBERTa_preds\": \"BB_RoBERTa\"}\n",
        "    more_info =dict()\n",
        "    for name in name_list:\n",
        "        df = pair_df[(pair_df[name] == wrong_lable)]\n",
        "        # if df.shape[0]!=0:\n",
        "            # print(f\"{name_map[name]}_{gold_lable}_{wrong_lable}: {df.shape[0]}\")\n",
        "        more_info[f\"{name_map[name]}_{gold_lable}_{wrong_lable}\"] = df.shape[0]\n",
        "    return more_info"
      ],
      "metadata": {
        "id": "fPMWpXl2nrGc"
      },
      "execution_count": null,
      "outputs": []
    },
    {
      "cell_type": "code",
      "source": [
        "def count_errors(all_df, gold_lable, wrong_lable):\n",
        "    # map_list = {\"BabyLM\": \"v20_l4_e9_preds\", \"O_RoBERTa\": \"O_RoBERTa_preds\", \"BB_RoBERTa\": \"BB_RoBERTa_preds\"}\n",
        "\n",
        "    df = all_df[(all_df['labels'] == gold_lable) & ((all_df['v20_l4_e9_preds'] == wrong_lable) |\n",
        "                                                    (all_df['BB_RoBERTa_preds'] == wrong_lable) |\n",
        "                                                    (all_df['O_RoBERTa_preds'] == wrong_lable))]\n",
        "    return df"
      ],
      "metadata": {
        "id": "KKlExxmedjeg"
      },
      "execution_count": null,
      "outputs": []
    },
    {
      "cell_type": "code",
      "source": [
        "def get_random_sample(df, n):\n",
        "\n",
        "    if n > df.shape[0]:\n",
        "        return df\n",
        "\n",
        "    return df.sample(n=n, random_state=1)\n"
      ],
      "metadata": {
        "id": "UEDTUndJE0Z0"
      },
      "execution_count": 2,
      "outputs": []
    },
    {
      "cell_type": "code",
      "source": [
        "save_path = '/content/drive/MyDrive/VU Thesis/Code/Error_Analysis/EA_ORGANIZED_CSVs/Correct_vs_Wrong'\n",
        "\n",
        "files_path = ['/content/drive/MyDrive/VU Thesis/Code/Error_Analysis/EA_ORGANIZED_CSVs/Correct_vs_Wrong/BB_vs_baby_and_O.csv',\n",
        "              '/content/drive/MyDrive/VU Thesis/Code/Error_Analysis/EA_ORGANIZED_CSVs/Correct_vs_Wrong/O_and_BB_vs_baby.csv',\n",
        "              '/content/drive/MyDrive/VU Thesis/Code/Error_Analysis/EA_ORGANIZED_CSVs/Correct_vs_Wrong/O_vs_baby_and_BB.csv',\n",
        "              '/content/drive/MyDrive/VU Thesis/Code/Error_Analysis/EA_ORGANIZED_CSVs/Correct_vs_Wrong/baby_and_BB_vs_O.csv',\n",
        "              '/content/drive/MyDrive/VU Thesis/Code/Error_Analysis/EA_ORGANIZED_CSVs/Correct_vs_Wrong/baby_and_O_vs_BB.csv',\n",
        "              '/content/drive/MyDrive/VU Thesis/Code/Error_Analysis/EA_ORGANIZED_CSVs/Correct_vs_Wrong/baby_vs_O_and_BB.csv'\n",
        "              ]\n",
        "\n",
        "errors_pair = ['SVA_G', 'SVA_DET', 'SVA_PREP', 'PREP_SVA', 'PREP_G', 'PREP_DET', 'G_SVA', 'G_PREP', 'G_DET', 'DET_G', 'DET_PREP', 'DET_SVA']\n",
        "\n",
        "for file in files_path:\n",
        "    df = pd.read_csv(file)\n",
        "    file_save_path = os.path.join(save_path,f\"details_{file.split('/')[-1].split('.')[0]}\")\n",
        "    print(file_save_path)\n",
        "    if not os.path.exists(file_save_path):\n",
        "        os.mkdir(file_save_path)\n",
        "    info = []\n",
        "    file_info = dict()\n",
        "    for error_pair in errors_pair:\n",
        "        error_pair = error_pair.split('_')\n",
        "        df2 = count_errors(df, error_pair[0], error_pair[1])\n",
        "        print(f\"{error_pair[0]}_{error_pair[1]}:{df2.shape[0]}\")\n",
        "        file_info[f\"{error_pair[0]}_{error_pair[1]}\"]=df2.shape[0]\n",
        "        info.append(error_count_per_model(df2, error_pair[0], error_pair[1]))\n",
        "\n",
        "        df2.to_csv(os.path.join(file_save_path,f\"{error_pair[0]}_{error_pair[1]}.csv\"), index=False)\n",
        "\n",
        "    with open(os.path.join(file_save_path,\"File_info.json\"), 'w') as info_file:\n",
        "        json.dump(file_info, info_file)\n",
        "    with open(os.path.join(file_save_path,\"info.json\"), 'w') as info_file:\n",
        "        json.dump(info, info_file)\n",
        "    print(\"=\"*10)\n"
      ],
      "metadata": {
        "colab": {
          "base_uri": "https://localhost:8080/"
        },
        "id": "7pkRip_nhRlR",
        "outputId": "0c850b85-5010-4156-8048-7f83ed6177f2"
      },
      "execution_count": null,
      "outputs": [
        {
          "output_type": "stream",
          "name": "stdout",
          "text": [
            "/content/drive/MyDrive/VU Thesis/Code/Error_Analysis/EA_ORGANIZED_CSVs/Correct_vs_Wrong/details_BB_vs_baby_and_O\n",
            "SVA_G:0\n",
            "SVA_DET:0\n",
            "SVA_PREP:0\n",
            "PREP_SVA:0\n",
            "PREP_G:23\n",
            "PREP_DET:0\n",
            "G_SVA:0\n",
            "G_PREP:14\n",
            "G_DET:0\n",
            "DET_G:0\n",
            "DET_PREP:0\n",
            "DET_SVA:0\n",
            "==========\n",
            "/content/drive/MyDrive/VU Thesis/Code/Error_Analysis/EA_ORGANIZED_CSVs/Correct_vs_Wrong/details_O_and_BB_vs_baby\n",
            "SVA_G:49\n",
            "SVA_DET:1\n",
            "SVA_PREP:0\n",
            "PREP_SVA:0\n",
            "PREP_G:22\n",
            "PREP_DET:0\n",
            "G_SVA:37\n",
            "G_PREP:46\n",
            "G_DET:10\n",
            "DET_G:0\n",
            "DET_PREP:0\n",
            "DET_SVA:0\n",
            "==========\n",
            "/content/drive/MyDrive/VU Thesis/Code/Error_Analysis/EA_ORGANIZED_CSVs/Correct_vs_Wrong/details_O_vs_baby_and_BB\n",
            "SVA_G:5\n",
            "SVA_DET:0\n",
            "SVA_PREP:0\n",
            "PREP_SVA:1\n",
            "PREP_G:73\n",
            "PREP_DET:0\n",
            "G_SVA:5\n",
            "G_PREP:308\n",
            "G_DET:0\n",
            "DET_G:0\n",
            "DET_PREP:0\n",
            "DET_SVA:0\n",
            "==========\n",
            "/content/drive/MyDrive/VU Thesis/Code/Error_Analysis/EA_ORGANIZED_CSVs/Correct_vs_Wrong/details_baby_and_BB_vs_O\n",
            "SVA_G:3\n",
            "SVA_DET:0\n",
            "SVA_PREP:0\n",
            "PREP_SVA:0\n",
            "PREP_G:182\n",
            "PREP_DET:0\n",
            "G_SVA:2\n",
            "G_PREP:5\n",
            "G_DET:1\n",
            "DET_G:0\n",
            "DET_PREP:0\n",
            "DET_SVA:0\n",
            "==========\n",
            "/content/drive/MyDrive/VU Thesis/Code/Error_Analysis/EA_ORGANIZED_CSVs/Correct_vs_Wrong/details_baby_and_O_vs_BB\n",
            "SVA_G:4\n",
            "SVA_DET:0\n",
            "SVA_PREP:0\n",
            "PREP_SVA:0\n",
            "PREP_G:57\n",
            "PREP_DET:0\n",
            "G_SVA:6\n",
            "G_PREP:31\n",
            "G_DET:1\n",
            "DET_G:0\n",
            "DET_PREP:0\n",
            "DET_SVA:0\n",
            "==========\n",
            "/content/drive/MyDrive/VU Thesis/Code/Error_Analysis/EA_ORGANIZED_CSVs/Correct_vs_Wrong/details_baby_vs_O_and_BB\n",
            "SVA_G:1\n",
            "SVA_DET:0\n",
            "SVA_PREP:0\n",
            "PREP_SVA:1\n",
            "PREP_G:63\n",
            "PREP_DET:0\n",
            "G_SVA:1\n",
            "G_PREP:7\n",
            "G_DET:0\n",
            "DET_G:0\n",
            "DET_PREP:0\n",
            "DET_SVA:0\n",
            "==========\n"
          ]
        }
      ]
    },
    {
      "cell_type": "code",
      "source": [
        "# UNIQUES\n",
        "\n",
        "save_path = '/content/drive/MyDrive/VU Thesis/Code/Error_Analysis/EA_ORGANIZED_CSVs/Correct_vs_Wrong'\n",
        "\n",
        "files_path = ['/content/drive/MyDrive/VU Thesis/Code/Error_Analysis/EA_ORGANIZED_CSVs/Correct_vs_Wrong/BB_vs_baby_and_O.csv',\n",
        "              '/content/drive/MyDrive/VU Thesis/Code/Error_Analysis/EA_ORGANIZED_CSVs/Correct_vs_Wrong/O_and_BB_vs_baby.csv',\n",
        "              '/content/drive/MyDrive/VU Thesis/Code/Error_Analysis/EA_ORGANIZED_CSVs/Correct_vs_Wrong/O_vs_baby_and_BB.csv',\n",
        "              '/content/drive/MyDrive/VU Thesis/Code/Error_Analysis/EA_ORGANIZED_CSVs/Correct_vs_Wrong/baby_and_BB_vs_O.csv',\n",
        "              '/content/drive/MyDrive/VU Thesis/Code/Error_Analysis/EA_ORGANIZED_CSVs/Correct_vs_Wrong/baby_and_O_vs_BB.csv',\n",
        "              '/content/drive/MyDrive/VU Thesis/Code/Error_Analysis/EA_ORGANIZED_CSVs/Correct_vs_Wrong/baby_vs_O_and_BB.csv'\n",
        "              ]\n",
        "\n",
        "errors_pair = ['SVA_G', 'SVA_DET', 'SVA_PREP', 'PREP_SVA', 'PREP_G', 'PREP_DET', 'G_SVA', 'G_PREP', 'G_DET', 'DET_G', 'DET_PREP', 'DET_SVA']\n",
        "\n",
        "\n",
        "\n",
        "\n",
        "for error_pair in errors_pair:\n",
        "    error_pair = error_pair.split('_')\n",
        "    dataframes = []\n",
        "\n",
        "    print(f\"{error_pair[0]}_{error_pair[1]}\")\n",
        "    # print(os.path.join(file_path.split('/')[-1],f\"{error_pair[0]}_{error_pair[1]}.csv\"))#, index=False)\n",
        "    for file in files_path:\n",
        "\n",
        "        file_path = os.path.join(save_path,f\"details_{file.split('/')[-1].split('.')[0]}\")\n",
        "\n",
        "        # print(os.path.join(file_path,f\"{error_pair[0]}_{error_pair[1]}.csv\"))#, index=False)\n",
        "        df = pd.read_csv(os.path.join(file_path,f\"{error_pair[0]}_{error_pair[1]}.csv\"))\n",
        "        dataframes.append(df)\n",
        "\n",
        "    unique_errors(dataframes)\n",
        "\n",
        "\n",
        "\n",
        "    print(\"=\"*10)\n"
      ],
      "metadata": {
        "colab": {
          "base_uri": "https://localhost:8080/"
        },
        "id": "dQ7hg8qqyWTU",
        "outputId": "10082de1-2f6b-4a7d-c0fc-2bb38616d16c"
      },
      "execution_count": null,
      "outputs": [
        {
          "output_type": "stream",
          "name": "stdout",
          "text": [
            "SVA_G\n",
            "62\n",
            "==========\n",
            "SVA_DET\n",
            "1\n",
            "==========\n",
            "SVA_PREP\n",
            "0\n",
            "==========\n",
            "PREP_SVA\n",
            "2\n",
            "==========\n",
            "PREP_G\n",
            "420\n",
            "==========\n",
            "PREP_DET\n",
            "0\n",
            "==========\n",
            "G_SVA\n",
            "51\n",
            "==========\n",
            "G_PREP\n",
            "405\n",
            "==========\n",
            "G_DET\n",
            "12\n",
            "==========\n",
            "DET_G\n",
            "0\n",
            "==========\n",
            "DET_PREP\n",
            "0\n",
            "==========\n",
            "DET_SVA\n",
            "0\n",
            "==========\n"
          ]
        }
      ]
    },
    {
      "cell_type": "code",
      "source": [
        "# UNIQUES\n",
        "\n",
        "save_path = '/content/drive/MyDrive/VU Thesis/Code/Error_Analysis/EA_ORGANIZED_CSVs/Correct_vs_Wrong'\n",
        "\n",
        "files_path = ['/content/drive/MyDrive/VU Thesis/Code/Error_Analysis/EA_ORGANIZED_CSVs/Correct_vs_Wrong/BB_vs_baby_and_O.csv',\n",
        "              '/content/drive/MyDrive/VU Thesis/Code/Error_Analysis/EA_ORGANIZED_CSVs/Correct_vs_Wrong/O_and_BB_vs_baby.csv',\n",
        "              '/content/drive/MyDrive/VU Thesis/Code/Error_Analysis/EA_ORGANIZED_CSVs/Correct_vs_Wrong/O_vs_baby_and_BB.csv',\n",
        "              '/content/drive/MyDrive/VU Thesis/Code/Error_Analysis/EA_ORGANIZED_CSVs/Correct_vs_Wrong/baby_and_BB_vs_O.csv',\n",
        "              '/content/drive/MyDrive/VU Thesis/Code/Error_Analysis/EA_ORGANIZED_CSVs/Correct_vs_Wrong/baby_and_O_vs_BB.csv',\n",
        "              '/content/drive/MyDrive/VU Thesis/Code/Error_Analysis/EA_ORGANIZED_CSVs/Correct_vs_Wrong/baby_vs_O_and_BB.csv'\n",
        "              ]\n",
        "\n",
        "errors_pair = ['PREP_G', 'G_PREP']\n",
        "\n",
        "\n",
        "\n",
        "\n",
        "for error_pair in errors_pair:\n",
        "    error_pair = error_pair.split('_')\n",
        "    dataframes = []\n",
        "\n",
        "    print(f\"{error_pair[0]}_{error_pair[1]}\")\n",
        "    # print(os.path.join(file_path.split('/')[-1],f\"{error_pair[0]}_{error_pair[1]}.csv\"))#, index=False)\n",
        "    for file in files_path:\n",
        "\n",
        "        file_path = os.path.join(save_path,f\"details_{file.split('/')[-1].split('.')[0]}\")\n",
        "\n",
        "        # print(os.path.join(file_path,f\"{error_pair[0]}_{error_pair[1]}.csv\"))#, index=False)\n",
        "        df = pd.read_csv(os.path.join(file_path,f\"{error_pair[0]}_{error_pair[1]}.csv\"))\n",
        "        # df = pd.read_csv(FILEPATH)\n",
        "        random_sample = get_random_sample(df, 30)\n",
        "\n",
        "        # dataframes.append(df)\n",
        "        print(os.path.join(file_path,f\"{error_pair[0]}_{error_pair[1]}.csv:\"), random_sample.shape[0])\n",
        "        random_sample.to_csv(os.path.join(file_path,f\"30_{error_pair[0]}_{error_pair[1]}_{file.split('/')[-1].split('.')[0]}.csv\"), index=False)\n",
        "\n",
        "\n",
        "    # unique_errors(dataframes)\n",
        "\n",
        "\n",
        "\n",
        "    print(\"=\"*10)\n"
      ],
      "metadata": {
        "colab": {
          "base_uri": "https://localhost:8080/"
        },
        "id": "d5VKKbtvEzfJ",
        "outputId": "c65aea72-ecd3-4baa-8bec-4cd40732b264"
      },
      "execution_count": 11,
      "outputs": [
        {
          "output_type": "stream",
          "name": "stdout",
          "text": [
            "PREP_G\n",
            "/content/drive/MyDrive/VU Thesis/Code/Error_Analysis/EA_ORGANIZED_CSVs/Correct_vs_Wrong/details_BB_vs_baby_and_O/PREP_G.csv: 23\n",
            "/content/drive/MyDrive/VU Thesis/Code/Error_Analysis/EA_ORGANIZED_CSVs/Correct_vs_Wrong/details_O_and_BB_vs_baby/PREP_G.csv: 22\n",
            "/content/drive/MyDrive/VU Thesis/Code/Error_Analysis/EA_ORGANIZED_CSVs/Correct_vs_Wrong/details_O_vs_baby_and_BB/PREP_G.csv: 30\n",
            "/content/drive/MyDrive/VU Thesis/Code/Error_Analysis/EA_ORGANIZED_CSVs/Correct_vs_Wrong/details_baby_and_BB_vs_O/PREP_G.csv: 30\n",
            "/content/drive/MyDrive/VU Thesis/Code/Error_Analysis/EA_ORGANIZED_CSVs/Correct_vs_Wrong/details_baby_and_O_vs_BB/PREP_G.csv: 30\n",
            "/content/drive/MyDrive/VU Thesis/Code/Error_Analysis/EA_ORGANIZED_CSVs/Correct_vs_Wrong/details_baby_vs_O_and_BB/PREP_G.csv: 30\n",
            "==========\n",
            "G_PREP\n",
            "/content/drive/MyDrive/VU Thesis/Code/Error_Analysis/EA_ORGANIZED_CSVs/Correct_vs_Wrong/details_BB_vs_baby_and_O/G_PREP.csv: 14\n",
            "/content/drive/MyDrive/VU Thesis/Code/Error_Analysis/EA_ORGANIZED_CSVs/Correct_vs_Wrong/details_O_and_BB_vs_baby/G_PREP.csv: 30\n",
            "/content/drive/MyDrive/VU Thesis/Code/Error_Analysis/EA_ORGANIZED_CSVs/Correct_vs_Wrong/details_O_vs_baby_and_BB/G_PREP.csv: 30\n",
            "/content/drive/MyDrive/VU Thesis/Code/Error_Analysis/EA_ORGANIZED_CSVs/Correct_vs_Wrong/details_baby_and_BB_vs_O/G_PREP.csv: 5\n",
            "/content/drive/MyDrive/VU Thesis/Code/Error_Analysis/EA_ORGANIZED_CSVs/Correct_vs_Wrong/details_baby_and_O_vs_BB/G_PREP.csv: 30\n",
            "/content/drive/MyDrive/VU Thesis/Code/Error_Analysis/EA_ORGANIZED_CSVs/Correct_vs_Wrong/details_baby_vs_O_and_BB/G_PREP.csv: 7\n",
            "==========\n"
          ]
        }
      ]
    }
  ]
}