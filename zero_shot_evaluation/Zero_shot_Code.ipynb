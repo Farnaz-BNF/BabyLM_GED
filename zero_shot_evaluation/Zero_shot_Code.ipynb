{
  "cells": [
    {
      "cell_type": "code",
      "source": [
        "from google.colab import drive\n",
        "drive.mount('/content/drive')"
      ],
      "metadata": {
        "id": "dHg0n3T-6ZeO",
        "colab": {
          "base_uri": "https://localhost:8080/"
        },
        "outputId": "4bda7123-3ae0-4999-d166-3cf19ab6bff5"
      },
      "execution_count": null,
      "outputs": [
        {
          "output_type": "stream",
          "name": "stdout",
          "text": [
            "Mounted at /content/drive\n"
          ]
        }
      ]
    },
    {
      "cell_type": "code",
      "execution_count": null,
      "metadata": {
        "id": "pwLa56M7ozhV"
      },
      "outputs": [],
      "source": [
        "!cp -r \"/content/drive/MyDrive/VU Thesis/Code/BliMP_eval_code/evaluation-pipeline\" \"/content/\"\n",
        "\n",
        "!cp -r \"/content/drive/MyDrive/VU Thesis/Code/BliMP_eval_code/lm_eval\" \"/content/\"\n"
      ]
    },
    {
      "cell_type": "markdown",
      "metadata": {
        "id": "mGvCS4XgvNKV"
      },
      "source": [
        "### Install packages"
      ]
    },
    {
      "cell_type": "code",
      "execution_count": null,
      "metadata": {
        "colab": {
          "base_uri": "https://localhost:8080/",
          "height": 1000
        },
        "id": "qoMmZ_8DpWX6",
        "outputId": "1c408e1f-7e83-4c4a-e4ee-6db3c4981163"
      },
      "outputs": [
        {
          "output_type": "stream",
          "name": "stdout",
          "text": [
            "Obtaining file:///content/evaluation-pipeline\n",
            "  Preparing metadata (setup.py) ... \u001b[?25l\u001b[?25hdone\n",
            "Collecting accelerate@ git+https://github.com/huggingface/accelerate@main (from lm_eval==0.2.0)\n",
            "  Cloning https://github.com/huggingface/accelerate (to revision main) to /tmp/pip-install-d6035pdh/accelerate_2ecf293064214996a4015acb115d22da\n",
            "  Running command git clone --filter=blob:none --quiet https://github.com/huggingface/accelerate /tmp/pip-install-d6035pdh/accelerate_2ecf293064214996a4015acb115d22da\n",
            "  Resolved https://github.com/huggingface/accelerate to commit 7013365791eb7b0e63cc87e3a2d87cfeac246e0a\n",
            "  Installing build dependencies ... \u001b[?25l\u001b[?25hdone\n",
            "  Getting requirements to build wheel ... \u001b[?25l\u001b[?25hdone\n",
            "  Preparing metadata (pyproject.toml) ... \u001b[?25l\u001b[?25hdone\n",
            "Collecting datasets>=2.0.0 (from lm_eval==0.2.0)\n",
            "  Downloading datasets-3.6.0-py3-none-any.whl.metadata (19 kB)\n",
            "Collecting nltk==3.6 (from lm_eval==0.2.0)\n",
            "  Downloading nltk-3.6-py3-none-any.whl.metadata (2.9 kB)\n",
            "Collecting openai==0.13.0 (from lm_eval==0.2.0)\n",
            "  Downloading openai-0.13.0.tar.gz (37 kB)\n",
            "  Preparing metadata (setup.py) ... \u001b[?25l\u001b[?25hdone\n",
            "Collecting pycountry==20.7.3 (from lm_eval==0.2.0)\n",
            "  Downloading pycountry-20.7.3.tar.gz (10.1 MB)\n",
            "\u001b[2K     \u001b[90m━━━━━━━━━━━━━━━━━━━━━━━━━━━━━━━━━━━━━━━━\u001b[0m \u001b[32m10.1/10.1 MB\u001b[0m \u001b[31m80.0 MB/s\u001b[0m eta \u001b[36m0:00:00\u001b[0m\n",
            "\u001b[?25h  Preparing metadata (setup.py) ... \u001b[?25l\u001b[?25hdone\n",
            "Collecting pytablewriter==0.58.0 (from lm_eval==0.2.0)\n",
            "  Downloading pytablewriter-0.58.0-py3-none-any.whl.metadata (31 kB)\n",
            "Collecting rouge-score==0.0.4 (from lm_eval==0.2.0)\n",
            "  Downloading rouge_score-0.0.4-py2.py3-none-any.whl.metadata (3.8 kB)\n",
            "Collecting sacrebleu==1.5.0 (from lm_eval==0.2.0)\n",
            "  Downloading sacrebleu-1.5.0-py3-none-any.whl.metadata (1.3 kB)\n",
            "Requirement already satisfied: scikit-learn>=0.24.1 in /usr/local/lib/python3.11/dist-packages (from lm_eval==0.2.0) (1.6.1)\n",
            "Collecting sqlitedict==1.6.0 (from lm_eval==0.2.0)\n",
            "  Downloading sqlitedict-1.6.0.tar.gz (29 kB)\n",
            "  Preparing metadata (setup.py) ... \u001b[?25l\u001b[?25hdone\n",
            "INFO: pip is looking at multiple versions of lm-eval to determine which version is compatible with other requirements. This could take a while.\n",
            "\u001b[31mERROR: Could not find a version that satisfies the requirement torch==1.11.0 (from lm-eval) (from versions: 1.13.0, 1.13.1, 2.0.0, 2.0.1, 2.1.0, 2.1.1, 2.1.2, 2.2.0, 2.2.1, 2.2.2, 2.3.0, 2.3.1, 2.4.0, 2.4.1, 2.5.0, 2.5.1, 2.6.0, 2.7.0)\u001b[0m\u001b[31m\n",
            "\u001b[0m\u001b[31mERROR: No matching distribution found for torch==1.11.0\u001b[0m\u001b[31m\n",
            "\u001b[0mLooking in indexes: https://pypi.org/simple, https://download.pytorch.org/whl/cu113\n",
            "\u001b[31mERROR: Could not find a version that satisfies the requirement torch==1.11.0+cu113 (from versions: 1.13.0, 1.13.1, 2.0.0, 2.0.1, 2.1.0, 2.1.1, 2.1.2, 2.2.0, 2.2.1, 2.2.2, 2.3.0, 2.3.1, 2.4.0, 2.4.1, 2.5.0, 2.5.1, 2.6.0, 2.7.0)\u001b[0m\u001b[31m\n",
            "\u001b[0m\u001b[31mERROR: No matching distribution found for torch==1.11.0+cu113\u001b[0m\u001b[31m\n",
            "\u001b[0m"
          ]
        },
        {
          "output_type": "error",
          "ename": "CalledProcessError",
          "evalue": "Command '# Remove previous installation if it exists\ncd /content\n# mkdir model_folder\n# pip uninstall -y lm-eval\n# rm -rf evaluation-pipeline/\n\n# Install evaluation-pipeline\n# cp -r /content/drive/MyDrive/VU Thesis/Code/BliMP_eval_code/evaluation-pipeline /content/\ncd evaluation-pipeline/\npip install -e \".[colab]\"\n# Install other necessary packages\npip install torch==1.11.0+cu113 torchvision==0.12.0+cu113 torchaudio==0.11.0 --extra-index-url https://download.pytorch.org/whl/cu113\n\n# Unpack dataset\n# unzip filter_data.zip\n' returned non-zero exit status 1.",
          "traceback": [
            "\u001b[0;31m---------------------------------------------------------------------------\u001b[0m",
            "\u001b[0;31mCalledProcessError\u001b[0m                        Traceback (most recent call last)",
            "\u001b[0;32m<ipython-input-8-0d5bd8b128a3>\u001b[0m in \u001b[0;36m<cell line: 0>\u001b[0;34m()\u001b[0m\n\u001b[0;32m----> 1\u001b[0;31m \u001b[0mget_ipython\u001b[0m\u001b[0;34m(\u001b[0m\u001b[0;34m)\u001b[0m\u001b[0;34m.\u001b[0m\u001b[0mrun_cell_magic\u001b[0m\u001b[0;34m(\u001b[0m\u001b[0;34m'shell'\u001b[0m\u001b[0;34m,\u001b[0m \u001b[0;34m''\u001b[0m\u001b[0;34m,\u001b[0m \u001b[0;34m'# Remove previous installation if it exists\\ncd /content\\n# mkdir model_folder\\n# pip uninstall -y lm-eval\\n# rm -rf evaluation-pipeline/\\n\\n# Install evaluation-pipeline\\n# cp -r /content/drive/MyDrive/VU Thesis/Code/BliMP_eval_code/evaluation-pipeline /content/\\ncd evaluation-pipeline/\\npip install -e \".[colab]\"\\n# Install other necessary packages\\npip install torch==1.11.0+cu113 torchvision==0.12.0+cu113 torchaudio==0.11.0 --extra-index-url https://download.pytorch.org/whl/cu113\\n\\n# Unpack dataset\\n# unzip filter_data.zip\\n'\u001b[0m\u001b[0;34m)\u001b[0m\u001b[0;34m\u001b[0m\u001b[0;34m\u001b[0m\u001b[0m\n\u001b[0m",
            "\u001b[0;32m/usr/local/lib/python3.11/dist-packages/google/colab/_shell.py\u001b[0m in \u001b[0;36mrun_cell_magic\u001b[0;34m(self, magic_name, line, cell)\u001b[0m\n\u001b[1;32m    356\u001b[0m     \u001b[0;32mif\u001b[0m \u001b[0mline\u001b[0m \u001b[0;32mand\u001b[0m \u001b[0;32mnot\u001b[0m \u001b[0mcell\u001b[0m\u001b[0;34m:\u001b[0m\u001b[0;34m\u001b[0m\u001b[0;34m\u001b[0m\u001b[0m\n\u001b[1;32m    357\u001b[0m       \u001b[0mcell\u001b[0m \u001b[0;34m=\u001b[0m \u001b[0;34m' '\u001b[0m\u001b[0;34m\u001b[0m\u001b[0;34m\u001b[0m\u001b[0m\n\u001b[0;32m--> 358\u001b[0;31m     \u001b[0;32mreturn\u001b[0m \u001b[0msuper\u001b[0m\u001b[0;34m(\u001b[0m\u001b[0;34m)\u001b[0m\u001b[0;34m.\u001b[0m\u001b[0mrun_cell_magic\u001b[0m\u001b[0;34m(\u001b[0m\u001b[0mmagic_name\u001b[0m\u001b[0;34m,\u001b[0m \u001b[0mline\u001b[0m\u001b[0;34m,\u001b[0m \u001b[0mcell\u001b[0m\u001b[0;34m)\u001b[0m\u001b[0;34m\u001b[0m\u001b[0;34m\u001b[0m\u001b[0m\n\u001b[0m\u001b[1;32m    359\u001b[0m \u001b[0;34m\u001b[0m\u001b[0m\n\u001b[1;32m    360\u001b[0m \u001b[0;34m\u001b[0m\u001b[0m\n",
            "\u001b[0;32m/usr/local/lib/python3.11/dist-packages/IPython/core/interactiveshell.py\u001b[0m in \u001b[0;36mrun_cell_magic\u001b[0;34m(self, magic_name, line, cell)\u001b[0m\n\u001b[1;32m   2471\u001b[0m             \u001b[0;32mwith\u001b[0m \u001b[0mself\u001b[0m\u001b[0;34m.\u001b[0m\u001b[0mbuiltin_trap\u001b[0m\u001b[0;34m:\u001b[0m\u001b[0;34m\u001b[0m\u001b[0;34m\u001b[0m\u001b[0m\n\u001b[1;32m   2472\u001b[0m                 \u001b[0margs\u001b[0m \u001b[0;34m=\u001b[0m \u001b[0;34m(\u001b[0m\u001b[0mmagic_arg_s\u001b[0m\u001b[0;34m,\u001b[0m \u001b[0mcell\u001b[0m\u001b[0;34m)\u001b[0m\u001b[0;34m\u001b[0m\u001b[0;34m\u001b[0m\u001b[0m\n\u001b[0;32m-> 2473\u001b[0;31m                 \u001b[0mresult\u001b[0m \u001b[0;34m=\u001b[0m \u001b[0mfn\u001b[0m\u001b[0;34m(\u001b[0m\u001b[0;34m*\u001b[0m\u001b[0margs\u001b[0m\u001b[0;34m,\u001b[0m \u001b[0;34m**\u001b[0m\u001b[0mkwargs\u001b[0m\u001b[0;34m)\u001b[0m\u001b[0;34m\u001b[0m\u001b[0;34m\u001b[0m\u001b[0m\n\u001b[0m\u001b[1;32m   2474\u001b[0m             \u001b[0;32mreturn\u001b[0m \u001b[0mresult\u001b[0m\u001b[0;34m\u001b[0m\u001b[0;34m\u001b[0m\u001b[0m\n\u001b[1;32m   2475\u001b[0m \u001b[0;34m\u001b[0m\u001b[0m\n",
            "\u001b[0;32m/usr/local/lib/python3.11/dist-packages/google/colab/_system_commands.py\u001b[0m in \u001b[0;36m_shell_cell_magic\u001b[0;34m(args, cmd)\u001b[0m\n\u001b[1;32m    110\u001b[0m   \u001b[0mresult\u001b[0m \u001b[0;34m=\u001b[0m \u001b[0m_run_command\u001b[0m\u001b[0;34m(\u001b[0m\u001b[0mcmd\u001b[0m\u001b[0;34m,\u001b[0m \u001b[0mclear_streamed_output\u001b[0m\u001b[0;34m=\u001b[0m\u001b[0;32mFalse\u001b[0m\u001b[0;34m)\u001b[0m\u001b[0;34m\u001b[0m\u001b[0;34m\u001b[0m\u001b[0m\n\u001b[1;32m    111\u001b[0m   \u001b[0;32mif\u001b[0m \u001b[0;32mnot\u001b[0m \u001b[0mparsed_args\u001b[0m\u001b[0;34m.\u001b[0m\u001b[0mignore_errors\u001b[0m\u001b[0;34m:\u001b[0m\u001b[0;34m\u001b[0m\u001b[0;34m\u001b[0m\u001b[0m\n\u001b[0;32m--> 112\u001b[0;31m     \u001b[0mresult\u001b[0m\u001b[0;34m.\u001b[0m\u001b[0mcheck_returncode\u001b[0m\u001b[0;34m(\u001b[0m\u001b[0;34m)\u001b[0m\u001b[0;34m\u001b[0m\u001b[0;34m\u001b[0m\u001b[0m\n\u001b[0m\u001b[1;32m    113\u001b[0m   \u001b[0;32mreturn\u001b[0m \u001b[0mresult\u001b[0m\u001b[0;34m\u001b[0m\u001b[0;34m\u001b[0m\u001b[0m\n\u001b[1;32m    114\u001b[0m \u001b[0;34m\u001b[0m\u001b[0m\n",
            "\u001b[0;32m/usr/local/lib/python3.11/dist-packages/google/colab/_system_commands.py\u001b[0m in \u001b[0;36mcheck_returncode\u001b[0;34m(self)\u001b[0m\n\u001b[1;32m    135\u001b[0m   \u001b[0;32mdef\u001b[0m \u001b[0mcheck_returncode\u001b[0m\u001b[0;34m(\u001b[0m\u001b[0mself\u001b[0m\u001b[0;34m)\u001b[0m\u001b[0;34m:\u001b[0m\u001b[0;34m\u001b[0m\u001b[0;34m\u001b[0m\u001b[0m\n\u001b[1;32m    136\u001b[0m     \u001b[0;32mif\u001b[0m \u001b[0mself\u001b[0m\u001b[0;34m.\u001b[0m\u001b[0mreturncode\u001b[0m\u001b[0;34m:\u001b[0m\u001b[0;34m\u001b[0m\u001b[0;34m\u001b[0m\u001b[0m\n\u001b[0;32m--> 137\u001b[0;31m       raise subprocess.CalledProcessError(\n\u001b[0m\u001b[1;32m    138\u001b[0m           \u001b[0mreturncode\u001b[0m\u001b[0;34m=\u001b[0m\u001b[0mself\u001b[0m\u001b[0;34m.\u001b[0m\u001b[0mreturncode\u001b[0m\u001b[0;34m,\u001b[0m \u001b[0mcmd\u001b[0m\u001b[0;34m=\u001b[0m\u001b[0mself\u001b[0m\u001b[0;34m.\u001b[0m\u001b[0margs\u001b[0m\u001b[0;34m,\u001b[0m \u001b[0moutput\u001b[0m\u001b[0;34m=\u001b[0m\u001b[0mself\u001b[0m\u001b[0;34m.\u001b[0m\u001b[0moutput\u001b[0m\u001b[0;34m\u001b[0m\u001b[0;34m\u001b[0m\u001b[0m\n\u001b[1;32m    139\u001b[0m       )\n",
            "\u001b[0;31mCalledProcessError\u001b[0m: Command '# Remove previous installation if it exists\ncd /content\n# mkdir model_folder\n# pip uninstall -y lm-eval\n# rm -rf evaluation-pipeline/\n\n# Install evaluation-pipeline\n# cp -r /content/drive/MyDrive/VU Thesis/Code/BliMP_eval_code/evaluation-pipeline /content/\ncd evaluation-pipeline/\npip install -e \".[colab]\"\n# Install other necessary packages\npip install torch==1.11.0+cu113 torchvision==0.12.0+cu113 torchaudio==0.11.0 --extra-index-url https://download.pytorch.org/whl/cu113\n\n# Unpack dataset\n# unzip filter_data.zip\n' returned non-zero exit status 1."
          ]
        }
      ],
      "source": [
        "#@title Setup script { display-mode: \"form\" }\n",
        "#@markdown Run this cell to install the necessary packages (may take a few minutes).\n",
        "%%shell\n",
        "# Remove previous installation if it exists\n",
        "cd /content\n",
        "# mkdir model_folder\n",
        "# pip uninstall -y lm-eval\n",
        "# rm -rf evaluation-pipeline/\n",
        "\n",
        "# Install evaluation-pipeline\n",
        "# cp -r /content/drive/MyDrive/VU Thesis/Code/BliMP_eval_code/evaluation-pipeline /content/\n",
        "cd evaluation-pipeline/\n",
        "pip install -e \".[colab]\"\n",
        "# Install other necessary packages\n",
        "pip install torch==1.11.0+cu113 torchvision==0.12.0+cu113 torchaudio==0.11.0 --extra-index-url https://download.pytorch.org/whl/cu113\n",
        "\n",
        "# Unpack dataset\n",
        "# unzip filter_data.zip"
      ]
    },
    {
      "cell_type": "code",
      "execution_count": null,
      "metadata": {
        "colab": {
          "base_uri": "https://localhost:8080/"
        },
        "id": "f5Rn33BdpYYU",
        "outputId": "9c57010d-e085-4c68-86f1-126b761d17c8"
      },
      "outputs": [
        {
          "output_type": "stream",
          "name": "stdout",
          "text": [
            "Collecting sacrebleu\n",
            "  Downloading sacrebleu-2.5.1-py3-none-any.whl.metadata (51 kB)\n",
            "\u001b[2K     \u001b[90m━━━━━━━━━━━━━━━━━━━━━━━━━━━━━━━━━━━━━━━━\u001b[0m \u001b[32m51.8/51.8 kB\u001b[0m \u001b[31m2.9 MB/s\u001b[0m eta \u001b[36m0:00:00\u001b[0m\n",
            "\u001b[?25hCollecting portalocker (from sacrebleu)\n",
            "  Downloading portalocker-3.1.1-py3-none-any.whl.metadata (8.6 kB)\n",
            "Requirement already satisfied: regex in /usr/local/lib/python3.11/dist-packages (from sacrebleu) (2024.11.6)\n",
            "Requirement already satisfied: tabulate>=0.8.9 in /usr/local/lib/python3.11/dist-packages (from sacrebleu) (0.9.0)\n",
            "Requirement already satisfied: numpy>=1.17 in /usr/local/lib/python3.11/dist-packages (from sacrebleu) (2.0.2)\n",
            "Collecting colorama (from sacrebleu)\n",
            "  Downloading colorama-0.4.6-py2.py3-none-any.whl.metadata (17 kB)\n",
            "Requirement already satisfied: lxml in /usr/local/lib/python3.11/dist-packages (from sacrebleu) (5.4.0)\n",
            "Downloading sacrebleu-2.5.1-py3-none-any.whl (104 kB)\n",
            "\u001b[2K   \u001b[90m━━━━━━━━━━━━━━━━━━━━━━━━━━━━━━━━━━━━━━━━\u001b[0m \u001b[32m104.1/104.1 kB\u001b[0m \u001b[31m7.1 MB/s\u001b[0m eta \u001b[36m0:00:00\u001b[0m\n",
            "\u001b[?25hDownloading colorama-0.4.6-py2.py3-none-any.whl (25 kB)\n",
            "Downloading portalocker-3.1.1-py3-none-any.whl (19 kB)\n",
            "Installing collected packages: portalocker, colorama, sacrebleu\n",
            "Successfully installed colorama-0.4.6 portalocker-3.1.1 sacrebleu-2.5.1\n"
          ]
        }
      ],
      "source": [
        "!pip install sacrebleu"
      ]
    },
    {
      "cell_type": "code",
      "execution_count": null,
      "metadata": {
        "colab": {
          "base_uri": "https://localhost:8080/"
        },
        "id": "FuzjkkLTpZe1",
        "outputId": "55b37f6c-2976-4307-9d4a-aba1cf341a46"
      },
      "outputs": [
        {
          "output_type": "stream",
          "name": "stdout",
          "text": [
            "Collecting datasets\n",
            "  Using cached datasets-3.6.0-py3-none-any.whl.metadata (19 kB)\n",
            "Requirement already satisfied: filelock in /usr/local/lib/python3.11/dist-packages (from datasets) (3.18.0)\n",
            "Requirement already satisfied: numpy>=1.17 in /usr/local/lib/python3.11/dist-packages (from datasets) (2.0.2)\n",
            "Requirement already satisfied: pyarrow>=15.0.0 in /usr/local/lib/python3.11/dist-packages (from datasets) (18.1.0)\n",
            "Collecting dill<0.3.9,>=0.3.0 (from datasets)\n",
            "  Downloading dill-0.3.8-py3-none-any.whl.metadata (10 kB)\n",
            "Requirement already satisfied: pandas in /usr/local/lib/python3.11/dist-packages (from datasets) (2.2.2)\n",
            "Requirement already satisfied: requests>=2.32.2 in /usr/local/lib/python3.11/dist-packages (from datasets) (2.32.3)\n",
            "Requirement already satisfied: tqdm>=4.66.3 in /usr/local/lib/python3.11/dist-packages (from datasets) (4.67.1)\n",
            "Collecting xxhash (from datasets)\n",
            "  Downloading xxhash-3.5.0-cp311-cp311-manylinux_2_17_x86_64.manylinux2014_x86_64.whl.metadata (12 kB)\n",
            "Collecting multiprocess<0.70.17 (from datasets)\n",
            "  Downloading multiprocess-0.70.16-py311-none-any.whl.metadata (7.2 kB)\n",
            "Collecting fsspec<=2025.3.0,>=2023.1.0 (from fsspec[http]<=2025.3.0,>=2023.1.0->datasets)\n",
            "  Downloading fsspec-2025.3.0-py3-none-any.whl.metadata (11 kB)\n",
            "Requirement already satisfied: huggingface-hub>=0.24.0 in /usr/local/lib/python3.11/dist-packages (from datasets) (0.30.2)\n",
            "Requirement already satisfied: packaging in /usr/local/lib/python3.11/dist-packages (from datasets) (24.2)\n",
            "Requirement already satisfied: pyyaml>=5.1 in /usr/local/lib/python3.11/dist-packages (from datasets) (6.0.2)\n",
            "Requirement already satisfied: aiohttp!=4.0.0a0,!=4.0.0a1 in /usr/local/lib/python3.11/dist-packages (from fsspec[http]<=2025.3.0,>=2023.1.0->datasets) (3.11.15)\n",
            "Requirement already satisfied: typing-extensions>=3.7.4.3 in /usr/local/lib/python3.11/dist-packages (from huggingface-hub>=0.24.0->datasets) (4.13.2)\n",
            "Requirement already satisfied: charset-normalizer<4,>=2 in /usr/local/lib/python3.11/dist-packages (from requests>=2.32.2->datasets) (3.4.1)\n",
            "Requirement already satisfied: idna<4,>=2.5 in /usr/local/lib/python3.11/dist-packages (from requests>=2.32.2->datasets) (3.10)\n",
            "Requirement already satisfied: urllib3<3,>=1.21.1 in /usr/local/lib/python3.11/dist-packages (from requests>=2.32.2->datasets) (2.4.0)\n",
            "Requirement already satisfied: certifi>=2017.4.17 in /usr/local/lib/python3.11/dist-packages (from requests>=2.32.2->datasets) (2025.4.26)\n",
            "Requirement already satisfied: python-dateutil>=2.8.2 in /usr/local/lib/python3.11/dist-packages (from pandas->datasets) (2.9.0.post0)\n",
            "Requirement already satisfied: pytz>=2020.1 in /usr/local/lib/python3.11/dist-packages (from pandas->datasets) (2025.2)\n",
            "Requirement already satisfied: tzdata>=2022.7 in /usr/local/lib/python3.11/dist-packages (from pandas->datasets) (2025.2)\n",
            "Requirement already satisfied: aiohappyeyeballs>=2.3.0 in /usr/local/lib/python3.11/dist-packages (from aiohttp!=4.0.0a0,!=4.0.0a1->fsspec[http]<=2025.3.0,>=2023.1.0->datasets) (2.6.1)\n",
            "Requirement already satisfied: aiosignal>=1.1.2 in /usr/local/lib/python3.11/dist-packages (from aiohttp!=4.0.0a0,!=4.0.0a1->fsspec[http]<=2025.3.0,>=2023.1.0->datasets) (1.3.2)\n",
            "Requirement already satisfied: attrs>=17.3.0 in /usr/local/lib/python3.11/dist-packages (from aiohttp!=4.0.0a0,!=4.0.0a1->fsspec[http]<=2025.3.0,>=2023.1.0->datasets) (25.3.0)\n",
            "Requirement already satisfied: frozenlist>=1.1.1 in /usr/local/lib/python3.11/dist-packages (from aiohttp!=4.0.0a0,!=4.0.0a1->fsspec[http]<=2025.3.0,>=2023.1.0->datasets) (1.6.0)\n",
            "Requirement already satisfied: multidict<7.0,>=4.5 in /usr/local/lib/python3.11/dist-packages (from aiohttp!=4.0.0a0,!=4.0.0a1->fsspec[http]<=2025.3.0,>=2023.1.0->datasets) (6.4.3)\n",
            "Requirement already satisfied: propcache>=0.2.0 in /usr/local/lib/python3.11/dist-packages (from aiohttp!=4.0.0a0,!=4.0.0a1->fsspec[http]<=2025.3.0,>=2023.1.0->datasets) (0.3.1)\n",
            "Requirement already satisfied: yarl<2.0,>=1.17.0 in /usr/local/lib/python3.11/dist-packages (from aiohttp!=4.0.0a0,!=4.0.0a1->fsspec[http]<=2025.3.0,>=2023.1.0->datasets) (1.20.0)\n",
            "Requirement already satisfied: six>=1.5 in /usr/local/lib/python3.11/dist-packages (from python-dateutil>=2.8.2->pandas->datasets) (1.17.0)\n",
            "Downloading datasets-3.6.0-py3-none-any.whl (491 kB)\n",
            "\u001b[2K   \u001b[90m━━━━━━━━━━━━━━━━━━━━━━━━━━━━━━━━━━━━━━━━\u001b[0m \u001b[32m491.5/491.5 kB\u001b[0m \u001b[31m11.9 MB/s\u001b[0m eta \u001b[36m0:00:00\u001b[0m\n",
            "\u001b[?25hDownloading dill-0.3.8-py3-none-any.whl (116 kB)\n",
            "\u001b[2K   \u001b[90m━━━━━━━━━━━━━━━━━━━━━━━━━━━━━━━━━━━━━━━━\u001b[0m \u001b[32m116.3/116.3 kB\u001b[0m \u001b[31m11.7 MB/s\u001b[0m eta \u001b[36m0:00:00\u001b[0m\n",
            "\u001b[?25hDownloading fsspec-2025.3.0-py3-none-any.whl (193 kB)\n",
            "\u001b[2K   \u001b[90m━━━━━━━━━━━━━━━━━━━━━━━━━━━━━━━━━━━━━━━━\u001b[0m \u001b[32m193.6/193.6 kB\u001b[0m \u001b[31m20.8 MB/s\u001b[0m eta \u001b[36m0:00:00\u001b[0m\n",
            "\u001b[?25hDownloading multiprocess-0.70.16-py311-none-any.whl (143 kB)\n",
            "\u001b[2K   \u001b[90m━━━━━━━━━━━━━━━━━━━━━━━━━━━━━━━━━━━━━━━━\u001b[0m \u001b[32m143.5/143.5 kB\u001b[0m \u001b[31m14.4 MB/s\u001b[0m eta \u001b[36m0:00:00\u001b[0m\n",
            "\u001b[?25hDownloading xxhash-3.5.0-cp311-cp311-manylinux_2_17_x86_64.manylinux2014_x86_64.whl (194 kB)\n",
            "\u001b[2K   \u001b[90m━━━━━━━━━━━━━━━━━━━━━━━━━━━━━━━━━━━━━━━━\u001b[0m \u001b[32m194.8/194.8 kB\u001b[0m \u001b[31m18.7 MB/s\u001b[0m eta \u001b[36m0:00:00\u001b[0m\n",
            "\u001b[?25hInstalling collected packages: xxhash, fsspec, dill, multiprocess, datasets\n",
            "  Attempting uninstall: fsspec\n",
            "    Found existing installation: fsspec 2025.3.2\n",
            "    Uninstalling fsspec-2025.3.2:\n",
            "      Successfully uninstalled fsspec-2025.3.2\n",
            "\u001b[31mERROR: pip's dependency resolver does not currently take into account all the packages that are installed. This behaviour is the source of the following dependency conflicts.\n",
            "gcsfs 2025.3.2 requires fsspec==2025.3.2, but you have fsspec 2025.3.0 which is incompatible.\n",
            "torch 2.6.0+cu124 requires nvidia-cublas-cu12==12.4.5.8; platform_system == \"Linux\" and platform_machine == \"x86_64\", but you have nvidia-cublas-cu12 12.5.3.2 which is incompatible.\n",
            "torch 2.6.0+cu124 requires nvidia-cuda-cupti-cu12==12.4.127; platform_system == \"Linux\" and platform_machine == \"x86_64\", but you have nvidia-cuda-cupti-cu12 12.5.82 which is incompatible.\n",
            "torch 2.6.0+cu124 requires nvidia-cuda-nvrtc-cu12==12.4.127; platform_system == \"Linux\" and platform_machine == \"x86_64\", but you have nvidia-cuda-nvrtc-cu12 12.5.82 which is incompatible.\n",
            "torch 2.6.0+cu124 requires nvidia-cuda-runtime-cu12==12.4.127; platform_system == \"Linux\" and platform_machine == \"x86_64\", but you have nvidia-cuda-runtime-cu12 12.5.82 which is incompatible.\n",
            "torch 2.6.0+cu124 requires nvidia-cudnn-cu12==9.1.0.70; platform_system == \"Linux\" and platform_machine == \"x86_64\", but you have nvidia-cudnn-cu12 9.3.0.75 which is incompatible.\n",
            "torch 2.6.0+cu124 requires nvidia-cufft-cu12==11.2.1.3; platform_system == \"Linux\" and platform_machine == \"x86_64\", but you have nvidia-cufft-cu12 11.2.3.61 which is incompatible.\n",
            "torch 2.6.0+cu124 requires nvidia-curand-cu12==10.3.5.147; platform_system == \"Linux\" and platform_machine == \"x86_64\", but you have nvidia-curand-cu12 10.3.6.82 which is incompatible.\n",
            "torch 2.6.0+cu124 requires nvidia-cusolver-cu12==11.6.1.9; platform_system == \"Linux\" and platform_machine == \"x86_64\", but you have nvidia-cusolver-cu12 11.6.3.83 which is incompatible.\n",
            "torch 2.6.0+cu124 requires nvidia-cusparse-cu12==12.3.1.170; platform_system == \"Linux\" and platform_machine == \"x86_64\", but you have nvidia-cusparse-cu12 12.5.1.3 which is incompatible.\n",
            "torch 2.6.0+cu124 requires nvidia-nvjitlink-cu12==12.4.127; platform_system == \"Linux\" and platform_machine == \"x86_64\", but you have nvidia-nvjitlink-cu12 12.5.82 which is incompatible.\u001b[0m\u001b[31m\n",
            "\u001b[0mSuccessfully installed datasets-3.6.0 dill-0.3.8 fsspec-2025.3.0 multiprocess-0.70.16 xxhash-3.5.0\n"
          ]
        }
      ],
      "source": [
        "!pip install datasets"
      ]
    },
    {
      "cell_type": "code",
      "execution_count": null,
      "metadata": {
        "colab": {
          "base_uri": "https://localhost:8080/"
        },
        "id": "5s3Eebodpa0f",
        "outputId": "9f191c8b-5eaa-43cf-89a8-2207f4987257"
      },
      "outputs": [
        {
          "output_type": "stream",
          "name": "stdout",
          "text": [
            "Collecting rouge_score\n",
            "  Downloading rouge_score-0.1.2.tar.gz (17 kB)\n",
            "  Preparing metadata (setup.py) ... \u001b[?25l\u001b[?25hdone\n",
            "Requirement already satisfied: absl-py in /usr/local/lib/python3.11/dist-packages (from rouge_score) (1.4.0)\n",
            "Requirement already satisfied: nltk in /usr/local/lib/python3.11/dist-packages (from rouge_score) (3.9.1)\n",
            "Requirement already satisfied: numpy in /usr/local/lib/python3.11/dist-packages (from rouge_score) (2.0.2)\n",
            "Requirement already satisfied: six>=1.14.0 in /usr/local/lib/python3.11/dist-packages (from rouge_score) (1.17.0)\n",
            "Requirement already satisfied: click in /usr/local/lib/python3.11/dist-packages (from nltk->rouge_score) (8.1.8)\n",
            "Requirement already satisfied: joblib in /usr/local/lib/python3.11/dist-packages (from nltk->rouge_score) (1.4.2)\n",
            "Requirement already satisfied: regex>=2021.8.3 in /usr/local/lib/python3.11/dist-packages (from nltk->rouge_score) (2024.11.6)\n",
            "Requirement already satisfied: tqdm in /usr/local/lib/python3.11/dist-packages (from nltk->rouge_score) (4.67.1)\n",
            "Building wheels for collected packages: rouge_score\n",
            "  Building wheel for rouge_score (setup.py) ... \u001b[?25l\u001b[?25hdone\n",
            "  Created wheel for rouge_score: filename=rouge_score-0.1.2-py3-none-any.whl size=24934 sha256=56162266c8e1c268b88eb39ff985373357d49415c5fbff7bde86336325ed9cb8\n",
            "  Stored in directory: /root/.cache/pip/wheels/1e/19/43/8a442dc83660ca25e163e1bd1f89919284ab0d0c1475475148\n",
            "Successfully built rouge_score\n",
            "Installing collected packages: rouge_score\n",
            "Successfully installed rouge_score-0.1.2\n"
          ]
        }
      ],
      "source": [
        "!pip install rouge_score"
      ]
    },
    {
      "cell_type": "code",
      "execution_count": null,
      "metadata": {
        "colab": {
          "base_uri": "https://localhost:8080/"
        },
        "id": "dYgyWF1Ypcet",
        "outputId": "0da34051-17f3-4b91-c9d4-488dbdff4af2"
      },
      "outputs": [
        {
          "output_type": "stream",
          "name": "stdout",
          "text": [
            "Collecting lm_eval\n",
            "  Downloading lm_eval-0.4.8-py3-none-any.whl.metadata (50 kB)\n",
            "\u001b[?25l     \u001b[90m━━━━━━━━━━━━━━━━━━━━━━━━━━━━━━━━━━━━━━━━\u001b[0m \u001b[32m0.0/50.5 kB\u001b[0m \u001b[31m?\u001b[0m eta \u001b[36m-:--:--\u001b[0m\r\u001b[2K     \u001b[90m━━━━━━━━━━━━━━━━━━━━━━━━━━━━━━━━━━━━━━━━\u001b[0m \u001b[32m50.5/50.5 kB\u001b[0m \u001b[31m3.1 MB/s\u001b[0m eta \u001b[36m0:00:00\u001b[0m\n",
            "\u001b[?25hRequirement already satisfied: accelerate>=0.26.0 in /usr/local/lib/python3.11/dist-packages (from lm_eval) (1.6.0)\n",
            "Collecting evaluate (from lm_eval)\n",
            "  Downloading evaluate-0.4.3-py3-none-any.whl.metadata (9.2 kB)\n",
            "Requirement already satisfied: datasets>=2.16.0 in /usr/local/lib/python3.11/dist-packages (from lm_eval) (3.6.0)\n",
            "Collecting jsonlines (from lm_eval)\n",
            "  Downloading jsonlines-4.0.0-py3-none-any.whl.metadata (1.6 kB)\n",
            "Requirement already satisfied: numexpr in /usr/local/lib/python3.11/dist-packages (from lm_eval) (2.10.2)\n",
            "Requirement already satisfied: peft>=0.2.0 in /usr/local/lib/python3.11/dist-packages (from lm_eval) (0.15.2)\n",
            "Collecting pybind11>=2.6.2 (from lm_eval)\n",
            "  Downloading pybind11-2.13.6-py3-none-any.whl.metadata (9.5 kB)\n",
            "Collecting pytablewriter (from lm_eval)\n",
            "  Downloading pytablewriter-1.2.1-py3-none-any.whl.metadata (38 kB)\n",
            "Requirement already satisfied: rouge-score>=0.0.4 in /usr/local/lib/python3.11/dist-packages (from lm_eval) (0.1.2)\n",
            "Requirement already satisfied: sacrebleu>=1.5.0 in /usr/local/lib/python3.11/dist-packages (from lm_eval) (2.5.1)\n",
            "Requirement already satisfied: scikit-learn>=0.24.1 in /usr/local/lib/python3.11/dist-packages (from lm_eval) (1.6.1)\n",
            "Collecting sqlitedict (from lm_eval)\n",
            "  Downloading sqlitedict-2.1.0.tar.gz (21 kB)\n",
            "  Preparing metadata (setup.py) ... \u001b[?25l\u001b[?25hdone\n",
            "Requirement already satisfied: torch>=1.8 in /usr/local/lib/python3.11/dist-packages (from lm_eval) (2.6.0+cu124)\n",
            "Collecting tqdm-multiprocess (from lm_eval)\n",
            "  Downloading tqdm_multiprocess-0.0.11-py3-none-any.whl.metadata (5.7 kB)\n",
            "Requirement already satisfied: transformers>=4.1 in /usr/local/lib/python3.11/dist-packages (from lm_eval) (4.51.3)\n",
            "Requirement already satisfied: zstandard in /usr/local/lib/python3.11/dist-packages (from lm_eval) (0.23.0)\n",
            "Requirement already satisfied: dill in /usr/local/lib/python3.11/dist-packages (from lm_eval) (0.3.8)\n",
            "Collecting word2number (from lm_eval)\n",
            "  Downloading word2number-1.1.zip (9.7 kB)\n",
            "  Preparing metadata (setup.py) ... \u001b[?25l\u001b[?25hdone\n",
            "Requirement already satisfied: more_itertools in /usr/local/lib/python3.11/dist-packages (from lm_eval) (10.7.0)\n",
            "Requirement already satisfied: numpy<3.0.0,>=1.17 in /usr/local/lib/python3.11/dist-packages (from accelerate>=0.26.0->lm_eval) (2.0.2)\n",
            "Requirement already satisfied: packaging>=20.0 in /usr/local/lib/python3.11/dist-packages (from accelerate>=0.26.0->lm_eval) (24.2)\n",
            "Requirement already satisfied: psutil in /usr/local/lib/python3.11/dist-packages (from accelerate>=0.26.0->lm_eval) (5.9.5)\n",
            "Requirement already satisfied: pyyaml in /usr/local/lib/python3.11/dist-packages (from accelerate>=0.26.0->lm_eval) (6.0.2)\n",
            "Requirement already satisfied: huggingface-hub>=0.21.0 in /usr/local/lib/python3.11/dist-packages (from accelerate>=0.26.0->lm_eval) (0.30.2)\n",
            "Requirement already satisfied: safetensors>=0.4.3 in /usr/local/lib/python3.11/dist-packages (from accelerate>=0.26.0->lm_eval) (0.5.3)\n",
            "Requirement already satisfied: filelock in /usr/local/lib/python3.11/dist-packages (from datasets>=2.16.0->lm_eval) (3.18.0)\n",
            "Requirement already satisfied: pyarrow>=15.0.0 in /usr/local/lib/python3.11/dist-packages (from datasets>=2.16.0->lm_eval) (18.1.0)\n",
            "Requirement already satisfied: pandas in /usr/local/lib/python3.11/dist-packages (from datasets>=2.16.0->lm_eval) (2.2.2)\n",
            "Requirement already satisfied: requests>=2.32.2 in /usr/local/lib/python3.11/dist-packages (from datasets>=2.16.0->lm_eval) (2.32.3)\n",
            "Requirement already satisfied: tqdm>=4.66.3 in /usr/local/lib/python3.11/dist-packages (from datasets>=2.16.0->lm_eval) (4.67.1)\n",
            "Requirement already satisfied: xxhash in /usr/local/lib/python3.11/dist-packages (from datasets>=2.16.0->lm_eval) (3.5.0)\n",
            "Requirement already satisfied: multiprocess<0.70.17 in /usr/local/lib/python3.11/dist-packages (from datasets>=2.16.0->lm_eval) (0.70.16)\n",
            "Requirement already satisfied: fsspec<=2025.3.0,>=2023.1.0 in /usr/local/lib/python3.11/dist-packages (from fsspec[http]<=2025.3.0,>=2023.1.0->datasets>=2.16.0->lm_eval) (2025.3.0)\n",
            "Requirement already satisfied: absl-py in /usr/local/lib/python3.11/dist-packages (from rouge-score>=0.0.4->lm_eval) (1.4.0)\n",
            "Requirement already satisfied: nltk in /usr/local/lib/python3.11/dist-packages (from rouge-score>=0.0.4->lm_eval) (3.9.1)\n",
            "Requirement already satisfied: six>=1.14.0 in /usr/local/lib/python3.11/dist-packages (from rouge-score>=0.0.4->lm_eval) (1.17.0)\n",
            "Requirement already satisfied: portalocker in /usr/local/lib/python3.11/dist-packages (from sacrebleu>=1.5.0->lm_eval) (3.1.1)\n",
            "Requirement already satisfied: regex in /usr/local/lib/python3.11/dist-packages (from sacrebleu>=1.5.0->lm_eval) (2024.11.6)\n",
            "Requirement already satisfied: tabulate>=0.8.9 in /usr/local/lib/python3.11/dist-packages (from sacrebleu>=1.5.0->lm_eval) (0.9.0)\n",
            "Requirement already satisfied: colorama in /usr/local/lib/python3.11/dist-packages (from sacrebleu>=1.5.0->lm_eval) (0.4.6)\n",
            "Requirement already satisfied: lxml in /usr/local/lib/python3.11/dist-packages (from sacrebleu>=1.5.0->lm_eval) (5.4.0)\n",
            "Requirement already satisfied: scipy>=1.6.0 in /usr/local/lib/python3.11/dist-packages (from scikit-learn>=0.24.1->lm_eval) (1.15.2)\n",
            "Requirement already satisfied: joblib>=1.2.0 in /usr/local/lib/python3.11/dist-packages (from scikit-learn>=0.24.1->lm_eval) (1.4.2)\n",
            "Requirement already satisfied: threadpoolctl>=3.1.0 in /usr/local/lib/python3.11/dist-packages (from scikit-learn>=0.24.1->lm_eval) (3.6.0)\n",
            "Requirement already satisfied: typing-extensions>=4.10.0 in /usr/local/lib/python3.11/dist-packages (from torch>=1.8->lm_eval) (4.13.2)\n",
            "Requirement already satisfied: networkx in /usr/local/lib/python3.11/dist-packages (from torch>=1.8->lm_eval) (3.4.2)\n",
            "Requirement already satisfied: jinja2 in /usr/local/lib/python3.11/dist-packages (from torch>=1.8->lm_eval) (3.1.6)\n",
            "Collecting nvidia-cuda-nvrtc-cu12==12.4.127 (from torch>=1.8->lm_eval)\n",
            "  Downloading nvidia_cuda_nvrtc_cu12-12.4.127-py3-none-manylinux2014_x86_64.whl.metadata (1.5 kB)\n",
            "Collecting nvidia-cuda-runtime-cu12==12.4.127 (from torch>=1.8->lm_eval)\n",
            "  Downloading nvidia_cuda_runtime_cu12-12.4.127-py3-none-manylinux2014_x86_64.whl.metadata (1.5 kB)\n",
            "Collecting nvidia-cuda-cupti-cu12==12.4.127 (from torch>=1.8->lm_eval)\n",
            "  Downloading nvidia_cuda_cupti_cu12-12.4.127-py3-none-manylinux2014_x86_64.whl.metadata (1.6 kB)\n",
            "Collecting nvidia-cudnn-cu12==9.1.0.70 (from torch>=1.8->lm_eval)\n",
            "  Downloading nvidia_cudnn_cu12-9.1.0.70-py3-none-manylinux2014_x86_64.whl.metadata (1.6 kB)\n",
            "Collecting nvidia-cublas-cu12==12.4.5.8 (from torch>=1.8->lm_eval)\n",
            "  Downloading nvidia_cublas_cu12-12.4.5.8-py3-none-manylinux2014_x86_64.whl.metadata (1.5 kB)\n",
            "Collecting nvidia-cufft-cu12==11.2.1.3 (from torch>=1.8->lm_eval)\n",
            "  Downloading nvidia_cufft_cu12-11.2.1.3-py3-none-manylinux2014_x86_64.whl.metadata (1.5 kB)\n",
            "Collecting nvidia-curand-cu12==10.3.5.147 (from torch>=1.8->lm_eval)\n",
            "  Downloading nvidia_curand_cu12-10.3.5.147-py3-none-manylinux2014_x86_64.whl.metadata (1.5 kB)\n",
            "Collecting nvidia-cusolver-cu12==11.6.1.9 (from torch>=1.8->lm_eval)\n",
            "  Downloading nvidia_cusolver_cu12-11.6.1.9-py3-none-manylinux2014_x86_64.whl.metadata (1.6 kB)\n",
            "Collecting nvidia-cusparse-cu12==12.3.1.170 (from torch>=1.8->lm_eval)\n",
            "  Downloading nvidia_cusparse_cu12-12.3.1.170-py3-none-manylinux2014_x86_64.whl.metadata (1.6 kB)\n",
            "Requirement already satisfied: nvidia-cusparselt-cu12==0.6.2 in /usr/local/lib/python3.11/dist-packages (from torch>=1.8->lm_eval) (0.6.2)\n",
            "Requirement already satisfied: nvidia-nccl-cu12==2.21.5 in /usr/local/lib/python3.11/dist-packages (from torch>=1.8->lm_eval) (2.21.5)\n",
            "Requirement already satisfied: nvidia-nvtx-cu12==12.4.127 in /usr/local/lib/python3.11/dist-packages (from torch>=1.8->lm_eval) (12.4.127)\n",
            "Collecting nvidia-nvjitlink-cu12==12.4.127 (from torch>=1.8->lm_eval)\n",
            "  Downloading nvidia_nvjitlink_cu12-12.4.127-py3-none-manylinux2014_x86_64.whl.metadata (1.5 kB)\n",
            "Requirement already satisfied: triton==3.2.0 in /usr/local/lib/python3.11/dist-packages (from torch>=1.8->lm_eval) (3.2.0)\n",
            "Requirement already satisfied: sympy==1.13.1 in /usr/local/lib/python3.11/dist-packages (from torch>=1.8->lm_eval) (1.13.1)\n",
            "Requirement already satisfied: mpmath<1.4,>=1.1.0 in /usr/local/lib/python3.11/dist-packages (from sympy==1.13.1->torch>=1.8->lm_eval) (1.3.0)\n",
            "Requirement already satisfied: tokenizers<0.22,>=0.21 in /usr/local/lib/python3.11/dist-packages (from transformers>=4.1->lm_eval) (0.21.1)\n",
            "Requirement already satisfied: attrs>=19.2.0 in /usr/local/lib/python3.11/dist-packages (from jsonlines->lm_eval) (25.3.0)\n",
            "Requirement already satisfied: setuptools>=38.3.0 in /usr/local/lib/python3.11/dist-packages (from pytablewriter->lm_eval) (75.2.0)\n",
            "Collecting DataProperty<2,>=1.1.0 (from pytablewriter->lm_eval)\n",
            "  Downloading DataProperty-1.1.0-py3-none-any.whl.metadata (11 kB)\n",
            "Collecting mbstrdecoder<2,>=1.0.0 (from pytablewriter->lm_eval)\n",
            "  Downloading mbstrdecoder-1.1.4-py3-none-any.whl.metadata (4.3 kB)\n",
            "Collecting pathvalidate<4,>=2.3.0 (from pytablewriter->lm_eval)\n",
            "  Downloading pathvalidate-3.2.3-py3-none-any.whl.metadata (12 kB)\n",
            "Collecting tabledata<2,>=1.3.1 (from pytablewriter->lm_eval)\n",
            "  Downloading tabledata-1.3.4-py3-none-any.whl.metadata (3.7 kB)\n",
            "Collecting tcolorpy<1,>=0.0.5 (from pytablewriter->lm_eval)\n",
            "  Downloading tcolorpy-0.1.7-py3-none-any.whl.metadata (6.3 kB)\n",
            "Collecting typepy<2,>=1.3.2 (from typepy[datetime]<2,>=1.3.2->pytablewriter->lm_eval)\n",
            "  Downloading typepy-1.3.4-py3-none-any.whl.metadata (9.2 kB)\n",
            "Requirement already satisfied: aiohttp!=4.0.0a0,!=4.0.0a1 in /usr/local/lib/python3.11/dist-packages (from fsspec[http]<=2025.3.0,>=2023.1.0->datasets>=2.16.0->lm_eval) (3.11.15)\n",
            "Requirement already satisfied: chardet<6,>=3.0.4 in /usr/local/lib/python3.11/dist-packages (from mbstrdecoder<2,>=1.0.0->pytablewriter->lm_eval) (5.2.0)\n",
            "Requirement already satisfied: charset-normalizer<4,>=2 in /usr/local/lib/python3.11/dist-packages (from requests>=2.32.2->datasets>=2.16.0->lm_eval) (3.4.1)\n",
            "Requirement already satisfied: idna<4,>=2.5 in /usr/local/lib/python3.11/dist-packages (from requests>=2.32.2->datasets>=2.16.0->lm_eval) (3.10)\n",
            "Requirement already satisfied: urllib3<3,>=1.21.1 in /usr/local/lib/python3.11/dist-packages (from requests>=2.32.2->datasets>=2.16.0->lm_eval) (2.4.0)\n",
            "Requirement already satisfied: certifi>=2017.4.17 in /usr/local/lib/python3.11/dist-packages (from requests>=2.32.2->datasets>=2.16.0->lm_eval) (2025.4.26)\n",
            "Requirement already satisfied: python-dateutil<3.0.0,>=2.8.0 in /usr/local/lib/python3.11/dist-packages (from typepy[datetime]<2,>=1.3.2->pytablewriter->lm_eval) (2.9.0.post0)\n",
            "Requirement already satisfied: pytz>=2018.9 in /usr/local/lib/python3.11/dist-packages (from typepy[datetime]<2,>=1.3.2->pytablewriter->lm_eval) (2025.2)\n",
            "Requirement already satisfied: MarkupSafe>=2.0 in /usr/local/lib/python3.11/dist-packages (from jinja2->torch>=1.8->lm_eval) (3.0.2)\n",
            "Requirement already satisfied: click in /usr/local/lib/python3.11/dist-packages (from nltk->rouge-score>=0.0.4->lm_eval) (8.1.8)\n",
            "Requirement already satisfied: tzdata>=2022.7 in /usr/local/lib/python3.11/dist-packages (from pandas->datasets>=2.16.0->lm_eval) (2025.2)\n",
            "Requirement already satisfied: aiohappyeyeballs>=2.3.0 in /usr/local/lib/python3.11/dist-packages (from aiohttp!=4.0.0a0,!=4.0.0a1->fsspec[http]<=2025.3.0,>=2023.1.0->datasets>=2.16.0->lm_eval) (2.6.1)\n",
            "Requirement already satisfied: aiosignal>=1.1.2 in /usr/local/lib/python3.11/dist-packages (from aiohttp!=4.0.0a0,!=4.0.0a1->fsspec[http]<=2025.3.0,>=2023.1.0->datasets>=2.16.0->lm_eval) (1.3.2)\n",
            "Requirement already satisfied: frozenlist>=1.1.1 in /usr/local/lib/python3.11/dist-packages (from aiohttp!=4.0.0a0,!=4.0.0a1->fsspec[http]<=2025.3.0,>=2023.1.0->datasets>=2.16.0->lm_eval) (1.6.0)\n",
            "Requirement already satisfied: multidict<7.0,>=4.5 in /usr/local/lib/python3.11/dist-packages (from aiohttp!=4.0.0a0,!=4.0.0a1->fsspec[http]<=2025.3.0,>=2023.1.0->datasets>=2.16.0->lm_eval) (6.4.3)\n",
            "Requirement already satisfied: propcache>=0.2.0 in /usr/local/lib/python3.11/dist-packages (from aiohttp!=4.0.0a0,!=4.0.0a1->fsspec[http]<=2025.3.0,>=2023.1.0->datasets>=2.16.0->lm_eval) (0.3.1)\n",
            "Requirement already satisfied: yarl<2.0,>=1.17.0 in /usr/local/lib/python3.11/dist-packages (from aiohttp!=4.0.0a0,!=4.0.0a1->fsspec[http]<=2025.3.0,>=2023.1.0->datasets>=2.16.0->lm_eval) (1.20.0)\n",
            "Downloading lm_eval-0.4.8-py3-none-any.whl (3.9 MB)\n",
            "\u001b[2K   \u001b[90m━━━━━━━━━━━━━━━━━━━━━━━━━━━━━━━━━━━━━━━━\u001b[0m \u001b[32m3.9/3.9 MB\u001b[0m \u001b[31m66.9 MB/s\u001b[0m eta \u001b[36m0:00:00\u001b[0m\n",
            "\u001b[?25hDownloading evaluate-0.4.3-py3-none-any.whl (84 kB)\n",
            "\u001b[2K   \u001b[90m━━━━━━━━━━━━━━━━━━━━━━━━━━━━━━━━━━━━━━━━\u001b[0m \u001b[32m84.0/84.0 kB\u001b[0m \u001b[31m9.4 MB/s\u001b[0m eta \u001b[36m0:00:00\u001b[0m\n",
            "\u001b[?25hDownloading pybind11-2.13.6-py3-none-any.whl (243 kB)\n",
            "\u001b[2K   \u001b[90m━━━━━━━━━━━━━━━━━━━━━━━━━━━━━━━━━━━━━━━━\u001b[0m \u001b[32m243.3/243.3 kB\u001b[0m \u001b[31m22.9 MB/s\u001b[0m eta \u001b[36m0:00:00\u001b[0m\n",
            "\u001b[?25hDownloading nvidia_cublas_cu12-12.4.5.8-py3-none-manylinux2014_x86_64.whl (363.4 MB)\n",
            "\u001b[2K   \u001b[90m━━━━━━━━━━━━━━━━━━━━━━━━━━━━━━━━━━━━━━━━\u001b[0m \u001b[32m363.4/363.4 MB\u001b[0m \u001b[31m4.0 MB/s\u001b[0m eta \u001b[36m0:00:00\u001b[0m\n",
            "\u001b[?25hDownloading nvidia_cuda_cupti_cu12-12.4.127-py3-none-manylinux2014_x86_64.whl (13.8 MB)\n",
            "\u001b[2K   \u001b[90m━━━━━━━━━━━━━━━━━━━━━━━━━━━━━━━━━━━━━━━━\u001b[0m \u001b[32m13.8/13.8 MB\u001b[0m \u001b[31m123.8 MB/s\u001b[0m eta \u001b[36m0:00:00\u001b[0m\n",
            "\u001b[?25hDownloading nvidia_cuda_nvrtc_cu12-12.4.127-py3-none-manylinux2014_x86_64.whl (24.6 MB)\n",
            "\u001b[2K   \u001b[90m━━━━━━━━━━━━━━━━━━━━━━━━━━━━━━━━━━━━━━━━\u001b[0m \u001b[32m24.6/24.6 MB\u001b[0m \u001b[31m95.0 MB/s\u001b[0m eta \u001b[36m0:00:00\u001b[0m\n",
            "\u001b[?25hDownloading nvidia_cuda_runtime_cu12-12.4.127-py3-none-manylinux2014_x86_64.whl (883 kB)\n",
            "\u001b[2K   \u001b[90m━━━━━━━━━━━━━━━━━━━━━━━━━━━━━━━━━━━━━━━━\u001b[0m \u001b[32m883.7/883.7 kB\u001b[0m \u001b[31m60.8 MB/s\u001b[0m eta \u001b[36m0:00:00\u001b[0m\n",
            "\u001b[?25hDownloading nvidia_cudnn_cu12-9.1.0.70-py3-none-manylinux2014_x86_64.whl (664.8 MB)\n",
            "\u001b[2K   \u001b[90m━━━━━━━━━━━━━━━━━━━━━━━━━━━━━━━━━━━━━━━━\u001b[0m \u001b[32m664.8/664.8 MB\u001b[0m \u001b[31m2.5 MB/s\u001b[0m eta \u001b[36m0:00:00\u001b[0m\n",
            "\u001b[?25hDownloading nvidia_cufft_cu12-11.2.1.3-py3-none-manylinux2014_x86_64.whl (211.5 MB)\n",
            "\u001b[2K   \u001b[90m━━━━━━━━━━━━━━━━━━━━━━━━━━━━━━━━━━━━━━━━\u001b[0m \u001b[32m211.5/211.5 MB\u001b[0m \u001b[31m5.5 MB/s\u001b[0m eta \u001b[36m0:00:00\u001b[0m\n",
            "\u001b[?25hDownloading nvidia_curand_cu12-10.3.5.147-py3-none-manylinux2014_x86_64.whl (56.3 MB)\n",
            "\u001b[2K   \u001b[90m━━━━━━━━━━━━━━━━━━━━━━━━━━━━━━━━━━━━━━━━\u001b[0m \u001b[32m56.3/56.3 MB\u001b[0m \u001b[31m13.5 MB/s\u001b[0m eta \u001b[36m0:00:00\u001b[0m\n",
            "\u001b[?25hDownloading nvidia_cusolver_cu12-11.6.1.9-py3-none-manylinux2014_x86_64.whl (127.9 MB)\n",
            "\u001b[2K   \u001b[90m━━━━━━━━━━━━━━━━━━━━━━━━━━━━━━━━━━━━━━━━\u001b[0m \u001b[32m127.9/127.9 MB\u001b[0m \u001b[31m7.5 MB/s\u001b[0m eta \u001b[36m0:00:00\u001b[0m\n",
            "\u001b[?25hDownloading nvidia_cusparse_cu12-12.3.1.170-py3-none-manylinux2014_x86_64.whl (207.5 MB)\n",
            "\u001b[2K   \u001b[90m━━━━━━━━━━━━━━━━━━━━━━━━━━━━━━━━━━━━━━━━\u001b[0m \u001b[32m207.5/207.5 MB\u001b[0m \u001b[31m5.7 MB/s\u001b[0m eta \u001b[36m0:00:00\u001b[0m\n",
            "\u001b[?25hDownloading nvidia_nvjitlink_cu12-12.4.127-py3-none-manylinux2014_x86_64.whl (21.1 MB)\n",
            "\u001b[2K   \u001b[90m━━━━━━━━━━━━━━━━━━━━━━━━━━━━━━━━━━━━━━━━\u001b[0m \u001b[32m21.1/21.1 MB\u001b[0m \u001b[31m100.3 MB/s\u001b[0m eta \u001b[36m0:00:00\u001b[0m\n",
            "\u001b[?25hDownloading jsonlines-4.0.0-py3-none-any.whl (8.7 kB)\n",
            "Downloading pytablewriter-1.2.1-py3-none-any.whl (91 kB)\n",
            "\u001b[2K   \u001b[90m━━━━━━━━━━━━━━━━━━━━━━━━━━━━━━━━━━━━━━━━\u001b[0m \u001b[32m91.1/91.1 kB\u001b[0m \u001b[31m10.0 MB/s\u001b[0m eta \u001b[36m0:00:00\u001b[0m\n",
            "\u001b[?25hDownloading tqdm_multiprocess-0.0.11-py3-none-any.whl (9.8 kB)\n",
            "Downloading DataProperty-1.1.0-py3-none-any.whl (27 kB)\n",
            "Downloading mbstrdecoder-1.1.4-py3-none-any.whl (7.9 kB)\n",
            "Downloading pathvalidate-3.2.3-py3-none-any.whl (24 kB)\n",
            "Downloading tabledata-1.3.4-py3-none-any.whl (11 kB)\n",
            "Downloading tcolorpy-0.1.7-py3-none-any.whl (8.1 kB)\n",
            "Downloading typepy-1.3.4-py3-none-any.whl (31 kB)\n",
            "Building wheels for collected packages: sqlitedict, word2number\n",
            "  Building wheel for sqlitedict (setup.py) ... \u001b[?25l\u001b[?25hdone\n",
            "  Created wheel for sqlitedict: filename=sqlitedict-2.1.0-py3-none-any.whl size=16862 sha256=caa2a1d9d1a4b7b56c0ad00eed92be1bd0469f85c7bb40e00866c7cd9ee2688b\n",
            "  Stored in directory: /root/.cache/pip/wheels/73/63/89/7210274f9b7fb033b8f22671f64c0e0b55083d30c3c046a3ff\n",
            "  Building wheel for word2number (setup.py) ... \u001b[?25l\u001b[?25hdone\n",
            "  Created wheel for word2number: filename=word2number-1.1-py3-none-any.whl size=5568 sha256=9c6d6e9f704db608b64770f3e749501af38f0a6612f38a5d7a84d9b1b4644d06\n",
            "  Stored in directory: /root/.cache/pip/wheels/cd/ef/ae/073b491b14d25e2efafcffca9e16b2ee6d114ec5c643ba4f06\n",
            "Successfully built sqlitedict word2number\n",
            "Installing collected packages: word2number, sqlitedict, tqdm-multiprocess, tcolorpy, pybind11, pathvalidate, nvidia-nvjitlink-cu12, nvidia-curand-cu12, nvidia-cufft-cu12, nvidia-cuda-runtime-cu12, nvidia-cuda-nvrtc-cu12, nvidia-cuda-cupti-cu12, nvidia-cublas-cu12, mbstrdecoder, jsonlines, typepy, nvidia-cusparse-cu12, nvidia-cudnn-cu12, nvidia-cusolver-cu12, DataProperty, tabledata, evaluate, pytablewriter, lm_eval\n",
            "  Attempting uninstall: nvidia-nvjitlink-cu12\n",
            "    Found existing installation: nvidia-nvjitlink-cu12 12.5.82\n",
            "    Uninstalling nvidia-nvjitlink-cu12-12.5.82:\n",
            "      Successfully uninstalled nvidia-nvjitlink-cu12-12.5.82\n",
            "  Attempting uninstall: nvidia-curand-cu12\n",
            "    Found existing installation: nvidia-curand-cu12 10.3.6.82\n",
            "    Uninstalling nvidia-curand-cu12-10.3.6.82:\n",
            "      Successfully uninstalled nvidia-curand-cu12-10.3.6.82\n",
            "  Attempting uninstall: nvidia-cufft-cu12\n",
            "    Found existing installation: nvidia-cufft-cu12 11.2.3.61\n",
            "    Uninstalling nvidia-cufft-cu12-11.2.3.61:\n",
            "      Successfully uninstalled nvidia-cufft-cu12-11.2.3.61\n",
            "  Attempting uninstall: nvidia-cuda-runtime-cu12\n",
            "    Found existing installation: nvidia-cuda-runtime-cu12 12.5.82\n",
            "    Uninstalling nvidia-cuda-runtime-cu12-12.5.82:\n",
            "      Successfully uninstalled nvidia-cuda-runtime-cu12-12.5.82\n",
            "  Attempting uninstall: nvidia-cuda-nvrtc-cu12\n",
            "    Found existing installation: nvidia-cuda-nvrtc-cu12 12.5.82\n",
            "    Uninstalling nvidia-cuda-nvrtc-cu12-12.5.82:\n",
            "      Successfully uninstalled nvidia-cuda-nvrtc-cu12-12.5.82\n",
            "  Attempting uninstall: nvidia-cuda-cupti-cu12\n",
            "    Found existing installation: nvidia-cuda-cupti-cu12 12.5.82\n",
            "    Uninstalling nvidia-cuda-cupti-cu12-12.5.82:\n",
            "      Successfully uninstalled nvidia-cuda-cupti-cu12-12.5.82\n",
            "  Attempting uninstall: nvidia-cublas-cu12\n",
            "    Found existing installation: nvidia-cublas-cu12 12.5.3.2\n",
            "    Uninstalling nvidia-cublas-cu12-12.5.3.2:\n",
            "      Successfully uninstalled nvidia-cublas-cu12-12.5.3.2\n",
            "  Attempting uninstall: nvidia-cusparse-cu12\n",
            "    Found existing installation: nvidia-cusparse-cu12 12.5.1.3\n",
            "    Uninstalling nvidia-cusparse-cu12-12.5.1.3:\n",
            "      Successfully uninstalled nvidia-cusparse-cu12-12.5.1.3\n",
            "  Attempting uninstall: nvidia-cudnn-cu12\n",
            "    Found existing installation: nvidia-cudnn-cu12 9.3.0.75\n",
            "    Uninstalling nvidia-cudnn-cu12-9.3.0.75:\n",
            "      Successfully uninstalled nvidia-cudnn-cu12-9.3.0.75\n",
            "  Attempting uninstall: nvidia-cusolver-cu12\n",
            "    Found existing installation: nvidia-cusolver-cu12 11.6.3.83\n",
            "    Uninstalling nvidia-cusolver-cu12-11.6.3.83:\n",
            "      Successfully uninstalled nvidia-cusolver-cu12-11.6.3.83\n",
            "Successfully installed DataProperty-1.1.0 evaluate-0.4.3 jsonlines-4.0.0 lm_eval-0.4.8 mbstrdecoder-1.1.4 nvidia-cublas-cu12-12.4.5.8 nvidia-cuda-cupti-cu12-12.4.127 nvidia-cuda-nvrtc-cu12-12.4.127 nvidia-cuda-runtime-cu12-12.4.127 nvidia-cudnn-cu12-9.1.0.70 nvidia-cufft-cu12-11.2.1.3 nvidia-curand-cu12-10.3.5.147 nvidia-cusolver-cu12-11.6.1.9 nvidia-cusparse-cu12-12.3.1.170 nvidia-nvjitlink-cu12-12.4.127 pathvalidate-3.2.3 pybind11-2.13.6 pytablewriter-1.2.1 sqlitedict-2.1.0 tabledata-1.3.4 tcolorpy-0.1.7 tqdm-multiprocess-0.0.11 typepy-1.3.4 word2number-1.1\n"
          ]
        }
      ],
      "source": [
        "!pip install lm_eval"
      ]
    },
    {
      "cell_type": "markdown",
      "metadata": {
        "id": "hNcf6a_upEx6"
      },
      "source": [
        "### Epoch 1"
      ]
    },
    {
      "cell_type": "code",
      "execution_count": null,
      "metadata": {
        "colab": {
          "base_uri": "https://localhost:8080/",
          "height": 1000,
          "referenced_widgets": [
            "9d23d5094c194d159c33c05f762d22c8",
            "a3e838d267e5435bb532e11af1c2f4d2",
            "8f86bfb7190441d59011704a4dec84b5",
            "d02ac7bbb9c84386b8022d1d829b51b5",
            "1988360b92254d16beaefc5af899bccc",
            "0c219230c7a04ccdbf9fe809d9f91c54",
            "14ae7d33ee91437aa3fe211f585033a5",
            "c14110fd80304e4a8efc6554db8e3461",
            "d9c09b5fb5dd45078227046c28e02014",
            "414bab6932124e2d93e93d275ef73a30",
            "014fdf0edcd24bc5a6b1503210dd3842",
            "03b8e478cf584699bd1b28ffa9368023",
            "3122774ba3c3458798de4275a9745686",
            "dbda5fa572af49c6ae9207b90362a260",
            "3a390fd1450c47ed82a295991684750d",
            "c0c80e64756648ab829eb946330444f3",
            "c18bbd3f188e4947b235bcdc1e378b73",
            "267d63adf5824eab8c70605e61e75d8a",
            "05b8e1f97cde4328839b0bd7b54a01e1",
            "eddf9d3cafb9442ca8fb6efa0a482a76",
            "24fd3c636b544af9859672fad75981f9",
            "5c694d586a5643ffb32a4024a29e1fa0",
            "9748e18421694a87b3bf501d82e2beae",
            "cbda4f502f8a4fa9b195da0539e21d0d",
            "c8e8585c092b41c6adf53525f15ad1fc",
            "0b15d1ba956b445c8a2a52cbbb9de1bd",
            "4498204b0b92459ea33d7103fe089e2c",
            "effa3731e418437bb49ca44f4cc57e7b",
            "ef58bb6df49b4076baf73815d5bb1a58",
            "7a701b0363ab44509ada0889bf02e426",
            "31de2012806b420cbf978041f16c202d",
            "514d733f0837476fbe6453cfdfc37c4e",
            "24368101bc964e8bb1ad09b10931ec85",
            "c3528462ff4e4242ba8d1d07caf14978",
            "f4514ab3e74243d9b65457f8b25465f7",
            "19221365a8454252b433f9f7cdf8013b",
            "2b62ec3e373a4cd69c9bc35c209e2b21",
            "3bc74994785e4703b7e123ab60b637f4",
            "e6243933cb7141e2a86dc908dabb0ba2",
            "dcfeb47ed1af432cbc283a4a447abb87",
            "f034a03ac5834fcaa44523a9c9141675",
            "2ee6901c31bc415498066684ea65f6c8",
            "6ed324fcd9be489d83515345ef0fad43",
            "d4e486eb915f4cbfbde3229f54b265da",
            "a6af6b027a874484bac42ce1b7bc6422",
            "80f09a2a838f448db31d4557289672e7",
            "9a78308073a942db9fb5ee7ba5207103",
            "133896ae65c149a8826889b9f38d2fd9",
            "88346264275d40d38e16dc61337642d0",
            "7b5c8b0b637e4d388913c8bfecb0a473",
            "e71d4b586b4849e188a0d13a91b1d766",
            "d84434be3af241f39c8aa9525645fe02",
            "3d9862e1469c49e4888b810826bb6e0f",
            "702e4161f7cf4472a4a829e5919fefff",
            "77734a4372614ca6b5800c617a0e63b5",
            "dc10deda9f1147c184f3a22184577e0d",
            "dfd69ccd1844498cafa551dcf00f5623",
            "a5bb039878064b83988a9b10714c5b1c",
            "ab1a74a54b73488fbfa6d3622e8262af",
            "97cbf669f4d4410ab128851de720692b",
            "88c75a1a3af043a094ef93d018556ae8",
            "55b3c1dc9894438487aa325c9aa38a38",
            "5778bc6e5cb74560a1a524c34b045f1b",
            "0eae0c11aff345c5a29a8529d53db182",
            "434e784728b74d129a1cb01b1d747e75",
            "a3f7dd6de78a4714b884e5bd10c2cf82",
            "a601c28517d9452b8f3758833cefe513",
            "5bab56418af24730838af3edf9a4002b",
            "b4dc0a6e3e78477687b9df0a80a5fde6",
            "d1da3c46b2c5474982dc44e8ec49e6ee",
            "7ce91624d18b449c90fcbf8bab32bb7e",
            "b0d5c97b8ec340838c5e893e72c3abd9",
            "d4ad27c9d7334e17857b40d9f06e3e16",
            "2b7a9f981c4d4c868f0b692ed1b77071",
            "86973ad0949f41a5b95e9f9786eb764e",
            "0b9d43925897495ca016ad56fbba4740",
            "43d5531bffec47038376134c2579d1bd",
            "441369cca9b0488dbfef50f82677f75b",
            "0e4decbae9b148d5b4f6104ad2361200",
            "98b1afda48f549d796d0bb0da7974130",
            "353e91f6ced945fb98da7b335dce13d8",
            "de3b025891a14f41ada59b90c68e71b2",
            "41bf268ca8c240f8940860cfbdd64a9e",
            "fd2bb7bf3d3b4d18a6c8b0ae29361132",
            "63d52a82756a47cb8f5fa3b273bbcb4b",
            "0b617910248541e7a1070b26cab52427",
            "091781cd2b3f42c48a5bf93d3330c8a9",
            "56a4ff132cd644b7a642693e996accfa",
            "d756bb14d6f8411ea8c1d25df7e16505",
            "d4f7f7a47d724cb0998073a1ae2951f7",
            "f978ba6b3a9f4528ab635d16c2f10e4e",
            "ebcab825ec494a2eaebaa9e0bb415914",
            "bed42d159c8a4867985a36b1a4bb8a1e",
            "6b08ab0c28a14ac194768ecf4a6d005b",
            "23666846b0744386a144296234661490",
            "f79d321e1bff4119ac2fdb2dfa3b0724",
            "b81a75b675514578bf096e57cc02b6b1",
            "914d0df8267a4859bd327f168c9cb8bc",
            "9c6261e3b385489aad9e9d5bc4401732",
            "9f448588bfd54f36b3ba69aabde94c20",
            "6c4885a3ec2741f89bca7ade2386f1e8",
            "4cd77eeab62f4d058eead58a035660c8",
            "2e5e32966f0f4051a12b2a4c58ca4be5",
            "8b6ff7f6f8ac46889a191d3d2e8826bd",
            "61161757c3c94ccea33919eb8197212b",
            "2607bbe25d7542249b9d05f2490faf68",
            "c499c933987442cfabd0cf54bbe774d7",
            "37b27f871dc84519896b7b2450471a8d",
            "54452998fea34c7f8d80d498169d8d8b",
            "7da8702e450845ada6b406f7d2b132b2",
            "0d4a69211557480297f641c181699e0a",
            "42da656e560a40dfbfa590d4a98edc3d",
            "a4a198c5caf8417aaea9ab345b3bf49d",
            "49214dda0eeb4050bc21f356571785a8",
            "c83264307f7c41048106df6b338b0c75",
            "80c69159095147bc86cd97eca496e65a",
            "0d5be82256204a43a0f47be9415d3540",
            "af8a66122be0427eba29a0a96ababce5",
            "2a95349a7ff14dc1be24eaca3e942430",
            "0b95060c046e468b8237d27888fc32c5",
            "122b64ee4e8543648cf0564bf4c9af9d",
            "a7d22711095148daa1f0300906e73172",
            "c639d787aaed4ffdb9ae96191d62a9a9",
            "cf97418b41fb40fb8e98e26fdb5f7dee",
            "823aacfcdab5479f91b386356fcca9f9",
            "856f2d6d532f4c8c9fe2baf625878c89",
            "00c669e1b11243fc9d0ed915dd2ab0e8",
            "ee032cb5be124d5ba9c82605241c12d4",
            "9a5a9840185d4db187b2b25be5bc793c",
            "61b6edfee5c348c191a4ff24016f588c",
            "aa361bb38766464da126890a9d17aeac",
            "c00155b6e2024a51aa0e040c96d4692b",
            "fb0afdf0af424377ad1cc3633b0c7f79",
            "3e8e543e37c94088b02b93707db24f8f",
            "8b096a2ee5334248a85c2f25d9d9cc2b",
            "9c5a44a9d9f545d0bc8a9a341775caaf",
            "21d0206b00164ed2a0e4fae209db2e4c",
            "671ca4aaa0ec44eea490353dfd0fd3eb",
            "0393e2d21f5f4050bc4523bc31a24d45",
            "c2e88980f1b14a51b3c1e66c4f57ab8f",
            "ff51bcbd82dd48c9a1215fe288eb3658",
            "5eae9166164344cdb550d4dfa7dbf69e",
            "8ed965f0582c4dc5beadd00bda42281b",
            "bbf97e8fcb3f4f4d85bf699c349626ec",
            "7be6d08ba5544675ba0b825b10e19cb1",
            "46c35b13ff86464d9c8aafcbf5ed625b",
            "b03b09ae745f47f8b994d5a3659c30f6",
            "e4ba31e0acae4613935262199173e22b",
            "8e183518a16444ed8298f1833a93fd85",
            "8ebdfeeb9480455cb524458565590276",
            "7c4d7443ace14ed48789971ff924f39e",
            "9ec9782aff7f492b91ed91657fc19794",
            "938afd4bc3964e7fa6554e60953b7223",
            "7528ef1b2b8b4f0588ce6cf1fa45f1f4",
            "ed03f3c70a5346489b99bb1ba520059d",
            "5a63ab41161341c08c34db37b1692f03",
            "cea54740516c41d7aa1349cfdaf922ca",
            "31394fbef9d44a3e8ea334e4b513f46a",
            "5a28ab99685647c8acf4da28474332d9",
            "b1e7fef5574f42b0aa27bf71d18e9fc8",
            "10e9e7b805b647e1a87c671513b1882c",
            "5b0c14084c494ab69f5a4a967e30cd2f",
            "6194b696efe2432989b12a68590422d7",
            "3d892a8f3988440b9c1ed7da5cf95158",
            "607b1bd895cc4057b068614f274a8b4a",
            "2c4138f53b564c668bb5c63fd28d63c8",
            "3b7f0e14ae9f48a9a711708f8ab15276",
            "3f6904361d484a4397d79f8807a3c392",
            "cfcd5623aab84a57bc76f7ce896334b5",
            "2d2a5e1f2e334ed48ce64db80fa8e3f6",
            "05da830d9ee64ee195224b437aa70a3f",
            "9de10c9163584ee1810c26f10cd45448",
            "5b18765e673848318a434b4ed7a0a3f3",
            "4ad84c7e1f4346ec9fcf1e0b719f12ee",
            "3ef6a32afbe94f288993a5095ebb8d50",
            "ad1b2f92a4fe4ad6b02b3c2d97542bff",
            "ebea1d6a60ac44898aaf9b6f453fe571",
            "17691ea4e4a142cabc44e5ebb18f2b61",
            "3a185d6a540943b1b3d78dfb7d04ee15",
            "6952c3c5914f442bb6d4be0cf2939514",
            "002cab0c300041d3979b9a4c07c31a01",
            "27057fa606764012bb6999f9b3274e9c",
            "a940d4b733474c23b8d42d89a5a1285a",
            "c100708dea54412098c02220e6765698",
            "055cd45562d44b5497837f65fc35bc45",
            "037aa719402249e482b4ef317278ef5c",
            "56e49adffd28489ba266100330b2a325",
            "7a0dd03dc5fe4b46b77c224dd456b145",
            "a7dd102ff559438e8a0b315f1e2eaac9",
            "ef4cde64abe14eb18ebb4ea1ced4b5ff",
            "0d0f3cba27ae441db6c6cbb5d6c62364",
            "02b74e8aa7b54a1cb59adfc43a932f19",
            "77caea713c5f4fdc94c1d3862f3a417d",
            "d571e34daf6e4a65a9e441f7189709c3",
            "757e1d6470f348f889f2fde1ec3c8348",
            "3a0971dabed845b4a3711c4b0f8cd519",
            "1680a98e28074c1489673e810f3ee3f4",
            "f408c9ca98894b0ab7230b0a7adc96ee",
            "090373db9b174735a8c2fce49a575ebb",
            "4241f971a418429388c2b5395035f086",
            "8f020ebf38294c788b582414df91df61",
            "f7d8a109e84d47e4bfbeb35b0b8316ef",
            "34d5d4748bc4427da3326288adbbb08c",
            "89a9556ec06045dd968ef7a35f43e1bc",
            "69808541d6eb449f86d17383b857afc5",
            "d02bba2a228f481486689dedb5665884",
            "b53d08f642b24750bf4ad0ced22c82fa",
            "3f4c30cde1c7423f858785336f0e400d",
            "01236a742af6434ebfbde83a0e57d6e6",
            "4c7d5221740c4e1084af1ec9d22b9b12",
            "537dd68f12e64fe5b8d14635ced86fab",
            "d2266f30ac0c41bb8489d8a12266675c",
            "cfe7b92618194e4d88de7567a1462bb4",
            "2a00ec0b841240c4b0b5f28fd0588a9c",
            "9f0ce9b6ca004bffb905cc5ad71a892b",
            "7986ead993e042bdbc4164f1e168f515",
            "379abdabfde14c1f86246d3264ff073e",
            "99585695b0984ab7bfbdbe38d07f3d1f",
            "9bbadd0637cc4751a0cf122eef77f971",
            "c75287512a04462bafec9f60cc21f98c",
            "00b8c236930d426fa9eea58bcb9ffe65",
            "a79e15d6e9ba4f57a49fb6f4b7634977",
            "3dd828243dfd44e4866634b246250dfd",
            "402d9818904f4b2fb07dfcefcf65c066",
            "c3611466bd824dd2b3a35fd75b4a3539",
            "b9524aca99be44a29ccdba480734153a",
            "232c70591fd341d6ab5a524259028a32",
            "dd58dc0819874a968048ba966bde03ac",
            "1cff77b10880475987a599619753de02",
            "d6e2b3fa5e1a4fc8a06a3d79b88d5811",
            "c17d958423f84a3aae11bc3944ae64e8",
            "b3484dd930a34574aacfc1d0d1bb3121",
            "f4bc3434cafa4d089ddb004f57237832",
            "5c948c6f1c42441da3546989c08f1ecc",
            "1eeda0fb2e56417b826153adf6fd02ed",
            "5cb83844a8af40cca8db199ee5fa9d6e",
            "5e876490c83740f7a42672a6dc9b18ec",
            "c1972ac711f942829ea444f2ff5f3e63",
            "a6ce2e2fc4f149ee8ed5b72b35314141",
            "a56bf399b0024f29b0a1c34e2a35bdf3",
            "ef2961e55c09484aa3889278c2445223",
            "36df527ee3b14b35ae3968e5c2723547",
            "b8920fe2ab064ec68b554ba235e98b1e",
            "5cfe6266791243c7acaba8aabb10f404",
            "ab76c844ff0c4c05af2aa262560591f1",
            "199e2ddba7b241ebb47fe22dfe01ffd5",
            "22994c6c2a6f4c83b8e68ff366fd4cc6",
            "2cf6efd1978347ee9696130336b65c8c",
            "def93caa15314a209f288c062417eea2",
            "1322d44c9a5845f28c89f1874d4adc8c",
            "fb1ab6e2f30e4cdc92362026dc8ba289",
            "41d946e86d844f17ad93ca2ab7130e3a",
            "7b6833ce068a4acda07af4c52523d19a",
            "095f8d7c8655445988f1d650c381cdbb",
            "7986cc10240545dcbe1a4e45ced98c54",
            "d56173abeb814abdb82a2edbe8b614d3",
            "f27941e54ad942f3900d36d549482d89",
            "c9f67ce6650c47c7a0bbb577891a2ba9",
            "2eabb4a781bb48de90a13af74fe3ac43",
            "7a7b9f6ba3e54dca95a644fa620151c5",
            "ca9eda4576804145820bf3e890e72add",
            "c46aef131d3c43719337d1abd7820226",
            "7711150d43fd45f4a98db68ac23469f7",
            "550ade6766be465d9ebec69f0706e923",
            "e27f401535e147599ed78880f74b98b2",
            "b02eccd3d24744a6834a538078df0ac6",
            "4847e6f254604d80858c71e3fa0ceac3",
            "9a474b48097d47ed8111602ab3ba624c",
            "9b4d089433db4533ac2456fcb19e67e0",
            "bd78164c67844a0892e609d763b1162d",
            "effaadabf4034ed89b500b02076ac3f9",
            "7732ba15941644eeaa9f25f1585e9dd5",
            "cdb73efbdc0b450abcb56a283cda0390",
            "e1a93db3fb9e4b1ea5ced675a1020a7b",
            "a69a276a86084416be5c91aaa9cf8489",
            "7ae324a9c9f94352a0d66d3df32bdfd9",
            "2049e8599c9c4351b29acb95be9c55a3",
            "b9d20c01e05642cfa532bbe91f41749e",
            "56f985aec1d34cb5a736bc2031fc132b",
            "b4a8af897bd54a2eb93cfdc861732cd4",
            "8bb450bd6c42409388302b8f47489b74",
            "7fbe6087a2a6440490e3bf8740ed660e",
            "dd60ce6a82bb488d84dac03098ab8f92",
            "67977a65c2234fddb11bb285388e98fa",
            "9bee48ed4f68440cbeb9cd0f2cedadf5",
            "230396f447ae4ad4ac1a4e0988ffd93b",
            "c697113bfa3542f7adf177b267fc88bd",
            "73ddab61f9f7454f920d4d4015c34eaf",
            "c66cffef10a54ea99f14eed901bf0efe",
            "58a865a1e0aa467dac903e584818d9d9",
            "4fbaabcb6b72463c8d15765158782108",
            "dec650fa51cd4f8c87f7ce2458628064",
            "aaba251eaff64ccc9ba2ab2f23aa82cb",
            "f9174967b46946c69570e12ce32ba699",
            "f702cb7c274a498ba2a24d554287e5cf",
            "90a93da7b537409ea8159a8ec49d6fc3",
            "249c85006bcf490e8d302e574a094504",
            "74731de729024fe5af46d595e6f37c49",
            "822332b35b084259b1bdc37a78dcab02",
            "d112f64e1f2743d09779180fabc4a08c",
            "bfbe3ffd35b54683b80b26bb96b40bec",
            "356a0b7209c74ee29337bf9566e782d2",
            "c898248a3360470295961bd5038e4f05",
            "85f207745a8045efb8d3ba218ad4a1a8",
            "476b255a6e204122aabe1e100b7a9042",
            "b6b128bb0e3248cda70a5db6829d224d",
            "9ed8f1a735b74f60b212c0276d38ce01",
            "8d07b5f411434adaa086883c28bcfab0",
            "183c0d03295b40caaabcf897a4071f26",
            "1a2665027c6749c9985464bab6ffdd38",
            "0985c3dd1e57476a8f315c51c13fb728",
            "95dd495ac3b440debdf92c0578e22e13",
            "1d5fd07104c74a74bde5d29fd30307d3",
            "de6a4ea6d8c44788ae78947588a948a6",
            "5012cdfbff804bf48b5ea4e0923c1192",
            "6e9dc192de8a4b83a081352e5f6f177b",
            "baad782846a644a28f9edb65f03a7c5f",
            "0fa8fb41069444beb97297a10b5edb86",
            "aa09092c87134ca89086d8c9a9ef1c84",
            "1e4ee078cfbe4cfebbe5d9afde4218a1",
            "d20fe7ff72fe4e01994611657889434d",
            "a9941ff9157e49fa9b10a1bf1f13a455",
            "2c044fa7c7fa43ac98780e4f1b1128dd",
            "f50b407193364fe6a2e539db4460aafe",
            "79edb9f4a05943d4811fd3a1e349111b",
            "dcf9ad9d0cbf47d480c482296977198d",
            "cc0327def4174a8a816a63bf76dedda4",
            "e9f21fcffb60403d858cf4446c92f52b",
            "19f356c06f234b0fb1967ffa84ed8092",
            "76aa777e7fdb4e5ca8392992dc9c7c7f",
            "7eb14d3b22034f4ebd713386ce5df906",
            "91d9a55400ac4fb4ba3e3f737530776c",
            "c4b4cb2a9753491c9f1e4cf990bc6b4d",
            "de9ec43f3d374e48b3b1888803a9ed07",
            "1841ac7ce317431c8c733a71d14472c5",
            "eb4a7fc5de9643f9940cf1b556c432d7",
            "a243c0d2f2a0431e91254bfed39ff4b2",
            "e07f4b8eeb1a4f1f8a1c9cc27747475c",
            "a7ea4cbeced64c07a03cfc786f18fa42",
            "9fc619f9e1114d08a2234166ac8ec7e0",
            "f19f8c9971ef455f976b3678da0d65b1",
            "38682614c138408d9a37d22189087b9e",
            "2cbec651093842d8a40b787ff76137ea",
            "b340377c34bd4362bccce7c92c05bb6d",
            "cdf6f9aea2c0427b8471c9380d7a8d58",
            "534923c6e4a84263985dc9257c35a7ba",
            "aa3f02bededb463dbeba74fb7e22cb8f",
            "bbdc3c5d6b31439887ce9be75ef9a295",
            "2d3ba5f939394255a87b78f0c0054ceb",
            "5fdb5e14fc554d309ea5a7241a7dc905",
            "38ac958a89d9440bb149b65fa6592472",
            "5037cf1463ad44df93bee7b0ebb2db97",
            "10540f157ad141ccb1dea3ccfcb014e0",
            "ae6bdfa72a3d4bb2a3e0ef64215d23f3",
            "3e94faca49314dca99e8e0d5d9194dc4",
            "5eb91f2320bf4c3f8a6e6415c45a77a1",
            "74ab10476edd4df7b675d0e2fbf9f19d",
            "fac052bb8ef3469ba56302462b5df82c",
            "0263c33d7c554fb6a07c53ff61669371",
            "e49bb87be67b4e4f9575664ae21e1203",
            "26ada92c9b5e440f83733706e167be8e",
            "25c5f2fbef044f36a4ea78f79cfa9bbc",
            "52f02f914169418695aa87355ffe7715",
            "572c9263724943b7964715d45b62c93d",
            "3484b5c770fa4d1b9ae98eaed96f0753",
            "eaa0dcc669fa46b5939b6fbb136baf35",
            "9b2507b2358e4bf794921f7355463fb9",
            "24836734b95f44fd952f7dde151a455f",
            "f5c69f91e8354f2c8f1d884c81a5d24b",
            "8ef895be60eb45d6a92fe357622d30ce",
            "8d421c1890c34a05ae639959726443d7",
            "f7c4636cd86f49e1aa1a6bde11e5a020",
            "8c47ad67111443938572530cbfc8a93e",
            "8a9bb4c7d3fb42948a3c44a34d7ae71a",
            "1581bc1580bf40058da838f4cf395d27",
            "5a76aac1d32a4f4aa53977f8b53b91ae",
            "988a4a9bbb6b4780bf1fdc47166484a6",
            "cd7ab4838c5e4a3eb8adf6a5d12297b2",
            "659db243be354a67b1195569312f41b1",
            "6860267f83d44dc89781eec8285357b3",
            "848da5173f52444fbccb0f19a4580c0e",
            "ec5db70ff9364a32a0532c7b80c2ed70",
            "47012269329b4fd7a63fe2ed6480524c",
            "ecad78480a8243018d2ecae977f58517",
            "ff45563103e84c948a086935cb14f21e",
            "e0d2871da6d74cd5a4725362c5c10eba",
            "b0b6553cb54942558efd211e92289622",
            "19dc942148da48eaaa2abbcd84daaf44",
            "082730bef2c14e878025c3bb027e7f80",
            "6f2d142ca9cf4069a95f2932190cabdf",
            "2a8aebf996a149859e7b394d989a2ba1",
            "cd50e4ab66654899af01e588d107bf6e",
            "1ac95049293e4edf83cf86b3fb962d07",
            "5838e390d2044a2d811642b011628c9e",
            "5824cbe03dde4bb5a14e566b1d5d5b55",
            "deccaaca85ea486793b634656cf874c5",
            "adff6a566d834856b47b3a7562b0985a",
            "5cf3ef086cf949868942c4d89e06e4c2",
            "66559967c7e84d5a8447d2d15654f9ba",
            "088dc216e84a4c6fa5d51cd8a0d39f7c",
            "01f0ec181f5744b88913c46e90cc2a8c",
            "1422f948718f4c40bddfe9bc69eb4e4b",
            "21c2af40edcb421b9cd0087f95d1624a",
            "f9cf835716ed47b6b93cbe4487bcdbc4",
            "c2add8ec622448d584b7689deb9e3b96",
            "052d5fa30f1d4a84b2939f8dcfc2e7d7",
            "5803964f93464b67902bcf7ac64207c0",
            "44effb88fde84bc5884eb1816a9fc953",
            "598ede247eff4cada7631389b5d3ee14",
            "c16e6bc13dd74590b2c93bd2e350edeb",
            "4cefe1e207d045de9e8f855293fbfd3e",
            "8b7bf78648074484a7c1165d2629b02d",
            "6a71af5328d54128990054961b4ebdc0",
            "9e9f2a2989ef4bb081d58ba966e90fa6",
            "a070bc94c42a4f5384973cfbb366ccd5",
            "4402472c6d41463286754ab6e0303754",
            "65fc40e3b5fd48b3a5871ba471da28c6",
            "a36a1e7f23064af6acdfb997f12aee28",
            "43d2f6766acf46648ef76e3d2167e6b8",
            "9e2b850f3e1840a7b4ae75500521bccd",
            "e8be16087ee0416397352895cdb2ad0d",
            "e5746b007af743dc87084fa9c2c5538f",
            "9d1b801722ec4e70ab239a8384cd8749",
            "98cd054c3d474158b0befce325e60a80",
            "32a30d812cdd4d3d8513b4edcca49b9a",
            "fd55cf2f68e84f8db131ab00a57da9bb",
            "05045e9042de4e0ca7573758a805f837",
            "3aa2f004d01b4bda9a3bc40ac66c07a8",
            "81cd5ed9ea9b42f49f7e34787e040057",
            "d00bfb7072654e90938f8c95be4d1961",
            "759b6f44284f4e7a8ed6606cbd4e8fa3",
            "24c68121f293498fa549f89a4c067c83",
            "dfa8aeb66758460f94f9455a5e8c0b90",
            "94b91d9e436945be9b496eee9560cc3f",
            "5acaf12e77164d108100be7314de465f",
            "10476d62c21847d2a58e10abc9ec8d9d",
            "9c46eefd34fe40fd82a9de4b0306fd16",
            "9507a8554ce945ba85e40042b3098af7",
            "c7c28cfb14b94786aaf5189ba420ca11",
            "8f62258b17b145bcb8925b5b812a3cd1",
            "130f8c507d334e7cb350c94166d3689a",
            "32f0c854a9f84fc0b0b666022207db3a",
            "e06d8af70bab4eafbef842a56bf508fc",
            "c6b7f2c7cfc740bcbb276773981e2ca9",
            "e13c2e699dc6409da45653924e1de725",
            "114545b91d6a4d48975ada6299b4294f",
            "5cf2fe4995034a29ba402158e1a3a9da",
            "9a9730dfb0a843a0bebd04f5532c3729",
            "0252aea980f948c2b7061e184c013e8c",
            "68240e97767047999ee3f3aa42de533b",
            "10a590d598de421f9b44d916bb01d20d",
            "b9fae2861be8470dbf993aaa49307931",
            "97d5fe19ed5e4596a059a250c73e7124",
            "8933032abc3c400e8b7db79bbe0b2ec6",
            "8d6eba66ce5f44c7a52bcdac429a493a",
            "2e23c38652d1462d87075555750990a7",
            "3e1b163054cd412e99a6d5b9a54d934e",
            "ae09cd4596f7435e860fec8f827c740a",
            "3b258533b1964b728ade9f95938178b9",
            "be554b664be74681ae2b1058afacbbb1",
            "e641ecc5d94c4510bd6379cce2c2e13b",
            "458e794d01014e558fe2bbd3d5f5eb97"
          ]
        },
        "id": "2PjEJEL6t7Vs",
        "outputId": "814ae453-b2a8-410e-80cd-75a0ae4220fb"
      },
      "outputs": [
        {
          "name": "stdout",
          "output_type": "stream",
          "text": [
            "/content/evaluation-pipeline\n"
          ]
        },
        {
          "data": {
            "application/vnd.jupyter.widget-view+json": {
              "model_id": "9d23d5094c194d159c33c05f762d22c8",
              "version_major": 2,
              "version_minor": 0
            },
            "text/plain": [
              "Generating train split: 0 examples [00:00, ? examples/s]"
            ]
          },
          "metadata": {},
          "output_type": "display_data"
        },
        {
          "name": "stdout",
          "output_type": "stream",
          "text": [
            "\n",
            "» Assigning unique IDs to 'blimp_from_file+null' docs\n"
          ]
        },
        {
          "name": "stderr",
          "output_type": "stream",
          "text": [
            "INFO:lm_eval.evaluator:\n",
            "» Assigning unique IDs to 'blimp_from_file+null' docs\n"
          ]
        },
        {
          "data": {
            "application/vnd.jupyter.widget-view+json": {
              "model_id": "03b8e478cf584699bd1b28ffa9368023",
              "version_major": 2,
              "version_minor": 0
            },
            "text/plain": [
              "Map:   0%|          | 0/1956 [00:00<?, ? examples/s]"
            ]
          },
          "metadata": {},
          "output_type": "display_data"
        },
        {
          "name": "stdout",
          "output_type": "stream",
          "text": [
            "\n",
            "» Filtering invalid docs from 'blimp_from_file+null'\n"
          ]
        },
        {
          "name": "stderr",
          "output_type": "stream",
          "text": [
            "INFO:lm_eval.evaluator:\n",
            "» Filtering invalid docs from 'blimp_from_file+null'\n"
          ]
        },
        {
          "data": {
            "application/vnd.jupyter.widget-view+json": {
              "model_id": "9748e18421694a87b3bf501d82e2beae",
              "version_major": 2,
              "version_minor": 0
            },
            "text/plain": [
              "Filter:   0%|          | 0/1956 [00:00<?, ? examples/s]"
            ]
          },
          "metadata": {},
          "output_type": "display_data"
        },
        {
          "name": "stdout",
          "output_type": "stream",
          "text": [
            "\n",
            "» Constructing 'blimp_from_file+null' contexts and requests\n"
          ]
        },
        {
          "name": "stderr",
          "output_type": "stream",
          "text": [
            "INFO:lm_eval.evaluator:\n",
            "» Constructing 'blimp_from_file+null' contexts and requests\n",
            "100%|██████████| 1956/1956 [00:00<00:00, 6206.06it/s]"
          ]
        },
        {
          "name": "stdout",
          "output_type": "stream",
          "text": [
            "\n",
            "» Running all `loglikelihood` requests\n"
          ]
        },
        {
          "name": "stderr",
          "output_type": "stream",
          "text": [
            "\n",
            "INFO:lm_eval.evaluator:\n",
            "» Running all `loglikelihood` requests\n",
            "100%|██████████| 3912/3912 [00:25<00:00, 153.72it/s]\n"
          ]
        },
        {
          "name": "stdout",
          "output_type": "stream",
          "text": [
            "anaphor_agreement:\t44.63%\n"
          ]
        },
        {
          "data": {
            "application/vnd.jupyter.widget-view+json": {
              "model_id": "c3528462ff4e4242ba8d1d07caf14978",
              "version_major": 2,
              "version_minor": 0
            },
            "text/plain": [
              "Generating train split: 0 examples [00:00, ? examples/s]"
            ]
          },
          "metadata": {},
          "output_type": "display_data"
        },
        {
          "name": "stdout",
          "output_type": "stream",
          "text": [
            "\n",
            "» Assigning unique IDs to 'blimp_from_file+null' docs\n"
          ]
        },
        {
          "name": "stderr",
          "output_type": "stream",
          "text": [
            "INFO:lm_eval.evaluator:\n",
            "» Assigning unique IDs to 'blimp_from_file+null' docs\n"
          ]
        },
        {
          "data": {
            "application/vnd.jupyter.widget-view+json": {
              "model_id": "a6af6b027a874484bac42ce1b7bc6422",
              "version_major": 2,
              "version_minor": 0
            },
            "text/plain": [
              "Map:   0%|          | 0/8248 [00:00<?, ? examples/s]"
            ]
          },
          "metadata": {},
          "output_type": "display_data"
        },
        {
          "name": "stdout",
          "output_type": "stream",
          "text": [
            "\n",
            "» Filtering invalid docs from 'blimp_from_file+null'\n"
          ]
        },
        {
          "name": "stderr",
          "output_type": "stream",
          "text": [
            "INFO:lm_eval.evaluator:\n",
            "» Filtering invalid docs from 'blimp_from_file+null'\n"
          ]
        },
        {
          "data": {
            "application/vnd.jupyter.widget-view+json": {
              "model_id": "dc10deda9f1147c184f3a22184577e0d",
              "version_major": 2,
              "version_minor": 0
            },
            "text/plain": [
              "Filter:   0%|          | 0/8248 [00:00<?, ? examples/s]"
            ]
          },
          "metadata": {},
          "output_type": "display_data"
        },
        {
          "name": "stdout",
          "output_type": "stream",
          "text": [
            "\n",
            "» Constructing 'blimp_from_file+null' contexts and requests\n"
          ]
        },
        {
          "name": "stderr",
          "output_type": "stream",
          "text": [
            "INFO:lm_eval.evaluator:\n",
            "» Constructing 'blimp_from_file+null' contexts and requests\n",
            "100%|██████████| 8248/8248 [00:01<00:00, 4961.24it/s]"
          ]
        },
        {
          "name": "stdout",
          "output_type": "stream",
          "text": [
            "\n",
            "» Running all `loglikelihood` requests\n"
          ]
        },
        {
          "name": "stderr",
          "output_type": "stream",
          "text": [
            "\n",
            "INFO:lm_eval.evaluator:\n",
            "» Running all `loglikelihood` requests\n",
            "100%|██████████| 16496/16496 [01:50<00:00, 148.85it/s]\n"
          ]
        },
        {
          "name": "stdout",
          "output_type": "stream",
          "text": [
            "argument_structure:\t60.81%\n"
          ]
        },
        {
          "data": {
            "application/vnd.jupyter.widget-view+json": {
              "model_id": "a601c28517d9452b8f3758833cefe513",
              "version_major": 2,
              "version_minor": 0
            },
            "text/plain": [
              "Generating train split: 0 examples [00:00, ? examples/s]"
            ]
          },
          "metadata": {},
          "output_type": "display_data"
        },
        {
          "name": "stdout",
          "output_type": "stream",
          "text": [
            "\n",
            "» Assigning unique IDs to 'blimp_from_file+null' docs\n"
          ]
        },
        {
          "name": "stderr",
          "output_type": "stream",
          "text": [
            "INFO:lm_eval.evaluator:\n",
            "» Assigning unique IDs to 'blimp_from_file+null' docs\n"
          ]
        },
        {
          "data": {
            "application/vnd.jupyter.widget-view+json": {
              "model_id": "441369cca9b0488dbfef50f82677f75b",
              "version_major": 2,
              "version_minor": 0
            },
            "text/plain": [
              "Map:   0%|          | 0/6738 [00:00<?, ? examples/s]"
            ]
          },
          "metadata": {},
          "output_type": "display_data"
        },
        {
          "name": "stdout",
          "output_type": "stream",
          "text": [
            "\n",
            "» Filtering invalid docs from 'blimp_from_file+null'\n"
          ]
        },
        {
          "name": "stderr",
          "output_type": "stream",
          "text": [
            "INFO:lm_eval.evaluator:\n",
            "» Filtering invalid docs from 'blimp_from_file+null'\n"
          ]
        },
        {
          "data": {
            "application/vnd.jupyter.widget-view+json": {
              "model_id": "d756bb14d6f8411ea8c1d25df7e16505",
              "version_major": 2,
              "version_minor": 0
            },
            "text/plain": [
              "Filter:   0%|          | 0/6738 [00:00<?, ? examples/s]"
            ]
          },
          "metadata": {},
          "output_type": "display_data"
        },
        {
          "name": "stdout",
          "output_type": "stream",
          "text": [
            "\n",
            "» Constructing 'blimp_from_file+null' contexts and requests\n"
          ]
        },
        {
          "name": "stderr",
          "output_type": "stream",
          "text": [
            "INFO:lm_eval.evaluator:\n",
            "» Constructing 'blimp_from_file+null' contexts and requests\n",
            "100%|██████████| 6738/6738 [00:01<00:00, 5539.10it/s]"
          ]
        },
        {
          "name": "stdout",
          "output_type": "stream",
          "text": [
            "\n",
            "» Running all `loglikelihood` requests\n"
          ]
        },
        {
          "name": "stderr",
          "output_type": "stream",
          "text": [
            "\n",
            "INFO:lm_eval.evaluator:\n",
            "» Running all `loglikelihood` requests\n",
            "100%|██████████| 13476/13476 [01:35<00:00, 140.38it/s]\n"
          ]
        },
        {
          "name": "stdout",
          "output_type": "stream",
          "text": [
            "binding:\t61.29%\n"
          ]
        },
        {
          "data": {
            "application/vnd.jupyter.widget-view+json": {
              "model_id": "9f448588bfd54f36b3ba69aabde94c20",
              "version_major": 2,
              "version_minor": 0
            },
            "text/plain": [
              "Generating train split: 0 examples [00:00, ? examples/s]"
            ]
          },
          "metadata": {},
          "output_type": "display_data"
        },
        {
          "name": "stdout",
          "output_type": "stream",
          "text": [
            "\n",
            "» Assigning unique IDs to 'blimp_from_file+null' docs\n"
          ]
        },
        {
          "name": "stderr",
          "output_type": "stream",
          "text": [
            "INFO:lm_eval.evaluator:\n",
            "» Assigning unique IDs to 'blimp_from_file+null' docs\n"
          ]
        },
        {
          "data": {
            "application/vnd.jupyter.widget-view+json": {
              "model_id": "0d4a69211557480297f641c181699e0a",
              "version_major": 2,
              "version_minor": 0
            },
            "text/plain": [
              "Map:   0%|          | 0/4526 [00:00<?, ? examples/s]"
            ]
          },
          "metadata": {},
          "output_type": "display_data"
        },
        {
          "name": "stdout",
          "output_type": "stream",
          "text": [
            "\n",
            "» Filtering invalid docs from 'blimp_from_file+null'\n"
          ]
        },
        {
          "name": "stderr",
          "output_type": "stream",
          "text": [
            "INFO:lm_eval.evaluator:\n",
            "» Filtering invalid docs from 'blimp_from_file+null'\n"
          ]
        },
        {
          "data": {
            "application/vnd.jupyter.widget-view+json": {
              "model_id": "a7d22711095148daa1f0300906e73172",
              "version_major": 2,
              "version_minor": 0
            },
            "text/plain": [
              "Filter:   0%|          | 0/4526 [00:00<?, ? examples/s]"
            ]
          },
          "metadata": {},
          "output_type": "display_data"
        },
        {
          "name": "stdout",
          "output_type": "stream",
          "text": [
            "\n",
            "» Constructing 'blimp_from_file+null' contexts and requests\n"
          ]
        },
        {
          "name": "stderr",
          "output_type": "stream",
          "text": [
            "INFO:lm_eval.evaluator:\n",
            "» Constructing 'blimp_from_file+null' contexts and requests\n",
            "100%|██████████| 4526/4526 [00:01<00:00, 3819.83it/s]"
          ]
        },
        {
          "name": "stdout",
          "output_type": "stream",
          "text": [
            "\n",
            "» Running all `loglikelihood` requests\n"
          ]
        },
        {
          "name": "stderr",
          "output_type": "stream",
          "text": [
            "\n",
            "INFO:lm_eval.evaluator:\n",
            "» Running all `loglikelihood` requests\n",
            "100%|██████████| 9052/9052 [01:06<00:00, 136.72it/s]\n"
          ]
        },
        {
          "name": "stdout",
          "output_type": "stream",
          "text": [
            "control_raising:\t58.44%\n"
          ]
        },
        {
          "data": {
            "application/vnd.jupyter.widget-view+json": {
              "model_id": "fb0afdf0af424377ad1cc3633b0c7f79",
              "version_major": 2,
              "version_minor": 0
            },
            "text/plain": [
              "Generating train split:   0%|          | 0/7542 [00:00<?, ? examples/s]"
            ]
          },
          "metadata": {},
          "output_type": "display_data"
        },
        {
          "name": "stdout",
          "output_type": "stream",
          "text": [
            "\n",
            "» Assigning unique IDs to 'blimp_from_file+null' docs\n"
          ]
        },
        {
          "name": "stderr",
          "output_type": "stream",
          "text": [
            "INFO:lm_eval.evaluator:\n",
            "» Assigning unique IDs to 'blimp_from_file+null' docs\n"
          ]
        },
        {
          "data": {
            "application/vnd.jupyter.widget-view+json": {
              "model_id": "bbf97e8fcb3f4f4d85bf699c349626ec",
              "version_major": 2,
              "version_minor": 0
            },
            "text/plain": [
              "Map:   0%|          | 0/7542 [00:00<?, ? examples/s]"
            ]
          },
          "metadata": {},
          "output_type": "display_data"
        },
        {
          "name": "stdout",
          "output_type": "stream",
          "text": [
            "\n",
            "» Filtering invalid docs from 'blimp_from_file+null'\n"
          ]
        },
        {
          "name": "stderr",
          "output_type": "stream",
          "text": [
            "INFO:lm_eval.evaluator:\n",
            "» Filtering invalid docs from 'blimp_from_file+null'\n"
          ]
        },
        {
          "data": {
            "application/vnd.jupyter.widget-view+json": {
              "model_id": "ed03f3c70a5346489b99bb1ba520059d",
              "version_major": 2,
              "version_minor": 0
            },
            "text/plain": [
              "Filter:   0%|          | 0/7542 [00:00<?, ? examples/s]"
            ]
          },
          "metadata": {},
          "output_type": "display_data"
        },
        {
          "name": "stdout",
          "output_type": "stream",
          "text": [
            "\n",
            "» Constructing 'blimp_from_file+null' contexts and requests\n"
          ]
        },
        {
          "name": "stderr",
          "output_type": "stream",
          "text": [
            "INFO:lm_eval.evaluator:\n",
            "» Constructing 'blimp_from_file+null' contexts and requests\n",
            "100%|██████████| 7542/7542 [00:02<00:00, 3283.89it/s]"
          ]
        },
        {
          "name": "stdout",
          "output_type": "stream",
          "text": [
            "\n",
            "» Running all `loglikelihood` requests\n"
          ]
        },
        {
          "name": "stderr",
          "output_type": "stream",
          "text": [
            "\n",
            "INFO:lm_eval.evaluator:\n",
            "» Running all `loglikelihood` requests\n",
            "100%|██████████| 15084/15084 [01:41<00:00, 148.37it/s]\n"
          ]
        },
        {
          "name": "stdout",
          "output_type": "stream",
          "text": [
            "determiner_noun_agreement:\t51.99%\n"
          ]
        },
        {
          "data": {
            "application/vnd.jupyter.widget-view+json": {
              "model_id": "2c4138f53b564c668bb5c63fd28d63c8",
              "version_major": 2,
              "version_minor": 0
            },
            "text/plain": [
              "Generating train split: 0 examples [00:00, ? examples/s]"
            ]
          },
          "metadata": {},
          "output_type": "display_data"
        },
        {
          "name": "stdout",
          "output_type": "stream",
          "text": [
            "\n",
            "» Assigning unique IDs to 'blimp_from_file+null' docs\n"
          ]
        },
        {
          "name": "stderr",
          "output_type": "stream",
          "text": [
            "INFO:lm_eval.evaluator:\n",
            "» Assigning unique IDs to 'blimp_from_file+null' docs\n"
          ]
        },
        {
          "data": {
            "application/vnd.jupyter.widget-view+json": {
              "model_id": "ebea1d6a60ac44898aaf9b6f453fe571",
              "version_major": 2,
              "version_minor": 0
            },
            "text/plain": [
              "Map:   0%|          | 0/1732 [00:00<?, ? examples/s]"
            ]
          },
          "metadata": {},
          "output_type": "display_data"
        },
        {
          "name": "stdout",
          "output_type": "stream",
          "text": [
            "\n",
            "» Filtering invalid docs from 'blimp_from_file+null'\n"
          ]
        },
        {
          "name": "stderr",
          "output_type": "stream",
          "text": [
            "INFO:lm_eval.evaluator:\n",
            "» Filtering invalid docs from 'blimp_from_file+null'\n"
          ]
        },
        {
          "data": {
            "application/vnd.jupyter.widget-view+json": {
              "model_id": "7a0dd03dc5fe4b46b77c224dd456b145",
              "version_major": 2,
              "version_minor": 0
            },
            "text/plain": [
              "Filter:   0%|          | 0/1732 [00:00<?, ? examples/s]"
            ]
          },
          "metadata": {},
          "output_type": "display_data"
        },
        {
          "name": "stdout",
          "output_type": "stream",
          "text": [
            "\n",
            "» Constructing 'blimp_from_file+null' contexts and requests\n"
          ]
        },
        {
          "name": "stderr",
          "output_type": "stream",
          "text": [
            "INFO:lm_eval.evaluator:\n",
            "» Constructing 'blimp_from_file+null' contexts and requests\n",
            "100%|██████████| 1732/1732 [00:00<00:00, 6461.33it/s]"
          ]
        },
        {
          "name": "stdout",
          "output_type": "stream",
          "text": [
            "\n",
            "» Running all `loglikelihood` requests\n"
          ]
        },
        {
          "name": "stderr",
          "output_type": "stream",
          "text": [
            "\n",
            "INFO:lm_eval.evaluator:\n",
            "» Running all `loglikelihood` requests\n",
            "100%|██████████| 3464/3464 [00:27<00:00, 128.08it/s]\n"
          ]
        },
        {
          "name": "stdout",
          "output_type": "stream",
          "text": [
            "ellipsis:\t23.61%\n"
          ]
        },
        {
          "data": {
            "application/vnd.jupyter.widget-view+json": {
              "model_id": "090373db9b174735a8c2fce49a575ebb",
              "version_major": 2,
              "version_minor": 0
            },
            "text/plain": [
              "Generating train split: 0 examples [00:00, ? examples/s]"
            ]
          },
          "metadata": {},
          "output_type": "display_data"
        },
        {
          "name": "stdout",
          "output_type": "stream",
          "text": [
            "\n",
            "» Assigning unique IDs to 'blimp_from_file+null' docs\n"
          ]
        },
        {
          "name": "stderr",
          "output_type": "stream",
          "text": [
            "INFO:lm_eval.evaluator:\n",
            "» Assigning unique IDs to 'blimp_from_file+null' docs\n"
          ]
        },
        {
          "data": {
            "application/vnd.jupyter.widget-view+json": {
              "model_id": "4c7d5221740c4e1084af1ec9d22b9b12",
              "version_major": 2,
              "version_minor": 0
            },
            "text/plain": [
              "Map:   0%|          | 0/6426 [00:00<?, ? examples/s]"
            ]
          },
          "metadata": {},
          "output_type": "display_data"
        },
        {
          "name": "stdout",
          "output_type": "stream",
          "text": [
            "\n",
            "» Filtering invalid docs from 'blimp_from_file+null'\n"
          ]
        },
        {
          "name": "stderr",
          "output_type": "stream",
          "text": [
            "INFO:lm_eval.evaluator:\n",
            "» Filtering invalid docs from 'blimp_from_file+null'\n"
          ]
        },
        {
          "data": {
            "application/vnd.jupyter.widget-view+json": {
              "model_id": "00b8c236930d426fa9eea58bcb9ffe65",
              "version_major": 2,
              "version_minor": 0
            },
            "text/plain": [
              "Filter:   0%|          | 0/6426 [00:00<?, ? examples/s]"
            ]
          },
          "metadata": {},
          "output_type": "display_data"
        },
        {
          "name": "stdout",
          "output_type": "stream",
          "text": [
            "\n",
            "» Constructing 'blimp_from_file+null' contexts and requests\n"
          ]
        },
        {
          "name": "stderr",
          "output_type": "stream",
          "text": [
            "INFO:lm_eval.evaluator:\n",
            "» Constructing 'blimp_from_file+null' contexts and requests\n",
            "100%|██████████| 6426/6426 [00:01<00:00, 6018.41it/s]"
          ]
        },
        {
          "name": "stdout",
          "output_type": "stream",
          "text": [
            "\n",
            "» Running all `loglikelihood` requests\n"
          ]
        },
        {
          "name": "stderr",
          "output_type": "stream",
          "text": [
            "\n",
            "INFO:lm_eval.evaluator:\n",
            "» Running all `loglikelihood` requests\n",
            "100%|██████████| 12852/12852 [01:35<00:00, 134.93it/s]\n"
          ]
        },
        {
          "name": "stdout",
          "output_type": "stream",
          "text": [
            "filler_gap:\t62.81%\n"
          ]
        },
        {
          "data": {
            "application/vnd.jupyter.widget-view+json": {
              "model_id": "b3484dd930a34574aacfc1d0d1bb3121",
              "version_major": 2,
              "version_minor": 0
            },
            "text/plain": [
              "Generating train split: 0 examples [00:00, ? examples/s]"
            ]
          },
          "metadata": {},
          "output_type": "display_data"
        },
        {
          "name": "stdout",
          "output_type": "stream",
          "text": [
            "\n",
            "» Assigning unique IDs to 'blimp_from_file+null' docs\n"
          ]
        },
        {
          "name": "stderr",
          "output_type": "stream",
          "text": [
            "INFO:lm_eval.evaluator:\n",
            "» Assigning unique IDs to 'blimp_from_file+null' docs\n"
          ]
        },
        {
          "data": {
            "application/vnd.jupyter.widget-view+json": {
              "model_id": "b8920fe2ab064ec68b554ba235e98b1e",
              "version_major": 2,
              "version_minor": 0
            },
            "text/plain": [
              "Map:   0%|          | 0/1965 [00:00<?, ? examples/s]"
            ]
          },
          "metadata": {},
          "output_type": "display_data"
        },
        {
          "name": "stdout",
          "output_type": "stream",
          "text": [
            "\n",
            "» Filtering invalid docs from 'blimp_from_file+null'\n"
          ]
        },
        {
          "name": "stderr",
          "output_type": "stream",
          "text": [
            "INFO:lm_eval.evaluator:\n",
            "» Filtering invalid docs from 'blimp_from_file+null'\n"
          ]
        },
        {
          "data": {
            "application/vnd.jupyter.widget-view+json": {
              "model_id": "095f8d7c8655445988f1d650c381cdbb",
              "version_major": 2,
              "version_minor": 0
            },
            "text/plain": [
              "Filter:   0%|          | 0/1965 [00:00<?, ? examples/s]"
            ]
          },
          "metadata": {},
          "output_type": "display_data"
        },
        {
          "name": "stdout",
          "output_type": "stream",
          "text": [
            "\n",
            "» Constructing 'blimp_from_file+null' contexts and requests\n"
          ]
        },
        {
          "name": "stderr",
          "output_type": "stream",
          "text": [
            "INFO:lm_eval.evaluator:\n",
            "» Constructing 'blimp_from_file+null' contexts and requests\n",
            "100%|██████████| 1965/1965 [00:00<00:00, 6336.90it/s]"
          ]
        },
        {
          "name": "stdout",
          "output_type": "stream",
          "text": [
            "\n",
            "» Running all `loglikelihood` requests\n"
          ]
        },
        {
          "name": "stderr",
          "output_type": "stream",
          "text": [
            "\n",
            "INFO:lm_eval.evaluator:\n",
            "» Running all `loglikelihood` requests\n",
            "100%|██████████| 3930/3930 [00:25<00:00, 156.45it/s]\n"
          ]
        },
        {
          "name": "stdout",
          "output_type": "stream",
          "text": [
            "irregular_forms:\t61.27%\n"
          ]
        },
        {
          "data": {
            "application/vnd.jupyter.widget-view+json": {
              "model_id": "e27f401535e147599ed78880f74b98b2",
              "version_major": 2,
              "version_minor": 0
            },
            "text/plain": [
              "Generating train split: 0 examples [00:00, ? examples/s]"
            ]
          },
          "metadata": {},
          "output_type": "display_data"
        },
        {
          "name": "stdout",
          "output_type": "stream",
          "text": [
            "\n",
            "» Assigning unique IDs to 'blimp_from_file+null' docs\n"
          ]
        },
        {
          "name": "stderr",
          "output_type": "stream",
          "text": [
            "INFO:lm_eval.evaluator:\n",
            "» Assigning unique IDs to 'blimp_from_file+null' docs\n"
          ]
        },
        {
          "data": {
            "application/vnd.jupyter.widget-view+json": {
              "model_id": "7ae324a9c9f94352a0d66d3df32bdfd9",
              "version_major": 2,
              "version_minor": 0
            },
            "text/plain": [
              "Map:   0%|          | 0/2676 [00:00<?, ? examples/s]"
            ]
          },
          "metadata": {},
          "output_type": "display_data"
        },
        {
          "name": "stdout",
          "output_type": "stream",
          "text": [
            "\n",
            "» Filtering invalid docs from 'blimp_from_file+null'\n"
          ]
        },
        {
          "name": "stderr",
          "output_type": "stream",
          "text": [
            "INFO:lm_eval.evaluator:\n",
            "» Filtering invalid docs from 'blimp_from_file+null'\n"
          ]
        },
        {
          "data": {
            "application/vnd.jupyter.widget-view+json": {
              "model_id": "c697113bfa3542f7adf177b267fc88bd",
              "version_major": 2,
              "version_minor": 0
            },
            "text/plain": [
              "Filter:   0%|          | 0/2676 [00:00<?, ? examples/s]"
            ]
          },
          "metadata": {},
          "output_type": "display_data"
        },
        {
          "name": "stdout",
          "output_type": "stream",
          "text": [
            "\n",
            "» Constructing 'blimp_from_file+null' contexts and requests\n"
          ]
        },
        {
          "name": "stderr",
          "output_type": "stream",
          "text": [
            "INFO:lm_eval.evaluator:\n",
            "» Constructing 'blimp_from_file+null' contexts and requests\n",
            "100%|██████████| 2676/2676 [00:00<00:00, 6325.84it/s]"
          ]
        },
        {
          "name": "stdout",
          "output_type": "stream",
          "text": [
            "\n",
            "» Running all `loglikelihood` requests\n"
          ]
        },
        {
          "name": "stderr",
          "output_type": "stream",
          "text": [
            "\n",
            "INFO:lm_eval.evaluator:\n",
            "» Running all `loglikelihood` requests\n",
            "100%|██████████| 5352/5352 [00:37<00:00, 140.85it/s]\n"
          ]
        },
        {
          "name": "stdout",
          "output_type": "stream",
          "text": [
            "island_effects:\t49.63%\n"
          ]
        },
        {
          "data": {
            "application/vnd.jupyter.widget-view+json": {
              "model_id": "74731de729024fe5af46d595e6f37c49",
              "version_major": 2,
              "version_minor": 0
            },
            "text/plain": [
              "Generating train split: 0 examples [00:00, ? examples/s]"
            ]
          },
          "metadata": {},
          "output_type": "display_data"
        },
        {
          "name": "stdout",
          "output_type": "stream",
          "text": [
            "\n",
            "» Assigning unique IDs to 'blimp_from_file+null' docs\n"
          ]
        },
        {
          "name": "stderr",
          "output_type": "stream",
          "text": [
            "INFO:lm_eval.evaluator:\n",
            "» Assigning unique IDs to 'blimp_from_file+null' docs\n"
          ]
        },
        {
          "data": {
            "application/vnd.jupyter.widget-view+json": {
              "model_id": "183c0d03295b40caaabcf897a4071f26",
              "version_major": 2,
              "version_minor": 0
            },
            "text/plain": [
              "Map:   0%|          | 0/6586 [00:00<?, ? examples/s]"
            ]
          },
          "metadata": {},
          "output_type": "display_data"
        },
        {
          "name": "stdout",
          "output_type": "stream",
          "text": [
            "\n",
            "» Filtering invalid docs from 'blimp_from_file+null'\n"
          ]
        },
        {
          "name": "stderr",
          "output_type": "stream",
          "text": [
            "INFO:lm_eval.evaluator:\n",
            "» Filtering invalid docs from 'blimp_from_file+null'\n"
          ]
        },
        {
          "data": {
            "application/vnd.jupyter.widget-view+json": {
              "model_id": "1e4ee078cfbe4cfebbe5d9afde4218a1",
              "version_major": 2,
              "version_minor": 0
            },
            "text/plain": [
              "Filter:   0%|          | 0/6586 [00:00<?, ? examples/s]"
            ]
          },
          "metadata": {},
          "output_type": "display_data"
        },
        {
          "name": "stdout",
          "output_type": "stream",
          "text": [
            "\n",
            "» Constructing 'blimp_from_file+null' contexts and requests\n"
          ]
        },
        {
          "name": "stderr",
          "output_type": "stream",
          "text": [
            "INFO:lm_eval.evaluator:\n",
            "» Constructing 'blimp_from_file+null' contexts and requests\n",
            "100%|██████████| 6586/6586 [00:01<00:00, 4664.52it/s]"
          ]
        },
        {
          "name": "stdout",
          "output_type": "stream",
          "text": [
            "\n",
            "» Running all `loglikelihood` requests\n"
          ]
        },
        {
          "name": "stderr",
          "output_type": "stream",
          "text": [
            "\n",
            "INFO:lm_eval.evaluator:\n",
            "» Running all `loglikelihood` requests\n",
            "100%|██████████| 13172/13172 [01:30<00:00, 144.98it/s]\n"
          ]
        },
        {
          "name": "stdout",
          "output_type": "stream",
          "text": [
            "npi_licensing:\t42.03%\n"
          ]
        },
        {
          "data": {
            "application/vnd.jupyter.widget-view+json": {
              "model_id": "7eb14d3b22034f4ebd713386ce5df906",
              "version_major": 2,
              "version_minor": 0
            },
            "text/plain": [
              "Generating train split: 0 examples [00:00, ? examples/s]"
            ]
          },
          "metadata": {},
          "output_type": "display_data"
        },
        {
          "name": "stdout",
          "output_type": "stream",
          "text": [
            "\n",
            "» Assigning unique IDs to 'blimp_from_file+null' docs\n"
          ]
        },
        {
          "name": "stderr",
          "output_type": "stream",
          "text": [
            "INFO:lm_eval.evaluator:\n",
            "» Assigning unique IDs to 'blimp_from_file+null' docs\n"
          ]
        },
        {
          "data": {
            "application/vnd.jupyter.widget-view+json": {
              "model_id": "38682614c138408d9a37d22189087b9e",
              "version_major": 2,
              "version_minor": 0
            },
            "text/plain": [
              "Map:   0%|          | 0/3882 [00:00<?, ? examples/s]"
            ]
          },
          "metadata": {},
          "output_type": "display_data"
        },
        {
          "name": "stdout",
          "output_type": "stream",
          "text": [
            "\n",
            "» Filtering invalid docs from 'blimp_from_file+null'\n"
          ]
        },
        {
          "name": "stderr",
          "output_type": "stream",
          "text": [
            "INFO:lm_eval.evaluator:\n",
            "» Filtering invalid docs from 'blimp_from_file+null'\n"
          ]
        },
        {
          "data": {
            "application/vnd.jupyter.widget-view+json": {
              "model_id": "10540f157ad141ccb1dea3ccfcb014e0",
              "version_major": 2,
              "version_minor": 0
            },
            "text/plain": [
              "Filter:   0%|          | 0/3882 [00:00<?, ? examples/s]"
            ]
          },
          "metadata": {},
          "output_type": "display_data"
        },
        {
          "name": "stdout",
          "output_type": "stream",
          "text": [
            "\n",
            "» Constructing 'blimp_from_file+null' contexts and requests\n"
          ]
        },
        {
          "name": "stderr",
          "output_type": "stream",
          "text": [
            "INFO:lm_eval.evaluator:\n",
            "» Constructing 'blimp_from_file+null' contexts and requests\n",
            "100%|██████████| 3882/3882 [00:00<00:00, 6362.66it/s]"
          ]
        },
        {
          "name": "stdout",
          "output_type": "stream",
          "text": [
            "\n",
            "» Running all `loglikelihood` requests\n"
          ]
        },
        {
          "name": "stderr",
          "output_type": "stream",
          "text": [
            "\n",
            "INFO:lm_eval.evaluator:\n",
            "» Running all `loglikelihood` requests\n",
            "100%|██████████| 7764/7764 [00:53<00:00, 146.17it/s]\n"
          ]
        },
        {
          "name": "stdout",
          "output_type": "stream",
          "text": [
            "quantifiers:\t44.28%\n"
          ]
        },
        {
          "data": {
            "application/vnd.jupyter.widget-view+json": {
              "model_id": "572c9263724943b7964715d45b62c93d",
              "version_major": 2,
              "version_minor": 0
            },
            "text/plain": [
              "Generating train split:   0%|          | 0/5535 [00:00<?, ? examples/s]"
            ]
          },
          "metadata": {},
          "output_type": "display_data"
        },
        {
          "name": "stdout",
          "output_type": "stream",
          "text": [
            "\n",
            "» Assigning unique IDs to 'blimp_from_file+null' docs\n"
          ]
        },
        {
          "name": "stderr",
          "output_type": "stream",
          "text": [
            "INFO:lm_eval.evaluator:\n",
            "» Assigning unique IDs to 'blimp_from_file+null' docs\n"
          ]
        },
        {
          "data": {
            "application/vnd.jupyter.widget-view+json": {
              "model_id": "1581bc1580bf40058da838f4cf395d27",
              "version_major": 2,
              "version_minor": 0
            },
            "text/plain": [
              "Map:   0%|          | 0/5535 [00:00<?, ? examples/s]"
            ]
          },
          "metadata": {},
          "output_type": "display_data"
        },
        {
          "name": "stdout",
          "output_type": "stream",
          "text": [
            "\n",
            "» Filtering invalid docs from 'blimp_from_file+null'\n"
          ]
        },
        {
          "name": "stderr",
          "output_type": "stream",
          "text": [
            "INFO:lm_eval.evaluator:\n",
            "» Filtering invalid docs from 'blimp_from_file+null'\n"
          ]
        },
        {
          "data": {
            "application/vnd.jupyter.widget-view+json": {
              "model_id": "e0d2871da6d74cd5a4725362c5c10eba",
              "version_major": 2,
              "version_minor": 0
            },
            "text/plain": [
              "Filter:   0%|          | 0/5535 [00:00<?, ? examples/s]"
            ]
          },
          "metadata": {},
          "output_type": "display_data"
        },
        {
          "name": "stdout",
          "output_type": "stream",
          "text": [
            "\n",
            "» Constructing 'blimp_from_file+null' contexts and requests\n"
          ]
        },
        {
          "name": "stderr",
          "output_type": "stream",
          "text": [
            "INFO:lm_eval.evaluator:\n",
            "» Constructing 'blimp_from_file+null' contexts and requests\n",
            "100%|██████████| 5535/5535 [00:00<00:00, 6279.66it/s]"
          ]
        },
        {
          "name": "stdout",
          "output_type": "stream",
          "text": [
            "\n",
            "» Running all `loglikelihood` requests\n"
          ]
        },
        {
          "name": "stderr",
          "output_type": "stream",
          "text": [
            "\n",
            "INFO:lm_eval.evaluator:\n",
            "» Running all `loglikelihood` requests\n",
            "100%|██████████| 11070/11070 [01:14<00:00, 149.33it/s]\n"
          ]
        },
        {
          "name": "stdout",
          "output_type": "stream",
          "text": [
            "subject_verb_agreement:\t50.46%\n"
          ]
        },
        {
          "data": {
            "application/vnd.jupyter.widget-view+json": {
              "model_id": "d00bfb7072654e90938f8c95be4d1961",
              "version_major": 2,
              "version_minor": 0
            },
            "text/plain": [
              "Generating train split: 0 examples [00:00, ? examples/s]"
            ]
          },
          "metadata": {},
          "output_type": "display_data"
        },
        {
          "name": "stdout",
          "output_type": "stream",
          "text": [
            "\n",
            "» Assigning unique IDs to 'blimp_from_file+null' docs\n"
          ]
        },
        {
          "name": "stderr",
          "output_type": "stream",
          "text": [
            "INFO:lm_eval.evaluator:\n",
            "» Assigning unique IDs to 'blimp_from_file+null' docs\n"
          ]
        },
        {
          "data": {
            "application/vnd.jupyter.widget-view+json": {
              "model_id": "130f8c507d334e7cb350c94166d3689a",
              "version_major": 2,
              "version_minor": 0
            },
            "text/plain": [
              "Map:   0%|          | 0/4394 [00:00<?, ? examples/s]"
            ]
          },
          "metadata": {},
          "output_type": "display_data"
        },
        {
          "name": "stdout",
          "output_type": "stream",
          "text": [
            "\n",
            "» Filtering invalid docs from 'blimp_from_file+null'\n"
          ]
        },
        {
          "name": "stderr",
          "output_type": "stream",
          "text": [
            "INFO:lm_eval.evaluator:\n",
            "» Filtering invalid docs from 'blimp_from_file+null'\n"
          ]
        },
        {
          "data": {
            "application/vnd.jupyter.widget-view+json": {
              "model_id": "b9fae2861be8470dbf993aaa49307931",
              "version_major": 2,
              "version_minor": 0
            },
            "text/plain": [
              "Filter:   0%|          | 0/4394 [00:00<?, ? examples/s]"
            ]
          },
          "metadata": {},
          "output_type": "display_data"
        },
        {
          "name": "stdout",
          "output_type": "stream",
          "text": [
            "\n",
            "» Constructing 'blimp_from_file+null' contexts and requests\n"
          ]
        },
        {
          "name": "stderr",
          "output_type": "stream",
          "text": [
            "INFO:lm_eval.evaluator:\n",
            "» Constructing 'blimp_from_file+null' contexts and requests\n",
            "100%|██████████| 4394/4394 [00:01<00:00, 4030.10it/s]"
          ]
        },
        {
          "name": "stdout",
          "output_type": "stream",
          "text": [
            "\n",
            "» Running all `loglikelihood` requests\n"
          ]
        },
        {
          "name": "stderr",
          "output_type": "stream",
          "text": [
            "\n",
            "INFO:lm_eval.evaluator:\n",
            "» Running all `loglikelihood` requests\n",
            "100%|██████████| 8788/8788 [01:18<00:00, 111.34it/s]\n",
            "/content/evaluation-pipeline/lm_eval/api/task.py:589: RuntimeWarning: divide by zero encountered in divide\n",
            "  if np.argmax(results / completion_len) == target_idx\n"
          ]
        },
        {
          "name": "stdout",
          "output_type": "stream",
          "text": [
            "preposition:\t49.75%\n",
            "\n",
            "Scores:\n",
            "anaphor_agreement:\t44.63%\n",
            "argument_structure:\t60.81%\n",
            "binding:\t61.29%\n",
            "control_raising:\t58.44%\n",
            "determiner_noun_agreement:\t51.99%\n",
            "ellipsis:\t23.61%\n",
            "filler_gap:\t62.81%\n",
            "irregular_forms:\t61.27%\n",
            "island_effects:\t49.63%\n",
            "npi_licensing:\t42.03%\n",
            "quantifiers:\t44.28%\n",
            "subject_verb_agreement:\t50.46%\n",
            "preposition:\t49.75%\n"
          ]
        }
      ],
      "source": [
        "#@title Load model and evaluate (BLiMP) { display-mode: \"form\" }\n",
        "model = \"/content/drive/MyDrive/VU Thesis/Code/baby_models/V20L4/model_e1_v20_l4/\" #@param {\"type\": \"string\"}\n",
        "model_type = \"encoder\" #@param [\"decoder\", \"encoder\", \"encoder-decoder\"]\n",
        "# file_name = \"examples3.csv\" #@param {\"type\": \"string\"}\n",
        "# model_names = [\"opt-125m\", \"opt-350m\", \"opt-1.3b\", \"opt-2.7b\"] #@param {\"type\": \"raw\"}\n",
        "\n",
        "%cd /content/evaluation-pipeline\n",
        "%run /content/evaluation-pipeline/babylm_eval_prep.py \\\n",
        "  \"$model\" \\\n",
        "  \"$model_type\" \\\n",
        "  -t \"blimp_with_preposition\""
      ]
    },
    {
      "cell_type": "markdown",
      "metadata": {
        "id": "X-qVCy9Wua7O"
      },
      "source": [
        "### Epoch 2"
      ]
    },
    {
      "cell_type": "code",
      "execution_count": null,
      "metadata": {
        "colab": {
          "base_uri": "https://localhost:8080/",
          "height": 1000,
          "referenced_widgets": [
            "b2b2d0180b504e5e8169009cc8400bab",
            "6b44b5168d8e438cb951649ce62354d1",
            "fc0effccab614bd580e1abd8b1f52774",
            "4c004605116a4db7b7fa7b5069f76e68",
            "ff0d21d199f64503bb650bdd9d02795b",
            "9ad9f3f51cf24c388f114b2a47ea2787",
            "57370a7ba8d444bc90ead05e28d8d08b",
            "7d5e8771005d464d8b2b54e5aa21f4d2",
            "392e70b8c55c4cedb8e9f4b2639dbc87",
            "f170460b9088422e92ee08ef451c95eb",
            "9c147966ee494e7dbbca74401dc65919",
            "de43562685a14b1ab8cc0c813914c513",
            "e4540a98d96340c6a6025cac3c1fc608",
            "5a02e48c1b434167864c88c09e0d96c2",
            "182954df3a8a41fda7a60aeea41cdc2e",
            "3b8eca35732242ddbc3865f20cae3551",
            "78ae723000614d0ab630da361612e611",
            "e98f8899bffe44c0a2d0f69abb2efe7e",
            "6958b45fa02245e39a46e7f95d491a17",
            "558cb192c6144dce82b7304288d76fe6",
            "720dd43a78d74f67a5253fa66bf29e90",
            "18cd1504d4a642b283cb430c2fb9ff68",
            "0578ab4057214629aa4eb192299dabad",
            "8beb1ac989b747aa8db757d8019d97cc",
            "d0ecd50a549843e3beafa286d76d43e8",
            "27d377dc037c488693f6c854aa28f23e",
            "83d9238c5e1d42bb907abd67071ddaea",
            "145a1d092a6d446288525a8521ef6eeb",
            "56f2e55e607a44c6a86be47a8923f897",
            "27ab3a8e24f64646938ddcc69a3a6aca",
            "d1c40f374d9a47ad96f5af3711d5a923",
            "e66e3b0a247a4f88a31be7ea40d0b0df",
            "86575382025a49348f262408c9bb4dd0",
            "7f732eaba701434ca95a113d82a9d869",
            "f684d89ba0c64818a6125a57694a9b02",
            "5b7067bfed28404bb93af9f186ecf598",
            "d1bc7dac82e740cab6a931a6bfbfb3be",
            "ec5a42ca65c8449f9e4cdbec75c1a261",
            "45198236dace44d8ab63f4cf9b6c24df",
            "aa1a3754d69148c7b4c365ce718102f6",
            "710bc972250e4730b774ca780ea317fa",
            "abf136dfec5d49ff8b978dcce2270ee2",
            "982287d9acdd4affa3c5a210e7721bfc",
            "aaafea9522264cff8c2f4dc56919cd73",
            "8c27c557b4854eb0b7cef7afe16ced8b",
            "d8b134ed8e474cb8b2d647f1f3c7b6d1",
            "a1eaa85fc7b0479582ce770c43a47e7f",
            "cc7745ca8097495687bf9cc5f688fd10",
            "0fc1b9bf92aa428aad83bd2c0a1b1d3f",
            "c1c7bddf1230461d936d89569eb3abfe",
            "dcdce3d4ccd54986a8897efb93da167e",
            "86d2061a00f942e58da091ae816d3c4d",
            "3f1cc2e423b444c1bf67596786c52ec4",
            "d54d75ab844f498aaf052cf1592166f5",
            "466bc01c5f024886bfbdbdf411575044",
            "8d8f098ec8f24bd3b86341a0586243e9",
            "9b0793a8dc53483ca8d0e7d54b848afe",
            "7881fbf430a74ee3b0319799721a1a97",
            "4adcaea1187a46d68679e132f601cbea",
            "a6aa47165bd7445bbecabe429af9231d",
            "cd542d122b0c468fb28d34da99c58365",
            "70d41cf7199841ffa26b9d950c1bef44",
            "24e18f2a1b3b40e2b6673a58856f74a9",
            "d08bde2647a140fabd051ed57b9f38fa",
            "4097adc12a24405aac5c55209f121a21",
            "966a37e0cf5642dabd0eb1860e7d53b4",
            "68e5dacd98034bdbb4780a1ea143e3ff",
            "500c7bc8e2cf4455836bbb545bd43a31",
            "5f38321c0db0448da67f278ed42e612f",
            "44e9f5b820ee41af9bd07c5f6506f424",
            "18af9ceaf6ae4e7a8c10fa6eaaaaea39",
            "c7e38d3ddbfd4cc9b7bfdcc6bb4ca648",
            "26891dbc98de4a76ace94fc4c1324272",
            "8d291af90bcc415ba42b38d534d439e0",
            "7a2c9ff852ac4825bf88d113b9543f76",
            "0bc859808fa442fb860a0580b0396d73",
            "c76cccc6c33a4ad8b70841130254036e",
            "f7ace24a37024d0b8585ea5a9c94e161",
            "2120d05bd07f4254bcbd5a8c15c0874d",
            "f7d1d7a516df4ae08d6b09982b271d90",
            "3bb0d98c53194077b0048fec6df098e2",
            "138e1ccadd914d74bde5fb0c2eb49ab6",
            "625d9caa6ace4bcdb64ac061613360b0",
            "cf875979b56a480dabf5aea4f84ff98a",
            "caa8fa307271438c8bc1f7adf4d8dfa7",
            "f223e618b0d74fea84f202813e0d2b37",
            "4a1050203424402280d5ba342e593595",
            "df56ad03220c4f9c849ec8bda57ef14a",
            "42eed15de7c34487aac4eb25429d2bf7",
            "ca2a804d6d3c4054ad118507319bde84",
            "a31f754e9403476ab9584f763291dcf1",
            "250ff561ca754d2793e7e8c1e125c061",
            "8f85ae7c551642809e529913a2c87e4c",
            "569b1585c2e84762a809e86cda914a59",
            "22f92741411f4405b2fc9bc9bf95f4b4",
            "03da8ac4af2e43fab6c544a197dca685",
            "d09b51f5de2d439b8bcc4417aa98bf83",
            "3af48f91fc084b2195949345787156de",
            "dbf06d00bf904183a468554e0f9375d6",
            "e5c662c6962b441d895864e32bdf70ad",
            "e153791be1c64190b16ddb5f8e62aebb",
            "4998c49f5fde473fafbbe9449631b3cf",
            "01b144f44c80425dbb3b66642484b6b9",
            "9f8b98e14ad54c91ab2d2957d1d17895",
            "894b3302917f4c74b4c97293b0842560",
            "90a5edac1aef4eec9a51f76cb3c71f84",
            "1fa7e9dc7009443f988924293d676331",
            "9b124e2df9054c93a1c9a64c3412aa33",
            "8f707c8c9b084a45b290090a1295cda7",
            "0370a2c97b0043fcaeaa15b7014ed69f",
            "a113eaa117d84927b2d9d6d38dda3551",
            "abf5d4eccd6e48abb6e0ccbfc45df749",
            "7df7d64dedb048deb412dbb8ee6445bc",
            "d814c11152914d89b357b7be84774bb5",
            "872d3b1e30744bd1b1ee3e35d6825584",
            "bb35deb95c114b43a0b37a4d38cae810",
            "812122e05adc4148bef7a165d7ac7523",
            "1a962c85b6234265b78e05b507b485ec",
            "7862c189906444908f0c0646e8f7144d",
            "947cd99aa36047bca8e5327c1f9bf428",
            "4a9749d99a2742db9ceaead1113a79fa",
            "d4539ce5be4f4836b2ca3d1d9b43c2b6",
            "3ad3a85ac804480183df3736093811b8",
            "0d82553bb38f4d678a381230af8339b1",
            "a380a0deeb194e42b004f6cda53b40fa",
            "fc6d9cb6cd4e471eaace706a8614abd1",
            "17d1b703aaf744be90dbf3f8340b586f",
            "f955891cb92d4b52a825fe4cfac9c150",
            "39cbff432b6543f6a5c5a13ab62f8da4",
            "a2606a6d1c00447fb27c6e3fabe82090",
            "83553e0b319742fcb91ce659b8f28aa3",
            "359394e5fe034f60906becc06d5a0e70",
            "61e8931061ea4bed9511b232d5f38b06",
            "d1ee278abcf041bb9281bad2388f3708",
            "16ce05bc163a412d8b62b1c178574344",
            "987fcd3edcb34d0ebc187ca340211c89",
            "8c28d7e21d14462b9a071fe3f0d65a8c",
            "3f216280faab49e691e5a796a5f5b154",
            "ff65bdb230cf4e4285deb23b9e27f4ff",
            "55187fdb6d584f2f8eca2f9c8c896f7f",
            "dfa3ec4e8a3d4acfadc94baade03efe0",
            "f8cfa200ecf94395a66b59143f068d20",
            "c6e56fe4d45b4bdf9f4c581ae086c562",
            "11d6f80292f44b8ba7968fdc21793836",
            "2b7a62f585b44ecbbe7cdfe350078995",
            "a06a47b95a384f89afe15b0bbfee47a9",
            "80e3d567cd80420f8dc1a76d4f54470a",
            "3c918bd9fee34b8ab0f283a6932db9b8",
            "4d8d73f02a50448683d0c3ffabfb0e58",
            "d9fd9d11babd41fa9262edf910654353",
            "f4a460eb61864db9ac8003c4862f488c",
            "384935f50872492b97a22101d17e2c73",
            "27e21e333f324a2eb25e84f11b531881",
            "4b58f02fcc374dd68502d31d5560e922",
            "90b0449326c64e2a85f622f20ff1912d",
            "846bf57aecbc43daaaf6d17a4d559b5d",
            "a0af995a1ef44d289db48e18628fc0ff",
            "5e3e76518bb542daa23fec27f9debbea",
            "af8ea71908f74aff8d237c4952cde90c",
            "0ba789459a02406e82c6f3bc638dd576",
            "eb7c1d8338b64657bfa7087f750afd5c",
            "1fd194a13b244fe7a422b4ba428aba60",
            "28f11b44ff6344fbb5667bda3375012a",
            "eb63fd9886694bbba5425ada768cdaa2",
            "77a7fd0004e94fdcb6be0b2a635b9f9a",
            "8595c01452ce47dc983392f9cecb5293",
            "c22ae1cdf1d94480a4842b18e4969eec",
            "4c0c372078214e32b5ea6aef21e90ee1",
            "c59cd85621604d348aa59c41ed4d946a",
            "2b718d2a67854c33ba29e1ebe9ba9f30",
            "833526b88c3f4f348b9d28cbfd5824c3",
            "2be4b4a0431049b7836b3bb671cf35df",
            "f2c7295fb54b4acdaa5408a6b8d67f71",
            "609bc9980d014363a195ab586e5f189e",
            "793fb98821db4be6be8728c9f113ca8a",
            "3639ec6ca4384dd18bf3a99dd3fee254",
            "870a76c3f8d240b4941ce162ded19cd5",
            "d19c29a6fb6940a39e893e99b1d2ede6",
            "b852f1e13ee84442b5c1c9b994c36624",
            "9f0a0348efc745cd88cf03c2a402b79e",
            "8a27f7dcf8234386adf662a64a15e86a",
            "8b8853c08d15498493551b411214e96b",
            "a25c2d3114c4484f9ff5cf7ffc2f2433",
            "b232d18484e94d589cd3169cb723c3a3",
            "445a19905bfa4da9ba647072f03bc3f3",
            "a042c59023a74875b8ab1665d9fac72a",
            "2babf7e58c7b480cb59d70df0f43c315",
            "5ce366b8ed55447ca51df96788a66ddd",
            "b3b0b4c79d3040e1b6bc14efe8789624",
            "e72bf162334545018b232bd36e5715b9",
            "3b497be5ce24463d9cce5421088741d3",
            "8e84a9371f62483bb512bc9290f23c35",
            "919456cf371d469685cf6ffe9da6fca1",
            "5297009feb0c491d87b7df934764957c",
            "153343ce42e8400aa7a0c7a4285400c2",
            "b4cf6429fd1741bb9c38def06632ba5e",
            "55a1e1bd7db8454abd536587f7f10ab4",
            "03acae4321794c9e8826516e70e5dc19",
            "de86577416d5479b852b75b42ab13dbe",
            "f4ea99b08df54ade89fbe215916889eb",
            "b037af47a8354c60845ab26be171aba6",
            "cc8b7524142d41eda6a9eab825062fe9",
            "eb6f2bbaec094135a807dba01c9e3360",
            "68f0d66d8bf24e37a59ca362b557d4d0",
            "30ad68d29936425586d1e390418fd2e2",
            "58434b7862724799be3ee3f747dde9e9",
            "a2fe4bff78ad42b89dc15089fe8e02c0",
            "33a6b6f3aafe47a4b4370fe4b1b5bcf1",
            "9f64b49d6ca94f8ba89b573ec41a59bc",
            "11552cf9631347b7b3be1956df7554a3",
            "ebfe57207da64fb991151b6d6cb97c11",
            "ddeb297785844a54a78ee8c0ff08b346",
            "567597cc5aaf430283cfa13596eebadb",
            "c1ee5416d64b4b00896649c37e6ca9db",
            "baffecbfdc684270a4d021c8c6dd1d96",
            "71f1716f36bf4d2c8173af0b28810488",
            "ff226030b7a8452cb7217f2b28140c02",
            "9401c2c4ee95400a85e80bc016af907d",
            "96bd3a3739be48c088a0be1c3821ea57",
            "7c4dc8068df14c5b9c40056b66fe1769",
            "76db65fe062c48928a69161ccc5e2bcd",
            "2cee19d0efd54e8ebdca427c72519c8b",
            "6b1945bfb0e94aaba2f605efb6fcdd3c",
            "7cf018c2f53c4fdc84d9626d082d09b5",
            "03d113e0efe0412f9bc73b5b35a42ddb",
            "74c838eaf6fd4f079e8b5d7888710cc6",
            "01166278f5224e12ab9958cd5de20e05",
            "462de9ef6723479285746ec0f2b530f7",
            "2617c200784d431588efade2f4550d01",
            "9322acb3bc0a433fbee5e893feb86e01",
            "6c5fd7d22d5044c480dff7586534f158",
            "75b5b222c9d44ebaa9f3c1be913c5c78",
            "2cd380861e964e779f80ef66ab37558b",
            "4bf48ee72ddd4f42bbd6dcd1b64a427d",
            "213ddd4c49f84e59b48f4759ff75b8fd",
            "d2540bedd8804e9080038691bb925e9a",
            "a77d1930dd9741e9b5a7baf0211aa936",
            "016cb6658efa42749862762b169ce452",
            "22906c5959f14aff95f3d814f0d9f3c5",
            "e2f41d24551f49edaef1b666c4c71e32",
            "12dd7dff58d941bb9150527dcebba137",
            "da52aef12b4d47fd8b147aa4408f0fd2",
            "defabc6227a644c382f95cd0f90683a1",
            "9c149872c88c43d1b8df940704da08ab",
            "84efb48225994681b57a0a30fb22a5d4",
            "64f6f59085964d44a474f8e3a666f97a",
            "bd1e5a6d26a149c9b5f49b7a917279c3",
            "1f6e0331418340aa936c310ac11ec8f1",
            "7b45738d3e80424aa784e262ec3f062c",
            "515b50eff23342be97c6464d646e686c",
            "f608a244f37b49a0bf4920391d84ce1f",
            "af52a1aab8914cb8a6bdefd3126c4363",
            "188bd3d629854e128a197b21cedf47f2",
            "d0aadc60fa9d49ea84bffbee7d231c9a",
            "2d3b44b4204f44ed9fa0663fbe5a5245",
            "2d9fcdb649c14a5fb3e6b6837e2f7635",
            "5f25c101b32d4cd181493667781c8e69",
            "11ae1b5bbad949ce81e2d15063fdc276",
            "84a9242916c74a6f8fb73f3eb646a105",
            "585dff54e1444a51b4e9b5afd217f7d8",
            "71e141ca364345168e8704e3e4e25410",
            "05173a8a62b94aa5bbee4e3632964d3a",
            "5821ba036f4a42849f9f6d0d860446e7",
            "ef8d355f238e4a81bd8265076d5b8e32",
            "10ebb7c39421461789e9bd887506018e",
            "dd6b84f05fd548859896cc7b63730556",
            "01f57a2624f54279802967b199d2d4ad",
            "e3460f2f0e134474bfbdec349f844699",
            "8941cb7752904116a7287b87b81f243f",
            "4af2fb0c3c614127bb894dd4d5f08f83",
            "9de13c04495846508cb84d3da4ef18db",
            "0519966777fc4858b15968b76ca2a1ef",
            "94abfc74560c46e49332bf97ed83f608",
            "bbef979129564de7b23757c41dd07aba",
            "94654ebadccd450b942e6fc744927ca9",
            "b5904185982d47318c84467b870fc34a",
            "3c50de9da9d04682b965687f65f0f709",
            "3634658e0a4b480e997695eda1b47d03",
            "6b1ac6e23f1549a5b27f43edb5efc5d9",
            "ebf08dc9cbab489d870ef0488fb71a14",
            "b094d7a558d040d3bfa84f10d6ef8677",
            "4eb0cd0196e646d68c6f0b7ae7e14d0e",
            "16a216702f0a42b3a62cd5195bb7b21b",
            "a15e7d4794b6475e936851c2cad96d78",
            "6f7e7eb415db48a1be94263478bde93b",
            "395fec84ab1140768d1e862eb28de036",
            "6c8843b026854642a1504d4a11ba0ac2",
            "30509f0a5eeb4fb591370ea939842bf6",
            "0d4ce525a64c4b04b6e0ff614899f6fd",
            "b122f7b4a5bb4e4186fd9cffa1bee627",
            "857679479d014ea599bdf1bd8ed3c8dd",
            "5462bb4b08b1412abcb848721ffbcdc8",
            "879bcf0b6e264b798fb4b6949f7bfb09",
            "66f9bb4aad1a403b8db08209b4a948ff",
            "ab1786a8e0944b14a13fbf14a8a38d51",
            "69123002014346879c584b9632574062",
            "46954ed7ee8e452ab3e9d00de1d9c20b",
            "c3d008fbfcbe4c30825a48ea066e15b6",
            "a8e5b29cc19b4393a67e19a1267052c2",
            "4809ef4856f34e2b960d622b425489d6",
            "64050f6a3e754456ba2b87919af18b34",
            "de792c1189d94309a61f9c9f5b25eb69",
            "1b274898ed244345a9dd54136c710a18",
            "d9ce5ebc4f8945e9bacf4610b74d82a9",
            "c79e28304d7d41fbb95d6e7b2fcf2967",
            "8cf98438e4004391a9c3eb7281c46fbb",
            "4f6d6f8a5ad74e83a9f8d6b4fb738307",
            "9f7faf59e61346e49712c8dba13ba366",
            "15a55ab9c2674d7d80cd7b01f0d81bec",
            "28405ad0c8544ff2ad157ad3fff6a689",
            "321fa5a833454741baa6764123f10ba9",
            "42704b76d68a42f5982c75fcfb03e931",
            "b942c0204ab74906afe7475dc26dc24e",
            "0ecbffea909142e88ca24b50f8b8221a",
            "bae29a58f0c546fdb610acbd52664d21",
            "996bf6aea8d0401b8b3352c6e7ba4c6c",
            "cb18d8296a644ee8af456c23cbe913b8",
            "6d01e41a5faa42ba981831eef6531758",
            "0618e0961b4b429e8aa83f668a025ff1",
            "bff5fd22a89f41cdb460dd4e2374c9bf",
            "7ea8b46cc9e940c78410d0876cc34fec",
            "ad1e706a43234ec89ff29d2b099be95e",
            "54795dfc272a419d9155772d5dcdb71c",
            "df35787ea41f4aa3958759aa6feeb322",
            "27cba36cbd114f779ce859262b4305d2",
            "ffa60cdbadc14be584e081a5bef8bc90",
            "b9c7053c5c8340d4957003521545ebe1",
            "e6962107549441898d959d110252d232",
            "c66aa85c84f0459ea963802dd8d25103",
            "95a6447f96ab4ca289e936415e12ae2f",
            "fb8c6a744a19404a877cbe5e117f2927",
            "8e3b911b044044f894631361f717c41d",
            "081bc91b73c941ce82a72ac5ab6f1bba",
            "119b6f1fd5a6437ebab5042a0c3eb1c6",
            "d40d6f23a6f740f5815d9d4a8bf5dade",
            "1645d325c91c4dc4a3fd44eaabc1141c",
            "8840f750ade145449a66b0cf0bd63d85",
            "6c8bdd9d40654686bd0676b99ae28918",
            "e7a74830fa6c470ebd892630471c464f",
            "d4231f016a4d4a588dbdb09c981866de",
            "766bb444270d4335a9cfa898ab8976a4",
            "1f27057e48114842a16670ed1f15aaab",
            "b8b460d7e45e451c8a7bc7ce48222d9b",
            "c465fc0a9aae43c38f8938e24691f859",
            "e6680ef9ace0485fa1098c0fc00b9c55",
            "b6a0306238a04911b6fe50017404c3aa",
            "343ddd4c44a743b18ce7f45226f5780a",
            "d22b74e566034286b1a5e86f675de7ad",
            "1ad3feb505e4440692ab61b6fe6f75b4",
            "83448ebfaaed475f994b426610392b92",
            "814690e74e1d4933800662542706e3b2",
            "d05e2ef9fd3b4cf990bbf81c939d05dd",
            "f93b6b6a114e4edab57bdc7f9ba9954d",
            "3768a130dcc043e3902dc4ba41e2b262",
            "cedc9f9317a149b6add7c42508444d16",
            "40600270ad594ac48eb0099fb017a205",
            "ba05fe77fe514410a34fe8c2182a177b",
            "10a3a04e97ed4b96a1ff5e6f405063ea",
            "99e18cf44e6d463ea4260c7c4f162be6",
            "a4243497f7c840ecbc74378cb4c0efd3",
            "d953f4aeeb0441c8bdfcf4690edfc2ef",
            "1458df0d51704a54a23c26cc5d4d859f",
            "a7bf84227e7c42b5bb95971f53d14c87",
            "4a49fb767d7b4e499522eac47934ec37",
            "2b02057da469461b8ea9ebc31a892afd",
            "46b84166a9f3474aa32b33a5894ebe51",
            "4c9ea8e83ca7415db88b62e2a9ef8071",
            "76bf24a0a73d4ba294ca7b5019716f7c",
            "45563486ab374e1689228ab00238b481",
            "c705755f32dd4797921d5bec15890799",
            "4cf244c341e94d9eada0ac541ac8a308",
            "0ee66c894e664eb696362a6d9e1a38b6",
            "29a08bdcac6743fdb3e38f5339b81281",
            "b0dfe8d787574d5092286ff2eeed0b27",
            "7eb91f0bd14848779c2c1a4d3b19b377",
            "d1f2e5f852974f1abfce641510a34237",
            "0e3d764451e842e49042c0e5c550be85",
            "fbbbc4c29e994931a22977bfbffe5b8e",
            "fc40af6a8ad541e795b9d4623abbd080",
            "9531e6e9bef141a39a7f67b6a4718d08",
            "94c36e3a5f9f46019bec7a507a1b007c",
            "7b2f07d0e6f3476e80e19eb927e70282",
            "953c3373b37e450d9a1c911f91579670",
            "fca8e3544c334ab39992aa4092e5e5aa",
            "85793906f2134bf7a59703671b742332",
            "7808595d6f834981858ca44b51a975f7",
            "6761d0bc30a14fcc814258f691568ee5",
            "5dedc4bcab8d444e9e553ef40a025c8d",
            "2082603eefab4d6bafa77f561ed9c639",
            "9db1a4250599471aac3151bd310e9060",
            "8491e84e3ab64fa08154194b60a6486f",
            "f7cbf1eeec4442fcb41bc78ea4229c53",
            "92cb5524f89e43b2a17071bfce06c46a",
            "4ae3f3026bfe43249738b128d612a9d7",
            "3fbd2634866e4d61a5cb86c2ff8c6914",
            "84adec25b49c431b808eba09bcece4f0",
            "18fcb7ee441c4f83a4554091d6f8a287",
            "8b722f413285410b8a526732ae61ffaf",
            "fb7376361f174034ba7b7f3791571dce",
            "0bbeafedda744badb28fc9612df395fc",
            "fd53228c56bd4bcfb225840026c4db74",
            "e0e628d073514edfa066b1635de000cf",
            "e5d0922f634d437f8d3cd78a88ff5dfd",
            "7ff42e0ec0cb48c8a1a2c27b66ce2c15",
            "9bbedd46af80433a8fcc45bdff338733",
            "98494915a44c4508b89c8b164be8dd93",
            "38dc41a3011e45109167983d7cc4ccfb",
            "c061f41efdbb4add81ff7557d58bdb73",
            "617b0670ea464acf80817d850400af48",
            "e6da029e48714eb5a222ff5eb13f4f98",
            "fe04cbef754645dbb4cdecfe98b8ee3d",
            "4c0552d505774097bf5b887de07945e0",
            "35a6879f86ac4235a13bc79268097b5b",
            "ab560b2ef7f2437c9765fe53dc22b7d1",
            "67a0fe1a66444739bb7294623658e449",
            "50ab2006952b4b06a69e18026d4cd980",
            "9ff29f7cce7d4eaa9d754c98cafcbf4e",
            "32f1c81db3354dd4a4623550c9bbf6fd",
            "144b86705b62462b936ee3804e930b8a",
            "0a4b01afed1e4411ba145fad1707e1b6",
            "173953627f014a589b284fa97dad7239",
            "d682a353219f47deb37f08c54b9d8667",
            "32616c3c37524b33959deb0f0a64e95e",
            "005c39f5d3ab405b8283c53974cd6719",
            "d47b1a4e8bba4e189d8b9b9f214e0dfa",
            "2d832512316b420d9726beb7c1e0ed76",
            "93a75c5ebd1e4c7a9983e89bc852ee9f",
            "d63525d7e7514d42ac61f4df3ce3027a",
            "530b4102d4c04d1685d7715c97b3aca7",
            "25804bec8fe74ec9a6d6015cd95e37c1",
            "a85dba5f74f040d4b62987b46914b62d",
            "7d531798b09f43f2883bf75049ee7355",
            "530950ca716b44aa8860d3723395c076",
            "8f8beb56183049789b30292ac5031424",
            "326d751cd9f047d4a7fd3d420c3f96ec",
            "76cbe449e0c94420927042e4fd895ca3",
            "b0db189b572e4a43833376340d3a45ca",
            "097e09513732401f8a80ea9e7b0876ab",
            "157c1a7ac5b0494d9a450ba132f395d2",
            "bce6f451116b44099a498e0b4ee73b15",
            "122b89be9ecb438d8341189c41d4f3dd",
            "9d43b53712754fb3946174cc6ba0fbf6",
            "d882881b58bf4b699b448774ebd763a6",
            "dd47459af6454037ae8f54bee297f29c",
            "2c3e8942115647bd9248d92ffec786d9",
            "aa7e25e6a02c4620b21da97ffdfeffd4",
            "60b7953d216a4f9a864cc09e4e02eb84",
            "45a3d2b01b1c4d3abedd7796d8d5bb44",
            "d6609b2fc9964e66bbe0cdbc409deb71",
            "c298e629025a4f6887d8b8f8cfea9d09",
            "baf05ae9376d45278636048251f63b0a",
            "f7ce32305adb427dbab04ee138cc3c3e",
            "78e63bd25c294cadbe3e322f76e182d0",
            "0a4271af8aa442b583ee2fc4acb3f1d9",
            "95438951f0174aaa9db5926bfb2715fd",
            "7eff42fa1a48475a951c41bd05b4104b",
            "c62eb357adf34f09a2170723c654ca10",
            "739d17866b5a4dcd8488efa3d12f922c",
            "05d6b67b329043ff8e4402bacc23a578",
            "6fd14a14c26d4aa49e1c78671b7797d5",
            "bd1f3b5600e3475080ec8e8944873b48",
            "99f814b47ef442f481e3dcd9c684a4a1"
          ]
        },
        "id": "dNclbcqDuhAw",
        "outputId": "fc8845ac-5c1c-40ec-cb75-c3244182f266"
      },
      "outputs": [
        {
          "name": "stdout",
          "output_type": "stream",
          "text": [
            "/content/evaluation-pipeline\n"
          ]
        },
        {
          "data": {
            "application/vnd.jupyter.widget-view+json": {
              "model_id": "b2b2d0180b504e5e8169009cc8400bab",
              "version_major": 2,
              "version_minor": 0
            },
            "text/plain": [
              "Generating train split:   0%|          | 0/1956 [00:00<?, ? examples/s]"
            ]
          },
          "metadata": {},
          "output_type": "display_data"
        },
        {
          "name": "stdout",
          "output_type": "stream",
          "text": [
            "\n",
            "» Assigning unique IDs to 'blimp_from_file+null' docs\n"
          ]
        },
        {
          "name": "stderr",
          "output_type": "stream",
          "text": [
            "INFO:lm_eval.evaluator:\n",
            "» Assigning unique IDs to 'blimp_from_file+null' docs\n"
          ]
        },
        {
          "data": {
            "application/vnd.jupyter.widget-view+json": {
              "model_id": "de43562685a14b1ab8cc0c813914c513",
              "version_major": 2,
              "version_minor": 0
            },
            "text/plain": [
              "Map:   0%|          | 0/1956 [00:00<?, ? examples/s]"
            ]
          },
          "metadata": {},
          "output_type": "display_data"
        },
        {
          "name": "stdout",
          "output_type": "stream",
          "text": [
            "\n",
            "» Filtering invalid docs from 'blimp_from_file+null'\n"
          ]
        },
        {
          "name": "stderr",
          "output_type": "stream",
          "text": [
            "INFO:lm_eval.evaluator:\n",
            "» Filtering invalid docs from 'blimp_from_file+null'\n"
          ]
        },
        {
          "data": {
            "application/vnd.jupyter.widget-view+json": {
              "model_id": "0578ab4057214629aa4eb192299dabad",
              "version_major": 2,
              "version_minor": 0
            },
            "text/plain": [
              "Filter:   0%|          | 0/1956 [00:00<?, ? examples/s]"
            ]
          },
          "metadata": {},
          "output_type": "display_data"
        },
        {
          "name": "stdout",
          "output_type": "stream",
          "text": [
            "\n",
            "» Constructing 'blimp_from_file+null' contexts and requests\n"
          ]
        },
        {
          "name": "stderr",
          "output_type": "stream",
          "text": [
            "INFO:lm_eval.evaluator:\n",
            "» Constructing 'blimp_from_file+null' contexts and requests\n",
            "100%|██████████| 1956/1956 [00:00<00:00, 6124.56it/s]"
          ]
        },
        {
          "name": "stdout",
          "output_type": "stream",
          "text": [
            "\n",
            "» Running all `loglikelihood` requests\n"
          ]
        },
        {
          "name": "stderr",
          "output_type": "stream",
          "text": [
            "\n",
            "INFO:lm_eval.evaluator:\n",
            "» Running all `loglikelihood` requests\n",
            "100%|██████████| 3912/3912 [00:24<00:00, 156.56it/s]\n"
          ]
        },
        {
          "name": "stdout",
          "output_type": "stream",
          "text": [
            "anaphor_agreement:\t58.74%\n"
          ]
        },
        {
          "data": {
            "application/vnd.jupyter.widget-view+json": {
              "model_id": "7f732eaba701434ca95a113d82a9d869",
              "version_major": 2,
              "version_minor": 0
            },
            "text/plain": [
              "Generating train split:   0%|          | 0/8248 [00:00<?, ? examples/s]"
            ]
          },
          "metadata": {},
          "output_type": "display_data"
        },
        {
          "name": "stdout",
          "output_type": "stream",
          "text": [
            "\n",
            "» Assigning unique IDs to 'blimp_from_file+null' docs\n"
          ]
        },
        {
          "name": "stderr",
          "output_type": "stream",
          "text": [
            "INFO:lm_eval.evaluator:\n",
            "» Assigning unique IDs to 'blimp_from_file+null' docs\n"
          ]
        },
        {
          "data": {
            "application/vnd.jupyter.widget-view+json": {
              "model_id": "8c27c557b4854eb0b7cef7afe16ced8b",
              "version_major": 2,
              "version_minor": 0
            },
            "text/plain": [
              "Map:   0%|          | 0/8248 [00:00<?, ? examples/s]"
            ]
          },
          "metadata": {},
          "output_type": "display_data"
        },
        {
          "name": "stdout",
          "output_type": "stream",
          "text": [
            "\n",
            "» Filtering invalid docs from 'blimp_from_file+null'\n"
          ]
        },
        {
          "name": "stderr",
          "output_type": "stream",
          "text": [
            "INFO:lm_eval.evaluator:\n",
            "» Filtering invalid docs from 'blimp_from_file+null'\n"
          ]
        },
        {
          "data": {
            "application/vnd.jupyter.widget-view+json": {
              "model_id": "8d8f098ec8f24bd3b86341a0586243e9",
              "version_major": 2,
              "version_minor": 0
            },
            "text/plain": [
              "Filter:   0%|          | 0/8248 [00:00<?, ? examples/s]"
            ]
          },
          "metadata": {},
          "output_type": "display_data"
        },
        {
          "name": "stdout",
          "output_type": "stream",
          "text": [
            "\n",
            "» Constructing 'blimp_from_file+null' contexts and requests\n"
          ]
        },
        {
          "name": "stderr",
          "output_type": "stream",
          "text": [
            "INFO:lm_eval.evaluator:\n",
            "» Constructing 'blimp_from_file+null' contexts and requests\n",
            "100%|██████████| 8248/8248 [00:01<00:00, 4900.14it/s]"
          ]
        },
        {
          "name": "stdout",
          "output_type": "stream",
          "text": [
            "\n",
            "» Running all `loglikelihood` requests\n"
          ]
        },
        {
          "name": "stderr",
          "output_type": "stream",
          "text": [
            "\n",
            "INFO:lm_eval.evaluator:\n",
            "» Running all `loglikelihood` requests\n",
            "100%|██████████| 16496/16496 [01:48<00:00, 151.91it/s]\n"
          ]
        },
        {
          "name": "stdout",
          "output_type": "stream",
          "text": [
            "argument_structure:\t59.93%\n"
          ]
        },
        {
          "data": {
            "application/vnd.jupyter.widget-view+json": {
              "model_id": "68e5dacd98034bdbb4780a1ea143e3ff",
              "version_major": 2,
              "version_minor": 0
            },
            "text/plain": [
              "Generating train split:   0%|          | 0/6738 [00:00<?, ? examples/s]"
            ]
          },
          "metadata": {},
          "output_type": "display_data"
        },
        {
          "name": "stdout",
          "output_type": "stream",
          "text": [
            "\n",
            "» Assigning unique IDs to 'blimp_from_file+null' docs\n"
          ]
        },
        {
          "name": "stderr",
          "output_type": "stream",
          "text": [
            "INFO:lm_eval.evaluator:\n",
            "» Assigning unique IDs to 'blimp_from_file+null' docs\n"
          ]
        },
        {
          "data": {
            "application/vnd.jupyter.widget-view+json": {
              "model_id": "f7ace24a37024d0b8585ea5a9c94e161",
              "version_major": 2,
              "version_minor": 0
            },
            "text/plain": [
              "Map:   0%|          | 0/6738 [00:00<?, ? examples/s]"
            ]
          },
          "metadata": {},
          "output_type": "display_data"
        },
        {
          "name": "stdout",
          "output_type": "stream",
          "text": [
            "\n",
            "» Filtering invalid docs from 'blimp_from_file+null'\n"
          ]
        },
        {
          "name": "stderr",
          "output_type": "stream",
          "text": [
            "INFO:lm_eval.evaluator:\n",
            "» Filtering invalid docs from 'blimp_from_file+null'\n"
          ]
        },
        {
          "data": {
            "application/vnd.jupyter.widget-view+json": {
              "model_id": "42eed15de7c34487aac4eb25429d2bf7",
              "version_major": 2,
              "version_minor": 0
            },
            "text/plain": [
              "Filter:   0%|          | 0/6738 [00:00<?, ? examples/s]"
            ]
          },
          "metadata": {},
          "output_type": "display_data"
        },
        {
          "name": "stdout",
          "output_type": "stream",
          "text": [
            "\n",
            "» Constructing 'blimp_from_file+null' contexts and requests\n"
          ]
        },
        {
          "name": "stderr",
          "output_type": "stream",
          "text": [
            "INFO:lm_eval.evaluator:\n",
            "» Constructing 'blimp_from_file+null' contexts and requests\n",
            "100%|██████████| 6738/6738 [00:01<00:00, 6396.48it/s]"
          ]
        },
        {
          "name": "stdout",
          "output_type": "stream",
          "text": [
            "\n",
            "» Running all `loglikelihood` requests\n"
          ]
        },
        {
          "name": "stderr",
          "output_type": "stream",
          "text": [
            "\n",
            "INFO:lm_eval.evaluator:\n",
            "» Running all `loglikelihood` requests\n",
            "100%|██████████| 13476/13476 [01:34<00:00, 143.30it/s]\n"
          ]
        },
        {
          "name": "stdout",
          "output_type": "stream",
          "text": [
            "binding:\t60.00%\n"
          ]
        },
        {
          "data": {
            "application/vnd.jupyter.widget-view+json": {
              "model_id": "e5c662c6962b441d895864e32bdf70ad",
              "version_major": 2,
              "version_minor": 0
            },
            "text/plain": [
              "Generating train split:   0%|          | 0/4526 [00:00<?, ? examples/s]"
            ]
          },
          "metadata": {},
          "output_type": "display_data"
        },
        {
          "name": "stdout",
          "output_type": "stream",
          "text": [
            "\n",
            "» Assigning unique IDs to 'blimp_from_file+null' docs\n"
          ]
        },
        {
          "name": "stderr",
          "output_type": "stream",
          "text": [
            "INFO:lm_eval.evaluator:\n",
            "» Assigning unique IDs to 'blimp_from_file+null' docs\n"
          ]
        },
        {
          "data": {
            "application/vnd.jupyter.widget-view+json": {
              "model_id": "894b3302917f4c74b4c97293b0842560",
              "version_major": 2,
              "version_minor": 0
            },
            "text/plain": [
              "Map:   0%|          | 0/4526 [00:00<?, ? examples/s]"
            ]
          },
          "metadata": {},
          "output_type": "display_data"
        },
        {
          "name": "stdout",
          "output_type": "stream",
          "text": [
            "\n",
            "» Filtering invalid docs from 'blimp_from_file+null'\n"
          ]
        },
        {
          "name": "stderr",
          "output_type": "stream",
          "text": [
            "INFO:lm_eval.evaluator:\n",
            "» Filtering invalid docs from 'blimp_from_file+null'\n"
          ]
        },
        {
          "data": {
            "application/vnd.jupyter.widget-view+json": {
              "model_id": "d4539ce5be4f4836b2ca3d1d9b43c2b6",
              "version_major": 2,
              "version_minor": 0
            },
            "text/plain": [
              "Filter:   0%|          | 0/4526 [00:00<?, ? examples/s]"
            ]
          },
          "metadata": {},
          "output_type": "display_data"
        },
        {
          "name": "stdout",
          "output_type": "stream",
          "text": [
            "\n",
            "» Constructing 'blimp_from_file+null' contexts and requests\n"
          ]
        },
        {
          "name": "stderr",
          "output_type": "stream",
          "text": [
            "INFO:lm_eval.evaluator:\n",
            "» Constructing 'blimp_from_file+null' contexts and requests\n",
            "100%|██████████| 4526/4526 [00:00<00:00, 6311.88it/s]"
          ]
        },
        {
          "name": "stdout",
          "output_type": "stream",
          "text": [
            "\n",
            "» Running all `loglikelihood` requests\n"
          ]
        },
        {
          "name": "stderr",
          "output_type": "stream",
          "text": [
            "\n",
            "INFO:lm_eval.evaluator:\n",
            "» Running all `loglikelihood` requests\n",
            "100%|██████████| 9052/9052 [01:05<00:00, 137.45it/s]\n"
          ]
        },
        {
          "name": "stdout",
          "output_type": "stream",
          "text": [
            "control_raising:\t58.02%\n"
          ]
        },
        {
          "data": {
            "application/vnd.jupyter.widget-view+json": {
              "model_id": "61e8931061ea4bed9511b232d5f38b06",
              "version_major": 2,
              "version_minor": 0
            },
            "text/plain": [
              "Generating train split:   0%|          | 0/7542 [00:00<?, ? examples/s]"
            ]
          },
          "metadata": {},
          "output_type": "display_data"
        },
        {
          "name": "stdout",
          "output_type": "stream",
          "text": [
            "\n",
            "» Assigning unique IDs to 'blimp_from_file+null' docs\n"
          ]
        },
        {
          "name": "stderr",
          "output_type": "stream",
          "text": [
            "INFO:lm_eval.evaluator:\n",
            "» Assigning unique IDs to 'blimp_from_file+null' docs\n"
          ]
        },
        {
          "data": {
            "application/vnd.jupyter.widget-view+json": {
              "model_id": "16ce05bc163a412d8b62b1c178574344",
              "version_major": 2,
              "version_minor": 0
            },
            "text/plain": [
              "Map:   0%|          | 0/7542 [00:00<?, ? examples/s]"
            ]
          },
          "metadata": {},
          "output_type": "display_data"
        },
        {
          "name": "stdout",
          "output_type": "stream",
          "text": [
            "\n",
            "» Filtering invalid docs from 'blimp_from_file+null'\n"
          ]
        },
        {
          "name": "stderr",
          "output_type": "stream",
          "text": [
            "INFO:lm_eval.evaluator:\n",
            "» Filtering invalid docs from 'blimp_from_file+null'\n"
          ]
        },
        {
          "data": {
            "application/vnd.jupyter.widget-view+json": {
              "model_id": "90b0449326c64e2a85f622f20ff1912d",
              "version_major": 2,
              "version_minor": 0
            },
            "text/plain": [
              "Filter:   0%|          | 0/7542 [00:00<?, ? examples/s]"
            ]
          },
          "metadata": {},
          "output_type": "display_data"
        },
        {
          "name": "stdout",
          "output_type": "stream",
          "text": [
            "\n",
            "» Constructing 'blimp_from_file+null' contexts and requests\n"
          ]
        },
        {
          "name": "stderr",
          "output_type": "stream",
          "text": [
            "INFO:lm_eval.evaluator:\n",
            "» Constructing 'blimp_from_file+null' contexts and requests\n",
            "100%|██████████| 7542/7542 [00:01<00:00, 4661.73it/s]"
          ]
        },
        {
          "name": "stdout",
          "output_type": "stream",
          "text": [
            "\n",
            "» Running all `loglikelihood` requests\n"
          ]
        },
        {
          "name": "stderr",
          "output_type": "stream",
          "text": [
            "\n",
            "INFO:lm_eval.evaluator:\n",
            "» Running all `loglikelihood` requests\n",
            "100%|██████████| 15084/15084 [01:43<00:00, 146.10it/s]\n"
          ]
        },
        {
          "name": "stdout",
          "output_type": "stream",
          "text": [
            "determiner_noun_agreement:\t61.83%\n"
          ]
        },
        {
          "data": {
            "application/vnd.jupyter.widget-view+json": {
              "model_id": "8595c01452ce47dc983392f9cecb5293",
              "version_major": 2,
              "version_minor": 0
            },
            "text/plain": [
              "Generating train split:   0%|          | 0/1732 [00:00<?, ? examples/s]"
            ]
          },
          "metadata": {},
          "output_type": "display_data"
        },
        {
          "name": "stdout",
          "output_type": "stream",
          "text": [
            "\n",
            "» Assigning unique IDs to 'blimp_from_file+null' docs\n"
          ]
        },
        {
          "name": "stderr",
          "output_type": "stream",
          "text": [
            "INFO:lm_eval.evaluator:\n",
            "» Assigning unique IDs to 'blimp_from_file+null' docs\n"
          ]
        },
        {
          "data": {
            "application/vnd.jupyter.widget-view+json": {
              "model_id": "870a76c3f8d240b4941ce162ded19cd5",
              "version_major": 2,
              "version_minor": 0
            },
            "text/plain": [
              "Map:   0%|          | 0/1732 [00:00<?, ? examples/s]"
            ]
          },
          "metadata": {},
          "output_type": "display_data"
        },
        {
          "name": "stdout",
          "output_type": "stream",
          "text": [
            "\n",
            "» Filtering invalid docs from 'blimp_from_file+null'\n"
          ]
        },
        {
          "name": "stderr",
          "output_type": "stream",
          "text": [
            "INFO:lm_eval.evaluator:\n",
            "» Filtering invalid docs from 'blimp_from_file+null'\n"
          ]
        },
        {
          "data": {
            "application/vnd.jupyter.widget-view+json": {
              "model_id": "5ce366b8ed55447ca51df96788a66ddd",
              "version_major": 2,
              "version_minor": 0
            },
            "text/plain": [
              "Filter:   0%|          | 0/1732 [00:00<?, ? examples/s]"
            ]
          },
          "metadata": {},
          "output_type": "display_data"
        },
        {
          "name": "stdout",
          "output_type": "stream",
          "text": [
            "\n",
            "» Constructing 'blimp_from_file+null' contexts and requests\n"
          ]
        },
        {
          "name": "stderr",
          "output_type": "stream",
          "text": [
            "INFO:lm_eval.evaluator:\n",
            "» Constructing 'blimp_from_file+null' contexts and requests\n",
            "100%|██████████| 1732/1732 [00:00<00:00, 6366.48it/s]"
          ]
        },
        {
          "name": "stdout",
          "output_type": "stream",
          "text": [
            "\n",
            "» Running all `loglikelihood` requests\n"
          ]
        },
        {
          "name": "stderr",
          "output_type": "stream",
          "text": [
            "\n",
            "INFO:lm_eval.evaluator:\n",
            "» Running all `loglikelihood` requests\n",
            "100%|██████████| 3464/3464 [00:26<00:00, 130.25it/s]\n"
          ]
        },
        {
          "name": "stdout",
          "output_type": "stream",
          "text": [
            "ellipsis:\t34.24%\n"
          ]
        },
        {
          "data": {
            "application/vnd.jupyter.widget-view+json": {
              "model_id": "de86577416d5479b852b75b42ab13dbe",
              "version_major": 2,
              "version_minor": 0
            },
            "text/plain": [
              "Generating train split:   0%|          | 0/6426 [00:00<?, ? examples/s]"
            ]
          },
          "metadata": {},
          "output_type": "display_data"
        },
        {
          "name": "stdout",
          "output_type": "stream",
          "text": [
            "\n",
            "» Assigning unique IDs to 'blimp_from_file+null' docs\n"
          ]
        },
        {
          "name": "stderr",
          "output_type": "stream",
          "text": [
            "INFO:lm_eval.evaluator:\n",
            "» Assigning unique IDs to 'blimp_from_file+null' docs\n"
          ]
        },
        {
          "data": {
            "application/vnd.jupyter.widget-view+json": {
              "model_id": "11552cf9631347b7b3be1956df7554a3",
              "version_major": 2,
              "version_minor": 0
            },
            "text/plain": [
              "Map:   0%|          | 0/6426 [00:00<?, ? examples/s]"
            ]
          },
          "metadata": {},
          "output_type": "display_data"
        },
        {
          "name": "stdout",
          "output_type": "stream",
          "text": [
            "\n",
            "» Filtering invalid docs from 'blimp_from_file+null'\n"
          ]
        },
        {
          "name": "stderr",
          "output_type": "stream",
          "text": [
            "INFO:lm_eval.evaluator:\n",
            "» Filtering invalid docs from 'blimp_from_file+null'\n"
          ]
        },
        {
          "data": {
            "application/vnd.jupyter.widget-view+json": {
              "model_id": "76db65fe062c48928a69161ccc5e2bcd",
              "version_major": 2,
              "version_minor": 0
            },
            "text/plain": [
              "Filter:   0%|          | 0/6426 [00:00<?, ? examples/s]"
            ]
          },
          "metadata": {},
          "output_type": "display_data"
        },
        {
          "name": "stdout",
          "output_type": "stream",
          "text": [
            "\n",
            "» Constructing 'blimp_from_file+null' contexts and requests\n"
          ]
        },
        {
          "name": "stderr",
          "output_type": "stream",
          "text": [
            "INFO:lm_eval.evaluator:\n",
            "» Constructing 'blimp_from_file+null' contexts and requests\n",
            "100%|██████████| 6426/6426 [00:01<00:00, 6357.61it/s]"
          ]
        },
        {
          "name": "stdout",
          "output_type": "stream",
          "text": [
            "\n",
            "» Running all `loglikelihood` requests\n"
          ]
        },
        {
          "name": "stderr",
          "output_type": "stream",
          "text": [
            "\n",
            "INFO:lm_eval.evaluator:\n",
            "» Running all `loglikelihood` requests\n",
            "100%|██████████| 12852/12852 [01:32<00:00, 138.29it/s]\n"
          ]
        },
        {
          "name": "stdout",
          "output_type": "stream",
          "text": [
            "filler_gap:\t60.04%\n"
          ]
        },
        {
          "data": {
            "application/vnd.jupyter.widget-view+json": {
              "model_id": "75b5b222c9d44ebaa9f3c1be913c5c78",
              "version_major": 2,
              "version_minor": 0
            },
            "text/plain": [
              "Generating train split:   0%|          | 0/1965 [00:00<?, ? examples/s]"
            ]
          },
          "metadata": {},
          "output_type": "display_data"
        },
        {
          "name": "stdout",
          "output_type": "stream",
          "text": [
            "\n",
            "» Assigning unique IDs to 'blimp_from_file+null' docs\n"
          ]
        },
        {
          "name": "stderr",
          "output_type": "stream",
          "text": [
            "INFO:lm_eval.evaluator:\n",
            "» Assigning unique IDs to 'blimp_from_file+null' docs\n"
          ]
        },
        {
          "data": {
            "application/vnd.jupyter.widget-view+json": {
              "model_id": "defabc6227a644c382f95cd0f90683a1",
              "version_major": 2,
              "version_minor": 0
            },
            "text/plain": [
              "Map:   0%|          | 0/1965 [00:00<?, ? examples/s]"
            ]
          },
          "metadata": {},
          "output_type": "display_data"
        },
        {
          "name": "stdout",
          "output_type": "stream",
          "text": [
            "\n",
            "» Filtering invalid docs from 'blimp_from_file+null'\n"
          ]
        },
        {
          "name": "stderr",
          "output_type": "stream",
          "text": [
            "INFO:lm_eval.evaluator:\n",
            "» Filtering invalid docs from 'blimp_from_file+null'\n"
          ]
        },
        {
          "data": {
            "application/vnd.jupyter.widget-view+json": {
              "model_id": "d0aadc60fa9d49ea84bffbee7d231c9a",
              "version_major": 2,
              "version_minor": 0
            },
            "text/plain": [
              "Filter:   0%|          | 0/1965 [00:00<?, ? examples/s]"
            ]
          },
          "metadata": {},
          "output_type": "display_data"
        },
        {
          "name": "stdout",
          "output_type": "stream",
          "text": [
            "\n",
            "» Constructing 'blimp_from_file+null' contexts and requests\n"
          ]
        },
        {
          "name": "stderr",
          "output_type": "stream",
          "text": [
            "INFO:lm_eval.evaluator:\n",
            "» Constructing 'blimp_from_file+null' contexts and requests\n",
            "100%|██████████| 1965/1965 [00:00<00:00, 6234.56it/s]"
          ]
        },
        {
          "name": "stdout",
          "output_type": "stream",
          "text": [
            "\n",
            "» Running all `loglikelihood` requests\n"
          ]
        },
        {
          "name": "stderr",
          "output_type": "stream",
          "text": [
            "\n",
            "INFO:lm_eval.evaluator:\n",
            "» Running all `loglikelihood` requests\n",
            "100%|██████████| 3930/3930 [00:24<00:00, 158.62it/s]\n"
          ]
        },
        {
          "name": "stdout",
          "output_type": "stream",
          "text": [
            "irregular_forms:\t82.19%\n"
          ]
        },
        {
          "data": {
            "application/vnd.jupyter.widget-view+json": {
              "model_id": "10ebb7c39421461789e9bd887506018e",
              "version_major": 2,
              "version_minor": 0
            },
            "text/plain": [
              "Generating train split:   0%|          | 0/2676 [00:00<?, ? examples/s]"
            ]
          },
          "metadata": {},
          "output_type": "display_data"
        },
        {
          "name": "stdout",
          "output_type": "stream",
          "text": [
            "\n",
            "» Assigning unique IDs to 'blimp_from_file+null' docs\n"
          ]
        },
        {
          "name": "stderr",
          "output_type": "stream",
          "text": [
            "INFO:lm_eval.evaluator:\n",
            "» Assigning unique IDs to 'blimp_from_file+null' docs\n"
          ]
        },
        {
          "data": {
            "application/vnd.jupyter.widget-view+json": {
              "model_id": "b5904185982d47318c84467b870fc34a",
              "version_major": 2,
              "version_minor": 0
            },
            "text/plain": [
              "Map:   0%|          | 0/2676 [00:00<?, ? examples/s]"
            ]
          },
          "metadata": {},
          "output_type": "display_data"
        },
        {
          "name": "stdout",
          "output_type": "stream",
          "text": [
            "\n",
            "» Filtering invalid docs from 'blimp_from_file+null'\n"
          ]
        },
        {
          "name": "stderr",
          "output_type": "stream",
          "text": [
            "INFO:lm_eval.evaluator:\n",
            "» Filtering invalid docs from 'blimp_from_file+null'\n"
          ]
        },
        {
          "data": {
            "application/vnd.jupyter.widget-view+json": {
              "model_id": "6c8843b026854642a1504d4a11ba0ac2",
              "version_major": 2,
              "version_minor": 0
            },
            "text/plain": [
              "Filter:   0%|          | 0/2676 [00:00<?, ? examples/s]"
            ]
          },
          "metadata": {},
          "output_type": "display_data"
        },
        {
          "name": "stdout",
          "output_type": "stream",
          "text": [
            "\n",
            "» Constructing 'blimp_from_file+null' contexts and requests\n"
          ]
        },
        {
          "name": "stderr",
          "output_type": "stream",
          "text": [
            "INFO:lm_eval.evaluator:\n",
            "» Constructing 'blimp_from_file+null' contexts and requests\n",
            "100%|██████████| 2676/2676 [00:00<00:00, 6301.68it/s]"
          ]
        },
        {
          "name": "stdout",
          "output_type": "stream",
          "text": [
            "\n",
            "» Running all `loglikelihood` requests\n"
          ]
        },
        {
          "name": "stderr",
          "output_type": "stream",
          "text": [
            "\n",
            "INFO:lm_eval.evaluator:\n",
            "» Running all `loglikelihood` requests\n",
            "100%|██████████| 5352/5352 [00:37<00:00, 142.71it/s]\n"
          ]
        },
        {
          "name": "stdout",
          "output_type": "stream",
          "text": [
            "island_effects:\t45.70%\n"
          ]
        },
        {
          "data": {
            "application/vnd.jupyter.widget-view+json": {
              "model_id": "c3d008fbfcbe4c30825a48ea066e15b6",
              "version_major": 2,
              "version_minor": 0
            },
            "text/plain": [
              "Generating train split:   0%|          | 0/6586 [00:00<?, ? examples/s]"
            ]
          },
          "metadata": {},
          "output_type": "display_data"
        },
        {
          "name": "stdout",
          "output_type": "stream",
          "text": [
            "\n",
            "» Assigning unique IDs to 'blimp_from_file+null' docs\n"
          ]
        },
        {
          "name": "stderr",
          "output_type": "stream",
          "text": [
            "INFO:lm_eval.evaluator:\n",
            "» Assigning unique IDs to 'blimp_from_file+null' docs\n"
          ]
        },
        {
          "data": {
            "application/vnd.jupyter.widget-view+json": {
              "model_id": "15a55ab9c2674d7d80cd7b01f0d81bec",
              "version_major": 2,
              "version_minor": 0
            },
            "text/plain": [
              "Map:   0%|          | 0/6586 [00:00<?, ? examples/s]"
            ]
          },
          "metadata": {},
          "output_type": "display_data"
        },
        {
          "name": "stdout",
          "output_type": "stream",
          "text": [
            "\n",
            "» Filtering invalid docs from 'blimp_from_file+null'\n"
          ]
        },
        {
          "name": "stderr",
          "output_type": "stream",
          "text": [
            "INFO:lm_eval.evaluator:\n",
            "» Filtering invalid docs from 'blimp_from_file+null'\n"
          ]
        },
        {
          "data": {
            "application/vnd.jupyter.widget-view+json": {
              "model_id": "bff5fd22a89f41cdb460dd4e2374c9bf",
              "version_major": 2,
              "version_minor": 0
            },
            "text/plain": [
              "Filter:   0%|          | 0/6586 [00:00<?, ? examples/s]"
            ]
          },
          "metadata": {},
          "output_type": "display_data"
        },
        {
          "name": "stdout",
          "output_type": "stream",
          "text": [
            "\n",
            "» Constructing 'blimp_from_file+null' contexts and requests\n"
          ]
        },
        {
          "name": "stderr",
          "output_type": "stream",
          "text": [
            "INFO:lm_eval.evaluator:\n",
            "» Constructing 'blimp_from_file+null' contexts and requests\n",
            "100%|██████████| 6586/6586 [00:01<00:00, 6345.23it/s]"
          ]
        },
        {
          "name": "stdout",
          "output_type": "stream",
          "text": [
            "\n",
            "» Running all `loglikelihood` requests\n"
          ]
        },
        {
          "name": "stderr",
          "output_type": "stream",
          "text": [
            "\n",
            "INFO:lm_eval.evaluator:\n",
            "» Running all `loglikelihood` requests\n",
            "100%|██████████| 13172/13172 [01:29<00:00, 147.46it/s]\n"
          ]
        },
        {
          "name": "stdout",
          "output_type": "stream",
          "text": [
            "npi_licensing:\t41.09%\n"
          ]
        },
        {
          "data": {
            "application/vnd.jupyter.widget-view+json": {
              "model_id": "fb8c6a744a19404a877cbe5e117f2927",
              "version_major": 2,
              "version_minor": 0
            },
            "text/plain": [
              "Generating train split:   0%|          | 0/3882 [00:00<?, ? examples/s]"
            ]
          },
          "metadata": {},
          "output_type": "display_data"
        },
        {
          "name": "stdout",
          "output_type": "stream",
          "text": [
            "\n",
            "» Assigning unique IDs to 'blimp_from_file+null' docs\n"
          ]
        },
        {
          "name": "stderr",
          "output_type": "stream",
          "text": [
            "INFO:lm_eval.evaluator:\n",
            "» Assigning unique IDs to 'blimp_from_file+null' docs\n"
          ]
        },
        {
          "data": {
            "application/vnd.jupyter.widget-view+json": {
              "model_id": "1f27057e48114842a16670ed1f15aaab",
              "version_major": 2,
              "version_minor": 0
            },
            "text/plain": [
              "Map:   0%|          | 0/3882 [00:00<?, ? examples/s]"
            ]
          },
          "metadata": {},
          "output_type": "display_data"
        },
        {
          "name": "stdout",
          "output_type": "stream",
          "text": [
            "\n",
            "» Filtering invalid docs from 'blimp_from_file+null'\n"
          ]
        },
        {
          "name": "stderr",
          "output_type": "stream",
          "text": [
            "INFO:lm_eval.evaluator:\n",
            "» Filtering invalid docs from 'blimp_from_file+null'\n"
          ]
        },
        {
          "data": {
            "application/vnd.jupyter.widget-view+json": {
              "model_id": "f93b6b6a114e4edab57bdc7f9ba9954d",
              "version_major": 2,
              "version_minor": 0
            },
            "text/plain": [
              "Filter:   0%|          | 0/3882 [00:00<?, ? examples/s]"
            ]
          },
          "metadata": {},
          "output_type": "display_data"
        },
        {
          "name": "stdout",
          "output_type": "stream",
          "text": [
            "\n",
            "» Constructing 'blimp_from_file+null' contexts and requests\n"
          ]
        },
        {
          "name": "stderr",
          "output_type": "stream",
          "text": [
            "INFO:lm_eval.evaluator:\n",
            "» Constructing 'blimp_from_file+null' contexts and requests\n",
            "100%|██████████| 3882/3882 [00:00<00:00, 4172.29it/s]"
          ]
        },
        {
          "name": "stdout",
          "output_type": "stream",
          "text": [
            "\n",
            "» Running all `loglikelihood` requests\n"
          ]
        },
        {
          "name": "stderr",
          "output_type": "stream",
          "text": [
            "\n",
            "INFO:lm_eval.evaluator:\n",
            "» Running all `loglikelihood` requests\n",
            "100%|██████████| 7764/7764 [00:52<00:00, 149.13it/s]\n"
          ]
        },
        {
          "name": "stdout",
          "output_type": "stream",
          "text": [
            "quantifiers:\t53.09%\n"
          ]
        },
        {
          "data": {
            "application/vnd.jupyter.widget-view+json": {
              "model_id": "4a49fb767d7b4e499522eac47934ec37",
              "version_major": 2,
              "version_minor": 0
            },
            "text/plain": [
              "Generating train split:   0%|          | 0/5535 [00:00<?, ? examples/s]"
            ]
          },
          "metadata": {},
          "output_type": "display_data"
        },
        {
          "name": "stdout",
          "output_type": "stream",
          "text": [
            "\n",
            "» Assigning unique IDs to 'blimp_from_file+null' docs\n"
          ]
        },
        {
          "name": "stderr",
          "output_type": "stream",
          "text": [
            "INFO:lm_eval.evaluator:\n",
            "» Assigning unique IDs to 'blimp_from_file+null' docs\n"
          ]
        },
        {
          "data": {
            "application/vnd.jupyter.widget-view+json": {
              "model_id": "7eb91f0bd14848779c2c1a4d3b19b377",
              "version_major": 2,
              "version_minor": 0
            },
            "text/plain": [
              "Map:   0%|          | 0/5535 [00:00<?, ? examples/s]"
            ]
          },
          "metadata": {},
          "output_type": "display_data"
        },
        {
          "name": "stdout",
          "output_type": "stream",
          "text": [
            "\n",
            "» Filtering invalid docs from 'blimp_from_file+null'\n"
          ]
        },
        {
          "name": "stderr",
          "output_type": "stream",
          "text": [
            "INFO:lm_eval.evaluator:\n",
            "» Filtering invalid docs from 'blimp_from_file+null'\n"
          ]
        },
        {
          "data": {
            "application/vnd.jupyter.widget-view+json": {
              "model_id": "7808595d6f834981858ca44b51a975f7",
              "version_major": 2,
              "version_minor": 0
            },
            "text/plain": [
              "Filter:   0%|          | 0/5535 [00:00<?, ? examples/s]"
            ]
          },
          "metadata": {},
          "output_type": "display_data"
        },
        {
          "name": "stdout",
          "output_type": "stream",
          "text": [
            "\n",
            "» Constructing 'blimp_from_file+null' contexts and requests\n"
          ]
        },
        {
          "name": "stderr",
          "output_type": "stream",
          "text": [
            "INFO:lm_eval.evaluator:\n",
            "» Constructing 'blimp_from_file+null' contexts and requests\n",
            "100%|██████████| 5535/5535 [00:01<00:00, 4193.66it/s]"
          ]
        },
        {
          "name": "stdout",
          "output_type": "stream",
          "text": [
            "\n",
            "» Running all `loglikelihood` requests\n"
          ]
        },
        {
          "name": "stderr",
          "output_type": "stream",
          "text": [
            "\n",
            "INFO:lm_eval.evaluator:\n",
            "» Running all `loglikelihood` requests\n",
            "100%|██████████| 11070/11070 [01:13<00:00, 151.32it/s]\n"
          ]
        },
        {
          "name": "stdout",
          "output_type": "stream",
          "text": [
            "subject_verb_agreement:\t51.83%\n"
          ]
        },
        {
          "data": {
            "application/vnd.jupyter.widget-view+json": {
              "model_id": "25804bec8fe74ec9a6d6015cd95e37c1",
              "version_major": 2,
              "version_minor": 0
            },
            "text/plain": [
              "Generating train split:   0%|          | 0/4394 [00:00<?, ? examples/s]"
            ]
          },
          "metadata": {},
          "output_type": "display_data"
        },
        {
          "name": "stdout",
          "output_type": "stream",
          "text": [
            "\n",
            "» Assigning unique IDs to 'blimp_from_file+null' docs\n"
          ]
        },
        {
          "name": "stderr",
          "output_type": "stream",
          "text": [
            "INFO:lm_eval.evaluator:\n",
            "» Assigning unique IDs to 'blimp_from_file+null' docs\n"
          ]
        },
        {
          "data": {
            "application/vnd.jupyter.widget-view+json": {
              "model_id": "122b89be9ecb438d8341189c41d4f3dd",
              "version_major": 2,
              "version_minor": 0
            },
            "text/plain": [
              "Map:   0%|          | 0/4394 [00:00<?, ? examples/s]"
            ]
          },
          "metadata": {},
          "output_type": "display_data"
        },
        {
          "name": "stdout",
          "output_type": "stream",
          "text": [
            "\n",
            "» Filtering invalid docs from 'blimp_from_file+null'\n"
          ]
        },
        {
          "name": "stderr",
          "output_type": "stream",
          "text": [
            "INFO:lm_eval.evaluator:\n",
            "» Filtering invalid docs from 'blimp_from_file+null'\n"
          ]
        },
        {
          "data": {
            "application/vnd.jupyter.widget-view+json": {
              "model_id": "f7ce32305adb427dbab04ee138cc3c3e",
              "version_major": 2,
              "version_minor": 0
            },
            "text/plain": [
              "Filter:   0%|          | 0/4394 [00:00<?, ? examples/s]"
            ]
          },
          "metadata": {},
          "output_type": "display_data"
        },
        {
          "name": "stdout",
          "output_type": "stream",
          "text": [
            "\n",
            "» Constructing 'blimp_from_file+null' contexts and requests\n"
          ]
        },
        {
          "name": "stderr",
          "output_type": "stream",
          "text": [
            "INFO:lm_eval.evaluator:\n",
            "» Constructing 'blimp_from_file+null' contexts and requests\n",
            "100%|██████████| 4394/4394 [00:00<00:00, 6206.07it/s]"
          ]
        },
        {
          "name": "stdout",
          "output_type": "stream",
          "text": [
            "\n",
            "» Running all `loglikelihood` requests\n"
          ]
        },
        {
          "name": "stderr",
          "output_type": "stream",
          "text": [
            "\n",
            "INFO:lm_eval.evaluator:\n",
            "» Running all `loglikelihood` requests\n",
            "100%|██████████| 8788/8788 [01:20<00:00, 109.82it/s]\n",
            "/content/evaluation-pipeline/lm_eval/api/task.py:589: RuntimeWarning: divide by zero encountered in divide\n",
            "  if np.argmax(results / completion_len) == target_idx\n"
          ]
        },
        {
          "name": "stdout",
          "output_type": "stream",
          "text": [
            "preposition:\t55.85%\n",
            "\n",
            "Scores:\n",
            "anaphor_agreement:\t58.74%\n",
            "argument_structure:\t59.93%\n",
            "binding:\t60.00%\n",
            "control_raising:\t58.02%\n",
            "determiner_noun_agreement:\t61.83%\n",
            "ellipsis:\t34.24%\n",
            "filler_gap:\t60.04%\n",
            "irregular_forms:\t82.19%\n",
            "island_effects:\t45.70%\n",
            "npi_licensing:\t41.09%\n",
            "quantifiers:\t53.09%\n",
            "subject_verb_agreement:\t51.83%\n",
            "preposition:\t55.85%\n"
          ]
        }
      ],
      "source": [
        "#@title Load model and evaluate (BLiMP) { display-mode: \"form\" }\n",
        "model = \"/content/drive/MyDrive/VU Thesis/Code/baby_models/V20L4/model_e2_v20_l4/\" #@param {\"type\": \"string\"}\n",
        "model_type = \"encoder\" #@param [\"decoder\", \"encoder\", \"encoder-decoder\"]\n",
        "# file_name = \"examples3.csv\" #@param {\"type\": \"string\"}\n",
        "# model_names = [\"opt-125m\", \"opt-350m\", \"opt-1.3b\", \"opt-2.7b\"] #@param {\"type\": \"raw\"}\n",
        "\n",
        "%cd /content/evaluation-pipeline\n",
        "%run /content/evaluation-pipeline/babylm_eval_prep.py \\\n",
        "  \"$model\" \\\n",
        "  \"$model_type\" \\\n",
        "  -t \"blimp_with_preposition\""
      ]
    },
    {
      "cell_type": "markdown",
      "metadata": {
        "id": "uja6r59spFfM"
      },
      "source": [
        "### Epoch 3"
      ]
    },
    {
      "cell_type": "code",
      "execution_count": null,
      "metadata": {
        "colab": {
          "base_uri": "https://localhost:8080/",
          "height": 1000,
          "referenced_widgets": [
            "f90adfdc454c4abcb91e48da187b46f3",
            "9ae0dea614a94fd38897ac278df78682",
            "130b73b3ef02452aa3dff278274ce0a9",
            "de307d8699b94316a28d8a13eb71e7e7",
            "3c455d4a890b4f6bbaf86493144afea8",
            "c893a1299b7947958db136e401fcb2a3",
            "adae1270903d444e9707c29cec890254",
            "1fe9bd724e474b02bbd5a44d04e1701d",
            "993c8afbb02b492c8c8225672edbf9bd",
            "ae719f080b994577be516cc4699932b0",
            "5767836d32c7447482923946667a30b1",
            "20c34d532d8c4cd29b98eb44e474829c",
            "438d82fa14db45fb8270660bd11337f4",
            "f89d3b830f454d588cf2baf3d8ac2d29",
            "3eb6e56ef35145ed8e04f44a98493023",
            "992739b9409342b49c2d529a9e17e80e",
            "d78adc391b82406caeada26f55c6479d",
            "1a143c573cce472e87a085e6c4ad9aa8",
            "e5ad1132495b4dff885b0df2669ef3dc",
            "60ffccd797e4443099bc7d0bbb35e39c",
            "508b8ef2014b4fb284638bbd7db749d9",
            "771e5881bf3b417796949f3e522a8f9e",
            "1cbc07fd33754bb980fe6f253ebaf929",
            "3996eaa6bd8b4954b99fdd521f2af1bd",
            "082eea6f6a50406b9e43cd7b329839e9",
            "4cc9207d211c444bb74934eae56892f0",
            "f74a8a9851af4087835e2b79bfbe1768",
            "513fb3a071de46d186db50058c0e18ea",
            "a0cb79024ebe44f393c94cc8c138fb51",
            "96d4a55f769240abaf6b5417fee9fd7f",
            "e12e0600f2eb493285cffe2cc0099101",
            "6fda2640f22a414dbd4c20bdfcfbb981",
            "d75b617ca1354d3cb2d8b38762ae9fd4",
            "3e34cca655eb488c859a130aeadf983d",
            "461229f1bc0f40f5ab54971397163ca8",
            "19218a7e48fa47299a546724e1bc9bdf",
            "1ae4107c33c840a1b2068b451eff0a98",
            "53e5f2bcf8d84f45bd996fa01c36ac32",
            "ce001292a9404f248a438fa71b450d70",
            "5338b8b8c21e4d528f1ff7e1bf8247a1",
            "9442a006fe054d579a734fc8c739813f",
            "1f3e09e30cc24446857af5d76403a457",
            "85ef9642f24f46ef86f9bc61686d7ca9",
            "b9691aa70c46447d8e6d59d72f3d036f",
            "03f918540a1d48808d54bd2b6a10660b",
            "7ad34b2fbf5d46738f4b211f64c5bbad",
            "2d1529d1a41a4895a9c827fe533cbef2",
            "fd9306c9e26349698c4420003f1be638",
            "43eef553f1144e4c8bce47a6a39793a5",
            "c0c2f30fb9f34877ab2146910a39ee11",
            "ae8bc01da29b4fbfb61097e69fea88fe",
            "2e86c342a1854d44b78f506ae78e3fba",
            "d10a8785d7ee48788b7ba23b348dba64",
            "ae1454dd16dd44b0b077f43e3fe0bf04",
            "a1983148be0840be962f9ddcc02ca577",
            "dec4d2edf7a3421cab9dbd833e7e7e16",
            "844948f304e547f78e87df87d547ecec",
            "75abd20d20824ef399ec66487b8ce37b",
            "639798e1dbba4c19937118a931164d90",
            "2be8e8bb9c5d4a9dad39af0717b68147",
            "cfaf39f97d17430693b14ef4d73d5505",
            "0d356db0e3844be8b9b42bcc6988b2ba",
            "b20205ef5a464d129174afa91252c7dd",
            "52dee0f34d4b4aafa24b46675c3aa868",
            "9af19e71085246e3ba279307d6ef826c",
            "f4a68bffe4474d17b69207afc895048a",
            "c057faf48339444c9f2a878c5cf99c25",
            "35be233a3af446049dc89c770b165a2f",
            "d30e389681ec4fe8ac638ac71ae3d84c",
            "03e3f54331db41b6a1ae41294d85da6f",
            "8faf8e6e41e44b278b6ddde623a87449",
            "9bcb72ed81984458abbef50b7ed4826c",
            "9951b19827e74d01a5278053327a876e",
            "35d2dd9f78c548768d35e8e09451f4cf",
            "d1fdf15bc6624321bb9a79d5cd601753",
            "8a7a17fc0ac242cea762c5520fc13280",
            "8ff7ec665cba447d8f9c91b5e50aae7e",
            "36bae9391d3d4709af6a6e6fbd61ae81",
            "a2ddf905694241e29c5fe497dd23ed5f",
            "4337eb444f4142deb6c3162bbd511f4f",
            "16d61ece7b114b83827110415f22e84a",
            "bf6bbe8309d248568db781a8d7bc4572",
            "d8899f11a2a84525a0ee6558b3b3a7c9",
            "3cf35eae4bfd4e10b615d897133bb547",
            "3b5f48e9fc5143f69cc4a3996318010a",
            "8e8568bf8ed5489a8dfba57517a8b308",
            "43595d05589241eaae515aa6bba82f8d",
            "9953f13ef2ec449f8fd8762d2683dcd9",
            "fbd5076709584194a75855821c2c2676",
            "4ff6f09a43194a6b901d63803f1e244a",
            "58a62dfc9c0c49b1b9489721ecc92bfa",
            "c68bc57fcfb748c591a952fe3a14453b",
            "a48cae6d6510475e86cfd5f5cfe562b6",
            "dc4177471d2a498b96c2cfd3b42bddcf",
            "b25c1ae8747545d9a14d5cae1e56f0f1",
            "d79ce07a82ed48d39e29e4b714137ca6",
            "d2d6170034cd46ca8b9bc37b01172e58",
            "113daf0296bf420e98e756048c9fb581",
            "18b89053972d4668a6e7ea5a14e3961c",
            "12dd858e440b490884d3bf754de29c91",
            "bc9d077c28914465a2f0531481859921",
            "9ebae3576ea945978c7a593d0f3328e0",
            "c7c68e81aadd457392006608326f0409",
            "d4027e4392d34fc9a31d6e000845f1cb",
            "df7ef5e40c734c34ad3542ad19b19d68",
            "edb715f4c9794bb8a729d13da6987538",
            "4fe90d6475b14ba3afe4303f80b58976",
            "526a3560963044dc845219d22ec253cd",
            "373f22c33c16403aa0c67df9b24720b8",
            "1b7dfb12fc0b406190d7c70607d8b848",
            "657863cc86144151bbba252a0a656911",
            "eaa7ab3c5be94ceb8a8c46bdc764e6bb",
            "8b61d6680ebf4898bef0e755d6989ab2",
            "18e14cc0ab2a4687bceb2c256a7bc77d",
            "b8cd9faa5b574977a6f8b35ab1b250ca",
            "b1e1c8fd58ed43c08ece234f9370745a",
            "1e798fdd571d4001821f58824f75c9d7",
            "7a7c8cb41ef24000ae0763cc3a109630",
            "51a973192542486c847ddb97a59c7ace",
            "b0458006878a44e3929864795d6c6a84",
            "7290075a49b84c8998c0f2f03b1f9ce4",
            "d4603c2bab4a48d1a402547da276b490",
            "9e038157f698412d9c62826ef2175e80",
            "4a06181cc084472094690138db7d8b9d",
            "dfd9f5c30bb74aaabb634f9daacf97b4",
            "f8db732fb56e4c11aa8894be7c7202c4",
            "f5cd1a8740b54344bb26ee8b7e937b68",
            "557ae48fe70a4d0a87d0876bac97bd93",
            "87b3719063d94071bb6ef7215a77c153",
            "1c18c9fa634044648867fe9a6c55a448",
            "e6ca03a8d42c4682a1059381c9b01828",
            "afc9098c0b09422992ec4408db309188",
            "28c3961a70c04516a93392c73985bb4a",
            "94b65c2092ea46d0a9546e875b73a67d",
            "ec3b1683f7f14836a6eb4d2846b5a161",
            "7f177c7f5ae6470cb015f90dc5dde03c",
            "c9e3344cbc484183af68850429c326d1",
            "9a18c556825c42459223350273bc30a8",
            "6ac87ba795f04d3f82c274e68249f807",
            "c42442f0a16f46e192422afab9cca25f",
            "8d1e5552432f40aaa1cd666bbf353cde",
            "233cdeeb35764914bc7c6dff629c9380",
            "f06d9735d30b4e05aa4adaacabd83a4c",
            "98bc04a9e11a43759b18a4baa18ccd28",
            "17c32cc6f9f943bfaae0c2fbfcc981ad",
            "e5c62489e1ad435aae80d2a6f357a822",
            "5429c7cf90444e129ecd6f99538fd1d2",
            "05c532609f54462abe75b0de86511254",
            "431f91b46d82412798dd6e020112a246",
            "7695800271f84a439b0e1ac167281efe",
            "8f9c6e82059d494db0ccac960348eb8e",
            "01d38b74db2c49589ba3911d67b39b6c",
            "085337340d57496fabc50040bf54ca58",
            "225d96cb7c9f4ca38d9745b0bc922369",
            "07c061153fa943f08ac801fa6ee00b85",
            "d5446a7f0539495a9e259e04cdf57a9c",
            "0f8ca09118974c669566dc61121361be",
            "9c51739d532b422982c3e287c01021a6",
            "c5398a278de341b18108020791687587",
            "0c9ff19f415c4b6a9d88357b02c665a8",
            "37bea42212f242e4a6c0ed4e15df1ef9",
            "e7c6985045044cbc952c942db3ae97b7",
            "5bc51103f1184ca6a86b869f26de5b93",
            "55a6da85217a479784b0f0822f884ecf",
            "f74676d5376a4632950c23736a85892d",
            "0837a76554134abda2b60fdd86c1b2f1",
            "1a8006a68d844d67a02c3b82aff293ea",
            "76639776a0c340d88f34c89fe68ab82c",
            "26554d30cb054b7ca93563642e324333",
            "c4f60e8c73dc4171917263ee3f2bac48",
            "f2c0385dd01e497ea9a45d9b126f831a",
            "ee70a4eba39c41dab4cb57b4eba4f9ba",
            "0b94fa1bb2f547e6bfa5edbf130bb02e",
            "f48f0c3589354bd1916dfeb2394506dc",
            "35b09fa3784045029c95ae6b9828dbcb",
            "18337164545d4b81a126a02cca21d801",
            "d957806eb4f84530af07a6769fc1cad1",
            "abdf1b6c00b04e49891aaf7156e72bf0",
            "48c59df74ad846fbb613eedc42716d6e",
            "96a4a14acc3d41ab9ebbd5abf9140969",
            "48c2d48eebfd4c12b5cb484fa06d8a68",
            "a11d35e564394859ac2d0b350a8e3a85",
            "bf095ca053d8499396faf62b9312885f",
            "5ecf4aabf87d4660892c8dc988535117",
            "df7b6315f16d493fab0bf826d7185d1b",
            "b503ca93b2184454bb885d0ce64c99a1",
            "ed30033fbe0940058a9d2995170ddc7d",
            "8a8618da374e4d22b5f94786be3bc30c",
            "4bab41940a224b04aaa76cafe91d22fa",
            "e4911666825446258b4c795ca16f2ed8",
            "e2eb2f4ac7e0494aabed2be62433ecbe",
            "e909a891efee4cbba6c7f93ae0374f54",
            "5587d6e0f6594d84bddf0ac3ba66edbf",
            "967ee968e574419e818746cf4a47e5b6",
            "bae1ef0e504d44cba15e21d46247054c",
            "2cd8f09838494cddbfa0ba5c6275589e",
            "cc11e913d1294179ad8926cc624ab9a3",
            "eb5ce08794974ecabfca1b3eb0c70344",
            "9ca61227ee44440c8a99ef27c8d318a3",
            "60f8043a7d4346adb8f547b5881ff7a5",
            "e6d3c2db87c24df8b5ea407344ac68f3",
            "2b47675b044a472d985853e7eead455b",
            "cae58c07529b4de5a31c3599b8d286d6",
            "1852631b67ac4729995d0f4096c0af5f",
            "216f8ff7797c42f597bd9ddbc3c6a8a7",
            "592bc50e1e3a4497b515b606ef9f5e7f",
            "e1a6c58b2fa04dc69e105056eb62d5ed",
            "a9387016bf89482a9f98fdd5898632b5",
            "634e22628f1d425b91646c473ddf5141",
            "0b67110ca2154589aed103bef935f906",
            "77eac0fb1dd94372ad96a145681e17bd",
            "fd0c3c8a821c4d0c92a24ae05baa6b42",
            "a77448b93210475188d1013c8107dc0b",
            "de32732d067b43d48c8d91dab08ad938",
            "634cef2d347a4fda95130b8a480711ac",
            "79c4919a4d0b4083a64375b9e170b862",
            "00c0e2e596b14e46b409b6b37327135c",
            "b64afc65eabc45bd81a67523e17d76f9",
            "7917199c613b4db3a59e4bb064e3039a",
            "fbaae3b867bb438d958e01eb83cf1c5c",
            "28e84601b7ba48c9894fb77291ee61fd",
            "3a0631b42d4644b89e4d1c2b80e07e25",
            "867fd448d7044c6f8ab6960440034fe3",
            "efb0707a9f7f4abd8f33f6d45ecbdf49",
            "4dab0c62984643efb7a80bbc7619ef70",
            "e19731a5493043b2b1ec66114513d89b",
            "c4e4643120924247b10a46f54d1c5dac",
            "920761bfbfd14c3094721ffa69cc57bc",
            "e03f2138245e48588a0d25857cedad17",
            "69614298bac045b689c6f821bfa885e7",
            "19b157578e7345e88e9cece2c7dba476",
            "0b241ca64a1f41aab21177d17ff6c9cf",
            "bddcdbda190b48068b954adab7b3f3ea",
            "f8e6cabb80684b3390fc64deeca971c5",
            "9a35288971bb4a5e85cb471c446bb30b",
            "2606368c7afa47c8bda3834ee6855775",
            "1c586f3e349f4394b6615a68d5084115",
            "54322b4d289e4542b9ade0892b3fb66d",
            "79bdb43f05734f5ab20965839bd97ba4",
            "53ed37dea3d24bcfa652f0db8feee205",
            "bad63fc7d3ec4fd99cc0ccc3e6a4eb6e",
            "75e77740c10c45d5bdffebfb704a9967",
            "c468afe89f984b669df01f21a24c9927",
            "ae72d4452a04463198016fac20deb810",
            "31d281a367ec4da9882ad9be66463c4f",
            "4481b1d1ad7945939b3469692ff49f7c",
            "ce5cda719aa84c6098265eb7e8246a3a",
            "bd39ff878f9845a08f6fe05567e72d2a",
            "4e350410657d477b94e94c4be6479a5d",
            "e97ba23029754116b2ad4adaa19794d0",
            "1b83e5324f8b44d8a194807638afa919",
            "629ea16a5d73414aa94cb93975b0b95c",
            "a1df99efe1b6426983d254b1e031d83a",
            "686d7bc608ea4634b008583618c6acd3",
            "66ac50877be94ecfa54d4b4e5571820d",
            "30fdaad4df7c4362a12ae18fcc6a2f25",
            "c5ce962a917241d19cc969dfe361e7c7",
            "3cdca02fb0a34bbdab1a670022fdcfd2",
            "19424786e2a44cab8a5c0e376b11abd3",
            "8361c4fc49244b629e14b2aa15a85e66",
            "9ce429e6a21246f7878c2e9942347dbb",
            "014ac0cb7fe14f368148a88184fce685",
            "a7285e15622c479db1cf8d214d169d25",
            "d637568e070743bf9e7c9bbdcae3c7c5",
            "9cab97a0d11741d78be008c9a4d85243",
            "beacf983c3e9415fb91cf03c3af003d9",
            "e9bf3c2fb9b94463ba7b36e81e63b213",
            "5a12246c67ff431b81d7e8eefac62ed8",
            "d8e5417581b540c994739e2aa1112a8a",
            "77d8acaf0e07455987cebec65e660663",
            "5c720ae16364403888de3ab805750c6a",
            "c1165bb12e624c8eacd4a76a42c6521c",
            "1c9c6c3aeb5b4097a0b97596ecfb486a",
            "ddb45a36a870462b9a078e7428db73c3",
            "dd1b22af715b4a86acdc2bf5a05f3602",
            "4b4c8371693e418b92c6eb08e97979a3",
            "54e55f3a40b14577815cdc421df83280",
            "14bbd6f9966e441f92ac7a1a0d0f0c86",
            "f4694f78ecfd4533bd49fd83a0ab1293",
            "e53ce53b388840268ca2757ed665e4f3",
            "30ca7035466c4779b0b329a02a59c067",
            "84a89f90eb974369bf56077c08447933",
            "7cfb026dc2a94a07a76830894ae46e5c",
            "6403bb42b5a64c52acfd4094d9cdd400",
            "b0b9659ea5a44086ae9855e26aa08306",
            "6fee6d560e7f49128419a4f98eb39cc2",
            "52faf3f7207d4fc4a05f8812a9dd5a3b",
            "82a8a919ddab408d86c4fcba1832e453",
            "e9d7e24c9dc44919ad7c0ac447e9d166",
            "2c76dc4e8b4840f49f889bcebf3fbd85",
            "7853a4bdce4d4791996c65a86617dac9",
            "68d7dd549379482db31ba4ea47e17d04",
            "0e78055232f24c8ba36c3f768c9683eb",
            "0d4fea8831224b098a618feb4762f28d",
            "e3d013e3fd854091b13a67cc13fb42a7",
            "f16200444e6349cb846e8598413e381a",
            "bcd969747efd48ad92b2ffcd5b823a09",
            "810487aead154aa99e93e437499c5a5c",
            "44d6d4ef8da14ee6abcca975c62bb934",
            "a523ca6069e44224b537b6f035ea8945",
            "f8646f37c212422ab4f0d3236c045a3a",
            "c50ab88b14284c86a622a1d92a59873d",
            "eb8f5ae89f394bb88726286ad3db8349",
            "a51b6d90e0714802bebffb0fdda8ec96",
            "dc76c8da25574296bb5363cbeac12f57",
            "c65deaf886a34fa6b4a82d031c1916cb",
            "04de4b2374d4450f8bfb723dd8eb12f2",
            "cd1626e9bd65401dbf3d8223a4e2338a",
            "d4c2e8b5c49b4216aee0c36dd149675f",
            "b559884f834043debee404790cdcf464",
            "2d25d989abd04c329c934af4d1ccd1e2",
            "cc5b0ff966394eca81f87701be9c04d2",
            "a182f433ea1d47c4bd50f5a65728e8e1",
            "6f6c53484f8741d5a0811060b84f0f62",
            "064dadcfefbb4d41996e703c5bc8dbbe",
            "c36cadcb96e146dd9f994194f91404cd",
            "52a60689047b45228748c62fa06d6749",
            "76f7698fb10244c19102a772dad411e2",
            "13cc11da8e5747f8a4f179c36546d82e",
            "e8b5e711b41442d4bad9c8f9d2e41761",
            "c8e5a38620ac4a62924ad04b207aab0f",
            "5b8fed65ae6c43cd863d81705339b463",
            "a135f3d77cdf409f9e4e4a5554c1fa92",
            "04657013ca064c5aa22946c9d22cf508",
            "617cb0a7bdc0440f93f8cc40de580fe3",
            "e203cd82a90b4402b709e53df9b2fdcf",
            "ef7f790bbadc4397b9ba99324ffaad6d",
            "36801f37176c432783c9343f9d654cfa",
            "67aa8266b6eb4fe6bd60f32534037f6c",
            "594e38b2c27942d59e25a05e5ae753b8",
            "83fb1c81d7fd4cf89aa473c5277fce4d",
            "49484b8b6550432a9f1a00a87db6e4aa",
            "2d521fdbbadf40b18cb537fde5bd7240",
            "e843e76b502a4669940798f976c00c45",
            "84b8ce7bfb1549429362ef1830f625fe",
            "1f56a4c5bcb8404c95a39a799a7fed4a",
            "68b7308433d347059b77124a1b6b4cf7",
            "53111c97a95e450d902d0258e9e02c99",
            "a5bf18a5197a4f28b9528a58ea6baebc",
            "f2337dc6d5e14f518a131a6233b59cc8",
            "9deaeb41c67042c8b3f6f4e7c62f969b",
            "8f0bf1fe719d42d3a00aa87fb91282d4",
            "373f432430f842d1b7d6b04b831b5305",
            "c7a5891e971641ae858f8c477204fdee",
            "dbde0b0de3db4eadaa623173b8fe149f",
            "517b922674014147adc4c3c9ecc1d268",
            "a5d93e35cfda42b0b2d091d409eaa28c",
            "abdef88dd12a494b8df6329231f8c6f8",
            "fc3b848015434dec8a857a0d031d6290",
            "0f7baa0c94b8446b9082d4218397d55f",
            "87ec5dfb0a5f495b92e421b1f0178d58",
            "5f05ed168f16471e85acbde1a1caa7f8",
            "619d59c9d83f458285d2dec7ed813739",
            "38eb057d932a4868bede939dff799bfd",
            "06ff45117237485a8591064eff3367db",
            "61d861aa19184d158a14366fe989cefe",
            "bcd0ca4d0193413688dc4b3796f31a73",
            "adba082d954245a7aaf0e00846976dff",
            "99674a8e682340bfbef046fe1cb9753a",
            "d430f0b1ddf1441c999b8014cbb982ff",
            "0cacb8e23a474d55b56c2e423487e9d2",
            "35173e9590374adab2e2c62880fc3d63",
            "71a0cfeb0547466eaaa5be94eb05c343",
            "0d74eabf8910427abb40de0e6e872315",
            "74880fa85e65469e999ae6001f3b3780",
            "4cc2a154ec7f430cb449a9b0c9d0ea8d",
            "768c2342d39a42dab0a0fcda3cce1124",
            "1b8645cf12f2445fb65a833828e6c382",
            "3bae8df66ba8477b9ddbe4b21deb5ce9",
            "34482ca5af944dcf9f0b23e2f64c91a0",
            "4fc96b9a050342d6b00aee74507928ea",
            "11de16073c7c4b3789f9e9df283a5512",
            "be2ca8fad3b9438eb99695875458a829",
            "75fd0cdc3e714b738fe4523ed7751fd3",
            "6f94169b18f948058fef9fcd3fb0b335",
            "556dfa305f7d4432acafc56cefc0ca65",
            "659f64f6974c4ba78173338a62895167",
            "5f9155f7c7d64053b6811e513d2f9c38",
            "60a2179411964dd8a0f787e149a0b6eb",
            "72f5c5eddf18400cba4f1b404c50aa03",
            "d96bf8d4820f4e65a20b645784248b59",
            "f21333825f304f33b8b86abdeb43cc39",
            "7ef806d6c9ea406db2c95b0815842db3",
            "19b6fd645a7c43228f7f4b0cc6bd230f",
            "bc0aa315f896432091610dbdd062e6f1",
            "f3458bd745df4dc88dfb3c2490c889a8",
            "e83075893cf64d1f88654d074bd5383d",
            "ceb51838ad6343a8b7d70f5a3a89ec3d",
            "f213a17d70aa431fad6cf1bee3c6dd6a",
            "ba69a5dfbef944e8800abf025a80699e",
            "5aeb0214502f485a81b67f96695eb767",
            "6305641f51e24695bbaf00a1e6b5e9ba",
            "86711edefef84f57bea8f258a0ae52da",
            "8ec6ec7801924fdf85405341bf08dca2",
            "411b46609bd2427db0078568e9db8e1a",
            "6e15cef4087845b2a3dc35de51576b8f",
            "1be4cb46859f49789d05ade9eb344c03",
            "5720d51cad8d4c5fa8fa82d54166d5f6",
            "9e7467b7254f430a8afcd56cadcb5840",
            "398bddc5fc3940428c92dea5433ca705",
            "8619744a80eb461a9f365064a8f8a6bb",
            "6dbcc929164547f09381264feee57629",
            "037d39b1a7d04f96b4b8cb951db11326",
            "0f2c85c87594432da0dcd9d4dfa12662",
            "10798492f67c43c49818b646c7475e56",
            "f4fe3015da544c75acac842832967363",
            "471f687af00a4584b60fb3d7b4ea3f30",
            "3b1c60392b9a4218ba8b5f3d3043ef81",
            "38bea472ef714f418b466ae31298e18f",
            "b66af31b92c7462a8cfec98dc4a75833",
            "8f8bda6c456f48fa8e138dad82ff92e1",
            "3dc5b4e047b447fe8924707b5e4839bf",
            "572776f1255b469c999321ddbdc47c0a",
            "439765767d0d41138e3a8fb728a933ff",
            "49c6877be734490db3a1f4b4c766270f",
            "2bc51a2b4cca4e909f2753664d987b21",
            "1e1355c06193428b9d5480110c10290f",
            "8e88bf034a23450f8997a34b627b152f",
            "3d3c413d14644e188db4025a46c27435",
            "0d71eec3cc374eac92927edce7d85932",
            "9ae2daaa62dd47f69811754c2bf571d4",
            "de26720325b9486c9700a5ab5edbdbe0",
            "dab55d242f444915a0cacf976bac8e21",
            "2d0998b28725427fa4051fe0cf50648e",
            "5e457e87febb437ebc9d3a39bb3f83c3",
            "2a536baf7ccf481fa72f97b4127417ca",
            "a2fa255e21604cf98459fd7b7d3172c7",
            "7d0f8051cd3d405b8f719eece9e666eb",
            "6f592bd43a2742399cfd8181b4b12b09",
            "0004a082cf5542dbbfd1d6942774e882",
            "15e0c8d33c7b43749ec4331b99433000",
            "d5162fb3b8024ccca6896ed13c2f55cd",
            "6d5564bdfac64290a3d8dc28943a51e8",
            "aa6175d08a1c44e6b5dc751e905c5e44",
            "3a96276371104944bbd59bf4cfdda449",
            "e771da33a9124a90bdcb06aaab9a2d15",
            "8ec07559aef34e2cbb4a06d956c1a0ec",
            "9f0575d9767c4984810357ce45fccdff",
            "c09f644af2db4fac86506ea66239c43d",
            "960848f7b9964426a867fccf36207c04",
            "ef50f01d89c94951adcab48e8fdaa462",
            "8e8fba4576c14f9bafc2f5d1b5e86264",
            "63678079fe9441228f56eba0794a24b5",
            "eeb91dd810c8484daeef4dd5ec16f329",
            "7623f334c84f4df8ad2a10d5e954b1bf",
            "3edcc1bab0b34ae984e7b6b8ee50f5e3",
            "815ef9612df94600a62a3b7f24299518",
            "fbcb207e62df4b6da35b2cfc197688a4",
            "02f6584df68a43a78406c95298584590",
            "db1fb01cf82e4703a4786fea8c4b90e9",
            "d0af19d73a41479c83389e039e94660c",
            "b3a982e34e3a4dd7a13d2ac581940509",
            "27abd65b1d884a4396c7242b69a2fc19",
            "91617eadbe73406699b02a6e784c66f1",
            "eb54f1a7a1b74540af0c3e096921a1ef",
            "001bf11efc304a5282ce3d16365d159c",
            "a996893c78b54430bb2f8465b1ac3564",
            "817fd10de8e94427a8d1ab0ddec95cb2",
            "4bfb8812c06549cd8f1eaa04c32edc39",
            "6068b3c58b534548833cceeb06690d1b",
            "842bfd45ecc74a9984689176e4170ed6",
            "842dd2e0efa4418e834dda3b836642c3"
          ]
        },
        "id": "bUBsiy3_urw_",
        "outputId": "dda50a83-220f-47d3-9425-93bb9577a69a"
      },
      "outputs": [
        {
          "name": "stdout",
          "output_type": "stream",
          "text": [
            "/content/evaluation-pipeline\n"
          ]
        },
        {
          "data": {
            "application/vnd.jupyter.widget-view+json": {
              "model_id": "f90adfdc454c4abcb91e48da187b46f3",
              "version_major": 2,
              "version_minor": 0
            },
            "text/plain": [
              "Generating train split:   0%|          | 0/1956 [00:00<?, ? examples/s]"
            ]
          },
          "metadata": {},
          "output_type": "display_data"
        },
        {
          "name": "stdout",
          "output_type": "stream",
          "text": [
            "\n",
            "» Assigning unique IDs to 'blimp_from_file+null' docs\n"
          ]
        },
        {
          "name": "stderr",
          "output_type": "stream",
          "text": [
            "INFO:lm_eval.evaluator:\n",
            "» Assigning unique IDs to 'blimp_from_file+null' docs\n"
          ]
        },
        {
          "data": {
            "application/vnd.jupyter.widget-view+json": {
              "model_id": "20c34d532d8c4cd29b98eb44e474829c",
              "version_major": 2,
              "version_minor": 0
            },
            "text/plain": [
              "Map:   0%|          | 0/1956 [00:00<?, ? examples/s]"
            ]
          },
          "metadata": {},
          "output_type": "display_data"
        },
        {
          "name": "stdout",
          "output_type": "stream",
          "text": [
            "\n",
            "» Filtering invalid docs from 'blimp_from_file+null'\n"
          ]
        },
        {
          "name": "stderr",
          "output_type": "stream",
          "text": [
            "INFO:lm_eval.evaluator:\n",
            "» Filtering invalid docs from 'blimp_from_file+null'\n"
          ]
        },
        {
          "data": {
            "application/vnd.jupyter.widget-view+json": {
              "model_id": "1cbc07fd33754bb980fe6f253ebaf929",
              "version_major": 2,
              "version_minor": 0
            },
            "text/plain": [
              "Filter:   0%|          | 0/1956 [00:00<?, ? examples/s]"
            ]
          },
          "metadata": {},
          "output_type": "display_data"
        },
        {
          "name": "stdout",
          "output_type": "stream",
          "text": [
            "\n",
            "» Constructing 'blimp_from_file+null' contexts and requests\n"
          ]
        },
        {
          "name": "stderr",
          "output_type": "stream",
          "text": [
            "INFO:lm_eval.evaluator:\n",
            "» Constructing 'blimp_from_file+null' contexts and requests\n",
            "100%|██████████| 1956/1956 [00:00<00:00, 3678.75it/s]"
          ]
        },
        {
          "name": "stdout",
          "output_type": "stream",
          "text": [
            "\n",
            "» Running all `loglikelihood` requests\n"
          ]
        },
        {
          "name": "stderr",
          "output_type": "stream",
          "text": [
            "\n",
            "INFO:lm_eval.evaluator:\n",
            "» Running all `loglikelihood` requests\n",
            "100%|██████████| 3912/3912 [00:24<00:00, 157.54it/s]\n"
          ]
        },
        {
          "name": "stdout",
          "output_type": "stream",
          "text": [
            "anaphor_agreement:\t60.48%\n"
          ]
        },
        {
          "data": {
            "application/vnd.jupyter.widget-view+json": {
              "model_id": "3e34cca655eb488c859a130aeadf983d",
              "version_major": 2,
              "version_minor": 0
            },
            "text/plain": [
              "Generating train split:   0%|          | 0/8248 [00:00<?, ? examples/s]"
            ]
          },
          "metadata": {},
          "output_type": "display_data"
        },
        {
          "name": "stdout",
          "output_type": "stream",
          "text": [
            "\n",
            "» Assigning unique IDs to 'blimp_from_file+null' docs\n"
          ]
        },
        {
          "name": "stderr",
          "output_type": "stream",
          "text": [
            "INFO:lm_eval.evaluator:\n",
            "» Assigning unique IDs to 'blimp_from_file+null' docs\n"
          ]
        },
        {
          "data": {
            "application/vnd.jupyter.widget-view+json": {
              "model_id": "03f918540a1d48808d54bd2b6a10660b",
              "version_major": 2,
              "version_minor": 0
            },
            "text/plain": [
              "Map:   0%|          | 0/8248 [00:00<?, ? examples/s]"
            ]
          },
          "metadata": {},
          "output_type": "display_data"
        },
        {
          "name": "stdout",
          "output_type": "stream",
          "text": [
            "\n",
            "» Filtering invalid docs from 'blimp_from_file+null'\n"
          ]
        },
        {
          "name": "stderr",
          "output_type": "stream",
          "text": [
            "INFO:lm_eval.evaluator:\n",
            "» Filtering invalid docs from 'blimp_from_file+null'\n"
          ]
        },
        {
          "data": {
            "application/vnd.jupyter.widget-view+json": {
              "model_id": "dec4d2edf7a3421cab9dbd833e7e7e16",
              "version_major": 2,
              "version_minor": 0
            },
            "text/plain": [
              "Filter:   0%|          | 0/8248 [00:00<?, ? examples/s]"
            ]
          },
          "metadata": {},
          "output_type": "display_data"
        },
        {
          "name": "stdout",
          "output_type": "stream",
          "text": [
            "\n",
            "» Constructing 'blimp_from_file+null' contexts and requests\n"
          ]
        },
        {
          "name": "stderr",
          "output_type": "stream",
          "text": [
            "INFO:lm_eval.evaluator:\n",
            "» Constructing 'blimp_from_file+null' contexts and requests\n",
            "100%|██████████| 8248/8248 [00:02<00:00, 3503.80it/s]"
          ]
        },
        {
          "name": "stdout",
          "output_type": "stream",
          "text": [
            "\n",
            "» Running all `loglikelihood` requests\n"
          ]
        },
        {
          "name": "stderr",
          "output_type": "stream",
          "text": [
            "\n",
            "INFO:lm_eval.evaluator:\n",
            "» Running all `loglikelihood` requests\n",
            "100%|██████████| 16496/16496 [01:51<00:00, 147.44it/s]\n"
          ]
        },
        {
          "name": "stdout",
          "output_type": "stream",
          "text": [
            "argument_structure:\t60.18%\n"
          ]
        },
        {
          "data": {
            "application/vnd.jupyter.widget-view+json": {
              "model_id": "c057faf48339444c9f2a878c5cf99c25",
              "version_major": 2,
              "version_minor": 0
            },
            "text/plain": [
              "Generating train split:   0%|          | 0/6738 [00:00<?, ? examples/s]"
            ]
          },
          "metadata": {},
          "output_type": "display_data"
        },
        {
          "name": "stdout",
          "output_type": "stream",
          "text": [
            "\n",
            "» Assigning unique IDs to 'blimp_from_file+null' docs\n"
          ]
        },
        {
          "name": "stderr",
          "output_type": "stream",
          "text": [
            "INFO:lm_eval.evaluator:\n",
            "» Assigning unique IDs to 'blimp_from_file+null' docs\n"
          ]
        },
        {
          "data": {
            "application/vnd.jupyter.widget-view+json": {
              "model_id": "36bae9391d3d4709af6a6e6fbd61ae81",
              "version_major": 2,
              "version_minor": 0
            },
            "text/plain": [
              "Map:   0%|          | 0/6738 [00:00<?, ? examples/s]"
            ]
          },
          "metadata": {},
          "output_type": "display_data"
        },
        {
          "name": "stdout",
          "output_type": "stream",
          "text": [
            "\n",
            "» Filtering invalid docs from 'blimp_from_file+null'\n"
          ]
        },
        {
          "name": "stderr",
          "output_type": "stream",
          "text": [
            "INFO:lm_eval.evaluator:\n",
            "» Filtering invalid docs from 'blimp_from_file+null'\n"
          ]
        },
        {
          "data": {
            "application/vnd.jupyter.widget-view+json": {
              "model_id": "fbd5076709584194a75855821c2c2676",
              "version_major": 2,
              "version_minor": 0
            },
            "text/plain": [
              "Filter:   0%|          | 0/6738 [00:00<?, ? examples/s]"
            ]
          },
          "metadata": {},
          "output_type": "display_data"
        },
        {
          "name": "stdout",
          "output_type": "stream",
          "text": [
            "\n",
            "» Constructing 'blimp_from_file+null' contexts and requests\n"
          ]
        },
        {
          "name": "stderr",
          "output_type": "stream",
          "text": [
            "INFO:lm_eval.evaluator:\n",
            "» Constructing 'blimp_from_file+null' contexts and requests\n",
            "100%|██████████| 6738/6738 [00:01<00:00, 5741.35it/s]"
          ]
        },
        {
          "name": "stdout",
          "output_type": "stream",
          "text": [
            "\n",
            "» Running all `loglikelihood` requests\n"
          ]
        },
        {
          "name": "stderr",
          "output_type": "stream",
          "text": [
            "\n",
            "INFO:lm_eval.evaluator:\n",
            "» Running all `loglikelihood` requests\n",
            "100%|██████████| 13476/13476 [01:34<00:00, 142.37it/s]\n"
          ]
        },
        {
          "name": "stdout",
          "output_type": "stream",
          "text": [
            "binding:\t60.15%\n"
          ]
        },
        {
          "data": {
            "application/vnd.jupyter.widget-view+json": {
              "model_id": "12dd858e440b490884d3bf754de29c91",
              "version_major": 2,
              "version_minor": 0
            },
            "text/plain": [
              "Generating train split:   0%|          | 0/4526 [00:00<?, ? examples/s]"
            ]
          },
          "metadata": {},
          "output_type": "display_data"
        },
        {
          "name": "stdout",
          "output_type": "stream",
          "text": [
            "\n",
            "» Assigning unique IDs to 'blimp_from_file+null' docs\n"
          ]
        },
        {
          "name": "stderr",
          "output_type": "stream",
          "text": [
            "INFO:lm_eval.evaluator:\n",
            "» Assigning unique IDs to 'blimp_from_file+null' docs\n"
          ]
        },
        {
          "data": {
            "application/vnd.jupyter.widget-view+json": {
              "model_id": "657863cc86144151bbba252a0a656911",
              "version_major": 2,
              "version_minor": 0
            },
            "text/plain": [
              "Map:   0%|          | 0/4526 [00:00<?, ? examples/s]"
            ]
          },
          "metadata": {},
          "output_type": "display_data"
        },
        {
          "name": "stdout",
          "output_type": "stream",
          "text": [
            "\n",
            "» Filtering invalid docs from 'blimp_from_file+null'\n"
          ]
        },
        {
          "name": "stderr",
          "output_type": "stream",
          "text": [
            "INFO:lm_eval.evaluator:\n",
            "» Filtering invalid docs from 'blimp_from_file+null'\n"
          ]
        },
        {
          "data": {
            "application/vnd.jupyter.widget-view+json": {
              "model_id": "d4603c2bab4a48d1a402547da276b490",
              "version_major": 2,
              "version_minor": 0
            },
            "text/plain": [
              "Filter:   0%|          | 0/4526 [00:00<?, ? examples/s]"
            ]
          },
          "metadata": {},
          "output_type": "display_data"
        },
        {
          "name": "stdout",
          "output_type": "stream",
          "text": [
            "\n",
            "» Constructing 'blimp_from_file+null' contexts and requests\n"
          ]
        },
        {
          "name": "stderr",
          "output_type": "stream",
          "text": [
            "INFO:lm_eval.evaluator:\n",
            "» Constructing 'blimp_from_file+null' contexts and requests\n",
            "100%|██████████| 4526/4526 [00:00<00:00, 6642.03it/s]"
          ]
        },
        {
          "name": "stdout",
          "output_type": "stream",
          "text": [
            "\n",
            "» Running all `loglikelihood` requests\n"
          ]
        },
        {
          "name": "stderr",
          "output_type": "stream",
          "text": [
            "\n",
            "INFO:lm_eval.evaluator:\n",
            "» Running all `loglikelihood` requests\n",
            "100%|██████████| 9052/9052 [01:05<00:00, 137.21it/s]\n"
          ]
        },
        {
          "name": "stdout",
          "output_type": "stream",
          "text": [
            "control_raising:\t58.24%\n"
          ]
        },
        {
          "data": {
            "application/vnd.jupyter.widget-view+json": {
              "model_id": "28c3961a70c04516a93392c73985bb4a",
              "version_major": 2,
              "version_minor": 0
            },
            "text/plain": [
              "Generating train split:   0%|          | 0/7542 [00:00<?, ? examples/s]"
            ]
          },
          "metadata": {},
          "output_type": "display_data"
        },
        {
          "name": "stdout",
          "output_type": "stream",
          "text": [
            "\n",
            "» Assigning unique IDs to 'blimp_from_file+null' docs\n"
          ]
        },
        {
          "name": "stderr",
          "output_type": "stream",
          "text": [
            "INFO:lm_eval.evaluator:\n",
            "» Assigning unique IDs to 'blimp_from_file+null' docs\n"
          ]
        },
        {
          "data": {
            "application/vnd.jupyter.widget-view+json": {
              "model_id": "98bc04a9e11a43759b18a4baa18ccd28",
              "version_major": 2,
              "version_minor": 0
            },
            "text/plain": [
              "Map:   0%|          | 0/7542 [00:00<?, ? examples/s]"
            ]
          },
          "metadata": {},
          "output_type": "display_data"
        },
        {
          "name": "stdout",
          "output_type": "stream",
          "text": [
            "\n",
            "» Filtering invalid docs from 'blimp_from_file+null'\n"
          ]
        },
        {
          "name": "stderr",
          "output_type": "stream",
          "text": [
            "INFO:lm_eval.evaluator:\n",
            "» Filtering invalid docs from 'blimp_from_file+null'\n"
          ]
        },
        {
          "data": {
            "application/vnd.jupyter.widget-view+json": {
              "model_id": "07c061153fa943f08ac801fa6ee00b85",
              "version_major": 2,
              "version_minor": 0
            },
            "text/plain": [
              "Filter:   0%|          | 0/7542 [00:00<?, ? examples/s]"
            ]
          },
          "metadata": {},
          "output_type": "display_data"
        },
        {
          "name": "stdout",
          "output_type": "stream",
          "text": [
            "\n",
            "» Constructing 'blimp_from_file+null' contexts and requests\n"
          ]
        },
        {
          "name": "stderr",
          "output_type": "stream",
          "text": [
            "INFO:lm_eval.evaluator:\n",
            "» Constructing 'blimp_from_file+null' contexts and requests\n",
            "100%|██████████| 7542/7542 [00:01<00:00, 5964.75it/s]"
          ]
        },
        {
          "name": "stdout",
          "output_type": "stream",
          "text": [
            "\n",
            "» Running all `loglikelihood` requests\n"
          ]
        },
        {
          "name": "stderr",
          "output_type": "stream",
          "text": [
            "\n",
            "INFO:lm_eval.evaluator:\n",
            "» Running all `loglikelihood` requests\n",
            "100%|██████████| 15084/15084 [01:41<00:00, 148.15it/s]\n"
          ]
        },
        {
          "name": "stdout",
          "output_type": "stream",
          "text": [
            "determiner_noun_agreement:\t70.95%\n"
          ]
        },
        {
          "data": {
            "application/vnd.jupyter.widget-view+json": {
              "model_id": "0837a76554134abda2b60fdd86c1b2f1",
              "version_major": 2,
              "version_minor": 0
            },
            "text/plain": [
              "Generating train split:   0%|          | 0/1732 [00:00<?, ? examples/s]"
            ]
          },
          "metadata": {},
          "output_type": "display_data"
        },
        {
          "name": "stdout",
          "output_type": "stream",
          "text": [
            "\n",
            "» Assigning unique IDs to 'blimp_from_file+null' docs\n"
          ]
        },
        {
          "name": "stderr",
          "output_type": "stream",
          "text": [
            "INFO:lm_eval.evaluator:\n",
            "» Assigning unique IDs to 'blimp_from_file+null' docs\n"
          ]
        },
        {
          "data": {
            "application/vnd.jupyter.widget-view+json": {
              "model_id": "d957806eb4f84530af07a6769fc1cad1",
              "version_major": 2,
              "version_minor": 0
            },
            "text/plain": [
              "Map:   0%|          | 0/1732 [00:00<?, ? examples/s]"
            ]
          },
          "metadata": {},
          "output_type": "display_data"
        },
        {
          "name": "stdout",
          "output_type": "stream",
          "text": [
            "\n",
            "» Filtering invalid docs from 'blimp_from_file+null'\n"
          ]
        },
        {
          "name": "stderr",
          "output_type": "stream",
          "text": [
            "INFO:lm_eval.evaluator:\n",
            "» Filtering invalid docs from 'blimp_from_file+null'\n"
          ]
        },
        {
          "data": {
            "application/vnd.jupyter.widget-view+json": {
              "model_id": "8a8618da374e4d22b5f94786be3bc30c",
              "version_major": 2,
              "version_minor": 0
            },
            "text/plain": [
              "Filter:   0%|          | 0/1732 [00:00<?, ? examples/s]"
            ]
          },
          "metadata": {},
          "output_type": "display_data"
        },
        {
          "name": "stdout",
          "output_type": "stream",
          "text": [
            "\n",
            "» Constructing 'blimp_from_file+null' contexts and requests\n"
          ]
        },
        {
          "name": "stderr",
          "output_type": "stream",
          "text": [
            "INFO:lm_eval.evaluator:\n",
            "» Constructing 'blimp_from_file+null' contexts and requests\n",
            "100%|██████████| 1732/1732 [00:00<00:00, 5910.36it/s]"
          ]
        },
        {
          "name": "stdout",
          "output_type": "stream",
          "text": [
            "\n",
            "» Running all `loglikelihood` requests\n"
          ]
        },
        {
          "name": "stderr",
          "output_type": "stream",
          "text": [
            "\n",
            "INFO:lm_eval.evaluator:\n",
            "» Running all `loglikelihood` requests\n",
            "100%|██████████| 3464/3464 [00:27<00:00, 126.34it/s]\n"
          ]
        },
        {
          "name": "stdout",
          "output_type": "stream",
          "text": [
            "ellipsis:\t42.21%\n"
          ]
        },
        {
          "data": {
            "application/vnd.jupyter.widget-view+json": {
              "model_id": "9ca61227ee44440c8a99ef27c8d318a3",
              "version_major": 2,
              "version_minor": 0
            },
            "text/plain": [
              "Generating train split:   0%|          | 0/6426 [00:00<?, ? examples/s]"
            ]
          },
          "metadata": {},
          "output_type": "display_data"
        },
        {
          "name": "stdout",
          "output_type": "stream",
          "text": [
            "\n",
            "» Assigning unique IDs to 'blimp_from_file+null' docs\n"
          ]
        },
        {
          "name": "stderr",
          "output_type": "stream",
          "text": [
            "INFO:lm_eval.evaluator:\n",
            "» Assigning unique IDs to 'blimp_from_file+null' docs\n"
          ]
        },
        {
          "data": {
            "application/vnd.jupyter.widget-view+json": {
              "model_id": "0b67110ca2154589aed103bef935f906",
              "version_major": 2,
              "version_minor": 0
            },
            "text/plain": [
              "Map:   0%|          | 0/6426 [00:00<?, ? examples/s]"
            ]
          },
          "metadata": {},
          "output_type": "display_data"
        },
        {
          "name": "stdout",
          "output_type": "stream",
          "text": [
            "\n",
            "» Filtering invalid docs from 'blimp_from_file+null'\n"
          ]
        },
        {
          "name": "stderr",
          "output_type": "stream",
          "text": [
            "INFO:lm_eval.evaluator:\n",
            "» Filtering invalid docs from 'blimp_from_file+null'\n"
          ]
        },
        {
          "data": {
            "application/vnd.jupyter.widget-view+json": {
              "model_id": "28e84601b7ba48c9894fb77291ee61fd",
              "version_major": 2,
              "version_minor": 0
            },
            "text/plain": [
              "Filter:   0%|          | 0/6426 [00:00<?, ? examples/s]"
            ]
          },
          "metadata": {},
          "output_type": "display_data"
        },
        {
          "name": "stdout",
          "output_type": "stream",
          "text": [
            "\n",
            "» Constructing 'blimp_from_file+null' contexts and requests\n"
          ]
        },
        {
          "name": "stderr",
          "output_type": "stream",
          "text": [
            "INFO:lm_eval.evaluator:\n",
            "» Constructing 'blimp_from_file+null' contexts and requests\n",
            "100%|██████████| 6426/6426 [00:01<00:00, 6203.97it/s]"
          ]
        },
        {
          "name": "stdout",
          "output_type": "stream",
          "text": [
            "\n",
            "» Running all `loglikelihood` requests\n"
          ]
        },
        {
          "name": "stderr",
          "output_type": "stream",
          "text": [
            "\n",
            "INFO:lm_eval.evaluator:\n",
            "» Running all `loglikelihood` requests\n",
            "100%|██████████| 12852/12852 [01:35<00:00, 135.27it/s]\n"
          ]
        },
        {
          "name": "stdout",
          "output_type": "stream",
          "text": [
            "filler_gap:\t60.83%\n"
          ]
        },
        {
          "data": {
            "application/vnd.jupyter.widget-view+json": {
              "model_id": "0b241ca64a1f41aab21177d17ff6c9cf",
              "version_major": 2,
              "version_minor": 0
            },
            "text/plain": [
              "Generating train split:   0%|          | 0/1965 [00:00<?, ? examples/s]"
            ]
          },
          "metadata": {},
          "output_type": "display_data"
        },
        {
          "name": "stdout",
          "output_type": "stream",
          "text": [
            "\n",
            "» Assigning unique IDs to 'blimp_from_file+null' docs\n"
          ]
        },
        {
          "name": "stderr",
          "output_type": "stream",
          "text": [
            "INFO:lm_eval.evaluator:\n",
            "» Assigning unique IDs to 'blimp_from_file+null' docs\n"
          ]
        },
        {
          "data": {
            "application/vnd.jupyter.widget-view+json": {
              "model_id": "c468afe89f984b669df01f21a24c9927",
              "version_major": 2,
              "version_minor": 0
            },
            "text/plain": [
              "Map:   0%|          | 0/1965 [00:00<?, ? examples/s]"
            ]
          },
          "metadata": {},
          "output_type": "display_data"
        },
        {
          "name": "stdout",
          "output_type": "stream",
          "text": [
            "\n",
            "» Filtering invalid docs from 'blimp_from_file+null'\n"
          ]
        },
        {
          "name": "stderr",
          "output_type": "stream",
          "text": [
            "INFO:lm_eval.evaluator:\n",
            "» Filtering invalid docs from 'blimp_from_file+null'\n"
          ]
        },
        {
          "data": {
            "application/vnd.jupyter.widget-view+json": {
              "model_id": "686d7bc608ea4634b008583618c6acd3",
              "version_major": 2,
              "version_minor": 0
            },
            "text/plain": [
              "Filter:   0%|          | 0/1965 [00:00<?, ? examples/s]"
            ]
          },
          "metadata": {},
          "output_type": "display_data"
        },
        {
          "name": "stdout",
          "output_type": "stream",
          "text": [
            "\n",
            "» Constructing 'blimp_from_file+null' contexts and requests\n"
          ]
        },
        {
          "name": "stderr",
          "output_type": "stream",
          "text": [
            "INFO:lm_eval.evaluator:\n",
            "» Constructing 'blimp_from_file+null' contexts and requests\n",
            "100%|██████████| 1965/1965 [00:00<00:00, 6430.81it/s]"
          ]
        },
        {
          "name": "stdout",
          "output_type": "stream",
          "text": [
            "\n",
            "» Running all `loglikelihood` requests\n"
          ]
        },
        {
          "name": "stderr",
          "output_type": "stream",
          "text": [
            "\n",
            "INFO:lm_eval.evaluator:\n",
            "» Running all `loglikelihood` requests\n",
            "100%|██████████| 3930/3930 [00:25<00:00, 156.44it/s]\n"
          ]
        },
        {
          "name": "stdout",
          "output_type": "stream",
          "text": [
            "irregular_forms:\t85.80%\n"
          ]
        },
        {
          "data": {
            "application/vnd.jupyter.widget-view+json": {
              "model_id": "9cab97a0d11741d78be008c9a4d85243",
              "version_major": 2,
              "version_minor": 0
            },
            "text/plain": [
              "Generating train split:   0%|          | 0/2676 [00:00<?, ? examples/s]"
            ]
          },
          "metadata": {},
          "output_type": "display_data"
        },
        {
          "name": "stdout",
          "output_type": "stream",
          "text": [
            "\n",
            "» Assigning unique IDs to 'blimp_from_file+null' docs\n"
          ]
        },
        {
          "name": "stderr",
          "output_type": "stream",
          "text": [
            "INFO:lm_eval.evaluator:\n",
            "» Assigning unique IDs to 'blimp_from_file+null' docs\n"
          ]
        },
        {
          "data": {
            "application/vnd.jupyter.widget-view+json": {
              "model_id": "4b4c8371693e418b92c6eb08e97979a3",
              "version_major": 2,
              "version_minor": 0
            },
            "text/plain": [
              "Map:   0%|          | 0/2676 [00:00<?, ? examples/s]"
            ]
          },
          "metadata": {},
          "output_type": "display_data"
        },
        {
          "name": "stdout",
          "output_type": "stream",
          "text": [
            "\n",
            "» Filtering invalid docs from 'blimp_from_file+null'\n"
          ]
        },
        {
          "name": "stderr",
          "output_type": "stream",
          "text": [
            "INFO:lm_eval.evaluator:\n",
            "» Filtering invalid docs from 'blimp_from_file+null'\n"
          ]
        },
        {
          "data": {
            "application/vnd.jupyter.widget-view+json": {
              "model_id": "52faf3f7207d4fc4a05f8812a9dd5a3b",
              "version_major": 2,
              "version_minor": 0
            },
            "text/plain": [
              "Filter:   0%|          | 0/2676 [00:00<?, ? examples/s]"
            ]
          },
          "metadata": {},
          "output_type": "display_data"
        },
        {
          "name": "stdout",
          "output_type": "stream",
          "text": [
            "\n",
            "» Constructing 'blimp_from_file+null' contexts and requests\n"
          ]
        },
        {
          "name": "stderr",
          "output_type": "stream",
          "text": [
            "INFO:lm_eval.evaluator:\n",
            "» Constructing 'blimp_from_file+null' contexts and requests\n",
            "100%|██████████| 2676/2676 [00:00<00:00, 6612.99it/s]"
          ]
        },
        {
          "name": "stdout",
          "output_type": "stream",
          "text": [
            "\n",
            "» Running all `loglikelihood` requests\n"
          ]
        },
        {
          "name": "stderr",
          "output_type": "stream",
          "text": [
            "\n",
            "INFO:lm_eval.evaluator:\n",
            "» Running all `loglikelihood` requests\n",
            "100%|██████████| 5352/5352 [00:38<00:00, 139.09it/s]\n"
          ]
        },
        {
          "name": "stdout",
          "output_type": "stream",
          "text": [
            "island_effects:\t43.31%\n"
          ]
        },
        {
          "data": {
            "application/vnd.jupyter.widget-view+json": {
              "model_id": "810487aead154aa99e93e437499c5a5c",
              "version_major": 2,
              "version_minor": 0
            },
            "text/plain": [
              "Generating train split:   0%|          | 0/6586 [00:00<?, ? examples/s]"
            ]
          },
          "metadata": {},
          "output_type": "display_data"
        },
        {
          "name": "stdout",
          "output_type": "stream",
          "text": [
            "\n",
            "» Assigning unique IDs to 'blimp_from_file+null' docs\n"
          ]
        },
        {
          "name": "stderr",
          "output_type": "stream",
          "text": [
            "INFO:lm_eval.evaluator:\n",
            "» Assigning unique IDs to 'blimp_from_file+null' docs\n"
          ]
        },
        {
          "data": {
            "application/vnd.jupyter.widget-view+json": {
              "model_id": "d4c2e8b5c49b4216aee0c36dd149675f",
              "version_major": 2,
              "version_minor": 0
            },
            "text/plain": [
              "Map:   0%|          | 0/6586 [00:00<?, ? examples/s]"
            ]
          },
          "metadata": {},
          "output_type": "display_data"
        },
        {
          "name": "stdout",
          "output_type": "stream",
          "text": [
            "\n",
            "» Filtering invalid docs from 'blimp_from_file+null'\n"
          ]
        },
        {
          "name": "stderr",
          "output_type": "stream",
          "text": [
            "INFO:lm_eval.evaluator:\n",
            "» Filtering invalid docs from 'blimp_from_file+null'\n"
          ]
        },
        {
          "data": {
            "application/vnd.jupyter.widget-view+json": {
              "model_id": "e8b5e711b41442d4bad9c8f9d2e41761",
              "version_major": 2,
              "version_minor": 0
            },
            "text/plain": [
              "Filter:   0%|          | 0/6586 [00:00<?, ? examples/s]"
            ]
          },
          "metadata": {},
          "output_type": "display_data"
        },
        {
          "name": "stdout",
          "output_type": "stream",
          "text": [
            "\n",
            "» Constructing 'blimp_from_file+null' contexts and requests\n"
          ]
        },
        {
          "name": "stderr",
          "output_type": "stream",
          "text": [
            "INFO:lm_eval.evaluator:\n",
            "» Constructing 'blimp_from_file+null' contexts and requests\n",
            "100%|██████████| 6586/6586 [00:01<00:00, 6456.61it/s]"
          ]
        },
        {
          "name": "stdout",
          "output_type": "stream",
          "text": [
            "\n",
            "» Running all `loglikelihood` requests\n"
          ]
        },
        {
          "name": "stderr",
          "output_type": "stream",
          "text": [
            "\n",
            "INFO:lm_eval.evaluator:\n",
            "» Running all `loglikelihood` requests\n",
            "100%|██████████| 13172/13172 [01:31<00:00, 144.07it/s]\n"
          ]
        },
        {
          "name": "stdout",
          "output_type": "stream",
          "text": [
            "npi_licensing:\t47.07%\n"
          ]
        },
        {
          "data": {
            "application/vnd.jupyter.widget-view+json": {
              "model_id": "83fb1c81d7fd4cf89aa473c5277fce4d",
              "version_major": 2,
              "version_minor": 0
            },
            "text/plain": [
              "Generating train split:   0%|          | 0/3882 [00:00<?, ? examples/s]"
            ]
          },
          "metadata": {},
          "output_type": "display_data"
        },
        {
          "name": "stdout",
          "output_type": "stream",
          "text": [
            "\n",
            "» Assigning unique IDs to 'blimp_from_file+null' docs\n"
          ]
        },
        {
          "name": "stderr",
          "output_type": "stream",
          "text": [
            "INFO:lm_eval.evaluator:\n",
            "» Assigning unique IDs to 'blimp_from_file+null' docs\n"
          ]
        },
        {
          "data": {
            "application/vnd.jupyter.widget-view+json": {
              "model_id": "8f0bf1fe719d42d3a00aa87fb91282d4",
              "version_major": 2,
              "version_minor": 0
            },
            "text/plain": [
              "Map:   0%|          | 0/3882 [00:00<?, ? examples/s]"
            ]
          },
          "metadata": {},
          "output_type": "display_data"
        },
        {
          "name": "stdout",
          "output_type": "stream",
          "text": [
            "\n",
            "» Filtering invalid docs from 'blimp_from_file+null'\n"
          ]
        },
        {
          "name": "stderr",
          "output_type": "stream",
          "text": [
            "INFO:lm_eval.evaluator:\n",
            "» Filtering invalid docs from 'blimp_from_file+null'\n"
          ]
        },
        {
          "data": {
            "application/vnd.jupyter.widget-view+json": {
              "model_id": "619d59c9d83f458285d2dec7ed813739",
              "version_major": 2,
              "version_minor": 0
            },
            "text/plain": [
              "Filter:   0%|          | 0/3882 [00:00<?, ? examples/s]"
            ]
          },
          "metadata": {},
          "output_type": "display_data"
        },
        {
          "name": "stdout",
          "output_type": "stream",
          "text": [
            "\n",
            "» Constructing 'blimp_from_file+null' contexts and requests\n"
          ]
        },
        {
          "name": "stderr",
          "output_type": "stream",
          "text": [
            "INFO:lm_eval.evaluator:\n",
            "» Constructing 'blimp_from_file+null' contexts and requests\n",
            "100%|██████████| 3882/3882 [00:00<00:00, 3964.91it/s]"
          ]
        },
        {
          "name": "stdout",
          "output_type": "stream",
          "text": [
            "\n",
            "» Running all `loglikelihood` requests\n"
          ]
        },
        {
          "name": "stderr",
          "output_type": "stream",
          "text": [
            "\n",
            "INFO:lm_eval.evaluator:\n",
            "» Running all `loglikelihood` requests\n",
            "100%|██████████| 7764/7764 [00:53<00:00, 144.71it/s]\n"
          ]
        },
        {
          "name": "stdout",
          "output_type": "stream",
          "text": [
            "quantifiers:\t61.39%\n"
          ]
        },
        {
          "data": {
            "application/vnd.jupyter.widget-view+json": {
              "model_id": "0d74eabf8910427abb40de0e6e872315",
              "version_major": 2,
              "version_minor": 0
            },
            "text/plain": [
              "Generating train split:   0%|          | 0/5535 [00:00<?, ? examples/s]"
            ]
          },
          "metadata": {},
          "output_type": "display_data"
        },
        {
          "name": "stdout",
          "output_type": "stream",
          "text": [
            "\n",
            "» Assigning unique IDs to 'blimp_from_file+null' docs\n"
          ]
        },
        {
          "name": "stderr",
          "output_type": "stream",
          "text": [
            "INFO:lm_eval.evaluator:\n",
            "» Assigning unique IDs to 'blimp_from_file+null' docs\n"
          ]
        },
        {
          "data": {
            "application/vnd.jupyter.widget-view+json": {
              "model_id": "6f94169b18f948058fef9fcd3fb0b335",
              "version_major": 2,
              "version_minor": 0
            },
            "text/plain": [
              "Map:   0%|          | 0/5535 [00:00<?, ? examples/s]"
            ]
          },
          "metadata": {},
          "output_type": "display_data"
        },
        {
          "name": "stdout",
          "output_type": "stream",
          "text": [
            "\n",
            "» Filtering invalid docs from 'blimp_from_file+null'\n"
          ]
        },
        {
          "name": "stderr",
          "output_type": "stream",
          "text": [
            "INFO:lm_eval.evaluator:\n",
            "» Filtering invalid docs from 'blimp_from_file+null'\n"
          ]
        },
        {
          "data": {
            "application/vnd.jupyter.widget-view+json": {
              "model_id": "f3458bd745df4dc88dfb3c2490c889a8",
              "version_major": 2,
              "version_minor": 0
            },
            "text/plain": [
              "Filter:   0%|          | 0/5535 [00:00<?, ? examples/s]"
            ]
          },
          "metadata": {},
          "output_type": "display_data"
        },
        {
          "name": "stdout",
          "output_type": "stream",
          "text": [
            "\n",
            "» Constructing 'blimp_from_file+null' contexts and requests\n"
          ]
        },
        {
          "name": "stderr",
          "output_type": "stream",
          "text": [
            "INFO:lm_eval.evaluator:\n",
            "» Constructing 'blimp_from_file+null' contexts and requests\n",
            "100%|██████████| 5535/5535 [00:00<00:00, 6002.88it/s]"
          ]
        },
        {
          "name": "stdout",
          "output_type": "stream",
          "text": [
            "\n",
            "» Running all `loglikelihood` requests\n"
          ]
        },
        {
          "name": "stderr",
          "output_type": "stream",
          "text": [
            "\n",
            "INFO:lm_eval.evaluator:\n",
            "» Running all `loglikelihood` requests\n",
            "100%|██████████| 11070/11070 [01:14<00:00, 148.23it/s]\n"
          ]
        },
        {
          "name": "stdout",
          "output_type": "stream",
          "text": [
            "subject_verb_agreement:\t52.72%\n"
          ]
        },
        {
          "data": {
            "application/vnd.jupyter.widget-view+json": {
              "model_id": "0004a082cf5542dbbfd1d6942774e882",
              "version_major": 2,
              "version_minor": 0
            },
            "text/plain": [
              "Generating train split:   0%|          | 0/4394 [00:00<?, ? examples/s]"
            ]
          },
          "metadata": {},
          "output_type": "display_data"
        },
        {
          "name": "stdout",
          "output_type": "stream",
          "text": [
            "\n",
            "» Assigning unique IDs to 'blimp_from_file+null' docs\n"
          ]
        },
        {
          "name": "stderr",
          "output_type": "stream",
          "text": [
            "INFO:lm_eval.evaluator:\n",
            "» Assigning unique IDs to 'blimp_from_file+null' docs\n"
          ]
        },
        {
          "data": {
            "application/vnd.jupyter.widget-view+json": {
              "model_id": "ef50f01d89c94951adcab48e8fdaa462",
              "version_major": 2,
              "version_minor": 0
            },
            "text/plain": [
              "Map:   0%|          | 0/4394 [00:00<?, ? examples/s]"
            ]
          },
          "metadata": {},
          "output_type": "display_data"
        },
        {
          "name": "stdout",
          "output_type": "stream",
          "text": [
            "\n",
            "» Filtering invalid docs from 'blimp_from_file+null'\n"
          ]
        },
        {
          "name": "stderr",
          "output_type": "stream",
          "text": [
            "INFO:lm_eval.evaluator:\n",
            "» Filtering invalid docs from 'blimp_from_file+null'\n"
          ]
        },
        {
          "data": {
            "application/vnd.jupyter.widget-view+json": {
              "model_id": "b3a982e34e3a4dd7a13d2ac581940509",
              "version_major": 2,
              "version_minor": 0
            },
            "text/plain": [
              "Filter:   0%|          | 0/4394 [00:00<?, ? examples/s]"
            ]
          },
          "metadata": {},
          "output_type": "display_data"
        },
        {
          "name": "stdout",
          "output_type": "stream",
          "text": [
            "\n",
            "» Constructing 'blimp_from_file+null' contexts and requests\n"
          ]
        },
        {
          "name": "stderr",
          "output_type": "stream",
          "text": [
            "INFO:lm_eval.evaluator:\n",
            "» Constructing 'blimp_from_file+null' contexts and requests\n",
            "100%|██████████| 4394/4394 [00:01<00:00, 4353.66it/s]"
          ]
        },
        {
          "name": "stdout",
          "output_type": "stream",
          "text": [
            "\n",
            "» Running all `loglikelihood` requests\n"
          ]
        },
        {
          "name": "stderr",
          "output_type": "stream",
          "text": [
            "\n",
            "INFO:lm_eval.evaluator:\n",
            "» Running all `loglikelihood` requests\n",
            "100%|██████████| 8788/8788 [01:21<00:00, 108.04it/s]\n",
            "/content/evaluation-pipeline/lm_eval/api/task.py:589: RuntimeWarning: divide by zero encountered in divide\n",
            "  if np.argmax(results / completion_len) == target_idx\n"
          ]
        },
        {
          "name": "stdout",
          "output_type": "stream",
          "text": [
            "preposition:\t57.85%\n",
            "\n",
            "Scores:\n",
            "anaphor_agreement:\t60.48%\n",
            "argument_structure:\t60.18%\n",
            "binding:\t60.15%\n",
            "control_raising:\t58.24%\n",
            "determiner_noun_agreement:\t70.95%\n",
            "ellipsis:\t42.21%\n",
            "filler_gap:\t60.83%\n",
            "irregular_forms:\t85.80%\n",
            "island_effects:\t43.31%\n",
            "npi_licensing:\t47.07%\n",
            "quantifiers:\t61.39%\n",
            "subject_verb_agreement:\t52.72%\n",
            "preposition:\t57.85%\n"
          ]
        }
      ],
      "source": [
        "#@title Load model and evaluate (BLiMP) { display-mode: \"form\" }\n",
        "model = \"/content/drive/MyDrive/VU Thesis/Code/baby_models/V20L4/model_e3_v20_l4/\" #@param {\"type\": \"string\"}\n",
        "model_type = \"encoder\" #@param [\"decoder\", \"encoder\", \"encoder-decoder\"]\n",
        "# file_name = \"examples3.csv\" #@param {\"type\": \"string\"}\n",
        "# model_names = [\"opt-125m\", \"opt-350m\", \"opt-1.3b\", \"opt-2.7b\"] #@param {\"type\": \"raw\"}\n",
        "\n",
        "%cd /content/evaluation-pipeline\n",
        "%run /content/evaluation-pipeline/babylm_eval_prep.py \\\n",
        "  \"$model\" \\\n",
        "  \"$model_type\" \\\n",
        "  -t \"blimp_with_preposition\""
      ]
    },
    {
      "cell_type": "markdown",
      "metadata": {
        "id": "_mjSKNWOpGl5"
      },
      "source": [
        "### Epoch 4"
      ]
    },
    {
      "cell_type": "code",
      "execution_count": null,
      "metadata": {
        "colab": {
          "base_uri": "https://localhost:8080/",
          "height": 1000,
          "referenced_widgets": [
            "9003daac2ec74fa3ac8e510d7f8bd15d",
            "a0f6c30e32be4c50ba7321b340703ebf",
            "7fac8d999c08452f95a5309042de051b",
            "7a2c5d6c564f4ca9bf3ada48f37960c8",
            "c9c78d54542b4be29622fbfc86b437ab",
            "af4ba37f1bf44c4a9a86626985f37649",
            "4cf1e81702b44cb4b823782b7c79abd0",
            "04357ec1c9874b9690f6a138cec8190e",
            "c88e3d4c9e4140f89656a9c3432d9ad5",
            "c5d13610402e453aa690b661cb090b48",
            "d4a24f6a36b9477ca73d4a1ad17ec37a",
            "29c31aba0656477e8a226eee59063f7e",
            "8483a76862894bc5a2c49a36be50fb13",
            "0c78a5e0cc634869a94a8cc780cbd0ba",
            "939c75fb79da480aa96da935607f0c92",
            "1b1e06f7b7ed4ec0954a2585c6d9bb00",
            "a255a4afba3f4cbc9f0474a3df66c81d",
            "0a0003aac89d45cb9065aae22b69e8c8",
            "6c7cda819f904f77a9336bf9f05736d2",
            "00bda87324914bfba5af4e1bd015e2eb",
            "c405c1f8ffa249e69170aa7aa6e81694",
            "75048e51111e4923b770501f9c5f954d",
            "b45e4f35aa6741669d09f1f9d2e86096",
            "ad25554d089a4f1ab742b7bb17b4345d",
            "81a80fffbae640e3bce57dbde1fe4a89",
            "8f1cf9b7998d4d0cb74954ce8095bbd1",
            "e1f51369458e43eeb70e123edc18fb50",
            "725f1cde003f442c8209ec60b559dc67",
            "48442f4c3bf543c5a6e121c01e3df4d0",
            "99dc47abec4642cba58ace6afad00bd4",
            "2ce3c058a67548a09a039eea8a79d6c4",
            "47b20af38c27453d8f949bd6dd3bddd6",
            "546c148497644d1d8eb45a8bbcc52bcd",
            "bc5ae0a5031548aca3adfb7c7588076a",
            "a5307a6f95a345fa8164c46df4e99196",
            "ee8c7dcd859e414286c30156143cf160",
            "29b8d14246724fc99a496effa2bf1f61",
            "d17d31e4f09a45ddaa755fb871c7c6cb",
            "2258af4b6a24449b985d15ed10b27771",
            "55899d4d9a0544c39be44a8235b77d7a",
            "a5e72bfa89014df38f1c1181a51167ba",
            "d3855d3d8807453fa912e909cc6417ec",
            "31ecc88a026e4722b200109f024892a2",
            "cff4dc4ddcc247dc9649ccb036ce4e6f",
            "91e5dcf132224555af6ed01f07ec5688",
            "416801f0972e4994bcda47424d95460f",
            "00eed79e112848afa3613b1c0bdfa245",
            "2c553cc5e26b4ef5a54fd0e609ef5e23",
            "34d49a447d854a33a34eaafa48cfa0c0",
            "3be32ca9f0c44691862ff67a51febdbc",
            "39055e39c212427da6979c9ff268f748",
            "c4690b84ee2344c49a9b6c3ba7e87a7d",
            "2401425a0b3d4934b30376ca73ad992f",
            "1882dbd9b2d04372b08ec581ae94634c",
            "aca3b5323fce41ebb2db29599b665de6",
            "5c1e33e180b8434aad631a2fd7961281",
            "09696a16a10d4d5abed29edf66d5b11b",
            "0e3a865a6f854f7687441a1396bf8980",
            "a47acd39176045759e34833517b7ba91",
            "dfe8a7fab32f42ef9f9de7cd64b1f53a",
            "85aa5ea6446f47c5bd9a37e584a5750a",
            "ba9d2a247c654ff683c93e098a3b7bff",
            "f3315ff6087b4ca8aa48a8a93ee461b1",
            "2328e2475eae4928a295fee8f802d5db",
            "ea22ca52377547ef9074231fa6ac8e46",
            "588687c4ce5143139a802b63b1da9e7e",
            "e69d66e6e8b849f5ab740ecb59e2c6d6",
            "c7e28ec5e6574eae99e54e17df66d7f4",
            "98daf2f25d0f4267965e5a4372ba19e7",
            "c221a5170f5e4292a0ef70b6db5e1fb1",
            "405179aeb927495ca6315d67d9edc38b",
            "f5c5301c2f8e4eeba9b2bf26ae840104",
            "7050b23d61a942e8b51bc540a41d9e30",
            "f540edbc20064ddd886631d0ee4dca38",
            "bac9bf5da0d1420b956b0668d3b8481b",
            "912c9a9f955c4637a7d8641e2a7c28a8",
            "d39ac303618b472c9e62111e9c490d4b",
            "90e49eec668f45468d904bd180646430",
            "c3ef1cba641d4cfd9aa9cbb5d62b53fb",
            "fca7b0a8e38240c2a1a8669ffd156fc3",
            "c120dbeed62842428185c2919fc3b77c",
            "a6de6800d00343d590032d916dc004b4",
            "59e5fd6310d84feb8f872e94b0acc8d9",
            "df4f47772f5c4a6898742b198c900927",
            "a5c56a1ccc29472e956ed22915af34af",
            "bffea029602b47dca4b78750002e59f3",
            "1f4f8a9cf7624471bdb826f8bb12374a",
            "a91040251e0848178ad8e98867dbbd92",
            "4eeef20229044169a2f1f5d9abd5f347",
            "166baa0e88d84c489ce4b021e2ad73fa",
            "33a6dccb55c04bbcaff55b570f9141ac",
            "1390c63238db4d5c9cb6b7240c0184e9",
            "ac82574d6a8e45259dec1b29cc963381",
            "255fe61406f24674a2b31159496bdf13",
            "9b3547b0db4140da865fe4d7f3311c78",
            "7fcba031cc90491cbf96b11e2ce87e67",
            "4911158192b249888433b735c7459229",
            "a827053b440b48ee82f20fba3cd6eb34",
            "c6fd38b74ca34d439b1477fab505c9da",
            "c8a175b434c84d73a525380a6136091b",
            "7b9c0806590044f9b20e6fc424f61778",
            "797628210c394bf3a8819f824c951539",
            "d298f110f0e3457795097467001752be",
            "43d0f5305a964679abc3342f496b0602",
            "1cdad21884a34393abc0421f8598ec02",
            "61e6d4f34bab49a9be866e38a2e51d57",
            "ec7f2611d97e4e6296162a9b48a87511",
            "83f109b658b64c4695408ea9245c1537",
            "14da321dacc94469a1806151cf7b66b7",
            "89be8ad36cba4b11b48f2b1ed7b8ac8f",
            "ae205d3ffb564f42903e9d73bd2313f0",
            "d0088532b65c413ba3ccbff12c343f04",
            "9cd76d5b0895427d88006d6a794b0f6a",
            "a86e65111b0244e5a07b1311f66b6b20",
            "e6a15a6c7c33462e9bb3432040d2a4bd",
            "6f64de2332ed413984acc0916a0d71ea",
            "1893332b8751425c8cdca63ec5999cc1",
            "134da507ab9c4058b52e773f3965e438",
            "d87dfcb0edf8409b8ce4bec1695c3785",
            "5b05487d404a49d9a7e535cf7d55a61e",
            "a465b2ef0a1945f79d8ec15a9176cbc3",
            "4d06b9cbb3b2410f99e9e4e4cd38bf24",
            "84d2fd89b158420da545a9c5b8a57988",
            "b2b0699f45a14aa5a71a4a6c5fc37502",
            "04e3590724314e4dac93e84b618c07af",
            "b86da394fc984404b9cb92c48f1e6446",
            "9ee0c1aac75c4c1094a04dbd24e9461e",
            "894e9a50cd8145b99a12f2ca399d70ca",
            "b57e127cd4144a66a8d4d177068d7fe7",
            "16fec6165ab34176a7d0d284b0673417",
            "8e123afa25c9449ca6b3e48121ed2640",
            "475e6448206543f2b7dad8e8e229fce2",
            "e8e484c514e340739c2bbb56316bd084",
            "013848e5745c4710a08ef34c8d34a08e",
            "7b1c758ed1fc41ee8d6b122cd1e9f208",
            "bafa0e6ebef740f181cbb8fbcc10babe",
            "aa89e227d047423f8ec5e0a079d0130f",
            "885c9c563be5456b9c5d5ecc233f8a53",
            "3518d1248a7e48dfb336bd021e22369d",
            "57e463823b4d47ea9089a09d9bc57ac5",
            "0d4b2c08776d4a35a5aa7de54dfada9b",
            "85f0d572a7f3474c8fb120fbc3c2861b",
            "462e15a9fbcb41bf8f4bea7a3d7f528c",
            "95dcd6a018a14e2f91988ebb503181fc",
            "0d384b414cac4c61bc844d8cef4218be",
            "86516e82ada649a6bbc39751da0c2517",
            "31079c4e636f43849d065f1c38e6e00d",
            "0854f296c24746039d0d444085eb116f",
            "64e09bf615a141fc8d5816f1cba93c9e",
            "4e996f580a4347098fe8d6e5bcb52378",
            "4c5a075a908f46b5bcccba8a77e0a194",
            "2505a8415bb646bda3dedf594a994d2f",
            "9c8ae7fa0e444178a8146d1649e755fa",
            "69e3ff30acd64cd49a460f2bed35f859",
            "b16d340f7281429dba6ee3db23dea871",
            "2a8141df751844a79dc4ea2a8d5672d7",
            "270342c5fe4c44d894a50ede409c2aaa",
            "7d1ce50dd6ed42ae9b921f053b649fed",
            "15064b28bcbc4a9bb7b4de2d77813c27",
            "1680322a6f704b8bb44f7ffbe01ece8f",
            "18b0186a1d40431c96f402f36c732f7b",
            "c9da4566e44745439d7b90b1384627d4",
            "804c1fb1a232423496f4e34d5ad097b9",
            "4a34dcdd88a74cf7b1fc186a05d2c1d7",
            "567ac3472260476a8abe9368a0e65983",
            "83a8c577325b4d7a8fd53d18d5bd202d",
            "042e51c3c910493fa61f33a0c53bea04",
            "578413b27a2c4e10af67d2a48665f8db",
            "8accd9d7f0794ba68229298eef5c9ac6",
            "e0e9f2022b574a87857f9734a1b15d97",
            "024683790db344e39cee427b0d8d8b50",
            "0097debb465b410fbc377f2b22e06bda",
            "6ca36f2e813a49d3bc273828abb86161",
            "7302e9ba63654871bc222dfa2a2047b5",
            "6a6699ec54bf4554a1c72962debedd8a",
            "96c17155bf5c4b72b314646d4d467a8a",
            "e76ffe8c9b354df8af7a73faeae69cb0",
            "ffa5095b043a4f5cabce33e8624abbbb",
            "bf3b6b90196a4b988ad0ab08676481c2",
            "bad3ac117c3543278c336b7d14b03784",
            "9243e80e296348a29110e2c551baef6f",
            "d9d4d6170173439dbfc4b836aaa51f67",
            "7313e365519d40b8b638822cfbb61f84",
            "ca27010f56a34137a2fd28cb93ad1ab8",
            "836c8fc729ad468896ae372e27cb86a5",
            "a9750f019c1b472eb3c01a19529c5c86",
            "71e02b38ce8242fab9cff91e77bdabd8",
            "3ad8313b6f5c4da29afbd28c129ef8d8",
            "53f5b0cdd9ba416ea7e9162e6775039c",
            "38becc053476482fb4ac136a08407842",
            "b29d222e8e434f068bfa6bbebc255d55",
            "60781d5887e5453e81ed327a8a0b77f7",
            "dda589e44bd942bbb99cac94299513da",
            "01ba2b52219f4ac6ba3bcf58dda72815",
            "c97fcca48c60470eb64b2595b8b50fae",
            "3037c93cbc7e4c34abe629a1fcf06aa6",
            "f374e1bbf1dd4835ac8a1270fa4e4726",
            "6f3d6781e33548c99334e78e397a1923",
            "995ebdeadf2e4a43a4017e9fd21fad1c",
            "181301db57ab4359a9ab96f97db293a3",
            "f49e8b7649e5499c83968b26e294fe60",
            "a47860962dac4aa9be6a80c4f96df9b7",
            "c600053a7eb64b7c874521d396a7769f",
            "584c064efa6444faa8abdbc74970fe00",
            "8304a5cc6282422a809a5b6aa8ebea38",
            "e2147995e7144e9ab4d73dd06359712a",
            "0c52df94fc3b495db72950dad217adf9",
            "a67598dff55640e1a73f4d3bc19aa5f2",
            "8ee62e0e301c40aeb8061480eedad794",
            "9e72b2bd222240aabeb08dc2a72b4d5d",
            "1ea022d4eee441a4bb40249a23226bdb",
            "0bcd6bf976694f61a5bba209cef9daf6",
            "a0006f71295b4e50a502b42ca16162b6",
            "0bd12182efa74202b727cff1c3e5eeb4",
            "e686fff044d8434e9d8e91d6a8a0cc35",
            "ef6733938c8348a980920fb01ca40fc5",
            "a10d01f339b34ec08048444c2618ae96",
            "3f10cdc43a1747ac84c06ffc0968e7dd",
            "1a4135cedbfd49189d2b7aa535e750c5",
            "5b3a3efbaf07429d8105fabf2faca5b4",
            "91cc7f54061043b59c73485a6ec3a23c",
            "4be3ec52f7594de1aaf9cb5d7d97054b",
            "8924acf8780d467888424fea0492b762",
            "302557ee79104641aa110a84f99d05be",
            "ba648b05f5a047ce8b3faf6a9c7c1efd",
            "b970ed1105b54a018fd501e701a185a2",
            "145e9b5c6ce242fbaba3c53945a71fd5",
            "8db2bcf06e7942908ded1e31b76ace15",
            "bdda2b93b2c546b68774148f78899747",
            "b58cf3576a9944959c155e25fb3a92d1",
            "ccd81ec81c2240e3b382f8d6e360535d",
            "3650b9128f8e496d9d47bc173539a95a",
            "7608a0da7e9b48ecb0be16fdbf3defc9",
            "4d534b8dce474484b4ee7efd566c8cb5",
            "bd36588691074f58a208bef7928936ec",
            "b8d421db0a2d4a8391cecc29b8a112c8",
            "6f598761cede42a08d4d2d4fc12cb609",
            "cc869b5ca8a142edbdea5e5286e063f7",
            "ca5aefc9fea54de5b4fc9750dfe6b756",
            "6ddf06b241c6487c96d1d7049fa715a1",
            "1c0d782c73914ecb91e0597830b8ef0f",
            "496a20b6ba0a48a1967fe17d769d12ea",
            "1cbac6afbaa643df958568db27ca8c12",
            "6bc76911839b4f85ae6f213cdcd3a8fa",
            "074c4983bc734cf080a2fdec807bef5a",
            "8246e6cde4804d8d86f4549e9ea78303",
            "70bc47ce89f844c9830eed40ed33056c",
            "499b25200e3e4015a58f7fb1dcd538a0",
            "b1dafadc4012495f8aa29b1f43c9537e",
            "bb5cc43888554bd5aa4004299c8c6c9d",
            "5026bd0564af4129992ae45c7e2df52b",
            "03410f03045940e1a8e59560644dbf6a",
            "b5e073492f7841cb9cc0452c6562311f",
            "647ca4ca16924c6f9b804d1657599911",
            "b5c89656223c4242a21a9b0d7a4c81ec",
            "51e0bc4dd07e406da0ab8ae4fa125902",
            "057eb1bec0f6413c971126b431b92ef9",
            "e6cdcb3e0aee4582a8e63dce4d9f9a07",
            "33ba9ba300ec4faf84203fc3e1ef3a0d",
            "a4e9264e804542fabb33b2e51737725d",
            "cab3c131791c43869017b76948698767",
            "7b961d3b6f804cd09aa0dd172df82c79",
            "3a127deedf054fafad0c1cf1b65a5216",
            "6346fba209ed47c6b782b1d5fb29b9cf",
            "73891305eec4473da6fc85cbda1020cf",
            "54f879d990a541fe96ff14687ed3e282",
            "6389076f1c204578b1251e562d7265d3",
            "0c32cabe5ad549b2952b6140994a75ca",
            "bc37b629248f47009445169b80a44e5b",
            "0d376ef011f149ed94dd446f74940e85",
            "660ebdf2d3154b8994a79b399567db25",
            "657e1d2876a44666a2fee56b79dd3a6a",
            "08d2a11812014f65ae6e6f38fd5f8cc3",
            "1b98984bcf884f2d8476f5b4473c7e0e",
            "17a5dfae5b2d4509a303d11b28d8f729",
            "3c82e95de84646dda03b31dde21793cf",
            "0e8fb0759ced4e248c09fa4c710c7b4b",
            "2463d30fbd744961b73d366fa91fadce",
            "e5daed8b59c64ac98b34cf78f140a773",
            "ecb426e259c043b4ba0f6c706964783e",
            "c3be6814dc404a9eb6c707325ef286b4",
            "d419038c46f243e2a2aa136d32aff938",
            "d702119c485741d698a1fd8ccc17c77c",
            "ca1c68edb68d43af9e5f6074b75a64c7",
            "973de07c9fc9409785b842b1b560078d",
            "d7353eea7b1b4b6e86779c274759d004",
            "35f3c2619e644f17ab75021e2e682295",
            "6c2a3905879b47b7b85386149a0964b2",
            "a8c570e9cfe04441964fc01046050540",
            "65737bff29df4cad921a7825f0d03804",
            "316c5dc12d854f1a8c6e8f07e7e5976e",
            "78aca36b879f4dc382f9c4c1276338ae",
            "26b754c3089d4cc188a279b4aab331e4",
            "9a4955902c2b4d5a9836a55a014d9055",
            "b5aa29fb67014344857bef4051e8e95b",
            "00fb4b1ac2b24823ace3379d468b0375",
            "b94b6197552d45719345df1ee5b6b3d0",
            "075ad881703749d6b2089768ac198de2",
            "e55613f36155412a8fcd6a2c4bab9a38",
            "ee7233007e0c4f2faa8b3b1257df8201",
            "e190968555a14dfdaf7d6ce9b8654b9a",
            "853c0946ca224384a1942ce00610842b",
            "6b902d326ae54c42b9bb1702e1da6e1b",
            "b16b94cf3ccc441d942a06fb6233b5ca",
            "2fb9c142dcac414186780ab57f9411fd",
            "91edba54fcf64dbb839ea90b7dce1c73",
            "e6647d85df98483a83beef84de7edf36",
            "87f165657a8846ca9e35a67ce8aa73a3",
            "07d947092c6d420db2c9f240b3c34536",
            "14b3bb72c1954c718f97c3f17eed7c3e",
            "148f5f994ee944b985fa16f57e339318",
            "b4df70c228674206917321a448a2aa87",
            "7e5d1dfd41644d9db6a4290903188aa9",
            "45cf4043c08b4d3395b7ef2d61e92fe3",
            "d0f5ad1cd70940058e925c8a85698c4e",
            "5fac2b6b6615430eb33fa1ee3b6f3811",
            "20facb950fec4e94b9955d3c3dcb3338",
            "37ba9ac084b6404c9b4c07dc7f45f32a",
            "a566d538bfbf4664bdaaaa4dd3b693bc",
            "1bad6dfb26eb48ddaa99db50eba24dc5",
            "ad88962cd6d34f54942c4c08d33b2cf7",
            "a7040025e6934c178f7bd408a19bf567",
            "9f6965152fe44ad7a860e29fd2b1a497",
            "38d04e69e6cb4984aa29234da05fee92",
            "ebb6c20b56e543ce8cdef3c913b99820",
            "eafe7297b4a44ab1b7edcf84a890511c",
            "becd2ddca1ff4456b5a2477e3cfe2123",
            "95f8f8cd80d64bbf85b4c2a48f2ed1c6",
            "79be0f91a6984a93adce343903cd43f3",
            "611b071af230470f908cfcd90c2af627",
            "ea91263e076045ed82f1de5caa69b7af",
            "31a3c4df25044ec38d25ed58e0d373e8",
            "2c7b47d954404933b61a440158ded4e9",
            "6ccecbd53c4349858cf5138be3a565cd",
            "c3b5e9e9eed740dfb3253159abc28bae",
            "1be8c2b6a7894525bd243caf88e77e9c",
            "b3a6c914491a4cad98948c42e838acf6",
            "9004ff7d8c3f444d8db62c7abf38e846",
            "d63c69fe083342fda7b39a0350591988",
            "425e717b2daf4ca0875a409223245dbe",
            "2aa93ab0bf9d45cd9ba4eb0232a0d3d6",
            "f717b6400d35451c96edc60bbc7fbb2e",
            "dabbc3074d434e5293c3fc45dd8a548d",
            "4d1fb66d86144ab4aee2738e18a32579",
            "4b9b01c875964983aff4935b6552d88b",
            "5b5d465cbc9d4eab9f0dee89e7bb2f05",
            "d08f3ab513dc4a85a05463462c4103f3",
            "797ed58df9c44a21b689a1261ea1014e",
            "22981faa29a14f1fa4dd8f00020bd6e7",
            "5b286c0ac35046efbabaeb39ed40182d",
            "7196c28e2d4b48329dfac273ab738bef",
            "dd2f3ea7cc6b4202ab5d3962bfb7a10f",
            "9ee2b9e6d0d64f48a58c1e247adc6573",
            "a8e26c2e0f0e459bb1582b2227d1aa82",
            "f0b1b4585bd9426d900d6ebb98fabe79",
            "c0978fa33d0d4350844c6f83f33e95c3",
            "cafec5ecdcf9480daf6cb8f41c3d27a7",
            "8347536c40e44082945de4e966d810bf",
            "0506ade03735464888c879a017fc3014",
            "dc4b62c4dece446d99c25da04c09d51a",
            "8f297751921a41aeb372f209d83a5748",
            "87ae7f6049ff4c92b166b2b3b66ad2a0",
            "85c0d9ef91964550b2c9315185b5875b",
            "a3fb260106304bdfaf8ffb2c3415ed45",
            "c601b1f6ffb6492bb5e249626b5f17e0",
            "91f2d27226b54d8e8ce3d40ccb74b34c",
            "6d7525de5ef54f51b66d723c18b404d3",
            "843531bddbac4568896ca115544ed92a",
            "44133cd5ce2743068ff8661aa0825df8",
            "dc3db7e8c2884fe9bbbac3d7bde9bd4b",
            "2f3a209842314bb4b43ac75a81b9a297",
            "6b9ae5dd42d44f629991000e80a4ab2b",
            "69b28f9dd09f4e80beac6210da449876",
            "561430b6e6254b0f858022e13a12cf3b",
            "f0b49daf0bab4d4ba5fe52c2878b0817",
            "35ce65c4798044d5abebd5d7ef405e30",
            "51fb9567428848789df22fe1829bb512",
            "d509a0fd51d14f9a8350183906e0d05f",
            "251c8b50f22a48c28a7459bfe3ae07c5",
            "aff60ef310b14d53b4aa16a64bb8ec30",
            "7e28e166a68e4b51b40f89ca1419f64a",
            "47d22fce1cf846609f561c8d40d68708",
            "398c34a12eb94ce5904a3c86b0e137ed",
            "11fb4cf0405346cdb83a848a4344887b",
            "b6b4fe758cea48d2b6c99b8f0ad948ff",
            "bb4a16f39b014d1aa74ff65e501fcc64",
            "1d2159bcc21a4a2798b1dbd023ee1428",
            "f4d0b2f664fc4fefbb0419b639ab602e",
            "725aec6deb9a407ba8ce9d637132d42b",
            "e0d1e369c28a4f3289587df0819ddeae",
            "4ad445cd23ad41e9bf6d2b586042c5fc",
            "5e176ee9106e481fb236a5c1c166eb6d",
            "5499ee53870e4fa2a9437f9fa80d909c",
            "689f0d97491d419a876bfe1f4a0ee2ee",
            "007d54df2095430db9df073998a9b440",
            "8bdb949fbfe54c9a89763e17f661fb67",
            "126677000499489e89241423cd0428a2",
            "522d2bd496864b67808cfd3eb56af40c",
            "72504ed77577494c9232918d9f151ace",
            "85de7d67ad23461c824e57ebe9b04649",
            "97c77df0ff8640ecabe4ae81b20b5379",
            "b1a2f46fe4ee474bafc435eebde3f903",
            "2ac1c0b4d1af4e65af3df0f37f517259",
            "e6dc69b2e5134bd2a7fc959020213bae",
            "14caed690a54445c8eba26ba36255286",
            "dd5a860290e142e7965317f26f5ef8c3",
            "ee613a8884984b958e7f0eceb9889a2c",
            "9b034e5650f5478fb3a46c727193d5a8",
            "2abf7061c12b41f088c94248eec3cd21",
            "bf17bf40ad72421cbadf2887244c1759",
            "298f2ca535aa426ea2d03f121041d341",
            "a66b9b6ce19f40afab1aaf7e4ddc1c1d",
            "f4e0b4439ab34626b0e1758eb0b52c91",
            "d2d8565cdbe1498f8677a34789a724b1",
            "0dd174d1ff934d7aae5a9aa33db9b2ea",
            "7ceaae6b9f81487cb0649e33ff095ad9",
            "837f3170fb84462597bfc7e9c3d7330a",
            "4e9fd4c2e27e4cdfac6bf17751454ea6",
            "cdf33fcda48346f4a6814a16baad8534",
            "fa78804872fc47e19f7d3f742f44726f",
            "3d91324360784deeb351dcb5cdc48cf2",
            "13218ea38b7d409e8d1db617744e7c1d",
            "a4b7bbef44b24b0aa5ebe3119cf95566",
            "c131de7215d14fa8961957e9fd204ece",
            "8d6d24d353a343bb83e99174205991b7",
            "b5e1621fc85f48ea8abdf5b8e1f91f3e",
            "34fc0213ac314de38c4b1c4d42d8045a",
            "2d00883878654f329d86ce07c4bd3cbe",
            "fd377a7dc75c44cb9a83749292be486d",
            "750858864dcd47d18275b33eae012c17",
            "29b2c91b0e3a4cf2b34d4bc5cfd7da3d",
            "505a1c14fbb04ab397f6821ed32700e2",
            "b65bf5c40b2b46e99a7614f7f61a8ca7",
            "90ed7c2bafa740ce82048e06a72dfec3",
            "5c92f23095e0482d92886edac7e870df",
            "715cec6997c14c559457c2734109f1c7",
            "371b186b57344b61b8e6d37e25901e94",
            "cecd064887fb4172b097f02e386ba132",
            "36162ae2926044e4a776e9ffddb71d18",
            "4a7fef53168e417790682a34f7d61896",
            "9c75b0a9bfe84ff0abde166413660d97",
            "b57e48c755b0400ab38360b57039cfb2",
            "e393432037f44d1ba36e756d01e330b8",
            "4a03e33efa384945b605a9f5b544a6e5",
            "886b3f9a39a444a8a51298af893f2d05",
            "1817a85fbbb24f15a693b2fc3029ff0e",
            "0f9ea02114e04c54ab8ca32858a11b16",
            "d684162d7a394d75ac5dde9a774a25e7",
            "0e54f37a30a741a78bc203f77878032c",
            "aa2af02427344a55815cf0c33ff30000",
            "dd2cede3af3c477dacebd9469f938280",
            "9b39db978e244cd7b5c4e1d4c73cd44a",
            "ead99b1884b04f68992935139020c08a",
            "151e7c873cc6490391570494a20bb656",
            "87d39013f31240c394b8f31aae4dcbae",
            "c38649d5bfb441b5b0f29d8764659da9",
            "2e5f710dc979426381a70207cab6ccc0",
            "ec8f95fab0bb4af3850c49f22bf29c8e",
            "3cf752aa4386445ab4611183ffebcfc9",
            "3fdb986f157e43dfb6cd7879f408751b",
            "b84afced6d954fa1b8e91115df005054",
            "e4e83f076f614434a0e52aecff573505"
          ]
        },
        "id": "bvs5ioVdutz9",
        "outputId": "3a21d743-7023-4211-a4c1-c4f286340208"
      },
      "outputs": [
        {
          "name": "stdout",
          "output_type": "stream",
          "text": [
            "/content/evaluation-pipeline\n"
          ]
        },
        {
          "data": {
            "application/vnd.jupyter.widget-view+json": {
              "model_id": "9003daac2ec74fa3ac8e510d7f8bd15d",
              "version_major": 2,
              "version_minor": 0
            },
            "text/plain": [
              "Generating train split:   0%|          | 0/1956 [00:00<?, ? examples/s]"
            ]
          },
          "metadata": {},
          "output_type": "display_data"
        },
        {
          "name": "stdout",
          "output_type": "stream",
          "text": [
            "\n",
            "» Assigning unique IDs to 'blimp_from_file+null' docs\n"
          ]
        },
        {
          "name": "stderr",
          "output_type": "stream",
          "text": [
            "INFO:lm_eval.evaluator:\n",
            "» Assigning unique IDs to 'blimp_from_file+null' docs\n"
          ]
        },
        {
          "data": {
            "application/vnd.jupyter.widget-view+json": {
              "model_id": "29c31aba0656477e8a226eee59063f7e",
              "version_major": 2,
              "version_minor": 0
            },
            "text/plain": [
              "Map:   0%|          | 0/1956 [00:00<?, ? examples/s]"
            ]
          },
          "metadata": {},
          "output_type": "display_data"
        },
        {
          "name": "stdout",
          "output_type": "stream",
          "text": [
            "\n",
            "» Filtering invalid docs from 'blimp_from_file+null'\n"
          ]
        },
        {
          "name": "stderr",
          "output_type": "stream",
          "text": [
            "INFO:lm_eval.evaluator:\n",
            "» Filtering invalid docs from 'blimp_from_file+null'\n"
          ]
        },
        {
          "data": {
            "application/vnd.jupyter.widget-view+json": {
              "model_id": "b45e4f35aa6741669d09f1f9d2e86096",
              "version_major": 2,
              "version_minor": 0
            },
            "text/plain": [
              "Filter:   0%|          | 0/1956 [00:00<?, ? examples/s]"
            ]
          },
          "metadata": {},
          "output_type": "display_data"
        },
        {
          "name": "stdout",
          "output_type": "stream",
          "text": [
            "\n",
            "» Constructing 'blimp_from_file+null' contexts and requests\n"
          ]
        },
        {
          "name": "stderr",
          "output_type": "stream",
          "text": [
            "INFO:lm_eval.evaluator:\n",
            "» Constructing 'blimp_from_file+null' contexts and requests\n",
            "100%|██████████| 1956/1956 [00:00<00:00, 5893.33it/s]"
          ]
        },
        {
          "name": "stdout",
          "output_type": "stream",
          "text": [
            "\n",
            "» Running all `loglikelihood` requests\n"
          ]
        },
        {
          "name": "stderr",
          "output_type": "stream",
          "text": [
            "\n",
            "INFO:lm_eval.evaluator:\n",
            "» Running all `loglikelihood` requests\n",
            "100%|██████████| 3912/3912 [00:24<00:00, 156.80it/s]\n"
          ]
        },
        {
          "name": "stdout",
          "output_type": "stream",
          "text": [
            "anaphor_agreement:\t61.81%\n"
          ]
        },
        {
          "data": {
            "application/vnd.jupyter.widget-view+json": {
              "model_id": "bc5ae0a5031548aca3adfb7c7588076a",
              "version_major": 2,
              "version_minor": 0
            },
            "text/plain": [
              "Generating train split:   0%|          | 0/8248 [00:00<?, ? examples/s]"
            ]
          },
          "metadata": {},
          "output_type": "display_data"
        },
        {
          "name": "stdout",
          "output_type": "stream",
          "text": [
            "\n",
            "» Assigning unique IDs to 'blimp_from_file+null' docs\n"
          ]
        },
        {
          "name": "stderr",
          "output_type": "stream",
          "text": [
            "INFO:lm_eval.evaluator:\n",
            "» Assigning unique IDs to 'blimp_from_file+null' docs\n"
          ]
        },
        {
          "data": {
            "application/vnd.jupyter.widget-view+json": {
              "model_id": "91e5dcf132224555af6ed01f07ec5688",
              "version_major": 2,
              "version_minor": 0
            },
            "text/plain": [
              "Map:   0%|          | 0/8248 [00:00<?, ? examples/s]"
            ]
          },
          "metadata": {},
          "output_type": "display_data"
        },
        {
          "name": "stdout",
          "output_type": "stream",
          "text": [
            "\n",
            "» Filtering invalid docs from 'blimp_from_file+null'\n"
          ]
        },
        {
          "name": "stderr",
          "output_type": "stream",
          "text": [
            "INFO:lm_eval.evaluator:\n",
            "» Filtering invalid docs from 'blimp_from_file+null'\n"
          ]
        },
        {
          "data": {
            "application/vnd.jupyter.widget-view+json": {
              "model_id": "5c1e33e180b8434aad631a2fd7961281",
              "version_major": 2,
              "version_minor": 0
            },
            "text/plain": [
              "Filter:   0%|          | 0/8248 [00:00<?, ? examples/s]"
            ]
          },
          "metadata": {},
          "output_type": "display_data"
        },
        {
          "name": "stdout",
          "output_type": "stream",
          "text": [
            "\n",
            "» Constructing 'blimp_from_file+null' contexts and requests\n"
          ]
        },
        {
          "name": "stderr",
          "output_type": "stream",
          "text": [
            "INFO:lm_eval.evaluator:\n",
            "» Constructing 'blimp_from_file+null' contexts and requests\n",
            "100%|██████████| 8248/8248 [00:01<00:00, 6332.37it/s]"
          ]
        },
        {
          "name": "stdout",
          "output_type": "stream",
          "text": [
            "\n",
            "» Running all `loglikelihood` requests\n"
          ]
        },
        {
          "name": "stderr",
          "output_type": "stream",
          "text": [
            "\n",
            "INFO:lm_eval.evaluator:\n",
            "» Running all `loglikelihood` requests\n",
            "100%|██████████| 16496/16496 [01:50<00:00, 149.86it/s]\n"
          ]
        },
        {
          "name": "stdout",
          "output_type": "stream",
          "text": [
            "argument_structure:\t60.90%\n"
          ]
        },
        {
          "data": {
            "application/vnd.jupyter.widget-view+json": {
              "model_id": "e69d66e6e8b849f5ab740ecb59e2c6d6",
              "version_major": 2,
              "version_minor": 0
            },
            "text/plain": [
              "Generating train split:   0%|          | 0/6738 [00:00<?, ? examples/s]"
            ]
          },
          "metadata": {},
          "output_type": "display_data"
        },
        {
          "name": "stdout",
          "output_type": "stream",
          "text": [
            "\n",
            "» Assigning unique IDs to 'blimp_from_file+null' docs\n"
          ]
        },
        {
          "name": "stderr",
          "output_type": "stream",
          "text": [
            "INFO:lm_eval.evaluator:\n",
            "» Assigning unique IDs to 'blimp_from_file+null' docs\n"
          ]
        },
        {
          "data": {
            "application/vnd.jupyter.widget-view+json": {
              "model_id": "90e49eec668f45468d904bd180646430",
              "version_major": 2,
              "version_minor": 0
            },
            "text/plain": [
              "Map:   0%|          | 0/6738 [00:00<?, ? examples/s]"
            ]
          },
          "metadata": {},
          "output_type": "display_data"
        },
        {
          "name": "stdout",
          "output_type": "stream",
          "text": [
            "\n",
            "» Filtering invalid docs from 'blimp_from_file+null'\n"
          ]
        },
        {
          "name": "stderr",
          "output_type": "stream",
          "text": [
            "INFO:lm_eval.evaluator:\n",
            "» Filtering invalid docs from 'blimp_from_file+null'\n"
          ]
        },
        {
          "data": {
            "application/vnd.jupyter.widget-view+json": {
              "model_id": "4eeef20229044169a2f1f5d9abd5f347",
              "version_major": 2,
              "version_minor": 0
            },
            "text/plain": [
              "Filter:   0%|          | 0/6738 [00:00<?, ? examples/s]"
            ]
          },
          "metadata": {},
          "output_type": "display_data"
        },
        {
          "name": "stdout",
          "output_type": "stream",
          "text": [
            "\n",
            "» Constructing 'blimp_from_file+null' contexts and requests\n"
          ]
        },
        {
          "name": "stderr",
          "output_type": "stream",
          "text": [
            "INFO:lm_eval.evaluator:\n",
            "» Constructing 'blimp_from_file+null' contexts and requests\n",
            "100%|██████████| 6738/6738 [00:01<00:00, 6017.78it/s]"
          ]
        },
        {
          "name": "stdout",
          "output_type": "stream",
          "text": [
            "\n",
            "» Running all `loglikelihood` requests\n"
          ]
        },
        {
          "name": "stderr",
          "output_type": "stream",
          "text": [
            "\n",
            "INFO:lm_eval.evaluator:\n",
            "» Running all `loglikelihood` requests\n",
            "100%|██████████| 13476/13476 [01:34<00:00, 142.91it/s]\n"
          ]
        },
        {
          "name": "stdout",
          "output_type": "stream",
          "text": [
            "binding:\t60.88%\n"
          ]
        },
        {
          "data": {
            "application/vnd.jupyter.widget-view+json": {
              "model_id": "c8a175b434c84d73a525380a6136091b",
              "version_major": 2,
              "version_minor": 0
            },
            "text/plain": [
              "Generating train split:   0%|          | 0/4526 [00:00<?, ? examples/s]"
            ]
          },
          "metadata": {},
          "output_type": "display_data"
        },
        {
          "name": "stdout",
          "output_type": "stream",
          "text": [
            "\n",
            "» Assigning unique IDs to 'blimp_from_file+null' docs\n"
          ]
        },
        {
          "name": "stderr",
          "output_type": "stream",
          "text": [
            "INFO:lm_eval.evaluator:\n",
            "» Assigning unique IDs to 'blimp_from_file+null' docs\n"
          ]
        },
        {
          "data": {
            "application/vnd.jupyter.widget-view+json": {
              "model_id": "ae205d3ffb564f42903e9d73bd2313f0",
              "version_major": 2,
              "version_minor": 0
            },
            "text/plain": [
              "Map:   0%|          | 0/4526 [00:00<?, ? examples/s]"
            ]
          },
          "metadata": {},
          "output_type": "display_data"
        },
        {
          "name": "stdout",
          "output_type": "stream",
          "text": [
            "\n",
            "» Filtering invalid docs from 'blimp_from_file+null'\n"
          ]
        },
        {
          "name": "stderr",
          "output_type": "stream",
          "text": [
            "INFO:lm_eval.evaluator:\n",
            "» Filtering invalid docs from 'blimp_from_file+null'\n"
          ]
        },
        {
          "data": {
            "application/vnd.jupyter.widget-view+json": {
              "model_id": "4d06b9cbb3b2410f99e9e4e4cd38bf24",
              "version_major": 2,
              "version_minor": 0
            },
            "text/plain": [
              "Filter:   0%|          | 0/4526 [00:00<?, ? examples/s]"
            ]
          },
          "metadata": {},
          "output_type": "display_data"
        },
        {
          "name": "stdout",
          "output_type": "stream",
          "text": [
            "\n",
            "» Constructing 'blimp_from_file+null' contexts and requests\n"
          ]
        },
        {
          "name": "stderr",
          "output_type": "stream",
          "text": [
            "INFO:lm_eval.evaluator:\n",
            "» Constructing 'blimp_from_file+null' contexts and requests\n",
            "100%|██████████| 4526/4526 [00:00<00:00, 6132.03it/s]"
          ]
        },
        {
          "name": "stdout",
          "output_type": "stream",
          "text": [
            "\n",
            "» Running all `loglikelihood` requests\n"
          ]
        },
        {
          "name": "stderr",
          "output_type": "stream",
          "text": [
            "\n",
            "INFO:lm_eval.evaluator:\n",
            "» Running all `loglikelihood` requests\n",
            "100%|██████████| 9052/9052 [01:06<00:00, 136.50it/s]\n"
          ]
        },
        {
          "name": "stdout",
          "output_type": "stream",
          "text": [
            "control_raising:\t57.95%\n"
          ]
        },
        {
          "data": {
            "application/vnd.jupyter.widget-view+json": {
              "model_id": "e8e484c514e340739c2bbb56316bd084",
              "version_major": 2,
              "version_minor": 0
            },
            "text/plain": [
              "Generating train split:   0%|          | 0/7542 [00:00<?, ? examples/s]"
            ]
          },
          "metadata": {},
          "output_type": "display_data"
        },
        {
          "name": "stdout",
          "output_type": "stream",
          "text": [
            "\n",
            "» Assigning unique IDs to 'blimp_from_file+null' docs\n"
          ]
        },
        {
          "name": "stderr",
          "output_type": "stream",
          "text": [
            "INFO:lm_eval.evaluator:\n",
            "» Assigning unique IDs to 'blimp_from_file+null' docs\n"
          ]
        },
        {
          "data": {
            "application/vnd.jupyter.widget-view+json": {
              "model_id": "95dcd6a018a14e2f91988ebb503181fc",
              "version_major": 2,
              "version_minor": 0
            },
            "text/plain": [
              "Map:   0%|          | 0/7542 [00:00<?, ? examples/s]"
            ]
          },
          "metadata": {},
          "output_type": "display_data"
        },
        {
          "name": "stdout",
          "output_type": "stream",
          "text": [
            "\n",
            "» Filtering invalid docs from 'blimp_from_file+null'\n"
          ]
        },
        {
          "name": "stderr",
          "output_type": "stream",
          "text": [
            "INFO:lm_eval.evaluator:\n",
            "» Filtering invalid docs from 'blimp_from_file+null'\n"
          ]
        },
        {
          "data": {
            "application/vnd.jupyter.widget-view+json": {
              "model_id": "b16d340f7281429dba6ee3db23dea871",
              "version_major": 2,
              "version_minor": 0
            },
            "text/plain": [
              "Filter:   0%|          | 0/7542 [00:00<?, ? examples/s]"
            ]
          },
          "metadata": {},
          "output_type": "display_data"
        },
        {
          "name": "stdout",
          "output_type": "stream",
          "text": [
            "\n",
            "» Constructing 'blimp_from_file+null' contexts and requests\n"
          ]
        },
        {
          "name": "stderr",
          "output_type": "stream",
          "text": [
            "INFO:lm_eval.evaluator:\n",
            "» Constructing 'blimp_from_file+null' contexts and requests\n",
            "100%|██████████| 7542/7542 [00:01<00:00, 6264.82it/s]"
          ]
        },
        {
          "name": "stdout",
          "output_type": "stream",
          "text": [
            "\n",
            "» Running all `loglikelihood` requests\n"
          ]
        },
        {
          "name": "stderr",
          "output_type": "stream",
          "text": [
            "\n",
            "INFO:lm_eval.evaluator:\n",
            "» Running all `loglikelihood` requests\n",
            "100%|██████████| 15084/15084 [01:42<00:00, 147.81it/s]\n"
          ]
        },
        {
          "name": "stdout",
          "output_type": "stream",
          "text": [
            "determiner_noun_agreement:\t75.07%\n"
          ]
        },
        {
          "data": {
            "application/vnd.jupyter.widget-view+json": {
              "model_id": "83a8c577325b4d7a8fd53d18d5bd202d",
              "version_major": 2,
              "version_minor": 0
            },
            "text/plain": [
              "Generating train split:   0%|          | 0/1732 [00:00<?, ? examples/s]"
            ]
          },
          "metadata": {},
          "output_type": "display_data"
        },
        {
          "name": "stdout",
          "output_type": "stream",
          "text": [
            "\n",
            "» Assigning unique IDs to 'blimp_from_file+null' docs\n"
          ]
        },
        {
          "name": "stderr",
          "output_type": "stream",
          "text": [
            "INFO:lm_eval.evaluator:\n",
            "» Assigning unique IDs to 'blimp_from_file+null' docs\n"
          ]
        },
        {
          "data": {
            "application/vnd.jupyter.widget-view+json": {
              "model_id": "e76ffe8c9b354df8af7a73faeae69cb0",
              "version_major": 2,
              "version_minor": 0
            },
            "text/plain": [
              "Map:   0%|          | 0/1732 [00:00<?, ? examples/s]"
            ]
          },
          "metadata": {},
          "output_type": "display_data"
        },
        {
          "name": "stdout",
          "output_type": "stream",
          "text": [
            "\n",
            "» Filtering invalid docs from 'blimp_from_file+null'\n"
          ]
        },
        {
          "name": "stderr",
          "output_type": "stream",
          "text": [
            "INFO:lm_eval.evaluator:\n",
            "» Filtering invalid docs from 'blimp_from_file+null'\n"
          ]
        },
        {
          "data": {
            "application/vnd.jupyter.widget-view+json": {
              "model_id": "3ad8313b6f5c4da29afbd28c129ef8d8",
              "version_major": 2,
              "version_minor": 0
            },
            "text/plain": [
              "Filter:   0%|          | 0/1732 [00:00<?, ? examples/s]"
            ]
          },
          "metadata": {},
          "output_type": "display_data"
        },
        {
          "name": "stdout",
          "output_type": "stream",
          "text": [
            "\n",
            "» Constructing 'blimp_from_file+null' contexts and requests\n"
          ]
        },
        {
          "name": "stderr",
          "output_type": "stream",
          "text": [
            "INFO:lm_eval.evaluator:\n",
            "» Constructing 'blimp_from_file+null' contexts and requests\n",
            "100%|██████████| 1732/1732 [00:00<00:00, 6807.65it/s]"
          ]
        },
        {
          "name": "stdout",
          "output_type": "stream",
          "text": [
            "\n",
            "» Running all `loglikelihood` requests\n"
          ]
        },
        {
          "name": "stderr",
          "output_type": "stream",
          "text": [
            "\n",
            "INFO:lm_eval.evaluator:\n",
            "» Running all `loglikelihood` requests\n",
            "100%|██████████| 3464/3464 [00:27<00:00, 127.58it/s]\n"
          ]
        },
        {
          "name": "stdout",
          "output_type": "stream",
          "text": [
            "ellipsis:\t46.19%\n"
          ]
        },
        {
          "data": {
            "application/vnd.jupyter.widget-view+json": {
              "model_id": "995ebdeadf2e4a43a4017e9fd21fad1c",
              "version_major": 2,
              "version_minor": 0
            },
            "text/plain": [
              "Generating train split:   0%|          | 0/6426 [00:00<?, ? examples/s]"
            ]
          },
          "metadata": {},
          "output_type": "display_data"
        },
        {
          "name": "stdout",
          "output_type": "stream",
          "text": [
            "\n",
            "» Assigning unique IDs to 'blimp_from_file+null' docs\n"
          ]
        },
        {
          "name": "stderr",
          "output_type": "stream",
          "text": [
            "INFO:lm_eval.evaluator:\n",
            "» Assigning unique IDs to 'blimp_from_file+null' docs\n"
          ]
        },
        {
          "data": {
            "application/vnd.jupyter.widget-view+json": {
              "model_id": "9e72b2bd222240aabeb08dc2a72b4d5d",
              "version_major": 2,
              "version_minor": 0
            },
            "text/plain": [
              "Map:   0%|          | 0/6426 [00:00<?, ? examples/s]"
            ]
          },
          "metadata": {},
          "output_type": "display_data"
        },
        {
          "name": "stdout",
          "output_type": "stream",
          "text": [
            "\n",
            "» Filtering invalid docs from 'blimp_from_file+null'\n"
          ]
        },
        {
          "name": "stderr",
          "output_type": "stream",
          "text": [
            "INFO:lm_eval.evaluator:\n",
            "» Filtering invalid docs from 'blimp_from_file+null'\n"
          ]
        },
        {
          "data": {
            "application/vnd.jupyter.widget-view+json": {
              "model_id": "91cc7f54061043b59c73485a6ec3a23c",
              "version_major": 2,
              "version_minor": 0
            },
            "text/plain": [
              "Filter:   0%|          | 0/6426 [00:00<?, ? examples/s]"
            ]
          },
          "metadata": {},
          "output_type": "display_data"
        },
        {
          "name": "stdout",
          "output_type": "stream",
          "text": [
            "\n",
            "» Constructing 'blimp_from_file+null' contexts and requests\n"
          ]
        },
        {
          "name": "stderr",
          "output_type": "stream",
          "text": [
            "INFO:lm_eval.evaluator:\n",
            "» Constructing 'blimp_from_file+null' contexts and requests\n",
            "100%|██████████| 6426/6426 [00:01<00:00, 4586.83it/s]"
          ]
        },
        {
          "name": "stdout",
          "output_type": "stream",
          "text": [
            "\n",
            "» Running all `loglikelihood` requests\n"
          ]
        },
        {
          "name": "stderr",
          "output_type": "stream",
          "text": [
            "\n",
            "INFO:lm_eval.evaluator:\n",
            "» Running all `loglikelihood` requests\n",
            "100%|██████████| 12852/12852 [01:34<00:00, 136.43it/s]\n"
          ]
        },
        {
          "name": "stdout",
          "output_type": "stream",
          "text": [
            "filler_gap:\t60.99%\n"
          ]
        },
        {
          "data": {
            "application/vnd.jupyter.widget-view+json": {
              "model_id": "3650b9128f8e496d9d47bc173539a95a",
              "version_major": 2,
              "version_minor": 0
            },
            "text/plain": [
              "Generating train split:   0%|          | 0/1965 [00:00<?, ? examples/s]"
            ]
          },
          "metadata": {},
          "output_type": "display_data"
        },
        {
          "name": "stdout",
          "output_type": "stream",
          "text": [
            "\n",
            "» Assigning unique IDs to 'blimp_from_file+null' docs\n"
          ]
        },
        {
          "name": "stderr",
          "output_type": "stream",
          "text": [
            "INFO:lm_eval.evaluator:\n",
            "» Assigning unique IDs to 'blimp_from_file+null' docs\n"
          ]
        },
        {
          "data": {
            "application/vnd.jupyter.widget-view+json": {
              "model_id": "1cbac6afbaa643df958568db27ca8c12",
              "version_major": 2,
              "version_minor": 0
            },
            "text/plain": [
              "Map:   0%|          | 0/1965 [00:00<?, ? examples/s]"
            ]
          },
          "metadata": {},
          "output_type": "display_data"
        },
        {
          "name": "stdout",
          "output_type": "stream",
          "text": [
            "\n",
            "» Filtering invalid docs from 'blimp_from_file+null'\n"
          ]
        },
        {
          "name": "stderr",
          "output_type": "stream",
          "text": [
            "INFO:lm_eval.evaluator:\n",
            "» Filtering invalid docs from 'blimp_from_file+null'\n"
          ]
        },
        {
          "data": {
            "application/vnd.jupyter.widget-view+json": {
              "model_id": "647ca4ca16924c6f9b804d1657599911",
              "version_major": 2,
              "version_minor": 0
            },
            "text/plain": [
              "Filter:   0%|          | 0/1965 [00:00<?, ? examples/s]"
            ]
          },
          "metadata": {},
          "output_type": "display_data"
        },
        {
          "name": "stdout",
          "output_type": "stream",
          "text": [
            "\n",
            "» Constructing 'blimp_from_file+null' contexts and requests\n"
          ]
        },
        {
          "name": "stderr",
          "output_type": "stream",
          "text": [
            "INFO:lm_eval.evaluator:\n",
            "» Constructing 'blimp_from_file+null' contexts and requests\n",
            "100%|██████████| 1965/1965 [00:00<00:00, 6241.18it/s]"
          ]
        },
        {
          "name": "stdout",
          "output_type": "stream",
          "text": [
            "\n",
            "» Running all `loglikelihood` requests\n"
          ]
        },
        {
          "name": "stderr",
          "output_type": "stream",
          "text": [
            "\n",
            "INFO:lm_eval.evaluator:\n",
            "» Running all `loglikelihood` requests\n",
            "100%|██████████| 3930/3930 [00:25<00:00, 154.71it/s]\n"
          ]
        },
        {
          "name": "stdout",
          "output_type": "stream",
          "text": [
            "irregular_forms:\t87.38%\n"
          ]
        },
        {
          "data": {
            "application/vnd.jupyter.widget-view+json": {
              "model_id": "73891305eec4473da6fc85cbda1020cf",
              "version_major": 2,
              "version_minor": 0
            },
            "text/plain": [
              "Generating train split:   0%|          | 0/2676 [00:00<?, ? examples/s]"
            ]
          },
          "metadata": {},
          "output_type": "display_data"
        },
        {
          "name": "stdout",
          "output_type": "stream",
          "text": [
            "\n",
            "» Assigning unique IDs to 'blimp_from_file+null' docs\n"
          ]
        },
        {
          "name": "stderr",
          "output_type": "stream",
          "text": [
            "INFO:lm_eval.evaluator:\n",
            "» Assigning unique IDs to 'blimp_from_file+null' docs\n"
          ]
        },
        {
          "data": {
            "application/vnd.jupyter.widget-view+json": {
              "model_id": "3c82e95de84646dda03b31dde21793cf",
              "version_major": 2,
              "version_minor": 0
            },
            "text/plain": [
              "Map:   0%|          | 0/2676 [00:00<?, ? examples/s]"
            ]
          },
          "metadata": {},
          "output_type": "display_data"
        },
        {
          "name": "stdout",
          "output_type": "stream",
          "text": [
            "\n",
            "» Filtering invalid docs from 'blimp_from_file+null'\n"
          ]
        },
        {
          "name": "stderr",
          "output_type": "stream",
          "text": [
            "INFO:lm_eval.evaluator:\n",
            "» Filtering invalid docs from 'blimp_from_file+null'\n"
          ]
        },
        {
          "data": {
            "application/vnd.jupyter.widget-view+json": {
              "model_id": "35f3c2619e644f17ab75021e2e682295",
              "version_major": 2,
              "version_minor": 0
            },
            "text/plain": [
              "Filter:   0%|          | 0/2676 [00:00<?, ? examples/s]"
            ]
          },
          "metadata": {},
          "output_type": "display_data"
        },
        {
          "name": "stdout",
          "output_type": "stream",
          "text": [
            "\n",
            "» Constructing 'blimp_from_file+null' contexts and requests\n"
          ]
        },
        {
          "name": "stderr",
          "output_type": "stream",
          "text": [
            "INFO:lm_eval.evaluator:\n",
            "» Constructing 'blimp_from_file+null' contexts and requests\n",
            "100%|██████████| 2676/2676 [00:00<00:00, 6181.12it/s]"
          ]
        },
        {
          "name": "stdout",
          "output_type": "stream",
          "text": [
            "\n",
            "» Running all `loglikelihood` requests\n"
          ]
        },
        {
          "name": "stderr",
          "output_type": "stream",
          "text": [
            "\n",
            "INFO:lm_eval.evaluator:\n",
            "» Running all `loglikelihood` requests\n",
            "100%|██████████| 5352/5352 [00:38<00:00, 137.88it/s]\n"
          ]
        },
        {
          "name": "stdout",
          "output_type": "stream",
          "text": [
            "island_effects:\t41.37%\n"
          ]
        },
        {
          "data": {
            "application/vnd.jupyter.widget-view+json": {
              "model_id": "075ad881703749d6b2089768ac198de2",
              "version_major": 2,
              "version_minor": 0
            },
            "text/plain": [
              "Generating train split:   0%|          | 0/6586 [00:00<?, ? examples/s]"
            ]
          },
          "metadata": {},
          "output_type": "display_data"
        },
        {
          "name": "stdout",
          "output_type": "stream",
          "text": [
            "\n",
            "» Assigning unique IDs to 'blimp_from_file+null' docs\n"
          ]
        },
        {
          "name": "stderr",
          "output_type": "stream",
          "text": [
            "INFO:lm_eval.evaluator:\n",
            "» Assigning unique IDs to 'blimp_from_file+null' docs\n"
          ]
        },
        {
          "data": {
            "application/vnd.jupyter.widget-view+json": {
              "model_id": "07d947092c6d420db2c9f240b3c34536",
              "version_major": 2,
              "version_minor": 0
            },
            "text/plain": [
              "Map:   0%|          | 0/6586 [00:00<?, ? examples/s]"
            ]
          },
          "metadata": {},
          "output_type": "display_data"
        },
        {
          "name": "stdout",
          "output_type": "stream",
          "text": [
            "\n",
            "» Filtering invalid docs from 'blimp_from_file+null'\n"
          ]
        },
        {
          "name": "stderr",
          "output_type": "stream",
          "text": [
            "INFO:lm_eval.evaluator:\n",
            "» Filtering invalid docs from 'blimp_from_file+null'\n"
          ]
        },
        {
          "data": {
            "application/vnd.jupyter.widget-view+json": {
              "model_id": "1bad6dfb26eb48ddaa99db50eba24dc5",
              "version_major": 2,
              "version_minor": 0
            },
            "text/plain": [
              "Filter:   0%|          | 0/6586 [00:00<?, ? examples/s]"
            ]
          },
          "metadata": {},
          "output_type": "display_data"
        },
        {
          "name": "stdout",
          "output_type": "stream",
          "text": [
            "\n",
            "» Constructing 'blimp_from_file+null' contexts and requests\n"
          ]
        },
        {
          "name": "stderr",
          "output_type": "stream",
          "text": [
            "INFO:lm_eval.evaluator:\n",
            "» Constructing 'blimp_from_file+null' contexts and requests\n",
            "100%|██████████| 6586/6586 [00:01<00:00, 6252.96it/s]"
          ]
        },
        {
          "name": "stdout",
          "output_type": "stream",
          "text": [
            "\n",
            "» Running all `loglikelihood` requests\n"
          ]
        },
        {
          "name": "stderr",
          "output_type": "stream",
          "text": [
            "\n",
            "INFO:lm_eval.evaluator:\n",
            "» Running all `loglikelihood` requests\n",
            "100%|██████████| 13172/13172 [01:32<00:00, 142.45it/s]\n"
          ]
        },
        {
          "name": "stdout",
          "output_type": "stream",
          "text": [
            "npi_licensing:\t54.33%\n"
          ]
        },
        {
          "data": {
            "application/vnd.jupyter.widget-view+json": {
              "model_id": "ea91263e076045ed82f1de5caa69b7af",
              "version_major": 2,
              "version_minor": 0
            },
            "text/plain": [
              "Generating train split:   0%|          | 0/3882 [00:00<?, ? examples/s]"
            ]
          },
          "metadata": {},
          "output_type": "display_data"
        },
        {
          "name": "stdout",
          "output_type": "stream",
          "text": [
            "\n",
            "» Assigning unique IDs to 'blimp_from_file+null' docs\n"
          ]
        },
        {
          "name": "stderr",
          "output_type": "stream",
          "text": [
            "INFO:lm_eval.evaluator:\n",
            "» Assigning unique IDs to 'blimp_from_file+null' docs\n"
          ]
        },
        {
          "data": {
            "application/vnd.jupyter.widget-view+json": {
              "model_id": "f717b6400d35451c96edc60bbc7fbb2e",
              "version_major": 2,
              "version_minor": 0
            },
            "text/plain": [
              "Map:   0%|          | 0/3882 [00:00<?, ? examples/s]"
            ]
          },
          "metadata": {},
          "output_type": "display_data"
        },
        {
          "name": "stdout",
          "output_type": "stream",
          "text": [
            "\n",
            "» Filtering invalid docs from 'blimp_from_file+null'\n"
          ]
        },
        {
          "name": "stderr",
          "output_type": "stream",
          "text": [
            "INFO:lm_eval.evaluator:\n",
            "» Filtering invalid docs from 'blimp_from_file+null'\n"
          ]
        },
        {
          "data": {
            "application/vnd.jupyter.widget-view+json": {
              "model_id": "9ee2b9e6d0d64f48a58c1e247adc6573",
              "version_major": 2,
              "version_minor": 0
            },
            "text/plain": [
              "Filter:   0%|          | 0/3882 [00:00<?, ? examples/s]"
            ]
          },
          "metadata": {},
          "output_type": "display_data"
        },
        {
          "name": "stdout",
          "output_type": "stream",
          "text": [
            "\n",
            "» Constructing 'blimp_from_file+null' contexts and requests\n"
          ]
        },
        {
          "name": "stderr",
          "output_type": "stream",
          "text": [
            "INFO:lm_eval.evaluator:\n",
            "» Constructing 'blimp_from_file+null' contexts and requests\n",
            "100%|██████████| 3882/3882 [00:00<00:00, 6211.76it/s]"
          ]
        },
        {
          "name": "stdout",
          "output_type": "stream",
          "text": [
            "\n",
            "» Running all `loglikelihood` requests\n"
          ]
        },
        {
          "name": "stderr",
          "output_type": "stream",
          "text": [
            "\n",
            "INFO:lm_eval.evaluator:\n",
            "» Running all `loglikelihood` requests\n",
            "100%|██████████| 7764/7764 [00:54<00:00, 143.47it/s]\n"
          ]
        },
        {
          "name": "stdout",
          "output_type": "stream",
          "text": [
            "quantifiers:\t64.61%\n"
          ]
        },
        {
          "data": {
            "application/vnd.jupyter.widget-view+json": {
              "model_id": "a3fb260106304bdfaf8ffb2c3415ed45",
              "version_major": 2,
              "version_minor": 0
            },
            "text/plain": [
              "Generating train split:   0%|          | 0/5535 [00:00<?, ? examples/s]"
            ]
          },
          "metadata": {},
          "output_type": "display_data"
        },
        {
          "name": "stdout",
          "output_type": "stream",
          "text": [
            "\n",
            "» Assigning unique IDs to 'blimp_from_file+null' docs\n"
          ]
        },
        {
          "name": "stderr",
          "output_type": "stream",
          "text": [
            "INFO:lm_eval.evaluator:\n",
            "» Assigning unique IDs to 'blimp_from_file+null' docs\n"
          ]
        },
        {
          "data": {
            "application/vnd.jupyter.widget-view+json": {
              "model_id": "f0b49daf0bab4d4ba5fe52c2878b0817",
              "version_major": 2,
              "version_minor": 0
            },
            "text/plain": [
              "Map:   0%|          | 0/5535 [00:00<?, ? examples/s]"
            ]
          },
          "metadata": {},
          "output_type": "display_data"
        },
        {
          "name": "stdout",
          "output_type": "stream",
          "text": [
            "\n",
            "» Filtering invalid docs from 'blimp_from_file+null'\n"
          ]
        },
        {
          "name": "stderr",
          "output_type": "stream",
          "text": [
            "INFO:lm_eval.evaluator:\n",
            "» Filtering invalid docs from 'blimp_from_file+null'\n"
          ]
        },
        {
          "data": {
            "application/vnd.jupyter.widget-view+json": {
              "model_id": "bb4a16f39b014d1aa74ff65e501fcc64",
              "version_major": 2,
              "version_minor": 0
            },
            "text/plain": [
              "Filter:   0%|          | 0/5535 [00:00<?, ? examples/s]"
            ]
          },
          "metadata": {},
          "output_type": "display_data"
        },
        {
          "name": "stdout",
          "output_type": "stream",
          "text": [
            "\n",
            "» Constructing 'blimp_from_file+null' contexts and requests\n"
          ]
        },
        {
          "name": "stderr",
          "output_type": "stream",
          "text": [
            "INFO:lm_eval.evaluator:\n",
            "» Constructing 'blimp_from_file+null' contexts and requests\n",
            "100%|██████████| 5535/5535 [00:01<00:00, 4438.53it/s]"
          ]
        },
        {
          "name": "stdout",
          "output_type": "stream",
          "text": [
            "\n",
            "» Running all `loglikelihood` requests\n"
          ]
        },
        {
          "name": "stderr",
          "output_type": "stream",
          "text": [
            "\n",
            "INFO:lm_eval.evaluator:\n",
            "» Running all `loglikelihood` requests\n",
            "100%|██████████| 11070/11070 [01:15<00:00, 146.99it/s]\n"
          ]
        },
        {
          "name": "stdout",
          "output_type": "stream",
          "text": [
            "subject_verb_agreement:\t53.01%\n"
          ]
        },
        {
          "data": {
            "application/vnd.jupyter.widget-view+json": {
              "model_id": "750858864dcd47d18275b33eae012c17",
              "version_major": 2,
              "version_minor": 0
            },
            "text/plain": [
              "Generating train split:   0%|          | 0/4394 [00:00<?, ? examples/s]"
            ]
          },
          "metadata": {},
          "output_type": "display_data"
        },
        {
          "name": "stdout",
          "output_type": "stream",
          "text": [
            "\n",
            "» Assigning unique IDs to 'blimp_from_file+null' docs\n"
          ]
        },
        {
          "name": "stderr",
          "output_type": "stream",
          "text": [
            "INFO:lm_eval.evaluator:\n",
            "» Assigning unique IDs to 'blimp_from_file+null' docs\n"
          ]
        },
        {
          "data": {
            "application/vnd.jupyter.widget-view+json": {
              "model_id": "9c75b0a9bfe84ff0abde166413660d97",
              "version_major": 2,
              "version_minor": 0
            },
            "text/plain": [
              "Map:   0%|          | 0/4394 [00:00<?, ? examples/s]"
            ]
          },
          "metadata": {},
          "output_type": "display_data"
        },
        {
          "name": "stdout",
          "output_type": "stream",
          "text": [
            "\n",
            "» Filtering invalid docs from 'blimp_from_file+null'\n"
          ]
        },
        {
          "name": "stderr",
          "output_type": "stream",
          "text": [
            "INFO:lm_eval.evaluator:\n",
            "» Filtering invalid docs from 'blimp_from_file+null'\n"
          ]
        },
        {
          "data": {
            "application/vnd.jupyter.widget-view+json": {
              "model_id": "9b39db978e244cd7b5c4e1d4c73cd44a",
              "version_major": 2,
              "version_minor": 0
            },
            "text/plain": [
              "Filter:   0%|          | 0/4394 [00:00<?, ? examples/s]"
            ]
          },
          "metadata": {},
          "output_type": "display_data"
        },
        {
          "name": "stdout",
          "output_type": "stream",
          "text": [
            "\n",
            "» Constructing 'blimp_from_file+null' contexts and requests\n"
          ]
        },
        {
          "name": "stderr",
          "output_type": "stream",
          "text": [
            "INFO:lm_eval.evaluator:\n",
            "» Constructing 'blimp_from_file+null' contexts and requests\n",
            "100%|██████████| 4394/4394 [00:00<00:00, 6035.98it/s]"
          ]
        },
        {
          "name": "stdout",
          "output_type": "stream",
          "text": [
            "\n",
            "» Running all `loglikelihood` requests\n"
          ]
        },
        {
          "name": "stderr",
          "output_type": "stream",
          "text": [
            "\n",
            "INFO:lm_eval.evaluator:\n",
            "» Running all `loglikelihood` requests\n",
            "100%|██████████| 8788/8788 [01:22<00:00, 106.61it/s]\n",
            "/content/evaluation-pipeline/lm_eval/api/task.py:589: RuntimeWarning: divide by zero encountered in divide\n",
            "  if np.argmax(results / completion_len) == target_idx\n"
          ]
        },
        {
          "name": "stdout",
          "output_type": "stream",
          "text": [
            "preposition:\t59.24%\n",
            "\n",
            "Scores:\n",
            "anaphor_agreement:\t61.81%\n",
            "argument_structure:\t60.90%\n",
            "binding:\t60.88%\n",
            "control_raising:\t57.95%\n",
            "determiner_noun_agreement:\t75.07%\n",
            "ellipsis:\t46.19%\n",
            "filler_gap:\t60.99%\n",
            "irregular_forms:\t87.38%\n",
            "island_effects:\t41.37%\n",
            "npi_licensing:\t54.33%\n",
            "quantifiers:\t64.61%\n",
            "subject_verb_agreement:\t53.01%\n",
            "preposition:\t59.24%\n"
          ]
        }
      ],
      "source": [
        "#@title Load model and evaluate (BLiMP) { display-mode: \"form\" }\n",
        "model = \"/content/drive/MyDrive/VU Thesis/Code/baby_models/V20L4/model_e4_v20_l4/\" #@param {\"type\": \"string\"}\n",
        "model_type = \"encoder\" #@param [\"decoder\", \"encoder\", \"encoder-decoder\"]\n",
        "# file_name = \"examples3.csv\" #@param {\"type\": \"string\"}\n",
        "# model_names = [\"opt-125m\", \"opt-350m\", \"opt-1.3b\", \"opt-2.7b\"] #@param {\"type\": \"raw\"}\n",
        "\n",
        "%cd /content/evaluation-pipeline\n",
        "%run /content/evaluation-pipeline/babylm_eval_prep.py \\\n",
        "  \"$model\" \\\n",
        "  \"$model_type\" \\\n",
        "  -t \"blimp_with_preposition\""
      ]
    },
    {
      "cell_type": "markdown",
      "metadata": {
        "id": "SDSUoTbXpHQa"
      },
      "source": [
        "### Epoch 5"
      ]
    },
    {
      "cell_type": "code",
      "execution_count": null,
      "metadata": {
        "colab": {
          "base_uri": "https://localhost:8080/",
          "height": 1000,
          "referenced_widgets": [
            "928ca2f0c86e4bd6922894ba033f5fb6",
            "0a37d48290ae4a318ba53ab2c523120a",
            "938c369bfa614209879d25cd3a33e4ab",
            "0f0db37e790a48f491a414aaba5810a8",
            "25bfc8b16be948b4914fe27fa00c91b6",
            "5e880f302c2b4c5f89fc8b0c37410422",
            "31b82b3883bb4b17a721c28b3b793713",
            "3e6ed9c92e574b2c86e70ee587aff32f",
            "3ea56122632149ef800f9bafd6562325",
            "1f7677c938404a14b3c02c8dde21a1a0",
            "5e8b544663664490b16e776a7f120db8",
            "b8f72299756a40908269522a2dd93cf7",
            "83a03ffe8ea14fa5acd874fc1b4fd970",
            "fe2886908e2d4a5587a137bc0fa27f94",
            "a224147513114bb083f8fe3f73a6e436",
            "8601c77aceaf4d58a1d21761a1a6f015",
            "58c29941936141f3b8d2d3daaa0c20cd",
            "1e96fa5e7a9048339e1c4228fab99519",
            "796338b0e2e04a16a96d1947a9e27eab",
            "dd1d296981784ed789aa9dbb7fbe3a46",
            "a804f073bc1a4e46acd9667880603af8",
            "7c3a098599674f3da259689cd66d8689",
            "4f65c0b63d0f421da6f5fcf82f93c55e",
            "6f1aa7cc98e14f7388a5f01714dbb9de",
            "b90abc3e1dfd4447ad9bde81ded7165f",
            "6b66f49d3c5342ce9d16691a6830a735",
            "ce509a53494b48128d71607dac20b9b2",
            "b8c55925170044e18309c00b353d2e1a",
            "28ee3b6f476247f886c3a63cfbfdd812",
            "a493de4197744037adabefcf65cc841b",
            "7901a851e2e54fe2a10abb54b98b5d56",
            "4b545000e6254b6eaccf4693ed2e3714",
            "458dd01df4d64abb92915aeecb9023dc",
            "b78ae02074fa414c8b27211f13dcde3a",
            "56e8f13556294524937fbabb1a6f5349",
            "34922bbcd0094c678199fb2dc27e834a",
            "2d240aee64034a69bc4725ae5014c9f4",
            "1726e97dd10f4014aa5dd1c5f69b550e",
            "b46d6dd5e43540d092be6a127975a344",
            "a6be73280d744ca5b8a46e83f79b879d",
            "265cf25486ef4bfdb13852e07ded30eb",
            "637e9697483e412d909f798ceb870d2e",
            "11506433bbcd43b480c8d3254007156a",
            "d4adbeab3b0343a282e72d0bb224a30c",
            "e63655baada0467d81b578d8a11af86d",
            "4f2f92662c184b7bb9172e928e9a2db7",
            "fa12a1b35e2144e582868bdde86c66e7",
            "a70dc449ceea455ab637bd5dabf612d9",
            "46ee188695ba45e99edda00da42282c7",
            "718e513c79ea42d9ab957952773c05b5",
            "f2c975bfad3c48fc9dc2b5f7d576cf16",
            "57e1fa37b4bf4a47834286a3ca958b9a",
            "a9171c72e22a4c71b7ba45a502619c27",
            "7359e28833d04b0caaec52c41a872668",
            "f47ad7d59eb64456a58197da8d96ef73",
            "4d2db4c6a7db4e298a19a4af2dfc19cb",
            "7f4db9cb0af141fdac2edfbe44718647",
            "1e51320023f94a49bebf4d09d68f2671",
            "f36381c06fb6454e9e4c95c236fb89ec",
            "7b7b161ec3254661a64ad8a8ea3d406b",
            "b4861d58bc6b45958839abad217baa5e",
            "0d116d66bcd54a12a7f64710886acac7",
            "b7f98cb4d4ed480e846b177c70f678c2",
            "3a4daec22c2a4345bf61bdcc6caae518",
            "1251f63d3d0f4ec5b5e1714dc7ed2abe",
            "afc2a4518ec0471c830f675a807475f1",
            "d8b12be246cd480296286ce4ac6a5b91",
            "fe26f68bc363422a989558800cf83f9a",
            "bcafb6b5cde8476da8378fc583f556ac",
            "520008b51ec444de9656b309a33e53cc",
            "17b1acae601345acbfcf247ecafb363a",
            "36f4eb1c7ef940f79611604988ce760d",
            "3157d615e3bd436e91934ac203b16317",
            "9cb2d03eb20141608aa1b6111d89a463",
            "517d092255694bd587cbbc703d1515d1",
            "ab2722d60f3244ac820c943bd77669a8",
            "2c9cd3282dbf4e4482a1087663fc8a00",
            "42a12d0beba64ec49f31b20d90cb8908",
            "b07cbd65dc884deba64f07e74086fc7b",
            "110683b5be00411ba20578536af89ca9",
            "0cc11ab17f934b40b86eed6d18eb21e4",
            "32f745e7939c4b54a3155fc0ec0182d2",
            "8498f239ca1e4b5bac08ececd0883a5f",
            "fefa33eae5794237b094d8f28ec11940",
            "4fcfbfd01ef24e6189b84dd190c1fa30",
            "507f2059ab2e43d0ad4d5aa373db145a",
            "422d432217a54db6938aeebfa0fadf99",
            "8d13a75091f54d1eab2080d0d9b866b8",
            "668b368f8b7e4c23880a92c1c50fe54c",
            "ea8de073c3e1489fa78fd4093bbd1dc8",
            "7de9fd1001174703847f6d3466d173ff",
            "d815ba73356d424eb3474db15442c7b6",
            "2c71b57641c243b4a0b9dce919595e7e",
            "977437c5ca5b47dc9621edab8246f23b",
            "25529e97e1444e2f970bfca498238e97",
            "faf6b4442be24e76927a6a059a7c5f60",
            "bcb832fc1fab4364ad44c38e129b89dc",
            "88eeb97500534829b3274c3616e9012a",
            "42922d260ee04b46af10f79d95f23b38",
            "d0d2a2298f314f2b98859ae0f5675fa6",
            "4030376c7a894bc896d5cb3aa2c43ab4",
            "9d07af1fe2944edd871799993ba86652",
            "b405427b3e5a438dadab6bcd79aa8cdd",
            "cd6f4a5425ab4bfe8a1e8318f17579c0",
            "7057a65756bb4b22aef64d171fc9320f",
            "78f41f427ad94147ac5b4d584c6f0655",
            "585cad101542458e8adf01bf7dd4b291",
            "f5775b24598d4c89b158a264268f8151",
            "bb1c4c2a3fe84acba88f870bd97c2b7e",
            "17fffb1b4d264c468c9308951938d6d1",
            "8f03c2092ce44deaa9be6eed46676edc",
            "2bb1a845230c4d45b10f0a5efbde555b",
            "ce064880ac6b4b5db094ef30e3b15b68",
            "70436383e95f467e813e8f911fa45a15",
            "953b4e77f6f7436da4a57729dc5bbdef",
            "8552eef696c44ca4a27fec4082e52086",
            "da88d1a0e9674da5871255632f3632c5",
            "1757bf49d8184dc3bc09603800aca8ba",
            "a110dca81ca54a85a37b397c1f1b0c0a",
            "cc8ae730534742cd9a82de22ef27be1a",
            "f40cadea32ef40918b150a4ed9da10b8",
            "459d1e6399494af2ab7969a451bc25c1",
            "024c00268faa46f8ae9faf41cdd5b24a",
            "792fa1e33e1a42acad1c59e0c9b63f06",
            "27d09b8a4ff144a78a00ff750524f742",
            "912acc29e5f9419e868affae6e027303",
            "8bff99bcf9c54a74b54a65a0ba1414ad",
            "5fc2446d527e44de96573926956bb81c",
            "9e042c0ed529452a9f0d8c7677e13fee",
            "f7a12401c2d349b1812a3659471ac611",
            "8260c0dcfdc34ca8b593c6b0d7512ca9",
            "40f81a087b924128ad07593e543b95af",
            "62e1d37c91564ebca460f3381bb03b9e",
            "7e95d1e2613144b19a139af65a4c008a",
            "72e69c381e7745d78736ab9f420d003b",
            "25f5a3e5b4cc4dfd9f46d5d38bbf7616",
            "61ebfa77537e4981a2295e16fc8806de",
            "bc9c82ad93544ec99a2cb4a507b16dc3",
            "e1c2442d18ae4f98956730b690b7b8bf",
            "2dc82cb8be17415bae8356b9572d5e73",
            "185414eb38654d4fbaf1a33f76b1ee14",
            "0a823b8ec74149e5afc6aab3694f9b75",
            "006e6a1a1c0a4a8b870c9d6961e554ed",
            "ea1ba4399fef4f398f1e822e9cdbbac1",
            "8ffd7079a20647d78cdd60f49a60de8a",
            "94ee7484634d495cad4269c5f6e49007",
            "8654203457cc46709f9a83a5b2ee5f3a",
            "fd97a206ce5d446fb69273a74405b3fd",
            "30356b5c151d48f593e797ca957b22ea",
            "25ec078e86bf4464b2bdc8097a80bae5",
            "1a9cfb1da18c49c1b06e19ecd3269239",
            "5ff54d1bda0d476ab761103266b3a78f",
            "eb2bf81809934740b683cca531ccae4d",
            "9a71e469c0be45d785acde32368960b5",
            "146b6a8048104712927fb0c3e7c21c67",
            "77afa3d6d1134df1bbc45c935d144bc4",
            "06211d4e6a6246afaa848188c28d75dd",
            "44a523069762409fa7f3b95e14cdec47",
            "b02f384a7aa7444dbf7760aefb42b4b0",
            "d43889cce8ef4e948c0554ddb4166ba5",
            "1e5a6e603b5e4ccfb5a00218adca62ac",
            "332db44ec81140d3b2ead7bce49c24c8",
            "57d4f4e8962d4d00b657b30f064149aa",
            "0431e7d16bac4d6694bc4ad819c21135",
            "6956bf0bfd0e4e7bacd455be5ce68aaa",
            "303ae5deae6e47a69cb0f4b24b31833b",
            "0a10bb47cbbb4b48a7749d50090eec33",
            "9d8fc180d6ff4211a494039727be9659",
            "8019cc56671d4854b04f0ee8c2e68630",
            "c3e7ba7703c548a1bd1252019697465c",
            "7520482f0fd04e32a6cbf2ce460ed5e7",
            "8e120868cd1a41d9b9060b2ce51da524",
            "079e97ba695a4520a2e995456363469c",
            "d5cf76120dae45218ab2442cafdb248a",
            "4d8e3dea13a346eaa183c18bd1f33e1b",
            "68bb946f37824a5992cbd5e7271f4c60",
            "b5514c289aa54bcabba0bd582c573d91",
            "d871dc53e3984ef9be0b97c6e2d54920",
            "bc1948c8ee5042be91118eeeea58bbaf",
            "678ebb9ceb314a79838fbc6f45e5884a",
            "4c02d8626f3349488d839f353a5aa7ee",
            "cc980f649e5e4bbab66e589d2f22e3ec",
            "b58f0be1404b4e6a830828609be96386",
            "941e95817d994d92b16faa7e666ed72d",
            "937fc66ed5b5448e9753ba7c60013335",
            "97683a8fbab3463fb1ed4c4c3056f418",
            "92083e9896b74f48ad207d60c4043867",
            "0677382f5e3142918ba2f008391782ec",
            "16491bd4424447d6a6997355df62e517",
            "a04c66c4b4774842809ec8ae52522def",
            "a4e9280b47c847ae9daa1571a30b4a0e",
            "72076ba7abe644e48514f9bdc0a88c99",
            "18074b5939aa4ec7bd363078d6433d27",
            "8fbca05ce9f6424fb1c5e54cc8e0fb99",
            "cb546f9fdf1140e0b74fd537ae7df20f",
            "3d6ac4eda1e0498cb0711c3ee69837d8",
            "46fcd0670a2d421cb01c2f5cc583dff4",
            "46ca10672eeb49258b6e7d4ab7a16cc7",
            "a7354b8fd2ed496daf66eb7d9b38a20f",
            "d5eaee3b77e6468283cdac64bfd3c46c",
            "fee632d95f094b3dbca4d2d14e32e484",
            "115444db9cad4497ae8564bd86005d50",
            "18577c29919043b7b252129e0e036fa1",
            "9aa81a67ad734dac98860dd82abc60a1",
            "6249592c561f4bacb126f27228ab1405",
            "a2d03d5e8ba04a81ac5707931d6a637d",
            "35ac22e07bab4f4d9f15ba4a1bcba579",
            "5bd9e79bc71a4b699c3de1898c5fdba4",
            "9130b909ba234fc6b30d0d75cb58556e",
            "b1f165ef70104416bec1e2384befbeb3",
            "661e44b3b07a4b4bb476b27e8e8fbec1",
            "ce6b647fa0b14ee7a87337dea108f222",
            "3d0b265631ca4a14a2af2ffd66ecebc4",
            "6301e20bfebe4a798f855f0f8dd5a571",
            "2b3bcb28041448a0853d7537ea109c55",
            "41a9e3d011344108997887edbdb922b8",
            "89da76c66e324350a9eb98a31431f7c9",
            "66739e55e69c4816bab91ecb82732945",
            "c9420322a224466abbd3434295288c06",
            "97d111ee065342c2841d8c928fddf05d",
            "f17845235b9c4d808a6ad123f86610ed",
            "7f36aece476b4f3495b8fdcb0f64f0f5",
            "5338a4ab1d374da79539f8743a0be51d",
            "ee2174eac12d4d40851cb71f539ec70e",
            "9ff4c27a2a1d40518b362d2628b603dc",
            "7ed2058e2d484d898f370e8649ef702a",
            "9945a6137562480ab53c77d0a3189ed3",
            "02f1cbf2123246eba0b6bc019fea507d",
            "ccf187d5dd374ec98dec874e9f8008a9",
            "b9822aad47d94180b91958c021ea48bf",
            "6ff4226d40ba439aaedba0869b0ca845",
            "48eb5503cffc4a89999f32af87aa6aa9",
            "a9cd71646ed641c491896bb0b8a7b5f9",
            "cadbb8bc96b545b7a1a2f99d91d4f55d",
            "c595ebb647a34737a970790ea73ee01d",
            "a6a82d41b2d44941abb45cae9912578d",
            "fc317e2b0acc49ddb8575763a786262c",
            "b1189249e10d46d28e114722e8a8d59c",
            "8c470117ecbd496c88fe1b82c13e13b3",
            "30737599ab564e1eb6a84367704d2dff",
            "a34435c3981b40f99d07e10e978fdca9",
            "8201c2905076494aa1251cee215e60e5",
            "089c46bc6e7642dca1958332d98c07b7",
            "b5f2614ba1ec49bbbd90f0ca4690e9f0",
            "51e83152deba4fbd9b14211ff09cd219",
            "30b1390a94494fd4b36549de520dfcb0",
            "0792e3c65ef04484a6468143a91b5f35",
            "37b3a57279f84febb4951fbdfbd712bc",
            "f47fe5916d5144738b404c3dcbea5693",
            "aeeddec0beb444eeb2c2861205a67a9e",
            "096b3d93f20045bf92fbd94d2734d3d7",
            "c860d56cad754090ab11ac6c1ec3a7f3",
            "a1ddc308d6a545878a36ddd956265df0",
            "4eddef798a034dcb87da0d5bd5243b7d",
            "fa4db73dd3564c349db66aa722497eb6",
            "b03961cb166745d8a6fbb430dce7d919",
            "d6640fcafdc2418c8a7b599858ce39a1",
            "55b19ad65ace4682b9c6339329c58a3a",
            "fec4f15c3ae54000a7d77a308a5305ef",
            "cfea744e8a0a49daace2e810429477c6",
            "eda8e6ba3aa44ab98d044ff59b4174bb",
            "03fb035dad794578bb2f239c1600f346",
            "569739016e104e5d934c2ee36843fc6c",
            "051269cc8d36454ebff1c538c5ed6f80",
            "3a90f8db118542418f67b76aad4e4e32",
            "b27c494b03d3442e8868c6ba148500a5",
            "ca6c1d27e9f04d6ca51542d1aa8cda51",
            "f41476d73aa2470fb0450cd42a9168f3",
            "49eeee0b56cd4117be263f773041fab6",
            "dbe9f72cdb3d4034a6109b5ccb5cde2a",
            "84d90fe71a3b4da8a4ead469a370e6a7",
            "df8be822059b467dadb514dc3735a85d",
            "5597b1bb44e44a1a9166b17bfc89ecc9",
            "e9fd0f611a3a4e16af815859ed01b380",
            "29b3699e8cc94bb8baf00cb43ce07a0b",
            "7476e8c3ece44427adb59067497b0db1",
            "2408580f4e524430a447634f75292a8a",
            "67a2ac866bb14ae1acba3de7ef7bdeda",
            "74905c55bdac4de09c1da6bf2c9a34a6",
            "f973623c37964344a2d7a370ef0f6aaa",
            "7b74e15d00434871ba072befe32f0ae1",
            "86ae0e68ae6d45a5bf2ceaf5020fcdd8",
            "a7650a9c86fc46c9aad14c10d9dc5c52",
            "86dfe10b6c934efba9f189a767b1e807",
            "8b739f22637145b2a3702b3f46cbe9c7",
            "b0f02654ba92478883ac21aeb29950a6",
            "653e22eaf04b4453b0b0ba43c9f4e311",
            "f2815312a13044bc9e61bf1636837b5c",
            "a70db8407766434b96b7df301ccdf3f5",
            "8f0a0f462c964dc1882c45a7906a15a4",
            "9c863282d25846ffbeae0c5184da8325",
            "5dbf10ba0d9f4c7a983345a02f59a043",
            "1f828016f0a44bd69cbe12aba6215e8d",
            "141e5e2ee4a74abf86c4437faab3bbbf",
            "3ab1032f45c24b64aff35879bd6190e2",
            "a81d85af07d24b5681246b6ed81b2f96",
            "442550ac571c48e685ebdf501b0e1e1b",
            "16b3e65a10ac45fd8264c443fcc4b673",
            "d79bbdf23c76496991ab7bd507de432e",
            "4d3b60b72e5e4c718fd09b5a98311104",
            "64ffdd61f3db462a99a1878540f1dc15",
            "63756c0c80c94f7caa23ee649570fdc1",
            "257954d20cdc43dbb4d40d63700ee06c",
            "945480cd71e94a2ca859140a87d28ce6",
            "ed2b2c98394e45f1b86a5247ebd6da54",
            "f791f316f0d34c6bbc6402ebf5413055",
            "b416da079c2b496b9f14241649c8b413",
            "89432b13de804e5aab20969a850cb983",
            "e39400ccdc9b4f0a863f1d26e6c72c99",
            "001d5d46872149068a249ae9060ad047",
            "c48458066156496ebf4926b56716f344",
            "f6daf39505e24e12b12192f7e66cc84e",
            "d2e516c4758947ad9ded4fcff6111a62",
            "1bec1facdd494dd0af7133f3b4bed7e8",
            "7ef7997b05be43b0a647920577d94fe0",
            "4673f7c5c6334dc4b0a1dd76b22a8d12",
            "a32b3ea6eb1c4ecf848e6928f464b247",
            "a767d4253d4941aca5e1b049c3244be9",
            "926ad84a13514cf79b192ca21c2ec015",
            "10161f377c1745faa72d5dfdc83b155f",
            "61a54bf6780643c98408ddae972a1b27",
            "4201a68ffc514bf9b9008f8122b8366a",
            "1738b30885284030bd345c760463215f",
            "19ed24452076418ea958060b47a939f7",
            "239dbcfb91a442b4ae63353b467aada4",
            "ff1e3a1ac40844728716be146980fd90",
            "73b6ca23c8bb4dbc8669eb1f6e0aef50",
            "bf7482711fa0495e901d1e3bb31b75c8",
            "72fabb8a29854325bf880b0cf532af7b",
            "66b3b07782534c8c8b097c7cfbda0859",
            "71aca897da6343a1a970e0750a9dabbc",
            "f9c696671b22406f91966d2c91cb2fd6",
            "431b734f9d334f9aafb35fac4fb7beb0",
            "dd03537dfae74311a180c8a533bc8b69",
            "45dbf42800ae44c0a42f648df35a63f3",
            "21c153c503b44449a5d7344d1c8ba737",
            "92896bcfea7f4f4bad58ff2ca634a491",
            "48f4511f59e44968b39d6a3349776e69",
            "eec081df49904ff0b22f80b2d98e63a9",
            "46f7e8bbd4ba47faa6bfdfa1cde61ceb",
            "c231b2531a80497ebbccc5cd908b7cfe",
            "82f2cf3035ce4f2dac24d2bde954b1ee",
            "a625baee711e49e486432cbd896532e9",
            "b6b43023db8546d4a4760e05ad64a0fd",
            "b3775bfab6894654ac499b46f2e1d279",
            "3eb589f3a04c457fba37e9e9cdfaf482",
            "713b6f879a014a02b726101c253b713a",
            "a3ace5712e354969ad37b3c6820b1e71",
            "8c6af35773e042e5b895e75e256c1cf7",
            "79867506235e4980be0c2700765980b5",
            "6d18c3b3027d465ebc0197a1d7766f29",
            "5de0ecdc88fc4b888b52eb00ca53de73",
            "e1f38c353c3e4b9dbbfe1899bbdcebe5",
            "13d38f14e15c4efdbef00bed5d41c5a0",
            "50b825ac523949b788859a750eb2bb62",
            "a07a691a348e4f37a4f9e629056c5450",
            "809371a64af44ec3b48bd15b3fe0da9c",
            "a352f391bed54d13b6435c1e146251ec",
            "e54a606ffaac44f484d1666abab9b397",
            "ff69c742977c452596994179499dd466",
            "3aeba10886b04f548a6b1ae6b8cf27d0",
            "51e6a69face646b7a34832a45e754e8b",
            "3665cab99da54c5d90b2190e1bb0a796",
            "df9c3a929cdd48a5b03cd895e12a0e51",
            "2f9043a0532e4a68b15165b199a74f3e",
            "5e9813958c4b422bbf9f8e606680fe68",
            "a3f411e299454bbd818a18b59940ca8b",
            "63ec6a5790b6445eab71393ab3ce3cc8",
            "cb6f2f57f011460b821cd26b8f9d3a91",
            "d89ffead699845428af24df9907885f6",
            "626afd6ab78d4d7696a838a928afa330",
            "19731cd2583f4eb6aab47506a3df9816",
            "726ac404d4f149d9888bfbbd84836152",
            "5ac50c2665994af694c636515b1629cb",
            "d7517781595b4d75acdbd9399acabb3e",
            "f810b907c7f44f67958ce5e438594a61",
            "9808498c3ac44ec892c24dc4787f6da6",
            "e69656243153489f99fc90bcef293251",
            "66bf641c15004502a1d015fa8474d21f",
            "772dc39d0c134a188c6898f96895f206",
            "8ffce9ddd545461787274b64eaad9183",
            "4432d9145489400d89af0be688cf0781",
            "7e6b13fab1844816a6a65abf8149acb4",
            "f2f8f6e752fd4c6783a576718e55b03f",
            "ca9091f355d54967b0521e0d6bc43050",
            "8e1d002fdaf14f78b5a2e41817974f49",
            "1e0fc9923ae247cc9b9083e4cd71c7cb",
            "944135bb712640b78a00d2396cb521fd",
            "4f537d0cc86048308bae61743aa1fe1a",
            "5333ad30126e4e83ae1599b25a8082a2",
            "ecd6847495ca43caab39ffc0b89b398f",
            "7882063f236e40748002b367269001b6",
            "0919bd8ff27c49979f3ca72ef4451409",
            "c41d5574a75a4ec398c27f6e54c0f2d8",
            "7376d6a40ded4855ab64dcd40e6717f1",
            "0a839ce0e9b4462699c035fc78911e51",
            "e0993c7620ab499995867a75800ae6d9",
            "51c8806e836e4fbf91e3658dec6488e1",
            "db7e50e63c7a4420897f10102772f75c",
            "fd4812d2d14f4c5e89df0386f3f1a27d",
            "8298ce1ccafd49c0b9938a49ef03aa18",
            "43cc144bd0de47e59bbec332e6ede035",
            "d6c602d128734ad9af99115775018924",
            "41f44f9947b6460588b1cd136a7341dd",
            "41ea63a0c0854915adc5af5aa46f8bef",
            "1bb9d191e2954e748f60aaacff7b8bdf",
            "8a1de326b53d4fc983cd738a77618aa3",
            "15276f2df27e46d8b73cd51bdf968956",
            "89f13e544a2f4cfeab164dece938c9db",
            "9e164eefa794496a86f72d72dd13e8e6",
            "2d512c8f84bf404a80e61bc3cc560e28",
            "2e7cf85eaaf44a1f8debd731927a9c1e",
            "56375d7fd0e943549ac98ccda591c658",
            "2d654a9ca94d4a359e593d72fc42af00",
            "5e9b26e6fbdf408e87a1bf24d2d56982",
            "c70f6fb92aa04cf78b7bb43486344572",
            "ac3862a5878b4a91a212cb289623bc76",
            "f9e31a54b8dc493ba461483cc0299d65",
            "76c4efe659844084925929692000686d",
            "85464dcc60e343f59055e6f712b622a3",
            "ed8396c4a03547fca221e61f26baf344",
            "343b9502f496406e88894715a584776f",
            "d7aac376e7f844bf8472df7ba1ba0113",
            "f71290725d454f69b38e89d7670e1a98",
            "b66687b2e09444b892406ccd4ac777d3",
            "7c8ce1f585834c209e326d3ce6f54af5",
            "b3146ca0b6094473b40bf24c84774fba",
            "022fa47a74b249baaf682549e1120ef3",
            "9f014847f16d49a9aeab1add57004b37",
            "e4da06ea52714178b1775ae89158f939",
            "4906c3f7ca234081a4eebe9a79a182c6",
            "682307747889476a98eb39a8c65f409f",
            "19a8d9ce2cb64b8ca007b8ea9b5bc431",
            "2a14edf6f9d84e57984d8e132d10bd7c",
            "fe9d54053ebb45d0972e3555129fbd4d",
            "c78b0a89aa6f4c06a157e7a45875f44c",
            "1491ea4170064085b57fdb65ed00f0df",
            "7f7c637c844c4bee8f0196c0030558b0",
            "b08e9c78a9b944da8f183ea482976f50",
            "e8e4aa35714742d58be4b1a2e56faf00",
            "b913839502bc4690a2f2a74a03ffba3b",
            "f2f2a1be77a6423cbdf6bf67d35a42d1",
            "e9911fdb11cb4872882cde1cb8416360",
            "99c435c4d48440a890c2e0020fe84eaa",
            "d6658ce5d7054ba288d1779b90cf372b",
            "b25373be096744f4996c1d9af518d8c6",
            "6e38951243e743d393ab00ee8e7caecb",
            "faca37928b67418c83ad2bd18a407554",
            "08a766913cdd467bb2b0a5ad926f48f7",
            "7e98e75411064cb9bda3dd98b9e6d04c",
            "0f105f42a98e4a03925790bdd197da63",
            "ce83d81954c647f8a72152f582a99f4f",
            "41b379b7e7d64fe090c7909a82ec40cd",
            "045970a89b1843b780ee115b00b9bbd7",
            "0c13ae892a4c437eb4ed9a676969cdad",
            "39ec9524b3244bae9794284c2751ebce",
            "74db2cdecaa447bfab61fe2ba21caaa1",
            "74e952851a18441ab5ac2c0979807a4c",
            "1a99e99d8d90498d83b6d91f53a195d9",
            "f3408988a4b24b5c8db65d7f58111e44",
            "0c2fb1c01a0443f1b723968b0866179c",
            "3dea187e54c84b69a0dfb8ac8dbdb10f"
          ]
        },
        "id": "XAiJJIu5uwK8",
        "outputId": "68708d3c-407e-46d0-93f4-cd5e7633008d"
      },
      "outputs": [
        {
          "name": "stdout",
          "output_type": "stream",
          "text": [
            "/content/evaluation-pipeline\n"
          ]
        },
        {
          "data": {
            "application/vnd.jupyter.widget-view+json": {
              "model_id": "928ca2f0c86e4bd6922894ba033f5fb6",
              "version_major": 2,
              "version_minor": 0
            },
            "text/plain": [
              "Generating train split:   0%|          | 0/1956 [00:00<?, ? examples/s]"
            ]
          },
          "metadata": {},
          "output_type": "display_data"
        },
        {
          "name": "stdout",
          "output_type": "stream",
          "text": [
            "\n",
            "» Assigning unique IDs to 'blimp_from_file+null' docs\n"
          ]
        },
        {
          "name": "stderr",
          "output_type": "stream",
          "text": [
            "INFO:lm_eval.evaluator:\n",
            "» Assigning unique IDs to 'blimp_from_file+null' docs\n"
          ]
        },
        {
          "data": {
            "application/vnd.jupyter.widget-view+json": {
              "model_id": "b8f72299756a40908269522a2dd93cf7",
              "version_major": 2,
              "version_minor": 0
            },
            "text/plain": [
              "Map:   0%|          | 0/1956 [00:00<?, ? examples/s]"
            ]
          },
          "metadata": {},
          "output_type": "display_data"
        },
        {
          "name": "stdout",
          "output_type": "stream",
          "text": [
            "\n",
            "» Filtering invalid docs from 'blimp_from_file+null'\n"
          ]
        },
        {
          "name": "stderr",
          "output_type": "stream",
          "text": [
            "INFO:lm_eval.evaluator:\n",
            "» Filtering invalid docs from 'blimp_from_file+null'\n"
          ]
        },
        {
          "data": {
            "application/vnd.jupyter.widget-view+json": {
              "model_id": "4f65c0b63d0f421da6f5fcf82f93c55e",
              "version_major": 2,
              "version_minor": 0
            },
            "text/plain": [
              "Filter:   0%|          | 0/1956 [00:00<?, ? examples/s]"
            ]
          },
          "metadata": {},
          "output_type": "display_data"
        },
        {
          "name": "stdout",
          "output_type": "stream",
          "text": [
            "\n",
            "» Constructing 'blimp_from_file+null' contexts and requests\n"
          ]
        },
        {
          "name": "stderr",
          "output_type": "stream",
          "text": [
            "INFO:lm_eval.evaluator:\n",
            "» Constructing 'blimp_from_file+null' contexts and requests\n",
            "100%|██████████| 1956/1956 [00:00<00:00, 6090.49it/s]"
          ]
        },
        {
          "name": "stdout",
          "output_type": "stream",
          "text": [
            "\n",
            "» Running all `loglikelihood` requests\n"
          ]
        },
        {
          "name": "stderr",
          "output_type": "stream",
          "text": [
            "\n",
            "INFO:lm_eval.evaluator:\n",
            "» Running all `loglikelihood` requests\n",
            "100%|██████████| 3912/3912 [00:24<00:00, 160.13it/s]\n"
          ]
        },
        {
          "name": "stdout",
          "output_type": "stream",
          "text": [
            "anaphor_agreement:\t63.85%\n"
          ]
        },
        {
          "data": {
            "application/vnd.jupyter.widget-view+json": {
              "model_id": "b78ae02074fa414c8b27211f13dcde3a",
              "version_major": 2,
              "version_minor": 0
            },
            "text/plain": [
              "Generating train split:   0%|          | 0/8248 [00:00<?, ? examples/s]"
            ]
          },
          "metadata": {},
          "output_type": "display_data"
        },
        {
          "name": "stdout",
          "output_type": "stream",
          "text": [
            "\n",
            "» Assigning unique IDs to 'blimp_from_file+null' docs\n"
          ]
        },
        {
          "name": "stderr",
          "output_type": "stream",
          "text": [
            "INFO:lm_eval.evaluator:\n",
            "» Assigning unique IDs to 'blimp_from_file+null' docs\n"
          ]
        },
        {
          "data": {
            "application/vnd.jupyter.widget-view+json": {
              "model_id": "e63655baada0467d81b578d8a11af86d",
              "version_major": 2,
              "version_minor": 0
            },
            "text/plain": [
              "Map:   0%|          | 0/8248 [00:00<?, ? examples/s]"
            ]
          },
          "metadata": {},
          "output_type": "display_data"
        },
        {
          "name": "stdout",
          "output_type": "stream",
          "text": [
            "\n",
            "» Filtering invalid docs from 'blimp_from_file+null'\n"
          ]
        },
        {
          "name": "stderr",
          "output_type": "stream",
          "text": [
            "INFO:lm_eval.evaluator:\n",
            "» Filtering invalid docs from 'blimp_from_file+null'\n"
          ]
        },
        {
          "data": {
            "application/vnd.jupyter.widget-view+json": {
              "model_id": "4d2db4c6a7db4e298a19a4af2dfc19cb",
              "version_major": 2,
              "version_minor": 0
            },
            "text/plain": [
              "Filter:   0%|          | 0/8248 [00:00<?, ? examples/s]"
            ]
          },
          "metadata": {},
          "output_type": "display_data"
        },
        {
          "name": "stdout",
          "output_type": "stream",
          "text": [
            "\n",
            "» Constructing 'blimp_from_file+null' contexts and requests\n"
          ]
        },
        {
          "name": "stderr",
          "output_type": "stream",
          "text": [
            "INFO:lm_eval.evaluator:\n",
            "» Constructing 'blimp_from_file+null' contexts and requests\n",
            "100%|██████████| 8248/8248 [00:01<00:00, 6219.13it/s]"
          ]
        },
        {
          "name": "stdout",
          "output_type": "stream",
          "text": [
            "\n",
            "» Running all `loglikelihood` requests\n"
          ]
        },
        {
          "name": "stderr",
          "output_type": "stream",
          "text": [
            "\n",
            "INFO:lm_eval.evaluator:\n",
            "» Running all `loglikelihood` requests\n",
            "100%|██████████| 16496/16496 [01:47<00:00, 152.75it/s]\n"
          ]
        },
        {
          "name": "stdout",
          "output_type": "stream",
          "text": [
            "argument_structure:\t61.60%\n"
          ]
        },
        {
          "data": {
            "application/vnd.jupyter.widget-view+json": {
              "model_id": "d8b12be246cd480296286ce4ac6a5b91",
              "version_major": 2,
              "version_minor": 0
            },
            "text/plain": [
              "Generating train split:   0%|          | 0/6738 [00:00<?, ? examples/s]"
            ]
          },
          "metadata": {},
          "output_type": "display_data"
        },
        {
          "name": "stdout",
          "output_type": "stream",
          "text": [
            "\n",
            "» Assigning unique IDs to 'blimp_from_file+null' docs\n"
          ]
        },
        {
          "name": "stderr",
          "output_type": "stream",
          "text": [
            "INFO:lm_eval.evaluator:\n",
            "» Assigning unique IDs to 'blimp_from_file+null' docs\n"
          ]
        },
        {
          "data": {
            "application/vnd.jupyter.widget-view+json": {
              "model_id": "42a12d0beba64ec49f31b20d90cb8908",
              "version_major": 2,
              "version_minor": 0
            },
            "text/plain": [
              "Map:   0%|          | 0/6738 [00:00<?, ? examples/s]"
            ]
          },
          "metadata": {},
          "output_type": "display_data"
        },
        {
          "name": "stdout",
          "output_type": "stream",
          "text": [
            "\n",
            "» Filtering invalid docs from 'blimp_from_file+null'\n"
          ]
        },
        {
          "name": "stderr",
          "output_type": "stream",
          "text": [
            "INFO:lm_eval.evaluator:\n",
            "» Filtering invalid docs from 'blimp_from_file+null'\n"
          ]
        },
        {
          "data": {
            "application/vnd.jupyter.widget-view+json": {
              "model_id": "668b368f8b7e4c23880a92c1c50fe54c",
              "version_major": 2,
              "version_minor": 0
            },
            "text/plain": [
              "Filter:   0%|          | 0/6738 [00:00<?, ? examples/s]"
            ]
          },
          "metadata": {},
          "output_type": "display_data"
        },
        {
          "name": "stdout",
          "output_type": "stream",
          "text": [
            "\n",
            "» Constructing 'blimp_from_file+null' contexts and requests\n"
          ]
        },
        {
          "name": "stderr",
          "output_type": "stream",
          "text": [
            "INFO:lm_eval.evaluator:\n",
            "» Constructing 'blimp_from_file+null' contexts and requests\n",
            "100%|██████████| 6738/6738 [00:01<00:00, 4732.34it/s]"
          ]
        },
        {
          "name": "stdout",
          "output_type": "stream",
          "text": [
            "\n",
            "» Running all `loglikelihood` requests\n"
          ]
        },
        {
          "name": "stderr",
          "output_type": "stream",
          "text": [
            "\n",
            "INFO:lm_eval.evaluator:\n",
            "» Running all `loglikelihood` requests\n",
            "100%|██████████| 13476/13476 [01:32<00:00, 145.83it/s]\n"
          ]
        },
        {
          "name": "stdout",
          "output_type": "stream",
          "text": [
            "binding:\t60.79%\n"
          ]
        },
        {
          "data": {
            "application/vnd.jupyter.widget-view+json": {
              "model_id": "d0d2a2298f314f2b98859ae0f5675fa6",
              "version_major": 2,
              "version_minor": 0
            },
            "text/plain": [
              "Generating train split:   0%|          | 0/4526 [00:00<?, ? examples/s]"
            ]
          },
          "metadata": {},
          "output_type": "display_data"
        },
        {
          "name": "stdout",
          "output_type": "stream",
          "text": [
            "\n",
            "» Assigning unique IDs to 'blimp_from_file+null' docs\n"
          ]
        },
        {
          "name": "stderr",
          "output_type": "stream",
          "text": [
            "INFO:lm_eval.evaluator:\n",
            "» Assigning unique IDs to 'blimp_from_file+null' docs\n"
          ]
        },
        {
          "data": {
            "application/vnd.jupyter.widget-view+json": {
              "model_id": "8f03c2092ce44deaa9be6eed46676edc",
              "version_major": 2,
              "version_minor": 0
            },
            "text/plain": [
              "Map:   0%|          | 0/4526 [00:00<?, ? examples/s]"
            ]
          },
          "metadata": {},
          "output_type": "display_data"
        },
        {
          "name": "stdout",
          "output_type": "stream",
          "text": [
            "\n",
            "» Filtering invalid docs from 'blimp_from_file+null'\n"
          ]
        },
        {
          "name": "stderr",
          "output_type": "stream",
          "text": [
            "INFO:lm_eval.evaluator:\n",
            "» Filtering invalid docs from 'blimp_from_file+null'\n"
          ]
        },
        {
          "data": {
            "application/vnd.jupyter.widget-view+json": {
              "model_id": "459d1e6399494af2ab7969a451bc25c1",
              "version_major": 2,
              "version_minor": 0
            },
            "text/plain": [
              "Filter:   0%|          | 0/4526 [00:00<?, ? examples/s]"
            ]
          },
          "metadata": {},
          "output_type": "display_data"
        },
        {
          "name": "stdout",
          "output_type": "stream",
          "text": [
            "\n",
            "» Constructing 'blimp_from_file+null' contexts and requests\n"
          ]
        },
        {
          "name": "stderr",
          "output_type": "stream",
          "text": [
            "INFO:lm_eval.evaluator:\n",
            "» Constructing 'blimp_from_file+null' contexts and requests\n",
            "100%|██████████| 4526/4526 [00:00<00:00, 5749.75it/s]"
          ]
        },
        {
          "name": "stdout",
          "output_type": "stream",
          "text": [
            "\n",
            "» Running all `loglikelihood` requests\n"
          ]
        },
        {
          "name": "stderr",
          "output_type": "stream",
          "text": [
            "\n",
            "INFO:lm_eval.evaluator:\n",
            "» Running all `loglikelihood` requests\n",
            "100%|██████████| 9052/9052 [01:05<00:00, 138.53it/s]\n"
          ]
        },
        {
          "name": "stdout",
          "output_type": "stream",
          "text": [
            "control_raising:\t58.59%\n"
          ]
        },
        {
          "data": {
            "application/vnd.jupyter.widget-view+json": {
              "model_id": "62e1d37c91564ebca460f3381bb03b9e",
              "version_major": 2,
              "version_minor": 0
            },
            "text/plain": [
              "Generating train split:   0%|          | 0/7542 [00:00<?, ? examples/s]"
            ]
          },
          "metadata": {},
          "output_type": "display_data"
        },
        {
          "name": "stdout",
          "output_type": "stream",
          "text": [
            "\n",
            "» Assigning unique IDs to 'blimp_from_file+null' docs\n"
          ]
        },
        {
          "name": "stderr",
          "output_type": "stream",
          "text": [
            "INFO:lm_eval.evaluator:\n",
            "» Assigning unique IDs to 'blimp_from_file+null' docs\n"
          ]
        },
        {
          "data": {
            "application/vnd.jupyter.widget-view+json": {
              "model_id": "ea1ba4399fef4f398f1e822e9cdbbac1",
              "version_major": 2,
              "version_minor": 0
            },
            "text/plain": [
              "Map:   0%|          | 0/7542 [00:00<?, ? examples/s]"
            ]
          },
          "metadata": {},
          "output_type": "display_data"
        },
        {
          "name": "stdout",
          "output_type": "stream",
          "text": [
            "\n",
            "» Filtering invalid docs from 'blimp_from_file+null'\n"
          ]
        },
        {
          "name": "stderr",
          "output_type": "stream",
          "text": [
            "INFO:lm_eval.evaluator:\n",
            "» Filtering invalid docs from 'blimp_from_file+null'\n"
          ]
        },
        {
          "data": {
            "application/vnd.jupyter.widget-view+json": {
              "model_id": "146b6a8048104712927fb0c3e7c21c67",
              "version_major": 2,
              "version_minor": 0
            },
            "text/plain": [
              "Filter:   0%|          | 0/7542 [00:00<?, ? examples/s]"
            ]
          },
          "metadata": {},
          "output_type": "display_data"
        },
        {
          "name": "stdout",
          "output_type": "stream",
          "text": [
            "\n",
            "» Constructing 'blimp_from_file+null' contexts and requests\n"
          ]
        },
        {
          "name": "stderr",
          "output_type": "stream",
          "text": [
            "INFO:lm_eval.evaluator:\n",
            "» Constructing 'blimp_from_file+null' contexts and requests\n",
            "100%|██████████| 7542/7542 [00:01<00:00, 6178.38it/s]"
          ]
        },
        {
          "name": "stdout",
          "output_type": "stream",
          "text": [
            "\n",
            "» Running all `loglikelihood` requests\n"
          ]
        },
        {
          "name": "stderr",
          "output_type": "stream",
          "text": [
            "\n",
            "INFO:lm_eval.evaluator:\n",
            "» Running all `loglikelihood` requests\n",
            "100%|██████████| 15084/15084 [01:39<00:00, 151.25it/s]\n"
          ]
        },
        {
          "name": "stdout",
          "output_type": "stream",
          "text": [
            "determiner_noun_agreement:\t75.93%\n"
          ]
        },
        {
          "data": {
            "application/vnd.jupyter.widget-view+json": {
              "model_id": "303ae5deae6e47a69cb0f4b24b31833b",
              "version_major": 2,
              "version_minor": 0
            },
            "text/plain": [
              "Generating train split:   0%|          | 0/1732 [00:00<?, ? examples/s]"
            ]
          },
          "metadata": {},
          "output_type": "display_data"
        },
        {
          "name": "stdout",
          "output_type": "stream",
          "text": [
            "\n",
            "» Assigning unique IDs to 'blimp_from_file+null' docs\n"
          ]
        },
        {
          "name": "stderr",
          "output_type": "stream",
          "text": [
            "INFO:lm_eval.evaluator:\n",
            "» Assigning unique IDs to 'blimp_from_file+null' docs\n"
          ]
        },
        {
          "data": {
            "application/vnd.jupyter.widget-view+json": {
              "model_id": "b5514c289aa54bcabba0bd582c573d91",
              "version_major": 2,
              "version_minor": 0
            },
            "text/plain": [
              "Map:   0%|          | 0/1732 [00:00<?, ? examples/s]"
            ]
          },
          "metadata": {},
          "output_type": "display_data"
        },
        {
          "name": "stdout",
          "output_type": "stream",
          "text": [
            "\n",
            "» Filtering invalid docs from 'blimp_from_file+null'\n"
          ]
        },
        {
          "name": "stderr",
          "output_type": "stream",
          "text": [
            "INFO:lm_eval.evaluator:\n",
            "» Filtering invalid docs from 'blimp_from_file+null'\n"
          ]
        },
        {
          "data": {
            "application/vnd.jupyter.widget-view+json": {
              "model_id": "0677382f5e3142918ba2f008391782ec",
              "version_major": 2,
              "version_minor": 0
            },
            "text/plain": [
              "Filter:   0%|          | 0/1732 [00:00<?, ? examples/s]"
            ]
          },
          "metadata": {},
          "output_type": "display_data"
        },
        {
          "name": "stdout",
          "output_type": "stream",
          "text": [
            "\n",
            "» Constructing 'blimp_from_file+null' contexts and requests\n"
          ]
        },
        {
          "name": "stderr",
          "output_type": "stream",
          "text": [
            "INFO:lm_eval.evaluator:\n",
            "» Constructing 'blimp_from_file+null' contexts and requests\n",
            "100%|██████████| 1732/1732 [00:00<00:00, 5788.49it/s]"
          ]
        },
        {
          "name": "stdout",
          "output_type": "stream",
          "text": [
            "\n",
            "» Running all `loglikelihood` requests\n"
          ]
        },
        {
          "name": "stderr",
          "output_type": "stream",
          "text": [
            "\n",
            "INFO:lm_eval.evaluator:\n",
            "» Running all `loglikelihood` requests\n",
            "100%|██████████| 3464/3464 [00:26<00:00, 129.87it/s]\n"
          ]
        },
        {
          "name": "stdout",
          "output_type": "stream",
          "text": [
            "ellipsis:\t48.04%\n"
          ]
        },
        {
          "data": {
            "application/vnd.jupyter.widget-view+json": {
              "model_id": "a7354b8fd2ed496daf66eb7d9b38a20f",
              "version_major": 2,
              "version_minor": 0
            },
            "text/plain": [
              "Generating train split:   0%|          | 0/6426 [00:00<?, ? examples/s]"
            ]
          },
          "metadata": {},
          "output_type": "display_data"
        },
        {
          "name": "stdout",
          "output_type": "stream",
          "text": [
            "\n",
            "» Assigning unique IDs to 'blimp_from_file+null' docs\n"
          ]
        },
        {
          "name": "stderr",
          "output_type": "stream",
          "text": [
            "INFO:lm_eval.evaluator:\n",
            "» Assigning unique IDs to 'blimp_from_file+null' docs\n"
          ]
        },
        {
          "data": {
            "application/vnd.jupyter.widget-view+json": {
              "model_id": "b1f165ef70104416bec1e2384befbeb3",
              "version_major": 2,
              "version_minor": 0
            },
            "text/plain": [
              "Map:   0%|          | 0/6426 [00:00<?, ? examples/s]"
            ]
          },
          "metadata": {},
          "output_type": "display_data"
        },
        {
          "name": "stdout",
          "output_type": "stream",
          "text": [
            "\n",
            "» Filtering invalid docs from 'blimp_from_file+null'\n"
          ]
        },
        {
          "name": "stderr",
          "output_type": "stream",
          "text": [
            "INFO:lm_eval.evaluator:\n",
            "» Filtering invalid docs from 'blimp_from_file+null'\n"
          ]
        },
        {
          "data": {
            "application/vnd.jupyter.widget-view+json": {
              "model_id": "f17845235b9c4d808a6ad123f86610ed",
              "version_major": 2,
              "version_minor": 0
            },
            "text/plain": [
              "Filter:   0%|          | 0/6426 [00:00<?, ? examples/s]"
            ]
          },
          "metadata": {},
          "output_type": "display_data"
        },
        {
          "name": "stdout",
          "output_type": "stream",
          "text": [
            "\n",
            "» Constructing 'blimp_from_file+null' contexts and requests\n"
          ]
        },
        {
          "name": "stderr",
          "output_type": "stream",
          "text": [
            "INFO:lm_eval.evaluator:\n",
            "» Constructing 'blimp_from_file+null' contexts and requests\n",
            "100%|██████████| 6426/6426 [00:02<00:00, 3180.04it/s]"
          ]
        },
        {
          "name": "stdout",
          "output_type": "stream",
          "text": [
            "\n",
            "» Running all `loglikelihood` requests\n"
          ]
        },
        {
          "name": "stderr",
          "output_type": "stream",
          "text": [
            "\n",
            "INFO:lm_eval.evaluator:\n",
            "» Running all `loglikelihood` requests\n",
            "100%|██████████| 12852/12852 [01:32<00:00, 138.77it/s]\n"
          ]
        },
        {
          "name": "stdout",
          "output_type": "stream",
          "text": [
            "filler_gap:\t60.96%\n"
          ]
        },
        {
          "data": {
            "application/vnd.jupyter.widget-view+json": {
              "model_id": "48eb5503cffc4a89999f32af87aa6aa9",
              "version_major": 2,
              "version_minor": 0
            },
            "text/plain": [
              "Generating train split:   0%|          | 0/1965 [00:00<?, ? examples/s]"
            ]
          },
          "metadata": {},
          "output_type": "display_data"
        },
        {
          "name": "stdout",
          "output_type": "stream",
          "text": [
            "\n",
            "» Assigning unique IDs to 'blimp_from_file+null' docs\n"
          ]
        },
        {
          "name": "stderr",
          "output_type": "stream",
          "text": [
            "INFO:lm_eval.evaluator:\n",
            "» Assigning unique IDs to 'blimp_from_file+null' docs\n"
          ]
        },
        {
          "data": {
            "application/vnd.jupyter.widget-view+json": {
              "model_id": "089c46bc6e7642dca1958332d98c07b7",
              "version_major": 2,
              "version_minor": 0
            },
            "text/plain": [
              "Map:   0%|          | 0/1965 [00:00<?, ? examples/s]"
            ]
          },
          "metadata": {},
          "output_type": "display_data"
        },
        {
          "name": "stdout",
          "output_type": "stream",
          "text": [
            "\n",
            "» Filtering invalid docs from 'blimp_from_file+null'\n"
          ]
        },
        {
          "name": "stderr",
          "output_type": "stream",
          "text": [
            "INFO:lm_eval.evaluator:\n",
            "» Filtering invalid docs from 'blimp_from_file+null'\n"
          ]
        },
        {
          "data": {
            "application/vnd.jupyter.widget-view+json": {
              "model_id": "4eddef798a034dcb87da0d5bd5243b7d",
              "version_major": 2,
              "version_minor": 0
            },
            "text/plain": [
              "Filter:   0%|          | 0/1965 [00:00<?, ? examples/s]"
            ]
          },
          "metadata": {},
          "output_type": "display_data"
        },
        {
          "name": "stdout",
          "output_type": "stream",
          "text": [
            "\n",
            "» Constructing 'blimp_from_file+null' contexts and requests\n"
          ]
        },
        {
          "name": "stderr",
          "output_type": "stream",
          "text": [
            "INFO:lm_eval.evaluator:\n",
            "» Constructing 'blimp_from_file+null' contexts and requests\n",
            "100%|██████████| 1965/1965 [00:00<00:00, 3998.53it/s]"
          ]
        },
        {
          "name": "stdout",
          "output_type": "stream",
          "text": [
            "\n",
            "» Running all `loglikelihood` requests\n"
          ]
        },
        {
          "name": "stderr",
          "output_type": "stream",
          "text": [
            "\n",
            "INFO:lm_eval.evaluator:\n",
            "» Running all `loglikelihood` requests\n",
            "100%|██████████| 3930/3930 [00:25<00:00, 154.61it/s]\n"
          ]
        },
        {
          "name": "stdout",
          "output_type": "stream",
          "text": [
            "irregular_forms:\t88.09%\n"
          ]
        },
        {
          "data": {
            "application/vnd.jupyter.widget-view+json": {
              "model_id": "3a90f8db118542418f67b76aad4e4e32",
              "version_major": 2,
              "version_minor": 0
            },
            "text/plain": [
              "Generating train split:   0%|          | 0/2676 [00:00<?, ? examples/s]"
            ]
          },
          "metadata": {},
          "output_type": "display_data"
        },
        {
          "name": "stdout",
          "output_type": "stream",
          "text": [
            "\n",
            "» Assigning unique IDs to 'blimp_from_file+null' docs\n"
          ]
        },
        {
          "name": "stderr",
          "output_type": "stream",
          "text": [
            "INFO:lm_eval.evaluator:\n",
            "» Assigning unique IDs to 'blimp_from_file+null' docs\n"
          ]
        },
        {
          "data": {
            "application/vnd.jupyter.widget-view+json": {
              "model_id": "7476e8c3ece44427adb59067497b0db1",
              "version_major": 2,
              "version_minor": 0
            },
            "text/plain": [
              "Map:   0%|          | 0/2676 [00:00<?, ? examples/s]"
            ]
          },
          "metadata": {},
          "output_type": "display_data"
        },
        {
          "name": "stdout",
          "output_type": "stream",
          "text": [
            "\n",
            "» Filtering invalid docs from 'blimp_from_file+null'\n"
          ]
        },
        {
          "name": "stderr",
          "output_type": "stream",
          "text": [
            "INFO:lm_eval.evaluator:\n",
            "» Filtering invalid docs from 'blimp_from_file+null'\n"
          ]
        },
        {
          "data": {
            "application/vnd.jupyter.widget-view+json": {
              "model_id": "653e22eaf04b4453b0b0ba43c9f4e311",
              "version_major": 2,
              "version_minor": 0
            },
            "text/plain": [
              "Filter:   0%|          | 0/2676 [00:00<?, ? examples/s]"
            ]
          },
          "metadata": {},
          "output_type": "display_data"
        },
        {
          "name": "stdout",
          "output_type": "stream",
          "text": [
            "\n",
            "» Constructing 'blimp_from_file+null' contexts and requests\n"
          ]
        },
        {
          "name": "stderr",
          "output_type": "stream",
          "text": [
            "INFO:lm_eval.evaluator:\n",
            "» Constructing 'blimp_from_file+null' contexts and requests\n",
            "100%|██████████| 2676/2676 [00:00<00:00, 4007.56it/s]"
          ]
        },
        {
          "name": "stdout",
          "output_type": "stream",
          "text": [
            "\n",
            "» Running all `loglikelihood` requests\n"
          ]
        },
        {
          "name": "stderr",
          "output_type": "stream",
          "text": [
            "\n",
            "INFO:lm_eval.evaluator:\n",
            "» Running all `loglikelihood` requests\n",
            "100%|██████████| 5352/5352 [00:37<00:00, 141.84it/s]\n"
          ]
        },
        {
          "name": "stdout",
          "output_type": "stream",
          "text": [
            "island_effects:\t41.59%\n"
          ]
        },
        {
          "data": {
            "application/vnd.jupyter.widget-view+json": {
              "model_id": "16b3e65a10ac45fd8264c443fcc4b673",
              "version_major": 2,
              "version_minor": 0
            },
            "text/plain": [
              "Generating train split:   0%|          | 0/6586 [00:00<?, ? examples/s]"
            ]
          },
          "metadata": {},
          "output_type": "display_data"
        },
        {
          "name": "stdout",
          "output_type": "stream",
          "text": [
            "\n",
            "» Assigning unique IDs to 'blimp_from_file+null' docs\n"
          ]
        },
        {
          "name": "stderr",
          "output_type": "stream",
          "text": [
            "INFO:lm_eval.evaluator:\n",
            "» Assigning unique IDs to 'blimp_from_file+null' docs\n"
          ]
        },
        {
          "data": {
            "application/vnd.jupyter.widget-view+json": {
              "model_id": "e39400ccdc9b4f0a863f1d26e6c72c99",
              "version_major": 2,
              "version_minor": 0
            },
            "text/plain": [
              "Map:   0%|          | 0/6586 [00:00<?, ? examples/s]"
            ]
          },
          "metadata": {},
          "output_type": "display_data"
        },
        {
          "name": "stdout",
          "output_type": "stream",
          "text": [
            "\n",
            "» Filtering invalid docs from 'blimp_from_file+null'\n"
          ]
        },
        {
          "name": "stderr",
          "output_type": "stream",
          "text": [
            "INFO:lm_eval.evaluator:\n",
            "» Filtering invalid docs from 'blimp_from_file+null'\n"
          ]
        },
        {
          "data": {
            "application/vnd.jupyter.widget-view+json": {
              "model_id": "10161f377c1745faa72d5dfdc83b155f",
              "version_major": 2,
              "version_minor": 0
            },
            "text/plain": [
              "Filter:   0%|          | 0/6586 [00:00<?, ? examples/s]"
            ]
          },
          "metadata": {},
          "output_type": "display_data"
        },
        {
          "name": "stdout",
          "output_type": "stream",
          "text": [
            "\n",
            "» Constructing 'blimp_from_file+null' contexts and requests\n"
          ]
        },
        {
          "name": "stderr",
          "output_type": "stream",
          "text": [
            "INFO:lm_eval.evaluator:\n",
            "» Constructing 'blimp_from_file+null' contexts and requests\n",
            "100%|██████████| 6586/6586 [00:01<00:00, 5362.44it/s]"
          ]
        },
        {
          "name": "stdout",
          "output_type": "stream",
          "text": [
            "\n",
            "» Running all `loglikelihood` requests\n"
          ]
        },
        {
          "name": "stderr",
          "output_type": "stream",
          "text": [
            "\n",
            "INFO:lm_eval.evaluator:\n",
            "» Running all `loglikelihood` requests\n",
            "100%|██████████| 13172/13172 [01:30<00:00, 145.26it/s]\n"
          ]
        },
        {
          "name": "stdout",
          "output_type": "stream",
          "text": [
            "npi_licensing:\t56.98%\n"
          ]
        },
        {
          "data": {
            "application/vnd.jupyter.widget-view+json": {
              "model_id": "71aca897da6343a1a970e0750a9dabbc",
              "version_major": 2,
              "version_minor": 0
            },
            "text/plain": [
              "Generating train split:   0%|          | 0/3882 [00:00<?, ? examples/s]"
            ]
          },
          "metadata": {},
          "output_type": "display_data"
        },
        {
          "name": "stdout",
          "output_type": "stream",
          "text": [
            "\n",
            "» Assigning unique IDs to 'blimp_from_file+null' docs\n"
          ]
        },
        {
          "name": "stderr",
          "output_type": "stream",
          "text": [
            "INFO:lm_eval.evaluator:\n",
            "» Assigning unique IDs to 'blimp_from_file+null' docs\n"
          ]
        },
        {
          "data": {
            "application/vnd.jupyter.widget-view+json": {
              "model_id": "82f2cf3035ce4f2dac24d2bde954b1ee",
              "version_major": 2,
              "version_minor": 0
            },
            "text/plain": [
              "Map:   0%|          | 0/3882 [00:00<?, ? examples/s]"
            ]
          },
          "metadata": {},
          "output_type": "display_data"
        },
        {
          "name": "stdout",
          "output_type": "stream",
          "text": [
            "\n",
            "» Filtering invalid docs from 'blimp_from_file+null'\n"
          ]
        },
        {
          "name": "stderr",
          "output_type": "stream",
          "text": [
            "INFO:lm_eval.evaluator:\n",
            "» Filtering invalid docs from 'blimp_from_file+null'\n"
          ]
        },
        {
          "data": {
            "application/vnd.jupyter.widget-view+json": {
              "model_id": "e1f38c353c3e4b9dbbfe1899bbdcebe5",
              "version_major": 2,
              "version_minor": 0
            },
            "text/plain": [
              "Filter:   0%|          | 0/3882 [00:00<?, ? examples/s]"
            ]
          },
          "metadata": {},
          "output_type": "display_data"
        },
        {
          "name": "stdout",
          "output_type": "stream",
          "text": [
            "\n",
            "» Constructing 'blimp_from_file+null' contexts and requests\n"
          ]
        },
        {
          "name": "stderr",
          "output_type": "stream",
          "text": [
            "INFO:lm_eval.evaluator:\n",
            "» Constructing 'blimp_from_file+null' contexts and requests\n",
            "100%|██████████| 3882/3882 [00:00<00:00, 6343.73it/s]"
          ]
        },
        {
          "name": "stdout",
          "output_type": "stream",
          "text": [
            "\n",
            "» Running all `loglikelihood` requests\n"
          ]
        },
        {
          "name": "stderr",
          "output_type": "stream",
          "text": [
            "\n",
            "INFO:lm_eval.evaluator:\n",
            "» Running all `loglikelihood` requests\n",
            "100%|██████████| 7764/7764 [00:53<00:00, 146.07it/s]\n"
          ]
        },
        {
          "name": "stdout",
          "output_type": "stream",
          "text": [
            "quantifiers:\t67.34%\n"
          ]
        },
        {
          "data": {
            "application/vnd.jupyter.widget-view+json": {
              "model_id": "df9c3a929cdd48a5b03cd895e12a0e51",
              "version_major": 2,
              "version_minor": 0
            },
            "text/plain": [
              "Generating train split:   0%|          | 0/5535 [00:00<?, ? examples/s]"
            ]
          },
          "metadata": {},
          "output_type": "display_data"
        },
        {
          "name": "stdout",
          "output_type": "stream",
          "text": [
            "\n",
            "» Assigning unique IDs to 'blimp_from_file+null' docs\n"
          ]
        },
        {
          "name": "stderr",
          "output_type": "stream",
          "text": [
            "INFO:lm_eval.evaluator:\n",
            "» Assigning unique IDs to 'blimp_from_file+null' docs\n"
          ]
        },
        {
          "data": {
            "application/vnd.jupyter.widget-view+json": {
              "model_id": "d7517781595b4d75acdbd9399acabb3e",
              "version_major": 2,
              "version_minor": 0
            },
            "text/plain": [
              "Map:   0%|          | 0/5535 [00:00<?, ? examples/s]"
            ]
          },
          "metadata": {},
          "output_type": "display_data"
        },
        {
          "name": "stdout",
          "output_type": "stream",
          "text": [
            "\n",
            "» Filtering invalid docs from 'blimp_from_file+null'\n"
          ]
        },
        {
          "name": "stderr",
          "output_type": "stream",
          "text": [
            "INFO:lm_eval.evaluator:\n",
            "» Filtering invalid docs from 'blimp_from_file+null'\n"
          ]
        },
        {
          "data": {
            "application/vnd.jupyter.widget-view+json": {
              "model_id": "8e1d002fdaf14f78b5a2e41817974f49",
              "version_major": 2,
              "version_minor": 0
            },
            "text/plain": [
              "Filter:   0%|          | 0/5535 [00:00<?, ? examples/s]"
            ]
          },
          "metadata": {},
          "output_type": "display_data"
        },
        {
          "name": "stdout",
          "output_type": "stream",
          "text": [
            "\n",
            "» Constructing 'blimp_from_file+null' contexts and requests\n"
          ]
        },
        {
          "name": "stderr",
          "output_type": "stream",
          "text": [
            "INFO:lm_eval.evaluator:\n",
            "» Constructing 'blimp_from_file+null' contexts and requests\n",
            "100%|██████████| 5535/5535 [00:00<00:00, 6219.40it/s]"
          ]
        },
        {
          "name": "stdout",
          "output_type": "stream",
          "text": [
            "\n",
            "» Running all `loglikelihood` requests\n"
          ]
        },
        {
          "name": "stderr",
          "output_type": "stream",
          "text": [
            "\n",
            "INFO:lm_eval.evaluator:\n",
            "» Running all `loglikelihood` requests\n",
            "100%|██████████| 11070/11070 [01:14<00:00, 148.34it/s]\n"
          ]
        },
        {
          "name": "stdout",
          "output_type": "stream",
          "text": [
            "subject_verb_agreement:\t53.93%\n"
          ]
        },
        {
          "data": {
            "application/vnd.jupyter.widget-view+json": {
              "model_id": "e4da06ea52714178b1775ae89158f939",
              "version_major": 2,
              "version_minor": 0
            },
            "text/plain": [
              "Generating train split:   0%|          | 0/4394 [00:00<?, ? examples/s]"
            ]
          },
          "metadata": {},
          "output_type": "display_data"
        },
        {
          "name": "stdout",
          "output_type": "stream",
          "text": [
            "\n",
            "» Assigning unique IDs to 'blimp_from_file+null' docs\n"
          ]
        },
        {
          "name": "stderr",
          "output_type": "stream",
          "text": [
            "INFO:lm_eval.evaluator:\n",
            "» Assigning unique IDs to 'blimp_from_file+null' docs\n"
          ]
        },
        {
          "data": {
            "application/vnd.jupyter.widget-view+json": {
              "model_id": "b913839502bc4690a2f2a74a03ffba3b",
              "version_major": 2,
              "version_minor": 0
            },
            "text/plain": [
              "Map:   0%|          | 0/4394 [00:00<?, ? examples/s]"
            ]
          },
          "metadata": {},
          "output_type": "display_data"
        },
        {
          "name": "stdout",
          "output_type": "stream",
          "text": [
            "\n",
            "» Filtering invalid docs from 'blimp_from_file+null'\n"
          ]
        },
        {
          "name": "stderr",
          "output_type": "stream",
          "text": [
            "INFO:lm_eval.evaluator:\n",
            "» Filtering invalid docs from 'blimp_from_file+null'\n"
          ]
        },
        {
          "data": {
            "application/vnd.jupyter.widget-view+json": {
              "model_id": "ce83d81954c647f8a72152f582a99f4f",
              "version_major": 2,
              "version_minor": 0
            },
            "text/plain": [
              "Filter:   0%|          | 0/4394 [00:00<?, ? examples/s]"
            ]
          },
          "metadata": {},
          "output_type": "display_data"
        },
        {
          "name": "stdout",
          "output_type": "stream",
          "text": [
            "\n",
            "» Constructing 'blimp_from_file+null' contexts and requests\n"
          ]
        },
        {
          "name": "stderr",
          "output_type": "stream",
          "text": [
            "INFO:lm_eval.evaluator:\n",
            "» Constructing 'blimp_from_file+null' contexts and requests\n",
            "100%|██████████| 4394/4394 [00:01<00:00, 4089.06it/s]"
          ]
        },
        {
          "name": "stdout",
          "output_type": "stream",
          "text": [
            "\n",
            "» Running all `loglikelihood` requests\n"
          ]
        },
        {
          "name": "stderr",
          "output_type": "stream",
          "text": [
            "\n",
            "INFO:lm_eval.evaluator:\n",
            "» Running all `loglikelihood` requests\n",
            "100%|██████████| 8788/8788 [01:22<00:00, 106.98it/s]\n",
            "/content/evaluation-pipeline/lm_eval/api/task.py:589: RuntimeWarning: divide by zero encountered in divide\n",
            "  if np.argmax(results / completion_len) == target_idx\n"
          ]
        },
        {
          "name": "stdout",
          "output_type": "stream",
          "text": [
            "preposition:\t60.63%\n",
            "\n",
            "Scores:\n",
            "anaphor_agreement:\t63.85%\n",
            "argument_structure:\t61.60%\n",
            "binding:\t60.79%\n",
            "control_raising:\t58.59%\n",
            "determiner_noun_agreement:\t75.93%\n",
            "ellipsis:\t48.04%\n",
            "filler_gap:\t60.96%\n",
            "irregular_forms:\t88.09%\n",
            "island_effects:\t41.59%\n",
            "npi_licensing:\t56.98%\n",
            "quantifiers:\t67.34%\n",
            "subject_verb_agreement:\t53.93%\n",
            "preposition:\t60.63%\n"
          ]
        }
      ],
      "source": [
        "#@title Load model and evaluate (BLiMP) { display-mode: \"form\" }\n",
        "model = \"/content/drive/MyDrive/VU Thesis/Code/baby_models/V20L4/model_e5_v20_l4/\" #@param {\"type\": \"string\"}\n",
        "model_type = \"encoder\" #@param [\"decoder\", \"encoder\", \"encoder-decoder\"]\n",
        "# file_name = \"examples3.csv\" #@param {\"type\": \"string\"}\n",
        "# model_names = [\"opt-125m\", \"opt-350m\", \"opt-1.3b\", \"opt-2.7b\"] #@param {\"type\": \"raw\"}\n",
        "\n",
        "%cd /content/evaluation-pipeline\n",
        "%run /content/evaluation-pipeline/babylm_eval_prep.py \\\n",
        "  \"$model\" \\\n",
        "  \"$model_type\" \\\n",
        "  -t \"blimp_with_preposition\""
      ]
    },
    {
      "cell_type": "markdown",
      "metadata": {
        "id": "2jHIh9OypIor"
      },
      "source": [
        "### Epoch 6"
      ]
    },
    {
      "cell_type": "code",
      "execution_count": null,
      "metadata": {
        "colab": {
          "base_uri": "https://localhost:8080/",
          "height": 1000,
          "referenced_widgets": [
            "99e54519ba3e4ab1858b03441df68703",
            "6417109bf7074f159c0282fcc027e3d2",
            "700448df30484681bd9a594bfa387f04",
            "e80a358338ac406bb47b57cbb27d9bfa",
            "c6b24a8cbaa542ac91a114cd9167da8e",
            "f0aaf681eaf746ef9395ef8d2a895534",
            "585a8979d0b4449192b175c92df9ae31",
            "957a0362556a4d43b2f35c34818bcc0e",
            "ce4d522b30834a7abd596ea8e15560cf",
            "99b2a7881210429bb929f5c2b72c2dd0",
            "7cf315e52e2f412eaa271d089953513c",
            "db45934a3d24417c8dbfd5c805cd3d1b",
            "23a2b41e98a44a229b65a2014dda8214",
            "ecb02829b27947298bf865ea2280ac90",
            "fb8da69bbf1c4a91af84f3ffdf5c9cb3",
            "2776657a4f2544eaaebf6663f0f37b92",
            "5400bee527b84b12ac8b2241a4075ac4",
            "b44302aca1be4992b0426ddf2dbf09ad",
            "8c77d05517de4325989dc61ba86ad0da",
            "8f695e8f30114062a1289309079eaa47",
            "0681013951b54cd1a694e0c074e3fb57",
            "a362ce88c7664232a2f1eeed514b55bc",
            "1906b3a3511c49c5a77e3f094aaf74a8",
            "1735d8fa49674e0fac0adaa2f2dfcdbe",
            "12eaa8f1bc34452abab55cd51c274ab5",
            "a3229646c2ee411abd0254bfa90c4e70",
            "c0ee72ff4060499a8b4dff90cb394ac7",
            "204d9df77bdb4409beb3067ee76e7007",
            "93fd1919a5b64699886b035ae6bad9f3",
            "d599043ec29c487ab25bd073e5a0101b",
            "7bcaab0621ec43c4a2f441fa3ed62145",
            "81ac0efdf69b40128e5d5ec4dd2ae401",
            "2852884e958c40ce9cb43061650e34b0",
            "9ed7582b49004f498bd819ecf20d4b27",
            "26c522839e7841de87798acd15663aa9",
            "566c9cee4f124c44871eca7687e70c5e",
            "f4d47579ed7b4a2aa72266e888ff55d3",
            "86c8f24e2fb34769aa2ff7f056bbeb0d",
            "65073433a14c49dfb226d420528fd0e0",
            "8bbe1e34197f42219a297d4e05adc696",
            "5fd0637b7ce44447ad192221ce433b20",
            "ea2af2400add4c549d43ff309aff8855",
            "55572b676fa240d0b5fabbd0f073b93b",
            "ce53005bf8a049ceb9a34b3bbb006fef",
            "7f8e0509603f4c43b98ecd5baacff40f",
            "532ef014453a417fbf2117f472c4fcff",
            "7ac3f780062c4c25b479af4d3931d9de",
            "8e87663f079940548b446cd56eae9691",
            "94a56461db0f4626960f98c04c339e17",
            "437541d40d534c08aa20d184435cf0ca",
            "ca8a36bda0e44e0aa7c9d2c0942989f0",
            "fd998f1eb2584d159e6fed2eec33aa95",
            "eca84625b4f5404084e0ca116e67cdee",
            "7aac50fc3e33423dba0235536505b83f",
            "c665bb3ad6374f3cb1c6639bedccc4ec",
            "082e3659d7ba45a19ef2df1573e762a2",
            "367acf072d64436891b9b58cd8f868ff",
            "8959b3615dd344ac94e813fe68f358bf",
            "f54ddfe465ef437999dcd0919287e531",
            "70d421b5935d4d689ff2cd612f872d39",
            "b267e98ee9dd4bebbb8277bced877853",
            "46a7fbe39f354360b5cbfbd680a02eea",
            "d2ff1894862c40258ec7ed3831fdef53",
            "52dbacbe0d2c439ab6cab32672a490c4",
            "5e6df46c657848bf806305d3c8aabde4",
            "2d52ffb2d8da4cb693413ea5f92df1ab",
            "d0760dc2f7fa4cd3b4e7f7365ce03ae6",
            "d38e3b4be6f44fc290e50db360410efa",
            "5250311b3be746999dff03696e4c5419",
            "51c1afbf55ba4a7cb182181a24c91437",
            "2d9a793a316041dc9009bcc5528e49e4",
            "9b233f2fe4324d5d9c864c713e54da1e",
            "5ebc0c03195748afb4923f9ff314b58f",
            "e56177aed9504c0bb34659bd77d20883",
            "d3c2951ade53483daddaec9da011cb22",
            "b8bd7cbdd8344dfba1112464720452a3",
            "b7368bbb56a046bcab05ad29d3d103ab",
            "aafd7d7291f44f0ebb6f4f81e56f16fc",
            "80094553c0254ebb9a8990ed316fde84",
            "654ea1ab070f457dbed3d937477676c5",
            "1868eb7f730f460f83b761c6c23b0fcb",
            "067c810267974959b43d9f82cd625ca0",
            "f03fd7c28d06404292fcfd3448e0f638",
            "f82624435f0e441fa7cd1b847112a12c",
            "c71d0aa99dfd4a998cd2893414bc2dc1",
            "445d312119cc453ba8aa8bbdd40b0abd",
            "41fbd32651b94ec5bfc5197cc3da2b11",
            "2a6f09ede04946f7a089952e533966b6",
            "8c18e0322d174af9aecf9cae36f05a40",
            "48e174744fef4ca1bc7e60ea678333e7",
            "eb9cb03125524399a447ac0a26c56fd2",
            "d6619c944a494e49821be658abe2a33c",
            "2841823b980b49eebdf186d9d46a86cb",
            "9b6bf50e766e4cdcb90d3c7bbace5092",
            "edb2334d9cd840e6899e0645e213803a",
            "c59556e886054152b4f85a8245d30b99",
            "57ab519a60de4d3b8c2f94292fbdaf98",
            "a30f146deea1423aa24711408d616cd3",
            "df4aa914ae364be7a8fcbfea3634ed3e",
            "15a3eeb6b39543d580af7dd86093f73e",
            "fbd24dd16e0141169fb6fe1264c977ad",
            "afb05c52e118411991781d471faa4919",
            "f51cef8e9051485ba893373fdbc45e16",
            "491f38552ac5487887d0b645ee64a2f0",
            "acca3f27b0bf4925aa9b81f8f0d27a6a",
            "0796f461ff2e4fedaf2e1cf2d164e9f9",
            "56f87488fc9c4f57b6a65f33688820ec",
            "c7e8cfd86ecf464c802f0c63537cd569",
            "b40ee061cf6e47dc8055d381f2715678",
            "6df4c006a7044d448ea9f079b39239b1",
            "c43db9c59e6f49a4aeb1d0fd2c9adf0d",
            "4559ae75373a4d088b61773aadb86af4",
            "c22b7cf4911044c89b0b05f41408cd7c",
            "94a11064d5e544abac141ee27a5e34db",
            "f8f45f4dd4f048d6975208279d2f3206",
            "2856cc4233d647c79802f6f31e7ba42b",
            "b246acd0a8f9422b88045b3b50621f50",
            "eb11740981f943c9a452f8b15f5940da",
            "9f037f84266e424eb2dcbc99e3adac13",
            "c6e10635ad5646e68b5c8db441320423",
            "471cb9f71cad4c8b89658335ff59daf5",
            "6b61ad9517714375bafe2cd865006809",
            "ddffd37ae1df409d9b22ba1510960ef6",
            "af2da6b26a5b49ea9d0824e041e1276c",
            "14bd9f54f327431cae5b49903dc5ee1e",
            "0bea129cc5af4a47b426f06524819b13",
            "88ff3d2475c648dd9a3ceb8caf88e80b",
            "675fe7d03e6d45fe9973427ee763ceaf",
            "6b3ad120b02f4ffab692856e39d0ee1b",
            "53263acbbbb342dc8357c441d61dfea9",
            "67d18311675f4f9ca1cd751358e449c1",
            "6221e060fadc4e3c967e221a3234b019",
            "1e2ae30de14c454a9423e36ba059aac1",
            "68ff84859ff74281b44d1079cc74d2d9",
            "bb04feafe3394591ac4cb501a3674589",
            "97a03f0a503d4685a7c6cf62a97bc4ba",
            "8028203f23504ee6b751714fe0c3d2e0",
            "629d5fa7a4b14f24bdd34eadc9d3f25e",
            "0262f7328be148f4bd2f282cfe45ef91",
            "f39fe03d5a9340c980ab4ccb4fe434f4",
            "eee2e7da77814df8b6660c26317b22e8",
            "9bc512b38ab64d0cb5b969b7b7f26fb6",
            "8df3a1f4c8a74bd2b0d3af385a1be1b8",
            "20cf41150f6240ae97078b703242512a",
            "1c42eb8d3d474458b521cba52a3324ed",
            "488027e8fb5f4bff83d9f50ea83e908e",
            "010023f55f354093b72aa1d1d659587e",
            "ce8489458ba84153b7d22f7ae5c6312d",
            "507054b310a04dc38dc3e826a86570fd",
            "e6a136047b434b5080611eebe5d3843e",
            "000983777ee44109b0dda297cc58fcff",
            "8d0d4b7a6a6b466aae944dcc46d5660b",
            "28e89a25df754e2b960ccbe256d98941",
            "5da51f2875a74a5891e3160c4ab9202c",
            "c49fd7a5a1d843aaa199d6ab615fd7ad",
            "f9bfc365aa0f405e99d6566506e888f9",
            "2e84025d0fde4f42b4d6599673925b94",
            "6b096d784f9e4c8c9ca28add3e1799de",
            "26fc568f819b4294b7ef535e301021f3",
            "1b837b275e734f349413da2f4d2c2910",
            "dd874cfd3b8b4f19acbe3a0dc88500da",
            "36338e298d3040d99a0f71c9957a35ac",
            "08e59debc1c84418a148bcc9efba0a67",
            "4d3dcdfd3bd84806b8b49eb8d4384781",
            "0a2cfed6acda4bf7b2d558e363dda771",
            "6213582df18647a1a786b9c721631791",
            "2b2b300bf280496286392bcc3604fa85",
            "7576eff05f47458dba4983044dea9afc",
            "71028163785a4c9a92e4846f5e74df84",
            "c747ba604ea248078334c2a793a8ab0b",
            "c7c3460f1490428280126452cea938c5",
            "47ff4c5fc6a7488fb02351632ce69cd9",
            "df5b1fbca8c24bf8a6895225f90166bc",
            "20b51f2580ed421c98087d07d9c7813b",
            "6cd70f1ec3f044209af536ad0460b3a2",
            "14aeb343c85e4600aa78da541eaf6dd4",
            "bb32bfc05f974ea7825356a8e5224479",
            "03fa8a8dd7d1488e99c6f83e572dd7a0",
            "811356742bba4e5189ea57e1574ca7f6",
            "c692d5ba5dec4691b3d53278c41c6853",
            "b53b4cbbf4a14bc3aa331171053863ac",
            "0f7e4f68e7f54eec892967729b60be85",
            "1c1ab60b12c541d2ae6ff62377595b83",
            "1789a69cd57f4564aff69f726e2dc60a",
            "628960ea1ad0483a93cba5464cecfef3",
            "3df4ec16ef184720b290d13b88f74154",
            "ad96ea0b95a94278a33221aa7a57a233",
            "f3f01407cbf24d12bed615217fb667d1",
            "daf718f917c54c2d8ee4dd6cb4747dc4",
            "498d63b52a81493fb872170d107a6dc1",
            "ecf75b0dfedb4d6e981d751442e66b96",
            "583e5a9c918245d5866538833ab88c69",
            "f5126551707e45b1942bf083640ef583",
            "ab6a3a058c2c4249a21aeec3a7a22aef",
            "6c05baea97a14364ad99ae7023f4bcd3",
            "b19e61722c1e44999224f6f5193e1600",
            "09fce7d3ac414572a74dac027bff774e",
            "fe7ffe25349b4ae9b62bd8caa883cd5c",
            "446aed9a0bcd43a6a7dd7d6acc0a1f4b",
            "189ac9e8f1e141f4bf159e3941ee3e6d",
            "23a2a4f9467a4376b9ffa5dd28ae72d0",
            "6f9d094e387f429f954e7c110127c577",
            "12da3fc38c3342d7a03475d7fd6d6a17",
            "2d313c55b2334177b19663b46c6012ea",
            "46e738c889f245768abeb9b9f3cbd4d9",
            "33aa0b8e53f34bb7b1143b27f4b570bf",
            "4702e5c9cbb6422f9352d3bd898c1ab3",
            "699c94598ced4d69915733b981db42f4",
            "1b697ea6c5234605bc6ab4eae485d81d",
            "629504acce3b4c0eb9d5426659f5b791",
            "0ea0b885c72445048afec9cc57a86e9f",
            "de88fe968ab74fda8dc02274ebd24343",
            "de70604fd8b14cd7b5170f69d211e795",
            "61150e135e914674a5b813035181cd9c",
            "9c3d1a0ab4df404a8e08f62ec749eef2",
            "800bad3f38c147049ff6635b5615bbc0",
            "0540a58b55d348b392495b1cff050b5d",
            "163a2e9e9b654c4c80d197beb7a30c7c",
            "c0a69f76b0e24f81b527d9a03d5d5088",
            "3fbecbe16c754c59b8f7ba1f9e753864",
            "24becb6d72cc4b5c8efc2b3bb390d9fc",
            "74bf2c80ab6d42efb7276713fb48af25",
            "d13f6fd07ee24ffebc4fffcebb73524b",
            "e700541a83d1481fbf0d0f0f81a4cdf0",
            "dbd78b5a9ca8436b98484d87d78da0c8",
            "f3fc7a75e4f64812b96844ebe3a85449",
            "6d042422f0a24550aa50d5d29d2bfcbe",
            "489deb4f5ba94edaad4056efe9dd39f5",
            "d99960dec46849e8ba1e28f20e4bf640",
            "11fd678a2e4d4de0a4a14fbdc2e7e3ff",
            "95f4f240a94b4a6d9ae61af4d6f37db0",
            "21caad6bd3ea44d8bdfe94333567cb81",
            "fb28736d3d6f47b9837f5490a4fcce3f",
            "d08abfd027d9483e8b48fcfcf7d28025",
            "cadf8085038b4cbba9ac2799ee5e103e",
            "aea7880edb8e4e90ad2660191be561f8",
            "12e0eaa8767b4bc09a2bf7ab28c483ca",
            "9d30265c7a974a5caf2961c6d3afea4c",
            "9d07e5b5f5ad401680757d5d06923cdf",
            "bab4d9de8cfa48059582e53df2f3bf84",
            "fdbc52f6416b4701a16ded352e0ebf2a",
            "31a196295d4f4dd9b2d04a62e1a56ec5",
            "28b4681a9fcb41fdaefe75a1ad9370f2",
            "718bb94a8e4c4755b12c613bcfa0ea26",
            "785a45a497ca4d9a9325d2ed9914d755",
            "87a27ccd7b3b4b76b5bd8e7baa2aa94a",
            "76a1c1fdfb924e3384f83401a97e004b",
            "507ca60ebf8c42b9865fce0cc06d9347",
            "f274d5b4f8054c3e839d700ce6bea961",
            "0a18d6a4a9984dd0a4d28e92fe0f2cfe",
            "3ce1260dcbf943ad85a1ceb41c6158b2",
            "5cd35b51d4b54575ae59cf93744bbd2d",
            "9c9f02bbddca41cca956a63b8bdbb338",
            "75a2cd8bbb954bcc98ad799636b7985e",
            "773fa79a0a504487bd8f7097adf2805c",
            "d0011c0c2b0949759b21f6d8c339ff6d",
            "1557177296124d89aad8449b030387f5",
            "3f198e993a9e43e99a549ac7c4e15485",
            "865b153eac7d42098be72d96bbf493d9",
            "003e21e5f9c94c878cb5c1453d1cfc0b",
            "5d2a386db1a742788a3254b0d913aa2a",
            "a3e14366210e4775ba722e34bced5a24",
            "7f71f7be63a94be9bfa5fd18e92fabbb",
            "d0ea97e83f8742b5baf7983136a2c8f7",
            "d6c8db0b425e4f10ba4a01620e4bca90",
            "7bee5dbf4e204050bbdcd5a2113ccbab",
            "e1020d0195014f1d83333b95f1bd4fd5",
            "265d2b74eaae44b2a2ad451ac8cf1e95",
            "86d072db498c4aa397ff1cd61b1f2dea",
            "fde2942967ab41c0bd8ca7843912f98d",
            "60e108e03f694e42aa77ea5863c4855c",
            "39c1167919254aa38fe6d2ab1fcecabb",
            "f633308a2f3e4a0e9b210750186e04ad",
            "b7baa1e9cc0348eabf5b119e0404577d",
            "62e66a0479fb42aeb79577cc4879ae66",
            "cfcbc6be92174f16a39a98c2fcb8c166",
            "01a1504fb6974b5aa992ddffd148962b",
            "f102cbcdc4694505b6d883a765a3569b",
            "52b1f180420b42cf9db5d1ad059d89f5",
            "9ee4b43248c841b1a38b3948f7adcfec",
            "ffbee52b49814b698e8e438a61105d64",
            "033e9924db864af089c37d5cc45c98fd",
            "c2ca535692524f64bc71cbd6477fd7df",
            "19efdbc76bbd4266abd3ff98198c7f76",
            "4d87ee452cb040f5a84efddef9bcc9f3",
            "ee711fa27e904184b02ec06a9c5ea2a7",
            "b7024dd88b9340d990d3c12e3ad269b9",
            "5dde40bfbccd4bd69086198f08d5150e",
            "e66fc9904b15430095377f4df1c4ecf8",
            "81ef482cba484055a32dcb4ccbd9c54a",
            "d39ed583405846d684908dd58a36e4dd",
            "3d8bb472f1684ff5a04e4a0d0dadb27f",
            "d138fd77253c43fa9d1051efe939e03b",
            "17cd5c57eb6946a393962b2e2677123a",
            "15d55b2f31b74cc4b258bbf8c56e1773",
            "90908aa63a24491698abd65a2c4f13de",
            "27cb7dae6e0f4af5884a270e6b590138",
            "f412c6ced81f4c7d8a9b6fe9d47526ca",
            "9d20e30618cf442b8b4cf24bb0735e23",
            "a51094e8daaf4e4689d8d42e82675c88",
            "d546489c14744f3493886aaac7fb5bf9",
            "ad3fcf92289e4496b3dfbd5da908a116",
            "e91b914e27a64827958499e4ccce1a05",
            "81dea4d52eef4d75bcfc77259319063d",
            "c6e2e5c4935e409bac9622141fbada56",
            "16760aa74e8742739185c90c8bf4617d",
            "59f28f83c0cc40cd874717f03308c737",
            "cbd7d4e870354b27b2c2fd5ee295eb48",
            "0c98658dc22d445da0bbadd5a153edcf",
            "daff5d9752a14605a093df5b339c337c",
            "12f452069eac446bbbf0b9c66d0a5f9b",
            "51b4ff13e83d406d926ed9602cdeebf8",
            "c6675b3d33b940b4ac72c74d7e1fa6a3",
            "94275c04a51e48bba1acd1fc5f9b063d",
            "259c152dfeb542cd8162d321f4a91d5f",
            "b5d14e841a6d47f3973b615d6788dbd2",
            "f08911e331c44bf7b662f4dee003b288",
            "2225ec23bdeb455fbb20bb3a0e33b278",
            "6cd0ee4363d240c2a9f86aaefc5b193a",
            "5d2cbfa3634f4529bfb05704c1d0143a",
            "23dd731597624f23ba42d6ad6637b7e2",
            "b9e3cae31fdb43d7be378454f9c4b285",
            "7a4f0802549146499a7cbf9679819cb7",
            "f21f66146a4d424b88ac6fc51d457005",
            "b325a3a157164ed5aaa7d10f7ea556fe",
            "c84145503b02455cadbc06f317686d22",
            "5ada6468d2684070baeee143ed92c41d",
            "f3c4cb5692d04554b80a06365e3d688b",
            "a9a74188b01445b390f73e4a3063d108",
            "d46718413cdc48199280b2ed44e5d09b",
            "d957a30d481d45819872dd4472d60ed3",
            "1ba504808d3f46a0abb45453075f2938",
            "9997b86477094eb8b5c632501602f6e1",
            "a314a164e49d46a997fcf5f1fbef2511",
            "8b847a076ce24e1981b7beb7962c3ad8",
            "0da59e20430a49a3afecd234ba23b6e8",
            "d31e0a11e276491ea6b9efd9ae4a5c58",
            "04bff931e2664c06aadd7f1152bc1f01",
            "0dfba77f43cf452ea80064a587228fd1",
            "88ce67a72b7f419ba13e4f2b4f42e252",
            "d9f8fbead9874dbfb06cc2dbf6845c16",
            "eedfd0e0567e479695c75dbc685acdb1",
            "c1002e4298d04514b5007de606a0da71",
            "c03446fccae1452b8c0d9a25e75daf86",
            "0f2cda96a9874ff6907120ffe16ce76d",
            "3ca34ce3f1a443b2a9c5859a4d38ecd9",
            "92d34005922b46baa323860c463e3ed8",
            "9870fef20af54a888e18ef41d7e75563",
            "2c781dbcca494dee8140b7c25d23c59a",
            "3214b1f9651c43daab938f5d9d1f332d",
            "4aabff4743884a779182bb6f09cb0d53",
            "73efd8637f404cc2aaa855b93a8b9e65",
            "268681e98aed4524b9ce0e1608a64a55",
            "987a3112c28f4812bdf2ebc05fca28ae",
            "002da0980ffe47c883a6b85d039b0808",
            "de12c2bfad234c879b5cb537d4f44a99",
            "7941401d98514a9db87f1f793b98de1d",
            "8386154db56d4d53a811013a1ea491fb",
            "2e61f46b7bd6476f9eb34c88d158121a",
            "4d75bb03d75a44a1a447e61e4eefaf2d",
            "f92b5ad119d142eebf4f4a6e88dc6618",
            "03d234df464546f48f1fb3ccb6f86572",
            "8b39c53e5dab4463bfe1e4599a54bb07",
            "fb01b004e3344fd0a88576f8abe3adb0",
            "f121d301f4a9438b95e39cd0125d2efa",
            "e494a9f6cb9e4a22a00bf80d38d0e924",
            "cc5850c1838f4cee8a78ce9f12dc8b20",
            "c1fd6ac34e03421882252b2dd1d4a0d7",
            "28d0c273a90a46e58bd5ee3fdde61f2d",
            "16524bea9e73443ebe270410d9a1e894",
            "347eb11f9afd4f378376ec4d5fa24b95",
            "f6dd89274ec54f2fac003d0b035474e2",
            "49f604285ab9472a9beece56467e108a",
            "2fcc687352b04c25b49568988682573e",
            "bf8b09b9706244a18c09c1f43612f8ca",
            "8e69978f6ae0494d98fb54edc068abf4",
            "edd03683c0884464a3a29bc3e1cad2dd",
            "c925325020a2436b9d0e27483e824195",
            "69b014aaffd7454f8fe883c2ef810d3c",
            "5ac7af2d0bac4591b07368e41b296864",
            "5ad010a820944c2f8dda2e92a1b9d669",
            "94d2c8a501d7435eba76c6685e68f019",
            "8370215151214b36a5f855d64f0e5bec",
            "46bb7036c809451db1ea34d7468e7d84",
            "d147fcdaac744b84a5c4b51d3c8d3d31",
            "28623f7b8e5e4c6d9580a3b6f3f0dcaf",
            "30e06859b20a404cb1504450d8500fc3",
            "b401dee3aa334f46916cf6a10f2605e5",
            "f3495b5c41cc48a8beb85b8964b70517",
            "228e04f3a5644b87a1ed4c76a7ceefe6",
            "c5df1fe2e74749cd91aadb1cbfdb1107",
            "b8e29fa4758e42fdb1efd26a5709a2a4",
            "452fe9b33be0409c824c88ac32986cbe",
            "c8d36e02fc1e47e6889b2e341bc3c9b4",
            "7b2a4b0086254434b88263f06b3e46f9",
            "720467aac7bc49d2b7bb3dc0c16d6ab9",
            "a1d6b7419eee4f0c80450b0fb042adf2",
            "a7a4e006dfdf462c8d2e8375e132c6df",
            "dcdf32749c4a4a97ac87677a0da3ecf4",
            "bfda079e952049fcaa600aba05a4d76c",
            "9bf6c90af2eb427ba136c829db6e4b9c",
            "7c331fa6adb7418a94ccdefeb0c013b1",
            "e6ca7392f5f74b57a91b9a68a663931c",
            "6f8a8d97cc7e401fbf63516fd963e168",
            "74dd05b00d394e70826b2a4602efbd67",
            "56858535cdfa48e59fd196700b574a08",
            "ce73048736eb44f4a59a5e5dd8e03ef9",
            "f3b13d224d12423eb1ac9b91b54e4df7",
            "b09717ecb8514475ac660dc2c10d2f98",
            "33ea6f48f1d14890bcb05a066c595539",
            "6a3274f03b1c45b2b42ed922a7436e8f",
            "2fe7617e10d0443aa9e465b044e01889",
            "a0637415b11f4594b48c903eeef5790b",
            "05f8203d57d747bdbcc07b57ef50a74f",
            "568b30f2718f4e5180e9cd21fa29bf79",
            "9c18119f672944bea97400d77d92ef96",
            "bc6b2d81ce7c41f399379708b383b1c7",
            "0534d847a3704b14a58c867290c61109",
            "f306fd8f36e24e319418a80a5fc9e44e",
            "71f38c70cc564706b195bf6f60c3b0e5",
            "5a23a9d19a45499b9ac1dac877bf1234",
            "156bf054a4e640a6a2950792f582eac6",
            "2ea613d9ebd348db9aa8514fb689c786",
            "08cd61928b7b4cc692b63aa1450f6355",
            "81800a46b338456896639ee13d905f41",
            "8af014d304324cc09bf169686d4167e1",
            "34c03ad49efe4638a34e65dc21cc3bdb",
            "840109b62efe4ce88f63968327af3c78",
            "4fc3f91e16f34be5b3bf1bc74c921527",
            "c67c7fe97a484b19bdf01434c59136eb",
            "40b8727582f847e2832547bda9d3ca8d",
            "418c2e9abf334da9a9d223827d565fca",
            "b221cb32a45b410b8318bbb28b5f2aca",
            "7398c6d3411743ba9604fec50c4802c0",
            "343a6bb9cdb840aea6d8e6932bd18135",
            "9d6599979cfb450ba1bd0c0e8a545624",
            "908c12fd7c434fb58466af917f81ba73",
            "755aab7f8a284ce89c6804ea4383093a",
            "5c954bf45fa14899b3576871890fe529",
            "6192bf6fef02401d855a4d925a246a2e",
            "64251b519ba9400298ccaf0f6a8dd82d",
            "151b5d2fc82e4d84bf3792728a548cdc",
            "f814ad6fb5224129a80536e7929b0f33",
            "2978d8e3d46f4064aef13ed1e7e30105",
            "e6778b526990433c98e6b6f74d8a2614",
            "1541e5e71e2e40519b731ebdfc86d5b2",
            "4d622260a1354a228130832366175abf",
            "e62cda466fc7487a89525a232396fc6f",
            "fae7a318f7974c0a84b8c949bfb83389",
            "701be767c75741159d8a312eb8ac2297",
            "6f7c0dbfb63942c39869c9418e40eeb6",
            "b7f1cea2751949e3a35236e24e576bdd",
            "d6e02d9a437c4e17adc03c0a0177ee65",
            "56bf757231c54bcb8e9eb3797e8001d5",
            "bd962efb601947778a383c45d3c1c387",
            "eaeca763d21a40a187b8cceb6aab8111",
            "588206fc58104391bc1ecc12cea52a63",
            "8a1e520d65b244939739a7a28d932090",
            "d194be212c4249d48286d283f060af09",
            "24cfa75e0420416abfb27725f7803e6d",
            "bc488fc60d934a6eb96b0881b9c41bd2",
            "d684d496dc1b4246842a3b7f4c679b77"
          ]
        },
        "id": "0mSjo6wPux1x",
        "outputId": "ff054012-faae-48e5-ba24-39cea4c388b8"
      },
      "outputs": [
        {
          "name": "stdout",
          "output_type": "stream",
          "text": [
            "/content/evaluation-pipeline\n"
          ]
        },
        {
          "data": {
            "application/vnd.jupyter.widget-view+json": {
              "model_id": "99e54519ba3e4ab1858b03441df68703",
              "version_major": 2,
              "version_minor": 0
            },
            "text/plain": [
              "Generating train split:   0%|          | 0/1956 [00:00<?, ? examples/s]"
            ]
          },
          "metadata": {},
          "output_type": "display_data"
        },
        {
          "name": "stdout",
          "output_type": "stream",
          "text": [
            "\n",
            "» Assigning unique IDs to 'blimp_from_file+null' docs\n"
          ]
        },
        {
          "name": "stderr",
          "output_type": "stream",
          "text": [
            "INFO:lm_eval.evaluator:\n",
            "» Assigning unique IDs to 'blimp_from_file+null' docs\n"
          ]
        },
        {
          "data": {
            "application/vnd.jupyter.widget-view+json": {
              "model_id": "db45934a3d24417c8dbfd5c805cd3d1b",
              "version_major": 2,
              "version_minor": 0
            },
            "text/plain": [
              "Map:   0%|          | 0/1956 [00:00<?, ? examples/s]"
            ]
          },
          "metadata": {},
          "output_type": "display_data"
        },
        {
          "name": "stdout",
          "output_type": "stream",
          "text": [
            "\n",
            "» Filtering invalid docs from 'blimp_from_file+null'\n"
          ]
        },
        {
          "name": "stderr",
          "output_type": "stream",
          "text": [
            "INFO:lm_eval.evaluator:\n",
            "» Filtering invalid docs from 'blimp_from_file+null'\n"
          ]
        },
        {
          "data": {
            "application/vnd.jupyter.widget-view+json": {
              "model_id": "1906b3a3511c49c5a77e3f094aaf74a8",
              "version_major": 2,
              "version_minor": 0
            },
            "text/plain": [
              "Filter:   0%|          | 0/1956 [00:00<?, ? examples/s]"
            ]
          },
          "metadata": {},
          "output_type": "display_data"
        },
        {
          "name": "stdout",
          "output_type": "stream",
          "text": [
            "\n",
            "» Constructing 'blimp_from_file+null' contexts and requests\n"
          ]
        },
        {
          "name": "stderr",
          "output_type": "stream",
          "text": [
            "INFO:lm_eval.evaluator:\n",
            "» Constructing 'blimp_from_file+null' contexts and requests\n",
            "100%|██████████| 1956/1956 [00:00<00:00, 6453.53it/s]"
          ]
        },
        {
          "name": "stdout",
          "output_type": "stream",
          "text": [
            "\n",
            "» Running all `loglikelihood` requests\n"
          ]
        },
        {
          "name": "stderr",
          "output_type": "stream",
          "text": [
            "\n",
            "INFO:lm_eval.evaluator:\n",
            "» Running all `loglikelihood` requests\n",
            "100%|██████████| 3912/3912 [00:24<00:00, 157.16it/s]\n"
          ]
        },
        {
          "name": "stdout",
          "output_type": "stream",
          "text": [
            "anaphor_agreement:\t65.75%\n"
          ]
        },
        {
          "data": {
            "application/vnd.jupyter.widget-view+json": {
              "model_id": "9ed7582b49004f498bd819ecf20d4b27",
              "version_major": 2,
              "version_minor": 0
            },
            "text/plain": [
              "Generating train split:   0%|          | 0/8248 [00:00<?, ? examples/s]"
            ]
          },
          "metadata": {},
          "output_type": "display_data"
        },
        {
          "name": "stdout",
          "output_type": "stream",
          "text": [
            "\n",
            "» Assigning unique IDs to 'blimp_from_file+null' docs\n"
          ]
        },
        {
          "name": "stderr",
          "output_type": "stream",
          "text": [
            "INFO:lm_eval.evaluator:\n",
            "» Assigning unique IDs to 'blimp_from_file+null' docs\n"
          ]
        },
        {
          "data": {
            "application/vnd.jupyter.widget-view+json": {
              "model_id": "7f8e0509603f4c43b98ecd5baacff40f",
              "version_major": 2,
              "version_minor": 0
            },
            "text/plain": [
              "Map:   0%|          | 0/8248 [00:00<?, ? examples/s]"
            ]
          },
          "metadata": {},
          "output_type": "display_data"
        },
        {
          "name": "stdout",
          "output_type": "stream",
          "text": [
            "\n",
            "» Filtering invalid docs from 'blimp_from_file+null'\n"
          ]
        },
        {
          "name": "stderr",
          "output_type": "stream",
          "text": [
            "INFO:lm_eval.evaluator:\n",
            "» Filtering invalid docs from 'blimp_from_file+null'\n"
          ]
        },
        {
          "data": {
            "application/vnd.jupyter.widget-view+json": {
              "model_id": "082e3659d7ba45a19ef2df1573e762a2",
              "version_major": 2,
              "version_minor": 0
            },
            "text/plain": [
              "Filter:   0%|          | 0/8248 [00:00<?, ? examples/s]"
            ]
          },
          "metadata": {},
          "output_type": "display_data"
        },
        {
          "name": "stdout",
          "output_type": "stream",
          "text": [
            "\n",
            "» Constructing 'blimp_from_file+null' contexts and requests\n"
          ]
        },
        {
          "name": "stderr",
          "output_type": "stream",
          "text": [
            "INFO:lm_eval.evaluator:\n",
            "» Constructing 'blimp_from_file+null' contexts and requests\n",
            "100%|██████████| 8248/8248 [00:01<00:00, 5876.61it/s]"
          ]
        },
        {
          "name": "stdout",
          "output_type": "stream",
          "text": [
            "\n",
            "» Running all `loglikelihood` requests\n"
          ]
        },
        {
          "name": "stderr",
          "output_type": "stream",
          "text": [
            "\n",
            "INFO:lm_eval.evaluator:\n",
            "» Running all `loglikelihood` requests\n",
            "100%|██████████| 16496/16496 [01:50<00:00, 149.68it/s]\n"
          ]
        },
        {
          "name": "stdout",
          "output_type": "stream",
          "text": [
            "argument_structure:\t61.91%\n"
          ]
        },
        {
          "data": {
            "application/vnd.jupyter.widget-view+json": {
              "model_id": "d0760dc2f7fa4cd3b4e7f7365ce03ae6",
              "version_major": 2,
              "version_minor": 0
            },
            "text/plain": [
              "Generating train split:   0%|          | 0/6738 [00:00<?, ? examples/s]"
            ]
          },
          "metadata": {},
          "output_type": "display_data"
        },
        {
          "name": "stdout",
          "output_type": "stream",
          "text": [
            "\n",
            "» Assigning unique IDs to 'blimp_from_file+null' docs\n"
          ]
        },
        {
          "name": "stderr",
          "output_type": "stream",
          "text": [
            "INFO:lm_eval.evaluator:\n",
            "» Assigning unique IDs to 'blimp_from_file+null' docs\n"
          ]
        },
        {
          "data": {
            "application/vnd.jupyter.widget-view+json": {
              "model_id": "aafd7d7291f44f0ebb6f4f81e56f16fc",
              "version_major": 2,
              "version_minor": 0
            },
            "text/plain": [
              "Map:   0%|          | 0/6738 [00:00<?, ? examples/s]"
            ]
          },
          "metadata": {},
          "output_type": "display_data"
        },
        {
          "name": "stdout",
          "output_type": "stream",
          "text": [
            "\n",
            "» Filtering invalid docs from 'blimp_from_file+null'\n"
          ]
        },
        {
          "name": "stderr",
          "output_type": "stream",
          "text": [
            "INFO:lm_eval.evaluator:\n",
            "» Filtering invalid docs from 'blimp_from_file+null'\n"
          ]
        },
        {
          "data": {
            "application/vnd.jupyter.widget-view+json": {
              "model_id": "8c18e0322d174af9aecf9cae36f05a40",
              "version_major": 2,
              "version_minor": 0
            },
            "text/plain": [
              "Filter:   0%|          | 0/6738 [00:00<?, ? examples/s]"
            ]
          },
          "metadata": {},
          "output_type": "display_data"
        },
        {
          "name": "stdout",
          "output_type": "stream",
          "text": [
            "\n",
            "» Constructing 'blimp_from_file+null' contexts and requests\n"
          ]
        },
        {
          "name": "stderr",
          "output_type": "stream",
          "text": [
            "INFO:lm_eval.evaluator:\n",
            "» Constructing 'blimp_from_file+null' contexts and requests\n",
            "100%|██████████| 6738/6738 [00:01<00:00, 4611.64it/s]"
          ]
        },
        {
          "name": "stdout",
          "output_type": "stream",
          "text": [
            "\n",
            "» Running all `loglikelihood` requests\n"
          ]
        },
        {
          "name": "stderr",
          "output_type": "stream",
          "text": [
            "\n",
            "INFO:lm_eval.evaluator:\n",
            "» Running all `loglikelihood` requests\n",
            "100%|██████████| 13476/13476 [01:31<00:00, 147.35it/s]\n"
          ]
        },
        {
          "name": "stdout",
          "output_type": "stream",
          "text": [
            "binding:\t60.54%\n"
          ]
        },
        {
          "data": {
            "application/vnd.jupyter.widget-view+json": {
              "model_id": "15a3eeb6b39543d580af7dd86093f73e",
              "version_major": 2,
              "version_minor": 0
            },
            "text/plain": [
              "Generating train split:   0%|          | 0/4526 [00:00<?, ? examples/s]"
            ]
          },
          "metadata": {},
          "output_type": "display_data"
        },
        {
          "name": "stdout",
          "output_type": "stream",
          "text": [
            "\n",
            "» Assigning unique IDs to 'blimp_from_file+null' docs\n"
          ]
        },
        {
          "name": "stderr",
          "output_type": "stream",
          "text": [
            "INFO:lm_eval.evaluator:\n",
            "» Assigning unique IDs to 'blimp_from_file+null' docs\n"
          ]
        },
        {
          "data": {
            "application/vnd.jupyter.widget-view+json": {
              "model_id": "c43db9c59e6f49a4aeb1d0fd2c9adf0d",
              "version_major": 2,
              "version_minor": 0
            },
            "text/plain": [
              "Map:   0%|          | 0/4526 [00:00<?, ? examples/s]"
            ]
          },
          "metadata": {},
          "output_type": "display_data"
        },
        {
          "name": "stdout",
          "output_type": "stream",
          "text": [
            "\n",
            "» Filtering invalid docs from 'blimp_from_file+null'\n"
          ]
        },
        {
          "name": "stderr",
          "output_type": "stream",
          "text": [
            "INFO:lm_eval.evaluator:\n",
            "» Filtering invalid docs from 'blimp_from_file+null'\n"
          ]
        },
        {
          "data": {
            "application/vnd.jupyter.widget-view+json": {
              "model_id": "6b61ad9517714375bafe2cd865006809",
              "version_major": 2,
              "version_minor": 0
            },
            "text/plain": [
              "Filter:   0%|          | 0/4526 [00:00<?, ? examples/s]"
            ]
          },
          "metadata": {},
          "output_type": "display_data"
        },
        {
          "name": "stdout",
          "output_type": "stream",
          "text": [
            "\n",
            "» Constructing 'blimp_from_file+null' contexts and requests\n"
          ]
        },
        {
          "name": "stderr",
          "output_type": "stream",
          "text": [
            "INFO:lm_eval.evaluator:\n",
            "» Constructing 'blimp_from_file+null' contexts and requests\n",
            "100%|██████████| 4526/4526 [00:00<00:00, 5577.25it/s]"
          ]
        },
        {
          "name": "stdout",
          "output_type": "stream",
          "text": [
            "\n",
            "» Running all `loglikelihood` requests\n"
          ]
        },
        {
          "name": "stderr",
          "output_type": "stream",
          "text": [
            "\n",
            "INFO:lm_eval.evaluator:\n",
            "» Running all `loglikelihood` requests\n",
            "100%|██████████| 9052/9052 [01:04<00:00, 140.25it/s]\n"
          ]
        },
        {
          "name": "stdout",
          "output_type": "stream",
          "text": [
            "control_raising:\t58.84%\n"
          ]
        },
        {
          "data": {
            "application/vnd.jupyter.widget-view+json": {
              "model_id": "1e2ae30de14c454a9423e36ba059aac1",
              "version_major": 2,
              "version_minor": 0
            },
            "text/plain": [
              "Generating train split:   0%|          | 0/7542 [00:00<?, ? examples/s]"
            ]
          },
          "metadata": {},
          "output_type": "display_data"
        },
        {
          "name": "stdout",
          "output_type": "stream",
          "text": [
            "\n",
            "» Assigning unique IDs to 'blimp_from_file+null' docs\n"
          ]
        },
        {
          "name": "stderr",
          "output_type": "stream",
          "text": [
            "INFO:lm_eval.evaluator:\n",
            "» Assigning unique IDs to 'blimp_from_file+null' docs\n"
          ]
        },
        {
          "data": {
            "application/vnd.jupyter.widget-view+json": {
              "model_id": "20cf41150f6240ae97078b703242512a",
              "version_major": 2,
              "version_minor": 0
            },
            "text/plain": [
              "Map:   0%|          | 0/7542 [00:00<?, ? examples/s]"
            ]
          },
          "metadata": {},
          "output_type": "display_data"
        },
        {
          "name": "stdout",
          "output_type": "stream",
          "text": [
            "\n",
            "» Filtering invalid docs from 'blimp_from_file+null'\n"
          ]
        },
        {
          "name": "stderr",
          "output_type": "stream",
          "text": [
            "INFO:lm_eval.evaluator:\n",
            "» Filtering invalid docs from 'blimp_from_file+null'\n"
          ]
        },
        {
          "data": {
            "application/vnd.jupyter.widget-view+json": {
              "model_id": "c49fd7a5a1d843aaa199d6ab615fd7ad",
              "version_major": 2,
              "version_minor": 0
            },
            "text/plain": [
              "Filter:   0%|          | 0/7542 [00:00<?, ? examples/s]"
            ]
          },
          "metadata": {},
          "output_type": "display_data"
        },
        {
          "name": "stdout",
          "output_type": "stream",
          "text": [
            "\n",
            "» Constructing 'blimp_from_file+null' contexts and requests\n"
          ]
        },
        {
          "name": "stderr",
          "output_type": "stream",
          "text": [
            "INFO:lm_eval.evaluator:\n",
            "» Constructing 'blimp_from_file+null' contexts and requests\n",
            "100%|██████████| 7542/7542 [00:01<00:00, 4905.96it/s]"
          ]
        },
        {
          "name": "stdout",
          "output_type": "stream",
          "text": [
            "\n",
            "» Running all `loglikelihood` requests\n"
          ]
        },
        {
          "name": "stderr",
          "output_type": "stream",
          "text": [
            "\n",
            "INFO:lm_eval.evaluator:\n",
            "» Running all `loglikelihood` requests\n",
            "100%|██████████| 15084/15084 [01:37<00:00, 154.35it/s]\n"
          ]
        },
        {
          "name": "stdout",
          "output_type": "stream",
          "text": [
            "determiner_noun_agreement:\t76.98%\n"
          ]
        },
        {
          "data": {
            "application/vnd.jupyter.widget-view+json": {
              "model_id": "6213582df18647a1a786b9c721631791",
              "version_major": 2,
              "version_minor": 0
            },
            "text/plain": [
              "Generating train split:   0%|          | 0/1732 [00:00<?, ? examples/s]"
            ]
          },
          "metadata": {},
          "output_type": "display_data"
        },
        {
          "name": "stdout",
          "output_type": "stream",
          "text": [
            "\n",
            "» Assigning unique IDs to 'blimp_from_file+null' docs\n"
          ]
        },
        {
          "name": "stderr",
          "output_type": "stream",
          "text": [
            "INFO:lm_eval.evaluator:\n",
            "» Assigning unique IDs to 'blimp_from_file+null' docs\n"
          ]
        },
        {
          "data": {
            "application/vnd.jupyter.widget-view+json": {
              "model_id": "bb32bfc05f974ea7825356a8e5224479",
              "version_major": 2,
              "version_minor": 0
            },
            "text/plain": [
              "Map:   0%|          | 0/1732 [00:00<?, ? examples/s]"
            ]
          },
          "metadata": {},
          "output_type": "display_data"
        },
        {
          "name": "stdout",
          "output_type": "stream",
          "text": [
            "\n",
            "» Filtering invalid docs from 'blimp_from_file+null'\n"
          ]
        },
        {
          "name": "stderr",
          "output_type": "stream",
          "text": [
            "INFO:lm_eval.evaluator:\n",
            "» Filtering invalid docs from 'blimp_from_file+null'\n"
          ]
        },
        {
          "data": {
            "application/vnd.jupyter.widget-view+json": {
              "model_id": "f3f01407cbf24d12bed615217fb667d1",
              "version_major": 2,
              "version_minor": 0
            },
            "text/plain": [
              "Filter:   0%|          | 0/1732 [00:00<?, ? examples/s]"
            ]
          },
          "metadata": {},
          "output_type": "display_data"
        },
        {
          "name": "stdout",
          "output_type": "stream",
          "text": [
            "\n",
            "» Constructing 'blimp_from_file+null' contexts and requests\n"
          ]
        },
        {
          "name": "stderr",
          "output_type": "stream",
          "text": [
            "INFO:lm_eval.evaluator:\n",
            "» Constructing 'blimp_from_file+null' contexts and requests\n",
            "100%|██████████| 1732/1732 [00:00<00:00, 6409.33it/s]"
          ]
        },
        {
          "name": "stdout",
          "output_type": "stream",
          "text": [
            "\n",
            "» Running all `loglikelihood` requests\n"
          ]
        },
        {
          "name": "stderr",
          "output_type": "stream",
          "text": [
            "\n",
            "INFO:lm_eval.evaluator:\n",
            "» Running all `loglikelihood` requests\n",
            "100%|██████████| 3464/3464 [00:26<00:00, 129.76it/s]\n"
          ]
        },
        {
          "name": "stdout",
          "output_type": "stream",
          "text": [
            "ellipsis:\t49.48%\n"
          ]
        },
        {
          "data": {
            "application/vnd.jupyter.widget-view+json": {
              "model_id": "446aed9a0bcd43a6a7dd7d6acc0a1f4b",
              "version_major": 2,
              "version_minor": 0
            },
            "text/plain": [
              "Generating train split:   0%|          | 0/6426 [00:00<?, ? examples/s]"
            ]
          },
          "metadata": {},
          "output_type": "display_data"
        },
        {
          "name": "stdout",
          "output_type": "stream",
          "text": [
            "\n",
            "» Assigning unique IDs to 'blimp_from_file+null' docs\n"
          ]
        },
        {
          "name": "stderr",
          "output_type": "stream",
          "text": [
            "INFO:lm_eval.evaluator:\n",
            "» Assigning unique IDs to 'blimp_from_file+null' docs\n"
          ]
        },
        {
          "data": {
            "application/vnd.jupyter.widget-view+json": {
              "model_id": "629504acce3b4c0eb9d5426659f5b791",
              "version_major": 2,
              "version_minor": 0
            },
            "text/plain": [
              "Map:   0%|          | 0/6426 [00:00<?, ? examples/s]"
            ]
          },
          "metadata": {},
          "output_type": "display_data"
        },
        {
          "name": "stdout",
          "output_type": "stream",
          "text": [
            "\n",
            "» Filtering invalid docs from 'blimp_from_file+null'\n"
          ]
        },
        {
          "name": "stderr",
          "output_type": "stream",
          "text": [
            "INFO:lm_eval.evaluator:\n",
            "» Filtering invalid docs from 'blimp_from_file+null'\n"
          ]
        },
        {
          "data": {
            "application/vnd.jupyter.widget-view+json": {
              "model_id": "24becb6d72cc4b5c8efc2b3bb390d9fc",
              "version_major": 2,
              "version_minor": 0
            },
            "text/plain": [
              "Filter:   0%|          | 0/6426 [00:00<?, ? examples/s]"
            ]
          },
          "metadata": {},
          "output_type": "display_data"
        },
        {
          "name": "stdout",
          "output_type": "stream",
          "text": [
            "\n",
            "» Constructing 'blimp_from_file+null' contexts and requests\n"
          ]
        },
        {
          "name": "stderr",
          "output_type": "stream",
          "text": [
            "INFO:lm_eval.evaluator:\n",
            "» Constructing 'blimp_from_file+null' contexts and requests\n",
            "100%|██████████| 6426/6426 [00:01<00:00, 6377.63it/s]"
          ]
        },
        {
          "name": "stdout",
          "output_type": "stream",
          "text": [
            "\n",
            "» Running all `loglikelihood` requests\n"
          ]
        },
        {
          "name": "stderr",
          "output_type": "stream",
          "text": [
            "\n",
            "INFO:lm_eval.evaluator:\n",
            "» Running all `loglikelihood` requests\n",
            "100%|██████████| 12852/12852 [01:32<00:00, 139.46it/s]\n"
          ]
        },
        {
          "name": "stdout",
          "output_type": "stream",
          "text": [
            "filler_gap:\t60.78%\n"
          ]
        },
        {
          "data": {
            "application/vnd.jupyter.widget-view+json": {
              "model_id": "21caad6bd3ea44d8bdfe94333567cb81",
              "version_major": 2,
              "version_minor": 0
            },
            "text/plain": [
              "Generating train split:   0%|          | 0/1965 [00:00<?, ? examples/s]"
            ]
          },
          "metadata": {},
          "output_type": "display_data"
        },
        {
          "name": "stdout",
          "output_type": "stream",
          "text": [
            "\n",
            "» Assigning unique IDs to 'blimp_from_file+null' docs\n"
          ]
        },
        {
          "name": "stderr",
          "output_type": "stream",
          "text": [
            "INFO:lm_eval.evaluator:\n",
            "» Assigning unique IDs to 'blimp_from_file+null' docs\n"
          ]
        },
        {
          "data": {
            "application/vnd.jupyter.widget-view+json": {
              "model_id": "28b4681a9fcb41fdaefe75a1ad9370f2",
              "version_major": 2,
              "version_minor": 0
            },
            "text/plain": [
              "Map:   0%|          | 0/1965 [00:00<?, ? examples/s]"
            ]
          },
          "metadata": {},
          "output_type": "display_data"
        },
        {
          "name": "stdout",
          "output_type": "stream",
          "text": [
            "\n",
            "» Filtering invalid docs from 'blimp_from_file+null'\n"
          ]
        },
        {
          "name": "stderr",
          "output_type": "stream",
          "text": [
            "INFO:lm_eval.evaluator:\n",
            "» Filtering invalid docs from 'blimp_from_file+null'\n"
          ]
        },
        {
          "data": {
            "application/vnd.jupyter.widget-view+json": {
              "model_id": "75a2cd8bbb954bcc98ad799636b7985e",
              "version_major": 2,
              "version_minor": 0
            },
            "text/plain": [
              "Filter:   0%|          | 0/1965 [00:00<?, ? examples/s]"
            ]
          },
          "metadata": {},
          "output_type": "display_data"
        },
        {
          "name": "stdout",
          "output_type": "stream",
          "text": [
            "\n",
            "» Constructing 'blimp_from_file+null' contexts and requests\n"
          ]
        },
        {
          "name": "stderr",
          "output_type": "stream",
          "text": [
            "INFO:lm_eval.evaluator:\n",
            "» Constructing 'blimp_from_file+null' contexts and requests\n",
            "100%|██████████| 1965/1965 [00:00<00:00, 6073.83it/s]"
          ]
        },
        {
          "name": "stdout",
          "output_type": "stream",
          "text": [
            "\n",
            "» Running all `loglikelihood` requests\n"
          ]
        },
        {
          "name": "stderr",
          "output_type": "stream",
          "text": [
            "\n",
            "INFO:lm_eval.evaluator:\n",
            "» Running all `loglikelihood` requests\n",
            "100%|██████████| 3930/3930 [00:24<00:00, 159.65it/s]\n"
          ]
        },
        {
          "name": "stdout",
          "output_type": "stream",
          "text": [
            "irregular_forms:\t87.38%\n"
          ]
        },
        {
          "data": {
            "application/vnd.jupyter.widget-view+json": {
              "model_id": "d6c8db0b425e4f10ba4a01620e4bca90",
              "version_major": 2,
              "version_minor": 0
            },
            "text/plain": [
              "Generating train split:   0%|          | 0/2676 [00:00<?, ? examples/s]"
            ]
          },
          "metadata": {},
          "output_type": "display_data"
        },
        {
          "name": "stdout",
          "output_type": "stream",
          "text": [
            "\n",
            "» Assigning unique IDs to 'blimp_from_file+null' docs\n"
          ]
        },
        {
          "name": "stderr",
          "output_type": "stream",
          "text": [
            "INFO:lm_eval.evaluator:\n",
            "» Assigning unique IDs to 'blimp_from_file+null' docs\n"
          ]
        },
        {
          "data": {
            "application/vnd.jupyter.widget-view+json": {
              "model_id": "cfcbc6be92174f16a39a98c2fcb8c166",
              "version_major": 2,
              "version_minor": 0
            },
            "text/plain": [
              "Map:   0%|          | 0/2676 [00:00<?, ? examples/s]"
            ]
          },
          "metadata": {},
          "output_type": "display_data"
        },
        {
          "name": "stdout",
          "output_type": "stream",
          "text": [
            "\n",
            "» Filtering invalid docs from 'blimp_from_file+null'\n"
          ]
        },
        {
          "name": "stderr",
          "output_type": "stream",
          "text": [
            "INFO:lm_eval.evaluator:\n",
            "» Filtering invalid docs from 'blimp_from_file+null'\n"
          ]
        },
        {
          "data": {
            "application/vnd.jupyter.widget-view+json": {
              "model_id": "b7024dd88b9340d990d3c12e3ad269b9",
              "version_major": 2,
              "version_minor": 0
            },
            "text/plain": [
              "Filter:   0%|          | 0/2676 [00:00<?, ? examples/s]"
            ]
          },
          "metadata": {},
          "output_type": "display_data"
        },
        {
          "name": "stdout",
          "output_type": "stream",
          "text": [
            "\n",
            "» Constructing 'blimp_from_file+null' contexts and requests\n"
          ]
        },
        {
          "name": "stderr",
          "output_type": "stream",
          "text": [
            "INFO:lm_eval.evaluator:\n",
            "» Constructing 'blimp_from_file+null' contexts and requests\n",
            "100%|██████████| 2676/2676 [00:00<00:00, 3418.30it/s]"
          ]
        },
        {
          "name": "stdout",
          "output_type": "stream",
          "text": [
            "\n",
            "» Running all `loglikelihood` requests\n"
          ]
        },
        {
          "name": "stderr",
          "output_type": "stream",
          "text": [
            "\n",
            "INFO:lm_eval.evaluator:\n",
            "» Running all `loglikelihood` requests\n",
            "100%|██████████| 5352/5352 [00:37<00:00, 142.96it/s]\n"
          ]
        },
        {
          "name": "stdout",
          "output_type": "stream",
          "text": [
            "island_effects:\t42.41%\n"
          ]
        },
        {
          "data": {
            "application/vnd.jupyter.widget-view+json": {
              "model_id": "f412c6ced81f4c7d8a9b6fe9d47526ca",
              "version_major": 2,
              "version_minor": 0
            },
            "text/plain": [
              "Generating train split:   0%|          | 0/6586 [00:00<?, ? examples/s]"
            ]
          },
          "metadata": {},
          "output_type": "display_data"
        },
        {
          "name": "stdout",
          "output_type": "stream",
          "text": [
            "\n",
            "» Assigning unique IDs to 'blimp_from_file+null' docs\n"
          ]
        },
        {
          "name": "stderr",
          "output_type": "stream",
          "text": [
            "INFO:lm_eval.evaluator:\n",
            "» Assigning unique IDs to 'blimp_from_file+null' docs\n"
          ]
        },
        {
          "data": {
            "application/vnd.jupyter.widget-view+json": {
              "model_id": "0c98658dc22d445da0bbadd5a153edcf",
              "version_major": 2,
              "version_minor": 0
            },
            "text/plain": [
              "Map:   0%|          | 0/6586 [00:00<?, ? examples/s]"
            ]
          },
          "metadata": {},
          "output_type": "display_data"
        },
        {
          "name": "stdout",
          "output_type": "stream",
          "text": [
            "\n",
            "» Filtering invalid docs from 'blimp_from_file+null'\n"
          ]
        },
        {
          "name": "stderr",
          "output_type": "stream",
          "text": [
            "INFO:lm_eval.evaluator:\n",
            "» Filtering invalid docs from 'blimp_from_file+null'\n"
          ]
        },
        {
          "data": {
            "application/vnd.jupyter.widget-view+json": {
              "model_id": "5d2cbfa3634f4529bfb05704c1d0143a",
              "version_major": 2,
              "version_minor": 0
            },
            "text/plain": [
              "Filter:   0%|          | 0/6586 [00:00<?, ? examples/s]"
            ]
          },
          "metadata": {},
          "output_type": "display_data"
        },
        {
          "name": "stdout",
          "output_type": "stream",
          "text": [
            "\n",
            "» Constructing 'blimp_from_file+null' contexts and requests\n"
          ]
        },
        {
          "name": "stderr",
          "output_type": "stream",
          "text": [
            "INFO:lm_eval.evaluator:\n",
            "» Constructing 'blimp_from_file+null' contexts and requests\n",
            "100%|██████████| 6586/6586 [00:01<00:00, 6308.39it/s]"
          ]
        },
        {
          "name": "stdout",
          "output_type": "stream",
          "text": [
            "\n",
            "» Running all `loglikelihood` requests\n"
          ]
        },
        {
          "name": "stderr",
          "output_type": "stream",
          "text": [
            "\n",
            "INFO:lm_eval.evaluator:\n",
            "» Running all `loglikelihood` requests\n",
            "100%|██████████| 13172/13172 [01:28<00:00, 148.44it/s]\n"
          ]
        },
        {
          "name": "stdout",
          "output_type": "stream",
          "text": [
            "npi_licensing:\t57.96%\n"
          ]
        },
        {
          "data": {
            "application/vnd.jupyter.widget-view+json": {
              "model_id": "d957a30d481d45819872dd4472d60ed3",
              "version_major": 2,
              "version_minor": 0
            },
            "text/plain": [
              "Generating train split:   0%|          | 0/3882 [00:00<?, ? examples/s]"
            ]
          },
          "metadata": {},
          "output_type": "display_data"
        },
        {
          "name": "stdout",
          "output_type": "stream",
          "text": [
            "\n",
            "» Assigning unique IDs to 'blimp_from_file+null' docs\n"
          ]
        },
        {
          "name": "stderr",
          "output_type": "stream",
          "text": [
            "INFO:lm_eval.evaluator:\n",
            "» Assigning unique IDs to 'blimp_from_file+null' docs\n"
          ]
        },
        {
          "data": {
            "application/vnd.jupyter.widget-view+json": {
              "model_id": "eedfd0e0567e479695c75dbc685acdb1",
              "version_major": 2,
              "version_minor": 0
            },
            "text/plain": [
              "Map:   0%|          | 0/3882 [00:00<?, ? examples/s]"
            ]
          },
          "metadata": {},
          "output_type": "display_data"
        },
        {
          "name": "stdout",
          "output_type": "stream",
          "text": [
            "\n",
            "» Filtering invalid docs from 'blimp_from_file+null'\n"
          ]
        },
        {
          "name": "stderr",
          "output_type": "stream",
          "text": [
            "INFO:lm_eval.evaluator:\n",
            "» Filtering invalid docs from 'blimp_from_file+null'\n"
          ]
        },
        {
          "data": {
            "application/vnd.jupyter.widget-view+json": {
              "model_id": "268681e98aed4524b9ce0e1608a64a55",
              "version_major": 2,
              "version_minor": 0
            },
            "text/plain": [
              "Filter:   0%|          | 0/3882 [00:00<?, ? examples/s]"
            ]
          },
          "metadata": {},
          "output_type": "display_data"
        },
        {
          "name": "stdout",
          "output_type": "stream",
          "text": [
            "\n",
            "» Constructing 'blimp_from_file+null' contexts and requests\n"
          ]
        },
        {
          "name": "stderr",
          "output_type": "stream",
          "text": [
            "INFO:lm_eval.evaluator:\n",
            "» Constructing 'blimp_from_file+null' contexts and requests\n",
            "100%|██████████| 3882/3882 [00:00<00:00, 4002.97it/s]"
          ]
        },
        {
          "name": "stdout",
          "output_type": "stream",
          "text": [
            "\n",
            "» Running all `loglikelihood` requests\n"
          ]
        },
        {
          "name": "stderr",
          "output_type": "stream",
          "text": [
            "\n",
            "INFO:lm_eval.evaluator:\n",
            "» Running all `loglikelihood` requests\n",
            "100%|██████████| 7764/7764 [00:54<00:00, 141.21it/s]\n"
          ]
        },
        {
          "name": "stdout",
          "output_type": "stream",
          "text": [
            "quantifiers:\t68.13%\n"
          ]
        },
        {
          "data": {
            "application/vnd.jupyter.widget-view+json": {
              "model_id": "fb01b004e3344fd0a88576f8abe3adb0",
              "version_major": 2,
              "version_minor": 0
            },
            "text/plain": [
              "Generating train split:   0%|          | 0/5535 [00:00<?, ? examples/s]"
            ]
          },
          "metadata": {},
          "output_type": "display_data"
        },
        {
          "name": "stdout",
          "output_type": "stream",
          "text": [
            "\n",
            "» Assigning unique IDs to 'blimp_from_file+null' docs\n"
          ]
        },
        {
          "name": "stderr",
          "output_type": "stream",
          "text": [
            "INFO:lm_eval.evaluator:\n",
            "» Assigning unique IDs to 'blimp_from_file+null' docs\n"
          ]
        },
        {
          "data": {
            "application/vnd.jupyter.widget-view+json": {
              "model_id": "bf8b09b9706244a18c09c1f43612f8ca",
              "version_major": 2,
              "version_minor": 0
            },
            "text/plain": [
              "Map:   0%|          | 0/5535 [00:00<?, ? examples/s]"
            ]
          },
          "metadata": {},
          "output_type": "display_data"
        },
        {
          "name": "stdout",
          "output_type": "stream",
          "text": [
            "\n",
            "» Filtering invalid docs from 'blimp_from_file+null'\n"
          ]
        },
        {
          "name": "stderr",
          "output_type": "stream",
          "text": [
            "INFO:lm_eval.evaluator:\n",
            "» Filtering invalid docs from 'blimp_from_file+null'\n"
          ]
        },
        {
          "data": {
            "application/vnd.jupyter.widget-view+json": {
              "model_id": "28623f7b8e5e4c6d9580a3b6f3f0dcaf",
              "version_major": 2,
              "version_minor": 0
            },
            "text/plain": [
              "Filter:   0%|          | 0/5535 [00:00<?, ? examples/s]"
            ]
          },
          "metadata": {},
          "output_type": "display_data"
        },
        {
          "name": "stdout",
          "output_type": "stream",
          "text": [
            "\n",
            "» Constructing 'blimp_from_file+null' contexts and requests\n"
          ]
        },
        {
          "name": "stderr",
          "output_type": "stream",
          "text": [
            "INFO:lm_eval.evaluator:\n",
            "» Constructing 'blimp_from_file+null' contexts and requests\n",
            "100%|██████████| 5535/5535 [00:01<00:00, 5036.98it/s]"
          ]
        },
        {
          "name": "stdout",
          "output_type": "stream",
          "text": [
            "\n",
            "» Running all `loglikelihood` requests\n"
          ]
        },
        {
          "name": "stderr",
          "output_type": "stream",
          "text": [
            "\n",
            "INFO:lm_eval.evaluator:\n",
            "» Running all `loglikelihood` requests\n",
            "100%|██████████| 11070/11070 [01:13<00:00, 150.27it/s]\n"
          ]
        },
        {
          "name": "stdout",
          "output_type": "stream",
          "text": [
            "subject_verb_agreement:\t54.58%\n"
          ]
        },
        {
          "data": {
            "application/vnd.jupyter.widget-view+json": {
              "model_id": "c67c7fe97a484b19bdf01434c59136eb",
              "version_major": 2,
              "version_minor": 0
            },
            "text/plain": [
              "Generating train split:   0%|          | 0/4394 [00:00<?, ? examples/s]"
            ]
          },
          "metadata": {},
          "output_type": "display_data"
        },
        {
          "name": "stdout",
          "output_type": "stream",
          "text": [
            "\n",
            "» Assigning unique IDs to 'blimp_from_file+null' docs\n"
          ]
        },
        {
          "name": "stderr",
          "output_type": "stream",
          "text": [
            "INFO:lm_eval.evaluator:\n",
            "» Assigning unique IDs to 'blimp_from_file+null' docs\n"
          ]
        },
        {
          "data": {
            "application/vnd.jupyter.widget-view+json": {
              "model_id": "64251b519ba9400298ccaf0f6a8dd82d",
              "version_major": 2,
              "version_minor": 0
            },
            "text/plain": [
              "Map:   0%|          | 0/4394 [00:00<?, ? examples/s]"
            ]
          },
          "metadata": {},
          "output_type": "display_data"
        },
        {
          "name": "stdout",
          "output_type": "stream",
          "text": [
            "\n",
            "» Filtering invalid docs from 'blimp_from_file+null'\n"
          ]
        },
        {
          "name": "stderr",
          "output_type": "stream",
          "text": [
            "INFO:lm_eval.evaluator:\n",
            "» Filtering invalid docs from 'blimp_from_file+null'\n"
          ]
        },
        {
          "data": {
            "application/vnd.jupyter.widget-view+json": {
              "model_id": "b7f1cea2751949e3a35236e24e576bdd",
              "version_major": 2,
              "version_minor": 0
            },
            "text/plain": [
              "Filter:   0%|          | 0/4394 [00:00<?, ? examples/s]"
            ]
          },
          "metadata": {},
          "output_type": "display_data"
        },
        {
          "name": "stdout",
          "output_type": "stream",
          "text": [
            "\n",
            "» Constructing 'blimp_from_file+null' contexts and requests\n"
          ]
        },
        {
          "name": "stderr",
          "output_type": "stream",
          "text": [
            "INFO:lm_eval.evaluator:\n",
            "» Constructing 'blimp_from_file+null' contexts and requests\n",
            "100%|██████████| 4394/4394 [00:00<00:00, 6102.14it/s]"
          ]
        },
        {
          "name": "stdout",
          "output_type": "stream",
          "text": [
            "\n",
            "» Running all `loglikelihood` requests\n"
          ]
        },
        {
          "name": "stderr",
          "output_type": "stream",
          "text": [
            "\n",
            "INFO:lm_eval.evaluator:\n",
            "» Running all `loglikelihood` requests\n",
            "100%|██████████| 8788/8788 [01:23<00:00, 105.50it/s]\n",
            "/content/evaluation-pipeline/lm_eval/api/task.py:589: RuntimeWarning: divide by zero encountered in divide\n",
            "  if np.argmax(results / completion_len) == target_idx\n"
          ]
        },
        {
          "name": "stdout",
          "output_type": "stream",
          "text": [
            "preposition:\t61.88%\n",
            "\n",
            "Scores:\n",
            "anaphor_agreement:\t65.75%\n",
            "argument_structure:\t61.91%\n",
            "binding:\t60.54%\n",
            "control_raising:\t58.84%\n",
            "determiner_noun_agreement:\t76.98%\n",
            "ellipsis:\t49.48%\n",
            "filler_gap:\t60.78%\n",
            "irregular_forms:\t87.38%\n",
            "island_effects:\t42.41%\n",
            "npi_licensing:\t57.96%\n",
            "quantifiers:\t68.13%\n",
            "subject_verb_agreement:\t54.58%\n",
            "preposition:\t61.88%\n"
          ]
        }
      ],
      "source": [
        "#@title Load model and evaluate (BLiMP) { display-mode: \"form\" }\n",
        "model = \"/content/drive/MyDrive/VU Thesis/Code/baby_models/V20L4/model_e6_v20_l4/\" #@param {\"type\": \"string\"}\n",
        "model_type = \"encoder\" #@param [\"decoder\", \"encoder\", \"encoder-decoder\"]\n",
        "# file_name = \"examples3.csv\" #@param {\"type\": \"string\"}\n",
        "# model_names = [\"opt-125m\", \"opt-350m\", \"opt-1.3b\", \"opt-2.7b\"] #@param {\"type\": \"raw\"}\n",
        "\n",
        "%cd /content/evaluation-pipeline\n",
        "%run /content/evaluation-pipeline/babylm_eval_prep.py \\\n",
        "  \"$model\" \\\n",
        "  \"$model_type\" \\\n",
        "  -t \"blimp_with_preposition\""
      ]
    },
    {
      "cell_type": "markdown",
      "metadata": {
        "id": "reV4t8xApJTn"
      },
      "source": [
        "### Epoch 7"
      ]
    },
    {
      "cell_type": "code",
      "execution_count": null,
      "metadata": {
        "colab": {
          "base_uri": "https://localhost:8080/",
          "height": 1000,
          "referenced_widgets": [
            "06ec5f9b9da74248989a9b094766158b",
            "1bc86777149a475b9553f7e82704bd9d",
            "ddc4b32b340045f3967c0dcea7495b76",
            "9c1bd97671df4f51bae1a774b86b5642",
            "d93d66b385714a129b7a2a9af7572aad",
            "2a540d31f7244cc9a546cf197f694729",
            "1bee6db1fede45c6bbb06fb2ecd38101",
            "f7466dfe21af4a74969fea72030fc700",
            "0b70032d43ba425ea8e1741737d33b03",
            "04273484f7054b36aac5c551daceda8e",
            "167f942c204348fda6dca828356cf45a",
            "ec13da9bb8984071b228b598d347a411",
            "bc997cd2bcfe4a22bfbfbb67b1e27f74",
            "cab1d902cf6042c4aa0c0da889296252",
            "0bc497e49ccc4225bea70b7aeccf6bc1",
            "db18921a2f9246eb925c691502cd9b22",
            "270ec59210274e29b8f6398afe8a1590",
            "9cf7775dec244ccdadc00baafffa2a24",
            "cdc193894e6a435aa94ce73b72750348",
            "107ed23f5e08402299e1483fa542e82b",
            "7a293899dd1342d4b8a6637d897488fe",
            "46f35196135744e69e71ead25dd94dc2",
            "32bef88331494e0e85a356bc24844a36",
            "4f8d0b957c364fb688045e23e64b2c41",
            "acfa8a0677144f7bb86a3c6ff9043982",
            "34c0c138b8154e27a5aa6bdf73068996",
            "012f2afaea394bc0860e4760cae8a0a1",
            "f672d8597cfb4b0f90cfb94923c967a3",
            "fbd9b90df2104016915ea60c7f9c4c00",
            "d881099bae2845458ee34d8a5081c9d2",
            "56939bebce66420d9d765983c5ef86ca",
            "eb6dfdc4f5e54ef9ac1d1763b9984c0b",
            "02d28fd8404c484597b62ae5781c9015",
            "61a9ad589bed44a79c5ab5d69bddc529",
            "f2efab5326104b6b84bef073d2f7156d",
            "bf8d53e2bb5f49148a6e5a1d46886886",
            "12a84f5db12f41abb2cc8e7091df4960",
            "fd7f469d817e4170b54e6160b74f593f",
            "f1377b79a1004b17be1c926adf31f006",
            "39b033ca4d7f423c9b2bdbe74eead154",
            "c81865463d454b119f99967e42b297f3",
            "71f1b9a08e5e4ee7b963aa60eceba899",
            "556cc9484bbb425296b8ac615a8372f2",
            "aa8e639aea484a73880c166ee1a56db4",
            "a2a1c60ecb254d36ab2351625c380e03",
            "331e1500f2f84b12b1c91c067bd80fb0",
            "42f994a58c414383ae02f5b9fb86b8b4",
            "e328d8dc20d94352a11682eddbaec316",
            "d0d16a7914704618af34e894c06a1911",
            "fa42192e1ad949a0933de1339ef828c0",
            "d2af7dcf4c8846a086e3a9781af8a965",
            "db5ffe2eb010421dbb78d206768b74b8",
            "00f3dfabcfa54c8c8a2dcfe08427e694",
            "94f0a0a9fd104281ad29b3d0f93470ab",
            "7a5ae59509204bdb9c522e432e768dfb",
            "559a34346e8b4720b5096022bfffa7da",
            "ddc127dfaee84410ab3fc1b117711833",
            "748bd9cef24945a1ab1554af1f43e82c",
            "7f3120fed8544528b4d7aff9396ea9ca",
            "fd9bf9f7442243f0826556307002823f",
            "23d644a412cc41f4b352c913e8ad429f",
            "5e41a74c788442c4828015c9682988d6",
            "2f7d70397abe4e09b6512de6913ecc1a",
            "ea8c6938fa5c4f24ae82db07222c9508",
            "2d93e2d09439428fa24c0a5cc5f12258",
            "7e53234323ca42c48931f86484d7aa9c",
            "86b4cfe730694d5e81cdd7f24aca110c",
            "8c32c605435d430689ffdf9616a45025",
            "4fbe6e8d28ce4169ab17cf0c511ce509",
            "614c64e920dc45c583392a3667ec9811",
            "98b97f4572a349bb9c87bc8e6ffcc819",
            "5655986454c74a31bf7c7349a39d8b17",
            "94b02a8f3c894a17a6c3531eb1f7e7da",
            "e699782b0a8d4462a96c315b606db515",
            "30d91dfa63c440a0a38aeaa3537dea0d",
            "0ad4f29e7ec0478ba99a7c26d88a2e85",
            "f6d9004619794aa0a474499e2ea33a6e",
            "b9fff2fa445d46ad9f6bf43db11c4366",
            "1b3983223e2740a48fb4e1f6b813d825",
            "f214294658924f37af9bc7b2bae1c1e5",
            "84fc78895ef34f7abf60ba42737c68e1",
            "ef958f49886a4e71addadf37e3b6d72f",
            "8f7f8b450b3242ff889394953cced4e3",
            "f693a755f0714c888a3c59664ce9c743",
            "cc32ae47fc9045f090128b9724b7f894",
            "5d1fae3b5d094ddaa18bb99be2200e82",
            "82007ecc66af47908e01392a74894f0b",
            "ec26c1c1880a4dc2a4915ba0f607927e",
            "ac0cd325418d4e77bc0b21b2825a5bbc",
            "3270294f3752412986ae765d15af055a",
            "7e24eef8cbaa43399da6ea1164679ed3",
            "ffe135b68d6e473293165d2b1e517150",
            "1f2fc21e87044276b89e39adfd3db5bb",
            "d63014b4e4754d2882020e1ba3bb146a",
            "98b6f843ef8048208a87c1e8ee47106d",
            "5d1564c9990a4866a3dcd89b0227d317",
            "236df72e4ea44c1b9fc89ac3acb90667",
            "41906f4c76034dffa5af113bd016e895",
            "37e527c031264ab683f7220bfc44c14a",
            "02474071eb8d48cb8c4371422cc9790f",
            "2d6be48e00e64f53947a3f82c80a3da2",
            "71661286a67d480ca136446ef1303411",
            "ea9739c3066b446eabfdf53ac0549e0b",
            "ce257c6e0af949ada57ed320c7c4d790",
            "5c1a74cb2b7b433c8db471d9baa8aa71",
            "1d3bb813bf3345e3b99339260c6349fb",
            "5e7d16638a1147c18aef28983d3397fe",
            "937ea1d5338c48e0b1c9c80154d7733f",
            "7e5289e8b03d4a19aa72bf8b9022ebc2",
            "ff8a58e5d4ef41cb89d71458bfeb1e4f",
            "f2a70922ccd640909bb7ad646a232a8e",
            "8852303d7ac741ad81bf3dda02ccb893",
            "f319715fdac24d8fab8a84b7150ef32e",
            "ddabd8093ca042048e339383afcbc126",
            "0fb13da37c23403da9532e2ca1b9972c",
            "22dd8a0b3a4b4fe4b0181df61afe852d",
            "c0c1f3068d394ec5bb1da1535df73e11",
            "05ddd6046d094454bbd29b8437e1228b",
            "131a5e0bbcf041d5855b757c3404a7db",
            "db9b507d86a0410dab37bea6e9929cd4",
            "cd8bac99c4ce4e92a06a98537f52b9f4",
            "5e151d8b9fa0492eb64fa5c1dcbab53e",
            "9688288d6a744d2b97ba9abf333b6e01",
            "67c43a59de89415bbad14a9934ffdbeb",
            "62f4d1fb9cf146fabbb359886988a17a",
            "0e2d812ee80a467fa4956731f08b8e92",
            "0dd016e8c27e45fc9b985c82d05f42ec",
            "354864ebc4274fc09a729e9e3ff901e9",
            "300a1884890d41ab89c4a2023faa3548",
            "72dcbb5f69a54bb9b240a72c884e612d",
            "ec500317bf124d0da9c9ebd398cef30a",
            "0eefc9e31b6a4362968a9464f7cdf50d",
            "83adcb3a7f3d4d3794ebb1fbb6d0a1f1",
            "c8596680696d4ca5b843cab2eb7dc60b",
            "93d052d7422149feb023825a0824a6a4",
            "a52429cde5a74c1b8d4163e623554ece",
            "a2572c6ecba544dba47d693a71efab9a",
            "9a5f8c12537245e5bfabba03434c44f2",
            "b782091e88cc4e82ae82d1db395c247f",
            "2252869c6ed64592afb59590925d9435",
            "c17176e0fbf64480b53a4f4028ae1655",
            "8687c73ef81c4070b33c2d680c8e8620",
            "3c7ed982a07b42e8b1426e448e89b49e",
            "3e29be0589714a019e8c008dc7c44417",
            "baefcbb870fe477497c4c6501a5d8614",
            "97ce4f31738e43cd94cc15f1f394c06d",
            "d5e23d3c11e5472fa3da489f475eb4e3",
            "bd008090df764f63b8b1cd2f87ea4291",
            "72d6f6ff48ab49428928b9cbd244af70",
            "2505f478fb6c48e0a8ff27465144febf",
            "b95bb4b1e75c41c191e5516b1c4dcfbf",
            "a7b5df3e0fd74f5ba5eb6b7faefc7c8b",
            "a3ef652e320b4b91bd6b8b9dbe5ac464",
            "d37d4bcac9c444aaa01123b9b6c95e48",
            "dcd7955fd9874c218a736859555a7c5f",
            "2a757fc587154e43839345229e6931b9",
            "9e3ef62bd2e04db5a13b4d853fcbb0a3",
            "cb8ab8454da541b6b6c2511006723e6b",
            "050513a681684997a3314db1cfd2c615",
            "896c761a4f6a4cf3984f575de0892983",
            "5ebe5e8e3de4486f97abb31863ee5dac",
            "5df9d26544ac4cb4b823f8a56562a4ff",
            "d90eaa657adf4d4c85c2bb58511a3593",
            "00cf58f32c084d91898c3e045d742e0b",
            "300d5d5d0e66491898a354fb18ef97a5",
            "0728f676ab044d43a37e8adf4112f56c",
            "3ff546b8defb40dab0ff99b2bb3908ed",
            "4cf1a28335c14fc298e60c6716976a16",
            "0f73cc6803694413a346961ba56a7c4b",
            "b787e6b29a854a099c648303e9aaa038",
            "28194b14d68a4cbc9cf80d907ef94b86",
            "266edd5b4489472dbc26ddcc5baff5cb",
            "bf16a23ba8a74b17a4c019b6ac24358a",
            "69f16e2487324af8b3b6c61f00d7723f",
            "3e375764f9ab4d198c55be89bb6a8d17",
            "1fdd37f7acea4b4fb6ceee4e95f40fb3",
            "2d36d93429a843879dbe702762692f25",
            "3976fc364c3c4ff490ade987204d19f5",
            "ce293cfbb944458a81351b9cfdd34839",
            "f7afc5c25dae42d9a6a7e04df1b10aa1",
            "48f9f223465b4a75a06d0b0903228f48",
            "11034e4c2ad443ca9f25d111b9b8fe26",
            "7fb59f957f8240c3abcb93ef3ac67157",
            "7ddd5f26ff4f40e5b67b805cf7d7f477",
            "1e6b2bfbfd194e61be443efaeffdf77e",
            "b3c1bd7f096148678619dd8d024b15c4",
            "a757b75121044b2ca89c4d4b4e4ba95b",
            "31d6ac9ad4374161b74f8326dde2a37e",
            "3ad9dd64e9de42e0b5f968b3099d0c60",
            "3c60eb51837e4d2a8f0a8b5c74d241ba",
            "b4f5966c1e8e4c6a9ac029a279c9cb8d",
            "21125b956a07412bb6b75440410072c4",
            "9afe500860984b08bae94fb092af7027",
            "77fcd5686dcf41aa8dfeace10967dc1c",
            "990573d6863e423cb36a6cc8ca6bdd6e",
            "84a1305c95064526b564c1a17dfae9a5",
            "7bdc977bfa9749f3b8bcf313a76460a5",
            "06dff5910384401989852ddf2851a1b6",
            "b31a05219f3d4ceeb1ff45fc3c548028",
            "a1ea14b3aa454a36be87f61036144791",
            "b0968016124b499c80c95c166f6500d2",
            "40acee6da64f48f780987ef6f0416112",
            "8989e42dca68416ab54abf7c19b1f96a",
            "285a549d65a84c439338590c6c49c6db",
            "fe99fd08246f45098df7fa3a92b15371",
            "29ea7abead29477888a1fae971efddbb",
            "94b465e5f8924448b188decaee522005",
            "271073c98ec548269b4ed51b34a48e57",
            "b22f668df24c415eaf28dc9302ccb648",
            "3be4d588cde747829492c868c729673f",
            "edeee75028fd4a61b4200688c23fed2a",
            "f713b2e408834e6189dc6b6bdc462a42",
            "43348e0d11714b2d94e74f3b2b44eb96",
            "c9635bbeea75466f92d23099eaabb1be",
            "1b86a7dcbb3e483aa3c87db09e8b92a2",
            "d614a023208e4b0bb8cc2a0b80174e33",
            "4d85ad58156a458daa5803480ed3d3b8",
            "4ea38810fd21415baca99a3567edae0e",
            "dee85a36d4954a84acf8b3e1f1686e65",
            "52eada431d024df49ab7ec22279735d1",
            "c3383475db614a47bcfc9ade8d82fb11",
            "c11ae72fc2864f229ab72f536dd8e44c",
            "0a8a15318c87483c9f673630ed429432",
            "098c78c73f134cbbaeca742b358e2140",
            "ed0e94fb5fef47a79103491a9fb7fd6a",
            "05d82c5e05d043a68edcdcec9393908d",
            "2eacafbbd4334650b89026283ad49375",
            "bf267ce9a3344ae58104499a1bf03b13",
            "c7d545b03b51434eaaa9171ccc303529",
            "829b02e59ab8485f9120703646d5db51",
            "41faf23bce814ae0adfd9b3f698ca8cb",
            "3379184bf3af44dd89db6e1e0c402f09",
            "b8f7cf0a1d084d58937057812648a70e",
            "aae0ea50b98f44b19ab0c2eea0baabec",
            "85643b458b944c8598aea009436badb2",
            "ca394deff17b464d9d0dd25112646b47",
            "0839b67e8c994dfeaac63d840f43f1fb",
            "7684b8b00bb94c3cacee1481a11010bd",
            "4d038530393d4fcb92beeb39b523dee7",
            "7176e1de11ee4cbfb8583b3a3d001b88",
            "3d8191b9212a4cba9d7f9d1df8d0bc7a",
            "98d82b7dc67946409f2e80aff606af35",
            "8beb1788bd7e4eb986882253228ae2a4",
            "dc8149afff1447878228d0ba6751ffb3",
            "4f3e5bfceb1a49ab838e128a94ee616d",
            "6d8642506a894fb3a1b02422d9cc384e",
            "2c99b826a790454a93cf38d67ccc2954",
            "f5f63504e14543249c5e7fbf914acb2d",
            "01ed7a15bc174f92a5c3e76a7b2d7373",
            "202ace4b8134484f903de3741bc04aca",
            "5d016e7457d6406b8573b816798be3de",
            "20ccf1dfdd9b4565b2796f353761e02e",
            "8e47ee695df543af87fc7ece7f1b903f",
            "b38ee405ad4346d7986c41365fb76b29",
            "d754f3fe10b5468fa627ac77748ec39c",
            "856f77fb4ac6416894da1ad1c6ab4075",
            "0f137a8d1ccd49f18392f9ec90c27b62",
            "e22c82b63b824e058108518c03f2d821",
            "44b97f08f71842769dd2ae88aafad60e",
            "b1df0164c2e3410c8ad5bb49ae4e150d",
            "a1083dfe0b9741d9b33ca6d6c838cf79",
            "12c520d9658a4be29c601b38c9e34179",
            "a04a7b60970942cbbcb9f8f5fd506f5c",
            "37737da7ce2f4bdb848bd7819a34d115",
            "bc9a8c5634a9457d97cba3c3400aa0b8",
            "2de7357e8a844d49ae11c31759305350",
            "7193f5236e46401baa2e3cd81823c58e",
            "976d6116cdb149c4a01fb669dd71ba10",
            "597ab5d4b6cb4a8b89481167d555921d",
            "8f86b5d5b77d42ddbd4da4f92ddca6bd",
            "400169923b7a4dd49bd572444f817ab7",
            "b06fb56f755f41cd884f7a0d5471b1bd",
            "4f0fa1dea46c4d22a5ef67bfe7d5f1a8",
            "d791a37855694e71bb607c5f07640c7c",
            "a4e3a82a17ea49c896f67fabbc985c50",
            "57ab9fc05f894e45816799e0e6cc64a8",
            "17f1a6522cab418b8695dce9fa103542",
            "2645961c0ba44e5b945e7e88ca9352ea",
            "f0e4f646dff5414bbcffd8316c5de541",
            "33900296e5a2409fadf6a345a2a6cc29",
            "0e2a1cb5c5e84e6a847eb6bbdde44ae4",
            "1853aec890b44edeb39780c2a9f50fe1",
            "e867d877be264473a15587209c0f97f0",
            "47abe1706e484399bcef4a92cf466dc7",
            "aa8b7c4a8f7b4491948d6b44b2b55563",
            "83c309c1844944c6bb6932a0586d85f0",
            "cd7db99a8f81473ebe6edc86ad331ade",
            "8c61c23cdc8e4767a40da45890dbb75d",
            "d991dcdac54d4bcb9ecbb5dabf86f510",
            "378e5cbc5c9e4325bdce02bb5166a33e",
            "c75308e628124d298ce351bfacdae9e4",
            "f603d986ebfb47fea8149c825ebf067f",
            "4f844561d0a94e37a599ad6ab1930e6b",
            "d3d140d8074f486f9f344713b49d8093",
            "268f3699d10d4977b9e6c87aa74989ca",
            "b4c5efcfa23e4a8dbbf1dc496f7db6a1",
            "2a9374da361c4bb19e9fd7764b8a163a",
            "f80cdf77adb04a75990a01251cafa554",
            "f28b5db17a8845a79bc5227dd044acc0",
            "295d910b0d0f4f5195f33fcf33c14814",
            "21d5fbaaeaef49f7a3d4da6900bc7397",
            "072c67fbfaf641d09e582a1c40fe14b5",
            "d93f4a00c2454210ad70545f2842c936",
            "5bfaa7396a414a1c9c82e1314efee72b",
            "bed6cfb4e501434d82f8bd444760851f",
            "88d6a69f01c94597bb9f9ff8927fad7d",
            "5f6e662eda444a34901302844af12474",
            "04fa96484502427982f14f214dd7de85",
            "9699e86446fc4da69b9dcc21fcd3b1c0",
            "122febcaab984624ba6cb877693cdadc",
            "490bbb6fd19b4d558a4a551f4829ad68",
            "daeb8f0752de41b6ae641f8ea41ac510",
            "32c056753d1e4ba18e94fe3fb50e9d52",
            "55423076ef5f4fbf9676cc6a08c0a3b5",
            "18855515c9ee471e8f47090d0cf76595",
            "f827f3b4698c4ab8ab49c4b3a463535f",
            "185547c502fd465493ce5f6c07b43c20",
            "65e91975ce4448fe90a2b983c9e8864e",
            "42d43edc1dbf413aaf58c813dc26eaba",
            "6729f8cd5ff34a1caf76f5184ca72fb5",
            "19aff8f5cf6e40748bd384bb376b5a58",
            "2fa30c14a7db494e957643f77eae37ef",
            "df1faf1cfd314a52900e403be194ed65",
            "0a771e58b15c4a3f9e834e1700242f56",
            "4681a7feaabf4ea4ac242baec5940bce",
            "46d1f5f8aec744c2890fb7555a5e9cdc",
            "c6c6d89edbed477ea80e93bece4aff42",
            "9921a6df3f914740bcb5dbc577af9933",
            "3e18ab5493524f98a7d20fee4cf9c9ac",
            "347220d1a56545ce86b01e50e22129f5",
            "9437d69bc44c4efdb3526c4e26412f17",
            "91af4188cf5b464da0d5e22e4368d76c",
            "4a2bb80249af4966996e277b8079df26",
            "9951bdc36c3448719c65c83cda558305",
            "2cadbd28e2184621a419bffa416a1c48",
            "8f4d4db7b4ff4cc6ac248d73a6d4e33b",
            "7a1946c81cb34940b388ed4b887b88b9",
            "5420c99a7be7472581f23e0ca3824da4",
            "b3489f8c0abd430b85786310b23561a3",
            "4b72e8913d864ac1a125a66c335b65ce",
            "9d2fbca4fcf2491e9ff0562f50104e94",
            "c972463bdbb94da29abe49a616a91985",
            "06a783f3e6e74f779551c163791b9f79",
            "395eecb6d1574d7daabd7d0faefa907e",
            "d6fcd66019044652b2f03fb643347dc4",
            "44db5c1204b2457b81abc6f9225f2262",
            "c1b3528bb8294eebb4079cd5b4df9e32",
            "79b06afd812048a78b182da672c053ac",
            "e877ab112d074094bb1beee8b7d23c27",
            "9f7de2b964e84765a2053f506e05e3af",
            "5a00c345d0ce4e17af1954f1c252f015",
            "7c55781e4d694a21ae68c26ef60ff4d9",
            "7ea1dd48637f489ab9201cbf59256e7d",
            "19b3690924f247298ae45872699d55e5",
            "247344cf16a7402f8223e605c34ec565",
            "c78439ef8d4f4109886aded5ba19912b",
            "46447cb38a8347b39e919920a533bb0d",
            "56ff56afcd58451db490bdf487c3e18d",
            "f772f0e8f6b646d3a714859c8f301206",
            "ddd68f21e0d84b36b3024aba1161e629",
            "ffa86255edf745bb81346a0a2e9b5030",
            "62c2473d7adf45e08aab6871077105e9",
            "f6061161defc45809d517499b309cbc0",
            "aac75d0ede1247318fd473e804e2006c",
            "a111f2e916664a4c9f7343f48fdba382",
            "653a3b033d154cdd91fed14e3bcdac33",
            "bc59326855804d498db72839afee2397",
            "e1fa4290c57a4247a69489ddb6dea263",
            "be265c8c939347fcb1b3b4b9e231f2f8",
            "da6c0b4b3ded42b1bfa2c1cd95aa4374",
            "f15fcb28f62f45be9434b7b6e0d97dfc",
            "a6fa6e551d814a3a911f62292e0cf289",
            "0fdff22dab0146ac956f58fb9f1cccaa",
            "2fdd6a5f00624d418a7287e6a6a3d544",
            "5b828c56784646ac92924586423f1118",
            "97a163c0e18e4b5f9306fe9fc41811db",
            "99efd1ee27a64eb1b7150dbeda3bee88",
            "df284c3cb393463a9e35e6e8bd2108ec",
            "9a3caf015cbe484db1eab595a6bec929",
            "60d52268144840adbb63ff4a3c9133c2",
            "8f8f06caad424ab78c7f31ce3b52a54a",
            "58f6ba53ff704fab8a8b42733af41b01",
            "4c87fa62c312414da75546385ed13981",
            "33688fb56e5a43c6ae027c5a38fe8647",
            "c1be999378144dce8eaa07e9e8a9d0e9",
            "b2bf1861d6934476a0c49ad1df8b5017",
            "25fcf767eda44be8a9510990090cf2d5",
            "b9eee04ef4d144c5b2ba016a9c55e2c2",
            "94633f887bdf4c02870bf136fa34cefc",
            "814a9d90baf44d6386579702ce44c8bb",
            "c7d1d0a1333b4a80a884f163408a0db8",
            "d3fb82e7dd2c4315abdf154f91f40e71",
            "12947097bfe748b3aed1ff25ecbad18c",
            "c92ace9229ad47879875f2b4ebf5f2f9",
            "2b8ed62bfe204f689231288546d46e99",
            "f5f4707ace7f4ed0ba028207432e91da",
            "89f7d774994a4a9b965fc97d434953f5",
            "f494ae5ee74c44a3b85c0035cf0dad1c",
            "0d51ad09667347bda281f46afa1827ee",
            "8eb6ea02124e40a8800bcf9fa650e8a6",
            "6fc61696f5424818a2d364b3dcb90fe0",
            "b5f386abfb2b4ce2a3fae1b58fbde2b2",
            "978e3cda53b1464ebb1cf0d5de2bfc8c",
            "6f36c22fac4248e6a236d09b6208108d",
            "83e74a36bc7443baba98d964c8cdf20c",
            "8cca57be513c457d886f8afa764c0011",
            "8ee05294cb1b43b2acf3d8da831bf8f2",
            "3129df4445c845e8b9367ecdc3fff3bd",
            "a247a7a4d37a423bbb651450091f04a0",
            "a3219cf27eca46dabf07371531cd29f1",
            "39b98eab339844779540920b3b7933ea",
            "bbacaeecb8f64926b5bd87ef78f6e524",
            "8c5456b0b7aa4b6492bda652692eee45",
            "17a1e09d227645d08c7f92d1d2651b28",
            "d2edb59bf24e464a8c01362244289c38",
            "362fde4bf925458ab7f0032e510909c3",
            "a5f15b95c980432889e5398bff729254",
            "37cb88baa78b4a51ab09d389ebffe1ed",
            "cfc1e8ff38684ada9ddc8394a2ba9ef1",
            "6cfc57d3a9954d0685d1a9a134b4e915",
            "85998dbf5a1846aa91e8530b4d0e6767",
            "17d6137570b24b869fc71a7bb1d8af5a",
            "cd4b3645a3ce449385bb5bdbf02c94f1",
            "db1fc87582944b22a1fdf1106b1b08d3",
            "387509b7b5394b809cc7f127c481dcad",
            "455fe0ac2a2541f9acb4cc0375a3b70f",
            "127bc858902a41a495a4669e4597eb45",
            "4035dcd8d4f54ab29bec55d7125b8e00",
            "ce80ec32bfc1415ca489b887598e483b",
            "5e6b984db9654799a54ae55730072de6",
            "30156b379f814d8da86b34cb88914fe8",
            "1a511171891944b495f5d3c35d4f093a",
            "0dff1ff946d94ed084735f2ef62b62e8",
            "819ef4dc7d584c57b01f37cb468eb7f7",
            "eeea4e76b5de45a793335d73726ab155",
            "f3fa30cb672d4b4196086cc69a46bce7",
            "dabc5f92ca9f46a6a48e8c4851f610f3",
            "5d1e77ccc80e4099844dcdb5ae821207",
            "fc3197159a944a348b11239689e56fa9",
            "5a2ab106a27a41e1942daed45630c067",
            "b6233286fff348cf85f004969d32f278",
            "e7a9ea15b30a4ca4b6cbb0e73c55ff46",
            "7d4d7d45296a4c66bc65c14f609317ce",
            "9930358f37d947bcb64262572837e478",
            "a2bbe2404af7453091f00a4422299f5e",
            "f79cef950def4b65a03fb6825d19d663",
            "5d225252f0024e67b3ccb73d5642b660",
            "d96790afc92f41a588062a2925fc5136",
            "e3f9f23d719f496992721023452bca32",
            "db737107820346008368c142c7076e45",
            "a328d62e20134382842d4795a7cbc6f2",
            "9197284d5dce43a2af71f60486f1a33b",
            "c2c74da65fca4e8e9d0342e351812f11",
            "a1c95711eb614b939001bbf3dc34a3ca",
            "0d76375f938442cbac33d8ba2606d838",
            "3d31717e7a7f4e99820f408b02eb7b77",
            "38005ca298b1405b8ad897542343acbf",
            "f86518baf24842f5bd38473077fdb173",
            "17f4053d78bb422b81215b102d67243c",
            "953551558cef4036b719e3e98385b5db",
            "d5198f3bcb624272a08c1b9a74d86fd6",
            "0724f74fd62f42a6a18908774dd2b033"
          ]
        },
        "id": "C-bZXoYhuzn5",
        "outputId": "1a1f4110-bd27-487c-efef-ca1d8adf3c83"
      },
      "outputs": [
        {
          "name": "stdout",
          "output_type": "stream",
          "text": [
            "/content/evaluation-pipeline\n"
          ]
        },
        {
          "data": {
            "application/vnd.jupyter.widget-view+json": {
              "model_id": "06ec5f9b9da74248989a9b094766158b",
              "version_major": 2,
              "version_minor": 0
            },
            "text/plain": [
              "Generating train split:   0%|          | 0/1956 [00:00<?, ? examples/s]"
            ]
          },
          "metadata": {},
          "output_type": "display_data"
        },
        {
          "name": "stdout",
          "output_type": "stream",
          "text": [
            "\n",
            "» Assigning unique IDs to 'blimp_from_file+null' docs\n"
          ]
        },
        {
          "name": "stderr",
          "output_type": "stream",
          "text": [
            "INFO:lm_eval.evaluator:\n",
            "» Assigning unique IDs to 'blimp_from_file+null' docs\n"
          ]
        },
        {
          "data": {
            "application/vnd.jupyter.widget-view+json": {
              "model_id": "ec13da9bb8984071b228b598d347a411",
              "version_major": 2,
              "version_minor": 0
            },
            "text/plain": [
              "Map:   0%|          | 0/1956 [00:00<?, ? examples/s]"
            ]
          },
          "metadata": {},
          "output_type": "display_data"
        },
        {
          "name": "stdout",
          "output_type": "stream",
          "text": [
            "\n",
            "» Filtering invalid docs from 'blimp_from_file+null'\n"
          ]
        },
        {
          "name": "stderr",
          "output_type": "stream",
          "text": [
            "INFO:lm_eval.evaluator:\n",
            "» Filtering invalid docs from 'blimp_from_file+null'\n"
          ]
        },
        {
          "data": {
            "application/vnd.jupyter.widget-view+json": {
              "model_id": "32bef88331494e0e85a356bc24844a36",
              "version_major": 2,
              "version_minor": 0
            },
            "text/plain": [
              "Filter:   0%|          | 0/1956 [00:00<?, ? examples/s]"
            ]
          },
          "metadata": {},
          "output_type": "display_data"
        },
        {
          "name": "stdout",
          "output_type": "stream",
          "text": [
            "\n",
            "» Constructing 'blimp_from_file+null' contexts and requests\n"
          ]
        },
        {
          "name": "stderr",
          "output_type": "stream",
          "text": [
            "INFO:lm_eval.evaluator:\n",
            "» Constructing 'blimp_from_file+null' contexts and requests\n",
            "100%|██████████| 1956/1956 [00:00<00:00, 6745.65it/s]"
          ]
        },
        {
          "name": "stdout",
          "output_type": "stream",
          "text": [
            "\n",
            "» Running all `loglikelihood` requests\n"
          ]
        },
        {
          "name": "stderr",
          "output_type": "stream",
          "text": [
            "\n",
            "INFO:lm_eval.evaluator:\n",
            "» Running all `loglikelihood` requests\n",
            "100%|██████████| 3912/3912 [00:24<00:00, 160.39it/s]\n"
          ]
        },
        {
          "name": "stdout",
          "output_type": "stream",
          "text": [
            "anaphor_agreement:\t67.74%\n"
          ]
        },
        {
          "data": {
            "application/vnd.jupyter.widget-view+json": {
              "model_id": "61a9ad589bed44a79c5ab5d69bddc529",
              "version_major": 2,
              "version_minor": 0
            },
            "text/plain": [
              "Generating train split:   0%|          | 0/8248 [00:00<?, ? examples/s]"
            ]
          },
          "metadata": {},
          "output_type": "display_data"
        },
        {
          "name": "stdout",
          "output_type": "stream",
          "text": [
            "\n",
            "» Assigning unique IDs to 'blimp_from_file+null' docs\n"
          ]
        },
        {
          "name": "stderr",
          "output_type": "stream",
          "text": [
            "INFO:lm_eval.evaluator:\n",
            "» Assigning unique IDs to 'blimp_from_file+null' docs\n"
          ]
        },
        {
          "data": {
            "application/vnd.jupyter.widget-view+json": {
              "model_id": "a2a1c60ecb254d36ab2351625c380e03",
              "version_major": 2,
              "version_minor": 0
            },
            "text/plain": [
              "Map:   0%|          | 0/8248 [00:00<?, ? examples/s]"
            ]
          },
          "metadata": {},
          "output_type": "display_data"
        },
        {
          "name": "stdout",
          "output_type": "stream",
          "text": [
            "\n",
            "» Filtering invalid docs from 'blimp_from_file+null'\n"
          ]
        },
        {
          "name": "stderr",
          "output_type": "stream",
          "text": [
            "INFO:lm_eval.evaluator:\n",
            "» Filtering invalid docs from 'blimp_from_file+null'\n"
          ]
        },
        {
          "data": {
            "application/vnd.jupyter.widget-view+json": {
              "model_id": "559a34346e8b4720b5096022bfffa7da",
              "version_major": 2,
              "version_minor": 0
            },
            "text/plain": [
              "Filter:   0%|          | 0/8248 [00:00<?, ? examples/s]"
            ]
          },
          "metadata": {},
          "output_type": "display_data"
        },
        {
          "name": "stdout",
          "output_type": "stream",
          "text": [
            "\n",
            "» Constructing 'blimp_from_file+null' contexts and requests\n"
          ]
        },
        {
          "name": "stderr",
          "output_type": "stream",
          "text": [
            "INFO:lm_eval.evaluator:\n",
            "» Constructing 'blimp_from_file+null' contexts and requests\n",
            "100%|██████████| 8248/8248 [00:01<00:00, 6361.87it/s]"
          ]
        },
        {
          "name": "stdout",
          "output_type": "stream",
          "text": [
            "\n",
            "» Running all `loglikelihood` requests\n"
          ]
        },
        {
          "name": "stderr",
          "output_type": "stream",
          "text": [
            "\n",
            "INFO:lm_eval.evaluator:\n",
            "» Running all `loglikelihood` requests\n",
            "100%|██████████| 16496/16496 [01:47<00:00, 153.86it/s]\n"
          ]
        },
        {
          "name": "stdout",
          "output_type": "stream",
          "text": [
            "argument_structure:\t62.26%\n"
          ]
        },
        {
          "data": {
            "application/vnd.jupyter.widget-view+json": {
              "model_id": "86b4cfe730694d5e81cdd7f24aca110c",
              "version_major": 2,
              "version_minor": 0
            },
            "text/plain": [
              "Generating train split:   0%|          | 0/6738 [00:00<?, ? examples/s]"
            ]
          },
          "metadata": {},
          "output_type": "display_data"
        },
        {
          "name": "stdout",
          "output_type": "stream",
          "text": [
            "\n",
            "» Assigning unique IDs to 'blimp_from_file+null' docs\n"
          ]
        },
        {
          "name": "stderr",
          "output_type": "stream",
          "text": [
            "INFO:lm_eval.evaluator:\n",
            "» Assigning unique IDs to 'blimp_from_file+null' docs\n"
          ]
        },
        {
          "data": {
            "application/vnd.jupyter.widget-view+json": {
              "model_id": "b9fff2fa445d46ad9f6bf43db11c4366",
              "version_major": 2,
              "version_minor": 0
            },
            "text/plain": [
              "Map:   0%|          | 0/6738 [00:00<?, ? examples/s]"
            ]
          },
          "metadata": {},
          "output_type": "display_data"
        },
        {
          "name": "stdout",
          "output_type": "stream",
          "text": [
            "\n",
            "» Filtering invalid docs from 'blimp_from_file+null'\n"
          ]
        },
        {
          "name": "stderr",
          "output_type": "stream",
          "text": [
            "INFO:lm_eval.evaluator:\n",
            "» Filtering invalid docs from 'blimp_from_file+null'\n"
          ]
        },
        {
          "data": {
            "application/vnd.jupyter.widget-view+json": {
              "model_id": "ac0cd325418d4e77bc0b21b2825a5bbc",
              "version_major": 2,
              "version_minor": 0
            },
            "text/plain": [
              "Filter:   0%|          | 0/6738 [00:00<?, ? examples/s]"
            ]
          },
          "metadata": {},
          "output_type": "display_data"
        },
        {
          "name": "stdout",
          "output_type": "stream",
          "text": [
            "\n",
            "» Constructing 'blimp_from_file+null' contexts and requests\n"
          ]
        },
        {
          "name": "stderr",
          "output_type": "stream",
          "text": [
            "INFO:lm_eval.evaluator:\n",
            "» Constructing 'blimp_from_file+null' contexts and requests\n",
            "100%|██████████| 6738/6738 [00:01<00:00, 6370.72it/s]"
          ]
        },
        {
          "name": "stdout",
          "output_type": "stream",
          "text": [
            "\n",
            "» Running all `loglikelihood` requests\n"
          ]
        },
        {
          "name": "stderr",
          "output_type": "stream",
          "text": [
            "\n",
            "INFO:lm_eval.evaluator:\n",
            "» Running all `loglikelihood` requests\n",
            "100%|██████████| 13476/13476 [01:31<00:00, 146.56it/s]\n"
          ]
        },
        {
          "name": "stdout",
          "output_type": "stream",
          "text": [
            "binding:\t60.60%\n"
          ]
        },
        {
          "data": {
            "application/vnd.jupyter.widget-view+json": {
              "model_id": "02474071eb8d48cb8c4371422cc9790f",
              "version_major": 2,
              "version_minor": 0
            },
            "text/plain": [
              "Generating train split:   0%|          | 0/4526 [00:00<?, ? examples/s]"
            ]
          },
          "metadata": {},
          "output_type": "display_data"
        },
        {
          "name": "stdout",
          "output_type": "stream",
          "text": [
            "\n",
            "» Assigning unique IDs to 'blimp_from_file+null' docs\n"
          ]
        },
        {
          "name": "stderr",
          "output_type": "stream",
          "text": [
            "INFO:lm_eval.evaluator:\n",
            "» Assigning unique IDs to 'blimp_from_file+null' docs\n"
          ]
        },
        {
          "data": {
            "application/vnd.jupyter.widget-view+json": {
              "model_id": "f2a70922ccd640909bb7ad646a232a8e",
              "version_major": 2,
              "version_minor": 0
            },
            "text/plain": [
              "Map:   0%|          | 0/4526 [00:00<?, ? examples/s]"
            ]
          },
          "metadata": {},
          "output_type": "display_data"
        },
        {
          "name": "stdout",
          "output_type": "stream",
          "text": [
            "\n",
            "» Filtering invalid docs from 'blimp_from_file+null'\n"
          ]
        },
        {
          "name": "stderr",
          "output_type": "stream",
          "text": [
            "INFO:lm_eval.evaluator:\n",
            "» Filtering invalid docs from 'blimp_from_file+null'\n"
          ]
        },
        {
          "data": {
            "application/vnd.jupyter.widget-view+json": {
              "model_id": "5e151d8b9fa0492eb64fa5c1dcbab53e",
              "version_major": 2,
              "version_minor": 0
            },
            "text/plain": [
              "Filter:   0%|          | 0/4526 [00:00<?, ? examples/s]"
            ]
          },
          "metadata": {},
          "output_type": "display_data"
        },
        {
          "name": "stdout",
          "output_type": "stream",
          "text": [
            "\n",
            "» Constructing 'blimp_from_file+null' contexts and requests\n"
          ]
        },
        {
          "name": "stderr",
          "output_type": "stream",
          "text": [
            "INFO:lm_eval.evaluator:\n",
            "» Constructing 'blimp_from_file+null' contexts and requests\n",
            "100%|██████████| 4526/4526 [00:00<00:00, 6261.70it/s]"
          ]
        },
        {
          "name": "stdout",
          "output_type": "stream",
          "text": [
            "\n",
            "» Running all `loglikelihood` requests\n"
          ]
        },
        {
          "name": "stderr",
          "output_type": "stream",
          "text": [
            "\n",
            "INFO:lm_eval.evaluator:\n",
            "» Running all `loglikelihood` requests\n",
            "100%|██████████| 9052/9052 [01:04<00:00, 140.53it/s]\n"
          ]
        },
        {
          "name": "stdout",
          "output_type": "stream",
          "text": [
            "control_raising:\t59.37%\n"
          ]
        },
        {
          "data": {
            "application/vnd.jupyter.widget-view+json": {
              "model_id": "83adcb3a7f3d4d3794ebb1fbb6d0a1f1",
              "version_major": 2,
              "version_minor": 0
            },
            "text/plain": [
              "Generating train split:   0%|          | 0/7542 [00:00<?, ? examples/s]"
            ]
          },
          "metadata": {},
          "output_type": "display_data"
        },
        {
          "name": "stdout",
          "output_type": "stream",
          "text": [
            "\n",
            "» Assigning unique IDs to 'blimp_from_file+null' docs\n"
          ]
        },
        {
          "name": "stderr",
          "output_type": "stream",
          "text": [
            "INFO:lm_eval.evaluator:\n",
            "» Assigning unique IDs to 'blimp_from_file+null' docs\n"
          ]
        },
        {
          "data": {
            "application/vnd.jupyter.widget-view+json": {
              "model_id": "3e29be0589714a019e8c008dc7c44417",
              "version_major": 2,
              "version_minor": 0
            },
            "text/plain": [
              "Map:   0%|          | 0/7542 [00:00<?, ? examples/s]"
            ]
          },
          "metadata": {},
          "output_type": "display_data"
        },
        {
          "name": "stdout",
          "output_type": "stream",
          "text": [
            "\n",
            "» Filtering invalid docs from 'blimp_from_file+null'\n"
          ]
        },
        {
          "name": "stderr",
          "output_type": "stream",
          "text": [
            "INFO:lm_eval.evaluator:\n",
            "» Filtering invalid docs from 'blimp_from_file+null'\n"
          ]
        },
        {
          "data": {
            "application/vnd.jupyter.widget-view+json": {
              "model_id": "dcd7955fd9874c218a736859555a7c5f",
              "version_major": 2,
              "version_minor": 0
            },
            "text/plain": [
              "Filter:   0%|          | 0/7542 [00:00<?, ? examples/s]"
            ]
          },
          "metadata": {},
          "output_type": "display_data"
        },
        {
          "name": "stdout",
          "output_type": "stream",
          "text": [
            "\n",
            "» Constructing 'blimp_from_file+null' contexts and requests\n"
          ]
        },
        {
          "name": "stderr",
          "output_type": "stream",
          "text": [
            "INFO:lm_eval.evaluator:\n",
            "» Constructing 'blimp_from_file+null' contexts and requests\n",
            "100%|██████████| 7542/7542 [00:01<00:00, 4814.47it/s]"
          ]
        },
        {
          "name": "stdout",
          "output_type": "stream",
          "text": [
            "\n",
            "» Running all `loglikelihood` requests\n"
          ]
        },
        {
          "name": "stderr",
          "output_type": "stream",
          "text": [
            "\n",
            "INFO:lm_eval.evaluator:\n",
            "» Running all `loglikelihood` requests\n",
            "100%|██████████| 15084/15084 [01:39<00:00, 152.07it/s]\n"
          ]
        },
        {
          "name": "stdout",
          "output_type": "stream",
          "text": [
            "determiner_noun_agreement:\t78.03%\n"
          ]
        },
        {
          "data": {
            "application/vnd.jupyter.widget-view+json": {
              "model_id": "0728f676ab044d43a37e8adf4112f56c",
              "version_major": 2,
              "version_minor": 0
            },
            "text/plain": [
              "Generating train split:   0%|          | 0/1732 [00:00<?, ? examples/s]"
            ]
          },
          "metadata": {},
          "output_type": "display_data"
        },
        {
          "name": "stdout",
          "output_type": "stream",
          "text": [
            "\n",
            "» Assigning unique IDs to 'blimp_from_file+null' docs\n"
          ]
        },
        {
          "name": "stderr",
          "output_type": "stream",
          "text": [
            "INFO:lm_eval.evaluator:\n",
            "» Assigning unique IDs to 'blimp_from_file+null' docs\n"
          ]
        },
        {
          "data": {
            "application/vnd.jupyter.widget-view+json": {
              "model_id": "2d36d93429a843879dbe702762692f25",
              "version_major": 2,
              "version_minor": 0
            },
            "text/plain": [
              "Map:   0%|          | 0/1732 [00:00<?, ? examples/s]"
            ]
          },
          "metadata": {},
          "output_type": "display_data"
        },
        {
          "name": "stdout",
          "output_type": "stream",
          "text": [
            "\n",
            "» Filtering invalid docs from 'blimp_from_file+null'\n"
          ]
        },
        {
          "name": "stderr",
          "output_type": "stream",
          "text": [
            "INFO:lm_eval.evaluator:\n",
            "» Filtering invalid docs from 'blimp_from_file+null'\n"
          ]
        },
        {
          "data": {
            "application/vnd.jupyter.widget-view+json": {
              "model_id": "31d6ac9ad4374161b74f8326dde2a37e",
              "version_major": 2,
              "version_minor": 0
            },
            "text/plain": [
              "Filter:   0%|          | 0/1732 [00:00<?, ? examples/s]"
            ]
          },
          "metadata": {},
          "output_type": "display_data"
        },
        {
          "name": "stdout",
          "output_type": "stream",
          "text": [
            "\n",
            "» Constructing 'blimp_from_file+null' contexts and requests\n"
          ]
        },
        {
          "name": "stderr",
          "output_type": "stream",
          "text": [
            "INFO:lm_eval.evaluator:\n",
            "» Constructing 'blimp_from_file+null' contexts and requests\n",
            "100%|██████████| 1732/1732 [00:00<00:00, 6272.11it/s]"
          ]
        },
        {
          "name": "stdout",
          "output_type": "stream",
          "text": [
            "\n",
            "» Running all `loglikelihood` requests\n"
          ]
        },
        {
          "name": "stderr",
          "output_type": "stream",
          "text": [
            "\n",
            "INFO:lm_eval.evaluator:\n",
            "» Running all `loglikelihood` requests\n",
            "100%|██████████| 3464/3464 [00:26<00:00, 129.86it/s]\n"
          ]
        },
        {
          "name": "stdout",
          "output_type": "stream",
          "text": [
            "ellipsis:\t50.23%\n"
          ]
        },
        {
          "data": {
            "application/vnd.jupyter.widget-view+json": {
              "model_id": "b31a05219f3d4ceeb1ff45fc3c548028",
              "version_major": 2,
              "version_minor": 0
            },
            "text/plain": [
              "Generating train split:   0%|          | 0/6426 [00:00<?, ? examples/s]"
            ]
          },
          "metadata": {},
          "output_type": "display_data"
        },
        {
          "name": "stdout",
          "output_type": "stream",
          "text": [
            "\n",
            "» Assigning unique IDs to 'blimp_from_file+null' docs\n"
          ]
        },
        {
          "name": "stderr",
          "output_type": "stream",
          "text": [
            "INFO:lm_eval.evaluator:\n",
            "» Assigning unique IDs to 'blimp_from_file+null' docs\n"
          ]
        },
        {
          "data": {
            "application/vnd.jupyter.widget-view+json": {
              "model_id": "3be4d588cde747829492c868c729673f",
              "version_major": 2,
              "version_minor": 0
            },
            "text/plain": [
              "Map:   0%|          | 0/6426 [00:00<?, ? examples/s]"
            ]
          },
          "metadata": {},
          "output_type": "display_data"
        },
        {
          "name": "stdout",
          "output_type": "stream",
          "text": [
            "\n",
            "» Filtering invalid docs from 'blimp_from_file+null'\n"
          ]
        },
        {
          "name": "stderr",
          "output_type": "stream",
          "text": [
            "INFO:lm_eval.evaluator:\n",
            "» Filtering invalid docs from 'blimp_from_file+null'\n"
          ]
        },
        {
          "data": {
            "application/vnd.jupyter.widget-view+json": {
              "model_id": "c3383475db614a47bcfc9ade8d82fb11",
              "version_major": 2,
              "version_minor": 0
            },
            "text/plain": [
              "Filter:   0%|          | 0/6426 [00:00<?, ? examples/s]"
            ]
          },
          "metadata": {},
          "output_type": "display_data"
        },
        {
          "name": "stdout",
          "output_type": "stream",
          "text": [
            "\n",
            "» Constructing 'blimp_from_file+null' contexts and requests\n"
          ]
        },
        {
          "name": "stderr",
          "output_type": "stream",
          "text": [
            "INFO:lm_eval.evaluator:\n",
            "» Constructing 'blimp_from_file+null' contexts and requests\n",
            "100%|██████████| 6426/6426 [00:01<00:00, 6316.28it/s]"
          ]
        },
        {
          "name": "stdout",
          "output_type": "stream",
          "text": [
            "\n",
            "» Running all `loglikelihood` requests\n"
          ]
        },
        {
          "name": "stderr",
          "output_type": "stream",
          "text": [
            "\n",
            "INFO:lm_eval.evaluator:\n",
            "» Running all `loglikelihood` requests\n",
            "100%|██████████| 12852/12852 [01:33<00:00, 137.40it/s]\n"
          ]
        },
        {
          "name": "stdout",
          "output_type": "stream",
          "text": [
            "filler_gap:\t60.58%\n"
          ]
        },
        {
          "data": {
            "application/vnd.jupyter.widget-view+json": {
              "model_id": "3379184bf3af44dd89db6e1e0c402f09",
              "version_major": 2,
              "version_minor": 0
            },
            "text/plain": [
              "Generating train split:   0%|          | 0/1965 [00:00<?, ? examples/s]"
            ]
          },
          "metadata": {},
          "output_type": "display_data"
        },
        {
          "name": "stdout",
          "output_type": "stream",
          "text": [
            "\n",
            "» Assigning unique IDs to 'blimp_from_file+null' docs\n"
          ]
        },
        {
          "name": "stderr",
          "output_type": "stream",
          "text": [
            "INFO:lm_eval.evaluator:\n",
            "» Assigning unique IDs to 'blimp_from_file+null' docs\n"
          ]
        },
        {
          "data": {
            "application/vnd.jupyter.widget-view+json": {
              "model_id": "8beb1788bd7e4eb986882253228ae2a4",
              "version_major": 2,
              "version_minor": 0
            },
            "text/plain": [
              "Map:   0%|          | 0/1965 [00:00<?, ? examples/s]"
            ]
          },
          "metadata": {},
          "output_type": "display_data"
        },
        {
          "name": "stdout",
          "output_type": "stream",
          "text": [
            "\n",
            "» Filtering invalid docs from 'blimp_from_file+null'\n"
          ]
        },
        {
          "name": "stderr",
          "output_type": "stream",
          "text": [
            "INFO:lm_eval.evaluator:\n",
            "» Filtering invalid docs from 'blimp_from_file+null'\n"
          ]
        },
        {
          "data": {
            "application/vnd.jupyter.widget-view+json": {
              "model_id": "b38ee405ad4346d7986c41365fb76b29",
              "version_major": 2,
              "version_minor": 0
            },
            "text/plain": [
              "Filter:   0%|          | 0/1965 [00:00<?, ? examples/s]"
            ]
          },
          "metadata": {},
          "output_type": "display_data"
        },
        {
          "name": "stdout",
          "output_type": "stream",
          "text": [
            "\n",
            "» Constructing 'blimp_from_file+null' contexts and requests\n"
          ]
        },
        {
          "name": "stderr",
          "output_type": "stream",
          "text": [
            "INFO:lm_eval.evaluator:\n",
            "» Constructing 'blimp_from_file+null' contexts and requests\n",
            "100%|██████████| 1965/1965 [00:00<00:00, 6302.38it/s]"
          ]
        },
        {
          "name": "stdout",
          "output_type": "stream",
          "text": [
            "\n",
            "» Running all `loglikelihood` requests\n"
          ]
        },
        {
          "name": "stderr",
          "output_type": "stream",
          "text": [
            "\n",
            "INFO:lm_eval.evaluator:\n",
            "» Running all `loglikelihood` requests\n",
            "100%|██████████| 3930/3930 [00:24<00:00, 157.60it/s]\n"
          ]
        },
        {
          "name": "stdout",
          "output_type": "stream",
          "text": [
            "irregular_forms:\t86.67%\n"
          ]
        },
        {
          "data": {
            "application/vnd.jupyter.widget-view+json": {
              "model_id": "bc9a8c5634a9457d97cba3c3400aa0b8",
              "version_major": 2,
              "version_minor": 0
            },
            "text/plain": [
              "Generating train split:   0%|          | 0/2676 [00:00<?, ? examples/s]"
            ]
          },
          "metadata": {},
          "output_type": "display_data"
        },
        {
          "name": "stdout",
          "output_type": "stream",
          "text": [
            "\n",
            "» Assigning unique IDs to 'blimp_from_file+null' docs\n"
          ]
        },
        {
          "name": "stderr",
          "output_type": "stream",
          "text": [
            "INFO:lm_eval.evaluator:\n",
            "» Assigning unique IDs to 'blimp_from_file+null' docs\n"
          ]
        },
        {
          "data": {
            "application/vnd.jupyter.widget-view+json": {
              "model_id": "57ab9fc05f894e45816799e0e6cc64a8",
              "version_major": 2,
              "version_minor": 0
            },
            "text/plain": [
              "Map:   0%|          | 0/2676 [00:00<?, ? examples/s]"
            ]
          },
          "metadata": {},
          "output_type": "display_data"
        },
        {
          "name": "stdout",
          "output_type": "stream",
          "text": [
            "\n",
            "» Filtering invalid docs from 'blimp_from_file+null'\n"
          ]
        },
        {
          "name": "stderr",
          "output_type": "stream",
          "text": [
            "INFO:lm_eval.evaluator:\n",
            "» Filtering invalid docs from 'blimp_from_file+null'\n"
          ]
        },
        {
          "data": {
            "application/vnd.jupyter.widget-view+json": {
              "model_id": "cd7db99a8f81473ebe6edc86ad331ade",
              "version_major": 2,
              "version_minor": 0
            },
            "text/plain": [
              "Filter:   0%|          | 0/2676 [00:00<?, ? examples/s]"
            ]
          },
          "metadata": {},
          "output_type": "display_data"
        },
        {
          "name": "stdout",
          "output_type": "stream",
          "text": [
            "\n",
            "» Constructing 'blimp_from_file+null' contexts and requests\n"
          ]
        },
        {
          "name": "stderr",
          "output_type": "stream",
          "text": [
            "INFO:lm_eval.evaluator:\n",
            "» Constructing 'blimp_from_file+null' contexts and requests\n",
            "100%|██████████| 2676/2676 [00:00<00:00, 6071.26it/s]"
          ]
        },
        {
          "name": "stdout",
          "output_type": "stream",
          "text": [
            "\n",
            "» Running all `loglikelihood` requests\n"
          ]
        },
        {
          "name": "stderr",
          "output_type": "stream",
          "text": [
            "\n",
            "INFO:lm_eval.evaluator:\n",
            "» Running all `loglikelihood` requests\n",
            "100%|██████████| 5352/5352 [00:38<00:00, 139.59it/s]\n"
          ]
        },
        {
          "name": "stdout",
          "output_type": "stream",
          "text": [
            "island_effects:\t43.27%\n"
          ]
        },
        {
          "data": {
            "application/vnd.jupyter.widget-view+json": {
              "model_id": "f80cdf77adb04a75990a01251cafa554",
              "version_major": 2,
              "version_minor": 0
            },
            "text/plain": [
              "Generating train split:   0%|          | 0/6586 [00:00<?, ? examples/s]"
            ]
          },
          "metadata": {},
          "output_type": "display_data"
        },
        {
          "name": "stdout",
          "output_type": "stream",
          "text": [
            "\n",
            "» Assigning unique IDs to 'blimp_from_file+null' docs\n"
          ]
        },
        {
          "name": "stderr",
          "output_type": "stream",
          "text": [
            "INFO:lm_eval.evaluator:\n",
            "» Assigning unique IDs to 'blimp_from_file+null' docs\n"
          ]
        },
        {
          "data": {
            "application/vnd.jupyter.widget-view+json": {
              "model_id": "9699e86446fc4da69b9dcc21fcd3b1c0",
              "version_major": 2,
              "version_minor": 0
            },
            "text/plain": [
              "Map:   0%|          | 0/6586 [00:00<?, ? examples/s]"
            ]
          },
          "metadata": {},
          "output_type": "display_data"
        },
        {
          "name": "stdout",
          "output_type": "stream",
          "text": [
            "\n",
            "» Filtering invalid docs from 'blimp_from_file+null'\n"
          ]
        },
        {
          "name": "stderr",
          "output_type": "stream",
          "text": [
            "INFO:lm_eval.evaluator:\n",
            "» Filtering invalid docs from 'blimp_from_file+null'\n"
          ]
        },
        {
          "data": {
            "application/vnd.jupyter.widget-view+json": {
              "model_id": "6729f8cd5ff34a1caf76f5184ca72fb5",
              "version_major": 2,
              "version_minor": 0
            },
            "text/plain": [
              "Filter:   0%|          | 0/6586 [00:00<?, ? examples/s]"
            ]
          },
          "metadata": {},
          "output_type": "display_data"
        },
        {
          "name": "stdout",
          "output_type": "stream",
          "text": [
            "\n",
            "» Constructing 'blimp_from_file+null' contexts and requests\n"
          ]
        },
        {
          "name": "stderr",
          "output_type": "stream",
          "text": [
            "INFO:lm_eval.evaluator:\n",
            "» Constructing 'blimp_from_file+null' contexts and requests\n",
            "100%|██████████| 6586/6586 [00:01<00:00, 4535.89it/s]"
          ]
        },
        {
          "name": "stdout",
          "output_type": "stream",
          "text": [
            "\n",
            "» Running all `loglikelihood` requests\n"
          ]
        },
        {
          "name": "stderr",
          "output_type": "stream",
          "text": [
            "\n",
            "INFO:lm_eval.evaluator:\n",
            "» Running all `loglikelihood` requests\n",
            "100%|██████████| 13172/13172 [01:32<00:00, 142.80it/s]\n"
          ]
        },
        {
          "name": "stdout",
          "output_type": "stream",
          "text": [
            "npi_licensing:\t57.82%\n"
          ]
        },
        {
          "data": {
            "application/vnd.jupyter.widget-view+json": {
              "model_id": "9437d69bc44c4efdb3526c4e26412f17",
              "version_major": 2,
              "version_minor": 0
            },
            "text/plain": [
              "Generating train split:   0%|          | 0/3882 [00:00<?, ? examples/s]"
            ]
          },
          "metadata": {},
          "output_type": "display_data"
        },
        {
          "name": "stdout",
          "output_type": "stream",
          "text": [
            "\n",
            "» Assigning unique IDs to 'blimp_from_file+null' docs\n"
          ]
        },
        {
          "name": "stderr",
          "output_type": "stream",
          "text": [
            "INFO:lm_eval.evaluator:\n",
            "» Assigning unique IDs to 'blimp_from_file+null' docs\n"
          ]
        },
        {
          "data": {
            "application/vnd.jupyter.widget-view+json": {
              "model_id": "c972463bdbb94da29abe49a616a91985",
              "version_major": 2,
              "version_minor": 0
            },
            "text/plain": [
              "Map:   0%|          | 0/3882 [00:00<?, ? examples/s]"
            ]
          },
          "metadata": {},
          "output_type": "display_data"
        },
        {
          "name": "stdout",
          "output_type": "stream",
          "text": [
            "\n",
            "» Filtering invalid docs from 'blimp_from_file+null'\n"
          ]
        },
        {
          "name": "stderr",
          "output_type": "stream",
          "text": [
            "INFO:lm_eval.evaluator:\n",
            "» Filtering invalid docs from 'blimp_from_file+null'\n"
          ]
        },
        {
          "data": {
            "application/vnd.jupyter.widget-view+json": {
              "model_id": "7ea1dd48637f489ab9201cbf59256e7d",
              "version_major": 2,
              "version_minor": 0
            },
            "text/plain": [
              "Filter:   0%|          | 0/3882 [00:00<?, ? examples/s]"
            ]
          },
          "metadata": {},
          "output_type": "display_data"
        },
        {
          "name": "stdout",
          "output_type": "stream",
          "text": [
            "\n",
            "» Constructing 'blimp_from_file+null' contexts and requests\n"
          ]
        },
        {
          "name": "stderr",
          "output_type": "stream",
          "text": [
            "INFO:lm_eval.evaluator:\n",
            "» Constructing 'blimp_from_file+null' contexts and requests\n",
            "100%|██████████| 3882/3882 [00:00<00:00, 6179.14it/s]"
          ]
        },
        {
          "name": "stdout",
          "output_type": "stream",
          "text": [
            "\n",
            "» Running all `loglikelihood` requests\n"
          ]
        },
        {
          "name": "stderr",
          "output_type": "stream",
          "text": [
            "\n",
            "INFO:lm_eval.evaluator:\n",
            "» Running all `loglikelihood` requests\n",
            "100%|██████████| 7764/7764 [00:53<00:00, 145.73it/s]\n"
          ]
        },
        {
          "name": "stdout",
          "output_type": "stream",
          "text": [
            "quantifiers:\t68.88%\n"
          ]
        },
        {
          "data": {
            "application/vnd.jupyter.widget-view+json": {
              "model_id": "aac75d0ede1247318fd473e804e2006c",
              "version_major": 2,
              "version_minor": 0
            },
            "text/plain": [
              "Generating train split:   0%|          | 0/5535 [00:00<?, ? examples/s]"
            ]
          },
          "metadata": {},
          "output_type": "display_data"
        },
        {
          "name": "stdout",
          "output_type": "stream",
          "text": [
            "\n",
            "» Assigning unique IDs to 'blimp_from_file+null' docs\n"
          ]
        },
        {
          "name": "stderr",
          "output_type": "stream",
          "text": [
            "INFO:lm_eval.evaluator:\n",
            "» Assigning unique IDs to 'blimp_from_file+null' docs\n"
          ]
        },
        {
          "data": {
            "application/vnd.jupyter.widget-view+json": {
              "model_id": "5b828c56784646ac92924586423f1118",
              "version_major": 2,
              "version_minor": 0
            },
            "text/plain": [
              "Map:   0%|          | 0/5535 [00:00<?, ? examples/s]"
            ]
          },
          "metadata": {},
          "output_type": "display_data"
        },
        {
          "name": "stdout",
          "output_type": "stream",
          "text": [
            "\n",
            "» Filtering invalid docs from 'blimp_from_file+null'\n"
          ]
        },
        {
          "name": "stderr",
          "output_type": "stream",
          "text": [
            "INFO:lm_eval.evaluator:\n",
            "» Filtering invalid docs from 'blimp_from_file+null'\n"
          ]
        },
        {
          "data": {
            "application/vnd.jupyter.widget-view+json": {
              "model_id": "b2bf1861d6934476a0c49ad1df8b5017",
              "version_major": 2,
              "version_minor": 0
            },
            "text/plain": [
              "Filter:   0%|          | 0/5535 [00:00<?, ? examples/s]"
            ]
          },
          "metadata": {},
          "output_type": "display_data"
        },
        {
          "name": "stdout",
          "output_type": "stream",
          "text": [
            "\n",
            "» Constructing 'blimp_from_file+null' contexts and requests\n"
          ]
        },
        {
          "name": "stderr",
          "output_type": "stream",
          "text": [
            "INFO:lm_eval.evaluator:\n",
            "» Constructing 'blimp_from_file+null' contexts and requests\n",
            "100%|██████████| 5535/5535 [00:00<00:00, 6185.40it/s]"
          ]
        },
        {
          "name": "stdout",
          "output_type": "stream",
          "text": [
            "\n",
            "» Running all `loglikelihood` requests\n"
          ]
        },
        {
          "name": "stderr",
          "output_type": "stream",
          "text": [
            "\n",
            "INFO:lm_eval.evaluator:\n",
            "» Running all `loglikelihood` requests\n",
            "100%|██████████| 11070/11070 [01:18<00:00, 141.87it/s]\n"
          ]
        },
        {
          "name": "stdout",
          "output_type": "stream",
          "text": [
            "subject_verb_agreement:\t55.00%\n"
          ]
        },
        {
          "data": {
            "application/vnd.jupyter.widget-view+json": {
              "model_id": "5e6b984db9654799a54ae55730072de6",
              "version_major": 2,
              "version_minor": 0
            },
            "text/plain": [
              "Generating train split:   0%|          | 0/4394 [00:00<?, ? examples/s]"
            ]
          },
          "metadata": {},
          "output_type": "display_data"
        },
        {
          "name": "stdout",
          "output_type": "stream",
          "text": [
            "\n",
            "» Assigning unique IDs to 'blimp_from_file+null' docs\n"
          ]
        },
        {
          "name": "stderr",
          "output_type": "stream",
          "text": [
            "INFO:lm_eval.evaluator:\n",
            "» Assigning unique IDs to 'blimp_from_file+null' docs\n"
          ]
        },
        {
          "data": {
            "application/vnd.jupyter.widget-view+json": {
              "model_id": "b6233286fff348cf85f004969d32f278",
              "version_major": 2,
              "version_minor": 0
            },
            "text/plain": [
              "Map:   0%|          | 0/4394 [00:00<?, ? examples/s]"
            ]
          },
          "metadata": {},
          "output_type": "display_data"
        },
        {
          "name": "stdout",
          "output_type": "stream",
          "text": [
            "\n",
            "» Filtering invalid docs from 'blimp_from_file+null'\n"
          ]
        },
        {
          "name": "stderr",
          "output_type": "stream",
          "text": [
            "INFO:lm_eval.evaluator:\n",
            "» Filtering invalid docs from 'blimp_from_file+null'\n"
          ]
        },
        {
          "data": {
            "application/vnd.jupyter.widget-view+json": {
              "model_id": "9197284d5dce43a2af71f60486f1a33b",
              "version_major": 2,
              "version_minor": 0
            },
            "text/plain": [
              "Filter:   0%|          | 0/4394 [00:00<?, ? examples/s]"
            ]
          },
          "metadata": {},
          "output_type": "display_data"
        },
        {
          "name": "stdout",
          "output_type": "stream",
          "text": [
            "\n",
            "» Constructing 'blimp_from_file+null' contexts and requests\n"
          ]
        },
        {
          "name": "stderr",
          "output_type": "stream",
          "text": [
            "INFO:lm_eval.evaluator:\n",
            "» Constructing 'blimp_from_file+null' contexts and requests\n",
            "100%|██████████| 4394/4394 [00:00<00:00, 5794.96it/s]"
          ]
        },
        {
          "name": "stdout",
          "output_type": "stream",
          "text": [
            "\n",
            "» Running all `loglikelihood` requests\n"
          ]
        },
        {
          "name": "stderr",
          "output_type": "stream",
          "text": [
            "\n",
            "INFO:lm_eval.evaluator:\n",
            "» Running all `loglikelihood` requests\n",
            "100%|██████████| 8788/8788 [01:22<00:00, 105.94it/s]\n",
            "/content/evaluation-pipeline/lm_eval/api/task.py:589: RuntimeWarning: divide by zero encountered in divide\n",
            "  if np.argmax(results / completion_len) == target_idx\n"
          ]
        },
        {
          "name": "stdout",
          "output_type": "stream",
          "text": [
            "preposition:\t62.04%\n",
            "\n",
            "Scores:\n",
            "anaphor_agreement:\t67.74%\n",
            "argument_structure:\t62.26%\n",
            "binding:\t60.60%\n",
            "control_raising:\t59.37%\n",
            "determiner_noun_agreement:\t78.03%\n",
            "ellipsis:\t50.23%\n",
            "filler_gap:\t60.58%\n",
            "irregular_forms:\t86.67%\n",
            "island_effects:\t43.27%\n",
            "npi_licensing:\t57.82%\n",
            "quantifiers:\t68.88%\n",
            "subject_verb_agreement:\t55.00%\n",
            "preposition:\t62.04%\n"
          ]
        }
      ],
      "source": [
        "#@title Load model and evaluate (BLiMP) { display-mode: \"form\" }\n",
        "model = \"/content/drive/MyDrive/VU Thesis/Code/baby_models/V20L4/model_e7_v20_l4/\" #@param {\"type\": \"string\"}\n",
        "model_type = \"encoder\" #@param [\"decoder\", \"encoder\", \"encoder-decoder\"]\n",
        "# file_name = \"examples3.csv\" #@param {\"type\": \"string\"}\n",
        "# model_names = [\"opt-125m\", \"opt-350m\", \"opt-1.3b\", \"opt-2.7b\"] #@param {\"type\": \"raw\"}\n",
        "\n",
        "%cd /content/evaluation-pipeline\n",
        "%run /content/evaluation-pipeline/babylm_eval_prep.py \\\n",
        "  \"$model\" \\\n",
        "  \"$model_type\" \\\n",
        "  -t \"blimp_with_preposition\""
      ]
    },
    {
      "cell_type": "markdown",
      "metadata": {
        "id": "L1b37PpppKGG"
      },
      "source": [
        "### Epoch 8"
      ]
    },
    {
      "cell_type": "code",
      "execution_count": null,
      "metadata": {
        "colab": {
          "base_uri": "https://localhost:8080/",
          "height": 1000,
          "referenced_widgets": [
            "1207b2a9301249d1bc3bfcf233cdd4d6",
            "f2e790cb1cd2470d890e0973b309f41f",
            "b9b69a22e9014a5099a2b099186c566b",
            "100993b19aad4af4986d257af237f081",
            "b1c21b1e2f114a53b097724a777416c8",
            "afa1e89ae2254230b6803e4715d6779e",
            "6c48f2d0f40543ba9ff2ee02ce3822fb",
            "155196e100714b5c94147675e32e48c6",
            "7bebd6854fd441b29208ffc38d1b4b1e",
            "6583c0d345524a949b870376c4a1518c",
            "d289420172a14ce192b8ec1fbfe71cb8",
            "610a56bc46db45c4832380231d5c1414",
            "146e7c068f9447569c45855c3b217c51",
            "8e5a243744d8418aaec56a482ed0e7c7",
            "a1ce2a21ed09479c975a4ffbbba2c1dd",
            "7e6864e73b0641cfb0eb76714c8b59b0",
            "648fefbc3601495f86fc26c01670a313",
            "195616f6cacf4561a5b5d851f55c98b8",
            "25a96f68459b4001b657d2140b00e907",
            "2ea2773e33e149d3af2a182dc4a8ec24",
            "0c201c4d6b384feba4fd6b196a6372ee",
            "c3f5bc22fcd84d26b24418106bea9b1b",
            "47a43b0ed9e74ec9bec3f1cfe0d0bfe3",
            "122266273315413692bb62466f67bb07",
            "e55115882d9d4bd8895e3d6d10db136e",
            "06d80f56873d42fc80d0f1ee9d397534",
            "34af3de691064e43a9dfb2895712927f",
            "17325fee1e7b4e1e82068c51be40764c",
            "cf2b7c7b12624ed3bebfd9eeb737deeb",
            "0aedba1a6b9e4fe6aee135df90c12e51",
            "f9a7b54d618f42948588d7aa2e14b846",
            "769d32cbb0314d1b86c7e315970074c3",
            "727ef41d30ba4484a018b397d65d525e",
            "adc4826cfc7e4ee989e6616d2a127288",
            "ca55bd4f50184e5487fa5a78d115039d",
            "5e3469879e324cf7aa75b91aed98ad4b",
            "b41f1645bf5f444da4a287e7457ee138",
            "86cd7abdf1e84131ae90fd62a97ff38f",
            "568ead385b8e44ec949262bb26d41e3a",
            "91ba924509c74f5baf059e77bd6cf87f",
            "f7318ee05ee94a879c439fe40f0c68a7",
            "88e07472c28549e2b6a1344ddd70cbb4",
            "98229969cbe64d94906586a083b3fb21",
            "6657efbc3b904fa69e048710bb4b1049",
            "908028872ddd435d94c420a258e37b50",
            "48afd4cd655a4089a417cb65404bcc0e",
            "75bbc7fb84da4f87b61ccb9597cd6427",
            "6fe736423bf34728a93e041a53f4f2f0",
            "c661070e40314bdaa201c01cd261f9f5",
            "850666c04d984ebca9bc5a18a9556620",
            "22e4b99c764941318d9e88d3697a30a0",
            "a51077477ae4439bae0099ae2989dc1a",
            "df5f1bef2aa2418793bb355e93f20867",
            "6fc69a6891ba4c98a8b92f8f1ad111a5",
            "9f31f90bf8064e5791408690ef3c2ebb",
            "56026d8b29064f028290552d49c172e9",
            "0cb35c1ec4e348f99138b400c6dc80f4",
            "d19942724ee4499b872c12afd9aee145",
            "5717ba2a94c841f5a00a208f5beb4623",
            "67fd5ebd1d854a7191ca1df55a589e25",
            "3bf345ed1c0f40d09901910252ab3f6b",
            "7b7ff20627b149c9ad5b0b94e84e3849",
            "f74b10e71767493394bdb11f41ed1179",
            "88947c410b8e42e7acd1e19341d2d501",
            "c2384de663df4bd4a03d8b976c535d3f",
            "0bcb05fc61a74e818a3b75c6e24f4afb",
            "5b8ab7b544c640cba3a7da4b05ba0712",
            "a2ff89baef764efab16c7e3810573f33",
            "a625bf177f59436f990d2391e0f52241",
            "ac5a288905ac425fb5d2531b5753ebb6",
            "0226e042fd3f4c3ab9128607c9fceee0",
            "b605ab0f71eb4c78ae9c199800d907fc",
            "51e97c243b354872b17d7d3d7e87ab0a",
            "414c880dd12a4531b9c5bd25c4dfecc7",
            "7589e3e3a4214b6bba42092cf4dc4ad5",
            "15dc53ee032244f58a5c181979170657",
            "8180e53ac1f34b3285612579d14fb59e",
            "1250efb3b59145e0ba24c6f2835b46a2",
            "b1ce64a3f7a146a7b366b4a8a5064e3b",
            "234264c762f74e6b97ac1ca3b14d487a",
            "bb327076c9b6442abf9510c9358a925a",
            "4bdba35f6ab948bbae364780391edebc",
            "05d1f31b8a90454b850eb93d9078603a",
            "611efa5d939f4acdaef9f155c08bc989",
            "8b1b7c6e00c242b2809de19061eea984",
            "b035a57c3f6f4064bd0654167cfedb97",
            "12570830411e4a9fb0f8a914a4bdb190",
            "358bcb53fcdb4789a52c70c2ae940713",
            "257e80fcdc104f0cbd7d183c6fe58514",
            "9c7411c12ee042368c2d923337391141",
            "a010f3f7727a4b43a2a1911271d82f16",
            "1a601f074ebb423baa6f6de6e195d4e3",
            "eed284bccccf471fb6b25d18b2064da4",
            "3e7342eae4a44ec7ac8a230e64ba1d1c",
            "ba91d7094d1149bfafdc9469a4f8c1e5",
            "b21ef4154b8c40a9a16333dfb894273b",
            "72522bede2284f4c820372cd0fe03535",
            "db39745bf63542a9adc5f93b299e7757",
            "e8d68b52420142bf9f1dc7443d80c850",
            "2d1ca9aa59ad4c7f8ffec8df5581cd4b",
            "231d6399ddf44b00bbc6b8533310e041",
            "0f1b229393cc470ea5e5a91907362be1",
            "bcade3ed9091415fa729bd4ad3424a8b",
            "b8feb06fa34e429780de43e000f41d69",
            "61b9a62860d34b748636c6651745d153",
            "3aea968487924e55b283b32beae8308b",
            "6e897089ab1d42e894514ef9154afc83",
            "f5fb228032bb4351b849f4d605489cea",
            "ea8d8422948f4397a9f6964987ee4c85",
            "b30323bc716147d2b52848f972ecf03c",
            "0d52c2028899455386a4daf079b6aca1",
            "d95da2d37ff34e62a77ac002a1bf6ffa",
            "c87acaa017444b8bae72d99d0f64854e",
            "927bd4006b8948d8b30e6b4277423c24",
            "b3d3e34cd60f46c89533a63941f4f7dc",
            "de20a335f97c43febc6386214e38cdee",
            "84266b4f34f0482382b8d2f0b0c30b0f",
            "c333cec15dbd4c4fb074e987948524bc",
            "83dda432777c4058822dddac953ed60b",
            "fa80c50f020e49f5ba27c6196b694e0d",
            "759333eba06d47f5a13859b4355915d7",
            "33aa5d5d20984ad8b693e40292927443",
            "be938497b9ad4c9abdc2fb311428e618",
            "cf7c9c7aae694eb8a4ec1e1cb3049d14",
            "fc899793e1a74812b657dfea909797c9",
            "5a66e3606c1d46b3a66cd0e6912b4846",
            "85efbfd8fa194c09bceacb702bd9cf40",
            "e92bf1681993442fa0164156160d789d",
            "de3f4c11a73d439ea373c0b7b92c933f",
            "3a06b5b14c344a9484ab083f0ece27e2",
            "27af185f5daf46e896cba7d0569a14a4",
            "9ddbadb6f19d431dbf75297c7ef0800f",
            "1faee48ec65e46289b329717eda288c6",
            "cc0fc5587a8a481a81155df3b63782e9",
            "12fb07618af34c29b4115e5f0276437e",
            "eba01f4177564475aae349784d9744bc",
            "46a45255955b42278d7e86e3bc96b9d4",
            "0f3587aebd3f4765a1fcc09008254ab6",
            "49dc3e3e2a424416a58aa2ede9887c11",
            "f8ab665afffb4c0e9ba7f6fcf5ae644d",
            "e3d0adb06fa5453481a1eb079568a7ce",
            "07305448ba9c45af84ccd95140f8e201",
            "a1972ce65d234e00bbab8f15b03300de",
            "3c85436f01164d4bbe259f9ed662bcc7",
            "d0d93c004b864ac3a49a321bfac275ff",
            "a0845990f33c429684dc14ee16c5f0e3",
            "43b3d6365aca4ffe84778ec53f560a4b",
            "a7855f202c3245f6b3dc0c034e022187",
            "3a557adcc6a3417fae0daf3d20f6076b",
            "ea20e25f72d64649aaa9ee9996c5abc7",
            "d1dedbfb79d0414a8cfbdb1608f3a897",
            "4aba8de6ae4744dca111d9569a6231ea",
            "3e5aa7b416c246cb8ace9aa5c51bebcc",
            "530ef77f13764e85a12cc3c4739a7717",
            "f8c3e52896704277bde23c1af1427343",
            "4455213a04474b9d9513f0309aab0374",
            "6d448b691c8e43f38b5b965c92e01848",
            "1e27404123e64f458becbaa22e2ad358",
            "fe13d9ba6c7b4e57b5142ba4f861e319",
            "7a38b20846ec4b1a937c6c74dd067030",
            "588a073fc72d4cbca1fb7b6d14b49aff",
            "851392a6837d4e1a942fd2ac5ea9d771",
            "aa12a722429d4e10adf0710e55da6295",
            "d945485b2e6840c4aab3ce96e14d1277",
            "51097b43155c4bf0a0345cfa040ea236",
            "80bac63591ce4ce3a7d151333572529a",
            "3eb968f8089944d69731163853e7dd0e",
            "7f9d48613e8545efa446a3844c938c27",
            "e68f0aff38fc4fb4b6aaa0d159441518",
            "545526af6a4c42ee957b700cc028b9c8",
            "42253a17b56944ddaeccf8d4f3efbf21",
            "fb8e53ae338047e6a34b4c642cac21f7",
            "2caa5caf1bfb4b03bef08efcac07cf1f",
            "26b6fe5ded1045e9991ba7a4d6c92e9b",
            "9df05ee784534982b3a192e793a4b9d6",
            "c486beca11cf46eabe85c9d32754c741",
            "b7789c22e51b4608af12913363a40ce5",
            "0dbff3e7d5284a73bf01faca9f3fcb58",
            "a1929904b2a14f988c5a65de6da2c88a",
            "79b50ce5cc4646758cc59baa211429c5",
            "338b79b3c1e44f7c9eb5c25d37f29c56",
            "42a01be7b1e443a099ea951cc45ce5ed",
            "a703fe4f2c0745c4b2264ec33bfe728c",
            "f8d182fd12bf4eadb95a86c69ff51f98",
            "0f507ca5fea74b5895b3d8da30653044",
            "57ae34cd0bf24a2cbccf5999774aa397",
            "a45d8d41262d4deba4b48948cd0eb13f",
            "3d209087ff0c4942bd12663dd1d687f9",
            "5b2989b777424ad9874a0a2ebc0810ce",
            "a7da0cdd00db44cfa2384bc4edd35efd",
            "97ca15f5809945f18f11fd9635e54d82",
            "a243bade13b4426c997d1bc974327ba2",
            "2fb431daa2c5498ba9bf712352ec403b",
            "5e5efff2d8014a1ebe1396d752033991",
            "e27f542aab274f6581b1c0fcaea7b880",
            "c882b257965744098f5bab489611b5a3",
            "15a168f801414d478dad0dd6c0dceef6",
            "41c9dfc9f6444ab3b0baab98414be027",
            "16dde15453274b69b2270491b3958319",
            "7fa0b47ef91942e5b67aa9c0d83d1c54",
            "d923fa6df14d4c91b7d59c1755faf403",
            "cbda3b490c754da681cb95f991ba047a",
            "278034d4589141c0922b31420c739f5a",
            "21e55dd897564f0a8e80ec43241db907",
            "3d54be1596c64e73a3ec5893eec03700",
            "950ba447f55641d58a61f25ce48c5fc9",
            "83360fb381e04f8baa56f6d3dbeee178",
            "7b1637e4bfa54da5a2b372bc0f329ec2",
            "337d760d8c4a4b83938b9036f379b91a",
            "d2b6bda884da4f5a87ba820647091d0d",
            "9096ecd9bcbc4cf2a8dd5962f8f15d72",
            "316d8c3bc91a4d799dc7ae89a4f4a3af",
            "5b988960f8ef4f999a12ed56fcd1d742",
            "f09d29d3da8c49b0a0f34e8d1e75abc5",
            "1a166231d2de4a3fbe98ee41a4ac72f0",
            "6bd8c494266f4ace8f5ed609f3f875f5",
            "9fb5930432cc4acba78b28567c795935",
            "f4b7d804609348ad9452e5a321863e75",
            "bec4154a63e34141ad8de52838aa8287",
            "1e51c33e31184657ae10ae35c68d6118",
            "8f020375edbb41139969da3e938f91be",
            "d6649aa6d30c4036b6955de0b3b5678e",
            "e8d19527ddcd402284e94cc6fc48f9dc",
            "18afac13509c4feeaac58d4a34a3875f",
            "f3710ae4ab084ce9a2d336202511f519",
            "81f72ebd752045e797a0cc908f071e74",
            "0d5851db6b624ecaaa85c2842bafad1a",
            "ef475dc3effc4eaca39c1e3eb42b322e",
            "9deb9728a7844dcb9c5bcd7e9db546ca",
            "7ef756815e4645578157e61f4df89559",
            "871af887b99141b5a182845c57c05531",
            "4f3e1b44ca2f4ebfaa6d487ed46743bf",
            "3c7508d9df6b4d118eb464a8fee0c90b",
            "d42e54715693413c86b0176e3cedea34",
            "142889aedbcb4d3f90cdb5e57f41a16c",
            "7e345de6275942848e1f19c11220625e",
            "e538655bdc2c4ceba1eafd5052bfbc14",
            "a3738528ba204e6dbcc43124a3c8bbf4",
            "d76f7cf06c3146e88d224d0380355c1e",
            "c604390c9fb447f28b8a931d8e76274f",
            "804a3e65486e4177ad3ee17cdf5cb172",
            "be0b3737b648400eaa1331748bb3111f",
            "e84ade57c39947eda1990cf12931a332",
            "24087beeb8ed44d7890a0b466891df32",
            "ff77fcec1c9c44b1842ca4e6f34cde93",
            "b417d89733d74d1996e96c378255e259",
            "14d74e3bca1e46329ef8cbecb9b28359",
            "627df5de2e484b1e8cc52b4ae92be7a3",
            "b8d7e6e0f0384627b5b284ad054fbee5",
            "68f8dcf059394a1fa0922088a83ec662",
            "6904714ff2e9486a9c87b662a4370c64",
            "936604a1755949bf874950d56244055b",
            "ec3c67839a7346ef9c2f4c9f3d55b082",
            "c5ff888e652945da81a6b8555c1986e6",
            "e7d9324a69d543a199fb89c51c341f54",
            "da1d0ea76c244f2bba859fcb01761aea",
            "658aa7d47b6f4d509c64ea0bab3f53da",
            "92b58dcc507e48ac8775ac81b224ae20",
            "ba629100e2514c4898a8182426b9b47d",
            "688f74f23fa8492b87e78cf7cdc5df40",
            "09c132c115e84584ab11ba1e0e0d2def",
            "75abe150fafc4cbdab1db94f885fab3a",
            "c65d915241814588a67bef1ced043453",
            "a107fb990af54701b6f4e6425b772f8d",
            "7cc88fec469e41a8a285392b59daf32f",
            "3661182728c94e1fa3e10ccbef2cc20e",
            "dceec5217f0d4ba7a0f8f51723b89c4d",
            "6adb5eabfca1489fb3bc49c61f2fcb63",
            "1393472ac4f64755ba7ff45928ecb2fc",
            "5c15c174c61b4c46aea9265e19420cdd",
            "d3a47efb2a904063ad8164a055d3bd8d",
            "316b499d8b9a414ba2365ac3eff8a0c3",
            "b6177fcbcd994ce7893e146eabfa521c",
            "3d950b24ac2c48348298d7c30e16937f",
            "d38815ca5dd54aa2805f7ae5b1022d29",
            "7ca2a73bfe174f36afaa70223e76105b",
            "664edebd0a2340749cbd4a3c8a1dd5c9",
            "5db31622c4a1417ebccf33bb68c31d9d",
            "7bf479c8a2f14e3fbc28e917cbf7f1a9",
            "41adaf81092140d9aad51f4316b79e1a",
            "63a96161961c45df9f237561f10f2807",
            "d0d19d4f4b1f4ce39f9d8d8cbd27c348",
            "ded7b988b8ca4c3fa7d8690b6a2aaf37",
            "348de107be6f465aab30b5a0040ae10a",
            "65a743c053d7419e8b7ad5380e84a383",
            "df9acaac33ca433c978bbbd4fb52a09a",
            "133bb7677aff453b8f438cd565d008b9",
            "2d2e0650f9db45508822801a4d06ed2e",
            "34414b6b6c6946cc9d7fb1bdd63ff48a",
            "67c2c10ee4284f719f16b89a64a96fda",
            "1149401900b04079865fc58398df2907",
            "ff9a2787b04b429ca2fd4803296cf5dc",
            "b0ff9cff4e5f4535832a071834033d21",
            "0d0b3f111f634369b7f92baa04a475c5",
            "a7037239d0d94e5ba7bff9099a8f5311",
            "2f3679e1ca4e4764b4937c28216b4771",
            "6a5d4f3548344ae2b871a5690ef47adf",
            "d40a0c5d360345a28e2a92d8bdb3a063",
            "bccde23a456e4c49b091d0199c435f78",
            "543cd0f53aa241ec9d08733c19f9267d",
            "604554ae3fd94572b9fff489c6aa2770",
            "f0ef1335a70f4a00a04b9bbd17323efa",
            "e10b75c396bf409490920866473a0a4c",
            "7cb6268a81484d9ab9cb2136f494c498",
            "5d11453f859b48858552904641d03a07",
            "aeb4df1d236648369ae75c2fe043de10",
            "2903ff08f5354c70badf9dc3c9c02c37",
            "0b0304c80a9d45bfbdaaeb8f53994338",
            "26c913071d574f3f9e5d359cb4157eea",
            "60b829b4cd4644148bae3e31f21c3eb0",
            "d8b74d66dea949ec9df99882615f0799",
            "d2610fb287be4afaa169c7af9dd6e692",
            "e6037467ff5945448e30315898737cdd",
            "a0a58c3f44044a14bba9d92b4765e478",
            "3f5b435a22124a87aa68f802e255b7d8",
            "3536f185fa774a84817f04a1a645c2eb",
            "0a081ca44ce74a74ae14bd72a67a8155",
            "20a4b2419a7a467a91d0d8cc39924248",
            "616291a6d16c44fea0582c04ccb7679a",
            "b02766267be54876b5e32f359ea3f3ac",
            "a5c029614264479ba320c48e88698b02",
            "23878ae7d1224354a04ac4189592ca90",
            "f8024839e10343a3a773ebc82b2cc9cc",
            "4a9e21a0b24f452aa5db72ef812c4e88",
            "0b338eda690343f096d34e5fd896a740",
            "e217b56f3003411f8d7a0d336dc18591",
            "b77f93f418434bbd9d583150ceee814e",
            "ebfd80dbd24e417284e57ca237801e14",
            "6906b549efc54cb48ce3c4fa4fc6230b",
            "a489e33b0f604664b5d39cb7fd354da1",
            "e9e03e71450748bd92cad17a34ff65d5",
            "fd743bcffc6f4552ac85ce389b922c26",
            "225bea86a42b4d74a3544303c76a15fa",
            "75342a24f4044b968649f4f51d72a780",
            "dd88b0c0adf5443cbfcd6684dd404d77",
            "892b0cc6793345c5aab03564d7b3fe1d",
            "c8d84f8e6b754ee49853516ed0ca9156",
            "e1dac9f872814c5aa84ec3f4a5ad1969",
            "1b21ab06db56430e88ec6fb00d02c562",
            "bfcc69f9dc09477eb5a2285da885bbc4",
            "15b670df9f1a4f36aa037842d933b381",
            "42845b5352c1406394b1fe447f32e841",
            "0591c754f79e4cf1a7c67c46b633c401",
            "ab573e42aa804b48a658fc2f4fa01c77",
            "24a766b83e514ab49d819ec91088a2c2",
            "1700f75417ae4021bcdab0c17b6736a4",
            "abe1c9c304f046379c2eb5b48f3a8c7d",
            "0d2d762bd94e4fe9aa9a4bf21bd62324",
            "4e5887dcc2d74cb58ad0d3a323bf6fbe",
            "08167beec43543d6afa1a97ef6f270d4",
            "7ec0b91eb4b341c0bc8473e76c15ad76",
            "38bd4534622749d69ddaa980cf6c3a0d",
            "a4c08653c24e4fd7a030075e53778753",
            "9329217b68f04ef6aea297ba7fd6ca78",
            "c15653fb2de74d6db85039d81b034bdd",
            "7980a7c6a9fa481d9eccdda8159fff27",
            "e2d96f9e61994d35844768dbce2d7ca7",
            "5334a95d2530470795265bc97b3cd439",
            "b6e1813cd0484e32ab8503154b88e0cc",
            "122aa22f09824d499d2dc72ff989cbca",
            "d3aedef26b5b4536af5c38985d987557",
            "17b8452741184c9f870413f5a6f45c3f",
            "68e489848d1d4376a9016dc2ac3b63ce",
            "323d42d70f32438faa1ccd42a51158d6",
            "a26e946d56c44f1d93a5c656670dd924",
            "b67a73fec4fc4f3b8d4a4082c884ff97",
            "6eb5c8cdb7a24679a4119991e7e040e0",
            "0a5a9cbaabce4753be48a4cfed40d25d",
            "600c816c05834626ab08775101a71a61",
            "a4062cbed35d4033bb89209e0dbc1ab7",
            "d2f579f882734aae956352fcd82d7368",
            "16022949b5ca4270bc25ab2dc104d6ea",
            "333b2800062547fe9775d1042bb08b89",
            "b2592d908c444f369308263b3afdb648",
            "284418c4136d426d8643431e8b8136e1",
            "24d4ef492ead4adb8d4aaa80c7d3857c",
            "695547f505c9460fa66526d9d0c80183",
            "15c119ef36e54b2ab565327a8c7b17a1",
            "79515a696e46425c9864f4030d7ee16b",
            "b6cab7310a1243a3b69afd58ff4441b7",
            "ad3dbe8b0f25461088d2e6a888b1363e",
            "6c448e8d7e2f4e5b952dd6603406ace5",
            "28a5555bb9044b1ab1b33da29a4d4612",
            "5e996527f6884ed58ea758daf32671db",
            "6d460cdebcb644ce909b8478fb3dae7d",
            "17bd166db65641e2b632c41500989edc",
            "525d0fe136894fad9574fb9e1dc09bb2",
            "3792ddcd060a4a679aeb259710a1bd81",
            "43faeaf3b9db4aa1b2885fa0a1841d45",
            "92327f65c87c43c6b8040014247fc701",
            "6f847f26a6314a33ba26c2963f1e4ce8",
            "077dc351773340b6838500d0b8b16482",
            "bd19ba63d5864aa196ab2f49983ca2d5",
            "0a73c326b4f047938314753144602901",
            "797274ab9b2945c18fb2c34da412475a",
            "9e9e38d56adc4c5b818a9ee6fe468db8",
            "1bb8979db85648b9b86ec576e92942f0",
            "896ea76b9caf4f93baf3b6cbc02bc529",
            "f1d90625be3a4bd680a9f5f326945b8d",
            "968e9b238373414c9212a37f3eeab2c6",
            "9e9f805ec5b44dfeb1d06854f3eaf85a",
            "f9a840e395904ceab6190c5e8bc01c0f",
            "137bb549c2594c0f8cce28b44a98fa07",
            "80f3889d36cf4db49aea71bbce855da8",
            "b4835896195147beac0a52413c7edc3b",
            "f432a0e0edab488b8005a5ec73641fd8",
            "4b992c5864ef4177bbbc978401e29a77",
            "0dcfc838c8054cb886f3c75920ffcc4e",
            "39d3b48f439d4eaf9403598400ed2bfe",
            "8eda8787fed043adabf9c11dcd3ea876",
            "8823b72cc0ee49cf86f16273af68f0c7",
            "131ce92b13764d8d8afdc8de0cad08fe",
            "91ef84bfcb394c2b90f5c9c0b64b5357",
            "fba99ef78c9941f79c3e6bf436ff24df",
            "074d2086adb247fcab72493f4c633436",
            "7aa9db3d969c41aa875e07186d7d1cca",
            "41a9d0f3398c48d389035824f81deb17",
            "1aa03fe7560449c69117a6d6fae682af",
            "cdeed2e99a074fc092db24a412dddad8",
            "60377f42f9ca4c82b7bb04b389820c24",
            "ffd104a6e7604a3dace37fcddffde427",
            "00e531e8b0fb47c9a366c6dbfb37a829",
            "fc1bfc2fb81d46658ed5c0b9fb086f69",
            "47ba0612d84b4739b19780c5c8149450",
            "4d2fee59f7d24bf196f82e905fdaf6e7",
            "034a5d92892242509e2dd991e7381fba",
            "4b3c1844c8534e128400a626d0099135",
            "d0a4b4b318a7433784dbeb901907b754",
            "9964d8a03a3441d5a99c04573167f7a6",
            "af1a474ab02b4b66a90d39834f8308df",
            "7853a8fb71bd4c06805716e67125187d",
            "3da1d31c2b104e0baca326af3ba475db",
            "94c9032b57a845a59f54891741ea57cf",
            "242ab77e34e04f7a982bd31a6588b825",
            "5c4a0d37043241cd8bd974a76f7275e8",
            "91f776a60697484db6cab66dbcb277a5",
            "509b40184f6b4d479e4722f3ddae3997",
            "9b177ea579174316bbc48d1e86d3b47a",
            "53e2ee5d8f6d4f6ba5d37f70c8b9cc62",
            "0adf95bbe8a6413f9c4dbe942de599d2",
            "efc985cf2b3b4c379c5a12d0ca7f41bc",
            "4e084e28449145cfbd28f36523fef756",
            "70464ce9686a4b28852d80fe3a12b416",
            "3fefb589958e4d8a9f236c49f9830890",
            "8606eddb9c794be1ab571c73464dd48c",
            "7279705c77774fe2aed9f41b4e05d7b5",
            "8329a68768b44319be796c4cae401458",
            "daf686bc55d74466ad54653ef16cbd1d",
            "9b22d8f2bb2b4a768a3c124dc5020aa2",
            "08e8f3749b3443c2bb2a8752e104f469",
            "80fa4455794547d98efd1fcfe7dea74d",
            "f27186716ed74b82be7d49deeebb2e2b",
            "d7d7f6add96640b688e546184904ed66",
            "bd38047d8eea4751a97e36b9ccf54c49",
            "e97e93a79b2243ee8ccd3410b0656ed8",
            "88a96460eb284e898ffe2cf67af73bb3",
            "53ca35aa0c6a4371b36bd9a66c8674be",
            "04f1b6c186b04c22a9d317112733f327",
            "3acba3a7e9074f5cb53c6cb0e56e956a",
            "8e8c3f9a22934566b597a14bf2184bba",
            "0cf69eca18dc44ce8a9580080e0fbf8a",
            "77a657ccb8824594a482e0b83bfd6288"
          ]
        },
        "id": "9mipeC8-u1Sc",
        "outputId": "18c5a1e5-4147-4e56-c44f-bec3b3bd7a76"
      },
      "outputs": [
        {
          "name": "stdout",
          "output_type": "stream",
          "text": [
            "/content/evaluation-pipeline\n"
          ]
        },
        {
          "data": {
            "application/vnd.jupyter.widget-view+json": {
              "model_id": "1207b2a9301249d1bc3bfcf233cdd4d6",
              "version_major": 2,
              "version_minor": 0
            },
            "text/plain": [
              "Generating train split:   0%|          | 0/1956 [00:00<?, ? examples/s]"
            ]
          },
          "metadata": {},
          "output_type": "display_data"
        },
        {
          "name": "stdout",
          "output_type": "stream",
          "text": [
            "\n",
            "» Assigning unique IDs to 'blimp_from_file+null' docs\n"
          ]
        },
        {
          "name": "stderr",
          "output_type": "stream",
          "text": [
            "INFO:lm_eval.evaluator:\n",
            "» Assigning unique IDs to 'blimp_from_file+null' docs\n"
          ]
        },
        {
          "data": {
            "application/vnd.jupyter.widget-view+json": {
              "model_id": "610a56bc46db45c4832380231d5c1414",
              "version_major": 2,
              "version_minor": 0
            },
            "text/plain": [
              "Map:   0%|          | 0/1956 [00:00<?, ? examples/s]"
            ]
          },
          "metadata": {},
          "output_type": "display_data"
        },
        {
          "name": "stdout",
          "output_type": "stream",
          "text": [
            "\n",
            "» Filtering invalid docs from 'blimp_from_file+null'\n"
          ]
        },
        {
          "name": "stderr",
          "output_type": "stream",
          "text": [
            "INFO:lm_eval.evaluator:\n",
            "» Filtering invalid docs from 'blimp_from_file+null'\n"
          ]
        },
        {
          "data": {
            "application/vnd.jupyter.widget-view+json": {
              "model_id": "47a43b0ed9e74ec9bec3f1cfe0d0bfe3",
              "version_major": 2,
              "version_minor": 0
            },
            "text/plain": [
              "Filter:   0%|          | 0/1956 [00:00<?, ? examples/s]"
            ]
          },
          "metadata": {},
          "output_type": "display_data"
        },
        {
          "name": "stdout",
          "output_type": "stream",
          "text": [
            "\n",
            "» Constructing 'blimp_from_file+null' contexts and requests\n"
          ]
        },
        {
          "name": "stderr",
          "output_type": "stream",
          "text": [
            "INFO:lm_eval.evaluator:\n",
            "» Constructing 'blimp_from_file+null' contexts and requests\n",
            "100%|██████████| 1956/1956 [00:00<00:00, 6153.47it/s]"
          ]
        },
        {
          "name": "stdout",
          "output_type": "stream",
          "text": [
            "\n",
            "» Running all `loglikelihood` requests\n"
          ]
        },
        {
          "name": "stderr",
          "output_type": "stream",
          "text": [
            "\n",
            "INFO:lm_eval.evaluator:\n",
            "» Running all `loglikelihood` requests\n",
            "100%|██████████| 3912/3912 [00:24<00:00, 156.62it/s]\n"
          ]
        },
        {
          "name": "stdout",
          "output_type": "stream",
          "text": [
            "anaphor_agreement:\t67.59%\n"
          ]
        },
        {
          "data": {
            "application/vnd.jupyter.widget-view+json": {
              "model_id": "adc4826cfc7e4ee989e6616d2a127288",
              "version_major": 2,
              "version_minor": 0
            },
            "text/plain": [
              "Generating train split:   0%|          | 0/8248 [00:00<?, ? examples/s]"
            ]
          },
          "metadata": {},
          "output_type": "display_data"
        },
        {
          "name": "stdout",
          "output_type": "stream",
          "text": [
            "\n",
            "» Assigning unique IDs to 'blimp_from_file+null' docs\n"
          ]
        },
        {
          "name": "stderr",
          "output_type": "stream",
          "text": [
            "INFO:lm_eval.evaluator:\n",
            "» Assigning unique IDs to 'blimp_from_file+null' docs\n"
          ]
        },
        {
          "data": {
            "application/vnd.jupyter.widget-view+json": {
              "model_id": "908028872ddd435d94c420a258e37b50",
              "version_major": 2,
              "version_minor": 0
            },
            "text/plain": [
              "Map:   0%|          | 0/8248 [00:00<?, ? examples/s]"
            ]
          },
          "metadata": {},
          "output_type": "display_data"
        },
        {
          "name": "stdout",
          "output_type": "stream",
          "text": [
            "\n",
            "» Filtering invalid docs from 'blimp_from_file+null'\n"
          ]
        },
        {
          "name": "stderr",
          "output_type": "stream",
          "text": [
            "INFO:lm_eval.evaluator:\n",
            "» Filtering invalid docs from 'blimp_from_file+null'\n"
          ]
        },
        {
          "data": {
            "application/vnd.jupyter.widget-view+json": {
              "model_id": "56026d8b29064f028290552d49c172e9",
              "version_major": 2,
              "version_minor": 0
            },
            "text/plain": [
              "Filter:   0%|          | 0/8248 [00:00<?, ? examples/s]"
            ]
          },
          "metadata": {},
          "output_type": "display_data"
        },
        {
          "name": "stdout",
          "output_type": "stream",
          "text": [
            "\n",
            "» Constructing 'blimp_from_file+null' contexts and requests\n"
          ]
        },
        {
          "name": "stderr",
          "output_type": "stream",
          "text": [
            "INFO:lm_eval.evaluator:\n",
            "» Constructing 'blimp_from_file+null' contexts and requests\n",
            "100%|██████████| 8248/8248 [00:01<00:00, 4382.78it/s]"
          ]
        },
        {
          "name": "stdout",
          "output_type": "stream",
          "text": [
            "\n",
            "» Running all `loglikelihood` requests\n"
          ]
        },
        {
          "name": "stderr",
          "output_type": "stream",
          "text": [
            "\n",
            "INFO:lm_eval.evaluator:\n",
            "» Running all `loglikelihood` requests\n",
            "100%|██████████| 16496/16496 [01:48<00:00, 151.40it/s]\n"
          ]
        },
        {
          "name": "stdout",
          "output_type": "stream",
          "text": [
            "argument_structure:\t62.00%\n"
          ]
        },
        {
          "data": {
            "application/vnd.jupyter.widget-view+json": {
              "model_id": "5b8ab7b544c640cba3a7da4b05ba0712",
              "version_major": 2,
              "version_minor": 0
            },
            "text/plain": [
              "Generating train split:   0%|          | 0/6738 [00:00<?, ? examples/s]"
            ]
          },
          "metadata": {},
          "output_type": "display_data"
        },
        {
          "name": "stdout",
          "output_type": "stream",
          "text": [
            "\n",
            "» Assigning unique IDs to 'blimp_from_file+null' docs\n"
          ]
        },
        {
          "name": "stderr",
          "output_type": "stream",
          "text": [
            "INFO:lm_eval.evaluator:\n",
            "» Assigning unique IDs to 'blimp_from_file+null' docs\n"
          ]
        },
        {
          "data": {
            "application/vnd.jupyter.widget-view+json": {
              "model_id": "1250efb3b59145e0ba24c6f2835b46a2",
              "version_major": 2,
              "version_minor": 0
            },
            "text/plain": [
              "Map:   0%|          | 0/6738 [00:00<?, ? examples/s]"
            ]
          },
          "metadata": {},
          "output_type": "display_data"
        },
        {
          "name": "stdout",
          "output_type": "stream",
          "text": [
            "\n",
            "» Filtering invalid docs from 'blimp_from_file+null'\n"
          ]
        },
        {
          "name": "stderr",
          "output_type": "stream",
          "text": [
            "INFO:lm_eval.evaluator:\n",
            "» Filtering invalid docs from 'blimp_from_file+null'\n"
          ]
        },
        {
          "data": {
            "application/vnd.jupyter.widget-view+json": {
              "model_id": "257e80fcdc104f0cbd7d183c6fe58514",
              "version_major": 2,
              "version_minor": 0
            },
            "text/plain": [
              "Filter:   0%|          | 0/6738 [00:00<?, ? examples/s]"
            ]
          },
          "metadata": {},
          "output_type": "display_data"
        },
        {
          "name": "stdout",
          "output_type": "stream",
          "text": [
            "\n",
            "» Constructing 'blimp_from_file+null' contexts and requests\n"
          ]
        },
        {
          "name": "stderr",
          "output_type": "stream",
          "text": [
            "INFO:lm_eval.evaluator:\n",
            "» Constructing 'blimp_from_file+null' contexts and requests\n",
            "100%|██████████| 6738/6738 [00:01<00:00, 4138.55it/s]"
          ]
        },
        {
          "name": "stdout",
          "output_type": "stream",
          "text": [
            "\n",
            "» Running all `loglikelihood` requests\n"
          ]
        },
        {
          "name": "stderr",
          "output_type": "stream",
          "text": [
            "\n",
            "INFO:lm_eval.evaluator:\n",
            "» Running all `loglikelihood` requests\n",
            "100%|██████████| 13476/13476 [01:32<00:00, 146.27it/s]\n"
          ]
        },
        {
          "name": "stdout",
          "output_type": "stream",
          "text": [
            "binding:\t61.07%\n"
          ]
        },
        {
          "data": {
            "application/vnd.jupyter.widget-view+json": {
              "model_id": "2d1ca9aa59ad4c7f8ffec8df5581cd4b",
              "version_major": 2,
              "version_minor": 0
            },
            "text/plain": [
              "Generating train split:   0%|          | 0/4526 [00:00<?, ? examples/s]"
            ]
          },
          "metadata": {},
          "output_type": "display_data"
        },
        {
          "name": "stdout",
          "output_type": "stream",
          "text": [
            "\n",
            "» Assigning unique IDs to 'blimp_from_file+null' docs\n"
          ]
        },
        {
          "name": "stderr",
          "output_type": "stream",
          "text": [
            "INFO:lm_eval.evaluator:\n",
            "» Assigning unique IDs to 'blimp_from_file+null' docs\n"
          ]
        },
        {
          "data": {
            "application/vnd.jupyter.widget-view+json": {
              "model_id": "0d52c2028899455386a4daf079b6aca1",
              "version_major": 2,
              "version_minor": 0
            },
            "text/plain": [
              "Map:   0%|          | 0/4526 [00:00<?, ? examples/s]"
            ]
          },
          "metadata": {},
          "output_type": "display_data"
        },
        {
          "name": "stdout",
          "output_type": "stream",
          "text": [
            "\n",
            "» Filtering invalid docs from 'blimp_from_file+null'\n"
          ]
        },
        {
          "name": "stderr",
          "output_type": "stream",
          "text": [
            "INFO:lm_eval.evaluator:\n",
            "» Filtering invalid docs from 'blimp_from_file+null'\n"
          ]
        },
        {
          "data": {
            "application/vnd.jupyter.widget-view+json": {
              "model_id": "33aa5d5d20984ad8b693e40292927443",
              "version_major": 2,
              "version_minor": 0
            },
            "text/plain": [
              "Filter:   0%|          | 0/4526 [00:00<?, ? examples/s]"
            ]
          },
          "metadata": {},
          "output_type": "display_data"
        },
        {
          "name": "stdout",
          "output_type": "stream",
          "text": [
            "\n",
            "» Constructing 'blimp_from_file+null' contexts and requests\n"
          ]
        },
        {
          "name": "stderr",
          "output_type": "stream",
          "text": [
            "INFO:lm_eval.evaluator:\n",
            "» Constructing 'blimp_from_file+null' contexts and requests\n",
            "100%|██████████| 4526/4526 [00:01<00:00, 3915.44it/s]"
          ]
        },
        {
          "name": "stdout",
          "output_type": "stream",
          "text": [
            "\n",
            "» Running all `loglikelihood` requests\n"
          ]
        },
        {
          "name": "stderr",
          "output_type": "stream",
          "text": [
            "\n",
            "INFO:lm_eval.evaluator:\n",
            "» Running all `loglikelihood` requests\n",
            "100%|██████████| 9052/9052 [01:05<00:00, 138.35it/s]\n"
          ]
        },
        {
          "name": "stdout",
          "output_type": "stream",
          "text": [
            "control_raising:\t59.32%\n"
          ]
        },
        {
          "data": {
            "application/vnd.jupyter.widget-view+json": {
              "model_id": "1faee48ec65e46289b329717eda288c6",
              "version_major": 2,
              "version_minor": 0
            },
            "text/plain": [
              "Generating train split:   0%|          | 0/7542 [00:00<?, ? examples/s]"
            ]
          },
          "metadata": {},
          "output_type": "display_data"
        },
        {
          "name": "stdout",
          "output_type": "stream",
          "text": [
            "\n",
            "» Assigning unique IDs to 'blimp_from_file+null' docs\n"
          ]
        },
        {
          "name": "stderr",
          "output_type": "stream",
          "text": [
            "INFO:lm_eval.evaluator:\n",
            "» Assigning unique IDs to 'blimp_from_file+null' docs\n"
          ]
        },
        {
          "data": {
            "application/vnd.jupyter.widget-view+json": {
              "model_id": "3c85436f01164d4bbe259f9ed662bcc7",
              "version_major": 2,
              "version_minor": 0
            },
            "text/plain": [
              "Map:   0%|          | 0/7542 [00:00<?, ? examples/s]"
            ]
          },
          "metadata": {},
          "output_type": "display_data"
        },
        {
          "name": "stdout",
          "output_type": "stream",
          "text": [
            "\n",
            "» Filtering invalid docs from 'blimp_from_file+null'\n"
          ]
        },
        {
          "name": "stderr",
          "output_type": "stream",
          "text": [
            "INFO:lm_eval.evaluator:\n",
            "» Filtering invalid docs from 'blimp_from_file+null'\n"
          ]
        },
        {
          "data": {
            "application/vnd.jupyter.widget-view+json": {
              "model_id": "f8c3e52896704277bde23c1af1427343",
              "version_major": 2,
              "version_minor": 0
            },
            "text/plain": [
              "Filter:   0%|          | 0/7542 [00:00<?, ? examples/s]"
            ]
          },
          "metadata": {},
          "output_type": "display_data"
        },
        {
          "name": "stdout",
          "output_type": "stream",
          "text": [
            "\n",
            "» Constructing 'blimp_from_file+null' contexts and requests\n"
          ]
        },
        {
          "name": "stderr",
          "output_type": "stream",
          "text": [
            "INFO:lm_eval.evaluator:\n",
            "» Constructing 'blimp_from_file+null' contexts and requests\n",
            "100%|██████████| 7542/7542 [00:01<00:00, 3806.32it/s]"
          ]
        },
        {
          "name": "stdout",
          "output_type": "stream",
          "text": [
            "\n",
            "» Running all `loglikelihood` requests\n"
          ]
        },
        {
          "name": "stderr",
          "output_type": "stream",
          "text": [
            "\n",
            "INFO:lm_eval.evaluator:\n",
            "» Running all `loglikelihood` requests\n",
            "100%|██████████| 15084/15084 [01:43<00:00, 146.38it/s]\n"
          ]
        },
        {
          "name": "stdout",
          "output_type": "stream",
          "text": [
            "determiner_noun_agreement:\t78.37%\n"
          ]
        },
        {
          "data": {
            "application/vnd.jupyter.widget-view+json": {
              "model_id": "80bac63591ce4ce3a7d151333572529a",
              "version_major": 2,
              "version_minor": 0
            },
            "text/plain": [
              "Generating train split:   0%|          | 0/1732 [00:00<?, ? examples/s]"
            ]
          },
          "metadata": {},
          "output_type": "display_data"
        },
        {
          "name": "stdout",
          "output_type": "stream",
          "text": [
            "\n",
            "» Assigning unique IDs to 'blimp_from_file+null' docs\n"
          ]
        },
        {
          "name": "stderr",
          "output_type": "stream",
          "text": [
            "INFO:lm_eval.evaluator:\n",
            "» Assigning unique IDs to 'blimp_from_file+null' docs\n"
          ]
        },
        {
          "data": {
            "application/vnd.jupyter.widget-view+json": {
              "model_id": "b7789c22e51b4608af12913363a40ce5",
              "version_major": 2,
              "version_minor": 0
            },
            "text/plain": [
              "Map:   0%|          | 0/1732 [00:00<?, ? examples/s]"
            ]
          },
          "metadata": {},
          "output_type": "display_data"
        },
        {
          "name": "stdout",
          "output_type": "stream",
          "text": [
            "\n",
            "» Filtering invalid docs from 'blimp_from_file+null'\n"
          ]
        },
        {
          "name": "stderr",
          "output_type": "stream",
          "text": [
            "INFO:lm_eval.evaluator:\n",
            "» Filtering invalid docs from 'blimp_from_file+null'\n"
          ]
        },
        {
          "data": {
            "application/vnd.jupyter.widget-view+json": {
              "model_id": "3d209087ff0c4942bd12663dd1d687f9",
              "version_major": 2,
              "version_minor": 0
            },
            "text/plain": [
              "Filter:   0%|          | 0/1732 [00:00<?, ? examples/s]"
            ]
          },
          "metadata": {},
          "output_type": "display_data"
        },
        {
          "name": "stdout",
          "output_type": "stream",
          "text": [
            "\n",
            "» Constructing 'blimp_from_file+null' contexts and requests\n"
          ]
        },
        {
          "name": "stderr",
          "output_type": "stream",
          "text": [
            "INFO:lm_eval.evaluator:\n",
            "» Constructing 'blimp_from_file+null' contexts and requests\n",
            "100%|██████████| 1732/1732 [00:00<00:00, 6057.14it/s]"
          ]
        },
        {
          "name": "stdout",
          "output_type": "stream",
          "text": [
            "\n",
            "» Running all `loglikelihood` requests\n"
          ]
        },
        {
          "name": "stderr",
          "output_type": "stream",
          "text": [
            "\n",
            "INFO:lm_eval.evaluator:\n",
            "» Running all `loglikelihood` requests\n",
            "100%|██████████| 3464/3464 [00:27<00:00, 125.32it/s]\n"
          ]
        },
        {
          "name": "stdout",
          "output_type": "stream",
          "text": [
            "ellipsis:\t51.50%\n"
          ]
        },
        {
          "data": {
            "application/vnd.jupyter.widget-view+json": {
              "model_id": "16dde15453274b69b2270491b3958319",
              "version_major": 2,
              "version_minor": 0
            },
            "text/plain": [
              "Generating train split:   0%|          | 0/6426 [00:00<?, ? examples/s]"
            ]
          },
          "metadata": {},
          "output_type": "display_data"
        },
        {
          "name": "stdout",
          "output_type": "stream",
          "text": [
            "\n",
            "» Assigning unique IDs to 'blimp_from_file+null' docs\n"
          ]
        },
        {
          "name": "stderr",
          "output_type": "stream",
          "text": [
            "INFO:lm_eval.evaluator:\n",
            "» Assigning unique IDs to 'blimp_from_file+null' docs\n"
          ]
        },
        {
          "data": {
            "application/vnd.jupyter.widget-view+json": {
              "model_id": "d2b6bda884da4f5a87ba820647091d0d",
              "version_major": 2,
              "version_minor": 0
            },
            "text/plain": [
              "Map:   0%|          | 0/6426 [00:00<?, ? examples/s]"
            ]
          },
          "metadata": {},
          "output_type": "display_data"
        },
        {
          "name": "stdout",
          "output_type": "stream",
          "text": [
            "\n",
            "» Filtering invalid docs from 'blimp_from_file+null'\n"
          ]
        },
        {
          "name": "stderr",
          "output_type": "stream",
          "text": [
            "INFO:lm_eval.evaluator:\n",
            "» Filtering invalid docs from 'blimp_from_file+null'\n"
          ]
        },
        {
          "data": {
            "application/vnd.jupyter.widget-view+json": {
              "model_id": "8f020375edbb41139969da3e938f91be",
              "version_major": 2,
              "version_minor": 0
            },
            "text/plain": [
              "Filter:   0%|          | 0/6426 [00:00<?, ? examples/s]"
            ]
          },
          "metadata": {},
          "output_type": "display_data"
        },
        {
          "name": "stdout",
          "output_type": "stream",
          "text": [
            "\n",
            "» Constructing 'blimp_from_file+null' contexts and requests\n"
          ]
        },
        {
          "name": "stderr",
          "output_type": "stream",
          "text": [
            "INFO:lm_eval.evaluator:\n",
            "» Constructing 'blimp_from_file+null' contexts and requests\n",
            "100%|██████████| 6426/6426 [00:01<00:00, 6165.34it/s]"
          ]
        },
        {
          "name": "stdout",
          "output_type": "stream",
          "text": [
            "\n",
            "» Running all `loglikelihood` requests\n"
          ]
        },
        {
          "name": "stderr",
          "output_type": "stream",
          "text": [
            "\n",
            "INFO:lm_eval.evaluator:\n",
            "» Running all `loglikelihood` requests\n",
            "100%|██████████| 12852/12852 [01:34<00:00, 135.30it/s]\n"
          ]
        },
        {
          "name": "stdout",
          "output_type": "stream",
          "text": [
            "filler_gap:\t60.04%\n"
          ]
        },
        {
          "data": {
            "application/vnd.jupyter.widget-view+json": {
              "model_id": "4f3e1b44ca2f4ebfaa6d487ed46743bf",
              "version_major": 2,
              "version_minor": 0
            },
            "text/plain": [
              "Generating train split:   0%|          | 0/1965 [00:00<?, ? examples/s]"
            ]
          },
          "metadata": {},
          "output_type": "display_data"
        },
        {
          "name": "stdout",
          "output_type": "stream",
          "text": [
            "\n",
            "» Assigning unique IDs to 'blimp_from_file+null' docs\n"
          ]
        },
        {
          "name": "stderr",
          "output_type": "stream",
          "text": [
            "INFO:lm_eval.evaluator:\n",
            "» Assigning unique IDs to 'blimp_from_file+null' docs\n"
          ]
        },
        {
          "data": {
            "application/vnd.jupyter.widget-view+json": {
              "model_id": "e84ade57c39947eda1990cf12931a332",
              "version_major": 2,
              "version_minor": 0
            },
            "text/plain": [
              "Map:   0%|          | 0/1965 [00:00<?, ? examples/s]"
            ]
          },
          "metadata": {},
          "output_type": "display_data"
        },
        {
          "name": "stdout",
          "output_type": "stream",
          "text": [
            "\n",
            "» Filtering invalid docs from 'blimp_from_file+null'\n"
          ]
        },
        {
          "name": "stderr",
          "output_type": "stream",
          "text": [
            "INFO:lm_eval.evaluator:\n",
            "» Filtering invalid docs from 'blimp_from_file+null'\n"
          ]
        },
        {
          "data": {
            "application/vnd.jupyter.widget-view+json": {
              "model_id": "c5ff888e652945da81a6b8555c1986e6",
              "version_major": 2,
              "version_minor": 0
            },
            "text/plain": [
              "Filter:   0%|          | 0/1965 [00:00<?, ? examples/s]"
            ]
          },
          "metadata": {},
          "output_type": "display_data"
        },
        {
          "name": "stdout",
          "output_type": "stream",
          "text": [
            "\n",
            "» Constructing 'blimp_from_file+null' contexts and requests\n"
          ]
        },
        {
          "name": "stderr",
          "output_type": "stream",
          "text": [
            "INFO:lm_eval.evaluator:\n",
            "» Constructing 'blimp_from_file+null' contexts and requests\n",
            "100%|██████████| 1965/1965 [00:00<00:00, 6019.93it/s]"
          ]
        },
        {
          "name": "stdout",
          "output_type": "stream",
          "text": [
            "\n",
            "» Running all `loglikelihood` requests\n"
          ]
        },
        {
          "name": "stderr",
          "output_type": "stream",
          "text": [
            "\n",
            "INFO:lm_eval.evaluator:\n",
            "» Running all `loglikelihood` requests\n",
            "100%|██████████| 3930/3930 [00:25<00:00, 151.64it/s]\n"
          ]
        },
        {
          "name": "stdout",
          "output_type": "stream",
          "text": [
            "irregular_forms:\t86.11%\n"
          ]
        },
        {
          "data": {
            "application/vnd.jupyter.widget-view+json": {
              "model_id": "7cc88fec469e41a8a285392b59daf32f",
              "version_major": 2,
              "version_minor": 0
            },
            "text/plain": [
              "Generating train split:   0%|          | 0/2676 [00:00<?, ? examples/s]"
            ]
          },
          "metadata": {},
          "output_type": "display_data"
        },
        {
          "name": "stdout",
          "output_type": "stream",
          "text": [
            "\n",
            "» Assigning unique IDs to 'blimp_from_file+null' docs\n"
          ]
        },
        {
          "name": "stderr",
          "output_type": "stream",
          "text": [
            "INFO:lm_eval.evaluator:\n",
            "» Assigning unique IDs to 'blimp_from_file+null' docs\n"
          ]
        },
        {
          "data": {
            "application/vnd.jupyter.widget-view+json": {
              "model_id": "7ca2a73bfe174f36afaa70223e76105b",
              "version_major": 2,
              "version_minor": 0
            },
            "text/plain": [
              "Map:   0%|          | 0/2676 [00:00<?, ? examples/s]"
            ]
          },
          "metadata": {},
          "output_type": "display_data"
        },
        {
          "name": "stdout",
          "output_type": "stream",
          "text": [
            "\n",
            "» Filtering invalid docs from 'blimp_from_file+null'\n"
          ]
        },
        {
          "name": "stderr",
          "output_type": "stream",
          "text": [
            "INFO:lm_eval.evaluator:\n",
            "» Filtering invalid docs from 'blimp_from_file+null'\n"
          ]
        },
        {
          "data": {
            "application/vnd.jupyter.widget-view+json": {
              "model_id": "133bb7677aff453b8f438cd565d008b9",
              "version_major": 2,
              "version_minor": 0
            },
            "text/plain": [
              "Filter:   0%|          | 0/2676 [00:00<?, ? examples/s]"
            ]
          },
          "metadata": {},
          "output_type": "display_data"
        },
        {
          "name": "stdout",
          "output_type": "stream",
          "text": [
            "\n",
            "» Constructing 'blimp_from_file+null' contexts and requests\n"
          ]
        },
        {
          "name": "stderr",
          "output_type": "stream",
          "text": [
            "INFO:lm_eval.evaluator:\n",
            "» Constructing 'blimp_from_file+null' contexts and requests\n",
            "100%|██████████| 2676/2676 [00:00<00:00, 6199.80it/s]"
          ]
        },
        {
          "name": "stdout",
          "output_type": "stream",
          "text": [
            "\n",
            "» Running all `loglikelihood` requests\n"
          ]
        },
        {
          "name": "stderr",
          "output_type": "stream",
          "text": [
            "\n",
            "INFO:lm_eval.evaluator:\n",
            "» Running all `loglikelihood` requests\n",
            "100%|██████████| 5352/5352 [00:39<00:00, 135.00it/s]\n"
          ]
        },
        {
          "name": "stdout",
          "output_type": "stream",
          "text": [
            "island_effects:\t43.98%\n"
          ]
        },
        {
          "data": {
            "application/vnd.jupyter.widget-view+json": {
              "model_id": "d40a0c5d360345a28e2a92d8bdb3a063",
              "version_major": 2,
              "version_minor": 0
            },
            "text/plain": [
              "Generating train split:   0%|          | 0/6586 [00:00<?, ? examples/s]"
            ]
          },
          "metadata": {},
          "output_type": "display_data"
        },
        {
          "name": "stdout",
          "output_type": "stream",
          "text": [
            "\n",
            "» Assigning unique IDs to 'blimp_from_file+null' docs\n"
          ]
        },
        {
          "name": "stderr",
          "output_type": "stream",
          "text": [
            "INFO:lm_eval.evaluator:\n",
            "» Assigning unique IDs to 'blimp_from_file+null' docs\n"
          ]
        },
        {
          "data": {
            "application/vnd.jupyter.widget-view+json": {
              "model_id": "26c913071d574f3f9e5d359cb4157eea",
              "version_major": 2,
              "version_minor": 0
            },
            "text/plain": [
              "Map:   0%|          | 0/6586 [00:00<?, ? examples/s]"
            ]
          },
          "metadata": {},
          "output_type": "display_data"
        },
        {
          "name": "stdout",
          "output_type": "stream",
          "text": [
            "\n",
            "» Filtering invalid docs from 'blimp_from_file+null'\n"
          ]
        },
        {
          "name": "stderr",
          "output_type": "stream",
          "text": [
            "INFO:lm_eval.evaluator:\n",
            "» Filtering invalid docs from 'blimp_from_file+null'\n"
          ]
        },
        {
          "data": {
            "application/vnd.jupyter.widget-view+json": {
              "model_id": "b02766267be54876b5e32f359ea3f3ac",
              "version_major": 2,
              "version_minor": 0
            },
            "text/plain": [
              "Filter:   0%|          | 0/6586 [00:00<?, ? examples/s]"
            ]
          },
          "metadata": {},
          "output_type": "display_data"
        },
        {
          "name": "stdout",
          "output_type": "stream",
          "text": [
            "\n",
            "» Constructing 'blimp_from_file+null' contexts and requests\n"
          ]
        },
        {
          "name": "stderr",
          "output_type": "stream",
          "text": [
            "INFO:lm_eval.evaluator:\n",
            "» Constructing 'blimp_from_file+null' contexts and requests\n",
            "100%|██████████| 6586/6586 [00:01<00:00, 5132.54it/s]"
          ]
        },
        {
          "name": "stdout",
          "output_type": "stream",
          "text": [
            "\n",
            "» Running all `loglikelihood` requests\n"
          ]
        },
        {
          "name": "stderr",
          "output_type": "stream",
          "text": [
            "\n",
            "INFO:lm_eval.evaluator:\n",
            "» Running all `loglikelihood` requests\n",
            "100%|██████████| 13172/13172 [01:33<00:00, 140.87it/s]\n"
          ]
        },
        {
          "name": "stdout",
          "output_type": "stream",
          "text": [
            "npi_licensing:\t58.43%\n"
          ]
        },
        {
          "data": {
            "application/vnd.jupyter.widget-view+json": {
              "model_id": "e9e03e71450748bd92cad17a34ff65d5",
              "version_major": 2,
              "version_minor": 0
            },
            "text/plain": [
              "Generating train split:   0%|          | 0/3882 [00:00<?, ? examples/s]"
            ]
          },
          "metadata": {},
          "output_type": "display_data"
        },
        {
          "name": "stdout",
          "output_type": "stream",
          "text": [
            "\n",
            "» Assigning unique IDs to 'blimp_from_file+null' docs\n"
          ]
        },
        {
          "name": "stderr",
          "output_type": "stream",
          "text": [
            "INFO:lm_eval.evaluator:\n",
            "» Assigning unique IDs to 'blimp_from_file+null' docs\n"
          ]
        },
        {
          "data": {
            "application/vnd.jupyter.widget-view+json": {
              "model_id": "42845b5352c1406394b1fe447f32e841",
              "version_major": 2,
              "version_minor": 0
            },
            "text/plain": [
              "Map:   0%|          | 0/3882 [00:00<?, ? examples/s]"
            ]
          },
          "metadata": {},
          "output_type": "display_data"
        },
        {
          "name": "stdout",
          "output_type": "stream",
          "text": [
            "\n",
            "» Filtering invalid docs from 'blimp_from_file+null'\n"
          ]
        },
        {
          "name": "stderr",
          "output_type": "stream",
          "text": [
            "INFO:lm_eval.evaluator:\n",
            "» Filtering invalid docs from 'blimp_from_file+null'\n"
          ]
        },
        {
          "data": {
            "application/vnd.jupyter.widget-view+json": {
              "model_id": "a4c08653c24e4fd7a030075e53778753",
              "version_major": 2,
              "version_minor": 0
            },
            "text/plain": [
              "Filter:   0%|          | 0/3882 [00:00<?, ? examples/s]"
            ]
          },
          "metadata": {},
          "output_type": "display_data"
        },
        {
          "name": "stdout",
          "output_type": "stream",
          "text": [
            "\n",
            "» Constructing 'blimp_from_file+null' contexts and requests\n"
          ]
        },
        {
          "name": "stderr",
          "output_type": "stream",
          "text": [
            "INFO:lm_eval.evaluator:\n",
            "» Constructing 'blimp_from_file+null' contexts and requests\n",
            "100%|██████████| 3882/3882 [00:00<00:00, 6352.51it/s]"
          ]
        },
        {
          "name": "stdout",
          "output_type": "stream",
          "text": [
            "\n",
            "» Running all `loglikelihood` requests\n"
          ]
        },
        {
          "name": "stderr",
          "output_type": "stream",
          "text": [
            "\n",
            "INFO:lm_eval.evaluator:\n",
            "» Running all `loglikelihood` requests\n",
            "100%|██████████| 7764/7764 [00:54<00:00, 142.28it/s]\n"
          ]
        },
        {
          "name": "stdout",
          "output_type": "stream",
          "text": [
            "quantifiers:\t69.78%\n"
          ]
        },
        {
          "data": {
            "application/vnd.jupyter.widget-view+json": {
              "model_id": "323d42d70f32438faa1ccd42a51158d6",
              "version_major": 2,
              "version_minor": 0
            },
            "text/plain": [
              "Generating train split:   0%|          | 0/5535 [00:00<?, ? examples/s]"
            ]
          },
          "metadata": {},
          "output_type": "display_data"
        },
        {
          "name": "stdout",
          "output_type": "stream",
          "text": [
            "\n",
            "» Assigning unique IDs to 'blimp_from_file+null' docs\n"
          ]
        },
        {
          "name": "stderr",
          "output_type": "stream",
          "text": [
            "INFO:lm_eval.evaluator:\n",
            "» Assigning unique IDs to 'blimp_from_file+null' docs\n"
          ]
        },
        {
          "data": {
            "application/vnd.jupyter.widget-view+json": {
              "model_id": "284418c4136d426d8643431e8b8136e1",
              "version_major": 2,
              "version_minor": 0
            },
            "text/plain": [
              "Map:   0%|          | 0/5535 [00:00<?, ? examples/s]"
            ]
          },
          "metadata": {},
          "output_type": "display_data"
        },
        {
          "name": "stdout",
          "output_type": "stream",
          "text": [
            "\n",
            "» Filtering invalid docs from 'blimp_from_file+null'\n"
          ]
        },
        {
          "name": "stderr",
          "output_type": "stream",
          "text": [
            "INFO:lm_eval.evaluator:\n",
            "» Filtering invalid docs from 'blimp_from_file+null'\n"
          ]
        },
        {
          "data": {
            "application/vnd.jupyter.widget-view+json": {
              "model_id": "17bd166db65641e2b632c41500989edc",
              "version_major": 2,
              "version_minor": 0
            },
            "text/plain": [
              "Filter:   0%|          | 0/5535 [00:00<?, ? examples/s]"
            ]
          },
          "metadata": {},
          "output_type": "display_data"
        },
        {
          "name": "stdout",
          "output_type": "stream",
          "text": [
            "\n",
            "» Constructing 'blimp_from_file+null' contexts and requests\n"
          ]
        },
        {
          "name": "stderr",
          "output_type": "stream",
          "text": [
            "INFO:lm_eval.evaluator:\n",
            "» Constructing 'blimp_from_file+null' contexts and requests\n",
            "100%|██████████| 5535/5535 [00:01<00:00, 3021.21it/s]"
          ]
        },
        {
          "name": "stdout",
          "output_type": "stream",
          "text": [
            "\n",
            "» Running all `loglikelihood` requests\n"
          ]
        },
        {
          "name": "stderr",
          "output_type": "stream",
          "text": [
            "\n",
            "INFO:lm_eval.evaluator:\n",
            "» Running all `loglikelihood` requests\n",
            "100%|██████████| 11070/11070 [01:16<00:00, 143.87it/s]\n"
          ]
        },
        {
          "name": "stdout",
          "output_type": "stream",
          "text": [
            "subject_verb_agreement:\t55.52%\n"
          ]
        },
        {
          "data": {
            "application/vnd.jupyter.widget-view+json": {
              "model_id": "af1a474ab02b4b66a90d39834f8308df",
              "version_major": 2,
              "version_minor": 0
            },
            "text/plain": [
              "Generating train split:   0%|          | 0/4394 [00:00<?, ? examples/s]"
            ]
          },
          "metadata": {},
          "output_type": "display_data"
        },
        {
          "name": "stdout",
          "output_type": "stream",
          "text": [
            "\n",
            "» Assigning unique IDs to 'blimp_from_file+null' docs\n"
          ]
        },
        {
          "name": "stderr",
          "output_type": "stream",
          "text": [
            "INFO:lm_eval.evaluator:\n",
            "» Assigning unique IDs to 'blimp_from_file+null' docs\n"
          ]
        },
        {
          "data": {
            "application/vnd.jupyter.widget-view+json": {
              "model_id": "efc985cf2b3b4c379c5a12d0ca7f41bc",
              "version_major": 2,
              "version_minor": 0
            },
            "text/plain": [
              "Map:   0%|          | 0/4394 [00:00<?, ? examples/s]"
            ]
          },
          "metadata": {},
          "output_type": "display_data"
        },
        {
          "name": "stdout",
          "output_type": "stream",
          "text": [
            "\n",
            "» Filtering invalid docs from 'blimp_from_file+null'\n"
          ]
        },
        {
          "name": "stderr",
          "output_type": "stream",
          "text": [
            "INFO:lm_eval.evaluator:\n",
            "» Filtering invalid docs from 'blimp_from_file+null'\n"
          ]
        },
        {
          "data": {
            "application/vnd.jupyter.widget-view+json": {
              "model_id": "f27186716ed74b82be7d49deeebb2e2b",
              "version_major": 2,
              "version_minor": 0
            },
            "text/plain": [
              "Filter:   0%|          | 0/4394 [00:00<?, ? examples/s]"
            ]
          },
          "metadata": {},
          "output_type": "display_data"
        },
        {
          "name": "stdout",
          "output_type": "stream",
          "text": [
            "\n",
            "» Constructing 'blimp_from_file+null' contexts and requests\n"
          ]
        },
        {
          "name": "stderr",
          "output_type": "stream",
          "text": [
            "INFO:lm_eval.evaluator:\n",
            "» Constructing 'blimp_from_file+null' contexts and requests\n",
            "100%|██████████| 4394/4394 [00:01<00:00, 3748.19it/s]"
          ]
        },
        {
          "name": "stdout",
          "output_type": "stream",
          "text": [
            "\n",
            "» Running all `loglikelihood` requests\n"
          ]
        },
        {
          "name": "stderr",
          "output_type": "stream",
          "text": [
            "\n",
            "INFO:lm_eval.evaluator:\n",
            "» Running all `loglikelihood` requests\n",
            "100%|██████████| 8788/8788 [01:22<00:00, 105.96it/s]\n",
            "/content/evaluation-pipeline/lm_eval/api/task.py:589: RuntimeWarning: divide by zero encountered in divide\n",
            "  if np.argmax(results / completion_len) == target_idx\n"
          ]
        },
        {
          "name": "stdout",
          "output_type": "stream",
          "text": [
            "preposition:\t61.65%\n",
            "\n",
            "Scores:\n",
            "anaphor_agreement:\t67.59%\n",
            "argument_structure:\t62.00%\n",
            "binding:\t61.07%\n",
            "control_raising:\t59.32%\n",
            "determiner_noun_agreement:\t78.37%\n",
            "ellipsis:\t51.50%\n",
            "filler_gap:\t60.04%\n",
            "irregular_forms:\t86.11%\n",
            "island_effects:\t43.98%\n",
            "npi_licensing:\t58.43%\n",
            "quantifiers:\t69.78%\n",
            "subject_verb_agreement:\t55.52%\n",
            "preposition:\t61.65%\n"
          ]
        }
      ],
      "source": [
        "#@title Load model and evaluate (BLiMP) { display-mode: \"form\" }\n",
        "model = \"/content/drive/MyDrive/VU Thesis/Code/baby_models/V20L4/model_e8_v20_l4/\" #@param {\"type\": \"string\"}\n",
        "model_type = \"encoder\" #@param [\"decoder\", \"encoder\", \"encoder-decoder\"]\n",
        "# file_name = \"examples3.csv\" #@param {\"type\": \"string\"}\n",
        "# model_names = [\"opt-125m\", \"opt-350m\", \"opt-1.3b\", \"opt-2.7b\"] #@param {\"type\": \"raw\"}\n",
        "\n",
        "%cd /content/evaluation-pipeline\n",
        "%run /content/evaluation-pipeline/babylm_eval_prep.py \\\n",
        "  \"$model\" \\\n",
        "  \"$model_type\" \\\n",
        "  -t \"blimp_with_preposition\""
      ]
    },
    {
      "cell_type": "markdown",
      "metadata": {
        "id": "32OcrqIDpK1o"
      },
      "source": [
        "### Epoch 9"
      ]
    },
    {
      "cell_type": "code",
      "execution_count": null,
      "metadata": {
        "colab": {
          "base_uri": "https://localhost:8080/",
          "height": 1000,
          "referenced_widgets": [
            "0424fb94e6074bb4a06266b3d515770b",
            "7656a0a0702f44de84d154674eb81bfc",
            "e40861814f4a417182bef550dfe5130f",
            "0cbb820fc6894dcbbcbeba578ec131c0",
            "68af2bbeb10f4bea9d4e5b95ca4dcab8",
            "2734f3564f91406880eb5214ac89b2e1",
            "2309d90be85a4d4683afe9e9b8a25d63",
            "abe75e898f684ca6a6eba32f1c7b8958",
            "75c6ff9696fb4466b5ac9e67aa3f6cdf",
            "0c96944ac22e4604b58c455fc466c780",
            "302ecc838b2749769d01054dc0c5a87f",
            "4d91b18ab92a466f9755a8ca3a548182",
            "ae504d9b42f4412cb8385964f8594985",
            "3f9d71998f8f4506af9258a35e7686aa",
            "5e54394672514819920789dc4deafda0",
            "64b9dcaad7f243068475eb359fbd2fea",
            "2c218888b54441af9917933fcdbf4679",
            "39bce5adf395478c8b3023b492a78df5",
            "2bfb88f1cd114c5e804f52aff2ea5d9e",
            "0cd801cfc00845dfadba7007b2e4bca9",
            "ad1268b9346647ee86fabd6b69273ae5",
            "7fc617fc85964467be50658f35feb956",
            "b73e39b72b3748279666aaa2e17e5c6c",
            "c4d8dc04db3a4ef3830320888942c8cc",
            "995f62f7fbd54e339c10c781cd573e68",
            "7b5a46308b5049d8af43920b543cbdd9",
            "11a0423b81654addb30d7b6652765a44",
            "e2bbdaf378c04432848ed955c43b73eb",
            "cd8c9f916ef94508a96dd68fd4eb1d02",
            "cf11fad87abc4d29ae7ea178d6913f83",
            "40e6b3cc8f604cf5b68b74c70dcc3f48",
            "42c91e5bb7f44c089561ba537759e090",
            "e3eb40c463204f118f451c25bb479644",
            "e98f781b59994c2f98bac9d30a959c3c",
            "288e3c344a0c45c59bbaf20a26e2dfad",
            "46c372a70a4e4af1a1c550c78c5fa389",
            "4b0ed2feab1949ceb8cd671cdb0e5852",
            "89e2fd599fa0460db86b9745ea070c2e",
            "270f5030f6204eb59992043c730f448d",
            "20788fca0a124f7cb4ab042204e2939e",
            "12bba55315e641a1b4c31b32f4c30f63",
            "9d1ed777f63849f1aa0bed63ccb68147",
            "775cec9f1cd84f7fac4751bfd523ee10",
            "4785d5ed76db494f92106ed89785a259",
            "598e079df6d64ef195cbb26abd17c93d",
            "06b60e6a1d6e45b6a561781b4e569e4f",
            "18e9d25b0b044c66af2cea9c624e189c",
            "e9fcc1a5a93147f5bedf237fc977b8aa",
            "69ff9b8096ca4161ae8b232c3d52200e",
            "cb331fffe92c49f090abe709d424a18f",
            "e00f4d17ee684ea7be5b5f0551e73233",
            "67df2d0e7eb74ce6868034db4c7364dc",
            "e9e0749d93fd49f49f599f6cf7d2b3e1",
            "97a86bf6eab041dc84e98985fd2a9eea",
            "337e9f62e9bc4a199e7906b25190bc28",
            "89afa3faa90f4eb497fc53f75e3d1cf3",
            "701a0de7064d4556ac7fb49d9e2787c3",
            "603af1132bb14815946b2059d72dfe18",
            "2534406e77ad472aa671a8a4773491d3",
            "e5c45561b7084087bf193be18ce1bd2a",
            "c0917e6e29264629abe6b8c35d126387",
            "cc92e16f3cc64c6b8e3e5c9d1a9db19d",
            "7b7dee29fadd489eaa42e55c29173987",
            "eaddbedeead747c1ad649901b58c1392",
            "3ce6585201b7424b9fcdff7cacbcc725",
            "e8369d300faf4aec948091a83534363e",
            "5ac385ac4c024733a78d9b71c757f1eb",
            "b111522ec670485783f2c62166cb68b2",
            "3b01102de5d94c22bb6d3ccce8107ad7",
            "10eb9fc5a9db4d35830242d4595be484",
            "2716b49e5eb84e248fe4ec7c761b2e95",
            "8b01da7991584169baa701832799dfb4",
            "8e3db7b5e90a4b789f983a8f499d6eb4",
            "ce76bf4ed8b64a13b06805274f537e8f",
            "5858a1559e3a4484948e5776f5106a97",
            "83a77ff0b3a54ecf9c3e5a344540b8d4",
            "3b7e525481d6465eb38c2efdbda629bd",
            "44de552f77bb445ea96e0d982c92e995",
            "ac57321154f640e9857756fb65f35e2e",
            "c8a46912464e4b878cda1e4b68a4848a",
            "529ec7edbdf340479094b9d18d9c9d70",
            "a68ac2ac26664b80b51a70d76ab5ae9e",
            "e05a61d773e145b292e773b99aeab52a",
            "fc39be3c67474e4e995a05ee12adf96e",
            "d72dca03bee049b2b00afe923fefab93",
            "3456a51f4b36474d995c4f7456e97e98",
            "7823011d55804cf7a2b0a9551ae4bda8",
            "c439fd802915439fba02b47cd5acadad",
            "a3b35bb8a90a46fd937f383253a8a4a5",
            "e0e3e86feffd48e3ac9fb99fef976a2e",
            "d338d79b98d442a6b6697008b1a6b2ba",
            "f861c68e644547c98b4cb7d0ee6a7eba",
            "c2f1cd1532c94b5b85bc2badc39e629d",
            "bad4adfbfa8a468bbf197ce486b45f77",
            "607391317eaa4f8a8d4268069fb13c72",
            "7ad76b30978b4405a0e1555f28dbcd4c",
            "954977f0de4c4146ba3da40e78a5ee93",
            "0b0a800cf21b4ad4adeb2c872c1c1a0c",
            "2c52b2927abc4c3b97940a702b1c49f2",
            "49262cc84b114abf9fad1d92edae9e4c",
            "9cfdbe213c6848b88e783823f65ad8d8",
            "99bbed17f1ca4a89ac810395fa38d318",
            "f73f7505a502405cbf4baed9530668fc",
            "ee2bd381aa6e4947992a1943c7771e70",
            "f109ed4fae7e4bc9aa2fdf0d7c0104f4",
            "aa5482e0ccfe458c8e151413b6b223cd",
            "2ad5f61ded5b4707bf61a241aceb6af8",
            "cfda290c2aff45cebb6ed1ac0b1d9403",
            "730df84006494bd4974e7858cf31875d",
            "0d0b1ddf62b24ead951a2a2467e8e821",
            "304afb17ae1847deaa842e87a465b5af",
            "73c1719e8ff6491690b316daa49cfd9b",
            "f502850f681747b1a12683a01bc3c80d",
            "28095508abd2456d8eac614a788081e1",
            "9076b648ac644c8d8daa22c3049d6f11",
            "75f540b20060433db52d1eb332be9c44",
            "7b0c1c13ce9f43de99c2c9850af5296d",
            "c89ae729c3724306a4357ceb4f9d4ad3",
            "d2f50d14927b4a63bb3f755e724d5a59",
            "98749ddf3d8a40e694882efbbb64b58e",
            "9bee71babda0407985e28f6c6f9943a8",
            "f446a9577e7d470e9bf04cd155172e30",
            "3f922d95e67b4e428a27bef5ac982d67",
            "655e986018a3440baecf97fd2bba70c4",
            "73383d93a3b14345bd54086436144e06",
            "4d2c01f54bd7405b8328a9695f29d620",
            "0d249088bf8e45a5872445a9fa2c8827",
            "368bbaac08fe4f1087715efff4168fd9",
            "766eddf2f8394ce38a5ab5810308bef6",
            "5c87cfbb26d644f2b983a63f8f1855b1",
            "479fea2fadc04034bd20deda3d8c26b8",
            "e21bac4493d64110b946ee11f7dbc8e8",
            "5416879f9ff64878b5a28cef39da925b",
            "3de3b0c25bbd480fb7865d97c320efa3",
            "6ee34162075740e1b5dc24e02368b69f",
            "59cd8f03d0b64f75904efa09a53e17fe",
            "5a454a5a67c94c0196bc0aa427ff4d16",
            "44dc85983b74404281a80d355efbbcf8",
            "273adb5247a246898fb4925933765ffc",
            "8fac940ad2b344c4a5cc822e95b97992",
            "a85bb6dcbfb542d6979c7f2264c1ff84",
            "305c9bae753c4249925d7af49371c826",
            "9f8b70ad4eb94aacb9358d9d57de30bc",
            "a2be16ce9657489bac1d7b476428cb44",
            "59fbfe771b6b440a999d9d7b62afd129",
            "12b8f7bbe4304c88b36bf4283be1c9df",
            "2045b24717e241568f56022f34da953f",
            "7618afe544b14ed48c9c9527a7e183f9",
            "fabcd4b714f04d6da713211912eab578",
            "695bab609eca44b9ad73c4de826b565e",
            "83d5e6a9aa1c41afb66e7f69785e6406",
            "03962891f9aa4926ad8b2c6a368efb42",
            "b348b32f5d444670b93738bf0069733e",
            "444f33f54c61423da2027f637bfdeb19",
            "c845c2f393bf4011ae6320b18e62fe88",
            "16a37147b3c24f5aa39fb57e4dd193ca",
            "4ba3e83a0f8f42c7aab43171af13564d",
            "eb467a6fc92e4785a7d2bd683bd3573f",
            "869fdcd06f884351b0aa1f847d590a60",
            "e06c15e54cc24ff7ad0af0e09d12598a",
            "accc7988d0194d77aea84d19c7c5d36c",
            "54476a204e77404782f66148bba25e8c",
            "c91de307077a4bee8d937680a07182fd",
            "ff401115d55c4154b54de41193d7e21d",
            "3a0997645f8c44d890e7cbc973b5f617",
            "c5f7e30bd76d4e4fb092d10e514b1709",
            "fb25478e2eff46479396edf679f7a6bf",
            "4378d119dea34318b6a2fe5d48ca869c",
            "06e84e1863174eeb8bdde83d23243dc9",
            "f976f1a25ee84f32806365166e9e8dae",
            "a00d3d320153468188df11224dc8c317",
            "ca0cd9d3e3844864b0b9b030eb8ae7a1",
            "7058f5748a2441a29e187126e9b2584c",
            "2e6510d4469c42e3a1ac660902d65361",
            "03d2244041724ba3b739267212237468",
            "cfe685c09bf1443cbf7f3109b1f2495e",
            "21f0cf2289bc4f19b80e96cab2547795",
            "206e5ed5fc5f4872a23181dfce382033",
            "189d48c8481c476cb037d808487f445a",
            "1fbd7ae58a554f73ae3f3ca8795f86bc",
            "1af06f18a91d42378855b1527033d0b8",
            "036d7848475b48e0b0c39639de3b754d",
            "3006b32362a642bd931d2dc4a3360656",
            "6299c527eeef4ce98ffe6a752b7dd26e",
            "bc763b3609a141f5b42aaaebbe382e26",
            "e16bf6cb6d7e47f0b3b99640bd16bffe",
            "dba4f1ba4b0e430fab17d7c73a2c2375",
            "a954907cc88240d68d810caf157a1579",
            "58056c6516ba4072914ca6942908d23c",
            "556519a8acd84b63b927832cad4b6056",
            "bcdf7394cbf048b99c033eb7408e25f9",
            "303a251c10b34a058578ff9601acab92",
            "d5cd637a824a407084d25e6e3faab7ba",
            "f7ad62ead57b4a9e90a20debc0f5e566",
            "b0bbe29dbfa5486390fe3b2d666b650f",
            "f482a2d75f6e441b8ae68fa7c7b78d58",
            "8ea1d91359344026b88849810f1efcfa",
            "07ecc60c431a42c78dec0b75d63360af",
            "aefc47981c024162b8118bf5dcdf0ba2",
            "e666278f684d4d94908832c5e3bbb7e4",
            "9f27b81ed93d4eada88d350e6aa3c037",
            "8e87974181da46c08b96d06c6e6bdd1f",
            "6c29dadf898a4295ba2a7de2c855c7ad",
            "8e731435bf664a719e2cf2fbd750f257",
            "bb9e1ef39ec44614a04c32c691aedc4c",
            "d508ca9eb5244ac28cb7474da0d14e8d",
            "fa5fe5a23c984bbaac8a51dc9ebcb1cb",
            "d0d0288c20ad4cd78f99cd5f250511a8",
            "e1f1b9b8606443c0bcf06b7ec56d688c",
            "e5122fe5e39e41a3ac5a9522a7a9ded7",
            "473dbb2ea6a74a7fbe6c66f1058dfd4e",
            "bed4c31e759e4e368d0de0c3cad2a409",
            "6b7c6336faf04264aef597b8306cefe2",
            "e2269b809096494da2f80ed5737fc984",
            "45e16b550f034ffdab862322bb06f8d0",
            "840623fa28f546128f0802c739f82729",
            "de4d2acaa6494cb087b49266eebcf141",
            "563c4c486bf140e09474f312c80c7bf0",
            "71169106030543e49d79bfc3eb0651a3",
            "2c197be996f041eea9d2f0687508145d",
            "e0d9200338be4e5dadd7a48c058bb186",
            "e5809aa6b1cd4fcca5f35ab1d9cbbe52",
            "d4725e794d074d068338d0307c23670c",
            "9c36d8a29a614a4b9fffa116d8ec9b11",
            "6a1ee69019a64efd819ce51a77fbcb6d",
            "fc400116ab66481986781b4847eda288",
            "60152cab995b4ed49ee1732b35975feb",
            "43d0ffca573745b7be460c15ef4a15de",
            "ee1373e5de9f45c888601f005a5da042",
            "7ad83a1a99a546778c757b45ad541c97",
            "454b34a109344849b1f82fb55c59a95f",
            "09c5a11dc2e94bb69cff5d02b81ba175",
            "b018f8d8415247ba99b07c14d6092d9c",
            "53e430bf0cdf46a1869b1f145fac7c93",
            "9be65a284f474a0bad7916269a46f579",
            "4dd5a415c8d8436c8cf941dc1093e064",
            "6e979ca5927c423cabfe9b9cade52309",
            "7ff1680587d24d1bbc64fd3031f97ab5",
            "6c624a9017bb4a2e928e8129b846de60",
            "6860abf05aae443595db8a7ff3244975",
            "7811eca4dac743e4a6bf45079be7538d",
            "fa67efb71ba244798be828274e46f7ce",
            "b39f9dcf1b9844f8a2fd8c4c22a9e7c2",
            "8f5be04a472647509fa7d541507acb79",
            "ac25422d685f4723840bc80e4d06dee2",
            "1b512a269144424fadc62823f71f97ce",
            "5602f1f58ae449d5aecebb097a909493",
            "79ee6d377cc248e8871a9c08648ae802",
            "fbfdaa9a4c5a466596b1b909a2ce7104",
            "bb178dc99ddf409fa01112250245c4e6",
            "4f50eaac39694f6f88c36767f3aab263",
            "1d4b51067c82416193521c784064cfe1",
            "f6f4ea5d7c9e4368a7e9085b8696d461",
            "38f9092bbfb84c719ed0b5ff82b68533",
            "20a8ba3a679d41428c4be1cfd0dedf3b",
            "9ea69ad8e2ef42878d6b602e06ba5024",
            "615616e79ef44bb1bbd26591d2eeeeb6",
            "f3d722cea3f54e3ca43dafb5a8be5d51",
            "62603f3d50d848ec9ff7b377398819da",
            "804f9022ad1e406da0b92239fe80ff02",
            "0718162f62a440afaebfb24230884361",
            "746ce1e91fff48ca815ec03bcfd0c4c7",
            "4f322414d5a9408cac5459228f016453",
            "4b89dd311c194616bd57b762b969ac80",
            "4ee974b3adf342f297f2ba40c5477e81",
            "b53d50704c4542b1b97cfbf115f97f95",
            "4eee5da9c01341508f6d0370ec1e7a13",
            "77eeee834cac410c9a735b18acd65c1c",
            "cce6fca340314242a11c6eb4928d7ca8",
            "f607cff9c6d044c78eed7c02317596f2",
            "171b9c3a6ca3453297eb5f035783d096",
            "1de15c85e18548f8864e13a95ed7a484",
            "21a47dca2bd4405abdf025d442ccf9f4",
            "a7b72c7da959462f90d49fc03c288a49",
            "56f523946a2142bf9d313f7c025eeb43",
            "a2b7d0183ee243a9bcc118dcb76a91a3",
            "38e1a39c5ddb44fe93c346a1819fada2",
            "dd6e165e0f554780a4ea6841777c7c7c",
            "e5534ad9a06a4bdfa49e22daae7529c9",
            "ef0f88e582af47f4a0467562478c35d3",
            "30ea74d74ce542bb8f75251ca10498f4",
            "b091b38d91a7478a8d0d3bcabc2827ae",
            "4c53fb8eac794b8a91d8838baad0c03c",
            "aa33575b5cdb46f799f1125d86c1fbce",
            "f0d7175082f64f5bbff070f86287a6ce",
            "7ed7031ae5df4d46b40c91771ef7d5ec",
            "d93faf86c3324343b0b932a824e4f3f7",
            "57e304f6a28843e19308c69279e334b2",
            "eff38d038c934af6b8fdc5d16f2787d8",
            "bce13a6ceba549ffa84b1b98a39c5dda",
            "c10fadb692294d21bb27f4a2717b7617",
            "cef0fb158d84491db072382cf169e4e4",
            "e301d9a6021b44879c3ae66c15380791",
            "1e7f3a2be00441aba48e1d7777ff5d27",
            "08b944a727924089b4abab7e86ebc34c",
            "e71e30cbcfc74433933ee9a9caf8e88f",
            "6de0335f0897465ca305deaab2203ae4",
            "c11c9fd9fe804932a1d6f9d6e2ffbde7",
            "cefcb31f434e40d593c29f57095abafd",
            "6faae33d00004e7baed61dea34c80318",
            "33368f0cdbb54e4dbef15dbc22f25ad1",
            "6f89e32eee874c97abfef27ba83eff25",
            "05e5a3f3350045adb441da048a1efb7a",
            "5f789209b00a4316a82461f378bfb0d7",
            "a749fca348774c4081a3a0eddfd2894c",
            "8734fe8e4c9d4649bae9eebf088063b8",
            "b168051b98f544148b42ba4e04535e24",
            "0428aa06eb1e4be2abfd27bea0149507",
            "8f5cf7fe763541d7ada674cf69235146",
            "3e68a0cd0ac64e05886d6e01fcbf7499",
            "fca98950f45441f6abed5cdbb648c47c",
            "40d41af2663b429cb8aa1e67267a10d5",
            "bb1890727740454d810403b4d04b8687",
            "1ea3455871824c2e82abb74489278382",
            "d3d41fcf344643ecae8613007089a758",
            "0f8fcdada15c4e2e9926e655d0c9b0d9",
            "f89c9e1353d04f29a64c46e8d768fc0b",
            "e8547ae177ca4478864fdc95be480f32",
            "a302d72236a14230907a803a3d08ee66",
            "88a2c1f3f388410fbb103f82cf521f38",
            "26c863c3bf3441e59d945731ffc5d88e",
            "b285bf6f34e44716abe6fab506788252",
            "cac632b4f357464a8b320f389697ecdc",
            "0126825e170b482cbd22c71c472c0e83",
            "9a6276a2e043459e941daae7b81a3eb2",
            "91e56fe97a7a40399a2a757d8add8509",
            "abb19777fafb4bedacbdbc08715daf58",
            "96110055163f415099d374d8e5fa6de1",
            "c456d7c8b80d4221a6070b3fe5d1e06e",
            "2f312282bb474562b7b73089254e774f",
            "0b71948567384818b4963ce400aafce0",
            "d5540922b3164c55880b4245d0920e85",
            "13364d814ab34f989238a2c9d122314c",
            "3a0d57ed5aa0427b94a2c0c676d76d33",
            "1e3817ac763c4e7a8906fc5003edec43",
            "951ad476d5ee4c06a81474dc154360b5",
            "e6ca6243e4664b1f9a0a705a3c24b98f",
            "dfa3e3df48cb4c0d98d37bc7fb024701",
            "1e0a3a3255e14b37baa16035bdcd64f9",
            "83d1907f14c3428aa0e0e6e3a0b8eefd",
            "75588ad3a6e042388ea12c859d583727",
            "d3d0d43dad0741b680ae4d7574564ea8",
            "71d4081f24ea441f8cfc05ec870759c4",
            "045c8d6e55ff4088a854e241961b2606",
            "873121fa9b0e45dbbedfbf742d40e6c4",
            "3812cfe80e73459cb6dfdf534b59799c",
            "854462c2efa743ae95d02e86b4d623da",
            "077c2f3835194d85acfe8a698780d6e4",
            "7800872c04864b12b07726745606a59d",
            "a2158bcef1504d7785a3dec5058cc904",
            "9990111334b24fde9c3714a0153b27cf",
            "ffef57d0cb7443778c3704e6d9ba7541",
            "85a8f56fd0124f54974b0138c5f48f7f",
            "a9154ee0fd9448569ea5aeee2f58392d",
            "8c2c68d62b8744efa64c18d5bf1e82f6",
            "aeddb73094be442a9dbf81c1e0f9e2d6",
            "ab28628b3e7e4438baf609647483de00",
            "dc322d7b53404d62989195cd44641901",
            "ec1764cd0c7046289bce464b9d1dfd2b",
            "3b422c4b639e4f43931039d85361ccef",
            "cf51b3ebff9b484bb91f12d5198c0a9f",
            "5abdaf5748814b3ebb36fa7a13722965",
            "104936d609214601abeda9b2c789f056",
            "474110ca2582482f910ee7a824ff57d5",
            "4f86ca27ef2a4236a8f1ee87ec1af123",
            "d5210e9055194ee1981799148976e25f",
            "f22293d6165346d19e12ef47840cf3b9",
            "47581abb300e44768480907a94c72db3",
            "315d871e3cde4d13b01ce6e86424032b",
            "7b78902c11874d1a9a8e51c5547b8ea0",
            "a32364a5bf6b4f9dbc48fb1884d5a7f3",
            "79ed09d057054298b1b3505ce6e14f73",
            "2a7876e84f574428a75d63de6257c539",
            "3d6c064cf66040f781e9c0b0da0a77f4",
            "5ca3a41c22744a459082ae4e35b1c9f4",
            "fc9cee071eb8422d9b5609911aca48ab",
            "0201f0327ae1417c8773d617c33570ad",
            "e7b5004bfb16459b8c6f53507e6d5e44",
            "07147d11c5fe4bea9060fa65cbddf0f6",
            "667950c9c61741cbafde663ad57737b9",
            "6b03ae9c827f46eda4e644539983a21d",
            "9bb9ceac9c0f476dbf50e56c33b50599",
            "218ca83de0324c1f9b6bc4774fa6efe3",
            "37cebe8a6bcf41448862937d935424f8",
            "8af58f28949d411884a6e5c949c58942",
            "8b919dc634d7493284ec696f252be8d9",
            "540aab02501047a3a67f170cf851c5ea",
            "d8a02a96ed1b4f82a6928294dd0cb360",
            "954df79b81904b62ab0a51a639bcc1e3",
            "b4d0b6bd4b944ca0afe2535250c34968",
            "bc129067788949bd843af712d331324f",
            "4573a49bf1154f8fb6a51ae6b7f77743",
            "a1bb8e3d923a46aa92f3be80b76c6d9c",
            "9116027340aa4a14a72251759e733aaf",
            "e1c0083b642b413a83ae56abd1ca158f",
            "ea6d78e31213451fa00320460ddc4b86",
            "c2fb3caf1e3e447a9027e2ff38d086e1",
            "fb341c1233bb46b1a3cd0d7c2d1cac6b",
            "04a0d6334753433496d18d90ebc5a29c",
            "bfb4629a4ce24a45be4b25792f418bdc",
            "be333a246e2345c3aae40f57f1017086",
            "f6fdc113ee44415d8dee5f5df964e5e9",
            "ea5206d3c1744df2a53ac34f632a9768",
            "5760acb56271440e98bf6132624665ef",
            "4b9313bc47f844268fcdbd8d15917d88",
            "3ec8f84e5fd842a08a0e58517e6595ef",
            "9aa4268f02c24ae5a38aff7ee4e996a4",
            "de7087db19a0407e9b9f544ed5eda9e3",
            "68705a4c109e4db29698b9012666d2d4",
            "9bc302618ea440dabf35ece9d16201e4",
            "1ca412276a0f4ac698e60a91fe119d6d",
            "809a9563f12846bb8b653e8a6c5da977",
            "8a1f6e54dd1c4d87800887620d62d958",
            "3c2c0c42ede147ba994f86acef6b82ab",
            "caac03e5d8294b6c95d8d2f93c785aac",
            "d9c8e04ef3cb48cc8dbd176ca0193f95",
            "69309ade1c4540d09b7e3097e013734d",
            "9db59016c4704c5faa8e590d1470f1a8",
            "893f196a973842d589c9d7969d4c9d06",
            "2b537e7698104519b69c1c39c7308d4e",
            "9b0e8be3fb21467f9e41b622a56e8454",
            "03908407f65d404ab76be8e3c693dfcb",
            "2f751ec1aca8496387ebdd509b7e102d",
            "679e15c9afec459cb7222ff7320df6b0",
            "02aaf8b33655473dab43e447f7429c24",
            "4462ceac833a4a249ab86d79d96eaa4c",
            "2175307047bf498695884f3b49bc4315",
            "ee261dcad4ab4e29b8dd4ad793a87828",
            "24535788bfdf45478e84d8f0de2c3a89",
            "69be18add2384b13a603243069f235e6",
            "2c3a8973d7064cec955fa2997fa311d1",
            "7c069aba1a394068a4a957fc40102736",
            "e49e18dbd112471983b9b95312c7bee6",
            "23d0af0d02b840d7ba309b2e13db5d31",
            "73454fcfff5b48db81d8d6d8e185a644",
            "680bd74999ce41c7b24dae3db0444c7c",
            "fa0362ac54444bd79b796b8a20fcdaf4",
            "841bb7b5ad704832accb925765976426",
            "e4c9865642a3426c89c97d44de61c8df",
            "c52eacc7e98c44a88804f865b3639d71",
            "f17c90b35191498e8ba052d3be59878a",
            "e39c94019d1d42718bfa044c1429f111",
            "81aa96aed4b94fb7855b8d79e062a22e",
            "6c4c5c9db0944b01b0f057ec20403af1",
            "590ce0dcfcf34af480cd6d353c786eff",
            "08debb76767e4710be3f915d1ed59df7",
            "342743556dd64fb0ba492bc7e95c1ab9",
            "9a016b7e93e04014a1c1fcd712263565",
            "440940c466ad4fcda4989dd431336009",
            "6c8935819fc944029c4a6e1ac355cac9",
            "1a975200346649e28b45de2bd967304f",
            "964c77f164e54d9d97169e833e614a9d",
            "8d105d20fa484c5b95a43e4332af8dfd",
            "c41b704c32c44ed9a76e6e90b20aee84",
            "839f8849a9d744b28a2e990f4c6f5a85",
            "17fb7232d9ae46309e2cd6533cd2df04",
            "4d4a6916dac2411784b56f3c7701d656",
            "d91ec6f72bd9403f987d629383b849ff",
            "42e6ac418fe141dca4b1817d1067104f",
            "a409d761cbd34834b4926a70134b5368",
            "ed83b268386648c3b3f9978d8e543e3c",
            "b000e888a50549278bdc8a68fe2c4343"
          ]
        },
        "id": "ABQ8oeaVu24Z",
        "outputId": "0d2ade6e-efa1-417f-d13a-989792acf4fd"
      },
      "outputs": [
        {
          "name": "stdout",
          "output_type": "stream",
          "text": [
            "/content/evaluation-pipeline\n"
          ]
        },
        {
          "data": {
            "application/vnd.jupyter.widget-view+json": {
              "model_id": "0424fb94e6074bb4a06266b3d515770b",
              "version_major": 2,
              "version_minor": 0
            },
            "text/plain": [
              "Generating train split:   0%|          | 0/1956 [00:00<?, ? examples/s]"
            ]
          },
          "metadata": {},
          "output_type": "display_data"
        },
        {
          "name": "stdout",
          "output_type": "stream",
          "text": [
            "\n",
            "» Assigning unique IDs to 'blimp_from_file+null' docs\n"
          ]
        },
        {
          "name": "stderr",
          "output_type": "stream",
          "text": [
            "INFO:lm_eval.evaluator:\n",
            "» Assigning unique IDs to 'blimp_from_file+null' docs\n"
          ]
        },
        {
          "data": {
            "application/vnd.jupyter.widget-view+json": {
              "model_id": "4d91b18ab92a466f9755a8ca3a548182",
              "version_major": 2,
              "version_minor": 0
            },
            "text/plain": [
              "Map:   0%|          | 0/1956 [00:00<?, ? examples/s]"
            ]
          },
          "metadata": {},
          "output_type": "display_data"
        },
        {
          "name": "stdout",
          "output_type": "stream",
          "text": [
            "\n",
            "» Filtering invalid docs from 'blimp_from_file+null'\n"
          ]
        },
        {
          "name": "stderr",
          "output_type": "stream",
          "text": [
            "INFO:lm_eval.evaluator:\n",
            "» Filtering invalid docs from 'blimp_from_file+null'\n"
          ]
        },
        {
          "data": {
            "application/vnd.jupyter.widget-view+json": {
              "model_id": "b73e39b72b3748279666aaa2e17e5c6c",
              "version_major": 2,
              "version_minor": 0
            },
            "text/plain": [
              "Filter:   0%|          | 0/1956 [00:00<?, ? examples/s]"
            ]
          },
          "metadata": {},
          "output_type": "display_data"
        },
        {
          "name": "stdout",
          "output_type": "stream",
          "text": [
            "\n",
            "» Constructing 'blimp_from_file+null' contexts and requests\n"
          ]
        },
        {
          "name": "stderr",
          "output_type": "stream",
          "text": [
            "INFO:lm_eval.evaluator:\n",
            "» Constructing 'blimp_from_file+null' contexts and requests\n",
            "100%|██████████| 1956/1956 [00:00<00:00, 5866.30it/s]"
          ]
        },
        {
          "name": "stdout",
          "output_type": "stream",
          "text": [
            "\n",
            "» Running all `loglikelihood` requests\n"
          ]
        },
        {
          "name": "stderr",
          "output_type": "stream",
          "text": [
            "\n",
            "INFO:lm_eval.evaluator:\n",
            "» Running all `loglikelihood` requests\n",
            "100%|██████████| 3912/3912 [00:25<00:00, 155.02it/s]\n"
          ]
        },
        {
          "name": "stdout",
          "output_type": "stream",
          "text": [
            "anaphor_agreement:\t66.56%\n"
          ]
        },
        {
          "data": {
            "application/vnd.jupyter.widget-view+json": {
              "model_id": "e98f781b59994c2f98bac9d30a959c3c",
              "version_major": 2,
              "version_minor": 0
            },
            "text/plain": [
              "Generating train split:   0%|          | 0/8248 [00:00<?, ? examples/s]"
            ]
          },
          "metadata": {},
          "output_type": "display_data"
        },
        {
          "name": "stdout",
          "output_type": "stream",
          "text": [
            "\n",
            "» Assigning unique IDs to 'blimp_from_file+null' docs\n"
          ]
        },
        {
          "name": "stderr",
          "output_type": "stream",
          "text": [
            "INFO:lm_eval.evaluator:\n",
            "» Assigning unique IDs to 'blimp_from_file+null' docs\n"
          ]
        },
        {
          "data": {
            "application/vnd.jupyter.widget-view+json": {
              "model_id": "598e079df6d64ef195cbb26abd17c93d",
              "version_major": 2,
              "version_minor": 0
            },
            "text/plain": [
              "Map:   0%|          | 0/8248 [00:00<?, ? examples/s]"
            ]
          },
          "metadata": {},
          "output_type": "display_data"
        },
        {
          "name": "stdout",
          "output_type": "stream",
          "text": [
            "\n",
            "» Filtering invalid docs from 'blimp_from_file+null'\n"
          ]
        },
        {
          "name": "stderr",
          "output_type": "stream",
          "text": [
            "INFO:lm_eval.evaluator:\n",
            "» Filtering invalid docs from 'blimp_from_file+null'\n"
          ]
        },
        {
          "data": {
            "application/vnd.jupyter.widget-view+json": {
              "model_id": "89afa3faa90f4eb497fc53f75e3d1cf3",
              "version_major": 2,
              "version_minor": 0
            },
            "text/plain": [
              "Filter:   0%|          | 0/8248 [00:00<?, ? examples/s]"
            ]
          },
          "metadata": {},
          "output_type": "display_data"
        },
        {
          "name": "stdout",
          "output_type": "stream",
          "text": [
            "\n",
            "» Constructing 'blimp_from_file+null' contexts and requests\n"
          ]
        },
        {
          "name": "stderr",
          "output_type": "stream",
          "text": [
            "INFO:lm_eval.evaluator:\n",
            "» Constructing 'blimp_from_file+null' contexts and requests\n",
            "100%|██████████| 8248/8248 [00:01<00:00, 6123.77it/s]"
          ]
        },
        {
          "name": "stdout",
          "output_type": "stream",
          "text": [
            "\n",
            "» Running all `loglikelihood` requests\n"
          ]
        },
        {
          "name": "stderr",
          "output_type": "stream",
          "text": [
            "\n",
            "INFO:lm_eval.evaluator:\n",
            "» Running all `loglikelihood` requests\n",
            "100%|██████████| 16496/16496 [01:48<00:00, 151.68it/s]\n"
          ]
        },
        {
          "name": "stdout",
          "output_type": "stream",
          "text": [
            "argument_structure:\t62.08%\n"
          ]
        },
        {
          "data": {
            "application/vnd.jupyter.widget-view+json": {
              "model_id": "5ac385ac4c024733a78d9b71c757f1eb",
              "version_major": 2,
              "version_minor": 0
            },
            "text/plain": [
              "Generating train split:   0%|          | 0/6738 [00:00<?, ? examples/s]"
            ]
          },
          "metadata": {},
          "output_type": "display_data"
        },
        {
          "name": "stdout",
          "output_type": "stream",
          "text": [
            "\n",
            "» Assigning unique IDs to 'blimp_from_file+null' docs\n"
          ]
        },
        {
          "name": "stderr",
          "output_type": "stream",
          "text": [
            "INFO:lm_eval.evaluator:\n",
            "» Assigning unique IDs to 'blimp_from_file+null' docs\n"
          ]
        },
        {
          "data": {
            "application/vnd.jupyter.widget-view+json": {
              "model_id": "44de552f77bb445ea96e0d982c92e995",
              "version_major": 2,
              "version_minor": 0
            },
            "text/plain": [
              "Map:   0%|          | 0/6738 [00:00<?, ? examples/s]"
            ]
          },
          "metadata": {},
          "output_type": "display_data"
        },
        {
          "name": "stdout",
          "output_type": "stream",
          "text": [
            "\n",
            "» Filtering invalid docs from 'blimp_from_file+null'\n"
          ]
        },
        {
          "name": "stderr",
          "output_type": "stream",
          "text": [
            "INFO:lm_eval.evaluator:\n",
            "» Filtering invalid docs from 'blimp_from_file+null'\n"
          ]
        },
        {
          "data": {
            "application/vnd.jupyter.widget-view+json": {
              "model_id": "a3b35bb8a90a46fd937f383253a8a4a5",
              "version_major": 2,
              "version_minor": 0
            },
            "text/plain": [
              "Filter:   0%|          | 0/6738 [00:00<?, ? examples/s]"
            ]
          },
          "metadata": {},
          "output_type": "display_data"
        },
        {
          "name": "stdout",
          "output_type": "stream",
          "text": [
            "\n",
            "» Constructing 'blimp_from_file+null' contexts and requests\n"
          ]
        },
        {
          "name": "stderr",
          "output_type": "stream",
          "text": [
            "INFO:lm_eval.evaluator:\n",
            "» Constructing 'blimp_from_file+null' contexts and requests\n",
            "100%|██████████| 6738/6738 [00:01<00:00, 4466.52it/s]"
          ]
        },
        {
          "name": "stdout",
          "output_type": "stream",
          "text": [
            "\n",
            "» Running all `loglikelihood` requests\n"
          ]
        },
        {
          "name": "stderr",
          "output_type": "stream",
          "text": [
            "\n",
            "INFO:lm_eval.evaluator:\n",
            "» Running all `loglikelihood` requests\n",
            "100%|██████████| 13476/13476 [01:33<00:00, 143.85it/s]\n"
          ]
        },
        {
          "name": "stdout",
          "output_type": "stream",
          "text": [
            "binding:\t61.25%\n"
          ]
        },
        {
          "data": {
            "application/vnd.jupyter.widget-view+json": {
              "model_id": "49262cc84b114abf9fad1d92edae9e4c",
              "version_major": 2,
              "version_minor": 0
            },
            "text/plain": [
              "Generating train split:   0%|          | 0/4526 [00:00<?, ? examples/s]"
            ]
          },
          "metadata": {},
          "output_type": "display_data"
        },
        {
          "name": "stdout",
          "output_type": "stream",
          "text": [
            "\n",
            "» Assigning unique IDs to 'blimp_from_file+null' docs\n"
          ]
        },
        {
          "name": "stderr",
          "output_type": "stream",
          "text": [
            "INFO:lm_eval.evaluator:\n",
            "» Assigning unique IDs to 'blimp_from_file+null' docs\n"
          ]
        },
        {
          "data": {
            "application/vnd.jupyter.widget-view+json": {
              "model_id": "304afb17ae1847deaa842e87a465b5af",
              "version_major": 2,
              "version_minor": 0
            },
            "text/plain": [
              "Map:   0%|          | 0/4526 [00:00<?, ? examples/s]"
            ]
          },
          "metadata": {},
          "output_type": "display_data"
        },
        {
          "name": "stdout",
          "output_type": "stream",
          "text": [
            "\n",
            "» Filtering invalid docs from 'blimp_from_file+null'\n"
          ]
        },
        {
          "name": "stderr",
          "output_type": "stream",
          "text": [
            "INFO:lm_eval.evaluator:\n",
            "» Filtering invalid docs from 'blimp_from_file+null'\n"
          ]
        },
        {
          "data": {
            "application/vnd.jupyter.widget-view+json": {
              "model_id": "f446a9577e7d470e9bf04cd155172e30",
              "version_major": 2,
              "version_minor": 0
            },
            "text/plain": [
              "Filter:   0%|          | 0/4526 [00:00<?, ? examples/s]"
            ]
          },
          "metadata": {},
          "output_type": "display_data"
        },
        {
          "name": "stdout",
          "output_type": "stream",
          "text": [
            "\n",
            "» Constructing 'blimp_from_file+null' contexts and requests\n"
          ]
        },
        {
          "name": "stderr",
          "output_type": "stream",
          "text": [
            "INFO:lm_eval.evaluator:\n",
            "» Constructing 'blimp_from_file+null' contexts and requests\n",
            "100%|██████████| 4526/4526 [00:00<00:00, 5961.78it/s]"
          ]
        },
        {
          "name": "stdout",
          "output_type": "stream",
          "text": [
            "\n",
            "» Running all `loglikelihood` requests\n"
          ]
        },
        {
          "name": "stderr",
          "output_type": "stream",
          "text": [
            "\n",
            "INFO:lm_eval.evaluator:\n",
            "» Running all `loglikelihood` requests\n",
            "100%|██████████| 9052/9052 [01:04<00:00, 139.36it/s]\n"
          ]
        },
        {
          "name": "stdout",
          "output_type": "stream",
          "text": [
            "control_raising:\t59.99%\n"
          ]
        },
        {
          "data": {
            "application/vnd.jupyter.widget-view+json": {
              "model_id": "5416879f9ff64878b5a28cef39da925b",
              "version_major": 2,
              "version_minor": 0
            },
            "text/plain": [
              "Generating train split:   0%|          | 0/7542 [00:00<?, ? examples/s]"
            ]
          },
          "metadata": {},
          "output_type": "display_data"
        },
        {
          "name": "stdout",
          "output_type": "stream",
          "text": [
            "\n",
            "» Assigning unique IDs to 'blimp_from_file+null' docs\n"
          ]
        },
        {
          "name": "stderr",
          "output_type": "stream",
          "text": [
            "INFO:lm_eval.evaluator:\n",
            "» Assigning unique IDs to 'blimp_from_file+null' docs\n"
          ]
        },
        {
          "data": {
            "application/vnd.jupyter.widget-view+json": {
              "model_id": "a2be16ce9657489bac1d7b476428cb44",
              "version_major": 2,
              "version_minor": 0
            },
            "text/plain": [
              "Map:   0%|          | 0/7542 [00:00<?, ? examples/s]"
            ]
          },
          "metadata": {},
          "output_type": "display_data"
        },
        {
          "name": "stdout",
          "output_type": "stream",
          "text": [
            "\n",
            "» Filtering invalid docs from 'blimp_from_file+null'\n"
          ]
        },
        {
          "name": "stderr",
          "output_type": "stream",
          "text": [
            "INFO:lm_eval.evaluator:\n",
            "» Filtering invalid docs from 'blimp_from_file+null'\n"
          ]
        },
        {
          "data": {
            "application/vnd.jupyter.widget-view+json": {
              "model_id": "c845c2f393bf4011ae6320b18e62fe88",
              "version_major": 2,
              "version_minor": 0
            },
            "text/plain": [
              "Filter:   0%|          | 0/7542 [00:00<?, ? examples/s]"
            ]
          },
          "metadata": {},
          "output_type": "display_data"
        },
        {
          "name": "stdout",
          "output_type": "stream",
          "text": [
            "\n",
            "» Constructing 'blimp_from_file+null' contexts and requests\n"
          ]
        },
        {
          "name": "stderr",
          "output_type": "stream",
          "text": [
            "INFO:lm_eval.evaluator:\n",
            "» Constructing 'blimp_from_file+null' contexts and requests\n",
            "100%|██████████| 7542/7542 [00:01<00:00, 6312.02it/s]"
          ]
        },
        {
          "name": "stdout",
          "output_type": "stream",
          "text": [
            "\n",
            "» Running all `loglikelihood` requests\n"
          ]
        },
        {
          "name": "stderr",
          "output_type": "stream",
          "text": [
            "\n",
            "INFO:lm_eval.evaluator:\n",
            "» Running all `loglikelihood` requests\n",
            "100%|██████████| 15084/15084 [01:40<00:00, 150.24it/s]\n"
          ]
        },
        {
          "name": "stdout",
          "output_type": "stream",
          "text": [
            "determiner_noun_agreement:\t78.16%\n"
          ]
        },
        {
          "data": {
            "application/vnd.jupyter.widget-view+json": {
              "model_id": "c5f7e30bd76d4e4fb092d10e514b1709",
              "version_major": 2,
              "version_minor": 0
            },
            "text/plain": [
              "Generating train split:   0%|          | 0/1732 [00:00<?, ? examples/s]"
            ]
          },
          "metadata": {},
          "output_type": "display_data"
        },
        {
          "name": "stdout",
          "output_type": "stream",
          "text": [
            "\n",
            "» Assigning unique IDs to 'blimp_from_file+null' docs\n"
          ]
        },
        {
          "name": "stderr",
          "output_type": "stream",
          "text": [
            "INFO:lm_eval.evaluator:\n",
            "» Assigning unique IDs to 'blimp_from_file+null' docs\n"
          ]
        },
        {
          "data": {
            "application/vnd.jupyter.widget-view+json": {
              "model_id": "21f0cf2289bc4f19b80e96cab2547795",
              "version_major": 2,
              "version_minor": 0
            },
            "text/plain": [
              "Map:   0%|          | 0/1732 [00:00<?, ? examples/s]"
            ]
          },
          "metadata": {},
          "output_type": "display_data"
        },
        {
          "name": "stdout",
          "output_type": "stream",
          "text": [
            "\n",
            "» Filtering invalid docs from 'blimp_from_file+null'\n"
          ]
        },
        {
          "name": "stderr",
          "output_type": "stream",
          "text": [
            "INFO:lm_eval.evaluator:\n",
            "» Filtering invalid docs from 'blimp_from_file+null'\n"
          ]
        },
        {
          "data": {
            "application/vnd.jupyter.widget-view+json": {
              "model_id": "a954907cc88240d68d810caf157a1579",
              "version_major": 2,
              "version_minor": 0
            },
            "text/plain": [
              "Filter:   0%|          | 0/1732 [00:00<?, ? examples/s]"
            ]
          },
          "metadata": {},
          "output_type": "display_data"
        },
        {
          "name": "stdout",
          "output_type": "stream",
          "text": [
            "\n",
            "» Constructing 'blimp_from_file+null' contexts and requests\n"
          ]
        },
        {
          "name": "stderr",
          "output_type": "stream",
          "text": [
            "INFO:lm_eval.evaluator:\n",
            "» Constructing 'blimp_from_file+null' contexts and requests\n",
            "100%|██████████| 1732/1732 [00:00<00:00, 3843.72it/s]"
          ]
        },
        {
          "name": "stdout",
          "output_type": "stream",
          "text": [
            "\n",
            "» Running all `loglikelihood` requests\n"
          ]
        },
        {
          "name": "stderr",
          "output_type": "stream",
          "text": [
            "\n",
            "INFO:lm_eval.evaluator:\n",
            "» Running all `loglikelihood` requests\n",
            "100%|██████████| 3464/3464 [00:26<00:00, 130.20it/s]\n"
          ]
        },
        {
          "name": "stdout",
          "output_type": "stream",
          "text": [
            "ellipsis:\t52.08%\n"
          ]
        },
        {
          "data": {
            "application/vnd.jupyter.widget-view+json": {
              "model_id": "aefc47981c024162b8118bf5dcdf0ba2",
              "version_major": 2,
              "version_minor": 0
            },
            "text/plain": [
              "Generating train split:   0%|          | 0/6426 [00:00<?, ? examples/s]"
            ]
          },
          "metadata": {},
          "output_type": "display_data"
        },
        {
          "name": "stdout",
          "output_type": "stream",
          "text": [
            "\n",
            "» Assigning unique IDs to 'blimp_from_file+null' docs\n"
          ]
        },
        {
          "name": "stderr",
          "output_type": "stream",
          "text": [
            "INFO:lm_eval.evaluator:\n",
            "» Assigning unique IDs to 'blimp_from_file+null' docs\n"
          ]
        },
        {
          "data": {
            "application/vnd.jupyter.widget-view+json": {
              "model_id": "e5122fe5e39e41a3ac5a9522a7a9ded7",
              "version_major": 2,
              "version_minor": 0
            },
            "text/plain": [
              "Map:   0%|          | 0/6426 [00:00<?, ? examples/s]"
            ]
          },
          "metadata": {},
          "output_type": "display_data"
        },
        {
          "name": "stdout",
          "output_type": "stream",
          "text": [
            "\n",
            "» Filtering invalid docs from 'blimp_from_file+null'\n"
          ]
        },
        {
          "name": "stderr",
          "output_type": "stream",
          "text": [
            "INFO:lm_eval.evaluator:\n",
            "» Filtering invalid docs from 'blimp_from_file+null'\n"
          ]
        },
        {
          "data": {
            "application/vnd.jupyter.widget-view+json": {
              "model_id": "e0d9200338be4e5dadd7a48c058bb186",
              "version_major": 2,
              "version_minor": 0
            },
            "text/plain": [
              "Filter:   0%|          | 0/6426 [00:00<?, ? examples/s]"
            ]
          },
          "metadata": {},
          "output_type": "display_data"
        },
        {
          "name": "stdout",
          "output_type": "stream",
          "text": [
            "\n",
            "» Constructing 'blimp_from_file+null' contexts and requests\n"
          ]
        },
        {
          "name": "stderr",
          "output_type": "stream",
          "text": [
            "INFO:lm_eval.evaluator:\n",
            "» Constructing 'blimp_from_file+null' contexts and requests\n",
            "100%|██████████| 6426/6426 [00:01<00:00, 5961.35it/s]"
          ]
        },
        {
          "name": "stdout",
          "output_type": "stream",
          "text": [
            "\n",
            "» Running all `loglikelihood` requests\n"
          ]
        },
        {
          "name": "stderr",
          "output_type": "stream",
          "text": [
            "\n",
            "INFO:lm_eval.evaluator:\n",
            "» Running all `loglikelihood` requests\n",
            "100%|██████████| 12852/12852 [01:33<00:00, 138.09it/s]\n"
          ]
        },
        {
          "name": "stdout",
          "output_type": "stream",
          "text": [
            "filler_gap:\t59.77%\n"
          ]
        },
        {
          "data": {
            "application/vnd.jupyter.widget-view+json": {
              "model_id": "09c5a11dc2e94bb69cff5d02b81ba175",
              "version_major": 2,
              "version_minor": 0
            },
            "text/plain": [
              "Generating train split:   0%|          | 0/1965 [00:00<?, ? examples/s]"
            ]
          },
          "metadata": {},
          "output_type": "display_data"
        },
        {
          "name": "stdout",
          "output_type": "stream",
          "text": [
            "\n",
            "» Assigning unique IDs to 'blimp_from_file+null' docs\n"
          ]
        },
        {
          "name": "stderr",
          "output_type": "stream",
          "text": [
            "INFO:lm_eval.evaluator:\n",
            "» Assigning unique IDs to 'blimp_from_file+null' docs\n"
          ]
        },
        {
          "data": {
            "application/vnd.jupyter.widget-view+json": {
              "model_id": "b39f9dcf1b9844f8a2fd8c4c22a9e7c2",
              "version_major": 2,
              "version_minor": 0
            },
            "text/plain": [
              "Map:   0%|          | 0/1965 [00:00<?, ? examples/s]"
            ]
          },
          "metadata": {},
          "output_type": "display_data"
        },
        {
          "name": "stdout",
          "output_type": "stream",
          "text": [
            "\n",
            "» Filtering invalid docs from 'blimp_from_file+null'\n"
          ]
        },
        {
          "name": "stderr",
          "output_type": "stream",
          "text": [
            "INFO:lm_eval.evaluator:\n",
            "» Filtering invalid docs from 'blimp_from_file+null'\n"
          ]
        },
        {
          "data": {
            "application/vnd.jupyter.widget-view+json": {
              "model_id": "38f9092bbfb84c719ed0b5ff82b68533",
              "version_major": 2,
              "version_minor": 0
            },
            "text/plain": [
              "Filter:   0%|          | 0/1965 [00:00<?, ? examples/s]"
            ]
          },
          "metadata": {},
          "output_type": "display_data"
        },
        {
          "name": "stdout",
          "output_type": "stream",
          "text": [
            "\n",
            "» Constructing 'blimp_from_file+null' contexts and requests\n"
          ]
        },
        {
          "name": "stderr",
          "output_type": "stream",
          "text": [
            "INFO:lm_eval.evaluator:\n",
            "» Constructing 'blimp_from_file+null' contexts and requests\n",
            "100%|██████████| 1965/1965 [00:00<00:00, 6289.08it/s]"
          ]
        },
        {
          "name": "stdout",
          "output_type": "stream",
          "text": [
            "\n",
            "» Running all `loglikelihood` requests\n"
          ]
        },
        {
          "name": "stderr",
          "output_type": "stream",
          "text": [
            "\n",
            "INFO:lm_eval.evaluator:\n",
            "» Running all `loglikelihood` requests\n",
            "100%|██████████| 3930/3930 [00:24<00:00, 160.61it/s]\n"
          ]
        },
        {
          "name": "stdout",
          "output_type": "stream",
          "text": [
            "irregular_forms:\t85.29%\n"
          ]
        },
        {
          "data": {
            "application/vnd.jupyter.widget-view+json": {
              "model_id": "4ee974b3adf342f297f2ba40c5477e81",
              "version_major": 2,
              "version_minor": 0
            },
            "text/plain": [
              "Generating train split:   0%|          | 0/2676 [00:00<?, ? examples/s]"
            ]
          },
          "metadata": {},
          "output_type": "display_data"
        },
        {
          "name": "stdout",
          "output_type": "stream",
          "text": [
            "\n",
            "» Assigning unique IDs to 'blimp_from_file+null' docs\n"
          ]
        },
        {
          "name": "stderr",
          "output_type": "stream",
          "text": [
            "INFO:lm_eval.evaluator:\n",
            "» Assigning unique IDs to 'blimp_from_file+null' docs\n"
          ]
        },
        {
          "data": {
            "application/vnd.jupyter.widget-view+json": {
              "model_id": "a2b7d0183ee243a9bcc118dcb76a91a3",
              "version_major": 2,
              "version_minor": 0
            },
            "text/plain": [
              "Map:   0%|          | 0/2676 [00:00<?, ? examples/s]"
            ]
          },
          "metadata": {},
          "output_type": "display_data"
        },
        {
          "name": "stdout",
          "output_type": "stream",
          "text": [
            "\n",
            "» Filtering invalid docs from 'blimp_from_file+null'\n"
          ]
        },
        {
          "name": "stderr",
          "output_type": "stream",
          "text": [
            "INFO:lm_eval.evaluator:\n",
            "» Filtering invalid docs from 'blimp_from_file+null'\n"
          ]
        },
        {
          "data": {
            "application/vnd.jupyter.widget-view+json": {
              "model_id": "d93faf86c3324343b0b932a824e4f3f7",
              "version_major": 2,
              "version_minor": 0
            },
            "text/plain": [
              "Filter:   0%|          | 0/2676 [00:00<?, ? examples/s]"
            ]
          },
          "metadata": {},
          "output_type": "display_data"
        },
        {
          "name": "stdout",
          "output_type": "stream",
          "text": [
            "\n",
            "» Constructing 'blimp_from_file+null' contexts and requests\n"
          ]
        },
        {
          "name": "stderr",
          "output_type": "stream",
          "text": [
            "INFO:lm_eval.evaluator:\n",
            "» Constructing 'blimp_from_file+null' contexts and requests\n",
            "100%|██████████| 2676/2676 [00:00<00:00, 3602.19it/s]"
          ]
        },
        {
          "name": "stdout",
          "output_type": "stream",
          "text": [
            "\n",
            "» Running all `loglikelihood` requests\n"
          ]
        },
        {
          "name": "stderr",
          "output_type": "stream",
          "text": [
            "\n",
            "INFO:lm_eval.evaluator:\n",
            "» Running all `loglikelihood` requests\n",
            "100%|██████████| 5352/5352 [00:37<00:00, 142.64it/s]\n"
          ]
        },
        {
          "name": "stdout",
          "output_type": "stream",
          "text": [
            "island_effects:\t43.80%\n"
          ]
        },
        {
          "data": {
            "application/vnd.jupyter.widget-view+json": {
              "model_id": "c11c9fd9fe804932a1d6f9d6e2ffbde7",
              "version_major": 2,
              "version_minor": 0
            },
            "text/plain": [
              "Generating train split:   0%|          | 0/6586 [00:00<?, ? examples/s]"
            ]
          },
          "metadata": {},
          "output_type": "display_data"
        },
        {
          "name": "stdout",
          "output_type": "stream",
          "text": [
            "\n",
            "» Assigning unique IDs to 'blimp_from_file+null' docs\n"
          ]
        },
        {
          "name": "stderr",
          "output_type": "stream",
          "text": [
            "INFO:lm_eval.evaluator:\n",
            "» Assigning unique IDs to 'blimp_from_file+null' docs\n"
          ]
        },
        {
          "data": {
            "application/vnd.jupyter.widget-view+json": {
              "model_id": "8f5cf7fe763541d7ada674cf69235146",
              "version_major": 2,
              "version_minor": 0
            },
            "text/plain": [
              "Map:   0%|          | 0/6586 [00:00<?, ? examples/s]"
            ]
          },
          "metadata": {},
          "output_type": "display_data"
        },
        {
          "name": "stdout",
          "output_type": "stream",
          "text": [
            "\n",
            "» Filtering invalid docs from 'blimp_from_file+null'\n"
          ]
        },
        {
          "name": "stderr",
          "output_type": "stream",
          "text": [
            "INFO:lm_eval.evaluator:\n",
            "» Filtering invalid docs from 'blimp_from_file+null'\n"
          ]
        },
        {
          "data": {
            "application/vnd.jupyter.widget-view+json": {
              "model_id": "88a2c1f3f388410fbb103f82cf521f38",
              "version_major": 2,
              "version_minor": 0
            },
            "text/plain": [
              "Filter:   0%|          | 0/6586 [00:00<?, ? examples/s]"
            ]
          },
          "metadata": {},
          "output_type": "display_data"
        },
        {
          "name": "stdout",
          "output_type": "stream",
          "text": [
            "\n",
            "» Constructing 'blimp_from_file+null' contexts and requests\n"
          ]
        },
        {
          "name": "stderr",
          "output_type": "stream",
          "text": [
            "INFO:lm_eval.evaluator:\n",
            "» Constructing 'blimp_from_file+null' contexts and requests\n",
            "100%|██████████| 6586/6586 [00:01<00:00, 4466.05it/s]"
          ]
        },
        {
          "name": "stdout",
          "output_type": "stream",
          "text": [
            "\n",
            "» Running all `loglikelihood` requests\n"
          ]
        },
        {
          "name": "stderr",
          "output_type": "stream",
          "text": [
            "\n",
            "INFO:lm_eval.evaluator:\n",
            "» Running all `loglikelihood` requests\n",
            "100%|██████████| 13172/13172 [01:29<00:00, 146.40it/s]\n"
          ]
        },
        {
          "name": "stdout",
          "output_type": "stream",
          "text": [
            "npi_licensing:\t58.96%\n"
          ]
        },
        {
          "data": {
            "application/vnd.jupyter.widget-view+json": {
              "model_id": "0b71948567384818b4963ce400aafce0",
              "version_major": 2,
              "version_minor": 0
            },
            "text/plain": [
              "Generating train split:   0%|          | 0/3882 [00:00<?, ? examples/s]"
            ]
          },
          "metadata": {},
          "output_type": "display_data"
        },
        {
          "name": "stdout",
          "output_type": "stream",
          "text": [
            "\n",
            "» Assigning unique IDs to 'blimp_from_file+null' docs\n"
          ]
        },
        {
          "name": "stderr",
          "output_type": "stream",
          "text": [
            "INFO:lm_eval.evaluator:\n",
            "» Assigning unique IDs to 'blimp_from_file+null' docs\n"
          ]
        },
        {
          "data": {
            "application/vnd.jupyter.widget-view+json": {
              "model_id": "d3d0d43dad0741b680ae4d7574564ea8",
              "version_major": 2,
              "version_minor": 0
            },
            "text/plain": [
              "Map:   0%|          | 0/3882 [00:00<?, ? examples/s]"
            ]
          },
          "metadata": {},
          "output_type": "display_data"
        },
        {
          "name": "stdout",
          "output_type": "stream",
          "text": [
            "\n",
            "» Filtering invalid docs from 'blimp_from_file+null'\n"
          ]
        },
        {
          "name": "stderr",
          "output_type": "stream",
          "text": [
            "INFO:lm_eval.evaluator:\n",
            "» Filtering invalid docs from 'blimp_from_file+null'\n"
          ]
        },
        {
          "data": {
            "application/vnd.jupyter.widget-view+json": {
              "model_id": "85a8f56fd0124f54974b0138c5f48f7f",
              "version_major": 2,
              "version_minor": 0
            },
            "text/plain": [
              "Filter:   0%|          | 0/3882 [00:00<?, ? examples/s]"
            ]
          },
          "metadata": {},
          "output_type": "display_data"
        },
        {
          "name": "stdout",
          "output_type": "stream",
          "text": [
            "\n",
            "» Constructing 'blimp_from_file+null' contexts and requests\n"
          ]
        },
        {
          "name": "stderr",
          "output_type": "stream",
          "text": [
            "INFO:lm_eval.evaluator:\n",
            "» Constructing 'blimp_from_file+null' contexts and requests\n",
            "100%|██████████| 3882/3882 [00:00<00:00, 6040.28it/s]"
          ]
        },
        {
          "name": "stdout",
          "output_type": "stream",
          "text": [
            "\n",
            "» Running all `loglikelihood` requests\n"
          ]
        },
        {
          "name": "stderr",
          "output_type": "stream",
          "text": [
            "\n",
            "INFO:lm_eval.evaluator:\n",
            "» Running all `loglikelihood` requests\n",
            "100%|██████████| 7764/7764 [00:53<00:00, 145.67it/s]\n"
          ]
        },
        {
          "name": "stdout",
          "output_type": "stream",
          "text": [
            "quantifiers:\t68.26%\n"
          ]
        },
        {
          "data": {
            "application/vnd.jupyter.widget-view+json": {
              "model_id": "474110ca2582482f910ee7a824ff57d5",
              "version_major": 2,
              "version_minor": 0
            },
            "text/plain": [
              "Generating train split:   0%|          | 0/5535 [00:00<?, ? examples/s]"
            ]
          },
          "metadata": {},
          "output_type": "display_data"
        },
        {
          "name": "stdout",
          "output_type": "stream",
          "text": [
            "\n",
            "» Assigning unique IDs to 'blimp_from_file+null' docs\n"
          ]
        },
        {
          "name": "stderr",
          "output_type": "stream",
          "text": [
            "INFO:lm_eval.evaluator:\n",
            "» Assigning unique IDs to 'blimp_from_file+null' docs\n"
          ]
        },
        {
          "data": {
            "application/vnd.jupyter.widget-view+json": {
              "model_id": "5ca3a41c22744a459082ae4e35b1c9f4",
              "version_major": 2,
              "version_minor": 0
            },
            "text/plain": [
              "Map:   0%|          | 0/5535 [00:00<?, ? examples/s]"
            ]
          },
          "metadata": {},
          "output_type": "display_data"
        },
        {
          "name": "stdout",
          "output_type": "stream",
          "text": [
            "\n",
            "» Filtering invalid docs from 'blimp_from_file+null'\n"
          ]
        },
        {
          "name": "stderr",
          "output_type": "stream",
          "text": [
            "INFO:lm_eval.evaluator:\n",
            "» Filtering invalid docs from 'blimp_from_file+null'\n"
          ]
        },
        {
          "data": {
            "application/vnd.jupyter.widget-view+json": {
              "model_id": "8b919dc634d7493284ec696f252be8d9",
              "version_major": 2,
              "version_minor": 0
            },
            "text/plain": [
              "Filter:   0%|          | 0/5535 [00:00<?, ? examples/s]"
            ]
          },
          "metadata": {},
          "output_type": "display_data"
        },
        {
          "name": "stdout",
          "output_type": "stream",
          "text": [
            "\n",
            "» Constructing 'blimp_from_file+null' contexts and requests\n"
          ]
        },
        {
          "name": "stderr",
          "output_type": "stream",
          "text": [
            "INFO:lm_eval.evaluator:\n",
            "» Constructing 'blimp_from_file+null' contexts and requests\n",
            "100%|██████████| 5535/5535 [00:01<00:00, 3816.89it/s]"
          ]
        },
        {
          "name": "stdout",
          "output_type": "stream",
          "text": [
            "\n",
            "» Running all `loglikelihood` requests\n"
          ]
        },
        {
          "name": "stderr",
          "output_type": "stream",
          "text": [
            "\n",
            "INFO:lm_eval.evaluator:\n",
            "» Running all `loglikelihood` requests\n",
            "100%|██████████| 11070/11070 [01:15<00:00, 147.01it/s]\n"
          ]
        },
        {
          "name": "stdout",
          "output_type": "stream",
          "text": [
            "subject_verb_agreement:\t55.52%\n"
          ]
        },
        {
          "data": {
            "application/vnd.jupyter.widget-view+json": {
              "model_id": "69be18add2384b13a603243069f235e6",
              "version_major": 2,
              "version_minor": 0
            },
            "text/plain": [
              "Generating train split:   0%|          | 0/4394 [00:00<?, ? examples/s]"
            ]
          },
          "metadata": {},
          "output_type": "display_data"
        },
        {
          "name": "stdout",
          "output_type": "stream",
          "text": [
            "\n",
            "» Assigning unique IDs to 'blimp_from_file+null' docs\n"
          ]
        },
        {
          "name": "stderr",
          "output_type": "stream",
          "text": [
            "INFO:lm_eval.evaluator:\n",
            "» Assigning unique IDs to 'blimp_from_file+null' docs\n"
          ]
        },
        {
          "data": {
            "application/vnd.jupyter.widget-view+json": {
              "model_id": "f17c90b35191498e8ba052d3be59878a",
              "version_major": 2,
              "version_minor": 0
            },
            "text/plain": [
              "Map:   0%|          | 0/4394 [00:00<?, ? examples/s]"
            ]
          },
          "metadata": {},
          "output_type": "display_data"
        },
        {
          "name": "stdout",
          "output_type": "stream",
          "text": [
            "\n",
            "» Filtering invalid docs from 'blimp_from_file+null'\n"
          ]
        },
        {
          "name": "stderr",
          "output_type": "stream",
          "text": [
            "INFO:lm_eval.evaluator:\n",
            "» Filtering invalid docs from 'blimp_from_file+null'\n"
          ]
        },
        {
          "data": {
            "application/vnd.jupyter.widget-view+json": {
              "model_id": "964c77f164e54d9d97169e833e614a9d",
              "version_major": 2,
              "version_minor": 0
            },
            "text/plain": [
              "Filter:   0%|          | 0/4394 [00:00<?, ? examples/s]"
            ]
          },
          "metadata": {},
          "output_type": "display_data"
        },
        {
          "name": "stdout",
          "output_type": "stream",
          "text": [
            "\n",
            "» Constructing 'blimp_from_file+null' contexts and requests\n"
          ]
        },
        {
          "name": "stderr",
          "output_type": "stream",
          "text": [
            "INFO:lm_eval.evaluator:\n",
            "» Constructing 'blimp_from_file+null' contexts and requests\n",
            "100%|██████████| 4394/4394 [00:00<00:00, 5889.89it/s]"
          ]
        },
        {
          "name": "stdout",
          "output_type": "stream",
          "text": [
            "\n",
            "» Running all `loglikelihood` requests\n"
          ]
        },
        {
          "name": "stderr",
          "output_type": "stream",
          "text": [
            "\n",
            "INFO:lm_eval.evaluator:\n",
            "» Running all `loglikelihood` requests\n",
            "100%|██████████| 8788/8788 [01:23<00:00, 105.65it/s]\n",
            "/content/evaluation-pipeline/lm_eval/api/task.py:589: RuntimeWarning: divide by zero encountered in divide\n",
            "  if np.argmax(results / completion_len) == target_idx\n"
          ]
        },
        {
          "name": "stdout",
          "output_type": "stream",
          "text": [
            "preposition:\t62.24%\n",
            "\n",
            "Scores:\n",
            "anaphor_agreement:\t66.56%\n",
            "argument_structure:\t62.08%\n",
            "binding:\t61.25%\n",
            "control_raising:\t59.99%\n",
            "determiner_noun_agreement:\t78.16%\n",
            "ellipsis:\t52.08%\n",
            "filler_gap:\t59.77%\n",
            "irregular_forms:\t85.29%\n",
            "island_effects:\t43.80%\n",
            "npi_licensing:\t58.96%\n",
            "quantifiers:\t68.26%\n",
            "subject_verb_agreement:\t55.52%\n",
            "preposition:\t62.24%\n"
          ]
        }
      ],
      "source": [
        "#@title Load model and evaluate (BLiMP) { display-mode: \"form\" }\n",
        "model = \"/content/drive/MyDrive/VU Thesis/Code/baby_models/V20L4/model_e9_v20_l4/\" #@param {\"type\": \"string\"}\n",
        "model_type = \"encoder\" #@param [\"decoder\", \"encoder\", \"encoder-decoder\"]\n",
        "# file_name = \"examples3.csv\" #@param {\"type\": \"string\"}\n",
        "# model_names = [\"opt-125m\", \"opt-350m\", \"opt-1.3b\", \"opt-2.7b\"] #@param {\"type\": \"raw\"}\n",
        "\n",
        "%cd /content/evaluation-pipeline\n",
        "%run /content/evaluation-pipeline/babylm_eval_prep.py \\\n",
        "  \"$model\" \\\n",
        "  \"$model_type\" \\\n",
        "  -t \"blimp_with_preposition\""
      ]
    },
    {
      "cell_type": "markdown",
      "metadata": {
        "id": "sgFKD7OtpLnz"
      },
      "source": [
        "### Epoch 10"
      ]
    },
    {
      "cell_type": "code",
      "execution_count": null,
      "metadata": {
        "colab": {
          "base_uri": "https://localhost:8080/",
          "height": 1000,
          "referenced_widgets": [
            "1c4366869f8c4ef1a3f47e4816b672f4",
            "a2e02262c28a409c9e059b432a8cb328",
            "aee7df34e1c545f18b0a039bc1d53775",
            "31977436525f44eda127cdb8843857ac",
            "0855f4d879a24fa2b38295298e48dd8d",
            "aa9f62c5c4914f05bebdb5cbf3fd6560",
            "1a527df31a844d1ebb5e306096e1680b",
            "33f406d2eb1842b6b3eeebea103070fb",
            "143f51c0c75248b48b7e531c397b2ef0",
            "83d894061d3c4c08993e93dadea18b19",
            "9d8b381aa8054f79beb3704bd57b2121",
            "063d232608b24dfc864d4acaccecc1c8",
            "c934bb3a7058412881106fdc29e4d042",
            "832a575f782a4d8e8b411b00bb8364ee",
            "4c95165af1ef444b841bd7469ee7f99a",
            "ef5163f21ae449449e6193f2037aee49",
            "4a1e6d3622984acbb48679b8ca2c2480",
            "e9c96e8980c049ad8421af4e66c0eeb7",
            "8a77e7c69ee746d0bd811aa3bc08eb2b",
            "f8859fe311a84a89a5c731c525060804",
            "3989810851af4b62b6adaf087f299b12",
            "12e2198a54ae466ab9c50c665de166ad",
            "886efe9c8aa842ebb883b1e856571a6e",
            "ad9ad80b38c04d58a84768b395e375c4",
            "baba46f4d9434b818e8f99ddf3f3c925",
            "76d0f0cddb2c410399a630ae33a80d35",
            "7ccd9a0e87b646f9b071e719d97ccd82",
            "9b20e90a71b943bebcbf86b14f8ac378",
            "11e0c5f3db93496d90bf00d6df136d34",
            "96dda9eaa6ae4661a99645efb9a7d5d2",
            "973899a377724ab49284e477934bba3b",
            "a9059d41e20746f9a74a56c582693d95",
            "8ed09370896947f0bcee9d0a3d30017c",
            "75466317d6154174bf6d371397d60efb",
            "8c31d9665e2449d59e2268076f2b3a1a",
            "e84b860a69dd47da87627616bf063fb6",
            "85981daeca184e959e66a034aac3357f",
            "a63ab071082a4304a73a3c48aeac211c",
            "ed65f1c63fb748d898ed25270b0379f6",
            "4dbb1359ecaa4ba5ae3ce085cfb0c55d",
            "6e4f260348df4674b58e562ef3533f83",
            "ff680c4cc35f4f2c8556894f5d64f0ec",
            "51f18a68fbec47e7ab7b69ab894a4c08",
            "02967303f2244116bb2b5c404ad0b175",
            "15de3a85fd754edc8be8f33e62a75c3b",
            "63fbc473317e4debb431f7e3d5b6c2ee",
            "08fa8dc0274f408e88ec27822e31c891",
            "778d3fb2017043d7826186c08a29ca93",
            "6ff3966670b14114bba44744359852d4",
            "cb5092d172df4729a0b29b188d11ae58",
            "e37f0be823934eaea08700c9e139a67c",
            "7dbf20033ccc41ad97cb990b4b5d5cfa",
            "eade045ccf15403aa9279e3e1808887e",
            "c6f7dbc294da41d7828317cfa117265c",
            "5e62cc7e069f41e48da67de8f3eed0b7",
            "7ca8bc3d0cca497788d03cf89bad6b46",
            "52759befc9ca45aaa353221db81d5b54",
            "dc2fcc7f5faa428fbc6bd1605aa24b84",
            "6ad4a4dc1a664e058f575014c88d793c",
            "84570779330548c895421a961417ace7",
            "1d1339f13189449690d8cd7c843f29e5",
            "a11fe7d8eda24efdb756359a8c19172d",
            "c800353bbc99422bbc8a26d2ae0789e1",
            "9214392dce4141099e03fd1bebbc32e8",
            "00311f4ca3734fff8765d93a2d2a924c",
            "7d12105ad98e40cab709670e93b205fa",
            "01febab8d51a42f0b4d683ada39e6bd6",
            "a88e31e8cd63425a99b2b0c7862e722d",
            "637cd0afbee34bcf8b7862ae133ee2f1",
            "d9fc26a780b740b398cc74702fb78b7e",
            "886e3c5b7c824191806f9e5d26b921ee",
            "f0b2946ff49549739ae9c694e0bff078",
            "1775ed91ba0d4c6b8e1cce6e01d4ef60",
            "168ea52854f24d66b41c890019989232",
            "c955bd62ced24be8b6edffd8d92a8e29",
            "4a9a87e7d9f4472ea6c964f300eb9374",
            "96c2314ae26048fc9ba7d322202d6e59",
            "f795dcda35304fc08efbd495ce8e3835",
            "ccb8af468f9a400fb1a79fa310babea8",
            "e375cb4d5e5a48e7b58902b72bd97f6f",
            "d9b0bc9bde1d443887ca8b456498d634",
            "b465a2891ec8403da3cbe07b3c3c8ec8",
            "6b910d8b96a54e9d8630c7e10d38bdb3",
            "f066baf320174e549340a477e71a40e4",
            "6ecf55dca9f44fd792c4eef2394514bc",
            "f1f1ed8588594711adac55dcb433c4c2",
            "f9f2dd13456f4a09b720780dc8a77944",
            "34049b656b924a4c9cd8941e88b9f968",
            "887e15166ecc41e1bed481525d474322",
            "f30b9a3853b64c3dbc85de22d565bec8",
            "a05ea11b4da346c3b0c1352d5f3eff36",
            "ca9aa9f71b1141d7916d391c60015704",
            "e21be369ddd6448288ef503a664b2487",
            "a2ce24e955d64ebf8a3cbd05a53ffa58",
            "40bb205c118540718c79ac27b52e8e2e",
            "e7875e6613744d2c9d1ab615a5a18a21",
            "b2b2b18844664eecb7ef38da910ce7f7",
            "0c6657ecc2f64a7d943d8c13cbe22d23",
            "e130a40377724b5c87ca80840575009f",
            "b71e331ff1714a399c5c1ad270d5219e",
            "82da3e528a7b4e01bbe16fa219388695",
            "9c48e67166934789802a21e481946622",
            "38cc301b615e4427b4eeac654f0f2d7b",
            "35d303888843492d91dfaccca1b188df",
            "e2b4a0047f42480f874e5add4ec4c8d6",
            "33d7a5566f21470db425fd6198fb04f1",
            "851fabcb128646929484463d88b4783e",
            "f01dc10ea3b34efcb720c44936f98796",
            "2f9e4524b22946c6bd5d7e3c6658867d",
            "3825e3ff6caa49d1b2f5de952725af0b",
            "a8b7c8c96daa49b688edd45eb3ac834c",
            "1a9614584bd54f2695bc9d5ac542ba75",
            "0370db3d4fe04fd2a99a46e081b280d0",
            "96b3cd56486b4d3fab8f91d66f106119",
            "449b022329664dd3b7b515a17aba6306",
            "775e6d5a4a884abaafcad4e2042279fd",
            "59b9a1ff89fa4160ae25d5263912af88",
            "772a37373aa24d5eabb30cabceb4d190",
            "3627a564e688423db29ba6b94f547a54",
            "b4d625571cd04999b2a79c03a10c39c8",
            "f0e028b1f2b843aa81a2b6624c990d83",
            "d2c42ab4a3314ef58d51481223de6807",
            "723f1fa876cb4139aca2433618349b12",
            "c3c9407bb17e4e6d89fb21e58091099c",
            "e5c3ffc58718422d953133357dca2931",
            "e5159761af8441d68fa00dd7b86e07ab",
            "fc23d89c0c1443cdb20f8256f4d6da89",
            "1119c788ace2454187787d2b8b20cccc",
            "954346c21fef48a28c8fabc2c2a9a04e",
            "693e1c00c17446bd98c9f21c3bf0e1c3",
            "156c75c2add14273856a77c729638887",
            "50f03d433acc4d509c89013da71f2c42",
            "734c1d6aeedc40a39cb373135208c9b4",
            "a249f7533b9544b68e843463d9124abe",
            "75950756b4a64899be3e05a62913bc1e",
            "16737cbe12dd464885e921ec8047ee98",
            "aadfbd4a6156441ba4254710c4ead7ac",
            "6b51279cc0e7483c9c925e27dc97d073",
            "10f34eb03b8b42d794751e5f4720da4e",
            "9e5757143f8a4a72aedece043c357a95",
            "3d183dde6b114ed98c97d1cff4911c35",
            "ea8438d9d2a348e5bab1bf9f350ce047",
            "c92e7d0a03b24395b3add14f3ad97376",
            "3768abb9074745c18c3420a9d9c959cb",
            "57967ea7995b44e389dc7dd1bf8a7161",
            "7a281989db6944e7808c0ac0419e9a68",
            "3d5df871310c49198207f4e00d365f79",
            "4d457bda5de84335a5f5f6ae2b014a54",
            "bc971e443c3e4cdea7830b7484069b8e",
            "7464d9e75c4f46e8922324a6cef1f0a0",
            "0fec344d14ac4607bb0066b124d9bcb1",
            "c7c4c62695fe43589616d82081d39605",
            "518b1fbc3312463e91b5b2e9aaf2f613",
            "cce7ab79f7384bdab54ac100579f3b24",
            "a6c083d9ace64f0ab430b5968f1bdb09",
            "7a61b9051bd0454facd907de21158a2d",
            "8a602e35798c4b368b547fb284abe878",
            "e9c7615ad57b4ceabaae5dd666eb5534",
            "bfd4203e6c6c4b67a12a36f1a5d45dd3",
            "ef20d341099a4dc5bc466ffaa190a1e7",
            "335a798f56ab41d99b8e27da1a6624ca",
            "87ebd2643dba4be4b2807e3ef9770283",
            "c21a605194434afd865d741b8baefc85",
            "4aa0418a22bf408db2763851ac424e86",
            "8c0bcb019ec74e04af03b26e4cd4cf1c",
            "01d1466e0405420b8f80ec203c6ce0ff",
            "a6c3c210413b42e9b6fd1c33305a60a5",
            "7304300a0b174a38ad3742f53ca41896",
            "0e867c40d3774434b16313803b086476",
            "415de89ab45943179fbc23222cf06e6d",
            "0a72aab8c8bc4fd9b6744b5461c0ecd2",
            "98bba8b584254429abd2b3d5efa6c23e",
            "699a292a17354c2c8b20039cb24451de",
            "910b3d7df638400fb648b9258adbafdf",
            "cacffd2abc91401599411d739e48bbd6",
            "3ed0139aa97f49c586e8621ee80e1caa",
            "d961ecf1f9b747199731b675532ae223",
            "00ca3a45896c4c70abb69cfcdd82da6b",
            "1eee5e06b99f492389d552005ae8ac00",
            "efbdc11f5c6946f7812b0e9de77a22b3",
            "58f6a7f8600b4ab4b7ca8e46f03a6264",
            "e73674a7ffd74b60acd1029232c74054",
            "5c0b741cca2447b2b0054a9b136d89a2",
            "e827dbf691744c2d8de4fdd7a973f454",
            "16602cec5a6b409b92fe98b230f0682c",
            "264861be61e74ec4aaa6f51ff072dceb",
            "46fa53d09c2e4a9fa6e1cf106dc64a39",
            "ef97c5ee8bc84a39840459e3ca668faf",
            "288a6674b9454148ab58bd1a7c71c453",
            "f3c459df81434ea3864c80dbb816776b",
            "12e7616f3a4c4cbd917976ea3b24e0a1",
            "76be47b6d1b54de7984e0230c2e3eee9",
            "b394adf2d1124b0eacb2a1a00c5d7f8a",
            "dee605a92b8f4dbb8889177dcbeaaf2a",
            "245eb519cb0b4b1e96afc38bbee36b81",
            "ed32cc674be8466c9a86f7d9dd9f0369",
            "d610e77b2ccd44a384ebd5901b2a3bcd",
            "1a01471dfb3e4d199626056f9565f755",
            "d040b6545dc64af3ae93e3724147bf4a",
            "4b84624d0579482898f3cef42b0d6a9f",
            "d75cdf42c0e244759b683b74e6f7709b",
            "0c29faafaef44a1bb149d0350fa0229a",
            "db02b4c8ec1245fbb8fda5b5c73a7704",
            "28f2bb30548c412fbca161b1d0dd8ce6",
            "9d34cea25bdd42739bf95b37d14a086c",
            "1b859bb6b0e84d53b76aed9982935bb0",
            "39be1c6b357846599dddb8ba3bdb9ee2",
            "d984547cfc9b42f5b06b1b71f3254f2d",
            "eac1a38172aa41c6a47fd85d964eb6ee",
            "c622a4d1d66844a4be48e07d649566cb",
            "c0c6690aa32f4bffad759506755a8a74",
            "2c3b98a38d9541ab87bbc0c58dc608f3",
            "cae5192c237844e6b51b650389ad8993",
            "ad322dc976904611867cf8ed7f3ba678",
            "baafd205b10c43f59e08fb596b59991c",
            "f5c108870c604591aa48b070ee768319",
            "fa17c2562c1b4af78749e7edcdebc8ac",
            "f730bf25b46244f4bb20c286698413d1",
            "f5013837967842279865775c2722b629",
            "4be35f8a2c1e4a2692df9ae9ca448db0",
            "9c80b606416a4a1c8fe2543cd0f3f7ec",
            "b8ef6df38414409fb37a00c54d18c217",
            "3fa075499cfd4d7bbb5458cf7a4f89a7",
            "791b65acc2914f20a4abddbe498f16cc",
            "b57e03059ac4427082e4df85729d3f6f",
            "1711f60423b94b199dd264ed69761017",
            "1e706967bb9a4ebd9f172ed501237632",
            "749e46a4c07e4b8aa1648e0425279f4f",
            "49bbc6010e13468a89fecbd1c5a4718d",
            "9fed8044c1f3490988ca149d5a94b3b2",
            "91f0adf1f3c8477d9607e6beb131d9b0",
            "5ae979e3e1b6470a980a640271c5c58a",
            "95d04b1d1114405fac8e45b574647846",
            "61352761432f46de8fd108a94f92423c",
            "2e5a1208d395483b8c72430a9d6d47ad",
            "bf784dd4c7d249879ae1b339c391e90a",
            "936f7cfa7dd54055abddfcb23fca79d7",
            "98066e1b623c4633b1396dd545f7bb8a",
            "a4168f81a3b342da8d86a74c058318b8",
            "18025d90c9a847b98ed113a3a2b26e02",
            "17dc694d3af846118c320fbac8d4dec1",
            "ce2386a3f7d94595822c5efb9f2a0163",
            "429d1f0af14c4ebf8e9de6f393b1bbfc",
            "7fa11e449e7c46efaf761b1e095c5b3f",
            "da9166ac7d6e4ccb936c4de85650a9e8",
            "d8ea45174e2c4d20a87d12359c3c81cc",
            "6791b78fb9264fc588701c12d6940bcf",
            "b749cc9444d0410aaf0feff7e003d882",
            "90d969c7c88c468784e7d93ef641185f",
            "da6cca944f294f849fddb5ec05d94fbb",
            "f69be503527a42b6b4c90af9cecc05d3",
            "efe24c3ad9894fb39f2078d14991d0e9",
            "8ab2696749c94ed6ba8320b31ef144f8",
            "14865d32ad4842ff984e9cb56d4e4e96",
            "2799750dd0c04c328b46cfd475b1b9ab",
            "faf1f82b18074aea996e42f57a97260e",
            "3c9d53f4d2f5473a92d5ed4c92fd11f7",
            "d10f746039714f5aa5235c86a86ef657",
            "85bf2d0c7bcd415781989c9589eab577",
            "83855b2c4d4a4f80b0752b4cceb17918",
            "b0bf10c7ca1c4397bbc80a0383986d09",
            "68282d6414ca44eeac5db65fb7b60ae8",
            "24a1b98782c4426b95cab101b55c1841",
            "d5ca24806cd9413e8bdeb2f54e703fc6",
            "706cd34d4de54e40be391d21f084120e",
            "5dcaf296304e43cfb64da361b667e144",
            "b1bae4101cb044c7afa139ffdec9fa6e",
            "bf7f4058eb694d6ab399d8b5c81be3dd",
            "a22ae3bc06b14cf3bcf7a7b7987ae70c",
            "df976b13f5d24bc98bfe5b1f8f354950",
            "e08fa0b76e2b4e1ca0dab6c31e17c06e",
            "c057826016fc451b825a10ff12349dca",
            "7ed85eca666e42c18448687dd55302dc",
            "b22c07ed5d2b464e863a1a822bdc6b90",
            "17cb2128c8cc415381c6cadef42fdcb0",
            "7dec32ee0ab54ad4aab817f91c68e4f7",
            "9435b04ade2c450298d945367136a155",
            "2618c4498e03484985f5eb5ddbcb9d4c",
            "3b9a9a66b3e34503a464bf783c25c084",
            "3fba191401614c299d4f8c3c0b7fff80",
            "9057ee884397474d8ed27c9291fbe663",
            "75fd75e7bbdb4e078572ce954eb77c46",
            "bd18cf015ef2445dbde03345eb53f92c",
            "b9a681ca159a49198412e4d769f31620",
            "d215e0355497464aa8cad57e57f2ebe4",
            "c2fc1524b4c74aac904c6747ccea0c20",
            "6afc3a0a63744148b15381daf9127e74",
            "c04bea65cffe4612a41535158dd8ecd0",
            "dee235b265c44dfe96f48383432bfd5f",
            "aff83296deda4f5bb9ab513bc56db081",
            "6570d9a783ea442eb58b742878d9fe4a",
            "5c02bd8c44eb4ccb885dc0164ad6916c",
            "d0ff244ee19c44859996b61ab8ae1ec0",
            "35cca44694f3418a966f3cbc73617be4",
            "82c0abe0f45143bf911b59ad16b761f4",
            "4ac2424c28be44288ce80b586c1ffbbc",
            "326317db9e104c66978e350a63e71c95",
            "157e01b2465e49159be0965a007c0474",
            "4f9ad6f6a51a4f078b54920b449d8685",
            "9dc50782115d403d81439f2ea834a347",
            "5fa180362f6646c4bbb8be5947ba0fbb",
            "5be9bba9c8b043eaaba37a7969a10ea5",
            "b0cf4e2dcb6f490f9ea052ce47a2b717",
            "218f38bd24294d459e91581abcc0ec15",
            "6c782c27b65c49249359a37c739088a3",
            "8885c8a045ed425b8e998175dc24d2e1",
            "426282ec5078483d91b10652a77c2ef7",
            "f756caf76bec4bafa9048ec1ac5c9e97",
            "b42f333dcaa64194bc41e81c2822c686",
            "3f634578a801469b80667ba62697bf58",
            "ba2f66f43f9041fbb3a589fd845b6654",
            "daf76a359bb949e0a696572b5769424b",
            "cdef3a2993334010ac394320a40d7af2",
            "0cd2cac828e84b9c87649d4e7376022b",
            "a08e099147014601b53934d942e944ca",
            "255b8c7d1de1409daf81d5fd402599ad",
            "d31c69945ecb494095f023ddd9e5881f",
            "187298824b3843af870be9f154da2476",
            "013fe2c6b7174587855ba74e7e977e02",
            "7b787c9517964746a3b4eba3b6dd6645",
            "dbc6831f10654f8c913d188e1e5fd540",
            "3f068ccf499745a5b77ed59f6a77b0ce",
            "e657482ed3504b94a21bf51917aa08bc",
            "fc969b987cc449d1850f8b95f056ed9f",
            "a08c98cdb9fc45b98ffb1cca958cb88c",
            "9dccc81366ff4d98b505173c94eebd73",
            "1902795723fe46b1936513226d174653",
            "a41c36bcb4f046ccb3f3be266f54f58d",
            "9f9b4df6e9574b499b80e78fedea2630",
            "0b931f7d59fc4f368d9092cb7682ad03",
            "62a26a4cf5ae435fa3a22a189e2e57d8",
            "b31494a7bbb245c992724c50e6d334c3",
            "59171453caee4eddaa34b77ade9d7e60",
            "2f55b8679c9f4dbd9662843359ea2369",
            "1d0cc67fc2dd45948764fa52045219e7",
            "e85a00d8d41f451f870c0e3a38a417fb",
            "87de0e3cfada4b2ca6fa4e2357f7af72",
            "49de1dfe6fe742258e4c8f6168031e86",
            "96bec7d3da194ff5a5eba2b2aa9fae98",
            "8144725da4744957b625206e209cdba3",
            "75bc5eff08f547288391b772c3c76c84",
            "7ef929de102140fdb581e2702287be97",
            "d3f300e1aecf46d0969a24847da6c900",
            "884290a176d644b2b2f5e12a658999cf",
            "74c31bec5b2441bdbcf4dd85b65133cf",
            "835d7aeef1dc42fdb77b0499dc260951",
            "89247b096f2b4603aacd7e5d4865a23d",
            "d236586665ef42dc9a71b86a84bb5075",
            "c8d84d6eda9e475386d2878f57f79342",
            "c8b08b770b454ce39f0e84b8f697af80",
            "60a54a2ad0fd4838ae472bfd3c931111",
            "54f0c58458234b59a9ace25d7823b310",
            "8858cb2a35c94858b7c479990e72b051",
            "f44ba2d044604c91b6c26828a79e74d4",
            "7bffd3db8cbf407dadde2368de7746e2",
            "6b22ef3d9a924187993a00c8bb27a1a8",
            "cb9874f8806043cd80ea7bb4849537ea",
            "5b140ec835e04ad6b4a5fb568188cd4c",
            "02230d0156d64cf28129760009349738",
            "66c42ba477e84ec8ad69bec22877d544",
            "9f36179b0b1d41d5847997beebfb973e",
            "de35a21779874223bc1989ff9b1ed487",
            "b548fe3d3e634458a81e6abeaf88af5a",
            "a138f6b27f094a3491c1b8139123ecb4",
            "aa3f06303d62417e889c9aba5331c05a",
            "5538b29b5f6840f38b29b2a2f2d1cd76",
            "b7613efc7cc0423c9866e8ce400a6b99",
            "8a4ad7a1f632469599ca74167e9aa995",
            "173ae87bb71644ea83c2fb3709f93923",
            "6d205bb8b9794bd7b8ad0e0dcbe913dd",
            "712ba07552664a319f49f8629e11b45e",
            "0144ac84e1b64d5dbb4f53fefdec96f1",
            "ccce825ce00d45a6994cd93d8ba64c52",
            "50429ecef363470bae01913bbdc2bf31",
            "3679d85fc42b44a495f24768c4f60bd8",
            "3501184817914e1c9f4d29b222f7e2ee",
            "bd88b206665b4705a40059c8e885635c",
            "8413aba8d8354f35b221140578f69eb2",
            "ce30187478cc4b26bcdebb1ed4a98fe5",
            "ef6c08d4d4d84be983f28c97fd67c00c",
            "c838d057d4a54c3285d72c659fb44896",
            "1bf4fdc725924e518533ec6d57378f46",
            "f55642f4fadf4d60a50457f265b97843",
            "974a5c7d31cc487093acbc192dc50852",
            "ae354b96913b4673a6558c3975c37264",
            "93e311013000451e9f8f25b6e105e337",
            "5018f1712a004e6a9f6f69afef1feb07",
            "c0d75c28da8d4948af5b049d641a2703",
            "c19ba4c2aa8b4f96a36c56d361cb191b",
            "0c5f7add0ea44393a45e2adf20193fd4",
            "c163a2f4011c4820b4b122e818160dcf",
            "f88e98f281c24975b379c6eb2dc320e6",
            "3672fb8f7a274997b07f659b35111554",
            "81647269579c46c4a128b5b76ed92b27",
            "1e320249741649e3b6811dea7c5d782d",
            "9e1cf13c52394fe780fc170ec733b64d",
            "1941206d33704b9fb68eac94845d1f46",
            "cec4f8c2732042f394705513a936b9e1",
            "4b457b336ed24e24b3af3020b5a32d8a",
            "fc17bfdcc5b744cb93f7b5f87b36de71",
            "8dbd06a5d294488fa3b3f67c47e65a35",
            "84dd2a99477e48d0a66f68beb3e90294",
            "68dc061862374526add29aef5113cce9",
            "611ca0b177284e44bf7e211cd64ce427",
            "163a8318a8ea4447b0e178d3f974eb95",
            "931d8fd1b38648cca357dd126d2d48bc",
            "c7b7b244cfda4d89b8fb3b3cfe395658",
            "3cc5e5b1274341ba9308ec604884c579",
            "c0a06bca890d45ee89c9261ecaba7e4e",
            "c20b499f6fd04d9eb3ec102dc7d31a65",
            "161713a903c149e9a9cbb7128177759f",
            "9db0d6068c9d4caaa2a9c13cbe1aa3ef",
            "f264ff0896464e68af2e47869717f7e7",
            "91e0bf1c15024c61841d75b5abf7fa59",
            "1908fa975e3c44b6b36831fb0a0a587d",
            "607938d19f0d4ee390c67644ef67d9a0",
            "3e2d65a79a9b43ad9860f7a326af5e2f",
            "5c46674e7ff34bd38e99ebfb41382a41",
            "476b02dd2c60456fb9a2ab415008be8c",
            "78f7a070995f4ae49a1e0bb7ced745c2",
            "730e122492184ac19a1726f431a60989",
            "b75afd6d32c9490398b11a6fb0588f85",
            "2257753a31144a098d030e3cee26221c",
            "c32695173c484fc1a908e8e6c5f3ddd9",
            "e59870b4493447e4bb37d5d3b9f65087",
            "f30f6fcdb3b341af971d8d401fd962ab",
            "d469c6f634d94a0ebc9548707f795774",
            "9f64c20a10984121894a259ad17ef97b",
            "b311ef958ceb482094c992b3a022ec4f",
            "8f9f81ba453f410a973db39af174444b",
            "adbd41ebadd54d82aa912dd802958159",
            "12b0510a6b6640c0b4b36aa51430a533",
            "3710633a0e12407989ca68a6dd24c01c",
            "40438058ff904bf789155e066836b0e4",
            "07e8eaedce944c1991fb87ef4ca19caf",
            "f1f93f7cfa614c76a16a88bb388b0522",
            "13679c35e7f7423cbd3ea04689ce4cf8",
            "bdcff344f7164229b5271700c5aae271",
            "c8b2879daf71403d957d5ace9581192d",
            "53274421bc304d1a9a52bf978f45654b",
            "2adf8c4a01bf482f8386e91cf6d190c4",
            "09a229f180bd4d1fa926b0a9260226fe",
            "1c650482a5414e5c8d9a6e53c67d4ea1",
            "c67c6229488d44ef8cbd00ebce1b9a00",
            "e82bbb3295c74542a65157217674e076",
            "cce2dc2be08b408182186deedcc499b0",
            "990e293f0bb7484fb16c41c44c2c025d",
            "034433c2569340e982e6b7c69f1e28a0",
            "65f30d1efabe49288b1ceec3f16877b5",
            "c95509a805c8460aa2d97da4083cdc2b",
            "81725bbc45444b4aa6cb90bc7a6b3156",
            "97d82f70f05f4863baac21cce6eae624",
            "33b25aa16e3d45c6b329380eb35117e8",
            "edd37fe30b45427da4792f25903e94fd",
            "373783011af84a938e396d62b093dfdf",
            "2ccaaf9795fa4551ab2453755ddb2102",
            "7883b1f917e04b719c3ba446c037040e",
            "e4ee5d3ac4474624b8f1935167f40fe7",
            "c6f7e76bf9064c53adfdd1385914432b",
            "3be44b49f410437598b026443f2b1c76",
            "d1b31e0ce44d43619c7fbd95df89d944",
            "89b2bdaeee74482f867743644d47d669"
          ]
        },
        "id": "A-krqtl6u5Gb",
        "outputId": "268fe5cb-11e8-4bc1-d0a1-10f47c3b2e47"
      },
      "outputs": [
        {
          "name": "stdout",
          "output_type": "stream",
          "text": [
            "/content/evaluation-pipeline\n"
          ]
        },
        {
          "data": {
            "application/vnd.jupyter.widget-view+json": {
              "model_id": "1c4366869f8c4ef1a3f47e4816b672f4",
              "version_major": 2,
              "version_minor": 0
            },
            "text/plain": [
              "Generating train split:   0%|          | 0/1956 [00:00<?, ? examples/s]"
            ]
          },
          "metadata": {},
          "output_type": "display_data"
        },
        {
          "name": "stdout",
          "output_type": "stream",
          "text": [
            "\n",
            "» Assigning unique IDs to 'blimp_from_file+null' docs\n"
          ]
        },
        {
          "name": "stderr",
          "output_type": "stream",
          "text": [
            "INFO:lm_eval.evaluator:\n",
            "» Assigning unique IDs to 'blimp_from_file+null' docs\n"
          ]
        },
        {
          "data": {
            "application/vnd.jupyter.widget-view+json": {
              "model_id": "063d232608b24dfc864d4acaccecc1c8",
              "version_major": 2,
              "version_minor": 0
            },
            "text/plain": [
              "Map:   0%|          | 0/1956 [00:00<?, ? examples/s]"
            ]
          },
          "metadata": {},
          "output_type": "display_data"
        },
        {
          "name": "stdout",
          "output_type": "stream",
          "text": [
            "\n",
            "» Filtering invalid docs from 'blimp_from_file+null'\n"
          ]
        },
        {
          "name": "stderr",
          "output_type": "stream",
          "text": [
            "INFO:lm_eval.evaluator:\n",
            "» Filtering invalid docs from 'blimp_from_file+null'\n"
          ]
        },
        {
          "data": {
            "application/vnd.jupyter.widget-view+json": {
              "model_id": "886efe9c8aa842ebb883b1e856571a6e",
              "version_major": 2,
              "version_minor": 0
            },
            "text/plain": [
              "Filter:   0%|          | 0/1956 [00:00<?, ? examples/s]"
            ]
          },
          "metadata": {},
          "output_type": "display_data"
        },
        {
          "name": "stdout",
          "output_type": "stream",
          "text": [
            "\n",
            "» Constructing 'blimp_from_file+null' contexts and requests\n"
          ]
        },
        {
          "name": "stderr",
          "output_type": "stream",
          "text": [
            "INFO:lm_eval.evaluator:\n",
            "» Constructing 'blimp_from_file+null' contexts and requests\n",
            "100%|██████████| 1956/1956 [00:00<00:00, 6112.06it/s]"
          ]
        },
        {
          "name": "stdout",
          "output_type": "stream",
          "text": [
            "\n",
            "» Running all `loglikelihood` requests\n"
          ]
        },
        {
          "name": "stderr",
          "output_type": "stream",
          "text": [
            "\n",
            "INFO:lm_eval.evaluator:\n",
            "» Running all `loglikelihood` requests\n",
            "100%|██████████| 3912/3912 [00:25<00:00, 154.95it/s]\n"
          ]
        },
        {
          "name": "stdout",
          "output_type": "stream",
          "text": [
            "anaphor_agreement:\t64.98%\n"
          ]
        },
        {
          "data": {
            "application/vnd.jupyter.widget-view+json": {
              "model_id": "75466317d6154174bf6d371397d60efb",
              "version_major": 2,
              "version_minor": 0
            },
            "text/plain": [
              "Generating train split:   0%|          | 0/8248 [00:00<?, ? examples/s]"
            ]
          },
          "metadata": {},
          "output_type": "display_data"
        },
        {
          "name": "stdout",
          "output_type": "stream",
          "text": [
            "\n",
            "» Assigning unique IDs to 'blimp_from_file+null' docs\n"
          ]
        },
        {
          "name": "stderr",
          "output_type": "stream",
          "text": [
            "INFO:lm_eval.evaluator:\n",
            "» Assigning unique IDs to 'blimp_from_file+null' docs\n"
          ]
        },
        {
          "data": {
            "application/vnd.jupyter.widget-view+json": {
              "model_id": "15de3a85fd754edc8be8f33e62a75c3b",
              "version_major": 2,
              "version_minor": 0
            },
            "text/plain": [
              "Map:   0%|          | 0/8248 [00:00<?, ? examples/s]"
            ]
          },
          "metadata": {},
          "output_type": "display_data"
        },
        {
          "name": "stdout",
          "output_type": "stream",
          "text": [
            "\n",
            "» Filtering invalid docs from 'blimp_from_file+null'\n"
          ]
        },
        {
          "name": "stderr",
          "output_type": "stream",
          "text": [
            "INFO:lm_eval.evaluator:\n",
            "» Filtering invalid docs from 'blimp_from_file+null'\n"
          ]
        },
        {
          "data": {
            "application/vnd.jupyter.widget-view+json": {
              "model_id": "7ca8bc3d0cca497788d03cf89bad6b46",
              "version_major": 2,
              "version_minor": 0
            },
            "text/plain": [
              "Filter:   0%|          | 0/8248 [00:00<?, ? examples/s]"
            ]
          },
          "metadata": {},
          "output_type": "display_data"
        },
        {
          "name": "stdout",
          "output_type": "stream",
          "text": [
            "\n",
            "» Constructing 'blimp_from_file+null' contexts and requests\n"
          ]
        },
        {
          "name": "stderr",
          "output_type": "stream",
          "text": [
            "INFO:lm_eval.evaluator:\n",
            "» Constructing 'blimp_from_file+null' contexts and requests\n",
            "100%|██████████| 8248/8248 [00:01<00:00, 6093.63it/s]"
          ]
        },
        {
          "name": "stdout",
          "output_type": "stream",
          "text": [
            "\n",
            "» Running all `loglikelihood` requests\n"
          ]
        },
        {
          "name": "stderr",
          "output_type": "stream",
          "text": [
            "\n",
            "INFO:lm_eval.evaluator:\n",
            "» Running all `loglikelihood` requests\n",
            "100%|██████████| 16496/16496 [01:49<00:00, 151.26it/s]\n"
          ]
        },
        {
          "name": "stdout",
          "output_type": "stream",
          "text": [
            "argument_structure:\t62.43%\n"
          ]
        },
        {
          "data": {
            "application/vnd.jupyter.widget-view+json": {
              "model_id": "01febab8d51a42f0b4d683ada39e6bd6",
              "version_major": 2,
              "version_minor": 0
            },
            "text/plain": [
              "Generating train split:   0%|          | 0/6738 [00:00<?, ? examples/s]"
            ]
          },
          "metadata": {},
          "output_type": "display_data"
        },
        {
          "name": "stdout",
          "output_type": "stream",
          "text": [
            "\n",
            "» Assigning unique IDs to 'blimp_from_file+null' docs\n"
          ]
        },
        {
          "name": "stderr",
          "output_type": "stream",
          "text": [
            "INFO:lm_eval.evaluator:\n",
            "» Assigning unique IDs to 'blimp_from_file+null' docs\n"
          ]
        },
        {
          "data": {
            "application/vnd.jupyter.widget-view+json": {
              "model_id": "f795dcda35304fc08efbd495ce8e3835",
              "version_major": 2,
              "version_minor": 0
            },
            "text/plain": [
              "Map:   0%|          | 0/6738 [00:00<?, ? examples/s]"
            ]
          },
          "metadata": {},
          "output_type": "display_data"
        },
        {
          "name": "stdout",
          "output_type": "stream",
          "text": [
            "\n",
            "» Filtering invalid docs from 'blimp_from_file+null'\n"
          ]
        },
        {
          "name": "stderr",
          "output_type": "stream",
          "text": [
            "INFO:lm_eval.evaluator:\n",
            "» Filtering invalid docs from 'blimp_from_file+null'\n"
          ]
        },
        {
          "data": {
            "application/vnd.jupyter.widget-view+json": {
              "model_id": "887e15166ecc41e1bed481525d474322",
              "version_major": 2,
              "version_minor": 0
            },
            "text/plain": [
              "Filter:   0%|          | 0/6738 [00:00<?, ? examples/s]"
            ]
          },
          "metadata": {},
          "output_type": "display_data"
        },
        {
          "name": "stdout",
          "output_type": "stream",
          "text": [
            "\n",
            "» Constructing 'blimp_from_file+null' contexts and requests\n"
          ]
        },
        {
          "name": "stderr",
          "output_type": "stream",
          "text": [
            "INFO:lm_eval.evaluator:\n",
            "» Constructing 'blimp_from_file+null' contexts and requests\n",
            "100%|██████████| 6738/6738 [00:01<00:00, 6082.33it/s]"
          ]
        },
        {
          "name": "stdout",
          "output_type": "stream",
          "text": [
            "\n",
            "» Running all `loglikelihood` requests\n"
          ]
        },
        {
          "name": "stderr",
          "output_type": "stream",
          "text": [
            "\n",
            "INFO:lm_eval.evaluator:\n",
            "» Running all `loglikelihood` requests\n",
            "100%|██████████| 13476/13476 [01:34<00:00, 142.75it/s]\n"
          ]
        },
        {
          "name": "stdout",
          "output_type": "stream",
          "text": [
            "binding:\t61.59%\n"
          ]
        },
        {
          "data": {
            "application/vnd.jupyter.widget-view+json": {
              "model_id": "b71e331ff1714a399c5c1ad270d5219e",
              "version_major": 2,
              "version_minor": 0
            },
            "text/plain": [
              "Generating train split:   0%|          | 0/4526 [00:00<?, ? examples/s]"
            ]
          },
          "metadata": {},
          "output_type": "display_data"
        },
        {
          "name": "stdout",
          "output_type": "stream",
          "text": [
            "\n",
            "» Assigning unique IDs to 'blimp_from_file+null' docs\n"
          ]
        },
        {
          "name": "stderr",
          "output_type": "stream",
          "text": [
            "INFO:lm_eval.evaluator:\n",
            "» Assigning unique IDs to 'blimp_from_file+null' docs\n"
          ]
        },
        {
          "data": {
            "application/vnd.jupyter.widget-view+json": {
              "model_id": "a8b7c8c96daa49b688edd45eb3ac834c",
              "version_major": 2,
              "version_minor": 0
            },
            "text/plain": [
              "Map:   0%|          | 0/4526 [00:00<?, ? examples/s]"
            ]
          },
          "metadata": {},
          "output_type": "display_data"
        },
        {
          "name": "stdout",
          "output_type": "stream",
          "text": [
            "\n",
            "» Filtering invalid docs from 'blimp_from_file+null'\n"
          ]
        },
        {
          "name": "stderr",
          "output_type": "stream",
          "text": [
            "INFO:lm_eval.evaluator:\n",
            "» Filtering invalid docs from 'blimp_from_file+null'\n"
          ]
        },
        {
          "data": {
            "application/vnd.jupyter.widget-view+json": {
              "model_id": "d2c42ab4a3314ef58d51481223de6807",
              "version_major": 2,
              "version_minor": 0
            },
            "text/plain": [
              "Filter:   0%|          | 0/4526 [00:00<?, ? examples/s]"
            ]
          },
          "metadata": {},
          "output_type": "display_data"
        },
        {
          "name": "stdout",
          "output_type": "stream",
          "text": [
            "\n",
            "» Constructing 'blimp_from_file+null' contexts and requests\n"
          ]
        },
        {
          "name": "stderr",
          "output_type": "stream",
          "text": [
            "INFO:lm_eval.evaluator:\n",
            "» Constructing 'blimp_from_file+null' contexts and requests\n",
            "100%|██████████| 4526/4526 [00:00<00:00, 6187.40it/s]"
          ]
        },
        {
          "name": "stdout",
          "output_type": "stream",
          "text": [
            "\n",
            "» Running all `loglikelihood` requests\n"
          ]
        },
        {
          "name": "stderr",
          "output_type": "stream",
          "text": [
            "\n",
            "INFO:lm_eval.evaluator:\n",
            "» Running all `loglikelihood` requests\n",
            "100%|██████████| 9052/9052 [01:05<00:00, 137.45it/s]\n"
          ]
        },
        {
          "name": "stdout",
          "output_type": "stream",
          "text": [
            "control_raising:\t59.77%\n"
          ]
        },
        {
          "data": {
            "application/vnd.jupyter.widget-view+json": {
              "model_id": "734c1d6aeedc40a39cb373135208c9b4",
              "version_major": 2,
              "version_minor": 0
            },
            "text/plain": [
              "Generating train split:   0%|          | 0/7542 [00:00<?, ? examples/s]"
            ]
          },
          "metadata": {},
          "output_type": "display_data"
        },
        {
          "name": "stdout",
          "output_type": "stream",
          "text": [
            "\n",
            "» Assigning unique IDs to 'blimp_from_file+null' docs\n"
          ]
        },
        {
          "name": "stderr",
          "output_type": "stream",
          "text": [
            "INFO:lm_eval.evaluator:\n",
            "» Assigning unique IDs to 'blimp_from_file+null' docs\n"
          ]
        },
        {
          "data": {
            "application/vnd.jupyter.widget-view+json": {
              "model_id": "3768abb9074745c18c3420a9d9c959cb",
              "version_major": 2,
              "version_minor": 0
            },
            "text/plain": [
              "Map:   0%|          | 0/7542 [00:00<?, ? examples/s]"
            ]
          },
          "metadata": {},
          "output_type": "display_data"
        },
        {
          "name": "stdout",
          "output_type": "stream",
          "text": [
            "\n",
            "» Filtering invalid docs from 'blimp_from_file+null'\n"
          ]
        },
        {
          "name": "stderr",
          "output_type": "stream",
          "text": [
            "INFO:lm_eval.evaluator:\n",
            "» Filtering invalid docs from 'blimp_from_file+null'\n"
          ]
        },
        {
          "data": {
            "application/vnd.jupyter.widget-view+json": {
              "model_id": "a6c083d9ace64f0ab430b5968f1bdb09",
              "version_major": 2,
              "version_minor": 0
            },
            "text/plain": [
              "Filter:   0%|          | 0/7542 [00:00<?, ? examples/s]"
            ]
          },
          "metadata": {},
          "output_type": "display_data"
        },
        {
          "name": "stdout",
          "output_type": "stream",
          "text": [
            "\n",
            "» Constructing 'blimp_from_file+null' contexts and requests\n"
          ]
        },
        {
          "name": "stderr",
          "output_type": "stream",
          "text": [
            "INFO:lm_eval.evaluator:\n",
            "» Constructing 'blimp_from_file+null' contexts and requests\n",
            "100%|██████████| 7542/7542 [00:01<00:00, 4664.18it/s]"
          ]
        },
        {
          "name": "stdout",
          "output_type": "stream",
          "text": [
            "\n",
            "» Running all `loglikelihood` requests\n"
          ]
        },
        {
          "name": "stderr",
          "output_type": "stream",
          "text": [
            "\n",
            "INFO:lm_eval.evaluator:\n",
            "» Running all `loglikelihood` requests\n",
            "100%|██████████| 15084/15084 [01:40<00:00, 150.69it/s]\n"
          ]
        },
        {
          "name": "stdout",
          "output_type": "stream",
          "text": [
            "determiner_noun_agreement:\t77.29%\n"
          ]
        },
        {
          "data": {
            "application/vnd.jupyter.widget-view+json": {
              "model_id": "01d1466e0405420b8f80ec203c6ce0ff",
              "version_major": 2,
              "version_minor": 0
            },
            "text/plain": [
              "Generating train split:   0%|          | 0/1732 [00:00<?, ? examples/s]"
            ]
          },
          "metadata": {},
          "output_type": "display_data"
        },
        {
          "name": "stdout",
          "output_type": "stream",
          "text": [
            "\n",
            "» Assigning unique IDs to 'blimp_from_file+null' docs\n"
          ]
        },
        {
          "name": "stderr",
          "output_type": "stream",
          "text": [
            "INFO:lm_eval.evaluator:\n",
            "» Assigning unique IDs to 'blimp_from_file+null' docs\n"
          ]
        },
        {
          "data": {
            "application/vnd.jupyter.widget-view+json": {
              "model_id": "d961ecf1f9b747199731b675532ae223",
              "version_major": 2,
              "version_minor": 0
            },
            "text/plain": [
              "Map:   0%|          | 0/1732 [00:00<?, ? examples/s]"
            ]
          },
          "metadata": {},
          "output_type": "display_data"
        },
        {
          "name": "stdout",
          "output_type": "stream",
          "text": [
            "\n",
            "» Filtering invalid docs from 'blimp_from_file+null'\n"
          ]
        },
        {
          "name": "stderr",
          "output_type": "stream",
          "text": [
            "INFO:lm_eval.evaluator:\n",
            "» Filtering invalid docs from 'blimp_from_file+null'\n"
          ]
        },
        {
          "data": {
            "application/vnd.jupyter.widget-view+json": {
              "model_id": "ef97c5ee8bc84a39840459e3ca668faf",
              "version_major": 2,
              "version_minor": 0
            },
            "text/plain": [
              "Filter:   0%|          | 0/1732 [00:00<?, ? examples/s]"
            ]
          },
          "metadata": {},
          "output_type": "display_data"
        },
        {
          "name": "stdout",
          "output_type": "stream",
          "text": [
            "\n",
            "» Constructing 'blimp_from_file+null' contexts and requests\n"
          ]
        },
        {
          "name": "stderr",
          "output_type": "stream",
          "text": [
            "INFO:lm_eval.evaluator:\n",
            "» Constructing 'blimp_from_file+null' contexts and requests\n",
            "100%|██████████| 1732/1732 [00:00<00:00, 3867.06it/s]"
          ]
        },
        {
          "name": "stdout",
          "output_type": "stream",
          "text": [
            "\n",
            "» Running all `loglikelihood` requests\n"
          ]
        },
        {
          "name": "stderr",
          "output_type": "stream",
          "text": [
            "\n",
            "INFO:lm_eval.evaluator:\n",
            "» Running all `loglikelihood` requests\n",
            "100%|██████████| 3464/3464 [00:26<00:00, 130.95it/s]\n"
          ]
        },
        {
          "name": "stdout",
          "output_type": "stream",
          "text": [
            "ellipsis:\t52.66%\n"
          ]
        },
        {
          "data": {
            "application/vnd.jupyter.widget-view+json": {
              "model_id": "d040b6545dc64af3ae93e3724147bf4a",
              "version_major": 2,
              "version_minor": 0
            },
            "text/plain": [
              "Generating train split:   0%|          | 0/6426 [00:00<?, ? examples/s]"
            ]
          },
          "metadata": {},
          "output_type": "display_data"
        },
        {
          "name": "stdout",
          "output_type": "stream",
          "text": [
            "\n",
            "» Assigning unique IDs to 'blimp_from_file+null' docs\n"
          ]
        },
        {
          "name": "stderr",
          "output_type": "stream",
          "text": [
            "INFO:lm_eval.evaluator:\n",
            "» Assigning unique IDs to 'blimp_from_file+null' docs\n"
          ]
        },
        {
          "data": {
            "application/vnd.jupyter.widget-view+json": {
              "model_id": "c622a4d1d66844a4be48e07d649566cb",
              "version_major": 2,
              "version_minor": 0
            },
            "text/plain": [
              "Map:   0%|          | 0/6426 [00:00<?, ? examples/s]"
            ]
          },
          "metadata": {},
          "output_type": "display_data"
        },
        {
          "name": "stdout",
          "output_type": "stream",
          "text": [
            "\n",
            "» Filtering invalid docs from 'blimp_from_file+null'\n"
          ]
        },
        {
          "name": "stderr",
          "output_type": "stream",
          "text": [
            "INFO:lm_eval.evaluator:\n",
            "» Filtering invalid docs from 'blimp_from_file+null'\n"
          ]
        },
        {
          "data": {
            "application/vnd.jupyter.widget-view+json": {
              "model_id": "9c80b606416a4a1c8fe2543cd0f3f7ec",
              "version_major": 2,
              "version_minor": 0
            },
            "text/plain": [
              "Filter:   0%|          | 0/6426 [00:00<?, ? examples/s]"
            ]
          },
          "metadata": {},
          "output_type": "display_data"
        },
        {
          "name": "stdout",
          "output_type": "stream",
          "text": [
            "\n",
            "» Constructing 'blimp_from_file+null' contexts and requests\n"
          ]
        },
        {
          "name": "stderr",
          "output_type": "stream",
          "text": [
            "INFO:lm_eval.evaluator:\n",
            "» Constructing 'blimp_from_file+null' contexts and requests\n",
            "100%|██████████| 6426/6426 [00:01<00:00, 6159.02it/s]"
          ]
        },
        {
          "name": "stdout",
          "output_type": "stream",
          "text": [
            "\n",
            "» Running all `loglikelihood` requests\n"
          ]
        },
        {
          "name": "stderr",
          "output_type": "stream",
          "text": [
            "\n",
            "INFO:lm_eval.evaluator:\n",
            "» Running all `loglikelihood` requests\n",
            "100%|██████████| 12852/12852 [01:32<00:00, 138.70it/s]\n"
          ]
        },
        {
          "name": "stdout",
          "output_type": "stream",
          "text": [
            "filler_gap:\t60.26%\n"
          ]
        },
        {
          "data": {
            "application/vnd.jupyter.widget-view+json": {
              "model_id": "5ae979e3e1b6470a980a640271c5c58a",
              "version_major": 2,
              "version_minor": 0
            },
            "text/plain": [
              "Generating train split:   0%|          | 0/1965 [00:00<?, ? examples/s]"
            ]
          },
          "metadata": {},
          "output_type": "display_data"
        },
        {
          "name": "stdout",
          "output_type": "stream",
          "text": [
            "\n",
            "» Assigning unique IDs to 'blimp_from_file+null' docs\n"
          ]
        },
        {
          "name": "stderr",
          "output_type": "stream",
          "text": [
            "INFO:lm_eval.evaluator:\n",
            "» Assigning unique IDs to 'blimp_from_file+null' docs\n"
          ]
        },
        {
          "data": {
            "application/vnd.jupyter.widget-view+json": {
              "model_id": "429d1f0af14c4ebf8e9de6f393b1bbfc",
              "version_major": 2,
              "version_minor": 0
            },
            "text/plain": [
              "Map:   0%|          | 0/1965 [00:00<?, ? examples/s]"
            ]
          },
          "metadata": {},
          "output_type": "display_data"
        },
        {
          "name": "stdout",
          "output_type": "stream",
          "text": [
            "\n",
            "» Filtering invalid docs from 'blimp_from_file+null'\n"
          ]
        },
        {
          "name": "stderr",
          "output_type": "stream",
          "text": [
            "INFO:lm_eval.evaluator:\n",
            "» Filtering invalid docs from 'blimp_from_file+null'\n"
          ]
        },
        {
          "data": {
            "application/vnd.jupyter.widget-view+json": {
              "model_id": "14865d32ad4842ff984e9cb56d4e4e96",
              "version_major": 2,
              "version_minor": 0
            },
            "text/plain": [
              "Filter:   0%|          | 0/1965 [00:00<?, ? examples/s]"
            ]
          },
          "metadata": {},
          "output_type": "display_data"
        },
        {
          "name": "stdout",
          "output_type": "stream",
          "text": [
            "\n",
            "» Constructing 'blimp_from_file+null' contexts and requests\n"
          ]
        },
        {
          "name": "stderr",
          "output_type": "stream",
          "text": [
            "INFO:lm_eval.evaluator:\n",
            "» Constructing 'blimp_from_file+null' contexts and requests\n",
            "100%|██████████| 1965/1965 [00:00<00:00, 3993.75it/s]"
          ]
        },
        {
          "name": "stdout",
          "output_type": "stream",
          "text": [
            "\n",
            "» Running all `loglikelihood` requests\n"
          ]
        },
        {
          "name": "stderr",
          "output_type": "stream",
          "text": [
            "\n",
            "INFO:lm_eval.evaluator:\n",
            "» Running all `loglikelihood` requests\n",
            "100%|██████████| 3930/3930 [00:24<00:00, 163.30it/s]\n"
          ]
        },
        {
          "name": "stdout",
          "output_type": "stream",
          "text": [
            "irregular_forms:\t84.68%\n"
          ]
        },
        {
          "data": {
            "application/vnd.jupyter.widget-view+json": {
              "model_id": "706cd34d4de54e40be391d21f084120e",
              "version_major": 2,
              "version_minor": 0
            },
            "text/plain": [
              "Generating train split:   0%|          | 0/2676 [00:00<?, ? examples/s]"
            ]
          },
          "metadata": {},
          "output_type": "display_data"
        },
        {
          "name": "stdout",
          "output_type": "stream",
          "text": [
            "\n",
            "» Assigning unique IDs to 'blimp_from_file+null' docs\n"
          ]
        },
        {
          "name": "stderr",
          "output_type": "stream",
          "text": [
            "INFO:lm_eval.evaluator:\n",
            "» Assigning unique IDs to 'blimp_from_file+null' docs\n"
          ]
        },
        {
          "data": {
            "application/vnd.jupyter.widget-view+json": {
              "model_id": "7dec32ee0ab54ad4aab817f91c68e4f7",
              "version_major": 2,
              "version_minor": 0
            },
            "text/plain": [
              "Map:   0%|          | 0/2676 [00:00<?, ? examples/s]"
            ]
          },
          "metadata": {},
          "output_type": "display_data"
        },
        {
          "name": "stdout",
          "output_type": "stream",
          "text": [
            "\n",
            "» Filtering invalid docs from 'blimp_from_file+null'\n"
          ]
        },
        {
          "name": "stderr",
          "output_type": "stream",
          "text": [
            "INFO:lm_eval.evaluator:\n",
            "» Filtering invalid docs from 'blimp_from_file+null'\n"
          ]
        },
        {
          "data": {
            "application/vnd.jupyter.widget-view+json": {
              "model_id": "6afc3a0a63744148b15381daf9127e74",
              "version_major": 2,
              "version_minor": 0
            },
            "text/plain": [
              "Filter:   0%|          | 0/2676 [00:00<?, ? examples/s]"
            ]
          },
          "metadata": {},
          "output_type": "display_data"
        },
        {
          "name": "stdout",
          "output_type": "stream",
          "text": [
            "\n",
            "» Constructing 'blimp_from_file+null' contexts and requests\n"
          ]
        },
        {
          "name": "stderr",
          "output_type": "stream",
          "text": [
            "INFO:lm_eval.evaluator:\n",
            "» Constructing 'blimp_from_file+null' contexts and requests\n",
            "100%|██████████| 2676/2676 [00:00<00:00, 3948.17it/s]"
          ]
        },
        {
          "name": "stdout",
          "output_type": "stream",
          "text": [
            "\n",
            "» Running all `loglikelihood` requests\n"
          ]
        },
        {
          "name": "stderr",
          "output_type": "stream",
          "text": [
            "\n",
            "INFO:lm_eval.evaluator:\n",
            "» Running all `loglikelihood` requests\n",
            "100%|██████████| 5352/5352 [00:37<00:00, 142.34it/s]\n"
          ]
        },
        {
          "name": "stdout",
          "output_type": "stream",
          "text": [
            "island_effects:\t44.51%\n"
          ]
        },
        {
          "data": {
            "application/vnd.jupyter.widget-view+json": {
              "model_id": "157e01b2465e49159be0965a007c0474",
              "version_major": 2,
              "version_minor": 0
            },
            "text/plain": [
              "Generating train split:   0%|          | 0/6586 [00:00<?, ? examples/s]"
            ]
          },
          "metadata": {},
          "output_type": "display_data"
        },
        {
          "name": "stdout",
          "output_type": "stream",
          "text": [
            "\n",
            "» Assigning unique IDs to 'blimp_from_file+null' docs\n"
          ]
        },
        {
          "name": "stderr",
          "output_type": "stream",
          "text": [
            "INFO:lm_eval.evaluator:\n",
            "» Assigning unique IDs to 'blimp_from_file+null' docs\n"
          ]
        },
        {
          "data": {
            "application/vnd.jupyter.widget-view+json": {
              "model_id": "b42f333dcaa64194bc41e81c2822c686",
              "version_major": 2,
              "version_minor": 0
            },
            "text/plain": [
              "Map:   0%|          | 0/6586 [00:00<?, ? examples/s]"
            ]
          },
          "metadata": {},
          "output_type": "display_data"
        },
        {
          "name": "stdout",
          "output_type": "stream",
          "text": [
            "\n",
            "» Filtering invalid docs from 'blimp_from_file+null'\n"
          ]
        },
        {
          "name": "stderr",
          "output_type": "stream",
          "text": [
            "INFO:lm_eval.evaluator:\n",
            "» Filtering invalid docs from 'blimp_from_file+null'\n"
          ]
        },
        {
          "data": {
            "application/vnd.jupyter.widget-view+json": {
              "model_id": "7b787c9517964746a3b4eba3b6dd6645",
              "version_major": 2,
              "version_minor": 0
            },
            "text/plain": [
              "Filter:   0%|          | 0/6586 [00:00<?, ? examples/s]"
            ]
          },
          "metadata": {},
          "output_type": "display_data"
        },
        {
          "name": "stdout",
          "output_type": "stream",
          "text": [
            "\n",
            "» Constructing 'blimp_from_file+null' contexts and requests\n"
          ]
        },
        {
          "name": "stderr",
          "output_type": "stream",
          "text": [
            "INFO:lm_eval.evaluator:\n",
            "» Constructing 'blimp_from_file+null' contexts and requests\n",
            "100%|██████████| 6586/6586 [00:02<00:00, 3083.94it/s]"
          ]
        },
        {
          "name": "stdout",
          "output_type": "stream",
          "text": [
            "\n",
            "» Running all `loglikelihood` requests\n"
          ]
        },
        {
          "name": "stderr",
          "output_type": "stream",
          "text": [
            "\n",
            "INFO:lm_eval.evaluator:\n",
            "» Running all `loglikelihood` requests\n",
            "100%|██████████| 13172/13172 [01:30<00:00, 145.60it/s]\n"
          ]
        },
        {
          "name": "stdout",
          "output_type": "stream",
          "text": [
            "npi_licensing:\t59.52%\n"
          ]
        },
        {
          "data": {
            "application/vnd.jupyter.widget-view+json": {
              "model_id": "62a26a4cf5ae435fa3a22a189e2e57d8",
              "version_major": 2,
              "version_minor": 0
            },
            "text/plain": [
              "Generating train split:   0%|          | 0/3882 [00:00<?, ? examples/s]"
            ]
          },
          "metadata": {},
          "output_type": "display_data"
        },
        {
          "name": "stdout",
          "output_type": "stream",
          "text": [
            "\n",
            "» Assigning unique IDs to 'blimp_from_file+null' docs\n"
          ]
        },
        {
          "name": "stderr",
          "output_type": "stream",
          "text": [
            "INFO:lm_eval.evaluator:\n",
            "» Assigning unique IDs to 'blimp_from_file+null' docs\n"
          ]
        },
        {
          "data": {
            "application/vnd.jupyter.widget-view+json": {
              "model_id": "7ef929de102140fdb581e2702287be97",
              "version_major": 2,
              "version_minor": 0
            },
            "text/plain": [
              "Map:   0%|          | 0/3882 [00:00<?, ? examples/s]"
            ]
          },
          "metadata": {},
          "output_type": "display_data"
        },
        {
          "name": "stdout",
          "output_type": "stream",
          "text": [
            "\n",
            "» Filtering invalid docs from 'blimp_from_file+null'\n"
          ]
        },
        {
          "name": "stderr",
          "output_type": "stream",
          "text": [
            "INFO:lm_eval.evaluator:\n",
            "» Filtering invalid docs from 'blimp_from_file+null'\n"
          ]
        },
        {
          "data": {
            "application/vnd.jupyter.widget-view+json": {
              "model_id": "8858cb2a35c94858b7c479990e72b051",
              "version_major": 2,
              "version_minor": 0
            },
            "text/plain": [
              "Filter:   0%|          | 0/3882 [00:00<?, ? examples/s]"
            ]
          },
          "metadata": {},
          "output_type": "display_data"
        },
        {
          "name": "stdout",
          "output_type": "stream",
          "text": [
            "\n",
            "» Constructing 'blimp_from_file+null' contexts and requests\n"
          ]
        },
        {
          "name": "stderr",
          "output_type": "stream",
          "text": [
            "INFO:lm_eval.evaluator:\n",
            "» Constructing 'blimp_from_file+null' contexts and requests\n",
            "100%|██████████| 3882/3882 [00:00<00:00, 6338.30it/s]"
          ]
        },
        {
          "name": "stdout",
          "output_type": "stream",
          "text": [
            "\n",
            "» Running all `loglikelihood` requests\n"
          ]
        },
        {
          "name": "stderr",
          "output_type": "stream",
          "text": [
            "\n",
            "INFO:lm_eval.evaluator:\n",
            "» Running all `loglikelihood` requests\n",
            "100%|██████████| 7764/7764 [00:53<00:00, 146.14it/s]\n"
          ]
        },
        {
          "name": "stdout",
          "output_type": "stream",
          "text": [
            "quantifiers:\t67.62%\n"
          ]
        },
        {
          "data": {
            "application/vnd.jupyter.widget-view+json": {
              "model_id": "a138f6b27f094a3491c1b8139123ecb4",
              "version_major": 2,
              "version_minor": 0
            },
            "text/plain": [
              "Generating train split:   0%|          | 0/5535 [00:00<?, ? examples/s]"
            ]
          },
          "metadata": {},
          "output_type": "display_data"
        },
        {
          "name": "stdout",
          "output_type": "stream",
          "text": [
            "\n",
            "» Assigning unique IDs to 'blimp_from_file+null' docs\n"
          ]
        },
        {
          "name": "stderr",
          "output_type": "stream",
          "text": [
            "INFO:lm_eval.evaluator:\n",
            "» Assigning unique IDs to 'blimp_from_file+null' docs\n"
          ]
        },
        {
          "data": {
            "application/vnd.jupyter.widget-view+json": {
              "model_id": "3679d85fc42b44a495f24768c4f60bd8",
              "version_major": 2,
              "version_minor": 0
            },
            "text/plain": [
              "Map:   0%|          | 0/5535 [00:00<?, ? examples/s]"
            ]
          },
          "metadata": {},
          "output_type": "display_data"
        },
        {
          "name": "stdout",
          "output_type": "stream",
          "text": [
            "\n",
            "» Filtering invalid docs from 'blimp_from_file+null'\n"
          ]
        },
        {
          "name": "stderr",
          "output_type": "stream",
          "text": [
            "INFO:lm_eval.evaluator:\n",
            "» Filtering invalid docs from 'blimp_from_file+null'\n"
          ]
        },
        {
          "data": {
            "application/vnd.jupyter.widget-view+json": {
              "model_id": "93e311013000451e9f8f25b6e105e337",
              "version_major": 2,
              "version_minor": 0
            },
            "text/plain": [
              "Filter:   0%|          | 0/5535 [00:00<?, ? examples/s]"
            ]
          },
          "metadata": {},
          "output_type": "display_data"
        },
        {
          "name": "stdout",
          "output_type": "stream",
          "text": [
            "\n",
            "» Constructing 'blimp_from_file+null' contexts and requests\n"
          ]
        },
        {
          "name": "stderr",
          "output_type": "stream",
          "text": [
            "INFO:lm_eval.evaluator:\n",
            "» Constructing 'blimp_from_file+null' contexts and requests\n",
            "100%|██████████| 5535/5535 [00:00<00:00, 6122.74it/s]"
          ]
        },
        {
          "name": "stdout",
          "output_type": "stream",
          "text": [
            "\n",
            "» Running all `loglikelihood` requests\n"
          ]
        },
        {
          "name": "stderr",
          "output_type": "stream",
          "text": [
            "\n",
            "INFO:lm_eval.evaluator:\n",
            "» Running all `loglikelihood` requests\n",
            "100%|██████████| 11070/11070 [01:14<00:00, 148.55it/s]\n"
          ]
        },
        {
          "name": "stdout",
          "output_type": "stream",
          "text": [
            "subject_verb_agreement:\t55.01%\n"
          ]
        },
        {
          "data": {
            "application/vnd.jupyter.widget-view+json": {
              "model_id": "8f9f81ba453f410a973db39af174444b",
              "version_major": 2,
              "version_minor": 0
            },
            "text/plain": [
              "Generating train split:   0%|          | 0/4394 [00:00<?, ? examples/s]"
            ]
          },
          "metadata": {},
          "output_type": "display_data"
        },
        {
          "name": "stdout",
          "output_type": "stream",
          "text": [
            "\n",
            "» Assigning unique IDs to 'blimp_from_file+null' docs\n"
          ]
        },
        {
          "name": "stderr",
          "output_type": "stream",
          "text": [
            "INFO:lm_eval.evaluator:\n",
            "» Assigning unique IDs to 'blimp_from_file+null' docs\n"
          ]
        },
        {
          "data": {
            "application/vnd.jupyter.widget-view+json": {
              "model_id": "2adf8c4a01bf482f8386e91cf6d190c4",
              "version_major": 2,
              "version_minor": 0
            },
            "text/plain": [
              "Map:   0%|          | 0/4394 [00:00<?, ? examples/s]"
            ]
          },
          "metadata": {},
          "output_type": "display_data"
        },
        {
          "name": "stdout",
          "output_type": "stream",
          "text": [
            "\n",
            "» Filtering invalid docs from 'blimp_from_file+null'\n"
          ]
        },
        {
          "name": "stderr",
          "output_type": "stream",
          "text": [
            "INFO:lm_eval.evaluator:\n",
            "» Filtering invalid docs from 'blimp_from_file+null'\n"
          ]
        },
        {
          "data": {
            "application/vnd.jupyter.widget-view+json": {
              "model_id": "97d82f70f05f4863baac21cce6eae624",
              "version_major": 2,
              "version_minor": 0
            },
            "text/plain": [
              "Filter:   0%|          | 0/4394 [00:00<?, ? examples/s]"
            ]
          },
          "metadata": {},
          "output_type": "display_data"
        },
        {
          "name": "stdout",
          "output_type": "stream",
          "text": [
            "\n",
            "» Constructing 'blimp_from_file+null' contexts and requests\n"
          ]
        },
        {
          "name": "stderr",
          "output_type": "stream",
          "text": [
            "INFO:lm_eval.evaluator:\n",
            "» Constructing 'blimp_from_file+null' contexts and requests\n",
            "100%|██████████| 4394/4394 [00:01<00:00, 4084.80it/s]"
          ]
        },
        {
          "name": "stdout",
          "output_type": "stream",
          "text": [
            "\n",
            "» Running all `loglikelihood` requests\n"
          ]
        },
        {
          "name": "stderr",
          "output_type": "stream",
          "text": [
            "\n",
            "INFO:lm_eval.evaluator:\n",
            "» Running all `loglikelihood` requests\n",
            "100%|██████████| 8788/8788 [01:22<00:00, 106.74it/s]\n",
            "/content/evaluation-pipeline/lm_eval/api/task.py:589: RuntimeWarning: divide by zero encountered in divide\n",
            "  if np.argmax(results / completion_len) == target_idx\n"
          ]
        },
        {
          "name": "stdout",
          "output_type": "stream",
          "text": [
            "preposition:\t61.99%\n",
            "\n",
            "Scores:\n",
            "anaphor_agreement:\t64.98%\n",
            "argument_structure:\t62.43%\n",
            "binding:\t61.59%\n",
            "control_raising:\t59.77%\n",
            "determiner_noun_agreement:\t77.29%\n",
            "ellipsis:\t52.66%\n",
            "filler_gap:\t60.26%\n",
            "irregular_forms:\t84.68%\n",
            "island_effects:\t44.51%\n",
            "npi_licensing:\t59.52%\n",
            "quantifiers:\t67.62%\n",
            "subject_verb_agreement:\t55.01%\n",
            "preposition:\t61.99%\n"
          ]
        }
      ],
      "source": [
        "#@title Load model and evaluate (BLiMP) { display-mode: \"form\" }\n",
        "model = \"/content/drive/MyDrive/VU Thesis/Code/baby_models/V20L4/model_e10_v20_l4/\" #@param {\"type\": \"string\"}\n",
        "model_type = \"encoder\" #@param [\"decoder\", \"encoder\", \"encoder-decoder\"]\n",
        "# file_name = \"examples3.csv\" #@param {\"type\": \"string\"}\n",
        "# model_names = [\"opt-125m\", \"opt-350m\", \"opt-1.3b\", \"opt-2.7b\"] #@param {\"type\": \"raw\"}\n",
        "\n",
        "%cd /content/evaluation-pipeline\n",
        "%run /content/evaluation-pipeline/babylm_eval_prep.py \\\n",
        "  \"$model\" \\\n",
        "  \"$model_type\" \\\n",
        "  -t \"blimp_with_preposition\""
      ]
    },
    {
      "cell_type": "markdown",
      "metadata": {
        "id": "dvsdDwrhpMdv"
      },
      "source": [
        "### RoBERTa"
      ]
    },
    {
      "cell_type": "markdown",
      "metadata": {
        "id": "Su2S7M2XvnLY"
      },
      "source": [
        "Clone this model repository\n",
        "\n",
        "Make sure git-lfs is installed (https://git-lfs.com)\n",
        "\n",
        "`git lfs install`\n",
        "\n",
        "`git clone https://huggingface.co/FacebookAI/roberta-base`\n",
        "\n"
      ]
    },
    {
      "cell_type": "code",
      "execution_count": null,
      "metadata": {
        "colab": {
          "base_uri": "https://localhost:8080/"
        },
        "id": "M0YqSKb3U4Ap",
        "outputId": "39c3fb94-2bd4-430b-a538-0bfc51876053"
      },
      "outputs": [
        {
          "name": "stdout",
          "output_type": "stream",
          "text": [
            "Updated git hooks.\n",
            "Git LFS initialized.\n"
          ]
        }
      ],
      "source": [
        "!git lfs install"
      ]
    },
    {
      "cell_type": "code",
      "execution_count": null,
      "metadata": {
        "colab": {
          "base_uri": "https://localhost:8080/"
        },
        "id": "pZ-jcvS6U6P_",
        "outputId": "2eb23842-9d34-4c0e-bc91-98b4e6eb641c"
      },
      "outputs": [
        {
          "name": "stdout",
          "output_type": "stream",
          "text": [
            "Cloning into 'roberta-base'...\n",
            "remote: Enumerating objects: 84, done.\u001b[K\n",
            "remote: Counting objects: 100% (3/3), done.\u001b[K\n",
            "remote: Compressing objects: 100% (2/2), done.\u001b[K\n",
            "remote: Total 84 (delta 0), reused 0 (delta 0), pack-reused 81 (from 1)\u001b[K\n",
            "Unpacking objects: 100% (84/84), 1.63 MiB | 3.73 MiB/s, done.\n",
            "Filtering content: 100% (5/5), 2.61 GiB | 45.76 MiB/s, done.\n"
          ]
        }
      ],
      "source": [
        "!git clone https://huggingface.co/FacebookAI/roberta-base"
      ]
    },
    {
      "cell_type": "code",
      "execution_count": null,
      "metadata": {
        "id": "YxFvJolqU7vr"
      },
      "outputs": [],
      "source": [
        "!cp -r \"/content/evaluation-pipeline/roberta-base\" \"/content/drive/MyDrive/VU Thesis/Code/baby_models/roberta-base\""
      ]
    },
    {
      "cell_type": "code",
      "execution_count": null,
      "metadata": {
        "colab": {
          "base_uri": "https://localhost:8080/",
          "height": 1000,
          "referenced_widgets": [
            "f14953adb1db46c999b79d66d879e2e2",
            "c80418fdf68f46dcb5b771732f3ed07a",
            "1f7a24e808e24973a75989caefb444ba",
            "249f93c97a8a4bd69177a5c895251cba",
            "ce80ee41303449aab02dabce6365d275",
            "7cf3fbedc5c14f7b807b600b0393838c",
            "6fca476fb48b42ee8215a57615b52b2e",
            "e514132426784d458c5047ddd9206218",
            "b806471236284490b94089d88a24e574",
            "0646bf30a626448880e591f5cd6d6696",
            "b51de7f7f5b643f4b50aff69d3d5c69b",
            "310d8bdfb59c47d5b1c1074bb53a3e75",
            "1586d253973c49048075ae64a1cebafc",
            "08f5e5f7701c4f86b50d7c49b038f968",
            "29dc7df581cd488fb6198c866e4764aa",
            "9098108720cc41709c6251d110c7c9f9",
            "6421b5bb3fd243448f417e0c9532c437",
            "f0a01891dbda413ba8200bb4bc98fee6",
            "ae2801b30dd64968aa2ea8cbdd25cd77",
            "278d3e295a7d4dd18aeafef2a7e6a623",
            "6f2c4237fc594219a9ae8276ed2722b2",
            "6f98b91e9b3e402b8a087245a55ac7ef",
            "8e46b97ebcc743d6ab7c47c428282a1c",
            "d734ebff26384b8dbfb5015a36644aa7",
            "47f9541aee5c46cbaa99d5e828fcb25e",
            "7d399c93f5a04ad09a06344793a19542",
            "0117de20bbc6492bb3238cd533449718",
            "b0af2d4fb368490e90ff6c5a1b699e6a",
            "bd80238fe72d4fbd891777a9f51e8fa8",
            "543d21da8e6d4f1c9ac73ce7b74912ee",
            "bbc3072f5ea041c68488ab7d84e326b1",
            "30f7df6c912048d2b0f14bb5c017f467",
            "f749aec1b1fe4df89d3914ff2d68545d",
            "f2fb3a3f5c584b93a863af13669454ee",
            "dd620d1600e34587b6f7dc0c1216d50d",
            "70075601d6d341d6a043001ce37a79db",
            "40bc45b600a24c24a49bdbb0e40f5389",
            "08ef61445b5f46cebe8be2f17be77972",
            "1b7c94ea6961422893811198ec146b53",
            "eb346a1e9a0049d0b57bcfa33fcfe17e",
            "a3d7522aee2f47b8b8ed9f7d7121562b",
            "7f1bc63396bd4f3d8354b7054a74505b",
            "7c3f3014f970458b9a64a924c4e0eb30",
            "540493f831c2480bab84af361b9480ea",
            "d8a3bca5cff2482caf039bf07ead11bf",
            "f8752dc4036248b5a4a4b7dd86ec5df8",
            "82e4b7f36f2946ba9a9d0a9653b10769",
            "1db761c7f76945e98bfc34b5db586437",
            "2babf886a76a473d9437b0d7c733caf3",
            "639881ea1adf4b6abf2e41cf7cef0f1b",
            "631ebafdcd374175a40fc4c9df0ee6b9",
            "720d1a1cc83b431bb892f9cdb8a25c8f",
            "21e975a9558a45aeaf7b57282a87a1ac",
            "b11c525c067046398cff045a7193eeb1",
            "f31e67155dc64bfa8cba29a200a81839",
            "bb7ff5202dad4027ab18449a26b9e5d0",
            "254dce6ed99d4392bd8dba4fee3a4c9c",
            "9add35da3cef4465b9385ad0aa4c7e48",
            "103ee741af714dee8e1c9464634cbbfb",
            "d17d55cf362e4dc498d50f8f928e1d88",
            "c114dbdf52c14a20b5d0f810d12838eb",
            "ea9fb1988124408a8722c0520c1e820c",
            "11151b8df43e4dde9b22c8bda7767cae",
            "52bfae7aa1434cd0b0a32030cb55f2d3",
            "39a913fa0b044bda9cf22a97137720cf",
            "8da752654e304d4aac52d5431418b609",
            "c622dbbf4f8e492381f1812e378be8a4",
            "4ee4fe36366f47048ef0cf1a3c6d10d9",
            "cd3ed2f59b5847f0b055f51601588794",
            "e84e24dfdf714bc88e7be27941d3c66a",
            "1a5323f5342f4d908298e370d7d2432d",
            "8b9746ce59be444fa26383c8417684d3",
            "d3384de04cb0499dbbdfe79f650ae58e",
            "893e4e08ae844379bf0d21423d90b63a",
            "87f3991c34b248c3b9e167acd461ec9b",
            "78106b38bfcc490f86cae48c0573c425",
            "1c415e3a28bc43d39ad3459f890ec98b",
            "c06b7fd216504ab98e06587a887a05e3",
            "d1ddfd7e719348218607ed9c2b11454d",
            "6dd9e43493374feda3483891db1205ad",
            "ace06e103b1347518329db0a24558921",
            "842c1d379c7f4e4589243b8e0f1afd0c",
            "a1b9041dc81e42cc97c31a3011b23499",
            "a9feccdf687e45c9afd954799d1e4380",
            "33ebc7f1f88042ff97611df61964c235",
            "892d64305f80426bac29915c6d1922ee",
            "24864b9ac816426c910e37fd396a0faa",
            "0171c31f6ead477ba75cb51c676d08ac",
            "cc41697e9b7b4d3e93aaec4213983e1a",
            "93b224c1c0c54204bf9da48f93002304",
            "8df2e5bd66b24d52b24deef5e65d9fc7",
            "2fa006a7d73f40c5b6261b39a413cbe0",
            "eec028a55a164d8a8ed13038ebfe7ec1",
            "d583f97167484b8ba7c74dacfb36f3cc",
            "ddca3d8bdb9e451f9e40786b9d78a2a1",
            "fb6071cfaffb4195a36aacc109e4999a",
            "6a0d76ef6fa94ef58965b586787a3367",
            "41d1ef85c05f413cb68a821f1f177696",
            "d5d5eee182a94204835eccf0dda6791a",
            "4014f294863849d7baf77b4e1447eb6e",
            "73cbd753941e4679986a7b7c49ade9ed",
            "64361906ea4342148bf63aa38061de66",
            "faec202e8406490da94268a4b40a9209",
            "4b890b25a4d1484a828f21d2b4c65332",
            "ad3471991b224b678664670f3aa5b4db",
            "04bd4a33eae947619026506dafa1d8ef",
            "35ff2110f9d5429b92f801d77a81402a",
            "76ba26c66f2a4cc39e3d9ad657df1896",
            "00937e6c45ce4ed49b153157d2822222",
            "06ad7b3da4e94825af9bd5e4e6f99248",
            "ba39ffff1626412ca9657da9e77127a2",
            "36bbc3fac44b408e8918f62a0a3bdce6",
            "518f914839b4400785435863fc077071",
            "57f7b044efe34719bb1c5398a944359b",
            "98a024fe970b477dab32e5e361fc04a6",
            "749ae0e21ec6480ba95e726978e80250",
            "09065ce8e50c41daaefda57a14b3253c",
            "a8200519ed534b23a87b561e45f7efd6",
            "929feef56db44378a89571220f6233c9",
            "c5516cdb20604fdc8c1acbcc18aca7a1",
            "31c18341a1a24d27b6840603b1b16dce",
            "7942defc6e004cc8856372c3ca6ec603",
            "2a85557178d34595af922088f3e6a488",
            "4f7c0e366e5e4ba59c64f090f6507623",
            "6d2f52ccd48843a285b71d183c147939",
            "f69a5684d52c4f2ea1a9dcdc4aa06b05",
            "dc0e0bb425a043f79e9fef25c61fbf25",
            "9ea4777a381140efb24a5165240351f3",
            "776e1b73879b46c6b2bacc0980795722",
            "794ab75b39554b3f87adc60684944a87",
            "5d9f294980164328ad090c21ae30e707",
            "b8d04c99ef034a66a127df0319bd9134",
            "1a3719528eda4a3ca87d0225f8453b1a",
            "0b8fd27c1cdb440486c0d863aa773493",
            "7bd91d867c5f442aa4968daf60831c00",
            "89ab18f5da8a402eba22dc6b4ca0061e",
            "0c6382e75f764cd8ab6ef72028d77e37",
            "41e2b7c8a72a48938ff58a3ea67c1a34",
            "364ee69549014ed3be79f627e5725589",
            "e8883028d78d42c78b0701ac0ac511c8",
            "2069e8a6854e47708048312b2eb3a6f4",
            "305c4c5603374536b12409bd50b1e005",
            "a17ecc0d34b54440af0e5e4007ee7c2b",
            "c271ffab366e48dabac2aced1ea2eb32",
            "cbd08c2554a647b6ae4c8060b40d46b0",
            "9f382e88444c4757af6e0f588ed2dd85",
            "8c29146e1a8a477e949cc736eb75f760",
            "6d428c754e744ba5b6ae0bd7b10a6bd3",
            "4066b37464b04b30be896ed1418ec7a6",
            "5c1adfee27274db2ba4538d971827710",
            "6cfca6edf0f54ba9aecb5418b92d3af3",
            "1ee422d0de674e0786f25b7232366cde",
            "97c37e16bf784665b0fdb384d6198349",
            "6f05ef23a5c14faea1161eb71f330fd2",
            "a243d2e114d4469f92aa4207343e11bc",
            "9df0376ba76840adb8ffaf0f34ed3838",
            "aebf36cdf2b84e6688b662936a3a2ddf",
            "b868e67fa2324f7ca9824263903583aa",
            "dae461fbe9a0476e8ae5e9c346ea088c",
            "ab7a7b9b201e4579904707b26c822dc6",
            "e2aa68e28c30478bb3206c157f2cae50",
            "c3003dd8edad430189589e964d74fb41",
            "0d2ae47291744636b5166d7845c3f616",
            "b94fb4688a904245ac4fff989bb6ba1a",
            "8eb9aa7df83f403ba2c3255d38c75b70",
            "d68233b8679c43acbb504cd84c29ec49",
            "00069378d5504376bb2b0cfd61f6d1a6",
            "873a68da79314c4c9d6a0b54a4a333ad",
            "05b116e15c464cd7b3574d0d33dfc50b",
            "c27f0f9d96be45379eeefbd672dd5631",
            "9b106d05b22b41be8c781a8bad0a7598",
            "04f5dcdfe6394f02b9640151a497e81c",
            "40f9b32e24c84f3a92890ebc322d81c0",
            "344d8c71fa564e658419a6825c70797c",
            "944efd266e894dd894427ba1dcfb9aab",
            "d714dd2796654425a3c17398cc05418c",
            "491811d5428f424c9b4e46f9959dbdcc",
            "73517e3f28424cc7b3bf96969a573b11",
            "0e32b3917db0426383b6d94cc24c0d1a",
            "a56b251b1a564d758f718352017111c2",
            "ffd20a99428b4fda9599bc7784dea48d",
            "9780bfda1ace453894a326c2a57d70ea",
            "ee6c1ed6b944446eabf2278363793a73",
            "28cc0272a20d4023a59a9a97717bd732",
            "64a52939082e45b8932fa4ecb3f6b72e",
            "fb1b62e4f1f54aa18fc24bcc69068bfa",
            "a326442e99a34020ad6a213bb28d365d",
            "27cda56dec8c4cf1ade3ffb8a1d0e6bf",
            "5cb8aaba945b44e9a0217bdbcfb2dad4",
            "1dae1766863249f3b704bd4fef0e6d85",
            "d0b872a43932496198824c5e09c61ed9",
            "d94ef8c995b24497bb6767027bb5b9b2",
            "9dd96d3d885e4ba6ad4da4501cdae4a8",
            "edcf2e749d8f469e872217706ee48b0c",
            "786784000d8f42b3a41d86f691547737",
            "28d7a9e244d946e688733a2b2c42263f",
            "a40fed7bb73c46cd8b23a0c490919881",
            "be8edbd5025244babb65b2ab97d8fefe",
            "85d50aeba4674f4f8873708df01fd1db",
            "0de5e0a81dfe46e6a04bafbdbb051117",
            "fe932fba078447e48e2ceacdabef1175",
            "720e8e431c834a66845332fede500e7d",
            "8701ab342c0e49e6a99ba617bb4b79c3",
            "a7a3ced1a6c148c080d5ad40710ab068",
            "a92d3739d467418e8e71e33a383cec05",
            "66a467013c8847ab9e24847e169d2f64",
            "bfb6639b174b4a33b7105dffdd02ca30",
            "ccf8d75b0896479b9070a3702ed11995",
            "299fc493163b415c8986eebbb861dd04",
            "e2b43d03b4e04b3fb78bdfb1bb22d5b4",
            "619f50e21f4f454ba38f69e27cb36203",
            "520ee2db911444d391fbf585013e3053",
            "b66b400042d846d2905d7f1168a2434d",
            "10aca5c5aa3d4a7085f6f67ccb499ca3",
            "277e653748e44bac9b5260eedb73a5b5",
            "314c7f02757240299de5655aa039d4f4",
            "1ea75e145e094ba7b728621ee55b5143",
            "3e524e5a3c184bfcae03d2f242cb1bb0",
            "12dddba0d8f24aae81801f45ced9a600",
            "7f95a529353a4fe0ba6b691e60d9cf33",
            "5a147b8340e14998b73030c11144f644",
            "4420544160194a248b6d0d18acd28fe6",
            "9f48b3f1b3de4b3c84336c2e3b49d8a4",
            "27f1210696844e21942336f1143468b6",
            "85d697e075a047a5841c8bd774194100",
            "e186d30976d1401b93876661ba442bef",
            "9e85ec737b7c4ba297208e27ff9dc81c",
            "9b491be1c2994d45b3e709cb0f28ebf3",
            "97eb077fbad44f79b0badef894c47f34",
            "af712dacef4a4f3e8a63be06835c36d1",
            "af293a4475b04beeb4f0cee89f87e920",
            "5b20d78dee29497dbd92abb3ec99f271",
            "f78f1d7691fd4727b5eda460c6873246",
            "7d08bedb8682424da09488515744ef77",
            "22ae124ece1141cc9815e737bada670b",
            "66a26ad44d2b44e792e0ecd0e06ff818",
            "9ac5c156281b40279f24a47c5d948ed4",
            "27635d59aace44ac8c1e0c8bab02cf17",
            "043281de88524578be77de5425a41808",
            "05721f371eb4465490d8a045f199425c",
            "ee794ac6c6764f21b27d52c5982e44d8",
            "905462ce2867441fbd1ff7bac0743992",
            "2594ce403e2b428d9dd3ad2bd59f91e2",
            "f6fc581a2c9a41e69ebb2d4747e4081b",
            "34b500464389437b9666a3489d2ab4c6",
            "063bbc0bd9854af3983ae22e148c297f",
            "9e6930f2c82347a4aecb0b4330056b2c",
            "a383611dfa594f75933001eb84cfc63d",
            "27302a880d50441aae35166087b4c6d2",
            "6c08834fde564f9cb519f845d92bf381",
            "dd76731eac6d4188b00a6f53a53d4e8e",
            "7a471f2cc93e475dbba190b17f0c87d8",
            "5fbb335479674da5a20588c402aa0b82",
            "c456a0e8d5944da394ea30ca31a5829b",
            "dfd8423b9df645db8dc93f21419f322b",
            "c9ca2940d48c497197608bb2dc751bdb",
            "29708625fb95488688cdb7c06276f011",
            "bac7670a4917481eb0964167955da39d",
            "34a07e6571d84bd08f0e9d4ce283006c",
            "92587c6f966f461893db5b7e107e7332",
            "99d1aed72ba846b2b16fc11c61e19b91",
            "a851cc0a448849799c16fe1c572cb65b",
            "4f39e6014fce4e6f8fe5f58e837d544c",
            "bac686285d5f4c3cab25c8c28f58a1b7",
            "959650321a7e41578a7d0fc66b148392",
            "17bfabdd4054487a98150c93ad631b9b",
            "3e8bdc9b6885409fb19f6c65596700ef",
            "2c94b24d34634ec59553c1ec392a9ae1",
            "007868716c3349df976ca51e6430f6c9",
            "fe94c1f035a04b3a9d27d70ad291e548",
            "9bb7174ac09c4a91958fa96093dd7bb3",
            "0e2bbb57bb384b439320b74e3f09b2a6",
            "5f0d391c0c214432803e30a8d53d4b4d",
            "cfede74c688644ad9a35d7a17acc0717",
            "5c251cbed0ac4617b9cf3da41cc8ba0a",
            "34fb3eb5bfd146f4b3b6562e542c8cbd",
            "f763e976964a4c74934d24010b27c59c",
            "baec8401e855434ab05686b793f9ab34",
            "fce99974bf5d499f96bf47c72fc10e5e",
            "0bc99cf943ab4746bcedc2fb2ec81336",
            "83971d78a8034297b8aff61777222f10",
            "5a3b7b0dbaf0430c97592f30ba578afa",
            "5c8365f0672742ccba2f213c4d69a889",
            "b811467648e04bcb8ceb036b6dbd8d06",
            "3147cee7817e4c6badc77f1dfa898160",
            "3738ea2090114365b3cfc6af3cc18b9d",
            "7fc188acd5914bb3bbc9dca826fcc2c3",
            "297aae6bb2644d4aba4e48b24c25897e",
            "0114ed8fb6a7475b8dc2e49aa3a9c1ff",
            "f25cf1e24ae74706905fe48533ecaa59",
            "5ef078ebffa64ff6bcc6eda1f48d4d61",
            "e7fb61e13e864387a1a0e9275e41a9e4",
            "7155f442758640619b394f0d58226f2f",
            "8dc06e3ceb7b40d9aac6d4bbc377dac8",
            "ecaaa2bb98e944e69976b9944547ad3d",
            "5576523ac1eb4af1891d792f1d171a01",
            "7b8bca24ebd14307897209c31879a96c",
            "57d335ace4564ec9a4fa75338a391073",
            "342ac601eac64e0682c6b086602dbce0",
            "f102cffd507a41a38883121be6715f55",
            "1d997aba4b834d56b69bd9cc7936cbe8",
            "2bddd79a4f0448219d6adba9e4b02bbe",
            "5ee988666f3e468d995325588e2e2c85",
            "e81ab1c49f1c45d5aaf4c044008089ac",
            "2da4e8cc92be4ff89e83b73dbdf732e9",
            "cc4e4ae4f6fb4ee38a5cbd1de38d8d2d",
            "4d9686d27f344193872d647a75ff66b6",
            "743cae0182684915903507853aac60c6",
            "37ee9f09aeea4076916957582906d3a6",
            "8a636842d41e4d51bed4c3102d97daef",
            "c008fdf47b004f8d84d033e679bc6fc8",
            "fdace43c610b4a73bc816036d0465998",
            "2641fa1c4b1a4ea0a0b7cbd2dc717a74",
            "a765364652ce43c5a6ffae6b00ad0829",
            "14e96cda2a594d3a91fae04fb8559217",
            "b2d39174c49b4a34ab598605d2f70a06",
            "ce3bd8a5eed54e3494bc8d5371798d22",
            "dbb042def4ff4e8db0e64cf777ba23c6",
            "82d58a47de054b0288dc0bb99edb5ed0",
            "ae35ce2dc92540b483a7beb9418146e1",
            "bc03e80cc7994a84824a59e64aa606cb",
            "a4b5a8b294954a749673c1cf5ca570a3",
            "150f297ff50b4a34b7d51e85a87ea40b",
            "73afd97fbda94bc687c2b00103271cd5",
            "d357f5b50a8749c4ba06e709defc97e8",
            "2f45b0c44bb34259b00eab3ff04046ce",
            "34d678ecd7e24791b8c54840cfa4f65b",
            "a5b03615104c4a4dbfde52bb76b44cf5",
            "2d316b2247924d81adb90acb3e66a6fb",
            "4a60aaa4beb94571a5784a1d1ce821eb",
            "d74e71318030448ba4bacf787de0fb75",
            "73d84ce49946492eabd90c7b375f9a0d",
            "a6d8f33303204d8a84ae35b8aa7f2672",
            "679d7b2144004a2b981732c4a6d84c41",
            "5f593db63dfa44aeaf8147cfbabe27ad",
            "7b234c3603e442efa44ee66ebf34e5db",
            "e909578cc7fc495093df280bc9350535",
            "f50f680dd8eb482191ed311d937c640c",
            "91214e070d3143c2a35f453b5bb75cb2",
            "abb0966b520e4b6fb0a46295b5b2f4b4",
            "2a3e0884b9e6441eac7b7c8214d9299c",
            "f7c89dcf8cf046769a9eff4300fc6749",
            "76356d43749942ff9fda4ee9439a79d6",
            "b5c550a92f8848eab86e9cb6a49aca37",
            "f38028a7175843b2b5f200c0949a20c6",
            "5321421bdce24c3d94b415f42426f389",
            "623091d2adea494cb3b138b31b6a63a7",
            "7d0ae4c4102e4bc19924436c00bd76c8",
            "280c1c708b2d4010964107ff178af46f",
            "7c79c7e140c64bc08dee6ebb153491ee",
            "56529aa28b764af8a09bce7957571231",
            "ada174f3ac4c41c89e96d894b280b04d",
            "671fa498ec544d4f8ebc13d8b08a7490",
            "e338de30df60492fa38e99cc367b0ea2",
            "989f4891171141f5b88a5682f133eaed",
            "e1180a43de064057a7e086597dc5b871",
            "a31d15b6e72d4d55b5833c250de7d5dc",
            "a979fc688052430aa5283e0ae2a0a23a",
            "38b153e4b938447485b39fd905468c03",
            "a1bc8486be1d44769a2b16d1badf8293",
            "a190deb10ef44d6a9a0458eb427359f8",
            "9f57b914793a4c57afb10d7ca5f4ed2d",
            "a1fccd86f9cb4638bc9536f219a213a0",
            "d53a51b31d8346c8b4236435e4fb0841",
            "1dd85d5162bf4db5907679d4adcc6f29",
            "0720f0edc05948a29e8a55cd35905861",
            "5dc441f5d7e44521bc96e2626799b423",
            "30fcded5aa19462ba74bcee543ad026d",
            "97f742da6be641bba1fc8f3c6f9144e5",
            "d8d66d2cf8be4ae687fa6c0fa5e51f74",
            "5c153bd3eed84c45ad421a1cfcc268c2",
            "28ecebff7d33484798951ff3aa4256f7",
            "0b779dfa5b9e47f1b0e31411a9f56a08",
            "10bdac3951a34c2b970ff998f59c032b",
            "b06c5b83d5934b7fb70bc08f9704bf90",
            "7afaf9d619644fc4b036502f0acf6222",
            "caf14cb51f844bd6a2ebd853a982a6c6",
            "fd4c18b89702408a951b90715413ca01",
            "d16e260d59f5453193550554f8ff58a7",
            "c739ee54ceda464c82de496b4547358a",
            "f1673a0cb3054eb29bc2cdadd0805f0c",
            "cf3c8d5af092486aaf8cde87957b4f9b",
            "cfcc5b6bd9c140c5bdd88263efaa56af",
            "0fb2c9bd4ac24fd7ba6147eb770e65c0",
            "28cdc16c2ecd4381a31337a762b15b30",
            "fc9a6c8c8d9b4c2f86ff920f98289f18",
            "c3c31387e7e540de950763984a3833fc",
            "16f3a5a9c58646cea8357845adc6982f",
            "4d0777501c3b4d1abdaf55cc9f465e63",
            "a53e424b81fa46c0b8b1c45362898f91",
            "d25d614774ff440f81f6d357befbec8a",
            "1c81b4aa986e49ae875527cc06617750",
            "aab4c8e5b5f6401babd0a80faa93bd4b",
            "6d2d10f3f1d24c168986a1b146c59f01",
            "c7c4243504164a9b8246fdeaa5a5b13c",
            "01996639ad5341518992a69d43b6b374",
            "9897eb824e864335ace34859f0384325",
            "1e87d567e23a49288ee0ce7a8f05e99a",
            "5987017c9bc842e380a930ba221f0e9f",
            "d5aa7cf1b0b2474cb8545e5254e13844",
            "c831d269136a4aac8af28ad6aff238c2",
            "5c7a0467d8ef4254a3ab2ff0eeee1f39",
            "bea97b58e0a14cc6b304ef1f1785601d",
            "5ac5eb03eb464acfabb24299d404c30c",
            "c81049167e0446989b6ec9f92c038a4d",
            "97a4f958e19f4b9ea9e2d1110adb3c78",
            "4000e416bcd3442ab165c7fc31d46682",
            "55c6cf732db847ed8812f745e11b4ba6",
            "6cf2b28f0c76450fbc077521ac9a9281",
            "301cc9c248264438a3a7d7435357b611",
            "ee5de4eed4034b428a3ffcc132ea7185",
            "46394207163f46f2b8148a45301462bd",
            "ccbe4e28275a4fd486598d15bab773e7",
            "09a9f98325024239a0ea303374e7fdda",
            "7a439468d9c645b5859c720cabca474b",
            "7c5018d617084e88919826767c7c6406",
            "2187f4050a844756b8f90898cd1bf453",
            "585b3ccf9a25431c9df085676e939c8d",
            "b4fe0db129fb41e3ac7cf3c3afdd8935",
            "311289637c084549bb7e16f5de98a4d1",
            "cf255e89b5f4432cb8016c3fa93a49b4",
            "6939c30ecb73406bad70625743564afd",
            "81d0844c43e74c5896d535aa4ce96453",
            "25ecfa8207944fbe84e1cb5af2c9c011",
            "0fa4d6bba7f844d2ab1d94c32c0561df",
            "ea4ddd9f4c164604b7078288d0c6b44e",
            "315b1abf44de427187a739dd8d7e4a06",
            "603c80cdb72641ca80784b53d308edfb",
            "cb7284461ddd4f7d8040cee6fe53462a",
            "bd1104d65c8a48dd9a9ff777e3643ad0",
            "8d95c1befd3d49c78c7a00e750b3fc4a",
            "82241926e38b4925b2ef664f15b565cf",
            "6ac970fd5aa14ea0b958e22f9897cc87",
            "4b25467789d64796accf7ab87d3587d2",
            "9e7059aaee58427f96f36cec9d048533",
            "74747115be2245aa85fe27079dc7a90e",
            "9d79a81b9aac48428cdc595631ae7b6a",
            "c8fcda9d8eec432baa6806c3bb5499f9",
            "b9a645d10008459fbaf79bff15620bb2",
            "1bd3ff096c85433cb649c164f58b1aba",
            "a53fff801f21499d8d1b66c570c18207",
            "1ca02d38637942b8b4d250b4f1467889",
            "c58e5f0620464500a2467ac2e21edf85",
            "4ecea925d9a149d99512a5ab9fdc52e3",
            "a54cb064c9764537ad1839e912af3cf5",
            "7251240e195f4c5fb133002e8a9740ea",
            "712971985710450d8990f7aeb7cd70dd",
            "1fb9900a46294ec39bc1f7cfa8e00b21",
            "6ba18f26c8434736a744eae61f0e66f5",
            "d4ba6048c63f4fbba4b003fb588d704d",
            "f531eb7dd67e4f23afd1e65172479cdb",
            "e9c938dacde24d7c80032f3458961291",
            "44c9db02fdd94f3f8aef34e5e6b8b691",
            "169739e44e624872aa8214e6a851a9be",
            "63254bb083b04feaac1785f9cda53454",
            "478193a09b124990b3f81a6d5e60943e",
            "fefa0c0850614020bd1142495fdd9694",
            "566c31a482c244848b1506a7763672b9",
            "ef9d8c088d0449e1bbaa11fa8ec6048b",
            "f686d848d9bb41a3ba61cccb286350ea",
            "2c5934ca993c4c6f944235a9e6efc739",
            "7cecdccbbbf24ed5abf177d59b68d238"
          ]
        },
        "id": "nOA6nxl_pCGl",
        "outputId": "ab53b94f-c9c4-41bf-f611-01e1bb80e8a6"
      },
      "outputs": [
        {
          "name": "stdout",
          "output_type": "stream",
          "text": [
            "/content/evaluation-pipeline\n"
          ]
        },
        {
          "data": {
            "application/vnd.jupyter.widget-view+json": {
              "model_id": "f14953adb1db46c999b79d66d879e2e2",
              "version_major": 2,
              "version_minor": 0
            },
            "text/plain": [
              "Generating train split:   0%|          | 0/1956 [00:00<?, ? examples/s]"
            ]
          },
          "metadata": {},
          "output_type": "display_data"
        },
        {
          "name": "stdout",
          "output_type": "stream",
          "text": [
            "\n",
            "» Assigning unique IDs to 'blimp_from_file+null' docs\n"
          ]
        },
        {
          "name": "stderr",
          "output_type": "stream",
          "text": [
            "INFO:lm_eval.evaluator:\n",
            "» Assigning unique IDs to 'blimp_from_file+null' docs\n"
          ]
        },
        {
          "data": {
            "application/vnd.jupyter.widget-view+json": {
              "model_id": "310d8bdfb59c47d5b1c1074bb53a3e75",
              "version_major": 2,
              "version_minor": 0
            },
            "text/plain": [
              "Map:   0%|          | 0/1956 [00:00<?, ? examples/s]"
            ]
          },
          "metadata": {},
          "output_type": "display_data"
        },
        {
          "name": "stdout",
          "output_type": "stream",
          "text": [
            "\n",
            "» Filtering invalid docs from 'blimp_from_file+null'\n"
          ]
        },
        {
          "name": "stderr",
          "output_type": "stream",
          "text": [
            "INFO:lm_eval.evaluator:\n",
            "» Filtering invalid docs from 'blimp_from_file+null'\n"
          ]
        },
        {
          "data": {
            "application/vnd.jupyter.widget-view+json": {
              "model_id": "8e46b97ebcc743d6ab7c47c428282a1c",
              "version_major": 2,
              "version_minor": 0
            },
            "text/plain": [
              "Filter:   0%|          | 0/1956 [00:00<?, ? examples/s]"
            ]
          },
          "metadata": {},
          "output_type": "display_data"
        },
        {
          "name": "stdout",
          "output_type": "stream",
          "text": [
            "\n",
            "» Constructing 'blimp_from_file+null' contexts and requests\n"
          ]
        },
        {
          "name": "stderr",
          "output_type": "stream",
          "text": [
            "INFO:lm_eval.evaluator:\n",
            "» Constructing 'blimp_from_file+null' contexts and requests\n",
            "100%|██████████| 1956/1956 [00:00<00:00, 6373.08it/s]"
          ]
        },
        {
          "name": "stdout",
          "output_type": "stream",
          "text": [
            "\n",
            "» Running all `loglikelihood` requests\n"
          ]
        },
        {
          "name": "stderr",
          "output_type": "stream",
          "text": [
            "\n",
            "INFO:lm_eval.evaluator:\n",
            "» Running all `loglikelihood` requests\n",
            "100%|██████████| 3912/3912 [00:55<00:00, 70.44it/s]\n"
          ]
        },
        {
          "name": "stdout",
          "output_type": "stream",
          "text": [
            "anaphor_agreement:\t97.70%\n"
          ]
        },
        {
          "data": {
            "application/vnd.jupyter.widget-view+json": {
              "model_id": "f2fb3a3f5c584b93a863af13669454ee",
              "version_major": 2,
              "version_minor": 0
            },
            "text/plain": [
              "Generating train split:   0%|          | 0/8248 [00:00<?, ? examples/s]"
            ]
          },
          "metadata": {},
          "output_type": "display_data"
        },
        {
          "name": "stdout",
          "output_type": "stream",
          "text": [
            "\n",
            "» Assigning unique IDs to 'blimp_from_file+null' docs\n"
          ]
        },
        {
          "name": "stderr",
          "output_type": "stream",
          "text": [
            "INFO:lm_eval.evaluator:\n",
            "» Assigning unique IDs to 'blimp_from_file+null' docs\n"
          ]
        },
        {
          "data": {
            "application/vnd.jupyter.widget-view+json": {
              "model_id": "d8a3bca5cff2482caf039bf07ead11bf",
              "version_major": 2,
              "version_minor": 0
            },
            "text/plain": [
              "Map:   0%|          | 0/8248 [00:00<?, ? examples/s]"
            ]
          },
          "metadata": {},
          "output_type": "display_data"
        },
        {
          "name": "stdout",
          "output_type": "stream",
          "text": [
            "\n",
            "» Filtering invalid docs from 'blimp_from_file+null'\n"
          ]
        },
        {
          "name": "stderr",
          "output_type": "stream",
          "text": [
            "INFO:lm_eval.evaluator:\n",
            "» Filtering invalid docs from 'blimp_from_file+null'\n"
          ]
        },
        {
          "data": {
            "application/vnd.jupyter.widget-view+json": {
              "model_id": "bb7ff5202dad4027ab18449a26b9e5d0",
              "version_major": 2,
              "version_minor": 0
            },
            "text/plain": [
              "Filter:   0%|          | 0/8248 [00:00<?, ? examples/s]"
            ]
          },
          "metadata": {},
          "output_type": "display_data"
        },
        {
          "name": "stdout",
          "output_type": "stream",
          "text": [
            "\n",
            "» Constructing 'blimp_from_file+null' contexts and requests\n"
          ]
        },
        {
          "name": "stderr",
          "output_type": "stream",
          "text": [
            "INFO:lm_eval.evaluator:\n",
            "» Constructing 'blimp_from_file+null' contexts and requests\n",
            "100%|██████████| 8248/8248 [00:01<00:00, 4579.12it/s]"
          ]
        },
        {
          "name": "stdout",
          "output_type": "stream",
          "text": [
            "\n",
            "» Running all `loglikelihood` requests\n"
          ]
        },
        {
          "name": "stderr",
          "output_type": "stream",
          "text": [
            "\n",
            "INFO:lm_eval.evaluator:\n",
            "» Running all `loglikelihood` requests\n",
            "100%|██████████| 16496/16496 [04:00<00:00, 68.56it/s]\n"
          ]
        },
        {
          "name": "stdout",
          "output_type": "stream",
          "text": [
            "argument_structure:\t83.04%\n"
          ]
        },
        {
          "data": {
            "application/vnd.jupyter.widget-view+json": {
              "model_id": "c622dbbf4f8e492381f1812e378be8a4",
              "version_major": 2,
              "version_minor": 0
            },
            "text/plain": [
              "Generating train split:   0%|          | 0/6738 [00:00<?, ? examples/s]"
            ]
          },
          "metadata": {},
          "output_type": "display_data"
        },
        {
          "name": "stdout",
          "output_type": "stream",
          "text": [
            "\n",
            "» Assigning unique IDs to 'blimp_from_file+null' docs\n"
          ]
        },
        {
          "name": "stderr",
          "output_type": "stream",
          "text": [
            "INFO:lm_eval.evaluator:\n",
            "» Assigning unique IDs to 'blimp_from_file+null' docs\n"
          ]
        },
        {
          "data": {
            "application/vnd.jupyter.widget-view+json": {
              "model_id": "c06b7fd216504ab98e06587a887a05e3",
              "version_major": 2,
              "version_minor": 0
            },
            "text/plain": [
              "Map:   0%|          | 0/6738 [00:00<?, ? examples/s]"
            ]
          },
          "metadata": {},
          "output_type": "display_data"
        },
        {
          "name": "stdout",
          "output_type": "stream",
          "text": [
            "\n",
            "» Filtering invalid docs from 'blimp_from_file+null'\n"
          ]
        },
        {
          "name": "stderr",
          "output_type": "stream",
          "text": [
            "INFO:lm_eval.evaluator:\n",
            "» Filtering invalid docs from 'blimp_from_file+null'\n"
          ]
        },
        {
          "data": {
            "application/vnd.jupyter.widget-view+json": {
              "model_id": "cc41697e9b7b4d3e93aaec4213983e1a",
              "version_major": 2,
              "version_minor": 0
            },
            "text/plain": [
              "Filter:   0%|          | 0/6738 [00:00<?, ? examples/s]"
            ]
          },
          "metadata": {},
          "output_type": "display_data"
        },
        {
          "name": "stdout",
          "output_type": "stream",
          "text": [
            "\n",
            "» Constructing 'blimp_from_file+null' contexts and requests\n"
          ]
        },
        {
          "name": "stderr",
          "output_type": "stream",
          "text": [
            "INFO:lm_eval.evaluator:\n",
            "» Constructing 'blimp_from_file+null' contexts and requests\n",
            "100%|██████████| 6738/6738 [00:01<00:00, 6253.12it/s]"
          ]
        },
        {
          "name": "stdout",
          "output_type": "stream",
          "text": [
            "\n",
            "» Running all `loglikelihood` requests\n"
          ]
        },
        {
          "name": "stderr",
          "output_type": "stream",
          "text": [
            "\n",
            "INFO:lm_eval.evaluator:\n",
            "» Running all `loglikelihood` requests\n",
            "100%|██████████| 13476/13476 [03:30<00:00, 63.99it/s]\n"
          ]
        },
        {
          "name": "stdout",
          "output_type": "stream",
          "text": [
            "binding:\t79.18%\n"
          ]
        },
        {
          "data": {
            "application/vnd.jupyter.widget-view+json": {
              "model_id": "4014f294863849d7baf77b4e1447eb6e",
              "version_major": 2,
              "version_minor": 0
            },
            "text/plain": [
              "Generating train split:   0%|          | 0/4526 [00:00<?, ? examples/s]"
            ]
          },
          "metadata": {},
          "output_type": "display_data"
        },
        {
          "name": "stdout",
          "output_type": "stream",
          "text": [
            "\n",
            "» Assigning unique IDs to 'blimp_from_file+null' docs\n"
          ]
        },
        {
          "name": "stderr",
          "output_type": "stream",
          "text": [
            "INFO:lm_eval.evaluator:\n",
            "» Assigning unique IDs to 'blimp_from_file+null' docs\n"
          ]
        },
        {
          "data": {
            "application/vnd.jupyter.widget-view+json": {
              "model_id": "ba39ffff1626412ca9657da9e77127a2",
              "version_major": 2,
              "version_minor": 0
            },
            "text/plain": [
              "Map:   0%|          | 0/4526 [00:00<?, ? examples/s]"
            ]
          },
          "metadata": {},
          "output_type": "display_data"
        },
        {
          "name": "stdout",
          "output_type": "stream",
          "text": [
            "\n",
            "» Filtering invalid docs from 'blimp_from_file+null'\n"
          ]
        },
        {
          "name": "stderr",
          "output_type": "stream",
          "text": [
            "INFO:lm_eval.evaluator:\n",
            "» Filtering invalid docs from 'blimp_from_file+null'\n"
          ]
        },
        {
          "data": {
            "application/vnd.jupyter.widget-view+json": {
              "model_id": "7942defc6e004cc8856372c3ca6ec603",
              "version_major": 2,
              "version_minor": 0
            },
            "text/plain": [
              "Filter:   0%|          | 0/4526 [00:00<?, ? examples/s]"
            ]
          },
          "metadata": {},
          "output_type": "display_data"
        },
        {
          "name": "stdout",
          "output_type": "stream",
          "text": [
            "\n",
            "» Constructing 'blimp_from_file+null' contexts and requests\n"
          ]
        },
        {
          "name": "stderr",
          "output_type": "stream",
          "text": [
            "INFO:lm_eval.evaluator:\n",
            "» Constructing 'blimp_from_file+null' contexts and requests\n",
            "100%|██████████| 4526/4526 [00:01<00:00, 3828.62it/s]"
          ]
        },
        {
          "name": "stdout",
          "output_type": "stream",
          "text": [
            "\n",
            "» Running all `loglikelihood` requests\n"
          ]
        },
        {
          "name": "stderr",
          "output_type": "stream",
          "text": [
            "\n",
            "INFO:lm_eval.evaluator:\n",
            "» Running all `loglikelihood` requests\n",
            "100%|██████████| 9052/9052 [02:54<00:00, 51.85it/s]\n"
          ]
        },
        {
          "name": "stdout",
          "output_type": "stream",
          "text": [
            "control_raising:\t81.95%\n"
          ]
        },
        {
          "data": {
            "application/vnd.jupyter.widget-view+json": {
              "model_id": "1a3719528eda4a3ca87d0225f8453b1a",
              "version_major": 2,
              "version_minor": 0
            },
            "text/plain": [
              "Generating train split:   0%|          | 0/7542 [00:00<?, ? examples/s]"
            ]
          },
          "metadata": {},
          "output_type": "display_data"
        },
        {
          "name": "stdout",
          "output_type": "stream",
          "text": [
            "\n",
            "» Assigning unique IDs to 'blimp_from_file+null' docs\n"
          ]
        },
        {
          "name": "stderr",
          "output_type": "stream",
          "text": [
            "INFO:lm_eval.evaluator:\n",
            "» Assigning unique IDs to 'blimp_from_file+null' docs\n"
          ]
        },
        {
          "data": {
            "application/vnd.jupyter.widget-view+json": {
              "model_id": "c271ffab366e48dabac2aced1ea2eb32",
              "version_major": 2,
              "version_minor": 0
            },
            "text/plain": [
              "Map:   0%|          | 0/7542 [00:00<?, ? examples/s]"
            ]
          },
          "metadata": {},
          "output_type": "display_data"
        },
        {
          "name": "stdout",
          "output_type": "stream",
          "text": [
            "\n",
            "» Filtering invalid docs from 'blimp_from_file+null'\n"
          ]
        },
        {
          "name": "stderr",
          "output_type": "stream",
          "text": [
            "INFO:lm_eval.evaluator:\n",
            "» Filtering invalid docs from 'blimp_from_file+null'\n"
          ]
        },
        {
          "data": {
            "application/vnd.jupyter.widget-view+json": {
              "model_id": "a243d2e114d4469f92aa4207343e11bc",
              "version_major": 2,
              "version_minor": 0
            },
            "text/plain": [
              "Filter:   0%|          | 0/7542 [00:00<?, ? examples/s]"
            ]
          },
          "metadata": {},
          "output_type": "display_data"
        },
        {
          "name": "stdout",
          "output_type": "stream",
          "text": [
            "\n",
            "» Constructing 'blimp_from_file+null' contexts and requests\n"
          ]
        },
        {
          "name": "stderr",
          "output_type": "stream",
          "text": [
            "INFO:lm_eval.evaluator:\n",
            "» Constructing 'blimp_from_file+null' contexts and requests\n",
            "100%|██████████| 7542/7542 [00:01<00:00, 4394.27it/s]"
          ]
        },
        {
          "name": "stdout",
          "output_type": "stream",
          "text": [
            "\n",
            "» Running all `loglikelihood` requests\n"
          ]
        },
        {
          "name": "stderr",
          "output_type": "stream",
          "text": [
            "\n",
            "INFO:lm_eval.evaluator:\n",
            "» Running all `loglikelihood` requests\n",
            "100%|██████████| 15084/15084 [03:39<00:00, 68.82it/s]\n"
          ]
        },
        {
          "name": "stdout",
          "output_type": "stream",
          "text": [
            "determiner_noun_agreement:\t97.28%\n"
          ]
        },
        {
          "data": {
            "application/vnd.jupyter.widget-view+json": {
              "model_id": "d68233b8679c43acbb504cd84c29ec49",
              "version_major": 2,
              "version_minor": 0
            },
            "text/plain": [
              "Generating train split:   0%|          | 0/1732 [00:00<?, ? examples/s]"
            ]
          },
          "metadata": {},
          "output_type": "display_data"
        },
        {
          "name": "stdout",
          "output_type": "stream",
          "text": [
            "\n",
            "» Assigning unique IDs to 'blimp_from_file+null' docs\n"
          ]
        },
        {
          "name": "stderr",
          "output_type": "stream",
          "text": [
            "INFO:lm_eval.evaluator:\n",
            "» Assigning unique IDs to 'blimp_from_file+null' docs\n"
          ]
        },
        {
          "data": {
            "application/vnd.jupyter.widget-view+json": {
              "model_id": "491811d5428f424c9b4e46f9959dbdcc",
              "version_major": 2,
              "version_minor": 0
            },
            "text/plain": [
              "Map:   0%|          | 0/1732 [00:00<?, ? examples/s]"
            ]
          },
          "metadata": {},
          "output_type": "display_data"
        },
        {
          "name": "stdout",
          "output_type": "stream",
          "text": [
            "\n",
            "» Filtering invalid docs from 'blimp_from_file+null'\n"
          ]
        },
        {
          "name": "stderr",
          "output_type": "stream",
          "text": [
            "INFO:lm_eval.evaluator:\n",
            "» Filtering invalid docs from 'blimp_from_file+null'\n"
          ]
        },
        {
          "data": {
            "application/vnd.jupyter.widget-view+json": {
              "model_id": "27cda56dec8c4cf1ade3ffb8a1d0e6bf",
              "version_major": 2,
              "version_minor": 0
            },
            "text/plain": [
              "Filter:   0%|          | 0/1732 [00:00<?, ? examples/s]"
            ]
          },
          "metadata": {},
          "output_type": "display_data"
        },
        {
          "name": "stdout",
          "output_type": "stream",
          "text": [
            "\n",
            "» Constructing 'blimp_from_file+null' contexts and requests\n"
          ]
        },
        {
          "name": "stderr",
          "output_type": "stream",
          "text": [
            "INFO:lm_eval.evaluator:\n",
            "» Constructing 'blimp_from_file+null' contexts and requests\n",
            "100%|██████████| 1732/1732 [00:00<00:00, 6275.30it/s]"
          ]
        },
        {
          "name": "stdout",
          "output_type": "stream",
          "text": [
            "\n",
            "» Running all `loglikelihood` requests\n"
          ]
        },
        {
          "name": "stderr",
          "output_type": "stream",
          "text": [
            "\n",
            "INFO:lm_eval.evaluator:\n",
            "» Running all `loglikelihood` requests\n",
            "100%|██████████| 3464/3464 [01:38<00:00, 35.27it/s]\n"
          ]
        },
        {
          "name": "stdout",
          "output_type": "stream",
          "text": [
            "ellipsis:\t92.15%\n"
          ]
        },
        {
          "data": {
            "application/vnd.jupyter.widget-view+json": {
              "model_id": "85d50aeba4674f4f8873708df01fd1db",
              "version_major": 2,
              "version_minor": 0
            },
            "text/plain": [
              "Generating train split:   0%|          | 0/6426 [00:00<?, ? examples/s]"
            ]
          },
          "metadata": {},
          "output_type": "display_data"
        },
        {
          "name": "stdout",
          "output_type": "stream",
          "text": [
            "\n",
            "» Assigning unique IDs to 'blimp_from_file+null' docs\n"
          ]
        },
        {
          "name": "stderr",
          "output_type": "stream",
          "text": [
            "INFO:lm_eval.evaluator:\n",
            "» Assigning unique IDs to 'blimp_from_file+null' docs\n"
          ]
        },
        {
          "data": {
            "application/vnd.jupyter.widget-view+json": {
              "model_id": "e2b43d03b4e04b3fb78bdfb1bb22d5b4",
              "version_major": 2,
              "version_minor": 0
            },
            "text/plain": [
              "Map:   0%|          | 0/6426 [00:00<?, ? examples/s]"
            ]
          },
          "metadata": {},
          "output_type": "display_data"
        },
        {
          "name": "stdout",
          "output_type": "stream",
          "text": [
            "\n",
            "» Filtering invalid docs from 'blimp_from_file+null'\n"
          ]
        },
        {
          "name": "stderr",
          "output_type": "stream",
          "text": [
            "INFO:lm_eval.evaluator:\n",
            "» Filtering invalid docs from 'blimp_from_file+null'\n"
          ]
        },
        {
          "data": {
            "application/vnd.jupyter.widget-view+json": {
              "model_id": "5a147b8340e14998b73030c11144f644",
              "version_major": 2,
              "version_minor": 0
            },
            "text/plain": [
              "Filter:   0%|          | 0/6426 [00:00<?, ? examples/s]"
            ]
          },
          "metadata": {},
          "output_type": "display_data"
        },
        {
          "name": "stdout",
          "output_type": "stream",
          "text": [
            "\n",
            "» Constructing 'blimp_from_file+null' contexts and requests\n"
          ]
        },
        {
          "name": "stderr",
          "output_type": "stream",
          "text": [
            "INFO:lm_eval.evaluator:\n",
            "» Constructing 'blimp_from_file+null' contexts and requests\n",
            "100%|██████████| 6426/6426 [00:01<00:00, 4360.75it/s]"
          ]
        },
        {
          "name": "stdout",
          "output_type": "stream",
          "text": [
            "\n",
            "» Running all `loglikelihood` requests\n"
          ]
        },
        {
          "name": "stderr",
          "output_type": "stream",
          "text": [
            "\n",
            "INFO:lm_eval.evaluator:\n",
            "» Running all `loglikelihood` requests\n",
            "100%|██████████| 12852/12852 [04:20<00:00, 49.28it/s]\n"
          ]
        },
        {
          "name": "stdout",
          "output_type": "stream",
          "text": [
            "filler_gap:\t89.39%\n"
          ]
        },
        {
          "data": {
            "application/vnd.jupyter.widget-view+json": {
              "model_id": "5b20d78dee29497dbd92abb3ec99f271",
              "version_major": 2,
              "version_minor": 0
            },
            "text/plain": [
              "Generating train split:   0%|          | 0/1965 [00:00<?, ? examples/s]"
            ]
          },
          "metadata": {},
          "output_type": "display_data"
        },
        {
          "name": "stdout",
          "output_type": "stream",
          "text": [
            "\n",
            "» Assigning unique IDs to 'blimp_from_file+null' docs\n"
          ]
        },
        {
          "name": "stderr",
          "output_type": "stream",
          "text": [
            "INFO:lm_eval.evaluator:\n",
            "» Assigning unique IDs to 'blimp_from_file+null' docs\n"
          ]
        },
        {
          "data": {
            "application/vnd.jupyter.widget-view+json": {
              "model_id": "2594ce403e2b428d9dd3ad2bd59f91e2",
              "version_major": 2,
              "version_minor": 0
            },
            "text/plain": [
              "Map:   0%|          | 0/1965 [00:00<?, ? examples/s]"
            ]
          },
          "metadata": {},
          "output_type": "display_data"
        },
        {
          "name": "stdout",
          "output_type": "stream",
          "text": [
            "\n",
            "» Filtering invalid docs from 'blimp_from_file+null'\n"
          ]
        },
        {
          "name": "stderr",
          "output_type": "stream",
          "text": [
            "INFO:lm_eval.evaluator:\n",
            "» Filtering invalid docs from 'blimp_from_file+null'\n"
          ]
        },
        {
          "data": {
            "application/vnd.jupyter.widget-view+json": {
              "model_id": "c456a0e8d5944da394ea30ca31a5829b",
              "version_major": 2,
              "version_minor": 0
            },
            "text/plain": [
              "Filter:   0%|          | 0/1965 [00:00<?, ? examples/s]"
            ]
          },
          "metadata": {},
          "output_type": "display_data"
        },
        {
          "name": "stdout",
          "output_type": "stream",
          "text": [
            "\n",
            "» Constructing 'blimp_from_file+null' contexts and requests\n"
          ]
        },
        {
          "name": "stderr",
          "output_type": "stream",
          "text": [
            "INFO:lm_eval.evaluator:\n",
            "» Constructing 'blimp_from_file+null' contexts and requests\n",
            "100%|██████████| 1965/1965 [00:00<00:00, 6559.85it/s]"
          ]
        },
        {
          "name": "stdout",
          "output_type": "stream",
          "text": [
            "\n",
            "» Running all `loglikelihood` requests\n"
          ]
        },
        {
          "name": "stderr",
          "output_type": "stream",
          "text": [
            "\n",
            "INFO:lm_eval.evaluator:\n",
            "» Running all `loglikelihood` requests\n",
            "100%|██████████| 3930/3930 [00:55<00:00, 70.33it/s]\n"
          ]
        },
        {
          "name": "stdout",
          "output_type": "stream",
          "text": [
            "irregular_forms:\t95.67%\n"
          ]
        },
        {
          "data": {
            "application/vnd.jupyter.widget-view+json": {
              "model_id": "959650321a7e41578a7d0fc66b148392",
              "version_major": 2,
              "version_minor": 0
            },
            "text/plain": [
              "Generating train split:   0%|          | 0/2676 [00:00<?, ? examples/s]"
            ]
          },
          "metadata": {},
          "output_type": "display_data"
        },
        {
          "name": "stdout",
          "output_type": "stream",
          "text": [
            "\n",
            "» Assigning unique IDs to 'blimp_from_file+null' docs\n"
          ]
        },
        {
          "name": "stderr",
          "output_type": "stream",
          "text": [
            "INFO:lm_eval.evaluator:\n",
            "» Assigning unique IDs to 'blimp_from_file+null' docs\n"
          ]
        },
        {
          "data": {
            "application/vnd.jupyter.widget-view+json": {
              "model_id": "34fb3eb5bfd146f4b3b6562e542c8cbd",
              "version_major": 2,
              "version_minor": 0
            },
            "text/plain": [
              "Map:   0%|          | 0/2676 [00:00<?, ? examples/s]"
            ]
          },
          "metadata": {},
          "output_type": "display_data"
        },
        {
          "name": "stdout",
          "output_type": "stream",
          "text": [
            "\n",
            "» Filtering invalid docs from 'blimp_from_file+null'\n"
          ]
        },
        {
          "name": "stderr",
          "output_type": "stream",
          "text": [
            "INFO:lm_eval.evaluator:\n",
            "» Filtering invalid docs from 'blimp_from_file+null'\n"
          ]
        },
        {
          "data": {
            "application/vnd.jupyter.widget-view+json": {
              "model_id": "7fc188acd5914bb3bbc9dca826fcc2c3",
              "version_major": 2,
              "version_minor": 0
            },
            "text/plain": [
              "Filter:   0%|          | 0/2676 [00:00<?, ? examples/s]"
            ]
          },
          "metadata": {},
          "output_type": "display_data"
        },
        {
          "name": "stdout",
          "output_type": "stream",
          "text": [
            "\n",
            "» Constructing 'blimp_from_file+null' contexts and requests\n"
          ]
        },
        {
          "name": "stderr",
          "output_type": "stream",
          "text": [
            "INFO:lm_eval.evaluator:\n",
            "» Constructing 'blimp_from_file+null' contexts and requests\n",
            "100%|██████████| 2676/2676 [00:00<00:00, 4133.70it/s]"
          ]
        },
        {
          "name": "stdout",
          "output_type": "stream",
          "text": [
            "\n",
            "» Running all `loglikelihood` requests\n"
          ]
        },
        {
          "name": "stderr",
          "output_type": "stream",
          "text": [
            "\n",
            "INFO:lm_eval.evaluator:\n",
            "» Running all `loglikelihood` requests\n",
            "100%|██████████| 5352/5352 [01:36<00:00, 55.24it/s]\n"
          ]
        },
        {
          "name": "stdout",
          "output_type": "stream",
          "text": [
            "island_effects:\t79.71%\n"
          ]
        },
        {
          "data": {
            "application/vnd.jupyter.widget-view+json": {
              "model_id": "57d335ace4564ec9a4fa75338a391073",
              "version_major": 2,
              "version_minor": 0
            },
            "text/plain": [
              "Generating train split:   0%|          | 0/6586 [00:00<?, ? examples/s]"
            ]
          },
          "metadata": {},
          "output_type": "display_data"
        },
        {
          "name": "stdout",
          "output_type": "stream",
          "text": [
            "\n",
            "» Assigning unique IDs to 'blimp_from_file+null' docs\n"
          ]
        },
        {
          "name": "stderr",
          "output_type": "stream",
          "text": [
            "INFO:lm_eval.evaluator:\n",
            "» Assigning unique IDs to 'blimp_from_file+null' docs\n"
          ]
        },
        {
          "data": {
            "application/vnd.jupyter.widget-view+json": {
              "model_id": "37ee9f09aeea4076916957582906d3a6",
              "version_major": 2,
              "version_minor": 0
            },
            "text/plain": [
              "Map:   0%|          | 0/6586 [00:00<?, ? examples/s]"
            ]
          },
          "metadata": {},
          "output_type": "display_data"
        },
        {
          "name": "stdout",
          "output_type": "stream",
          "text": [
            "\n",
            "» Filtering invalid docs from 'blimp_from_file+null'\n"
          ]
        },
        {
          "name": "stderr",
          "output_type": "stream",
          "text": [
            "INFO:lm_eval.evaluator:\n",
            "» Filtering invalid docs from 'blimp_from_file+null'\n"
          ]
        },
        {
          "data": {
            "application/vnd.jupyter.widget-view+json": {
              "model_id": "ae35ce2dc92540b483a7beb9418146e1",
              "version_major": 2,
              "version_minor": 0
            },
            "text/plain": [
              "Filter:   0%|          | 0/6586 [00:00<?, ? examples/s]"
            ]
          },
          "metadata": {},
          "output_type": "display_data"
        },
        {
          "name": "stdout",
          "output_type": "stream",
          "text": [
            "\n",
            "» Constructing 'blimp_from_file+null' contexts and requests\n"
          ]
        },
        {
          "name": "stderr",
          "output_type": "stream",
          "text": [
            "INFO:lm_eval.evaluator:\n",
            "» Constructing 'blimp_from_file+null' contexts and requests\n",
            "100%|██████████| 6586/6586 [00:01<00:00, 6222.18it/s]"
          ]
        },
        {
          "name": "stdout",
          "output_type": "stream",
          "text": [
            "\n",
            "» Running all `loglikelihood` requests\n"
          ]
        },
        {
          "name": "stderr",
          "output_type": "stream",
          "text": [
            "\n",
            "INFO:lm_eval.evaluator:\n",
            "» Running all `loglikelihood` requests\n",
            "100%|██████████| 13172/13172 [03:42<00:00, 59.13it/s]\n"
          ]
        },
        {
          "name": "stdout",
          "output_type": "stream",
          "text": [
            "npi_licensing:\t82.61%\n"
          ]
        },
        {
          "data": {
            "application/vnd.jupyter.widget-view+json": {
              "model_id": "d74e71318030448ba4bacf787de0fb75",
              "version_major": 2,
              "version_minor": 0
            },
            "text/plain": [
              "Generating train split:   0%|          | 0/3882 [00:00<?, ? examples/s]"
            ]
          },
          "metadata": {},
          "output_type": "display_data"
        },
        {
          "name": "stdout",
          "output_type": "stream",
          "text": [
            "\n",
            "» Assigning unique IDs to 'blimp_from_file+null' docs\n"
          ]
        },
        {
          "name": "stderr",
          "output_type": "stream",
          "text": [
            "INFO:lm_eval.evaluator:\n",
            "» Assigning unique IDs to 'blimp_from_file+null' docs\n"
          ]
        },
        {
          "data": {
            "application/vnd.jupyter.widget-view+json": {
              "model_id": "f7c89dcf8cf046769a9eff4300fc6749",
              "version_major": 2,
              "version_minor": 0
            },
            "text/plain": [
              "Map:   0%|          | 0/3882 [00:00<?, ? examples/s]"
            ]
          },
          "metadata": {},
          "output_type": "display_data"
        },
        {
          "name": "stdout",
          "output_type": "stream",
          "text": [
            "\n",
            "» Filtering invalid docs from 'blimp_from_file+null'\n"
          ]
        },
        {
          "name": "stderr",
          "output_type": "stream",
          "text": [
            "INFO:lm_eval.evaluator:\n",
            "» Filtering invalid docs from 'blimp_from_file+null'\n"
          ]
        },
        {
          "data": {
            "application/vnd.jupyter.widget-view+json": {
              "model_id": "671fa498ec544d4f8ebc13d8b08a7490",
              "version_major": 2,
              "version_minor": 0
            },
            "text/plain": [
              "Filter:   0%|          | 0/3882 [00:00<?, ? examples/s]"
            ]
          },
          "metadata": {},
          "output_type": "display_data"
        },
        {
          "name": "stdout",
          "output_type": "stream",
          "text": [
            "\n",
            "» Constructing 'blimp_from_file+null' contexts and requests\n"
          ]
        },
        {
          "name": "stderr",
          "output_type": "stream",
          "text": [
            "INFO:lm_eval.evaluator:\n",
            "» Constructing 'blimp_from_file+null' contexts and requests\n",
            "100%|██████████| 3882/3882 [00:00<00:00, 6189.56it/s]"
          ]
        },
        {
          "name": "stdout",
          "output_type": "stream",
          "text": [
            "\n",
            "» Running all `loglikelihood` requests\n"
          ]
        },
        {
          "name": "stderr",
          "output_type": "stream",
          "text": [
            "\n",
            "INFO:lm_eval.evaluator:\n",
            "» Running all `loglikelihood` requests\n",
            "100%|██████████| 7764/7764 [01:58<00:00, 65.42it/s]\n"
          ]
        },
        {
          "name": "stdout",
          "output_type": "stream",
          "text": [
            "quantifiers:\t70.79%\n"
          ]
        },
        {
          "data": {
            "application/vnd.jupyter.widget-view+json": {
              "model_id": "d53a51b31d8346c8b4236435e4fb0841",
              "version_major": 2,
              "version_minor": 0
            },
            "text/plain": [
              "Generating train split:   0%|          | 0/5535 [00:00<?, ? examples/s]"
            ]
          },
          "metadata": {},
          "output_type": "display_data"
        },
        {
          "name": "stdout",
          "output_type": "stream",
          "text": [
            "\n",
            "» Assigning unique IDs to 'blimp_from_file+null' docs\n"
          ]
        },
        {
          "name": "stderr",
          "output_type": "stream",
          "text": [
            "INFO:lm_eval.evaluator:\n",
            "» Assigning unique IDs to 'blimp_from_file+null' docs\n"
          ]
        },
        {
          "data": {
            "application/vnd.jupyter.widget-view+json": {
              "model_id": "b06c5b83d5934b7fb70bc08f9704bf90",
              "version_major": 2,
              "version_minor": 0
            },
            "text/plain": [
              "Map:   0%|          | 0/5535 [00:00<?, ? examples/s]"
            ]
          },
          "metadata": {},
          "output_type": "display_data"
        },
        {
          "name": "stdout",
          "output_type": "stream",
          "text": [
            "\n",
            "» Filtering invalid docs from 'blimp_from_file+null'\n"
          ]
        },
        {
          "name": "stderr",
          "output_type": "stream",
          "text": [
            "INFO:lm_eval.evaluator:\n",
            "» Filtering invalid docs from 'blimp_from_file+null'\n"
          ]
        },
        {
          "data": {
            "application/vnd.jupyter.widget-view+json": {
              "model_id": "fc9a6c8c8d9b4c2f86ff920f98289f18",
              "version_major": 2,
              "version_minor": 0
            },
            "text/plain": [
              "Filter:   0%|          | 0/5535 [00:00<?, ? examples/s]"
            ]
          },
          "metadata": {},
          "output_type": "display_data"
        },
        {
          "name": "stdout",
          "output_type": "stream",
          "text": [
            "\n",
            "» Constructing 'blimp_from_file+null' contexts and requests\n"
          ]
        },
        {
          "name": "stderr",
          "output_type": "stream",
          "text": [
            "INFO:lm_eval.evaluator:\n",
            "» Constructing 'blimp_from_file+null' contexts and requests\n",
            "100%|██████████| 5535/5535 [00:00<00:00, 6072.59it/s]"
          ]
        },
        {
          "name": "stdout",
          "output_type": "stream",
          "text": [
            "\n",
            "» Running all `loglikelihood` requests\n"
          ]
        },
        {
          "name": "stderr",
          "output_type": "stream",
          "text": [
            "\n",
            "INFO:lm_eval.evaluator:\n",
            "» Running all `loglikelihood` requests\n",
            "100%|██████████| 11070/11070 [02:50<00:00, 64.74it/s]\n"
          ]
        },
        {
          "name": "stdout",
          "output_type": "stream",
          "text": [
            "subject_verb_agreement:\t91.47%\n"
          ]
        },
        {
          "data": {
            "application/vnd.jupyter.widget-view+json": {
              "model_id": "bd1104d65c8a48dd9a9ff777e3643ad0",
              "version_major": 2,
              "version_minor": 0
            },
            "text/plain": [
              "Generating train split:   0%|          | 0/4394 [00:00<?, ? examples/s]"
            ]
          },
          "metadata": {},
          "output_type": "display_data"
        },
        {
          "name": "stdout",
          "output_type": "stream",
          "text": [
            "\n",
            "» Assigning unique IDs to 'blimp_from_file+null' docs\n"
          ]
        },
        {
          "name": "stderr",
          "output_type": "stream",
          "text": [
            "INFO:lm_eval.evaluator:\n",
            "» Assigning unique IDs to 'blimp_from_file+null' docs\n"
          ]
        },
        {
          "data": {
            "application/vnd.jupyter.widget-view+json": {
              "model_id": "a53fff801f21499d8d1b66c570c18207",
              "version_major": 2,
              "version_minor": 0
            },
            "text/plain": [
              "Map:   0%|          | 0/4394 [00:00<?, ? examples/s]"
            ]
          },
          "metadata": {},
          "output_type": "display_data"
        },
        {
          "name": "stdout",
          "output_type": "stream",
          "text": [
            "\n",
            "» Filtering invalid docs from 'blimp_from_file+null'\n"
          ]
        },
        {
          "name": "stderr",
          "output_type": "stream",
          "text": [
            "INFO:lm_eval.evaluator:\n",
            "» Filtering invalid docs from 'blimp_from_file+null'\n"
          ]
        },
        {
          "data": {
            "application/vnd.jupyter.widget-view+json": {
              "model_id": "e9c938dacde24d7c80032f3458961291",
              "version_major": 2,
              "version_minor": 0
            },
            "text/plain": [
              "Filter:   0%|          | 0/4394 [00:00<?, ? examples/s]"
            ]
          },
          "metadata": {},
          "output_type": "display_data"
        },
        {
          "name": "stdout",
          "output_type": "stream",
          "text": [
            "\n",
            "» Constructing 'blimp_from_file+null' contexts and requests\n"
          ]
        },
        {
          "name": "stderr",
          "output_type": "stream",
          "text": [
            "INFO:lm_eval.evaluator:\n",
            "» Constructing 'blimp_from_file+null' contexts and requests\n",
            "100%|██████████| 4394/4394 [00:01<00:00, 3755.58it/s]"
          ]
        },
        {
          "name": "stdout",
          "output_type": "stream",
          "text": [
            "\n",
            "» Running all `loglikelihood` requests\n"
          ]
        },
        {
          "name": "stderr",
          "output_type": "stream",
          "text": [
            "\n",
            "INFO:lm_eval.evaluator:\n",
            "» Running all `loglikelihood` requests\n",
            "100%|██████████| 8788/8788 [08:44<00:00, 16.75it/s]\n",
            "/content/evaluation-pipeline/lm_eval/api/task.py:589: RuntimeWarning: divide by zero encountered in divide\n",
            "  if np.argmax(results / completion_len) == target_idx\n"
          ]
        },
        {
          "name": "stdout",
          "output_type": "stream",
          "text": [
            "preposition:\t91.28%\n",
            "\n",
            "Scores:\n",
            "anaphor_agreement:\t97.70%\n",
            "argument_structure:\t83.04%\n",
            "binding:\t79.18%\n",
            "control_raising:\t81.95%\n",
            "determiner_noun_agreement:\t97.28%\n",
            "ellipsis:\t92.15%\n",
            "filler_gap:\t89.39%\n",
            "irregular_forms:\t95.67%\n",
            "island_effects:\t79.71%\n",
            "npi_licensing:\t82.61%\n",
            "quantifiers:\t70.79%\n",
            "subject_verb_agreement:\t91.47%\n",
            "preposition:\t91.28%\n"
          ]
        }
      ],
      "source": [
        "#@title Load model and evaluate (BLiMP) { display-mode: \"form\" }\n",
        "model = \"/content/drive/MyDrive/VU Thesis/Code/baby_models/roberta-base\" #@param {\"type\": \"string\"}\n",
        "model_type = \"encoder\" #@param [\"decoder\", \"encoder\", \"encoder-decoder\"]\n",
        "# file_name = \"examples3.csv\" #@param {\"type\": \"string\"}\n",
        "# model_names = [\"opt-125m\", \"opt-350m\", \"opt-1.3b\", \"opt-2.7b\"] #@param {\"type\": \"raw\"}\n",
        "\n",
        "%cd /content/evaluation-pipeline\n",
        "%run /content/evaluation-pipeline/babylm_eval_prep.py \\\n",
        "  \"$model\" \\\n",
        "  \"$model_type\" \\\n",
        "  -t \"blimp_with_preposition\""
      ]
    },
    {
      "cell_type": "markdown",
      "source": [
        "### BabyLM Challange RoBERTa Baseline"
      ],
      "metadata": {
        "id": "FiNm-2Ca5mws"
      }
    },
    {
      "cell_type": "code",
      "source": [
        "!git lfs install"
      ],
      "metadata": {
        "id": "QAfupkvJ5vhz",
        "colab": {
          "base_uri": "https://localhost:8080/"
        },
        "outputId": "b98d2316-0fa7-4840-a1eb-8c7f8984e402"
      },
      "execution_count": null,
      "outputs": [
        {
          "output_type": "stream",
          "name": "stdout",
          "text": [
            "Git LFS initialized.\n"
          ]
        }
      ]
    },
    {
      "cell_type": "code",
      "source": [
        "!git clone https://huggingface.co/babylm/roberta-base-strict-small-2023"
      ],
      "metadata": {
        "id": "9Ff1p2pj5sDv",
        "colab": {
          "base_uri": "https://localhost:8080/"
        },
        "outputId": "b94debe6-cdf4-4e23-e7d6-f17f9cee3f4b"
      },
      "execution_count": null,
      "outputs": [
        {
          "output_type": "stream",
          "name": "stdout",
          "text": [
            "Cloning into 'roberta-base-strict-small-2023'...\n",
            "remote: Enumerating objects: 11, done.\u001b[K\n",
            "remote: Total 11 (delta 0), reused 0 (delta 0), pack-reused 11 (from 1)\u001b[K\n",
            "Unpacking objects: 100% (11/11), 520.83 KiB | 4.27 MiB/s, done.\n"
          ]
        }
      ]
    },
    {
      "cell_type": "code",
      "source": [
        "!cp -r \"/content/roberta-base-strict-small-2023\" \"/content/drive/MyDrive/VU Thesis/Code/baby_models/roberta-base-strict-small-2023\""
      ],
      "metadata": {
        "id": "0mK8Cz0K5yjs"
      },
      "execution_count": null,
      "outputs": []
    },
    {
      "cell_type": "code",
      "source": [
        "#@title Load model and evaluate (BLiMP) { display-mode: \"form\" }\n",
        "model = \"/content/drive/MyDrive/VU Thesis/Code/baby_models/roberta-base-strict-small-2023\" #@param {\"type\": \"string\"}\n",
        "model_type = \"encoder\" #@param [\"decoder\", \"encoder\", \"encoder-decoder\"]\n",
        "# file_name = \"examples3.csv\" #@param {\"type\": \"string\"}\n",
        "# model_names = [\"opt-125m\", \"opt-350m\", \"opt-1.3b\", \"opt-2.7b\"] #@param {\"type\": \"raw\"}\n",
        "\n",
        "%cd /content/evaluation-pipeline\n",
        "%run /content/evaluation-pipeline/babylm_eval_prep.py \\\n",
        "  \"$model\" \\\n",
        "  \"$model_type\" \\\n",
        "  -t \"blimp_with_preposition\""
      ],
      "metadata": {
        "id": "pxeh0Usu522o",
        "colab": {
          "base_uri": "https://localhost:8080/",
          "height": 1000,
          "referenced_widgets": [
            "8fbfcde4c7ac4928925892f8e9d7dcc9",
            "9d67abad1e4f4d8ca587a16f20735d96",
            "19aa6d137b6c40ab9b33ad93c9abf6f9",
            "0865550b5a2e4ce5975b06acb5f8a626",
            "277e64e28d1f49a68624ab588d24b80d",
            "c8af3f6c41184c3684c6c365fe9d517f",
            "a31ece04dad3473a9a26482cd7dad713",
            "190030a2eab74c0cb4e0c4bb9bd496ae",
            "3f0d9e35321e40d598711e808bb27cd6",
            "1c74a0d831a84a99942487c787fcd322",
            "b2e593ae4fe04297aab5f1a7a8a22363",
            "d9f5300fd2f9408ca56be4e50df76e83",
            "d399b3958747441fabf43db90a4ee591",
            "a8cadf9b8dda47f4a0c2c52584898900",
            "f03547b5c5c949ddb443609a1a4491a2",
            "1a567421d38a4541ab1b9a1c1f1c171b",
            "2eab47292de442ac8c32b68909c4b370",
            "678ed6f6d54341fb8a53b1ff9336fb74",
            "80b728703c544d969c91a4609f1f7995",
            "67301cc9f7a84d95bdb6c3552e51e6f9",
            "92b5b5d140054a21aa6e35e4fc5a470a",
            "1314b6be125f4bc2bb57825c32676a87",
            "45cca1c3da1b4b0290d9033a537cc5bd",
            "46390f0143b947aea6958c1cfe871819",
            "eba13b0d723d4992be2d14b82aceb95a",
            "e3edaa62a6504b9ab9ff9a09158f83da",
            "cfde1d4562424c799aaaf01d83c4b278",
            "a7f2eab3783b4328b6df74469f224a93",
            "7271297979d84c03b6c6620f7d9b834c",
            "a62015d9d72444ff85b5c279e211de72",
            "863e9ad26eb74204986ff32cdbef3917",
            "cc5b831b402d498e9a565f211c58aa50",
            "4b2d9f18ca714403af392c526beac89f",
            "01124a4ab4b3497d9df09e44462d8396",
            "6920329a1b124d4fb10dd1d7b6afc8b7",
            "65555960042a4cac80880ffab99cf330",
            "8b13cc72c0b341efbb092a6e724732ad",
            "ffb06fbf8f484c8a9a449fb108da2587",
            "2153b11a36fb402daa6bd9287047be94",
            "f5f6c8a18e924617b3ddc4b643d0d786",
            "ab44483ecb39485591736408077f3b1d",
            "2c9333d55fd94d4c87c6e6a74b73adc6",
            "b33229e8d79244bbbdc665efa5bfca80",
            "91e0fe7e7c634765800c233f1a011561",
            "1ee92a3aea3743d9b178593f58ebe2b7",
            "8fe1d20cdaa84865b911e47e87472423",
            "fbb8daabdb734d23b129bc530df053b0",
            "c6bbfbf125cc42afa674d169fb2cc377",
            "28032e7fc1d647888d173056c9ed4f37",
            "8dc3b6eeb4da4c8db66f1fc1ef6e05e7",
            "b133205078b4461e9be1ea11db9bb315",
            "fd158ba5f29249408277d7e477e204b3",
            "70abafddfc0a4723b3ad86fedbb9b446",
            "4dbf054ba74145cba4ed9ec64c873a98",
            "0877e6ed41bb45048c490f9d84ae7ab0",
            "fe571b0b9478423fb580ac3203c71995",
            "7798d765fe5248b39421e7f91211be54",
            "2b6b1a62330e485b9a48cc6121ec6493",
            "e7b25c234d454be1ba11e66cbe4d0fc9",
            "f99aebc2cfcf4baa923b3e4e87457ac3",
            "97ec3c54f53e4870b9a113562b153720",
            "b73344c58f304310b0167335fe54c902",
            "db6d5a73747846079e70bf6a139cb316",
            "e97e0a64f3af40788cc7137e53ee29e2",
            "08e6a21beba345618a137bab0f5a27ee",
            "45b1a26a31d04173af0ac37f9e3e013e",
            "04cd854986c64c7b91304c902d07a814",
            "50be94177f0248a6bcaea5fbdc4fa3ea",
            "4119366d0e77477ea34e7cfe499d2066",
            "7bf0e334724842f299f9fb5677b225fe",
            "1dab274ca5d84c9b90a1ba76166d3058",
            "9839acdf7e2d4524ae38cb81726f3857",
            "c7f99ef247e14dcb9723740cca201106",
            "8ee1cc6892cc4449ba236c23706273d3",
            "2f7b80104a5149cda7c27f08da87c07a",
            "290d4913deeb49c6b7063eb77f0a57d3",
            "f4b2349257214088abb9b08627360ed7",
            "2bef25780dd245f39be747b4b28a7129",
            "b4d6d2bb3b334870920465c4138e41b4",
            "680a9213b6a64dd9a061f6a04e58ed62",
            "40177adb7c9841bf80db37980fb2a00e",
            "0f6384ee82624fe3914a1410546168a2",
            "4e3b77779dbb4fa186c31cc1e9cc94d7",
            "9cf5be3578ed4aaab6aade59e71ce1e8",
            "510d2c8aaeec46cc88061f5f98e83673",
            "a88324e2c84241b7a881f3985c81a40f",
            "fabf4da52d3d4e238a6dbb50cb04f304",
            "9098eeef27934542a1a225bae3e90b3d",
            "7460682a49df49ac913d8fd98d394b44",
            "05e8281012b04c8994f53f57be4729e5",
            "fb0a393cf3884221ba44c6c6c53778b0",
            "248e6a89416c413d8ba2e9262acdf9cd",
            "5df3448af66b478bbbc24f8f70effbf3",
            "4484152e23c446b69693d8eb461a57ce",
            "3683e88ad40b4457b8c5726144d90d2b",
            "3c24f6186dba4d83b69d129414b9ea6b",
            "070c99f8230b4b7980ae7f4e1ae6aa51",
            "dbd58bcf4de84c2baa0ba2fa466676fc",
            "f3e6af02efe04ce6aae54633a306b771",
            "8a9976c816024348bf11b6f4863a7dc5",
            "90ae55afccc544e1921915da92f91bf4",
            "152fa3d079594453ae6bca6a68b99010",
            "49b5d11c6d04441690640c53c35009d0",
            "f7fc772a77b14a48bd79fad29e77181b",
            "85deb14d76c24ec2832f2f55f3fcd3e4",
            "c276389da4ae4ae4826a2fbcaa42f2d4",
            "5e1ba88ea2384b279a7708280e9468c6",
            "3f13fbefc84649099ffc74778219ba52",
            "b53dfce554494eceb27385ee17d5b70a",
            "32683432ac694db99e80cd8f63f1f818",
            "ed42da6d63e54fcca6561ca0bf0523ef",
            "13ae016a784f42ae9158a033c06959eb",
            "62682571185e48b7bdc37b5740907009",
            "a78af07853a64db4b88c48eef5231c2c",
            "6c96dc198b044bca89d7ca128ad6b230",
            "3b71aa5ba0c1461ab24e8ea354f12112",
            "c7b4442c80494cc8b2efbeb67087c629",
            "34f85d86fe76421b9dd1999181c45992",
            "5aefb0787d5047e5810a79c75bd78f33",
            "ba9d2da8462b4b6e8a1981218da2cbc7",
            "8c746035072b4d2ea6201202c9396042",
            "b7643a696b1c422a9ab6a25454e0292b",
            "f005866fdc184d53a9c8abf88c1e8672",
            "1c5e63ce341245f087a456c8a2873f5f",
            "edc8530533174b068bc27bf00710f66d",
            "33644efbb5e242659c77e8d92a9f3d7b",
            "a994d44281db45b899765b7f07cfd885",
            "8b884c190ac54e40b85226f325c6fb3e",
            "524715f396b74f6ba7838140b592ceb9",
            "a02cbf4bf3174d589d7134a473f7584e",
            "5b9fb62f8eb44c77bda0c9e5c0ed695b",
            "4631c4c5a98f40f58dd669ddbf679248",
            "28bd42d91fd64c00a897194779e4d19a",
            "103c62aaa9124b63afdd5098ee58e4ac",
            "8da7bb84d5f24001a12bf0296ae69a61",
            "e5e299b14a67412ca59171319aa1b52d",
            "9f82505b936942f7bf072ca73fe42006",
            "93d8978ac7ce4c5cab1ff917ec22e5e6",
            "e824528b123a49b280ebaee961b70476",
            "8dba105d1b3241558246afd5924b156a",
            "1628eb1e555a48b184748b39d652cd5f",
            "c47a9e447cb642e49f862eaf550f8b40",
            "7583bef7a05c4171ab253d158deb8459",
            "54526503233b44089ad31d41aed42254",
            "4673a0feaa394dec97c684bff6f05b17",
            "f5f8ed650bcf4550a5fa56334cafb980",
            "71d1a648eb06491d9f664556c77ec193",
            "2fdd3885fcb242ae9c7d1fd8c1982a9b",
            "b644e3ec6f414b878e5aa7f5657f27f1",
            "b1b637925820440bae349c9fc04dfea4",
            "9e88cd522d6e4df7bbd40146ef666865",
            "4dc197a5d4cc40a180bb74152f31b8a5",
            "b2b49b3d422245e491e52885c89b3bf7",
            "5d7cc72ad8a04de3b47a12af433816fc",
            "9e0a943f0c104eeab420140b35db94df",
            "728e76681d0145879e3044b78cdf9550",
            "84ad556719b44a3ba24606f03bd35780",
            "e2c8356474784894b7eaaa494c1c706a",
            "76c14e64080547d5ae7675c683a50eac",
            "d04443fa5fd24dfeae2d9609a68fdd34",
            "2e7371653073494d9e486775cc5c839f",
            "a52efc549caa4b7497ea24dcf7165d1d",
            "52b726e4532a46fc82f4459c2f93dd87",
            "d6e637b2fd1d4d848cf8950f4b3fb4c3",
            "52f81cc31c5d4a60abd65f563b6bcbc9",
            "cc4ded22f4df431db53e6477e3d83d84",
            "90319b770ec446db8b0e893ed35fc1fb",
            "afaf16ca2f8c4dd685b90fa857ea0174",
            "a0b2bce5384344cfb870128e06a6930d",
            "3f89241b2a5446b6800e3b12debcc652",
            "7aa9c961cac440979674526b79583f1c",
            "464de330249549e2804d853bf23c2b26",
            "114b68545cc04903a92787764b92ac5f",
            "7b107521ca2c4034809636c26867f017",
            "8eb3e2fd5d5b406aad95af0205c35e23",
            "c186abf5fa8f409c9c7d4da263a62bcf",
            "dad6ff878f4a4505900832a36e24c056",
            "f0dc1d2245e94e9382563b67a6056034",
            "becd8163452e47eb813472cf7d6efda7",
            "2bcda58fe5984ea7a8fe5de2a8706355",
            "436c65ce31894212a1f202692c0def05",
            "e219ee5109df4a6db6d864fd5130af86",
            "f05cd451f81948c88b3b98a601621f3f",
            "d36afed14ad2476b8607acb3850f00f9",
            "6b379e23166e4127bbdaab2d4749bf5b",
            "c797e0c391af45b58addf7541abd2ad9",
            "6c00d0ef6cda49dca695d255d91809ff",
            "d1936493a2964f639bbf40b6e07ad1a7",
            "55debca04da647c98f0c5afc24377c3d",
            "8f2f2a2985114fb4a6a9da6b6036b027",
            "fbd0ac1edcd74710abe02a603c17478e",
            "f9df121d6a8641c1bf8dfd3390dd65dc",
            "6b8b8caa0dda41388d4e93ca8cfcdf39",
            "8bdac3eba94d4e3bbc16ab445b5aa03e",
            "77796d939cd24065a91d6c2dd71fdc56",
            "bb2b264b9b8144c69d49519315023a99",
            "1a8dcb6337ea431393d53fe65d186094",
            "fdd76e657b594331b56fd277dfe8a460",
            "b6ad261f08a6454b97a6096b2a4bd77d",
            "1b5b07a1d5d94a7e825989dcd52b397d",
            "bc4be5d84a5744d59c5c1062583f5bcc",
            "569689807ae84e10bc819349fbb5b4a1",
            "4182c355048d47679f28b9917ee96dea",
            "570a01ea93734f47ab1513b4dc6218d0",
            "798ddb24c5b0466ebbf0fe238164405e",
            "50471007223c410fb8aa9a04cf52653e",
            "e37dea5019b14e228d1b911963c2413d",
            "0bc3ac788d8a4108a37bf6c1e6606149",
            "235f90e3d1794820a7fdaad037746b1f",
            "28dcfef325cd4c5c953df8ad0f3072c6",
            "e11fc5053d994e76a205c9d6050d9a85",
            "5857e0fcc67e4695893fb4cb57d00f84",
            "73a26b67494e405fb5b0d695298efbc9",
            "1a4657dbf9514319bba951f27103fa2e",
            "fe230ecad7574133a7bc138048b3aca9",
            "1fa73199c8e14e68ad304cacc3ab299b",
            "51c9e820342142989986d89430f258ef",
            "fcc43b7ae49849f38537a658356568a8",
            "775358f259f44ad7aac74d6879c60c97",
            "16cb3b15dcc740c39b7f11b0d893d2c6",
            "34ff68498e784a1ca9113937d700be1a",
            "36708aa484f64408869c19c8c3bea27a",
            "f77f88c06a73413697f5da75a98e11f2",
            "efbf595de35346c1867b525febfeda8b",
            "3ff1c432d0584917af9d9fde24f62bf8",
            "2aff958ae16a445e8dab8ddd7e2e4b87",
            "70823dde253f4f88bb6467ae7a5618c4",
            "4a314ad1684d43c899c1dc8f95eb3f66",
            "05a79b6383724130aeddcfcf36c0c701",
            "0dbd4d45fb3a4aac9cf22adcc13cde57",
            "89d5b1bec4ba442fa8561c696e4e564d",
            "f991ba91e25e4fb296d65dc0228082d7",
            "2418e8986fae4039a35a69a32d15dbce",
            "604199322d714bd992cb861c2639be0c",
            "2a0c117990ba4dd4bdc51f55a36107f0",
            "520b9784368d4211a58022be154b4e5c",
            "d87977d205234efd89c3d5049bfb183d",
            "d22eb8de73d84e9d98f4a640f8c2c846",
            "42688ff5a4324e8daab23c10cea4945e",
            "e19b8b024bcc4b85b6117b75fcba8290",
            "f682be49578a4694b0f39a539dd1bde0",
            "4b728b826bbf43049eb98e7e9d55d062",
            "b821f1ede79d4923b6a0439a528f6e3a",
            "24ac9bbaaf07491db3c73f9ca78f9ed2",
            "83e08a1f712b4b35a4d44b625f27be1b",
            "501a49d7f5334fe99b94b39d245151f5",
            "6d5bb5179f7249e2a2ecf709806d1819",
            "24d70441c19d45d2bb10bfe24e9bb185",
            "2ef6b50004a34e2a9cabf13640a310bc",
            "6f36b2a0b11c4831b8cab3f8674d09bc",
            "22aa2129da0041bcacbad2262e876241",
            "faa874bab2b54c08b11374f65a24717a",
            "bd0c67eec1f7431c994c6e2a254ecc7c",
            "2f88e606f4944f379c6ffb2991f71d6d",
            "72ea6d30ea034171937e59bb510e84cd",
            "4de1ac32c8ae436aac77f5b5d6b71ca5",
            "35dc1ff1e16e45d19b9287707e89738d",
            "54c042a877b34942a64678fb931f3ffc",
            "42ada368cc534dfe82f0b8d52ade01d7",
            "824a3496ab4f4f048771750b009c8765",
            "d675b7bb20cb48ffa38eaea3672a42df",
            "c52ce4f42958488a8ba8709cc7f18f1c",
            "665c40bedb414d24994db36b6b5490a5",
            "47e5694b267c41f89db6d3caccb382ba",
            "daaaf3028bf94e43b28a175d5707c3bc",
            "379424403f06423698b8686502470067",
            "7ce96ac52977409a9af6d69d01380a4d",
            "23ff95787bfd432f975d25afedfb1f66",
            "251ee00734a6406ab3c295e56301d71b",
            "2a3bb69022944c21b55aa7e878f3beeb",
            "8a6795cdf59f4310b85ed1395c41870b",
            "7ca71802de32481d8f875bed31355425",
            "b059c2ced30444abbe8fb1ae2544ebfc",
            "42f72eeeef8244a48891d9c27bf9bf2b",
            "eab887ab5bfe4bd2a68f6e30c27c15ae",
            "b782dbaa8e294d5f84475e9c289ef2ab",
            "40aab54dee9e4e1a88821e1aff955743",
            "7841ec04d7624f948e31af9cb706c7b0",
            "5b15c02e4e7d4751bcf82809086f0ea3",
            "9d4544aaab524237a75926a89ec18f1b",
            "b48fc3908161499697828c662d32c2b6",
            "1c0543cf7d94433fb83d08e40ec15fcc",
            "ffacd7159d304db0bad0be43e09db5b5",
            "fe88db7cd59044dea9b17d374e7f6150",
            "5fbab4b9ef5b47949654644b6a4432b7",
            "a9e0ec54d4c4464b9b11708a6c7ce308",
            "f042df2e00ac4526ac801505d8e8ed9f",
            "b2ad59a65ea145c4bf7884f7286970a0",
            "f06412fb1dce49708541e1418e6ec674",
            "57645a5cc74445cbae86dd9aad50b3d8",
            "5026245ff074480887cc6236026df883",
            "2c7e3ef88fdd45f1896261349a1489bf",
            "8100fef1743d4f538f0bf95f87b20d97",
            "3f3767e9e51b442c9450aef3c593fbf2",
            "71a17058d97c4b62b682db2df9b11839",
            "920ce9bd009240ec829c60110297a6ab",
            "240a30ff4a7d4fd087e62f7328d25a8b",
            "2871e72ab7974ec796f6125d459f1487",
            "d037811de7fd46889b97d700bf59d12b",
            "dac3d39a1fc246af8c1e8728c03b1a69",
            "a32f1abc42ad4f97be73ad45b011372c",
            "f32e7a0d732045599642e312bacfaa2d",
            "7ce01ac90831426a87c700cd63597816",
            "b456c926353d4b7b968975c34019dd7f",
            "1600e7cd6aa448bdbfc8cdce2c28ae21",
            "258f76acf43441e79ae2dc973f4918d3",
            "a3e93d5f50494979872a34b45b6a6e09",
            "66a63afe59324e9abe82803864414235",
            "2e5dc85777b344f097261caa6c5d2f73",
            "94907707ea2c46fcbf27f25716ae4d51",
            "5865f514b149477cb7fe3a8e40a0270f",
            "edac8ad2472c4104a50ec399cc61e775",
            "570c665c05084ab292df059b7c9bb9dd",
            "08812d60a40c42b0bdf270aa1d7dc1e2",
            "561fe80f0811409b87d1487eae7f3c41",
            "bab379435d874597b110bf20bef00f83",
            "5449b41baefe4c768b65ad1baab7c5e9",
            "51d51da7ba514fe69c8df17f3c493f90",
            "bbabdbaecb0d404fbdf3d13f01c23dc4",
            "2b80dc87546d4dff9dc2171f590736db",
            "76c115605881438f96b1148b346ee8e8",
            "7e9d8f2601f4437185c564e4dc7823fe",
            "1767ac8742dc4bfa95538d892c256712",
            "7cb229b9518948af859976d2839a13a6",
            "acd3bb6bc76c4b91b06f9c70b5877c33",
            "87d9d518e6644a64be5d1b3641c81067",
            "1149a376588c46afb406a383b7d86810",
            "f3f9612a46b24fb88338ea61eed9914e",
            "8df80787778542858f33423fd39e2aa3",
            "c333ca6e100f457abb3200c2eedbb60d",
            "e1b3a1cb69cc4386b8512a8a2d352522",
            "25f9674888fa4484858c3cc71850a846",
            "504df1f538e04b7696794be34bbd194e",
            "b5dd9f8760ce42559d69d5ed7988672c",
            "bbf0834b66964db8872780c163e5b79b",
            "6e4310298ad24c89af1e5ce9fd192969",
            "dd2df7eed8d44729bc81f062d4e9b3eb",
            "cff4f5278b7b42acac5722e133ccfec4",
            "c386daf8b2404c8c9ccc0d09152936f2",
            "00bb1b41c31f4ac5a8926f53a3c99b8b",
            "fc785fe1755c4c7cb4c6eb647345c445",
            "e97e52cb90704a969905d96c1d715404",
            "0c32f06eccae4bcba21d1095f77c0c6f",
            "05a600ccaa404d3ba57f098366ee8622",
            "6b81fd2a9c8945ea940e0a8c74b64e39",
            "13dd948626204af6b12f2d52f7efc377",
            "bc3a7c337e9940a18fb7e5f409c94a5f",
            "7042fbe6c3e4468d954a7e3bfc44e617",
            "42edb894e9e6494dbd49fb42153ef891",
            "454dcc31597941e499e63dc4b6fb63a5",
            "8e973cbdb0c948deb7b5943cb4c98cb7",
            "fc882acbdc984e46b242791ca4b74577",
            "a3cda4c0610743dd8a6147be6f5401e3",
            "fd867ccbaf7c423f82060ff00eb98071",
            "1f460b3837f74a70b25f114dc1a2c42f",
            "35b8ae720ab14b3d8a636929956c5422",
            "c8e730196fd54e328d117f0cf31fc12d",
            "6d09eb24abec4e02ac0e64c6809e12b6",
            "6cfb8789995a41e8804967da69053211",
            "ec529ec27fdd4fa29b5dd59c66fa9b1f",
            "e3ea32ef477b47d8a348e3ab8e7c3561",
            "b848ae65bfbb41e78ef98e84a1004fc2",
            "b904d378a12241c3944890816e23f597",
            "af3bdf6355894c3eb3027134604c155e",
            "35bd5e53823a4d03b132092c37db5159",
            "aa87fb9d883c46a19346458e1c2fb1e8",
            "cf95230cd32943a6b5d95c1a952dffbc",
            "a269ed940af94c68af97888cec38eabf",
            "e63f0069562440d9bc4db2aa14391952",
            "1b2329bc4bd749f4b9c0f948c413039d",
            "3d71fbc9fe3f4cf78d444b00afde83b7",
            "b9feb97b6a784ca2990cc4e4318b225c",
            "e49a9f25e48d47ecbed2be66cb139b5a",
            "39f34e12c91b4ad29701fd6214491678",
            "63d446001ee2481c945dd7e6d134e26a",
            "f9a9faa0709843d498e3d0c2c261748e",
            "caef39697be5482cb500b2ef802fbb34",
            "21f4fad283564f70a95f93acb2d2832b",
            "7d71861431a146e39535cd387b6cdef4",
            "217779df235246419f907266e2fdfd92",
            "546a506995c947b88067048f63e5bff8",
            "b019a905a66d481baa6ca936b9a8a99d",
            "cbcc90b58ee44c85bf11fdef3d5eecde",
            "3d8d5199ddaa43c38ce8482c472129a9",
            "74eaccb1690b4f358ab53e4d2cd36abb",
            "1b0a941966994afa8994c772bdaee33b",
            "78a4f046149f44b89a2f716a1727e052",
            "7cedc1c6c20c497680116d0c71f82b58",
            "feaa0b8f224f4f00a5dd8be5808743b2",
            "e012da3bdfd24bf4a9bfb80006ee6a43",
            "b6ae9f4f8dd341af9b9eda5022e16c03",
            "dad48891f21846d38b2394b09ae140f2",
            "92d1de232a014e3fa5ed1a23d52fada6",
            "b253f50415614711a0279d5920a89b82",
            "ebbfb47a4a904f8b8b6a78234078cb21",
            "c90b0b08c14043089ea07a8d63d9a67e",
            "a60537f69b7a4ee6808a2db45a822d01",
            "b1cc00c484a74ae2abef20b450283505",
            "fb9e2ced4dac471ea0720d631ac6b09d",
            "1390a124e1fb496388f34dfa8b9f2555",
            "954bfc3787e14f89be7e7c16cea4fb87",
            "4f25fd04141846e19b916cf199cc0443",
            "b3bafc7873514033aac0a8561b9b1c0a",
            "b0de91c6575040ddaa1f4cb3ff51579a",
            "747b953fcc9d4971a4d088939d46a296",
            "0d955f763e414af29a9420346e8e87a5",
            "c212ff0a32d54c719ac513087118d277",
            "9f4a3a3bc11c4bee86fee860bf37efac",
            "cd57215c646044eab943df8b1bceb89c",
            "36c4686ccae349e091e5c7edc2869742",
            "e55bb14b8a2b4ed4ab1985d1f6705c2d",
            "7efe3d5c7eb840bda6803ff0573054ca",
            "0343a4f87c3f43c89dca48b237a6e35f",
            "61fb3d98e17d4309a030c26a61b89e61",
            "f1385e9eed0b4f5c902b3732f63fb6ba",
            "df36e7fb893f46c5a26d92014d1e2a24",
            "ad6f614bc5d144d6a7e147417a097d85",
            "134119cef66947afa77f9d6f207f2e31",
            "2d6430e882f34e62a9edd366ecf8775d",
            "9c332fe527d047b2a8ffadbf3abc71ab",
            "f89be8333537459d8300b3985400f539",
            "adb65e5bd87d4cf68cc293b7ec26f13a",
            "af3c376d9ed345dca98d3925626cf98c",
            "c9d018c16668497cb7f41c9da2edfd0b",
            "8e590de449fa4691b1418616bb7a7797",
            "36e0423785c24ffda9d818dbf88b15dd",
            "e0fada324b3e443286f65bc163ef7d70",
            "60e1849810dd444ebe37cf7b0f3f7549",
            "30bea87831e7455f8ac1e90315679c65"
          ]
        },
        "outputId": "45bba4d1-7d10-4fe9-910c-b56c6c425a62"
      },
      "execution_count": null,
      "outputs": [
        {
          "metadata": {
            "tags": null
          },
          "name": "stdout",
          "output_type": "stream",
          "text": [
            "/content/evaluation-pipeline\n"
          ]
        },
        {
          "data": {
            "application/vnd.jupyter.widget-view+json": {
              "model_id": "8fbfcde4c7ac4928925892f8e9d7dcc9",
              "version_major": 2,
              "version_minor": 0
            },
            "text/plain": [
              "Generating train split: 0 examples [00:00, ? examples/s]"
            ]
          },
          "metadata": {},
          "output_type": "display_data"
        },
        {
          "metadata": {
            "tags": null
          },
          "name": "stdout",
          "output_type": "stream",
          "text": [
            "\n",
            "» Assigning unique IDs to 'blimp_from_file+null' docs\n"
          ]
        },
        {
          "metadata": {
            "tags": null
          },
          "name": "stderr",
          "output_type": "stream",
          "text": [
            "INFO:lm_eval.evaluator:\n",
            "» Assigning unique IDs to 'blimp_from_file+null' docs\n"
          ]
        },
        {
          "data": {
            "application/vnd.jupyter.widget-view+json": {
              "model_id": "d9f5300fd2f9408ca56be4e50df76e83",
              "version_major": 2,
              "version_minor": 0
            },
            "text/plain": [
              "Map:   0%|          | 0/1956 [00:00<?, ? examples/s]"
            ]
          },
          "metadata": {},
          "output_type": "display_data"
        },
        {
          "metadata": {
            "tags": null
          },
          "name": "stdout",
          "output_type": "stream",
          "text": [
            "\n",
            "» Filtering invalid docs from 'blimp_from_file+null'\n"
          ]
        },
        {
          "metadata": {
            "tags": null
          },
          "name": "stderr",
          "output_type": "stream",
          "text": [
            "INFO:lm_eval.evaluator:\n",
            "» Filtering invalid docs from 'blimp_from_file+null'\n"
          ]
        },
        {
          "data": {
            "application/vnd.jupyter.widget-view+json": {
              "model_id": "45cca1c3da1b4b0290d9033a537cc5bd",
              "version_major": 2,
              "version_minor": 0
            },
            "text/plain": [
              "Filter:   0%|          | 0/1956 [00:00<?, ? examples/s]"
            ]
          },
          "metadata": {},
          "output_type": "display_data"
        },
        {
          "metadata": {
            "tags": null
          },
          "name": "stdout",
          "output_type": "stream",
          "text": [
            "\n",
            "» Constructing 'blimp_from_file+null' contexts and requests\n"
          ]
        },
        {
          "metadata": {
            "tags": null
          },
          "name": "stderr",
          "output_type": "stream",
          "text": [
            "INFO:lm_eval.evaluator:\n",
            "» Constructing 'blimp_from_file+null' contexts and requests\n",
            "100%|██████████| 1956/1956 [00:00<00:00, 6951.58it/s]"
          ]
        },
        {
          "metadata": {
            "tags": null
          },
          "name": "stdout",
          "output_type": "stream",
          "text": [
            "\n",
            "» Running all `loglikelihood` requests\n"
          ]
        },
        {
          "metadata": {
            "tags": null
          },
          "name": "stderr",
          "output_type": "stream",
          "text": [
            "\n",
            "INFO:lm_eval.evaluator:\n",
            "» Running all `loglikelihood` requests\n",
            "100%|██████████| 3912/3912 [00:49<00:00, 79.57it/s]\n"
          ]
        },
        {
          "metadata": {
            "tags": null
          },
          "name": "stdout",
          "output_type": "stream",
          "text": [
            "anaphor_agreement:\t81.54%\n"
          ]
        },
        {
          "data": {
            "application/vnd.jupyter.widget-view+json": {
              "model_id": "01124a4ab4b3497d9df09e44462d8396",
              "version_major": 2,
              "version_minor": 0
            },
            "text/plain": [
              "Generating train split: 0 examples [00:00, ? examples/s]"
            ]
          },
          "metadata": {},
          "output_type": "display_data"
        },
        {
          "metadata": {
            "tags": null
          },
          "name": "stdout",
          "output_type": "stream",
          "text": [
            "\n",
            "» Assigning unique IDs to 'blimp_from_file+null' docs\n"
          ]
        },
        {
          "metadata": {
            "tags": null
          },
          "name": "stderr",
          "output_type": "stream",
          "text": [
            "INFO:lm_eval.evaluator:\n",
            "» Assigning unique IDs to 'blimp_from_file+null' docs\n"
          ]
        },
        {
          "data": {
            "application/vnd.jupyter.widget-view+json": {
              "model_id": "1ee92a3aea3743d9b178593f58ebe2b7",
              "version_major": 2,
              "version_minor": 0
            },
            "text/plain": [
              "Map:   0%|          | 0/8248 [00:00<?, ? examples/s]"
            ]
          },
          "metadata": {},
          "output_type": "display_data"
        },
        {
          "metadata": {
            "tags": null
          },
          "name": "stdout",
          "output_type": "stream",
          "text": [
            "\n",
            "» Filtering invalid docs from 'blimp_from_file+null'\n"
          ]
        },
        {
          "metadata": {
            "tags": null
          },
          "name": "stderr",
          "output_type": "stream",
          "text": [
            "INFO:lm_eval.evaluator:\n",
            "» Filtering invalid docs from 'blimp_from_file+null'\n"
          ]
        },
        {
          "data": {
            "application/vnd.jupyter.widget-view+json": {
              "model_id": "fe571b0b9478423fb580ac3203c71995",
              "version_major": 2,
              "version_minor": 0
            },
            "text/plain": [
              "Filter:   0%|          | 0/8248 [00:00<?, ? examples/s]"
            ]
          },
          "metadata": {},
          "output_type": "display_data"
        },
        {
          "metadata": {
            "tags": null
          },
          "name": "stdout",
          "output_type": "stream",
          "text": [
            "\n",
            "» Constructing 'blimp_from_file+null' contexts and requests\n"
          ]
        },
        {
          "metadata": {
            "tags": null
          },
          "name": "stderr",
          "output_type": "stream",
          "text": [
            "INFO:lm_eval.evaluator:\n",
            "» Constructing 'blimp_from_file+null' contexts and requests\n",
            "100%|██████████| 8248/8248 [00:01<00:00, 7099.07it/s]"
          ]
        },
        {
          "metadata": {
            "tags": null
          },
          "name": "stdout",
          "output_type": "stream",
          "text": [
            "\n",
            "» Running all `loglikelihood` requests\n"
          ]
        },
        {
          "metadata": {
            "tags": null
          },
          "name": "stderr",
          "output_type": "stream",
          "text": [
            "\n",
            "INFO:lm_eval.evaluator:\n",
            "» Running all `loglikelihood` requests\n",
            "100%|██████████| 16496/16496 [03:29<00:00, 78.71it/s]\n"
          ]
        },
        {
          "metadata": {
            "tags": null
          },
          "name": "stdout",
          "output_type": "stream",
          "text": [
            "argument_structure:\t67.12%\n"
          ]
        },
        {
          "data": {
            "application/vnd.jupyter.widget-view+json": {
              "model_id": "04cd854986c64c7b91304c902d07a814",
              "version_major": 2,
              "version_minor": 0
            },
            "text/plain": [
              "Generating train split: 0 examples [00:00, ? examples/s]"
            ]
          },
          "metadata": {},
          "output_type": "display_data"
        },
        {
          "metadata": {
            "tags": null
          },
          "name": "stdout",
          "output_type": "stream",
          "text": [
            "\n",
            "» Assigning unique IDs to 'blimp_from_file+null' docs\n"
          ]
        },
        {
          "metadata": {
            "tags": null
          },
          "name": "stderr",
          "output_type": "stream",
          "text": [
            "INFO:lm_eval.evaluator:\n",
            "» Assigning unique IDs to 'blimp_from_file+null' docs\n"
          ]
        },
        {
          "data": {
            "application/vnd.jupyter.widget-view+json": {
              "model_id": "2bef25780dd245f39be747b4b28a7129",
              "version_major": 2,
              "version_minor": 0
            },
            "text/plain": [
              "Map:   0%|          | 0/6738 [00:00<?, ? examples/s]"
            ]
          },
          "metadata": {},
          "output_type": "display_data"
        },
        {
          "metadata": {
            "tags": null
          },
          "name": "stdout",
          "output_type": "stream",
          "text": [
            "\n",
            "» Filtering invalid docs from 'blimp_from_file+null'\n"
          ]
        },
        {
          "metadata": {
            "tags": null
          },
          "name": "stderr",
          "output_type": "stream",
          "text": [
            "INFO:lm_eval.evaluator:\n",
            "» Filtering invalid docs from 'blimp_from_file+null'\n"
          ]
        },
        {
          "data": {
            "application/vnd.jupyter.widget-view+json": {
              "model_id": "7460682a49df49ac913d8fd98d394b44",
              "version_major": 2,
              "version_minor": 0
            },
            "text/plain": [
              "Filter:   0%|          | 0/6738 [00:00<?, ? examples/s]"
            ]
          },
          "metadata": {},
          "output_type": "display_data"
        },
        {
          "metadata": {
            "tags": null
          },
          "name": "stdout",
          "output_type": "stream",
          "text": [
            "\n",
            "» Constructing 'blimp_from_file+null' contexts and requests\n"
          ]
        },
        {
          "metadata": {
            "tags": null
          },
          "name": "stderr",
          "output_type": "stream",
          "text": [
            "INFO:lm_eval.evaluator:\n",
            "» Constructing 'blimp_from_file+null' contexts and requests\n",
            "100%|██████████| 6738/6738 [00:00<00:00, 7191.18it/s]"
          ]
        },
        {
          "metadata": {
            "tags": null
          },
          "name": "stdout",
          "output_type": "stream",
          "text": [
            "\n",
            "» Running all `loglikelihood` requests\n"
          ]
        },
        {
          "output_type": "stream",
          "name": "stderr",
          "text": [
            "\n",
            "INFO:lm_eval.evaluator:\n",
            "» Running all `loglikelihood` requests\n",
            "100%|██████████| 13476/13476 [03:17<00:00, 68.22it/s]\n"
          ]
        },
        {
          "output_type": "stream",
          "name": "stdout",
          "text": [
            "binding:\t67.26%\n"
          ]
        },
        {
          "output_type": "display_data",
          "data": {
            "text/plain": [
              "Generating train split: 0 examples [00:00, ? examples/s]"
            ],
            "application/vnd.jupyter.widget-view+json": {
              "version_major": 2,
              "version_minor": 0,
              "model_id": "8a9976c816024348bf11b6f4863a7dc5"
            }
          },
          "metadata": {}
        },
        {
          "output_type": "stream",
          "name": "stdout",
          "text": [
            "\n",
            "» Assigning unique IDs to 'blimp_from_file+null' docs\n"
          ]
        },
        {
          "output_type": "stream",
          "name": "stderr",
          "text": [
            "INFO:lm_eval.evaluator:\n",
            "» Assigning unique IDs to 'blimp_from_file+null' docs\n"
          ]
        },
        {
          "output_type": "display_data",
          "data": {
            "text/plain": [
              "Map:   0%|          | 0/4526 [00:00<?, ? examples/s]"
            ],
            "application/vnd.jupyter.widget-view+json": {
              "version_major": 2,
              "version_minor": 0,
              "model_id": "ed42da6d63e54fcca6561ca0bf0523ef"
            }
          },
          "metadata": {}
        },
        {
          "output_type": "stream",
          "name": "stdout",
          "text": [
            "\n",
            "» Filtering invalid docs from 'blimp_from_file+null'\n"
          ]
        },
        {
          "output_type": "stream",
          "name": "stderr",
          "text": [
            "INFO:lm_eval.evaluator:\n",
            "» Filtering invalid docs from 'blimp_from_file+null'\n"
          ]
        },
        {
          "output_type": "display_data",
          "data": {
            "text/plain": [
              "Filter:   0%|          | 0/4526 [00:00<?, ? examples/s]"
            ],
            "application/vnd.jupyter.widget-view+json": {
              "version_major": 2,
              "version_minor": 0,
              "model_id": "b7643a696b1c422a9ab6a25454e0292b"
            }
          },
          "metadata": {}
        },
        {
          "output_type": "stream",
          "name": "stdout",
          "text": [
            "\n",
            "» Constructing 'blimp_from_file+null' contexts and requests\n"
          ]
        },
        {
          "output_type": "stream",
          "name": "stderr",
          "text": [
            "INFO:lm_eval.evaluator:\n",
            "» Constructing 'blimp_from_file+null' contexts and requests\n",
            "100%|██████████| 4526/4526 [00:00<00:00, 7355.82it/s]"
          ]
        },
        {
          "output_type": "stream",
          "name": "stdout",
          "text": [
            "\n",
            "» Running all `loglikelihood` requests\n"
          ]
        },
        {
          "output_type": "stream",
          "name": "stderr",
          "text": [
            "\n",
            "INFO:lm_eval.evaluator:\n",
            "» Running all `loglikelihood` requests\n",
            "100%|██████████| 9052/9052 [02:53<00:00, 52.05it/s]\n"
          ]
        },
        {
          "output_type": "stream",
          "name": "stdout",
          "text": [
            "control_raising:\t67.85%\n"
          ]
        },
        {
          "output_type": "display_data",
          "data": {
            "text/plain": [
              "Generating train split: 0 examples [00:00, ? examples/s]"
            ],
            "application/vnd.jupyter.widget-view+json": {
              "version_major": 2,
              "version_minor": 0,
              "model_id": "28bd42d91fd64c00a897194779e4d19a"
            }
          },
          "metadata": {}
        },
        {
          "output_type": "stream",
          "name": "stdout",
          "text": [
            "\n",
            "» Assigning unique IDs to 'blimp_from_file+null' docs\n"
          ]
        },
        {
          "output_type": "stream",
          "name": "stderr",
          "text": [
            "INFO:lm_eval.evaluator:\n",
            "» Assigning unique IDs to 'blimp_from_file+null' docs\n"
          ]
        },
        {
          "output_type": "display_data",
          "data": {
            "text/plain": [
              "Map:   0%|          | 0/7542 [00:00<?, ? examples/s]"
            ],
            "application/vnd.jupyter.widget-view+json": {
              "version_major": 2,
              "version_minor": 0,
              "model_id": "54526503233b44089ad31d41aed42254"
            }
          },
          "metadata": {}
        },
        {
          "output_type": "stream",
          "name": "stdout",
          "text": [
            "\n",
            "» Filtering invalid docs from 'blimp_from_file+null'\n"
          ]
        },
        {
          "output_type": "stream",
          "name": "stderr",
          "text": [
            "INFO:lm_eval.evaluator:\n",
            "» Filtering invalid docs from 'blimp_from_file+null'\n"
          ]
        },
        {
          "output_type": "display_data",
          "data": {
            "text/plain": [
              "Filter:   0%|          | 0/7542 [00:00<?, ? examples/s]"
            ],
            "application/vnd.jupyter.widget-view+json": {
              "version_major": 2,
              "version_minor": 0,
              "model_id": "9e0a943f0c104eeab420140b35db94df"
            }
          },
          "metadata": {}
        },
        {
          "output_type": "stream",
          "name": "stdout",
          "text": [
            "\n",
            "» Constructing 'blimp_from_file+null' contexts and requests\n"
          ]
        },
        {
          "output_type": "stream",
          "name": "stderr",
          "text": [
            "INFO:lm_eval.evaluator:\n",
            "» Constructing 'blimp_from_file+null' contexts and requests\n",
            "100%|██████████| 7542/7542 [00:01<00:00, 5327.77it/s]"
          ]
        },
        {
          "output_type": "stream",
          "name": "stdout",
          "text": [
            "\n",
            "» Running all `loglikelihood` requests\n"
          ]
        },
        {
          "output_type": "stream",
          "name": "stderr",
          "text": [
            "\n",
            "INFO:lm_eval.evaluator:\n",
            "» Running all `loglikelihood` requests\n",
            "100%|██████████| 15084/15084 [03:12<00:00, 78.39it/s]\n"
          ]
        },
        {
          "output_type": "stream",
          "name": "stdout",
          "text": [
            "determiner_noun_agreement:\t90.75%\n"
          ]
        },
        {
          "output_type": "display_data",
          "data": {
            "text/plain": [
              "Generating train split: 0 examples [00:00, ? examples/s]"
            ],
            "application/vnd.jupyter.widget-view+json": {
              "version_major": 2,
              "version_minor": 0,
              "model_id": "cc4ded22f4df431db53e6477e3d83d84"
            }
          },
          "metadata": {}
        },
        {
          "output_type": "stream",
          "name": "stdout",
          "text": [
            "\n",
            "» Assigning unique IDs to 'blimp_from_file+null' docs\n"
          ]
        },
        {
          "output_type": "stream",
          "name": "stderr",
          "text": [
            "INFO:lm_eval.evaluator:\n",
            "» Assigning unique IDs to 'blimp_from_file+null' docs\n"
          ]
        },
        {
          "output_type": "display_data",
          "data": {
            "text/plain": [
              "Map:   0%|          | 0/1732 [00:00<?, ? examples/s]"
            ],
            "application/vnd.jupyter.widget-view+json": {
              "version_major": 2,
              "version_minor": 0,
              "model_id": "dad6ff878f4a4505900832a36e24c056"
            }
          },
          "metadata": {}
        },
        {
          "output_type": "stream",
          "name": "stdout",
          "text": [
            "\n",
            "» Filtering invalid docs from 'blimp_from_file+null'\n"
          ]
        },
        {
          "output_type": "stream",
          "name": "stderr",
          "text": [
            "INFO:lm_eval.evaluator:\n",
            "» Filtering invalid docs from 'blimp_from_file+null'\n"
          ]
        },
        {
          "output_type": "display_data",
          "data": {
            "text/plain": [
              "Filter:   0%|          | 0/1732 [00:00<?, ? examples/s]"
            ],
            "application/vnd.jupyter.widget-view+json": {
              "version_major": 2,
              "version_minor": 0,
              "model_id": "d1936493a2964f639bbf40b6e07ad1a7"
            }
          },
          "metadata": {}
        },
        {
          "output_type": "stream",
          "name": "stdout",
          "text": [
            "\n",
            "» Constructing 'blimp_from_file+null' contexts and requests\n"
          ]
        },
        {
          "output_type": "stream",
          "name": "stderr",
          "text": [
            "INFO:lm_eval.evaluator:\n",
            "» Constructing 'blimp_from_file+null' contexts and requests\n",
            "100%|██████████| 1732/1732 [00:00<00:00, 6828.96it/s]"
          ]
        },
        {
          "output_type": "stream",
          "name": "stdout",
          "text": [
            "\n",
            "» Running all `loglikelihood` requests\n"
          ]
        },
        {
          "output_type": "stream",
          "name": "stderr",
          "text": [
            "\n",
            "INFO:lm_eval.evaluator:\n",
            "» Running all `loglikelihood` requests\n",
            "100%|██████████| 3464/3464 [01:43<00:00, 33.32it/s]\n"
          ]
        },
        {
          "output_type": "stream",
          "name": "stdout",
          "text": [
            "ellipsis:\t76.44%\n"
          ]
        },
        {
          "output_type": "display_data",
          "data": {
            "text/plain": [
              "Generating train split: 0 examples [00:00, ? examples/s]"
            ],
            "application/vnd.jupyter.widget-view+json": {
              "version_major": 2,
              "version_minor": 0,
              "model_id": "b6ad261f08a6454b97a6096b2a4bd77d"
            }
          },
          "metadata": {}
        },
        {
          "output_type": "stream",
          "name": "stdout",
          "text": [
            "\n",
            "» Assigning unique IDs to 'blimp_from_file+null' docs\n"
          ]
        },
        {
          "output_type": "stream",
          "name": "stderr",
          "text": [
            "INFO:lm_eval.evaluator:\n",
            "» Assigning unique IDs to 'blimp_from_file+null' docs\n"
          ]
        },
        {
          "output_type": "display_data",
          "data": {
            "text/plain": [
              "Map:   0%|          | 0/6426 [00:00<?, ? examples/s]"
            ],
            "application/vnd.jupyter.widget-view+json": {
              "version_major": 2,
              "version_minor": 0,
              "model_id": "28dcfef325cd4c5c953df8ad0f3072c6"
            }
          },
          "metadata": {}
        },
        {
          "output_type": "stream",
          "name": "stdout",
          "text": [
            "\n",
            "» Filtering invalid docs from 'blimp_from_file+null'\n"
          ]
        },
        {
          "output_type": "stream",
          "name": "stderr",
          "text": [
            "INFO:lm_eval.evaluator:\n",
            "» Filtering invalid docs from 'blimp_from_file+null'\n"
          ]
        },
        {
          "output_type": "display_data",
          "data": {
            "text/plain": [
              "Filter:   0%|          | 0/6426 [00:00<?, ? examples/s]"
            ],
            "application/vnd.jupyter.widget-view+json": {
              "version_major": 2,
              "version_minor": 0,
              "model_id": "34ff68498e784a1ca9113937d700be1a"
            }
          },
          "metadata": {}
        },
        {
          "output_type": "stream",
          "name": "stdout",
          "text": [
            "\n",
            "» Constructing 'blimp_from_file+null' contexts and requests\n"
          ]
        },
        {
          "output_type": "stream",
          "name": "stderr",
          "text": [
            "INFO:lm_eval.evaluator:\n",
            "» Constructing 'blimp_from_file+null' contexts and requests\n",
            "100%|██████████| 6426/6426 [00:00<00:00, 7124.42it/s]"
          ]
        },
        {
          "output_type": "stream",
          "name": "stdout",
          "text": [
            "\n",
            "» Running all `loglikelihood` requests\n"
          ]
        },
        {
          "output_type": "stream",
          "name": "stderr",
          "text": [
            "\n",
            "INFO:lm_eval.evaluator:\n",
            "» Running all `loglikelihood` requests\n",
            "100%|██████████| 12852/12852 [04:24<00:00, 48.68it/s]\n"
          ]
        },
        {
          "output_type": "stream",
          "name": "stdout",
          "text": [
            "filler_gap:\t63.48%\n"
          ]
        },
        {
          "output_type": "display_data",
          "data": {
            "text/plain": [
              "Generating train split: 0 examples [00:00, ? examples/s]"
            ],
            "application/vnd.jupyter.widget-view+json": {
              "version_major": 2,
              "version_minor": 0,
              "model_id": "f991ba91e25e4fb296d65dc0228082d7"
            }
          },
          "metadata": {}
        },
        {
          "output_type": "stream",
          "name": "stdout",
          "text": [
            "\n",
            "» Assigning unique IDs to 'blimp_from_file+null' docs\n"
          ]
        },
        {
          "output_type": "stream",
          "name": "stderr",
          "text": [
            "INFO:lm_eval.evaluator:\n",
            "» Assigning unique IDs to 'blimp_from_file+null' docs\n"
          ]
        },
        {
          "output_type": "display_data",
          "data": {
            "text/plain": [
              "Map:   0%|          | 0/1965 [00:00<?, ? examples/s]"
            ],
            "application/vnd.jupyter.widget-view+json": {
              "version_major": 2,
              "version_minor": 0,
              "model_id": "b821f1ede79d4923b6a0439a528f6e3a"
            }
          },
          "metadata": {}
        },
        {
          "output_type": "stream",
          "name": "stdout",
          "text": [
            "\n",
            "» Filtering invalid docs from 'blimp_from_file+null'\n"
          ]
        },
        {
          "output_type": "stream",
          "name": "stderr",
          "text": [
            "INFO:lm_eval.evaluator:\n",
            "» Filtering invalid docs from 'blimp_from_file+null'\n"
          ]
        },
        {
          "output_type": "display_data",
          "data": {
            "text/plain": [
              "Filter:   0%|          | 0/1965 [00:00<?, ? examples/s]"
            ],
            "application/vnd.jupyter.widget-view+json": {
              "version_major": 2,
              "version_minor": 0,
              "model_id": "2f88e606f4944f379c6ffb2991f71d6d"
            }
          },
          "metadata": {}
        },
        {
          "output_type": "stream",
          "name": "stdout",
          "text": [
            "\n",
            "» Constructing 'blimp_from_file+null' contexts and requests\n"
          ]
        },
        {
          "output_type": "stream",
          "name": "stderr",
          "text": [
            "INFO:lm_eval.evaluator:\n",
            "» Constructing 'blimp_from_file+null' contexts and requests\n",
            "100%|██████████| 1965/1965 [00:00<00:00, 4179.40it/s]"
          ]
        },
        {
          "output_type": "stream",
          "name": "stdout",
          "text": [
            "\n",
            "» Running all `loglikelihood` requests\n"
          ]
        },
        {
          "output_type": "stream",
          "name": "stderr",
          "text": [
            "\n",
            "INFO:lm_eval.evaluator:\n",
            "» Running all `loglikelihood` requests\n",
            "100%|██████████| 3930/3930 [00:46<00:00, 84.15it/s]\n"
          ]
        },
        {
          "output_type": "stream",
          "name": "stdout",
          "text": [
            "irregular_forms:\t87.43%\n"
          ]
        },
        {
          "output_type": "display_data",
          "data": {
            "text/plain": [
              "Generating train split: 0 examples [00:00, ? examples/s]"
            ],
            "application/vnd.jupyter.widget-view+json": {
              "version_major": 2,
              "version_minor": 0,
              "model_id": "daaaf3028bf94e43b28a175d5707c3bc"
            }
          },
          "metadata": {}
        },
        {
          "output_type": "stream",
          "name": "stdout",
          "text": [
            "\n",
            "» Assigning unique IDs to 'blimp_from_file+null' docs\n"
          ]
        },
        {
          "output_type": "stream",
          "name": "stderr",
          "text": [
            "INFO:lm_eval.evaluator:\n",
            "» Assigning unique IDs to 'blimp_from_file+null' docs\n"
          ]
        },
        {
          "output_type": "display_data",
          "data": {
            "text/plain": [
              "Map:   0%|          | 0/2676 [00:00<?, ? examples/s]"
            ],
            "application/vnd.jupyter.widget-view+json": {
              "version_major": 2,
              "version_minor": 0,
              "model_id": "b782dbaa8e294d5f84475e9c289ef2ab"
            }
          },
          "metadata": {}
        },
        {
          "output_type": "stream",
          "name": "stdout",
          "text": [
            "\n",
            "» Filtering invalid docs from 'blimp_from_file+null'\n"
          ]
        },
        {
          "output_type": "stream",
          "name": "stderr",
          "text": [
            "INFO:lm_eval.evaluator:\n",
            "» Filtering invalid docs from 'blimp_from_file+null'\n"
          ]
        },
        {
          "output_type": "display_data",
          "data": {
            "text/plain": [
              "Filter:   0%|          | 0/2676 [00:00<?, ? examples/s]"
            ],
            "application/vnd.jupyter.widget-view+json": {
              "version_major": 2,
              "version_minor": 0,
              "model_id": "f042df2e00ac4526ac801505d8e8ed9f"
            }
          },
          "metadata": {}
        },
        {
          "output_type": "stream",
          "name": "stdout",
          "text": [
            "\n",
            "» Constructing 'blimp_from_file+null' contexts and requests\n"
          ]
        },
        {
          "output_type": "stream",
          "name": "stderr",
          "text": [
            "INFO:lm_eval.evaluator:\n",
            "» Constructing 'blimp_from_file+null' contexts and requests\n",
            "100%|██████████| 2676/2676 [00:00<00:00, 7378.74it/s]"
          ]
        },
        {
          "output_type": "stream",
          "name": "stdout",
          "text": [
            "\n",
            "» Running all `loglikelihood` requests\n"
          ]
        },
        {
          "output_type": "stream",
          "name": "stderr",
          "text": [
            "\n",
            "INFO:lm_eval.evaluator:\n",
            "» Running all `loglikelihood` requests\n",
            "100%|██████████| 5352/5352 [01:35<00:00, 56.15it/s]\n"
          ]
        },
        {
          "output_type": "stream",
          "name": "stdout",
          "text": [
            "island_effects:\t39.87%\n"
          ]
        },
        {
          "output_type": "display_data",
          "data": {
            "text/plain": [
              "Generating train split: 0 examples [00:00, ? examples/s]"
            ],
            "application/vnd.jupyter.widget-view+json": {
              "version_major": 2,
              "version_minor": 0,
              "model_id": "2871e72ab7974ec796f6125d459f1487"
            }
          },
          "metadata": {}
        },
        {
          "output_type": "stream",
          "name": "stdout",
          "text": [
            "\n",
            "» Assigning unique IDs to 'blimp_from_file+null' docs\n"
          ]
        },
        {
          "output_type": "stream",
          "name": "stderr",
          "text": [
            "INFO:lm_eval.evaluator:\n",
            "» Assigning unique IDs to 'blimp_from_file+null' docs\n"
          ]
        },
        {
          "output_type": "display_data",
          "data": {
            "text/plain": [
              "Map:   0%|          | 0/6586 [00:00<?, ? examples/s]"
            ],
            "application/vnd.jupyter.widget-view+json": {
              "version_major": 2,
              "version_minor": 0,
              "model_id": "2e5dc85777b344f097261caa6c5d2f73"
            }
          },
          "metadata": {}
        },
        {
          "output_type": "stream",
          "name": "stdout",
          "text": [
            "\n",
            "» Filtering invalid docs from 'blimp_from_file+null'\n"
          ]
        },
        {
          "output_type": "stream",
          "name": "stderr",
          "text": [
            "INFO:lm_eval.evaluator:\n",
            "» Filtering invalid docs from 'blimp_from_file+null'\n"
          ]
        },
        {
          "output_type": "display_data",
          "data": {
            "text/plain": [
              "Filter:   0%|          | 0/6586 [00:00<?, ? examples/s]"
            ],
            "application/vnd.jupyter.widget-view+json": {
              "version_major": 2,
              "version_minor": 0,
              "model_id": "2b80dc87546d4dff9dc2171f590736db"
            }
          },
          "metadata": {}
        },
        {
          "output_type": "stream",
          "name": "stdout",
          "text": [
            "\n",
            "» Constructing 'blimp_from_file+null' contexts and requests\n"
          ]
        },
        {
          "output_type": "stream",
          "name": "stderr",
          "text": [
            "INFO:lm_eval.evaluator:\n",
            "» Constructing 'blimp_from_file+null' contexts and requests\n",
            "100%|██████████| 6586/6586 [00:01<00:00, 5208.07it/s]"
          ]
        },
        {
          "output_type": "stream",
          "name": "stdout",
          "text": [
            "\n",
            "» Running all `loglikelihood` requests\n"
          ]
        },
        {
          "output_type": "stream",
          "name": "stderr",
          "text": [
            "\n",
            "INFO:lm_eval.evaluator:\n",
            "» Running all `loglikelihood` requests\n",
            "100%|██████████| 13172/13172 [03:28<00:00, 63.03it/s]\n"
          ]
        },
        {
          "output_type": "stream",
          "name": "stdout",
          "text": [
            "npi_licensing:\t55.92%\n"
          ]
        },
        {
          "output_type": "display_data",
          "data": {
            "text/plain": [
              "Generating train split: 0 examples [00:00, ? examples/s]"
            ],
            "application/vnd.jupyter.widget-view+json": {
              "version_major": 2,
              "version_minor": 0,
              "model_id": "e1b3a1cb69cc4386b8512a8a2d352522"
            }
          },
          "metadata": {}
        },
        {
          "output_type": "stream",
          "name": "stdout",
          "text": [
            "\n",
            "» Assigning unique IDs to 'blimp_from_file+null' docs\n"
          ]
        },
        {
          "output_type": "stream",
          "name": "stderr",
          "text": [
            "INFO:lm_eval.evaluator:\n",
            "» Assigning unique IDs to 'blimp_from_file+null' docs\n"
          ]
        },
        {
          "output_type": "display_data",
          "data": {
            "text/plain": [
              "Map:   0%|          | 0/3882 [00:00<?, ? examples/s]"
            ],
            "application/vnd.jupyter.widget-view+json": {
              "version_major": 2,
              "version_minor": 0,
              "model_id": "e97e52cb90704a969905d96c1d715404"
            }
          },
          "metadata": {}
        },
        {
          "output_type": "stream",
          "name": "stdout",
          "text": [
            "\n",
            "» Filtering invalid docs from 'blimp_from_file+null'\n"
          ]
        },
        {
          "output_type": "stream",
          "name": "stderr",
          "text": [
            "INFO:lm_eval.evaluator:\n",
            "» Filtering invalid docs from 'blimp_from_file+null'\n"
          ]
        },
        {
          "output_type": "display_data",
          "data": {
            "text/plain": [
              "Filter:   0%|          | 0/3882 [00:00<?, ? examples/s]"
            ],
            "application/vnd.jupyter.widget-view+json": {
              "version_major": 2,
              "version_minor": 0,
              "model_id": "a3cda4c0610743dd8a6147be6f5401e3"
            }
          },
          "metadata": {}
        },
        {
          "output_type": "stream",
          "name": "stdout",
          "text": [
            "\n",
            "» Constructing 'blimp_from_file+null' contexts and requests\n"
          ]
        },
        {
          "output_type": "stream",
          "name": "stderr",
          "text": [
            "INFO:lm_eval.evaluator:\n",
            "» Constructing 'blimp_from_file+null' contexts and requests\n",
            "100%|██████████| 3882/3882 [00:00<00:00, 7326.31it/s]"
          ]
        },
        {
          "output_type": "stream",
          "name": "stdout",
          "text": [
            "\n",
            "» Running all `loglikelihood` requests\n"
          ]
        },
        {
          "output_type": "stream",
          "name": "stderr",
          "text": [
            "\n",
            "INFO:lm_eval.evaluator:\n",
            "» Running all `loglikelihood` requests\n",
            "100%|██████████| 7764/7764 [01:48<00:00, 71.87it/s]\n"
          ]
        },
        {
          "output_type": "stream",
          "name": "stdout",
          "text": [
            "quantifiers:\t70.53%\n"
          ]
        },
        {
          "output_type": "display_data",
          "data": {
            "text/plain": [
              "Generating train split: 0 examples [00:00, ? examples/s]"
            ],
            "application/vnd.jupyter.widget-view+json": {
              "version_major": 2,
              "version_minor": 0,
              "model_id": "af3bdf6355894c3eb3027134604c155e"
            }
          },
          "metadata": {}
        },
        {
          "output_type": "stream",
          "name": "stdout",
          "text": [
            "\n",
            "» Assigning unique IDs to 'blimp_from_file+null' docs\n"
          ]
        },
        {
          "output_type": "stream",
          "name": "stderr",
          "text": [
            "INFO:lm_eval.evaluator:\n",
            "» Assigning unique IDs to 'blimp_from_file+null' docs\n"
          ]
        },
        {
          "output_type": "display_data",
          "data": {
            "text/plain": [
              "Map:   0%|          | 0/5535 [00:00<?, ? examples/s]"
            ],
            "application/vnd.jupyter.widget-view+json": {
              "version_major": 2,
              "version_minor": 0,
              "model_id": "63d446001ee2481c945dd7e6d134e26a"
            }
          },
          "metadata": {}
        },
        {
          "output_type": "stream",
          "name": "stdout",
          "text": [
            "\n",
            "» Filtering invalid docs from 'blimp_from_file+null'\n"
          ]
        },
        {
          "output_type": "stream",
          "name": "stderr",
          "text": [
            "INFO:lm_eval.evaluator:\n",
            "» Filtering invalid docs from 'blimp_from_file+null'\n"
          ]
        },
        {
          "output_type": "display_data",
          "data": {
            "text/plain": [
              "Filter:   0%|          | 0/5535 [00:00<?, ? examples/s]"
            ],
            "application/vnd.jupyter.widget-view+json": {
              "version_major": 2,
              "version_minor": 0,
              "model_id": "1b0a941966994afa8994c772bdaee33b"
            }
          },
          "metadata": {}
        },
        {
          "output_type": "stream",
          "name": "stdout",
          "text": [
            "\n",
            "» Constructing 'blimp_from_file+null' contexts and requests\n"
          ]
        },
        {
          "output_type": "stream",
          "name": "stderr",
          "text": [
            "INFO:lm_eval.evaluator:\n",
            "» Constructing 'blimp_from_file+null' contexts and requests\n",
            "100%|██████████| 5535/5535 [00:01<00:00, 4517.87it/s]"
          ]
        },
        {
          "output_type": "stream",
          "name": "stdout",
          "text": [
            "\n",
            "» Running all `loglikelihood` requests\n"
          ]
        },
        {
          "output_type": "stream",
          "name": "stderr",
          "text": [
            "\n",
            "INFO:lm_eval.evaluator:\n",
            "» Running all `loglikelihood` requests\n",
            "100%|██████████| 11070/11070 [02:28<00:00, 74.66it/s]\n"
          ]
        },
        {
          "output_type": "stream",
          "name": "stdout",
          "text": [
            "subject_verb_agreement:\t65.42%\n"
          ]
        },
        {
          "output_type": "display_data",
          "data": {
            "text/plain": [
              "Generating train split: 0 examples [00:00, ? examples/s]"
            ],
            "application/vnd.jupyter.widget-view+json": {
              "version_major": 2,
              "version_minor": 0,
              "model_id": "a60537f69b7a4ee6808a2db45a822d01"
            }
          },
          "metadata": {}
        },
        {
          "output_type": "stream",
          "name": "stdout",
          "text": [
            "\n",
            "» Assigning unique IDs to 'blimp_from_file+null' docs\n"
          ]
        },
        {
          "output_type": "stream",
          "name": "stderr",
          "text": [
            "INFO:lm_eval.evaluator:\n",
            "» Assigning unique IDs to 'blimp_from_file+null' docs\n"
          ]
        },
        {
          "output_type": "display_data",
          "data": {
            "text/plain": [
              "Map:   0%|          | 0/4394 [00:00<?, ? examples/s]"
            ],
            "application/vnd.jupyter.widget-view+json": {
              "version_major": 2,
              "version_minor": 0,
              "model_id": "9f4a3a3bc11c4bee86fee860bf37efac"
            }
          },
          "metadata": {}
        },
        {
          "output_type": "stream",
          "name": "stdout",
          "text": [
            "\n",
            "» Filtering invalid docs from 'blimp_from_file+null'\n"
          ]
        },
        {
          "output_type": "stream",
          "name": "stderr",
          "text": [
            "INFO:lm_eval.evaluator:\n",
            "» Filtering invalid docs from 'blimp_from_file+null'\n"
          ]
        },
        {
          "output_type": "display_data",
          "data": {
            "text/plain": [
              "Filter:   0%|          | 0/4394 [00:00<?, ? examples/s]"
            ],
            "application/vnd.jupyter.widget-view+json": {
              "version_major": 2,
              "version_minor": 0,
              "model_id": "2d6430e882f34e62a9edd366ecf8775d"
            }
          },
          "metadata": {}
        },
        {
          "output_type": "stream",
          "name": "stdout",
          "text": [
            "\n",
            "» Constructing 'blimp_from_file+null' contexts and requests\n"
          ]
        },
        {
          "output_type": "stream",
          "name": "stderr",
          "text": [
            "INFO:lm_eval.evaluator:\n",
            "» Constructing 'blimp_from_file+null' contexts and requests\n",
            "100%|██████████| 4394/4394 [00:00<00:00, 6137.16it/s]"
          ]
        },
        {
          "output_type": "stream",
          "name": "stdout",
          "text": [
            "\n",
            "» Running all `loglikelihood` requests\n"
          ]
        },
        {
          "output_type": "stream",
          "name": "stderr",
          "text": [
            "\n",
            "INFO:lm_eval.evaluator:\n",
            "» Running all `loglikelihood` requests\n",
            "100%|██████████| 8788/8788 [08:52<00:00, 16.51it/s]"
          ]
        },
        {
          "output_type": "stream",
          "name": "stdout",
          "text": [
            "preposition:\t73.08%\n",
            "\n",
            "Scores:\n",
            "anaphor_agreement:\t81.54%\n",
            "argument_structure:\t67.12%\n",
            "binding:\t67.26%\n",
            "control_raising:\t67.85%\n",
            "determiner_noun_agreement:\t90.75%\n",
            "ellipsis:\t76.44%\n",
            "filler_gap:\t63.48%\n",
            "irregular_forms:\t87.43%\n",
            "island_effects:\t39.87%\n",
            "npi_licensing:\t55.92%\n",
            "quantifiers:\t70.53%\n",
            "subject_verb_agreement:\t65.42%\n",
            "preposition:\t73.08%\n"
          ]
        },
        {
          "output_type": "stream",
          "name": "stderr",
          "text": [
            "\n",
            "/content/evaluation-pipeline/lm_eval/api/task.py:589: RuntimeWarning: divide by zero encountered in divide\n",
            "  if np.argmax(results / completion_len) == target_idx\n"
          ]
        }
      ]
    }
  ],
  "metadata": {
    "accelerator": "GPU",
    "colab": {
      "gpuType": "T4",
      "provenance": [],
      "collapsed_sections": [
        "hNcf6a_upEx6",
        "X-qVCy9Wua7O",
        "uja6r59spFfM",
        "_mjSKNWOpGl5",
        "SDSUoTbXpHQa",
        "2jHIh9OypIor",
        "reV4t8xApJTn",
        "L1b37PpppKGG",
        "32OcrqIDpK1o",
        "sgFKD7OtpLnz",
        "dvsdDwrhpMdv"
      ]
    },
    "kernelspec": {
      "display_name": "Python 3",
      "name": "python3"
    },
    "language_info": {
      "name": "python"
    }
  },
  "nbformat": 4,
  "nbformat_minor": 0
}