{
  "cells": [
    {
      "cell_type": "code",
      "execution_count": null,
      "metadata": {
        "id": "sSVLVQi7eO0L"
      },
      "outputs": [],
      "source": [
        "%%capture\n",
        "!pip install simpletransformers"
      ]
    },
    {
      "cell_type": "markdown",
      "metadata": {
        "id": "m30x0mKU6tN9"
      },
      "source": [
        "### runs"
      ]
    },
    {
      "cell_type": "code",
      "execution_count": null,
      "metadata": {
        "id": "c440VyNneewR"
      },
      "outputs": [],
      "source": [
        "from simpletransformers.classification import ClassificationModel, ClassificationArgs\n",
        "\n",
        "import os\n",
        "import json\n",
        "import math\n",
        "import random\n",
        "import pandas as pd\n",
        "from random import shuffle\n",
        "from sklearn.model_selection import train_test_split\n",
        "from sklearn.metrics import confusion_matrix, ConfusionMatrixDisplay, precision_score, recall_score, fbeta_score, precision_recall_fscore_support"
      ]
    },
    {
      "cell_type": "code",
      "execution_count": null,
      "metadata": {
        "id": "bg66t2KJejS8"
      },
      "outputs": [],
      "source": [
        "# Custom classification report from sklearn with F0.5 score\n",
        "\n",
        "from sklearn.metrics import precision_score, recall_score, fbeta_score, precision_recall_fscore_support\n",
        "from sklearn.utils import _unique\n",
        "from sklearn.metrics import _classification\n",
        "from sklearn.utils import multiclass\n",
        "import warnings\n",
        "import numpy as np\n",
        "from numbers import Integral, Real\n",
        "from sklearn.utils._param_validation import (\n",
        "\tHidden,\n",
        "\tInterval,\n",
        "\tOptions,\n",
        "\tStrOptions,\n",
        "\tvalidate_params,\n",
        ")\n",
        "\n",
        "@validate_params(\n",
        "\t{\n",
        "\t\t\"y_true\": [\"array-like\", \"sparse matrix\"],\n",
        "\t\t\"y_pred\": [\"array-like\", \"sparse matrix\"],\n",
        "\t\t\"labels\": [\"array-like\", None],\n",
        "\t\t\"target_names\": [\"array-like\", None],\n",
        "\t\t\"sample_weight\": [\"array-like\", None],\n",
        "\t\t\"digits\": [Interval(Integral, 0, None, closed=\"left\")],\n",
        "\t\t\"output_dict\": [\"boolean\"],\n",
        "\t\t\"zero_division\": [\n",
        "\t\t\tOptions(Real, {0.0, 1.0}),\n",
        "\t\t\t\"nan\",\n",
        "\t\t\tStrOptions({\"warn\"}),\n",
        "\t\t],\n",
        "\t},\n",
        "\tprefer_skip_nested_validation=True,\n",
        ")\n",
        "def classification_report_f0_5(\n",
        "\ty_true,\n",
        "\ty_pred,\n",
        "\t*,\n",
        "\tlabels=None,\n",
        "\ttarget_names=None,\n",
        "\tsample_weight=None,\n",
        "\tdigits=2,\n",
        "\toutput_dict=False,\n",
        "\tzero_division=\"warn\",\n",
        "):\n",
        "\t\"\"\"Build a text report showing the main classification metrics.\n",
        "\n",
        "\tRead more in the :ref:`User Guide <classification_report>`.\n",
        "\n",
        "\tParameters\n",
        "\t----------\n",
        "\ty_true : 1d array-like, or label indicator array / sparse matrix\n",
        "\t\tGround truth (correct) target values.\n",
        "\n",
        "\ty_pred : 1d array-like, or label indicator array / sparse matrix\n",
        "\t\tEstimated targets as returned by a classifier.\n",
        "\n",
        "\tlabels : array-like of shape (n_labels,), default=None\n",
        "\t\tOptional list of label indices to include in the report.\n",
        "\n",
        "\ttarget_names : array-like of shape (n_labels,), default=None\n",
        "\t\tOptional display names matching the labels (same order).\n",
        "\n",
        "\tsample_weight : array-like of shape (n_samples,), default=None\n",
        "\t\tSample weights.\n",
        "\n",
        "\tdigits : int, default=2\n",
        "\t\tNumber of digits for formatting output floating point values.\n",
        "\t\tWhen ``output_dict`` is ``True``, this will be ignored and the\n",
        "\t\treturned values will not be rounded.\n",
        "\n",
        "\toutput_dict : bool, default=False\n",
        "\t\tIf True, return output as dict.\n",
        "\n",
        "\t\t.. versionadded:: 0.20\n",
        "\n",
        "\tzero_division : {\"warn\", 0.0, 1.0, np.nan}, default=\"warn\"\n",
        "\t\tSets the value to return when there is a zero division. If set to\n",
        "\t\t\"warn\", this acts as 0, but warnings are also raised.\n",
        "\n",
        "\t\t.. versionadded:: 1.3\n",
        "\t\t   `np.nan` option was added.\n",
        "\n",
        "\tReturns\n",
        "\t-------\n",
        "\treport : str or dict\n",
        "\t\tText summary of the precision, recall, F1 score for each class.\n",
        "\t\tDictionary returned if output_dict is True. Dictionary has the\n",
        "\t\tfollowing structure::\n",
        "\n",
        "\t\t\t{'label 1': {'precision':0.5,\n",
        "\t\t\t\t\t\t 'recall':1.0,\n",
        "\t\t\t\t\t\t 'f1-score':0.67,\n",
        "\t\t\t\t\t\t 'support':1},\n",
        "\t\t\t 'label 2': { ... },\n",
        "\t\t\t  ...\n",
        "\t\t\t}\n",
        "\n",
        "\t\tThe reported averages include macro average (averaging the unweighted\n",
        "\t\tmean per label), weighted average (averaging the support-weighted mean\n",
        "\t\tper label), and sample average (only for multilabel classification).\n",
        "\t\tMicro average (averaging the total true positives, false negatives and\n",
        "\t\tfalse positives) is only shown for multi-label or multi-class\n",
        "\t\twith a subset of classes, because it corresponds to accuracy\n",
        "\t\totherwise and would be the same for all metrics.\n",
        "\t\tSee also :func:`precision_recall_fscore_support` for more details\n",
        "\t\ton averages.\n",
        "\n",
        "\t\tNote that in binary classification, recall of the positive class\n",
        "\t\tis also known as \"sensitivity\"; recall of the negative class is\n",
        "\t\t\"specificity\".\n",
        "\n",
        "\tSee Also\n",
        "\t--------\n",
        "\tprecision_recall_fscore_support: Compute precision, recall, F-measure and\n",
        "\t\tsupport for each class.\n",
        "\tconfusion_matrix: Compute confusion matrix to evaluate the accuracy of a\n",
        "\t\tclassification.\n",
        "\tmultilabel_confusion_matrix: Compute a confusion matrix for each class or sample.\n",
        "\n",
        "\tExamples\n",
        "\t--------\n",
        "\t>>> from sklearn.metrics import classification_report\n",
        "\t>>> y_true = [0, 1, 2, 2, 2]\n",
        "\t>>> y_pred = [0, 0, 2, 2, 1]\n",
        "\t>>> target_names = ['class 0', 'class 1', 'class 2']\n",
        "\t>>> print(classification_report(y_true, y_pred, target_names=target_names))\n",
        "\t\t\t\t  precision    recall  f1-score   support\n",
        "\t<BLANKLINE>\n",
        "\t\t class 0       0.50      1.00      0.67         1\n",
        "\t\t class 1       0.00      0.00      0.00         1\n",
        "\t\t class 2       1.00      0.67      0.80         3\n",
        "\t<BLANKLINE>\n",
        "\t\taccuracy                           0.60         5\n",
        "\t   macro avg       0.50      0.56      0.49         5\n",
        "\tweighted avg       0.70      0.60      0.61         5\n",
        "\t<BLANKLINE>\n",
        "\t>>> y_pred = [1, 1, 0]\n",
        "\t>>> y_true = [1, 1, 1]\n",
        "\t>>> print(classification_report(y_true, y_pred, labels=[1, 2, 3]))\n",
        "\t\t\t\t  precision    recall  f1-score   support\n",
        "\t<BLANKLINE>\n",
        "\t\t\t   1       1.00      0.67      0.80         3\n",
        "\t\t\t   2       0.00      0.00      0.00         0\n",
        "\t\t\t   3       0.00      0.00      0.00         0\n",
        "\t<BLANKLINE>\n",
        "\t   micro avg       1.00      0.67      0.80         3\n",
        "\t   macro avg       0.33      0.22      0.27         3\n",
        "\tweighted avg       1.00      0.67      0.80         3\n",
        "\t<BLANKLINE>\n",
        "\t\"\"\"\n",
        "\n",
        "\ty_true, y_pred = _unique.attach_unique(y_true, y_pred)\n",
        "\ty_type, y_true, y_pred = _classification._check_targets(y_true, y_pred)\n",
        "\n",
        "\tif labels is None:\n",
        "\t\tlabels = multiclass.unique_labels(y_true, y_pred)\n",
        "\t\tlabels_given = False\n",
        "\telse:\n",
        "\t\tlabels = np.asarray(labels)\n",
        "\t\tlabels_given = True\n",
        "\n",
        "\t# labelled micro average\n",
        "\tmicro_is_accuracy = (y_type == \"multiclass\" or y_type == \"binary\") and (\n",
        "\t\tnot labels_given or (set(labels) >= set(multiclass.unique_labels(y_true, y_pred)))\n",
        "\t)\n",
        "\n",
        "\tif target_names is not None and len(labels) != len(target_names):\n",
        "\t\tif labels_given:\n",
        "\t\t\twarnings.warn(\n",
        "\t\t\t\t\"labels size, {0}, does not match size of target_names, {1}\".format(\n",
        "\t\t\t\t\tlen(labels), len(target_names)\n",
        "\t\t\t\t)\n",
        "\t\t\t)\n",
        "\t\telse:\n",
        "\t\t\traise ValueError(\n",
        "\t\t\t\t\"Number of classes, {0}, does not match size of \"\n",
        "\t\t\t\t\"target_names, {1}. Try specifying the labels \"\n",
        "\t\t\t\t\"parameter\".format(len(labels), len(target_names))\n",
        "\t\t\t)\n",
        "\tif target_names is None:\n",
        "\t\ttarget_names = [\"%s\" % l for l in labels]\n",
        "\n",
        "\theaders = [\"precision\", \"recall\", \"f0.5-score\", \"support\"]\n",
        "\t# compute per-class results without averaging\n",
        "\tp, r, f1, s = precision_recall_fscore_support(\n",
        "\t\ty_true,\n",
        "\t\ty_pred,\n",
        "\t\tlabels=labels,\n",
        "\t\tbeta=0.5,\n",
        "\t\taverage=None,\n",
        "\t\tsample_weight=sample_weight,\n",
        "\t\tzero_division=zero_division,\n",
        "\t)\n",
        "\trows = zip(target_names, p, r, f1, s)\n",
        "\n",
        "\tif y_type.startswith(\"multilabel\"):\n",
        "\t\taverage_options = (\"micro\", \"macro\", \"weighted\", \"samples\")\n",
        "\telse:\n",
        "\t\taverage_options = (\"micro\", \"macro\", \"weighted\")\n",
        "\n",
        "\tif output_dict:\n",
        "\t\treport_dict = {label[0]: label[1:] for label in rows}\n",
        "\t\tfor label, scores in report_dict.items():\n",
        "\t\t\treport_dict[label] = dict(zip(headers, [float(i) for i in scores]))\n",
        "\telse:\n",
        "\t\tlongest_last_line_heading = \"weighted avg\"\n",
        "\t\tname_width = max(len(cn) for cn in target_names)\n",
        "\t\twidth = max(name_width, len(longest_last_line_heading), digits)\n",
        "\t\thead_fmt = \"{:>{width}s} \" + \" {:>9}\" * len(headers)\n",
        "\t\treport = head_fmt.format(\"\", *headers, width=width)\n",
        "\t\treport += \"\\n\\n\"\n",
        "\t\trow_fmt = \"{:>{width}s} \" + \" {:>9.{digits}f}\" * 3 + \" {:>9}\\n\"\n",
        "\t\tfor row in rows:\n",
        "\t\t\treport += row_fmt.format(*row, width=width, digits=digits)\n",
        "\t\treport += \"\\n\"\n",
        "\n",
        "\t# compute all applicable averages\n",
        "\tfor average in average_options:\n",
        "\t\tif average.startswith(\"micro\") and micro_is_accuracy:\n",
        "\t\t\tline_heading = \"accuracy\"\n",
        "\t\telse:\n",
        "\t\t\tline_heading = average + \" avg\"\n",
        "\n",
        "\t\t# compute averages with specified averaging method\n",
        "\t\tavg_p, avg_r, avg_f1, _ = precision_recall_fscore_support(\n",
        "\t\t\ty_true,\n",
        "\t\t\ty_pred,\n",
        "\t\t\tlabels=labels,\n",
        "\t\t\tbeta=0.5,\n",
        "\t\t\taverage=average,\n",
        "\t\t\tsample_weight=sample_weight,\n",
        "\t\t\tzero_division=zero_division,\n",
        "\t\t)\n",
        "\t\tavg = [avg_p, avg_r, avg_f1, np.sum(s)]\n",
        "\n",
        "\t\tif output_dict:\n",
        "\t\t\treport_dict[line_heading] = dict(zip(headers, [float(i) for i in avg]))\n",
        "\t\telse:\n",
        "\t\t\tif line_heading == \"accuracy\":\n",
        "\t\t\t\trow_fmt_accuracy = (\n",
        "\t\t\t\t\t\"{:>{width}s} \"\n",
        "\t\t\t\t\t+ \" {:>9.{digits}}\" * 2\n",
        "\t\t\t\t\t+ \" {:>9.{digits}f}\"\n",
        "\t\t\t\t\t+ \" {:>9}\\n\"\n",
        "\t\t\t\t)\n",
        "\t\t\t\treport += row_fmt_accuracy.format(\n",
        "\t\t\t\t\tline_heading, \"\", \"\", *avg[2:], width=width, digits=digits\n",
        "\t\t\t\t)\n",
        "\t\t\telse:\n",
        "\t\t\t\treport += row_fmt.format(line_heading, *avg, width=width, digits=digits)\n",
        "\n",
        "\tif output_dict:\n",
        "\t\tif \"accuracy\" in report_dict.keys():\n",
        "\t\t\treport_dict[\"accuracy\"] = report_dict[\"accuracy\"][\"precision\"]\n",
        "\t\treturn report_dict\n",
        "\telse:\n",
        "\t\treturn report"
      ]
    },
    {
      "cell_type": "code",
      "execution_count": null,
      "metadata": {
        "id": "v_nf4q5eocLS"
      },
      "outputs": [],
      "source": [
        "from sklearn.metrics import classification_report, confusion_matrix, fbeta_score, ConfusionMatrixDisplay\n",
        "from matplotlib import pyplot as plt\n",
        "\n",
        "# I used 'provide_confusion_matrix' , 'calculate_precision_recall_f1score' , 'evaluation_model' functions from previous term\n",
        "def provide_confusion_matrix(GoldLabel, PredictLabel, label_set):\n",
        "\t\"\"\"\n",
        "\tuse `sklearn.metric confusion_matrix` to create confusion matrix of model predict.\n",
        "\tand `sklearn.metric ConfusionMatrixDisplay` to display created confusion matrix.\n",
        "\n",
        "\tParameters\n",
        "\t----------\n",
        "\tGoldLabel : list\n",
        "\t\tlist of all Gold labels\n",
        "\tPredictLabel : list\n",
        "\t\tlist of all Prediction labels\n",
        "\tlabel_set : list\n",
        "\t\tlist of all classes\n",
        "\n",
        "\tReturns\n",
        "\t-------\n",
        "\t\tConfusion matrix\n",
        "\t\"\"\"\n",
        "\tprint(label_set)\n",
        "\tcf_matrix = confusion_matrix(GoldLabel, PredictLabel) # create a confusion matrix with gold and predicts\n",
        "\tprint(cf_matrix) # print confusion_matrix as text\n",
        "\tdisplay = ConfusionMatrixDisplay(confusion_matrix=cf_matrix, display_labels=label_set) # create graphical confusion_matrix\n",
        "\tfig, ax = plt.subplots()# figsize=(15,15)) # create bigger plot because there is many classes in this task\n",
        "\tdisplay.plot(ax =ax) # show confusion_matrix\n",
        "\tplt.xticks(rotation=90) # rotate X label of plot 90 degree\n",
        "\tplt.show() # show confusion matrix\n",
        "\treturn cf_matrix # return confusion_matrix (maybe useful later)\n",
        "\n",
        "def calculate_precision_recall_f05score(GoldLabel, PredictLabel, label_set): # function get gold and predict and set of labels\n",
        "\t\"\"\"\n",
        "\tuse `sklearn.metric classification_report` to get report of model predict.\n",
        "\n",
        "\tParameters\n",
        "\t----------\n",
        "\tGoldLabel : list\n",
        "\t\tlist of all Gold labels\n",
        "\tPredictLabel : list\n",
        "\t\tlist of all Prediction labels\n",
        "\tlabel_set : list\n",
        "\t\tlist of all classes\n",
        "\n",
        "\tReturns\n",
        "\t-------\n",
        "\t\tClassification report\n",
        "\t\"\"\"\n",
        "\tprint(label_set)\n",
        "\treport = classification_report_f0_5(GoldLabel, PredictLabel, digits = 3, target_names=label_set) # calculate report\n",
        "\tprint(report) # print report\n",
        "\treturn report # return report (maybe useful later)\n",
        "\n",
        "\n",
        "def fine_tune_eval(GoldLabel, PredictLabel, target_names): # get gold and predict\n",
        "\t\"\"\"\n",
        "\tEvaluation models by call `calculate_precision_recall_f1score` and `provide_confusion_matrix` functions.\n",
        "\n",
        "\tParameters\n",
        "\t----------\n",
        "\tdata :\n",
        "\t\tTrain or test or dev dataset (after extracting fetures)\n",
        "\tPredictLabel : list\n",
        "\t\tlist of all Prediction labels\n",
        "\n",
        "\tReturns\n",
        "\t-------\n",
        "\t\tClassification report and Confusion matrix\n",
        "\t\"\"\"\n",
        "\tlabel_set = target_names\n",
        "\n",
        "\tprint(label_set)\n",
        "\n",
        "\tprint('precision_recall_f1-score')\n",
        "\treport = calculate_precision_recall_f05score(GoldLabel, PredictLabel, label_set) # calculate_precision_recall_f1score\n",
        "\n",
        "\tprint('Confusion matrix')\n",
        "\tcf_matrix = provide_confusion_matrix(GoldLabel, PredictLabel, label_set) # provide_confusion_matrix\n",
        "\n",
        "\treturn report, cf_matrix # return report and cf_matrix\n"
      ]
    },
    {
      "cell_type": "code",
      "execution_count": null,
      "metadata": {
        "id": "rLeisK9Ne50H"
      },
      "outputs": [],
      "source": [
        "def fine_tune_model(model_path, train_data, save_dir, model_name, seed_value):\n",
        "  \"\"\"\n",
        "  Fine-tune a pre-trained model using the Simple Transformers library.\n",
        "  Args:\n",
        "    model_path (str): Path to the pre-trained model.\n",
        "\ttrain_data (pd.DataFrame): Training data in a pandas DataFrame format.\n",
        "\tsave_dir (str): Directory to save the fine-tuned model.\n",
        "\tmodel_name (str): Name of the model being fine-tuned.\n",
        "\tseed_value (int): Seed value for reproducibility.\n",
        "  Returns:\n",
        "\tmodel (ClassificationModel): The fine-tuned model.\n",
        "  \"\"\"\n",
        "  # Define model arguments\n",
        "  model_args = ClassificationArgs(\n",
        "\t\t\t\t\t\t\t\t  save_eval_checkpoints=False,\n",
        "\t\t\t\t\t\t\t\t  output_dir=f'{save_dir}/seed_fine_tuned_{model_name}_model',\n",
        "\t\t\t\t\t\t\t\t  save_model_every_epoch=False,\n",
        "\t\t\t\t\t\t\t\t  save_steps=-1,\n",
        "\t\t\t\t\t\t\t\t  manual_seed=seed_value,\n",
        "\t\t\t\t\t\t\t\t  num_train_epochs=5,\n",
        "\t\t\t\t\t\t\t\t  overwrite_output_dir=True,\n",
        "\t\t\t\t\t\t\t\t  labels_list=['G', 'PREP', 'DET','SVA']\n",
        "\t\t\t\t\t\t\t\t  )\n",
        "\n",
        "  model = ClassificationModel('roberta', model_path, args=model_args, num_labels=4, use_cuda=True)\n",
        "  model.train_model(train_data)\n",
        "\n",
        "  return model"
      ]
    },
    {
      "cell_type": "code",
      "execution_count": null,
      "metadata": {
        "id": "CE3FRzHRf5XF"
      },
      "outputs": [],
      "source": [
        "def predict_model(model_path, test_data):\n",
        "  \"\"\"\n",
        "  Predict labels for test data using a fine-tuned model.\n",
        "  Args:\n",
        "\tmodel_path (str): Path to the fine-tuned model.\n",
        "\ttest_data (pd.DataFrame): Test data in a pandas DataFrame format.\n",
        "  Returns:\n",
        "\tpredictions (list): List of predicted labels for the test data.\n",
        "  \"\"\"\n",
        "  model = ClassificationModel('roberta', model_path)\n",
        "  predictions, raw_outputs = model.predict(test_data)\n",
        "\n",
        "  return predictions\n"
      ]
    },
    {
      "cell_type": "code",
      "execution_count": null,
      "metadata": {
        "id": "Qstt_pq6iKyR"
      },
      "outputs": [],
      "source": [
        "main_path = \"/content/drive/MyDrive/VU Thesis/Code/fine_tune\"\n",
        "data_path = \"/content/drive/MyDrive/VU Thesis/Code/fine_tune/data\"\n",
        "save_path = \"/content/drive/MyDrive/VU Thesis/Code/fine_tune/models\""
      ]
    },
    {
      "cell_type": "code",
      "execution_count": null,
      "metadata": {
        "colab": {
          "base_uri": "https://localhost:8080/"
        },
        "id": "bBRlbyBBetFw",
        "outputId": "6f285cf7-d1d0-4812-f8c1-4c9f851ca5ff"
      },
      "outputs": [
        {
          "name": "stdout",
          "output_type": "stream",
          "text": [
            "loading data...\n",
            "loading train_data.csv\n",
            "loading dev_data.csv\n",
            "loading test_data.csv\n",
            "loading data compelete.\n"
          ]
        }
      ],
      "source": [
        "print(\"loading data...\")\n",
        "\n",
        "print(\"loading train_data.csv\")\n",
        "train_df =pd.read_csv(os.path.join(data_path, \"train_data.csv\"))\n",
        "\n",
        "print(\"loading dev_data.csv\")\n",
        "dev_df =pd.read_csv(os.path.join(data_path, \"dev_data.csv\"))\n",
        "\n",
        "print(\"loading test_data.csv\")\n",
        "test_df =pd.read_csv(os.path.join(data_path, \"test_data.csv\"))\n",
        "\n",
        "print(\"loading data compelete.\")"
      ]
    },
    {
      "cell_type": "code",
      "execution_count": null,
      "metadata": {
        "colab": {
          "base_uri": "https://localhost:8080/",
          "height": 206
        },
        "id": "qVDhwrg1qD67",
        "outputId": "51538830-48cb-435b-bb66-9028e3ca2dfa"
      },
      "outputs": [
        {
          "data": {
            "application/vnd.google.colaboratory.intrinsic+json": {
              "summary": "{\n  \"name\": \"train_df\",\n  \"rows\": 20964,\n  \"fields\": [\n    {\n      \"column\": \"text\",\n      \"properties\": {\n        \"dtype\": \"string\",\n        \"num_unique_values\": 20850,\n        \"samples\": [\n          \"During my stay I went to see a musical show in the Circle Theatre and I had a very disappointing evening.\",\n          \"Photographs that were worrying Michelle looks like the dancer.\",\n          \"A pedestrian hadn't approached this hopeful women.\"\n        ],\n        \"semantic_type\": \"\",\n        \"description\": \"\"\n      }\n    },\n    {\n      \"column\": \"labels\",\n      \"properties\": {\n        \"dtype\": \"category\",\n        \"num_unique_values\": 4,\n        \"samples\": [\n          \"SVA\",\n          \"DET\",\n          \"G\"\n        ],\n        \"semantic_type\": \"\",\n        \"description\": \"\"\n      }\n    },\n    {\n      \"column\": \"UID\",\n      \"properties\": {\n        \"dtype\": \"category\",\n        \"num_unique_values\": 65,\n        \"samples\": [\n          \"passive_2\",\n          \"drop_argument\",\n          \"sentential_negation_npi_scope\"\n        ],\n        \"semantic_type\": \"\",\n        \"description\": \"\"\n      }\n    }\n  ]\n}",
              "type": "dataframe",
              "variable_name": "train_df"
            },
            "text/html": [
              "\n",
              "  <div id=\"df-9bd5f5dc-615f-4bf2-bd44-0df87331f523\" class=\"colab-df-container\">\n",
              "    <div>\n",
              "<style scoped>\n",
              "    .dataframe tbody tr th:only-of-type {\n",
              "        vertical-align: middle;\n",
              "    }\n",
              "\n",
              "    .dataframe tbody tr th {\n",
              "        vertical-align: top;\n",
              "    }\n",
              "\n",
              "    .dataframe thead th {\n",
              "        text-align: right;\n",
              "    }\n",
              "</style>\n",
              "<table border=\"1\" class=\"dataframe\">\n",
              "  <thead>\n",
              "    <tr style=\"text-align: right;\">\n",
              "      <th></th>\n",
              "      <th>text</th>\n",
              "      <th>labels</th>\n",
              "      <th>UID</th>\n",
              "    </tr>\n",
              "  </thead>\n",
              "  <tbody>\n",
              "    <tr>\n",
              "      <th>0</th>\n",
              "      <td>The libraries that have worked with Christina ...</td>\n",
              "      <td>G</td>\n",
              "      <td>sentential_negation_npi_scope</td>\n",
              "    </tr>\n",
              "    <tr>\n",
              "      <th>1</th>\n",
              "      <td>The person joke around.</td>\n",
              "      <td>SVA</td>\n",
              "      <td>irregular_plural_subject_verb_agreement_2</td>\n",
              "    </tr>\n",
              "    <tr>\n",
              "      <th>2</th>\n",
              "      <td>I was rather thirsty and hungry after the show...</td>\n",
              "      <td>PREP</td>\n",
              "      <td>Preposition_Unnecessary</td>\n",
              "    </tr>\n",
              "    <tr>\n",
              "      <th>3</th>\n",
              "      <td>Most students go to these restaurant.</td>\n",
              "      <td>DET</td>\n",
              "      <td>determiner_noun_agreement_2</td>\n",
              "    </tr>\n",
              "    <tr>\n",
              "      <th>4</th>\n",
              "      <td>The report about the Great Lakes are astoundin...</td>\n",
              "      <td>SVA</td>\n",
              "      <td>distractor_agreement_relational_noun</td>\n",
              "    </tr>\n",
              "  </tbody>\n",
              "</table>\n",
              "</div>\n",
              "    <div class=\"colab-df-buttons\">\n",
              "\n",
              "  <div class=\"colab-df-container\">\n",
              "    <button class=\"colab-df-convert\" onclick=\"convertToInteractive('df-9bd5f5dc-615f-4bf2-bd44-0df87331f523')\"\n",
              "            title=\"Convert this dataframe to an interactive table.\"\n",
              "            style=\"display:none;\">\n",
              "\n",
              "  <svg xmlns=\"http://www.w3.org/2000/svg\" height=\"24px\" viewBox=\"0 -960 960 960\">\n",
              "    <path d=\"M120-120v-720h720v720H120Zm60-500h600v-160H180v160Zm220 220h160v-160H400v160Zm0 220h160v-160H400v160ZM180-400h160v-160H180v160Zm440 0h160v-160H620v160ZM180-180h160v-160H180v160Zm440 0h160v-160H620v160Z\"/>\n",
              "  </svg>\n",
              "    </button>\n",
              "\n",
              "  <style>\n",
              "    .colab-df-container {\n",
              "      display:flex;\n",
              "      gap: 12px;\n",
              "    }\n",
              "\n",
              "    .colab-df-convert {\n",
              "      background-color: #E8F0FE;\n",
              "      border: none;\n",
              "      border-radius: 50%;\n",
              "      cursor: pointer;\n",
              "      display: none;\n",
              "      fill: #1967D2;\n",
              "      height: 32px;\n",
              "      padding: 0 0 0 0;\n",
              "      width: 32px;\n",
              "    }\n",
              "\n",
              "    .colab-df-convert:hover {\n",
              "      background-color: #E2EBFA;\n",
              "      box-shadow: 0px 1px 2px rgba(60, 64, 67, 0.3), 0px 1px 3px 1px rgba(60, 64, 67, 0.15);\n",
              "      fill: #174EA6;\n",
              "    }\n",
              "\n",
              "    .colab-df-buttons div {\n",
              "      margin-bottom: 4px;\n",
              "    }\n",
              "\n",
              "    [theme=dark] .colab-df-convert {\n",
              "      background-color: #3B4455;\n",
              "      fill: #D2E3FC;\n",
              "    }\n",
              "\n",
              "    [theme=dark] .colab-df-convert:hover {\n",
              "      background-color: #434B5C;\n",
              "      box-shadow: 0px 1px 3px 1px rgba(0, 0, 0, 0.15);\n",
              "      filter: drop-shadow(0px 1px 2px rgba(0, 0, 0, 0.3));\n",
              "      fill: #FFFFFF;\n",
              "    }\n",
              "  </style>\n",
              "\n",
              "    <script>\n",
              "      const buttonEl =\n",
              "        document.querySelector('#df-9bd5f5dc-615f-4bf2-bd44-0df87331f523 button.colab-df-convert');\n",
              "      buttonEl.style.display =\n",
              "        google.colab.kernel.accessAllowed ? 'block' : 'none';\n",
              "\n",
              "      async function convertToInteractive(key) {\n",
              "        const element = document.querySelector('#df-9bd5f5dc-615f-4bf2-bd44-0df87331f523');\n",
              "        const dataTable =\n",
              "          await google.colab.kernel.invokeFunction('convertToInteractive',\n",
              "                                                    [key], {});\n",
              "        if (!dataTable) return;\n",
              "\n",
              "        const docLinkHtml = 'Like what you see? Visit the ' +\n",
              "          '<a target=\"_blank\" href=https://colab.research.google.com/notebooks/data_table.ipynb>data table notebook</a>'\n",
              "          + ' to learn more about interactive tables.';\n",
              "        element.innerHTML = '';\n",
              "        dataTable['output_type'] = 'display_data';\n",
              "        await google.colab.output.renderOutput(dataTable, element);\n",
              "        const docLink = document.createElement('div');\n",
              "        docLink.innerHTML = docLinkHtml;\n",
              "        element.appendChild(docLink);\n",
              "      }\n",
              "    </script>\n",
              "  </div>\n",
              "\n",
              "\n",
              "    <div id=\"df-e25f0d8b-b0df-4ee6-a1f7-705b2c6fdbd4\">\n",
              "      <button class=\"colab-df-quickchart\" onclick=\"quickchart('df-e25f0d8b-b0df-4ee6-a1f7-705b2c6fdbd4')\"\n",
              "                title=\"Suggest charts\"\n",
              "                style=\"display:none;\">\n",
              "\n",
              "<svg xmlns=\"http://www.w3.org/2000/svg\" height=\"24px\"viewBox=\"0 0 24 24\"\n",
              "     width=\"24px\">\n",
              "    <g>\n",
              "        <path d=\"M19 3H5c-1.1 0-2 .9-2 2v14c0 1.1.9 2 2 2h14c1.1 0 2-.9 2-2V5c0-1.1-.9-2-2-2zM9 17H7v-7h2v7zm4 0h-2V7h2v10zm4 0h-2v-4h2v4z\"/>\n",
              "    </g>\n",
              "</svg>\n",
              "      </button>\n",
              "\n",
              "<style>\n",
              "  .colab-df-quickchart {\n",
              "      --bg-color: #E8F0FE;\n",
              "      --fill-color: #1967D2;\n",
              "      --hover-bg-color: #E2EBFA;\n",
              "      --hover-fill-color: #174EA6;\n",
              "      --disabled-fill-color: #AAA;\n",
              "      --disabled-bg-color: #DDD;\n",
              "  }\n",
              "\n",
              "  [theme=dark] .colab-df-quickchart {\n",
              "      --bg-color: #3B4455;\n",
              "      --fill-color: #D2E3FC;\n",
              "      --hover-bg-color: #434B5C;\n",
              "      --hover-fill-color: #FFFFFF;\n",
              "      --disabled-bg-color: #3B4455;\n",
              "      --disabled-fill-color: #666;\n",
              "  }\n",
              "\n",
              "  .colab-df-quickchart {\n",
              "    background-color: var(--bg-color);\n",
              "    border: none;\n",
              "    border-radius: 50%;\n",
              "    cursor: pointer;\n",
              "    display: none;\n",
              "    fill: var(--fill-color);\n",
              "    height: 32px;\n",
              "    padding: 0;\n",
              "    width: 32px;\n",
              "  }\n",
              "\n",
              "  .colab-df-quickchart:hover {\n",
              "    background-color: var(--hover-bg-color);\n",
              "    box-shadow: 0 1px 2px rgba(60, 64, 67, 0.3), 0 1px 3px 1px rgba(60, 64, 67, 0.15);\n",
              "    fill: var(--button-hover-fill-color);\n",
              "  }\n",
              "\n",
              "  .colab-df-quickchart-complete:disabled,\n",
              "  .colab-df-quickchart-complete:disabled:hover {\n",
              "    background-color: var(--disabled-bg-color);\n",
              "    fill: var(--disabled-fill-color);\n",
              "    box-shadow: none;\n",
              "  }\n",
              "\n",
              "  .colab-df-spinner {\n",
              "    border: 2px solid var(--fill-color);\n",
              "    border-color: transparent;\n",
              "    border-bottom-color: var(--fill-color);\n",
              "    animation:\n",
              "      spin 1s steps(1) infinite;\n",
              "  }\n",
              "\n",
              "  @keyframes spin {\n",
              "    0% {\n",
              "      border-color: transparent;\n",
              "      border-bottom-color: var(--fill-color);\n",
              "      border-left-color: var(--fill-color);\n",
              "    }\n",
              "    20% {\n",
              "      border-color: transparent;\n",
              "      border-left-color: var(--fill-color);\n",
              "      border-top-color: var(--fill-color);\n",
              "    }\n",
              "    30% {\n",
              "      border-color: transparent;\n",
              "      border-left-color: var(--fill-color);\n",
              "      border-top-color: var(--fill-color);\n",
              "      border-right-color: var(--fill-color);\n",
              "    }\n",
              "    40% {\n",
              "      border-color: transparent;\n",
              "      border-right-color: var(--fill-color);\n",
              "      border-top-color: var(--fill-color);\n",
              "    }\n",
              "    60% {\n",
              "      border-color: transparent;\n",
              "      border-right-color: var(--fill-color);\n",
              "    }\n",
              "    80% {\n",
              "      border-color: transparent;\n",
              "      border-right-color: var(--fill-color);\n",
              "      border-bottom-color: var(--fill-color);\n",
              "    }\n",
              "    90% {\n",
              "      border-color: transparent;\n",
              "      border-bottom-color: var(--fill-color);\n",
              "    }\n",
              "  }\n",
              "</style>\n",
              "\n",
              "      <script>\n",
              "        async function quickchart(key) {\n",
              "          const quickchartButtonEl =\n",
              "            document.querySelector('#' + key + ' button');\n",
              "          quickchartButtonEl.disabled = true;  // To prevent multiple clicks.\n",
              "          quickchartButtonEl.classList.add('colab-df-spinner');\n",
              "          try {\n",
              "            const charts = await google.colab.kernel.invokeFunction(\n",
              "                'suggestCharts', [key], {});\n",
              "          } catch (error) {\n",
              "            console.error('Error during call to suggestCharts:', error);\n",
              "          }\n",
              "          quickchartButtonEl.classList.remove('colab-df-spinner');\n",
              "          quickchartButtonEl.classList.add('colab-df-quickchart-complete');\n",
              "        }\n",
              "        (() => {\n",
              "          let quickchartButtonEl =\n",
              "            document.querySelector('#df-e25f0d8b-b0df-4ee6-a1f7-705b2c6fdbd4 button');\n",
              "          quickchartButtonEl.style.display =\n",
              "            google.colab.kernel.accessAllowed ? 'block' : 'none';\n",
              "        })();\n",
              "      </script>\n",
              "    </div>\n",
              "    </div>\n",
              "  </div>\n"
            ],
            "text/plain": [
              "                                                text labels  \\\n",
              "0  The libraries that have worked with Christina ...      G   \n",
              "1                            The person joke around.    SVA   \n",
              "2  I was rather thirsty and hungry after the show...   PREP   \n",
              "3              Most students go to these restaurant.    DET   \n",
              "4  The report about the Great Lakes are astoundin...    SVA   \n",
              "\n",
              "                                         UID  \n",
              "0              sentential_negation_npi_scope  \n",
              "1  irregular_plural_subject_verb_agreement_2  \n",
              "2                    Preposition_Unnecessary  \n",
              "3                determiner_noun_agreement_2  \n",
              "4       distractor_agreement_relational_noun  "
            ]
          },
          "execution_count": 9,
          "metadata": {},
          "output_type": "execute_result"
        }
      ],
      "source": [
        "train_df.head()"
      ]
    },
    {
      "cell_type": "code",
      "execution_count": null,
      "metadata": {
        "colab": {
          "base_uri": "https://localhost:8080/"
        },
        "id": "LmZK-ryetr06",
        "outputId": "2de6a62b-d98f-4e35-8448-92916e8de1dc"
      },
      "outputs": [
        {
          "name": "stdout",
          "output_type": "stream",
          "text": [
            "6988 6988\n"
          ]
        }
      ],
      "source": [
        "test_data = list(test_df.text)#.to_list()\n",
        "gold_labels = list(test_df.labels)#.to_list()\n",
        "print(len(test_data), len(gold_labels))"
      ]
    },
    {
      "cell_type": "code",
      "execution_count": null,
      "metadata": {
        "colab": {
          "base_uri": "https://localhost:8080/"
        },
        "id": "thKpK9G827tK",
        "outputId": "5670a146-c47b-4242-c9d2-9e1ca73f0131"
      },
      "outputs": [
        {
          "data": {
            "text/plain": [
              "['Those customers examine those commentaries.',\n",
              " 'Even Carlos will often happen to die.',\n",
              " 'Ordinary lessons attended by students from different levels of ability.',\n",
              " 'Margaret has said Craig discusses himself.',\n",
              " 'Julia skated around that popular cafe.',\n",
              " 'Modern technology is used all the time at home, at school or working.',\n",
              " 'Many senators scan this black newspaper articles.',\n",
              " 'I thought it was a good idea to tell to Pat because we could use it to look for exams, and then we could pass all of them.',\n",
              " \"Robert couldn't embarrass that scared people.\",\n",
              " \"It's himself who Brad talked to.\",\n",
              " \"Lori isn't messing up that tooth.\",\n",
              " 'Guy bored that troubled man.',\n",
              " 'I can play games, listen to music, and I can do my course work in the computer.',\n",
              " 'People were sitting down.',\n",
              " \"Homer wouldn't go to these banks.\",\n",
              " 'Thomas has hidden those small tooth.',\n",
              " 'Deanna explores these oasis.',\n",
              " 'Caroline was observing that standing man.',\n",
              " 'This analysis has appeared to alarm Steve.',\n",
              " \"Lori hasn't exited that grocery stores.\"]"
            ]
          },
          "execution_count": 11,
          "metadata": {},
          "output_type": "execute_result"
        }
      ],
      "source": [
        "test_data[:20]"
      ]
    },
    {
      "cell_type": "markdown",
      "metadata": {
        "id": "fjhXin4Y6wiF"
      },
      "source": [
        "### models"
      ]
    },
    {
      "cell_type": "markdown",
      "metadata": {
        "id": "0PJo_ncwpCKM"
      },
      "source": [
        "#### E1"
      ]
    },
    {
      "cell_type": "code",
      "execution_count": null,
      "metadata": {
        "colab": {
          "base_uri": "https://localhost:8080/",
          "height": 1000,
          "referenced_widgets": [
            "63abd03e7013436491d3175401afdf96",
            "98ee9efb6aa94df7a5aa660e4fcd4382",
            "467920cd2f8e4299859ceb8c3d427714",
            "1f9db858fcab4a01a5939f3696a6fb84",
            "1e3595d0f5b64f64b357d8958266b195",
            "96044fe97cf6432289dc93c14c6743ef",
            "02ab7c51677541e6be21b7d56234fd8b",
            "8060e423451047e29e5aef03e8a3e546",
            "f9b74f1f9e9f422a904a154d7fa448f0",
            "5ea94b1e3f224036bf9a8cffdb0384db",
            "0ad65c6e0c0e4a618353910b54078fb6",
            "6c1b7e7005fe415a990428a1bdec943c",
            "b14e52c7173742798bbee7f21eb9cb25",
            "0454d2e4129f4aaeb1cafc5782b4f48b",
            "69bce165b595411fb28a3357dd84c4d9",
            "2d7461f2993d439fa397bde429e2fe1c",
            "b971ea176e0f427f936adee8d7518d68",
            "e0deceb2811c412d900d52d493c2a21c",
            "5d44831532a143a98e3f9c57144692be",
            "e284e5a3937b4ce8bdbd01902e884628",
            "8d902660d33b4c0eafa4eef057642bc4",
            "09d6ad3d10a243ceb72fcd03e8d92ede",
            "d7b145b265414d9791094b360348b8d7",
            "2b89b4aa1a1c43489c9e3654fc5de858",
            "f0024052aa384ebd963ddc95f379ea4f",
            "57244004360f4ea6912346f987d76b0e",
            "28f0ef2b58c147b6b2e4397bd9172483",
            "fbf4506987114010bb808e6fe3ed0d8c",
            "44c0ad2cc2944b059ac871243b5d416a",
            "b6bed2651f7e41258be9e0cd10775edd",
            "3a762e8d580c413f8b48be525f0f10d5",
            "2fd5424bfbb0483e8a59fa4cc5dd899c",
            "e8504b9b142d4b268128b3c067bf5c02",
            "2926d166dd624ab9a940e8a9155f2773",
            "15aded8be1b741be95f5564feebedd5b",
            "bb9bc75e7ea34f58b2c9a00d4d63585b",
            "b534d7c0ee4e44f79b1af9baf768fd7d",
            "356abf2466d342ceba7de6fc4458b9cc",
            "ce6e94cc517f45c1b3eb62994221c46f",
            "02114169ef4b4cbd937e70a68dbaa9da",
            "27925600d47b4e098c8cf5a7fe27a78f",
            "9a49314f70ad491f92b103f97aa263ef",
            "004fe2e41a7b49d482450a50299d0a56",
            "315db77e66bc4504811b61192cb78511",
            "70481e2631cc42409b937ec355ad3203",
            "aecfb17b0bd6429f90e12ea9e4403186",
            "acd6ea6ba12e488b8aa6c8ef6853b851",
            "108937126326452f8b3573dcb98238ec",
            "f088714cc8c6421e8ed16abd7f17c117",
            "913c4b3f84c14ec299c8322d493afd6b",
            "5fac054252284992838c7d364abce8a8",
            "eeb53e8bc81a41db8bd70ddd6f95aa7d",
            "2f711d0a8ca040eab477c3ee71560cf4",
            "928ad412311a422492562e101068dd88",
            "7a67d1a4a1384e17b43c7e3966f72aa8",
            "07b6543d25be4edca5605963aac8b01d",
            "22d7f79ff9c7433fbecd8b28c9d56c17",
            "eaadd6113854442e819d28418ee47924",
            "1fc937022a1945369b646efdd2d0fea8",
            "38a756f1f28d4d4a930ac9bc7560005d",
            "899abc5d57694c14ba7faf71edfed4b3",
            "ebe816ddb5904297881d7792f3335202",
            "7d003069b6544c4e9012b9b2edc9dc70",
            "ea28ca1fa9e34cdab569e7ddc4f8dc50",
            "da4a005989574cbf84253619a7879d59",
            "5a28c43b4b8f415db2435da8ae56483f",
            "29e866d9eafa4aa38254145b590bc37a",
            "d60aa83937fa43648f41b1f8d74e3792",
            "374d3184517b4caebc4fa7671b04f15c",
            "12395a8150ce4e718182447f1ea04e51",
            "b9de05bcbd2546198bf2ed68c875ca62",
            "0457d33f856442d1aa50579b0c522eac",
            "9533dfa010ba492db2cf22842937ff78",
            "579edcdfde1c47a88f9daff77b0a4726",
            "5a583fdcf62b4c2588952c236118eff3",
            "579682b3c7d94d3a85bf8f17da4ec1a5",
            "4a315038b63142ddbc773b5fee657236",
            "e1fc16ec48e144f194a96f8a9c1df443",
            "7aad5929a7274928adbe587c78533d19",
            "118883381df945ffa52489c69b374349",
            "7bdd557bbc124d858aee8e52d87ed0c2",
            "97a37b3e7e1a46a4afec8fbc65c06a20",
            "f0fcf23b06e5488a9cdfb1ec39b988f6",
            "f8ccad2fccea40f3aa4685a51b90f72f",
            "baf0976d14d74801acc2471dc368c484",
            "a145e8399d47439fba5f9dff5567bcd8",
            "b4c963dc88674df986f60afb2130875a",
            "7e5811e6e38c4c34996e4af8833ab5d6",
            "ca044131bfcb46e5af18cc4d9609ee0d",
            "de04fe481e7a44fd8dd45690a3d21f78",
            "98a0794295f740038689ed5c5efb9f22",
            "e21eff34158046b6a8de70ba57868749",
            "60d26a650c8b476fae68489697c947a5",
            "9e165e25bca54840af2c79a21108f69f",
            "c2213cde6f8b406c881c9374fd559400",
            "58e922ad44fb4b7aa55854a1a15df96c",
            "376177df3b6d4434a818f8811c2a5a05",
            "5161a4f0c54448609fe9d007c51c5df7",
            "7c3d9b92b4054f81b2c17258143133ef"
          ]
        },
        "collapsed": true,
        "id": "peG5ZRSeh_vQ",
        "outputId": "33e8670b-e6f7-46f0-b822-f7f3da2dbd01"
      },
      "outputs": [
        {
          "name": "stderr",
          "output_type": "stream",
          "text": [
            "Some weights of RobertaForSequenceClassification were not initialized from the model checkpoint at /content/drive/MyDrive/VU Thesis/Code/baby_models/V20L4/model_e1_v20_l4 and are newly initialized: ['classifier.dense.bias', 'classifier.dense.weight', 'classifier.out_proj.bias', 'classifier.out_proj.weight']\n",
            "You should probably TRAIN this model on a down-stream task to be able to use it for predictions and inference.\n"
          ]
        },
        {
          "data": {
            "application/vnd.jupyter.widget-view+json": {
              "model_id": "63abd03e7013436491d3175401afdf96",
              "version_major": 2,
              "version_minor": 0
            },
            "text/plain": [
              "  0%|          | 0/41 [00:00<?, ?it/s]"
            ]
          },
          "metadata": {},
          "output_type": "display_data"
        },
        {
          "data": {
            "application/vnd.jupyter.widget-view+json": {
              "model_id": "6c1b7e7005fe415a990428a1bdec943c",
              "version_major": 2,
              "version_minor": 0
            },
            "text/plain": [
              "Epoch:   0%|          | 0/5 [00:00<?, ?it/s]"
            ]
          },
          "metadata": {},
          "output_type": "display_data"
        },
        {
          "name": "stderr",
          "output_type": "stream",
          "text": [
            "/usr/local/lib/python3.11/dist-packages/simpletransformers/classification/classification_model.py:882: FutureWarning: `torch.cuda.amp.GradScaler(args...)` is deprecated. Please use `torch.amp.GradScaler('cuda', args...)` instead.\n",
            "  scaler = amp.GradScaler()\n"
          ]
        },
        {
          "data": {
            "application/vnd.jupyter.widget-view+json": {
              "model_id": "d7b145b265414d9791094b360348b8d7",
              "version_major": 2,
              "version_minor": 0
            },
            "text/plain": [
              "Running Epoch 1 of 5:   0%|          | 0/2621 [00:00<?, ?it/s]"
            ]
          },
          "metadata": {},
          "output_type": "display_data"
        },
        {
          "name": "stderr",
          "output_type": "stream",
          "text": [
            "/usr/local/lib/python3.11/dist-packages/simpletransformers/classification/classification_model.py:905: FutureWarning: `torch.cuda.amp.autocast(args...)` is deprecated. Please use `torch.amp.autocast('cuda', args...)` instead.\n",
            "  with amp.autocast():\n"
          ]
        },
        {
          "data": {
            "application/vnd.jupyter.widget-view+json": {
              "model_id": "2926d166dd624ab9a940e8a9155f2773",
              "version_major": 2,
              "version_minor": 0
            },
            "text/plain": [
              "Running Epoch 2 of 5:   0%|          | 0/2621 [00:00<?, ?it/s]"
            ]
          },
          "metadata": {},
          "output_type": "display_data"
        },
        {
          "data": {
            "application/vnd.jupyter.widget-view+json": {
              "model_id": "70481e2631cc42409b937ec355ad3203",
              "version_major": 2,
              "version_minor": 0
            },
            "text/plain": [
              "Running Epoch 3 of 5:   0%|          | 0/2621 [00:00<?, ?it/s]"
            ]
          },
          "metadata": {},
          "output_type": "display_data"
        },
        {
          "data": {
            "application/vnd.jupyter.widget-view+json": {
              "model_id": "07b6543d25be4edca5605963aac8b01d",
              "version_major": 2,
              "version_minor": 0
            },
            "text/plain": [
              "Running Epoch 4 of 5:   0%|          | 0/2621 [00:00<?, ?it/s]"
            ]
          },
          "metadata": {},
          "output_type": "display_data"
        },
        {
          "data": {
            "application/vnd.jupyter.widget-view+json": {
              "model_id": "29e866d9eafa4aa38254145b590bc37a",
              "version_major": 2,
              "version_minor": 0
            },
            "text/plain": [
              "Running Epoch 5 of 5:   0%|          | 0/2621 [00:00<?, ?it/s]"
            ]
          },
          "metadata": {},
          "output_type": "display_data"
        },
        {
          "data": {
            "application/vnd.jupyter.widget-view+json": {
              "model_id": "e1fc16ec48e144f194a96f8a9c1df443",
              "version_major": 2,
              "version_minor": 0
            },
            "text/plain": [
              "  0%|          | 0/13 [00:00<?, ?it/s]"
            ]
          },
          "metadata": {},
          "output_type": "display_data"
        },
        {
          "data": {
            "application/vnd.jupyter.widget-view+json": {
              "model_id": "ca044131bfcb46e5af18cc4d9609ee0d",
              "version_major": 2,
              "version_minor": 0
            },
            "text/plain": [
              "  0%|          | 0/70 [00:00<?, ?it/s]"
            ]
          },
          "metadata": {},
          "output_type": "display_data"
        },
        {
          "name": "stderr",
          "output_type": "stream",
          "text": [
            "/usr/local/lib/python3.11/dist-packages/simpletransformers/classification/classification_model.py:2188: FutureWarning: `torch.cuda.amp.autocast(args...)` is deprecated. Please use `torch.amp.autocast('cuda', args...)` instead.\n",
            "  with amp.autocast():\n"
          ]
        },
        {
          "name": "stdout",
          "output_type": "stream",
          "text": [
            "['DET', 'G', 'PREP', 'SVA']\n",
            "precision_recall_f1-score\n",
            "['DET', 'G', 'PREP', 'SVA']\n",
            "              precision    recall f0.5-score   support\n",
            "\n",
            "         DET      0.985     0.998     0.988      1508\n",
            "           G      0.909     0.782     0.880      3494\n",
            "        PREP      0.563     0.873     0.606       879\n",
            "         SVA      0.863     0.850     0.861      1107\n",
            "\n",
            "    accuracy                          0.851      6988\n",
            "   macro avg      0.830     0.876     0.833      6988\n",
            "weighted avg      0.874     0.851     0.866      6988\n",
            "\n",
            "Confusion matrix\n",
            "['DET', 'G', 'PREP', 'SVA']\n",
            "[[1505    3    0    0]\n",
            " [  20 2732  596  146]\n",
            " [   0  109  767    3]\n",
            " [   3  163    0  941]]\n"
          ]
        },
        {
          "data": {
            "image/png": "[encoded data removed]",
            "text/plain": [
              "<Figure size 640x480 with 2 Axes>"
            ]
          },
          "metadata": {},
          "output_type": "display_data"
        }
      ],
      "source": [
        "model_path_e1 = \"/content/drive/MyDrive/VU Thesis/Code/baby_models/V20L4/model_e1_v20_l4\"\n",
        "model_name_e1 = \"v20_l4_e1\"\n",
        "seed_val = 20\n",
        "model_e1 = fine_tune_model(model_path_e1, train_df, save_path, f\"{model_name_e1}_s{seed_val}\", seed_val)\n",
        "\n",
        "# seed 20\n",
        "model_e1_path = f'/content/drive/MyDrive/VU Thesis/Code/fine_tune/models/seed_fine_tuned_{model_name_e1}_s{seed_val}_model'\n",
        "\n",
        "preds_e1 = predict_model(model_e1_path, test_data)\n",
        "\n",
        "target_names = ['DET', 'G', 'PREP','SVA']\n",
        "report_e1, cf_matrix_e1 = fine_tune_eval(gold_labels, preds_e1, target_names)"
      ]
    },
    {
      "cell_type": "code",
      "execution_count": null,
      "metadata": {
        "colab": {
          "base_uri": "https://localhost:8080/",
          "height": 1000,
          "referenced_widgets": [
            "c3070e60054a4cda8e3facf8ad95425d",
            "edb294313ea84fba80a8016f7d4e0deb",
            "99601d43e86347b8bd1a545bcc8d92f9",
            "0c95f70e8b3e49f3b7e127ac505d49d0",
            "21979f25fd444291b8d35257b4bd6f34",
            "b090189b31994eaa9b99fd38f48f62f4",
            "838b56d2f9b748bba00f2336858b845c",
            "6955400566ad4e77b3921e8037443986",
            "3726dc107f1f4a59a22c50d2110548c5",
            "f5b3ca8ca9b5462490305710cc008884",
            "cb734db3cc2a47f0a66c20c97420ab1f",
            "dd51a703ea6e45428ca1c3ce2253bf97",
            "58261c5029354f6097b018c61c176cc9",
            "7feb0877e9674c1d8a7d749e27cff9bd",
            "6065424696d74ec0b098011386c4a48b",
            "6303e592d9174372be176d9b5a733dde",
            "9e46a09448b24790b82515571be71a24",
            "e765132115a341198c3a8925d0cad6ee",
            "55d49435224f414899fa46a94ec74aad",
            "665ec578923c45348247d0e1f63cbc8b",
            "64a268711dc24647b4a58fffa3335343",
            "25011051e62545c7a9dca40320f4a46b",
            "b1cd84e558cf41caa4a574f3834a47e1",
            "3acb8bd3030f4966b817307560c1fc5f",
            "61f431a1dc5a4d2daa1811191842d341",
            "aee2063ad2404992b28d4ba1908c5a7e",
            "459b482f2e09475cbb0b40312dc29d50",
            "e9d12a0ed752402eb3e9d89523cd28b2",
            "af16f20736e14583b6844b1d39089da7",
            "55fef28a60f24ee09e499f49e25f2b4c",
            "9c4dc8f7af0c49c6bf9a9eca5806494c",
            "acf3f2df52e649a387590ab37bcd3bda",
            "879701360cbf4a219bef3464cd4d7117",
            "4b9b98e900854fea8c2f11f6e108976a",
            "66a146641cd04749be0acf9c393d44ae",
            "7f31d994ee554a749b66780e78a6aed1",
            "21bb1a5725cc4b44834e0249e814bd89",
            "4f7dc8145f424c61b5687e0f8bd84912",
            "1832b834b69d485eb123177cbb835b56",
            "51bd6d346c2a4dbabd6ab8e61179adf1",
            "484fe16760884ed9b8e5175bf185cdd3",
            "7450adef7c5b43858149cc79cd74d048",
            "9cd76ec87d714b85bc2b15e9e81727d1",
            "35e3e898344e4ee58f0e44672680a956",
            "72035f036db64346b77828bf105297f9",
            "3a05ebf84ebc4637b1689ef9dfc5c2dd",
            "f82f24cbf52f4beeb86439fd341b9256",
            "41ed7b12d9c64ba3a3d118b6a851c690",
            "14fcb57a675f4220871e0b7397b67715",
            "fb5bf12d877d40618775a97342daf349",
            "47af77d6e1754e67ba75e9232f37202a",
            "a5bc4268a2d4469382e493886db9ff79",
            "45bfcbc9480e45f4a8d0e5498004f81d",
            "f6a78670a15a4c0b8ed401eb4d8c88ab",
            "26bab0107ebf47b5915d13e3c594df99",
            "3b141e3a4f0246269c3bb62ae5162373",
            "92a18fd157c742409ef8e25792b0244d",
            "cee7f64af5fb4cbb8fc30531dcbbf270",
            "d17198c094284958a9e957c4f006695e",
            "3eee1c0a2e984924986b823ba9cd944b",
            "66870a0291234749a5d196f197c2f84d",
            "fd54af0764694acdb26f45feb0db8908",
            "188436b960b240c19f26e5b308a3fd55",
            "6e667bffc69c4931888ea634641fff03",
            "21185bc3424f4455b89e5b3d6e76898c",
            "c09c95147c8349c98d9df8b606a4c595",
            "28397838fab84cfc87582fa7dcd06d53",
            "16f5cd4327e04d2d8df5c1a28336366d",
            "c509cf78059b49ddbba5a8da3ae4999f",
            "a2ca53042ce14ec7a886878a33a943bb",
            "3659b73eab4942148ca042199e640af6",
            "6823805b697c476c895c532319a28528",
            "5048d634c06047d19d18cbb859ef100a",
            "c7829852c0334646a8c2d2b1d85e841d",
            "433f89f1463c475d8fb673f94718695f",
            "bf606a361e824c1e9df9cbe7d9f86e4f",
            "5ba970c3be1a4c439a60a53a3ba2c821",
            "3a5b1381d01a45c2a7374198611d9364",
            "4a22d43a53874e6bb03850cec467b520",
            "d94109e6b6de4015ac32ad5379119fed",
            "82054a0f304b490b98bd634c820f3af6",
            "d0839d34bf5f4f37992998d5f88bf36e",
            "99dc4e25fe4b4cd58c8c1e3dc9fac320",
            "719bf1c0f23243a094c62b2e635fee36",
            "1083bd7be6324b25a7bb61463914d56e",
            "bcce776bef2d4aa8a05e81c1584c2c9f",
            "c1807c246eaf4e16bbac475528a88517",
            "16665ae0fcf74dfa90f22f9f352c85b7",
            "ca03b7d9a75147eb99e8672d9ef4afd5",
            "313af21ae8d84d9aaa0b17f40a376d2e",
            "eb62ac34751b43498f59467fb58b109d",
            "6969028745214a5995f82261c8ac94a0",
            "76c6378447d04d71bf0879e39ba5480c",
            "02956a58898f46ce9599b8d18a35bbe6",
            "58c6c52b7d13499692018e7250a04d6a",
            "1444d912c8a64a089249c7708812d6b6",
            "65683bddebb9472b8e5fec6b8395faf8",
            "2801752dfda4481e91a9f2e4769af353",
            "4848c69b37664c5e984c2378fdca4792"
          ]
        },
        "collapsed": true,
        "id": "z9z4fgMYGpXs",
        "outputId": "81d4c533-64ef-4bca-f2c6-4410196a5176"
      },
      "outputs": [
        {
          "name": "stderr",
          "output_type": "stream",
          "text": [
            "Some weights of RobertaForSequenceClassification were not initialized from the model checkpoint at /content/drive/MyDrive/VU Thesis/Code/baby_models/V20L4/model_e1_v20_l4 and are newly initialized: ['classifier.dense.bias', 'classifier.dense.weight', 'classifier.out_proj.bias', 'classifier.out_proj.weight']\n",
            "You should probably TRAIN this model on a down-stream task to be able to use it for predictions and inference.\n"
          ]
        },
        {
          "data": {
            "application/vnd.jupyter.widget-view+json": {
              "model_id": "c3070e60054a4cda8e3facf8ad95425d",
              "version_major": 2,
              "version_minor": 0
            },
            "text/plain": [
              "  0%|          | 0/41 [00:00<?, ?it/s]"
            ]
          },
          "metadata": {},
          "output_type": "display_data"
        },
        {
          "data": {
            "application/vnd.jupyter.widget-view+json": {
              "model_id": "dd51a703ea6e45428ca1c3ce2253bf97",
              "version_major": 2,
              "version_minor": 0
            },
            "text/plain": [
              "Epoch:   0%|          | 0/5 [00:00<?, ?it/s]"
            ]
          },
          "metadata": {},
          "output_type": "display_data"
        },
        {
          "name": "stderr",
          "output_type": "stream",
          "text": [
            "/usr/local/lib/python3.11/dist-packages/simpletransformers/classification/classification_model.py:882: FutureWarning: `torch.cuda.amp.GradScaler(args...)` is deprecated. Please use `torch.amp.GradScaler('cuda', args...)` instead.\n",
            "  scaler = amp.GradScaler()\n"
          ]
        },
        {
          "data": {
            "application/vnd.jupyter.widget-view+json": {
              "model_id": "b1cd84e558cf41caa4a574f3834a47e1",
              "version_major": 2,
              "version_minor": 0
            },
            "text/plain": [
              "Running Epoch 1 of 5:   0%|          | 0/2621 [00:00<?, ?it/s]"
            ]
          },
          "metadata": {},
          "output_type": "display_data"
        },
        {
          "name": "stderr",
          "output_type": "stream",
          "text": [
            "/usr/local/lib/python3.11/dist-packages/simpletransformers/classification/classification_model.py:905: FutureWarning: `torch.cuda.amp.autocast(args...)` is deprecated. Please use `torch.amp.autocast('cuda', args...)` instead.\n",
            "  with amp.autocast():\n"
          ]
        },
        {
          "data": {
            "application/vnd.jupyter.widget-view+json": {
              "model_id": "4b9b98e900854fea8c2f11f6e108976a",
              "version_major": 2,
              "version_minor": 0
            },
            "text/plain": [
              "Running Epoch 2 of 5:   0%|          | 0/2621 [00:00<?, ?it/s]"
            ]
          },
          "metadata": {},
          "output_type": "display_data"
        },
        {
          "data": {
            "application/vnd.jupyter.widget-view+json": {
              "model_id": "72035f036db64346b77828bf105297f9",
              "version_major": 2,
              "version_minor": 0
            },
            "text/plain": [
              "Running Epoch 3 of 5:   0%|          | 0/2621 [00:00<?, ?it/s]"
            ]
          },
          "metadata": {},
          "output_type": "display_data"
        },
        {
          "data": {
            "application/vnd.jupyter.widget-view+json": {
              "model_id": "3b141e3a4f0246269c3bb62ae5162373",
              "version_major": 2,
              "version_minor": 0
            },
            "text/plain": [
              "Running Epoch 4 of 5:   0%|          | 0/2621 [00:00<?, ?it/s]"
            ]
          },
          "metadata": {},
          "output_type": "display_data"
        },
        {
          "data": {
            "application/vnd.jupyter.widget-view+json": {
              "model_id": "28397838fab84cfc87582fa7dcd06d53",
              "version_major": 2,
              "version_minor": 0
            },
            "text/plain": [
              "Running Epoch 5 of 5:   0%|          | 0/2621 [00:00<?, ?it/s]"
            ]
          },
          "metadata": {},
          "output_type": "display_data"
        },
        {
          "data": {
            "application/vnd.jupyter.widget-view+json": {
              "model_id": "3a5b1381d01a45c2a7374198611d9364",
              "version_major": 2,
              "version_minor": 0
            },
            "text/plain": [
              "  0%|          | 0/13 [00:00<?, ?it/s]"
            ]
          },
          "metadata": {},
          "output_type": "display_data"
        },
        {
          "data": {
            "application/vnd.jupyter.widget-view+json": {
              "model_id": "ca03b7d9a75147eb99e8672d9ef4afd5",
              "version_major": 2,
              "version_minor": 0
            },
            "text/plain": [
              "  0%|          | 0/70 [00:00<?, ?it/s]"
            ]
          },
          "metadata": {},
          "output_type": "display_data"
        },
        {
          "name": "stderr",
          "output_type": "stream",
          "text": [
            "/usr/local/lib/python3.11/dist-packages/simpletransformers/classification/classification_model.py:2188: FutureWarning: `torch.cuda.amp.autocast(args...)` is deprecated. Please use `torch.amp.autocast('cuda', args...)` instead.\n",
            "  with amp.autocast():\n"
          ]
        },
        {
          "name": "stdout",
          "output_type": "stream",
          "text": [
            "['DET', 'G', 'PREP', 'SVA']\n",
            "precision_recall_f1-score\n",
            "['DET', 'G', 'PREP', 'SVA']\n",
            "              precision    recall f0.5-score   support\n",
            "\n",
            "         DET      0.989     0.999     0.991      1508\n",
            "           G      0.910     0.775     0.879      3494\n",
            "        PREP      0.564     0.892     0.609       879\n",
            "         SVA      0.849     0.842     0.847      1107\n",
            "\n",
            "    accuracy                          0.849      6988\n",
            "   macro avg      0.828     0.877     0.832      6988\n",
            "weighted avg      0.874     0.849     0.864      6988\n",
            "\n",
            "Confusion matrix\n",
            "['DET', 'G', 'PREP', 'SVA']\n",
            "[[1507    1    0    0]\n",
            " [  16 2708  606  164]\n",
            " [   0   93  784    2]\n",
            " [   1  174    0  932]]\n"
          ]
        },
        {
          "data": {
            "image/png": "[encoded data removed]",
            "text/plain": [
              "<Figure size 640x480 with 2 Axes>"
            ]
          },
          "metadata": {},
          "output_type": "display_data"
        }
      ],
      "source": [
        "model_path_e1 = \"/content/drive/MyDrive/VU Thesis/Code/baby_models/V20L4/model_e1_v20_l4\"\n",
        "model_name_e1 = \"v20_l4_e1\"\n",
        "seed_val = 58\n",
        "model_e1 = fine_tune_model(model_path_e1, train_df, save_path, f\"{model_name_e1}_s{seed_val}\", seed_val)\n",
        "\n",
        "# seed 58\n",
        "model_e1_path = f'/content/drive/MyDrive/VU Thesis/Code/fine_tune/models/seed_fine_tuned_{model_name_e1}_s{seed_val}_model'\n",
        "\n",
        "preds_e1 = predict_model(model_e1_path, test_data)\n",
        "\n",
        "target_names = ['DET', 'G', 'PREP','SVA']\n",
        "report_e1, cf_matrix_e1 = fine_tune_eval(gold_labels, preds_e1, target_names)"
      ]
    },
    {
      "cell_type": "code",
      "execution_count": null,
      "metadata": {
        "colab": {
          "base_uri": "https://localhost:8080/",
          "height": 1000,
          "referenced_widgets": [
            "54b471b0f54e455a9ca1cd2a2c7f43e2",
            "32c188a80d674ddc838538fbc6247f3e",
            "58296d0384cb45779a888024170ad2b1",
            "cc75d9d806be434c8c617dd765644435",
            "0d5641a3c5434d95a12983b43f2879ba",
            "da1d407bc67b4cf799563f7d0798b9f9",
            "1f9fbb05900240dd9ab42d6f0c45ec52",
            "a56551c5c32d4271b1586e9cecd4e9c3",
            "454007a217ba4107ab135db049634d49",
            "c1b776b973f948a2a2199f50f4efd6ff",
            "ed5cece0489e46e5899031b5ba2e63d6",
            "65d43f08cef24001b03bfa20d0a79b7f",
            "496deba9527944edb9416495900e629b",
            "509f08e6e2424b3795584e639183083e",
            "d2e84f2eb1ad45b2b6aba7ecd2e9a85c",
            "b47a57dbddef476a93985073659d8f69",
            "68da930e21724b82b6eed683d1274120",
            "742b424a1b4f4b2082b9a31811f9c222",
            "832a8ff171e949649b3ba315e8a41722",
            "b0817cc106d142928fde7c59498855be",
            "d879f020dd0e4d9eada67c67a9160c07",
            "d76ec12d4ca64dc7a45de9ec4eadae68",
            "af8b296457c14311832c276d4817cc1e",
            "72942f0e5c554f738fc230993f528926",
            "47e7e1c373cd4313b5233ebc02885115",
            "c49158389c6b419399356a6133fbc3c5",
            "c26e1196e27740328f813464be796429",
            "36a6ddb01df74dc4a9e3e78eb1a2d241",
            "8541358854c446eebdba56ea80769497",
            "cc23f9c1b9c847cfa398cd3d5159a6b2",
            "ff8892c6badd4dcd9fbebe4526633866",
            "9dacb3b50e82456b92ac5708187d84bd",
            "fe7d8a3d77854eb88bbb907a58d981c0",
            "11718ae15f0747c4901a1326143d3bfc",
            "ad4fc78660cd4d6b836d91a274cbdbe9",
            "2755b04aa11343c1ad0b0ea3fdf8867c",
            "cc51a288eba94fd18654dae4ee8d8377",
            "4cb37bc4257f44f087cf35bdc8a0056e",
            "52a02550b5d345749f6b869c9c7e72c9",
            "119e358b81014d0c829c3a4cb8e6dd13",
            "8cb51ce05e7544a88648295e8aad3c2c",
            "bb61478dd0f44a9eb4074db7cab168ae",
            "6c895be1485c4f8399d216c015d008d3",
            "0069a27405654b65ac50fa99be45b031",
            "2cf37d9aeac8454fa5061fa8f6b69fad",
            "11ac9fc5c1fd4bf5830cf3efb9cb68db",
            "c2f94f828fc14c5aad06a0124c855b21",
            "5c4e6a985662409e837359b5ddbb811a",
            "85eb76340e944c179846387034dc8c2e",
            "e030b99a23ef43a786742980d8aa9d7e",
            "b94d8823deb64e39b4e31843213733d2",
            "c21ce6ef86924bd1800c75a81da0891b",
            "3fda5e4a65724db78d5b3c478ba82cce",
            "4ea41138e71d40b986b54be828bfa42c",
            "efcd6dc4a8384223a5a78d0e3250e65c",
            "21442752a4f44bb4a49793115fc26919",
            "80fe8bb63e3c4f57831ce053b33fe050",
            "1eeb2616173e4f6d9df933dde105dc7f",
            "654b847dc5764bad837403dea975362f",
            "77cdff3a23a445e08655d32039088af0",
            "988d7d2f69f14e42be67352b4722183b",
            "26cfdb24dd9943fb983760a50abfa252",
            "69618dc8bac74e389423916c10627e22",
            "19dea61578c94d7597d1d31f3bb89d57",
            "4e3d108eeb004332b1670301ae5e78db",
            "6b970769a5854226b25288ce50adaca2",
            "bc3b9bc346b446e2aea095055c44a2af",
            "03e325e311fd4692814ba62b129907ef",
            "558c9d4de37445bdacaf4796c9ce4a10",
            "ea95ebd486c4403ca31efd9c37b58ac1",
            "3292dc72a3a7456b82a49a1a6880d729",
            "bf8ac95d001d4dd08a4479769476e40a",
            "3d9174c162d540bd944fb3ef4a17c3da",
            "8f932f633e354266bccc7755932967e1",
            "c375490552fc42a2a2053efbf484bd85",
            "b05cc473afc642b4a97be9edb2912ce5",
            "14f74c64e26645a0b5330e7cb85b7111",
            "dfc7c58a58354a32ae8cc9c06ea9932b",
            "9f92ff8a168148f4acfdff3f5132e1bc",
            "94c7dd02e9284337800aec463863e9b3",
            "9632fd9f29d04cc3a8a095f6d7267a2e",
            "67b31e7955584701815beab87794d579",
            "3fef5d3c4d014ae287440c71e19bf31c",
            "0992877b5b6a4564bb469277093c6ad6",
            "b6dd3a7623f34c5e984e3c2cb6a85829",
            "3582cc8443e04de2b27005879620f87c",
            "ca512c7835674c4caa6470272b15940f",
            "cb7a16d40cf945e29bff895085a1f5db",
            "9f325a0a7056477fb1afca4d315c0574",
            "95fc640da4264a33ac9aed4423f5e6ab",
            "7e6a86552183417985e1a958faec023a",
            "1453d8ac1ecb4699a11d003c1e8d9e02",
            "13cce71695b348c4a2ab2f18c908fc1d",
            "23d08b0d561842c79a9ebafb69031886",
            "3f04f462782c4de7a7d6fbc01c0de1d1",
            "3414225ae26a416ba5e501538140949d",
            "d2bebc7bec6e48478bf31827b9438999",
            "e8bdce9df0f7459ba26224b24944387d",
            "3021888aa8464dc195cabf19d6f5b5aa"
          ]
        },
        "collapsed": true,
        "id": "gbXjhDJoDsim",
        "outputId": "ab56afc5-4b77-4c61-f424-c8d14c587fb9"
      },
      "outputs": [
        {
          "name": "stderr",
          "output_type": "stream",
          "text": [
            "Some weights of RobertaForSequenceClassification were not initialized from the model checkpoint at /content/drive/MyDrive/VU Thesis/Code/baby_models/V20L4/model_e1_v20_l4 and are newly initialized: ['classifier.dense.bias', 'classifier.dense.weight', 'classifier.out_proj.bias', 'classifier.out_proj.weight']\n",
            "You should probably TRAIN this model on a down-stream task to be able to use it for predictions and inference.\n"
          ]
        },
        {
          "data": {
            "application/vnd.jupyter.widget-view+json": {
              "model_id": "54b471b0f54e455a9ca1cd2a2c7f43e2",
              "version_major": 2,
              "version_minor": 0
            },
            "text/plain": [
              "  0%|          | 0/41 [00:00<?, ?it/s]"
            ]
          },
          "metadata": {},
          "output_type": "display_data"
        },
        {
          "data": {
            "application/vnd.jupyter.widget-view+json": {
              "model_id": "65d43f08cef24001b03bfa20d0a79b7f",
              "version_major": 2,
              "version_minor": 0
            },
            "text/plain": [
              "Epoch:   0%|          | 0/5 [00:00<?, ?it/s]"
            ]
          },
          "metadata": {},
          "output_type": "display_data"
        },
        {
          "name": "stderr",
          "output_type": "stream",
          "text": [
            "/usr/local/lib/python3.11/dist-packages/simpletransformers/classification/classification_model.py:882: FutureWarning: `torch.cuda.amp.GradScaler(args...)` is deprecated. Please use `torch.amp.GradScaler('cuda', args...)` instead.\n",
            "  scaler = amp.GradScaler()\n"
          ]
        },
        {
          "data": {
            "application/vnd.jupyter.widget-view+json": {
              "model_id": "af8b296457c14311832c276d4817cc1e",
              "version_major": 2,
              "version_minor": 0
            },
            "text/plain": [
              "Running Epoch 1 of 5:   0%|          | 0/2621 [00:00<?, ?it/s]"
            ]
          },
          "metadata": {},
          "output_type": "display_data"
        },
        {
          "name": "stderr",
          "output_type": "stream",
          "text": [
            "/usr/local/lib/python3.11/dist-packages/simpletransformers/classification/classification_model.py:905: FutureWarning: `torch.cuda.amp.autocast(args...)` is deprecated. Please use `torch.amp.autocast('cuda', args...)` instead.\n",
            "  with amp.autocast():\n"
          ]
        },
        {
          "data": {
            "application/vnd.jupyter.widget-view+json": {
              "model_id": "11718ae15f0747c4901a1326143d3bfc",
              "version_major": 2,
              "version_minor": 0
            },
            "text/plain": [
              "Running Epoch 2 of 5:   0%|          | 0/2621 [00:00<?, ?it/s]"
            ]
          },
          "metadata": {},
          "output_type": "display_data"
        },
        {
          "data": {
            "application/vnd.jupyter.widget-view+json": {
              "model_id": "2cf37d9aeac8454fa5061fa8f6b69fad",
              "version_major": 2,
              "version_minor": 0
            },
            "text/plain": [
              "Running Epoch 3 of 5:   0%|          | 0/2621 [00:00<?, ?it/s]"
            ]
          },
          "metadata": {},
          "output_type": "display_data"
        },
        {
          "data": {
            "application/vnd.jupyter.widget-view+json": {
              "model_id": "21442752a4f44bb4a49793115fc26919",
              "version_major": 2,
              "version_minor": 0
            },
            "text/plain": [
              "Running Epoch 4 of 5:   0%|          | 0/2621 [00:00<?, ?it/s]"
            ]
          },
          "metadata": {},
          "output_type": "display_data"
        },
        {
          "data": {
            "application/vnd.jupyter.widget-view+json": {
              "model_id": "bc3b9bc346b446e2aea095055c44a2af",
              "version_major": 2,
              "version_minor": 0
            },
            "text/plain": [
              "Running Epoch 5 of 5:   0%|          | 0/2621 [00:00<?, ?it/s]"
            ]
          },
          "metadata": {},
          "output_type": "display_data"
        },
        {
          "data": {
            "application/vnd.jupyter.widget-view+json": {
              "model_id": "dfc7c58a58354a32ae8cc9c06ea9932b",
              "version_major": 2,
              "version_minor": 0
            },
            "text/plain": [
              "  0%|          | 0/13 [00:00<?, ?it/s]"
            ]
          },
          "metadata": {},
          "output_type": "display_data"
        },
        {
          "data": {
            "application/vnd.jupyter.widget-view+json": {
              "model_id": "9f325a0a7056477fb1afca4d315c0574",
              "version_major": 2,
              "version_minor": 0
            },
            "text/plain": [
              "  0%|          | 0/70 [00:00<?, ?it/s]"
            ]
          },
          "metadata": {},
          "output_type": "display_data"
        },
        {
          "name": "stderr",
          "output_type": "stream",
          "text": [
            "/usr/local/lib/python3.11/dist-packages/simpletransformers/classification/classification_model.py:2188: FutureWarning: `torch.cuda.amp.autocast(args...)` is deprecated. Please use `torch.amp.autocast('cuda', args...)` instead.\n",
            "  with amp.autocast():\n"
          ]
        },
        {
          "name": "stdout",
          "output_type": "stream",
          "text": [
            "['DET', 'G', 'PREP', 'SVA']\n",
            "precision_recall_f1-score\n",
            "['DET', 'G', 'PREP', 'SVA']\n",
            "              precision    recall f0.5-score   support\n",
            "\n",
            "         DET      0.990     1.000     0.992      1508\n",
            "           G      0.905     0.793     0.880      3494\n",
            "        PREP      0.553     0.805     0.590       879\n",
            "         SVA      0.874     0.887     0.877      1107\n",
            "\n",
            "    accuracy                          0.854      6988\n",
            "   macro avg      0.830     0.871     0.835      6988\n",
            "weighted avg      0.874     0.854     0.867      6988\n",
            "\n",
            "Confusion matrix\n",
            "['DET', 'G', 'PREP', 'SVA']\n",
            "[[1508    0    0    0]\n",
            " [  13 2769  573  139]\n",
            " [   0  169  708    2]\n",
            " [   2  123    0  982]]\n"
          ]
        },
        {
          "data": {
            "image/png": "[encoded data removed]",
            "text/plain": [
              "<Figure size 640x480 with 2 Axes>"
            ]
          },
          "metadata": {},
          "output_type": "display_data"
        }
      ],
      "source": [
        "model_path_e1 = \"/content/drive/MyDrive/VU Thesis/Code/baby_models/V20L4/model_e1_v20_l4\"\n",
        "model_name_e1 = \"v20_l4_e1\"\n",
        "seed_val = 150\n",
        "model_e1 = fine_tune_model(model_path_e1, train_df, save_path, f\"{model_name_e1}_s{seed_val}\", seed_val)\n",
        "\n",
        "# seed 150\n",
        "model_e1_path = f'/content/drive/MyDrive/VU Thesis/Code/fine_tune/models/seed_fine_tuned_{model_name_e1}_s{seed_val}_model'\n",
        "\n",
        "preds_e1 = predict_model(model_e1_path, test_data)\n",
        "\n",
        "target_names = ['DET', 'G', 'PREP','SVA']\n",
        "report_e1, cf_matrix_e1 = fine_tune_eval(gold_labels, preds_e1, target_names)"
      ]
    },
    {
      "cell_type": "code",
      "execution_count": null,
      "metadata": {
        "colab": {
          "base_uri": "https://localhost:8080/",
          "height": 1000,
          "referenced_widgets": [
            "606b40527f654cac81f964d009ae0f08",
            "b48a23aca86641c9ab6556757e07a24c",
            "2ed4b0132f7e4f1d8a7ea71175f511c4",
            "89cc1c5153e640c19b6ea6f74e7dcec2",
            "958bca7397584dafb3153882c47d03f1",
            "65fbf49180344a6680e98b89167253d9",
            "7aee709147fe48a9ac55c3efdc29494a",
            "d86c86eda0b246fe9c6d8afda0fa2cdc",
            "60e80b61419e4b4697e674d046c11efc",
            "672817c351714d8eb98d7b8af183b9d8",
            "a56661d45ef746b2ab7dba4dd5cb793b",
            "e002ec12e3b441e7b1d5c697f22e20ea",
            "2bb1b8a56aa8422598939ce79d51bd9d",
            "2edd5cb6a6bf465a855cd7ff11acb6c7",
            "8766713134004a5497da53ad7d41c17e",
            "af35286b095948a4a9d47d65a85fdb31",
            "6a57357fc3074d8eb1183b3a21d87f27",
            "ccb3b7dac99e4c42909dbb4ad2e0e3bb",
            "c4833dc1bade4e2091821c3543031512",
            "e95567dd146b4f07a294f0e7e4851195",
            "b6511f940e564636abcb9497bf81c2d8",
            "6b8ecc56b4914a908c47cbfe981f6a97",
            "3a27f12c5f80485c92a8debcbafbc2c7",
            "2b965938cadc4618b11506c32481ecaf",
            "8801d202cdee46a9a631e1745f53ce7c",
            "9fe5aa9ccb994a9bab069d35472935c3",
            "4a37be84eb8040629fdde9118cf5f92a",
            "5dcedb701e7f44e7a07ef28062e31cf5",
            "004c895d1c3249a681cff9212048da3f",
            "a7e660303d4240babadf7d33011d59b5",
            "8b90f324a84a484d866da53828b89853",
            "862e720813bd4db9bb7d1a4a64a95e78",
            "75ffe2d1aa1a4829a4557a8eb719ff76",
            "76e4b258b242478997492739eea913a3",
            "81a600a07b124dfe88a7e36c6a1d0dc7",
            "f41c267a6cdf45f8ad810fd3f869cc30",
            "4b0eba136805479aa81b26a34593c7ee",
            "3d918c3a59524c829674f25708324bfd",
            "e9ff857d85e44d25a369413f29745c09",
            "ad403bce35b94127ab2b135918ff6c3c",
            "4976181221e9419cab8ff98720d58fff",
            "936b3524d72a4b8087d9c56578b3438e",
            "fb34c5da7247448c92f5bee242289634",
            "811b304ac2da4ebc8494ae5b3c31a089",
            "bdcd5632ab5840e8bcfa28b043fd06e0",
            "928875be9fa5434aac95eda090d7d6a0",
            "f28df7ff2bfc49fbaad4ffe9a6bf7f9e",
            "961240bf3a894f889e2a4492844ac064",
            "3f306354af8e4556a70951716126aa40",
            "843833e4d47d4e6d958020c15c70c117",
            "11a79c9e39414e2fa0d2156d406cb0c6",
            "c0de3e69f9e84f12a3970992020ced1d",
            "5761323c3b4349e4a8de624fec167c35",
            "fe8f5839703a4fd58ec4e4a0dc22a2db",
            "e64dd0b85c8e4ca7a017fb98a100c1f7",
            "fad40052789f4251bf9ce097337c0e71",
            "7733477330a94db8bb31a85cec226f05",
            "bde661d0d64944f78f8762021296923a",
            "e098af5c79324fe299c80908b08854c4",
            "093437157efa416894883571c7d38d90",
            "9d50b8ce746542b0b98fa01c0a7996d7",
            "7edc81d64f36417585f9b39da3ed5dae",
            "f47f5a2df89946f08fb3614e11a51f3b",
            "7242ed9914ca4857806d36eef5549c20",
            "5ddf233d070b4389820ef5f9e3051921",
            "93091b8124814e33a8996271df9c3435",
            "e8191bb31dd64253a7fb6894758ffe5b",
            "edcfd93db23145a08f52f9af9c59ef88",
            "ac7c9a3847fd4337a87b4417839a4200",
            "39cd8a656a294682b02fd4470bcc83dd",
            "83a67487124e47a8aa81f1b19ab2869b",
            "36becffe3b5848eebe94f59b24de45a4",
            "1be2aed88ec9417aaaebc3b1757acd3b",
            "42c2db8879ea4c118af4669a362132b8",
            "0db531ff60c44be29e6c3da96ac10e10",
            "0dcc0900de8947f089fb6858a95591f3",
            "207b52066c0b42d6b1e71535dc9bebcd",
            "b14d89f32e2e4f61929c668e9ddcc242",
            "d8d9c897f92841da8f44d9cfdf14063c",
            "bde00fb05d474de38a8862d2b50ec778",
            "a521ca7db65f48748499eb1c80ae06ca",
            "89ac43ebe3744b1b88f3773f1422cc72",
            "1db9ffa62ceb45f682d48849b2b8edab",
            "7e0808e169a04c0d887ef09e83d3991d",
            "625a9bc429f74f78add03f5188d1510d",
            "ed04d3b4e1b24754997a33411c979bf6",
            "d5bf086bad5544e9af6174a177712247",
            "69385dee1f87436093149c85ac5b435d",
            "bc48dde7d3d54330bd9a0175970dd0b2",
            "3ea3820d4c9c489aaf8ea58759dc3678",
            "aa47a9a860504135b2a6fb056ca33050",
            "d0d3467d8f1c4fbfaca351e33abfa8e0",
            "8451d06aab2c4f5aa5519cb7e7c3fc87",
            "72442661face47b4b1ae9d6ed3002dc3",
            "983fd3ddaa45404ea71dfb2430e7f775",
            "0a46c52fdcac4fa2b9d2c3379cfdf587",
            "758f7361ff80491087ced702e1c56bee",
            "d1a49bb271654b97977fc4a87fc5a6b9",
            "88d464b92eab4010bd8bc4b0cb8707c4"
          ]
        },
        "collapsed": true,
        "id": "Uz5MkEvHAWBv",
        "outputId": "f8d26766-8440-4250-a651-60b4d49a984a"
      },
      "outputs": [
        {
          "name": "stderr",
          "output_type": "stream",
          "text": [
            "Some weights of RobertaForSequenceClassification were not initialized from the model checkpoint at /content/drive/MyDrive/VU Thesis/Code/baby_models/V20L4/model_e1_v20_l4 and are newly initialized: ['classifier.dense.bias', 'classifier.dense.weight', 'classifier.out_proj.bias', 'classifier.out_proj.weight']\n",
            "You should probably TRAIN this model on a down-stream task to be able to use it for predictions and inference.\n"
          ]
        },
        {
          "data": {
            "application/vnd.jupyter.widget-view+json": {
              "model_id": "606b40527f654cac81f964d009ae0f08",
              "version_major": 2,
              "version_minor": 0
            },
            "text/plain": [
              "  0%|          | 0/41 [00:00<?, ?it/s]"
            ]
          },
          "metadata": {},
          "output_type": "display_data"
        },
        {
          "data": {
            "application/vnd.jupyter.widget-view+json": {
              "model_id": "e002ec12e3b441e7b1d5c697f22e20ea",
              "version_major": 2,
              "version_minor": 0
            },
            "text/plain": [
              "Epoch:   0%|          | 0/5 [00:00<?, ?it/s]"
            ]
          },
          "metadata": {},
          "output_type": "display_data"
        },
        {
          "name": "stderr",
          "output_type": "stream",
          "text": [
            "/usr/local/lib/python3.11/dist-packages/simpletransformers/classification/classification_model.py:882: FutureWarning: `torch.cuda.amp.GradScaler(args...)` is deprecated. Please use `torch.amp.GradScaler('cuda', args...)` instead.\n",
            "  scaler = amp.GradScaler()\n"
          ]
        },
        {
          "data": {
            "application/vnd.jupyter.widget-view+json": {
              "model_id": "3a27f12c5f80485c92a8debcbafbc2c7",
              "version_major": 2,
              "version_minor": 0
            },
            "text/plain": [
              "Running Epoch 1 of 5:   0%|          | 0/2621 [00:00<?, ?it/s]"
            ]
          },
          "metadata": {},
          "output_type": "display_data"
        },
        {
          "name": "stderr",
          "output_type": "stream",
          "text": [
            "/usr/local/lib/python3.11/dist-packages/simpletransformers/classification/classification_model.py:905: FutureWarning: `torch.cuda.amp.autocast(args...)` is deprecated. Please use `torch.amp.autocast('cuda', args...)` instead.\n",
            "  with amp.autocast():\n"
          ]
        },
        {
          "data": {
            "application/vnd.jupyter.widget-view+json": {
              "model_id": "76e4b258b242478997492739eea913a3",
              "version_major": 2,
              "version_minor": 0
            },
            "text/plain": [
              "Running Epoch 2 of 5:   0%|          | 0/2621 [00:00<?, ?it/s]"
            ]
          },
          "metadata": {},
          "output_type": "display_data"
        },
        {
          "data": {
            "application/vnd.jupyter.widget-view+json": {
              "model_id": "bdcd5632ab5840e8bcfa28b043fd06e0",
              "version_major": 2,
              "version_minor": 0
            },
            "text/plain": [
              "Running Epoch 3 of 5:   0%|          | 0/2621 [00:00<?, ?it/s]"
            ]
          },
          "metadata": {},
          "output_type": "display_data"
        },
        {
          "data": {
            "application/vnd.jupyter.widget-view+json": {
              "model_id": "fad40052789f4251bf9ce097337c0e71",
              "version_major": 2,
              "version_minor": 0
            },
            "text/plain": [
              "Running Epoch 4 of 5:   0%|          | 0/2621 [00:00<?, ?it/s]"
            ]
          },
          "metadata": {},
          "output_type": "display_data"
        },
        {
          "data": {
            "application/vnd.jupyter.widget-view+json": {
              "model_id": "e8191bb31dd64253a7fb6894758ffe5b",
              "version_major": 2,
              "version_minor": 0
            },
            "text/plain": [
              "Running Epoch 5 of 5:   0%|          | 0/2621 [00:00<?, ?it/s]"
            ]
          },
          "metadata": {},
          "output_type": "display_data"
        },
        {
          "data": {
            "application/vnd.jupyter.widget-view+json": {
              "model_id": "b14d89f32e2e4f61929c668e9ddcc242",
              "version_major": 2,
              "version_minor": 0
            },
            "text/plain": [
              "  0%|          | 0/13 [00:00<?, ?it/s]"
            ]
          },
          "metadata": {},
          "output_type": "display_data"
        },
        {
          "data": {
            "application/vnd.jupyter.widget-view+json": {
              "model_id": "bc48dde7d3d54330bd9a0175970dd0b2",
              "version_major": 2,
              "version_minor": 0
            },
            "text/plain": [
              "  0%|          | 0/70 [00:00<?, ?it/s]"
            ]
          },
          "metadata": {},
          "output_type": "display_data"
        },
        {
          "name": "stderr",
          "output_type": "stream",
          "text": [
            "/usr/local/lib/python3.11/dist-packages/simpletransformers/classification/classification_model.py:2188: FutureWarning: `torch.cuda.amp.autocast(args...)` is deprecated. Please use `torch.amp.autocast('cuda', args...)` instead.\n",
            "  with amp.autocast():\n"
          ]
        },
        {
          "name": "stdout",
          "output_type": "stream",
          "text": [
            "['DET', 'G', 'PREP', 'SVA']\n",
            "precision_recall_f1-score\n",
            "['DET', 'G', 'PREP', 'SVA']\n",
            "              precision    recall f0.5-score   support\n",
            "\n",
            "         DET      0.988     1.000     0.990      1508\n",
            "           G      0.924     0.787     0.893      3494\n",
            "        PREP      0.569     0.901     0.614       879\n",
            "         SVA      0.881     0.870     0.879      1107\n",
            "\n",
            "    accuracy                          0.860      6988\n",
            "   macro avg      0.840     0.890     0.844      6988\n",
            "weighted avg      0.886     0.860     0.877      6988\n",
            "\n",
            "Confusion matrix\n",
            "['DET', 'G', 'PREP', 'SVA']\n",
            "[[1508    0    0    0]\n",
            " [  15 2750  600  129]\n",
            " [   0   86  792    1]\n",
            " [   4  140    0  963]]\n"
          ]
        },
        {
          "data": {
            "image/png": "[encoded data removed]",
            "text/plain": [
              "<Figure size 640x480 with 2 Axes>"
            ]
          },
          "metadata": {},
          "output_type": "display_data"
        }
      ],
      "source": [
        "model_path_e1 = \"/content/drive/MyDrive/VU Thesis/Code/baby_models/V20L4/model_e1_v20_l4\"\n",
        "model_name_e1 = \"v20_l4_e1\"\n",
        "seed_val = 342\n",
        "model_e1 = fine_tune_model(model_path_e1, train_df, save_path, f\"{model_name_e1}_s{seed_val}\", seed_val)\n",
        "\n",
        "# seed 342\n",
        "model_e1_path = f'/content/drive/MyDrive/VU Thesis/Code/fine_tune/models/seed_fine_tuned_{model_name_e1}_s{seed_val}_model'\n",
        "\n",
        "preds_e1 = predict_model(model_e1_path, test_data)\n",
        "\n",
        "target_names = ['DET', 'G', 'PREP','SVA']\n",
        "report_e1, cf_matrix_e1 = fine_tune_eval(gold_labels, preds_e1, target_names)"
      ]
    },
    {
      "cell_type": "code",
      "execution_count": null,
      "metadata": {
        "colab": {
          "base_uri": "https://localhost:8080/",
          "height": 1000,
          "referenced_widgets": [
            "0b12ff90b58f4e7f859f652999508204",
            "0959e789d28440788cb492b2145c142d",
            "15d940d23c364ffc80b7e584b10c4648",
            "35e291cbe5d446e9b9f09491866507ad",
            "9c6a7050751246b5b604733e838d640f",
            "444c95578f414fd9a64cb3e2ee5f038d",
            "51d1e8012fa14745922f0603a785b38a",
            "070bb7afc4ab4bafaa03014c07ebea34",
            "1ccdbbf66750455f908e403548aaf751",
            "c96e4f73b5fa4c2db11c39329d59dee3",
            "9e004dc7f9954c4dac80ea7a753f9f16",
            "b0858e40b41c4ff78a783b155fb1eca2",
            "59497cc9825c4d5585e3682044157ff3",
            "472ee93d882a40ec9e0cca9ff20b7123",
            "94f829ede5654715ad05f39e125395f9",
            "0be08856b8aa48cfbe93a57c7f81cc54",
            "ad646fcc5d5046eeae951dd5c9664bcf",
            "22430b437e704679a9086961a953d779",
            "752f8937232c4c80ba01ca2f79466c8a",
            "5810e0df28b24838bcc43ac3cf3f9be8",
            "0054a322d72a4b3c9b834abcc780c761",
            "7aaa36efad6f4b8c8f1c6099201556db",
            "5a477a08601144149a57ba861c6a7db0",
            "0fc85ed76fef427bb6686302b46af674",
            "25d3f09bf13d412383981d03f1c0467b",
            "bda0185c6953454ea33ae0c443062a39",
            "b1774c6c3f84425cb301f778f7145b04",
            "8cbfe143d9cc41e08d27fe63b87b8e7f",
            "9ed6b4f20e914d3b9191eb04fbae612e",
            "ea46469ae21748dc9663cfa5c79f046b",
            "7b3875acee76408f8de99fda86b16101",
            "a9e6080f46f64f4bb6091152a6f75a81",
            "5862458d24da4fc49547a782f77b6657",
            "76a727eb10ab442d9ffa1702b3be1b76",
            "b0246a05e12c44fea6e0344664ab467a",
            "0b8dcab0c2c646618a73fe6e5bc35f83",
            "a2eef2302ca042658a56f554158b4bfa",
            "aebaabbf03704575bfe171e2a4531b07",
            "aa0acde805aa41e8b146a35d562ada2d",
            "4df8f9d4080e4d65bc1198988e44a80a",
            "93a2d640813d430bb1eaa5a9ed66aca1",
            "8c2f5c9c94b04a7e9b4e064be3414372",
            "fef6933e6153477f9f7d3aa83ac720b4",
            "05fbb514235645a6bf160c61a1c1cf2f",
            "e34e0ce5548f45dc868e7255192c0e22",
            "ab125b982d8148cfb1dee06bfbceb5b7",
            "bac964bba29a464d8dba4cc79851fc14",
            "55415482d4a44d6cadbdfb2dd0aa17c1",
            "e915bf4394014db5840059fc26456831",
            "3dd437cc097e48fcbbca6e7aaf7785eb",
            "cd9499bb8c644758b715a358ad5b3dd3",
            "f5134bbac3e14354a9bf9f9cc2f687a6",
            "b367415b11e14789bb62be831ac5bdaa",
            "704f810366ec457fa5ed6110e7def2d6",
            "df7ec7c3eb124bd093d8e94b23821f66",
            "d7c4a21fb86647e0be79befe946e2f21",
            "d76c693c860e4877ac6819350229355b",
            "51aad9daf1334fe1869e72080824cff9",
            "0e695149e7de4970b0829efa2bd3c379",
            "fbd8ad1bec6b49ca911b6106246caa0a",
            "99ec2a9e345d4515a31ae6177c06454a",
            "e45fdcbe0aeb48bf820618f92bc253f9",
            "6f9e31ef7e6f4f7fa6f289314f461dad",
            "7eb5f3859b234f42a1eb4287a805dc90",
            "f479714e621e46ed87fb17ad07f3bd1c",
            "47c0ddd75bbd4d198d0b34bd4857f50f",
            "4ec7e987549144258247fa9541932b08",
            "b920459696f84c9d9af349f40d1da923",
            "e3e4b353030c4c9da58509ed9f0b14b1",
            "7f59c060fb7b401d8189e1805f1b31f1",
            "ab8144452cda4aef80bbcc845b05c825",
            "b87e81fa70f84290aea37e9b9fb8a83c",
            "e960e030738d494da0f44a000ea42f0f",
            "6c6bc3f6be5e4675a451c20aabb4d72d",
            "0fe233d7ef7c46fd9c66a978c00fe07a",
            "b9bf365eba9a4171921d6c80660083f1",
            "e091be41d9a046d5ae57a1cd83119361",
            "a7bd141f70b443ce9706869a5795eb37",
            "27da7ee54e6b42daaab135f4f2ee12d1",
            "f070fa4fa4ec435d828e7412f1a9c311",
            "d6b2eaafcded44fa8651d0b930fde36b",
            "f5f88916d0bb4d7e8e6b6ee64f494d82",
            "7c48daee04674bf2aeab4cc04e30cb06",
            "77e71bcd79304efab11571fdabb1a3b6",
            "cb153cbe68a344d2b62e98068d4cb0b3",
            "1d2c74dc9586450da19db75d588dfc05",
            "badb9b0c610c49dbae207d33bf1ae4c9",
            "6eb1652a1b764e759aa5aa87f545c3c2",
            "7268d6f231cb449f9caaca452576846f",
            "fcccd72bc1b94bf4ad68c1868f6ee1e0",
            "fdcc3f29944044d4817d9a37eb750049",
            "44717aa5096848a69b47074a47f71aa1",
            "ca9e8bd452974be98023d4ef0235ab3f",
            "544e84c85347455bb848a42822f6e984",
            "44e16e3478414ab2b6d94aff7928ded2",
            "c98b863e3e914d5bbb73b7295f48e534",
            "1c7cc02b4dd44e0d9ff6930202b87a88",
            "8ce70b0837a14d3a87c0078277737540",
            "6ba4877b4bab4cbcb84c7fe8e98620e7"
          ]
        },
        "collapsed": true,
        "id": "sdS_pNy4nr-4",
        "outputId": "e82e40e5-ab57-43ca-f2b8-c419cd17dbda"
      },
      "outputs": [
        {
          "name": "stderr",
          "output_type": "stream",
          "text": [
            "Some weights of RobertaForSequenceClassification were not initialized from the model checkpoint at /content/drive/MyDrive/VU Thesis/Code/baby_models/V20L4/model_e1_v20_l4 and are newly initialized: ['classifier.dense.bias', 'classifier.dense.weight', 'classifier.out_proj.bias', 'classifier.out_proj.weight']\n",
            "You should probably TRAIN this model on a down-stream task to be able to use it for predictions and inference.\n"
          ]
        },
        {
          "data": {
            "application/vnd.jupyter.widget-view+json": {
              "model_id": "0b12ff90b58f4e7f859f652999508204",
              "version_major": 2,
              "version_minor": 0
            },
            "text/plain": [
              "  0%|          | 0/41 [00:00<?, ?it/s]"
            ]
          },
          "metadata": {},
          "output_type": "display_data"
        },
        {
          "data": {
            "application/vnd.jupyter.widget-view+json": {
              "model_id": "b0858e40b41c4ff78a783b155fb1eca2",
              "version_major": 2,
              "version_minor": 0
            },
            "text/plain": [
              "Epoch:   0%|          | 0/5 [00:00<?, ?it/s]"
            ]
          },
          "metadata": {},
          "output_type": "display_data"
        },
        {
          "name": "stderr",
          "output_type": "stream",
          "text": [
            "/usr/local/lib/python3.11/dist-packages/simpletransformers/classification/classification_model.py:882: FutureWarning: `torch.cuda.amp.GradScaler(args...)` is deprecated. Please use `torch.amp.GradScaler('cuda', args...)` instead.\n",
            "  scaler = amp.GradScaler()\n"
          ]
        },
        {
          "data": {
            "application/vnd.jupyter.widget-view+json": {
              "model_id": "5a477a08601144149a57ba861c6a7db0",
              "version_major": 2,
              "version_minor": 0
            },
            "text/plain": [
              "Running Epoch 1 of 5:   0%|          | 0/2621 [00:00<?, ?it/s]"
            ]
          },
          "metadata": {},
          "output_type": "display_data"
        },
        {
          "name": "stderr",
          "output_type": "stream",
          "text": [
            "/usr/local/lib/python3.11/dist-packages/simpletransformers/classification/classification_model.py:905: FutureWarning: `torch.cuda.amp.autocast(args...)` is deprecated. Please use `torch.amp.autocast('cuda', args...)` instead.\n",
            "  with amp.autocast():\n"
          ]
        },
        {
          "data": {
            "application/vnd.jupyter.widget-view+json": {
              "model_id": "76a727eb10ab442d9ffa1702b3be1b76",
              "version_major": 2,
              "version_minor": 0
            },
            "text/plain": [
              "Running Epoch 2 of 5:   0%|          | 0/2621 [00:00<?, ?it/s]"
            ]
          },
          "metadata": {},
          "output_type": "display_data"
        },
        {
          "data": {
            "application/vnd.jupyter.widget-view+json": {
              "model_id": "e34e0ce5548f45dc868e7255192c0e22",
              "version_major": 2,
              "version_minor": 0
            },
            "text/plain": [
              "Running Epoch 3 of 5:   0%|          | 0/2621 [00:00<?, ?it/s]"
            ]
          },
          "metadata": {},
          "output_type": "display_data"
        },
        {
          "data": {
            "application/vnd.jupyter.widget-view+json": {
              "model_id": "d7c4a21fb86647e0be79befe946e2f21",
              "version_major": 2,
              "version_minor": 0
            },
            "text/plain": [
              "Running Epoch 4 of 5:   0%|          | 0/2621 [00:00<?, ?it/s]"
            ]
          },
          "metadata": {},
          "output_type": "display_data"
        },
        {
          "data": {
            "application/vnd.jupyter.widget-view+json": {
              "model_id": "4ec7e987549144258247fa9541932b08",
              "version_major": 2,
              "version_minor": 0
            },
            "text/plain": [
              "Running Epoch 5 of 5:   0%|          | 0/2621 [00:00<?, ?it/s]"
            ]
          },
          "metadata": {},
          "output_type": "display_data"
        },
        {
          "data": {
            "application/vnd.jupyter.widget-view+json": {
              "model_id": "a7bd141f70b443ce9706869a5795eb37",
              "version_major": 2,
              "version_minor": 0
            },
            "text/plain": [
              "  0%|          | 0/13 [00:00<?, ?it/s]"
            ]
          },
          "metadata": {},
          "output_type": "display_data"
        },
        {
          "data": {
            "application/vnd.jupyter.widget-view+json": {
              "model_id": "7268d6f231cb449f9caaca452576846f",
              "version_major": 2,
              "version_minor": 0
            },
            "text/plain": [
              "  0%|          | 0/70 [00:00<?, ?it/s]"
            ]
          },
          "metadata": {},
          "output_type": "display_data"
        },
        {
          "name": "stderr",
          "output_type": "stream",
          "text": [
            "/usr/local/lib/python3.11/dist-packages/simpletransformers/classification/classification_model.py:2188: FutureWarning: `torch.cuda.amp.autocast(args...)` is deprecated. Please use `torch.amp.autocast('cuda', args...)` instead.\n",
            "  with amp.autocast():\n"
          ]
        },
        {
          "name": "stdout",
          "output_type": "stream",
          "text": [
            "['DET', 'G', 'PREP', 'SVA']\n",
            "precision_recall_f1-score\n",
            "['DET', 'G', 'PREP', 'SVA']\n",
            "              precision    recall f0.5-score   support\n",
            "\n",
            "         DET      0.988     1.000     0.990      1508\n",
            "           G      0.897     0.770     0.869      3494\n",
            "        PREP      0.558     0.843     0.598       879\n",
            "         SVA      0.821     0.839     0.824      1107\n",
            "\n",
            "    accuracy                          0.840      6988\n",
            "   macro avg      0.816     0.863     0.820      6988\n",
            "weighted avg      0.862     0.840     0.854      6988\n",
            "\n",
            "Confusion matrix\n",
            "['DET', 'G', 'PREP', 'SVA']\n",
            "[[1508    0    0    0]\n",
            " [  13 2692  588  201]\n",
            " [   2  134  741    2]\n",
            " [   4  174    0  929]]\n"
          ]
        },
        {
          "data": {
            "image/png": "[encoded data removed]",
            "text/plain": [
              "<Figure size 640x480 with 2 Axes>"
            ]
          },
          "metadata": {},
          "output_type": "display_data"
        }
      ],
      "source": [
        "model_path_e1 = \"/content/drive/MyDrive/VU Thesis/Code/baby_models/V20L4/model_e1_v20_l4\"\n",
        "model_name_e1 = \"v20_l4_e1\"\n",
        "seed_val = 613\n",
        "model_e1 = fine_tune_model(model_path_e1, train_df, save_path, f\"{model_name_e1}_s{seed_val}\", seed_val)\n",
        "\n",
        "# seed 613\n",
        "model_e1_path = f'/content/drive/MyDrive/VU Thesis/Code/fine_tune/models/seed_fine_tuned_{model_name_e1}_s{seed_val}_model'\n",
        "\n",
        "preds_e1 = predict_model(model_e1_path, test_data)\n",
        "\n",
        "target_names = ['DET', 'G', 'PREP','SVA']\n",
        "report_e1, cf_matrix_e1 = fine_tune_eval(gold_labels, preds_e1, target_names)"
      ]
    },
    {
      "cell_type": "markdown",
      "metadata": {
        "id": "omG7L9jDpI9q"
      },
      "source": [
        "#### E5"
      ]
    },
    {
      "cell_type": "code",
      "execution_count": null,
      "metadata": {
        "colab": {
          "base_uri": "https://localhost:8080/",
          "height": 1000,
          "referenced_widgets": [
            "41302fc6d17744de880e22c5cc819e4d",
            "8b4717bc69a04df0a963d460271628fe",
            "e7cf58bec59f454cb2446dd1dc74c2f5",
            "6306d34f3c1b426b844f66bca6339dc0",
            "6691f0216f7e4ebf8586b3a2ebda5f6f",
            "32ab7ad943984ae2ae82a7b4ae1528aa",
            "20b952e974db401f9d7c29fc2d3f270e",
            "5a7afb4458104a67a409cd6819baba3b",
            "517d2c1cc06e499b88e92b903f2e8fb7",
            "9294481dfd894a6fa096f242f185cf2b",
            "5e58af0ddb1545c389ced1e121c202dd",
            "ae8739875b3c4ddab77fd9e514c9d31e",
            "27cf4894e71c4eb3b3ff90a09cfd453c",
            "70c508fe4fef4ef783e1693ca0388942",
            "5da367c6e32f40f7b3e8eafa5f8d59dc",
            "c506944350b54a8a8f3228e1ff772e67",
            "29cdfd75f22141128effffa9c698fa9f",
            "051b94c5d5cb404f8948cd399789d39b",
            "724eae209400458a8bb3d369661ae714",
            "cb32f29f3d934a4da1c2901f252e23af",
            "2668221373534aa997c545e9e513f3de",
            "d832edeeb94f4699a3452ca401c6e37e",
            "120e8982ce434755a5cd56d536177313",
            "1a235fb120204ad69f0d950589daa945",
            "4d126ec8f8714914bde0352db3367cd1",
            "297499b7cb2e45909cc111def3c61dd2",
            "97a550e886b843f1b08022cc56f06e21",
            "52aa3e7551294d408be4ed9ef2a69bf3",
            "eb631df3d95c457e92cc6d4de7d85161",
            "89ba8b43a7244b17948722f3dc7ab0c9",
            "44286ccf2aff4f858d01980c0c54cbba",
            "54e25735ed5344568a1b210e7e2a00aa",
            "53fe3a56490c4d9e9ff479166a49ccce",
            "635dbf42d37445c6974743e2ae6f7467",
            "84fc7b5fdc794079bf6b11a524b645c9",
            "d60a4587922c4bb8b36e46a5bf95169b",
            "f3a7f9918fc54c90aef203395f2d6445",
            "9b7fa1b857044bc4bc1712f70737842d",
            "088cddd7359948ac81fa3926ea425756",
            "d374aed481b74778947d31f01665790e",
            "e09cedc50b914527891c4d453c877c26",
            "13b3776b0b3a497892ae90dc8aca00f4",
            "e6fd5358ef4f493d9ac69ce3c30a864e",
            "cd7670cd89b44e2d9bef9977de75d848",
            "cc340912e361493891ed6c0ab462db25",
            "401c977804ed4a51a67c82ef8bc5c025",
            "2b8029be30dd4b6f9f983f10bccb8813",
            "bb0226113a6d4b579d6185213175285b",
            "1309436c07714245b89764674bb58247",
            "f85fe1fe286141bf95b0817a0967c24d",
            "64487ea05eef44a9b70c198d8c1a549b",
            "0e7834bcfb124a169f405f8255c41b55",
            "e574ae33094d4c1896d223eaded77356",
            "85a0d9646a4d4997bc0840e2826b2375",
            "7e36fa7ffe684a7c8120d27e5db5cbfb",
            "04af69e898d2494991f2f0cdafd39c5e",
            "d010cdacc8b543b598a060635a194942",
            "7c58978baef14aaabc93c590a0283f24",
            "6668df2d3dcc4244862291e656b5beed",
            "51a6248866154f77a9df8609565d00dc",
            "15e84c76ce864849acc75c1b2a6d18e8",
            "59801d42e0f64d3b9a1bebef4d208786",
            "bbb359ea416d46a8bf8ecbdb59ca86a8",
            "87281cd417b64a7a8678948d480f216e",
            "77b1b3f5702546379cba34ea28108509",
            "f1a6b7fce0fe402bb724f03aad142da2",
            "62c09099ce124794b7fe2e4507e70795",
            "b6f701081bf04af9b2a9b1bc31afe457",
            "fe4aa544ea6446f8b454f11c5644865b",
            "743c53721f734a2a84ae089a38a7e6a2",
            "3b8b1dad0aeb44e0a73e712f3c7830fe",
            "1724551cfaa24a7cb3c869d99034aadf",
            "823a63fc061e4ea8aa4639d65e5e9d63",
            "55d93230e1244b0e8b96435f0d08e15e",
            "3bc2821e4c68480ab1b6c92fb270cdf7",
            "37a647bfd32c4de691a96460bb6e8131",
            "e700b6ace3b144468ad9cc49cb7efb25",
            "5289530c872249079c9f1a02ea51bd75",
            "3d35d189380e483585a81e519aa38d3d",
            "0f602dcb4c944733884b663f56d5626f",
            "8df7a458f914452fbd06f5c4c5981506",
            "28cac56d3fbf442ea4e593368e4fdc26",
            "c8314a416e924601ba1f3b5627f27f7f",
            "cfbbf178e6e04138bb2a143c1c1f2878",
            "e58bb10b81ed45ff8db3578739cae9ce",
            "441291e623a7417282fb583f13cf95e9",
            "927c9c1b22d84b1487a54b1aaaad19af",
            "cc3ce87058704c6c94df264621dee14e",
            "65796666099c466495e69dbc9d92866e",
            "83d063b9ea2c4a3eb9011c6a0f58fcee",
            "4995f799c929420d99ba2a6c62d71e06",
            "28dce401004b450c92bc2b48c356914e",
            "75b64a7997ba4b17a932e8b74fcebebe",
            "383d54bff81d4ec0b72df21f1053dca6",
            "b987a268007449adb1cfabbbe67867ab",
            "fb6ace88424a4ac3b2b476a62fb6eda2",
            "f3eec30a48cd4b1880551c9589d9a2fe",
            "03eba943b87443d4ade82b87fa0ec3fd",
            "658d67181fb24a2590ec50e48682870a"
          ]
        },
        "collapsed": true,
        "id": "NL4gLSdadEzd",
        "outputId": "924f4b67-076c-4788-ec6e-615c5d104c66"
      },
      "outputs": [
        {
          "name": "stderr",
          "output_type": "stream",
          "text": [
            "Some weights of RobertaForSequenceClassification were not initialized from the model checkpoint at /content/drive/MyDrive/VU Thesis/Code/baby_models/V20L4/model_e5_v20_l4 and are newly initialized: ['classifier.dense.bias', 'classifier.dense.weight', 'classifier.out_proj.bias', 'classifier.out_proj.weight']\n",
            "You should probably TRAIN this model on a down-stream task to be able to use it for predictions and inference.\n"
          ]
        },
        {
          "data": {
            "application/vnd.jupyter.widget-view+json": {
              "model_id": "41302fc6d17744de880e22c5cc819e4d",
              "version_major": 2,
              "version_minor": 0
            },
            "text/plain": [
              "  0%|          | 0/41 [00:00<?, ?it/s]"
            ]
          },
          "metadata": {},
          "output_type": "display_data"
        },
        {
          "data": {
            "application/vnd.jupyter.widget-view+json": {
              "model_id": "ae8739875b3c4ddab77fd9e514c9d31e",
              "version_major": 2,
              "version_minor": 0
            },
            "text/plain": [
              "Epoch:   0%|          | 0/5 [00:00<?, ?it/s]"
            ]
          },
          "metadata": {},
          "output_type": "display_data"
        },
        {
          "name": "stderr",
          "output_type": "stream",
          "text": [
            "/usr/local/lib/python3.11/dist-packages/simpletransformers/classification/classification_model.py:882: FutureWarning: `torch.cuda.amp.GradScaler(args...)` is deprecated. Please use `torch.amp.GradScaler('cuda', args...)` instead.\n",
            "  scaler = amp.GradScaler()\n"
          ]
        },
        {
          "data": {
            "application/vnd.jupyter.widget-view+json": {
              "model_id": "120e8982ce434755a5cd56d536177313",
              "version_major": 2,
              "version_minor": 0
            },
            "text/plain": [
              "Running Epoch 1 of 5:   0%|          | 0/2621 [00:00<?, ?it/s]"
            ]
          },
          "metadata": {},
          "output_type": "display_data"
        },
        {
          "name": "stderr",
          "output_type": "stream",
          "text": [
            "/usr/local/lib/python3.11/dist-packages/simpletransformers/classification/classification_model.py:905: FutureWarning: `torch.cuda.amp.autocast(args...)` is deprecated. Please use `torch.amp.autocast('cuda', args...)` instead.\n",
            "  with amp.autocast():\n"
          ]
        },
        {
          "data": {
            "application/vnd.jupyter.widget-view+json": {
              "model_id": "635dbf42d37445c6974743e2ae6f7467",
              "version_major": 2,
              "version_minor": 0
            },
            "text/plain": [
              "Running Epoch 2 of 5:   0%|          | 0/2621 [00:00<?, ?it/s]"
            ]
          },
          "metadata": {},
          "output_type": "display_data"
        },
        {
          "data": {
            "application/vnd.jupyter.widget-view+json": {
              "model_id": "cc340912e361493891ed6c0ab462db25",
              "version_major": 2,
              "version_minor": 0
            },
            "text/plain": [
              "Running Epoch 3 of 5:   0%|          | 0/2621 [00:00<?, ?it/s]"
            ]
          },
          "metadata": {},
          "output_type": "display_data"
        },
        {
          "data": {
            "application/vnd.jupyter.widget-view+json": {
              "model_id": "04af69e898d2494991f2f0cdafd39c5e",
              "version_major": 2,
              "version_minor": 0
            },
            "text/plain": [
              "Running Epoch 4 of 5:   0%|          | 0/2621 [00:00<?, ?it/s]"
            ]
          },
          "metadata": {},
          "output_type": "display_data"
        },
        {
          "data": {
            "application/vnd.jupyter.widget-view+json": {
              "model_id": "62c09099ce124794b7fe2e4507e70795",
              "version_major": 2,
              "version_minor": 0
            },
            "text/plain": [
              "Running Epoch 5 of 5:   0%|          | 0/2621 [00:00<?, ?it/s]"
            ]
          },
          "metadata": {},
          "output_type": "display_data"
        },
        {
          "data": {
            "application/vnd.jupyter.widget-view+json": {
              "model_id": "5289530c872249079c9f1a02ea51bd75",
              "version_major": 2,
              "version_minor": 0
            },
            "text/plain": [
              "  0%|          | 0/13 [00:00<?, ?it/s]"
            ]
          },
          "metadata": {},
          "output_type": "display_data"
        },
        {
          "data": {
            "application/vnd.jupyter.widget-view+json": {
              "model_id": "65796666099c466495e69dbc9d92866e",
              "version_major": 2,
              "version_minor": 0
            },
            "text/plain": [
              "  0%|          | 0/70 [00:00<?, ?it/s]"
            ]
          },
          "metadata": {},
          "output_type": "display_data"
        },
        {
          "name": "stderr",
          "output_type": "stream",
          "text": [
            "/usr/local/lib/python3.11/dist-packages/simpletransformers/classification/classification_model.py:2188: FutureWarning: `torch.cuda.amp.autocast(args...)` is deprecated. Please use `torch.amp.autocast('cuda', args...)` instead.\n",
            "  with amp.autocast():\n"
          ]
        },
        {
          "name": "stdout",
          "output_type": "stream",
          "text": [
            "['DET', 'G', 'PREP', 'SVA']\n",
            "precision_recall_f1-score\n",
            "['DET', 'G', 'PREP', 'SVA']\n",
            "              precision    recall f0.5-score   support\n",
            "\n",
            "         DET      0.997     0.999     0.997      1508\n",
            "           G      0.938     0.813     0.910      3494\n",
            "        PREP      0.558     0.843     0.599       879\n",
            "         SVA      0.945     0.955     0.947      1107\n",
            "\n",
            "    accuracy                          0.880      6988\n",
            "   macro avg      0.859     0.903     0.863      6988\n",
            "weighted avg      0.904     0.880     0.896      6988\n",
            "\n",
            "Confusion matrix\n",
            "['DET', 'G', 'PREP', 'SVA']\n",
            "[[1507    1    0    0]\n",
            " [   5 2842  586   61]\n",
            " [   0  137  741    1]\n",
            " [   0   50    0 1057]]\n"
          ]
        },
        {
          "data": {
            "image/png": "[encoded data removed]",
            "text/plain": [
              "<Figure size 640x480 with 2 Axes>"
            ]
          },
          "metadata": {},
          "output_type": "display_data"
        }
      ],
      "source": [
        "model_path_e5 = \"/content/drive/MyDrive/VU Thesis/Code/baby_models/V20L4/model_e5_v20_l4\"\n",
        "model_name_e5 = \"v20_l4_e5\"\n",
        "seed_val = 20\n",
        "model_e5 = fine_tune_model(model_path_e5, train_df, save_path, f\"{model_name_e5}_s{seed_val}\", seed_val)\n",
        "\n",
        "# seed 20\n",
        "model_e5_path = f'/content/drive/MyDrive/VU Thesis/Code/fine_tune/models/seed_fine_tuned_{model_name_e5}_s{seed_val}_model'\n",
        "\n",
        "preds_e5 = predict_model(model_e5_path, test_data)\n",
        "\n",
        "target_names = ['DET', 'G', 'PREP','SVA']\n",
        "report_e5, cf_matrix_e5 = fine_tune_eval(gold_labels, preds_e5, target_names)"
      ]
    },
    {
      "cell_type": "code",
      "execution_count": null,
      "metadata": {
        "colab": {
          "base_uri": "https://localhost:8080/",
          "height": 1000,
          "referenced_widgets": [
            "dbf283c737f64a429758377495f1f8fc",
            "b89bb4f58a624985bcb43348af3ec30d",
            "0dbff81da59f4ce481e8409c1eeeec05",
            "b6e1b56cd8034dcf8d618809fa7c437a",
            "dfc61b79444d416c9f6759791dd8064b",
            "e452b4b252974417b48f3c6180ac4cfd",
            "3ac2db91ea4a46eeb6e8cf41c5453f71",
            "b0f8badf163d4657a9fa15dccf70313a",
            "1278b5c841824e3192e5815f59194754",
            "07409e5a5feb4389b318ed3e41793e1c",
            "65d53a4bc882492d8536b404a77695a1",
            "fb482931cb1b491fb154e7eccc927512",
            "e4de1b568f7a40d082d6e18ffea12e90",
            "fc9bdd8702954d12b7a5c06badad264a",
            "07e52be6da314d509e124f402860aa1e",
            "0e57cc8e960745d1bf797e7b4c477ac6",
            "685d25723fa541e5a2b949b5239fd227",
            "b69425bf02174959afe8198e70951052",
            "2698a6b81e944ee6807e0e2ee3e5770e",
            "8b3995eff33d4a988f75b673874a8b64",
            "e5bfd684d7364cc39f3e9be52141363c",
            "946226da290544089bdbf570ddd74c28",
            "6f7b97cdd289404da1fc762badc0eed9",
            "e96e3c8bc62d410e89e4d3b86c898e92",
            "78ff3962e4ae4f16a43d0fd23247dbff",
            "6796608e544940dda2fd30531956b27f",
            "2058071f7f7d41f2a603ae91a27d7ebd",
            "3ecdf6dc3bc9444e9d9bf5b29b42b382",
            "fcdfad7745534ea5a86515dbe9d6bca3",
            "95e5ef8952364a888f3c33ce29a76247",
            "c645f05a650347549b3bdf00bf5d9078",
            "27dc25ac535947c0a6317c8c29563359",
            "e009b3d1c801439fb21b751443f00361",
            "1710fcc7ae0e4aa9a28721ea3e9b67b0",
            "5ee4dce6a7f24a24a8275eeae0aa7378",
            "caae6941564b46b388af67db48e69246",
            "ba57bae8fc7246a48b7ba1ef077447ef",
            "34fa8cd0f2214141adfdaf43cb2b57f1",
            "4c44857ef6d346deb8fc8597cfb43f3b",
            "0b32cc11e12d4e5088ff6ffc5eeed8b3",
            "ca56e4442a3c4c7e935681b7bc5eaa84",
            "499a2d08a6bb4ce48452d1acc186b53a",
            "0382fdbf13e748e9b9ce15f987c3eea9",
            "5b66d25b5e084a36a1b0b1bb58d2b3bb",
            "7c82b8ab034a4848b519567855c6fb1e",
            "1183373d88c146609db12f7443ab3ff6",
            "6eb7ce8edd6a435491a46292a51f7ffd",
            "89010e39b23b49bb8930d7bb5a350bc4",
            "916ec459a2ea41e39c951e42b512d4d9",
            "25d81cd812b445918649d9054480a516",
            "2feb129834f84b1d9153601202eec1a6",
            "da1f02774e3f4bae8d496aaa8fd49eb9",
            "2a3345dbe67e4afa89d8ed2f40e4c5af",
            "42d1d9b9b3304c769f82dd1b857013d9",
            "cee8e6ce6bf648f789172b83e192a2d7",
            "cc147ff3feeb4a84b6ee75896a720021",
            "67b7756035504d98a99c4c34b00c7563",
            "020737217aae48c4b8ac8f5d9445497d",
            "d35d2797b7b24319b0f94a60bff1a85a",
            "a59357566f504ec9b90fb38073333b53",
            "7d5b22066e854df79215b8b809d18315",
            "1ad87e8328184fd0a349f024144b61f7",
            "cb971b27ec8d4fe59f194fee1052dd65",
            "c40462ad13424cfc907b029b9145d290",
            "3e74dd3fa30b4d8d9ea835b7f68de1bc",
            "a7181e94801c48bdbbf8e43efbd689a5",
            "377f9c668495424f8b2b7002f714580e",
            "29b70be98602478e9518890215c1aeee",
            "6a24fdb46184408cb0018cb6eb6fa7ae",
            "c85e25bf9da44da4a9749fd169f8128a",
            "8f4195b1b9ce47788bcb638d2ddab2be",
            "59c6eab61ff048bf98c7a3b17af697f3",
            "114cc8e4c0e443b5b6b995ffa5c18d34",
            "f5f1756b9202448eb00603d0230ef4af",
            "7f43d407431f4b9faab79fab5aaedf12",
            "15480fa76faf4d49b8a28a31ee70daf7",
            "27f32898eaaf4443b10a88f246664f48",
            "cf7e477dfae84f00bf4dfd3afdfef73e",
            "9eb774a43cb34941ad81d31801ff3704",
            "12664877948b41b5bd78e74e86804dc3",
            "9c14cc4a729e43239df7c6f667406fd7",
            "3bf51de499d441909d09d7c3e4ff100f",
            "e5ddb56e674b469093deafd6087f9cd2",
            "50d7a16178b14e4baec7a06bde177413",
            "7cee3d3df4da4021b178b7f7515d2339",
            "df850e68054a471997f0a795fd263f83",
            "6a33cc43510a4abea24ddff98ce3251e",
            "dda5b0458d0a4e0a80d26a9c08f831c0",
            "574ec287f5b4495b89e7dbdf3942f18f",
            "fee93faa8faa4adf86144540946e71b4",
            "025e62776e7849428127fa5bde4f7f12",
            "be13e281b79a455598a3ef98ea093145",
            "c11583d5f472415cb8fbc76eb30fd4c3",
            "47846253e76e4f12b6a2d593af685049",
            "0f418ee85cdf43e2adb6d37f0b8fe05b",
            "f54b50d8d98c4e07901fc97eccf7b2c0",
            "cc6844b5f56d4ad28e1b7457aafafd67",
            "41dbedd11b6344ac824e2ca3765f3aa1",
            "0aa74eb2bdda4fec8f9891a18da139e6"
          ]
        },
        "collapsed": true,
        "id": "cCpmMmJfjr9I",
        "outputId": "9c00b270-d54f-4fff-84cb-2d1e0ec91050"
      },
      "outputs": [
        {
          "name": "stderr",
          "output_type": "stream",
          "text": [
            "Some weights of RobertaForSequenceClassification were not initialized from the model checkpoint at /content/drive/MyDrive/VU Thesis/Code/baby_models/V20L4/model_e5_v20_l4 and are newly initialized: ['classifier.dense.bias', 'classifier.dense.weight', 'classifier.out_proj.bias', 'classifier.out_proj.weight']\n",
            "You should probably TRAIN this model on a down-stream task to be able to use it for predictions and inference.\n"
          ]
        },
        {
          "data": {
            "application/vnd.jupyter.widget-view+json": {
              "model_id": "dbf283c737f64a429758377495f1f8fc",
              "version_major": 2,
              "version_minor": 0
            },
            "text/plain": [
              "  0%|          | 0/41 [00:00<?, ?it/s]"
            ]
          },
          "metadata": {},
          "output_type": "display_data"
        },
        {
          "data": {
            "application/vnd.jupyter.widget-view+json": {
              "model_id": "fb482931cb1b491fb154e7eccc927512",
              "version_major": 2,
              "version_minor": 0
            },
            "text/plain": [
              "Epoch:   0%|          | 0/5 [00:00<?, ?it/s]"
            ]
          },
          "metadata": {},
          "output_type": "display_data"
        },
        {
          "name": "stderr",
          "output_type": "stream",
          "text": [
            "/usr/local/lib/python3.11/dist-packages/simpletransformers/classification/classification_model.py:882: FutureWarning: `torch.cuda.amp.GradScaler(args...)` is deprecated. Please use `torch.amp.GradScaler('cuda', args...)` instead.\n",
            "  scaler = amp.GradScaler()\n"
          ]
        },
        {
          "data": {
            "application/vnd.jupyter.widget-view+json": {
              "model_id": "6f7b97cdd289404da1fc762badc0eed9",
              "version_major": 2,
              "version_minor": 0
            },
            "text/plain": [
              "Running Epoch 1 of 5:   0%|          | 0/2621 [00:00<?, ?it/s]"
            ]
          },
          "metadata": {},
          "output_type": "display_data"
        },
        {
          "name": "stderr",
          "output_type": "stream",
          "text": [
            "/usr/local/lib/python3.11/dist-packages/simpletransformers/classification/classification_model.py:905: FutureWarning: `torch.cuda.amp.autocast(args...)` is deprecated. Please use `torch.amp.autocast('cuda', args...)` instead.\n",
            "  with amp.autocast():\n"
          ]
        },
        {
          "data": {
            "application/vnd.jupyter.widget-view+json": {
              "model_id": "1710fcc7ae0e4aa9a28721ea3e9b67b0",
              "version_major": 2,
              "version_minor": 0
            },
            "text/plain": [
              "Running Epoch 2 of 5:   0%|          | 0/2621 [00:00<?, ?it/s]"
            ]
          },
          "metadata": {},
          "output_type": "display_data"
        },
        {
          "data": {
            "application/vnd.jupyter.widget-view+json": {
              "model_id": "7c82b8ab034a4848b519567855c6fb1e",
              "version_major": 2,
              "version_minor": 0
            },
            "text/plain": [
              "Running Epoch 3 of 5:   0%|          | 0/2621 [00:00<?, ?it/s]"
            ]
          },
          "metadata": {},
          "output_type": "display_data"
        },
        {
          "data": {
            "application/vnd.jupyter.widget-view+json": {
              "model_id": "cc147ff3feeb4a84b6ee75896a720021",
              "version_major": 2,
              "version_minor": 0
            },
            "text/plain": [
              "Running Epoch 4 of 5:   0%|          | 0/2621 [00:00<?, ?it/s]"
            ]
          },
          "metadata": {},
          "output_type": "display_data"
        },
        {
          "data": {
            "application/vnd.jupyter.widget-view+json": {
              "model_id": "377f9c668495424f8b2b7002f714580e",
              "version_major": 2,
              "version_minor": 0
            },
            "text/plain": [
              "Running Epoch 5 of 5:   0%|          | 0/2621 [00:00<?, ?it/s]"
            ]
          },
          "metadata": {},
          "output_type": "display_data"
        },
        {
          "data": {
            "application/vnd.jupyter.widget-view+json": {
              "model_id": "cf7e477dfae84f00bf4dfd3afdfef73e",
              "version_major": 2,
              "version_minor": 0
            },
            "text/plain": [
              "  0%|          | 0/13 [00:00<?, ?it/s]"
            ]
          },
          "metadata": {},
          "output_type": "display_data"
        },
        {
          "data": {
            "application/vnd.jupyter.widget-view+json": {
              "model_id": "574ec287f5b4495b89e7dbdf3942f18f",
              "version_major": 2,
              "version_minor": 0
            },
            "text/plain": [
              "  0%|          | 0/70 [00:00<?, ?it/s]"
            ]
          },
          "metadata": {},
          "output_type": "display_data"
        },
        {
          "name": "stderr",
          "output_type": "stream",
          "text": [
            "/usr/local/lib/python3.11/dist-packages/simpletransformers/classification/classification_model.py:2188: FutureWarning: `torch.cuda.amp.autocast(args...)` is deprecated. Please use `torch.amp.autocast('cuda', args...)` instead.\n",
            "  with amp.autocast():\n"
          ]
        },
        {
          "name": "stdout",
          "output_type": "stream",
          "text": [
            "['DET', 'G', 'PREP', 'SVA']\n",
            "precision_recall_f1-score\n",
            "['DET', 'G', 'PREP', 'SVA']\n",
            "              precision    recall f0.5-score   support\n",
            "\n",
            "         DET      0.995     1.000     0.996      1508\n",
            "           G      0.943     0.812     0.913      3494\n",
            "        PREP      0.563     0.876     0.607       879\n",
            "         SVA      0.948     0.939     0.946      1107\n",
            "\n",
            "    accuracy                          0.881      6988\n",
            "   macro avg      0.862     0.907     0.866      6988\n",
            "weighted avg      0.907     0.881     0.898      6988\n",
            "\n",
            "Confusion matrix\n",
            "['DET', 'G', 'PREP', 'SVA']\n",
            "[[1508    0    0    0]\n",
            " [   7 2836  597   54]\n",
            " [   0  106  770    3]\n",
            " [   0   67    0 1040]]\n"
          ]
        },
        {
          "data": {
            "image/png": "[encoded data removed]",
            "text/plain": [
              "<Figure size 640x480 with 2 Axes>"
            ]
          },
          "metadata": {},
          "output_type": "display_data"
        }
      ],
      "source": [
        "model_path_e5 = \"/content/drive/MyDrive/VU Thesis/Code/baby_models/V20L4/model_e5_v20_l4\"\n",
        "model_name_e5 = \"v20_l4_e5\"\n",
        "seed_val = 58\n",
        "model_e5 = fine_tune_model(model_path_e5, train_df, save_path, f\"{model_name_e5}_s{seed_val}\", seed_val)\n",
        "\n",
        "# seed 58\n",
        "model_e5_path = f'/content/drive/MyDrive/VU Thesis/Code/fine_tune/models/seed_fine_tuned_{model_name_e5}_s{seed_val}_model'\n",
        "\n",
        "preds_e5 = predict_model(model_e5_path, test_data)\n",
        "\n",
        "target_names = ['DET', 'G', 'PREP','SVA']\n",
        "report_e5, cf_matrix_e5 = fine_tune_eval(gold_labels, preds_e5, target_names)"
      ]
    },
    {
      "cell_type": "code",
      "execution_count": null,
      "metadata": {
        "colab": {
          "base_uri": "https://localhost:8080/",
          "height": 1000,
          "referenced_widgets": [
            "69ea1d0dafc7408089d63aa0ba124bea",
            "916c5733b5ec4b56955612e76ab20a95",
            "2a96f7854d1a4fdfa7129f1aa259d3ad",
            "55179a8554f04ad7b90812b8274eef3c",
            "4a88edee3dab46f4a0ac8fd00cf83338",
            "fd40d812f73f4af2b396fe4ff297b3ca",
            "7639c2cdf8784a4d8812a24a046a4ac1",
            "460e3a6cc04e4b1b94683bf239ea4392",
            "2a67c88d6c1242f7b73bdf7a7589d918",
            "51975d9d6a9749859af06dfb0fff644c",
            "dd84a89b28394ae29271352c7c5fe68c",
            "74be3fc22eba4ac4b0e61224a011978c",
            "f731bfbe5f3b422f9236414312ca9041",
            "381970887125406d891089f2ab72243c",
            "4d354e1d7b754648a46a2b09028ec6cc",
            "e8e1b4e5f8aa42f69ee3f6cf23830f0b",
            "dc557bf4dbd34cb692b560ad2c96e37c",
            "38b06af9f62344bbae4711ff938e7e8a",
            "2b7097d5d9334c9db2215cb1f1bbc164",
            "9f2b45db5a98481787a42f341a49b39d",
            "4316a88242494a1a85f3b739effe5a0b",
            "b9a16743da67434b95cd346ddeec41bb",
            "3959af18b624488e80ad0aec1893861e",
            "ab27d68dc439487d984a8a629dca1d24",
            "42c70a0e066749488711e174e074e40d",
            "39ffd46272354b1eb24d322908e2f1c9",
            "f8dff47e37c143ce9fee3c345e521055",
            "1ce5bac04de74e76803d2759e05cf24b",
            "388cfda0ad6b4e1b89d3a494be41a78b",
            "9cf08b4aec0b4ee39672678e37aa3740",
            "609995a6856c4ed7864f654e7ac43c21",
            "1a1b4ce010664f06b339ed345c9c7bff",
            "99179a0ebc804042812a8ffaa23c3f5a",
            "fdcec1e9cbd347cd8b49c021ddc81821",
            "2bdfb29ceb444c7e84d56369d51b10c7",
            "0df783d84daa4fb0a6982b7dfde746b7",
            "81811ef4ae164a91a858e426e86cdf0a",
            "f8f40a7fec0a4e7bb881db6e7d179f15",
            "40f5dfa098c34f038fb368e9c9046407",
            "aa2ad77205f9421aa8ebb792e33e89c2",
            "374df70c51904a008da6c2c491f5369d",
            "82724af9901e46cb803c45e41f79d0e7",
            "e6ed76c029434cb5b59007531f3281f3",
            "ec717e6efc8a4217aad6fac2239c3d09",
            "f3741103a4e443668695ae456e9e94b9",
            "f43c03884c004d08b89cbea789fd5305",
            "168ce34422c847bfb46f50da8533bdd0",
            "c2df97884b7448719c06a5b2fbb33fe9",
            "a94db0f6e19f461da5d6d892044be175",
            "e256075d1a0d403696b37f59116c542e",
            "74ec1cd56dce47e6aee82876882af168",
            "a13dc0820c154c2a99b52d18ce71dd30",
            "2b9816bc446e41d089e3633ef064a1dd",
            "826a5657e7664cbda3af0be847e39a3b",
            "15562b35dcf74504bd9cb25eba9b102c",
            "cddbf28374654864a5d3fd5837f27521",
            "4929d02370a54d309563d52efc5941d2",
            "196cdca848b74692a0923c9254672a1c",
            "270dd41a92644148a82edf60f52209bd",
            "e9100fb2619645f3a66c8c9363c05454",
            "35484700221c4ab4b86afc9b7d6cf80d",
            "115922d259204aaab163c25ead3926da",
            "bdce67db24984568a1333c2ee43ed32b",
            "fb40f240644546989c44d73ed14363a4",
            "11a4387ff90747b5a77bf2c485bd704a",
            "5e839fe6753e4991884dcbb3f850e62d",
            "9d08ab0719774315beaadb24c322c7cf",
            "c9f29f3a682946d79049cd60447abbba",
            "63acb7df5ce54c32b3d5efba19c0f66e",
            "19c28ddda57e48e68b3929ee478f3f04",
            "72eabf1efd794910b40c2ab9e2f88760",
            "6fc27a70703548e185ed2b2ef51d684f",
            "0d38f607d0ea4a1cbee89392a43df43d",
            "a378864da00f4a619499b6cf5fdabb9f",
            "f2227a9e7fff40b985ab7843e017e59b",
            "5d8027b0975f499898778277c78c59c7",
            "51873d21644a491db82a91e5c060c3b3",
            "78c0d36b990a4db68da5b994fae2c2ad",
            "909a5b4d7c8b4782a289c0c4aaf2afed",
            "b4d3b55113db43f193909f945c66b49b",
            "632a684ac28a4199a0cafd3a7c9f43d4",
            "50dd6f7b7cc4433da9b0c955db2c7e4b",
            "b283d9a578f847a6871bcc7601762d8e",
            "ca0dadcfa1bd4b97a6d0a370ffdc11d6",
            "ae2ea3083f04412fb77c97b12859accb",
            "291d31d473a7453d8f4f2a5f0e691aea",
            "122f22c448704b4a9c6e068764cedc4e",
            "4f14da91e8464040bdf3285996e83a88",
            "c2848d75ac264bc9847eaf4b9c56d5ef",
            "b1670e4755bf4111b38369a9dfd194ae",
            "660eaafcb0c84d7c839b817bfbf9d685",
            "01dc5647206f48b9a5c0d86c9287d394",
            "60d6228ef49b4161a9fb6a5dd6639fb5",
            "63839ef479b340ff82ddd25f89f527fd",
            "2f5274c4a6054827adc0c85ef2d24463",
            "1b1a464b76bb46a991479b733df0b4a8",
            "f243d52bd0394f4980e9493cb6b809b5",
            "c855c0111e0b41db95499e8199e01470",
            "2761d0be978c456dbacc35c3940e413e"
          ]
        },
        "collapsed": true,
        "id": "vb_jUMATpJZH",
        "outputId": "fd5a3ee9-f4a8-4f93-8e4f-1022db69e2d3"
      },
      "outputs": [
        {
          "name": "stderr",
          "output_type": "stream",
          "text": [
            "Some weights of RobertaForSequenceClassification were not initialized from the model checkpoint at /content/drive/MyDrive/VU Thesis/Code/baby_models/V20L4/model_e5_v20_l4 and are newly initialized: ['classifier.dense.bias', 'classifier.dense.weight', 'classifier.out_proj.bias', 'classifier.out_proj.weight']\n",
            "You should probably TRAIN this model on a down-stream task to be able to use it for predictions and inference.\n"
          ]
        },
        {
          "data": {
            "application/vnd.jupyter.widget-view+json": {
              "model_id": "69ea1d0dafc7408089d63aa0ba124bea",
              "version_major": 2,
              "version_minor": 0
            },
            "text/plain": [
              "  0%|          | 0/41 [00:00<?, ?it/s]"
            ]
          },
          "metadata": {},
          "output_type": "display_data"
        },
        {
          "data": {
            "application/vnd.jupyter.widget-view+json": {
              "model_id": "74be3fc22eba4ac4b0e61224a011978c",
              "version_major": 2,
              "version_minor": 0
            },
            "text/plain": [
              "Epoch:   0%|          | 0/5 [00:00<?, ?it/s]"
            ]
          },
          "metadata": {},
          "output_type": "display_data"
        },
        {
          "name": "stderr",
          "output_type": "stream",
          "text": [
            "/usr/local/lib/python3.11/dist-packages/simpletransformers/classification/classification_model.py:882: FutureWarning: `torch.cuda.amp.GradScaler(args...)` is deprecated. Please use `torch.amp.GradScaler('cuda', args...)` instead.\n",
            "  scaler = amp.GradScaler()\n"
          ]
        },
        {
          "data": {
            "application/vnd.jupyter.widget-view+json": {
              "model_id": "3959af18b624488e80ad0aec1893861e",
              "version_major": 2,
              "version_minor": 0
            },
            "text/plain": [
              "Running Epoch 1 of 5:   0%|          | 0/2621 [00:00<?, ?it/s]"
            ]
          },
          "metadata": {},
          "output_type": "display_data"
        },
        {
          "name": "stderr",
          "output_type": "stream",
          "text": [
            "/usr/local/lib/python3.11/dist-packages/simpletransformers/classification/classification_model.py:905: FutureWarning: `torch.cuda.amp.autocast(args...)` is deprecated. Please use `torch.amp.autocast('cuda', args...)` instead.\n",
            "  with amp.autocast():\n"
          ]
        },
        {
          "data": {
            "application/vnd.jupyter.widget-view+json": {
              "model_id": "fdcec1e9cbd347cd8b49c021ddc81821",
              "version_major": 2,
              "version_minor": 0
            },
            "text/plain": [
              "Running Epoch 2 of 5:   0%|          | 0/2621 [00:00<?, ?it/s]"
            ]
          },
          "metadata": {},
          "output_type": "display_data"
        },
        {
          "data": {
            "application/vnd.jupyter.widget-view+json": {
              "model_id": "f3741103a4e443668695ae456e9e94b9",
              "version_major": 2,
              "version_minor": 0
            },
            "text/plain": [
              "Running Epoch 3 of 5:   0%|          | 0/2621 [00:00<?, ?it/s]"
            ]
          },
          "metadata": {},
          "output_type": "display_data"
        },
        {
          "data": {
            "application/vnd.jupyter.widget-view+json": {
              "model_id": "cddbf28374654864a5d3fd5837f27521",
              "version_major": 2,
              "version_minor": 0
            },
            "text/plain": [
              "Running Epoch 4 of 5:   0%|          | 0/2621 [00:00<?, ?it/s]"
            ]
          },
          "metadata": {},
          "output_type": "display_data"
        },
        {
          "data": {
            "application/vnd.jupyter.widget-view+json": {
              "model_id": "9d08ab0719774315beaadb24c322c7cf",
              "version_major": 2,
              "version_minor": 0
            },
            "text/plain": [
              "Running Epoch 5 of 5:   0%|          | 0/2621 [00:00<?, ?it/s]"
            ]
          },
          "metadata": {},
          "output_type": "display_data"
        },
        {
          "data": {
            "application/vnd.jupyter.widget-view+json": {
              "model_id": "78c0d36b990a4db68da5b994fae2c2ad",
              "version_major": 2,
              "version_minor": 0
            },
            "text/plain": [
              "  0%|          | 0/13 [00:00<?, ?it/s]"
            ]
          },
          "metadata": {},
          "output_type": "display_data"
        },
        {
          "data": {
            "application/vnd.jupyter.widget-view+json": {
              "model_id": "c2848d75ac264bc9847eaf4b9c56d5ef",
              "version_major": 2,
              "version_minor": 0
            },
            "text/plain": [
              "  0%|          | 0/70 [00:00<?, ?it/s]"
            ]
          },
          "metadata": {},
          "output_type": "display_data"
        },
        {
          "name": "stderr",
          "output_type": "stream",
          "text": [
            "/usr/local/lib/python3.11/dist-packages/simpletransformers/classification/classification_model.py:2188: FutureWarning: `torch.cuda.amp.autocast(args...)` is deprecated. Please use `torch.amp.autocast('cuda', args...)` instead.\n",
            "  with amp.autocast():\n"
          ]
        },
        {
          "name": "stdout",
          "output_type": "stream",
          "text": [
            "['DET', 'G', 'PREP', 'SVA']\n",
            "precision_recall_f1-score\n",
            "['DET', 'G', 'PREP', 'SVA']\n",
            "              precision    recall f0.5-score   support\n",
            "\n",
            "         DET      0.995     1.000     0.996      1508\n",
            "           G      0.930     0.812     0.904      3494\n",
            "        PREP      0.554     0.818     0.592       879\n",
            "         SVA      0.937     0.951     0.940      1107\n",
            "\n",
            "    accuracy                          0.876      6988\n",
            "   macro avg      0.854     0.895     0.858      6988\n",
            "weighted avg      0.898     0.876     0.890      6988\n",
            "\n",
            "Confusion matrix\n",
            "['DET', 'G', 'PREP', 'SVA']\n",
            "[[1508    0    0    0]\n",
            " [   7 2838  579   70]\n",
            " [   0  159  719    1]\n",
            " [   0   54    0 1053]]\n"
          ]
        },
        {
          "data": {
            "image/png": "[encoded data removed]",
            "text/plain": [
              "<Figure size 640x480 with 2 Axes>"
            ]
          },
          "metadata": {},
          "output_type": "display_data"
        }
      ],
      "source": [
        "model_path_e5 = \"/content/drive/MyDrive/VU Thesis/Code/baby_models/V20L4/model_e5_v20_l4\"\n",
        "model_name_e5 = \"v20_l4_e5\"\n",
        "seed_val = 150\n",
        "model_e5 = fine_tune_model(model_path_e5, train_df, save_path, f\"{model_name_e5}_s{seed_val}\", seed_val)\n",
        "\n",
        "# seed 150\n",
        "model_e5_path = f'/content/drive/MyDrive/VU Thesis/Code/fine_tune/models/seed_fine_tuned_{model_name_e5}_s{seed_val}_model'\n",
        "\n",
        "preds_e5 = predict_model(model_e5_path, test_data)\n",
        "\n",
        "target_names = ['DET', 'G', 'PREP','SVA']\n",
        "report_e5, cf_matrix_e5 = fine_tune_eval(gold_labels, preds_e5, target_names)"
      ]
    },
    {
      "cell_type": "code",
      "execution_count": null,
      "metadata": {
        "colab": {
          "base_uri": "https://localhost:8080/",
          "height": 1000,
          "referenced_widgets": [
            "b2cf5d3528a1479980360692d2bc1d41",
            "79bb2705b2fa41608306557565ec25b6",
            "e7d4f41698ce4a7eab2d303d28fa3311",
            "46eb5126a88448d78ce0bbae025bc749",
            "82b10909ef5641399a3f1d13614721c6",
            "eda6c631ce8a4fa8bcac771f520d5a8a",
            "d961d3264f23424c9cf5b8152426ac32",
            "48e6e871443d418780d3f0e19e9635eb",
            "2f48361742504edeacf20b7b65478e4e",
            "e8a2ec58fde844ca83dde70d1c15d73f",
            "e4466a8cc069443aa2bc05ff7b1cf11d",
            "c61db63df06e41d39fbeaf24f3b0d410",
            "4398b08a01e748078c9694495abeedbc",
            "c5ab1d8ca43549ff91b0d32d73ccb615",
            "9bf878b744c74e2bbc040d6a39f36a02",
            "84839021598f4aa0931dc298fcdda4bd",
            "64089d27dab742e78ae8161ff329b2be",
            "4576de8a8e9942bc9afc457c40fe546f",
            "bb95d82cf2054e2786947bb4f1037218",
            "b26b4bd03f204f83ba55ecd92ebfe424",
            "47cfc6197bd84930a3cd5d3a4da7deaa",
            "4d996a16b6a74eb1932f2fbafe60c523",
            "a31548e87ad84cf48cb8ec0b4df6604e",
            "59c9872103ee40da94f67e6da70cb697",
            "53ebc861aaad45c08c0e6980190ceb92",
            "055c2f44ea0b445387cf819d243b2122",
            "7e4ff85cf5ad49c393ae0d07c07a5ae5",
            "8cdccb892e924a45a58fb2490d23446c",
            "4147eebc3b0f4793b0f31b08a984272c",
            "81ddb2250d614f36b8b08312917fab1e",
            "5a6b4b2cf4564845b6f88cadb54161b6",
            "89671f304cf9447188c612d5ed5b0d63",
            "cfd3730151054821b31605178d2d1d20",
            "ed96dfd19dbc4d6782a6322a39deb514",
            "6468049b484c42ec99d097c6fc1a6607",
            "0cc7c11f9e154d2984af9d906c406a06",
            "32e90f1a22f24411a48cf5dddb9dbc9e",
            "d368cf7fba76447f8038da5364968447",
            "c3b65532c61c4a709686672bf73e4fc2",
            "c0a194c9db734f7c98b5658af3418ebe",
            "002a14593ec94daf9556a0e40391ded3",
            "eec1c4372c2a41dd9da530f6954188eb",
            "c484a20675e04082a00c769f9dbd5690",
            "6d215792ed374744a08851df66b8a412",
            "af68ababfd6e484aaaf5fcea2e6fd658",
            "fc36ec244d224d988ed03a6711cf8bbe",
            "f989300e4046464ab127922abf0d3f43",
            "edc55d44cc5a4442bcc20c8c6dc39ae1",
            "3de83f6aaa2243d9a042cbf77be7e02c",
            "53521297f9094a4cb7cd5fe8b4d34b83",
            "2e248ebae7a04cbca3d9b498601ca2d2",
            "74a86e8ee8de4f359b578426c3a856bf",
            "33dee3781d754f8a995000f063cc20a8",
            "b8c21a9741214ae0b885ea9b2cf63c69",
            "39c1ea45b8104537b815ffec606d6193",
            "3554a9d476594c538ff813127ff5f261",
            "9d8c737652364b0085033be0c1f3f896",
            "711a2f3d909a4e3e81a4ce13f323fc5c",
            "cd490d79035143e78624d145d7f851a7",
            "4943764c54ad44ba966183d7c89e19b4",
            "c067b760496a4063a730733c89681248",
            "4918c572060c4b89b15f32eea33bf101",
            "421036cc5c07441ba883b8ef9c7c15ef",
            "520ff2767e5b4dc0b6e72dc068ee96c8",
            "f1a3a687e3a64e88a0c103c3c2641362",
            "f0bf68230f56415e91e2af2f66373a56",
            "ae887637394e4cc19e1da0860a3da20d",
            "dff0649618ce45a387f0f6dbc9a596b7",
            "5629fc39c6d04f2fbfca2b66d899b129",
            "e601aa58ed894595a97b830387ab2f2e",
            "e5423aad9e904c9eb06736386e1ced19",
            "1139794493274595a54d015955311554",
            "60c425261ed844a598f9a9a4e437be00",
            "9ca7c1daa8464b268f8bf4184d12f05e",
            "fc7545cea0c1449ab07ae4626c888bc5",
            "ced5bff5ce55416cb2a8b7572c46d84d",
            "c1bf8d8b3c0e4f72a184b333ed0e1fb5",
            "17f3f924352749e4aba91551bb07a826",
            "b48fe7d9d6824c58a3651032b3a8f059",
            "f74599c2e16342fdb37193b4fb8e0c80",
            "ded6ddc8d5cc4e27a596356d7f516edc",
            "6023220c8b654c9d8ec561bdb9af4416",
            "b00895a997304b67b0c7fcadca7fbe27",
            "c66ae469cb734bc9807771f27050ad45",
            "9f09ec689557498781e4a90c488d2f98",
            "0535ab14fcc04cd5b6baac42022ea4f6",
            "5705d3f3473e4187bf85822b36c49664",
            "9256d396553240068e7b514421f43b73",
            "8eb9a908f49f4835894c47d155fba0e7",
            "285a60e9039e46afbe5badb9e7cb66fa",
            "437a57b133fb4f5cb137586b1bfb0f7b",
            "3ebd62e243844ab5a843c9569b3c6598",
            "7024e913588945f5afc9162cfee8773a",
            "dfbf7c8fee404e819bd661b83bb7d6e4",
            "f6e5786017664018a3ceba06f4f7e1f1",
            "3de44e13d8ee4e368f7a37f2a697b9b2",
            "9ee7a1b7a30446a4ad9688b908c7604a",
            "aba03a86979a4336b5ee089c6d0963f0",
            "dfe7278c972945eb833069abb8d9bc11"
          ]
        },
        "collapsed": true,
        "id": "Dkg6LafCdZSX",
        "outputId": "3860e421-7d81-4320-a892-03d0fa841e8a"
      },
      "outputs": [
        {
          "name": "stderr",
          "output_type": "stream",
          "text": [
            "Some weights of RobertaForSequenceClassification were not initialized from the model checkpoint at /content/drive/MyDrive/VU Thesis/Code/baby_models/V20L4/model_e5_v20_l4 and are newly initialized: ['classifier.dense.bias', 'classifier.dense.weight', 'classifier.out_proj.bias', 'classifier.out_proj.weight']\n",
            "You should probably TRAIN this model on a down-stream task to be able to use it for predictions and inference.\n"
          ]
        },
        {
          "data": {
            "application/vnd.jupyter.widget-view+json": {
              "model_id": "b2cf5d3528a1479980360692d2bc1d41",
              "version_major": 2,
              "version_minor": 0
            },
            "text/plain": [
              "  0%|          | 0/41 [00:00<?, ?it/s]"
            ]
          },
          "metadata": {},
          "output_type": "display_data"
        },
        {
          "data": {
            "application/vnd.jupyter.widget-view+json": {
              "model_id": "c61db63df06e41d39fbeaf24f3b0d410",
              "version_major": 2,
              "version_minor": 0
            },
            "text/plain": [
              "Epoch:   0%|          | 0/5 [00:00<?, ?it/s]"
            ]
          },
          "metadata": {},
          "output_type": "display_data"
        },
        {
          "name": "stderr",
          "output_type": "stream",
          "text": [
            "/usr/local/lib/python3.11/dist-packages/simpletransformers/classification/classification_model.py:882: FutureWarning: `torch.cuda.amp.GradScaler(args...)` is deprecated. Please use `torch.amp.GradScaler('cuda', args...)` instead.\n",
            "  scaler = amp.GradScaler()\n"
          ]
        },
        {
          "data": {
            "application/vnd.jupyter.widget-view+json": {
              "model_id": "a31548e87ad84cf48cb8ec0b4df6604e",
              "version_major": 2,
              "version_minor": 0
            },
            "text/plain": [
              "Running Epoch 1 of 5:   0%|          | 0/2621 [00:00<?, ?it/s]"
            ]
          },
          "metadata": {},
          "output_type": "display_data"
        },
        {
          "name": "stderr",
          "output_type": "stream",
          "text": [
            "/usr/local/lib/python3.11/dist-packages/simpletransformers/classification/classification_model.py:905: FutureWarning: `torch.cuda.amp.autocast(args...)` is deprecated. Please use `torch.amp.autocast('cuda', args...)` instead.\n",
            "  with amp.autocast():\n"
          ]
        },
        {
          "data": {
            "application/vnd.jupyter.widget-view+json": {
              "model_id": "ed96dfd19dbc4d6782a6322a39deb514",
              "version_major": 2,
              "version_minor": 0
            },
            "text/plain": [
              "Running Epoch 2 of 5:   0%|          | 0/2621 [00:00<?, ?it/s]"
            ]
          },
          "metadata": {},
          "output_type": "display_data"
        },
        {
          "data": {
            "application/vnd.jupyter.widget-view+json": {
              "model_id": "af68ababfd6e484aaaf5fcea2e6fd658",
              "version_major": 2,
              "version_minor": 0
            },
            "text/plain": [
              "Running Epoch 3 of 5:   0%|          | 0/2621 [00:00<?, ?it/s]"
            ]
          },
          "metadata": {},
          "output_type": "display_data"
        },
        {
          "data": {
            "application/vnd.jupyter.widget-view+json": {
              "model_id": "3554a9d476594c538ff813127ff5f261",
              "version_major": 2,
              "version_minor": 0
            },
            "text/plain": [
              "Running Epoch 4 of 5:   0%|          | 0/2621 [00:00<?, ?it/s]"
            ]
          },
          "metadata": {},
          "output_type": "display_data"
        },
        {
          "data": {
            "application/vnd.jupyter.widget-view+json": {
              "model_id": "ae887637394e4cc19e1da0860a3da20d",
              "version_major": 2,
              "version_minor": 0
            },
            "text/plain": [
              "Running Epoch 5 of 5:   0%|          | 0/2621 [00:00<?, ?it/s]"
            ]
          },
          "metadata": {},
          "output_type": "display_data"
        },
        {
          "data": {
            "application/vnd.jupyter.widget-view+json": {
              "model_id": "17f3f924352749e4aba91551bb07a826",
              "version_major": 2,
              "version_minor": 0
            },
            "text/plain": [
              "  0%|          | 0/13 [00:00<?, ?it/s]"
            ]
          },
          "metadata": {},
          "output_type": "display_data"
        },
        {
          "data": {
            "application/vnd.jupyter.widget-view+json": {
              "model_id": "8eb9a908f49f4835894c47d155fba0e7",
              "version_major": 2,
              "version_minor": 0
            },
            "text/plain": [
              "  0%|          | 0/70 [00:00<?, ?it/s]"
            ]
          },
          "metadata": {},
          "output_type": "display_data"
        },
        {
          "name": "stderr",
          "output_type": "stream",
          "text": [
            "/usr/local/lib/python3.11/dist-packages/simpletransformers/classification/classification_model.py:2188: FutureWarning: `torch.cuda.amp.autocast(args...)` is deprecated. Please use `torch.amp.autocast('cuda', args...)` instead.\n",
            "  with amp.autocast():\n"
          ]
        },
        {
          "name": "stdout",
          "output_type": "stream",
          "text": [
            "['DET', 'G', 'PREP', 'SVA']\n",
            "precision_recall_f1-score\n",
            "['DET', 'G', 'PREP', 'SVA']\n",
            "              precision    recall f0.5-score   support\n",
            "\n",
            "         DET      0.993     1.000     0.994      1508\n",
            "           G      0.924     0.821     0.902      3494\n",
            "        PREP      0.556     0.811     0.593       879\n",
            "         SVA      0.959     0.937     0.955      1107\n",
            "\n",
            "    accuracy                          0.877      6988\n",
            "   macro avg      0.858     0.892     0.861      6988\n",
            "weighted avg      0.898     0.877     0.891      6988\n",
            "\n",
            "Confusion matrix\n",
            "['DET', 'G', 'PREP', 'SVA']\n",
            "[[1508    0    0    0]\n",
            " [  11 2870  570   43]\n",
            " [   0  165  713    1]\n",
            " [   0   70    0 1037]]\n"
          ]
        },
        {
          "data": {
            "image/png": "[encoded data removed]",
            "text/plain": [
              "<Figure size 640x480 with 2 Axes>"
            ]
          },
          "metadata": {},
          "output_type": "display_data"
        }
      ],
      "source": [
        "model_path_e5 = \"/content/drive/MyDrive/VU Thesis/Code/baby_models/V20L4/model_e5_v20_l4\"\n",
        "model_name_e5 = \"v20_l4_e5\"\n",
        "seed_val = 342\n",
        "model_e5 = fine_tune_model(model_path_e5, train_df, save_path, f\"{model_name_e5}_s{seed_val}\", seed_val)\n",
        "\n",
        "# seed 342\n",
        "model_e5_path = f'/content/drive/MyDrive/VU Thesis/Code/fine_tune/models/seed_fine_tuned_{model_name_e5}_s{seed_val}_model'\n",
        "\n",
        "preds_e5 = predict_model(model_e5_path, test_data)\n",
        "\n",
        "target_names = ['DET', 'G', 'PREP','SVA']\n",
        "report_e5, cf_matrix_e5 = fine_tune_eval(gold_labels, preds_e5, target_names)"
      ]
    },
    {
      "cell_type": "code",
      "execution_count": null,
      "metadata": {
        "colab": {
          "base_uri": "https://localhost:8080/",
          "height": 1000,
          "referenced_widgets": [
            "ceb5c6e539cb4c39aaa96ff5cc0bc322",
            "bb2a463e31cb4188816203a66a6f7d7a",
            "f19a520b1e754425b9ec9513df05fc4b",
            "ef4991c95850447b9acf44f69fd566d1",
            "ab806115805741529c132adf6ba7a096",
            "1c7e2a8a60444cb691cb058c9400577c",
            "7514052d33a0404f8ea3fb8d1621ebff",
            "ad173560150a48b2bdc7693e87f9f156",
            "c4c4b8391bb4462e87c92b2f60a388d0",
            "546509d09ff149de9330a7fb70fce81a",
            "d58b375169a140a781c36755b247b176",
            "e163ed8236004b97a48070f7efb4d5c8",
            "6f16ed6b091041d9917dc06b825ba762",
            "e8aa75290a724369a80e20f75890f31d",
            "68caae07954049a18a9f5463f3968d15",
            "e98f444eca1d4cb7a0f98eae89d31461",
            "96b2e7659d30473f92fd35711589c263",
            "553b28a4db384ab9a522219914fe8b1e",
            "c94bc1800afd4f72a7d27f53757ee07e",
            "1b4c93d1641243c19e5eff8f16701a73",
            "23c1f80198a94c11b05a32247e454731",
            "1597cc63654344beb0b3bef2cae46957",
            "ec6c6526c7fd41f9be85348a7f31f635",
            "c8dd0ecdccbe4c3aaed5db8d194807d4",
            "ada8ea785f7b48f990f5dfd81d289548",
            "dfeafc458e0d40d5a668a7b1cb02c652",
            "4ea435b5a44d4968b618fd752eabedc9",
            "b05db691056448209e339aa903cd363d",
            "0032297513e2458e9c7223417a8b7c19",
            "a8e6ea589dfa417b97b2d70dfeda44f8",
            "e6b32e9076e94b8e845dcef948dd2bcf",
            "4238ce03ba04459187a2b49949584b60",
            "8a87ddf577ad4ce79d3198f3fb91027c",
            "e1d56589f8694563a89eac286fcdf186",
            "2e4db924807b44d088aaafeff6475125",
            "63e846cd37ea4fa6bd1ef756a71af2d5",
            "35b8143c62f148e6a6c961d27e80d359",
            "63db0ba73dd3461d9c8849407dfeb20a",
            "4a7a7faaddc24d998065fdc8599bcee8",
            "306b86ab95864234aee0695c4235ab53",
            "b084b3e1af2f4a27add70a04d848836d",
            "7c5751ff026a4fb39fd129df6a5b004e",
            "91833211a3054d22a29357aa371c0542",
            "4f7c342f87c24ef5aa4ba5bded224301",
            "f70fb43473944c24b7a3307411adf6fe",
            "33a38a5be60448bdbf0a68234c88db06",
            "5ec5890227df4eafab6a713444283901",
            "84815d9c323d491ba448e57d3adcdfb0",
            "9de6dd37d05f4d88a9e0cb00b16fe401",
            "37f63af7be604578ae3c13b97172cfef",
            "e32033b326b1429294386eaa6ecc4ae0",
            "2a7c066638eb48e695627f3eae0cd698",
            "8e99dea64ce645528dc7ef390cfb43e0",
            "062911f63778407387d619d0ac1fbaf2",
            "11a4b43aab77430f874fb1305aa21f56",
            "19c324927a83490f85a89f2067a5ab8b",
            "e55e44fe9dd04ea69c3fd466e69d8128",
            "e0f964b8343e416a91059e74d8fa0b1c",
            "b4b0439a0b624153a2626a4acc245abf",
            "26711addb20046e1be094ea2a9947a64",
            "a3f4df46466249c3852f20bb8a506367",
            "d2c9e038192a45e4b72f20ff3c023f7a",
            "ee528404562748c79bce00c87e060676",
            "9f72090b31ff49179bf37b292be09617",
            "04e3bbfe33a3446e832db0227155c83c",
            "3f1aacd4b93249f0bb4c4cc403a572a3",
            "069f14f997ff4415b95a89fa7903aee5",
            "7d606de679a647a3b84981679605538e",
            "057145c8698a4eb6b0b859fab4e99d73",
            "8e179d3a9f8342c6993396858c244713",
            "9191c51be4544374909f0d5c99479da0",
            "9058dd557932440b8919acb3f1c1a806",
            "f1d64108a87f41b884da7640f44791de",
            "640ae40d7b24454c94306947ec29bfdf",
            "3136a1fbee2c4a5490d5579e4b91480c",
            "c2632be5a4534037bd05410ce3681ed5",
            "9ffd698b99c84269a2e4277afbf153c9",
            "4331406e9b6c4bf29b255ee753fca89a",
            "111a30b44ed242e18012f8f5846c9028",
            "6731da4f361e4ddcb8477377a98969fa",
            "4a3d7bd389704d84be0c5643f0e2e2b4",
            "5561dcc6fba8460dbd61555e6230fd50",
            "efd305bb501f44389851dbe3a672341b",
            "ad6e24850c6840e99f93d58fb56f3d34",
            "8664cb29957e4ab38542f53c4658b1a2",
            "40410ca7835446199e4b12df18ac4b7a",
            "6dc10795eaa64bdbb293ac95a2c11476",
            "0cf863a4ead74e0abc1d1058ae9f8061",
            "f4efa4c6d466462cbf6d6c57073dce3d",
            "f8d5994b27434dcb818fd6b54ea88982",
            "2b4636cad0b64b919067bc99b0f06c77",
            "f9e3b53fd97b41ad8e9248bdee5ca287",
            "8ea6dd3f921f4de5b1b0c2b41b58fb96",
            "0c82e71510c44d53b522d5f2415e6269",
            "5b3578ccba24477887cc65fd93c0ce2e",
            "c3d09cbc8e104342b83688af8791b044",
            "b5f25345d78c4330bfe9b41b6e138934",
            "781fe79a478a4f52968f7ec700ae75a2",
            "a5d742bf90b54563bb873d7c92acd5b8"
          ]
        },
        "collapsed": true,
        "id": "YoAvIbvqdZHc",
        "outputId": "7e242fe9-d8cc-4cde-c032-4c54d8c4f9ae"
      },
      "outputs": [
        {
          "name": "stderr",
          "output_type": "stream",
          "text": [
            "Some weights of RobertaForSequenceClassification were not initialized from the model checkpoint at /content/drive/MyDrive/VU Thesis/Code/baby_models/V20L4/model_e5_v20_l4 and are newly initialized: ['classifier.dense.bias', 'classifier.dense.weight', 'classifier.out_proj.bias', 'classifier.out_proj.weight']\n",
            "You should probably TRAIN this model on a down-stream task to be able to use it for predictions and inference.\n"
          ]
        },
        {
          "data": {
            "application/vnd.jupyter.widget-view+json": {
              "model_id": "ceb5c6e539cb4c39aaa96ff5cc0bc322",
              "version_major": 2,
              "version_minor": 0
            },
            "text/plain": [
              "  0%|          | 0/41 [00:00<?, ?it/s]"
            ]
          },
          "metadata": {},
          "output_type": "display_data"
        },
        {
          "data": {
            "application/vnd.jupyter.widget-view+json": {
              "model_id": "e163ed8236004b97a48070f7efb4d5c8",
              "version_major": 2,
              "version_minor": 0
            },
            "text/plain": [
              "Epoch:   0%|          | 0/5 [00:00<?, ?it/s]"
            ]
          },
          "metadata": {},
          "output_type": "display_data"
        },
        {
          "name": "stderr",
          "output_type": "stream",
          "text": [
            "/usr/local/lib/python3.11/dist-packages/simpletransformers/classification/classification_model.py:882: FutureWarning: `torch.cuda.amp.GradScaler(args...)` is deprecated. Please use `torch.amp.GradScaler('cuda', args...)` instead.\n",
            "  scaler = amp.GradScaler()\n"
          ]
        },
        {
          "data": {
            "application/vnd.jupyter.widget-view+json": {
              "model_id": "ec6c6526c7fd41f9be85348a7f31f635",
              "version_major": 2,
              "version_minor": 0
            },
            "text/plain": [
              "Running Epoch 1 of 5:   0%|          | 0/2621 [00:00<?, ?it/s]"
            ]
          },
          "metadata": {},
          "output_type": "display_data"
        },
        {
          "name": "stderr",
          "output_type": "stream",
          "text": [
            "/usr/local/lib/python3.11/dist-packages/simpletransformers/classification/classification_model.py:905: FutureWarning: `torch.cuda.amp.autocast(args...)` is deprecated. Please use `torch.amp.autocast('cuda', args...)` instead.\n",
            "  with amp.autocast():\n"
          ]
        },
        {
          "data": {
            "application/vnd.jupyter.widget-view+json": {
              "model_id": "e1d56589f8694563a89eac286fcdf186",
              "version_major": 2,
              "version_minor": 0
            },
            "text/plain": [
              "Running Epoch 2 of 5:   0%|          | 0/2621 [00:00<?, ?it/s]"
            ]
          },
          "metadata": {},
          "output_type": "display_data"
        },
        {
          "data": {
            "application/vnd.jupyter.widget-view+json": {
              "model_id": "f70fb43473944c24b7a3307411adf6fe",
              "version_major": 2,
              "version_minor": 0
            },
            "text/plain": [
              "Running Epoch 3 of 5:   0%|          | 0/2621 [00:00<?, ?it/s]"
            ]
          },
          "metadata": {},
          "output_type": "display_data"
        },
        {
          "data": {
            "application/vnd.jupyter.widget-view+json": {
              "model_id": "19c324927a83490f85a89f2067a5ab8b",
              "version_major": 2,
              "version_minor": 0
            },
            "text/plain": [
              "Running Epoch 4 of 5:   0%|          | 0/2621 [00:00<?, ?it/s]"
            ]
          },
          "metadata": {},
          "output_type": "display_data"
        },
        {
          "data": {
            "application/vnd.jupyter.widget-view+json": {
              "model_id": "069f14f997ff4415b95a89fa7903aee5",
              "version_major": 2,
              "version_minor": 0
            },
            "text/plain": [
              "Running Epoch 5 of 5:   0%|          | 0/2621 [00:00<?, ?it/s]"
            ]
          },
          "metadata": {},
          "output_type": "display_data"
        },
        {
          "data": {
            "application/vnd.jupyter.widget-view+json": {
              "model_id": "4331406e9b6c4bf29b255ee753fca89a",
              "version_major": 2,
              "version_minor": 0
            },
            "text/plain": [
              "  0%|          | 0/13 [00:00<?, ?it/s]"
            ]
          },
          "metadata": {},
          "output_type": "display_data"
        },
        {
          "data": {
            "application/vnd.jupyter.widget-view+json": {
              "model_id": "f4efa4c6d466462cbf6d6c57073dce3d",
              "version_major": 2,
              "version_minor": 0
            },
            "text/plain": [
              "  0%|          | 0/70 [00:00<?, ?it/s]"
            ]
          },
          "metadata": {},
          "output_type": "display_data"
        },
        {
          "name": "stderr",
          "output_type": "stream",
          "text": [
            "/usr/local/lib/python3.11/dist-packages/simpletransformers/classification/classification_model.py:2188: FutureWarning: `torch.cuda.amp.autocast(args...)` is deprecated. Please use `torch.amp.autocast('cuda', args...)` instead.\n",
            "  with amp.autocast():\n"
          ]
        },
        {
          "name": "stdout",
          "output_type": "stream",
          "text": [
            "['DET', 'G', 'PREP', 'SVA']\n",
            "precision_recall_f1-score\n",
            "['DET', 'G', 'PREP', 'SVA']\n",
            "              precision    recall f0.5-score   support\n",
            "\n",
            "         DET      0.995     1.000     0.996      1508\n",
            "           G      0.940     0.814     0.912      3494\n",
            "        PREP      0.559     0.862     0.601       879\n",
            "         SVA      0.958     0.944     0.955      1107\n",
            "\n",
            "    accuracy                          0.881      6988\n",
            "   macro avg      0.863     0.905     0.866      6988\n",
            "weighted avg      0.907     0.881     0.898      6988\n",
            "\n",
            "Confusion matrix\n",
            "['DET', 'G', 'PREP', 'SVA']\n",
            "[[1508    0    0    0]\n",
            " [   8 2844  598   44]\n",
            " [   0  119  758    2]\n",
            " [   0   62    0 1045]]\n"
          ]
        },
        {
          "data": {
            "image/png": "[encoded data removed]",
            "text/plain": [
              "<Figure size 640x480 with 2 Axes>"
            ]
          },
          "metadata": {},
          "output_type": "display_data"
        }
      ],
      "source": [
        "model_path_e5 = \"/content/drive/MyDrive/VU Thesis/Code/baby_models/V20L4/model_e5_v20_l4\"\n",
        "model_name_e5 = \"v20_l4_e5\"\n",
        "seed_val = 613\n",
        "model_e5 = fine_tune_model(model_path_e5, train_df, save_path, f\"{model_name_e5}_s{seed_val}\", seed_val)\n",
        "\n",
        "# seed 613\n",
        "model_e5_path = f'/content/drive/MyDrive/VU Thesis/Code/fine_tune/models/seed_fine_tuned_{model_name_e5}_s{seed_val}_model'\n",
        "\n",
        "preds_e5 = predict_model(model_e5_path, test_data)\n",
        "\n",
        "target_names = ['DET', 'G', 'PREP','SVA']\n",
        "report_e5, cf_matrix_e5 = fine_tune_eval(gold_labels, preds_e5, target_names)"
      ]
    },
    {
      "cell_type": "markdown",
      "metadata": {
        "id": "Er4BtOLWpY8C"
      },
      "source": [
        "#### E10"
      ]
    },
    {
      "cell_type": "code",
      "execution_count": null,
      "metadata": {
        "colab": {
          "base_uri": "https://localhost:8080/",
          "height": 1000,
          "referenced_widgets": [
            "51f96ea2ffa447d1834d6703672537ff",
            "d84b29a443814522a4c96042524b5a39",
            "037ed59c3d68445099b626561616aced",
            "2a43ca56a49645eda6a060c67573f3cd",
            "6547969e82ca42ba8ba4b51038c97119",
            "9c5c59cf9ea1468abd2dfb5249d2be0c",
            "15f91e8e43604909a4f8f67c89d78679",
            "d2c375688117428a86cfacb2cd3ba040",
            "032f866e34a44814977287ee7da8e373",
            "cc49c40a24d2476f9cda4ed1a2898f45",
            "25e675aa11734113b766495e9e70ce9b",
            "5bb2cca91e1349c0be75beed579a26d1",
            "1b2a214c29c049d99060987ef6b56c4b",
            "ef279fa08c494868971a705af989cf96",
            "62114a5877cd4ac1b2460b79fcdbe7ef",
            "62b96e84472a438a87a487efd42a6183",
            "7786acef59a94939acbe9e6633841b89",
            "83c62674f4e24efab160d6032545489c",
            "d03ca5d917214a95b21f714178d8750c",
            "b04262fd58d1463e800c32b5e45cb380",
            "3c5b52da9a5942089eb9eb1476669ec9",
            "acd3826414ea44a385f2fabae05f60af",
            "e6b7a0a25eb149f2a061e840b720480e",
            "831cebe5994b42c69a9d011ea7a6a8d1",
            "90dd50587afc419cbc7853d119047872",
            "5534e70859504b3dbf80724f976b8c97",
            "9a5d71fbf296437b9a2af7cbc46b2859",
            "c7451dffed974817bcef7d9e54f55175",
            "c85dfc2736764ed19073c5245e943e45",
            "a82e0841d83d4d88b8934456b907b697",
            "da3177574bd04879b484ce8fa9360e46",
            "be4b3d01683f43a39e957e17485f15cd",
            "7c87d80a8cd042088c8d4707d532c8fb",
            "fba9ed89a7be4c42860cc272db70bdb7",
            "0dec463f63d84339b8b39533f268dccf",
            "82f09d46cbc44699a3ba6cdc773a33f3",
            "0d47029145c34e3aac91b10a97ef9963",
            "b04aec6b36884f1d9814488106adb7b6",
            "302ba94114f348a4998ae50b83eb1d44",
            "8733930f1e844400a364bdac3f4d19a2",
            "95c5a133d0c842ab9d0cd799da9ded48",
            "41b0969d66e04102b0c5e9d2867b50a8",
            "7f0f46c2440b44ebba9b460d4015abe8",
            "05bbef9de81b46deabf3dfba261bc826",
            "612bdbee48c345659f7756f9e1ef793b",
            "4543576c5b134a15bfa88f872c33c692",
            "9e2834db0f1a40c297641bbfe146fdae",
            "c9acdd41ec9442cdb435bc30e0886717",
            "187e5eeabf5544009f4f4f0f165bda89",
            "a636ecc765bb42069c41e86c3788a78c",
            "a88687309d874352917241a129558747",
            "a8718fbf1f274cc2bcee6be931cd514f",
            "7ecd8655279c4cea8879fa57be203468",
            "7d2ba51e1b6c4ac5882dc286d56e9ab0",
            "b25b40981a87474d94e3bc65b0e937dc",
            "af57c4e7321847e68fb631d36bd4b512",
            "625649bfe82e4687b433d7c8f328e549",
            "beb62bd2255841c2b54a93d4c0f3c247",
            "6511bbc3a4f54e5ba02587e861b36e88",
            "b1a39116c58b455384c85f2b438c06c7",
            "5f5e7adbb6944930b8847af1935c06a4",
            "44d5bf4b5cf64010a500d032d7d4af3e",
            "dc5cff28c3fd40aca6ffe1671642ebee",
            "2b301889c2104c3684cc5fa06bcbf6c5",
            "ae260424054944678e04f1b76fdeb8c7",
            "65606a50c89a4df399c9adff2773f9b7",
            "8eb54618702143e2a4d743d97e595516",
            "e74f374cded14691b3e515f5bc36bd3e",
            "56831e2008944356a33429fe8a8158a7",
            "26b8a058e25041c0ac36f6af8da5df79",
            "5db5df01852f4404bba4818cbcfc6b20",
            "9372f1ce77ac488d82a601bea7b14a1f",
            "5228fe18054b49b3bd98c0bdbd383c15",
            "537a1ccc9aae4704b6ed3e025fabbed9",
            "14387eb7ced044c88a82d0adb333c270",
            "ef67053ab64f427b92d983dc67084e6b",
            "1848d2f3936541208741f84736ecf6cc",
            "66c2d1db138c47858d7b8237adb8be92",
            "21b51e7514904bcfabd214f7d5fb82af",
            "104128aead1d4aa9914e4431d0989de3",
            "aa419aaddf0a4dfb9d9f2e6767202955",
            "57598d61ccf94c02830d2fd650125128",
            "ac16d482fe604e74b47c714eb4b2dc26",
            "bd5d93fc0776470c985e14a23b62bdfc",
            "2358a43774f746faa84c58514cad70fd",
            "03044434e2f14b3db4277389f9e54a9a",
            "5a03a8b3ddc440babedcda95e3466c39",
            "5d82b703b98d45ca8df72d4798940ae8",
            "d14858fa3c874848acea4292a0baeff3",
            "a45b7bc0895245999c34d1170471b2b1",
            "69fddd2895f64cbca504dafb4d2edd74",
            "48cfd7038e5f447d9f8fc37827528be7",
            "77b5fe8f6a4e49d184a75235a0a89f0b",
            "e8478579144c4ed9ba1be56f48a0c605",
            "fbfd5132435e4bef8cdf994f7777cede",
            "e77495e55f0649ceb2f3b430203c1a2b",
            "fb52ca44964347cb820a540b6f898c89",
            "20abcfac526b4e73a501fcce7ad1d65e",
            "1e14f50eb7aa40e89c1fe947da861a82"
          ]
        },
        "id": "1PwyixOAd2xF",
        "outputId": "210a06f9-c098-4461-e08d-30df5a92f33c"
      },
      "outputs": [
        {
          "name": "stderr",
          "output_type": "stream",
          "text": [
            "Some weights of RobertaForSequenceClassification were not initialized from the model checkpoint at /content/drive/MyDrive/VU Thesis/Code/baby_models/V20L4/model_e10_v20_l4 and are newly initialized: ['classifier.dense.bias', 'classifier.dense.weight', 'classifier.out_proj.bias', 'classifier.out_proj.weight']\n",
            "You should probably TRAIN this model on a down-stream task to be able to use it for predictions and inference.\n"
          ]
        },
        {
          "data": {
            "application/vnd.jupyter.widget-view+json": {
              "model_id": "51f96ea2ffa447d1834d6703672537ff",
              "version_major": 2,
              "version_minor": 0
            },
            "text/plain": [
              "  0%|          | 0/41 [00:00<?, ?it/s]"
            ]
          },
          "metadata": {},
          "output_type": "display_data"
        },
        {
          "data": {
            "application/vnd.jupyter.widget-view+json": {
              "model_id": "5bb2cca91e1349c0be75beed579a26d1",
              "version_major": 2,
              "version_minor": 0
            },
            "text/plain": [
              "Epoch:   0%|          | 0/5 [00:00<?, ?it/s]"
            ]
          },
          "metadata": {},
          "output_type": "display_data"
        },
        {
          "name": "stderr",
          "output_type": "stream",
          "text": [
            "/usr/local/lib/python3.11/dist-packages/simpletransformers/classification/classification_model.py:882: FutureWarning: `torch.cuda.amp.GradScaler(args...)` is deprecated. Please use `torch.amp.GradScaler('cuda', args...)` instead.\n",
            "  scaler = amp.GradScaler()\n"
          ]
        },
        {
          "data": {
            "application/vnd.jupyter.widget-view+json": {
              "model_id": "e6b7a0a25eb149f2a061e840b720480e",
              "version_major": 2,
              "version_minor": 0
            },
            "text/plain": [
              "Running Epoch 1 of 5:   0%|          | 0/2621 [00:00<?, ?it/s]"
            ]
          },
          "metadata": {},
          "output_type": "display_data"
        },
        {
          "name": "stderr",
          "output_type": "stream",
          "text": [
            "/usr/local/lib/python3.11/dist-packages/simpletransformers/classification/classification_model.py:905: FutureWarning: `torch.cuda.amp.autocast(args...)` is deprecated. Please use `torch.amp.autocast('cuda', args...)` instead.\n",
            "  with amp.autocast():\n"
          ]
        },
        {
          "data": {
            "application/vnd.jupyter.widget-view+json": {
              "model_id": "fba9ed89a7be4c42860cc272db70bdb7",
              "version_major": 2,
              "version_minor": 0
            },
            "text/plain": [
              "Running Epoch 2 of 5:   0%|          | 0/2621 [00:00<?, ?it/s]"
            ]
          },
          "metadata": {},
          "output_type": "display_data"
        },
        {
          "data": {
            "application/vnd.jupyter.widget-view+json": {
              "model_id": "612bdbee48c345659f7756f9e1ef793b",
              "version_major": 2,
              "version_minor": 0
            },
            "text/plain": [
              "Running Epoch 3 of 5:   0%|          | 0/2621 [00:00<?, ?it/s]"
            ]
          },
          "metadata": {},
          "output_type": "display_data"
        },
        {
          "data": {
            "application/vnd.jupyter.widget-view+json": {
              "model_id": "af57c4e7321847e68fb631d36bd4b512",
              "version_major": 2,
              "version_minor": 0
            },
            "text/plain": [
              "Running Epoch 4 of 5:   0%|          | 0/2621 [00:00<?, ?it/s]"
            ]
          },
          "metadata": {},
          "output_type": "display_data"
        },
        {
          "data": {
            "application/vnd.jupyter.widget-view+json": {
              "model_id": "8eb54618702143e2a4d743d97e595516",
              "version_major": 2,
              "version_minor": 0
            },
            "text/plain": [
              "Running Epoch 5 of 5:   0%|          | 0/2621 [00:00<?, ?it/s]"
            ]
          },
          "metadata": {},
          "output_type": "display_data"
        },
        {
          "data": {
            "application/vnd.jupyter.widget-view+json": {
              "model_id": "66c2d1db138c47858d7b8237adb8be92",
              "version_major": 2,
              "version_minor": 0
            },
            "text/plain": [
              "  0%|          | 0/13 [00:00<?, ?it/s]"
            ]
          },
          "metadata": {},
          "output_type": "display_data"
        },
        {
          "data": {
            "application/vnd.jupyter.widget-view+json": {
              "model_id": "d14858fa3c874848acea4292a0baeff3",
              "version_major": 2,
              "version_minor": 0
            },
            "text/plain": [
              "  0%|          | 0/70 [00:00<?, ?it/s]"
            ]
          },
          "metadata": {},
          "output_type": "display_data"
        },
        {
          "name": "stderr",
          "output_type": "stream",
          "text": [
            "/usr/local/lib/python3.11/dist-packages/simpletransformers/classification/classification_model.py:2188: FutureWarning: `torch.cuda.amp.autocast(args...)` is deprecated. Please use `torch.amp.autocast('cuda', args...)` instead.\n",
            "  with amp.autocast():\n"
          ]
        },
        {
          "name": "stdout",
          "output_type": "stream",
          "text": [
            "['DET', 'G', 'PREP', 'SVA']\n",
            "precision_recall_f1-score\n",
            "['DET', 'G', 'PREP', 'SVA']\n",
            "              precision    recall f0.5-score   support\n",
            "\n",
            "         DET      0.995     0.999     0.996      1508\n",
            "           G      0.918     0.810     0.894      3494\n",
            "        PREP      0.551     0.812     0.588       879\n",
            "         SVA      0.929     0.920     0.927      1107\n",
            "\n",
            "    accuracy                          0.868      6988\n",
            "   macro avg      0.848     0.885     0.851      6988\n",
            "weighted avg      0.890     0.868     0.883      6988\n",
            "\n",
            "Confusion matrix\n",
            "['DET', 'G', 'PREP', 'SVA']\n",
            "[[1507    1    0    0]\n",
            " [   5 2829  583   77]\n",
            " [   0  164  714    1]\n",
            " [   2   87    0 1018]]\n"
          ]
        },
        {
          "data": {
            "image/png": "[encoded data removed]",
            "text/plain": [
              "<Figure size 640x480 with 2 Axes>"
            ]
          },
          "metadata": {},
          "output_type": "display_data"
        }
      ],
      "source": [
        "model_path_e10 = \"/content/drive/MyDrive/VU Thesis/Code/baby_models/V20L4/model_e10_v20_l4\"\n",
        "model_name_e10 = \"v20_l4_e10\"\n",
        "seed_val = 20\n",
        "model_e10 = fine_tune_model(model_path_e10, train_df, save_path, f\"{model_name_e10}_s{seed_val}\", seed_val)\n",
        "\n",
        "# seed 20\n",
        "model_e10_path = f'/content/drive/MyDrive/VU Thesis/Code/fine_tune/models/seed_fine_tuned_{model_name_e10}_s{seed_val}_model'\n",
        "\n",
        "preds_e10 = predict_model(model_e10_path, test_data)\n",
        "\n",
        "target_names = ['DET', 'G', 'PREP','SVA']\n",
        "report_e10, cf_matrix_e10 = fine_tune_eval(gold_labels, preds_e10, target_names)"
      ]
    },
    {
      "cell_type": "code",
      "execution_count": null,
      "metadata": {
        "colab": {
          "base_uri": "https://localhost:8080/",
          "height": 1000,
          "referenced_widgets": [
            "9f25674140504f719bbe7634db87350e",
            "051ec74516b54771b484266b1da59be2",
            "5914f688bc4242c6b75e9a9af17a15a8",
            "948bdddc48ec48b88317f1d71910c3dd",
            "c654e40d9b9c4d1891126af3e5764856",
            "7e18a2002329439382f6224d477355d9",
            "d2e9c2c020e94a64b2d20c0ab66adff3",
            "b2fcfb53f0b84a29807637cc30b496b5",
            "7b7dc76eb6574f93bb99361d907cc614",
            "6392e6403dca455ebf1dfe244831d534",
            "b80c0bcc35394208b5e547036c34867d",
            "a14538744c4a43eca604e87a6b994c2a",
            "d4db8de10ab749af892e3d45bf8c425f",
            "58504204cb184067818e174421514a48",
            "7ac16eb7c3714ef3924fec167a2c0e6b",
            "a647b414dd2d49168b6db58dae60e4b3",
            "113f4180414046f0b8884382878fa8da",
            "842d448752a644b5b2910b95b345bc33",
            "1de261fe6e064d75ac6e0185a6394b8f",
            "dc06a82098274fa0877c69faef8f2b33",
            "577e61e74baf49b1a8d02db2a3bb0565",
            "53e682c6d7414a25b14faaa453cb8cfc",
            "87ffec395bdf412482e99c896055bbb2",
            "47dcfc2abfd640d49e9fceff674f41fc",
            "3da709e0a4904322bd4ff17cd2c9c742",
            "b49c2999ac93446c957c2c840842f4d4",
            "d88bb965593744a497c8b895ba348b8b",
            "85ddaa3aad3c42b3bb6c17e524c6ea97",
            "4404c87fef5c44689a3d2bbf94d3ea3a",
            "6e51dca1ced444969d4c1dc7b8d0a123",
            "9c2b888b63e74044b65ed43e62eeaa93",
            "b7fd48234b5b422fabc6c7782cc68cd6",
            "a8d9b4fb5ba94339a9d4c58557f701b3",
            "83f131889eb14e1f9df67b29503a70e7",
            "b87ab998314b4efc9eadd442dcdee860",
            "7a5c5f350f20419b9553800c67f919bb",
            "e415d056e98d45f09bb1927dd9e2d9f7",
            "9d17afb9ea6345a596379e21637babc7",
            "1c3af22b8cdd43f8adf56982914dc6f1",
            "276a536a4e194eb7ad8edc019160d49f",
            "ac352f19751748778cabb3b073c497e4",
            "1097cd4bded94ccc91886b004fe0be0d",
            "f0dcaa7cd2b143e4a1ebde128798a45b",
            "fb027c3161674443930793bc322f8ec9",
            "5291d376becf4ee1941f5d1c4d52f448",
            "be6dc0aa3dba416cae4d5c78e8a5887a",
            "9601e0d46f3b46c8901afd53a1a064dd",
            "7b4584866c1b4e1083bd00de59771e0e",
            "d54afb7363a74627a761612b6d829c20",
            "35ba38544fb94dc4ad43572fdef80bab",
            "407df7ddc9554f9d9731143ed078dc72",
            "5c1cb28678fe42cb9188650c91fb9dba",
            "b5ee09c4a2ed4328b5f909f31ed5a6f1",
            "9b48939adbb44bb7a7a648015c9d606f",
            "d8cf9bcabb4549b3a8dfa98e7032be0b",
            "ee81efe5ee314c7f9112aab237be898b",
            "406c0042c50d4c7eb8ffc1953391f966",
            "112aff7abda14cf4847eb316908d08d0",
            "17af55e9c85249f5ae8f483a9871fd77",
            "e740de57189d43159d7c8d3533c7b30c",
            "92a68b8c8d744b4d8719537193c26a31",
            "aba67fb8c5f144ad9b661696bc047660",
            "87f4a12ad0204e4d96ed5e9610197eef",
            "45b0085c41e747f796857410231a2b1d",
            "650cba2d08ed40d68a7c7c3643f077e7",
            "459ecbfa33cb4ee4b810e7bd845bcda2",
            "ff263121dc6249188cf4ee5943469d05",
            "89ab2f4afae84c3fa73e87bf0f4de06b",
            "2e8b9a53ef2e4b7c8fb7492ee054875d",
            "6260a763caef47ddac12234ea58ac061",
            "c4549296ad554ec8ae4bfdcb582419c5",
            "688df10dcace4523b72f14d3ebcc342e",
            "8be456d0ad634a7fad3ad69b1749d802",
            "ea45d5c032a4467698276788483088c8",
            "3c46fc58c3d349e2ab0fba2f7676bd80",
            "c87ce1d356c243adb1c9736f5fe87056",
            "10c0abc67c144c66b05c37e7949f76e6",
            "33b2a484e1da4896a8409c4cab67babb",
            "0e85a44024634a4a92e448e4c16104f5",
            "b223dee436134f6c9aa5e533573c9110",
            "360d0f9119fe482e82bb8ce292cd652e",
            "038ebacdfde44442b3336879ef2a6082",
            "7447a422651d4122a24f8416aa192e4d",
            "f3a02fb97cf141b2b38cbda10f6fb9a1",
            "f5b263d122a845409c2ef7b975887c42",
            "88553e5857d04ccfa92249243c5cd325",
            "dd899f65828a4974afabe394ec7b4759",
            "60b578edb9d147cbba1b1d0153a42467",
            "fd2fbd1dca9d4334bb3fe65d88b4b7bf",
            "67e28013cb9743e08a9f2b7af1f2dde7",
            "0ed9032446d7452a8ad76b1ffc3e5644",
            "86e820b90187464692f33b5e63ceb94e",
            "115dc247f564405ca45d8e515635b107",
            "796623a781cf4fb488555d55ea622ebf",
            "5cee80cd38104bb6b4d6cfd184a0f5d0",
            "96e36b1462e04f9280f6174931f8f35e",
            "90ddf15217054010b113b2e4323ea87f",
            "0095e407ac394874ada108d99aef5812",
            "629741ffcba3431a81c7820a272472b8"
          ]
        },
        "id": "Rhm_p1l8j2Ae",
        "outputId": "a544731c-9457-4f7b-dfae-57109ad0c949"
      },
      "outputs": [
        {
          "name": "stderr",
          "output_type": "stream",
          "text": [
            "Some weights of RobertaForSequenceClassification were not initialized from the model checkpoint at /content/drive/MyDrive/VU Thesis/Code/baby_models/V20L4/model_e10_v20_l4 and are newly initialized: ['classifier.dense.bias', 'classifier.dense.weight', 'classifier.out_proj.bias', 'classifier.out_proj.weight']\n",
            "You should probably TRAIN this model on a down-stream task to be able to use it for predictions and inference.\n"
          ]
        },
        {
          "data": {
            "application/vnd.jupyter.widget-view+json": {
              "model_id": "9f25674140504f719bbe7634db87350e",
              "version_major": 2,
              "version_minor": 0
            },
            "text/plain": [
              "  0%|          | 0/41 [00:00<?, ?it/s]"
            ]
          },
          "metadata": {},
          "output_type": "display_data"
        },
        {
          "data": {
            "application/vnd.jupyter.widget-view+json": {
              "model_id": "a14538744c4a43eca604e87a6b994c2a",
              "version_major": 2,
              "version_minor": 0
            },
            "text/plain": [
              "Epoch:   0%|          | 0/5 [00:00<?, ?it/s]"
            ]
          },
          "metadata": {},
          "output_type": "display_data"
        },
        {
          "name": "stderr",
          "output_type": "stream",
          "text": [
            "/usr/local/lib/python3.11/dist-packages/simpletransformers/classification/classification_model.py:882: FutureWarning: `torch.cuda.amp.GradScaler(args...)` is deprecated. Please use `torch.amp.GradScaler('cuda', args...)` instead.\n",
            "  scaler = amp.GradScaler()\n"
          ]
        },
        {
          "data": {
            "application/vnd.jupyter.widget-view+json": {
              "model_id": "87ffec395bdf412482e99c896055bbb2",
              "version_major": 2,
              "version_minor": 0
            },
            "text/plain": [
              "Running Epoch 1 of 5:   0%|          | 0/2621 [00:00<?, ?it/s]"
            ]
          },
          "metadata": {},
          "output_type": "display_data"
        },
        {
          "name": "stderr",
          "output_type": "stream",
          "text": [
            "/usr/local/lib/python3.11/dist-packages/simpletransformers/classification/classification_model.py:905: FutureWarning: `torch.cuda.amp.autocast(args...)` is deprecated. Please use `torch.amp.autocast('cuda', args...)` instead.\n",
            "  with amp.autocast():\n"
          ]
        },
        {
          "data": {
            "application/vnd.jupyter.widget-view+json": {
              "model_id": "83f131889eb14e1f9df67b29503a70e7",
              "version_major": 2,
              "version_minor": 0
            },
            "text/plain": [
              "Running Epoch 2 of 5:   0%|          | 0/2621 [00:00<?, ?it/s]"
            ]
          },
          "metadata": {},
          "output_type": "display_data"
        },
        {
          "data": {
            "application/vnd.jupyter.widget-view+json": {
              "model_id": "5291d376becf4ee1941f5d1c4d52f448",
              "version_major": 2,
              "version_minor": 0
            },
            "text/plain": [
              "Running Epoch 3 of 5:   0%|          | 0/2621 [00:00<?, ?it/s]"
            ]
          },
          "metadata": {},
          "output_type": "display_data"
        },
        {
          "data": {
            "application/vnd.jupyter.widget-view+json": {
              "model_id": "ee81efe5ee314c7f9112aab237be898b",
              "version_major": 2,
              "version_minor": 0
            },
            "text/plain": [
              "Running Epoch 4 of 5:   0%|          | 0/2621 [00:00<?, ?it/s]"
            ]
          },
          "metadata": {},
          "output_type": "display_data"
        },
        {
          "data": {
            "application/vnd.jupyter.widget-view+json": {
              "model_id": "ff263121dc6249188cf4ee5943469d05",
              "version_major": 2,
              "version_minor": 0
            },
            "text/plain": [
              "Running Epoch 5 of 5:   0%|          | 0/2621 [00:00<?, ?it/s]"
            ]
          },
          "metadata": {},
          "output_type": "display_data"
        },
        {
          "data": {
            "application/vnd.jupyter.widget-view+json": {
              "model_id": "33b2a484e1da4896a8409c4cab67babb",
              "version_major": 2,
              "version_minor": 0
            },
            "text/plain": [
              "  0%|          | 0/13 [00:00<?, ?it/s]"
            ]
          },
          "metadata": {},
          "output_type": "display_data"
        },
        {
          "data": {
            "application/vnd.jupyter.widget-view+json": {
              "model_id": "fd2fbd1dca9d4334bb3fe65d88b4b7bf",
              "version_major": 2,
              "version_minor": 0
            },
            "text/plain": [
              "  0%|          | 0/70 [00:00<?, ?it/s]"
            ]
          },
          "metadata": {},
          "output_type": "display_data"
        },
        {
          "name": "stderr",
          "output_type": "stream",
          "text": [
            "/usr/local/lib/python3.11/dist-packages/simpletransformers/classification/classification_model.py:2188: FutureWarning: `torch.cuda.amp.autocast(args...)` is deprecated. Please use `torch.amp.autocast('cuda', args...)` instead.\n",
            "  with amp.autocast():\n"
          ]
        },
        {
          "name": "stdout",
          "output_type": "stream",
          "text": [
            "['DET', 'G', 'PREP', 'SVA']\n",
            "precision_recall_f1-score\n",
            "['DET', 'G', 'PREP', 'SVA']\n",
            "              precision    recall f0.5-score   support\n",
            "\n",
            "         DET      0.996     1.000     0.997      1508\n",
            "           G      0.925     0.810     0.899      3494\n",
            "        PREP      0.553     0.832     0.592       879\n",
            "         SVA      0.933     0.920     0.930      1107\n",
            "\n",
            "    accuracy                          0.871      6988\n",
            "   macro avg      0.852     0.890     0.855      6988\n",
            "weighted avg      0.895     0.871     0.887      6988\n",
            "\n",
            "Confusion matrix\n",
            "['DET', 'G', 'PREP', 'SVA']\n",
            "[[1508    0    0    0]\n",
            " [   5 2829  592   68]\n",
            " [   0  143  731    5]\n",
            " [   1   88    0 1018]]\n"
          ]
        },
        {
          "data": {
            "image/png": "[encoded data removed]",
            "text/plain": [
              "<Figure size 640x480 with 2 Axes>"
            ]
          },
          "metadata": {},
          "output_type": "display_data"
        }
      ],
      "source": [
        "model_path_e10 = \"/content/drive/MyDrive/VU Thesis/Code/baby_models/V20L4/model_e10_v20_l4\"\n",
        "model_name_e10 = \"v20_l4_e10\"\n",
        "seed_val = 58\n",
        "model_e10 = fine_tune_model(model_path_e10, train_df, save_path, f\"{model_name_e10}_s{seed_val}\", seed_val)\n",
        "\n",
        "# seed 58\n",
        "model_e10_path = f'/content/drive/MyDrive/VU Thesis/Code/fine_tune/models/seed_fine_tuned_{model_name_e10}_s{seed_val}_model'\n",
        "\n",
        "preds_e10 = predict_model(model_e10_path, test_data)\n",
        "\n",
        "target_names = ['DET', 'G', 'PREP','SVA']\n",
        "report_e10, cf_matrix_e10 = fine_tune_eval(gold_labels, preds_e10, target_names)"
      ]
    },
    {
      "cell_type": "code",
      "execution_count": null,
      "metadata": {
        "colab": {
          "base_uri": "https://localhost:8080/",
          "height": 1000,
          "referenced_widgets": [
            "a2bb138438d44442879e07c92a8cba94",
            "9e56fe846d6943c7acf0ccd96788ca84",
            "5f8db3e8dfb74a159bb6ae625f37b63c",
            "e7084a96a5924782aa386440b3590e07",
            "f7821ee711ba4e46bcfa2cc57fff48d0",
            "7af25a3038b5442795078b68c98f69bf",
            "5b6adc747fb84cc49ef17f4ffd08ee37",
            "f800f61967e643e68b2fae7fa1459354",
            "adb19b4e74fe42f691841d8400ec43ae",
            "05d3696ae1b042468ab739a0ef27b84f",
            "fc2243b4796c4e3399c0122a8c9bb2dc",
            "fb7b8c071c5b43ca853965fb93765a64",
            "b3e03e7b29d64551aebad007eac0efd0",
            "66dd310983534130b4e3bc2804c4428a",
            "793300a4e6fa4528878b46cbda83b9eb",
            "54e2952eaf7c413e9b1933767e58a5c6",
            "401f5deac4c649368dd691ea59616984",
            "edafe72d1d9f4c8abe9b1180ed4a7c8c",
            "185574cdc9a34864b7b645a84bb8cf4c",
            "2be07a37984b4db9bbe21d6bc2f8d7f3",
            "c6d8c3d0abc4462dbf910e4387a1e98d",
            "2f138af87cea47deb46775d592e4d9de",
            "5ab5093f541146a0ab0ef9a2432778e9",
            "0a518b62435e415eb61f38f881ba1f39",
            "b3bcaa59eace4b09840a1e974dfa2003",
            "0ad571728dfa41ceb9dceca5dba260ae",
            "ba05fcdf11394f16a8d2831d2de1b48a",
            "03c30782f3b141a9bc12f498d3847348",
            "963ada77041849f3b3070ea7444675b9",
            "8d60a4ae1bca4f488d3042be90bd8626",
            "95260e15768541c18cf5f9dd54abb254",
            "ddb3d70418454b1bb0f62a34789e35ac",
            "0612c75755804b96a8966b0be0c6dadc",
            "eb72b36f1a724a92af14566945f45b1a",
            "2e04ce2535b546a8bf4fe58544e6eb29",
            "2370e776382146a2988e29d5058fcdf4",
            "74a145386ef84e66b767d78a9464f606",
            "5dbb43a6e1874c2e9fb8ce242a65ad96",
            "b832b4f8a6d744428f7cdb6e6f2bf2c9",
            "f37b7d344644428eb82fd5b731dc86f5",
            "08addfc742e74b6e9724c05eaa35c068",
            "f3f7bc2b069845b7ae1b884ede3b249d",
            "ac3e02e9afc44c8cb47db639153cac07",
            "8432aeacd23b4ac9954cff72d3aab9e2",
            "44de2521547b4579a3682874d79e325f",
            "28e206d975044a4391bcf8083c2d1fe2",
            "a5a72cdab66845259b05c227d3336e36",
            "1efc9990176a4592b273a0edf57dbfdf",
            "2bfade53122a4f629ee1778223776df3",
            "30a47dfbb689493e8b1840b1c1ffd1a4",
            "569a071c73ca4f32ac306e5571065bd8",
            "1c43f170ff9245e7b9a07bb05ad84ceb",
            "aae9a1184b714d1bb8fc22b409f304ec",
            "d031d92df7874a1d8bcd4e511400c586",
            "98ffb5fd41d141659a48b55bfe488cfa",
            "eb4a8ed3aeac4f288e98b180be973a16",
            "49ff8a71fe034bc2987908d61b89e922",
            "3d81902de3634bf3876fb20c96ff0bd2",
            "cefaeaa0085c4891bc3d957e59f545f3",
            "0aa4fa3e88134813bde0c781d19dac90",
            "de485c27ef7e498ab34132127f37ab4d",
            "11f2742df075400fbf7a7a2fa83f22ab",
            "c4389f4a1e244c34a831ba1d0f081074",
            "c3faf954d7f347f8aaa67a5ae4e30d32",
            "18e61f6445734305ba8a9c9f1efe2e93",
            "4e8f227d905a41fb8b26166bcea0cc5d",
            "e0c7a7289e194a37b763b3c5ddd9528f",
            "fc761937542f48ba8b510145eb981a6c",
            "7605a28a7f2e4551b32ab23aa1062ddd",
            "c605fc7d16bc4d8bb052f940e989ba0e",
            "be7915faa5384f2c85fbcfc2b5560898",
            "f15cf099549f4bf482a992eb94cab80f",
            "8bcd8a4900c04c48b01059342db35f9a",
            "bec7624040a74a0e95554baa86dcb974",
            "24faba7329724c079c0bad0787d03eb3",
            "c9894341703049d9b320ddaa31b45ef8",
            "835579955d7d4762902cc7b65071bcd0",
            "1da85eb94be042b6a770bb08721de979",
            "14488f374e63424f91ab00b528d47d7a",
            "5e52fdd59ad143398b95813d83f7afa2",
            "56be9b6081324c88a012b081a441368d",
            "603cf344cada4ddfb7c3db563589ce38",
            "aba304d10c5246f994c38aadce45bb8b",
            "ba616882322b4cba92d266996c74555e",
            "beb1ff42f18c41d9a9a83aec62a6f8d4",
            "8a429af453fa42038ddd6e0dade06a2c",
            "8a0b8b5502154bc1bd9bf334dd222fbf",
            "d775213ab90b48bea925f46e6f61523e",
            "09298a95965a435999c59e0143b074aa",
            "7da5cab8e4b147e8b8709a1af2e027c3",
            "8fdfef8f7b894146a142482eecf7b359",
            "ddee39b2ba324647b2ea0c11a4552235",
            "df2079971b50478d83890184bc41fbca",
            "2dcdb5caa84f477295dcf0384f064a21",
            "6224d52f23f04ee085a126f1f430c7ad",
            "1292609d03b34d9e8f2f5153cd8da6d3",
            "3a25243c92b74b648416e9f3eee37c2a",
            "2b5ab65bad1d4529a9486e3570007da6",
            "5404738698be438180aaee4cd1091d45"
          ]
        },
        "collapsed": true,
        "id": "zAExI4biGr1e",
        "outputId": "dc57450f-a26c-4e8f-8462-2a937abc0423"
      },
      "outputs": [
        {
          "name": "stderr",
          "output_type": "stream",
          "text": [
            "Some weights of RobertaForSequenceClassification were not initialized from the model checkpoint at /content/drive/MyDrive/VU Thesis/Code/baby_models/V20L4/model_e10_v20_l4 and are newly initialized: ['classifier.dense.bias', 'classifier.dense.weight', 'classifier.out_proj.bias', 'classifier.out_proj.weight']\n",
            "You should probably TRAIN this model on a down-stream task to be able to use it for predictions and inference.\n"
          ]
        },
        {
          "data": {
            "application/vnd.jupyter.widget-view+json": {
              "model_id": "a2bb138438d44442879e07c92a8cba94",
              "version_major": 2,
              "version_minor": 0
            },
            "text/plain": [
              "  0%|          | 0/41 [00:00<?, ?it/s]"
            ]
          },
          "metadata": {},
          "output_type": "display_data"
        },
        {
          "data": {
            "application/vnd.jupyter.widget-view+json": {
              "model_id": "fb7b8c071c5b43ca853965fb93765a64",
              "version_major": 2,
              "version_minor": 0
            },
            "text/plain": [
              "Epoch:   0%|          | 0/5 [00:00<?, ?it/s]"
            ]
          },
          "metadata": {},
          "output_type": "display_data"
        },
        {
          "name": "stderr",
          "output_type": "stream",
          "text": [
            "/usr/local/lib/python3.11/dist-packages/simpletransformers/classification/classification_model.py:882: FutureWarning: `torch.cuda.amp.GradScaler(args...)` is deprecated. Please use `torch.amp.GradScaler('cuda', args...)` instead.\n",
            "  scaler = amp.GradScaler()\n"
          ]
        },
        {
          "data": {
            "application/vnd.jupyter.widget-view+json": {
              "model_id": "5ab5093f541146a0ab0ef9a2432778e9",
              "version_major": 2,
              "version_minor": 0
            },
            "text/plain": [
              "Running Epoch 1 of 5:   0%|          | 0/2621 [00:00<?, ?it/s]"
            ]
          },
          "metadata": {},
          "output_type": "display_data"
        },
        {
          "name": "stderr",
          "output_type": "stream",
          "text": [
            "/usr/local/lib/python3.11/dist-packages/simpletransformers/classification/classification_model.py:905: FutureWarning: `torch.cuda.amp.autocast(args...)` is deprecated. Please use `torch.amp.autocast('cuda', args...)` instead.\n",
            "  with amp.autocast():\n"
          ]
        },
        {
          "data": {
            "application/vnd.jupyter.widget-view+json": {
              "model_id": "eb72b36f1a724a92af14566945f45b1a",
              "version_major": 2,
              "version_minor": 0
            },
            "text/plain": [
              "Running Epoch 2 of 5:   0%|          | 0/2621 [00:00<?, ?it/s]"
            ]
          },
          "metadata": {},
          "output_type": "display_data"
        },
        {
          "data": {
            "application/vnd.jupyter.widget-view+json": {
              "model_id": "44de2521547b4579a3682874d79e325f",
              "version_major": 2,
              "version_minor": 0
            },
            "text/plain": [
              "Running Epoch 3 of 5:   0%|          | 0/2621 [00:00<?, ?it/s]"
            ]
          },
          "metadata": {},
          "output_type": "display_data"
        },
        {
          "data": {
            "application/vnd.jupyter.widget-view+json": {
              "model_id": "eb4a8ed3aeac4f288e98b180be973a16",
              "version_major": 2,
              "version_minor": 0
            },
            "text/plain": [
              "Running Epoch 4 of 5:   0%|          | 0/2621 [00:00<?, ?it/s]"
            ]
          },
          "metadata": {},
          "output_type": "display_data"
        },
        {
          "data": {
            "application/vnd.jupyter.widget-view+json": {
              "model_id": "e0c7a7289e194a37b763b3c5ddd9528f",
              "version_major": 2,
              "version_minor": 0
            },
            "text/plain": [
              "Running Epoch 5 of 5:   0%|          | 0/2621 [00:00<?, ?it/s]"
            ]
          },
          "metadata": {},
          "output_type": "display_data"
        },
        {
          "data": {
            "application/vnd.jupyter.widget-view+json": {
              "model_id": "1da85eb94be042b6a770bb08721de979",
              "version_major": 2,
              "version_minor": 0
            },
            "text/plain": [
              "  0%|          | 0/13 [00:00<?, ?it/s]"
            ]
          },
          "metadata": {},
          "output_type": "display_data"
        },
        {
          "data": {
            "application/vnd.jupyter.widget-view+json": {
              "model_id": "09298a95965a435999c59e0143b074aa",
              "version_major": 2,
              "version_minor": 0
            },
            "text/plain": [
              "  0%|          | 0/70 [00:00<?, ?it/s]"
            ]
          },
          "metadata": {},
          "output_type": "display_data"
        },
        {
          "name": "stderr",
          "output_type": "stream",
          "text": [
            "/usr/local/lib/python3.11/dist-packages/simpletransformers/classification/classification_model.py:2188: FutureWarning: `torch.cuda.amp.autocast(args...)` is deprecated. Please use `torch.amp.autocast('cuda', args...)` instead.\n",
            "  with amp.autocast():\n"
          ]
        },
        {
          "name": "stdout",
          "output_type": "stream",
          "text": [
            "['DET', 'G', 'PREP', 'SVA']\n",
            "precision_recall_f1-score\n",
            "['DET', 'G', 'PREP', 'SVA']\n",
            "              precision    recall f0.5-score   support\n",
            "\n",
            "         DET      0.993     1.000     0.995      1508\n",
            "           G      0.911     0.819     0.891      3494\n",
            "        PREP      0.548     0.785     0.584       879\n",
            "         SVA      0.944     0.915     0.938      1107\n",
            "\n",
            "    accuracy                          0.869      6988\n",
            "   macro avg      0.849     0.880     0.852      6988\n",
            "weighted avg      0.888     0.869     0.882      6988\n",
            "\n",
            "Confusion matrix\n",
            "['DET', 'G', 'PREP', 'SVA']\n",
            "[[1508    0    0    0]\n",
            " [   7 2860  568   59]\n",
            " [   0  188  690    1]\n",
            " [   3   91    0 1013]]\n"
          ]
        },
        {
          "data": {
            "image/png": "[encoded data removed]",
            "text/plain": [
              "<Figure size 640x480 with 2 Axes>"
            ]
          },
          "metadata": {},
          "output_type": "display_data"
        }
      ],
      "source": [
        "model_path_e10 = \"/content/drive/MyDrive/VU Thesis/Code/baby_models/V20L4/model_e10_v20_l4\"\n",
        "model_name_e10 = \"v20_l4_e10\"\n",
        "seed_val = 150\n",
        "model_e10 = fine_tune_model(model_path_e10, train_df, save_path, f\"{model_name_e10}_s{seed_val}\", seed_val)\n",
        "\n",
        "# seed 150\n",
        "model_e10_path = f'/content/drive/MyDrive/VU Thesis/Code/fine_tune/models/seed_fine_tuned_{model_name_e10}_s{seed_val}_model'\n",
        "\n",
        "preds_e10 = predict_model(model_e10_path, test_data)\n",
        "\n",
        "target_names = ['DET', 'G', 'PREP','SVA']\n",
        "report_e10, cf_matrix_e10 = fine_tune_eval(gold_labels, preds_e10, target_names)"
      ]
    },
    {
      "cell_type": "code",
      "execution_count": null,
      "metadata": {
        "colab": {
          "base_uri": "https://localhost:8080/",
          "height": 1000,
          "referenced_widgets": [
            "8df5fccc6e4e4fea996c50e471f9e8ee",
            "57af8976353642d58a03d56cb0a623f3",
            "5d704d34af064ecd883ecac0f0700145",
            "6450e4b5567843ffb9f8fe56a1f14f01",
            "fd5def748355429d9d683eda7e529ba0",
            "44bf9014e0d745a5a00e573d02196960",
            "3a23e1c7074b4b839022468534e52fe0",
            "99f3fe3d6a5c4ffebd9c2613c21d77e0",
            "a0976ecc14a042c6b1705c0d76451165",
            "2464f50218c24616a0b070ff024bf395",
            "64844c567f8340118c82170b637b9eb9",
            "52596275adfd4167911d56f546f1c8b4",
            "0d9326aa8b614e20bcc8e9586aeb6521",
            "2ff17805a95d431aa67593368fe54dc1",
            "8de1d96b4c4143db8e93981bfdb83ebd",
            "076c054bdab84626bc8e7ec8a3cd4400",
            "24179d0220bc42c483112215871256a4",
            "c6842d753bbd41c0b01885f013d81e9d",
            "dc1c002af71646bba9a1bfb1966cee72",
            "2a9733e84f904c1ea59c9fe7e161b8cc",
            "f1fe208d04774db7a48859d65186cef9",
            "f845dda2cde34a809c2303e7ab101c6f",
            "162e7a4215624a2d85ac5e4e6798c407",
            "631e9ec986ec43e0943c1931f9e75288",
            "9a08dd44fb984d07be54b1a308b4b623",
            "71fac39dbf504969a62efa614e665a4f",
            "f86c8ed3e5a24c72ac6e5043ff3a82ca",
            "2525ab3e28754f999d68cda28aa6f651",
            "2bb6a7cdb267447f9f17a7cc36aa8c51",
            "09dd38298b7f4a418099331ca5fea86e",
            "3603d3550c8941ef974fd11033f4a2e2",
            "d83f4386d80046a28fa860c7b61261d8",
            "f1b3829db8cf4bc2b566c7a9adda2cac",
            "ba999fa15b984fbfa13a5a3d4cbe7572",
            "d17b712f39ff42b9a5ba2cbcd2ccf408",
            "0bb95f3c8f4c4e61b893c5d880c13fec",
            "6b0b4df176ba4b3695c945124b47a975",
            "8d0e33ca08fa4392bd08c45351b7c827",
            "e573aaf7d3ec4e5ebef6c8eb53503be2",
            "c38dc8a780a541d1ac7fb292ca871874",
            "7d575e13aa414ab48e96b4e8408dfe4e",
            "c10821551116431f895364f334ec5f08",
            "36032a3dc4074b7ca53396a07b13b3b3",
            "c8131aa382ab4f8a9283fdd04096243a",
            "fae48d21145e4f51ac21a69c2f96471b",
            "c9ff9682186341b386ec8a609cee3d04",
            "98d36b80bf5c451db2ee3418dbd9856e",
            "97e1797e05f447f6bde9ad171e4869e1",
            "b44eea06dbb146eaa127a8e337a8df40",
            "a6a1709b434541b6a0d4412eed0afa81",
            "34901f3cfeae4566ab33c92edd146526",
            "1419957217c944158a1937e625282a8e",
            "7317368f1d7a4b74aa6d21c8da0816c8",
            "ef02901f86764acebbd299e77861f725",
            "a02b2c979d1b4b7fa1f9f1661c68f0ff",
            "b904241ca0914ec09f40452711d59a27",
            "30f02e42301248f7a6fcd35fbcedd588",
            "694c65f5fb1f4e6183a8f30dcbc31ce5",
            "b1ee806f8e5f4e318d1b268c643360f1",
            "09e0c37c779142e9ab2e8560e7eb2959",
            "ab9fd5d2cafe4bad8d4018272bdbf114",
            "a9173e2fc62c4499a504b5764d593ff3",
            "b5197277dd59445ba94f4795bbd03c1d",
            "0bc436ef1d614fb89b4bf45c5c7f3204",
            "1bba980d006641678011c90eb46ea917",
            "787b0ffa86e649aa92b1c7ea82259ae1",
            "dafc70f7f9614d91a5f25a0baa91a38b",
            "5e0ed6901bb54d3996599117c40576f6",
            "b322b128727c4d82b0c3d41461bd44e8",
            "77a65ab06a104c889b2b73f9985b8d8d",
            "2e1fbb0778f34340b4be86fb91bff453",
            "0cf104283f9947ba8a6378c79b3bec22",
            "20eb928003ff45e7aa0e24dbd4276b84",
            "e9f7be25ffd643c980d34194fad19545",
            "6160032597f8499196eab99bce7a70d4",
            "3a2ff965dbbf487b848adb5565fe0200",
            "c06a7e8b51df418d8442a787873bde7c",
            "902fde4134cf421690ae8aefb9d792ce",
            "c918b6cf93c6443ab0b81e5f8588dde5",
            "ea54737641db4d368796887acd291149",
            "3ff8a3fc46ef48dcbfad173d67b8c7ed",
            "a5337b12c920408a83e9f9a8e92967cb",
            "a24687f46c6a4a4297abb1c1ed46009c",
            "6dfa5c88cc27448391240542c6269cb9",
            "82272551c8ef42f98db5f82fbbc72858",
            "75e0f7af5f614fa99fdce03f1822f10f",
            "2785ce3e59f24811a1c6c1329777f696",
            "6c187fd2ad504559a20e89e585f539ec",
            "c9f43c4767a1429ab158dcaec965d108",
            "ffe08a775b494e9ebc1b19380fec77cd",
            "e20609e9c4e8432b90052b09efe997d6",
            "e0bd7937ae9a4f4da79126bfa425670e",
            "702ac4f8e6244314924674c5dc56f970",
            "43e62b65a23e49fea669de5d23a3bf11",
            "11118706dc024d85a66fd7576d8e608a",
            "7c5d654c16624c30a035fec8e2558f40",
            "d91133784a094f75a8e9bf45d21347fb",
            "e84875385ff843178530fd27a478bfa5",
            "ca4855df120a49c290d1da3afb17b112"
          ]
        },
        "collapsed": true,
        "id": "uR1BT8-rDvTV",
        "outputId": "301cf0cb-4f35-436f-bac2-81a0242c3da9"
      },
      "outputs": [
        {
          "name": "stderr",
          "output_type": "stream",
          "text": [
            "Some weights of RobertaForSequenceClassification were not initialized from the model checkpoint at /content/drive/MyDrive/VU Thesis/Code/baby_models/V20L4/model_e10_v20_l4 and are newly initialized: ['classifier.dense.bias', 'classifier.dense.weight', 'classifier.out_proj.bias', 'classifier.out_proj.weight']\n",
            "You should probably TRAIN this model on a down-stream task to be able to use it for predictions and inference.\n"
          ]
        },
        {
          "data": {
            "application/vnd.jupyter.widget-view+json": {
              "model_id": "8df5fccc6e4e4fea996c50e471f9e8ee",
              "version_major": 2,
              "version_minor": 0
            },
            "text/plain": [
              "  0%|          | 0/41 [00:00<?, ?it/s]"
            ]
          },
          "metadata": {},
          "output_type": "display_data"
        },
        {
          "data": {
            "application/vnd.jupyter.widget-view+json": {
              "model_id": "52596275adfd4167911d56f546f1c8b4",
              "version_major": 2,
              "version_minor": 0
            },
            "text/plain": [
              "Epoch:   0%|          | 0/5 [00:00<?, ?it/s]"
            ]
          },
          "metadata": {},
          "output_type": "display_data"
        },
        {
          "name": "stderr",
          "output_type": "stream",
          "text": [
            "/usr/local/lib/python3.11/dist-packages/simpletransformers/classification/classification_model.py:882: FutureWarning: `torch.cuda.amp.GradScaler(args...)` is deprecated. Please use `torch.amp.GradScaler('cuda', args...)` instead.\n",
            "  scaler = amp.GradScaler()\n"
          ]
        },
        {
          "data": {
            "application/vnd.jupyter.widget-view+json": {
              "model_id": "162e7a4215624a2d85ac5e4e6798c407",
              "version_major": 2,
              "version_minor": 0
            },
            "text/plain": [
              "Running Epoch 1 of 5:   0%|          | 0/2621 [00:00<?, ?it/s]"
            ]
          },
          "metadata": {},
          "output_type": "display_data"
        },
        {
          "name": "stderr",
          "output_type": "stream",
          "text": [
            "/usr/local/lib/python3.11/dist-packages/simpletransformers/classification/classification_model.py:905: FutureWarning: `torch.cuda.amp.autocast(args...)` is deprecated. Please use `torch.amp.autocast('cuda', args...)` instead.\n",
            "  with amp.autocast():\n"
          ]
        },
        {
          "data": {
            "application/vnd.jupyter.widget-view+json": {
              "model_id": "ba999fa15b984fbfa13a5a3d4cbe7572",
              "version_major": 2,
              "version_minor": 0
            },
            "text/plain": [
              "Running Epoch 2 of 5:   0%|          | 0/2621 [00:00<?, ?it/s]"
            ]
          },
          "metadata": {},
          "output_type": "display_data"
        },
        {
          "data": {
            "application/vnd.jupyter.widget-view+json": {
              "model_id": "fae48d21145e4f51ac21a69c2f96471b",
              "version_major": 2,
              "version_minor": 0
            },
            "text/plain": [
              "Running Epoch 3 of 5:   0%|          | 0/2621 [00:00<?, ?it/s]"
            ]
          },
          "metadata": {},
          "output_type": "display_data"
        },
        {
          "data": {
            "application/vnd.jupyter.widget-view+json": {
              "model_id": "b904241ca0914ec09f40452711d59a27",
              "version_major": 2,
              "version_minor": 0
            },
            "text/plain": [
              "Running Epoch 4 of 5:   0%|          | 0/2621 [00:00<?, ?it/s]"
            ]
          },
          "metadata": {},
          "output_type": "display_data"
        },
        {
          "data": {
            "application/vnd.jupyter.widget-view+json": {
              "model_id": "dafc70f7f9614d91a5f25a0baa91a38b",
              "version_major": 2,
              "version_minor": 0
            },
            "text/plain": [
              "Running Epoch 5 of 5:   0%|          | 0/2621 [00:00<?, ?it/s]"
            ]
          },
          "metadata": {},
          "output_type": "display_data"
        },
        {
          "data": {
            "application/vnd.jupyter.widget-view+json": {
              "model_id": "902fde4134cf421690ae8aefb9d792ce",
              "version_major": 2,
              "version_minor": 0
            },
            "text/plain": [
              "  0%|          | 0/13 [00:00<?, ?it/s]"
            ]
          },
          "metadata": {},
          "output_type": "display_data"
        },
        {
          "data": {
            "application/vnd.jupyter.widget-view+json": {
              "model_id": "c9f43c4767a1429ab158dcaec965d108",
              "version_major": 2,
              "version_minor": 0
            },
            "text/plain": [
              "  0%|          | 0/70 [00:00<?, ?it/s]"
            ]
          },
          "metadata": {},
          "output_type": "display_data"
        },
        {
          "name": "stderr",
          "output_type": "stream",
          "text": [
            "/usr/local/lib/python3.11/dist-packages/simpletransformers/classification/classification_model.py:2188: FutureWarning: `torch.cuda.amp.autocast(args...)` is deprecated. Please use `torch.amp.autocast('cuda', args...)` instead.\n",
            "  with amp.autocast():\n"
          ]
        },
        {
          "name": "stdout",
          "output_type": "stream",
          "text": [
            "['DET', 'G', 'PREP', 'SVA']\n",
            "precision_recall_f1-score\n",
            "['DET', 'G', 'PREP', 'SVA']\n",
            "              precision    recall f0.5-score   support\n",
            "\n",
            "         DET      0.995     0.999     0.996      1508\n",
            "           G      0.925     0.811     0.900      3494\n",
            "        PREP      0.556     0.833     0.595       879\n",
            "         SVA      0.935     0.923     0.933      1107\n",
            "\n",
            "    accuracy                          0.872      6988\n",
            "   macro avg      0.853     0.892     0.856      6988\n",
            "weighted avg      0.895     0.872     0.887      6988\n",
            "\n",
            "Confusion matrix\n",
            "['DET', 'G', 'PREP', 'SVA']\n",
            "[[1507    1    0    0]\n",
            " [   7 2833  585   69]\n",
            " [   0  145  732    2]\n",
            " [   1   84    0 1022]]\n"
          ]
        },
        {
          "data": {
            "image/png": "[encoded data removed]",
            "text/plain": [
              "<Figure size 640x480 with 2 Axes>"
            ]
          },
          "metadata": {},
          "output_type": "display_data"
        }
      ],
      "source": [
        "model_path_e10 = \"/content/drive/MyDrive/VU Thesis/Code/baby_models/V20L4/model_e10_v20_l4\"\n",
        "model_name_e10 = \"v20_l4_e10\"\n",
        "seed_val = 342\n",
        "model_e10 = fine_tune_model(model_path_e10, train_df, save_path, f\"{model_name_e10}_s{seed_val}\", seed_val)\n",
        "\n",
        "# seed 342\n",
        "model_e10_path = f'/content/drive/MyDrive/VU Thesis/Code/fine_tune/models/seed_fine_tuned_{model_name_e10}_s{seed_val}_model'\n",
        "\n",
        "preds_e10 = predict_model(model_e10_path, test_data)\n",
        "\n",
        "target_names = ['DET', 'G', 'PREP','SVA']\n",
        "report_e10, cf_matrix_e10 = fine_tune_eval(gold_labels, preds_e10, target_names)"
      ]
    },
    {
      "cell_type": "code",
      "execution_count": null,
      "metadata": {
        "colab": {
          "base_uri": "https://localhost:8080/",
          "height": 1000,
          "referenced_widgets": [
            "5264ae76eff4482aa2c80f2acacf40d6",
            "f83b521c4a4e487fb406def4eb8d8408",
            "98107cf944a0444da37120e11ae64990",
            "d1656d0098ac43ab9bd74afa669eb31f",
            "3433342c056a4cbf87abd5cf43900500",
            "8774850f3e23486593c619b43434587c",
            "6742c98469cd483d9ec6b1cc54d43b6c",
            "3e7c34e8b46147e3bd44b35b4cd6c026",
            "0bde8339654947139aa5a6176d31cd2d",
            "ffceb9fc8f2141469def8d9d82d07f37",
            "25b56c181eaf40d692f437b85154a081",
            "8b2c1348334e40acba13bc87b0ac8b26",
            "24eb0b2c647d402b9e4a795628712c99",
            "f4e402e7ccb148299d8033415aab3b22",
            "16589a3d5ccd4aebb83d63ea86684d71",
            "8b91dfb50d6e45d8a6baa0a16797d135",
            "ee426a97244e44cda0db48720fada37c",
            "5bbb1cb734944d8c8cdceadfb5f90e17",
            "fbd294884e504dc2828e6f70fd49ce13",
            "25f7dc8d1ff64091ae1486ede02ec4de",
            "4fc14024e22b41d7b6cd677db2da48d0",
            "97f5417c607f4c11b49250f6acf7d266",
            "2715ea724e394a41b19506f83ba38bcf",
            "8bf05603c0504aa0ab98a4d2cdd2dd30",
            "b8a476b279ef4ac78727635660d963cc",
            "3f81b36cc9484b458c2ebfa722bcd890",
            "0a46da8251b8455392da91a8a5138a6a",
            "c0bbd7db3b0a469aa1f30e0698715509",
            "6fe62ad85e3f45a89c5cdb29e96b88ca",
            "dc3cde04e4b140c0aa8d9d9d338f9081",
            "b33ed5575ac846d8b067b9c931104c23",
            "88e7582fb1ec489bb0cdaa14ddd37284",
            "5dd689adcb8b42ce8b3f2663b7f52d87",
            "13c201f0119d41da8cbd94e1caeda4aa",
            "8171c45b26f3498aa0a8f6c0164060b5",
            "9dbdf835c61843b784ed9d7a5ee48745",
            "15741eb618284650bb8cb350822916d8",
            "7cdc0016b3774c549380ca926c170168",
            "ca4a68a6c19c43108382b082535b7a02",
            "9157b5acf82745eeb6a231e61b5703e1",
            "fc7f7af267dd42eeb6e5c390fa5e4e31",
            "9f7a3832684140f58b8df3f7be8aad26",
            "b7bafb0c405b498f972697c893b79c27",
            "400a92b8022d44ea92c57954a834bc6f",
            "3d299c8570c54ce282cca4572cfc6af1",
            "156e7c58cf454ec08367417c37081a2d",
            "435d43a88a384a35ab8dcd6008144882",
            "f63d236d2d934fec903a9d2d21762f6a",
            "ad96340f3b6647a98358b2d228dba63c",
            "cb913b38da594360a232203432b52c2b",
            "81d7c24205fd499ca26f1b775c195e39",
            "7b3105811a0048788202159f62a3339a",
            "a042efe2eac9438599b65b04d644a958",
            "f2e0c50b533b4db6a4da9f99a1f6cb81",
            "9fbd09d69489471ea338a3f93a458495",
            "f0d503ea2a7c40d59df77757da32527f",
            "39d80d9b9ada447c85c86974840be26a",
            "f6afc5b835dc42bfa282c974f93f8a5b",
            "6bb468ad7cc341dab44563bc2441b3f0",
            "cfc7e33962a44ffc896ac1e7dcc74712",
            "df90905f89394ad3b87af968da6d9e68",
            "09a36fd0ac724776a8b8fce3efa12d55",
            "e0e408379b834e829527159e4e019461",
            "9dc0684345f54974922d6e78568211a7",
            "8ba15f33cbd74a998e7ab0e6440c4c1c",
            "f0e4d52ca2bc4933a029792abd94eb5c",
            "b734e52b8be04ce7a1d52f5c8ee47695",
            "336456b64bab483da3ecf97231606c36",
            "1adffbcc261c4908ab0db7c33d623e83",
            "f4595bc918744cca978e16b83b2b10af",
            "80fc6b824ebd4f74b73b410b7f1de539",
            "6c012753a50d4367ae5c824e4fa59d99",
            "9b0815bf6c004cd18b304f711e414e31",
            "61faaa25e64b466f842b23882344feb2",
            "0305140af2f449aa962b2be2a339e360",
            "8326de1dae1a4c41a42b438faa40c73e",
            "618c14c4eeb3454684310f00a6426167",
            "e9a37eb02fb242ad867fcf1d57245845",
            "e6a23e3ac1a84f62b9ef746e4ad09e93",
            "4e4b25c791454979b0964aa85459b0cf",
            "67c9bc488fd94e3bac05694921a98ca8",
            "97705150081041208d00d10fb94e9c25",
            "05b77472f57b40259cd874b8d5967549",
            "fa2b91c085214a6e9895a3837e4e93cd",
            "4fe7b6d52f1844c596752a1d3ef77482",
            "2374cd3dfa0744c88866a40c0cc7c2b9",
            "74f6700bd4714ff5ac257c84a451470a",
            "04df4da09cc24137b8cad1b6a0c698b5",
            "0e5c5099ae034d4cb935164b745949ea",
            "063472730e3d40b0833e2b56d6f65c47",
            "45ab3bc77a494c7fb5184ad276e12c53",
            "b3e9202e09b34d27924fc2f310a09cfa",
            "7ddd15698f2644f882fdb8a9533c2846",
            "bbdc556069e9403ba257827b3aede834",
            "91ef0e13e8de439c89f5d518af538261",
            "96da95e79e384292847d03a514b017fd",
            "63c5271a98914583ab210565cc804f21",
            "d8ff245d82494ba5ad508eee2edcf0c6",
            "9e13cf0c85d14cacb3175af9154aaedb"
          ]
        },
        "collapsed": true,
        "id": "n7XM_CJdBpyl",
        "outputId": "8d005f50-ec71-44ee-fcf9-2fd74ecd02b8"
      },
      "outputs": [
        {
          "name": "stderr",
          "output_type": "stream",
          "text": [
            "Some weights of RobertaForSequenceClassification were not initialized from the model checkpoint at /content/drive/MyDrive/VU Thesis/Code/baby_models/V20L4/model_e10_v20_l4 and are newly initialized: ['classifier.dense.bias', 'classifier.dense.weight', 'classifier.out_proj.bias', 'classifier.out_proj.weight']\n",
            "You should probably TRAIN this model on a down-stream task to be able to use it for predictions and inference.\n"
          ]
        },
        {
          "data": {
            "application/vnd.jupyter.widget-view+json": {
              "model_id": "5264ae76eff4482aa2c80f2acacf40d6",
              "version_major": 2,
              "version_minor": 0
            },
            "text/plain": [
              "  0%|          | 0/41 [00:00<?, ?it/s]"
            ]
          },
          "metadata": {},
          "output_type": "display_data"
        },
        {
          "data": {
            "application/vnd.jupyter.widget-view+json": {
              "model_id": "8b2c1348334e40acba13bc87b0ac8b26",
              "version_major": 2,
              "version_minor": 0
            },
            "text/plain": [
              "Epoch:   0%|          | 0/5 [00:00<?, ?it/s]"
            ]
          },
          "metadata": {},
          "output_type": "display_data"
        },
        {
          "name": "stderr",
          "output_type": "stream",
          "text": [
            "/usr/local/lib/python3.11/dist-packages/simpletransformers/classification/classification_model.py:882: FutureWarning: `torch.cuda.amp.GradScaler(args...)` is deprecated. Please use `torch.amp.GradScaler('cuda', args...)` instead.\n",
            "  scaler = amp.GradScaler()\n"
          ]
        },
        {
          "data": {
            "application/vnd.jupyter.widget-view+json": {
              "model_id": "2715ea724e394a41b19506f83ba38bcf",
              "version_major": 2,
              "version_minor": 0
            },
            "text/plain": [
              "Running Epoch 1 of 5:   0%|          | 0/2621 [00:00<?, ?it/s]"
            ]
          },
          "metadata": {},
          "output_type": "display_data"
        },
        {
          "name": "stderr",
          "output_type": "stream",
          "text": [
            "/usr/local/lib/python3.11/dist-packages/simpletransformers/classification/classification_model.py:905: FutureWarning: `torch.cuda.amp.autocast(args...)` is deprecated. Please use `torch.amp.autocast('cuda', args...)` instead.\n",
            "  with amp.autocast():\n"
          ]
        },
        {
          "data": {
            "application/vnd.jupyter.widget-view+json": {
              "model_id": "13c201f0119d41da8cbd94e1caeda4aa",
              "version_major": 2,
              "version_minor": 0
            },
            "text/plain": [
              "Running Epoch 2 of 5:   0%|          | 0/2621 [00:00<?, ?it/s]"
            ]
          },
          "metadata": {},
          "output_type": "display_data"
        },
        {
          "data": {
            "application/vnd.jupyter.widget-view+json": {
              "model_id": "3d299c8570c54ce282cca4572cfc6af1",
              "version_major": 2,
              "version_minor": 0
            },
            "text/plain": [
              "Running Epoch 3 of 5:   0%|          | 0/2621 [00:00<?, ?it/s]"
            ]
          },
          "metadata": {},
          "output_type": "display_data"
        },
        {
          "data": {
            "application/vnd.jupyter.widget-view+json": {
              "model_id": "f0d503ea2a7c40d59df77757da32527f",
              "version_major": 2,
              "version_minor": 0
            },
            "text/plain": [
              "Running Epoch 4 of 5:   0%|          | 0/2621 [00:00<?, ?it/s]"
            ]
          },
          "metadata": {},
          "output_type": "display_data"
        },
        {
          "data": {
            "application/vnd.jupyter.widget-view+json": {
              "model_id": "b734e52b8be04ce7a1d52f5c8ee47695",
              "version_major": 2,
              "version_minor": 0
            },
            "text/plain": [
              "Running Epoch 5 of 5:   0%|          | 0/2621 [00:00<?, ?it/s]"
            ]
          },
          "metadata": {},
          "output_type": "display_data"
        },
        {
          "data": {
            "application/vnd.jupyter.widget-view+json": {
              "model_id": "e9a37eb02fb242ad867fcf1d57245845",
              "version_major": 2,
              "version_minor": 0
            },
            "text/plain": [
              "  0%|          | 0/13 [00:00<?, ?it/s]"
            ]
          },
          "metadata": {},
          "output_type": "display_data"
        },
        {
          "data": {
            "application/vnd.jupyter.widget-view+json": {
              "model_id": "0e5c5099ae034d4cb935164b745949ea",
              "version_major": 2,
              "version_minor": 0
            },
            "text/plain": [
              "  0%|          | 0/70 [00:00<?, ?it/s]"
            ]
          },
          "metadata": {},
          "output_type": "display_data"
        },
        {
          "name": "stderr",
          "output_type": "stream",
          "text": [
            "/usr/local/lib/python3.11/dist-packages/simpletransformers/classification/classification_model.py:2188: FutureWarning: `torch.cuda.amp.autocast(args...)` is deprecated. Please use `torch.amp.autocast('cuda', args...)` instead.\n",
            "  with amp.autocast():\n"
          ]
        },
        {
          "name": "stdout",
          "output_type": "stream",
          "text": [
            "['DET', 'G', 'PREP', 'SVA']\n",
            "precision_recall_f1-score\n",
            "['DET', 'G', 'PREP', 'SVA']\n",
            "              precision    recall f0.5-score   support\n",
            "\n",
            "         DET      0.994     1.000     0.995      1508\n",
            "           G      0.930     0.809     0.903      3494\n",
            "        PREP      0.558     0.843     0.599       879\n",
            "         SVA      0.929     0.927     0.928      1107\n",
            "\n",
            "    accuracy                          0.873      6988\n",
            "   macro avg      0.853     0.895     0.856      6988\n",
            "weighted avg      0.897     0.873     0.888      6988\n",
            "\n",
            "Confusion matrix\n",
            "['DET', 'G', 'PREP', 'SVA']\n",
            "[[1508    0    0    0]\n",
            " [   6 2825  586   77]\n",
            " [   1  135  741    2]\n",
            " [   2   79    0 1026]]\n"
          ]
        },
        {
          "data": {
            "image/png": "[encoded data removed]",
            "text/plain": [
              "<Figure size 640x480 with 2 Axes>"
            ]
          },
          "metadata": {},
          "output_type": "display_data"
        }
      ],
      "source": [
        "model_path_e10 = \"/content/drive/MyDrive/VU Thesis/Code/baby_models/V20L4/model_e10_v20_l4\"\n",
        "model_name_e10 = \"v20_l4_e10\"\n",
        "seed_val = 613\n",
        "model_e10 = fine_tune_model(model_path_e10, train_df, save_path, f\"{model_name_e10}_s{seed_val}\", seed_val)\n",
        "\n",
        "# seed 613\n",
        "model_e10_path = f'/content/drive/MyDrive/VU Thesis/Code/fine_tune/models/seed_fine_tuned_{model_name_e10}_s{seed_val}_model'\n",
        "\n",
        "preds_e10 = predict_model(model_e10_path, test_data)\n",
        "\n",
        "target_names = ['DET', 'G', 'PREP','SVA']\n",
        "report_e10, cf_matrix_e10 = fine_tune_eval(gold_labels, preds_e10, target_names)"
      ]
    }
  ],
  "metadata": {
    "accelerator": "GPU",
    "colab": {
      "collapsed_sections": [
        "m30x0mKU6tN9",
        "9IxaqtGypLbn",
        "0oNDxB8WpGlz",
        "eYXhWEJ1pAlD",
        "omG7L9jDpI9q",
        "xEFeLcfopJwZ",
        "vwC9zAoUpVNw",
        "TihlCkCWpWcX",
        "FAIcbH8jpX1G"
      ],
      "gpuType": "T4",
      "provenance": []
    },
    "kernelspec": {
      "display_name": "Python 3",
      "name": "python3"
    },
    "language_info": {
      "name": "python"
    }
  },
  "nbformat": 4,
  "nbformat_minor": 0
}
