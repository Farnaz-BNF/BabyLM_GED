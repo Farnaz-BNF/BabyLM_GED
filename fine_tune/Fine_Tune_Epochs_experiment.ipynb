{
  "cells": [
    {
      "cell_type": "code",
      "execution_count": null,
      "metadata": {
        "colab": {
          "base_uri": "https://localhost:8080/"
        },
        "id": "zkB1RHdEtn0-",
        "outputId": "187dd9ec-3303-46ca-f7b5-a33b7836106f"
      },
      "outputs": [
        {
          "name": "stdout",
          "output_type": "stream",
          "text": [
            "Collecting simpletransformers\n",
            "  Downloading simpletransformers-0.70.1-py3-none-any.whl.metadata (42 kB)\n",
            "\u001b[?25l     \u001b[90m━━━━━━━━━━━━━━━━━━━━━━━━━━━━━━━━━━━━━━━━\u001b[0m \u001b[32m0.0/42.4 kB\u001b[0m \u001b[31m?\u001b[0m eta \u001b[36m-:--:--\u001b[0m\r\u001b[2K     \u001b[90m━━━━━━━━━━━━━━━━━━━━━━━━━━━━━━━━━━━━━━━━\u001b[0m \u001b[32m42.4/42.4 kB\u001b[0m \u001b[31m2.3 MB/s\u001b[0m eta \u001b[36m0:00:00\u001b[0m\n",
            "\u001b[?25hRequirement already satisfied: numpy in /usr/local/lib/python3.11/dist-packages (from simpletransformers) (2.0.2)\n",
            "Requirement already satisfied: requests in /usr/local/lib/python3.11/dist-packages (from simpletransformers) (2.32.3)\n",
            "Requirement already satisfied: tqdm>=4.47.0 in /usr/local/lib/python3.11/dist-packages (from simpletransformers) (4.67.1)\n",
            "Requirement already satisfied: regex in /usr/local/lib/python3.11/dist-packages (from simpletransformers) (2024.11.6)\n",
            "Requirement already satisfied: transformers>=4.31.0 in /usr/local/lib/python3.11/dist-packages (from simpletransformers) (4.51.3)\n",
            "Collecting datasets (from simpletransformers)\n",
            "  Downloading datasets-3.6.0-py3-none-any.whl.metadata (19 kB)\n",
            "Requirement already satisfied: scipy in /usr/local/lib/python3.11/dist-packages (from simpletransformers) (1.15.2)\n",
            "Requirement already satisfied: scikit-learn in /usr/local/lib/python3.11/dist-packages (from simpletransformers) (1.6.1)\n",
            "Collecting seqeval (from simpletransformers)\n",
            "  Downloading seqeval-1.2.2.tar.gz (43 kB)\n",
            "\u001b[2K     \u001b[90m━━━━━━━━━━━━━━━━━━━━━━━━━━━━━━━━━━━━━━━━\u001b[0m \u001b[32m43.6/43.6 kB\u001b[0m \u001b[31m3.2 MB/s\u001b[0m eta \u001b[36m0:00:00\u001b[0m\n",
            "\u001b[?25h  Preparing metadata (setup.py) ... \u001b[?25l\u001b[?25hdone\n",
            "Requirement already satisfied: tensorboard in /usr/local/lib/python3.11/dist-packages (from simpletransformers) (2.18.0)\n",
            "Collecting tensorboardx (from simpletransformers)\n",
            "  Downloading tensorboardX-2.6.2.2-py2.py3-none-any.whl.metadata (5.8 kB)\n",
            "Requirement already satisfied: pandas in /usr/local/lib/python3.11/dist-packages (from simpletransformers) (2.2.2)\n",
            "Requirement already satisfied: tokenizers in /usr/local/lib/python3.11/dist-packages (from simpletransformers) (0.21.1)\n",
            "Requirement already satisfied: wandb>=0.10.32 in /usr/local/lib/python3.11/dist-packages (from simpletransformers) (0.19.10)\n",
            "Collecting streamlit (from simpletransformers)\n",
            "  Downloading streamlit-1.45.0-py3-none-any.whl.metadata (8.9 kB)\n",
            "Requirement already satisfied: sentencepiece in /usr/local/lib/python3.11/dist-packages (from simpletransformers) (0.2.0)\n",
            "Requirement already satisfied: filelock in /usr/local/lib/python3.11/dist-packages (from transformers>=4.31.0->simpletransformers) (3.18.0)\n",
            "Requirement already satisfied: huggingface-hub<1.0,>=0.30.0 in /usr/local/lib/python3.11/dist-packages (from transformers>=4.31.0->simpletransformers) (0.30.2)\n",
            "Requirement already satisfied: packaging>=20.0 in /usr/local/lib/python3.11/dist-packages (from transformers>=4.31.0->simpletransformers) (24.2)\n",
            "Requirement already satisfied: pyyaml>=5.1 in /usr/local/lib/python3.11/dist-packages (from transformers>=4.31.0->simpletransformers) (6.0.2)\n",
            "Requirement already satisfied: safetensors>=0.4.3 in /usr/local/lib/python3.11/dist-packages (from transformers>=4.31.0->simpletransformers) (0.5.3)\n",
            "Requirement already satisfied: click!=8.0.0,>=7.1 in /usr/local/lib/python3.11/dist-packages (from wandb>=0.10.32->simpletransformers) (8.1.8)\n",
            "Requirement already satisfied: docker-pycreds>=0.4.0 in /usr/local/lib/python3.11/dist-packages (from wandb>=0.10.32->simpletransformers) (0.4.0)\n",
            "Requirement already satisfied: gitpython!=3.1.29,>=1.0.0 in /usr/local/lib/python3.11/dist-packages (from wandb>=0.10.32->simpletransformers) (3.1.44)\n",
            "Requirement already satisfied: platformdirs in /usr/local/lib/python3.11/dist-packages (from wandb>=0.10.32->simpletransformers) (4.3.7)\n",
            "Requirement already satisfied: protobuf!=4.21.0,!=5.28.0,<7,>=3.19.0 in /usr/local/lib/python3.11/dist-packages (from wandb>=0.10.32->simpletransformers) (5.29.4)\n",
            "Requirement already satisfied: psutil>=5.0.0 in /usr/local/lib/python3.11/dist-packages (from wandb>=0.10.32->simpletransformers) (5.9.5)\n",
            "Requirement already satisfied: pydantic<3 in /usr/local/lib/python3.11/dist-packages (from wandb>=0.10.32->simpletransformers) (2.11.4)\n",
            "Requirement already satisfied: sentry-sdk>=2.0.0 in /usr/local/lib/python3.11/dist-packages (from wandb>=0.10.32->simpletransformers) (2.27.0)\n",
            "Requirement already satisfied: setproctitle in /usr/local/lib/python3.11/dist-packages (from wandb>=0.10.32->simpletransformers) (1.3.6)\n",
            "Requirement already satisfied: setuptools in /usr/local/lib/python3.11/dist-packages (from wandb>=0.10.32->simpletransformers) (75.2.0)\n",
            "Requirement already satisfied: typing-extensions<5,>=4.4 in /usr/local/lib/python3.11/dist-packages (from wandb>=0.10.32->simpletransformers) (4.13.2)\n",
            "Requirement already satisfied: charset-normalizer<4,>=2 in /usr/local/lib/python3.11/dist-packages (from requests->simpletransformers) (3.4.1)\n",
            "Requirement already satisfied: idna<4,>=2.5 in /usr/local/lib/python3.11/dist-packages (from requests->simpletransformers) (3.10)\n",
            "Requirement already satisfied: urllib3<3,>=1.21.1 in /usr/local/lib/python3.11/dist-packages (from requests->simpletransformers) (2.4.0)\n",
            "Requirement already satisfied: certifi>=2017.4.17 in /usr/local/lib/python3.11/dist-packages (from requests->simpletransformers) (2025.4.26)\n",
            "Requirement already satisfied: pyarrow>=15.0.0 in /usr/local/lib/python3.11/dist-packages (from datasets->simpletransformers) (18.1.0)\n",
            "Collecting dill<0.3.9,>=0.3.0 (from datasets->simpletransformers)\n",
            "  Downloading dill-0.3.8-py3-none-any.whl.metadata (10 kB)\n",
            "Collecting xxhash (from datasets->simpletransformers)\n",
            "  Downloading xxhash-3.5.0-cp311-cp311-manylinux_2_17_x86_64.manylinux2014_x86_64.whl.metadata (12 kB)\n",
            "Collecting multiprocess<0.70.17 (from datasets->simpletransformers)\n",
            "  Downloading multiprocess-0.70.16-py311-none-any.whl.metadata (7.2 kB)\n",
            "Collecting fsspec<=2025.3.0,>=2023.1.0 (from fsspec[http]<=2025.3.0,>=2023.1.0->datasets->simpletransformers)\n",
            "  Downloading fsspec-2025.3.0-py3-none-any.whl.metadata (11 kB)\n",
            "Requirement already satisfied: python-dateutil>=2.8.2 in /usr/local/lib/python3.11/dist-packages (from pandas->simpletransformers) (2.9.0.post0)\n",
            "Requirement already satisfied: pytz>=2020.1 in /usr/local/lib/python3.11/dist-packages (from pandas->simpletransformers) (2025.2)\n",
            "Requirement already satisfied: tzdata>=2022.7 in /usr/local/lib/python3.11/dist-packages (from pandas->simpletransformers) (2025.2)\n",
            "Requirement already satisfied: joblib>=1.2.0 in /usr/local/lib/python3.11/dist-packages (from scikit-learn->simpletransformers) (1.4.2)\n",
            "Requirement already satisfied: threadpoolctl>=3.1.0 in /usr/local/lib/python3.11/dist-packages (from scikit-learn->simpletransformers) (3.6.0)\n",
            "Requirement already satisfied: altair<6,>=4.0 in /usr/local/lib/python3.11/dist-packages (from streamlit->simpletransformers) (5.5.0)\n",
            "Requirement already satisfied: blinker<2,>=1.5.0 in /usr/local/lib/python3.11/dist-packages (from streamlit->simpletransformers) (1.9.0)\n",
            "Requirement already satisfied: cachetools<6,>=4.0 in /usr/local/lib/python3.11/dist-packages (from streamlit->simpletransformers) (5.5.2)\n",
            "Requirement already satisfied: pillow<12,>=7.1.0 in /usr/local/lib/python3.11/dist-packages (from streamlit->simpletransformers) (11.2.1)\n",
            "Requirement already satisfied: tenacity<10,>=8.1.0 in /usr/local/lib/python3.11/dist-packages (from streamlit->simpletransformers) (9.1.2)\n",
            "Requirement already satisfied: toml<2,>=0.10.1 in /usr/local/lib/python3.11/dist-packages (from streamlit->simpletransformers) (0.10.2)\n",
            "Collecting watchdog<7,>=2.1.5 (from streamlit->simpletransformers)\n",
            "  Downloading watchdog-6.0.0-py3-none-manylinux2014_x86_64.whl.metadata (44 kB)\n",
            "\u001b[2K     \u001b[90m━━━━━━━━━━━━━━━━━━━━━━━━━━━━━━━━━━━━━━━━\u001b[0m \u001b[32m44.3/44.3 kB\u001b[0m \u001b[31m4.2 MB/s\u001b[0m eta \u001b[36m0:00:00\u001b[0m\n",
            "\u001b[?25hCollecting pydeck<1,>=0.8.0b4 (from streamlit->simpletransformers)\n",
            "  Downloading pydeck-0.9.1-py2.py3-none-any.whl.metadata (4.1 kB)\n",
            "Requirement already satisfied: tornado<7,>=6.0.3 in /usr/local/lib/python3.11/dist-packages (from streamlit->simpletransformers) (6.4.2)\n",
            "Requirement already satisfied: absl-py>=0.4 in /usr/local/lib/python3.11/dist-packages (from tensorboard->simpletransformers) (1.4.0)\n",
            "Requirement already satisfied: grpcio>=1.48.2 in /usr/local/lib/python3.11/dist-packages (from tensorboard->simpletransformers) (1.71.0)\n",
            "Requirement already satisfied: markdown>=2.6.8 in /usr/local/lib/python3.11/dist-packages (from tensorboard->simpletransformers) (3.8)\n",
            "Requirement already satisfied: six>1.9 in /usr/local/lib/python3.11/dist-packages (from tensorboard->simpletransformers) (1.17.0)\n",
            "Requirement already satisfied: tensorboard-data-server<0.8.0,>=0.7.0 in /usr/local/lib/python3.11/dist-packages (from tensorboard->simpletransformers) (0.7.2)\n",
            "Requirement already satisfied: werkzeug>=1.0.1 in /usr/local/lib/python3.11/dist-packages (from tensorboard->simpletransformers) (3.1.3)\n",
            "Requirement already satisfied: jinja2 in /usr/local/lib/python3.11/dist-packages (from altair<6,>=4.0->streamlit->simpletransformers) (3.1.6)\n",
            "Requirement already satisfied: jsonschema>=3.0 in /usr/local/lib/python3.11/dist-packages (from altair<6,>=4.0->streamlit->simpletransformers) (4.23.0)\n",
            "Requirement already satisfied: narwhals>=1.14.2 in /usr/local/lib/python3.11/dist-packages (from altair<6,>=4.0->streamlit->simpletransformers) (1.37.1)\n",
            "Requirement already satisfied: aiohttp!=4.0.0a0,!=4.0.0a1 in /usr/local/lib/python3.11/dist-packages (from fsspec[http]<=2025.3.0,>=2023.1.0->datasets->simpletransformers) (3.11.15)\n",
            "Requirement already satisfied: gitdb<5,>=4.0.1 in /usr/local/lib/python3.11/dist-packages (from gitpython!=3.1.29,>=1.0.0->wandb>=0.10.32->simpletransformers) (4.0.12)\n",
            "Requirement already satisfied: annotated-types>=0.6.0 in /usr/local/lib/python3.11/dist-packages (from pydantic<3->wandb>=0.10.32->simpletransformers) (0.7.0)\n",
            "Requirement already satisfied: pydantic-core==2.33.2 in /usr/local/lib/python3.11/dist-packages (from pydantic<3->wandb>=0.10.32->simpletransformers) (2.33.2)\n",
            "Requirement already satisfied: typing-inspection>=0.4.0 in /usr/local/lib/python3.11/dist-packages (from pydantic<3->wandb>=0.10.32->simpletransformers) (0.4.0)\n",
            "Requirement already satisfied: MarkupSafe>=2.1.1 in /usr/local/lib/python3.11/dist-packages (from werkzeug>=1.0.1->tensorboard->simpletransformers) (3.0.2)\n",
            "Requirement already satisfied: aiohappyeyeballs>=2.3.0 in /usr/local/lib/python3.11/dist-packages (from aiohttp!=4.0.0a0,!=4.0.0a1->fsspec[http]<=2025.3.0,>=2023.1.0->datasets->simpletransformers) (2.6.1)\n",
            "Requirement already satisfied: aiosignal>=1.1.2 in /usr/local/lib/python3.11/dist-packages (from aiohttp!=4.0.0a0,!=4.0.0a1->fsspec[http]<=2025.3.0,>=2023.1.0->datasets->simpletransformers) (1.3.2)\n",
            "Requirement already satisfied: attrs>=17.3.0 in /usr/local/lib/python3.11/dist-packages (from aiohttp!=4.0.0a0,!=4.0.0a1->fsspec[http]<=2025.3.0,>=2023.1.0->datasets->simpletransformers) (25.3.0)\n",
            "Requirement already satisfied: frozenlist>=1.1.1 in /usr/local/lib/python3.11/dist-packages (from aiohttp!=4.0.0a0,!=4.0.0a1->fsspec[http]<=2025.3.0,>=2023.1.0->datasets->simpletransformers) (1.6.0)\n",
            "Requirement already satisfied: multidict<7.0,>=4.5 in /usr/local/lib/python3.11/dist-packages (from aiohttp!=4.0.0a0,!=4.0.0a1->fsspec[http]<=2025.3.0,>=2023.1.0->datasets->simpletransformers) (6.4.3)\n",
            "Requirement already satisfied: propcache>=0.2.0 in /usr/local/lib/python3.11/dist-packages (from aiohttp!=4.0.0a0,!=4.0.0a1->fsspec[http]<=2025.3.0,>=2023.1.0->datasets->simpletransformers) (0.3.1)\n",
            "Requirement already satisfied: yarl<2.0,>=1.17.0 in /usr/local/lib/python3.11/dist-packages (from aiohttp!=4.0.0a0,!=4.0.0a1->fsspec[http]<=2025.3.0,>=2023.1.0->datasets->simpletransformers) (1.20.0)\n",
            "Requirement already satisfied: smmap<6,>=3.0.1 in /usr/local/lib/python3.11/dist-packages (from gitdb<5,>=4.0.1->gitpython!=3.1.29,>=1.0.0->wandb>=0.10.32->simpletransformers) (5.0.2)\n",
            "Requirement already satisfied: jsonschema-specifications>=2023.03.6 in /usr/local/lib/python3.11/dist-packages (from jsonschema>=3.0->altair<6,>=4.0->streamlit->simpletransformers) (2025.4.1)\n",
            "Requirement already satisfied: referencing>=0.28.4 in /usr/local/lib/python3.11/dist-packages (from jsonschema>=3.0->altair<6,>=4.0->streamlit->simpletransformers) (0.36.2)\n",
            "Requirement already satisfied: rpds-py>=0.7.1 in /usr/local/lib/python3.11/dist-packages (from jsonschema>=3.0->altair<6,>=4.0->streamlit->simpletransformers) (0.24.0)\n",
            "Downloading simpletransformers-0.70.1-py3-none-any.whl (316 kB)\n",
            "\u001b[2K   \u001b[90m━━━━━━━━━━━━━━━━━━━━━━━━━━━━━━━━━━━━━━━━\u001b[0m \u001b[32m316.3/316.3 kB\u001b[0m \u001b[31m12.6 MB/s\u001b[0m eta \u001b[36m0:00:00\u001b[0m\n",
            "\u001b[?25hDownloading datasets-3.6.0-py3-none-any.whl (491 kB)\n",
            "\u001b[2K   \u001b[90m━━━━━━━━━━━━━━━━━━━━━━━━━━━━━━━━━━━━━━━━\u001b[0m \u001b[32m491.5/491.5 kB\u001b[0m \u001b[31m37.3 MB/s\u001b[0m eta \u001b[36m0:00:00\u001b[0m\n",
            "\u001b[?25hDownloading streamlit-1.45.0-py3-none-any.whl (9.9 MB)\n",
            "\u001b[2K   \u001b[90m━━━━━━━━━━━━━━━━━━━━━━━━━━━━━━━━━━━━━━━━\u001b[0m \u001b[32m9.9/9.9 MB\u001b[0m \u001b[31m84.5 MB/s\u001b[0m eta \u001b[36m0:00:00\u001b[0m\n",
            "\u001b[?25hDownloading tensorboardX-2.6.2.2-py2.py3-none-any.whl (101 kB)\n",
            "\u001b[2K   \u001b[90m━━━━━━━━━━━━━━━━━━━━━━━━━━━━━━━━━━━━━━━━\u001b[0m \u001b[32m101.7/101.7 kB\u001b[0m \u001b[31m4.1 MB/s\u001b[0m eta \u001b[36m0:00:00\u001b[0m\n",
            "\u001b[?25hDownloading dill-0.3.8-py3-none-any.whl (116 kB)\n",
            "\u001b[2K   \u001b[90m━━━━━━━━━━━━━━━━━━━━━━━━━━━━━━━━━━━━━━━━\u001b[0m \u001b[32m116.3/116.3 kB\u001b[0m \u001b[31m11.6 MB/s\u001b[0m eta \u001b[36m0:00:00\u001b[0m\n",
            "\u001b[?25hDownloading fsspec-2025.3.0-py3-none-any.whl (193 kB)\n",
            "\u001b[2K   \u001b[90m━━━━━━━━━━━━━━━━━━━━━━━━━━━━━━━━━━━━━━━━\u001b[0m \u001b[32m193.6/193.6 kB\u001b[0m \u001b[31m18.3 MB/s\u001b[0m eta \u001b[36m0:00:00\u001b[0m\n",
            "\u001b[?25hDownloading multiprocess-0.70.16-py311-none-any.whl (143 kB)\n",
            "\u001b[2K   \u001b[90m━━━━━━━━━━━━━━━━━━━━━━━━━━━━━━━━━━━━━━━━\u001b[0m \u001b[32m143.5/143.5 kB\u001b[0m \u001b[31m14.1 MB/s\u001b[0m eta \u001b[36m0:00:00\u001b[0m\n",
            "\u001b[?25hDownloading pydeck-0.9.1-py2.py3-none-any.whl (6.9 MB)\n",
            "\u001b[2K   \u001b[90m━━━━━━━━━━━━━━━━━━━━━━━━━━━━━━━━━━━━━━━━\u001b[0m \u001b[32m6.9/6.9 MB\u001b[0m \u001b[31m91.8 MB/s\u001b[0m eta \u001b[36m0:00:00\u001b[0m\n",
            "\u001b[?25hDownloading watchdog-6.0.0-py3-none-manylinux2014_x86_64.whl (79 kB)\n",
            "\u001b[2K   \u001b[90m━━━━━━━━━━━━━━━━━━━━━━━━━━━━━━━━━━━━━━━━\u001b[0m \u001b[32m79.1/79.1 kB\u001b[0m \u001b[31m7.8 MB/s\u001b[0m eta \u001b[36m0:00:00\u001b[0m\n",
            "\u001b[?25hDownloading xxhash-3.5.0-cp311-cp311-manylinux_2_17_x86_64.manylinux2014_x86_64.whl (194 kB)\n",
            "\u001b[2K   \u001b[90m━━━━━━━━━━━━━━━━━━━━━━━━━━━━━━━━━━━━━━━━\u001b[0m \u001b[32m194.8/194.8 kB\u001b[0m \u001b[31m11.8 MB/s\u001b[0m eta \u001b[36m0:00:00\u001b[0m\n",
            "\u001b[?25hBuilding wheels for collected packages: seqeval\n",
            "  Building wheel for seqeval (setup.py) ... \u001b[?25l\u001b[?25hdone\n",
            "  Created wheel for seqeval: filename=seqeval-1.2.2-py3-none-any.whl size=16162 sha256=2d4a1e6a4cfac854113737aa7c7db1e796809af42df04b60c24df6e12d4ab60d\n",
            "  Stored in directory: /root/.cache/pip/wheels/bc/92/f0/243288f899c2eacdfa8c5f9aede4c71a9bad0ee26a01dc5ead\n",
            "Successfully built seqeval\n",
            "Installing collected packages: xxhash, watchdog, tensorboardx, fsspec, dill, pydeck, multiprocess, seqeval, datasets, streamlit, simpletransformers\n",
            "  Attempting uninstall: fsspec\n",
            "    Found existing installation: fsspec 2025.3.2\n",
            "    Uninstalling fsspec-2025.3.2:\n",
            "      Successfully uninstalled fsspec-2025.3.2\n",
            "\u001b[31mERROR: pip's dependency resolver does not currently take into account all the packages that are installed. This behaviour is the source of the following dependency conflicts.\n",
            "torch 2.6.0+cu124 requires nvidia-cublas-cu12==12.4.5.8; platform_system == \"Linux\" and platform_machine == \"x86_64\", but you have nvidia-cublas-cu12 12.5.3.2 which is incompatible.\n",
            "torch 2.6.0+cu124 requires nvidia-cuda-cupti-cu12==12.4.127; platform_system == \"Linux\" and platform_machine == \"x86_64\", but you have nvidia-cuda-cupti-cu12 12.5.82 which is incompatible.\n",
            "torch 2.6.0+cu124 requires nvidia-cuda-nvrtc-cu12==12.4.127; platform_system == \"Linux\" and platform_machine == \"x86_64\", but you have nvidia-cuda-nvrtc-cu12 12.5.82 which is incompatible.\n",
            "torch 2.6.0+cu124 requires nvidia-cuda-runtime-cu12==12.4.127; platform_system == \"Linux\" and platform_machine == \"x86_64\", but you have nvidia-cuda-runtime-cu12 12.5.82 which is incompatible.\n",
            "torch 2.6.0+cu124 requires nvidia-cudnn-cu12==9.1.0.70; platform_system == \"Linux\" and platform_machine == \"x86_64\", but you have nvidia-cudnn-cu12 9.3.0.75 which is incompatible.\n",
            "torch 2.6.0+cu124 requires nvidia-cufft-cu12==11.2.1.3; platform_system == \"Linux\" and platform_machine == \"x86_64\", but you have nvidia-cufft-cu12 11.2.3.61 which is incompatible.\n",
            "torch 2.6.0+cu124 requires nvidia-curand-cu12==10.3.5.147; platform_system == \"Linux\" and platform_machine == \"x86_64\", but you have nvidia-curand-cu12 10.3.6.82 which is incompatible.\n",
            "torch 2.6.0+cu124 requires nvidia-cusolver-cu12==11.6.1.9; platform_system == \"Linux\" and platform_machine == \"x86_64\", but you have nvidia-cusolver-cu12 11.6.3.83 which is incompatible.\n",
            "torch 2.6.0+cu124 requires nvidia-cusparse-cu12==12.3.1.170; platform_system == \"Linux\" and platform_machine == \"x86_64\", but you have nvidia-cusparse-cu12 12.5.1.3 which is incompatible.\n",
            "torch 2.6.0+cu124 requires nvidia-nvjitlink-cu12==12.4.127; platform_system == \"Linux\" and platform_machine == \"x86_64\", but you have nvidia-nvjitlink-cu12 12.5.82 which is incompatible.\n",
            "gcsfs 2025.3.2 requires fsspec==2025.3.2, but you have fsspec 2025.3.0 which is incompatible.\u001b[0m\u001b[31m\n",
            "\u001b[0mSuccessfully installed datasets-3.6.0 dill-0.3.8 fsspec-2025.3.0 multiprocess-0.70.16 pydeck-0.9.1 seqeval-1.2.2 simpletransformers-0.70.1 streamlit-1.45.0 tensorboardx-2.6.2.2 watchdog-6.0.0 xxhash-3.5.0\n"
          ]
        }
      ],
      "source": [
        "!pip install simpletransformers"
      ]
    },
    {
      "cell_type": "code",
      "execution_count": null,
      "metadata": {
        "id": "-zwmQ5pZemJw"
      },
      "outputs": [],
      "source": [
        "from simpletransformers.classification import ClassificationModel, ClassificationArgs\n",
        "\n",
        "import os\n",
        "import json\n",
        "import math\n",
        "import random\n",
        "import pandas as pd\n",
        "from random import shuffle\n",
        "from sklearn.model_selection import train_test_split\n",
        "from sklearn.metrics import confusion_matrix, ConfusionMatrixDisplay, precision_score, recall_score, fbeta_score, precision_recall_fscore_support"
      ]
    },
    {
      "cell_type": "code",
      "execution_count": null,
      "metadata": {
        "id": "qOpXrQrgwIP0"
      },
      "outputs": [],
      "source": [
        "main_path = \"/content/drive/MyDrive/VU Thesis/Code/fine_tune\"\n",
        "data_path = \"/content/drive/MyDrive/VU Thesis/Code/fine_tune/data\""
      ]
    },
    {
      "cell_type": "code",
      "execution_count": null,
      "metadata": {
        "id": "6kAMzvubtxxV"
      },
      "outputs": [],
      "source": [
        "# Custom classification report function to use F0.5 score\n",
        "\n",
        "from sklearn.metrics import precision_score, recall_score, fbeta_score, precision_recall_fscore_support\n",
        "from sklearn.utils import _unique\n",
        "from sklearn.metrics import _classification\n",
        "from sklearn.utils import multiclass\n",
        "import warnings\n",
        "import numpy as np\n",
        "from numbers import Integral, Real\n",
        "from sklearn.utils._param_validation import (\n",
        "    Hidden,\n",
        "    Interval,\n",
        "    Options,\n",
        "    StrOptions,\n",
        "    validate_params,\n",
        ")\n",
        "\n",
        "@validate_params(\n",
        "    {\n",
        "        \"y_true\": [\"array-like\", \"sparse matrix\"],\n",
        "        \"y_pred\": [\"array-like\", \"sparse matrix\"],\n",
        "        \"labels\": [\"array-like\", None],\n",
        "        \"target_names\": [\"array-like\", None],\n",
        "        \"sample_weight\": [\"array-like\", None],\n",
        "        \"digits\": [Interval(Integral, 0, None, closed=\"left\")],\n",
        "        \"output_dict\": [\"boolean\"],\n",
        "        \"zero_division\": [\n",
        "            Options(Real, {0.0, 1.0}),\n",
        "            \"nan\",\n",
        "            StrOptions({\"warn\"}),\n",
        "        ],\n",
        "    },\n",
        "    prefer_skip_nested_validation=True,\n",
        ")\n",
        "def classification_report_f0_5(\n",
        "    y_true,\n",
        "    y_pred,\n",
        "    *,\n",
        "    labels=None,\n",
        "    target_names=None,\n",
        "    sample_weight=None,\n",
        "    digits=2,\n",
        "    output_dict=False,\n",
        "    zero_division=\"warn\",\n",
        "):\n",
        "    \"\"\"Build a text report showing the main classification metrics.\n",
        "\n",
        "    Read more in the :ref:`User Guide <classification_report>`.\n",
        "\n",
        "    Parameters\n",
        "    ----------\n",
        "    y_true : 1d array-like, or label indicator array / sparse matrix\n",
        "        Ground truth (correct) target values.\n",
        "\n",
        "    y_pred : 1d array-like, or label indicator array / sparse matrix\n",
        "        Estimated targets as returned by a classifier.\n",
        "\n",
        "    labels : array-like of shape (n_labels,), default=None\n",
        "        Optional list of label indices to include in the report.\n",
        "\n",
        "    target_names : array-like of shape (n_labels,), default=None\n",
        "        Optional display names matching the labels (same order).\n",
        "\n",
        "    sample_weight : array-like of shape (n_samples,), default=None\n",
        "        Sample weights.\n",
        "\n",
        "    digits : int, default=2\n",
        "        Number of digits for formatting output floating point values.\n",
        "        When ``output_dict`` is ``True``, this will be ignored and the\n",
        "        returned values will not be rounded.\n",
        "\n",
        "    output_dict : bool, default=False\n",
        "        If True, return output as dict.\n",
        "\n",
        "        .. versionadded:: 0.20\n",
        "\n",
        "    zero_division : {\"warn\", 0.0, 1.0, np.nan}, default=\"warn\"\n",
        "        Sets the value to return when there is a zero division. If set to\n",
        "        \"warn\", this acts as 0, but warnings are also raised.\n",
        "\n",
        "        .. versionadded:: 1.3\n",
        "           `np.nan` option was added.\n",
        "\n",
        "    Returns\n",
        "    -------\n",
        "    report : str or dict\n",
        "        Text summary of the precision, recall, F1 score for each class.\n",
        "        Dictionary returned if output_dict is True. Dictionary has the\n",
        "        following structure::\n",
        "\n",
        "            {'label 1': {'precision':0.5,\n",
        "                         'recall':1.0,\n",
        "                         'f1-score':0.67,\n",
        "                         'support':1},\n",
        "             'label 2': { ... },\n",
        "              ...\n",
        "            }\n",
        "\n",
        "        The reported averages include macro average (averaging the unweighted\n",
        "        mean per label), weighted average (averaging the support-weighted mean\n",
        "        per label), and sample average (only for multilabel classification).\n",
        "        Micro average (averaging the total true positives, false negatives and\n",
        "        false positives) is only shown for multi-label or multi-class\n",
        "        with a subset of classes, because it corresponds to accuracy\n",
        "        otherwise and would be the same for all metrics.\n",
        "        See also :func:`precision_recall_fscore_support` for more details\n",
        "        on averages.\n",
        "\n",
        "        Note that in binary classification, recall of the positive class\n",
        "        is also known as \"sensitivity\"; recall of the negative class is\n",
        "        \"specificity\".\n",
        "\n",
        "    See Also\n",
        "    --------\n",
        "    precision_recall_fscore_support: Compute precision, recall, F-measure and\n",
        "        support for each class.\n",
        "    confusion_matrix: Compute confusion matrix to evaluate the accuracy of a\n",
        "        classification.\n",
        "    multilabel_confusion_matrix: Compute a confusion matrix for each class or sample.\n",
        "\n",
        "    Examples\n",
        "    --------\n",
        "    >>> from sklearn.metrics import classification_report\n",
        "    >>> y_true = [0, 1, 2, 2, 2]\n",
        "    >>> y_pred = [0, 0, 2, 2, 1]\n",
        "    >>> target_names = ['class 0', 'class 1', 'class 2']\n",
        "    >>> print(classification_report(y_true, y_pred, target_names=target_names))\n",
        "                  precision    recall  f1-score   support\n",
        "    <BLANKLINE>\n",
        "         class 0       0.50      1.00      0.67         1\n",
        "         class 1       0.00      0.00      0.00         1\n",
        "         class 2       1.00      0.67      0.80         3\n",
        "    <BLANKLINE>\n",
        "        accuracy                           0.60         5\n",
        "       macro avg       0.50      0.56      0.49         5\n",
        "    weighted avg       0.70      0.60      0.61         5\n",
        "    <BLANKLINE>\n",
        "    >>> y_pred = [1, 1, 0]\n",
        "    >>> y_true = [1, 1, 1]\n",
        "    >>> print(classification_report(y_true, y_pred, labels=[1, 2, 3]))\n",
        "                  precision    recall  f1-score   support\n",
        "    <BLANKLINE>\n",
        "               1       1.00      0.67      0.80         3\n",
        "               2       0.00      0.00      0.00         0\n",
        "               3       0.00      0.00      0.00         0\n",
        "    <BLANKLINE>\n",
        "       micro avg       1.00      0.67      0.80         3\n",
        "       macro avg       0.33      0.22      0.27         3\n",
        "    weighted avg       1.00      0.67      0.80         3\n",
        "    <BLANKLINE>\n",
        "    \"\"\"\n",
        "\n",
        "    y_true, y_pred = _unique.attach_unique(y_true, y_pred)\n",
        "    y_type, y_true, y_pred = _classification._check_targets(y_true, y_pred)\n",
        "\n",
        "    if labels is None:\n",
        "        labels = multiclass.unique_labels(y_true, y_pred)\n",
        "        labels_given = False\n",
        "    else:\n",
        "        labels = np.asarray(labels)\n",
        "        labels_given = True\n",
        "\n",
        "    # labelled micro average\n",
        "    micro_is_accuracy = (y_type == \"multiclass\" or y_type == \"binary\") and (\n",
        "        not labels_given or (set(labels) >= set(multiclass.unique_labels(y_true, y_pred)))\n",
        "    )\n",
        "\n",
        "    if target_names is not None and len(labels) != len(target_names):\n",
        "        if labels_given:\n",
        "            warnings.warn(\n",
        "                \"labels size, {0}, does not match size of target_names, {1}\".format(\n",
        "                    len(labels), len(target_names)\n",
        "                )\n",
        "            )\n",
        "        else:\n",
        "            raise ValueError(\n",
        "                \"Number of classes, {0}, does not match size of \"\n",
        "                \"target_names, {1}. Try specifying the labels \"\n",
        "                \"parameter\".format(len(labels), len(target_names))\n",
        "            )\n",
        "    if target_names is None:\n",
        "        target_names = [\"%s\" % l for l in labels]\n",
        "\n",
        "    headers = [\"precision\", \"recall\", \"f0.5-score\", \"support\"]\n",
        "    # compute per-class results without averaging\n",
        "    p, r, f1, s = precision_recall_fscore_support(\n",
        "        y_true,\n",
        "        y_pred,\n",
        "        labels=labels,\n",
        "        beta=0.5,\n",
        "        average=None,\n",
        "        sample_weight=sample_weight,\n",
        "        zero_division=zero_division,\n",
        "    )\n",
        "    rows = zip(target_names, p, r, f1, s)\n",
        "\n",
        "    if y_type.startswith(\"multilabel\"):\n",
        "        average_options = (\"micro\", \"macro\", \"weighted\", \"samples\")\n",
        "    else:\n",
        "        average_options = (\"micro\", \"macro\", \"weighted\")\n",
        "\n",
        "    if output_dict:\n",
        "        report_dict = {label[0]: label[1:] for label in rows}\n",
        "        for label, scores in report_dict.items():\n",
        "            report_dict[label] = dict(zip(headers, [float(i) for i in scores]))\n",
        "    else:\n",
        "        longest_last_line_heading = \"weighted avg\"\n",
        "        name_width = max(len(cn) for cn in target_names)\n",
        "        width = max(name_width, len(longest_last_line_heading), digits)\n",
        "        head_fmt = \"{:>{width}s} \" + \" {:>9}\" * len(headers)\n",
        "        report = head_fmt.format(\"\", *headers, width=width)\n",
        "        report += \"\\n\\n\"\n",
        "        row_fmt = \"{:>{width}s} \" + \" {:>9.{digits}f}\" * 3 + \" {:>9}\\n\"\n",
        "        for row in rows:\n",
        "            report += row_fmt.format(*row, width=width, digits=digits)\n",
        "        report += \"\\n\"\n",
        "\n",
        "    # compute all applicable averages\n",
        "    for average in average_options:\n",
        "        if average.startswith(\"micro\") and micro_is_accuracy:\n",
        "            line_heading = \"accuracy\"\n",
        "        else:\n",
        "            line_heading = average + \" avg\"\n",
        "\n",
        "        # compute averages with specified averaging method\n",
        "        avg_p, avg_r, avg_f1, _ = precision_recall_fscore_support(\n",
        "            y_true,\n",
        "            y_pred,\n",
        "            labels=labels,\n",
        "            beta=0.5,\n",
        "            average=average,\n",
        "            sample_weight=sample_weight,\n",
        "            zero_division=zero_division,\n",
        "        )\n",
        "        avg = [avg_p, avg_r, avg_f1, np.sum(s)]\n",
        "\n",
        "        if output_dict:\n",
        "            report_dict[line_heading] = dict(zip(headers, [float(i) for i in avg]))\n",
        "        else:\n",
        "            if line_heading == \"accuracy\":\n",
        "                row_fmt_accuracy = (\n",
        "                    \"{:>{width}s} \"\n",
        "                    + \" {:>9.{digits}}\" * 2\n",
        "                    + \" {:>9.{digits}f}\"\n",
        "                    + \" {:>9}\\n\"\n",
        "                )\n",
        "                report += row_fmt_accuracy.format(\n",
        "                    line_heading, \"\", \"\", *avg[2:], width=width, digits=digits\n",
        "                )\n",
        "            else:\n",
        "                report += row_fmt.format(line_heading, *avg, width=width, digits=digits)\n",
        "\n",
        "    if output_dict:\n",
        "        if \"accuracy\" in report_dict.keys():\n",
        "            report_dict[\"accuracy\"] = report_dict[\"accuracy\"][\"precision\"]\n",
        "        return report_dict\n",
        "    else:\n",
        "        return report"
      ]
    },
    {
      "cell_type": "markdown",
      "metadata": {
        "id": "jJ5ZCQDt6soV"
      },
      "source": [
        "# FULL DATA"
      ]
    },
    {
      "cell_type": "code",
      "execution_count": null,
      "metadata": {
        "colab": {
          "base_uri": "https://localhost:8080/"
        },
        "id": "jbhKGqbTxNM5",
        "outputId": "179f3c1a-4899-4ef2-dcc4-605f92e7d66e"
      },
      "outputs": [
        {
          "name": "stdout",
          "output_type": "stream",
          "text": [
            "loading data...\n",
            "loading train_data.csv\n",
            "loading dev_data.csv\n",
            "loading data compelete.\n"
          ]
        }
      ],
      "source": [
        "print(\"loading data...\")\n",
        "\n",
        "print(\"loading train_data.csv\")\n",
        "train_df =pd.read_csv(os.path.join(data_path, \"train_data.csv\"))\n",
        "\n",
        "print(\"loading dev_data.csv\")\n",
        "dev_df =pd.read_csv(os.path.join(data_path, \"dev_data.csv\"))\n",
        "\n",
        "print(\"loading data compelete.\")"
      ]
    },
    {
      "cell_type": "markdown",
      "metadata": {
        "id": "SdZrh6wzvkW-"
      },
      "source": [
        "### Epoch 1"
      ]
    },
    {
      "cell_type": "code",
      "execution_count": null,
      "metadata": {
        "colab": {
          "base_uri": "https://localhost:8080/",
          "height": 1000,
          "referenced_widgets": [
            "bf41606e594d4b3fbddcabfc0a696d1e",
            "0c5518bcbb6e4fc7821d983e20e2bb44",
            "f580570c9bbb4713b771e37bec18aab3",
            "c1d135e3b226494689addabde9514242",
            "2cbe9178632f4d5baca1b3dbe0be7c8b",
            "312061ce50e14fa0be54ed593f17063f",
            "50f4549c788a4e63a70935d98f4cabd1",
            "6fc5c6f653e8495c9f9a936ec570feb3",
            "67220620e52c4bfbbf8091497a68e80d",
            "559f792fb2f747e9bf9a483fe3c3364c",
            "10887d0a27a24ade89b5d41d74da67d7",
            "e68da104f6e740009880e42cb106821c",
            "bf05355d5b324f569944736aa6d5e0ce",
            "6e579fe96260402095aaef475ece729c",
            "bbe6b52365cf492f8ac1f7eb85cd8a05",
            "4ccf12f6dae543e3b9ed69282d5dbcbc",
            "38a842dbd57141d39d4e97bc23c100e1",
            "96d8ffa08e1544c3bcdcd762008e5a5e",
            "4317646b65b542ffb8afae3b2ef913df",
            "b9aec014430742979383174544267b49",
            "5a2ae68c160242a182344b85e2802197",
            "d43e793d66924fb78a9ae2963ec7dffe",
            "3d676f8b17694f2a9ab7ea09a5337033",
            "361792fb57684de4910ad129c83ff65e",
            "91d44bc0e8214a00849ffe746a1e422a",
            "8938f177b37a4676b32e099b32206271",
            "0f1d12b7238a4fc7bef9c81937c842b8",
            "e7e98608e9d84a1d87f8d849eb7c0273",
            "83093af5a84c40cfbce8fbc92b69790e",
            "27e0c5c19b6f4fa883eaa5f1e73503e5",
            "4db1a6c680614651aaebc67772274e32",
            "4a676193449e4c238966eb1fe7fbb944",
            "b5db64c631804053924212eda8e8531e",
            "eeb254258ff0449b942bf2e6a50ccf5b",
            "952b7e92f6da4f60bb0e3117f0e1fa00",
            "670b9da7f5904b1a82f5aeb10e1fcfec",
            "23a8d9f99f244f85b6da625b002fd878",
            "7f45ab9ccfc8468693a7433d9f00bc0e",
            "366380bc8cd24eb184791cde6267f8b4",
            "c5c5f8fa074046a79b7e07b92ab8f32b",
            "39955db8efa04e01aa40ee0f33a43d47",
            "6acbcee409b540a2af91a43eb09c2f50",
            "5cf41025a0fb498cb3f8788513020973",
            "34bcea3635bb48b79db48973ad0ebcaf",
            "c056ef2c8d514014b54647006c119faa",
            "ea70b174ef2b49e6bb075f86eeb08bb9",
            "46db2c02badb4ce084891ab4feaf3885",
            "2c403d43b54a4802af80a51d50a24819",
            "4f7af75609ef4d819b952e8f0cdd7a2d",
            "4242e138a59f4915a091b1af39a27217",
            "5a8532f6bb474f619ac81198fbd739f9",
            "401ea98053554d859c0febf94c76e022",
            "32c5d711501a4d2db82a11487524470d",
            "13e999290d3e44069c8301acbfb980e8",
            "3d242570094a48c39edb6ddc3f61c51e",
            "0d1d3a425cb4461b85cbccf3a6ea66cc",
            "dc67304af65a42199828d16bbae4e76f",
            "db201849c6554c6eb09a3ee7153afed4",
            "a650bca156834e56bd1ece02f268c238",
            "fb69ed94cfde49ffa4a08c9176da546d",
            "4095fd9e87e84310b99c8cf0a2841dde",
            "0dc82a9a4ff348c7ad9446f62689c808",
            "f17d2fd983ac4693b1c782669fb85a6d",
            "2db0bb89108641ceb4a2a008f233cb63",
            "494afa1df34a499594806dfec0a981d3",
            "5bca9047c4124d15b37520cabf8dc4e8",
            "36ee8e9a07cc47d9916ca867a8d99680",
            "391cd737107f4fa08fb2b6343a145d7a",
            "f7eb3cd19cce4279a573051a66ec2ced",
            "73e3152bce914b6e966a52b90829475d",
            "48baa841087545ea9cc0ef0257466f11",
            "30bec6613c91418f834c8907bdc30e26",
            "4bbe6ebf96cc4129929a4868b8fc79b9",
            "374a9ce7141c4d3bb68b15cf972d7848",
            "ba3ac692245e47febba0277bddcca700",
            "32f985209d00469e991c0f3c91492153",
            "702ae8bfddf744acb1f45871dbe9a0a4",
            "1eb31b8db85f486289db856b6494d134",
            "dbf8d578e7e048c99d0055fa48f19087",
            "2516dabb90cf484b96fef4b87ccbd256",
            "8ff3f38acf084620b3c4cc2d19b70b89",
            "5a643e53b0294e328e1b331f2527a016",
            "57136adb8d144bfb962a5239658e1a0b",
            "514210a6207a4b40a4e0145ca8985aff",
            "3c63cdda0e4841fdbb6bd932b9703f2e",
            "f29ea664e89e4008b70eae4699a73f2b",
            "e7fc9594714648cbb3cd51f39ba5f285",
            "23fa316551a0487f8b793764ecf55246",
            "818e3c835fdd453783f58bf9ad0f39b2",
            "1ecba2eaadc341259de57e698d8df401",
            "2ca49544927344389882866085102016",
            "e14f67da8f684b4b9801a1fd464c01d3",
            "d8eb9db0e9474cc18ed137d0dbb1c603",
            "67848ed714d848db9926da79d716f78d",
            "665a357952b04e439d7861b136f0975a",
            "8b1f2e43f3df4ad688f090d0e6199b30",
            "f82dc99af85e43d093009e990ccc7393",
            "7626effcdb7c413bbab124fc720e4879",
            "8932bfa2054441abb754076263007492",
            "b0da691d7ed2472baa05c9b7beb49ebf",
            "80a36730c3bb4ca98b9fa05ae55f28f9",
            "a42ae2ea984f48ee94a552482b827c8a",
            "3b25789d39a04c90898250644aed882c",
            "660d17aa0a9e4714a4612d7cb434b440",
            "943999cc6f7244c09d66f0b0c007fbd9",
            "409262147361429fa15309856b3febef",
            "43e0d061b0854e1ba4a2428b04c32ef9",
            "2f0427c595f3444eaff1305d64faab42",
            "f2a50f3173d34ca9bb8ba3f020660607",
            "42d6f43671f54eef8c7d6b331bb3dd26",
            "7d8dc65ef6e54c98a25ece748caf53db",
            "ee4d92dcaf434dbb85df1dc3671cdeb7",
            "6e7f75b5132b415cbe79986fb40be0ca",
            "edfe808a85f445a78b79a40805157e95",
            "01855e6710d14c7894a2e4b6b130a974",
            "dd46373b6c194a15ad51deae9aec9203",
            "768bc75ff37a4eb28c3f7cd1f5908c93",
            "15c88a12a6704a62aca459818dbcaf68",
            "ef3fb70811d341ce901b4b2956834c75",
            "e0c07342c57a489e99723a161e1ff6a6",
            "7bce3508acf14c349d7db6676937ce61",
            "8783fae160b2464d893f3b449d8bbbbe",
            "7c6136607e6d42c183b093540c9561e3",
            "96dcd62c409c4c159be0c5192557c5de",
            "d63e056e46f44f13abe54d4273abe2d3",
            "cad11869433142758f4197442fd8f7c3",
            "3a111aa59c54435c86b9a46ef26fa211",
            "ec4e344ae73341fc9c56061ea8f80d56",
            "ba4509ee2d76454b80a3977640006024",
            "f57acd01e1154da1a1ae2f5933a27454",
            "f2e16b94fc9142acba169347272459f1",
            "e3a1e5f8220144749ef0fce4ecf7e3a7",
            "02961e64837d4543979f2a1b169d211a",
            "3d52e15f29e14140b20aff8c68cf5415",
            "318e6c0475a043988b8f107f4dc363a2",
            "aa887bd71e7f4cea9fbf41a16d0bd4d4",
            "89d8fc77020e44b18a91d8cffe9e1b9a",
            "ee1c1f8452a94c6e927c4c4a47af43eb",
            "f82c7b1342eb4b5488098a376e590389",
            "07ff1cc2ab0641898fe1892c64a38321",
            "e2044804098f45b0a62966d8d53ae661",
            "299f5446cd1e42e593aac01a6c2ae2ed",
            "107d731cbbe14b89bb8110ebe63c51db",
            "169e75254c874057a41cdc4f397480ee",
            "17dcc6ebe0684a6c84bed1ce31df29e2",
            "3c329a49bc8d4cc9b4aecaeedf76b1a1",
            "46d1ce79f435410c9a1aef66589de7ae",
            "34fdfb9dc82a40eca454fbbc11603c24",
            "8a554ec8bd0e4e4993e5ef00d63eb0a6",
            "78cfba02dcdb45f4aa5800b6ce9d22f3",
            "03e997e4b80743f5baeabcb71d7808da",
            "60e7b901fbc34ddbb8df330fe238b3e7",
            "b2ef5e2a8a654ea0ba026024121fd632",
            "890a5a50ae1445dd9251fc399c17c43b",
            "ace2553fcc944036be44756a5a4ef9ec",
            "129722aab40744c683e85cdd7386662f",
            "6f8f03cb873840069da956f29886fbed",
            "5ec66d1de0224d5c89706a965dac1b53",
            "c132eafd232c468eab078fa15a690397",
            "e45b9dc0d622483f8027e645c052698b",
            "5c7e3e6e2dd748a7a492144878623568",
            "c081c3c7812a469891930face37fedfc",
            "23c9416ac2394955bec939f6a8c00fb8",
            "3c07485ec3344aa5b9b06b8f50c83e34",
            "28c2580da42943a5b4b214305ceeb57d",
            "795aa44b242141688b25ef9ea1301fd1",
            "d982ef0f3e8d4d608680285963df5c28",
            "e1b9c9a6c4d34ae9a21c413e792bb6c4",
            "254df6481ef048bb9fc30dc650a9a4b4",
            "60ed123e2ae1402eb76517d23d694804",
            "0b12b8713ba24d498fc92aa92648a0be",
            "169da9d900f04eb8a18738b365c33972",
            "3790dd30298a47039f5293c03ec76cc7",
            "c1a1c2bc8d5348819e681b73976e705b",
            "81e022234be44d039016112aeb010fe8",
            "63774887e9c3412a9f504f0b02bd0896",
            "c45873a4d0fa438fbe2ff6ee3a88390c",
            "c1a2e9df6fbf49f8b2589de68c6b84c9",
            "da2ee99304b04c38a299b43410c92f13",
            "0afa69485ea14c7cb4b96eee817da27d",
            "9185388eee254d4fa25612c2455d7130",
            "abdaca851cb04524b20d0b3d3edceda7",
            "a0d7a3d5f4484f77a186c9b76137a5c8",
            "fdddb162ebb94337830b24e2816ab252",
            "bc4cc358a8894602824b630d61c5a7cc",
            "7877f728b3dc4ca7b33bd87fe97f646b",
            "4ccc7df6ea2242e3948fe68060d1d446",
            "62985148b5264c50918341e684c74d01",
            "38410d9f5ef444da91570d4b7ba42c9d",
            "e70c4713d3ef4c2eaa9e02d4a6841c76",
            "965be0bf1aa544ee84049060299fff29",
            "ecc0c0071651490db290c16c8056f12a",
            "6de2c56ee8e7483f916827d46fb0488e",
            "53df40d7a5d2434ca5d4cdd0f12f3829",
            "38629ff3a8ce4fae97e65407f55b0241",
            "e5f39ecaac194143a9dbc5062ae60f1e",
            "c5e21136a2684e6aa9c8b5dbce5af7a1",
            "302476913fd249debc78fef5d439494c",
            "9eba43d010e24d80974f6223358fc911",
            "ee63e56b8942465495276322e2ce8fcf",
            "b1b961c0c99c4fb59370e90e25a483f9",
            "0f351a4d03924fc386e9586356e81372",
            "015af7a7465d47dbaf600fb40f36ce0b",
            "e170d4aade844f4d9693fe821d0fa278",
            "bf4c4c176e954aa38286e686995000a9",
            "87d2bb55258146199d08b6df319eb5ac",
            "d54ba14008ab46e0b7d9cd7148cb6078",
            "da143c3875d94ccf93dc311a81105bea",
            "211f01ea7ef44251bfc1cdf2a244d7c7",
            "dda0779ed12241b081c6253e75649a9f",
            "0582882d07974f319c5f01ee2bd632e3",
            "dc9f77ff88bd428d9998ae46edbf3029",
            "67ccc073aaaa4b70923770c1ffc32253",
            "7058d2d63c12465d9b60ec7c99be11ba",
            "0d4624aa1b3e44dda3863b74cf7a11ac",
            "7a41b8078c0240d2bce7c162bf9085e5",
            "6647f6508fae48bd9874851c2c08b569",
            "107f8ea5b785415890891ec2296b3038",
            "2dd1a541e2744a2090f76485042c76e3",
            "603bbf6f37b24ee0aaa9e9d576b6cfee",
            "59be20cc6fee4b92ad9d79a99f1bf6ba",
            "cadb42b38ce440cda06b34e3429bd9a8",
            "fd6a89c42abe4dfaad51eeec06905420",
            "5bfe2b626e1f482e9c32533a25b90fe1",
            "acb675ce84f5450c9e1229037304d163",
            "b088ba9ebf584c08838fdcdf77c123b4",
            "3a8b51bf404744c8afdbccb63629ef55",
            "16e5b83f067749feac899abb61351c80",
            "4ac39829316647e0902293158f31cd36",
            "42b36f79e4274ab48ec672e5c59cf096",
            "df9d7501e1874686b8e61cfe9ec10bf3",
            "51a39922c6b14d8192b16f44fd2b64c9",
            "603d1e83d6824dadaad5b5e922cb9593",
            "a66c41183bf440a99d6e494be5714201",
            "9fa7da9d0e824a0b8563e2988110024e",
            "9662566c10a244f485253c85262f4cd5",
            "efa317609303467ebf8e3ead734c3881",
            "8da85f46656a4a158c2a6dd9ed50e2eb",
            "c56e5eefc4f84df9ae4a5abfdf3addf6",
            "a07eeaf41f8d46b08dbaf49a0bbaa1e0",
            "46d774a7a6f54f40af272390ddb1c05d",
            "f52ed4510dd54ae8bcf139eab7dc19d9",
            "83914b32af944899b2f9164cf9040cfe",
            "29324db23f93405aba1b8b925c01dfa5",
            "d7911089376d4957a505f8c778017004",
            "7a0c9b279e554220a3be195a8de2653b",
            "d413832ce31f4b189aadf3da1ac801fc",
            "e60420d91347418ebef6dd6a739af5db",
            "e40f14bea12e42189eabc0cc43a73b22",
            "42157a069f984759afe755a9d0be1990",
            "0489dc0df87641d0a01787a91bd847b4",
            "169c26c9fb0949a195af787629f454be",
            "9c499a1f8c1445f8a8d9eb35261db741",
            "1e89a4cef57e4082ac7be22b06a7ae90",
            "5b294467771442d4b1f90bb2f11a2fee",
            "6d1b2709be574c58888cb33498f8f196",
            "54380c7c590c44c3a193fffbc2e62748",
            "74f8a4ce6f884816ba11103b9d073dfa",
            "2431d93784a541d6a8e707cae71db65b",
            "26818a3782164522a07e09a486f20aef",
            "2048e5169974420bba57ee7433ca071d",
            "f09676282d2c4b44a41fce19cb209431",
            "d90f87724f264c69a2fea814e3c1bf9c",
            "777f8c6c9fe84c6687f4617b1debb0fc",
            "fedb3f0b4afc4db688ea3e82713afdf0",
            "83925bae53c24c879a8b19d4cb99b1fd",
            "3ae4d2dcdf894f82b0c706715b6b63dc",
            "c846f90aa07b49ba868f27b7694f35e7",
            "ea96ba44e37e4afcbeef5743efd137f7",
            "55d849c0182140c9807c08fcfde725d2",
            "2d9b10fdfb0f46938ef55f11fa803154",
            "28e24a93612b420983d3193de75d8ae0",
            "f7f9ad5074ce4625bd08b21bcc9af611",
            "e53cd6e92cae4e168661e338283dbb99",
            "1cfbe0227e124d3bbfeaac9a8d1cfa0d",
            "417dbd828ac44dc4ae16341ec1c80733",
            "2b36db0886ad45b0850939d72a247e97",
            "5ef9b4329c7041f9b7df1dbdbe416321",
            "0f8619d0255141be8db49fb31d016327",
            "4b04cb3a6ef949ad926ecda600e397e0",
            "0975c5e9541049369ba3483df14a6808",
            "db9341d60c714a28afb966e708700d5d",
            "94c59b176cab4954b0310980bb5f60c9",
            "2be701388cd8425283744c80fa17a9bc",
            "f21fd0d4a3284c90a8a5b08a77cdcc1c",
            "da7a710191854be08a5edbe5df213723",
            "4574995f17024b9c935eef5288e27177",
            "d605d8f56e634bb29ce3ed8808a32e3c",
            "5f255d87b79b4a1ab375a63e3ebb9661",
            "7b6b32b37aeb4558bf82ccc113409e71",
            "7e419f654636472e83ec743bfbd65732",
            "5401c190bdcf443383ece96ff54f22a3",
            "112112df13ad4076aba83028ea06211e",
            "d34235216a0843ad87b656a5229ec55e",
            "3989447182534f75802606a7fe528f52",
            "fdd2d86b1eb1495e8c0179d189be61d7",
            "3c04ab58097446f0a440d12a4b51f707",
            "e024d25f8b6949d2b428a4bde9c90cda",
            "fd7b454f759a4be0ad6f3c1730a771c3",
            "f657a2b1b5b04abfbeb5a97f70d270a3",
            "4d9f325c4d2343b4ae0560dfe9135a30",
            "cc5483c5f5cc4d2e89d9ba55c9456137",
            "980353e8857d4cfea57bab333272a102",
            "7382406cb67b4162b4615adaccd43e6a",
            "a1b5ec3a70af496ca4eb8404c36e3e00",
            "9636f7585d814dd8ad081707acc61db0",
            "9f9b08c1e67147dea8610f025c504439",
            "95a830209e44423ca8fc3f60557d7375",
            "159a6e8a7ffb4ffbacdd7e0bc012cdc1",
            "4969601d7844456da2686b6fcc6402f7",
            "724e69eac1b143f183b979bee0453c79",
            "1f2ea7c2af324150992a3ed22a7e32f9",
            "b38689d88006411dab8fce8ddb6e57f8",
            "e03ca70b9c284e3f99bda7589908a64e",
            "390fa296d9824a2a967fd1a311b23034",
            "ba35b4dfcc47438f85bd7efee9346eb0",
            "c20846f4c79d495ab8acb779dadf8f64",
            "a8f551e340fb44598bb631fe97bbb060",
            "e0bf3fe465a84950baae1bec33af806e",
            "170535a533be4bf2b385b21613dbe4de",
            "98a68fbc3311457b9d0e5ccef057412a",
            "a5d500d76f7f411dbf85b59c220b5537",
            "1bb4db47665e44b09155f0bbfc9e38c2",
            "e190bcd8b1594eeb9eb88945da36f046",
            "dab6f42c275e4fd5bed43e78bf2ac8e1",
            "4ba77b0582904a529338cf81e23ead34",
            "39fe8b0bf0094abd929ebf831fa1d3db",
            "0918426fa3d44c46a802aeca7b4a7457",
            "ae8d5056ce994f54b59eee5082746076",
            "19b3ac1e74a54fe8a171bb479ffc862b",
            "4c62a4e2b96d453baef6f24ab246f525",
            "bcc77f15b2904780b027c06ff433c9dd",
            "95cbe3dd72794bd598188e7b6e6e1a54",
            "0d673dfe2d7e49e3aabe4531db44784e",
            "fe55ca1c4c154d0da0fedf2174940fb3",
            "a77c575f287b4d5b81f6eb287bbfef9f",
            "6a346a55a51348dbaa3c70b500714742",
            "5248b757c203453d9b48073909b5c272",
            "5a8c42d704724aa480ec95cce82dd75b",
            "2a0f16d9bba8423da286fb4bcce2b961",
            "515d9da18cca4ff0b096650a1b25ca5c",
            "0b87c77377584453b67ae71e8b0a9c54",
            "b65c70df39514935b295f87d2d26c5a8",
            "fdaa1ed9fbbc4ef68ce687a32fb925d7",
            "a07ab2fa80cf47cfb07e73d4d1d6b006",
            "902b9c5c3af4424f82ae7c0f7eb04c32",
            "777010a492f64134bcf1f3b401959526",
            "f129bf5922b94e37a781f244ebf40a8d",
            "6a8d85040c14485d8effa244c73c2015",
            "7a15aa2dc20d47f38aa5738aded6c6bc",
            "2332ab7f6646408082ab49d3b83f953e",
            "f0b5c8b660da48fbb51567a60df7c121"
          ]
        },
        "id": "GSEPPqCjtztw",
        "outputId": "6eaca7b4-4933-4561-b253-b3e0cfa903d4"
      },
      "outputs": [
        {
          "name": "stderr",
          "output_type": "stream",
          "text": [
            "Some weights of RobertaForSequenceClassification were not initialized from the model checkpoint at /content/drive/MyDrive/VU Thesis/Code/baby_models/V20L4/model_e1_v20_l4 and are newly initialized: ['classifier.dense.bias', 'classifier.dense.weight', 'classifier.out_proj.bias', 'classifier.out_proj.weight']\n",
            "You should probably TRAIN this model on a down-stream task to be able to use it for predictions and inference.\n"
          ]
        },
        {
          "data": {
            "application/vnd.jupyter.widget-view+json": {
              "model_id": "bf41606e594d4b3fbddcabfc0a696d1e",
              "version_major": 2,
              "version_minor": 0
            },
            "text/plain": [
              "  0%|          | 0/41 [00:00<?, ?it/s]"
            ]
          },
          "metadata": {},
          "output_type": "display_data"
        },
        {
          "data": {
            "application/vnd.jupyter.widget-view+json": {
              "model_id": "e68da104f6e740009880e42cb106821c",
              "version_major": 2,
              "version_minor": 0
            },
            "text/plain": [
              "Epoch:   0%|          | 0/10 [00:00<?, ?it/s]"
            ]
          },
          "metadata": {},
          "output_type": "display_data"
        },
        {
          "name": "stderr",
          "output_type": "stream",
          "text": [
            "/usr/local/lib/python3.11/dist-packages/simpletransformers/classification/classification_model.py:882: FutureWarning: `torch.cuda.amp.GradScaler(args...)` is deprecated. Please use `torch.amp.GradScaler('cuda', args...)` instead.\n",
            "  scaler = amp.GradScaler()\n"
          ]
        },
        {
          "data": {
            "application/vnd.jupyter.widget-view+json": {
              "model_id": "3d676f8b17694f2a9ab7ea09a5337033",
              "version_major": 2,
              "version_minor": 0
            },
            "text/plain": [
              "Running Epoch 1 of 10:   0%|          | 0/2621 [00:00<?, ?it/s]"
            ]
          },
          "metadata": {},
          "output_type": "display_data"
        },
        {
          "name": "stderr",
          "output_type": "stream",
          "text": [
            "/usr/local/lib/python3.11/dist-packages/simpletransformers/classification/classification_model.py:905: FutureWarning: `torch.cuda.amp.autocast(args...)` is deprecated. Please use `torch.amp.autocast('cuda', args...)` instead.\n",
            "  with amp.autocast():\n"
          ]
        },
        {
          "data": {
            "application/vnd.jupyter.widget-view+json": {
              "model_id": "eeb254258ff0449b942bf2e6a50ccf5b",
              "version_major": 2,
              "version_minor": 0
            },
            "text/plain": [
              "  0%|          | 0/13 [00:00<?, ?it/s]"
            ]
          },
          "metadata": {},
          "output_type": "display_data"
        },
        {
          "name": "stderr",
          "output_type": "stream",
          "text": [
            "/usr/local/lib/python3.11/dist-packages/simpletransformers/classification/classification_model.py:1505: FutureWarning: `torch.cuda.amp.autocast(args...)` is deprecated. Please use `torch.amp.autocast('cuda', args...)` instead.\n",
            "  with amp.autocast():\n"
          ]
        },
        {
          "data": {
            "application/vnd.jupyter.widget-view+json": {
              "model_id": "c056ef2c8d514014b54647006c119faa",
              "version_major": 2,
              "version_minor": 0
            },
            "text/plain": [
              "  0%|          | 0/13 [00:00<?, ?it/s]"
            ]
          },
          "metadata": {},
          "output_type": "display_data"
        },
        {
          "name": "stderr",
          "output_type": "stream",
          "text": [
            "/usr/local/lib/python3.11/dist-packages/simpletransformers/classification/classification_model.py:1505: FutureWarning: `torch.cuda.amp.autocast(args...)` is deprecated. Please use `torch.amp.autocast('cuda', args...)` instead.\n",
            "  with amp.autocast():\n"
          ]
        },
        {
          "data": {
            "application/vnd.jupyter.widget-view+json": {
              "model_id": "0d1d3a425cb4461b85cbccf3a6ea66cc",
              "version_major": 2,
              "version_minor": 0
            },
            "text/plain": [
              "Running Epoch 2 of 10:   0%|          | 0/2621 [00:00<?, ?it/s]"
            ]
          },
          "metadata": {},
          "output_type": "display_data"
        },
        {
          "name": "stderr",
          "output_type": "stream",
          "text": [
            "/usr/local/lib/python3.11/dist-packages/simpletransformers/classification/classification_model.py:905: FutureWarning: `torch.cuda.amp.autocast(args...)` is deprecated. Please use `torch.amp.autocast('cuda', args...)` instead.\n",
            "  with amp.autocast():\n"
          ]
        },
        {
          "data": {
            "application/vnd.jupyter.widget-view+json": {
              "model_id": "36ee8e9a07cc47d9916ca867a8d99680",
              "version_major": 2,
              "version_minor": 0
            },
            "text/plain": [
              "  0%|          | 0/13 [00:00<?, ?it/s]"
            ]
          },
          "metadata": {},
          "output_type": "display_data"
        },
        {
          "name": "stderr",
          "output_type": "stream",
          "text": [
            "/usr/local/lib/python3.11/dist-packages/simpletransformers/classification/classification_model.py:1505: FutureWarning: `torch.cuda.amp.autocast(args...)` is deprecated. Please use `torch.amp.autocast('cuda', args...)` instead.\n",
            "  with amp.autocast():\n"
          ]
        },
        {
          "data": {
            "application/vnd.jupyter.widget-view+json": {
              "model_id": "1eb31b8db85f486289db856b6494d134",
              "version_major": 2,
              "version_minor": 0
            },
            "text/plain": [
              "  0%|          | 0/13 [00:00<?, ?it/s]"
            ]
          },
          "metadata": {},
          "output_type": "display_data"
        },
        {
          "name": "stderr",
          "output_type": "stream",
          "text": [
            "/usr/local/lib/python3.11/dist-packages/simpletransformers/classification/classification_model.py:1505: FutureWarning: `torch.cuda.amp.autocast(args...)` is deprecated. Please use `torch.amp.autocast('cuda', args...)` instead.\n",
            "  with amp.autocast():\n"
          ]
        },
        {
          "data": {
            "application/vnd.jupyter.widget-view+json": {
              "model_id": "818e3c835fdd453783f58bf9ad0f39b2",
              "version_major": 2,
              "version_minor": 0
            },
            "text/plain": [
              "Running Epoch 3 of 10:   0%|          | 0/2621 [00:00<?, ?it/s]"
            ]
          },
          "metadata": {},
          "output_type": "display_data"
        },
        {
          "name": "stderr",
          "output_type": "stream",
          "text": [
            "/usr/local/lib/python3.11/dist-packages/simpletransformers/classification/classification_model.py:905: FutureWarning: `torch.cuda.amp.autocast(args...)` is deprecated. Please use `torch.amp.autocast('cuda', args...)` instead.\n",
            "  with amp.autocast():\n"
          ]
        },
        {
          "data": {
            "application/vnd.jupyter.widget-view+json": {
              "model_id": "b0da691d7ed2472baa05c9b7beb49ebf",
              "version_major": 2,
              "version_minor": 0
            },
            "text/plain": [
              "  0%|          | 0/13 [00:00<?, ?it/s]"
            ]
          },
          "metadata": {},
          "output_type": "display_data"
        },
        {
          "name": "stderr",
          "output_type": "stream",
          "text": [
            "/usr/local/lib/python3.11/dist-packages/simpletransformers/classification/classification_model.py:1505: FutureWarning: `torch.cuda.amp.autocast(args...)` is deprecated. Please use `torch.amp.autocast('cuda', args...)` instead.\n",
            "  with amp.autocast():\n"
          ]
        },
        {
          "data": {
            "application/vnd.jupyter.widget-view+json": {
              "model_id": "7d8dc65ef6e54c98a25ece748caf53db",
              "version_major": 2,
              "version_minor": 0
            },
            "text/plain": [
              "  0%|          | 0/13 [00:00<?, ?it/s]"
            ]
          },
          "metadata": {},
          "output_type": "display_data"
        },
        {
          "name": "stderr",
          "output_type": "stream",
          "text": [
            "/usr/local/lib/python3.11/dist-packages/simpletransformers/classification/classification_model.py:1505: FutureWarning: `torch.cuda.amp.autocast(args...)` is deprecated. Please use `torch.amp.autocast('cuda', args...)` instead.\n",
            "  with amp.autocast():\n"
          ]
        },
        {
          "data": {
            "application/vnd.jupyter.widget-view+json": {
              "model_id": "8783fae160b2464d893f3b449d8bbbbe",
              "version_major": 2,
              "version_minor": 0
            },
            "text/plain": [
              "Running Epoch 4 of 10:   0%|          | 0/2621 [00:00<?, ?it/s]"
            ]
          },
          "metadata": {},
          "output_type": "display_data"
        },
        {
          "name": "stderr",
          "output_type": "stream",
          "text": [
            "/usr/local/lib/python3.11/dist-packages/simpletransformers/classification/classification_model.py:905: FutureWarning: `torch.cuda.amp.autocast(args...)` is deprecated. Please use `torch.amp.autocast('cuda', args...)` instead.\n",
            "  with amp.autocast():\n"
          ]
        },
        {
          "data": {
            "application/vnd.jupyter.widget-view+json": {
              "model_id": "02961e64837d4543979f2a1b169d211a",
              "version_major": 2,
              "version_minor": 0
            },
            "text/plain": [
              "  0%|          | 0/13 [00:00<?, ?it/s]"
            ]
          },
          "metadata": {},
          "output_type": "display_data"
        },
        {
          "name": "stderr",
          "output_type": "stream",
          "text": [
            "/usr/local/lib/python3.11/dist-packages/simpletransformers/classification/classification_model.py:1505: FutureWarning: `torch.cuda.amp.autocast(args...)` is deprecated. Please use `torch.amp.autocast('cuda', args...)` instead.\n",
            "  with amp.autocast():\n"
          ]
        },
        {
          "data": {
            "application/vnd.jupyter.widget-view+json": {
              "model_id": "169e75254c874057a41cdc4f397480ee",
              "version_major": 2,
              "version_minor": 0
            },
            "text/plain": [
              "  0%|          | 0/13 [00:00<?, ?it/s]"
            ]
          },
          "metadata": {},
          "output_type": "display_data"
        },
        {
          "name": "stderr",
          "output_type": "stream",
          "text": [
            "/usr/local/lib/python3.11/dist-packages/simpletransformers/classification/classification_model.py:1505: FutureWarning: `torch.cuda.amp.autocast(args...)` is deprecated. Please use `torch.amp.autocast('cuda', args...)` instead.\n",
            "  with amp.autocast():\n"
          ]
        },
        {
          "data": {
            "application/vnd.jupyter.widget-view+json": {
              "model_id": "ace2553fcc944036be44756a5a4ef9ec",
              "version_major": 2,
              "version_minor": 0
            },
            "text/plain": [
              "Running Epoch 5 of 10:   0%|          | 0/2621 [00:00<?, ?it/s]"
            ]
          },
          "metadata": {},
          "output_type": "display_data"
        },
        {
          "name": "stderr",
          "output_type": "stream",
          "text": [
            "/usr/local/lib/python3.11/dist-packages/simpletransformers/classification/classification_model.py:905: FutureWarning: `torch.cuda.amp.autocast(args...)` is deprecated. Please use `torch.amp.autocast('cuda', args...)` instead.\n",
            "  with amp.autocast():\n"
          ]
        },
        {
          "data": {
            "application/vnd.jupyter.widget-view+json": {
              "model_id": "795aa44b242141688b25ef9ea1301fd1",
              "version_major": 2,
              "version_minor": 0
            },
            "text/plain": [
              "  0%|          | 0/13 [00:00<?, ?it/s]"
            ]
          },
          "metadata": {},
          "output_type": "display_data"
        },
        {
          "name": "stderr",
          "output_type": "stream",
          "text": [
            "/usr/local/lib/python3.11/dist-packages/simpletransformers/classification/classification_model.py:1505: FutureWarning: `torch.cuda.amp.autocast(args...)` is deprecated. Please use `torch.amp.autocast('cuda', args...)` instead.\n",
            "  with amp.autocast():\n"
          ]
        },
        {
          "data": {
            "application/vnd.jupyter.widget-view+json": {
              "model_id": "c45873a4d0fa438fbe2ff6ee3a88390c",
              "version_major": 2,
              "version_minor": 0
            },
            "text/plain": [
              "  0%|          | 0/13 [00:00<?, ?it/s]"
            ]
          },
          "metadata": {},
          "output_type": "display_data"
        },
        {
          "name": "stderr",
          "output_type": "stream",
          "text": [
            "/usr/local/lib/python3.11/dist-packages/simpletransformers/classification/classification_model.py:1505: FutureWarning: `torch.cuda.amp.autocast(args...)` is deprecated. Please use `torch.amp.autocast('cuda', args...)` instead.\n",
            "  with amp.autocast():\n"
          ]
        },
        {
          "data": {
            "application/vnd.jupyter.widget-view+json": {
              "model_id": "62985148b5264c50918341e684c74d01",
              "version_major": 2,
              "version_minor": 0
            },
            "text/plain": [
              "Running Epoch 6 of 10:   0%|          | 0/2621 [00:00<?, ?it/s]"
            ]
          },
          "metadata": {},
          "output_type": "display_data"
        },
        {
          "name": "stderr",
          "output_type": "stream",
          "text": [
            "/usr/local/lib/python3.11/dist-packages/simpletransformers/classification/classification_model.py:905: FutureWarning: `torch.cuda.amp.autocast(args...)` is deprecated. Please use `torch.amp.autocast('cuda', args...)` instead.\n",
            "  with amp.autocast():\n"
          ]
        },
        {
          "data": {
            "application/vnd.jupyter.widget-view+json": {
              "model_id": "9eba43d010e24d80974f6223358fc911",
              "version_major": 2,
              "version_minor": 0
            },
            "text/plain": [
              "  0%|          | 0/13 [00:00<?, ?it/s]"
            ]
          },
          "metadata": {},
          "output_type": "display_data"
        },
        {
          "name": "stderr",
          "output_type": "stream",
          "text": [
            "/usr/local/lib/python3.11/dist-packages/simpletransformers/classification/classification_model.py:1505: FutureWarning: `torch.cuda.amp.autocast(args...)` is deprecated. Please use `torch.amp.autocast('cuda', args...)` instead.\n",
            "  with amp.autocast():\n"
          ]
        },
        {
          "data": {
            "application/vnd.jupyter.widget-view+json": {
              "model_id": "dda0779ed12241b081c6253e75649a9f",
              "version_major": 2,
              "version_minor": 0
            },
            "text/plain": [
              "  0%|          | 0/13 [00:00<?, ?it/s]"
            ]
          },
          "metadata": {},
          "output_type": "display_data"
        },
        {
          "name": "stderr",
          "output_type": "stream",
          "text": [
            "/usr/local/lib/python3.11/dist-packages/simpletransformers/classification/classification_model.py:1505: FutureWarning: `torch.cuda.amp.autocast(args...)` is deprecated. Please use `torch.amp.autocast('cuda', args...)` instead.\n",
            "  with amp.autocast():\n"
          ]
        },
        {
          "data": {
            "application/vnd.jupyter.widget-view+json": {
              "model_id": "59be20cc6fee4b92ad9d79a99f1bf6ba",
              "version_major": 2,
              "version_minor": 0
            },
            "text/plain": [
              "Running Epoch 7 of 10:   0%|          | 0/2621 [00:00<?, ?it/s]"
            ]
          },
          "metadata": {},
          "output_type": "display_data"
        },
        {
          "name": "stderr",
          "output_type": "stream",
          "text": [
            "/usr/local/lib/python3.11/dist-packages/simpletransformers/classification/classification_model.py:905: FutureWarning: `torch.cuda.amp.autocast(args...)` is deprecated. Please use `torch.amp.autocast('cuda', args...)` instead.\n",
            "  with amp.autocast():\n"
          ]
        },
        {
          "data": {
            "application/vnd.jupyter.widget-view+json": {
              "model_id": "51a39922c6b14d8192b16f44fd2b64c9",
              "version_major": 2,
              "version_minor": 0
            },
            "text/plain": [
              "  0%|          | 0/13 [00:00<?, ?it/s]"
            ]
          },
          "metadata": {},
          "output_type": "display_data"
        },
        {
          "name": "stderr",
          "output_type": "stream",
          "text": [
            "/usr/local/lib/python3.11/dist-packages/simpletransformers/classification/classification_model.py:1505: FutureWarning: `torch.cuda.amp.autocast(args...)` is deprecated. Please use `torch.amp.autocast('cuda', args...)` instead.\n",
            "  with amp.autocast():\n"
          ]
        },
        {
          "data": {
            "application/vnd.jupyter.widget-view+json": {
              "model_id": "83914b32af944899b2f9164cf9040cfe",
              "version_major": 2,
              "version_minor": 0
            },
            "text/plain": [
              "  0%|          | 0/13 [00:00<?, ?it/s]"
            ]
          },
          "metadata": {},
          "output_type": "display_data"
        },
        {
          "name": "stderr",
          "output_type": "stream",
          "text": [
            "/usr/local/lib/python3.11/dist-packages/simpletransformers/classification/classification_model.py:1505: FutureWarning: `torch.cuda.amp.autocast(args...)` is deprecated. Please use `torch.amp.autocast('cuda', args...)` instead.\n",
            "  with amp.autocast():\n"
          ]
        },
        {
          "data": {
            "application/vnd.jupyter.widget-view+json": {
              "model_id": "1e89a4cef57e4082ac7be22b06a7ae90",
              "version_major": 2,
              "version_minor": 0
            },
            "text/plain": [
              "Running Epoch 8 of 10:   0%|          | 0/2621 [00:00<?, ?it/s]"
            ]
          },
          "metadata": {},
          "output_type": "display_data"
        },
        {
          "name": "stderr",
          "output_type": "stream",
          "text": [
            "/usr/local/lib/python3.11/dist-packages/simpletransformers/classification/classification_model.py:905: FutureWarning: `torch.cuda.amp.autocast(args...)` is deprecated. Please use `torch.amp.autocast('cuda', args...)` instead.\n",
            "  with amp.autocast():\n"
          ]
        },
        {
          "data": {
            "application/vnd.jupyter.widget-view+json": {
              "model_id": "fedb3f0b4afc4db688ea3e82713afdf0",
              "version_major": 2,
              "version_minor": 0
            },
            "text/plain": [
              "  0%|          | 0/13 [00:00<?, ?it/s]"
            ]
          },
          "metadata": {},
          "output_type": "display_data"
        },
        {
          "name": "stderr",
          "output_type": "stream",
          "text": [
            "/usr/local/lib/python3.11/dist-packages/simpletransformers/classification/classification_model.py:1505: FutureWarning: `torch.cuda.amp.autocast(args...)` is deprecated. Please use `torch.amp.autocast('cuda', args...)` instead.\n",
            "  with amp.autocast():\n"
          ]
        },
        {
          "data": {
            "application/vnd.jupyter.widget-view+json": {
              "model_id": "417dbd828ac44dc4ae16341ec1c80733",
              "version_major": 2,
              "version_minor": 0
            },
            "text/plain": [
              "  0%|          | 0/13 [00:00<?, ?it/s]"
            ]
          },
          "metadata": {},
          "output_type": "display_data"
        },
        {
          "name": "stderr",
          "output_type": "stream",
          "text": [
            "/usr/local/lib/python3.11/dist-packages/simpletransformers/classification/classification_model.py:1505: FutureWarning: `torch.cuda.amp.autocast(args...)` is deprecated. Please use `torch.amp.autocast('cuda', args...)` instead.\n",
            "  with amp.autocast():\n"
          ]
        },
        {
          "data": {
            "application/vnd.jupyter.widget-view+json": {
              "model_id": "4574995f17024b9c935eef5288e27177",
              "version_major": 2,
              "version_minor": 0
            },
            "text/plain": [
              "Running Epoch 9 of 10:   0%|          | 0/2621 [00:00<?, ?it/s]"
            ]
          },
          "metadata": {},
          "output_type": "display_data"
        },
        {
          "name": "stderr",
          "output_type": "stream",
          "text": [
            "/usr/local/lib/python3.11/dist-packages/simpletransformers/classification/classification_model.py:905: FutureWarning: `torch.cuda.amp.autocast(args...)` is deprecated. Please use `torch.amp.autocast('cuda', args...)` instead.\n",
            "  with amp.autocast():\n"
          ]
        },
        {
          "data": {
            "application/vnd.jupyter.widget-view+json": {
              "model_id": "e024d25f8b6949d2b428a4bde9c90cda",
              "version_major": 2,
              "version_minor": 0
            },
            "text/plain": [
              "  0%|          | 0/13 [00:00<?, ?it/s]"
            ]
          },
          "metadata": {},
          "output_type": "display_data"
        },
        {
          "name": "stderr",
          "output_type": "stream",
          "text": [
            "/usr/local/lib/python3.11/dist-packages/simpletransformers/classification/classification_model.py:1505: FutureWarning: `torch.cuda.amp.autocast(args...)` is deprecated. Please use `torch.amp.autocast('cuda', args...)` instead.\n",
            "  with amp.autocast():\n"
          ]
        },
        {
          "data": {
            "application/vnd.jupyter.widget-view+json": {
              "model_id": "159a6e8a7ffb4ffbacdd7e0bc012cdc1",
              "version_major": 2,
              "version_minor": 0
            },
            "text/plain": [
              "  0%|          | 0/13 [00:00<?, ?it/s]"
            ]
          },
          "metadata": {},
          "output_type": "display_data"
        },
        {
          "name": "stderr",
          "output_type": "stream",
          "text": [
            "/usr/local/lib/python3.11/dist-packages/simpletransformers/classification/classification_model.py:1505: FutureWarning: `torch.cuda.amp.autocast(args...)` is deprecated. Please use `torch.amp.autocast('cuda', args...)` instead.\n",
            "  with amp.autocast():\n"
          ]
        },
        {
          "data": {
            "application/vnd.jupyter.widget-view+json": {
              "model_id": "170535a533be4bf2b385b21613dbe4de",
              "version_major": 2,
              "version_minor": 0
            },
            "text/plain": [
              "Running Epoch 10 of 10:   0%|          | 0/2621 [00:00<?, ?it/s]"
            ]
          },
          "metadata": {},
          "output_type": "display_data"
        },
        {
          "name": "stderr",
          "output_type": "stream",
          "text": [
            "/usr/local/lib/python3.11/dist-packages/simpletransformers/classification/classification_model.py:905: FutureWarning: `torch.cuda.amp.autocast(args...)` is deprecated. Please use `torch.amp.autocast('cuda', args...)` instead.\n",
            "  with amp.autocast():\n"
          ]
        },
        {
          "data": {
            "application/vnd.jupyter.widget-view+json": {
              "model_id": "4c62a4e2b96d453baef6f24ab246f525",
              "version_major": 2,
              "version_minor": 0
            },
            "text/plain": [
              "  0%|          | 0/13 [00:00<?, ?it/s]"
            ]
          },
          "metadata": {},
          "output_type": "display_data"
        },
        {
          "name": "stderr",
          "output_type": "stream",
          "text": [
            "/usr/local/lib/python3.11/dist-packages/simpletransformers/classification/classification_model.py:1505: FutureWarning: `torch.cuda.amp.autocast(args...)` is deprecated. Please use `torch.amp.autocast('cuda', args...)` instead.\n",
            "  with amp.autocast():\n"
          ]
        },
        {
          "data": {
            "application/vnd.jupyter.widget-view+json": {
              "model_id": "0b87c77377584453b67ae71e8b0a9c54",
              "version_major": 2,
              "version_minor": 0
            },
            "text/plain": [
              "  0%|          | 0/13 [00:00<?, ?it/s]"
            ]
          },
          "metadata": {},
          "output_type": "display_data"
        },
        {
          "name": "stderr",
          "output_type": "stream",
          "text": [
            "/usr/local/lib/python3.11/dist-packages/simpletransformers/classification/classification_model.py:1505: FutureWarning: `torch.cuda.amp.autocast(args...)` is deprecated. Please use `torch.amp.autocast('cuda', args...)` instead.\n",
            "  with amp.autocast():\n"
          ]
        },
        {
          "name": "stdout",
          "output_type": "stream",
          "text": [
            "{'epoch1': {'0': {'precision': 0.5695477962220951, 'recall': 0.6017538554581191, 'f0.5-score': 0.5757102354915234, 'support': 3307.0}, '1': {'precision': 0.9020501138952164, 'recall': 0.591044776119403, 'f0.5-score': 0.8161582852431987, 'support': 1340.0}, '2': {'precision': 0.7567925778661365, 'recall': 0.5947916666666667, 'f0.5-score': 0.7176973353443942, 'support': 1920.0}, '3': {'precision': 0.2086720867208672, 'recall': 0.5486935866983373, 'f0.5-score': 0.23819344194679315, 'support': 421.0}, 'accuracy': 0.5945907269605037, 'macro avg': {'precision': 0.6092656436760788, 'recall': 0.5840709712356316, 'f0.5-score': 0.5869398245064774, 'support': 6988.0}, 'weighted avg': {'precision': 0.6630129382854216, 'recall': 0.5945907269605037, 'f0.5-score': 0.6404957318141372, 'support': 6988.0}}}\n",
            "{'epoch2': {'0': {'precision': 0.754722381224957, 'recall': 0.8408801020408163, 'f0.5-score': 0.7705119214586256, 'support': 3136.0}, '1': {'precision': 0.8929384965831435, 'recall': 0.5890308039068369, 'f0.5-score': 0.8094156514557093, 'support': 1331.0}, '2': {'precision': 0.9960238568588469, 'recall': 0.9659383033419023, 'f0.5-score': 0.9898577449947313, 'support': 1556.0}, '3': {'precision': 0.6278229448961157, 'recall': 0.7202072538860104, 'f0.5-score': 0.6443537919525311, 'support': 965.0}, 'accuracy': 0.8040927303949628, 'macro avg': {'precision': 0.8178769198907657, 'recall': 0.7790141157938915, 'f0.5-score': 0.8035347774653994, 'support': 6988.0}, 'weighted avg': {'precision': 0.8172542629608968, 'recall': 0.8040927303949628, 'f0.5-score': 0.8093413964264159, 'support': 6988.0}}}\n",
            "{'epoch3': {'0': {'precision': 0.815684029765312, 'recall': 0.9056244041944709, 'f0.5-score': 0.8322139811948841, 'support': 3147.0}, '1': {'precision': 0.9054669703872438, 'recall': 0.5880177514792899, 'f0.5-score': 0.8172286184210527, 'support': 1352.0}, '2': {'precision': 0.9927104042412194, 'recall': 0.9953488372093023, 'f0.5-score': 0.9932369712239756, 'support': 1505.0}, '3': {'precision': 0.8148148148148148, 'recall': 0.9166666666666666, 'f0.5-score': 0.8333333333333334, 'support': 984.0}, 'accuracy': 0.8650543789353177, 'macro avg': {'precision': 0.8821690548021475, 'recall': 0.8514144148874324, 'f0.5-score': 0.8690032260433115, 'support': 6988.0}, 'weighted avg': {'precision': 0.8710583746130227, 'recall': 0.8650543789353177, 'f0.5-score': 0.8641517075869557, 'support': 6988.0}}}\n",
            "{'epoch4': {'0': {'precision': 0.8116771608471666, 'recall': 0.924380704041721, 'f0.5-score': 0.8319643276226238, 'support': 3068.0}, '1': {'precision': 0.8644646924829157, 'recall': 0.5780654988575781, 'f0.5-score': 0.7865284974093264, 'support': 1313.0}, '2': {'precision': 0.9980119284294234, 'recall': 0.9920948616600791, 'f0.5-score': 0.9968228752978554, 'support': 1518.0}, '3': {'precision': 0.8988256549232159, 'recall': 0.9136822773186409, 'f0.5-score': 0.901758201921334, 'support': 1089.0}, 'accuracy': 0.8723526044647968, 'macro avg': {'precision': 0.8932448591706803, 'recall': 0.8520558354695048, 'f0.5-score': 0.8792684755627849, 'support': 6988.0}, 'weighted avg': {'precision': 0.8756541093698372, 'recall': 0.8723526044647968, 'f0.5-score': 0.8701159531824747, 'support': 6988.0}}}\n",
            "{'epoch5': {'0': {'precision': 0.8148254149971379, 'recall': 0.9058224626153357, 'f0.5-score': 0.831532215666803, 'support': 3143.0}, '1': {'precision': 0.7630979498861048, 'recall': 0.5560165975103735, 'f0.5-score': 0.7101971592113632, 'support': 1205.0}, '2': {'precision': 0.9993373094764745, 'recall': 0.9908015768725361, 'f0.5-score': 0.997618417570786, 'support': 1522.0}, '3': {'precision': 0.9205058717253839, 'recall': 0.9114490161001789, 'f0.5-score': 0.918680129823296, 'support': 1118.0}, 'accuracy': 0.8649112764739554, 'macro avg': {'precision': 0.8744416365212753, 'recall': 0.841022413274606, 'f0.5-score': 0.8645069805680621, 'support': 6988.0}, 'weighted avg': {'precision': 0.8630003232056289, 'recall': 0.8649112764739554, 'f0.5-score': 0.8607259512558151, 'support': 6988.0}}}\n",
            "{'epoch6': {'0': {'precision': 0.815684029765312, 'recall': 0.9283387622149837, 'f0.5-score': 0.8359732488560366, 'support': 3070.0}, '1': {'precision': 0.8348519362186788, 'recall': 0.5621165644171779, 'f0.5-score': 0.7610049833887044, 'support': 1304.0}, '2': {'precision': 0.9980119284294234, 'recall': 0.9986737400530504, 'f0.5-score': 0.9981442205726405, 'support': 1508.0}, '3': {'precision': 0.9331526648599819, 'recall': 0.933996383363472, 'f0.5-score': 0.9333212865919769, 'support': 1106.0}, 'accuracy': 0.8760732684602175, 'macro avg': {'precision': 0.895425139818349, 'recall': 0.8557813625121711, 'f0.5-score': 0.8821109348523397, 'support': 6988.0}, 'weighted avg': {'precision': 0.8771988740147934, 'recall': 0.8760732684602175, 'f0.5-score': 0.8723874069721197, 'support': 6988.0}}}\n",
            "{'epoch7': {'0': {'precision': 0.823411562678878, 'recall': 0.9095795131204553, 'f0.5-score': 0.8393138456152635, 'support': 3163.0}, '1': {'precision': 0.744874715261959, 'recall': 0.5413907284768212, 'f0.5-score': 0.6927966101694916, 'support': 1208.0}, '2': {'precision': 0.9980119284294234, 'recall': 0.9973509933774835, 'f0.5-score': 0.9978796713490591, 'support': 1510.0}, '3': {'precision': 0.94579945799458, 'recall': 0.94579945799458, 'f0.5-score': 0.94579945799458, 'support': 1107.0}, 'accuracy': 0.8706353749284488, 'macro avg': {'precision': 0.8780244160912102, 'recall': 0.848530173242335, 'f0.5-score': 0.8689473962820986, 'support': 6988.0}, 'weighted avg': {'precision': 0.8669515513334527, 'recall': 0.8706353749284488, 'f0.5-score': 0.8651182459219954, 'support': 6988.0}}}\n",
            "{'epoch8': {'0': {'precision': 0.8457355466514024, 'recall': 0.8640350877192983, 'f0.5-score': 0.8493331800413888, 'support': 3420.0}, '1': {'precision': 0.5364464692482915, 'recall': 0.49631190727081137, 'f0.5-score': 0.5279085406859448, 'support': 949.0}, '2': {'precision': 0.9993373094764745, 'recall': 0.9973544973544973, 'f0.5-score': 0.9989401165871754, 'support': 1512.0}, '3': {'precision': 0.947606142728094, 'recall': 0.947606142728094, 'f0.5-score': 0.947606142728094, 'support': 1107.0}, 'accuracy': 0.8561820263308529, 'macro avg': {'precision': 0.8322813670260656, 'recall': 0.8263269087681753, 'f0.5-score': 0.8309469950106507, 'support': 6988.0}, 'weighted avg': {'precision': 0.8531055066961726, 'recall': 0.8561820263308529, 'f0.5-score': 0.8536207981013624, 'support': 6988.0}}}\n",
            "{'epoch9': {'0': {'precision': 0.8411562678878076, 'recall': 0.8649205414949971, 'f0.5-score': 0.8458040750546794, 'support': 3398.0}, '1': {'precision': 0.5398633257403189, 'recall': 0.4876543209876543, 'f0.5-score': 0.5285459411239964, 'support': 972.0}, '2': {'precision': 0.9993373094764745, 'recall': 0.9966953073364178, 'f0.5-score': 0.9988077891111405, 'support': 1513.0}, '3': {'precision': 0.950316169828365, 'recall': 0.9520361990950226, 'f0.5-score': 0.9506596782938731, 'support': 1105.0}, 'accuracy': 0.8547510017172295, 'macro avg': {'precision': 0.8326682682332415, 'recall': 0.8253265922285229, 'f0.5-score': 0.8309543708959224, 'support': 6988.0}, 'weighted avg': {'precision': 0.8507574224099327, 'recall': 0.8547510017172295, 'f0.5-score': 0.8513829466583015, 'support': 6988.0}}}\n",
            "{'epoch10': {'0': {'precision': 0.8357183743560389, 'recall': 0.8763505402160864, 'f0.5-score': 0.8435405592789461, 'support': 3332.0}, '1': {'precision': 0.5945330296127562, 'recall': 0.5043478260869565, 'f0.5-score': 0.5740048383549593, 'support': 1035.0}, '2': {'precision': 0.9993373094764745, 'recall': 0.9973544973544973, 'f0.5-score': 0.9989401165871754, 'support': 1512.0}, '3': {'precision': 0.9494128274616079, 'recall': 0.9477006311992786, 'f0.5-score': 0.9490698934441033, 'support': 1109.0}, 'accuracy': 0.8587578706353749, 'macro avg': {'precision': 0.8447503852267193, 'recall': 0.8314383737142046, 'f0.5-score': 0.841388851916296, 'support': 6988.0}, 'weighted avg': {'precision': 0.8534419213776296, 'recall': 0.8587578706353749, 'f0.5-score': 0.8539908585180525, 'support': 6988.0}}}\n"
          ]
        }
      ],
      "source": [
        "# Define model arguments\n",
        "model_args = ClassificationArgs(eval_batch_size=64,\n",
        "                                evaluate_during_training=True,\n",
        "                                save_eval_checkpoints=False,\n",
        "                                save_steps=-1,\n",
        "                                manual_seed=42,\n",
        "                                evaluate_during_training_steps=2621,\n",
        "                                overwrite_output_dir=True,\n",
        "                                labels_list=['G', 'PREP', 'DET','SVA']\n",
        "                                )\n",
        "model_args.num_train_epochs = 10\n",
        "\n",
        "# Initialize the model\n",
        "model = ClassificationModel('roberta',\n",
        "                            '/content/drive/MyDrive/VU Thesis/Code/baby_models/V20L4/model_e1_v20_l4',\n",
        "                            args=model_args,\n",
        "                            num_labels=4\n",
        "                            )\n",
        "\n",
        "\n",
        "f05_scores_e1 = []\n",
        "epoch_num_count = 1\n",
        "_last_metric_str = None  # Store last metric as a string for comparison\n",
        "\n",
        "def custom_metric(preds, labels):\n",
        "    global _last_metric_str\n",
        "    global epoch_num_count\n",
        "    metric = classification_report_f0_5(labels, preds, output_dict=True)\n",
        "\n",
        "    # Serialize to string for reliable comparison\n",
        "    metric_str = json.dumps(metric, sort_keys=True)\n",
        "\n",
        "    if metric_str != _last_metric_str:\n",
        "        f05_scores_e1.append({f\"epoch{epoch_num_count}\":metric})\n",
        "        epoch_num_count+=1\n",
        "        _last_metric_str = metric_str\n",
        "\n",
        "    return metric['macro avg']['f0.5-score']\n",
        "\n",
        "# Train the model with the callback\n",
        "model.train_model(train_df, eval_df=dev_df, compute_metrics=custom_metric)\n",
        "\n",
        "# f05_scores_e1_df = pd.DataFrame(f05_scores_e1)\n",
        "# print(f05_scores_e1_df)\n",
        "for item in f05_scores_e1:\n",
        "    print(item)\n",
        "\n",
        "with open(os.path.join(main_path, 'epoch_1_evals.json'), 'w') as out_file:\n",
        "    json.dump(f05_scores_e1, out_file)\n"
      ]
    },
    {
      "cell_type": "code",
      "execution_count": null,
      "metadata": {
        "colab": {
          "base_uri": "https://localhost:8080/"
        },
        "id": "38s9kx0qyPqj",
        "outputId": "f780a9cb-2437-446e-b085-d89471203c1c"
      },
      "outputs": [
        {
          "name": "stdout",
          "output_type": "stream",
          "text": [
            "{'epoch1': {'0': {'precision': 0.5695477962220951, 'recall': 0.6017538554581191, 'f0.5-score': 0.5757102354915234, 'support': 3307.0}, '1': {'precision': 0.9020501138952164, 'recall': 0.591044776119403, 'f0.5-score': 0.8161582852431987, 'support': 1340.0}, '2': {'precision': 0.7567925778661365, 'recall': 0.5947916666666667, 'f0.5-score': 0.7176973353443942, 'support': 1920.0}, '3': {'precision': 0.2086720867208672, 'recall': 0.5486935866983373, 'f0.5-score': 0.23819344194679315, 'support': 421.0}, 'accuracy': 0.5945907269605037, 'macro avg': {'precision': 0.6092656436760788, 'recall': 0.5840709712356316, 'f0.5-score': 0.5869398245064774, 'support': 6988.0}, 'weighted avg': {'precision': 0.6630129382854216, 'recall': 0.5945907269605037, 'f0.5-score': 0.6404957318141372, 'support': 6988.0}}}\n",
            "{'epoch2': {'0': {'precision': 0.754722381224957, 'recall': 0.8408801020408163, 'f0.5-score': 0.7705119214586256, 'support': 3136.0}, '1': {'precision': 0.8929384965831435, 'recall': 0.5890308039068369, 'f0.5-score': 0.8094156514557093, 'support': 1331.0}, '2': {'precision': 0.9960238568588469, 'recall': 0.9659383033419023, 'f0.5-score': 0.9898577449947313, 'support': 1556.0}, '3': {'precision': 0.6278229448961157, 'recall': 0.7202072538860104, 'f0.5-score': 0.6443537919525311, 'support': 965.0}, 'accuracy': 0.8040927303949628, 'macro avg': {'precision': 0.8178769198907657, 'recall': 0.7790141157938915, 'f0.5-score': 0.8035347774653994, 'support': 6988.0}, 'weighted avg': {'precision': 0.8172542629608968, 'recall': 0.8040927303949628, 'f0.5-score': 0.8093413964264159, 'support': 6988.0}}}\n",
            "{'epoch3': {'0': {'precision': 0.815684029765312, 'recall': 0.9056244041944709, 'f0.5-score': 0.8322139811948841, 'support': 3147.0}, '1': {'precision': 0.9054669703872438, 'recall': 0.5880177514792899, 'f0.5-score': 0.8172286184210527, 'support': 1352.0}, '2': {'precision': 0.9927104042412194, 'recall': 0.9953488372093023, 'f0.5-score': 0.9932369712239756, 'support': 1505.0}, '3': {'precision': 0.8148148148148148, 'recall': 0.9166666666666666, 'f0.5-score': 0.8333333333333334, 'support': 984.0}, 'accuracy': 0.8650543789353177, 'macro avg': {'precision': 0.8821690548021475, 'recall': 0.8514144148874324, 'f0.5-score': 0.8690032260433115, 'support': 6988.0}, 'weighted avg': {'precision': 0.8710583746130227, 'recall': 0.8650543789353177, 'f0.5-score': 0.8641517075869557, 'support': 6988.0}}}\n",
            "{'epoch4': {'0': {'precision': 0.8116771608471666, 'recall': 0.924380704041721, 'f0.5-score': 0.8319643276226238, 'support': 3068.0}, '1': {'precision': 0.8644646924829157, 'recall': 0.5780654988575781, 'f0.5-score': 0.7865284974093264, 'support': 1313.0}, '2': {'precision': 0.9980119284294234, 'recall': 0.9920948616600791, 'f0.5-score': 0.9968228752978554, 'support': 1518.0}, '3': {'precision': 0.8988256549232159, 'recall': 0.9136822773186409, 'f0.5-score': 0.901758201921334, 'support': 1089.0}, 'accuracy': 0.8723526044647968, 'macro avg': {'precision': 0.8932448591706803, 'recall': 0.8520558354695048, 'f0.5-score': 0.8792684755627849, 'support': 6988.0}, 'weighted avg': {'precision': 0.8756541093698372, 'recall': 0.8723526044647968, 'f0.5-score': 0.8701159531824747, 'support': 6988.0}}}\n",
            "{'epoch5': {'0': {'precision': 0.8148254149971379, 'recall': 0.9058224626153357, 'f0.5-score': 0.831532215666803, 'support': 3143.0}, '1': {'precision': 0.7630979498861048, 'recall': 0.5560165975103735, 'f0.5-score': 0.7101971592113632, 'support': 1205.0}, '2': {'precision': 0.9993373094764745, 'recall': 0.9908015768725361, 'f0.5-score': 0.997618417570786, 'support': 1522.0}, '3': {'precision': 0.9205058717253839, 'recall': 0.9114490161001789, 'f0.5-score': 0.918680129823296, 'support': 1118.0}, 'accuracy': 0.8649112764739554, 'macro avg': {'precision': 0.8744416365212753, 'recall': 0.841022413274606, 'f0.5-score': 0.8645069805680621, 'support': 6988.0}, 'weighted avg': {'precision': 0.8630003232056289, 'recall': 0.8649112764739554, 'f0.5-score': 0.8607259512558151, 'support': 6988.0}}}\n",
            "{'epoch6': {'0': {'precision': 0.815684029765312, 'recall': 0.9283387622149837, 'f0.5-score': 0.8359732488560366, 'support': 3070.0}, '1': {'precision': 0.8348519362186788, 'recall': 0.5621165644171779, 'f0.5-score': 0.7610049833887044, 'support': 1304.0}, '2': {'precision': 0.9980119284294234, 'recall': 0.9986737400530504, 'f0.5-score': 0.9981442205726405, 'support': 1508.0}, '3': {'precision': 0.9331526648599819, 'recall': 0.933996383363472, 'f0.5-score': 0.9333212865919769, 'support': 1106.0}, 'accuracy': 0.8760732684602175, 'macro avg': {'precision': 0.895425139818349, 'recall': 0.8557813625121711, 'f0.5-score': 0.8821109348523397, 'support': 6988.0}, 'weighted avg': {'precision': 0.8771988740147934, 'recall': 0.8760732684602175, 'f0.5-score': 0.8723874069721197, 'support': 6988.0}}}\n",
            "{'epoch7': {'0': {'precision': 0.823411562678878, 'recall': 0.9095795131204553, 'f0.5-score': 0.8393138456152635, 'support': 3163.0}, '1': {'precision': 0.744874715261959, 'recall': 0.5413907284768212, 'f0.5-score': 0.6927966101694916, 'support': 1208.0}, '2': {'precision': 0.9980119284294234, 'recall': 0.9973509933774835, 'f0.5-score': 0.9978796713490591, 'support': 1510.0}, '3': {'precision': 0.94579945799458, 'recall': 0.94579945799458, 'f0.5-score': 0.94579945799458, 'support': 1107.0}, 'accuracy': 0.8706353749284488, 'macro avg': {'precision': 0.8780244160912102, 'recall': 0.848530173242335, 'f0.5-score': 0.8689473962820986, 'support': 6988.0}, 'weighted avg': {'precision': 0.8669515513334527, 'recall': 0.8706353749284488, 'f0.5-score': 0.8651182459219954, 'support': 6988.0}}}\n",
            "{'epoch8': {'0': {'precision': 0.8457355466514024, 'recall': 0.8640350877192983, 'f0.5-score': 0.8493331800413888, 'support': 3420.0}, '1': {'precision': 0.5364464692482915, 'recall': 0.49631190727081137, 'f0.5-score': 0.5279085406859448, 'support': 949.0}, '2': {'precision': 0.9993373094764745, 'recall': 0.9973544973544973, 'f0.5-score': 0.9989401165871754, 'support': 1512.0}, '3': {'precision': 0.947606142728094, 'recall': 0.947606142728094, 'f0.5-score': 0.947606142728094, 'support': 1107.0}, 'accuracy': 0.8561820263308529, 'macro avg': {'precision': 0.8322813670260656, 'recall': 0.8263269087681753, 'f0.5-score': 0.8309469950106507, 'support': 6988.0}, 'weighted avg': {'precision': 0.8531055066961726, 'recall': 0.8561820263308529, 'f0.5-score': 0.8536207981013624, 'support': 6988.0}}}\n",
            "{'epoch9': {'0': {'precision': 0.8411562678878076, 'recall': 0.8649205414949971, 'f0.5-score': 0.8458040750546794, 'support': 3398.0}, '1': {'precision': 0.5398633257403189, 'recall': 0.4876543209876543, 'f0.5-score': 0.5285459411239964, 'support': 972.0}, '2': {'precision': 0.9993373094764745, 'recall': 0.9966953073364178, 'f0.5-score': 0.9988077891111405, 'support': 1513.0}, '3': {'precision': 0.950316169828365, 'recall': 0.9520361990950226, 'f0.5-score': 0.9506596782938731, 'support': 1105.0}, 'accuracy': 0.8547510017172295, 'macro avg': {'precision': 0.8326682682332415, 'recall': 0.8253265922285229, 'f0.5-score': 0.8309543708959224, 'support': 6988.0}, 'weighted avg': {'precision': 0.8507574224099327, 'recall': 0.8547510017172295, 'f0.5-score': 0.8513829466583015, 'support': 6988.0}}}\n",
            "{'epoch10': {'0': {'precision': 0.8357183743560389, 'recall': 0.8763505402160864, 'f0.5-score': 0.8435405592789461, 'support': 3332.0}, '1': {'precision': 0.5945330296127562, 'recall': 0.5043478260869565, 'f0.5-score': 0.5740048383549593, 'support': 1035.0}, '2': {'precision': 0.9993373094764745, 'recall': 0.9973544973544973, 'f0.5-score': 0.9989401165871754, 'support': 1512.0}, '3': {'precision': 0.9494128274616079, 'recall': 0.9477006311992786, 'f0.5-score': 0.9490698934441033, 'support': 1109.0}, 'accuracy': 0.8587578706353749, 'macro avg': {'precision': 0.8447503852267193, 'recall': 0.8314383737142046, 'f0.5-score': 0.841388851916296, 'support': 6988.0}, 'weighted avg': {'precision': 0.8534419213776296, 'recall': 0.8587578706353749, 'f0.5-score': 0.8539908585180525, 'support': 6988.0}}}\n"
          ]
        }
      ],
      "source": [
        "for item in f05_scores_e1:\n",
        "    print(item)"
      ]
    },
    {
      "cell_type": "code",
      "execution_count": null,
      "metadata": {
        "colab": {
          "base_uri": "https://localhost:8080/"
        },
        "id": "5INROh8J4Kw7",
        "outputId": "c78af383-3ac2-4f05-ec8e-34749afbd2f0"
      },
      "outputs": [
        {
          "name": "stdout",
          "output_type": "stream",
          "text": [
            "epoch1 0.5869398245064774\n",
            "epoch2 0.8035347774653994\n",
            "epoch3 0.8690032260433115\n",
            "epoch4 0.8792684755627849\n",
            "epoch5 0.8645069805680621\n",
            "epoch6 0.8821109348523397\n",
            "epoch7 0.8689473962820986\n",
            "epoch8 0.8309469950106507\n",
            "epoch9 0.8309543708959224\n",
            "epoch10 0.841388851916296\n"
          ]
        }
      ],
      "source": [
        "for item in f05_scores_e1:\n",
        "  for k , v in item.items():\n",
        "    print(k,v['macro avg']['f0.5-score'])"
      ]
    },
    {
      "cell_type": "markdown",
      "metadata": {
        "id": "5zp4dbV2veLZ"
      },
      "source": [
        "### Epoch 10"
      ]
    },
    {
      "cell_type": "code",
      "execution_count": null,
      "metadata": {
        "colab": {
          "base_uri": "https://localhost:8080/",
          "height": 1000,
          "referenced_widgets": [
            "7bb26a2cc13a431aa44c3d3a598ae271",
            "a3839e8186f64360b0c20ff33fb8762a",
            "7aafcbfe22434996af2a5e77f1417ebe",
            "3f839fef9f454a50b4df53d17901fb76",
            "373f07d43f794edabb19dbf863ead0bf",
            "b12efb9c25744b84983dfe36c01122e7",
            "b44cd5e945724f8f8149d67bb471622d",
            "0951dcd1b73542a5af87992080b3a8ac",
            "55091444e9d14e7ebc0442af2f45533d",
            "eca7429fdcd34f798fcad7b771dc71ec",
            "74f2070697824754afcce60fb173b2de",
            "c468abb4552a4e88add32e65102be090",
            "2b9453645ff34ad3a4401915c2845a87",
            "447cb6c140bf4819b5bbbd7314a87387",
            "649124935bd04ca0a8c12ea8140c6d44",
            "acb2a369bb0444eeabcd3497e3e45019",
            "3febd582f9814c78a511625d0b0f2355",
            "e1b88e9eb79448f3a89d72f2e2f2b435",
            "79fbb62cea1744a0aef339ddbed0f1c4",
            "4125c5feff9f49eb8e8d7c62e6bbbf93",
            "185a229c0abf4bad81bca6a86662851b",
            "fe2b1783dc404740afe1e24a15d51e25",
            "165b3305b29241b29b44de2cda184e54",
            "ab52ab8e677a43c19000629f3dbbd839",
            "ddc2b83caf384139913920a4b4ad72ba",
            "6e69835436464391b0cbf5db2a3de20b",
            "1004bb107c9d4f2a96a1a7139f561220",
            "d04ba0a12a134d8e8dd415ef886b13ec",
            "b5037dfb0bbc4bc081a181b445320476",
            "4b5da82de8614a378a1d30c38938bb5c",
            "8fafe7860a1f40509ab8a4b42aba10b1",
            "8fba4ebc344c4562b71c41e473eaaa63",
            "55ef9b0e340b4cd5a00a399ffa950b82",
            "4a737d3537c84c5f8c8259c5234925c1",
            "3a83fd9e8ce4455e8a1b10e4a7642caa",
            "236e678d1b4d43599f204bda97a82f68",
            "6b044e025936441f94a30ee67981d4be",
            "5e180308fe994b0e8691df21ebd5c464",
            "a8c2480f5e654a1a992d89a7b3ce719a",
            "5c1f21cd43e54ffa8678d40c7793b70d",
            "ca661e53cdb14e75805066321bf2fb0d",
            "05f8e2a192824d3db1aeace50e6acb6f",
            "556a9f48a92a46439b82fbf3a36f8429",
            "1bbcebfd1dca4b3a88cc603d23c7ecb1",
            "6b5e089b49cb4c298f4750e32b40835c",
            "e32a38d1669649d4bd7d6d4f5f94063d",
            "d0f4d663865849758182d1779e24fea4",
            "8c334ee873f344458c74e355da250761",
            "acb3d537e4ba4c71a907e316d9649403",
            "79c2dc45c633445c8830d62a37e75c6e",
            "fdd3fa4417094e2db3b6badf71053c53",
            "1ca4d652892b4c9fa285f665159a9900",
            "26815a46b4a443b7bfc58da316568606",
            "bdba4f653d8f4ca18b9740dbdf58d6aa",
            "d9fce879cfec4f7b89b32dbe2f1fc386",
            "1ada851ab93641ad91a215d68e16d900",
            "d7d42aa85e8d46ea9e3578f380363b91",
            "b5610e85433c495f850c9c1899706e23",
            "996498994d7d41549ca3bf035db68ee3",
            "ecf22da589f9405f9ddd45498ae66d5e",
            "f3c20d4ed7c94995a39c04cc84468a85",
            "9d16656cb55b4fabb5317b015871a754",
            "b8af363390ff49c8af9c80042c9617d1",
            "b43c0aa834bf4f08ae4442d7fc8e6964",
            "b46e32017e084c0794c738aea4c503bf",
            "139cdbecbea64a36b853ef9cf2158bbb",
            "7e44181de5244d279720e5967b6cbd17",
            "91161d378c9a43f0a1722036435a06f7",
            "e966bb7dcea24eb58dfacb286032dca1",
            "3a9dead8dc1c4ccbad3dfc2c5e7580eb",
            "ff346067553a42d98bf78445a0cb3388",
            "dbbae6aa876f44889229d54ceb0bec0d",
            "6b1a522dcff74fada27ee9968dfb8e36",
            "16249253623f4ef2847f9e3f6e474b82",
            "4e26f6350a3e410482b29fbe985f03b8",
            "22313370db5f439b9712a97a67aeb6a9",
            "5d268e53f4c049fbba8a07bc8c8b8b00",
            "931697c29a4e40a0b8bbf6336c4f9db5",
            "a510fdba5a0c4e7394affddfa5095319",
            "e4d54616d583422ea9acbea6d4cbb7ea",
            "9981f52380d342d88f7595ed9a86316d",
            "8e7c8edc39324e01ba5a51319756e39b",
            "4977566982ae462e8f8da2a5a1d71c1d",
            "d68609f373604e069238af9c3a6b66bd",
            "550f51833b234a5088aedd1d2ea8cede",
            "ef9b631ed1574a1a8eff8fcfc4a0a915",
            "5069304d17734a0ab587902038f59676",
            "03cb3ae835fe48e682c9b8151df06f70",
            "3eb4b67956f54cf49a4d63192631c4a4",
            "d3ca6b82bf3d4c27a543e27bb7c3002c",
            "d130a3cc34cf4e45bce5951e50713d3c",
            "d1995813adbf4dd3beeb9e5eda36c773",
            "42e5a9e75c1e44b09874e8d6e16e0aa3",
            "e51155a52ef54090a08b1829719fc827",
            "dc2450095c894c0bbb4f9cb4eb298939",
            "809a8508f9214ea8b81a527a68092a1c",
            "5f628bf715a849389327873e9aeabf47",
            "9ac3fbb93c1c406fa49234f142150fb1",
            "da5306d5a2404ef6990ba4fb2741a81c",
            "20b3c2d8c6f24527bdda0c929faf00f5",
            "32fdc975ff8943c3ab81cca84d34ed74",
            "4586cafce56f4c7ba6b753c61e49f600",
            "47daa0b10b9242208246a34048a56ee5",
            "8ad50402cada4b4fa875e86307d26525",
            "3be6d178f20d4daa9e5a49fd3fcfebf5",
            "935b8f8612a347b38f2d1bed7b5853eb",
            "d3c0f07b59f8408aba65092d8b997c85",
            "3930b724ad2d4baa84b17c715b070d1e",
            "5601f045465246af8d8175e973202d56",
            "8d48c1435774464c8c8614c1e54d0cfb",
            "6ae43f782a7d48e8a4d086fcc88a825f",
            "551684687f0347f0ba8e54cc5b0dc059",
            "9bc818441e6a4e3191e6140cd47154a1",
            "81912c4ef2c74b739427e44cce2d8447",
            "a1dbfb57c52e4528b1736e5e509af204",
            "2385da20571e4aef92a290b236769902",
            "bd272935fb7a4e85a2a11cce60ec3d8d",
            "3bef4ab818c64a04bf59fc367cc205be",
            "4bc58c0103434b2bb5bcd801d42d48e2",
            "b493f567cd494f30abcc3385f7020118",
            "01d44ee1be6e4ace94a469ff323ba4fc",
            "8d30c31df6aa46e084afabf53758c02a",
            "6bf6611eda3a4d28bb186089c4603e35",
            "b75c587f33e242949e1868ee5394afe5",
            "62003e461f5640c4b95848615f7619d7",
            "2c4d6a904ac54ad4876de323461660e5",
            "cb075d8e46de4827ae8aa6d5f783fc88",
            "045f5216db48473bb81c3547aff6e7fd",
            "604d8745d61c49eb89ae9b692c9f390f",
            "df02ce27595d4dceb31d816a786e4d96",
            "9ae739102d0c4c71b8dd04c2a4607657",
            "cdaa05de53f9427199248b4f998cc0fb",
            "8b180b6d660d4838b27b3275face95ee",
            "55cd05c1f44d4fccbd320ad3963d81de",
            "10823d7991384505b18440d82f700f9d",
            "144d821e3add4ce6b845ed0d84057a1c",
            "9ac518950971422986b4c7482c2da8bb",
            "6cf709a4f29c4eaaa222dfc5f226ec87",
            "6d9d367db8214f0cac549685d7e924d1",
            "85d8862bf0b14f2ea16af0688b5720f8",
            "c5cc0fd6c25a48dcbe59769686e44771",
            "cb3a7c482af445fca3461c78795d97c5",
            "52ed2e5e202f4a2db833eede1bd6ea13",
            "a0482c04b70e49f583e9cce8984930b8",
            "e0821a7db7e24965a0fbba2a6443458c",
            "59d2ac5807dd4cc19c574b9a495a29d4",
            "1279b9fd52514ac194d7fdc0168ab72b",
            "3fd9a530d3d145378c0f4655b4db76e7",
            "5daa046bb17c4ea9be383fde620d18d9",
            "b6be066539964fea8d2eabb58e3c724b",
            "6b6e18a2ae374289a3b9810452214753",
            "0893525ece7548d497a778820497a2d8",
            "60f2071ee68b4c30abc94408a3d4dd4c",
            "03479810a17c4484a25cb00a8cfdb0cd",
            "cbb76421ff764b1b87bd9506bc9e33be",
            "b0dde1c9ab5142ae911817e5b37b166a",
            "d828e581da244150801018afb8ef57db",
            "cf5d28369ac14cf2a5c22b849012a9d0",
            "d9bbc62711c44c6aaa96e67861f48f1c",
            "fcc00e85e28e4702bc42683b9f823140",
            "69f6a83522494dcf94be2087820a1a1f",
            "3be047ab1cb548feb3eed1aab536b715",
            "ba8879712cae4b78bae579762fd633ca",
            "ad14b7daedff4b03a70ebf9302f2d1bc",
            "59f5a1afb0f942248cd998a7a5af5112",
            "c5af5fb8623e42a398b7c9a21d731e59",
            "ec662d45531f48d7acf40483b07af008",
            "525656cb942a4d0d8246f2717c3f361f",
            "4b673d95cb534c09ba955e290685c814",
            "bdfcaeaf9c224d3fb926886af673e6bd",
            "0545cb03f0744fd0821723c182e58743",
            "08cc503ce84645eaa6b23d7ffd1a07d1",
            "22f120d9d5294be8a3a0d7d51f6a0e7f",
            "de8f06d02c544a0ebd173fd58e578623",
            "c4d1e1442b6047bcbb7033ab9bb64f09",
            "b328da4168a54845bdbd22de3f772faf",
            "a995b7d450604a0bb4246769ab928eac",
            "3f61d72e7b914a00a6ca47271ae21782",
            "0402e03e713b4dd5b4581351c8e62307",
            "7a90fbddb5634e67b65e9d1951c66d4e",
            "f9d59ef3e4ef424c88a80894505a8939",
            "932d7d74c8bf4559937fbed0e2ba03fd",
            "2285194f6a1c4e0c8722dcb6de5cec41",
            "e8dca5f2200a4ec6b036a4b530ad42e0",
            "d6e858453b104f7e854a9a8c3511248e",
            "b189d47b51e641d1a3bdd1897cf55a13",
            "bd4883fbbaab4c319c0ff8f3259f887a",
            "b690047fe11c4ae986adf09686577b21",
            "49f778f6bbc44869aec4133b34cc1c02",
            "150ae87d723a4d1ab1dd7338cb30286c",
            "c7ab6a830e1f43e7bdb7e90e9372ae85",
            "cbc2244d47db4435961d1548684053ab",
            "50d2652a44894534937ec5164851727d",
            "80ef69efaee146be969ec3f6009c7a6c",
            "d1084365448241349cc0af4bf9d10da8",
            "444e89c1e971479781cc453efa1ca3c7",
            "040b40db27694a9fb3e8b04bab6e8bb4",
            "508330b7c81f4e10a4a95a5b0870732f",
            "074158c7ceb34cdfbb38b96426b249dc",
            "e184e82c70b946eca860c3937d6f4ea0",
            "3525c5bff30c401d99a09a30809569bd",
            "7ab58e2beef3412c9fec25a9fdf4f16c",
            "41863f0af799434b8c1e28fc33012545",
            "eae6fac1542847778ff6835a9cedc55b",
            "dce2600f5a8f4f4781cdea056abb764f",
            "0730638d3dbf428bb08426218fa150bd",
            "30dca5af449b4996a6fa048d7d514956",
            "0c161ce5ee5443eca8c0a15c7566458c",
            "7d0b290e33e246078b767e8770f250ec",
            "8c4fe0c235994b3a89549b8aab17fa6c",
            "a1cd7373386f4893b365133bb4639997",
            "3002a49a6c9f42419d14ec70c2bfb5e2",
            "4815eb6de4dd4cd3acfdcbbc375c9665",
            "cdf17b6237ae4540bde0d87341cac3a9",
            "73306582c39a455191344d1d7c655d25",
            "1861484347fb499aa70289ea7e3f49ab",
            "0f3d72b287994e0db90bf104306b3be5",
            "23efaea773ea43d388e4677448f6ad0b",
            "b40b7a483f8c4c949bf194d7d2cd6ea6",
            "f0a7d9ecb07f4ecab310ea78c8b6cb3f",
            "7f5e702f4ec44956afbe96e3553f05be",
            "c502ae105b47438d90091bec5a796b63",
            "82130881fc254697a559810d5c9b5f30",
            "d8c5d5aa10e0493794fac8945e38d140",
            "cbd93eb9a2584a3f91e9e246daad06d4",
            "5c70d8ba308642528dd8262cd6f2280d",
            "22c8e7056fd849b1a1e95c075d7c4c6e",
            "bae2789002594921aebbad391fb9f4d8",
            "363b5cd99e4d4bef9c232cb7724281ac",
            "ef3c5b413e304e4fba3420d7eb86c53a",
            "27406cd5ddd649c8bdd5a09675727d1f",
            "d69b6d213f384b6f99334b702c1118e2",
            "c8042ab4ff2e4694add95e72da79ed58",
            "89466bfbe13a4a51afdb08e3e6f24b0a",
            "b385ea24b3ac4312a861da4acd395b60",
            "b65746b59c654abb81ed13c2f48f4074",
            "09361993f0404b0e899b74eeacccc6a4",
            "b77881654a3340ebb64beb25d54f88d5",
            "be6dcbdefa634b88a67c3965cf4986ea",
            "059d9b520e624f1fbc4fa0e6ae3ed500",
            "9c5bd57eb62644bfa4df817ad4b0ada4",
            "cbe50029c7174141939f831d5cbe6bda",
            "5c56d7ba6ad2421b9ec686b68b93fd98",
            "5b54fbf9132d47378487140c1bb6d851",
            "cd99ad891f36482c86a9d0983282a3d9",
            "48db7480e6cb40519b57a4958861a144",
            "b7143c1fce1844ecbe4112323b95023c",
            "9643e7af8dcd4a4c8111fd45cb425d11",
            "9b2ebcc14a9b405381ab32edf26c6fd2",
            "a192182d6f3d406083eb20abc4c29c7d",
            "1251871538a749c59b16a9b2bce9e0db",
            "f2eba9110ac64215829233b3d509948d",
            "9f0c414f331f45788b2ecd8115b93379",
            "f74e8454d2bd402b8045a52c66ccd749",
            "ce07f0c5d8424c8cb81780be00772378",
            "9bcadc6edaab482786ed8c700d55ca0c",
            "b422feb7d7dc4ebda2802aea424e890b",
            "a4fffc82d15a44c4b6ebb34c586b51c9",
            "332a9412839044b5a03ebe3565a631a4",
            "ad1b099f967d4017bc5fb5139d90c0a0",
            "00b51f13b0a0404c99e2685a468246cc",
            "7be948ace15c4c3998c34292b3d19ecc",
            "7055fb262d724c6ca206f3351acbca76",
            "21706620c6694a7eb87c887c85dca17d",
            "64f5708614a74257840d34373dd67638",
            "087b210e2fbb4d7b8704f0e9e4d18810",
            "0de87b008472422e852fcd117b8e960a",
            "727efef2bbf6467b89563954a0d17673",
            "02f3f6ccbf3c49aa9942bcc094ce0d3b",
            "a0735d7331b94314ac6bebdbccc17664",
            "7344a3029fce4c208c0e5d4f441806c7",
            "a8877ed5c1dc4005ae8a3b0f0d461f61",
            "ea85fed0b30e46d195bcfebcd8501cff",
            "a8e59743a087455db6972fb2eccfba05",
            "ac15c065af464f3db192dcd2a93a0835",
            "f37020eca3e24fba858532972332d52c",
            "69386f43f8f148a7b2de59ec4a09c284",
            "41026e0e951d41fe95707722a704d28c",
            "7a77369f8fa6408f8339b575374a489c",
            "aa846146c00044d8bdcc126789967a95",
            "cc67285cf5ab4a0ca2ecef381f85be41",
            "0200a32abb9f45c9b4276007f9bb1491",
            "6f4a9a7dad6140799e0ea3c678eb4ce2",
            "2d4f5f344ac7408bae3c2552fa348c51",
            "80bfe08dabe844f98803e76e0bfcf614",
            "bfdff75ebdc04e14b1f15a8c69f9a32f",
            "5a97a5ea5a934157ae23a99f397363ba",
            "32b663cf0cf24ef19e8b69efc10f4259",
            "bd358a6588754c79865095ce6a05bc48",
            "98f4ea07fce94379ac33a94edf30d07b",
            "76e69ae9962d4988a41d48ac4dd333ea",
            "3f4dfd90c01a4ace9f1c065fc1fb3432",
            "7a86549b812d40a0a81ec6f285e50d04",
            "45cc14fc857442e9b7b71e8cf9d02a31",
            "3b1ac014889548d8acaaa19fdb6c33a0",
            "7fa2966d6995405eb4ff7cf1e69dca67",
            "fdfc74a17857414f8802f7b6355157af",
            "e7105de867864915826a1c362627602b",
            "9077f2d31e654e33895371031749080b",
            "44d56980a3c64249be36ef6b84218f41",
            "8e1f782141ae4a43abc79737a8e6f6cc",
            "86265e974f9b463282b2d5c329b1598c",
            "2fb54d33b7f64b7a8e3dc09681d367fe",
            "9382794ab0c84e04a922e4f7c7cd8566",
            "87247802e2d14076b38ad415d0157c71",
            "c2d26a9223b8475a9530605a77eafbf6",
            "ffe7753a4d2248c4b43bc8863267f2b4",
            "3f39036c00f0476aa372361da536b340",
            "43636f5f86f64462bf471384bdafa915",
            "184b8c93d79742668060ccbb9eb68809",
            "59ecc07f124646a0ae58329c7253c3a5",
            "9e8513eb26484156a65615d3a83cb058",
            "9f2f5f9ac8b34341aaa5037b5691f9e6",
            "d3985de4c61f4cb5861eb98f50b434c1",
            "bd281e1be9c34ecdbaaeaff42c6138cb",
            "63f9863edd1843128a25a89d658bbdc8",
            "9056ff1e257248ec90c68982b6848390",
            "d511713e2e2c45ad908ae17788de9261",
            "999361e61bb1452f99265817554b7f3f",
            "d4bd5de4fad6481c9c038247b154d398",
            "59343abed83244779922ef8f6e35a0bb",
            "0927850c92a14aa1aabde7246c53ee73",
            "05b408e983224e9eb1ec878d280a0a8a",
            "05735f3413e746d6b5fa50241d4dd381",
            "6f5f2c26bd214a0fb2bb6101e5290929",
            "a451f6793fde4fa0b4f8bff9c1db1909",
            "dc6de5dffb514e0a9883806ce5dc5282",
            "c6882df1776c44d1832999de60f450fb",
            "a31fb05e783940eb8e677d99ebbc5cf2",
            "570bac588d0b4fa9a60ad5c8b50b0dca",
            "2378e86998a24e26be9806bc4ec619a7",
            "0bb1412f49ad42f6bdfafd28723268c1",
            "eef4fb210fe040bda6f27f8280b03d94",
            "a60d817b7ab74dea8b8e213fbc37a342",
            "e1bf94dceace47f581f663df801f51a5",
            "bd0246c19dee45bb9b12d81ae029001b",
            "1a0f00eded0e46fbab7c56c0b28f7f37",
            "545870dc69ae4cea8da62dcfd1b5f223",
            "c24ebd594f7f40a8bfe01a0a42a4a90b",
            "ed2c343288b74ab5ba9c9fbdf9456c15",
            "c31f986daa9949fa86770c4a5cdac29f",
            "b8d265b5351447f39642bc734621f0ba",
            "03aa86bd8d014cb5bbe559ee8c9cc3a1",
            "bb1b21483f3a4cbfbdf9a0f0eb49bad9",
            "c99ad5264e1e45df9384001148817488",
            "5ba8088b4fd847729819650a310ae599",
            "a3be86b71b2947d4bdf1d5c3f5afc195",
            "47ae5647491847a5ace034a8db65df40",
            "824648e36614458dbedf9dde50aece5d",
            "fdafb4a70c1b412ab0c4e14f409cd489",
            "1b0da5157f7f430db2cd7cc0355b30e1",
            "a05ad66b2e2a4f9aaf0106a95ea771e2"
          ]
        },
        "id": "4O9UDS6evdvt",
        "outputId": "1d6493b4-79c3-4a82-8163-c0f3dfc1ce09"
      },
      "outputs": [
        {
          "name": "stderr",
          "output_type": "stream",
          "text": [
            "Some weights of RobertaForSequenceClassification were not initialized from the model checkpoint at /content/drive/MyDrive/VU Thesis/Code/baby_models/V20L4/model_e10_v20_l4 and are newly initialized: ['classifier.dense.bias', 'classifier.dense.weight', 'classifier.out_proj.bias', 'classifier.out_proj.weight']\n",
            "You should probably TRAIN this model on a down-stream task to be able to use it for predictions and inference.\n"
          ]
        },
        {
          "data": {
            "application/vnd.jupyter.widget-view+json": {
              "model_id": "7bb26a2cc13a431aa44c3d3a598ae271",
              "version_major": 2,
              "version_minor": 0
            },
            "text/plain": [
              "  0%|          | 0/41 [00:00<?, ?it/s]"
            ]
          },
          "metadata": {},
          "output_type": "display_data"
        },
        {
          "data": {
            "application/vnd.jupyter.widget-view+json": {
              "model_id": "c468abb4552a4e88add32e65102be090",
              "version_major": 2,
              "version_minor": 0
            },
            "text/plain": [
              "Epoch:   0%|          | 0/10 [00:00<?, ?it/s]"
            ]
          },
          "metadata": {},
          "output_type": "display_data"
        },
        {
          "name": "stderr",
          "output_type": "stream",
          "text": [
            "/usr/local/lib/python3.11/dist-packages/simpletransformers/classification/classification_model.py:882: FutureWarning: `torch.cuda.amp.GradScaler(args...)` is deprecated. Please use `torch.amp.GradScaler('cuda', args...)` instead.\n",
            "  scaler = amp.GradScaler()\n"
          ]
        },
        {
          "data": {
            "application/vnd.jupyter.widget-view+json": {
              "model_id": "165b3305b29241b29b44de2cda184e54",
              "version_major": 2,
              "version_minor": 0
            },
            "text/plain": [
              "Running Epoch 1 of 10:   0%|          | 0/2621 [00:00<?, ?it/s]"
            ]
          },
          "metadata": {},
          "output_type": "display_data"
        },
        {
          "name": "stderr",
          "output_type": "stream",
          "text": [
            "/usr/local/lib/python3.11/dist-packages/simpletransformers/classification/classification_model.py:905: FutureWarning: `torch.cuda.amp.autocast(args...)` is deprecated. Please use `torch.amp.autocast('cuda', args...)` instead.\n",
            "  with amp.autocast():\n"
          ]
        },
        {
          "data": {
            "application/vnd.jupyter.widget-view+json": {
              "model_id": "4a737d3537c84c5f8c8259c5234925c1",
              "version_major": 2,
              "version_minor": 0
            },
            "text/plain": [
              "  0%|          | 0/13 [00:00<?, ?it/s]"
            ]
          },
          "metadata": {},
          "output_type": "display_data"
        },
        {
          "name": "stderr",
          "output_type": "stream",
          "text": [
            "/usr/local/lib/python3.11/dist-packages/simpletransformers/classification/classification_model.py:1505: FutureWarning: `torch.cuda.amp.autocast(args...)` is deprecated. Please use `torch.amp.autocast('cuda', args...)` instead.\n",
            "  with amp.autocast():\n"
          ]
        },
        {
          "data": {
            "application/vnd.jupyter.widget-view+json": {
              "model_id": "6b5e089b49cb4c298f4750e32b40835c",
              "version_major": 2,
              "version_minor": 0
            },
            "text/plain": [
              "  0%|          | 0/13 [00:00<?, ?it/s]"
            ]
          },
          "metadata": {},
          "output_type": "display_data"
        },
        {
          "name": "stderr",
          "output_type": "stream",
          "text": [
            "/usr/local/lib/python3.11/dist-packages/simpletransformers/classification/classification_model.py:1505: FutureWarning: `torch.cuda.amp.autocast(args...)` is deprecated. Please use `torch.amp.autocast('cuda', args...)` instead.\n",
            "  with amp.autocast():\n"
          ]
        },
        {
          "data": {
            "application/vnd.jupyter.widget-view+json": {
              "model_id": "1ada851ab93641ad91a215d68e16d900",
              "version_major": 2,
              "version_minor": 0
            },
            "text/plain": [
              "Running Epoch 2 of 10:   0%|          | 0/2621 [00:00<?, ?it/s]"
            ]
          },
          "metadata": {},
          "output_type": "display_data"
        },
        {
          "name": "stderr",
          "output_type": "stream",
          "text": [
            "/usr/local/lib/python3.11/dist-packages/simpletransformers/classification/classification_model.py:905: FutureWarning: `torch.cuda.amp.autocast(args...)` is deprecated. Please use `torch.amp.autocast('cuda', args...)` instead.\n",
            "  with amp.autocast():\n"
          ]
        },
        {
          "data": {
            "application/vnd.jupyter.widget-view+json": {
              "model_id": "7e44181de5244d279720e5967b6cbd17",
              "version_major": 2,
              "version_minor": 0
            },
            "text/plain": [
              "  0%|          | 0/13 [00:00<?, ?it/s]"
            ]
          },
          "metadata": {},
          "output_type": "display_data"
        },
        {
          "name": "stderr",
          "output_type": "stream",
          "text": [
            "/usr/local/lib/python3.11/dist-packages/simpletransformers/classification/classification_model.py:1505: FutureWarning: `torch.cuda.amp.autocast(args...)` is deprecated. Please use `torch.amp.autocast('cuda', args...)` instead.\n",
            "  with amp.autocast():\n"
          ]
        },
        {
          "data": {
            "application/vnd.jupyter.widget-view+json": {
              "model_id": "931697c29a4e40a0b8bbf6336c4f9db5",
              "version_major": 2,
              "version_minor": 0
            },
            "text/plain": [
              "  0%|          | 0/13 [00:00<?, ?it/s]"
            ]
          },
          "metadata": {},
          "output_type": "display_data"
        },
        {
          "name": "stderr",
          "output_type": "stream",
          "text": [
            "/usr/local/lib/python3.11/dist-packages/simpletransformers/classification/classification_model.py:1505: FutureWarning: `torch.cuda.amp.autocast(args...)` is deprecated. Please use `torch.amp.autocast('cuda', args...)` instead.\n",
            "  with amp.autocast():\n"
          ]
        },
        {
          "data": {
            "application/vnd.jupyter.widget-view+json": {
              "model_id": "3eb4b67956f54cf49a4d63192631c4a4",
              "version_major": 2,
              "version_minor": 0
            },
            "text/plain": [
              "Running Epoch 3 of 10:   0%|          | 0/2621 [00:00<?, ?it/s]"
            ]
          },
          "metadata": {},
          "output_type": "display_data"
        },
        {
          "name": "stderr",
          "output_type": "stream",
          "text": [
            "/usr/local/lib/python3.11/dist-packages/simpletransformers/classification/classification_model.py:905: FutureWarning: `torch.cuda.amp.autocast(args...)` is deprecated. Please use `torch.amp.autocast('cuda', args...)` instead.\n",
            "  with amp.autocast():\n"
          ]
        },
        {
          "data": {
            "application/vnd.jupyter.widget-view+json": {
              "model_id": "20b3c2d8c6f24527bdda0c929faf00f5",
              "version_major": 2,
              "version_minor": 0
            },
            "text/plain": [
              "  0%|          | 0/13 [00:00<?, ?it/s]"
            ]
          },
          "metadata": {},
          "output_type": "display_data"
        },
        {
          "name": "stderr",
          "output_type": "stream",
          "text": [
            "/usr/local/lib/python3.11/dist-packages/simpletransformers/classification/classification_model.py:1505: FutureWarning: `torch.cuda.amp.autocast(args...)` is deprecated. Please use `torch.amp.autocast('cuda', args...)` instead.\n",
            "  with amp.autocast():\n"
          ]
        },
        {
          "data": {
            "application/vnd.jupyter.widget-view+json": {
              "model_id": "6ae43f782a7d48e8a4d086fcc88a825f",
              "version_major": 2,
              "version_minor": 0
            },
            "text/plain": [
              "  0%|          | 0/13 [00:00<?, ?it/s]"
            ]
          },
          "metadata": {},
          "output_type": "display_data"
        },
        {
          "name": "stderr",
          "output_type": "stream",
          "text": [
            "/usr/local/lib/python3.11/dist-packages/simpletransformers/classification/classification_model.py:1505: FutureWarning: `torch.cuda.amp.autocast(args...)` is deprecated. Please use `torch.amp.autocast('cuda', args...)` instead.\n",
            "  with amp.autocast():\n"
          ]
        },
        {
          "data": {
            "application/vnd.jupyter.widget-view+json": {
              "model_id": "8d30c31df6aa46e084afabf53758c02a",
              "version_major": 2,
              "version_minor": 0
            },
            "text/plain": [
              "Running Epoch 4 of 10:   0%|          | 0/2621 [00:00<?, ?it/s]"
            ]
          },
          "metadata": {},
          "output_type": "display_data"
        },
        {
          "name": "stderr",
          "output_type": "stream",
          "text": [
            "/usr/local/lib/python3.11/dist-packages/simpletransformers/classification/classification_model.py:905: FutureWarning: `torch.cuda.amp.autocast(args...)` is deprecated. Please use `torch.amp.autocast('cuda', args...)` instead.\n",
            "  with amp.autocast():\n"
          ]
        },
        {
          "data": {
            "application/vnd.jupyter.widget-view+json": {
              "model_id": "8b180b6d660d4838b27b3275face95ee",
              "version_major": 2,
              "version_minor": 0
            },
            "text/plain": [
              "  0%|          | 0/13 [00:00<?, ?it/s]"
            ]
          },
          "metadata": {},
          "output_type": "display_data"
        },
        {
          "name": "stderr",
          "output_type": "stream",
          "text": [
            "/usr/local/lib/python3.11/dist-packages/simpletransformers/classification/classification_model.py:1505: FutureWarning: `torch.cuda.amp.autocast(args...)` is deprecated. Please use `torch.amp.autocast('cuda', args...)` instead.\n",
            "  with amp.autocast():\n"
          ]
        },
        {
          "data": {
            "application/vnd.jupyter.widget-view+json": {
              "model_id": "a0482c04b70e49f583e9cce8984930b8",
              "version_major": 2,
              "version_minor": 0
            },
            "text/plain": [
              "  0%|          | 0/13 [00:00<?, ?it/s]"
            ]
          },
          "metadata": {},
          "output_type": "display_data"
        },
        {
          "name": "stderr",
          "output_type": "stream",
          "text": [
            "/usr/local/lib/python3.11/dist-packages/simpletransformers/classification/classification_model.py:1505: FutureWarning: `torch.cuda.amp.autocast(args...)` is deprecated. Please use `torch.amp.autocast('cuda', args...)` instead.\n",
            "  with amp.autocast():\n"
          ]
        },
        {
          "data": {
            "application/vnd.jupyter.widget-view+json": {
              "model_id": "cbb76421ff764b1b87bd9506bc9e33be",
              "version_major": 2,
              "version_minor": 0
            },
            "text/plain": [
              "Running Epoch 5 of 10:   0%|          | 0/2621 [00:00<?, ?it/s]"
            ]
          },
          "metadata": {},
          "output_type": "display_data"
        },
        {
          "name": "stderr",
          "output_type": "stream",
          "text": [
            "/usr/local/lib/python3.11/dist-packages/simpletransformers/classification/classification_model.py:905: FutureWarning: `torch.cuda.amp.autocast(args...)` is deprecated. Please use `torch.amp.autocast('cuda', args...)` instead.\n",
            "  with amp.autocast():\n"
          ]
        },
        {
          "data": {
            "application/vnd.jupyter.widget-view+json": {
              "model_id": "c5af5fb8623e42a398b7c9a21d731e59",
              "version_major": 2,
              "version_minor": 0
            },
            "text/plain": [
              "  0%|          | 0/13 [00:00<?, ?it/s]"
            ]
          },
          "metadata": {},
          "output_type": "display_data"
        },
        {
          "name": "stderr",
          "output_type": "stream",
          "text": [
            "/usr/local/lib/python3.11/dist-packages/simpletransformers/classification/classification_model.py:1505: FutureWarning: `torch.cuda.amp.autocast(args...)` is deprecated. Please use `torch.amp.autocast('cuda', args...)` instead.\n",
            "  with amp.autocast():\n"
          ]
        },
        {
          "data": {
            "application/vnd.jupyter.widget-view+json": {
              "model_id": "a995b7d450604a0bb4246769ab928eac",
              "version_major": 2,
              "version_minor": 0
            },
            "text/plain": [
              "  0%|          | 0/13 [00:00<?, ?it/s]"
            ]
          },
          "metadata": {},
          "output_type": "display_data"
        },
        {
          "name": "stderr",
          "output_type": "stream",
          "text": [
            "/usr/local/lib/python3.11/dist-packages/simpletransformers/classification/classification_model.py:1505: FutureWarning: `torch.cuda.amp.autocast(args...)` is deprecated. Please use `torch.amp.autocast('cuda', args...)` instead.\n",
            "  with amp.autocast():\n"
          ]
        },
        {
          "data": {
            "application/vnd.jupyter.widget-view+json": {
              "model_id": "b690047fe11c4ae986adf09686577b21",
              "version_major": 2,
              "version_minor": 0
            },
            "text/plain": [
              "Running Epoch 6 of 10:   0%|          | 0/2621 [00:00<?, ?it/s]"
            ]
          },
          "metadata": {},
          "output_type": "display_data"
        },
        {
          "name": "stderr",
          "output_type": "stream",
          "text": [
            "/usr/local/lib/python3.11/dist-packages/simpletransformers/classification/classification_model.py:905: FutureWarning: `torch.cuda.amp.autocast(args...)` is deprecated. Please use `torch.amp.autocast('cuda', args...)` instead.\n",
            "  with amp.autocast():\n"
          ]
        },
        {
          "data": {
            "application/vnd.jupyter.widget-view+json": {
              "model_id": "074158c7ceb34cdfbb38b96426b249dc",
              "version_major": 2,
              "version_minor": 0
            },
            "text/plain": [
              "  0%|          | 0/13 [00:00<?, ?it/s]"
            ]
          },
          "metadata": {},
          "output_type": "display_data"
        },
        {
          "name": "stderr",
          "output_type": "stream",
          "text": [
            "/usr/local/lib/python3.11/dist-packages/simpletransformers/classification/classification_model.py:1505: FutureWarning: `torch.cuda.amp.autocast(args...)` is deprecated. Please use `torch.amp.autocast('cuda', args...)` instead.\n",
            "  with amp.autocast():\n"
          ]
        },
        {
          "data": {
            "application/vnd.jupyter.widget-view+json": {
              "model_id": "8c4fe0c235994b3a89549b8aab17fa6c",
              "version_major": 2,
              "version_minor": 0
            },
            "text/plain": [
              "  0%|          | 0/13 [00:00<?, ?it/s]"
            ]
          },
          "metadata": {},
          "output_type": "display_data"
        },
        {
          "name": "stderr",
          "output_type": "stream",
          "text": [
            "/usr/local/lib/python3.11/dist-packages/simpletransformers/classification/classification_model.py:1505: FutureWarning: `torch.cuda.amp.autocast(args...)` is deprecated. Please use `torch.amp.autocast('cuda', args...)` instead.\n",
            "  with amp.autocast():\n"
          ]
        },
        {
          "data": {
            "application/vnd.jupyter.widget-view+json": {
              "model_id": "7f5e702f4ec44956afbe96e3553f05be",
              "version_major": 2,
              "version_minor": 0
            },
            "text/plain": [
              "Running Epoch 7 of 10:   0%|          | 0/2621 [00:00<?, ?it/s]"
            ]
          },
          "metadata": {},
          "output_type": "display_data"
        },
        {
          "name": "stderr",
          "output_type": "stream",
          "text": [
            "/usr/local/lib/python3.11/dist-packages/simpletransformers/classification/classification_model.py:905: FutureWarning: `torch.cuda.amp.autocast(args...)` is deprecated. Please use `torch.amp.autocast('cuda', args...)` instead.\n",
            "  with amp.autocast():\n"
          ]
        },
        {
          "data": {
            "application/vnd.jupyter.widget-view+json": {
              "model_id": "d69b6d213f384b6f99334b702c1118e2",
              "version_major": 2,
              "version_minor": 0
            },
            "text/plain": [
              "  0%|          | 0/13 [00:00<?, ?it/s]"
            ]
          },
          "metadata": {},
          "output_type": "display_data"
        },
        {
          "name": "stderr",
          "output_type": "stream",
          "text": [
            "/usr/local/lib/python3.11/dist-packages/simpletransformers/classification/classification_model.py:1505: FutureWarning: `torch.cuda.amp.autocast(args...)` is deprecated. Please use `torch.amp.autocast('cuda', args...)` instead.\n",
            "  with amp.autocast():\n"
          ]
        },
        {
          "data": {
            "application/vnd.jupyter.widget-view+json": {
              "model_id": "5c56d7ba6ad2421b9ec686b68b93fd98",
              "version_major": 2,
              "version_minor": 0
            },
            "text/plain": [
              "  0%|          | 0/13 [00:00<?, ?it/s]"
            ]
          },
          "metadata": {},
          "output_type": "display_data"
        },
        {
          "name": "stderr",
          "output_type": "stream",
          "text": [
            "/usr/local/lib/python3.11/dist-packages/simpletransformers/classification/classification_model.py:1505: FutureWarning: `torch.cuda.amp.autocast(args...)` is deprecated. Please use `torch.amp.autocast('cuda', args...)` instead.\n",
            "  with amp.autocast():\n"
          ]
        },
        {
          "data": {
            "application/vnd.jupyter.widget-view+json": {
              "model_id": "f74e8454d2bd402b8045a52c66ccd749",
              "version_major": 2,
              "version_minor": 0
            },
            "text/plain": [
              "Running Epoch 8 of 10:   0%|          | 0/2621 [00:00<?, ?it/s]"
            ]
          },
          "metadata": {},
          "output_type": "display_data"
        },
        {
          "name": "stderr",
          "output_type": "stream",
          "text": [
            "/usr/local/lib/python3.11/dist-packages/simpletransformers/classification/classification_model.py:905: FutureWarning: `torch.cuda.amp.autocast(args...)` is deprecated. Please use `torch.amp.autocast('cuda', args...)` instead.\n",
            "  with amp.autocast():\n"
          ]
        },
        {
          "data": {
            "application/vnd.jupyter.widget-view+json": {
              "model_id": "64f5708614a74257840d34373dd67638",
              "version_major": 2,
              "version_minor": 0
            },
            "text/plain": [
              "  0%|          | 0/13 [00:00<?, ?it/s]"
            ]
          },
          "metadata": {},
          "output_type": "display_data"
        },
        {
          "name": "stderr",
          "output_type": "stream",
          "text": [
            "/usr/local/lib/python3.11/dist-packages/simpletransformers/classification/classification_model.py:1505: FutureWarning: `torch.cuda.amp.autocast(args...)` is deprecated. Please use `torch.amp.autocast('cuda', args...)` instead.\n",
            "  with amp.autocast():\n"
          ]
        },
        {
          "data": {
            "application/vnd.jupyter.widget-view+json": {
              "model_id": "f37020eca3e24fba858532972332d52c",
              "version_major": 2,
              "version_minor": 0
            },
            "text/plain": [
              "  0%|          | 0/13 [00:00<?, ?it/s]"
            ]
          },
          "metadata": {},
          "output_type": "display_data"
        },
        {
          "name": "stderr",
          "output_type": "stream",
          "text": [
            "/usr/local/lib/python3.11/dist-packages/simpletransformers/classification/classification_model.py:1505: FutureWarning: `torch.cuda.amp.autocast(args...)` is deprecated. Please use `torch.amp.autocast('cuda', args...)` instead.\n",
            "  with amp.autocast():\n"
          ]
        },
        {
          "data": {
            "application/vnd.jupyter.widget-view+json": {
              "model_id": "5a97a5ea5a934157ae23a99f397363ba",
              "version_major": 2,
              "version_minor": 0
            },
            "text/plain": [
              "Running Epoch 9 of 10:   0%|          | 0/2621 [00:00<?, ?it/s]"
            ]
          },
          "metadata": {},
          "output_type": "display_data"
        },
        {
          "name": "stderr",
          "output_type": "stream",
          "text": [
            "/usr/local/lib/python3.11/dist-packages/simpletransformers/classification/classification_model.py:905: FutureWarning: `torch.cuda.amp.autocast(args...)` is deprecated. Please use `torch.amp.autocast('cuda', args...)` instead.\n",
            "  with amp.autocast():\n"
          ]
        },
        {
          "data": {
            "application/vnd.jupyter.widget-view+json": {
              "model_id": "e7105de867864915826a1c362627602b",
              "version_major": 2,
              "version_minor": 0
            },
            "text/plain": [
              "  0%|          | 0/13 [00:00<?, ?it/s]"
            ]
          },
          "metadata": {},
          "output_type": "display_data"
        },
        {
          "name": "stderr",
          "output_type": "stream",
          "text": [
            "/usr/local/lib/python3.11/dist-packages/simpletransformers/classification/classification_model.py:1505: FutureWarning: `torch.cuda.amp.autocast(args...)` is deprecated. Please use `torch.amp.autocast('cuda', args...)` instead.\n",
            "  with amp.autocast():\n"
          ]
        },
        {
          "data": {
            "application/vnd.jupyter.widget-view+json": {
              "model_id": "43636f5f86f64462bf471384bdafa915",
              "version_major": 2,
              "version_minor": 0
            },
            "text/plain": [
              "  0%|          | 0/13 [00:00<?, ?it/s]"
            ]
          },
          "metadata": {},
          "output_type": "display_data"
        },
        {
          "name": "stderr",
          "output_type": "stream",
          "text": [
            "/usr/local/lib/python3.11/dist-packages/simpletransformers/classification/classification_model.py:1505: FutureWarning: `torch.cuda.amp.autocast(args...)` is deprecated. Please use `torch.amp.autocast('cuda', args...)` instead.\n",
            "  with amp.autocast():\n"
          ]
        },
        {
          "data": {
            "application/vnd.jupyter.widget-view+json": {
              "model_id": "d4bd5de4fad6481c9c038247b154d398",
              "version_major": 2,
              "version_minor": 0
            },
            "text/plain": [
              "Running Epoch 10 of 10:   0%|          | 0/2621 [00:00<?, ?it/s]"
            ]
          },
          "metadata": {},
          "output_type": "display_data"
        },
        {
          "name": "stderr",
          "output_type": "stream",
          "text": [
            "/usr/local/lib/python3.11/dist-packages/simpletransformers/classification/classification_model.py:905: FutureWarning: `torch.cuda.amp.autocast(args...)` is deprecated. Please use `torch.amp.autocast('cuda', args...)` instead.\n",
            "  with amp.autocast():\n"
          ]
        },
        {
          "data": {
            "application/vnd.jupyter.widget-view+json": {
              "model_id": "2378e86998a24e26be9806bc4ec619a7",
              "version_major": 2,
              "version_minor": 0
            },
            "text/plain": [
              "  0%|          | 0/13 [00:00<?, ?it/s]"
            ]
          },
          "metadata": {},
          "output_type": "display_data"
        },
        {
          "name": "stderr",
          "output_type": "stream",
          "text": [
            "/usr/local/lib/python3.11/dist-packages/simpletransformers/classification/classification_model.py:1505: FutureWarning: `torch.cuda.amp.autocast(args...)` is deprecated. Please use `torch.amp.autocast('cuda', args...)` instead.\n",
            "  with amp.autocast():\n"
          ]
        },
        {
          "data": {
            "application/vnd.jupyter.widget-view+json": {
              "model_id": "b8d265b5351447f39642bc734621f0ba",
              "version_major": 2,
              "version_minor": 0
            },
            "text/plain": [
              "  0%|          | 0/13 [00:00<?, ?it/s]"
            ]
          },
          "metadata": {},
          "output_type": "display_data"
        },
        {
          "name": "stderr",
          "output_type": "stream",
          "text": [
            "/usr/local/lib/python3.11/dist-packages/simpletransformers/classification/classification_model.py:1505: FutureWarning: `torch.cuda.amp.autocast(args...)` is deprecated. Please use `torch.amp.autocast('cuda', args...)` instead.\n",
            "  with amp.autocast():\n"
          ]
        },
        {
          "name": "stdout",
          "output_type": "stream",
          "text": [
            "{'epoch1': {'0': {'precision': 0.8205495134516314, 'recall': 0.7659631311781993, 'f0.5-score': 0.8090185676392573, 'support': 3743.0}, '1': {'precision': 0.9214123006833713, 'recall': 0.593108504398827, 'f0.5-score': 0.8295734208367515, 'support': 1364.0}, '2': {'precision': 1.0, 'recall': 0.9914586070959264, 'f0.5-score': 0.9982799682455676, 'support': 1522.0}, '3': {'precision': 0.26919602529358627, 'recall': 0.83008356545961, 'f0.5-score': 0.3112596615834552, 'support': 359.0}, 'accuracy': 0.7846307956496852, 'macro avg': {'precision': 0.7527894598571473, 'recall': 0.7951534520331407, 'f0.5-score': 0.7370329045762579, 'support': 6988.0}, 'weighted avg': {'precision': 0.8509966485492233, 'recall': 0.7846307956496852, 'f0.5-score': 0.8286804486080829, 'support': 6988.0}}}\n",
            "{'epoch2': {'0': {'precision': 0.7936462507155123, 'recall': 0.948034188034188, 'f0.5-score': 0.8203656588367553, 'support': 2925.0}, '1': {'precision': 0.9555808656036446, 'recall': 0.5929328621908128, 'f0.5-score': 0.8514308910087274, 'support': 1415.0}, '2': {'precision': 0.998674618952949, 'recall': 0.9953764861294584, 'f0.5-score': 0.9980132450331126, 'support': 1514.0}, '3': {'precision': 0.8970189701897019, 'recall': 0.8756613756613757, 'f0.5-score': 0.8926645091693636, 'support': 1134.0}, 'accuracy': 0.8746422438465942, 'macro avg': {'precision': 0.911230176365452, 'recall': 0.8530012280039587, 'f0.5-score': 0.8906185760119897, 'support': 6988.0}, 'weighted avg': {'precision': 0.8876323831513906, 'recall': 0.8746422438465942, 'f0.5-score': 0.8768771993779406, 'support': 6988.0}}}\n",
            "{'epoch3': {'0': {'precision': 0.815684029765312, 'recall': 0.9651202167287504, 'f0.5-score': 0.8417508417508418, 'support': 2953.0}, '1': {'precision': 0.9669703872437357, 'recall': 0.592463363572924, 'f0.5-score': 0.8584428715874621, 'support': 1433.0}, '2': {'precision': 0.9993373094764745, 'recall': 0.9973544973544973, 'f0.5-score': 0.9989401165871754, 'support': 1512.0}, '3': {'precision': 0.934056007226739, 'recall': 0.9486238532110092, 'f0.5-score': 0.9369336716201522, 'support': 1090.0}, 'accuracy': 0.8931024613623354, 'macro avg': {'precision': 0.9290119334280653, 'recall': 0.8758904827167953, 'f0.5-score': 0.9090168753864079, 'support': 6988.0}, 'weighted avg': {'precision': 0.9049087814285652, 'recall': 0.8931024613623354, 'f0.5-score': 0.8940317728993766, 'support': 6988.0}}}\n",
            "{'epoch4': {'0': {'precision': 0.8259874069834001, 'recall': 0.9431372549019608, 'f0.5-score': 0.8470298192063864, 'support': 3060.0}, '1': {'precision': 0.857630979498861, 'recall': 0.5739329268292683, 'f0.5-score': 0.7804726368159204, 'support': 1312.0}, '2': {'precision': 1.0, 'recall': 0.996039603960396, 'f0.5-score': 0.9992054032578467, 'support': 1515.0}, '3': {'precision': 0.955736224028907, 'recall': 0.96094459582198, 'f0.5-score': 0.9567733767408211, 'support': 1101.0}, 'accuracy': 0.8880938752146537, 'macro avg': {'precision': 0.9098386526277921, 'recall': 0.8685135953784013, 'f0.5-score': 0.8958703090052436, 'support': 6988.0}, 'weighted avg': {'precision': 0.8900971512775525, 'recall': 0.8880938752146537, 'f0.5-score': 0.8848161161993863, 'support': 6988.0}}}\n",
            "{'epoch5': {'0': {'precision': 0.815684029765312, 'recall': 0.9625126646403243, 'f0.5-score': 0.841353250280451, 'support': 2961.0}, '1': {'precision': 0.9054669703872438, 'recall': 0.5794460641399417, 'f0.5-score': 0.8138820638820639, 'support': 1372.0}, '2': {'precision': 0.9993373094764745, 'recall': 0.994067237969677, 'f0.5-score': 0.9982788296041308, 'support': 1517.0}, '3': {'precision': 0.974706413730804, 'recall': 0.9481546572934973, 'f0.5-score': 0.9692777578153072, 'support': 1138.0}, 'accuracy': 0.8918145392100744, 'macro avg': {'precision': 0.9237986808399585, 'recall': 0.8710451560108601, 'f0.5-score': 0.9056979753954882, 'support': 6988.0}, 'weighted avg': {'precision': 0.8990772313691835, 'recall': 0.8918145392100744, 'f0.5-score': 0.8908586489166991, 'support': 6988.0}}}\n",
            "{'epoch6': {'0': {'precision': 0.8251287922152261, 'recall': 0.936038961038961, 'f0.5-score': 0.8451571294559099, 'support': 3080.0}, '1': {'precision': 0.8154897494305239, 'recall': 0.5606891151135474, 'f0.5-score': 0.7475464606389642, 'support': 1277.0}, '2': {'precision': 0.9993373094764745, 'recall': 0.9986754966887417, 'f0.5-score': 0.9992048767558972, 'support': 1510.0}, '3': {'precision': 0.969286359530262, 'recall': 0.9571810883140054, 'f0.5-score': 0.9668408722292305, 'support': 1121.0}, 'accuracy': 0.884373211219233, 'macro avg': {'precision': 0.9023105526631215, 'recall': 0.8631461652888138, 'f0.5-score': 0.8896873347700005, 'support': 6988.0}, 'weighted avg': {'precision': 0.884136582196419, 'recall': 0.884373211219233, 'f0.5-score': 0.8801271852648158, 'support': 6988.0}}}\n",
            "{'epoch7': {'0': {'precision': 0.8294218660560961, 'recall': 0.9220489977728286, 'f0.5-score': 0.8464279455575676, 'support': 3143.0}, '1': {'precision': 0.7676537585421412, 'recall': 0.5506535947712419, 'f0.5-score': 0.7115709459459459, 'support': 1224.0}, '2': {'precision': 0.9993373094764745, 'recall': 0.9953795379537954, 'f0.5-score': 0.9985432393060522, 'support': 1515.0}, '3': {'precision': 0.9629629629629629, 'recall': 0.9638336347197106, 'f0.5-score': 0.963136971449223, 'support': 1106.0}, 'accuracy': 0.8795077275329136, 'macro avg': {'precision': 0.8898439742594186, 'recall': 0.8579789413043941, 'f0.5-score': 0.8799197755646971, 'support': 6988.0}, 'weighted avg': {'precision': 0.8765761571785614, 'recall': 0.8795077275329136, 'f0.5-score': 0.8742570647820238, 'support': 6988.0}}}\n",
            "{'epoch8': {'0': {'precision': 0.8508872352604465, 'recall': 0.8769911504424779, 'f0.5-score': 0.8559829551998157, 'support': 3390.0}, '1': {'precision': 0.5671981776765376, 'recall': 0.5097236438075742, 'f0.5-score': 0.5546892403653375, 'support': 977.0}, '2': {'precision': 0.9993373094764745, 'recall': 0.9966953073364178, 'f0.5-score': 0.9988077891111405, 'support': 1513.0}, '3': {'precision': 0.966576332429991, 'recall': 0.9657039711191335, 'f0.5-score': 0.9664017341040463, 'support': 1108.0}, 'accuracy': 0.865626788780767, 'macro avg': {'precision': 0.8459997637108624, 'recall': 0.8372785181764008, 'f0.5-score': 0.8439704296950851, 'support': 6988.0}, 'weighted avg': {'precision': 0.8617092548215837, 'recall': 0.865626788780767, 'f0.5-score': 0.8622900561357683, 'support': 6988.0}}}\n",
            "{'epoch9': {'0': {'precision': 0.8431597023468803, 'recall': 0.8878842676311031, 'f0.5-score': 0.8517404880305308, 'support': 3318.0}, '1': {'precision': 0.6150341685649203, 'recall': 0.5172413793103449, 'f0.5-score': 0.5926251097453907, 'support': 1044.0}, '2': {'precision': 0.9993373094764745, 'recall': 0.9973544973544973, 'f0.5-score': 0.9989401165871754, 'support': 1512.0}, '3': {'precision': 0.969286359530262, 'recall': 0.9631956912028725, 'f0.5-score': 0.9680620714543486, 'support': 1114.0}, 'accuracy': 0.8682026330852891, 'macro avg': {'precision': 0.8567043849796342, 'recall': 0.8414189588747044, 'f0.5-score': 0.8528419464543615, 'support': 6988.0}, 'weighted avg': {'precision': 0.8629769005171533, 'recall': 0.8682026330852891, 'f0.5-score': 0.8634221748339215, 'support': 6988.0}}}\n",
            "{'epoch10': {'0': {'precision': 0.8483113909559244, 'recall': 0.8797862867319679, 'f0.5-score': 0.8544249063130586, 'support': 3369.0}, '1': {'precision': 0.5740318906605922, 'recall': 0.5101214574898786, 'f0.5-score': 0.56, 'support': 988.0}, '2': {'precision': 0.9993373094764745, 'recall': 0.9980145598941098, 'f0.5-score': 0.9990724791307805, 'support': 1511.0}, '3': {'precision': 0.971996386630533, 'recall': 0.9607142857142857, 'f0.5-score': 0.969718817591925, 'support': 1120.0}, 'accuracy': 0.866056096164854, 'macro avg': {'precision': 0.8484192444308811, 'recall': 0.8371591474575605, 'f0.5-score': 0.845804050758941, 'support': 6988.0}, 'weighted avg': {'precision': 0.8620119078059995, 'recall': 0.866056096164854, 'f0.5-score': 0.8625531054719892, 'support': 6988.0}}}\n"
          ]
        }
      ],
      "source": [
        "# Define model arguments\n",
        "model_args = ClassificationArgs(eval_batch_size=64,\n",
        "                                # train_batch_size=64,\n",
        "                                evaluate_during_training=True,\n",
        "                                save_eval_checkpoints=False,\n",
        "                                save_steps=-1,\n",
        "                                manual_seed=42,\n",
        "                                evaluate_during_training_steps=2621,\n",
        "                                overwrite_output_dir=True,\n",
        "                                labels_list=['G', 'PREP', 'DET','SVA']\n",
        "                                )\n",
        "model_args.num_train_epochs = 10\n",
        "\n",
        "# Initialize the model\n",
        "model = ClassificationModel('roberta',\n",
        "                            '/content/drive/MyDrive/VU Thesis/Code/baby_models/V20L4/model_e10_v20_l4',\n",
        "                            args=model_args,\n",
        "                            num_labels=4\n",
        "                            )\n",
        "\n",
        "\n",
        "f05_scores_e10 = []\n",
        "epoch_num_count = 1\n",
        "_last_metric_str = None  # Store last metric as a string for comparison\n",
        "\n",
        "def custom_metric(preds, labels):\n",
        "    global _last_metric_str\n",
        "    global epoch_num_count\n",
        "    metric = classification_report_f0_5(labels, preds, output_dict=True)\n",
        "\n",
        "    # Serialize to string for reliable comparison\n",
        "    metric_str = json.dumps(metric, sort_keys=True)\n",
        "\n",
        "    if metric_str != _last_metric_str:\n",
        "        f05_scores_e10.append({f\"epoch{epoch_num_count}\":metric})\n",
        "        epoch_num_count+=1\n",
        "        _last_metric_str = metric_str\n",
        "\n",
        "    return metric['macro avg']['f0.5-score']\n",
        "\n",
        "# Train the model with the callback\n",
        "model.train_model(train_df, eval_df=dev_df, compute_metrics=custom_metric)\n",
        "\n",
        "# f05_scores_e10_df = pd.DataFrame(f05_scores_e10)\n",
        "# print(f05_scores_e10_df)\n",
        "for item in f05_scores_e10:\n",
        "    print(item)\n",
        "\n",
        "with open(os.path.join(main_path, 'epoch_10_evals.json'), 'w') as out_file:\n",
        "    json.dump(f05_scores_e10, out_file)"
      ]
    },
    {
      "cell_type": "code",
      "execution_count": null,
      "metadata": {
        "colab": {
          "base_uri": "https://localhost:8080/"
        },
        "id": "gE0u5ET-ySN8",
        "outputId": "dc8d9c7c-d403-41cf-8023-de71cf7155b4"
      },
      "outputs": [
        {
          "name": "stdout",
          "output_type": "stream",
          "text": [
            "{'epoch1': {'0': {'precision': 0.8205495134516314, 'recall': 0.7659631311781993, 'f0.5-score': 0.8090185676392573, 'support': 3743.0}, '1': {'precision': 0.9214123006833713, 'recall': 0.593108504398827, 'f0.5-score': 0.8295734208367515, 'support': 1364.0}, '2': {'precision': 1.0, 'recall': 0.9914586070959264, 'f0.5-score': 0.9982799682455676, 'support': 1522.0}, '3': {'precision': 0.26919602529358627, 'recall': 0.83008356545961, 'f0.5-score': 0.3112596615834552, 'support': 359.0}, 'accuracy': 0.7846307956496852, 'macro avg': {'precision': 0.7527894598571473, 'recall': 0.7951534520331407, 'f0.5-score': 0.7370329045762579, 'support': 6988.0}, 'weighted avg': {'precision': 0.8509966485492233, 'recall': 0.7846307956496852, 'f0.5-score': 0.8286804486080829, 'support': 6988.0}}}\n",
            "{'epoch2': {'0': {'precision': 0.7936462507155123, 'recall': 0.948034188034188, 'f0.5-score': 0.8203656588367553, 'support': 2925.0}, '1': {'precision': 0.9555808656036446, 'recall': 0.5929328621908128, 'f0.5-score': 0.8514308910087274, 'support': 1415.0}, '2': {'precision': 0.998674618952949, 'recall': 0.9953764861294584, 'f0.5-score': 0.9980132450331126, 'support': 1514.0}, '3': {'precision': 0.8970189701897019, 'recall': 0.8756613756613757, 'f0.5-score': 0.8926645091693636, 'support': 1134.0}, 'accuracy': 0.8746422438465942, 'macro avg': {'precision': 0.911230176365452, 'recall': 0.8530012280039587, 'f0.5-score': 0.8906185760119897, 'support': 6988.0}, 'weighted avg': {'precision': 0.8876323831513906, 'recall': 0.8746422438465942, 'f0.5-score': 0.8768771993779406, 'support': 6988.0}}}\n",
            "{'epoch3': {'0': {'precision': 0.815684029765312, 'recall': 0.9651202167287504, 'f0.5-score': 0.8417508417508418, 'support': 2953.0}, '1': {'precision': 0.9669703872437357, 'recall': 0.592463363572924, 'f0.5-score': 0.8584428715874621, 'support': 1433.0}, '2': {'precision': 0.9993373094764745, 'recall': 0.9973544973544973, 'f0.5-score': 0.9989401165871754, 'support': 1512.0}, '3': {'precision': 0.934056007226739, 'recall': 0.9486238532110092, 'f0.5-score': 0.9369336716201522, 'support': 1090.0}, 'accuracy': 0.8931024613623354, 'macro avg': {'precision': 0.9290119334280653, 'recall': 0.8758904827167953, 'f0.5-score': 0.9090168753864079, 'support': 6988.0}, 'weighted avg': {'precision': 0.9049087814285652, 'recall': 0.8931024613623354, 'f0.5-score': 0.8940317728993766, 'support': 6988.0}}}\n",
            "{'epoch4': {'0': {'precision': 0.8259874069834001, 'recall': 0.9431372549019608, 'f0.5-score': 0.8470298192063864, 'support': 3060.0}, '1': {'precision': 0.857630979498861, 'recall': 0.5739329268292683, 'f0.5-score': 0.7804726368159204, 'support': 1312.0}, '2': {'precision': 1.0, 'recall': 0.996039603960396, 'f0.5-score': 0.9992054032578467, 'support': 1515.0}, '3': {'precision': 0.955736224028907, 'recall': 0.96094459582198, 'f0.5-score': 0.9567733767408211, 'support': 1101.0}, 'accuracy': 0.8880938752146537, 'macro avg': {'precision': 0.9098386526277921, 'recall': 0.8685135953784013, 'f0.5-score': 0.8958703090052436, 'support': 6988.0}, 'weighted avg': {'precision': 0.8900971512775525, 'recall': 0.8880938752146537, 'f0.5-score': 0.8848161161993863, 'support': 6988.0}}}\n",
            "{'epoch5': {'0': {'precision': 0.815684029765312, 'recall': 0.9625126646403243, 'f0.5-score': 0.841353250280451, 'support': 2961.0}, '1': {'precision': 0.9054669703872438, 'recall': 0.5794460641399417, 'f0.5-score': 0.8138820638820639, 'support': 1372.0}, '2': {'precision': 0.9993373094764745, 'recall': 0.994067237969677, 'f0.5-score': 0.9982788296041308, 'support': 1517.0}, '3': {'precision': 0.974706413730804, 'recall': 0.9481546572934973, 'f0.5-score': 0.9692777578153072, 'support': 1138.0}, 'accuracy': 0.8918145392100744, 'macro avg': {'precision': 0.9237986808399585, 'recall': 0.8710451560108601, 'f0.5-score': 0.9056979753954882, 'support': 6988.0}, 'weighted avg': {'precision': 0.8990772313691835, 'recall': 0.8918145392100744, 'f0.5-score': 0.8908586489166991, 'support': 6988.0}}}\n",
            "{'epoch6': {'0': {'precision': 0.8251287922152261, 'recall': 0.936038961038961, 'f0.5-score': 0.8451571294559099, 'support': 3080.0}, '1': {'precision': 0.8154897494305239, 'recall': 0.5606891151135474, 'f0.5-score': 0.7475464606389642, 'support': 1277.0}, '2': {'precision': 0.9993373094764745, 'recall': 0.9986754966887417, 'f0.5-score': 0.9992048767558972, 'support': 1510.0}, '3': {'precision': 0.969286359530262, 'recall': 0.9571810883140054, 'f0.5-score': 0.9668408722292305, 'support': 1121.0}, 'accuracy': 0.884373211219233, 'macro avg': {'precision': 0.9023105526631215, 'recall': 0.8631461652888138, 'f0.5-score': 0.8896873347700005, 'support': 6988.0}, 'weighted avg': {'precision': 0.884136582196419, 'recall': 0.884373211219233, 'f0.5-score': 0.8801271852648158, 'support': 6988.0}}}\n",
            "{'epoch7': {'0': {'precision': 0.8294218660560961, 'recall': 0.9220489977728286, 'f0.5-score': 0.8464279455575676, 'support': 3143.0}, '1': {'precision': 0.7676537585421412, 'recall': 0.5506535947712419, 'f0.5-score': 0.7115709459459459, 'support': 1224.0}, '2': {'precision': 0.9993373094764745, 'recall': 0.9953795379537954, 'f0.5-score': 0.9985432393060522, 'support': 1515.0}, '3': {'precision': 0.9629629629629629, 'recall': 0.9638336347197106, 'f0.5-score': 0.963136971449223, 'support': 1106.0}, 'accuracy': 0.8795077275329136, 'macro avg': {'precision': 0.8898439742594186, 'recall': 0.8579789413043941, 'f0.5-score': 0.8799197755646971, 'support': 6988.0}, 'weighted avg': {'precision': 0.8765761571785614, 'recall': 0.8795077275329136, 'f0.5-score': 0.8742570647820238, 'support': 6988.0}}}\n",
            "{'epoch8': {'0': {'precision': 0.8508872352604465, 'recall': 0.8769911504424779, 'f0.5-score': 0.8559829551998157, 'support': 3390.0}, '1': {'precision': 0.5671981776765376, 'recall': 0.5097236438075742, 'f0.5-score': 0.5546892403653375, 'support': 977.0}, '2': {'precision': 0.9993373094764745, 'recall': 0.9966953073364178, 'f0.5-score': 0.9988077891111405, 'support': 1513.0}, '3': {'precision': 0.966576332429991, 'recall': 0.9657039711191335, 'f0.5-score': 0.9664017341040463, 'support': 1108.0}, 'accuracy': 0.865626788780767, 'macro avg': {'precision': 0.8459997637108624, 'recall': 0.8372785181764008, 'f0.5-score': 0.8439704296950851, 'support': 6988.0}, 'weighted avg': {'precision': 0.8617092548215837, 'recall': 0.865626788780767, 'f0.5-score': 0.8622900561357683, 'support': 6988.0}}}\n",
            "{'epoch9': {'0': {'precision': 0.8431597023468803, 'recall': 0.8878842676311031, 'f0.5-score': 0.8517404880305308, 'support': 3318.0}, '1': {'precision': 0.6150341685649203, 'recall': 0.5172413793103449, 'f0.5-score': 0.5926251097453907, 'support': 1044.0}, '2': {'precision': 0.9993373094764745, 'recall': 0.9973544973544973, 'f0.5-score': 0.9989401165871754, 'support': 1512.0}, '3': {'precision': 0.969286359530262, 'recall': 0.9631956912028725, 'f0.5-score': 0.9680620714543486, 'support': 1114.0}, 'accuracy': 0.8682026330852891, 'macro avg': {'precision': 0.8567043849796342, 'recall': 0.8414189588747044, 'f0.5-score': 0.8528419464543615, 'support': 6988.0}, 'weighted avg': {'precision': 0.8629769005171533, 'recall': 0.8682026330852891, 'f0.5-score': 0.8634221748339215, 'support': 6988.0}}}\n",
            "{'epoch10': {'0': {'precision': 0.8483113909559244, 'recall': 0.8797862867319679, 'f0.5-score': 0.8544249063130586, 'support': 3369.0}, '1': {'precision': 0.5740318906605922, 'recall': 0.5101214574898786, 'f0.5-score': 0.56, 'support': 988.0}, '2': {'precision': 0.9993373094764745, 'recall': 0.9980145598941098, 'f0.5-score': 0.9990724791307805, 'support': 1511.0}, '3': {'precision': 0.971996386630533, 'recall': 0.9607142857142857, 'f0.5-score': 0.969718817591925, 'support': 1120.0}, 'accuracy': 0.866056096164854, 'macro avg': {'precision': 0.8484192444308811, 'recall': 0.8371591474575605, 'f0.5-score': 0.845804050758941, 'support': 6988.0}, 'weighted avg': {'precision': 0.8620119078059995, 'recall': 0.866056096164854, 'f0.5-score': 0.8625531054719892, 'support': 6988.0}}}\n"
          ]
        }
      ],
      "source": [
        "for item in f05_scores_e10:\n",
        "    print(item)"
      ]
    },
    {
      "cell_type": "code",
      "execution_count": null,
      "metadata": {
        "colab": {
          "base_uri": "https://localhost:8080/"
        },
        "id": "W1aeRNo13b76",
        "outputId": "e8262e29-3f25-4dc0-90c4-8e411e154815"
      },
      "outputs": [
        {
          "name": "stdout",
          "output_type": "stream",
          "text": [
            "epoch1 0.7370329045762579\n",
            "epoch2 0.8906185760119897\n",
            "epoch3 0.9090168753864079\n",
            "epoch4 0.8958703090052436\n",
            "epoch5 0.9056979753954882\n",
            "epoch6 0.8896873347700005\n",
            "epoch7 0.8799197755646971\n",
            "epoch8 0.8439704296950851\n",
            "epoch9 0.8528419464543615\n",
            "epoch10 0.845804050758941\n"
          ]
        }
      ],
      "source": [
        "for item in f05_scores_e10:\n",
        "  for k , v in item.items():\n",
        "    print(k,v['macro avg']['f0.5-score'])"
      ]
    },
    {
      "cell_type": "markdown",
      "metadata": {
        "id": "_Myyx9Tz6wV0"
      },
      "source": [
        "# HALF of DATA"
      ]
    },
    {
      "cell_type": "code",
      "execution_count": null,
      "metadata": {
        "colab": {
          "base_uri": "https://localhost:8080/"
        },
        "id": "jrWkLYC97DSm",
        "outputId": "cd2889d9-4448-4f88-8f3f-ef4d82342ba2"
      },
      "outputs": [
        {
          "name": "stdout",
          "output_type": "stream",
          "text": [
            "loading data...\n",
            "loading train_data.csv\n",
            "loading dev_data.csv\n",
            "loading data compelete.\n"
          ]
        }
      ],
      "source": [
        "print(\"loading data...\")\n",
        "\n",
        "print(\"loading train_data.csv\")\n",
        "train_df =pd.read_csv(os.path.join(data_path, \"train_data.csv\"))\n",
        "\n",
        "print(\"loading dev_data.csv\")\n",
        "dev_df =pd.read_csv(os.path.join(data_path, \"dev_data.csv\"))\n",
        "\n",
        "print(\"loading data compelete.\")"
      ]
    },
    {
      "cell_type": "code",
      "execution_count": null,
      "metadata": {
        "id": "oqRiS3xt7LRm"
      },
      "outputs": [],
      "source": [
        "train_df, tmp = train_test_split(train_df, train_size=0.5, random_state=42, stratify=train_df['labels'])"
      ]
    },
    {
      "cell_type": "markdown",
      "metadata": {
        "id": "Rk9oOwYw67GA"
      },
      "source": [
        "### Epoch 1"
      ]
    },
    {
      "cell_type": "code",
      "execution_count": null,
      "metadata": {
        "colab": {
          "base_uri": "https://localhost:8080/",
          "height": 1000,
          "referenced_widgets": [
            "74953722e4f74cdbaea148ba9009e95b",
            "a042548abbc4490c8ef80dd6f7b652f5",
            "24e0690b44344fff9b36402cfd978cd5",
            "b15a46d1ac514d9192b0ab93f051840a",
            "f63c73826a4947cf950ea801da693fed",
            "6fe5fdbff5e1486894b547741df99410",
            "3b8d4e17cc234df58e62c89a74c43229",
            "104f8b2030614a558c5b23c7899778d5",
            "e79566cfcc6d448dbb3c340f656840ed",
            "a5257f67e6a64968bf56332d688f56f3",
            "1683ea4a61c04eaab19b5fb8062360ae",
            "41f0c55abbba4b20bdaf8f12cc86f418",
            "f3fe66c1d8104beb8a32d6a8fdaef591",
            "96d9af15b4584825a702a3bd5b4c3187",
            "cbbc87c71c8f46a29ccc664dea2c590f",
            "6ceb47b8693b43c48461d2c4f8bd2d0d",
            "da0670ff7e3b4b3a856e5343251acc32",
            "f80c225fe6ad4b799500d3750f7406d8",
            "2fedfa371916441b931c0f56c8386f6d",
            "2d5d917ee0de4115b6b0a97a78e87fb7",
            "212cd44b0e9443be8c2bc04d2a4d3971",
            "2b4a25021ba041ae96247c129a59f35f",
            "a9484fe4beb0471c88f1ec5d2c788597",
            "6e70ac449dba4ba18907eaf5a0760688",
            "1d39a7dadb204a68919e4495a6f89a0d",
            "b3c3933ad3554551bd65ff823f306517",
            "32161039a26c4e23a035081466ee6c19",
            "8cb5ce8d92054316972f837772e0c741",
            "43d18a79d40248aa82598db430cf4843",
            "ba4a0d5172b746cb9bc4eb2e4fd826be",
            "067d82e736e840859d1da9db44e58273",
            "051f7e3be9e4422eaa17ed3c94b72420",
            "dcf180b1c88d41528d0981db528b5313",
            "68ea1907b7134a0084a8e374ed561e34",
            "b42da3d157424bc6bca2499530c7bae7",
            "18bbc8001bd44d16a4531dbe421a4a4f",
            "e9c5464e26a54af1a9d7912f3093ab04",
            "cc6dc42e505d4e40ad9df11df398eec3",
            "d92b13b792ee4ab0bfef1c01a00083d0",
            "a29aad088e474aa292492156a5771856",
            "17aa6ec533ac4ba9954698f98392c1ff",
            "d8ce66c8fda448c1bc8a04a5d95e9982",
            "13e2a702a5ad4ea09b07f5c3de2693cf",
            "f8476b36e9d24066a11ffd6e084354c2",
            "e1c2924cd63e46f49b786e8ca42faf83",
            "fb8d5c6d08a342efb997e1fdb85861da",
            "d69454ac69464cf2a19156e5e7ee8a65",
            "38e23babc00c4ca69774acfb5ca96def",
            "2730efc3f98e46f2bce7d8e4903df8ed",
            "a8e37dd3b1e04a058859bc393a53fa17",
            "bc3323fced3f480ebbc074b8730337a8",
            "80462a16216e4abcaafaa8abc717c48d",
            "d96dd7579a984a619deb5474b4d93ae7",
            "ba6e09b8cd534937a59dc0cec500227d",
            "00b5ee13811e4d03b4b8132f3d8ac643",
            "d103a9047951473c8604921a3ae4d9e9",
            "4f03beb3bf924835a27aa2d956c1db88",
            "ee22486c6132421fafc3b14a86337ee9",
            "471847df0b1d41a0bab3811b91e4f702",
            "7545fd11f55b4125bc8b2b390fe15abe",
            "c45e74dd1a3f4a908a69daeedee3a887",
            "4272d657fd0546c1a1210c123ae70ec0",
            "cb43a82a56fa4408bb1c82b1d34e2f6f",
            "b6ae854a74c04e098b881c2e8905fa02",
            "0b393d546e9e40aaa05b65aff7f52368",
            "f3d3a85a6c9a42e3a5ff605dc77d90ed",
            "d711a2d28fb444d9acce976d12bfc583",
            "21b3172dfcc24859a93fcc47de4b8f9d",
            "0f4b0d3fc7b3446289fae2a179b7f5be",
            "8511f9f837294683a70e324eb6527042",
            "4c5f659329e143339f66cf3fb8a13a1c",
            "20b1de82b680468ca2c7d78029e45120",
            "30e26054364a49aba3fadcba43436cb5",
            "0cc6df7860ec4a438c4929b6478dfb53",
            "3350b1d4f74045048c78e6159541a132",
            "86559066f4e44e7a8d04e62cce0990e9",
            "bddbea8245ea4352ab5b6a8392fbbd4a",
            "dbf1a1160d294f9599ed33eef614724f",
            "9de3d58c33054aacaa47acf2caf743eb",
            "157104af5055483395854ce4a5c4b5e7",
            "951ebd55a59944a8b5a5627ac0f7b8a4",
            "5bb4dec7446946cd86ac96c844d7bfbf",
            "17ca34050c324240b36a1e40e3b9ba2d",
            "24643c9ca7964a95a3c626529ddfaa6f",
            "28dd0d6db4ac41ce9d9fc45c21b0379c",
            "4655721caeda4a258fee8af1e5f7aa98",
            "140c976b2fcc4ba78dd55d6b091774d4",
            "b174c0a056844048a2b34e7ced76343c",
            "ceb1d6b235b946e2a0657daeb0248c2b",
            "0b2b9234eaf643bda1f3e522b355396c",
            "ad41429add4a44049d5354e23531bd3e",
            "31894c58b0b54d1ab7ef831b58ad8af6",
            "ed43941432c54f1eb528a20cec7b1c1d",
            "e2086539a2204ae59b8ba96985e75358",
            "2ba2943a6bfc4e01a6acb9f8279e0b9b",
            "89bcd1be4ade43afa1536eeb65873d97",
            "b72ef16b8e9446a689d1d1cb0d7f4945",
            "3b1997c1f6b14498a3b330631cd4b75b",
            "c2f9dec4e822481d9269ec287d3641ae",
            "4468bb3a00414a079995b2ce29a85434",
            "50349c04cdb94f9f952e6a95edb8c696",
            "6a03461ffcaa408d98c1c0f128e05cd3",
            "3f5f534835f94519aa9ecf7e1d068620",
            "0dafca7ee2b74a7dacb93226f56cfe6c",
            "553b3d8b907e45afae2455328ed5789e",
            "e41a424b5d3044748bd5ac4bf3fb6cb8",
            "f8fe57fdbdf24c7b9ea0455c2cd78f6d",
            "810ca281b1fc4265811423a97f356363",
            "326d5dec3ee04459afe1510f3720129c",
            "6f9b18347b7044fba74c4e492f99e0d9",
            "9641e124cf8a43e2a2c359e87d0d3ee1",
            "19a34128db6c4b97931ca6b23dca239a",
            "99e85b72e6ee4585b9ced656c79cac6b",
            "12f811324834496a9a8c892b2c03605d",
            "c9e18e532928494d8a12f057a1d950b2",
            "d93183972b924530a2ba5b9f8dc2427e",
            "95f0442c2e8f4dbf80ad9946ddb162ab",
            "57fd105ad1d94e09a64c0470b87df9a7",
            "1d9d220fdf69485290d356559ca2526e",
            "14a98c0b86c24b8dae074028b81cc9cf",
            "3636119362f24ac7abfdb0ec0405b018",
            "a9300bbf5cb84ba1a0fa77f90b8b3257",
            "b83d48e33608417db270dd4c383c9bcf",
            "fbaf22d3db2f4e03bb82b3985c0ae241",
            "0158237ac2f84d1aaedd5787eaea8bbc",
            "90211ec9d63c4e12aeac53ffa612e452",
            "b79e643d132641af8826a03d0824d07c",
            "113c41dc1c334e4e9682ffd520f59ffc",
            "47f089a1ea9d410a928d8cb16fb3cfe7",
            "142596a235df46ddb175ded98eeb4970",
            "1b529d427a39480fb82f23430948e111",
            "0fee3491d3354d3eb6a4cd335ed1a43b",
            "15f5289e1d194654965b4e156495fe94",
            "5bdfdfacce364498b028a7f83b3a5217",
            "9ff0629a3c924f8d8e8c3d0684318ff6",
            "44c322a86ce34d93a222aabb1785a90a",
            "be729447ba0247ef8579b0f489d1e68b",
            "2ab4c9915af24efcbea118e73250ec00",
            "71c2fc7dd14341c8b72a3ac35a3cea2d",
            "c43a85679827411ab2f893eac0660af3",
            "bad32d76bd624529a960593d2d76dffd",
            "cd3fe74e49e54a1689e3ed30bb882242",
            "dfb7db36887b46669d57cbfcec5f2305",
            "12b8a2c9cda44cb5abfbcc94c170a02a",
            "6563e2c58ff04bd49a7fe19910ba5536",
            "71c13e62d9ea4c2fbbce2085de1cd489",
            "de29cdc70fa342a8850726abe51ca2fc",
            "6aaebb09261e4814b982218261478b04",
            "b6a844d05b5747bbb380a377b695278b",
            "8595d6d4f1264940ac8a5c4a3c8fa3ae",
            "a2ff9adb6e1445bb9763f8d8d2bdda56",
            "8c831b29d5514014a26a63f2cac13e23",
            "b20e9af8f6514a6da746754085485cab",
            "3727db08c5e44a16b01fbef740d43c95",
            "ec6d94594d5940e28c5afd4d9385ab4c",
            "7d0285f76f6b47698279cb97a9fa90f0",
            "73e5e438365542ab81e56430c61c7305",
            "ef36a49de5154c67b0ceb551231af896",
            "44a4858021a241acbb343d8c98433e76",
            "217ed1c841994acfb5da6c4751ad2359",
            "f27763442f074efca1df127be45bbc4a",
            "28a3f57e081241efb87d9c42fbdaff6b",
            "74834203a0d24553bf54d7a71f6f2046",
            "1ebd21f63260413db17421b347a22784",
            "27dac30eb6a44d60bb24b4c06733433f",
            "d4c77902480e45fc87601b29cc3f0287",
            "1769f0ddb07545fba73b6778eb0b8b90",
            "c44d04d1865548e6bc3a6d1b535ac0a1",
            "d285ef233c1a4b22a52a81b03915acf5",
            "608f7ca22ac34c309bdd688da5df230f",
            "603bbfcc795b45c084f59d2c1a11272a",
            "bcfa4c8722314a27a629979f02f08b99",
            "ff6e21afe5964c60bed3280ec7847377",
            "7cfbbdae3cde48c8868aa12c146443af",
            "3616ad78403f4c8f8a09a4b55064e464",
            "384d789d2bf540f89761047d27f9311c",
            "0b6afed92cb249d68f211950d2764760",
            "95b7dc954a0f4d47be3928751ed35064",
            "b679f6ff243e404a8c5b9314a9650c8a",
            "5fc1a06b2c1045209f5e53d702899ac5",
            "2fd03c8c2ea1402d8851b9fd5fffd0db",
            "006cd458940d4eb4827f82a5dbe6db4c",
            "1a9293c1d9d647d9a3b242930cdd4677",
            "d7a021fd374947a989f07863918b6624",
            "e9ec7021dbba43feb07fc7690df78703",
            "d05762ae43b94dfdbf49d30d90cffb32",
            "f56d5e853fec45ad8fd6e2179175b364",
            "436da651b94341dfa11e99954a4e6511",
            "265273d166ff418f9b708f540505efcc",
            "3bc14ea0cc4740718b41496d92d7fdfb",
            "fc1c2b1a0be6435ebee61b45460c6600",
            "e38ceeb266ec4ecfb1fbc71ede3babd5",
            "f049b2b1a55340ac8420952bbcccf2dc",
            "fdc6c0b859dd4610b0cd347f3d0b99ab",
            "5d7b5eb6e9774fb3b6fa0af337673997",
            "f93afb5d64f24d8b8b57b1bedca804b5",
            "db318238924c4fa5b9ffbc6d527dd2dc",
            "64ecbed5c5334fc89f4a99f4aa9c94e0",
            "579f4487400b4fd2b0b3c728e299f2f2",
            "57a942209f174901908aedb8ef249f69",
            "de14ebbe725140a781b2154d075bb744",
            "948ac3130a664f6b99659b739243e757",
            "0a6ddac89deb449fab4e4d63d86f2338",
            "414f22b618e14b959413e6b9343884fb",
            "23e0b5534fd04a679aa7ab1306a34c6e",
            "f1088077785544428d4deb9ed6bb5de3",
            "69b98668f0db4eb28a19d6c5299e352d",
            "20c98664a63b4a4f960d314e72620307",
            "628acbb58d7947a091f3d251c58ee347",
            "b4f84202f4dc403f9674771f42aac17c",
            "9b4b8454b93445bb833fe2253269da45",
            "f3208fd6e8ef475dbd3af9cf6fa8834d",
            "8c120038f9c2478c99267a10b0cbfe3c",
            "0dab65c9f900408a93a2f64955e92967",
            "60d01c60906c430080f0bb903adbfc63",
            "f97b0aeac3334fd8b421b182a6356f3d",
            "a92ec0dbf93d47e2aae00c76d9aaafa4",
            "c46528494af846f6885e5a6cdaea2f1d",
            "f86f1b38f67a4e6b9e01ebbf202ca3e0",
            "66e266b9488e4d28bb60b73fa30ea1a7",
            "c4eaf396fe0647abb175c44cb7a5a263",
            "f36bea58eb42405c8dae7728eec4850b",
            "91b23f36377548acb2c76d41ee9b0ae4",
            "f3abc1ee2ebb448cb399538bd6a68754",
            "7c6a5b55e3824b10a1781bd0989a57b0",
            "9bf5a9fbde7148ffbb4a9ece57eb028e",
            "91e5b4d737f7450d81c3898a417477a6",
            "849b4e77ab934c95b47a47ae85752662",
            "134acbb4a0d94ea9afe1d51d2553a38d",
            "af1b3d1c25cb4e2c96c87832c3763524",
            "9a17d4a7a60f490d86f94191715027ea",
            "56d733d972514d3196ac1420b2bb8da3",
            "31e2fbeba0c1452a870dcf8abfd8298c",
            "ebabf863e978452492f0e858c6fff2b9",
            "e412e66e1d6f4cf6a64b1c7523c51fc2",
            "594e89eeb9d247768d8ff046acbe565e",
            "454200a7454144b2a7a26bed6116f73f",
            "6db0c66e749548d483bac2f1ba4bce1c",
            "f833c795e67b4a5698efe404b1966ab5",
            "f17984a596a847c28b369eda66d6a54b",
            "f337efc0d7ba4f2abe733c082e37dc41",
            "ee155cff9cdc40459df92976513e50a3",
            "ead1be01ef9f46c1947ac755b2674e0f",
            "c58cfdcbe5bd4f41baa13fe79e8a3a3f",
            "dde4123442174fdd9c9b08ff142f460e",
            "3f83e9830e1b498c886116c0bcc0747a",
            "c34092b7154147689bbdf1e84c00ec68",
            "b001177dea934ccebf896bdc38ccec3b",
            "92b2b9b02e5c486d9d7db51f06ef4326",
            "5e2345c0df69489c8c0c7b3bb8700c64",
            "fee1deb1f8734fb49fbdd787c785cc3c",
            "08a098782dc04b9db23500ff9f09a4a6",
            "da46e05a9d0944deb80db9ab7443b6e2",
            "de232c251a8941458bd308dc46325310",
            "3f5bbf07f0f54213b61212dd4aaf47a2",
            "7ec5b4684a514f19b8a5bda2709d037b",
            "1517cecc6d864e1b974ab5592cc423a4",
            "bc09eaa33333401ea6a332f44c973bb1",
            "2602c21d96064bc6bfdaba25b4838429",
            "6e9d5ba7c62b439d94fac845a27af976",
            "fb955e42e3554bd7b071ef426b3e1502",
            "2ef9f62a971b4cb2a29eb61297f70e3b",
            "fa4e570530ec419da6789d04a85272a4",
            "c69fb6b2a15b464f95ef725f56c3f9da",
            "79b72b7be8934597990ff0c5085569c2",
            "462db02e1ba44bd7b95dfdcb61e046dd",
            "cecd6a44994645daaebbc405ae400125",
            "d63ed35a62b4461c9b487a5c53faab2e",
            "b0acebd5e1db43a58c78baed393a3979",
            "e04a701ffc164eeda880900b6be806a4",
            "318d1772ae194fb9aa2ec10f72f55dd0",
            "3b0dc6f778084009b78523b11ca5869b",
            "3be0abe42efd476895384bcc121bfda2",
            "e6efdb44cf1746b8afbf2f4724dcaf38",
            "87a2539a850e4c66ba6ca02873356a00",
            "77d1fdb2086342e59a24e2d509fc1bf7",
            "ac950782a33c4e18a99475e18678f305",
            "c3587b1dc41c47d7bdf7007ddd484127",
            "fab9a6eedf8e4e1cbc2ead29236faa92",
            "db516fac33cd430fa6d14993fbc45929",
            "f73fc57532304db19141f9008f7b4e75",
            "d822c264825b4bbb9bfd0aa4f08157a7",
            "0f1e96d265b14a91a6cfc2eb887f8f07",
            "6d84172af1e5494bb18ac1c7fed45f52",
            "f2886bc61f14444ba7c4b9b7739858dd",
            "da9555c811a445a1bf0642cb5bb5dede",
            "7cb64a97606f46f98752366adce0cf77",
            "cd3a5ee1ea334556a14c88e879edaeb6",
            "642984240013480b89fbd7157fc6bbe3",
            "bed87d7801504936919ca2991120cb71",
            "486ae436c0824b85a359d6d64df8c8c4",
            "5f063bb2dbe044a080abe2fad5061c8a",
            "c57ed040678d42748dc1df7eee57e813",
            "75a0e3b31e8b447793e79c429d3a8c4c",
            "3ac284f812734bcca7add79fd514e0f0",
            "1c525b0ac7424ad0a2bd5972dbe74f5f",
            "593845fb19d7463594d3b128f507ff6d",
            "f9b996d1e2064dac9e9d896d70f6438e",
            "b52ee381ef5f45c68cdb5a24a8b9171e",
            "ddc684fc602c4c85b08cbfb31ac5a0d9",
            "dff042f27da543edb9353804eacb3287",
            "933e04caa4864af2ab010fcd9d75d534",
            "90a5b174e4c44449b27d94d299779a56",
            "eff02224ba244d29b34d9fc325bb8d05",
            "085b394bd60043d08dfb4afbcbf1b88a",
            "c9cc6a4b4da8486b8080f97a37c6fe11",
            "c65d84cc22a446c19a650d202685e2f2",
            "7e3bf28d56bc4bfa9f300acf4ac9c858",
            "8444ea9bca1c404cb06bf163eee0ef8f",
            "516afb91a8284ab9a9e78e9def7b4673",
            "fb1790462ff6415ba2dff9b680024fe8",
            "7e1f25a970bc4dc7829dab5344fb18e1",
            "ad631b61b24d409eb5f172065d5cebab",
            "66328d0a0ee24990be52ae9e41234216",
            "4db3da0f869c49c4840cbfe277151672",
            "fcdbbda9a7e44e91850d9a86e65140ac",
            "c47529e45f7e45d68e6dc11b6487797e",
            "d5cbfd4c9f354806ae7240e4aa8a8c46",
            "dc1355ca91c141b9aa908a7440134b1d",
            "188a7da099c24011bc54d9d7dea10b3c",
            "1f90cf9297074934b32b6e511d871c64",
            "b7ab78cd80b042778c2f15bb96a47614",
            "9eabe5e8e7ef4c3fac07f176237a9898",
            "39dccb5256fd4b72815dd672e44526fe",
            "723bb1e96fc0464e86c4d7db0e34a488",
            "8cd38a84450644589483344fedab9fb3",
            "67d0270ccaec4638a4c2ebc5aab45ccd",
            "4c906ce530ef49f6be2770908f10d20b",
            "4c4bc8fa9a3e4a1783d6102b9354249a",
            "9d6bc38ffa8241b6b9000040651ff727",
            "e473cac34c0c446db18393e127512c65",
            "c555789684fb4748909428502d16cc9d",
            "54777f38b0d1422781fb15ff7a809486",
            "326b2da9f2fd46da97aa7d7cd6c5cc81",
            "a12a3dd95df546b2ac6f6bde4ba703f4",
            "d0155e78cec04e08a3c792ac8494e3ec",
            "4d74c5122c9f462c9459438037f839ee",
            "24bf2df37f694f0f80471e5b5a6e596f",
            "a0a15fb0bc2b4792829c55af5c1f725b",
            "dfec09e9ac404ee592e24218461d57c0",
            "0ef6ff6831644a8d8c80e05917102b01",
            "89071e659afa4da1859307ebbd0a3d37",
            "9eba5be5a5104a46bc53302aa50832d3",
            "12041d175b884f8690b22eccbaee75a3",
            "bc94555e71424c00ad68016d7b5993f4",
            "66c2f32b7b16493188ed34594ed7ae11",
            "79cb9274e74a4de287e4234f6b5fcc4a",
            "84391daa124c422993e1b04c0200878c",
            "abadb929a60a415a818034c3437c886d",
            "d8e437a6aad34cc1bdb0a5f7957e1756",
            "2e92d41a653d44429febf55c4061dc92",
            "0990ebf8d1704de5a48c429fa07dc9db"
          ]
        },
        "id": "l4rOEwK567GB",
        "outputId": "afbc7052-bd51-41bc-c90c-628b6a7f4451"
      },
      "outputs": [
        {
          "name": "stderr",
          "output_type": "stream",
          "text": [
            "Some weights of RobertaForSequenceClassification were not initialized from the model checkpoint at /content/drive/MyDrive/VU Thesis/Code/baby_models/V20L4/model_e1_v20_l4 and are newly initialized: ['classifier.dense.bias', 'classifier.dense.weight', 'classifier.out_proj.bias', 'classifier.out_proj.weight']\n",
            "You should probably TRAIN this model on a down-stream task to be able to use it for predictions and inference.\n"
          ]
        },
        {
          "data": {
            "application/vnd.jupyter.widget-view+json": {
              "model_id": "74953722e4f74cdbaea148ba9009e95b",
              "version_major": 2,
              "version_minor": 0
            },
            "text/plain": [
              "  0%|          | 0/20 [00:00<?, ?it/s]"
            ]
          },
          "metadata": {},
          "output_type": "display_data"
        },
        {
          "data": {
            "application/vnd.jupyter.widget-view+json": {
              "model_id": "41f0c55abbba4b20bdaf8f12cc86f418",
              "version_major": 2,
              "version_minor": 0
            },
            "text/plain": [
              "Epoch:   0%|          | 0/10 [00:00<?, ?it/s]"
            ]
          },
          "metadata": {},
          "output_type": "display_data"
        },
        {
          "name": "stderr",
          "output_type": "stream",
          "text": [
            "/usr/local/lib/python3.11/dist-packages/simpletransformers/classification/classification_model.py:882: FutureWarning: `torch.cuda.amp.GradScaler(args...)` is deprecated. Please use `torch.amp.GradScaler('cuda', args...)` instead.\n",
            "  scaler = amp.GradScaler()\n"
          ]
        },
        {
          "data": {
            "application/vnd.jupyter.widget-view+json": {
              "model_id": "a9484fe4beb0471c88f1ec5d2c788597",
              "version_major": 2,
              "version_minor": 0
            },
            "text/plain": [
              "Running Epoch 1 of 10:   0%|          | 0/1311 [00:00<?, ?it/s]"
            ]
          },
          "metadata": {},
          "output_type": "display_data"
        },
        {
          "name": "stderr",
          "output_type": "stream",
          "text": [
            "/usr/local/lib/python3.11/dist-packages/simpletransformers/classification/classification_model.py:905: FutureWarning: `torch.cuda.amp.autocast(args...)` is deprecated. Please use `torch.amp.autocast('cuda', args...)` instead.\n",
            "  with amp.autocast():\n"
          ]
        },
        {
          "data": {
            "application/vnd.jupyter.widget-view+json": {
              "model_id": "68ea1907b7134a0084a8e374ed561e34",
              "version_major": 2,
              "version_minor": 0
            },
            "text/plain": [
              "  0%|          | 0/13 [00:00<?, ?it/s]"
            ]
          },
          "metadata": {},
          "output_type": "display_data"
        },
        {
          "name": "stderr",
          "output_type": "stream",
          "text": [
            "/usr/local/lib/python3.11/dist-packages/simpletransformers/classification/classification_model.py:1505: FutureWarning: `torch.cuda.amp.autocast(args...)` is deprecated. Please use `torch.amp.autocast('cuda', args...)` instead.\n",
            "  with amp.autocast():\n"
          ]
        },
        {
          "data": {
            "application/vnd.jupyter.widget-view+json": {
              "model_id": "e1c2924cd63e46f49b786e8ca42faf83",
              "version_major": 2,
              "version_minor": 0
            },
            "text/plain": [
              "  0%|          | 0/13 [00:00<?, ?it/s]"
            ]
          },
          "metadata": {},
          "output_type": "display_data"
        },
        {
          "name": "stderr",
          "output_type": "stream",
          "text": [
            "/usr/local/lib/python3.11/dist-packages/simpletransformers/classification/classification_model.py:1505: FutureWarning: `torch.cuda.amp.autocast(args...)` is deprecated. Please use `torch.amp.autocast('cuda', args...)` instead.\n",
            "  with amp.autocast():\n"
          ]
        },
        {
          "data": {
            "application/vnd.jupyter.widget-view+json": {
              "model_id": "d103a9047951473c8604921a3ae4d9e9",
              "version_major": 2,
              "version_minor": 0
            },
            "text/plain": [
              "Running Epoch 2 of 10:   0%|          | 0/1311 [00:00<?, ?it/s]"
            ]
          },
          "metadata": {},
          "output_type": "display_data"
        },
        {
          "name": "stderr",
          "output_type": "stream",
          "text": [
            "/usr/local/lib/python3.11/dist-packages/simpletransformers/classification/classification_model.py:905: FutureWarning: `torch.cuda.amp.autocast(args...)` is deprecated. Please use `torch.amp.autocast('cuda', args...)` instead.\n",
            "  with amp.autocast():\n"
          ]
        },
        {
          "data": {
            "application/vnd.jupyter.widget-view+json": {
              "model_id": "d711a2d28fb444d9acce976d12bfc583",
              "version_major": 2,
              "version_minor": 0
            },
            "text/plain": [
              "  0%|          | 0/13 [00:00<?, ?it/s]"
            ]
          },
          "metadata": {},
          "output_type": "display_data"
        },
        {
          "name": "stderr",
          "output_type": "stream",
          "text": [
            "/usr/local/lib/python3.11/dist-packages/simpletransformers/classification/classification_model.py:1505: FutureWarning: `torch.cuda.amp.autocast(args...)` is deprecated. Please use `torch.amp.autocast('cuda', args...)` instead.\n",
            "  with amp.autocast():\n"
          ]
        },
        {
          "data": {
            "application/vnd.jupyter.widget-view+json": {
              "model_id": "dbf1a1160d294f9599ed33eef614724f",
              "version_major": 2,
              "version_minor": 0
            },
            "text/plain": [
              "  0%|          | 0/13 [00:00<?, ?it/s]"
            ]
          },
          "metadata": {},
          "output_type": "display_data"
        },
        {
          "name": "stderr",
          "output_type": "stream",
          "text": [
            "/usr/local/lib/python3.11/dist-packages/simpletransformers/classification/classification_model.py:1505: FutureWarning: `torch.cuda.amp.autocast(args...)` is deprecated. Please use `torch.amp.autocast('cuda', args...)` instead.\n",
            "  with amp.autocast():\n"
          ]
        },
        {
          "data": {
            "application/vnd.jupyter.widget-view+json": {
              "model_id": "ceb1d6b235b946e2a0657daeb0248c2b",
              "version_major": 2,
              "version_minor": 0
            },
            "text/plain": [
              "Running Epoch 3 of 10:   0%|          | 0/1311 [00:00<?, ?it/s]"
            ]
          },
          "metadata": {},
          "output_type": "display_data"
        },
        {
          "name": "stderr",
          "output_type": "stream",
          "text": [
            "/usr/local/lib/python3.11/dist-packages/simpletransformers/classification/classification_model.py:905: FutureWarning: `torch.cuda.amp.autocast(args...)` is deprecated. Please use `torch.amp.autocast('cuda', args...)` instead.\n",
            "  with amp.autocast():\n"
          ]
        },
        {
          "data": {
            "application/vnd.jupyter.widget-view+json": {
              "model_id": "4468bb3a00414a079995b2ce29a85434",
              "version_major": 2,
              "version_minor": 0
            },
            "text/plain": [
              "  0%|          | 0/13 [00:00<?, ?it/s]"
            ]
          },
          "metadata": {},
          "output_type": "display_data"
        },
        {
          "name": "stderr",
          "output_type": "stream",
          "text": [
            "/usr/local/lib/python3.11/dist-packages/simpletransformers/classification/classification_model.py:1505: FutureWarning: `torch.cuda.amp.autocast(args...)` is deprecated. Please use `torch.amp.autocast('cuda', args...)` instead.\n",
            "  with amp.autocast():\n"
          ]
        },
        {
          "data": {
            "application/vnd.jupyter.widget-view+json": {
              "model_id": "9641e124cf8a43e2a2c359e87d0d3ee1",
              "version_major": 2,
              "version_minor": 0
            },
            "text/plain": [
              "  0%|          | 0/13 [00:00<?, ?it/s]"
            ]
          },
          "metadata": {},
          "output_type": "display_data"
        },
        {
          "name": "stderr",
          "output_type": "stream",
          "text": [
            "/usr/local/lib/python3.11/dist-packages/simpletransformers/classification/classification_model.py:1505: FutureWarning: `torch.cuda.amp.autocast(args...)` is deprecated. Please use `torch.amp.autocast('cuda', args...)` instead.\n",
            "  with amp.autocast():\n"
          ]
        },
        {
          "data": {
            "application/vnd.jupyter.widget-view+json": {
              "model_id": "a9300bbf5cb84ba1a0fa77f90b8b3257",
              "version_major": 2,
              "version_minor": 0
            },
            "text/plain": [
              "Running Epoch 4 of 10:   0%|          | 0/1311 [00:00<?, ?it/s]"
            ]
          },
          "metadata": {},
          "output_type": "display_data"
        },
        {
          "name": "stderr",
          "output_type": "stream",
          "text": [
            "/usr/local/lib/python3.11/dist-packages/simpletransformers/classification/classification_model.py:905: FutureWarning: `torch.cuda.amp.autocast(args...)` is deprecated. Please use `torch.amp.autocast('cuda', args...)` instead.\n",
            "  with amp.autocast():\n"
          ]
        },
        {
          "data": {
            "application/vnd.jupyter.widget-view+json": {
              "model_id": "15f5289e1d194654965b4e156495fe94",
              "version_major": 2,
              "version_minor": 0
            },
            "text/plain": [
              "  0%|          | 0/13 [00:00<?, ?it/s]"
            ]
          },
          "metadata": {},
          "output_type": "display_data"
        },
        {
          "name": "stderr",
          "output_type": "stream",
          "text": [
            "/usr/local/lib/python3.11/dist-packages/simpletransformers/classification/classification_model.py:1505: FutureWarning: `torch.cuda.amp.autocast(args...)` is deprecated. Please use `torch.amp.autocast('cuda', args...)` instead.\n",
            "  with amp.autocast():\n"
          ]
        },
        {
          "data": {
            "application/vnd.jupyter.widget-view+json": {
              "model_id": "12b8a2c9cda44cb5abfbcc94c170a02a",
              "version_major": 2,
              "version_minor": 0
            },
            "text/plain": [
              "  0%|          | 0/13 [00:00<?, ?it/s]"
            ]
          },
          "metadata": {},
          "output_type": "display_data"
        },
        {
          "name": "stderr",
          "output_type": "stream",
          "text": [
            "/usr/local/lib/python3.11/dist-packages/simpletransformers/classification/classification_model.py:1505: FutureWarning: `torch.cuda.amp.autocast(args...)` is deprecated. Please use `torch.amp.autocast('cuda', args...)` instead.\n",
            "  with amp.autocast():\n"
          ]
        },
        {
          "data": {
            "application/vnd.jupyter.widget-view+json": {
              "model_id": "ec6d94594d5940e28c5afd4d9385ab4c",
              "version_major": 2,
              "version_minor": 0
            },
            "text/plain": [
              "Running Epoch 5 of 10:   0%|          | 0/1311 [00:00<?, ?it/s]"
            ]
          },
          "metadata": {},
          "output_type": "display_data"
        },
        {
          "name": "stderr",
          "output_type": "stream",
          "text": [
            "/usr/local/lib/python3.11/dist-packages/simpletransformers/classification/classification_model.py:905: FutureWarning: `torch.cuda.amp.autocast(args...)` is deprecated. Please use `torch.amp.autocast('cuda', args...)` instead.\n",
            "  with amp.autocast():\n"
          ]
        },
        {
          "data": {
            "application/vnd.jupyter.widget-view+json": {
              "model_id": "d4c77902480e45fc87601b29cc3f0287",
              "version_major": 2,
              "version_minor": 0
            },
            "text/plain": [
              "  0%|          | 0/13 [00:00<?, ?it/s]"
            ]
          },
          "metadata": {},
          "output_type": "display_data"
        },
        {
          "name": "stderr",
          "output_type": "stream",
          "text": [
            "/usr/local/lib/python3.11/dist-packages/simpletransformers/classification/classification_model.py:1505: FutureWarning: `torch.cuda.amp.autocast(args...)` is deprecated. Please use `torch.amp.autocast('cuda', args...)` instead.\n",
            "  with amp.autocast():\n"
          ]
        },
        {
          "data": {
            "application/vnd.jupyter.widget-view+json": {
              "model_id": "0b6afed92cb249d68f211950d2764760",
              "version_major": 2,
              "version_minor": 0
            },
            "text/plain": [
              "  0%|          | 0/13 [00:00<?, ?it/s]"
            ]
          },
          "metadata": {},
          "output_type": "display_data"
        },
        {
          "name": "stderr",
          "output_type": "stream",
          "text": [
            "/usr/local/lib/python3.11/dist-packages/simpletransformers/classification/classification_model.py:1505: FutureWarning: `torch.cuda.amp.autocast(args...)` is deprecated. Please use `torch.amp.autocast('cuda', args...)` instead.\n",
            "  with amp.autocast():\n"
          ]
        },
        {
          "data": {
            "application/vnd.jupyter.widget-view+json": {
              "model_id": "436da651b94341dfa11e99954a4e6511",
              "version_major": 2,
              "version_minor": 0
            },
            "text/plain": [
              "Running Epoch 6 of 10:   0%|          | 0/1311 [00:00<?, ?it/s]"
            ]
          },
          "metadata": {},
          "output_type": "display_data"
        },
        {
          "name": "stderr",
          "output_type": "stream",
          "text": [
            "/usr/local/lib/python3.11/dist-packages/simpletransformers/classification/classification_model.py:905: FutureWarning: `torch.cuda.amp.autocast(args...)` is deprecated. Please use `torch.amp.autocast('cuda', args...)` instead.\n",
            "  with amp.autocast():\n"
          ]
        },
        {
          "data": {
            "application/vnd.jupyter.widget-view+json": {
              "model_id": "579f4487400b4fd2b0b3c728e299f2f2",
              "version_major": 2,
              "version_minor": 0
            },
            "text/plain": [
              "  0%|          | 0/13 [00:00<?, ?it/s]"
            ]
          },
          "metadata": {},
          "output_type": "display_data"
        },
        {
          "name": "stderr",
          "output_type": "stream",
          "text": [
            "/usr/local/lib/python3.11/dist-packages/simpletransformers/classification/classification_model.py:1505: FutureWarning: `torch.cuda.amp.autocast(args...)` is deprecated. Please use `torch.amp.autocast('cuda', args...)` instead.\n",
            "  with amp.autocast():\n"
          ]
        },
        {
          "data": {
            "application/vnd.jupyter.widget-view+json": {
              "model_id": "b4f84202f4dc403f9674771f42aac17c",
              "version_major": 2,
              "version_minor": 0
            },
            "text/plain": [
              "  0%|          | 0/13 [00:00<?, ?it/s]"
            ]
          },
          "metadata": {},
          "output_type": "display_data"
        },
        {
          "name": "stderr",
          "output_type": "stream",
          "text": [
            "/usr/local/lib/python3.11/dist-packages/simpletransformers/classification/classification_model.py:1505: FutureWarning: `torch.cuda.amp.autocast(args...)` is deprecated. Please use `torch.amp.autocast('cuda', args...)` instead.\n",
            "  with amp.autocast():\n"
          ]
        },
        {
          "data": {
            "application/vnd.jupyter.widget-view+json": {
              "model_id": "c4eaf396fe0647abb175c44cb7a5a263",
              "version_major": 2,
              "version_minor": 0
            },
            "text/plain": [
              "Running Epoch 7 of 10:   0%|          | 0/1311 [00:00<?, ?it/s]"
            ]
          },
          "metadata": {},
          "output_type": "display_data"
        },
        {
          "name": "stderr",
          "output_type": "stream",
          "text": [
            "/usr/local/lib/python3.11/dist-packages/simpletransformers/classification/classification_model.py:905: FutureWarning: `torch.cuda.amp.autocast(args...)` is deprecated. Please use `torch.amp.autocast('cuda', args...)` instead.\n",
            "  with amp.autocast():\n"
          ]
        },
        {
          "data": {
            "application/vnd.jupyter.widget-view+json": {
              "model_id": "56d733d972514d3196ac1420b2bb8da3",
              "version_major": 2,
              "version_minor": 0
            },
            "text/plain": [
              "  0%|          | 0/13 [00:00<?, ?it/s]"
            ]
          },
          "metadata": {},
          "output_type": "display_data"
        },
        {
          "name": "stderr",
          "output_type": "stream",
          "text": [
            "/usr/local/lib/python3.11/dist-packages/simpletransformers/classification/classification_model.py:1505: FutureWarning: `torch.cuda.amp.autocast(args...)` is deprecated. Please use `torch.amp.autocast('cuda', args...)` instead.\n",
            "  with amp.autocast():\n"
          ]
        },
        {
          "data": {
            "application/vnd.jupyter.widget-view+json": {
              "model_id": "ead1be01ef9f46c1947ac755b2674e0f",
              "version_major": 2,
              "version_minor": 0
            },
            "text/plain": [
              "  0%|          | 0/13 [00:00<?, ?it/s]"
            ]
          },
          "metadata": {},
          "output_type": "display_data"
        },
        {
          "name": "stderr",
          "output_type": "stream",
          "text": [
            "/usr/local/lib/python3.11/dist-packages/simpletransformers/classification/classification_model.py:1505: FutureWarning: `torch.cuda.amp.autocast(args...)` is deprecated. Please use `torch.amp.autocast('cuda', args...)` instead.\n",
            "  with amp.autocast():\n"
          ]
        },
        {
          "data": {
            "application/vnd.jupyter.widget-view+json": {
              "model_id": "de232c251a8941458bd308dc46325310",
              "version_major": 2,
              "version_minor": 0
            },
            "text/plain": [
              "Running Epoch 8 of 10:   0%|          | 0/1311 [00:00<?, ?it/s]"
            ]
          },
          "metadata": {},
          "output_type": "display_data"
        },
        {
          "name": "stderr",
          "output_type": "stream",
          "text": [
            "/usr/local/lib/python3.11/dist-packages/simpletransformers/classification/classification_model.py:905: FutureWarning: `torch.cuda.amp.autocast(args...)` is deprecated. Please use `torch.amp.autocast('cuda', args...)` instead.\n",
            "  with amp.autocast():\n"
          ]
        },
        {
          "data": {
            "application/vnd.jupyter.widget-view+json": {
              "model_id": "79b72b7be8934597990ff0c5085569c2",
              "version_major": 2,
              "version_minor": 0
            },
            "text/plain": [
              "  0%|          | 0/13 [00:00<?, ?it/s]"
            ]
          },
          "metadata": {},
          "output_type": "display_data"
        },
        {
          "name": "stderr",
          "output_type": "stream",
          "text": [
            "/usr/local/lib/python3.11/dist-packages/simpletransformers/classification/classification_model.py:1505: FutureWarning: `torch.cuda.amp.autocast(args...)` is deprecated. Please use `torch.amp.autocast('cuda', args...)` instead.\n",
            "  with amp.autocast():\n"
          ]
        },
        {
          "data": {
            "application/vnd.jupyter.widget-view+json": {
              "model_id": "77d1fdb2086342e59a24e2d509fc1bf7",
              "version_major": 2,
              "version_minor": 0
            },
            "text/plain": [
              "  0%|          | 0/13 [00:00<?, ?it/s]"
            ]
          },
          "metadata": {},
          "output_type": "display_data"
        },
        {
          "name": "stderr",
          "output_type": "stream",
          "text": [
            "/usr/local/lib/python3.11/dist-packages/simpletransformers/classification/classification_model.py:1505: FutureWarning: `torch.cuda.amp.autocast(args...)` is deprecated. Please use `torch.amp.autocast('cuda', args...)` instead.\n",
            "  with amp.autocast():\n"
          ]
        },
        {
          "data": {
            "application/vnd.jupyter.widget-view+json": {
              "model_id": "7cb64a97606f46f98752366adce0cf77",
              "version_major": 2,
              "version_minor": 0
            },
            "text/plain": [
              "Running Epoch 9 of 10:   0%|          | 0/1311 [00:00<?, ?it/s]"
            ]
          },
          "metadata": {},
          "output_type": "display_data"
        },
        {
          "name": "stderr",
          "output_type": "stream",
          "text": [
            "/usr/local/lib/python3.11/dist-packages/simpletransformers/classification/classification_model.py:905: FutureWarning: `torch.cuda.amp.autocast(args...)` is deprecated. Please use `torch.amp.autocast('cuda', args...)` instead.\n",
            "  with amp.autocast():\n"
          ]
        },
        {
          "data": {
            "application/vnd.jupyter.widget-view+json": {
              "model_id": "f9b996d1e2064dac9e9d896d70f6438e",
              "version_major": 2,
              "version_minor": 0
            },
            "text/plain": [
              "  0%|          | 0/13 [00:00<?, ?it/s]"
            ]
          },
          "metadata": {},
          "output_type": "display_data"
        },
        {
          "name": "stderr",
          "output_type": "stream",
          "text": [
            "/usr/local/lib/python3.11/dist-packages/simpletransformers/classification/classification_model.py:1505: FutureWarning: `torch.cuda.amp.autocast(args...)` is deprecated. Please use `torch.amp.autocast('cuda', args...)` instead.\n",
            "  with amp.autocast():\n"
          ]
        },
        {
          "data": {
            "application/vnd.jupyter.widget-view+json": {
              "model_id": "8444ea9bca1c404cb06bf163eee0ef8f",
              "version_major": 2,
              "version_minor": 0
            },
            "text/plain": [
              "  0%|          | 0/13 [00:00<?, ?it/s]"
            ]
          },
          "metadata": {},
          "output_type": "display_data"
        },
        {
          "name": "stderr",
          "output_type": "stream",
          "text": [
            "/usr/local/lib/python3.11/dist-packages/simpletransformers/classification/classification_model.py:1505: FutureWarning: `torch.cuda.amp.autocast(args...)` is deprecated. Please use `torch.amp.autocast('cuda', args...)` instead.\n",
            "  with amp.autocast():\n"
          ]
        },
        {
          "data": {
            "application/vnd.jupyter.widget-view+json": {
              "model_id": "188a7da099c24011bc54d9d7dea10b3c",
              "version_major": 2,
              "version_minor": 0
            },
            "text/plain": [
              "Running Epoch 10 of 10:   0%|          | 0/1311 [00:00<?, ?it/s]"
            ]
          },
          "metadata": {},
          "output_type": "display_data"
        },
        {
          "name": "stderr",
          "output_type": "stream",
          "text": [
            "/usr/local/lib/python3.11/dist-packages/simpletransformers/classification/classification_model.py:905: FutureWarning: `torch.cuda.amp.autocast(args...)` is deprecated. Please use `torch.amp.autocast('cuda', args...)` instead.\n",
            "  with amp.autocast():\n"
          ]
        },
        {
          "data": {
            "application/vnd.jupyter.widget-view+json": {
              "model_id": "e473cac34c0c446db18393e127512c65",
              "version_major": 2,
              "version_minor": 0
            },
            "text/plain": [
              "  0%|          | 0/13 [00:00<?, ?it/s]"
            ]
          },
          "metadata": {},
          "output_type": "display_data"
        },
        {
          "name": "stderr",
          "output_type": "stream",
          "text": [
            "/usr/local/lib/python3.11/dist-packages/simpletransformers/classification/classification_model.py:1505: FutureWarning: `torch.cuda.amp.autocast(args...)` is deprecated. Please use `torch.amp.autocast('cuda', args...)` instead.\n",
            "  with amp.autocast():\n"
          ]
        },
        {
          "data": {
            "application/vnd.jupyter.widget-view+json": {
              "model_id": "89071e659afa4da1859307ebbd0a3d37",
              "version_major": 2,
              "version_minor": 0
            },
            "text/plain": [
              "  0%|          | 0/13 [00:00<?, ?it/s]"
            ]
          },
          "metadata": {},
          "output_type": "display_data"
        },
        {
          "name": "stderr",
          "output_type": "stream",
          "text": [
            "/usr/local/lib/python3.11/dist-packages/simpletransformers/classification/classification_model.py:1505: FutureWarning: `torch.cuda.amp.autocast(args...)` is deprecated. Please use `torch.amp.autocast('cuda', args...)` instead.\n",
            "  with amp.autocast():\n"
          ]
        },
        {
          "name": "stdout",
          "output_type": "stream",
          "text": [
            "{'epoch1': {'0': {'precision': 0.5117344018317115, 'recall': 0.5958013995334889, 'f0.5-score': 0.5265948047358191, 'support': 3001.0}, '1': {'precision': 0.8553530751708428, 'recall': 0.5862607338017174, 'f0.5-score': 0.7834341748383059, 'support': 1281.0}, '2': {'precision': 0.7813121272365805, 'recall': 0.560361216730038, 'f0.5-score': 0.7242014742014742, 'support': 2104.0}, '3': {'precision': 0.2971996386630533, 'recall': 0.5465116279069767, 'f0.5-score': 0.32703777335984097, 'support': 602.0}, 'accuracy': 0.5791356611333714, 'macro avg': {'precision': 0.6113998107255469, 'recall': 0.5722337444930552, 'f0.5-score': 0.59031705678386, 'support': 6988.0}, 'weighted avg': {'precision': 0.637409434369167, 'recall': 0.5791356611333714, 'f0.5-score': 0.615982660026129, 'support': 6988.0}}}\n",
            "{'epoch2': {'0': {'precision': 0.4358900973096737, 'recall': 0.6639058413251961, 'f0.5-score': 0.46803933620159804, 'support': 2294.0}, '1': {'precision': 0.8006833712984055, 'recall': 0.583402489626556, 'f0.5-score': 0.7451770192919228, 'support': 1205.0}, '2': {'precision': 0.7369118621603711, 'recall': 0.5883597883597883, 'f0.5-score': 0.70148877113298, 'support': 1890.0}, '3': {'precision': 0.7985546522131888, 'recall': 0.5528455284552846, 'f0.5-score': 0.7333665173386428, 'support': 1599.0}, 'accuracy': 0.6041785918717802, 'macro avg': {'precision': 0.6930099957454097, 'recall': 0.5971284119417062, 'f0.5-score': 0.6620179109912859, 'support': 6988.0}, 'weighted avg': {'precision': 0.6631951422459874, 'recall': 0.6041785918717802, 'f0.5-score': 0.6396805071778842, 'support': 6988.0}}}\n",
            "{'epoch3': {'0': {'precision': 0.6720091585575272, 'recall': 0.7209088117899908, 'f0.5-score': 0.681251088028782, 'support': 3257.0}, '1': {'precision': 0.6173120728929385, 'recall': 0.5564681724845996, 'f0.5-score': 0.6041016495764601, 'support': 974.0}, '2': {'precision': 0.9317428760768721, 'recall': 0.834916864608076, 'f0.5-score': 0.9106217616580311, 'support': 1684.0}, '3': {'precision': 0.5618789521228545, 'recall': 0.5796831314072693, 'f0.5-score': 0.5653517542265043, 'support': 1073.0}, 'accuracy': 0.7037779049799656, 'macro avg': {'precision': 0.6957357649125481, 'recall': 0.672994245072484, 'f0.5-score': 0.6903315633724443, 'support': 6988.0}, 'weighted avg': {'precision': 0.7100668155925679, 'recall': 0.7037779049799656, 'f0.5-score': 0.7079764280644504, 'support': 6988.0}}}\n",
            "{'epoch4': {'0': {'precision': 0.6971951917572983, 'recall': 0.7997373604727511, 'f0.5-score': 0.7155445893549525, 'support': 3046.0}, '1': {'precision': 0.7687927107061503, 'recall': 0.5754475703324808, 'f0.5-score': 0.7203842049092849, 'support': 1173.0}, '2': {'precision': 0.9715043074884029, 'recall': 0.9753825681969395, 'f0.5-score': 0.97227749038334, 'support': 1503.0}, '3': {'precision': 0.6630532971996387, 'recall': 0.5797788309636651, 'f0.5-score': 0.644538110291535, 'support': 1266.0}, 'accuracy': 0.7600171722953635, 'macro avg': {'precision': 0.7751363767878725, 'recall': 0.7325865824914591, 'f0.5-score': 0.763186098734778, 'support': 6988.0}, 'weighted avg': {'precision': 0.762027311413975, 'recall': 0.7600171722953635, 'f0.5-score': 0.7587117640539524, 'support': 6988.0}}}\n",
            "{'epoch5': {'0': {'precision': 0.7710360618202633, 'recall': 0.783367257923815, 'f0.5-score': 0.7734711455641688, 'support': 3439.0}, '1': {'precision': 0.6674259681093394, 'recall': 0.5580952380952381, 'f0.5-score': 0.6422621657167908, 'support': 1050.0}, '2': {'precision': 0.9946984758117959, 'recall': 0.9823298429319371, 'f0.5-score': 0.9921998942358541, 'support': 1528.0}, '3': {'precision': 0.5925925925925926, 'recall': 0.6755921730175077, 'f0.5-score': 0.6075199110946472, 'support': 971.0}, 'accuracy': 0.7780480824270177, 'macro avg': {'precision': 0.7564382745834978, 'recall': 0.7498461279921245, 'f0.5-score': 0.7538632791528652, 'support': 6988.0}, 'weighted avg': {'precision': 0.7795788439557132, 'recall': 0.7780480824270177, 'f0.5-score': 0.778524014834444, 'support': 6988.0}}}\n",
            "{'epoch6': {'0': {'precision': 0.7392673153978249, 'recall': 0.8294797687861272, 'f0.5-score': 0.7557050906963136, 'support': 3114.0}, '1': {'precision': 0.744874715261959, 'recall': 0.5604113110539846, 'f0.5-score': 0.6988672793331908, 'support': 1167.0}, '2': {'precision': 0.9887342611000662, 'recall': 0.9893899204244032, 'f0.5-score': 0.9888653234358431, 'support': 1508.0}, '3': {'precision': 0.7344173441734417, 'recall': 0.6780650542118432, 'f0.5-score': 0.7224098098453883, 'support': 1199.0}, 'accuracy': 0.7930738408700629, 'macro avg': {'precision': 0.801823408983323, 'recall': 0.7643365136190896, 'f0.5-score': 0.791461875827684, 'support': 6988.0}, 'weighted avg': {'precision': 0.7932061926534616, 'recall': 0.7930738408700629, 'f0.5-score': 0.7908159755518068, 'support': 6988.0}}}\n",
            "{'epoch7': {'0': {'precision': 0.7318259874069833, 'recall': 0.8503491852344529, 'f0.5-score': 0.7528116351645764, 'support': 3007.0}, '1': {'precision': 0.7642369020501139, 'recall': 0.555923777961889, 'f0.5-score': 0.710955710955711, 'support': 1207.0}, '2': {'precision': 0.9973492379058979, 'recall': 0.9836601307189542, 'f0.5-score': 0.9945810203542162, 'support': 1530.0}, '3': {'precision': 0.7777777777777778, 'recall': 0.6921221864951769, 'f0.5-score': 0.7589915373765868, 'support': 1244.0}, 'accuracy': 0.8005151688609045, 'macro avg': {'precision': 0.8177974762851932, 'recall': 0.7705138201026183, 'f0.5-score': 0.8043349759627726, 'support': 6988.0}, 'weighted avg': {'precision': 0.803739921931721, 'recall': 0.8005151688609045, 'f0.5-score': 0.7996168522755938, 'support': 6988.0}}}\n",
            "{'epoch8': {'0': {'precision': 0.8142530051516886, 'recall': 0.7931419013102872, 'f0.5-score': 0.8099413539828048, 'support': 3587.0}, '1': {'precision': 0.49430523917995445, 'recall': 0.5203836930455635, 'f0.5-score': 0.4993097100782329, 'support': 834.0}, '2': {'precision': 0.998674618952949, 'recall': 0.9875491480996068, 'f0.5-score': 0.9964295160010579, 'support': 1526.0}, '3': {'precision': 0.7271906052393857, 'recall': 0.7732949087415946, 'f0.5-score': 0.7359663558237338, 'support': 1041.0}, 'accuracy': 0.8000858614768174, 'macro avg': {'precision': 0.7586058671309945, 'recall': 0.7685924127992629, 'f0.5-score': 0.7604117339714573, 'support': 6988.0}, 'weighted avg': {'precision': 0.803371349102975, 'recall': 0.8000858614768174, 'f0.5-score': 0.8025724603279462, 'support': 6988.0}}}\n",
            "{'epoch9': {'0': {'precision': 0.7853463079564968, 'recall': 0.8252631578947368, 'f0.5-score': 0.7930177446390382, 'support': 3325.0}, '1': {'precision': 0.6343963553530751, 'recall': 0.5386847195357833, 'f0.5-score': 0.6126264848218214, 'support': 1034.0}, '2': {'precision': 0.9980119284294234, 'recall': 0.9881889763779528, 'f0.5-score': 0.996031746031746, 'support': 1524.0}, '3': {'precision': 0.7624209575429087, 'recall': 0.7638009049773755, 'f0.5-score': 0.7626965479848183, 'support': 1105.0}, 'accuracy': 0.8086720091585575, 'macro avg': {'precision': 0.795043887320476, 'recall': 0.7789844396964621, 'f0.5-score': 0.7910931308693561, 'support': 6988.0}, 'weighted avg': {'precision': 0.8057652607901814, 'recall': 0.8086720091585575, 'f0.5-score': 0.8058059319842831, 'support': 6988.0}}}\n",
            "{'epoch10': {'0': {'precision': 0.7867773325701202, 'recall': 0.819129916567342, 'f0.5-score': 0.7930417724440342, 'support': 3356.0}, '1': {'precision': 0.5842824601366743, 'recall': 0.5299586776859504, 'f0.5-score': 0.5725446428571429, 'support': 968.0}, '2': {'precision': 0.9980119284294234, 'recall': 0.9888378200919238, 'f0.5-score': 0.9961635136922874, 'support': 1523.0}, '3': {'precision': 0.7777777777777778, 'recall': 0.754601226993865, 'f0.5-score': 0.7730292691686119, 'support': 1141.0}, 'accuracy': 0.8055237550085862, 'macro avg': {'precision': 0.7867123747284989, 'recall': 0.7731319103347704, 'f0.5-score': 0.7836947995405191, 'support': 6988.0}, 'weighted avg': {'precision': 0.8032951861705896, 'recall': 0.8055237550085862, 'f0.5-score': 0.8034995463770224, 'support': 6988.0}}}\n"
          ]
        }
      ],
      "source": [
        "# Define model arguments\n",
        "model_args = ClassificationArgs(eval_batch_size=64,\n",
        "                                evaluate_during_training=True,\n",
        "                                save_eval_checkpoints=False,\n",
        "                                save_steps=-1,\n",
        "                                evaluate_during_training_steps=1311,\n",
        "                                overwrite_output_dir=True,\n",
        "                                labels_list=['G', 'PREP', 'DET','SVA']\n",
        "                                )\n",
        "model_args.num_train_epochs = 10\n",
        "\n",
        "# Initialize the model\n",
        "model = ClassificationModel('roberta',\n",
        "                            '/content/drive/MyDrive/VU Thesis/Code/baby_models/V20L4/model_e1_v20_l4',\n",
        "                            args=model_args,\n",
        "                            num_labels=4\n",
        "                            )\n",
        "\n",
        "\n",
        "f05_scores_e1 = []\n",
        "epoch_num_count = 1\n",
        "_last_metric_str = None  # Store last metric as a string for comparison\n",
        "\n",
        "def custom_metric(preds, labels):\n",
        "    global _last_metric_str\n",
        "    global epoch_num_count\n",
        "    metric = classification_report_f0_5(labels, preds, output_dict=True)\n",
        "\n",
        "    # Serialize to string for reliable comparison\n",
        "    metric_str = json.dumps(metric, sort_keys=True)\n",
        "\n",
        "    if metric_str != _last_metric_str:\n",
        "        f05_scores_e1.append({f\"epoch{epoch_num_count}\":metric})\n",
        "        epoch_num_count+=1\n",
        "        _last_metric_str = metric_str\n",
        "\n",
        "    return metric['macro avg']['f0.5-score']\n",
        "\n",
        "# Train the model with the callback\n",
        "model.train_model(train_df, eval_df=dev_df, compute_metrics=custom_metric)\n",
        "\n",
        "# f05_scores_e1_df = pd.DataFrame(f05_scores_e1)\n",
        "# print(f05_scores_e1_df)\n",
        "for item in f05_scores_e1:\n",
        "    print(item)\n",
        "\n",
        "with open(os.path.join(main_path, 'epoch_1_evals_half.json'), 'w') as out_file:\n",
        "    json.dump(f05_scores_e1, out_file)\n"
      ]
    },
    {
      "cell_type": "code",
      "execution_count": null,
      "metadata": {
        "colab": {
          "base_uri": "https://localhost:8080/"
        },
        "id": "c099WsB567GC",
        "outputId": "36289c86-bfb1-4f73-e7ba-25a409191bac"
      },
      "outputs": [
        {
          "name": "stdout",
          "output_type": "stream",
          "text": [
            "{'epoch1': {'0': {'precision': 0.5117344018317115, 'recall': 0.5958013995334889, 'f0.5-score': 0.5265948047358191, 'support': 3001.0}, '1': {'precision': 0.8553530751708428, 'recall': 0.5862607338017174, 'f0.5-score': 0.7834341748383059, 'support': 1281.0}, '2': {'precision': 0.7813121272365805, 'recall': 0.560361216730038, 'f0.5-score': 0.7242014742014742, 'support': 2104.0}, '3': {'precision': 0.2971996386630533, 'recall': 0.5465116279069767, 'f0.5-score': 0.32703777335984097, 'support': 602.0}, 'accuracy': 0.5791356611333714, 'macro avg': {'precision': 0.6113998107255469, 'recall': 0.5722337444930552, 'f0.5-score': 0.59031705678386, 'support': 6988.0}, 'weighted avg': {'precision': 0.637409434369167, 'recall': 0.5791356611333714, 'f0.5-score': 0.615982660026129, 'support': 6988.0}}}\n",
            "{'epoch2': {'0': {'precision': 0.4358900973096737, 'recall': 0.6639058413251961, 'f0.5-score': 0.46803933620159804, 'support': 2294.0}, '1': {'precision': 0.8006833712984055, 'recall': 0.583402489626556, 'f0.5-score': 0.7451770192919228, 'support': 1205.0}, '2': {'precision': 0.7369118621603711, 'recall': 0.5883597883597883, 'f0.5-score': 0.70148877113298, 'support': 1890.0}, '3': {'precision': 0.7985546522131888, 'recall': 0.5528455284552846, 'f0.5-score': 0.7333665173386428, 'support': 1599.0}, 'accuracy': 0.6041785918717802, 'macro avg': {'precision': 0.6930099957454097, 'recall': 0.5971284119417062, 'f0.5-score': 0.6620179109912859, 'support': 6988.0}, 'weighted avg': {'precision': 0.6631951422459874, 'recall': 0.6041785918717802, 'f0.5-score': 0.6396805071778842, 'support': 6988.0}}}\n",
            "{'epoch3': {'0': {'precision': 0.6720091585575272, 'recall': 0.7209088117899908, 'f0.5-score': 0.681251088028782, 'support': 3257.0}, '1': {'precision': 0.6173120728929385, 'recall': 0.5564681724845996, 'f0.5-score': 0.6041016495764601, 'support': 974.0}, '2': {'precision': 0.9317428760768721, 'recall': 0.834916864608076, 'f0.5-score': 0.9106217616580311, 'support': 1684.0}, '3': {'precision': 0.5618789521228545, 'recall': 0.5796831314072693, 'f0.5-score': 0.5653517542265043, 'support': 1073.0}, 'accuracy': 0.7037779049799656, 'macro avg': {'precision': 0.6957357649125481, 'recall': 0.672994245072484, 'f0.5-score': 0.6903315633724443, 'support': 6988.0}, 'weighted avg': {'precision': 0.7100668155925679, 'recall': 0.7037779049799656, 'f0.5-score': 0.7079764280644504, 'support': 6988.0}}}\n",
            "{'epoch4': {'0': {'precision': 0.6971951917572983, 'recall': 0.7997373604727511, 'f0.5-score': 0.7155445893549525, 'support': 3046.0}, '1': {'precision': 0.7687927107061503, 'recall': 0.5754475703324808, 'f0.5-score': 0.7203842049092849, 'support': 1173.0}, '2': {'precision': 0.9715043074884029, 'recall': 0.9753825681969395, 'f0.5-score': 0.97227749038334, 'support': 1503.0}, '3': {'precision': 0.6630532971996387, 'recall': 0.5797788309636651, 'f0.5-score': 0.644538110291535, 'support': 1266.0}, 'accuracy': 0.7600171722953635, 'macro avg': {'precision': 0.7751363767878725, 'recall': 0.7325865824914591, 'f0.5-score': 0.763186098734778, 'support': 6988.0}, 'weighted avg': {'precision': 0.762027311413975, 'recall': 0.7600171722953635, 'f0.5-score': 0.7587117640539524, 'support': 6988.0}}}\n",
            "{'epoch5': {'0': {'precision': 0.7710360618202633, 'recall': 0.783367257923815, 'f0.5-score': 0.7734711455641688, 'support': 3439.0}, '1': {'precision': 0.6674259681093394, 'recall': 0.5580952380952381, 'f0.5-score': 0.6422621657167908, 'support': 1050.0}, '2': {'precision': 0.9946984758117959, 'recall': 0.9823298429319371, 'f0.5-score': 0.9921998942358541, 'support': 1528.0}, '3': {'precision': 0.5925925925925926, 'recall': 0.6755921730175077, 'f0.5-score': 0.6075199110946472, 'support': 971.0}, 'accuracy': 0.7780480824270177, 'macro avg': {'precision': 0.7564382745834978, 'recall': 0.7498461279921245, 'f0.5-score': 0.7538632791528652, 'support': 6988.0}, 'weighted avg': {'precision': 0.7795788439557132, 'recall': 0.7780480824270177, 'f0.5-score': 0.778524014834444, 'support': 6988.0}}}\n",
            "{'epoch6': {'0': {'precision': 0.7392673153978249, 'recall': 0.8294797687861272, 'f0.5-score': 0.7557050906963136, 'support': 3114.0}, '1': {'precision': 0.744874715261959, 'recall': 0.5604113110539846, 'f0.5-score': 0.6988672793331908, 'support': 1167.0}, '2': {'precision': 0.9887342611000662, 'recall': 0.9893899204244032, 'f0.5-score': 0.9888653234358431, 'support': 1508.0}, '3': {'precision': 0.7344173441734417, 'recall': 0.6780650542118432, 'f0.5-score': 0.7224098098453883, 'support': 1199.0}, 'accuracy': 0.7930738408700629, 'macro avg': {'precision': 0.801823408983323, 'recall': 0.7643365136190896, 'f0.5-score': 0.791461875827684, 'support': 6988.0}, 'weighted avg': {'precision': 0.7932061926534616, 'recall': 0.7930738408700629, 'f0.5-score': 0.7908159755518068, 'support': 6988.0}}}\n",
            "{'epoch7': {'0': {'precision': 0.7318259874069833, 'recall': 0.8503491852344529, 'f0.5-score': 0.7528116351645764, 'support': 3007.0}, '1': {'precision': 0.7642369020501139, 'recall': 0.555923777961889, 'f0.5-score': 0.710955710955711, 'support': 1207.0}, '2': {'precision': 0.9973492379058979, 'recall': 0.9836601307189542, 'f0.5-score': 0.9945810203542162, 'support': 1530.0}, '3': {'precision': 0.7777777777777778, 'recall': 0.6921221864951769, 'f0.5-score': 0.7589915373765868, 'support': 1244.0}, 'accuracy': 0.8005151688609045, 'macro avg': {'precision': 0.8177974762851932, 'recall': 0.7705138201026183, 'f0.5-score': 0.8043349759627726, 'support': 6988.0}, 'weighted avg': {'precision': 0.803739921931721, 'recall': 0.8005151688609045, 'f0.5-score': 0.7996168522755938, 'support': 6988.0}}}\n",
            "{'epoch8': {'0': {'precision': 0.8142530051516886, 'recall': 0.7931419013102872, 'f0.5-score': 0.8099413539828048, 'support': 3587.0}, '1': {'precision': 0.49430523917995445, 'recall': 0.5203836930455635, 'f0.5-score': 0.4993097100782329, 'support': 834.0}, '2': {'precision': 0.998674618952949, 'recall': 0.9875491480996068, 'f0.5-score': 0.9964295160010579, 'support': 1526.0}, '3': {'precision': 0.7271906052393857, 'recall': 0.7732949087415946, 'f0.5-score': 0.7359663558237338, 'support': 1041.0}, 'accuracy': 0.8000858614768174, 'macro avg': {'precision': 0.7586058671309945, 'recall': 0.7685924127992629, 'f0.5-score': 0.7604117339714573, 'support': 6988.0}, 'weighted avg': {'precision': 0.803371349102975, 'recall': 0.8000858614768174, 'f0.5-score': 0.8025724603279462, 'support': 6988.0}}}\n",
            "{'epoch9': {'0': {'precision': 0.7853463079564968, 'recall': 0.8252631578947368, 'f0.5-score': 0.7930177446390382, 'support': 3325.0}, '1': {'precision': 0.6343963553530751, 'recall': 0.5386847195357833, 'f0.5-score': 0.6126264848218214, 'support': 1034.0}, '2': {'precision': 0.9980119284294234, 'recall': 0.9881889763779528, 'f0.5-score': 0.996031746031746, 'support': 1524.0}, '3': {'precision': 0.7624209575429087, 'recall': 0.7638009049773755, 'f0.5-score': 0.7626965479848183, 'support': 1105.0}, 'accuracy': 0.8086720091585575, 'macro avg': {'precision': 0.795043887320476, 'recall': 0.7789844396964621, 'f0.5-score': 0.7910931308693561, 'support': 6988.0}, 'weighted avg': {'precision': 0.8057652607901814, 'recall': 0.8086720091585575, 'f0.5-score': 0.8058059319842831, 'support': 6988.0}}}\n",
            "{'epoch10': {'0': {'precision': 0.7867773325701202, 'recall': 0.819129916567342, 'f0.5-score': 0.7930417724440342, 'support': 3356.0}, '1': {'precision': 0.5842824601366743, 'recall': 0.5299586776859504, 'f0.5-score': 0.5725446428571429, 'support': 968.0}, '2': {'precision': 0.9980119284294234, 'recall': 0.9888378200919238, 'f0.5-score': 0.9961635136922874, 'support': 1523.0}, '3': {'precision': 0.7777777777777778, 'recall': 0.754601226993865, 'f0.5-score': 0.7730292691686119, 'support': 1141.0}, 'accuracy': 0.8055237550085862, 'macro avg': {'precision': 0.7867123747284989, 'recall': 0.7731319103347704, 'f0.5-score': 0.7836947995405191, 'support': 6988.0}, 'weighted avg': {'precision': 0.8032951861705896, 'recall': 0.8055237550085862, 'f0.5-score': 0.8034995463770224, 'support': 6988.0}}}\n"
          ]
        }
      ],
      "source": [
        "for item in f05_scores_e1:\n",
        "    print(item)"
      ]
    },
    {
      "cell_type": "code",
      "execution_count": null,
      "metadata": {
        "colab": {
          "base_uri": "https://localhost:8080/"
        },
        "id": "aFKYcEj9E9LJ",
        "outputId": "2f28cbac-f297-478e-9c83-22823e9f7188"
      },
      "outputs": [
        {
          "name": "stdout",
          "output_type": "stream",
          "text": [
            "epoch1 0.59031705678386\n",
            "epoch2 0.6620179109912859\n",
            "epoch3 0.6903315633724443\n",
            "epoch4 0.763186098734778\n",
            "epoch5 0.7538632791528652\n",
            "epoch6 0.791461875827684\n",
            "epoch7 0.8043349759627726\n",
            "epoch8 0.7604117339714573\n",
            "epoch9 0.7910931308693561\n",
            "epoch10 0.7836947995405191\n"
          ]
        }
      ],
      "source": [
        "for item in f05_scores_e1:\n",
        "  for k , v in item.items():\n",
        "    # print(k,v)\n",
        "    print(k,v['macro avg']['f0.5-score'])"
      ]
    },
    {
      "cell_type": "markdown",
      "metadata": {
        "id": "4-wTLSh-69hR"
      },
      "source": [
        "### Epoch 10"
      ]
    },
    {
      "cell_type": "code",
      "execution_count": null,
      "metadata": {
        "colab": {
          "base_uri": "https://localhost:8080/",
          "height": 1000,
          "referenced_widgets": [
            "8fa751b82da9483a9447f8ef5b9d13d2",
            "c6fb1594e08a4475b5aa9b4ba51b07e5",
            "4f7de0419c7c42d9bef85d7f4878debb",
            "846871327bd94c6cb3210877b6f0d901",
            "a97120e9cacc43d88a2f57d744d0a954",
            "574d4f39377248839278528a781c4a5d",
            "988136049c2d4252992c68b7e7c497af",
            "de794ee8c8c14a27a2106612dfdeaa64",
            "8c2f951dcee041ef8c0c4560276ff9d8",
            "3f60ab9ba0cb4dd08d2b4a6d5240643e",
            "cf6222114cbc48bcb575b8e0a5e64d1b",
            "7ce4e30fc12440f389c4d4c0d488b7e7",
            "f9a714f5a3584bafb44c34ccb7c80e8a",
            "fa65a2b333444baea651ad1b8b7b3738",
            "5f604ea5f51f4d3db0c8cba8771790aa",
            "75033eeedcd141e3a9a99ba3f916da98",
            "bce324c5a2f540718b8f60ce17967f76",
            "7f84ba8002b04e0ebd193a8746196888",
            "9dd97a342da24c99b74041287853d6bc",
            "c90cbf2bf71c41d9bdeaed125a2b7ee9",
            "c6de08b4e5f2409bb4d7b179884a94c2",
            "3e8e72f8c3fb401db90ef8194e8537f7",
            "435c5e955402455696da7228499bde47",
            "859454b9eca0420bb8a25c55e847e85c",
            "424da7b2184849bb9da8fe907a920d13",
            "d58f2295c8ec46239137529f401579b4",
            "63cb282922234f5c868918856378f5a9",
            "1a762618d237482c9ce3325967e80e3a",
            "804b547eea8d485ba819f0cc60c0524f",
            "57c819e6ad6a4bf39ac52bc5b4760122",
            "23c1e834d4c5410c909fcbd662095b10",
            "fc31ba3dea09441ea694594bfa83a708",
            "ebd5894cbf974d2aa533c4f3932ab947",
            "879007d5ea184ff5baa7129353d5b909",
            "c86e771114dc4bfe96bb0b79fcd935d4",
            "a4f3d4d0671b4786b91cf584ae07fa85",
            "d53c0e4ed1c84804ae34f049c28bffc0",
            "840dc882838e45deadce84ed9be624a1",
            "394ac5a430294139a33fd261ebad6aa4",
            "fef4dddbd1464b7bae0ee055b217d643",
            "263207c47d3441e89f614ab6284cd1e8",
            "1caac18b1a05410091d4e562ea6fd624",
            "bea925f9394d40f780d0b94a4b720d40",
            "97351e9884384d70b9b806ff7dd5276d",
            "a63c871c325945a69d3de7a3ed0aafb0",
            "58f38d9ba9964cd686eb6d31ffbe8601",
            "c18589bbd864451ca9b9a0d98b20ff7d",
            "c49aff3c76c04095aec7a06f07cd25cb",
            "3acdb244d18f4a9786090b951786789a",
            "b634adf1648f43b38472d673246fdbf2",
            "c1a965f5febe4a2e8bc27715d932e2b2",
            "7cfd9c0829434fc5ae828594c35196a0",
            "84b35962ac474e10b12b290da12baa72",
            "f3e64b3339e24a0ba63039bcd844d9eb",
            "090687793b564c93bccbbd5844be0dff",
            "7dcfa24782d84a80961a95221d9a64aa",
            "755ed85325a64abbad2b2ad731b27c46",
            "c11a8073db62408ca9abf0cc0c0cac85",
            "c4d048b19109465790eeed7cd9545953",
            "1f40ac00f5664f74942d204fa9a1eb0c",
            "4c99ea75174e49f18b7546321ed69eae",
            "43aa190691f74c298a4804ca9ac2c42a",
            "746581f2e6d8448caf8c027b1623ecbb",
            "425df5b785384a2db19995c2de411306",
            "20bf84fed3424ad9853d83588187b768",
            "febb15c7855f491da91a49e02e968b4c",
            "63a42a270bd64cb5938b4fca5a97361e",
            "b63cde85f6514e0aa2078e4851ff3458",
            "35ce9c37ff8f4d22bd28113599c35a3a",
            "5ac546691a6c4dcb87d6b84a7f64df86",
            "c4eae9f7905b4a39921e13222d29c14b",
            "938fa05b83af420c9865eebc530c94fc",
            "1f19cc25ed294c41a5c6b7a0e52b8fda",
            "9345c27f92db4129a0fa53a16b7c2f6d",
            "8f1feb7feb77488899b5810267185569",
            "374abc2fc89549638e9996fcb149ff2e",
            "6ba21fd5a43e48918004a578254c95f2",
            "e0513b48275e4cd1b6f2f69e1c5ca16a",
            "1dd27066dad14975a04e06bf0313277b",
            "7875ef275e584f68bdf177d21dd40df7",
            "53712943f5f74f5499f21a6072c2a520",
            "ab0b966430a94462b843caf8eac2a2b8",
            "086d67f5c99b410ba5ee037ea9c6a5ca",
            "51c398c229c8464bb459f9bdc4de1de5",
            "cd6ccc0fb58641b3bf2977a6660f9f5f",
            "c26cbe3aff654c1f89061342682d40b2",
            "9cfbfedf7ab44f21863631dc62a1df30",
            "a0f91e7ee6e24c7abb44e04f48930fac",
            "d9798d201c5343ca8d426e0365602dca",
            "8460bcd46c6946f7a1a14b7fe8525105",
            "db94bddc4dad4666a978a0ea38ca10bf",
            "ef8d4fc71eaf42e89bebf605460c3fb9",
            "68ac3b386aaa48aa96b1a059d298d957",
            "3fbd265349374f2ea320ce3703de8292",
            "72cb95c9e2464fcd9e4b1b5ea593b633",
            "8e5c59b02f5943ff9d2a94ad7c415f56",
            "670e7ca223e84959b763c066fadcc06c",
            "19d56c54c46040e09b209bbba8637455",
            "55e5f6ea33aa4257ba3552b6c9343ee7",
            "e5a6bdd492304c5e882e8c791650db12",
            "11b9347e65cb405ca31e72f17b3e9aaa",
            "c7afec0ea20f45caa0d37658facea1e1",
            "8f7023fe40074fe3b40822acb9aa07c2",
            "eb358a6ce1a44f229247d3378d2ba89b",
            "741ba90db7b84cff9c9f8a5ea5cd15ca",
            "fa37461c880b4134af03054a1856b42f",
            "cbb311a488b2404b8387e50f90f09a8a",
            "937144ced5ab4c508c02faec04e326c1",
            "4c7051a0ca144823bbf64b48836b8172",
            "c6c2a010f1914745b5f608764e21b97c",
            "77ce237b86644b6198c8ef796f9f2312",
            "f52983f8e7c8484c99ac3d13b4ddf909",
            "394c9ba94e36404f8c07455e4adc0be1",
            "c4fc5b78931042d0b90425a5b8cb9f9a",
            "cac14e2b6dc243c6aae4e09f0e355ef8",
            "8b16c277ed47441cbf52efe3ece130e4",
            "2ccc086f8f12475c92e8bc442bd4ce1a",
            "7366b16a4c37453e9ce3e8270aa85373",
            "20cc6579d9c44cc6a2deb561ca1885c1",
            "bb26ab6c76004c93bea8a054c0472223",
            "c7bf318366ac4117881182548643f847",
            "214cfeb2b05f4042bb155cd0327938cc",
            "0e4e0efad929426d9a146583f8c130f1",
            "58956ceffae84d50a7e8fa947779db10",
            "2f805531f908425eba14dc7a81795007",
            "1ae1424bf66c477b8f693a6cafb1521f",
            "41cbac85a4f84efe8c6ff5da0aa9fb16",
            "ce9de3a8a47147e1b0ce76536a589351",
            "464b451258b64c05bddf2890e8991991",
            "0050e032a4f44664bc29622dadd8cd6b",
            "282384b472b8420c93d44bcb966bf1b7",
            "92ca3f2407e146bb9699933f7b8f35b0",
            "2cb4becbb14f424d926e306b3a05e98d",
            "81b7067f9ef547be8b96bc84465e6a59",
            "3b16ca6c63d0452d897539653ded4328",
            "b692a29d095e40c79225b17b0cd5ee19",
            "541e9d74f20b4a5cabd5360f86d40ed3",
            "dc3fe6d0159f41fd96b3e919e951b8ad",
            "6bc958bac58e40e49e5ee541cce09da5",
            "730e805faf164b5b981126eeec3b0765",
            "0b831e98dc3b4058ad307758f02cfd73",
            "59f300ab4bb94d4792e7e0ba1d82e59d",
            "242dc1a4997449f6a73234b9cb12177c",
            "a8f1adc4900f49e39f7077d8ab63fe10",
            "3c96a91a613a43488a94ea9886fa6f40",
            "f96730591ea648d7ab8552a0cfb97ecb",
            "108b8f13bdc4459bb94a0fd3a8d2c336",
            "ead687cff35749a783c2b134025435a6",
            "944ea9f7e8d9461186857fc6bfd16eda",
            "3d09afd29405425d9e4b4fb15360c77e",
            "0ac9d8929ee342ef8a0db998eff0db57",
            "7c3174b9c1d2423ba884ccb65423dcac",
            "eb5242df6a6647dca274b9d9c3b64e09",
            "ce41f262fa74476a9ec5d5ef18e2db13",
            "5f52ecf5224f4741b04f09d1db42991b",
            "4ceb9ea83f3749c2985f6de992de640a",
            "de9290e0e4784fa2831ffb4a7d72a196",
            "2456e2b53e134114ad75ab43e2807523",
            "43658c1341564c1e9d3167d44b1c5d2b",
            "81f3c0bdc33e4f33b781dbecb1d47f6b",
            "f515ccec888a423da5b4023da5056792",
            "ce79bf7f74c945e0ae8185bd4a19c394",
            "a4b59e2fd8774ebd8a2463e02e38e52c",
            "f0bdacb2936948059cb9e2fe702eb0fa",
            "3a02f9babb2c459ba283f10e64989d30",
            "94cba4237f1249f0a1802d4c161c279d",
            "198f74fde58940b796c031091723a005",
            "7ae4569400954ee4a10ecc1c9aa7c64b",
            "36c38844f5d74da3b4f501ac9e204818",
            "6eea45fd3f774a279e56325b12242281",
            "6ceebc4b4ab94cbd91b64bb6aba5a7d4",
            "60d0ffe8f86c4144a7c52489f423bb0e",
            "7c99fd3775224836805fcdfa2b958330",
            "0868dddb750944c69db6f83c052cafa1",
            "5b29bf31525841319de38528625212d9",
            "51fd33aad1b74054b48801472aee6e22",
            "6c0cab36ddf54a68bdfb3a45273d91d0",
            "69c2707aada9411794ebd90a973dcd0e",
            "ab5baeac480045129b36829eec196c54",
            "ce4015d17c824d6e863f895d5b3dd356",
            "9fc924b9cc51446a9e804e76c06c8c19",
            "196603f73a01422a9d401988d4d78768",
            "471f376ed06d47738b66730034a2bb37",
            "84e6f0dd52d34b749a14b4f3d1c50be3",
            "0cc7ef7917ef47a7834f69c8f51779aa",
            "958393852be740d989f8e2511236c8ab",
            "40e33242f7144c57890b37f86a35010a",
            "3d3ebff6f8f34159b1c2ee3f4e6951ff",
            "7b3f8a17969647e0a1df6e8da6296f5b",
            "90ad39f82fb74934b1444a1d26883c6c",
            "ede892635d6144488f6774244362dad6",
            "44dd8b21149d4bb7b94c7f49abbc1a97",
            "9fb149b8c8e542bc8a451ff4f4fd50a8",
            "a46d47853a184a7cb14cc06cbcb6bfb6",
            "823f5793cbe647cd8fd663cac29b8e48",
            "c91d5023c71b4fe69c5dd8ede8a52025",
            "97c3b3a2c6c34554b0b43e24002ca5c7",
            "d2581e67c93a4b1d8dc568191b5e52c4",
            "2edf87be5f1045968136cdf6144af038",
            "98c957195e1646d7a3b16c509c400495",
            "2dfa5960e1a04dabbd5a1a4b985e2963",
            "21e8981de8594f9cbb4777eed8926d94",
            "b784768b1963406099d3e29ae3ad3a98",
            "57b9aea83e544144b3edc2ab9b6350f8",
            "100f315e3474430593ceef3478788a16",
            "dfa42799510149fab5666218625361ad",
            "2fbf53a6c5fc4c39bfbb9894a0fa73a9",
            "95b89e89b9b7408393c9d780a450d5f8",
            "46119f151208442eaff0a29f602e7dbd",
            "e3bad3c281bf46438a61e0ea912ef92d",
            "0e39c745362b48b7836cde48949a806d",
            "e9f19a8b051642cdb70682296d462791",
            "463045019c994c2598cab823b9f0ee79",
            "e43dd85fde534626a7ed04dacab7fe44",
            "47a56b6164bb47eeb9dbb966f329b6a3",
            "600bc5b1720b4088ad73cf176c896d78",
            "28fa671dd49e4825b37a7bdea97c17d6",
            "9fd41f5804b1470faeb41fb61fa0a321",
            "077be4e8f5d349a39c42f4e44fe8cafc",
            "e7ab405acc0f4e84b740133169428cc9",
            "176da0423af44a2d97454af7e33a1bcc",
            "b0edbaa751de4e74834efad53c3f389a",
            "23d401d33f404cefa69843673f971d80",
            "6b05ccec494847a88969cb4660ef1614",
            "4a488d9c3e82446ca8f4f7f4673eb024",
            "91da6c1fedcc4b7ebcc8b24c09d3df5d",
            "954bf8c0259b45af92237cafa90118a3",
            "fd21fe84fc3c432393724ef6903fc58a",
            "9c0d40a1502b4f41846782e197e28d2b",
            "4259b9d326834ab5bce1398a9f85d8dd",
            "3a4bed38d3e04d4bb06fbc770db484e7",
            "c521037b698244f0aa44c21dc7efe4ef",
            "a69ada995c6542578f74c4e7d5ad96ed",
            "18c457739a9b4c559d79eaf31cb33364",
            "25e61eec76874d03a5dcedf4299e797c",
            "c4e23016ffb84c85b850499c1292c5ff",
            "3f17f3a192d64191b21185417b8a70af",
            "23a14ec9e2684cdbaa9b2675f52777d8",
            "e94afb9bb1f242a9a416c2c8b0d2ac73",
            "b31db35e17b941c3b000fec1d9d1fc7a",
            "63ef75a78038424d9a4faebfbfdbe1e9",
            "5f9faba51f3a4638add35de1dad3d5c1",
            "40a25daceaf146fc83a86edcccc26353",
            "d925b78f56694f53aac547d0799a86a9",
            "bd574eae7e1f4122bb099ce69ab164eb",
            "24de928ea2a34358a0cd24d439fdefb4",
            "e8c4fa7ed0dc4902b076db26415695b7",
            "fdfb961d43a34d28ab33673f04c292ff",
            "c2bb5284284c48958b1bca21fe092231",
            "5c0065dedf504e1d9a4f9b369fb6f66b",
            "b349fa02c62d4ecca9aaf12cd41fdeb2",
            "46f4066cea9a42e1b32bf9f9263e2204",
            "1508f6b3dcd24176ba4af4f168d71d76",
            "04dce3241a304fe9a56cdc021a296b37",
            "7aab87be4ce14c83a6017677fc2bb56f",
            "9fd6cdec6dbd4cb6812f5a9efca2b999",
            "be3f0b3b4b8e42b3a96a1a9a934589aa",
            "1667d752df224de196af4aed0b92df7d",
            "f24f8c3051b74bcf89152812bacb3718",
            "0c3312b733e5474c9b7774ab56f08621",
            "d597d08245b14e62a66941023e5d7826",
            "61cff4266bd94122956b174dd776c911",
            "6490f49aace842dd9d07cde78c7fa155",
            "77f498447ea543f1a8df25a5919728a9",
            "eb365cddcb7c46578412bf0178dd8247",
            "98c5e332fb284ea5a84e6e492e511469",
            "2eefb9b7273e496686560df75598fa28",
            "8afc3a3e8d2d4d7abcaf3db75435ef80",
            "9f472a2bdf194419b70003ee18bc08fe",
            "2b7a88be19ef4dcdbab3018fd20b2c87",
            "241bdeab64f042e7b8a65ab51e5d69b6",
            "1fdb179313aa40dc9804465dcf1866c5",
            "53e0feef58434980a3d373731fb76cab",
            "022d3097dd20437c896f3f4bd83f5062",
            "4c83f46ad0514795bb31a8ff26a80aef",
            "608492473f6a4126a3537ab4a17a0508",
            "40ba1f017c004b23b50e60f27b9c67d8",
            "e34f4088b0f144ba87e2e654531f06d6",
            "a7ae941402b04349bf27f16601b5612a",
            "d57b8b74eb3345dcb0568759e2354a53",
            "d8ccc0fa7ecf48b59f50fe02210f9cca",
            "b15450d186e44580a7cf3a408de0781d",
            "310abfd22f92443e87d4ad932b4b1a35",
            "a6dd78ce58de493a93648eafba35e14a",
            "b60315e9e1ff4232b7c55c5fd83b1d0f",
            "c56344645ea8438492ba0583236ab570",
            "f8bb320326ed4840843820041b6bee27",
            "7b8f30014fc34ba3993774a1e589231f",
            "40720853b82a4133b1764d956087bf95",
            "56b918fd829f433ca16ffa16cc02e14c",
            "99079f112312491b8f3e791d1fe4a8ea",
            "f0519e5f32a7454497bbf31a3ddc707f",
            "a3266e53d38343f0b6435b6efb2f0221",
            "acb5fd2250ea490793be11ca2174258e",
            "45733f7fc58a46ada1931d9c0514efb1",
            "e78260b49eae4df3a0db7d60c4b42815",
            "f826c76961c14eaeb3c11a5444f51803",
            "052345fa400d4ccd91f9d7ed6f6063ee",
            "fc6ee63e7166438fa156769314a54abd",
            "92b69c698dea42d99e66bf3615531812",
            "cfb716d2d6fd40a693d7ee78b9780de0",
            "e1ea63347bc44bb9a8e8c69741a9dbba",
            "79cab81f91254cb79fd05b29efec84d6",
            "2b2dcd5f647d4756b26db0cf968ffbfd",
            "53d3d233b1ff41488432816ad7f514f2",
            "967ec390e4a245c88926a90166a1a5d6",
            "079c46dea74b43c09fef94187b5f1886",
            "4bd0b0ee7579421fab2fb93aaec65a18",
            "97ad17ddc2b74245bc8c56f92b099dd3",
            "9a7e64bb56a14be7b5380c08ebe31cf6",
            "3621caccd3fa46caaaf51522eea18ccf",
            "294fdb4249424fa48c768da9c1c48e3d",
            "c49c7fdc1f0a472c9af462a7ea0b1d6b",
            "3d06ceb27bf044668ae4c163a2e2c3d5",
            "76d975b74e5c4de8bd593fdf657cbfc2",
            "639676c0a15449ba856fb0dd3c8a6c75",
            "332068c778f347d1a2288636eab0fcfc",
            "91266b9eb3994f5f83eb4785be5bcb90",
            "a589e36273a54d09b0dbdf4740b04019",
            "516ab6f6d2c340c9994967cd605f4407",
            "8e3538e8d28249ad84b56c5a4ce64dd6",
            "ef42b4247df74a5fbfae62173b265d3b",
            "1c92b430ec6a4d80a4c5343e56ce67c2",
            "ea7e564bc17b48009e13be82d69af78d",
            "d00aaf6c22c04555977df2067beb54b5",
            "73d3b25b7069474896668e711de70911",
            "7a3634f470a94f11be4f2d2e05495eda",
            "0ba172e17acf412d98f1ea5e2f47a8ac",
            "721af2d605524e47b841f637f66d509f",
            "5b1d6a7974784686b63c913103f74d83",
            "7c68049e4e0b4c04bfc6c5d3da67a3b4",
            "c3cbe4a97eed49ae8afde7876954e27c",
            "0a5dce1df8b542b688b65e7d1747821d",
            "6c69d77b219c44d3b3d617b06cf01f57",
            "7705cf3197414547a6ff0cbf985b6db1",
            "9f56124dbb374e25954ca371a7a400da",
            "1fae7e4fd88942ea882221761b87a2cb",
            "1f6bac98df8645ddadb926b992b85315",
            "8a3c47a4595449ada8fcfbdab06e78f8",
            "b597a7afe9f24381b1064eff7cedd4c7",
            "7b8856238552493aa56b7182e4d8f4e6",
            "c562ff5b798a416b900679e46d20eda1",
            "ff3ae661ea3a4992b00257b68178caee",
            "719949a060354787ac83615cc438c7c2",
            "59637896365f495fb97ba22793b4fb98",
            "ac884bf4a50747c3a2e47c473f16988c",
            "1a7bc5d12d8548c183192ededa0e7546",
            "73ad69d76b5046aca3e75658cfe63932",
            "e8c98a0592e84b12a2fbfa0364eb4b0a",
            "c9ad20ab970e4d2ea2d840efe38514f3",
            "2190be525ff04cfc8da1168d2f3a5de5",
            "89d7b4caa5ed4fefbffe97c0292ad886"
          ]
        },
        "id": "Df_aPbx569hS",
        "outputId": "049e1657-df9d-4e70-9465-84723e79b23b"
      },
      "outputs": [
        {
          "name": "stderr",
          "output_type": "stream",
          "text": [
            "Some weights of RobertaForSequenceClassification were not initialized from the model checkpoint at /content/drive/MyDrive/VU Thesis/Code/baby_models/V20L4/model_e10_v20_l4 and are newly initialized: ['classifier.dense.bias', 'classifier.dense.weight', 'classifier.out_proj.bias', 'classifier.out_proj.weight']\n",
            "You should probably TRAIN this model on a down-stream task to be able to use it for predictions and inference.\n"
          ]
        },
        {
          "data": {
            "application/vnd.jupyter.widget-view+json": {
              "model_id": "8fa751b82da9483a9447f8ef5b9d13d2",
              "version_major": 2,
              "version_minor": 0
            },
            "text/plain": [
              "  0%|          | 0/20 [00:00<?, ?it/s]"
            ]
          },
          "metadata": {},
          "output_type": "display_data"
        },
        {
          "data": {
            "application/vnd.jupyter.widget-view+json": {
              "model_id": "7ce4e30fc12440f389c4d4c0d488b7e7",
              "version_major": 2,
              "version_minor": 0
            },
            "text/plain": [
              "Epoch:   0%|          | 0/10 [00:00<?, ?it/s]"
            ]
          },
          "metadata": {},
          "output_type": "display_data"
        },
        {
          "name": "stderr",
          "output_type": "stream",
          "text": [
            "/usr/local/lib/python3.11/dist-packages/simpletransformers/classification/classification_model.py:882: FutureWarning: `torch.cuda.amp.GradScaler(args...)` is deprecated. Please use `torch.amp.GradScaler('cuda', args...)` instead.\n",
            "  scaler = amp.GradScaler()\n"
          ]
        },
        {
          "data": {
            "application/vnd.jupyter.widget-view+json": {
              "model_id": "435c5e955402455696da7228499bde47",
              "version_major": 2,
              "version_minor": 0
            },
            "text/plain": [
              "Running Epoch 1 of 10:   0%|          | 0/1311 [00:00<?, ?it/s]"
            ]
          },
          "metadata": {},
          "output_type": "display_data"
        },
        {
          "name": "stderr",
          "output_type": "stream",
          "text": [
            "/usr/local/lib/python3.11/dist-packages/simpletransformers/classification/classification_model.py:905: FutureWarning: `torch.cuda.amp.autocast(args...)` is deprecated. Please use `torch.amp.autocast('cuda', args...)` instead.\n",
            "  with amp.autocast():\n"
          ]
        },
        {
          "data": {
            "application/vnd.jupyter.widget-view+json": {
              "model_id": "879007d5ea184ff5baa7129353d5b909",
              "version_major": 2,
              "version_minor": 0
            },
            "text/plain": [
              "  0%|          | 0/13 [00:00<?, ?it/s]"
            ]
          },
          "metadata": {},
          "output_type": "display_data"
        },
        {
          "name": "stderr",
          "output_type": "stream",
          "text": [
            "/usr/local/lib/python3.11/dist-packages/simpletransformers/classification/classification_model.py:1505: FutureWarning: `torch.cuda.amp.autocast(args...)` is deprecated. Please use `torch.amp.autocast('cuda', args...)` instead.\n",
            "  with amp.autocast():\n"
          ]
        },
        {
          "data": {
            "application/vnd.jupyter.widget-view+json": {
              "model_id": "a63c871c325945a69d3de7a3ed0aafb0",
              "version_major": 2,
              "version_minor": 0
            },
            "text/plain": [
              "  0%|          | 0/13 [00:00<?, ?it/s]"
            ]
          },
          "metadata": {},
          "output_type": "display_data"
        },
        {
          "name": "stderr",
          "output_type": "stream",
          "text": [
            "/usr/local/lib/python3.11/dist-packages/simpletransformers/classification/classification_model.py:1505: FutureWarning: `torch.cuda.amp.autocast(args...)` is deprecated. Please use `torch.amp.autocast('cuda', args...)` instead.\n",
            "  with amp.autocast():\n"
          ]
        },
        {
          "data": {
            "application/vnd.jupyter.widget-view+json": {
              "model_id": "7dcfa24782d84a80961a95221d9a64aa",
              "version_major": 2,
              "version_minor": 0
            },
            "text/plain": [
              "Running Epoch 2 of 10:   0%|          | 0/1311 [00:00<?, ?it/s]"
            ]
          },
          "metadata": {},
          "output_type": "display_data"
        },
        {
          "name": "stderr",
          "output_type": "stream",
          "text": [
            "/usr/local/lib/python3.11/dist-packages/simpletransformers/classification/classification_model.py:905: FutureWarning: `torch.cuda.amp.autocast(args...)` is deprecated. Please use `torch.amp.autocast('cuda', args...)` instead.\n",
            "  with amp.autocast():\n"
          ]
        },
        {
          "data": {
            "application/vnd.jupyter.widget-view+json": {
              "model_id": "63a42a270bd64cb5938b4fca5a97361e",
              "version_major": 2,
              "version_minor": 0
            },
            "text/plain": [
              "  0%|          | 0/13 [00:00<?, ?it/s]"
            ]
          },
          "metadata": {},
          "output_type": "display_data"
        },
        {
          "name": "stderr",
          "output_type": "stream",
          "text": [
            "/usr/local/lib/python3.11/dist-packages/simpletransformers/classification/classification_model.py:1505: FutureWarning: `torch.cuda.amp.autocast(args...)` is deprecated. Please use `torch.amp.autocast('cuda', args...)` instead.\n",
            "  with amp.autocast():\n"
          ]
        },
        {
          "data": {
            "application/vnd.jupyter.widget-view+json": {
              "model_id": "e0513b48275e4cd1b6f2f69e1c5ca16a",
              "version_major": 2,
              "version_minor": 0
            },
            "text/plain": [
              "  0%|          | 0/13 [00:00<?, ?it/s]"
            ]
          },
          "metadata": {},
          "output_type": "display_data"
        },
        {
          "name": "stderr",
          "output_type": "stream",
          "text": [
            "/usr/local/lib/python3.11/dist-packages/simpletransformers/classification/classification_model.py:1505: FutureWarning: `torch.cuda.amp.autocast(args...)` is deprecated. Please use `torch.amp.autocast('cuda', args...)` instead.\n",
            "  with amp.autocast():\n"
          ]
        },
        {
          "data": {
            "application/vnd.jupyter.widget-view+json": {
              "model_id": "d9798d201c5343ca8d426e0365602dca",
              "version_major": 2,
              "version_minor": 0
            },
            "text/plain": [
              "Running Epoch 3 of 10:   0%|          | 0/1311 [00:00<?, ?it/s]"
            ]
          },
          "metadata": {},
          "output_type": "display_data"
        },
        {
          "name": "stderr",
          "output_type": "stream",
          "text": [
            "/usr/local/lib/python3.11/dist-packages/simpletransformers/classification/classification_model.py:905: FutureWarning: `torch.cuda.amp.autocast(args...)` is deprecated. Please use `torch.amp.autocast('cuda', args...)` instead.\n",
            "  with amp.autocast():\n"
          ]
        },
        {
          "data": {
            "application/vnd.jupyter.widget-view+json": {
              "model_id": "e5a6bdd492304c5e882e8c791650db12",
              "version_major": 2,
              "version_minor": 0
            },
            "text/plain": [
              "  0%|          | 0/13 [00:00<?, ?it/s]"
            ]
          },
          "metadata": {},
          "output_type": "display_data"
        },
        {
          "name": "stderr",
          "output_type": "stream",
          "text": [
            "/usr/local/lib/python3.11/dist-packages/simpletransformers/classification/classification_model.py:1505: FutureWarning: `torch.cuda.amp.autocast(args...)` is deprecated. Please use `torch.amp.autocast('cuda', args...)` instead.\n",
            "  with amp.autocast():\n"
          ]
        },
        {
          "data": {
            "application/vnd.jupyter.widget-view+json": {
              "model_id": "77ce237b86644b6198c8ef796f9f2312",
              "version_major": 2,
              "version_minor": 0
            },
            "text/plain": [
              "  0%|          | 0/13 [00:00<?, ?it/s]"
            ]
          },
          "metadata": {},
          "output_type": "display_data"
        },
        {
          "name": "stderr",
          "output_type": "stream",
          "text": [
            "/usr/local/lib/python3.11/dist-packages/simpletransformers/classification/classification_model.py:1505: FutureWarning: `torch.cuda.amp.autocast(args...)` is deprecated. Please use `torch.amp.autocast('cuda', args...)` instead.\n",
            "  with amp.autocast():\n"
          ]
        },
        {
          "data": {
            "application/vnd.jupyter.widget-view+json": {
              "model_id": "214cfeb2b05f4042bb155cd0327938cc",
              "version_major": 2,
              "version_minor": 0
            },
            "text/plain": [
              "Running Epoch 4 of 10:   0%|          | 0/1311 [00:00<?, ?it/s]"
            ]
          },
          "metadata": {},
          "output_type": "display_data"
        },
        {
          "name": "stderr",
          "output_type": "stream",
          "text": [
            "/usr/local/lib/python3.11/dist-packages/simpletransformers/classification/classification_model.py:905: FutureWarning: `torch.cuda.amp.autocast(args...)` is deprecated. Please use `torch.amp.autocast('cuda', args...)` instead.\n",
            "  with amp.autocast():\n"
          ]
        },
        {
          "data": {
            "application/vnd.jupyter.widget-view+json": {
              "model_id": "2cb4becbb14f424d926e306b3a05e98d",
              "version_major": 2,
              "version_minor": 0
            },
            "text/plain": [
              "  0%|          | 0/13 [00:00<?, ?it/s]"
            ]
          },
          "metadata": {},
          "output_type": "display_data"
        },
        {
          "name": "stderr",
          "output_type": "stream",
          "text": [
            "/usr/local/lib/python3.11/dist-packages/simpletransformers/classification/classification_model.py:1505: FutureWarning: `torch.cuda.amp.autocast(args...)` is deprecated. Please use `torch.amp.autocast('cuda', args...)` instead.\n",
            "  with amp.autocast():\n"
          ]
        },
        {
          "data": {
            "application/vnd.jupyter.widget-view+json": {
              "model_id": "a8f1adc4900f49e39f7077d8ab63fe10",
              "version_major": 2,
              "version_minor": 0
            },
            "text/plain": [
              "  0%|          | 0/13 [00:00<?, ?it/s]"
            ]
          },
          "metadata": {},
          "output_type": "display_data"
        },
        {
          "name": "stderr",
          "output_type": "stream",
          "text": [
            "/usr/local/lib/python3.11/dist-packages/simpletransformers/classification/classification_model.py:1505: FutureWarning: `torch.cuda.amp.autocast(args...)` is deprecated. Please use `torch.amp.autocast('cuda', args...)` instead.\n",
            "  with amp.autocast():\n"
          ]
        },
        {
          "data": {
            "application/vnd.jupyter.widget-view+json": {
              "model_id": "5f52ecf5224f4741b04f09d1db42991b",
              "version_major": 2,
              "version_minor": 0
            },
            "text/plain": [
              "Running Epoch 5 of 10:   0%|          | 0/1311 [00:00<?, ?it/s]"
            ]
          },
          "metadata": {},
          "output_type": "display_data"
        },
        {
          "name": "stderr",
          "output_type": "stream",
          "text": [
            "/usr/local/lib/python3.11/dist-packages/simpletransformers/classification/classification_model.py:905: FutureWarning: `torch.cuda.amp.autocast(args...)` is deprecated. Please use `torch.amp.autocast('cuda', args...)` instead.\n",
            "  with amp.autocast():\n"
          ]
        },
        {
          "data": {
            "application/vnd.jupyter.widget-view+json": {
              "model_id": "94cba4237f1249f0a1802d4c161c279d",
              "version_major": 2,
              "version_minor": 0
            },
            "text/plain": [
              "  0%|          | 0/13 [00:00<?, ?it/s]"
            ]
          },
          "metadata": {},
          "output_type": "display_data"
        },
        {
          "name": "stderr",
          "output_type": "stream",
          "text": [
            "/usr/local/lib/python3.11/dist-packages/simpletransformers/classification/classification_model.py:1505: FutureWarning: `torch.cuda.amp.autocast(args...)` is deprecated. Please use `torch.amp.autocast('cuda', args...)` instead.\n",
            "  with amp.autocast():\n"
          ]
        },
        {
          "data": {
            "application/vnd.jupyter.widget-view+json": {
              "model_id": "6c0cab36ddf54a68bdfb3a45273d91d0",
              "version_major": 2,
              "version_minor": 0
            },
            "text/plain": [
              "  0%|          | 0/13 [00:00<?, ?it/s]"
            ]
          },
          "metadata": {},
          "output_type": "display_data"
        },
        {
          "name": "stderr",
          "output_type": "stream",
          "text": [
            "/usr/local/lib/python3.11/dist-packages/simpletransformers/classification/classification_model.py:1505: FutureWarning: `torch.cuda.amp.autocast(args...)` is deprecated. Please use `torch.amp.autocast('cuda', args...)` instead.\n",
            "  with amp.autocast():\n"
          ]
        },
        {
          "data": {
            "application/vnd.jupyter.widget-view+json": {
              "model_id": "3d3ebff6f8f34159b1c2ee3f4e6951ff",
              "version_major": 2,
              "version_minor": 0
            },
            "text/plain": [
              "Running Epoch 6 of 10:   0%|          | 0/1311 [00:00<?, ?it/s]"
            ]
          },
          "metadata": {},
          "output_type": "display_data"
        },
        {
          "name": "stderr",
          "output_type": "stream",
          "text": [
            "/usr/local/lib/python3.11/dist-packages/simpletransformers/classification/classification_model.py:905: FutureWarning: `torch.cuda.amp.autocast(args...)` is deprecated. Please use `torch.amp.autocast('cuda', args...)` instead.\n",
            "  with amp.autocast():\n"
          ]
        },
        {
          "data": {
            "application/vnd.jupyter.widget-view+json": {
              "model_id": "2edf87be5f1045968136cdf6144af038",
              "version_major": 2,
              "version_minor": 0
            },
            "text/plain": [
              "  0%|          | 0/13 [00:00<?, ?it/s]"
            ]
          },
          "metadata": {},
          "output_type": "display_data"
        },
        {
          "name": "stderr",
          "output_type": "stream",
          "text": [
            "/usr/local/lib/python3.11/dist-packages/simpletransformers/classification/classification_model.py:1505: FutureWarning: `torch.cuda.amp.autocast(args...)` is deprecated. Please use `torch.amp.autocast('cuda', args...)` instead.\n",
            "  with amp.autocast():\n"
          ]
        },
        {
          "data": {
            "application/vnd.jupyter.widget-view+json": {
              "model_id": "e3bad3c281bf46438a61e0ea912ef92d",
              "version_major": 2,
              "version_minor": 0
            },
            "text/plain": [
              "  0%|          | 0/13 [00:00<?, ?it/s]"
            ]
          },
          "metadata": {},
          "output_type": "display_data"
        },
        {
          "name": "stderr",
          "output_type": "stream",
          "text": [
            "/usr/local/lib/python3.11/dist-packages/simpletransformers/classification/classification_model.py:1505: FutureWarning: `torch.cuda.amp.autocast(args...)` is deprecated. Please use `torch.amp.autocast('cuda', args...)` instead.\n",
            "  with amp.autocast():\n"
          ]
        },
        {
          "data": {
            "application/vnd.jupyter.widget-view+json": {
              "model_id": "176da0423af44a2d97454af7e33a1bcc",
              "version_major": 2,
              "version_minor": 0
            },
            "text/plain": [
              "Running Epoch 7 of 10:   0%|          | 0/1311 [00:00<?, ?it/s]"
            ]
          },
          "metadata": {},
          "output_type": "display_data"
        },
        {
          "name": "stderr",
          "output_type": "stream",
          "text": [
            "/usr/local/lib/python3.11/dist-packages/simpletransformers/classification/classification_model.py:905: FutureWarning: `torch.cuda.amp.autocast(args...)` is deprecated. Please use `torch.amp.autocast('cuda', args...)` instead.\n",
            "  with amp.autocast():\n"
          ]
        },
        {
          "data": {
            "application/vnd.jupyter.widget-view+json": {
              "model_id": "c521037b698244f0aa44c21dc7efe4ef",
              "version_major": 2,
              "version_minor": 0
            },
            "text/plain": [
              "  0%|          | 0/13 [00:00<?, ?it/s]"
            ]
          },
          "metadata": {},
          "output_type": "display_data"
        },
        {
          "name": "stderr",
          "output_type": "stream",
          "text": [
            "/usr/local/lib/python3.11/dist-packages/simpletransformers/classification/classification_model.py:1505: FutureWarning: `torch.cuda.amp.autocast(args...)` is deprecated. Please use `torch.amp.autocast('cuda', args...)` instead.\n",
            "  with amp.autocast():\n"
          ]
        },
        {
          "data": {
            "application/vnd.jupyter.widget-view+json": {
              "model_id": "40a25daceaf146fc83a86edcccc26353",
              "version_major": 2,
              "version_minor": 0
            },
            "text/plain": [
              "  0%|          | 0/13 [00:00<?, ?it/s]"
            ]
          },
          "metadata": {},
          "output_type": "display_data"
        },
        {
          "name": "stderr",
          "output_type": "stream",
          "text": [
            "/usr/local/lib/python3.11/dist-packages/simpletransformers/classification/classification_model.py:1505: FutureWarning: `torch.cuda.amp.autocast(args...)` is deprecated. Please use `torch.amp.autocast('cuda', args...)` instead.\n",
            "  with amp.autocast():\n"
          ]
        },
        {
          "data": {
            "application/vnd.jupyter.widget-view+json": {
              "model_id": "04dce3241a304fe9a56cdc021a296b37",
              "version_major": 2,
              "version_minor": 0
            },
            "text/plain": [
              "Running Epoch 8 of 10:   0%|          | 0/1311 [00:00<?, ?it/s]"
            ]
          },
          "metadata": {},
          "output_type": "display_data"
        },
        {
          "name": "stderr",
          "output_type": "stream",
          "text": [
            "/usr/local/lib/python3.11/dist-packages/simpletransformers/classification/classification_model.py:905: FutureWarning: `torch.cuda.amp.autocast(args...)` is deprecated. Please use `torch.amp.autocast('cuda', args...)` instead.\n",
            "  with amp.autocast():\n"
          ]
        },
        {
          "data": {
            "application/vnd.jupyter.widget-view+json": {
              "model_id": "eb365cddcb7c46578412bf0178dd8247",
              "version_major": 2,
              "version_minor": 0
            },
            "text/plain": [
              "  0%|          | 0/13 [00:00<?, ?it/s]"
            ]
          },
          "metadata": {},
          "output_type": "display_data"
        },
        {
          "name": "stderr",
          "output_type": "stream",
          "text": [
            "/usr/local/lib/python3.11/dist-packages/simpletransformers/classification/classification_model.py:1505: FutureWarning: `torch.cuda.amp.autocast(args...)` is deprecated. Please use `torch.amp.autocast('cuda', args...)` instead.\n",
            "  with amp.autocast():\n"
          ]
        },
        {
          "data": {
            "application/vnd.jupyter.widget-view+json": {
              "model_id": "608492473f6a4126a3537ab4a17a0508",
              "version_major": 2,
              "version_minor": 0
            },
            "text/plain": [
              "  0%|          | 0/13 [00:00<?, ?it/s]"
            ]
          },
          "metadata": {},
          "output_type": "display_data"
        },
        {
          "name": "stderr",
          "output_type": "stream",
          "text": [
            "/usr/local/lib/python3.11/dist-packages/simpletransformers/classification/classification_model.py:1505: FutureWarning: `torch.cuda.amp.autocast(args...)` is deprecated. Please use `torch.amp.autocast('cuda', args...)` instead.\n",
            "  with amp.autocast():\n"
          ]
        },
        {
          "data": {
            "application/vnd.jupyter.widget-view+json": {
              "model_id": "f8bb320326ed4840843820041b6bee27",
              "version_major": 2,
              "version_minor": 0
            },
            "text/plain": [
              "Running Epoch 9 of 10:   0%|          | 0/1311 [00:00<?, ?it/s]"
            ]
          },
          "metadata": {},
          "output_type": "display_data"
        },
        {
          "name": "stderr",
          "output_type": "stream",
          "text": [
            "/usr/local/lib/python3.11/dist-packages/simpletransformers/classification/classification_model.py:905: FutureWarning: `torch.cuda.amp.autocast(args...)` is deprecated. Please use `torch.amp.autocast('cuda', args...)` instead.\n",
            "  with amp.autocast():\n"
          ]
        },
        {
          "data": {
            "application/vnd.jupyter.widget-view+json": {
              "model_id": "052345fa400d4ccd91f9d7ed6f6063ee",
              "version_major": 2,
              "version_minor": 0
            },
            "text/plain": [
              "  0%|          | 0/13 [00:00<?, ?it/s]"
            ]
          },
          "metadata": {},
          "output_type": "display_data"
        },
        {
          "name": "stderr",
          "output_type": "stream",
          "text": [
            "/usr/local/lib/python3.11/dist-packages/simpletransformers/classification/classification_model.py:1505: FutureWarning: `torch.cuda.amp.autocast(args...)` is deprecated. Please use `torch.amp.autocast('cuda', args...)` instead.\n",
            "  with amp.autocast():\n"
          ]
        },
        {
          "data": {
            "application/vnd.jupyter.widget-view+json": {
              "model_id": "97ad17ddc2b74245bc8c56f92b099dd3",
              "version_major": 2,
              "version_minor": 0
            },
            "text/plain": [
              "  0%|          | 0/13 [00:00<?, ?it/s]"
            ]
          },
          "metadata": {},
          "output_type": "display_data"
        },
        {
          "name": "stderr",
          "output_type": "stream",
          "text": [
            "/usr/local/lib/python3.11/dist-packages/simpletransformers/classification/classification_model.py:1505: FutureWarning: `torch.cuda.amp.autocast(args...)` is deprecated. Please use `torch.amp.autocast('cuda', args...)` instead.\n",
            "  with amp.autocast():\n"
          ]
        },
        {
          "data": {
            "application/vnd.jupyter.widget-view+json": {
              "model_id": "516ab6f6d2c340c9994967cd605f4407",
              "version_major": 2,
              "version_minor": 0
            },
            "text/plain": [
              "Running Epoch 10 of 10:   0%|          | 0/1311 [00:00<?, ?it/s]"
            ]
          },
          "metadata": {},
          "output_type": "display_data"
        },
        {
          "name": "stderr",
          "output_type": "stream",
          "text": [
            "/usr/local/lib/python3.11/dist-packages/simpletransformers/classification/classification_model.py:905: FutureWarning: `torch.cuda.amp.autocast(args...)` is deprecated. Please use `torch.amp.autocast('cuda', args...)` instead.\n",
            "  with amp.autocast():\n"
          ]
        },
        {
          "data": {
            "application/vnd.jupyter.widget-view+json": {
              "model_id": "7c68049e4e0b4c04bfc6c5d3da67a3b4",
              "version_major": 2,
              "version_minor": 0
            },
            "text/plain": [
              "  0%|          | 0/13 [00:00<?, ?it/s]"
            ]
          },
          "metadata": {},
          "output_type": "display_data"
        },
        {
          "name": "stderr",
          "output_type": "stream",
          "text": [
            "/usr/local/lib/python3.11/dist-packages/simpletransformers/classification/classification_model.py:1505: FutureWarning: `torch.cuda.amp.autocast(args...)` is deprecated. Please use `torch.amp.autocast('cuda', args...)` instead.\n",
            "  with amp.autocast():\n"
          ]
        },
        {
          "data": {
            "application/vnd.jupyter.widget-view+json": {
              "model_id": "c562ff5b798a416b900679e46d20eda1",
              "version_major": 2,
              "version_minor": 0
            },
            "text/plain": [
              "  0%|          | 0/13 [00:00<?, ?it/s]"
            ]
          },
          "metadata": {},
          "output_type": "display_data"
        },
        {
          "name": "stderr",
          "output_type": "stream",
          "text": [
            "/usr/local/lib/python3.11/dist-packages/simpletransformers/classification/classification_model.py:1505: FutureWarning: `torch.cuda.amp.autocast(args...)` is deprecated. Please use `torch.amp.autocast('cuda', args...)` instead.\n",
            "  with amp.autocast():\n"
          ]
        },
        {
          "name": "stdout",
          "output_type": "stream",
          "text": [
            "{'epoch1': {'0': {'precision': 0.7650257584430452, 'recall': 0.7460228858498466, 'f0.5-score': 0.761148129164531, 'support': 3583.0}, '1': {'precision': 0.8758542141230068, 'recall': 0.5952012383900929, 'f0.5-score': 0.8003746877601998, 'support': 1292.0}, '2': {'precision': 0.9973492379058979, 'recall': 0.94180225281602, 'f0.5-score': 0.9857217710243646, 'support': 1598.0}, '3': {'precision': 0.2682926829268293, 'recall': 0.5766990291262136, 'f0.5-score': 0.3004248432126239, 'support': 515.0}, 'accuracy': 0.750429307384087, 'macro avg': {'precision': 0.7266304733496949, 'recall': 0.7149313515455432, 'f0.5-score': 0.7119173577904299, 'support': 6988.0}, 'weighted avg': {'precision': 0.8020357399870202, 'recall': 0.750429307384087, 'f0.5-score': 0.7858013777524512, 'support': 6988.0}}}\n",
            "{'epoch2': {'0': {'precision': 0.7489982827704637, 'recall': 0.8682813536828136, 'f0.5-score': 0.7701589170100059, 'support': 3014.0}, '1': {'precision': 0.9009111617312073, 'recall': 0.5929535232383808, 'f0.5-score': 0.8161370202228643, 'support': 1334.0}, '2': {'precision': 0.9973492379058979, 'recall': 0.9953703703703703, 'f0.5-score': 0.9969528351881293, 'support': 1512.0}, '3': {'precision': 0.7235772357723578, 'recall': 0.7101063829787234, 'f0.5-score': 0.7208423326133909, 'support': 1128.0}, 'accuracy': 0.8176874642243847, 'macro avg': {'precision': 0.8427089795449817, 'recall': 0.7916779075675721, 'f0.5-score': 0.8260227762585975, 'support': 6988.0}, 'weighted avg': {'precision': 0.8276307217636727, 'recall': 0.8176874642243847, 'f0.5-score': 0.8200470233024921, 'support': 6988.0}}}\n",
            "{'epoch3': {'0': {'precision': 0.7847738981110475, 'recall': 0.8502325581395349, 'f0.5-score': 0.7970466833323644, 'support': 3225.0}, '1': {'precision': 0.6981776765375854, 'recall': 0.5644567219152854, 'f0.5-score': 0.6665941713788603, 'support': 1086.0}, '2': {'precision': 0.9993373094764745, 'recall': 0.994067237969677, 'f0.5-score': 0.9982788296041308, 'support': 1517.0}, '3': {'precision': 0.8030713640469738, 'recall': 0.7663793103448275, 'f0.5-score': 0.7954545454545454, 'support': 1160.0}, 'accuracy': 0.8231253577561534, 'macro avg': {'precision': 0.8213400620430202, 'recall': 0.7937839570923313, 'f0.5-score': 0.8143435574424752, 'support': 6988.0}, 'weighted avg': {'precision': 0.8209322064822906, 'recall': 0.8231253577561534, 'f0.5-score': 0.820193629235984, 'support': 6988.0}}}\n",
            "{'epoch4': {'0': {'precision': 0.8030910131654264, 'recall': 0.8749610227627066, 'f0.5-score': 0.8165046848629459, 'support': 3207.0}, '1': {'precision': 0.7300683371298405, 'recall': 0.5642605633802817, 'f0.5-score': 0.6895438898450946, 'support': 1136.0}, '2': {'precision': 0.9993373094764745, 'recall': 0.9914529914529915, 'f0.5-score': 0.9977504300648405, 'support': 1521.0}, '3': {'precision': 0.8509485094850948, 'recall': 0.8380782918149466, 'f0.5-score': 0.848342939481268, 'support': 1124.0}, 'accuracy': 0.8438752146536921, 'macro avg': {'precision': 0.845861292314209, 'recall': 0.8171882173527316, 'f0.5-score': 0.8380354860635373, 'support': 6988.0}, 'weighted avg': {'precision': 0.8416326105575251, 'recall': 0.8438752146536921, 'f0.5-score': 0.8404362122674675, 'support': 6988.0}}}\n",
            "{'epoch5': {'0': {'precision': 0.8142530051516886, 'recall': 0.8753846153846154, 'f0.5-score': 0.8257866016486706, 'support': 3250.0}, '1': {'precision': 0.7619589977220956, 'recall': 0.5683942225998301, 'f0.5-score': 0.7133717210492643, 'support': 1177.0}, '2': {'precision': 0.9993373094764745, 'recall': 0.9960369881109643, 'f0.5-score': 0.9986754966887417, 'support': 1514.0}, '3': {'precision': 0.8220415537488708, 'recall': 0.8691499522445081, 'f0.5-score': 0.8310502283105022, 'support': 1047.0}, 'accuracy': 0.8488838008013738, 'macro avg': {'precision': 0.8493977165247824, 'recall': 0.8272414445849794, 'f0.5-score': 0.8422210119242948, 'support': 6988.0}, 'weighted avg': {'precision': 0.8467118203183092, 'recall': 0.8488838008013738, 'f0.5-score': 0.8450986350974549, 'support': 6988.0}}}\n",
            "{'epoch6': {'0': {'precision': 0.8620492272467086, 'recall': 0.8160390138173936, 'f0.5-score': 0.8524367464764816, 'support': 3691.0}, '1': {'precision': 0.4043280182232346, 'recall': 0.5122655122655123, 'f0.5-score': 0.4221165279429251, 'support': 693.0}, '2': {'precision': 0.9993373094764745, 'recall': 0.9966953073364178, 'f0.5-score': 0.9988077891111405, 'support': 1513.0}, '3': {'precision': 0.8572719060523939, 'recall': 0.8698441796516957, 'f0.5-score': 0.8597572023917376, 'support': 1091.0}, 'accuracy': 0.8334287349742415, 'macro avg': {'precision': 0.7807466152497029, 'recall': 0.7987110032677549, 'f0.5-score': 0.7832795664805713, 'support': 6988.0}, 'weighted avg': {'precision': 0.8456359492182842, 'recall': 0.8334287349742415, 'f0.5-score': 0.842596175993658, 'support': 6988.0}}}\n",
            "{'epoch7': {'0': {'precision': 0.8196908986834573, 'recall': 0.8842235257795616, 'f0.5-score': 0.8318327040371769, 'support': 3239.0}, '1': {'precision': 0.7608200455580866, 'recall': 0.5622895622895623, 'f0.5-score': 0.7106382978723405, 'support': 1188.0}, '2': {'precision': 0.9993373094764745, 'recall': 0.994067237969677, 'f0.5-score': 0.9982788296041308, 'support': 1517.0}, '3': {'precision': 0.8491418247515808, 'recall': 0.9003831417624522, 'f0.5-score': 0.8589181286549707, 'support': 1044.0}, 'accuracy': 0.8557527189467659, 'macro avg': {'precision': 0.8572475196173998, 'recall': 0.8352408669503133, 'f0.5-score': 0.8499169900421547, 'support': 6988.0}, 'weighted avg': {'precision': 0.853081253359357, 'recall': 0.8557527189467659, 'f0.5-score': 0.851408691624787, 'support': 6988.0}}}\n",
            "{'epoch8': {'0': {'precision': 0.8328563251287923, 'recall': 0.8483965014577259, 'f0.5-score': 0.8359186487418132, 'support': 3430.0}, '1': {'precision': 0.5785876993166287, 'recall': 0.5302713987473904, 'f0.5-score': 0.5682326621923938, 'support': 958.0}, '2': {'precision': 0.9993373094764745, 'recall': 0.9947229551451188, 'f0.5-score': 0.9984110169491526, 'support': 1516.0}, '3': {'precision': 0.8626919602529358, 'recall': 0.8809963099630996, 'f0.5-score': 0.8662917271407837, 'support': 1084.0}, 'accuracy': 0.8415855752718947, 'macro avg': {'precision': 0.8183683235437078, 'recall': 0.8135967913283337, 'f0.5-score': 0.8172135137560359, 'support': 6988.0}, 'weighted avg': {'precision': 0.8387432251313115, 'recall': 0.8415855752718947, 'f0.5-score': 0.8391841999828645, 'support': 6988.0}}}\n",
            "{'epoch9': {'0': {'precision': 0.8345735546651403, 'recall': 0.8536299765807962, 'f0.5-score': 0.8383164673413064, 'support': 3416.0}, '1': {'precision': 0.60250569476082, 'recall': 0.5348837209302325, 'f0.5-score': 0.5876471895134414, 'support': 989.0}, '2': {'precision': 0.9993373094764745, 'recall': 0.9953795379537954, 'f0.5-score': 0.9985432393060522, 'support': 1515.0}, '3': {'precision': 0.8608852755194218, 'recall': 0.8923220973782772, 'f0.5-score': 0.8669941775836972, 'support': 1068.0}, 'accuracy': 0.845163136805953, 'macro avg': {'precision': 0.8243254586054642, 'recall': 0.8190538332107753, 'f0.5-score': 0.8228752684361242, 'support': 6988.0}, 'weighted avg': {'precision': 0.8414715072933846, 'recall': 0.845163136805953, 'f0.5-score': 0.8419597756260381, 'support': 6988.0}}}\n",
            "{'epoch10': {'0': {'precision': 0.8371493989696622, 'recall': 0.851528384279476, 'f0.5-score': 0.8399862156108208, 'support': 3435.0}, '1': {'precision': 0.5865603644646925, 'recall': 0.5320247933884298, 'f0.5-score': 0.5747767857142857, 'support': 968.0}, '2': {'precision': 0.9993373094764745, 'recall': 0.9953795379537954, 'f0.5-score': 0.9985432393060522, 'support': 1515.0}, '3': {'precision': 0.8644986449864499, 'recall': 0.8943925233644859, 'f0.5-score': 0.8703164787195343, 'support': 1070.0}, 'accuracy': 0.8450200343445907, 'macro avg': {'precision': 0.8218864294743198, 'recall': 0.8183313097465468, 'f0.5-score': 0.8209056798376733, 'support': 6988.0}, 'weighted avg': {'precision': 0.8417870910496525, 'recall': 0.8450200343445907, 'f0.5-score': 0.8422679191432697, 'support': 6988.0}}}\n"
          ]
        }
      ],
      "source": [
        "# Define model arguments\n",
        "model_args = ClassificationArgs(eval_batch_size=64,\n",
        "                                evaluate_during_training=True,\n",
        "                                save_eval_checkpoints=False,\n",
        "                                save_steps=-1,\n",
        "                                manual_seed=42,\n",
        "                                evaluate_during_training_steps=1311,\n",
        "                                overwrite_output_dir=True,\n",
        "                                labels_list=['G', 'PREP', 'DET','SVA']\n",
        "                                )\n",
        "model_args.num_train_epochs = 10\n",
        "\n",
        "# Initialize the model\n",
        "model = ClassificationModel('roberta',\n",
        "                            '/content/drive/MyDrive/VU Thesis/Code/baby_models/V20L4/model_e10_v20_l4',\n",
        "                            args=model_args,\n",
        "                            num_labels=4\n",
        "                            )\n",
        "\n",
        "\n",
        "f05_scores_e10 = []\n",
        "epoch_num_count = 1\n",
        "_last_metric_str = None  # Store last metric as a string for comparison\n",
        "\n",
        "def custom_metric(preds, labels):\n",
        "    global _last_metric_str\n",
        "    global epoch_num_count\n",
        "    metric = classification_report_f0_5(labels, preds, output_dict=True)\n",
        "\n",
        "    # Serialize to string for reliable comparison\n",
        "    metric_str = json.dumps(metric, sort_keys=True)\n",
        "\n",
        "    if metric_str != _last_metric_str:\n",
        "        f05_scores_e10.append({f\"epoch{epoch_num_count}\":metric})\n",
        "        epoch_num_count+=1\n",
        "        _last_metric_str = metric_str\n",
        "\n",
        "    return metric['macro avg']['f0.5-score']\n",
        "\n",
        "# Train the model with the callback\n",
        "model.train_model(train_df, eval_df=dev_df, compute_metrics=custom_metric)\n",
        "\n",
        "# f05_scores_e10_df = pd.DataFrame(f05_scores_e10)\n",
        "# print(f05_scores_e10_df)\n",
        "for item in f05_scores_e10:\n",
        "    print(item)\n",
        "\n",
        "with open(os.path.join(main_path, 'epoch_10_evals_half.json'), 'w') as out_file:\n",
        "    json.dump(f05_scores_e10, out_file)"
      ]
    },
    {
      "cell_type": "code",
      "execution_count": null,
      "metadata": {
        "colab": {
          "base_uri": "https://localhost:8080/"
        },
        "id": "QMaZwoB-69hT",
        "outputId": "51993428-1b0b-4e4f-809f-57cabf1d341b"
      },
      "outputs": [
        {
          "name": "stdout",
          "output_type": "stream",
          "text": [
            "{'epoch1': {'0': {'precision': 0.7650257584430452, 'recall': 0.7460228858498466, 'f0.5-score': 0.761148129164531, 'support': 3583.0}, '1': {'precision': 0.8758542141230068, 'recall': 0.5952012383900929, 'f0.5-score': 0.8003746877601998, 'support': 1292.0}, '2': {'precision': 0.9973492379058979, 'recall': 0.94180225281602, 'f0.5-score': 0.9857217710243646, 'support': 1598.0}, '3': {'precision': 0.2682926829268293, 'recall': 0.5766990291262136, 'f0.5-score': 0.3004248432126239, 'support': 515.0}, 'accuracy': 0.750429307384087, 'macro avg': {'precision': 0.7266304733496949, 'recall': 0.7149313515455432, 'f0.5-score': 0.7119173577904299, 'support': 6988.0}, 'weighted avg': {'precision': 0.8020357399870202, 'recall': 0.750429307384087, 'f0.5-score': 0.7858013777524512, 'support': 6988.0}}}\n",
            "{'epoch2': {'0': {'precision': 0.7489982827704637, 'recall': 0.8682813536828136, 'f0.5-score': 0.7701589170100059, 'support': 3014.0}, '1': {'precision': 0.9009111617312073, 'recall': 0.5929535232383808, 'f0.5-score': 0.8161370202228643, 'support': 1334.0}, '2': {'precision': 0.9973492379058979, 'recall': 0.9953703703703703, 'f0.5-score': 0.9969528351881293, 'support': 1512.0}, '3': {'precision': 0.7235772357723578, 'recall': 0.7101063829787234, 'f0.5-score': 0.7208423326133909, 'support': 1128.0}, 'accuracy': 0.8176874642243847, 'macro avg': {'precision': 0.8427089795449817, 'recall': 0.7916779075675721, 'f0.5-score': 0.8260227762585975, 'support': 6988.0}, 'weighted avg': {'precision': 0.8276307217636727, 'recall': 0.8176874642243847, 'f0.5-score': 0.8200470233024921, 'support': 6988.0}}}\n",
            "{'epoch3': {'0': {'precision': 0.7847738981110475, 'recall': 0.8502325581395349, 'f0.5-score': 0.7970466833323644, 'support': 3225.0}, '1': {'precision': 0.6981776765375854, 'recall': 0.5644567219152854, 'f0.5-score': 0.6665941713788603, 'support': 1086.0}, '2': {'precision': 0.9993373094764745, 'recall': 0.994067237969677, 'f0.5-score': 0.9982788296041308, 'support': 1517.0}, '3': {'precision': 0.8030713640469738, 'recall': 0.7663793103448275, 'f0.5-score': 0.7954545454545454, 'support': 1160.0}, 'accuracy': 0.8231253577561534, 'macro avg': {'precision': 0.8213400620430202, 'recall': 0.7937839570923313, 'f0.5-score': 0.8143435574424752, 'support': 6988.0}, 'weighted avg': {'precision': 0.8209322064822906, 'recall': 0.8231253577561534, 'f0.5-score': 0.820193629235984, 'support': 6988.0}}}\n",
            "{'epoch4': {'0': {'precision': 0.8030910131654264, 'recall': 0.8749610227627066, 'f0.5-score': 0.8165046848629459, 'support': 3207.0}, '1': {'precision': 0.7300683371298405, 'recall': 0.5642605633802817, 'f0.5-score': 0.6895438898450946, 'support': 1136.0}, '2': {'precision': 0.9993373094764745, 'recall': 0.9914529914529915, 'f0.5-score': 0.9977504300648405, 'support': 1521.0}, '3': {'precision': 0.8509485094850948, 'recall': 0.8380782918149466, 'f0.5-score': 0.848342939481268, 'support': 1124.0}, 'accuracy': 0.8438752146536921, 'macro avg': {'precision': 0.845861292314209, 'recall': 0.8171882173527316, 'f0.5-score': 0.8380354860635373, 'support': 6988.0}, 'weighted avg': {'precision': 0.8416326105575251, 'recall': 0.8438752146536921, 'f0.5-score': 0.8404362122674675, 'support': 6988.0}}}\n",
            "{'epoch5': {'0': {'precision': 0.8142530051516886, 'recall': 0.8753846153846154, 'f0.5-score': 0.8257866016486706, 'support': 3250.0}, '1': {'precision': 0.7619589977220956, 'recall': 0.5683942225998301, 'f0.5-score': 0.7133717210492643, 'support': 1177.0}, '2': {'precision': 0.9993373094764745, 'recall': 0.9960369881109643, 'f0.5-score': 0.9986754966887417, 'support': 1514.0}, '3': {'precision': 0.8220415537488708, 'recall': 0.8691499522445081, 'f0.5-score': 0.8310502283105022, 'support': 1047.0}, 'accuracy': 0.8488838008013738, 'macro avg': {'precision': 0.8493977165247824, 'recall': 0.8272414445849794, 'f0.5-score': 0.8422210119242948, 'support': 6988.0}, 'weighted avg': {'precision': 0.8467118203183092, 'recall': 0.8488838008013738, 'f0.5-score': 0.8450986350974549, 'support': 6988.0}}}\n",
            "{'epoch6': {'0': {'precision': 0.8620492272467086, 'recall': 0.8160390138173936, 'f0.5-score': 0.8524367464764816, 'support': 3691.0}, '1': {'precision': 0.4043280182232346, 'recall': 0.5122655122655123, 'f0.5-score': 0.4221165279429251, 'support': 693.0}, '2': {'precision': 0.9993373094764745, 'recall': 0.9966953073364178, 'f0.5-score': 0.9988077891111405, 'support': 1513.0}, '3': {'precision': 0.8572719060523939, 'recall': 0.8698441796516957, 'f0.5-score': 0.8597572023917376, 'support': 1091.0}, 'accuracy': 0.8334287349742415, 'macro avg': {'precision': 0.7807466152497029, 'recall': 0.7987110032677549, 'f0.5-score': 0.7832795664805713, 'support': 6988.0}, 'weighted avg': {'precision': 0.8456359492182842, 'recall': 0.8334287349742415, 'f0.5-score': 0.842596175993658, 'support': 6988.0}}}\n",
            "{'epoch7': {'0': {'precision': 0.8196908986834573, 'recall': 0.8842235257795616, 'f0.5-score': 0.8318327040371769, 'support': 3239.0}, '1': {'precision': 0.7608200455580866, 'recall': 0.5622895622895623, 'f0.5-score': 0.7106382978723405, 'support': 1188.0}, '2': {'precision': 0.9993373094764745, 'recall': 0.994067237969677, 'f0.5-score': 0.9982788296041308, 'support': 1517.0}, '3': {'precision': 0.8491418247515808, 'recall': 0.9003831417624522, 'f0.5-score': 0.8589181286549707, 'support': 1044.0}, 'accuracy': 0.8557527189467659, 'macro avg': {'precision': 0.8572475196173998, 'recall': 0.8352408669503133, 'f0.5-score': 0.8499169900421547, 'support': 6988.0}, 'weighted avg': {'precision': 0.853081253359357, 'recall': 0.8557527189467659, 'f0.5-score': 0.851408691624787, 'support': 6988.0}}}\n",
            "{'epoch8': {'0': {'precision': 0.8328563251287923, 'recall': 0.8483965014577259, 'f0.5-score': 0.8359186487418132, 'support': 3430.0}, '1': {'precision': 0.5785876993166287, 'recall': 0.5302713987473904, 'f0.5-score': 0.5682326621923938, 'support': 958.0}, '2': {'precision': 0.9993373094764745, 'recall': 0.9947229551451188, 'f0.5-score': 0.9984110169491526, 'support': 1516.0}, '3': {'precision': 0.8626919602529358, 'recall': 0.8809963099630996, 'f0.5-score': 0.8662917271407837, 'support': 1084.0}, 'accuracy': 0.8415855752718947, 'macro avg': {'precision': 0.8183683235437078, 'recall': 0.8135967913283337, 'f0.5-score': 0.8172135137560359, 'support': 6988.0}, 'weighted avg': {'precision': 0.8387432251313115, 'recall': 0.8415855752718947, 'f0.5-score': 0.8391841999828645, 'support': 6988.0}}}\n",
            "{'epoch9': {'0': {'precision': 0.8345735546651403, 'recall': 0.8536299765807962, 'f0.5-score': 0.8383164673413064, 'support': 3416.0}, '1': {'precision': 0.60250569476082, 'recall': 0.5348837209302325, 'f0.5-score': 0.5876471895134414, 'support': 989.0}, '2': {'precision': 0.9993373094764745, 'recall': 0.9953795379537954, 'f0.5-score': 0.9985432393060522, 'support': 1515.0}, '3': {'precision': 0.8608852755194218, 'recall': 0.8923220973782772, 'f0.5-score': 0.8669941775836972, 'support': 1068.0}, 'accuracy': 0.845163136805953, 'macro avg': {'precision': 0.8243254586054642, 'recall': 0.8190538332107753, 'f0.5-score': 0.8228752684361242, 'support': 6988.0}, 'weighted avg': {'precision': 0.8414715072933846, 'recall': 0.845163136805953, 'f0.5-score': 0.8419597756260381, 'support': 6988.0}}}\n",
            "{'epoch10': {'0': {'precision': 0.8371493989696622, 'recall': 0.851528384279476, 'f0.5-score': 0.8399862156108208, 'support': 3435.0}, '1': {'precision': 0.5865603644646925, 'recall': 0.5320247933884298, 'f0.5-score': 0.5747767857142857, 'support': 968.0}, '2': {'precision': 0.9993373094764745, 'recall': 0.9953795379537954, 'f0.5-score': 0.9985432393060522, 'support': 1515.0}, '3': {'precision': 0.8644986449864499, 'recall': 0.8943925233644859, 'f0.5-score': 0.8703164787195343, 'support': 1070.0}, 'accuracy': 0.8450200343445907, 'macro avg': {'precision': 0.8218864294743198, 'recall': 0.8183313097465468, 'f0.5-score': 0.8209056798376733, 'support': 6988.0}, 'weighted avg': {'precision': 0.8417870910496525, 'recall': 0.8450200343445907, 'f0.5-score': 0.8422679191432697, 'support': 6988.0}}}\n"
          ]
        }
      ],
      "source": [
        "for item in f05_scores_e10:\n",
        "    print(item)"
      ]
    },
    {
      "cell_type": "code",
      "execution_count": null,
      "metadata": {
        "colab": {
          "base_uri": "https://localhost:8080/"
        },
        "id": "gVCODjuY69hT",
        "outputId": "b89d4198-bed9-4086-e627-9b04fabf81fe"
      },
      "outputs": [
        {
          "name": "stdout",
          "output_type": "stream",
          "text": [
            "epoch1 0.7119173577904299\n",
            "epoch2 0.8260227762585975\n",
            "epoch3 0.8143435574424752\n",
            "epoch4 0.8380354860635373\n",
            "epoch5 0.8422210119242948\n",
            "epoch6 0.7832795664805713\n",
            "epoch7 0.8499169900421547\n",
            "epoch8 0.8172135137560359\n",
            "epoch9 0.8228752684361242\n",
            "epoch10 0.8209056798376733\n"
          ]
        }
      ],
      "source": [
        "for item in f05_scores_e10:\n",
        "  for k , v in item.items():\n",
        "    print(k,v['macro avg']['f0.5-score'])"
      ]
    }
  ],
  "metadata": {
    "accelerator": "GPU",
    "colab": {
      "gpuType": "T4",
      "provenance": []
    },
    "kernelspec": {
      "display_name": "Python 3",
      "name": "python3"
    },
    "language_info": {
      "name": "python"
    }
  },
  "nbformat": 4,
  "nbformat_minor": 0
}
