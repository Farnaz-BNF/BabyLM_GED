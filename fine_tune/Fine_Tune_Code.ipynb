{
  "cells": [
    {
      "cell_type": "code",
      "execution_count": null,
      "metadata": {
        "colab": {
          "base_uri": "https://localhost:8080/"
        },
        "id": "OGUr8t7vsom6",
        "outputId": "aef62226-8a70-48c7-8a4d-6ed02fdbf5d8"
      },
      "outputs": [
        {
          "name": "stdout",
          "output_type": "stream",
          "text": [
            "Mounted at /content/drive\n"
          ]
        }
      ],
      "source": [
        "from google.colab import drive\n",
        "drive.mount('/content/drive')"
      ]
    },
    {
      "cell_type": "code",
      "execution_count": null,
      "metadata": {
        "colab": {
          "base_uri": "https://localhost:8080/"
        },
        "id": "sSVLVQi7eO0L",
        "outputId": "3eb7e5d0-a2e0-443e-a359-725dfc96bf1c"
      },
      "outputs": [
        {
          "name": "stdout",
          "output_type": "stream",
          "text": [
            "Requirement already satisfied: simpletransformers in /usr/local/lib/python3.11/dist-packages (0.70.1)\n",
            "Requirement already satisfied: numpy in /usr/local/lib/python3.11/dist-packages (from simpletransformers) (2.0.2)\n",
            "Requirement already satisfied: requests in /usr/local/lib/python3.11/dist-packages (from simpletransformers) (2.32.3)\n",
            "Requirement already satisfied: tqdm>=4.47.0 in /usr/local/lib/python3.11/dist-packages (from simpletransformers) (4.67.1)\n",
            "Requirement already satisfied: regex in /usr/local/lib/python3.11/dist-packages (from simpletransformers) (2024.11.6)\n",
            "Requirement already satisfied: transformers>=4.31.0 in /usr/local/lib/python3.11/dist-packages (from simpletransformers) (4.51.3)\n",
            "Requirement already satisfied: datasets in /usr/local/lib/python3.11/dist-packages (from simpletransformers) (2.14.4)\n",
            "Requirement already satisfied: scipy in /usr/local/lib/python3.11/dist-packages (from simpletransformers) (1.15.3)\n",
            "Requirement already satisfied: scikit-learn in /usr/local/lib/python3.11/dist-packages (from simpletransformers) (1.6.1)\n",
            "Requirement already satisfied: seqeval in /usr/local/lib/python3.11/dist-packages (from simpletransformers) (1.2.2)\n",
            "Requirement already satisfied: tensorboard in /usr/local/lib/python3.11/dist-packages (from simpletransformers) (2.18.0)\n",
            "Requirement already satisfied: tensorboardx in /usr/local/lib/python3.11/dist-packages (from simpletransformers) (2.6.2.2)\n",
            "Requirement already satisfied: pandas in /usr/local/lib/python3.11/dist-packages (from simpletransformers) (2.2.2)\n",
            "Requirement already satisfied: tokenizers in /usr/local/lib/python3.11/dist-packages (from simpletransformers) (0.21.1)\n",
            "Requirement already satisfied: wandb>=0.10.32 in /usr/local/lib/python3.11/dist-packages (from simpletransformers) (0.19.11)\n",
            "Requirement already satisfied: streamlit in /usr/local/lib/python3.11/dist-packages (from simpletransformers) (1.45.1)\n",
            "Requirement already satisfied: sentencepiece in /usr/local/lib/python3.11/dist-packages (from simpletransformers) (0.2.0)\n",
            "Requirement already satisfied: filelock in /usr/local/lib/python3.11/dist-packages (from transformers>=4.31.0->simpletransformers) (3.18.0)\n",
            "Requirement already satisfied: huggingface-hub<1.0,>=0.30.0 in /usr/local/lib/python3.11/dist-packages (from transformers>=4.31.0->simpletransformers) (0.31.2)\n",
            "Requirement already satisfied: packaging>=20.0 in /usr/local/lib/python3.11/dist-packages (from transformers>=4.31.0->simpletransformers) (24.2)\n",
            "Requirement already satisfied: pyyaml>=5.1 in /usr/local/lib/python3.11/dist-packages (from transformers>=4.31.0->simpletransformers) (6.0.2)\n",
            "Requirement already satisfied: safetensors>=0.4.3 in /usr/local/lib/python3.11/dist-packages (from transformers>=4.31.0->simpletransformers) (0.5.3)\n",
            "Requirement already satisfied: click!=8.0.0,>=7.1 in /usr/local/lib/python3.11/dist-packages (from wandb>=0.10.32->simpletransformers) (8.2.0)\n",
            "Requirement already satisfied: docker-pycreds>=0.4.0 in /usr/local/lib/python3.11/dist-packages (from wandb>=0.10.32->simpletransformers) (0.4.0)\n",
            "Requirement already satisfied: gitpython!=3.1.29,>=1.0.0 in /usr/local/lib/python3.11/dist-packages (from wandb>=0.10.32->simpletransformers) (3.1.44)\n",
            "Requirement already satisfied: platformdirs in /usr/local/lib/python3.11/dist-packages (from wandb>=0.10.32->simpletransformers) (4.3.8)\n",
            "Requirement already satisfied: protobuf!=4.21.0,!=5.28.0,<7,>=3.19.0 in /usr/local/lib/python3.11/dist-packages (from wandb>=0.10.32->simpletransformers) (5.29.4)\n",
            "Requirement already satisfied: psutil>=5.0.0 in /usr/local/lib/python3.11/dist-packages (from wandb>=0.10.32->simpletransformers) (5.9.5)\n",
            "Requirement already satisfied: pydantic<3 in /usr/local/lib/python3.11/dist-packages (from wandb>=0.10.32->simpletransformers) (2.11.4)\n",
            "Requirement already satisfied: sentry-sdk>=2.0.0 in /usr/local/lib/python3.11/dist-packages (from wandb>=0.10.32->simpletransformers) (2.28.0)\n",
            "Requirement already satisfied: setproctitle in /usr/local/lib/python3.11/dist-packages (from wandb>=0.10.32->simpletransformers) (1.3.6)\n",
            "Requirement already satisfied: setuptools in /usr/local/lib/python3.11/dist-packages (from wandb>=0.10.32->simpletransformers) (75.2.0)\n",
            "Requirement already satisfied: typing-extensions<5,>=4.4 in /usr/local/lib/python3.11/dist-packages (from wandb>=0.10.32->simpletransformers) (4.13.2)\n",
            "Requirement already satisfied: charset-normalizer<4,>=2 in /usr/local/lib/python3.11/dist-packages (from requests->simpletransformers) (3.4.2)\n",
            "Requirement already satisfied: idna<4,>=2.5 in /usr/local/lib/python3.11/dist-packages (from requests->simpletransformers) (3.10)\n",
            "Requirement already satisfied: urllib3<3,>=1.21.1 in /usr/local/lib/python3.11/dist-packages (from requests->simpletransformers) (2.4.0)\n",
            "Requirement already satisfied: certifi>=2017.4.17 in /usr/local/lib/python3.11/dist-packages (from requests->simpletransformers) (2025.4.26)\n",
            "Requirement already satisfied: pyarrow>=8.0.0 in /usr/local/lib/python3.11/dist-packages (from datasets->simpletransformers) (18.1.0)\n",
            "Requirement already satisfied: dill<0.3.8,>=0.3.0 in /usr/local/lib/python3.11/dist-packages (from datasets->simpletransformers) (0.3.7)\n",
            "Requirement already satisfied: xxhash in /usr/local/lib/python3.11/dist-packages (from datasets->simpletransformers) (3.5.0)\n",
            "Requirement already satisfied: multiprocess in /usr/local/lib/python3.11/dist-packages (from datasets->simpletransformers) (0.70.15)\n",
            "Requirement already satisfied: fsspec>=2021.11.1 in /usr/local/lib/python3.11/dist-packages (from fsspec[http]>=2021.11.1->datasets->simpletransformers) (2025.3.2)\n",
            "Requirement already satisfied: aiohttp in /usr/local/lib/python3.11/dist-packages (from datasets->simpletransformers) (3.11.15)\n",
            "Requirement already satisfied: python-dateutil>=2.8.2 in /usr/local/lib/python3.11/dist-packages (from pandas->simpletransformers) (2.9.0.post0)\n",
            "Requirement already satisfied: pytz>=2020.1 in /usr/local/lib/python3.11/dist-packages (from pandas->simpletransformers) (2025.2)\n",
            "Requirement already satisfied: tzdata>=2022.7 in /usr/local/lib/python3.11/dist-packages (from pandas->simpletransformers) (2025.2)\n",
            "Requirement already satisfied: joblib>=1.2.0 in /usr/local/lib/python3.11/dist-packages (from scikit-learn->simpletransformers) (1.5.0)\n",
            "Requirement already satisfied: threadpoolctl>=3.1.0 in /usr/local/lib/python3.11/dist-packages (from scikit-learn->simpletransformers) (3.6.0)\n",
            "Requirement already satisfied: altair<6,>=4.0 in /usr/local/lib/python3.11/dist-packages (from streamlit->simpletransformers) (5.5.0)\n",
            "Requirement already satisfied: blinker<2,>=1.5.0 in /usr/local/lib/python3.11/dist-packages (from streamlit->simpletransformers) (1.9.0)\n",
            "Requirement already satisfied: cachetools<6,>=4.0 in /usr/local/lib/python3.11/dist-packages (from streamlit->simpletransformers) (5.5.2)\n",
            "Requirement already satisfied: pillow<12,>=7.1.0 in /usr/local/lib/python3.11/dist-packages (from streamlit->simpletransformers) (11.2.1)\n",
            "Requirement already satisfied: tenacity<10,>=8.1.0 in /usr/local/lib/python3.11/dist-packages (from streamlit->simpletransformers) (9.1.2)\n",
            "Requirement already satisfied: toml<2,>=0.10.1 in /usr/local/lib/python3.11/dist-packages (from streamlit->simpletransformers) (0.10.2)\n",
            "Requirement already satisfied: watchdog<7,>=2.1.5 in /usr/local/lib/python3.11/dist-packages (from streamlit->simpletransformers) (6.0.0)\n",
            "Requirement already satisfied: pydeck<1,>=0.8.0b4 in /usr/local/lib/python3.11/dist-packages (from streamlit->simpletransformers) (0.9.1)\n",
            "Requirement already satisfied: tornado<7,>=6.0.3 in /usr/local/lib/python3.11/dist-packages (from streamlit->simpletransformers) (6.4.2)\n",
            "Requirement already satisfied: absl-py>=0.4 in /usr/local/lib/python3.11/dist-packages (from tensorboard->simpletransformers) (1.4.0)\n",
            "Requirement already satisfied: grpcio>=1.48.2 in /usr/local/lib/python3.11/dist-packages (from tensorboard->simpletransformers) (1.71.0)\n",
            "Requirement already satisfied: markdown>=2.6.8 in /usr/local/lib/python3.11/dist-packages (from tensorboard->simpletransformers) (3.8)\n",
            "Requirement already satisfied: six>1.9 in /usr/local/lib/python3.11/dist-packages (from tensorboard->simpletransformers) (1.17.0)\n",
            "Requirement already satisfied: tensorboard-data-server<0.8.0,>=0.7.0 in /usr/local/lib/python3.11/dist-packages (from tensorboard->simpletransformers) (0.7.2)\n",
            "Requirement already satisfied: werkzeug>=1.0.1 in /usr/local/lib/python3.11/dist-packages (from tensorboard->simpletransformers) (3.1.3)\n",
            "Requirement already satisfied: jinja2 in /usr/local/lib/python3.11/dist-packages (from altair<6,>=4.0->streamlit->simpletransformers) (3.1.6)\n",
            "Requirement already satisfied: jsonschema>=3.0 in /usr/local/lib/python3.11/dist-packages (from altair<6,>=4.0->streamlit->simpletransformers) (4.23.0)\n",
            "Requirement already satisfied: narwhals>=1.14.2 in /usr/local/lib/python3.11/dist-packages (from altair<6,>=4.0->streamlit->simpletransformers) (1.39.0)\n",
            "Requirement already satisfied: aiohappyeyeballs>=2.3.0 in /usr/local/lib/python3.11/dist-packages (from aiohttp->datasets->simpletransformers) (2.6.1)\n",
            "Requirement already satisfied: aiosignal>=1.1.2 in /usr/local/lib/python3.11/dist-packages (from aiohttp->datasets->simpletransformers) (1.3.2)\n",
            "Requirement already satisfied: attrs>=17.3.0 in /usr/local/lib/python3.11/dist-packages (from aiohttp->datasets->simpletransformers) (25.3.0)\n",
            "Requirement already satisfied: frozenlist>=1.1.1 in /usr/local/lib/python3.11/dist-packages (from aiohttp->datasets->simpletransformers) (1.6.0)\n",
            "Requirement already satisfied: multidict<7.0,>=4.5 in /usr/local/lib/python3.11/dist-packages (from aiohttp->datasets->simpletransformers) (6.4.3)\n",
            "Requirement already satisfied: propcache>=0.2.0 in /usr/local/lib/python3.11/dist-packages (from aiohttp->datasets->simpletransformers) (0.3.1)\n",
            "Requirement already satisfied: yarl<2.0,>=1.17.0 in /usr/local/lib/python3.11/dist-packages (from aiohttp->datasets->simpletransformers) (1.20.0)\n",
            "Requirement already satisfied: gitdb<5,>=4.0.1 in /usr/local/lib/python3.11/dist-packages (from gitpython!=3.1.29,>=1.0.0->wandb>=0.10.32->simpletransformers) (4.0.12)\n",
            "Requirement already satisfied: annotated-types>=0.6.0 in /usr/local/lib/python3.11/dist-packages (from pydantic<3->wandb>=0.10.32->simpletransformers) (0.7.0)\n",
            "Requirement already satisfied: pydantic-core==2.33.2 in /usr/local/lib/python3.11/dist-packages (from pydantic<3->wandb>=0.10.32->simpletransformers) (2.33.2)\n",
            "Requirement already satisfied: typing-inspection>=0.4.0 in /usr/local/lib/python3.11/dist-packages (from pydantic<3->wandb>=0.10.32->simpletransformers) (0.4.0)\n",
            "Requirement already satisfied: MarkupSafe>=2.1.1 in /usr/local/lib/python3.11/dist-packages (from werkzeug>=1.0.1->tensorboard->simpletransformers) (3.0.2)\n",
            "Requirement already satisfied: smmap<6,>=3.0.1 in /usr/local/lib/python3.11/dist-packages (from gitdb<5,>=4.0.1->gitpython!=3.1.29,>=1.0.0->wandb>=0.10.32->simpletransformers) (5.0.2)\n",
            "Requirement already satisfied: jsonschema-specifications>=2023.03.6 in /usr/local/lib/python3.11/dist-packages (from jsonschema>=3.0->altair<6,>=4.0->streamlit->simpletransformers) (2025.4.1)\n",
            "Requirement already satisfied: referencing>=0.28.4 in /usr/local/lib/python3.11/dist-packages (from jsonschema>=3.0->altair<6,>=4.0->streamlit->simpletransformers) (0.36.2)\n",
            "Requirement already satisfied: rpds-py>=0.7.1 in /usr/local/lib/python3.11/dist-packages (from jsonschema>=3.0->altair<6,>=4.0->streamlit->simpletransformers) (0.24.0)\n"
          ]
        }
      ],
      "source": [
        "# %%capture\n",
        "!pip install simpletransformers"
      ]
    },
    {
      "cell_type": "markdown",
      "metadata": {
        "id": "m30x0mKU6tN9"
      },
      "source": [
        "### runs"
      ]
    },
    {
      "cell_type": "code",
      "execution_count": null,
      "metadata": {
        "id": "c440VyNneewR"
      },
      "outputs": [],
      "source": [
        "from simpletransformers.classification import ClassificationModel, ClassificationArgs\n",
        "import os\n",
        "import json\n",
        "import math\n",
        "import random\n",
        "import pandas as pd\n",
        "from random import shuffle\n",
        "from sklearn.model_selection import train_test_split\n",
        "from sklearn.metrics import confusion_matrix, ConfusionMatrixDisplay, precision_score, recall_score, fbeta_score, precision_recall_fscore_support"
      ]
    },
    {
      "cell_type": "code",
      "execution_count": null,
      "metadata": {
        "id": "bg66t2KJejS8"
      },
      "outputs": [],
      "source": [
        "# Custom classification report with F0.5 score\n",
        "\n",
        "from sklearn.metrics import precision_score, recall_score, fbeta_score, precision_recall_fscore_support\n",
        "from sklearn.utils import _unique\n",
        "from sklearn.metrics import _classification\n",
        "from sklearn.utils import multiclass\n",
        "import warnings\n",
        "import numpy as np\n",
        "from numbers import Integral, Real\n",
        "from sklearn.utils._param_validation import (\n",
        "    Hidden,\n",
        "    Interval,\n",
        "    Options,\n",
        "    StrOptions,\n",
        "    validate_params,\n",
        ")\n",
        "\n",
        "@validate_params(\n",
        "    {\n",
        "        \"y_true\": [\"array-like\", \"sparse matrix\"],\n",
        "        \"y_pred\": [\"array-like\", \"sparse matrix\"],\n",
        "        \"labels\": [\"array-like\", None],\n",
        "        \"target_names\": [\"array-like\", None],\n",
        "        \"sample_weight\": [\"array-like\", None],\n",
        "        \"digits\": [Interval(Integral, 0, None, closed=\"left\")],\n",
        "        \"output_dict\": [\"boolean\"],\n",
        "        \"zero_division\": [\n",
        "            Options(Real, {0.0, 1.0}),\n",
        "            \"nan\",\n",
        "            StrOptions({\"warn\"}),\n",
        "        ],\n",
        "    },\n",
        "    prefer_skip_nested_validation=True,\n",
        ")\n",
        "def classification_report_f0_5(\n",
        "    y_true,\n",
        "    y_pred,\n",
        "    *,\n",
        "    labels=None,\n",
        "    target_names=None,\n",
        "    sample_weight=None,\n",
        "    digits=2,\n",
        "    output_dict=False,\n",
        "    zero_division=\"warn\",\n",
        "):\n",
        "    \"\"\"Build a text report showing the main classification metrics.\n",
        "\n",
        "    Read more in the :ref:`User Guide <classification_report>`.\n",
        "\n",
        "    Parameters\n",
        "    ----------\n",
        "    y_true : 1d array-like, or label indicator array / sparse matrix\n",
        "        Ground truth (correct) target values.\n",
        "\n",
        "    y_pred : 1d array-like, or label indicator array / sparse matrix\n",
        "        Estimated targets as returned by a classifier.\n",
        "\n",
        "    labels : array-like of shape (n_labels,), default=None\n",
        "        Optional list of label indices to include in the report.\n",
        "\n",
        "    target_names : array-like of shape (n_labels,), default=None\n",
        "        Optional display names matching the labels (same order).\n",
        "\n",
        "    sample_weight : array-like of shape (n_samples,), default=None\n",
        "        Sample weights.\n",
        "\n",
        "    digits : int, default=2\n",
        "        Number of digits for formatting output floating point values.\n",
        "        When ``output_dict`` is ``True``, this will be ignored and the\n",
        "        returned values will not be rounded.\n",
        "\n",
        "    output_dict : bool, default=False\n",
        "        If True, return output as dict.\n",
        "\n",
        "        .. versionadded:: 0.20\n",
        "\n",
        "    zero_division : {\"warn\", 0.0, 1.0, np.nan}, default=\"warn\"\n",
        "        Sets the value to return when there is a zero division. If set to\n",
        "        \"warn\", this acts as 0, but warnings are also raised.\n",
        "\n",
        "        .. versionadded:: 1.3\n",
        "           `np.nan` option was added.\n",
        "\n",
        "    Returns\n",
        "    -------\n",
        "    report : str or dict\n",
        "        Text summary of the precision, recall, F1 score for each class.\n",
        "        Dictionary returned if output_dict is True. Dictionary has the\n",
        "        following structure::\n",
        "\n",
        "            {'label 1': {'precision':0.5,\n",
        "                         'recall':1.0,\n",
        "                         'f1-score':0.67,\n",
        "                         'support':1},\n",
        "             'label 2': { ... },\n",
        "              ...\n",
        "            }\n",
        "\n",
        "        The reported averages include macro average (averaging the unweighted\n",
        "        mean per label), weighted average (averaging the support-weighted mean\n",
        "        per label), and sample average (only for multilabel classification).\n",
        "        Micro average (averaging the total true positives, false negatives and\n",
        "        false positives) is only shown for multi-label or multi-class\n",
        "        with a subset of classes, because it corresponds to accuracy\n",
        "        otherwise and would be the same for all metrics.\n",
        "        See also :func:`precision_recall_fscore_support` for more details\n",
        "        on averages.\n",
        "\n",
        "        Note that in binary classification, recall of the positive class\n",
        "        is also known as \"sensitivity\"; recall of the negative class is\n",
        "        \"specificity\".\n",
        "\n",
        "    See Also\n",
        "    --------\n",
        "    precision_recall_fscore_support: Compute precision, recall, F-measure and\n",
        "        support for each class.\n",
        "    confusion_matrix: Compute confusion matrix to evaluate the accuracy of a\n",
        "        classification.\n",
        "    multilabel_confusion_matrix: Compute a confusion matrix for each class or sample.\n",
        "\n",
        "    Examples\n",
        "    --------\n",
        "    >>> from sklearn.metrics import classification_report\n",
        "    >>> y_true = [0, 1, 2, 2, 2]\n",
        "    >>> y_pred = [0, 0, 2, 2, 1]\n",
        "    >>> target_names = ['class 0', 'class 1', 'class 2']\n",
        "    >>> print(classification_report(y_true, y_pred, target_names=target_names))\n",
        "                  precision    recall  f1-score   support\n",
        "    <BLANKLINE>\n",
        "         class 0       0.50      1.00      0.67         1\n",
        "         class 1       0.00      0.00      0.00         1\n",
        "         class 2       1.00      0.67      0.80         3\n",
        "    <BLANKLINE>\n",
        "        accuracy                           0.60         5\n",
        "       macro avg       0.50      0.56      0.49         5\n",
        "    weighted avg       0.70      0.60      0.61         5\n",
        "    <BLANKLINE>\n",
        "    >>> y_pred = [1, 1, 0]\n",
        "    >>> y_true = [1, 1, 1]\n",
        "    >>> print(classification_report(y_true, y_pred, labels=[1, 2, 3]))\n",
        "                  precision    recall  f1-score   support\n",
        "    <BLANKLINE>\n",
        "               1       1.00      0.67      0.80         3\n",
        "               2       0.00      0.00      0.00         0\n",
        "               3       0.00      0.00      0.00         0\n",
        "    <BLANKLINE>\n",
        "       micro avg       1.00      0.67      0.80         3\n",
        "       macro avg       0.33      0.22      0.27         3\n",
        "    weighted avg       1.00      0.67      0.80         3\n",
        "    <BLANKLINE>\n",
        "    \"\"\"\n",
        "\n",
        "    y_true, y_pred = _unique.attach_unique(y_true, y_pred)\n",
        "    y_type, y_true, y_pred = _classification._check_targets(y_true, y_pred)\n",
        "\n",
        "    if labels is None:\n",
        "        labels = multiclass.unique_labels(y_true, y_pred)\n",
        "        labels_given = False\n",
        "    else:\n",
        "        labels = np.asarray(labels)\n",
        "        labels_given = True\n",
        "\n",
        "    # labelled micro average\n",
        "    micro_is_accuracy = (y_type == \"multiclass\" or y_type == \"binary\") and (\n",
        "        not labels_given or (set(labels) >= set(multiclass.unique_labels(y_true, y_pred)))\n",
        "    )\n",
        "\n",
        "    if target_names is not None and len(labels) != len(target_names):\n",
        "        if labels_given:\n",
        "            warnings.warn(\n",
        "                \"labels size, {0}, does not match size of target_names, {1}\".format(\n",
        "                    len(labels), len(target_names)\n",
        "                )\n",
        "            )\n",
        "        else:\n",
        "            raise ValueError(\n",
        "                \"Number of classes, {0}, does not match size of \"\n",
        "                \"target_names, {1}. Try specifying the labels \"\n",
        "                \"parameter\".format(len(labels), len(target_names))\n",
        "            )\n",
        "    if target_names is None:\n",
        "        target_names = [\"%s\" % l for l in labels]\n",
        "\n",
        "    headers = [\"precision\", \"recall\", \"f0.5-score\", \"support\"]\n",
        "    # compute per-class results without averaging\n",
        "    p, r, f1, s = precision_recall_fscore_support(\n",
        "        y_true,\n",
        "        y_pred,\n",
        "        labels=labels,\n",
        "        beta=0.5,\n",
        "        average=None,\n",
        "        sample_weight=sample_weight,\n",
        "        zero_division=zero_division,\n",
        "    )\n",
        "    rows = zip(target_names, p, r, f1, s)\n",
        "\n",
        "    if y_type.startswith(\"multilabel\"):\n",
        "        average_options = (\"micro\", \"macro\", \"weighted\", \"samples\")\n",
        "    else:\n",
        "        average_options = (\"micro\", \"macro\", \"weighted\")\n",
        "\n",
        "    if output_dict:\n",
        "        report_dict = {label[0]: label[1:] for label in rows}\n",
        "        for label, scores in report_dict.items():\n",
        "            report_dict[label] = dict(zip(headers, [float(i) for i in scores]))\n",
        "    else:\n",
        "        longest_last_line_heading = \"weighted avg\"\n",
        "        name_width = max(len(cn) for cn in target_names)\n",
        "        width = max(name_width, len(longest_last_line_heading), digits)\n",
        "        head_fmt = \"{:>{width}s} \" + \" {:>9}\" * len(headers)\n",
        "        report = head_fmt.format(\"\", *headers, width=width)\n",
        "        report += \"\\n\\n\"\n",
        "        row_fmt = \"{:>{width}s} \" + \" {:>9.{digits}f}\" * 3 + \" {:>9}\\n\"\n",
        "        for row in rows:\n",
        "            report += row_fmt.format(*row, width=width, digits=digits)\n",
        "        report += \"\\n\"\n",
        "\n",
        "    # compute all applicable averages\n",
        "    for average in average_options:\n",
        "        if average.startswith(\"micro\") and micro_is_accuracy:\n",
        "            line_heading = \"accuracy\"\n",
        "        else:\n",
        "            line_heading = average + \" avg\"\n",
        "\n",
        "        # compute averages with specified averaging method\n",
        "        avg_p, avg_r, avg_f1, _ = precision_recall_fscore_support(\n",
        "            y_true,\n",
        "            y_pred,\n",
        "            labels=labels,\n",
        "            beta=0.5,\n",
        "            average=average,\n",
        "            sample_weight=sample_weight,\n",
        "            zero_division=zero_division,\n",
        "        )\n",
        "        avg = [avg_p, avg_r, avg_f1, np.sum(s)]\n",
        "\n",
        "        if output_dict:\n",
        "            report_dict[line_heading] = dict(zip(headers, [float(i) for i in avg]))\n",
        "        else:\n",
        "            if line_heading == \"accuracy\":\n",
        "                row_fmt_accuracy = (\n",
        "                    \"{:>{width}s} \"\n",
        "                    + \" {:>9.{digits}}\" * 2\n",
        "                    + \" {:>9.{digits}f}\"\n",
        "                    + \" {:>9}\\n\"\n",
        "                )\n",
        "                report += row_fmt_accuracy.format(\n",
        "                    line_heading, \"\", \"\", *avg[2:], width=width, digits=digits\n",
        "                )\n",
        "            else:\n",
        "                report += row_fmt.format(line_heading, *avg, width=width, digits=digits)\n",
        "\n",
        "    if output_dict:\n",
        "        if \"accuracy\" in report_dict.keys():\n",
        "            report_dict[\"accuracy\"] = report_dict[\"accuracy\"][\"precision\"]\n",
        "        return report_dict\n",
        "    else:\n",
        "        return report"
      ]
    },
    {
      "cell_type": "code",
      "execution_count": null,
      "metadata": {
        "id": "v_nf4q5eocLS"
      },
      "outputs": [],
      "source": [
        "from sklearn.metrics import classification_report, confusion_matrix, fbeta_score, ConfusionMatrixDisplay\n",
        "from matplotlib import pyplot as plt\n",
        "\n",
        "# I used 'provide_confusion_matrix' , 'calculate_precision_recall_f1score' , 'evaluation_model' functions from previous term\n",
        "def provide_confusion_matrix(GoldLabel, PredictLabel, label_set):\n",
        "    \"\"\"\n",
        "    use `sklearn.metric confusion_matrix` to create confusion matrix of model predict.\n",
        "    and `sklearn.metric ConfusionMatrixDisplay` to display created confusion matrix.\n",
        "\n",
        "    Parameters\n",
        "    ----------\n",
        "    GoldLabel : list\n",
        "        list of all Gold labels\n",
        "    PredictLabel : list\n",
        "        list of all Prediction labels\n",
        "    label_set : list\n",
        "        list of all classes\n",
        "\n",
        "    Returns\n",
        "    -------\n",
        "        Confusion matrix\n",
        "    \"\"\"\n",
        "    print(label_set)\n",
        "    cf_matrix = confusion_matrix(GoldLabel, PredictLabel) # create a confusion matrix with gold and predicts\n",
        "    print(cf_matrix) # print confusion_matrix as text\n",
        "    display = ConfusionMatrixDisplay(confusion_matrix=cf_matrix, display_labels=label_set) # create graphical confusion_matrix\n",
        "    fig, ax = plt.subplots()# figsize=(15,15)) # create bigger plot because there is many classes in this task\n",
        "    display.plot(ax =ax) # show confusion_matrix\n",
        "    plt.xticks(rotation=90) # rotate X label of plot 90 degree\n",
        "    plt.show() # show confusion matrix\n",
        "    return cf_matrix # return confusion_matrix (maybe useful later)\n",
        "\n",
        "def calculate_precision_recall_f05score(GoldLabel, PredictLabel, label_set): # function get gold and predict and set of labels\n",
        "    \"\"\"\n",
        "    use `sklearn.metric classification_report` to get report of model predict.\n",
        "\n",
        "    Parameters\n",
        "    ----------\n",
        "    GoldLabel : list\n",
        "        list of all Gold labels\n",
        "    PredictLabel : list\n",
        "        list of all Prediction labels\n",
        "    label_set : list\n",
        "        list of all classes\n",
        "\n",
        "    Returns\n",
        "    -------\n",
        "        Classification report\n",
        "    \"\"\"\n",
        "    print(label_set)\n",
        "    report = classification_report_f0_5(GoldLabel, PredictLabel, digits = 3, target_names=label_set) # calculate report\n",
        "    print(report) # print report\n",
        "    return report # return report (maybe useful later)\n",
        "\n",
        "\n",
        "def fine_tune_eval(GoldLabel, PredictLabel, target_names): # get gold and predict\n",
        "    \"\"\"\n",
        "    Evaluation models by call `calculate_precision_recall_f1score` and `provide_confusion_matrix` functions.\n",
        "\n",
        "    Parameters\n",
        "    ----------\n",
        "    data :\n",
        "        Train or test or dev dataset (after extracting fetures)\n",
        "    PredictLabel : list\n",
        "        list of all Prediction labels\n",
        "\n",
        "    Returns\n",
        "    -------\n",
        "        Classification report and Confusion matrix\n",
        "    \"\"\"\n",
        "    # set(list(preds_hp_2_1)+test_data_gold)\n",
        "    label_set = target_names\n",
        "    # label_set = sorted(set(list(PredictLabel) + GoldLabel)) # find unique lables in gold\n",
        "\n",
        "    print(label_set)\n",
        "\n",
        "    print('precision_recall_f1-score')\n",
        "    report = calculate_precision_recall_f05score(GoldLabel, PredictLabel, label_set) # calculate_precision_recall_f1score\n",
        "\n",
        "    print('Confusion matrix')\n",
        "    cf_matrix = provide_confusion_matrix(GoldLabel, PredictLabel, label_set) # provide_confusion_matrix\n",
        "\n",
        "    return report, cf_matrix # return report and cf_matrix\n"
      ]
    },
    {
      "cell_type": "code",
      "execution_count": null,
      "metadata": {
        "id": "rLeisK9Ne50H"
      },
      "outputs": [],
      "source": [
        "def fine_tune_model(model_path, train_data, save_dir, model_name, seed_val):\n",
        "  \"\"\"\n",
        "  Fine-tune a pre-trained model using the Simple Transformers library.\n",
        "  Args:\n",
        "    model_path (str): Path to the pre-trained model.\n",
        "\ttrain_data (pd.DataFrame): Training data in a pandas DataFrame.\n",
        "\tsave_dir (str): Directory to save the fine-tuned model.\n",
        "\tmodel_name (str): Name of the model.\n",
        "\tseed_val (int): Seed value for reproducibility.\n",
        "  Returns:\n",
        "    model (ClassificationModel): The fine-tuned model.\n",
        "  \"\"\"\n",
        "  print(f\"seed: {seed_val}\")\n",
        "  # Define model arguments\n",
        "  model_args = ClassificationArgs(#eval_batch_size=64,\n",
        "                                  # evaluate_during_training=True,\n",
        "                                  save_eval_checkpoints=False,\n",
        "                                  output_dir=f'{save_dir}/fine_tuned_{model_name}_model',\n",
        "                                  save_model_every_epoch=False,\n",
        "                                  save_steps=-1,\n",
        "                                  manual_seed=seed_val,\n",
        "                                  num_train_epochs=5,\n",
        "                                  # evaluate_during_training_steps=2621,\n",
        "                                  overwrite_output_dir=True,\n",
        "                                  labels_list=['G', 'PREP', 'DET','SVA']\n",
        "                                  )\n",
        "\n",
        "  # model_args.num_train_epochs = 10\n",
        "\n",
        "  model = ClassificationModel('roberta', model_path, args=model_args, num_labels=4, use_cuda=True)\n",
        "  # model = ClassificationModel('roberta',\n",
        "  #                             model_path,#'/content/drive/MyDrive/VU Thesis/Code/baby_models/V20L4/model_e1_v20_l4',\n",
        "  #                             args=model_args,\n",
        "  #                             num_labels=4\n",
        "  #                             )\n",
        "\n",
        "  model.train_model(train_data)\n",
        "\n",
        "  return model\n",
        "  # pass"
      ]
    },
    {
      "cell_type": "code",
      "execution_count": null,
      "metadata": {
        "id": "CE3FRzHRf5XF"
      },
      "outputs": [],
      "source": [
        "def predict_model(model_path, test_data):\n",
        "  \"\"\"\n",
        "  Predict labels for the test data using a fine-tuned model.\n",
        "  Args:\n",
        "\tmodel_path (str): Path to the fine-tuned model.\n",
        "\ttest_data (pd.DataFrame): Test data in a pandas DataFrame.\n",
        "  Returns:\n",
        "    predictions (list): List of predicted labels.\n",
        "  \"\"\"\n",
        "  model = ClassificationModel('roberta', model_path)\n",
        "  predictions, raw_outputs = model.predict(test_data)\n",
        "\n",
        "  return predictions\n"
      ]
    },
    {
      "cell_type": "code",
      "execution_count": null,
      "metadata": {
        "id": "cgxiLin6V-t2"
      },
      "outputs": [],
      "source": [
        "def save_model_preds(test_data, model_preds, save_path, model_name):\n",
        "  \"\"\"\n",
        "  Save test data with model predictions to a CSV file.\n",
        "  Args:\n",
        "\ttest_data (pd.DataFrame): Test data in a pandas DataFrame.\n",
        "\tmodel_preds (list): List of predicted labels.\n",
        "\tsave_path (str): Path to save the output CSV file.\n",
        "\tmodel_name (str): Name of the model.\n",
        "  Returns:\n",
        "\tout_data (pd.DataFrame): DataFrame containing test data and predictions.\n",
        "  \"\"\"\n",
        "  out_data = test_data.copy()\n",
        "  out_data['prediction']=model_preds\n",
        "  out_data.to_csv(os.path.join(save_path, f\"outfile_{model_name}.csv\"), index=False)\n",
        "  return out_data"
      ]
    },
    {
      "cell_type": "code",
      "execution_count": null,
      "metadata": {
        "id": "Uk3ye1Yokoh-"
      },
      "outputs": [],
      "source": [
        "def generate_random_number():\n",
        "  \"\"\"\n",
        "  Generate a random integer between 1 and 1000.\n",
        "  Returns:\n",
        "\trandom_integer (int): A random integer between 1 and 1000.\n",
        "  \"\"\"\n",
        "  random_integer = random.randint(1, 1000)\n",
        "  print(f\"random number: {random_integer}\")\n",
        "  return random_integer"
      ]
    },
    {
      "cell_type": "code",
      "execution_count": null,
      "metadata": {
        "id": "Qstt_pq6iKyR"
      },
      "outputs": [],
      "source": [
        "main_path = \"/content/drive/MyDrive/VU Thesis/Code/fine_tune\"\n",
        "data_path = \"/content/drive/MyDrive/VU Thesis/Code/fine_tune/data\"\n",
        "save_path = \"/content/drive/MyDrive/VU Thesis/Code/fine_tune/models\"\n",
        "outfile_path = \"/content/drive/MyDrive/VU Thesis/Code/fine_tune/outfiles\""
      ]
    },
    {
      "cell_type": "code",
      "execution_count": null,
      "metadata": {
        "colab": {
          "base_uri": "https://localhost:8080/"
        },
        "id": "bBRlbyBBetFw",
        "outputId": "b52d6190-a260-4a0e-cc06-b764057959b3"
      },
      "outputs": [
        {
          "name": "stdout",
          "output_type": "stream",
          "text": [
            "loading data...\n",
            "loading train_data.csv\n",
            "loading dev_data.csv\n",
            "loading test_data.csv\n",
            "loading data compelete.\n"
          ]
        }
      ],
      "source": [
        "print(\"loading data...\")\n",
        "\n",
        "print(\"loading train_data.csv\")\n",
        "train_df =pd.read_csv(os.path.join(data_path, \"train_data.csv\"))\n",
        "\n",
        "print(\"loading dev_data.csv\")\n",
        "dev_df =pd.read_csv(os.path.join(data_path, \"dev_data.csv\"))\n",
        "\n",
        "print(\"loading test_data.csv\")\n",
        "test_df =pd.read_csv(os.path.join(data_path, \"test_data.csv\"))\n",
        "\n",
        "print(\"loading data compelete.\")"
      ]
    },
    {
      "cell_type": "code",
      "execution_count": null,
      "metadata": {
        "colab": {
          "base_uri": "https://localhost:8080/"
        },
        "id": "qVDhwrg1qD67",
        "outputId": "8f3f131d-be53-46fa-a6ff-20a889cd6759"
      },
      "outputs": [
        {
          "data": {
            "application/vnd.google.colaboratory.intrinsic+json": {
              "summary": "{\n  \"name\": \"train_df\",\n  \"rows\": 20964,\n  \"fields\": [\n    {\n      \"column\": \"text\",\n      \"properties\": {\n        \"dtype\": \"string\",\n        \"num_unique_values\": 20850,\n        \"samples\": [\n          \"During my stay I went to see a musical show in the Circle Theatre and I had a very disappointing evening.\",\n          \"Photographs that were worrying Michelle looks like the dancer.\",\n          \"A pedestrian hadn't approached this hopeful women.\"\n        ],\n        \"semantic_type\": \"\",\n        \"description\": \"\"\n      }\n    },\n    {\n      \"column\": \"labels\",\n      \"properties\": {\n        \"dtype\": \"category\",\n        \"num_unique_values\": 4,\n        \"samples\": [\n          \"SVA\",\n          \"DET\",\n          \"G\"\n        ],\n        \"semantic_type\": \"\",\n        \"description\": \"\"\n      }\n    },\n    {\n      \"column\": \"UID\",\n      \"properties\": {\n        \"dtype\": \"category\",\n        \"num_unique_values\": 65,\n        \"samples\": [\n          \"passive_2\",\n          \"drop_argument\",\n          \"sentential_negation_npi_scope\"\n        ],\n        \"semantic_type\": \"\",\n        \"description\": \"\"\n      }\n    }\n  ]\n}",
              "type": "dataframe",
              "variable_name": "train_df"
            },
            "text/html": [
              "\n",
              "  <div id=\"df-5dee4c5b-a8e1-43bf-9d47-2119c9d8a6ba\" class=\"colab-df-container\">\n",
              "    <div>\n",
              "<style scoped>\n",
              "    .dataframe tbody tr th:only-of-type {\n",
              "        vertical-align: middle;\n",
              "    }\n",
              "\n",
              "    .dataframe tbody tr th {\n",
              "        vertical-align: top;\n",
              "    }\n",
              "\n",
              "    .dataframe thead th {\n",
              "        text-align: right;\n",
              "    }\n",
              "</style>\n",
              "<table border=\"1\" class=\"dataframe\">\n",
              "  <thead>\n",
              "    <tr style=\"text-align: right;\">\n",
              "      <th></th>\n",
              "      <th>text</th>\n",
              "      <th>labels</th>\n",
              "      <th>UID</th>\n",
              "    </tr>\n",
              "  </thead>\n",
              "  <tbody>\n",
              "    <tr>\n",
              "      <th>0</th>\n",
              "      <td>The libraries that have worked with Christina ...</td>\n",
              "      <td>G</td>\n",
              "      <td>sentential_negation_npi_scope</td>\n",
              "    </tr>\n",
              "    <tr>\n",
              "      <th>1</th>\n",
              "      <td>The person joke around.</td>\n",
              "      <td>SVA</td>\n",
              "      <td>irregular_plural_subject_verb_agreement_2</td>\n",
              "    </tr>\n",
              "    <tr>\n",
              "      <th>2</th>\n",
              "      <td>I was rather thirsty and hungry after the show...</td>\n",
              "      <td>PREP</td>\n",
              "      <td>Preposition_Unnecessary</td>\n",
              "    </tr>\n",
              "    <tr>\n",
              "      <th>3</th>\n",
              "      <td>Most students go to these restaurant.</td>\n",
              "      <td>DET</td>\n",
              "      <td>determiner_noun_agreement_2</td>\n",
              "    </tr>\n",
              "    <tr>\n",
              "      <th>4</th>\n",
              "      <td>The report about the Great Lakes are astoundin...</td>\n",
              "      <td>SVA</td>\n",
              "      <td>distractor_agreement_relational_noun</td>\n",
              "    </tr>\n",
              "  </tbody>\n",
              "</table>\n",
              "</div>\n",
              "    <div class=\"colab-df-buttons\">\n",
              "\n",
              "  <div class=\"colab-df-container\">\n",
              "    <button class=\"colab-df-convert\" onclick=\"convertToInteractive('df-5dee4c5b-a8e1-43bf-9d47-2119c9d8a6ba')\"\n",
              "            title=\"Convert this dataframe to an interactive table.\"\n",
              "            style=\"display:none;\">\n",
              "\n",
              "  <svg xmlns=\"http://www.w3.org/2000/svg\" height=\"24px\" viewBox=\"0 -960 960 960\">\n",
              "    <path d=\"M120-120v-720h720v720H120Zm60-500h600v-160H180v160Zm220 220h160v-160H400v160Zm0 220h160v-160H400v160ZM180-400h160v-160H180v160Zm440 0h160v-160H620v160ZM180-180h160v-160H180v160Zm440 0h160v-160H620v160Z\"/>\n",
              "  </svg>\n",
              "    </button>\n",
              "\n",
              "  <style>\n",
              "    .colab-df-container {\n",
              "      display:flex;\n",
              "      gap: 12px;\n",
              "    }\n",
              "\n",
              "    .colab-df-convert {\n",
              "      background-color: #E8F0FE;\n",
              "      border: none;\n",
              "      border-radius: 50%;\n",
              "      cursor: pointer;\n",
              "      display: none;\n",
              "      fill: #1967D2;\n",
              "      height: 32px;\n",
              "      padding: 0 0 0 0;\n",
              "      width: 32px;\n",
              "    }\n",
              "\n",
              "    .colab-df-convert:hover {\n",
              "      background-color: #E2EBFA;\n",
              "      box-shadow: 0px 1px 2px rgba(60, 64, 67, 0.3), 0px 1px 3px 1px rgba(60, 64, 67, 0.15);\n",
              "      fill: #174EA6;\n",
              "    }\n",
              "\n",
              "    .colab-df-buttons div {\n",
              "      margin-bottom: 4px;\n",
              "    }\n",
              "\n",
              "    [theme=dark] .colab-df-convert {\n",
              "      background-color: #3B4455;\n",
              "      fill: #D2E3FC;\n",
              "    }\n",
              "\n",
              "    [theme=dark] .colab-df-convert:hover {\n",
              "      background-color: #434B5C;\n",
              "      box-shadow: 0px 1px 3px 1px rgba(0, 0, 0, 0.15);\n",
              "      filter: drop-shadow(0px 1px 2px rgba(0, 0, 0, 0.3));\n",
              "      fill: #FFFFFF;\n",
              "    }\n",
              "  </style>\n",
              "\n",
              "    <script>\n",
              "      const buttonEl =\n",
              "        document.querySelector('#df-5dee4c5b-a8e1-43bf-9d47-2119c9d8a6ba button.colab-df-convert');\n",
              "      buttonEl.style.display =\n",
              "        google.colab.kernel.accessAllowed ? 'block' : 'none';\n",
              "\n",
              "      async function convertToInteractive(key) {\n",
              "        const element = document.querySelector('#df-5dee4c5b-a8e1-43bf-9d47-2119c9d8a6ba');\n",
              "        const dataTable =\n",
              "          await google.colab.kernel.invokeFunction('convertToInteractive',\n",
              "                                                    [key], {});\n",
              "        if (!dataTable) return;\n",
              "\n",
              "        const docLinkHtml = 'Like what you see? Visit the ' +\n",
              "          '<a target=\"_blank\" href=https://colab.research.google.com/notebooks/data_table.ipynb>data table notebook</a>'\n",
              "          + ' to learn more about interactive tables.';\n",
              "        element.innerHTML = '';\n",
              "        dataTable['output_type'] = 'display_data';\n",
              "        await google.colab.output.renderOutput(dataTable, element);\n",
              "        const docLink = document.createElement('div');\n",
              "        docLink.innerHTML = docLinkHtml;\n",
              "        element.appendChild(docLink);\n",
              "      }\n",
              "    </script>\n",
              "  </div>\n",
              "\n",
              "\n",
              "    <div id=\"df-5b4f2a17-ac0f-46a0-8085-c909d4d89ea0\">\n",
              "      <button class=\"colab-df-quickchart\" onclick=\"quickchart('df-5b4f2a17-ac0f-46a0-8085-c909d4d89ea0')\"\n",
              "                title=\"Suggest charts\"\n",
              "                style=\"display:none;\">\n",
              "\n",
              "<svg xmlns=\"http://www.w3.org/2000/svg\" height=\"24px\"viewBox=\"0 0 24 24\"\n",
              "     width=\"24px\">\n",
              "    <g>\n",
              "        <path d=\"M19 3H5c-1.1 0-2 .9-2 2v14c0 1.1.9 2 2 2h14c1.1 0 2-.9 2-2V5c0-1.1-.9-2-2-2zM9 17H7v-7h2v7zm4 0h-2V7h2v10zm4 0h-2v-4h2v4z\"/>\n",
              "    </g>\n",
              "</svg>\n",
              "      </button>\n",
              "\n",
              "<style>\n",
              "  .colab-df-quickchart {\n",
              "      --bg-color: #E8F0FE;\n",
              "      --fill-color: #1967D2;\n",
              "      --hover-bg-color: #E2EBFA;\n",
              "      --hover-fill-color: #174EA6;\n",
              "      --disabled-fill-color: #AAA;\n",
              "      --disabled-bg-color: #DDD;\n",
              "  }\n",
              "\n",
              "  [theme=dark] .colab-df-quickchart {\n",
              "      --bg-color: #3B4455;\n",
              "      --fill-color: #D2E3FC;\n",
              "      --hover-bg-color: #434B5C;\n",
              "      --hover-fill-color: #FFFFFF;\n",
              "      --disabled-bg-color: #3B4455;\n",
              "      --disabled-fill-color: #666;\n",
              "  }\n",
              "\n",
              "  .colab-df-quickchart {\n",
              "    background-color: var(--bg-color);\n",
              "    border: none;\n",
              "    border-radius: 50%;\n",
              "    cursor: pointer;\n",
              "    display: none;\n",
              "    fill: var(--fill-color);\n",
              "    height: 32px;\n",
              "    padding: 0;\n",
              "    width: 32px;\n",
              "  }\n",
              "\n",
              "  .colab-df-quickchart:hover {\n",
              "    background-color: var(--hover-bg-color);\n",
              "    box-shadow: 0 1px 2px rgba(60, 64, 67, 0.3), 0 1px 3px 1px rgba(60, 64, 67, 0.15);\n",
              "    fill: var(--button-hover-fill-color);\n",
              "  }\n",
              "\n",
              "  .colab-df-quickchart-complete:disabled,\n",
              "  .colab-df-quickchart-complete:disabled:hover {\n",
              "    background-color: var(--disabled-bg-color);\n",
              "    fill: var(--disabled-fill-color);\n",
              "    box-shadow: none;\n",
              "  }\n",
              "\n",
              "  .colab-df-spinner {\n",
              "    border: 2px solid var(--fill-color);\n",
              "    border-color: transparent;\n",
              "    border-bottom-color: var(--fill-color);\n",
              "    animation:\n",
              "      spin 1s steps(1) infinite;\n",
              "  }\n",
              "\n",
              "  @keyframes spin {\n",
              "    0% {\n",
              "      border-color: transparent;\n",
              "      border-bottom-color: var(--fill-color);\n",
              "      border-left-color: var(--fill-color);\n",
              "    }\n",
              "    20% {\n",
              "      border-color: transparent;\n",
              "      border-left-color: var(--fill-color);\n",
              "      border-top-color: var(--fill-color);\n",
              "    }\n",
              "    30% {\n",
              "      border-color: transparent;\n",
              "      border-left-color: var(--fill-color);\n",
              "      border-top-color: var(--fill-color);\n",
              "      border-right-color: var(--fill-color);\n",
              "    }\n",
              "    40% {\n",
              "      border-color: transparent;\n",
              "      border-right-color: var(--fill-color);\n",
              "      border-top-color: var(--fill-color);\n",
              "    }\n",
              "    60% {\n",
              "      border-color: transparent;\n",
              "      border-right-color: var(--fill-color);\n",
              "    }\n",
              "    80% {\n",
              "      border-color: transparent;\n",
              "      border-right-color: var(--fill-color);\n",
              "      border-bottom-color: var(--fill-color);\n",
              "    }\n",
              "    90% {\n",
              "      border-color: transparent;\n",
              "      border-bottom-color: var(--fill-color);\n",
              "    }\n",
              "  }\n",
              "</style>\n",
              "\n",
              "      <script>\n",
              "        async function quickchart(key) {\n",
              "          const quickchartButtonEl =\n",
              "            document.querySelector('#' + key + ' button');\n",
              "          quickchartButtonEl.disabled = true;  // To prevent multiple clicks.\n",
              "          quickchartButtonEl.classList.add('colab-df-spinner');\n",
              "          try {\n",
              "            const charts = await google.colab.kernel.invokeFunction(\n",
              "                'suggestCharts', [key], {});\n",
              "          } catch (error) {\n",
              "            console.error('Error during call to suggestCharts:', error);\n",
              "          }\n",
              "          quickchartButtonEl.classList.remove('colab-df-spinner');\n",
              "          quickchartButtonEl.classList.add('colab-df-quickchart-complete');\n",
              "        }\n",
              "        (() => {\n",
              "          let quickchartButtonEl =\n",
              "            document.querySelector('#df-5b4f2a17-ac0f-46a0-8085-c909d4d89ea0 button');\n",
              "          quickchartButtonEl.style.display =\n",
              "            google.colab.kernel.accessAllowed ? 'block' : 'none';\n",
              "        })();\n",
              "      </script>\n",
              "    </div>\n",
              "    </div>\n",
              "  </div>\n"
            ],
            "text/plain": [
              "                                                text labels  \\\n",
              "0  The libraries that have worked with Christina ...      G   \n",
              "1                            The person joke around.    SVA   \n",
              "2  I was rather thirsty and hungry after the show...   PREP   \n",
              "3              Most students go to these restaurant.    DET   \n",
              "4  The report about the Great Lakes are astoundin...    SVA   \n",
              "\n",
              "                                         UID  \n",
              "0              sentential_negation_npi_scope  \n",
              "1  irregular_plural_subject_verb_agreement_2  \n",
              "2                    Preposition_Unnecessary  \n",
              "3                determiner_noun_agreement_2  \n",
              "4       distractor_agreement_relational_noun  "
            ]
          },
          "execution_count": 11,
          "metadata": {},
          "output_type": "execute_result"
        }
      ],
      "source": [
        "train_df.head()"
      ]
    },
    {
      "cell_type": "code",
      "execution_count": null,
      "metadata": {
        "colab": {
          "base_uri": "https://localhost:8080/"
        },
        "id": "LmZK-ryetr06",
        "outputId": "8349a668-9e4c-4720-9f56-6f8656762833"
      },
      "outputs": [
        {
          "name": "stdout",
          "output_type": "stream",
          "text": [
            "6988 6988\n"
          ]
        }
      ],
      "source": [
        "test_data = list(test_df.text)#.to_list()\n",
        "gold_labels = list(test_df.labels)#.to_list()\n",
        "print(len(test_data), len(gold_labels))"
      ]
    },
    {
      "cell_type": "code",
      "execution_count": null,
      "metadata": {
        "colab": {
          "base_uri": "https://localhost:8080/"
        },
        "id": "thKpK9G827tK",
        "outputId": "be0ec407-2b99-4e58-893d-409ed725fb17"
      },
      "outputs": [
        {
          "data": {
            "text/plain": [
              "['Those customers examine those commentaries.',\n",
              " 'Even Carlos will often happen to die.',\n",
              " 'Ordinary lessons attended by students from different levels of ability.',\n",
              " 'Margaret has said Craig discusses himself.',\n",
              " 'Julia skated around that popular cafe.',\n",
              " 'Modern technology is used all the time at home, at school or working.',\n",
              " 'Many senators scan this black newspaper articles.',\n",
              " 'I thought it was a good idea to tell to Pat because we could use it to look for exams, and then we could pass all of them.',\n",
              " \"Robert couldn't embarrass that scared people.\",\n",
              " \"It's himself who Brad talked to.\",\n",
              " \"Lori isn't messing up that tooth.\",\n",
              " 'Guy bored that troubled man.',\n",
              " 'I can play games, listen to music, and I can do my course work in the computer.',\n",
              " 'People were sitting down.',\n",
              " \"Homer wouldn't go to these banks.\",\n",
              " 'Thomas has hidden those small tooth.',\n",
              " 'Deanna explores these oasis.',\n",
              " 'Caroline was observing that standing man.',\n",
              " 'This analysis has appeared to alarm Steve.',\n",
              " \"Lori hasn't exited that grocery stores.\"]"
            ]
          },
          "execution_count": 13,
          "metadata": {},
          "output_type": "execute_result"
        }
      ],
      "source": [
        "test_data[:20]"
      ]
    },
    {
      "cell_type": "markdown",
      "metadata": {
        "id": "fjhXin4Y6wiF"
      },
      "source": [
        "### models"
      ]
    },
    {
      "cell_type": "code",
      "execution_count": null,
      "metadata": {
        "colab": {
          "base_uri": "https://localhost:8080/"
        },
        "id": "_H_zX0Vlkraf",
        "outputId": "70e09e9d-ca5f-4cea-ea41-92814ed4d08b"
      },
      "outputs": [
        {
          "name": "stdout",
          "output_type": "stream",
          "text": [
            "random number: 464\n"
          ]
        }
      ],
      "source": [
        "rand_seed = generate_random_number()"
      ]
    },
    {
      "cell_type": "code",
      "execution_count": null,
      "metadata": {
        "id": "ksZFdvA042Sk"
      },
      "outputs": [],
      "source": [
        "### !!! IF YOU WANT TO REPLICATE EXPERIMENT RUN THIS CELL !!! ###\n",
        "# rand seed = 464"
      ]
    },
    {
      "cell_type": "markdown",
      "metadata": {
        "id": "0PJo_ncwpCKM"
      },
      "source": [
        "#### E1"
      ]
    },
    {
      "cell_type": "code",
      "execution_count": null,
      "metadata": {
        "colab": {
          "base_uri": "https://localhost:8080/",
          "height": 383,
          "referenced_widgets": [
            "1d928cc4528a42d299482dcd22f7ef22",
            "21adab00ae20450bb16de72760b30871",
            "1b46c36052fa45ae8c6d6fd3960336db",
            "76832302bcd54270ac387685d7737f92",
            "67d1e222e6dc4302a47f71307a16aa57",
            "bac9da0df5d247488e46acef7e427683",
            "a2a39dd752e04361b5a55ba5b3ca1c4d",
            "2d59664f85264c788c0fad6eb2b33dae",
            "d875062b1bdc452fb8af4b500a15d5ef",
            "9b64a92726804ce099d1dfa0ac4a5176",
            "45c5c7a726f04c81890f6339db62d412",
            "d5206c9ac9b24a3d8c7ddfb6b80bde32",
            "1dd975619b5745e0856aec6cae7c726c",
            "d63bd35d2eba423f82463d342013ac22",
            "e7a00b577f264e808bbaf5ef5d97ed01",
            "28c908d5111b4fa9858f4f6fe4fdf00a",
            "d7ab6d41c5004291a02aaa6751d36a45",
            "e0fa6a5898c847fd9ddf544489db82cc",
            "5a454d2d580b44f0aeaca7dbc7252d06",
            "799e0f562bc54fd3a2d6047521f90f1a",
            "2256c1c1d5a144099d0515ee44a35ffb",
            "6f30cd3c2a6e4c2dadd3a8435749f983",
            "9327c8976c844ea997ee999bbec19981",
            "0fe6c8ee6c15498ab13c501a8bc15b9c",
            "eebad00ef76544fba5bbfe3b6fd524bd",
            "5d4b8346188c436cae1abc8313b58778",
            "96e72865c594448ea58df1996fcbd19d",
            "59a1336b002b40f8805438f45cc27833",
            "52c66aadd2a7461da21fa70ca9044e69",
            "1813b535e5804194aae0f5a2f9291e1c",
            "e9c337773b534de585e6b0203f512902",
            "03f4315254c142a4ad7a78104ed176fb",
            "97f5c2859a004da2b196973929ef6dfa",
            "4e3bdeb91fb144789248d643fa60df0d",
            "951f64ab356642d98a7653bd80796aac",
            "06eef58b3df941a190f903e95578b040",
            "2c42b5560fac4acaa43eb8a6cb822078",
            "2cb1cc6476514d15b3c35fe1eeb3028b",
            "dc28716ecfb44472a3f255b28cdd19cf",
            "09bb144e6b5340a0ae9b5f6cba3b4d69",
            "0e52c0b6e4764230a1664b68e4463db6",
            "fca83144b96147bc8be84d0babff22af",
            "400200c10afb4df4a97cb04d230ca316",
            "ffb13c88d5094a17b2bb308673ac3279",
            "bff508b6f388418a96605d4610cf492b",
            "ffa0aeb4e35446db9e900a578912daf1",
            "0759b21228ee447094fcbb12d61aa88b",
            "06d08d0d029145ec8ced4bff7f1b7113",
            "40d308ee1e604155b95256d209e43528",
            "fafbe00dff4440e792b5cbb80268286a",
            "296e1922159c42dfa754db3ee4da7122",
            "0138305e22c14993982a807a83e9ace7",
            "f3226c7cad6c4047bde7983b4cd8d546",
            "70424111ac5f4ce08b571ed8c5300b0f",
            "01a8b3c7979f47c29678faf5177511ef",
            "e19abe60771f46bf960ff93c981248e3",
            "91b3652325524d1193c29ec45105ff5b",
            "49f8b5dd4a4145808e217c66143cd31c",
            "4e29e03b0e24402d999d4734a58f17a9",
            "3f656e9bc34a4a8681a9554d1054c927",
            "5e6a09b3827f43ff803581d45eb41fe4",
            "45c0908f12714b49a4730e4298d82d33",
            "923a3af82e714c5a8a7d3e3f1289f1de",
            "1d81e395b2034a3a818aa8f7a5779334",
            "bf4177851e40457a9d481c5113b86b57",
            "f9478f6dbe3842379fb98fbe45b4e26c",
            "bd33de57bcd44309a8bb162956297c20",
            "c715fd621ceb49c4a94c61bd8981df23",
            "2a4850578a3246b69e9bad4996627b33",
            "f1b28183ffd8407d88abb073615a0c64",
            "f43bc98e1c3f490688d38c7f846acab7",
            "959ed372bdb1486b98b7c21b4e9c2e28",
            "16120de46dde4bbca236c7945498fdde",
            "53f85918b2d74898bd29103c527d0f5f",
            "fa0f18a9f13c4a39871705eaea4c3f47",
            "6f9f4432cd964c59aef63daec55c5214",
            "ae53304858d8487a977efde40e7eb9bb"
          ]
        },
        "id": "peG5ZRSeh_vQ",
        "outputId": "4cfdc4da-4996-4abe-dc1f-63bc16b69c12"
      },
      "outputs": [
        {
          "name": "stderr",
          "output_type": "stream",
          "text": [
            "Some weights of RobertaForSequenceClassification were not initialized from the model checkpoint at /content/drive/MyDrive/VU Thesis/Code/baby_models/V20L4/model_e1_v20_l4 and are newly initialized: ['classifier.dense.bias', 'classifier.dense.weight', 'classifier.out_proj.bias', 'classifier.out_proj.weight']\n",
            "You should probably TRAIN this model on a down-stream task to be able to use it for predictions and inference.\n"
          ]
        },
        {
          "name": "stdout",
          "output_type": "stream",
          "text": [
            "seed: 464\n"
          ]
        },
        {
          "data": {
            "application/vnd.jupyter.widget-view+json": {
              "model_id": "1d928cc4528a42d299482dcd22f7ef22",
              "version_major": 2,
              "version_minor": 0
            },
            "text/plain": [
              "  0%|          | 0/41 [00:00<?, ?it/s]"
            ]
          },
          "metadata": {},
          "output_type": "display_data"
        },
        {
          "data": {
            "application/vnd.jupyter.widget-view+json": {
              "model_id": "d5206c9ac9b24a3d8c7ddfb6b80bde32",
              "version_major": 2,
              "version_minor": 0
            },
            "text/plain": [
              "Epoch:   0%|          | 0/5 [00:00<?, ?it/s]"
            ]
          },
          "metadata": {},
          "output_type": "display_data"
        },
        {
          "name": "stderr",
          "output_type": "stream",
          "text": [
            "/usr/local/lib/python3.11/dist-packages/simpletransformers/classification/classification_model.py:882: FutureWarning: `torch.cuda.amp.GradScaler(args...)` is deprecated. Please use `torch.amp.GradScaler('cuda', args...)` instead.\n",
            "  scaler = amp.GradScaler()\n"
          ]
        },
        {
          "data": {
            "application/vnd.jupyter.widget-view+json": {
              "model_id": "9327c8976c844ea997ee999bbec19981",
              "version_major": 2,
              "version_minor": 0
            },
            "text/plain": [
              "Running Epoch 1 of 5:   0%|          | 0/2621 [00:00<?, ?it/s]"
            ]
          },
          "metadata": {},
          "output_type": "display_data"
        },
        {
          "name": "stderr",
          "output_type": "stream",
          "text": [
            "/usr/local/lib/python3.11/dist-packages/simpletransformers/classification/classification_model.py:905: FutureWarning: `torch.cuda.amp.autocast(args...)` is deprecated. Please use `torch.amp.autocast('cuda', args...)` instead.\n",
            "  with amp.autocast():\n"
          ]
        },
        {
          "data": {
            "application/vnd.jupyter.widget-view+json": {
              "model_id": "4e3bdeb91fb144789248d643fa60df0d",
              "version_major": 2,
              "version_minor": 0
            },
            "text/plain": [
              "Running Epoch 2 of 5:   0%|          | 0/2621 [00:00<?, ?it/s]"
            ]
          },
          "metadata": {},
          "output_type": "display_data"
        },
        {
          "data": {
            "application/vnd.jupyter.widget-view+json": {
              "model_id": "bff508b6f388418a96605d4610cf492b",
              "version_major": 2,
              "version_minor": 0
            },
            "text/plain": [
              "Running Epoch 3 of 5:   0%|          | 0/2621 [00:00<?, ?it/s]"
            ]
          },
          "metadata": {},
          "output_type": "display_data"
        },
        {
          "data": {
            "application/vnd.jupyter.widget-view+json": {
              "model_id": "e19abe60771f46bf960ff93c981248e3",
              "version_major": 2,
              "version_minor": 0
            },
            "text/plain": [
              "Running Epoch 4 of 5:   0%|          | 0/2621 [00:00<?, ?it/s]"
            ]
          },
          "metadata": {},
          "output_type": "display_data"
        },
        {
          "data": {
            "application/vnd.jupyter.widget-view+json": {
              "model_id": "bd33de57bcd44309a8bb162956297c20",
              "version_major": 2,
              "version_minor": 0
            },
            "text/plain": [
              "Running Epoch 5 of 5:   0%|          | 0/2621 [00:00<?, ?it/s]"
            ]
          },
          "metadata": {},
          "output_type": "display_data"
        }
      ],
      "source": [
        "model_path_e1 = \"/content/drive/MyDrive/VU Thesis/Code/baby_models/V20L4/model_e1_v20_l4\"\n",
        "model_name_e1 = \"v20_l4_e1\"\n",
        "model_e1 = fine_tune_model(model_path_e1, train_df, save_path, model_name_e1, rand_seed)"
      ]
    },
    {
      "cell_type": "code",
      "execution_count": null,
      "metadata": {
        "colab": {
          "base_uri": "https://localhost:8080/",
          "height": 937,
          "referenced_widgets": [
            "2baa4fb5f12d4a46b81bf5e25e99ad13",
            "c33d208c482c4bc2857a0b63fbe07539",
            "da35b7912cf54fa4a505bf3962e66b6b",
            "0f5050d0c59643eeb195ccad4395d5a3",
            "7e48cd134f724324b9236fbd54262fac",
            "1c12785448e246fc996d18ebe26556f5",
            "b79c45c34ece4a35a0fedaa6b9f61cab",
            "0374a56c85ad4bc0a0892a06057a048f",
            "e25fcd0d89ec45268c60c089ed288da4",
            "9681558c5fad4bc7aaae26c7480b2ac6",
            "09f52d0861554554ab3a367d2df9cb79",
            "1e2c4e0f1b574a3ea057467f9097a553",
            "cf3ea7fd53774487b49cd2255ce23e0b",
            "683bdbb01bd6408e8a590ef134255b26",
            "0dc883ad96f9402a8f366a428518e3c5",
            "1ab265cc897c40169b38ed26d3d441fc",
            "24552659d7b146fe9578336ef73e757e",
            "ea067c0f4bc04ccf970de56cb878ddaa",
            "8be7e9ae82ac478cabbbaf2daae9404f",
            "6b6269e07afb424f93abeae6aaa0ab73",
            "deefec478e0645f29c254954b29f5b62",
            "e3bd4b54cc3e4761b06a07eabdbda611"
          ]
        },
        "id": "sdS_pNy4nr-4",
        "outputId": "2dcc1d42-28f5-41fe-b278-5ab3abeffc22"
      },
      "outputs": [
        {
          "data": {
            "application/vnd.jupyter.widget-view+json": {
              "model_id": "2baa4fb5f12d4a46b81bf5e25e99ad13",
              "version_major": 2,
              "version_minor": 0
            },
            "text/plain": [
              "  0%|          | 0/13 [00:00<?, ?it/s]"
            ]
          },
          "metadata": {},
          "output_type": "display_data"
        },
        {
          "data": {
            "application/vnd.jupyter.widget-view+json": {
              "model_id": "1e2c4e0f1b574a3ea057467f9097a553",
              "version_major": 2,
              "version_minor": 0
            },
            "text/plain": [
              "  0%|          | 0/70 [00:00<?, ?it/s]"
            ]
          },
          "metadata": {},
          "output_type": "display_data"
        },
        {
          "name": "stderr",
          "output_type": "stream",
          "text": [
            "/usr/local/lib/python3.11/dist-packages/simpletransformers/classification/classification_model.py:2188: FutureWarning: `torch.cuda.amp.autocast(args...)` is deprecated. Please use `torch.amp.autocast('cuda', args...)` instead.\n",
            "  with amp.autocast():\n"
          ]
        },
        {
          "name": "stdout",
          "output_type": "stream",
          "text": [
            "['DET', 'G', 'PREP', 'SVA']\n",
            "precision_recall_f1-score\n",
            "['DET', 'G', 'PREP', 'SVA']\n",
            "              precision    recall f0.5-score   support\n",
            "\n",
            "         DET      0.983     0.992     0.985      1508\n",
            "           G      0.901     0.793     0.877      3494\n",
            "        PREP      0.561     0.832     0.600       879\n",
            "         SVA      0.879     0.864     0.876      1107\n",
            "\n",
            "    accuracy                          0.852      6988\n",
            "   macro avg      0.831     0.870     0.834      6988\n",
            "weighted avg      0.872     0.852     0.865      6988\n",
            "\n",
            "Confusion matrix\n",
            "['DET', 'G', 'PREP', 'SVA']\n",
            "[[1496   12    0    0]\n",
            " [  22 2769  572  131]\n",
            " [   0  147  731    1]\n",
            " [   4  146    0  957]]\n"
          ]
        },
        {
          "data": {
            "image/png": "[encoded data removed]",
            "text/plain": [
              "<Figure size 640x480 with 2 Axes>"
            ]
          },
          "metadata": {},
          "output_type": "display_data"
        }
      ],
      "source": [
        "model_e1_path = '/content/drive/MyDrive/VU Thesis/Code/fine_tune/models/fine_tuned_v20_l4_e1_model'\n",
        "\n",
        "preds_e1 = predict_model(model_e1_path, test_data)\n",
        "# report = classification_report_f0_5(test_df.labels.tolist(), preds) #, output_dict=True)\n",
        "target_names = ['DET', 'G', 'PREP','SVA']\n",
        "# target_names = ['G', 'PREP', 'DET','SVA']\n",
        "report_e1, cf_matrix_e1 = fine_tune_eval(gold_labels, preds_e1, target_names)\n",
        "df_e1 = save_model_preds(test_df, preds_e1, outfile_path, 'v20_l4_e1')"
      ]
    },
    {
      "cell_type": "markdown",
      "metadata": {
        "id": "9IxaqtGypLbn"
      },
      "source": [
        "#### E2"
      ]
    },
    {
      "cell_type": "code",
      "execution_count": null,
      "metadata": {
        "colab": {
          "base_uri": "https://localhost:8080/",
          "height": 383,
          "referenced_widgets": [
            "620fbfd967724c63a539bf5f8acfd5aa",
            "937ff0dc32e648d292e6373f8f4f496b",
            "605ccf66038f408d9867f414e5365f5f",
            "a74cf99508ed4764ba11dc0801459863",
            "286200aeaaa942efb26d91ed1076c6bd",
            "cca493ff9f8a4d2ba81a09e3ff24fe6f",
            "bf590af73ecf44dfa514fdc529cf19e2",
            "c60038919fc149ce9431a7158b07726c",
            "d6dc5845915542c1bb085fc09c28d7b4",
            "4ce3dfe2ccc54d85a08c1b31a68b819f",
            "fa9dcbdbc14a470c8b689dc9672d70c6",
            "3582724156e04fd58ae969e297d93761",
            "8bd24bf0dfc54a8ab03217369fb0db90",
            "7f6308df4a71464e8f35345978fe8015",
            "ec533b784199400ab0648796767d8000",
            "4d7156261c634ed1b595ceeb1a822fcc",
            "e9edca4bd8d4491f8b830edc650ec98e",
            "a8e22a92e6834ed1bbda60506815278b",
            "d3b5a94b68da493c8a6fbe9ccfaa2a64",
            "1658759b5c56443498fa8ea1df000532",
            "43db18bac8fb470da16663e54779393e",
            "efb843f5683a4370b6e0d1babbdd9ae9",
            "8b61398916024bfdad06d0a548c55a20",
            "6941f3df87c6425c9aa1477c30fd498b",
            "6cf1b73eae7b486e8c2b34502c80e9d4",
            "58ecf1160ac0490c829a29934c94294b",
            "e7d0146ed25a421c811904fc3a2e3f1c",
            "b22e60eec99a415885d49dbd676f2084",
            "8998ca98194e4667bfa379160e72ebd3",
            "25ecdebf5f244beebe2e67373a11e270",
            "4da22adcb4594940989542049679b0da",
            "b16b6b6932bf4ee3a74a1965678444f9",
            "5b83ab93b4cb47d39893e103c6d97f69",
            "b2778a27e67e4e5ebcc8809b43835398",
            "9749892a6fd24755ac4838f4fd807e50",
            "8a5d11d202bd4d64b7afafe3f43970d4",
            "39a07526853e42fe9b1533b247f78668",
            "0d4b998f79184069b9efe5e647d1459b",
            "a38b4c5f2d684300bc3573532c8a16f7",
            "13243bc2d27e426a98c82680732c70a8",
            "fbe3eed4d7ce40979e0b5825b80e9265",
            "f031ddcff9ac416888f674d00ccbabc3",
            "1039d97c74464490b925fb08d770b159",
            "700163326b1e409f83853070d1bd76d7",
            "1a98f50e12f649fba36284a06477023a",
            "27cb5fc9003444238b14bb147b487232",
            "c5f783e736de4481a53e847ce9806172",
            "01ac6159c5cc4916875c342b57484998",
            "52476730c928426b99e2b68464505a73",
            "8f878f7114e54f649ced6317ec5721c1",
            "dd4c73d0ac754706a7bb933328b4296d",
            "e118472cbd5144ea89dcda3e035929b1",
            "514c46b2baf9490082205b1e67d6291c",
            "081ccce0bc4b45f8ba5a560490c9e5fe",
            "1b83d215724c4b46b73fb0a14569949d",
            "bc8180f2dcae484fb78bb6d81fbb876e",
            "36ad01648d4b46469020bd36a61aa143",
            "2434fabe81554ba4a0a43a7c8e15cd21",
            "8be1602c204c464c8c4b90a5493213f2",
            "6ac9909f39674aec948f02ba95a10fcb",
            "831edbe21ae2494299e79a8f7a292d80",
            "c197a1f878114b899043d56896fbcc8e",
            "7c67852f65114126bb5e6a04a2931016",
            "2f4077a7767545998e8fde2e04b900ba",
            "3f65dae73ea045ae9de5a8b799389f60",
            "cd70e8463a784409b47d4abdc84f80d2",
            "3b570f6eae554d96a1345546b1d910a2",
            "6f18a988244245eab7f82b38c2646027",
            "6fecbc106dd34a4c8c00ac184cc61795",
            "ae464fcea061443ebbcbfbfd9aa5568b",
            "4c39846f39b64bad8f48be37c9dc9372",
            "7b9b4cc461424e58994eebcfb09fb37b",
            "c51ceb84712d437381408f4d7e1d8b59",
            "cab072cf9fe4462cabd35036dbdfae84",
            "c34f1cba11bd40628ab633b4c0204fb0",
            "30660bbe2ce24a5a8b908f18237d947c",
            "861b391b9e4542b7b6ec61b00e7d3b96"
          ]
        },
        "id": "waa9lFIDjq4g",
        "outputId": "c7988cb9-aff2-4a45-cc3c-b6c89764990f"
      },
      "outputs": [
        {
          "name": "stderr",
          "output_type": "stream",
          "text": [
            "Some weights of RobertaForSequenceClassification were not initialized from the model checkpoint at /content/drive/MyDrive/VU Thesis/Code/baby_models/V20L4/model_e2_v20_l4 and are newly initialized: ['classifier.dense.bias', 'classifier.dense.weight', 'classifier.out_proj.bias', 'classifier.out_proj.weight']\n",
            "You should probably TRAIN this model on a down-stream task to be able to use it for predictions and inference.\n"
          ]
        },
        {
          "name": "stdout",
          "output_type": "stream",
          "text": [
            "seed: 464\n"
          ]
        },
        {
          "data": {
            "application/vnd.jupyter.widget-view+json": {
              "model_id": "620fbfd967724c63a539bf5f8acfd5aa",
              "version_major": 2,
              "version_minor": 0
            },
            "text/plain": [
              "  0%|          | 0/41 [00:00<?, ?it/s]"
            ]
          },
          "metadata": {},
          "output_type": "display_data"
        },
        {
          "data": {
            "application/vnd.jupyter.widget-view+json": {
              "model_id": "3582724156e04fd58ae969e297d93761",
              "version_major": 2,
              "version_minor": 0
            },
            "text/plain": [
              "Epoch:   0%|          | 0/5 [00:00<?, ?it/s]"
            ]
          },
          "metadata": {},
          "output_type": "display_data"
        },
        {
          "name": "stderr",
          "output_type": "stream",
          "text": [
            "/usr/local/lib/python3.11/dist-packages/simpletransformers/classification/classification_model.py:882: FutureWarning: `torch.cuda.amp.GradScaler(args...)` is deprecated. Please use `torch.amp.GradScaler('cuda', args...)` instead.\n",
            "  scaler = amp.GradScaler()\n"
          ]
        },
        {
          "data": {
            "application/vnd.jupyter.widget-view+json": {
              "model_id": "8b61398916024bfdad06d0a548c55a20",
              "version_major": 2,
              "version_minor": 0
            },
            "text/plain": [
              "Running Epoch 1 of 5:   0%|          | 0/2621 [00:00<?, ?it/s]"
            ]
          },
          "metadata": {},
          "output_type": "display_data"
        },
        {
          "name": "stderr",
          "output_type": "stream",
          "text": [
            "/usr/local/lib/python3.11/dist-packages/simpletransformers/classification/classification_model.py:905: FutureWarning: `torch.cuda.amp.autocast(args...)` is deprecated. Please use `torch.amp.autocast('cuda', args...)` instead.\n",
            "  with amp.autocast():\n"
          ]
        },
        {
          "data": {
            "application/vnd.jupyter.widget-view+json": {
              "model_id": "b2778a27e67e4e5ebcc8809b43835398",
              "version_major": 2,
              "version_minor": 0
            },
            "text/plain": [
              "Running Epoch 2 of 5:   0%|          | 0/2621 [00:00<?, ?it/s]"
            ]
          },
          "metadata": {},
          "output_type": "display_data"
        },
        {
          "data": {
            "application/vnd.jupyter.widget-view+json": {
              "model_id": "1a98f50e12f649fba36284a06477023a",
              "version_major": 2,
              "version_minor": 0
            },
            "text/plain": [
              "Running Epoch 3 of 5:   0%|          | 0/2621 [00:00<?, ?it/s]"
            ]
          },
          "metadata": {},
          "output_type": "display_data"
        },
        {
          "data": {
            "application/vnd.jupyter.widget-view+json": {
              "model_id": "bc8180f2dcae484fb78bb6d81fbb876e",
              "version_major": 2,
              "version_minor": 0
            },
            "text/plain": [
              "Running Epoch 4 of 5:   0%|          | 0/2621 [00:00<?, ?it/s]"
            ]
          },
          "metadata": {},
          "output_type": "display_data"
        },
        {
          "data": {
            "application/vnd.jupyter.widget-view+json": {
              "model_id": "3b570f6eae554d96a1345546b1d910a2",
              "version_major": 2,
              "version_minor": 0
            },
            "text/plain": [
              "Running Epoch 5 of 5:   0%|          | 0/2621 [00:00<?, ?it/s]"
            ]
          },
          "metadata": {},
          "output_type": "display_data"
        }
      ],
      "source": [
        "model_path_e2 = \"/content/drive/MyDrive/VU Thesis/Code/baby_models/V20L4/model_e2_v20_l4\"\n",
        "model_name_e2 = \"v20_l4_e2\"\n",
        "model_e2 = fine_tune_model(model_path_e2, train_df, save_path, model_name_e2, rand_seed)"
      ]
    },
    {
      "cell_type": "code",
      "execution_count": null,
      "metadata": {
        "colab": {
          "base_uri": "https://localhost:8080/",
          "height": 937,
          "referenced_widgets": [
            "8457d72d405247d2ad4b859398dda762",
            "f010dee62e094152b7bfaf63ee924fd8",
            "31ed7feb65384e4b811c3aa2f08091eb",
            "d2a6c3be6a0d45babba12d086367d2b9",
            "4d43fefbd12745daa09a955057d41002",
            "5e66b4732a0e4b52ad6f71308f282658",
            "d29daf165cfd43c4b4a9c85ca01b6451",
            "70cb623a07e04cd49e0b5f420dfa115f",
            "3284077aac724fc7a070bbec4d7c9d32",
            "d5b65fe0687844c18020433d4a8fc458",
            "e4687bf447b349adb856efd1a1ec7980",
            "55fc6e167a2b4714ac9ce873db8426ec",
            "07053bfbfea249ffae645666edd1f436",
            "ab5505fb6c9f4325aa4ea990563d294f",
            "2556c5ee76ad4914af4e8310917da9fe",
            "77b333d439cb41848e96915987ac8427",
            "22e4386632044dc58e84483ac83c8283",
            "fd36a33f0baa4cf6bb0dd9882381d3b2",
            "4233fe57c9f44cdfa4300a1759119e62",
            "602026bae93c42a5840bb94856b50ee3",
            "d2717c017aad4655b69556c455376439",
            "b5f2a843c353456383eeafd6c540c3e0"
          ]
        },
        "id": "2uw-3gtnpGHn",
        "outputId": "77be99bb-1754-494d-f95a-048032ff127f"
      },
      "outputs": [
        {
          "data": {
            "application/vnd.jupyter.widget-view+json": {
              "model_id": "8457d72d405247d2ad4b859398dda762",
              "version_major": 2,
              "version_minor": 0
            },
            "text/plain": [
              "  0%|          | 0/13 [00:00<?, ?it/s]"
            ]
          },
          "metadata": {},
          "output_type": "display_data"
        },
        {
          "data": {
            "application/vnd.jupyter.widget-view+json": {
              "model_id": "55fc6e167a2b4714ac9ce873db8426ec",
              "version_major": 2,
              "version_minor": 0
            },
            "text/plain": [
              "  0%|          | 0/70 [00:00<?, ?it/s]"
            ]
          },
          "metadata": {},
          "output_type": "display_data"
        },
        {
          "name": "stderr",
          "output_type": "stream",
          "text": [
            "/usr/local/lib/python3.11/dist-packages/simpletransformers/classification/classification_model.py:2188: FutureWarning: `torch.cuda.amp.autocast(args...)` is deprecated. Please use `torch.amp.autocast('cuda', args...)` instead.\n",
            "  with amp.autocast():\n"
          ]
        },
        {
          "name": "stdout",
          "output_type": "stream",
          "text": [
            "['DET', 'G', 'PREP', 'SVA']\n",
            "precision_recall_f1-score\n",
            "['DET', 'G', 'PREP', 'SVA']\n",
            "              precision    recall f0.5-score   support\n",
            "\n",
            "         DET      0.988     1.000     0.990      1508\n",
            "           G      0.908     0.821     0.889      3494\n",
            "        PREP      0.556     0.778     0.590       879\n",
            "         SVA      0.940     0.912     0.935      1107\n",
            "\n",
            "    accuracy                          0.869      6988\n",
            "   macro avg      0.848     0.878     0.851      6988\n",
            "weighted avg      0.886     0.869     0.881      6988\n",
            "\n",
            "Confusion matrix\n",
            "['DET', 'G', 'PREP', 'SVA']\n",
            "[[1508    0    0    0]\n",
            " [  18 2868  546   62]\n",
            " [   1  192  684    2]\n",
            " [   0   97    0 1010]]\n"
          ]
        },
        {
          "data": {
            "image/png": "[encoded data removed]",
            "text/plain": [
              "<Figure size 640x480 with 2 Axes>"
            ]
          },
          "metadata": {},
          "output_type": "display_data"
        }
      ],
      "source": [
        "model_e2_path = '/content/drive/MyDrive/VU Thesis/Code/fine_tune/models/fine_tuned_v20_l4_e2_model'\n",
        "\n",
        "preds_e2 = predict_model(model_e2_path, test_data)\n",
        "# report = classification_report_f0_5(test_df.labels.tolist(), preds) #, output_dict=True)\n",
        "target_names = ['DET', 'G', 'PREP','SVA']\n",
        "# target_names = ['G', 'PREP', 'DET','SVA']\n",
        "report_e2, cf_matrix_e2 = fine_tune_eval(gold_labels, preds_e2, target_names)\n",
        "df_e2 = save_model_preds(test_df, preds_e2, outfile_path, 'v20_l4_e2')"
      ]
    },
    {
      "cell_type": "markdown",
      "metadata": {
        "id": "0oNDxB8WpGlz"
      },
      "source": [
        "#### E3"
      ]
    },
    {
      "cell_type": "code",
      "execution_count": null,
      "metadata": {
        "colab": {
          "base_uri": "https://localhost:8080/",
          "height": 383,
          "referenced_widgets": [
            "31c31210b3ad4e11842584d09ed212ea",
            "0265b148b0b04dd1b46c5a712189e1a2",
            "43541b7843924a40b82eb987fe4b2f0f",
            "8eb36574456449a8a2c9699951b97c4c",
            "fbc378cdf46f43b982181c4fad436ae2",
            "2c6b7702052346869cdad291d6c8f47b",
            "ec89590dcf9b4b80b1d9e8f6ab2731ec",
            "953c3b7bc70b43299033b6dfaa6206bd",
            "b0fd982bf4d442909ef4d46e9e620516",
            "35df296372a3476ea448facd238616b7",
            "87f7601e4e014eecb780d5ffcd0d64cf",
            "aab2fb90395e481ea3fb4194ff38d1b1",
            "625076fe49c54472907295c2fc11a780",
            "f21c5aa7b78b483585faa9f824dbb8f5",
            "0908fc8e2de04a8c931be6a2d51faeae",
            "9b30d4f2e3aa49dcbd581c76583912c0",
            "2da57491fa274fc58d1b223ce3153334",
            "3bb6968169c34c8ab62588da3de8b6a2",
            "98e808c2d95d4ba4a77f61280d3f581f",
            "576c94584df740dd97d9db49f686cd50",
            "8f62697fcc174ae3aaa507ccb2fc25af",
            "af934fb7997449718461a6a7229681ac",
            "f13cb344d0ae4f1488ee6cef418fc730",
            "6b27d9a0c4b24dc2a4249f16a9eb610a",
            "1b105a22ae8842de910474e3702ccc1a",
            "f9a0620a67bd4117b6fbb2abc1fe06e0",
            "41f621c8fb544290b048ba0e43d9be02",
            "c8b57e8f0d0c4acdba11a812931b1ab8",
            "c392be62614b4daebc6a299acd40ba92",
            "b6279cb57ae148378991db4c9f3ac5ee",
            "5fec4f90776643ce8802aa07288cecf9",
            "de329d3f8939436eb8c783796290e546",
            "2c8e2b3527c145d3a03f44a5fcd895ed",
            "8c59694a95504d019dd50ab3c5e03127",
            "41ce2e0a2bbb4c639852bc97555aa76f",
            "e86610c8f2e54bc992df14aa6a3313db",
            "8cac717a3bac42048a16be236fbadbc3",
            "b32c948af2ba4915a6d1021ce0994797",
            "d509a1997ed4417ea46dc3d891b9d21c",
            "f9db2c65741740fda78f1121a0123a27",
            "2ee95e9ddc9d42a5a747302a972294eb",
            "f3d1752dcc874107895c066ab7dbb5ad",
            "6fdf7a0fa7a842c0a2a72ab71246f0bd",
            "193fddc192f74226805cf1f62cb785cc",
            "4bf1287f5319478cb8a8f50caf425f24",
            "32902f6277e04c98b6861da8988e07b5",
            "5e087cf1381a4df3aa081a03e803c8d0",
            "f4126c74b8944560a958f363b94a4764",
            "6d189e5c082e4e108652fc72dab6ded0",
            "f00b0465bebb4898a53bb153e8b36949",
            "1585dab4854b4fd6ad86cfce9bb93251",
            "e30b6257be3d4510890b7d55063b55d0",
            "19402794cc0e4c2db87d6837c99aa148",
            "92de76fb79714b83b07ea53e73381341",
            "15b2da326a914aa58122bb9b49a99431",
            "b5160147c7d847e8bc357a631606ba29",
            "8a6427f90a4140ddb3a5ac48830345c4",
            "51d34d16b89648019aa1ceeb480ae59f",
            "3526588f488d4b4daa6ea3c1f4bf78ef",
            "007f4af875fa44dcb9be4372ee11acd3",
            "ecdcc1e8bece4bfcb2dc86897507c43e",
            "32e203739c1b40fb993364d2dd966129",
            "f82d6a542d5e458b9923d3597e7c9ea4",
            "9a6e4ea902bc48f59205f937c2d84587",
            "5abdc7dd876a47b8a516c8f90ca8dccf",
            "c3c7e4efcd834246b0c781585a06c22f",
            "08724735b582410996b8eff98d0f9481",
            "17647ee60dea475786368900f3b0dd25",
            "90b8a04537bd4f65a1c671340ba597a2",
            "383ea91cdf054494b2a4ed4b4fada976",
            "bc412bd77b514e7eb62a2ee9611cdb3e",
            "c07d0effd555402082a92615e260d1f0",
            "4875af6c319143569a6a9b909e52f212",
            "01f49139d03245f1803d47ef7c0b9c15",
            "3d55993a7957496296a21b2efb0a9aba",
            "d7007d92894b449cae9d061d733ccb29",
            "0f3900f4f3804acf8ec9761cba63ea88"
          ]
        },
        "id": "oGcmoVMWjrU7",
        "outputId": "fec69eb6-bda6-438c-9319-1930bc0afbb2"
      },
      "outputs": [
        {
          "name": "stderr",
          "output_type": "stream",
          "text": [
            "Some weights of RobertaForSequenceClassification were not initialized from the model checkpoint at /content/drive/MyDrive/VU Thesis/Code/baby_models/V20L4/model_e3_v20_l4 and are newly initialized: ['classifier.dense.bias', 'classifier.dense.weight', 'classifier.out_proj.bias', 'classifier.out_proj.weight']\n",
            "You should probably TRAIN this model on a down-stream task to be able to use it for predictions and inference.\n"
          ]
        },
        {
          "name": "stdout",
          "output_type": "stream",
          "text": [
            "seed: 464\n"
          ]
        },
        {
          "data": {
            "application/vnd.jupyter.widget-view+json": {
              "model_id": "31c31210b3ad4e11842584d09ed212ea",
              "version_major": 2,
              "version_minor": 0
            },
            "text/plain": [
              "  0%|          | 0/41 [00:00<?, ?it/s]"
            ]
          },
          "metadata": {},
          "output_type": "display_data"
        },
        {
          "data": {
            "application/vnd.jupyter.widget-view+json": {
              "model_id": "aab2fb90395e481ea3fb4194ff38d1b1",
              "version_major": 2,
              "version_minor": 0
            },
            "text/plain": [
              "Epoch:   0%|          | 0/5 [00:00<?, ?it/s]"
            ]
          },
          "metadata": {},
          "output_type": "display_data"
        },
        {
          "name": "stderr",
          "output_type": "stream",
          "text": [
            "/usr/local/lib/python3.11/dist-packages/simpletransformers/classification/classification_model.py:882: FutureWarning: `torch.cuda.amp.GradScaler(args...)` is deprecated. Please use `torch.amp.GradScaler('cuda', args...)` instead.\n",
            "  scaler = amp.GradScaler()\n"
          ]
        },
        {
          "data": {
            "application/vnd.jupyter.widget-view+json": {
              "model_id": "f13cb344d0ae4f1488ee6cef418fc730",
              "version_major": 2,
              "version_minor": 0
            },
            "text/plain": [
              "Running Epoch 1 of 5:   0%|          | 0/2621 [00:00<?, ?it/s]"
            ]
          },
          "metadata": {},
          "output_type": "display_data"
        },
        {
          "name": "stderr",
          "output_type": "stream",
          "text": [
            "/usr/local/lib/python3.11/dist-packages/simpletransformers/classification/classification_model.py:905: FutureWarning: `torch.cuda.amp.autocast(args...)` is deprecated. Please use `torch.amp.autocast('cuda', args...)` instead.\n",
            "  with amp.autocast():\n"
          ]
        },
        {
          "data": {
            "application/vnd.jupyter.widget-view+json": {
              "model_id": "8c59694a95504d019dd50ab3c5e03127",
              "version_major": 2,
              "version_minor": 0
            },
            "text/plain": [
              "Running Epoch 2 of 5:   0%|          | 0/2621 [00:00<?, ?it/s]"
            ]
          },
          "metadata": {},
          "output_type": "display_data"
        },
        {
          "data": {
            "application/vnd.jupyter.widget-view+json": {
              "model_id": "4bf1287f5319478cb8a8f50caf425f24",
              "version_major": 2,
              "version_minor": 0
            },
            "text/plain": [
              "Running Epoch 3 of 5:   0%|          | 0/2621 [00:00<?, ?it/s]"
            ]
          },
          "metadata": {},
          "output_type": "display_data"
        },
        {
          "data": {
            "application/vnd.jupyter.widget-view+json": {
              "model_id": "b5160147c7d847e8bc357a631606ba29",
              "version_major": 2,
              "version_minor": 0
            },
            "text/plain": [
              "Running Epoch 4 of 5:   0%|          | 0/2621 [00:00<?, ?it/s]"
            ]
          },
          "metadata": {},
          "output_type": "display_data"
        },
        {
          "data": {
            "application/vnd.jupyter.widget-view+json": {
              "model_id": "08724735b582410996b8eff98d0f9481",
              "version_major": 2,
              "version_minor": 0
            },
            "text/plain": [
              "Running Epoch 5 of 5:   0%|          | 0/2621 [00:00<?, ?it/s]"
            ]
          },
          "metadata": {},
          "output_type": "display_data"
        }
      ],
      "source": [
        "model_path_e3 = \"/content/drive/MyDrive/VU Thesis/Code/baby_models/V20L4/model_e3_v20_l4\"\n",
        "model_name_e3 = \"v20_l4_e3\"\n",
        "model_e3 = fine_tune_model(model_path_e3, train_df, save_path, model_name_e3, rand_seed)"
      ]
    },
    {
      "cell_type": "code",
      "execution_count": null,
      "metadata": {
        "colab": {
          "base_uri": "https://localhost:8080/",
          "height": 937,
          "referenced_widgets": [
            "9847c457d77f44418db0bf8c293ed1f0",
            "dfc8743ef4314adbbf692d30453d519f",
            "caf664bbb51a47bbb6b8a4d10adc6bc5",
            "1a8dfa9cbcd84e40abe8ba8cbaa2169a",
            "acb45a863ef045bf9e03d5a72cd66aa3",
            "f0d1e63707194e74a4d4d059fd395ece",
            "d2c12e44a7f0445ab49379fa6955c43a",
            "938a054ca64f4f86b5f065edadbbd936",
            "af92500684ff4703bb5a83bca2c9a635",
            "b06891b6d7ff4e4bb31c5fdcaf5d4f0a",
            "679721388aab45eab01db536136bb890",
            "d87d0e8b29bf4033b36dad9c2be69a5f",
            "4162e4de2b0f4ae69da687a6fa34e18d",
            "1f320159cd7f4b95a327d09dccf2f1b4",
            "f4e195153c84444fa063dc812873fdc5",
            "ac2f2dd20b6b4284aef5caf89c538a49",
            "5161f74aa68b4a26832f716398539c88",
            "ebe61cc354f64218b95633d8020af0c2",
            "0a0916f978084c22967a19070f39eb5a",
            "e9566151274843de8edda946ede400ec",
            "bd2185d03d2b4fa181305d2c56bb1925",
            "50acac5b4d084e73980f96b208fbaa94"
          ]
        },
        "id": "2wKOA0whpHqx",
        "outputId": "33375122-d6c2-4185-b0b3-450fa53d2495"
      },
      "outputs": [
        {
          "data": {
            "application/vnd.jupyter.widget-view+json": {
              "model_id": "9847c457d77f44418db0bf8c293ed1f0",
              "version_major": 2,
              "version_minor": 0
            },
            "text/plain": [
              "  0%|          | 0/13 [00:00<?, ?it/s]"
            ]
          },
          "metadata": {},
          "output_type": "display_data"
        },
        {
          "data": {
            "application/vnd.jupyter.widget-view+json": {
              "model_id": "d87d0e8b29bf4033b36dad9c2be69a5f",
              "version_major": 2,
              "version_minor": 0
            },
            "text/plain": [
              "  0%|          | 0/70 [00:00<?, ?it/s]"
            ]
          },
          "metadata": {},
          "output_type": "display_data"
        },
        {
          "name": "stderr",
          "output_type": "stream",
          "text": [
            "/usr/local/lib/python3.11/dist-packages/simpletransformers/classification/classification_model.py:2188: FutureWarning: `torch.cuda.amp.autocast(args...)` is deprecated. Please use `torch.amp.autocast('cuda', args...)` instead.\n",
            "  with amp.autocast():\n"
          ]
        },
        {
          "name": "stdout",
          "output_type": "stream",
          "text": [
            "['DET', 'G', 'PREP', 'SVA']\n",
            "precision_recall_f1-score\n",
            "['DET', 'G', 'PREP', 'SVA']\n",
            "              precision    recall f0.5-score   support\n",
            "\n",
            "         DET      0.991     1.000     0.993      1508\n",
            "           G      0.916     0.826     0.896      3494\n",
            "        PREP      0.553     0.783     0.587       879\n",
            "         SVA      0.962     0.931     0.956      1107\n",
            "\n",
            "    accuracy                          0.875      6988\n",
            "   macro avg      0.855     0.885     0.858      6988\n",
            "weighted avg      0.894     0.875     0.888      6988\n",
            "\n",
            "Confusion matrix\n",
            "['DET', 'G', 'PREP', 'SVA']\n",
            "[[1508    0    0    0]\n",
            " [  12 2885  557   40]\n",
            " [   0  190  688    1]\n",
            " [   1   75    0 1031]]\n"
          ]
        },
        {
          "data": {
            "image/png": "[encoded data removed]",
            "text/plain": [
              "<Figure size 640x480 with 2 Axes>"
            ]
          },
          "metadata": {},
          "output_type": "display_data"
        }
      ],
      "source": [
        "model_e3_path = '/content/drive/MyDrive/VU Thesis/Code/fine_tune/models/fine_tuned_v20_l4_e3_model'\n",
        "\n",
        "preds_e3 = predict_model(model_e3_path, test_data)\n",
        "# report = classification_report_f0_5(test_df.labels.tolist(), preds) #, output_dict=True)\n",
        "target_names = ['DET', 'G', 'PREP','SVA']\n",
        "# target_names = ['G', 'PREP', 'DET','SVA']\n",
        "report_e3, cf_matrix_e3 = fine_tune_eval(gold_labels, preds_e3, target_names)\n",
        "df_e3 = save_model_preds(test_df, preds_e3, outfile_path, 'v20_l4_e3')"
      ]
    },
    {
      "cell_type": "markdown",
      "metadata": {
        "id": "eYXhWEJ1pAlD"
      },
      "source": [
        "#### E4"
      ]
    },
    {
      "cell_type": "code",
      "execution_count": null,
      "metadata": {
        "colab": {
          "base_uri": "https://localhost:8080/",
          "height": 383,
          "referenced_widgets": [
            "a40ccec7f84b4430b71048d4e6161cc2",
            "2f106736cee947b99f5b0fcdf955fa2a",
            "ff0c4077ecae4f3097e81dfa5fe9ceac",
            "a8b756dab7894d2bad71d539c342ec5d",
            "c3e7a5aea403461e8556d6d431388988",
            "ef816469eaa740f486e581e5a9230d53",
            "fc119d5f58284c35b336a5c958fd048e",
            "351284a62c8746569dd5056566c1aabc",
            "c14b28ee2d9348d19d124445499cbcb7",
            "8c6ee94b1b394dfcb87f26111b97f4ae",
            "5e8edbfd749348ae8e43105c9b224ed3",
            "d8ade158c2e64b33b183d70255ee25c7",
            "afe858692b394c398cdba64a853ede93",
            "be91b0cb3c4c4db783baa6683127744b",
            "e80d484989244577a181045a68100ba6",
            "35380ccd3fda4214b26f34d2e3fd985c",
            "316f936b14f344e48b77e2e260ec3fea",
            "c45dcd8ddf4441149cb12480fec74422",
            "a32aecdb52d74f98adaf36cf74348603",
            "99f21365565542ef8ed86b6260403902",
            "3574473593084201a0d940b7923d7db9",
            "940c3b07d90f425db3699a0c081025e0",
            "bddeb19519584875b68677684acf5c1f",
            "73a724e0200846e394d9f1341bef842e",
            "10e37b3ba0db4e8090a67f90d9a38ce1",
            "1cf858a748d9407f9d2b6255c80f36c3",
            "9c09ba4e45a84ba1b7981c00ea0ca3e3",
            "8900e25f0caf42c88848d08902e10de2",
            "ad20aa2b3f2041b59014975b0f911c8f",
            "bbbe40673a5b42a891544ad30ab09f78",
            "bc9beef8f93b4e5c90d91e91f5861ed9",
            "70498ee7838e4a1ab48e6d62574d9afb",
            "c5b66aeb68624d75801c2563fc401c63",
            "7a3ed9b4e03946ed95af4a9c1047b5a3",
            "19c46b96b6d14a67a9f848ed1053fe79",
            "c5c15828c0af4628963cbf2663c4b55d",
            "0fdd320a77364b17bdd4dcff3a1ceed0",
            "4d686a9f252e45e19b388ad2f6852c73",
            "0be09bf9d7eb4fc38fc60438edcaae4b",
            "4e87b13152cf421cbb2b663f0f2528d8",
            "c3da550056a843e387eeaab1d0d97690",
            "422fa68334c24cc6812899e8ab2686e8",
            "e47f1505d0bd46b98d372b8ed60f8fcb",
            "b0cdd3e6253d468f8a1d495e8b630926",
            "326076b354bd40b99058b541b9226eb3",
            "0536fd43b0274989908237e3af92c18e",
            "7e7739a89bac4ff398e84a47dd4af9a7",
            "8be8eb766db747e48a002e6171a29c1d",
            "1c66f24aab9f42d68127d81ce610d5d4",
            "9cf6d6ee1feb46c493976ea39d7654b2",
            "83589f4bac7745bfa8763285e8d1529b",
            "74a96bad4d9247fb864a6c143159034c",
            "16a0d1665fbf49f0a313818a48dacdea",
            "eec6375491f948f3be527296ab4c357e",
            "743e00bfa79a4f34a186c0ec24db9fa4",
            "914ba37abd434e309196d32ffd293968",
            "5d06f40163024770b837594cf0aa88b5",
            "780c9c8fcda2445689a6be2d760206a8",
            "c63ca20cec654714b23d457ad2dcade7",
            "45b17cf613304dd3a955903ac1bfdd9a",
            "2b1291628d5b4529b17a5f1a6e1e3bb1",
            "61dc39711ba743e89cb93e73606bfc67",
            "258847605d6643bd80916fce817bc2f1",
            "80b65c7ebd7e4461af06a83aed5425ae",
            "0cf3a47991324cf5a40841c6090fe252",
            "7eb57c2ea66548108eeac6e0d7ad8020",
            "2d2d7cb5bac649849a0007f35eb94970",
            "df8d1bbfc60247b0a0a247134dc922cf",
            "6adab09cb8144a11b4bf8544d79e1bb5",
            "5904fc049002477ebc49ffb493db8a51",
            "f882f591dfe94764a81424a5f8b763a9",
            "73981d74607f46b484a885c4d4764134",
            "720aab92dbf34bd9b774aa3e3b0bb5cc",
            "1939732c7c7e46f68f3d14b06e1e626b",
            "12e822bdefea454da164576751118809",
            "c5c01d2c3c3b4f18aaef05d96ad5e49d",
            "c62de5277d0e450dbf5c2d59254a9d8a"
          ]
        },
        "id": "jM949UcAjrnL",
        "outputId": "c1bf9d1d-e10c-4d45-9335-f787a02b7b90"
      },
      "outputs": [
        {
          "name": "stderr",
          "output_type": "stream",
          "text": [
            "Some weights of RobertaForSequenceClassification were not initialized from the model checkpoint at /content/drive/MyDrive/VU Thesis/Code/baby_models/V20L4/model_e4_v20_l4 and are newly initialized: ['classifier.dense.bias', 'classifier.dense.weight', 'classifier.out_proj.bias', 'classifier.out_proj.weight']\n",
            "You should probably TRAIN this model on a down-stream task to be able to use it for predictions and inference.\n"
          ]
        },
        {
          "name": "stdout",
          "output_type": "stream",
          "text": [
            "seed: 464\n"
          ]
        },
        {
          "data": {
            "application/vnd.jupyter.widget-view+json": {
              "model_id": "a40ccec7f84b4430b71048d4e6161cc2",
              "version_major": 2,
              "version_minor": 0
            },
            "text/plain": [
              "  0%|          | 0/41 [00:00<?, ?it/s]"
            ]
          },
          "metadata": {},
          "output_type": "display_data"
        },
        {
          "data": {
            "application/vnd.jupyter.widget-view+json": {
              "model_id": "d8ade158c2e64b33b183d70255ee25c7",
              "version_major": 2,
              "version_minor": 0
            },
            "text/plain": [
              "Epoch:   0%|          | 0/5 [00:00<?, ?it/s]"
            ]
          },
          "metadata": {},
          "output_type": "display_data"
        },
        {
          "name": "stderr",
          "output_type": "stream",
          "text": [
            "/usr/local/lib/python3.11/dist-packages/simpletransformers/classification/classification_model.py:882: FutureWarning: `torch.cuda.amp.GradScaler(args...)` is deprecated. Please use `torch.amp.GradScaler('cuda', args...)` instead.\n",
            "  scaler = amp.GradScaler()\n"
          ]
        },
        {
          "data": {
            "application/vnd.jupyter.widget-view+json": {
              "model_id": "bddeb19519584875b68677684acf5c1f",
              "version_major": 2,
              "version_minor": 0
            },
            "text/plain": [
              "Running Epoch 1 of 5:   0%|          | 0/2621 [00:00<?, ?it/s]"
            ]
          },
          "metadata": {},
          "output_type": "display_data"
        },
        {
          "name": "stderr",
          "output_type": "stream",
          "text": [
            "/usr/local/lib/python3.11/dist-packages/simpletransformers/classification/classification_model.py:905: FutureWarning: `torch.cuda.amp.autocast(args...)` is deprecated. Please use `torch.amp.autocast('cuda', args...)` instead.\n",
            "  with amp.autocast():\n"
          ]
        },
        {
          "data": {
            "application/vnd.jupyter.widget-view+json": {
              "model_id": "7a3ed9b4e03946ed95af4a9c1047b5a3",
              "version_major": 2,
              "version_minor": 0
            },
            "text/plain": [
              "Running Epoch 2 of 5:   0%|          | 0/2621 [00:00<?, ?it/s]"
            ]
          },
          "metadata": {},
          "output_type": "display_data"
        },
        {
          "data": {
            "application/vnd.jupyter.widget-view+json": {
              "model_id": "326076b354bd40b99058b541b9226eb3",
              "version_major": 2,
              "version_minor": 0
            },
            "text/plain": [
              "Running Epoch 3 of 5:   0%|          | 0/2621 [00:00<?, ?it/s]"
            ]
          },
          "metadata": {},
          "output_type": "display_data"
        },
        {
          "data": {
            "application/vnd.jupyter.widget-view+json": {
              "model_id": "914ba37abd434e309196d32ffd293968",
              "version_major": 2,
              "version_minor": 0
            },
            "text/plain": [
              "Running Epoch 4 of 5:   0%|          | 0/2621 [00:00<?, ?it/s]"
            ]
          },
          "metadata": {},
          "output_type": "display_data"
        },
        {
          "data": {
            "application/vnd.jupyter.widget-view+json": {
              "model_id": "2d2d7cb5bac649849a0007f35eb94970",
              "version_major": 2,
              "version_minor": 0
            },
            "text/plain": [
              "Running Epoch 5 of 5:   0%|          | 0/2621 [00:00<?, ?it/s]"
            ]
          },
          "metadata": {},
          "output_type": "display_data"
        }
      ],
      "source": [
        "model_path_e4 = \"/content/drive/MyDrive/VU Thesis/Code/baby_models/V20L4/model_e4_v20_l4\"\n",
        "model_name_e4 = \"v20_l4_e4\"\n",
        "model_e4 = fine_tune_model(model_path_e4, train_df, save_path, model_name_e4, rand_seed)"
      ]
    },
    {
      "cell_type": "code",
      "execution_count": null,
      "metadata": {
        "colab": {
          "base_uri": "https://localhost:8080/",
          "height": 937,
          "referenced_widgets": [
            "8bbcb899b188433d89c6bc787a9bf51f",
            "5b9a94fd86a74a4198ae421b58f23d5f",
            "f09e347bc32f465087df1ef7045473b7",
            "f6a72f01387a40c8b0ead87a8fd7095e",
            "172cb9f0c5af4c33b7d91acec3c9e86d",
            "79757b68966742cc89fc7a8873f3cbfb",
            "34a85f0067d04d3c91cd8387e8e0c176",
            "e8ceec18a6004e068bd7974643a2036c",
            "913b4b8be5a14f41b75d8842d56e149b",
            "b4a284005239479494e1ce1447855419",
            "3b941a85e6ff4905926f55a5e168aefb",
            "b3e43f3fa18441d6a69c59841abd0fce",
            "64de20a39ef64d3b8c53b78ef137f729",
            "e161f998bbf740cab37fdc073a282299",
            "acd4497438f0406e94ec679633e27464",
            "4400e67657c54749bd2c1edb6349249e",
            "7a1309ce891f4928bd60b95cd8e77f32",
            "58ef2f6186364402bf94e9253946a3aa",
            "ecea4535ead04488910aa9f87bed8d9b",
            "ef4cb143e455497cbfbd36d0c4d4a619",
            "b33678b7ddbb4bd58fa2489b62a17cd4",
            "aa6f069b77be4546be1a3599932faf5f"
          ]
        },
        "id": "mysLB0AfpIiX",
        "outputId": "7601a621-4840-4bdc-95bb-30a00840afce"
      },
      "outputs": [
        {
          "data": {
            "application/vnd.jupyter.widget-view+json": {
              "model_id": "8bbcb899b188433d89c6bc787a9bf51f",
              "version_major": 2,
              "version_minor": 0
            },
            "text/plain": [
              "  0%|          | 0/13 [00:00<?, ?it/s]"
            ]
          },
          "metadata": {},
          "output_type": "display_data"
        },
        {
          "data": {
            "application/vnd.jupyter.widget-view+json": {
              "model_id": "b3e43f3fa18441d6a69c59841abd0fce",
              "version_major": 2,
              "version_minor": 0
            },
            "text/plain": [
              "  0%|          | 0/70 [00:00<?, ?it/s]"
            ]
          },
          "metadata": {},
          "output_type": "display_data"
        },
        {
          "name": "stderr",
          "output_type": "stream",
          "text": [
            "/usr/local/lib/python3.11/dist-packages/simpletransformers/classification/classification_model.py:2188: FutureWarning: `torch.cuda.amp.autocast(args...)` is deprecated. Please use `torch.amp.autocast('cuda', args...)` instead.\n",
            "  with amp.autocast():\n"
          ]
        },
        {
          "name": "stdout",
          "output_type": "stream",
          "text": [
            "['DET', 'G', 'PREP', 'SVA']\n",
            "precision_recall_f1-score\n",
            "['DET', 'G', 'PREP', 'SVA']\n",
            "              precision    recall f0.5-score   support\n",
            "\n",
            "         DET      0.991     1.000     0.993      1508\n",
            "           G      0.922     0.824     0.900      3494\n",
            "        PREP      0.553     0.782     0.587       879\n",
            "         SVA      0.955     0.948     0.954      1107\n",
            "\n",
            "    accuracy                          0.876      6988\n",
            "   macro avg      0.855     0.888     0.858      6988\n",
            "weighted avg      0.895     0.876     0.889      6988\n",
            "\n",
            "Confusion matrix\n",
            "['DET', 'G', 'PREP', 'SVA']\n",
            "[[1508    0    0    0]\n",
            " [  12 2880  556   46]\n",
            " [   1  188  687    3]\n",
            " [   1   57    0 1049]]\n"
          ]
        },
        {
          "data": {
            "image/png": "[encoded data removed]",
            "text/plain": [
              "<Figure size 640x480 with 2 Axes>"
            ]
          },
          "metadata": {},
          "output_type": "display_data"
        }
      ],
      "source": [
        "model_e4_path = '/content/drive/MyDrive/VU Thesis/Code/fine_tune/models/fine_tuned_v20_l4_e4_model'\n",
        "\n",
        "preds_e4 = predict_model(model_e4_path, test_data)\n",
        "# report = classification_report_f0_5(test_df.labels.tolist(), preds) #, output_dict=True)\n",
        "target_names = ['DET', 'G', 'PREP','SVA']\n",
        "# target_names = ['G', 'PREP', 'DET','SVA']\n",
        "report_e4, cf_matrix_e4 = fine_tune_eval(gold_labels, preds_e4, target_names)\n",
        "df_e4 = save_model_preds(test_df, preds_e4, outfile_path, 'v20_l4_e4')"
      ]
    },
    {
      "cell_type": "markdown",
      "metadata": {
        "id": "omG7L9jDpI9q"
      },
      "source": [
        "#### E5"
      ]
    },
    {
      "cell_type": "code",
      "execution_count": null,
      "metadata": {
        "colab": {
          "base_uri": "https://localhost:8080/",
          "height": 383,
          "referenced_widgets": [
            "fc8b91b13c7c4511b24e95d7a19e4369",
            "a8ae481c49574abb8555cabd9f1c9b46",
            "51558f131c454e99baf7ef63760bc461",
            "f4a5ea6212e247adbdb611acfbd65ce1",
            "4b68c8042ef34804af0412d7f65b6b19",
            "bf8ef00363044891b4856f76920e1e95",
            "3eb4357d3b39470fb82874e96a1051cc",
            "f2ede99b1452455e9268aac1adfa9758",
            "b8b8e967c4e54e518419dbbb9068365e",
            "ab5020fa8abc48078238f56ef6c0f1e9",
            "6ffcc4c09fef44e0ba9c1957e0798b38",
            "aa79cd2ab5c74670b4c8894bcee27413",
            "0e64bc0f50244c5894b88173308b0a4c",
            "6a92d23de6f344ceb28410224b71ef81",
            "7efc8651ee64410f9f924e9f492f304f",
            "9950fa7c580a428d8bc301b4dbe0a012",
            "46e9d6da1c194d779b400ac289ee83aa",
            "7cf3c673a8a2473a96c54d826e6f7e08",
            "63c82fd9365a448d9bf38af3c593a636",
            "aa36d64a52ac4e158396f5696d9e8c80",
            "69c5eef668f34c689961b2f6bfea8f07",
            "8242bfa3ac3c46c080a039791f7ef8ac",
            "2e386280b51f46b2bb01374a9a3d58d3",
            "1692674b2d1a4e168ad942c4459891e0",
            "cb27cd6a9b974c0893b1104d55ad6db2",
            "78672ea9519f4519825b81c13f4152dc",
            "28937d0fcf4a41268a4763c71ce6cc30",
            "c0e393692843495fb62b34aa7138dfb7",
            "d6e00ee63b1c4010943618aa1150695c",
            "db41576421c54057ae16380130263655",
            "c7cd337abcbf4f0fbf8283014ea64193",
            "87e1b2dbdfcf4122a97aeaa79f81a49b",
            "846f78d3bc6c4e66ae1ede64de180f47",
            "e233950c46104c6d8bdab6b08479f989",
            "9e264befaaa7479aa14582b5268b4475",
            "219df7558f1a416d8a178136c82fe594",
            "c8f501610e5b409592512acdc3d2f2a0",
            "852adb43d02e405f997061add66eb4a7",
            "1189d060a5844be8a9ead9f6b688ffe4",
            "51841b1e86c1449a9fb5cec0ec710abd",
            "ea76e71601314d56936e096da93f027d",
            "756644c40df748f18722ebd7c67de279",
            "c3f0d9cec30d4c8594ac09683928fef7",
            "d62c879d5f594aea884ce771b04205cb",
            "e01910cb69334b9eba652f2d2a032196",
            "b72a74eb44fa4e63a2fb42e4cbe9aee2",
            "9cb15215bba44ce9958eedc8620130e8",
            "3ec64ea8729a411f8d34ca930173343b",
            "015e4b5f053f4eeb912eb86c8812033e",
            "3a8c4d73973148a3b56f53d02a19137a",
            "2d7ab6b90c6f4808960b25667c8b7faf",
            "aeb75d79af1b4b83903c29f42d3c2a92",
            "32853685a5524daf813fc983ca46f1dc",
            "92b1418c24ad40ef99110f516ba10802",
            "8f56671205a84b8cbb74374d471ed935",
            "4c2ca159a0c74192ace9d19342517fa0",
            "6c5995e05db54758981b2b8321ec04cb",
            "aac22d3fd13a4d30897f9775a35c1d10",
            "96ab7718f85044588745b0fe23cba68a",
            "5036def2e7784a79ba66891213379d96",
            "913d82216a734295ade55633c37ca4dd",
            "84acf5be9f154d788aceb78e009dd55a",
            "66de5036c27b4c6f8c58dbbccc2af8d9",
            "5209cc21560548c993726e59b6b10676",
            "5f876bfa916a4fe3a9c3c99ddc9fe061",
            "3907e17db62b447fa1c82ca1eb2e29c8",
            "5e25faabaec34e1eb56312551461932b",
            "a22812fd5ede461a82aab010f5089168",
            "64814277fa614d698d90f359f09e2440",
            "ba8273c83f124cb18360e69de45ac91b",
            "be325aa45a354ce4ac62184c060e4a5a",
            "982dcfeb02fa4cc68387a1ad76000760",
            "c4162547600e44918cd0542db7ea6431",
            "da4d6cb7560d47e2b3c5bcffaef1a956",
            "2968e8bb0cf24bc38f6ea57cafb1fd2b",
            "cdbaf711fff74004ac6a820c145b42f5",
            "762b7f5b01ec4d76bc797a2a440dce93"
          ]
        },
        "id": "cCpmMmJfjr9I",
        "outputId": "6e6cca7f-0c93-4820-ba5c-0caa603a365d"
      },
      "outputs": [
        {
          "name": "stderr",
          "output_type": "stream",
          "text": [
            "Some weights of RobertaForSequenceClassification were not initialized from the model checkpoint at /content/drive/MyDrive/VU Thesis/Code/baby_models/V20L4/model_e5_v20_l4 and are newly initialized: ['classifier.dense.bias', 'classifier.dense.weight', 'classifier.out_proj.bias', 'classifier.out_proj.weight']\n",
            "You should probably TRAIN this model on a down-stream task to be able to use it for predictions and inference.\n"
          ]
        },
        {
          "name": "stdout",
          "output_type": "stream",
          "text": [
            "seed: 464\n"
          ]
        },
        {
          "data": {
            "application/vnd.jupyter.widget-view+json": {
              "model_id": "fc8b91b13c7c4511b24e95d7a19e4369",
              "version_major": 2,
              "version_minor": 0
            },
            "text/plain": [
              "  0%|          | 0/41 [00:00<?, ?it/s]"
            ]
          },
          "metadata": {},
          "output_type": "display_data"
        },
        {
          "data": {
            "application/vnd.jupyter.widget-view+json": {
              "model_id": "aa79cd2ab5c74670b4c8894bcee27413",
              "version_major": 2,
              "version_minor": 0
            },
            "text/plain": [
              "Epoch:   0%|          | 0/5 [00:00<?, ?it/s]"
            ]
          },
          "metadata": {},
          "output_type": "display_data"
        },
        {
          "name": "stderr",
          "output_type": "stream",
          "text": [
            "/usr/local/lib/python3.11/dist-packages/simpletransformers/classification/classification_model.py:882: FutureWarning: `torch.cuda.amp.GradScaler(args...)` is deprecated. Please use `torch.amp.GradScaler('cuda', args...)` instead.\n",
            "  scaler = amp.GradScaler()\n"
          ]
        },
        {
          "data": {
            "application/vnd.jupyter.widget-view+json": {
              "model_id": "2e386280b51f46b2bb01374a9a3d58d3",
              "version_major": 2,
              "version_minor": 0
            },
            "text/plain": [
              "Running Epoch 1 of 5:   0%|          | 0/2621 [00:00<?, ?it/s]"
            ]
          },
          "metadata": {},
          "output_type": "display_data"
        },
        {
          "name": "stderr",
          "output_type": "stream",
          "text": [
            "/usr/local/lib/python3.11/dist-packages/simpletransformers/classification/classification_model.py:905: FutureWarning: `torch.cuda.amp.autocast(args...)` is deprecated. Please use `torch.amp.autocast('cuda', args...)` instead.\n",
            "  with amp.autocast():\n"
          ]
        },
        {
          "data": {
            "application/vnd.jupyter.widget-view+json": {
              "model_id": "e233950c46104c6d8bdab6b08479f989",
              "version_major": 2,
              "version_minor": 0
            },
            "text/plain": [
              "Running Epoch 2 of 5:   0%|          | 0/2621 [00:00<?, ?it/s]"
            ]
          },
          "metadata": {},
          "output_type": "display_data"
        },
        {
          "data": {
            "application/vnd.jupyter.widget-view+json": {
              "model_id": "e01910cb69334b9eba652f2d2a032196",
              "version_major": 2,
              "version_minor": 0
            },
            "text/plain": [
              "Running Epoch 3 of 5:   0%|          | 0/2621 [00:00<?, ?it/s]"
            ]
          },
          "metadata": {},
          "output_type": "display_data"
        },
        {
          "data": {
            "application/vnd.jupyter.widget-view+json": {
              "model_id": "4c2ca159a0c74192ace9d19342517fa0",
              "version_major": 2,
              "version_minor": 0
            },
            "text/plain": [
              "Running Epoch 4 of 5:   0%|          | 0/2621 [00:00<?, ?it/s]"
            ]
          },
          "metadata": {},
          "output_type": "display_data"
        },
        {
          "data": {
            "application/vnd.jupyter.widget-view+json": {
              "model_id": "5e25faabaec34e1eb56312551461932b",
              "version_major": 2,
              "version_minor": 0
            },
            "text/plain": [
              "Running Epoch 5 of 5:   0%|          | 0/2621 [00:00<?, ?it/s]"
            ]
          },
          "metadata": {},
          "output_type": "display_data"
        }
      ],
      "source": [
        "model_path_e5 = \"/content/drive/MyDrive/VU Thesis/Code/baby_models/V20L4/model_e5_v20_l4\"\n",
        "model_name_e5 = \"v20_l4_e5\"\n",
        "model_e5 = fine_tune_model(model_path_e5, train_df, save_path, model_name_e5, rand_seed)"
      ]
    },
    {
      "cell_type": "code",
      "execution_count": null,
      "metadata": {
        "colab": {
          "base_uri": "https://localhost:8080/",
          "height": 937,
          "referenced_widgets": [
            "8ac45260a613496b99cc00f5a8ebba68",
            "2b6995512fcd4f26bf702b557c0a0a04",
            "2207efd6f53240aba10741f6477565ac",
            "d835f6788c2b4136867c5ac961d31d50",
            "76ccdf68265f49d3a87d24d0b65b9b58",
            "e47e97e8a3484a2b8aeb251ee6b647c3",
            "9bf80b03d138492caf0e5bf9c2eaa84a",
            "fe3873a4ad4540b2a89cab9a9e4bbd10",
            "bc745d7daaec434781049a06b416a938",
            "1ccd0562629d47959568ad6f3540045e",
            "9664d345cb4646ec9a63387ee24a05f7",
            "19a35b66ec06491caeffae433af1d6d7",
            "1b84bdcec44b4b8088cb19892fefcf2b",
            "7f8ab6521664427ea490f3fcb811edc1",
            "2fb7b0761bd94029a23a337d26325c8a",
            "9819af65466a497b8b2a90916767f701",
            "c61428ae07824b369407d2acfc2d61eb",
            "b6773555b47d49568554a7371c172a3b",
            "b74f548ac5a84e63821ced9244ad0fbb",
            "bd4d1a94f9f6436aa61bce680c20676c",
            "80068277f546476d8b98b7a68e722c5d",
            "ba7d6e2b8ca64b1e81a22e3405951f04"
          ]
        },
        "id": "vb_jUMATpJZH",
        "outputId": "e0d06d0e-3215-4e17-92b1-da20a4eccac7"
      },
      "outputs": [
        {
          "data": {
            "application/vnd.jupyter.widget-view+json": {
              "model_id": "8ac45260a613496b99cc00f5a8ebba68",
              "version_major": 2,
              "version_minor": 0
            },
            "text/plain": [
              "  0%|          | 0/13 [00:00<?, ?it/s]"
            ]
          },
          "metadata": {},
          "output_type": "display_data"
        },
        {
          "data": {
            "application/vnd.jupyter.widget-view+json": {
              "model_id": "19a35b66ec06491caeffae433af1d6d7",
              "version_major": 2,
              "version_minor": 0
            },
            "text/plain": [
              "  0%|          | 0/70 [00:00<?, ?it/s]"
            ]
          },
          "metadata": {},
          "output_type": "display_data"
        },
        {
          "name": "stderr",
          "output_type": "stream",
          "text": [
            "/usr/local/lib/python3.11/dist-packages/simpletransformers/classification/classification_model.py:2188: FutureWarning: `torch.cuda.amp.autocast(args...)` is deprecated. Please use `torch.amp.autocast('cuda', args...)` instead.\n",
            "  with amp.autocast():\n"
          ]
        },
        {
          "name": "stdout",
          "output_type": "stream",
          "text": [
            "['DET', 'G', 'PREP', 'SVA']\n",
            "precision_recall_f1-score\n",
            "['DET', 'G', 'PREP', 'SVA']\n",
            "              precision    recall f0.5-score   support\n",
            "\n",
            "         DET      0.993     1.000     0.995      1508\n",
            "           G      0.921     0.826     0.900      3494\n",
            "        PREP      0.556     0.785     0.591       879\n",
            "         SVA      0.956     0.947     0.954      1107\n",
            "\n",
            "    accuracy                          0.878      6988\n",
            "   macro avg      0.857     0.889     0.860      6988\n",
            "weighted avg      0.896     0.878     0.890      6988\n",
            "\n",
            "Confusion matrix\n",
            "['DET', 'G', 'PREP', 'SVA']\n",
            "[[1508    0    0    0]\n",
            " [  10 2886  550   48]\n",
            " [   0  189  690    0]\n",
            " [   0   59    0 1048]]\n"
          ]
        },
        {
          "data": {
            "image/png": "[encoded data removed]",
            "text/plain": [
              "<Figure size 640x480 with 2 Axes>"
            ]
          },
          "metadata": {},
          "output_type": "display_data"
        }
      ],
      "source": [
        "model_e5_path = '/content/drive/MyDrive/VU Thesis/Code/fine_tune/models/fine_tuned_v20_l4_e5_model'\n",
        "\n",
        "preds_e5 = predict_model(model_e5_path, test_data)\n",
        "# report = classification_report_f0_5(test_df.labels.tolist(), preds) #, output_dict=True)\n",
        "target_names = ['DET', 'G', 'PREP','SVA']\n",
        "# target_names = ['G', 'PREP', 'DET','SVA']\n",
        "report_e5, cf_matrix_e5 = fine_tune_eval(gold_labels, preds_e5, target_names)\n",
        "df_e5 = save_model_preds(test_df, preds_e5, outfile_path, 'v20_l4_e5')"
      ]
    },
    {
      "cell_type": "markdown",
      "metadata": {
        "id": "xEFeLcfopJwZ"
      },
      "source": [
        "#### E6"
      ]
    },
    {
      "cell_type": "code",
      "execution_count": null,
      "metadata": {
        "colab": {
          "base_uri": "https://localhost:8080/",
          "height": 383,
          "referenced_widgets": [
            "3d46e3538be4453f8b58eece4429a0a7",
            "5b1a9651cf1f4e48a3449007d0144101",
            "fa9b16efd95d4d45aa382277238948c5",
            "ee297b39a6704fe0945dded537a9bb31",
            "aa1ee37b3908440980dd9f8de3ad3dd8",
            "c81465c886fe4981b209f12678254b30",
            "e14c2512e137405d9985dd7a03c2cd8b",
            "60b2914e82ca4cbc8bab07a086b7fcf7",
            "07a1490b638e43308449bebf85c85a40",
            "10899d67a45b497fbb9e3343a08091c3",
            "7bef39755a6845f3824eb43a4119cb20",
            "b7f795072cdb4667b14d8b99e0923a1e",
            "3478d7c3f3b045adb4823042b5f651d4",
            "9377a9a531d14c10b8208125708b1d7d",
            "1b49917c5e174bf7abda1c03d18cfdaa",
            "adc9c6fc5097474f87ef18a18f072a9b",
            "d8a9ab8fc2dd4cb0bbc602489a9a4efd",
            "df47573ef28a4cfa9b0082d4ea43cd54",
            "9463b9abaef04f7d837ba49e7951a677",
            "03d033245a184be9877295b64434fd96",
            "e77261852c164cc4b80060fe2b42ddda",
            "0e08d0ccdaf9493c8bad35abf4d6606e",
            "c9aa2aa41e004b85a02a6ae840330723",
            "263842287fcd4593bbffac12fe98460d",
            "06438093a8444753bcd7e768809cf32c",
            "e1773142695c4978900e03a44c864467",
            "96f3ab662b5a4e0a8e9e8ded28a50626",
            "86688036e22f4d60bb24e1c8a60b5613",
            "e2d8ca821d47475e957f3fd384ed4685",
            "ae04c15e51d0428ca0c763cd8a845bc2",
            "0cf30ccb061c44f38bf684fdde324d65",
            "15327fd11f4941c1bdd7ce4c7208f5e2",
            "564272e3f33c4daa871a28d34e843fbb",
            "9391aa409f174a7fa2d8d002f0024f96",
            "bf5735a34388406495a12643ce3dd7e2",
            "1fcab129e6ce4258b8f2d94e7fa6694e",
            "3ad8265c503948949bfc469e4db15aeb",
            "c70c81782750444988df30dfc2ace08e",
            "c5101aae25c44bb7b8985c2ceb0b81f5",
            "e8ffeabcb8b34512ae3a55119111da0c",
            "e531abb00365489ca82d6be0c6ee40eb",
            "4577602f91e847d6993584d898837f16",
            "8521b24ea71743bfa4ecb53c65a7e3ee",
            "92fab954c17a4a4cb581b5d946c079b8",
            "f8733c4055e147a19dfcc19f5de8f2c3",
            "d05c3fc66f984d4e97ebc8869837d2fa",
            "35c023b6a319412a98003649a00f9935",
            "ce4d961e6c41498e952f00db7911bc41",
            "09a6cfab4eaa4cd7bfe4f6b59642eeec",
            "5f34afae69764b158406452bbf9fda79",
            "c5694118e4fc4a50b33031460c75a2d5",
            "fb5338b0256a468bad8f9ea7ee0c9bdf",
            "1e77245d6edc4810aabc8c47e183b437",
            "4a2847fae895410ba7efcfe6ce9b4efe",
            "3aa5ef087b3f4f3a9716afb2f3e038be",
            "8ff6c8b108fa484096d3b657faa6dac7",
            "4e8f182b79aa46828bb3c87343de6ff2",
            "3450b53ec7a746d3a8acc1e2a629a02a",
            "47f6b8e0035e41a4a24d3c137ea3489a",
            "14620587ea1c4c2ca8f8a52c73ca1d7f",
            "289f6bca378c493e8d691c0393fe0893",
            "f7559293212d4b41b1bd901802683e23",
            "efd493628cf542c1a352032477993625",
            "6b6f40d8ab8d4f569a9eb43b091934c8",
            "6a97cc57cf5e47549a1f8da075d133d9",
            "a4da1e4814804c54ab5d6cc824a31495",
            "925b45f47666430c97e52015f3d2d0d8",
            "5fcadab790104866bf135eae85fdee54",
            "d1c85174667e48a5a0b404a5e83565be",
            "67e30218188c4447a5946fb8ec7d5d22",
            "842faf25fbb644c1b253f0d850d62dbb",
            "072f9016c7b54d038f2d66fe62d82a4d",
            "9749f7a2da7447288a689d605333a39c",
            "0cea790c0d164ceca46496f81bbee0b0",
            "aae8b96074734236a6148584d18177c1",
            "c24c9ddca276433996c788f5a3535b1f",
            "5d8eb36344ac442ba875a239fb828196"
          ]
        },
        "id": "6bkIYqSljsQr",
        "outputId": "35968e2e-6fd4-4134-98c0-79c35175b285"
      },
      "outputs": [
        {
          "name": "stderr",
          "output_type": "stream",
          "text": [
            "Some weights of RobertaForSequenceClassification were not initialized from the model checkpoint at /content/drive/MyDrive/VU Thesis/Code/baby_models/V20L4/model_e6_v20_l4 and are newly initialized: ['classifier.dense.bias', 'classifier.dense.weight', 'classifier.out_proj.bias', 'classifier.out_proj.weight']\n",
            "You should probably TRAIN this model on a down-stream task to be able to use it for predictions and inference.\n"
          ]
        },
        {
          "name": "stdout",
          "output_type": "stream",
          "text": [
            "seed: 464\n"
          ]
        },
        {
          "data": {
            "application/vnd.jupyter.widget-view+json": {
              "model_id": "3d46e3538be4453f8b58eece4429a0a7",
              "version_major": 2,
              "version_minor": 0
            },
            "text/plain": [
              "  0%|          | 0/41 [00:00<?, ?it/s]"
            ]
          },
          "metadata": {},
          "output_type": "display_data"
        },
        {
          "data": {
            "application/vnd.jupyter.widget-view+json": {
              "model_id": "b7f795072cdb4667b14d8b99e0923a1e",
              "version_major": 2,
              "version_minor": 0
            },
            "text/plain": [
              "Epoch:   0%|          | 0/5 [00:00<?, ?it/s]"
            ]
          },
          "metadata": {},
          "output_type": "display_data"
        },
        {
          "name": "stderr",
          "output_type": "stream",
          "text": [
            "/usr/local/lib/python3.11/dist-packages/simpletransformers/classification/classification_model.py:882: FutureWarning: `torch.cuda.amp.GradScaler(args...)` is deprecated. Please use `torch.amp.GradScaler('cuda', args...)` instead.\n",
            "  scaler = amp.GradScaler()\n"
          ]
        },
        {
          "data": {
            "application/vnd.jupyter.widget-view+json": {
              "model_id": "c9aa2aa41e004b85a02a6ae840330723",
              "version_major": 2,
              "version_minor": 0
            },
            "text/plain": [
              "Running Epoch 1 of 5:   0%|          | 0/2621 [00:00<?, ?it/s]"
            ]
          },
          "metadata": {},
          "output_type": "display_data"
        },
        {
          "name": "stderr",
          "output_type": "stream",
          "text": [
            "/usr/local/lib/python3.11/dist-packages/simpletransformers/classification/classification_model.py:905: FutureWarning: `torch.cuda.amp.autocast(args...)` is deprecated. Please use `torch.amp.autocast('cuda', args...)` instead.\n",
            "  with amp.autocast():\n"
          ]
        },
        {
          "data": {
            "application/vnd.jupyter.widget-view+json": {
              "model_id": "9391aa409f174a7fa2d8d002f0024f96",
              "version_major": 2,
              "version_minor": 0
            },
            "text/plain": [
              "Running Epoch 2 of 5:   0%|          | 0/2621 [00:00<?, ?it/s]"
            ]
          },
          "metadata": {},
          "output_type": "display_data"
        },
        {
          "data": {
            "application/vnd.jupyter.widget-view+json": {
              "model_id": "f8733c4055e147a19dfcc19f5de8f2c3",
              "version_major": 2,
              "version_minor": 0
            },
            "text/plain": [
              "Running Epoch 3 of 5:   0%|          | 0/2621 [00:00<?, ?it/s]"
            ]
          },
          "metadata": {},
          "output_type": "display_data"
        },
        {
          "data": {
            "application/vnd.jupyter.widget-view+json": {
              "model_id": "8ff6c8b108fa484096d3b657faa6dac7",
              "version_major": 2,
              "version_minor": 0
            },
            "text/plain": [
              "Running Epoch 4 of 5:   0%|          | 0/2621 [00:00<?, ?it/s]"
            ]
          },
          "metadata": {},
          "output_type": "display_data"
        },
        {
          "data": {
            "application/vnd.jupyter.widget-view+json": {
              "model_id": "925b45f47666430c97e52015f3d2d0d8",
              "version_major": 2,
              "version_minor": 0
            },
            "text/plain": [
              "Running Epoch 5 of 5:   0%|          | 0/2621 [00:00<?, ?it/s]"
            ]
          },
          "metadata": {},
          "output_type": "display_data"
        }
      ],
      "source": [
        "model_path_e6 = \"/content/drive/MyDrive/VU Thesis/Code/baby_models/V20L4/model_e6_v20_l4\"\n",
        "model_name_e6 = \"v20_l4_e6\"\n",
        "model_e6 = fine_tune_model(model_path_e6, train_df, save_path, model_name_e6, rand_seed)"
      ]
    },
    {
      "cell_type": "code",
      "execution_count": null,
      "metadata": {
        "colab": {
          "base_uri": "https://localhost:8080/",
          "height": 937,
          "referenced_widgets": [
            "d103b3b1f30546518d6644fbdf23cec4",
            "7201a97ad8eb47ef9253c72cf75e7baf",
            "57c515a3cfce4c93aea55bd13be75a89",
            "769e3f8afaa94699830ff78088ee974c",
            "8d03bbbe58ee48508c4cd0c509fa5e12",
            "44e8006261304b64b4f6380d7618ac62",
            "a56625ed2c534c6da9dbcca3fe8fcfbd",
            "d4ef2c3ba6b14d90b21d44d7c786b2b9",
            "1a824954c8d94f7bb2994625ab59765f",
            "0b08648dda36417a8b17987648ab87fc",
            "4e26f057a2b34639967740075cc1f77c",
            "9abeed7545814b1984fbd53d527cf976",
            "07d91a3ca91a408fb62bf4d993040923",
            "3ce93e7d797544788332f05174848afd",
            "9ce2f0c9f09f4cf194ce86e3376e2afa",
            "51d68aac589647f5af8905aafd272dab",
            "b0af35c913134000ae3636a35dc95442",
            "9d17ce2a70574b7094199433a481226d",
            "40d51d3946d64d20bc530322357f626a",
            "7834151d5bd0431db7e8f4d3e36401dc",
            "86c0f093e83b42fb801d8cd10fa2d35e",
            "dcb27ea9749a43caaf7933c5a6b3375a"
          ]
        },
        "id": "_Q_mDi6UpUwX",
        "outputId": "e2fd323e-2f43-4fe4-f1e6-7e9ac1126717"
      },
      "outputs": [
        {
          "data": {
            "application/vnd.jupyter.widget-view+json": {
              "model_id": "d103b3b1f30546518d6644fbdf23cec4",
              "version_major": 2,
              "version_minor": 0
            },
            "text/plain": [
              "  0%|          | 0/13 [00:00<?, ?it/s]"
            ]
          },
          "metadata": {},
          "output_type": "display_data"
        },
        {
          "data": {
            "application/vnd.jupyter.widget-view+json": {
              "model_id": "9abeed7545814b1984fbd53d527cf976",
              "version_major": 2,
              "version_minor": 0
            },
            "text/plain": [
              "  0%|          | 0/70 [00:00<?, ?it/s]"
            ]
          },
          "metadata": {},
          "output_type": "display_data"
        },
        {
          "name": "stderr",
          "output_type": "stream",
          "text": [
            "/usr/local/lib/python3.11/dist-packages/simpletransformers/classification/classification_model.py:2188: FutureWarning: `torch.cuda.amp.autocast(args...)` is deprecated. Please use `torch.amp.autocast('cuda', args...)` instead.\n",
            "  with amp.autocast():\n"
          ]
        },
        {
          "name": "stdout",
          "output_type": "stream",
          "text": [
            "['DET', 'G', 'PREP', 'SVA']\n",
            "precision_recall_f1-score\n",
            "['DET', 'G', 'PREP', 'SVA']\n",
            "              precision    recall f0.5-score   support\n",
            "\n",
            "         DET      0.995     1.000     0.996      1508\n",
            "           G      0.920     0.828     0.900      3494\n",
            "        PREP      0.553     0.776     0.587       879\n",
            "         SVA      0.960     0.948     0.957      1107\n",
            "\n",
            "    accuracy                          0.878      6988\n",
            "   macro avg      0.857     0.888     0.860      6988\n",
            "weighted avg      0.896     0.878     0.890      6988\n",
            "\n",
            "Confusion matrix\n",
            "['DET', 'G', 'PREP', 'SVA']\n",
            "[[1508    0    0    0]\n",
            " [   8 2893  551   42]\n",
            " [   0  195  682    2]\n",
            " [   0   58    0 1049]]\n"
          ]
        },
        {
          "data": {
            "image/png": "[encoded data removed]",
            "text/plain": [
              "<Figure size 640x480 with 2 Axes>"
            ]
          },
          "metadata": {},
          "output_type": "display_data"
        }
      ],
      "source": [
        "model_e6_path = '/content/drive/MyDrive/VU Thesis/Code/fine_tune/models/fine_tuned_v20_l4_e6_model'\n",
        "\n",
        "preds_e6 = predict_model(model_e6_path, test_data)\n",
        "# report = classification_report_f0_5(test_df.labels.tolist(), preds) #, output_dict=True)\n",
        "target_names = ['DET', 'G', 'PREP','SVA']\n",
        "# target_names = ['G', 'PREP', 'DET','SVA']\n",
        "report_e6, cf_matrix_e6 = fine_tune_eval(gold_labels, preds_e6, target_names)\n",
        "df_e6 = save_model_preds(test_df, preds_e6, outfile_path, 'v20_l4_e6')"
      ]
    },
    {
      "cell_type": "markdown",
      "metadata": {
        "id": "vwC9zAoUpVNw"
      },
      "source": [
        "#### E7"
      ]
    },
    {
      "cell_type": "code",
      "execution_count": null,
      "metadata": {
        "colab": {
          "base_uri": "https://localhost:8080/",
          "height": 383,
          "referenced_widgets": [
            "446d11ff966640c5ab1cec00db073c9f",
            "0c95570334054edf96b41e04ee40d4db",
            "638fad34e5bf43e295256df84c7211a6",
            "109de407ad1541419173bf99820749ee",
            "438a57f417c04a6095eb3d1d2db37e21",
            "4f907e5ed2364a16bb6a078d77ba78ab",
            "e9643d44b2614db3862f2d168ad50d4d",
            "b12df69941fe4c909b255618b3754ba6",
            "ca713db8301843ecb62ae674d972f175",
            "7a34207a76df49f09c66bcaf05d458e0",
            "cc96e1e081e54bde85996591c72cb136",
            "11f2d36bf742401281491b3766b17b16",
            "0d31840e1d5d413fbbef46831ef78505",
            "8c7cf56dc1444e6eaf98d6cce6cebd29",
            "6959221f708c4fb6811d621ad2767d3e",
            "8faef2b6046e4ce8bb00ec52c0dc9656",
            "4c5bc3adafec4943a24480775a469c75",
            "4c7962756f2a4403921e5b63d6666921",
            "82512c950411461c816f488feb029807",
            "fd8e830b89d8457a909446da88c5f64f",
            "9a9f9479ea90450985e848fdea2c8ed7",
            "658287cb457a45c0b88f2cd4775809ba",
            "37f25c781ca741c7ae23373704cf2041",
            "49ea3c23738941f98c1f897530f34866",
            "ceef9ae191c54062a066990f6a688ef3",
            "4701fa137b324123b66ebafccbfc886f",
            "2c3ef07d5b1a486594986c9e8ef55c9d",
            "240669bda3964ffa85a0b4e27773cc76",
            "c4dd9e4c769b41109bd5aa364d15bd41",
            "f5221e3e57c949448059d92beaeea30e",
            "f4fb608833584d90a4a5276ba076c3ad",
            "3e1ff9817c154adf97997fc274bc0ec1",
            "488901cbf9b545b8874108e8fe54ff26",
            "d0b32ae72b384e67a6b109cb332d30ba",
            "d74df9e287bf40d38213c684ce6b8847",
            "6622d90662bf4c9bb7904da7fb4f0813",
            "c9e0cc2a51d54d71b6b62b31194424e6",
            "20f3497101814101964e00c85343c920",
            "55386547787f488f966986661ef9e218",
            "04049662c32345fcaf6d3f2647fb50dc",
            "8b777fc7a45345a79310a820e0d2f22c",
            "014c8f743bba42fd8545df6c815ae981",
            "11f309b0e401474fb45a5197be4713f6",
            "c7aaf6e12965447584aebf3dc5f438f2",
            "7b39b9964b58444b9cdbcfd3b7f45dc5",
            "018d8a13a92944f793e39a6b2c13f79c",
            "558abcede958439ba2b20c529569c9e5",
            "f9fdc9317df54891a40b5fdb37c486b2",
            "0c1278603b794684988529f61ed33910",
            "607b01f377194777a594d17e1edfe48d",
            "ed922c0e60b5488ea5bbff7dfc72f29a",
            "4ea0cb6a588d472f9fa96765b01e5a67",
            "d847883cb49e4286bf3abe01225b9be8",
            "e6c8512403c2480c9ba7faa8a5d7e00a",
            "aaec4e2c59bb4a7595b8d12a4b22dbfc",
            "eb54ab33c7fd4aef99eb0bdb0683a067",
            "28fc3591fd5b465b9f086ff4fcd1bf78",
            "66d08c3cbdc04c8ab40a166c0582f018",
            "ecd589107fe0462c81a2cf1c80bfc771",
            "3d04b3a945d047d3b478baccfd46bb88",
            "118858e067a04b87955097f3727245bf",
            "9f3f2941746949078c3f15c3060f9919",
            "8de3b697f3e84f2a9ce494a919479018",
            "ce113686603a4c0f839a3d0f00b0a92a",
            "b0a989d51b034cdb8f529c47bbc56542",
            "f491b4fb648b40a39880c0c9c4cde5cf",
            "0a02b19f326448fe906c917ce380178f",
            "43e1edbaf15b4e86a6bff1b925c5cda3",
            "86b6ec040c664468a7798ba8dccecec6",
            "3e4bb16aefc245b68e9358fa10ce1939",
            "6a1046e20ff145c683c7342ef7747066",
            "2a69f29c0a664e8d86bd80b55beb6ec8",
            "ba5942a24415485cb9b58e527d5687dd",
            "7a96b19a1c5840ee822547d0b182ac9a",
            "63b66ec6a3134e7faf39eb238ac4f9aa",
            "da63e31368144e2a8d885bde9fa761ba",
            "aaacecc7bec64d999c3144d72ffaf263"
          ]
        },
        "id": "Lnum0vU9jshy",
        "outputId": "f1257a50-c7ee-41f6-b394-e46aa7127564"
      },
      "outputs": [
        {
          "name": "stderr",
          "output_type": "stream",
          "text": [
            "Some weights of RobertaForSequenceClassification were not initialized from the model checkpoint at /content/drive/MyDrive/VU Thesis/Code/baby_models/V20L4/model_e7_v20_l4 and are newly initialized: ['classifier.dense.bias', 'classifier.dense.weight', 'classifier.out_proj.bias', 'classifier.out_proj.weight']\n",
            "You should probably TRAIN this model on a down-stream task to be able to use it for predictions and inference.\n"
          ]
        },
        {
          "name": "stdout",
          "output_type": "stream",
          "text": [
            "seed: 464\n"
          ]
        },
        {
          "data": {
            "application/vnd.jupyter.widget-view+json": {
              "model_id": "446d11ff966640c5ab1cec00db073c9f",
              "version_major": 2,
              "version_minor": 0
            },
            "text/plain": [
              "  0%|          | 0/41 [00:00<?, ?it/s]"
            ]
          },
          "metadata": {},
          "output_type": "display_data"
        },
        {
          "data": {
            "application/vnd.jupyter.widget-view+json": {
              "model_id": "11f2d36bf742401281491b3766b17b16",
              "version_major": 2,
              "version_minor": 0
            },
            "text/plain": [
              "Epoch:   0%|          | 0/5 [00:00<?, ?it/s]"
            ]
          },
          "metadata": {},
          "output_type": "display_data"
        },
        {
          "name": "stderr",
          "output_type": "stream",
          "text": [
            "/usr/local/lib/python3.11/dist-packages/simpletransformers/classification/classification_model.py:882: FutureWarning: `torch.cuda.amp.GradScaler(args...)` is deprecated. Please use `torch.amp.GradScaler('cuda', args...)` instead.\n",
            "  scaler = amp.GradScaler()\n"
          ]
        },
        {
          "data": {
            "application/vnd.jupyter.widget-view+json": {
              "model_id": "37f25c781ca741c7ae23373704cf2041",
              "version_major": 2,
              "version_minor": 0
            },
            "text/plain": [
              "Running Epoch 1 of 5:   0%|          | 0/2621 [00:00<?, ?it/s]"
            ]
          },
          "metadata": {},
          "output_type": "display_data"
        },
        {
          "name": "stderr",
          "output_type": "stream",
          "text": [
            "/usr/local/lib/python3.11/dist-packages/simpletransformers/classification/classification_model.py:905: FutureWarning: `torch.cuda.amp.autocast(args...)` is deprecated. Please use `torch.amp.autocast('cuda', args...)` instead.\n",
            "  with amp.autocast():\n"
          ]
        },
        {
          "data": {
            "application/vnd.jupyter.widget-view+json": {
              "model_id": "d0b32ae72b384e67a6b109cb332d30ba",
              "version_major": 2,
              "version_minor": 0
            },
            "text/plain": [
              "Running Epoch 2 of 5:   0%|          | 0/2621 [00:00<?, ?it/s]"
            ]
          },
          "metadata": {},
          "output_type": "display_data"
        },
        {
          "data": {
            "application/vnd.jupyter.widget-view+json": {
              "model_id": "7b39b9964b58444b9cdbcfd3b7f45dc5",
              "version_major": 2,
              "version_minor": 0
            },
            "text/plain": [
              "Running Epoch 3 of 5:   0%|          | 0/2621 [00:00<?, ?it/s]"
            ]
          },
          "metadata": {},
          "output_type": "display_data"
        },
        {
          "data": {
            "application/vnd.jupyter.widget-view+json": {
              "model_id": "eb54ab33c7fd4aef99eb0bdb0683a067",
              "version_major": 2,
              "version_minor": 0
            },
            "text/plain": [
              "Running Epoch 4 of 5:   0%|          | 0/2621 [00:00<?, ?it/s]"
            ]
          },
          "metadata": {},
          "output_type": "display_data"
        },
        {
          "data": {
            "application/vnd.jupyter.widget-view+json": {
              "model_id": "0a02b19f326448fe906c917ce380178f",
              "version_major": 2,
              "version_minor": 0
            },
            "text/plain": [
              "Running Epoch 5 of 5:   0%|          | 0/2621 [00:00<?, ?it/s]"
            ]
          },
          "metadata": {},
          "output_type": "display_data"
        }
      ],
      "source": [
        "model_path_e7 = \"/content/drive/MyDrive/VU Thesis/Code/baby_models/V20L4/model_e7_v20_l4\"\n",
        "model_name_e7 = \"v20_l4_e7\"\n",
        "model_e7 = fine_tune_model(model_path_e7, train_df, save_path, model_name_e7, rand_seed)"
      ]
    },
    {
      "cell_type": "code",
      "execution_count": null,
      "metadata": {
        "colab": {
          "base_uri": "https://localhost:8080/",
          "height": 937,
          "referenced_widgets": [
            "77ff6a059eaa4aedae04715c8a14e28e",
            "239ac462b38c46d6ad74eab69d667cab",
            "255f71d2ec5f4149923c1236027965e7",
            "b3b3542ad62a48e6ba14286be3d9b847",
            "7831c494537841c193bd1201ae9cf7ce",
            "09ce2ca8311d41fb86d7f5b0ffb16792",
            "7662e92a91104ac0b9417edcd2ab54eb",
            "95a63c427b294c21ad71aa3e4af330a1",
            "ac1f18e2e49746efb145edc20899fd2c",
            "cce3b6b45b864ce896b061a698d8ac83",
            "323b7e280f054dc786cac9fdd7d995be",
            "13679bd33b044ea8964126235415bc78",
            "b97d781122c342e0bad907437dc7b0dc",
            "b74d350eef624fb1a97e6e932c965e73",
            "5dd6963b5a9d477e8727265442173e0c",
            "6422c2d3829e41cd9fde9fb6a2e81292",
            "9c61f37da8d34000b7001e8e8dea1a3e",
            "39033f0f578a459e91d058699d5e4e9a",
            "6d67df09cbef4f76991c0303e5ba0874",
            "9c2f34b24ab8435494a45bf0826f8b6e",
            "fe3937c797244031a84fc2ac2860c32d",
            "2398120792244ceaacb4ad7e91eec712"
          ]
        },
        "id": "mlVUMC_lpWJH",
        "outputId": "d886d4cc-e3e3-4950-a719-93b9f2e736a8"
      },
      "outputs": [
        {
          "data": {
            "application/vnd.jupyter.widget-view+json": {
              "model_id": "77ff6a059eaa4aedae04715c8a14e28e",
              "version_major": 2,
              "version_minor": 0
            },
            "text/plain": [
              "  0%|          | 0/13 [00:00<?, ?it/s]"
            ]
          },
          "metadata": {},
          "output_type": "display_data"
        },
        {
          "data": {
            "application/vnd.jupyter.widget-view+json": {
              "model_id": "13679bd33b044ea8964126235415bc78",
              "version_major": 2,
              "version_minor": 0
            },
            "text/plain": [
              "  0%|          | 0/70 [00:00<?, ?it/s]"
            ]
          },
          "metadata": {},
          "output_type": "display_data"
        },
        {
          "name": "stderr",
          "output_type": "stream",
          "text": [
            "/usr/local/lib/python3.11/dist-packages/simpletransformers/classification/classification_model.py:2188: FutureWarning: `torch.cuda.amp.autocast(args...)` is deprecated. Please use `torch.amp.autocast('cuda', args...)` instead.\n",
            "  with amp.autocast():\n"
          ]
        },
        {
          "name": "stdout",
          "output_type": "stream",
          "text": [
            "['DET', 'G', 'PREP', 'SVA']\n",
            "precision_recall_f1-score\n",
            "['DET', 'G', 'PREP', 'SVA']\n",
            "              precision    recall f0.5-score   support\n",
            "\n",
            "         DET      0.994     1.000     0.995      1508\n",
            "           G      0.921     0.826     0.900      3494\n",
            "        PREP      0.549     0.776     0.583       879\n",
            "         SVA      0.962     0.950     0.960      1107\n",
            "\n",
            "    accuracy                          0.877      6988\n",
            "   macro avg      0.856     0.888     0.860      6988\n",
            "weighted avg      0.896     0.877     0.890      6988\n",
            "\n",
            "Confusion matrix\n",
            "['DET', 'G', 'PREP', 'SVA']\n",
            "[[1508    0    0    0]\n",
            " [   7 2886  561   40]\n",
            " [   1  195  682    1]\n",
            " [   1   54    0 1052]]\n"
          ]
        },
        {
          "data": {
            "image/png": "[encoded data removed]",
            "text/plain": [
              "<Figure size 640x480 with 2 Axes>"
            ]
          },
          "metadata": {},
          "output_type": "display_data"
        }
      ],
      "source": [
        "model_e7_path = '/content/drive/MyDrive/VU Thesis/Code/fine_tune/models/fine_tuned_v20_l4_e7_model'\n",
        "\n",
        "preds_e7 = predict_model(model_e7_path, test_data)\n",
        "# report = classification_report_f0_5(test_df.labels.tolist(), preds) #, output_dict=True)\n",
        "target_names = ['DET', 'G', 'PREP','SVA']\n",
        "# target_names = ['G', 'PREP', 'DET','SVA']\n",
        "report_e7, cf_matrix_e7 = fine_tune_eval(gold_labels, preds_e7, target_names)\n",
        "df_e7 = save_model_preds(test_df, preds_e7, outfile_path, 'v20_l4_e7')"
      ]
    },
    {
      "cell_type": "markdown",
      "metadata": {
        "id": "TihlCkCWpWcX"
      },
      "source": [
        "#### E8"
      ]
    },
    {
      "cell_type": "code",
      "execution_count": null,
      "metadata": {
        "colab": {
          "base_uri": "https://localhost:8080/",
          "height": 383,
          "referenced_widgets": [
            "b729251f6770493c88c6c5d89e8104ed",
            "1053f2d2bb1346078bc6100176eec097",
            "af80b3e2b4624a4ba1cbd3b7eebaef41",
            "7f1e9c798d1449769d9b042a22a9b661",
            "9d49df961fcd4e74a7cfa9f485e7638b",
            "b1dee9fec1de463a992ae68ec0ff6ce7",
            "3f6943d52af94879a18a90f92925f006",
            "69fc1a2b3da842099b65b497172c892f",
            "123fd62904154afa9d0eff50d853c7d9",
            "efb5c401e3c640988c573dba96d8f5f9",
            "0ed317942a12465291ad5125bdbde3c0",
            "4aef3708916541b38bd7a5550d570d4f",
            "c445217c314c412a90c722d2bff0498e",
            "f1f009ac4d2b4e5389b74ecdb3ce6a3c",
            "e24ddfaae54647e3aabfd91261ca79a5",
            "bb854f3d85664a6d940563d4be2c685a",
            "1203d78c99c74861bdff9f7d1adccdd1",
            "b76e2b36021342c4adca4fede7b2dbca",
            "9c161cf221fe4c28861ecd194a2252ca",
            "4dae812d7e1c4b399eb2a65bb8532fc4",
            "5fa8b78753e0423ba570c607fee6df62",
            "1c591998e2a0428ca4c149145f092d15",
            "28e1a1fa61a848b1bb04443eb16558da",
            "fa534fef1c284542973668bc933a0eff",
            "5f0dabccbd314d4fadd2dea14c99f4d4",
            "98c7c8825b484c50b14e1ca6bf649782",
            "4d8722cf671a4844bc16deb932b52fd8",
            "11877196f65646898305ec14e4b87561",
            "7075e2c1bfa849d1ab2ce7fb83e7c775",
            "5580d72764a841faabfe53640d3b3d77",
            "b87db70cfd7f4648a7310481c5e1a556",
            "04207d12cae64a04a30d12db8e0e4850",
            "ef1e812420c44f1ab8a5cfc3c6fbc35c",
            "538655497efc4014b8b90f906b0fa613",
            "5835b455f439422cb5de8fd45ec6eea6",
            "468dbddd0cd94fa4931f9a884b10ce98",
            "9a42a94e36f54001b35cd914ecc0e2be",
            "c616e147c3e64e7dab1e56b922e13021",
            "f58d15021b6a4d6aaf5a4e6ab3478c29",
            "8aff4977a24d4a0ca1fbc799409955e5",
            "2b555efc1e694ab4a2ebf974dda72068",
            "e029ff0874a14ecc9b3039f65f7f3a0a",
            "aeb3efc6dd8d4c14be763362e8a44280",
            "47fcc06c44d740eaafbb21948639e242",
            "3fcf5a0deaf147ef811d06a239920301",
            "6568f9a1b1ed4bbe896df87106438c53",
            "d6988818722f4b6dbacd1fd63e0afa6f",
            "63e95547c30145559e9afc5904581fbe",
            "387ff718d3834c02afb383a5d16f5fd2",
            "ecb21522cbf94060aa241a08b150663d",
            "8bf826ff3e2b4170bfa346ce080aca51",
            "057a03d24fb247d4b27420e4b98bb293",
            "2374e9b28e054ec58e54b15a2ecea56e",
            "32d9bb1a9327474696982bf164f9d2b3",
            "cbdcf44151dd459891fe1b1e69ccb97f",
            "918eb3bf9c044ac8899fead56ae84f65",
            "bb1b3eb18d80438b89bfb7e726a9403e",
            "7a65e3448bc1442192281f6153e58572",
            "804fe8bd7d514201a5ad8ccee27a092b",
            "42952af4327c42f9a30b8fda78f71969",
            "0d4b29408a5a41b1afaf2acc8f00c21b",
            "b82df02ff8ee4ccc968cf5995a8ae871",
            "2a8a1a049a054d32802005016d872b7e",
            "d9b59db2c93a4f77a05c196f4624f555",
            "2b6ef8a0f5f04560a69426f8e710d487",
            "fda88939a2ab4695add5ff561547b008",
            "64f3c3379ded406ea0135dfa049d4416",
            "88f208b2ad244388907b8dfeb14c6a93",
            "8e07d7fbd3384acba11f289cbc93d75d",
            "e24a45c1e922449f80f94c7284f5f034",
            "af0365198b9341f589be91a7fcb377bc",
            "a1e30370f0e24158906f52fb2f3ff5b1",
            "7a52598c77b54302870a7ee3dc527972",
            "71a02de76a3344b6a90704b9e3ce4347",
            "427c3e5002ba487fb69292e659da35ce",
            "73f72aaa63e346ce86ba65060743a212",
            "04ee77d128ea477e9487efd8baa32032"
          ]
        },
        "id": "I7UR8jcTj0Vm",
        "outputId": "f143d35f-b29c-4a4b-828d-33bdba11700b"
      },
      "outputs": [
        {
          "name": "stdout",
          "output_type": "stream",
          "text": [
            "seed: 464\n"
          ]
        },
        {
          "name": "stderr",
          "output_type": "stream",
          "text": [
            "Some weights of RobertaForSequenceClassification were not initialized from the model checkpoint at /content/drive/MyDrive/VU Thesis/Code/baby_models/V20L4/model_e8_v20_l4 and are newly initialized: ['classifier.dense.bias', 'classifier.dense.weight', 'classifier.out_proj.bias', 'classifier.out_proj.weight']\n",
            "You should probably TRAIN this model on a down-stream task to be able to use it for predictions and inference.\n"
          ]
        },
        {
          "data": {
            "application/vnd.jupyter.widget-view+json": {
              "model_id": "b729251f6770493c88c6c5d89e8104ed",
              "version_major": 2,
              "version_minor": 0
            },
            "text/plain": [
              "  0%|          | 0/41 [00:00<?, ?it/s]"
            ]
          },
          "metadata": {},
          "output_type": "display_data"
        },
        {
          "data": {
            "application/vnd.jupyter.widget-view+json": {
              "model_id": "4aef3708916541b38bd7a5550d570d4f",
              "version_major": 2,
              "version_minor": 0
            },
            "text/plain": [
              "Epoch:   0%|          | 0/5 [00:00<?, ?it/s]"
            ]
          },
          "metadata": {},
          "output_type": "display_data"
        },
        {
          "name": "stderr",
          "output_type": "stream",
          "text": [
            "/usr/local/lib/python3.11/dist-packages/simpletransformers/classification/classification_model.py:882: FutureWarning: `torch.cuda.amp.GradScaler(args...)` is deprecated. Please use `torch.amp.GradScaler('cuda', args...)` instead.\n",
            "  scaler = amp.GradScaler()\n"
          ]
        },
        {
          "data": {
            "application/vnd.jupyter.widget-view+json": {
              "model_id": "28e1a1fa61a848b1bb04443eb16558da",
              "version_major": 2,
              "version_minor": 0
            },
            "text/plain": [
              "Running Epoch 1 of 5:   0%|          | 0/2621 [00:00<?, ?it/s]"
            ]
          },
          "metadata": {},
          "output_type": "display_data"
        },
        {
          "name": "stderr",
          "output_type": "stream",
          "text": [
            "/usr/local/lib/python3.11/dist-packages/simpletransformers/classification/classification_model.py:905: FutureWarning: `torch.cuda.amp.autocast(args...)` is deprecated. Please use `torch.amp.autocast('cuda', args...)` instead.\n",
            "  with amp.autocast():\n"
          ]
        },
        {
          "data": {
            "application/vnd.jupyter.widget-view+json": {
              "model_id": "538655497efc4014b8b90f906b0fa613",
              "version_major": 2,
              "version_minor": 0
            },
            "text/plain": [
              "Running Epoch 2 of 5:   0%|          | 0/2621 [00:00<?, ?it/s]"
            ]
          },
          "metadata": {},
          "output_type": "display_data"
        },
        {
          "data": {
            "application/vnd.jupyter.widget-view+json": {
              "model_id": "3fcf5a0deaf147ef811d06a239920301",
              "version_major": 2,
              "version_minor": 0
            },
            "text/plain": [
              "Running Epoch 3 of 5:   0%|          | 0/2621 [00:00<?, ?it/s]"
            ]
          },
          "metadata": {},
          "output_type": "display_data"
        },
        {
          "data": {
            "application/vnd.jupyter.widget-view+json": {
              "model_id": "918eb3bf9c044ac8899fead56ae84f65",
              "version_major": 2,
              "version_minor": 0
            },
            "text/plain": [
              "Running Epoch 4 of 5:   0%|          | 0/2621 [00:00<?, ?it/s]"
            ]
          },
          "metadata": {},
          "output_type": "display_data"
        },
        {
          "data": {
            "application/vnd.jupyter.widget-view+json": {
              "model_id": "64f3c3379ded406ea0135dfa049d4416",
              "version_major": 2,
              "version_minor": 0
            },
            "text/plain": [
              "Running Epoch 5 of 5:   0%|          | 0/2621 [00:00<?, ?it/s]"
            ]
          },
          "metadata": {},
          "output_type": "display_data"
        }
      ],
      "source": [
        "model_path_e8 = \"/content/drive/MyDrive/VU Thesis/Code/baby_models/V20L4/model_e8_v20_l4\"\n",
        "model_name_e8 = \"v20_l4_e8\"\n",
        "model_e8 = fine_tune_model(model_path_e8, train_df, save_path, model_name_e8, rand_seed)"
      ]
    },
    {
      "cell_type": "code",
      "execution_count": null,
      "metadata": {
        "colab": {
          "base_uri": "https://localhost:8080/",
          "height": 937,
          "referenced_widgets": [
            "ded88eeb6a694509be72e3c07a0288a7",
            "f817b9031e194d709d366d685640c902",
            "1641e9b8ecfd42d7923d9523d8d2d0ea",
            "c21903eea014425884fe50084f091648",
            "1cdf3fe67bb54b46979008bf4624ae3f",
            "4062fdb92cbe43bdb290d2c9441e4425",
            "a97ae7b09f044721aa0d3d8b41ffb702",
            "d3c1cf0684b446e59502f04d49613bca",
            "cae3344ab5f344eab113f808370be3d0",
            "5de64c8536ce487c91f94f8381f7313f",
            "19e83fe9192d443580f1f8a3bb9227e8",
            "84093f6d230e4aa988f1bdb007e22285",
            "c9553cb40b80499ca2ae6d90d739e2ed",
            "5959f580a8e141eaa9ab65e12634f406",
            "32600f1faaa84177a4612f4626646853",
            "18bcd3d3e78848689ba8680af5fdaa07",
            "aabc253c9bb340b380735debd49bf0b4",
            "df5f08e04fad4c98b26b870168a0f967",
            "cde14326e9a54c79ad4bf934fa991538",
            "e0af9ebcedf14300afa23ae2257a3f1c",
            "5d1c16f9b95d4bc3a85d70363960cd3d",
            "19a27777b1d148c6b69bb895f562896e"
          ]
        },
        "id": "88OjUN7zpXb9",
        "outputId": "8ebd5a46-d3b1-42ea-cb8b-1120e8a0127f"
      },
      "outputs": [
        {
          "data": {
            "application/vnd.jupyter.widget-view+json": {
              "model_id": "ded88eeb6a694509be72e3c07a0288a7",
              "version_major": 2,
              "version_minor": 0
            },
            "text/plain": [
              "  0%|          | 0/13 [00:00<?, ?it/s]"
            ]
          },
          "metadata": {},
          "output_type": "display_data"
        },
        {
          "data": {
            "application/vnd.jupyter.widget-view+json": {
              "model_id": "84093f6d230e4aa988f1bdb007e22285",
              "version_major": 2,
              "version_minor": 0
            },
            "text/plain": [
              "  0%|          | 0/70 [00:00<?, ?it/s]"
            ]
          },
          "metadata": {},
          "output_type": "display_data"
        },
        {
          "name": "stderr",
          "output_type": "stream",
          "text": [
            "/usr/local/lib/python3.11/dist-packages/simpletransformers/classification/classification_model.py:2188: FutureWarning: `torch.cuda.amp.autocast(args...)` is deprecated. Please use `torch.amp.autocast('cuda', args...)` instead.\n",
            "  with amp.autocast():\n"
          ]
        },
        {
          "name": "stdout",
          "output_type": "stream",
          "text": [
            "['DET', 'G', 'PREP', 'SVA']\n",
            "precision_recall_f1-score\n",
            "['DET', 'G', 'PREP', 'SVA']\n",
            "              precision    recall f0.5-score   support\n",
            "\n",
            "         DET      0.995     1.000     0.996      1508\n",
            "           G      0.920     0.823     0.899      3494\n",
            "        PREP      0.551     0.793     0.586       879\n",
            "         SVA      0.960     0.937     0.955      1107\n",
            "\n",
            "    accuracy                          0.876      6988\n",
            "   macro avg      0.857     0.888     0.859      6988\n",
            "weighted avg      0.896     0.876     0.890      6988\n",
            "\n",
            "Confusion matrix\n",
            "['DET', 'G', 'PREP', 'SVA']\n",
            "[[1508    0    0    0]\n",
            " [   6 2877  569   42]\n",
            " [   1  180  697    1]\n",
            " [   0   70    0 1037]]\n"
          ]
        },
        {
          "data": {
            "image/png": "[encoded data removed]",
            "text/plain": [
              "<Figure size 640x480 with 2 Axes>"
            ]
          },
          "metadata": {},
          "output_type": "display_data"
        }
      ],
      "source": [
        "model_e8_path = '/content/drive/MyDrive/VU Thesis/Code/fine_tune/models/fine_tuned_v20_l4_e8_model'\n",
        "\n",
        "preds_e8 = predict_model(model_e8_path, test_data)\n",
        "# report = classification_report_f0_5(test_df.labels.tolist(), preds) #, output_dict=True)\n",
        "target_names = ['DET', 'G', 'PREP','SVA']\n",
        "# target_names = ['G', 'PREP', 'DET','SVA']\n",
        "report_e8, cf_matrix_e8 = fine_tune_eval(gold_labels, preds_e8, target_names)\n",
        "df_e8 = save_model_preds(test_df, preds_e8, outfile_path, 'v20_l4_e8')"
      ]
    },
    {
      "cell_type": "markdown",
      "metadata": {
        "id": "FAIcbH8jpX1G"
      },
      "source": [
        "#### E9"
      ]
    },
    {
      "cell_type": "code",
      "execution_count": null,
      "metadata": {
        "colab": {
          "base_uri": "https://localhost:8080/",
          "height": 383,
          "referenced_widgets": [
            "aabb3e2e87c94abe898e2b6b249ed3ee",
            "659d9178a2f049119dbe17776f1b0cfb",
            "ee4dc195711945c6b13670c7ed827a5b",
            "87c7fbc3836d4274ab16003382796ce2",
            "6c09b4a8f7bb4427aa4ce03e319a9dd7",
            "4de52002b9e74d1384d149947ab38b93",
            "889a3e245cb44ddcb10febe71ed767f3",
            "6de1c70ea42247fd81ace9d9f4b49fa6",
            "970c5e2065234b72b60ac30eb354246e",
            "4b9f0e2ecea2459b9a0071a7122dbc56",
            "05f89949661c4ceda83d6b0eef359f90",
            "d3e9fe3515024025924f658cca0284bd",
            "a89ab9aa3a6e4d5fa4701e39ada9c384",
            "5e54c42714b54476b97b596aee236d80",
            "a9a4a1a54a0142d48992a880144c1214",
            "0eb871adbd724279811077bb7f26d692",
            "a054f4e9224543d3a16001fc6c3949ba",
            "c30b0faaba8144628c0fb7d938c2b371",
            "3bc2a2dbcd29416394b69a8931e550fa",
            "5bb1060bb2d04788ba4f06db8a431b98",
            "3e134fc103a546d3b95f20fe425f7b07",
            "cbaa48bd0d744e81b7d0f844faece6e6",
            "ad406b8318274b34afbf05c8fae4b9a8",
            "62891f403ab34b6cb6bd05661f555f8b",
            "0d709355b1ae40f587bbc9073007f09c",
            "b5159033aab14ca6b59d85b38cca0353",
            "0c10fd2cb5cc4ca4a07669c484fb82e0",
            "76ceb3cebc674384afed19fc770f7284",
            "161cbc89008949918c0e88971bd95fab",
            "88403e2fbddd4cec9dc17cef3b4765c8",
            "769d255009f24e3e8d07b66625b368ab",
            "72e62ab1a16844e48703488bc44ac115",
            "303e1a6c7b4241e69d82881711da4595",
            "bb62b0abbdc346b5bccdc6ae4a917c1e",
            "b39f978de713425cba098ccf2c832d3d",
            "07c466f28ac34bbbbf704e258e07f530",
            "0ee56580fa5c4239a7e8d185e0058106",
            "bfeb19c7e0fc4f10b00ab1adf47ffdf0",
            "d03e61a21e59491a9a999257e9811f15",
            "8a78b2aed14546c4a455c3be925fbe5b",
            "4629725583b3453fbdf29455a1d956c4",
            "fe72f22ced954df8b5b78e22fbcb7e03",
            "758992cdb95e41309fe1ef07ba630715",
            "b903bb3c6f4940659ad198579ffca1c8",
            "f956bee3503e4de5a70dd6a4e2d59554",
            "c9290d9c2e974b949a56217258ab098e",
            "136c5eefc46948e4b127db7065ee7b16",
            "87d8fbb4437b464dbdbc4a99826bb4d8",
            "be55134ecc9c4e7ba487abde86019bb7",
            "31906b0e4b69417eb67eb5fc6aadb2d3",
            "52d5570d10724f1db16d102ce778d973",
            "7a11f4dc74c54ee3986fac6e078da179",
            "126fea316d17436e87ab8bbb0b8b8d56",
            "090dfae0af394c02a4011cfc4f3a03f7",
            "fc1d92deefed402da54f210c10d091f5",
            "2c5431f9c2984dcbabd7e784ec5ab1bc",
            "8eb91f018d194008859ed43c13d3fd45",
            "b08867788ff143c4893abaf1e3e43ecb",
            "bbcdef45514d446e8f03161f43b11ac4",
            "d741170aef8e4d33803c30b561dd1a99",
            "1ae2861ab9c9476d8c2df34966e80357",
            "9a1bec890da2493c8f190359313723e9",
            "b5114044b08f4fa7ab74c9fd544a8d27",
            "ad1559c5cff6484cbc97b53ef87b5ef2",
            "a57da4368da54f8eaf1a6cb68b969665",
            "71487acb130b46458285637835827fa2",
            "9690d08bb32546c2a24ba212d46ee437",
            "ce872c78244b426380145e9a1951149b",
            "847dbb23ccc64d06967fa98a08cca131",
            "9d90d6e683984b84ab7dd72171853bb8",
            "ba45429b892d4d0786c194ba29dfc688",
            "0125b27392fe452185e61d85dc89205e",
            "f8994926ad764cdba8b01b81c40af91d",
            "265b1c2405da4392b0d059d98b6a6a45",
            "72a820ba982f42aeb40a9d878b09ea19",
            "57182f98d5a64e75811accc2c9f00899",
            "a0e7b09abebb4ba9a269759f2ac1fe3f"
          ]
        },
        "id": "ugxpnoW0j1il",
        "outputId": "1769a9da-05c4-41e4-c201-e3dceae36b0d"
      },
      "outputs": [
        {
          "name": "stdout",
          "output_type": "stream",
          "text": [
            "seed: 464\n"
          ]
        },
        {
          "name": "stderr",
          "output_type": "stream",
          "text": [
            "Some weights of RobertaForSequenceClassification were not initialized from the model checkpoint at /content/drive/MyDrive/VU Thesis/Code/baby_models/V20L4/model_e9_v20_l4 and are newly initialized: ['classifier.dense.bias', 'classifier.dense.weight', 'classifier.out_proj.bias', 'classifier.out_proj.weight']\n",
            "You should probably TRAIN this model on a down-stream task to be able to use it for predictions and inference.\n"
          ]
        },
        {
          "data": {
            "application/vnd.jupyter.widget-view+json": {
              "model_id": "aabb3e2e87c94abe898e2b6b249ed3ee",
              "version_major": 2,
              "version_minor": 0
            },
            "text/plain": [
              "  0%|          | 0/41 [00:00<?, ?it/s]"
            ]
          },
          "metadata": {},
          "output_type": "display_data"
        },
        {
          "data": {
            "application/vnd.jupyter.widget-view+json": {
              "model_id": "d3e9fe3515024025924f658cca0284bd",
              "version_major": 2,
              "version_minor": 0
            },
            "text/plain": [
              "Epoch:   0%|          | 0/5 [00:00<?, ?it/s]"
            ]
          },
          "metadata": {},
          "output_type": "display_data"
        },
        {
          "name": "stderr",
          "output_type": "stream",
          "text": [
            "/usr/local/lib/python3.11/dist-packages/simpletransformers/classification/classification_model.py:882: FutureWarning: `torch.cuda.amp.GradScaler(args...)` is deprecated. Please use `torch.amp.GradScaler('cuda', args...)` instead.\n",
            "  scaler = amp.GradScaler()\n"
          ]
        },
        {
          "data": {
            "application/vnd.jupyter.widget-view+json": {
              "model_id": "ad406b8318274b34afbf05c8fae4b9a8",
              "version_major": 2,
              "version_minor": 0
            },
            "text/plain": [
              "Running Epoch 1 of 5:   0%|          | 0/2621 [00:00<?, ?it/s]"
            ]
          },
          "metadata": {},
          "output_type": "display_data"
        },
        {
          "name": "stderr",
          "output_type": "stream",
          "text": [
            "/usr/local/lib/python3.11/dist-packages/simpletransformers/classification/classification_model.py:905: FutureWarning: `torch.cuda.amp.autocast(args...)` is deprecated. Please use `torch.amp.autocast('cuda', args...)` instead.\n",
            "  with amp.autocast():\n"
          ]
        },
        {
          "data": {
            "application/vnd.jupyter.widget-view+json": {
              "model_id": "bb62b0abbdc346b5bccdc6ae4a917c1e",
              "version_major": 2,
              "version_minor": 0
            },
            "text/plain": [
              "Running Epoch 2 of 5:   0%|          | 0/2621 [00:00<?, ?it/s]"
            ]
          },
          "metadata": {},
          "output_type": "display_data"
        },
        {
          "data": {
            "application/vnd.jupyter.widget-view+json": {
              "model_id": "f956bee3503e4de5a70dd6a4e2d59554",
              "version_major": 2,
              "version_minor": 0
            },
            "text/plain": [
              "Running Epoch 3 of 5:   0%|          | 0/2621 [00:00<?, ?it/s]"
            ]
          },
          "metadata": {},
          "output_type": "display_data"
        },
        {
          "data": {
            "application/vnd.jupyter.widget-view+json": {
              "model_id": "2c5431f9c2984dcbabd7e784ec5ab1bc",
              "version_major": 2,
              "version_minor": 0
            },
            "text/plain": [
              "Running Epoch 4 of 5:   0%|          | 0/2621 [00:00<?, ?it/s]"
            ]
          },
          "metadata": {},
          "output_type": "display_data"
        },
        {
          "data": {
            "application/vnd.jupyter.widget-view+json": {
              "model_id": "9690d08bb32546c2a24ba212d46ee437",
              "version_major": 2,
              "version_minor": 0
            },
            "text/plain": [
              "Running Epoch 5 of 5:   0%|          | 0/2621 [00:00<?, ?it/s]"
            ]
          },
          "metadata": {},
          "output_type": "display_data"
        }
      ],
      "source": [
        "model_path_e9 = \"/content/drive/MyDrive/VU Thesis/Code/baby_models/V20L4/model_e9_v20_l4\"\n",
        "model_name_e9 = \"v20_l4_e9\"\n",
        "model_e9 = fine_tune_model(model_path_e9, train_df, save_path, model_name_e9, rand_seed)"
      ]
    },
    {
      "cell_type": "code",
      "execution_count": null,
      "metadata": {
        "colab": {
          "base_uri": "https://localhost:8080/",
          "height": 937,
          "referenced_widgets": [
            "3957a7f0678f4d50a15110fea56f7de4",
            "d7b7ecb9ff874f22ba1ee9423532795a",
            "d57dce143ca840399448bbcd1a5d11aa",
            "faaad8b29e814aaa9aebbc317efa7824",
            "036eb9dac3504d6cb8198435145e442b",
            "fe444bc6956946e3a7a7c83884a7ab3d",
            "4e1448e24fc442b08532c09f303d020b",
            "548f1e557a2b48349d6961fbc66d2166",
            "aaf23d4a04f14b98b983e9567ca8b87d",
            "97aa8dea4ed74ef6ae0fb1b332250128",
            "ddce0abcb5d64908942b87da77c9c189",
            "847d805c38184220a23de3998a8e82e6",
            "0c7919b1c81b4ecf9b572652d5ce89f6",
            "d1a7c80ac91d40df88f10aa920781824",
            "ddcc2ebef48b496a8f215a8518c06c89",
            "6eab0805fa1b4931863e07a30eebcb25",
            "8e4a17fe9337435185b32723045b17ad",
            "761f95c14aaf4b9190b4a64d28775966",
            "ba3dc3c2370846deb1be0538bfb6d269",
            "af03a4b0f2f549a0b64f4b56d5d9232a",
            "c8fdfe802581402f95dc4c8003cbf78c",
            "eef9e34c4e3c42ddbb5d5a7a584a24e3"
          ]
        },
        "id": "8gScTMAdpYjw",
        "outputId": "442f9bda-2a8a-4480-8e17-8d9f9666b070"
      },
      "outputs": [
        {
          "data": {
            "application/vnd.jupyter.widget-view+json": {
              "model_id": "3957a7f0678f4d50a15110fea56f7de4",
              "version_major": 2,
              "version_minor": 0
            },
            "text/plain": [
              "  0%|          | 0/13 [00:00<?, ?it/s]"
            ]
          },
          "metadata": {},
          "output_type": "display_data"
        },
        {
          "data": {
            "application/vnd.jupyter.widget-view+json": {
              "model_id": "847d805c38184220a23de3998a8e82e6",
              "version_major": 2,
              "version_minor": 0
            },
            "text/plain": [
              "  0%|          | 0/70 [00:00<?, ?it/s]"
            ]
          },
          "metadata": {},
          "output_type": "display_data"
        },
        {
          "name": "stderr",
          "output_type": "stream",
          "text": [
            "/usr/local/lib/python3.11/dist-packages/simpletransformers/classification/classification_model.py:2188: FutureWarning: `torch.cuda.amp.autocast(args...)` is deprecated. Please use `torch.amp.autocast('cuda', args...)` instead.\n",
            "  with amp.autocast():\n"
          ]
        },
        {
          "name": "stdout",
          "output_type": "stream",
          "text": [
            "['DET', 'G', 'PREP', 'SVA']\n",
            "precision_recall_f1-score\n",
            "['DET', 'G', 'PREP', 'SVA']\n",
            "              precision    recall f0.5-score   support\n",
            "\n",
            "         DET      0.993     1.000     0.994      1508\n",
            "           G      0.922     0.827     0.901      3494\n",
            "        PREP      0.557     0.787     0.591       879\n",
            "         SVA      0.960     0.946     0.957      1107\n",
            "\n",
            "    accuracy                          0.878      6988\n",
            "   macro avg      0.858     0.890     0.861      6988\n",
            "weighted avg      0.897     0.878     0.891      6988\n",
            "\n",
            "Confusion matrix\n",
            "['DET', 'G', 'PREP', 'SVA']\n",
            "[[1508    0    0    0]\n",
            " [  10 2890  551   43]\n",
            " [   0  186  692    1]\n",
            " [   1   59    0 1047]]\n"
          ]
        },
        {
          "data": {
            "image/png": "[encoded data removed]",
            "text/plain": [
              "<Figure size 640x480 with 2 Axes>"
            ]
          },
          "metadata": {},
          "output_type": "display_data"
        }
      ],
      "source": [
        "model_e9_path = '/content/drive/MyDrive/VU Thesis/Code/fine_tune/models/fine_tuned_v20_l4_e9_model'\n",
        "\n",
        "preds_e9 = predict_model(model_e9_path, test_data)\n",
        "# report = classification_report_f0_5(test_df.labels.tolist(), preds) #, output_dict=True)\n",
        "target_names = ['DET', 'G', 'PREP','SVA']\n",
        "# target_names = ['G', 'PREP', 'DET','SVA']\n",
        "report_e9, cf_matrix_e9 = fine_tune_eval(gold_labels, preds_e9, target_names)\n",
        "df_e9 = save_model_preds(test_df, preds_e9, outfile_path, 'v20_l4_e9')"
      ]
    },
    {
      "cell_type": "markdown",
      "metadata": {
        "id": "Er4BtOLWpY8C"
      },
      "source": [
        "#### E10"
      ]
    },
    {
      "cell_type": "code",
      "execution_count": null,
      "metadata": {
        "colab": {
          "base_uri": "https://localhost:8080/",
          "height": 383,
          "referenced_widgets": [
            "0f18ae86da974569b02583c5bd9cac35",
            "b02bce0f885c43c685bba20f31934c75",
            "4fde436846b8499490de68661afe3327",
            "fd090b94a84f426595fdfba6fe34a8f9",
            "1b285f2e57ee4696b898e856feeb55b6",
            "5e288862d47d4e53a76807d6b37f60ea",
            "42d95dfa73354094b94fa15e004943f8",
            "70ea28807a2340eeb6cfb23b9430024e",
            "ec96478cc5164c0cb3d8731a2a196103",
            "b53cb87ae6584d27926bf1ba1a23b844",
            "aa5b7abe28c9486f89cca37084dbf6f3",
            "5d851794f3b942d193059bff335e4e07",
            "bcd1fbb551694998bde3a9577ac15383",
            "496116abae634fd39b108b694f9e0043",
            "c8bd87fb875c43ae9507ec605526f122",
            "541b8306b28144d191a9e1e6c6fd674d",
            "8120e395d0b54161837e6757d956f7bd",
            "fab875347ef0429b97d18a266935f3e9",
            "149f424e4ec54884bb022352eefc536b",
            "ae2bb2fd3f9146b39f7b28400114ccdc",
            "6555fe4d8b9c4c7593e5393e6c9a39c9",
            "daca4a0b93f04ba28d6caedde45d1891",
            "abec8e88a0a74ef49c233a9cca7f1b43",
            "1569876626fc4564bb10c27f87f6bd5c",
            "86662dbae394438c87ebe4fe10035338",
            "7a00bd84ac10493191fd66f9e2c58e0d",
            "55468a257d7e4af390cec62260d44cd0",
            "9d8d31f6943c4d4aafe88a55f75dc9ad",
            "ce45952b25d942bb955e0456da02c5bf",
            "25a722dea9be46a5b47be7ba5979971b",
            "e9322633820c4ec5ab98a33c250f1454",
            "816097486e664bb2872002b001dd00ed",
            "f1f2e77317a944caaa7792b47d32fb3f",
            "ee9f8257119c4438a3b6fb387cedd621",
            "d164e13966e341b5aa10d3917ed649e1",
            "ff20402f7dbd4df0bf78e486873c42f8",
            "9d48f09ec87846bda65bc27a4748a092",
            "81a4da0dbe8c41369e8e93f71e1a11b6",
            "46212e3cb1084d2b9c3fbf82156e6ba9",
            "4fd7e0b5b41c421195319418e0f7abf8",
            "0eaa482a7d784539a7c3ea4ce08b4b37",
            "a8d0f66af4c94c10a0f820d07c3d863a",
            "ea9489f876b64094be7cb049ce9bcee8",
            "8a1366eecae042ed90ff1c647299b733",
            "f4df7a35048b4b27acaea15f217bfb3d",
            "b40e2f55b4a54ee09d4ddcd14e6410bc",
            "ecbe919d5d2b41e799800209531e4074",
            "5be2988c8ce2433a9eb9f4fb3d8c8c84",
            "39205c1ce2d642e188afc2a127809ace",
            "a8da21bf5c154a149c99a9476950d5e3",
            "483fb7e4e9164bc3b85d004baf87ec9f",
            "e748a3027eeb4c5eb42c4ab302ecb95e",
            "4dadb642abee44fbbbfb1cf2450d6a20",
            "adf685ebe59f4cf98d2ee7616bb3f99e",
            "8b11584c31544647a19f2da130b096fd",
            "654be5e388c7479b88e393c88f0e7888",
            "60a22106c56f4718a21980806580b0d7",
            "414fa3b0d00c40d392e3fd2dffc3680a",
            "1e2baa32f3e74c81b7c0ab4e2eaa2c87",
            "6838186345e6433792050c9852a4cf9f",
            "6634ddd3bc684570ae7e2542f84041cc",
            "4718b8b79d9f4d9a95308b84a53cdaa3",
            "e1725a57996b42ac997a15602909fd6a",
            "e3fe3c2f1e6c4d7bb5a0d0e7fb729546",
            "dc3a485ea6cd404f9087d100c6179270",
            "d064fa9ed5704c56abbb2f0ba3dab181",
            "e2011efc1c2f4a68b3f5dbac661d6a92",
            "15e32e5d774d48739a2818511981f3d2",
            "9f98ecddf14d4cd79cf5d24b01cd1d58",
            "d216353af9b14c8a8ef5dca401532f0b",
            "4f00dd2931b549f0990f918184d4766e",
            "1b54d15919034db4bc9f644762254cc3",
            "fcf7834ca847455286b33e7920cf15a3",
            "7cdca6d7d8ea401984605bb06461bc35",
            "466f8ee3ee4c47e999fd1a4e5172dc78",
            "bdbbe09be3544bc7a9c8f5786aa4446d",
            "02eecc1378f94184a20d8de8a52ef862"
          ]
        },
        "id": "Rhm_p1l8j2Ae",
        "outputId": "9f905477-8117-4b39-dc93-b631d4e9a596"
      },
      "outputs": [
        {
          "name": "stdout",
          "output_type": "stream",
          "text": [
            "seed: 464\n"
          ]
        },
        {
          "name": "stderr",
          "output_type": "stream",
          "text": [
            "Some weights of RobertaForSequenceClassification were not initialized from the model checkpoint at /content/drive/MyDrive/VU Thesis/Code/baby_models/V20L4/model_e10_v20_l4 and are newly initialized: ['classifier.dense.bias', 'classifier.dense.weight', 'classifier.out_proj.bias', 'classifier.out_proj.weight']\n",
            "You should probably TRAIN this model on a down-stream task to be able to use it for predictions and inference.\n"
          ]
        },
        {
          "data": {
            "application/vnd.jupyter.widget-view+json": {
              "model_id": "0f18ae86da974569b02583c5bd9cac35",
              "version_major": 2,
              "version_minor": 0
            },
            "text/plain": [
              "  0%|          | 0/41 [00:00<?, ?it/s]"
            ]
          },
          "metadata": {},
          "output_type": "display_data"
        },
        {
          "data": {
            "application/vnd.jupyter.widget-view+json": {
              "model_id": "5d851794f3b942d193059bff335e4e07",
              "version_major": 2,
              "version_minor": 0
            },
            "text/plain": [
              "Epoch:   0%|          | 0/5 [00:00<?, ?it/s]"
            ]
          },
          "metadata": {},
          "output_type": "display_data"
        },
        {
          "name": "stderr",
          "output_type": "stream",
          "text": [
            "/usr/local/lib/python3.11/dist-packages/simpletransformers/classification/classification_model.py:882: FutureWarning: `torch.cuda.amp.GradScaler(args...)` is deprecated. Please use `torch.amp.GradScaler('cuda', args...)` instead.\n",
            "  scaler = amp.GradScaler()\n"
          ]
        },
        {
          "data": {
            "application/vnd.jupyter.widget-view+json": {
              "model_id": "abec8e88a0a74ef49c233a9cca7f1b43",
              "version_major": 2,
              "version_minor": 0
            },
            "text/plain": [
              "Running Epoch 1 of 5:   0%|          | 0/2621 [00:00<?, ?it/s]"
            ]
          },
          "metadata": {},
          "output_type": "display_data"
        },
        {
          "name": "stderr",
          "output_type": "stream",
          "text": [
            "/usr/local/lib/python3.11/dist-packages/simpletransformers/classification/classification_model.py:905: FutureWarning: `torch.cuda.amp.autocast(args...)` is deprecated. Please use `torch.amp.autocast('cuda', args...)` instead.\n",
            "  with amp.autocast():\n"
          ]
        },
        {
          "data": {
            "application/vnd.jupyter.widget-view+json": {
              "model_id": "ee9f8257119c4438a3b6fb387cedd621",
              "version_major": 2,
              "version_minor": 0
            },
            "text/plain": [
              "Running Epoch 2 of 5:   0%|          | 0/2621 [00:00<?, ?it/s]"
            ]
          },
          "metadata": {},
          "output_type": "display_data"
        },
        {
          "data": {
            "application/vnd.jupyter.widget-view+json": {
              "model_id": "f4df7a35048b4b27acaea15f217bfb3d",
              "version_major": 2,
              "version_minor": 0
            },
            "text/plain": [
              "Running Epoch 3 of 5:   0%|          | 0/2621 [00:00<?, ?it/s]"
            ]
          },
          "metadata": {},
          "output_type": "display_data"
        },
        {
          "data": {
            "application/vnd.jupyter.widget-view+json": {
              "model_id": "654be5e388c7479b88e393c88f0e7888",
              "version_major": 2,
              "version_minor": 0
            },
            "text/plain": [
              "Running Epoch 4 of 5:   0%|          | 0/2621 [00:00<?, ?it/s]"
            ]
          },
          "metadata": {},
          "output_type": "display_data"
        },
        {
          "data": {
            "application/vnd.jupyter.widget-view+json": {
              "model_id": "e2011efc1c2f4a68b3f5dbac661d6a92",
              "version_major": 2,
              "version_minor": 0
            },
            "text/plain": [
              "Running Epoch 5 of 5:   0%|          | 0/2621 [00:00<?, ?it/s]"
            ]
          },
          "metadata": {},
          "output_type": "display_data"
        }
      ],
      "source": [
        "model_path_e10 = \"/content/drive/MyDrive/VU Thesis/Code/baby_models/V20L4/model_e10_v20_l4\"\n",
        "model_name_e10 = \"v20_l4_e10\"\n",
        "model_e10 = fine_tune_model(model_path_e10, train_df, save_path, model_name_e10, rand_seed)"
      ]
    },
    {
      "cell_type": "code",
      "execution_count": null,
      "metadata": {
        "colab": {
          "base_uri": "https://localhost:8080/",
          "height": 937,
          "referenced_widgets": [
            "9955f23994644717b3b28ca396fd0a68",
            "446c83eafa5645f680051a2c9ea72516",
            "b374c40c33584ad2a26fe083a14935b1",
            "150867096329443dbfb1abbcbda28a0f",
            "d03059494ea34b7580da21e8f358f44f",
            "544fa2b31b8f4b0c93148e830af7b3b7",
            "ae0e14d5244e46c393e8d3122512d619",
            "465f23b27ea94a64b443f020349104e6",
            "1bf33f46e98f49758590699b8a0e93ba",
            "c6e372f2b00340599c5858ef7cdf6b14",
            "1413c846897d4de5a99ceb666c0ab942",
            "30ebdb0ee2b94fbfba364d543e0b232a",
            "81161b7ff5d44d359209ede6aa55cf05",
            "b6777d58523f4a21b254367f57569ca1",
            "1c498e774aa44f009317a6ce2780c39f",
            "d9742a1e4cc4457988315e4330f3bd90",
            "1e6da624c6f340bdb7dc40e45bbe1a23",
            "79a17f2756fd40b682708897b839a2fd",
            "aead89eb1a2246fb8091839050464061",
            "40e738401dd4458a9a0e4a439cee9a8e",
            "ef30d0f7054b40ca9fb9a14b4fe20f28",
            "5b95bd352bd34d29bb6c6481113a7717"
          ]
        },
        "id": "S8y14giXZkFu",
        "outputId": "9188c2ec-0e4f-4bdf-ae74-2830c334a409"
      },
      "outputs": [
        {
          "data": {
            "application/vnd.jupyter.widget-view+json": {
              "model_id": "9955f23994644717b3b28ca396fd0a68",
              "version_major": 2,
              "version_minor": 0
            },
            "text/plain": [
              "  0%|          | 0/13 [00:00<?, ?it/s]"
            ]
          },
          "metadata": {},
          "output_type": "display_data"
        },
        {
          "data": {
            "application/vnd.jupyter.widget-view+json": {
              "model_id": "30ebdb0ee2b94fbfba364d543e0b232a",
              "version_major": 2,
              "version_minor": 0
            },
            "text/plain": [
              "  0%|          | 0/70 [00:00<?, ?it/s]"
            ]
          },
          "metadata": {},
          "output_type": "display_data"
        },
        {
          "name": "stderr",
          "output_type": "stream",
          "text": [
            "/usr/local/lib/python3.11/dist-packages/simpletransformers/classification/classification_model.py:2188: FutureWarning: `torch.cuda.amp.autocast(args...)` is deprecated. Please use `torch.amp.autocast('cuda', args...)` instead.\n",
            "  with amp.autocast():\n"
          ]
        },
        {
          "name": "stdout",
          "output_type": "stream",
          "text": [
            "['DET', 'G', 'PREP', 'SVA']\n",
            "precision_recall_f1-score\n",
            "['DET', 'G', 'PREP', 'SVA']\n",
            "              precision    recall f0.5-score   support\n",
            "\n",
            "         DET      0.995     1.000     0.996      1508\n",
            "           G      0.917     0.824     0.896      3494\n",
            "        PREP      0.548     0.782     0.583       879\n",
            "         SVA      0.960     0.936     0.955      1107\n",
            "\n",
            "    accuracy                          0.874      6988\n",
            "   macro avg      0.855     0.885     0.858      6988\n",
            "weighted avg      0.894     0.874     0.888      6988\n",
            "\n",
            "Confusion matrix\n",
            "['DET', 'G', 'PREP', 'SVA']\n",
            "[[1508    0    0    0]\n",
            " [   7 2879  566   42]\n",
            " [   0  191  687    1]\n",
            " [   0   71    0 1036]]\n"
          ]
        },
        {
          "data": {
            "image/png": "[encoded data removed]",
            "text/plain": [
              "<Figure size 640x480 with 2 Axes>"
            ]
          },
          "metadata": {},
          "output_type": "display_data"
        }
      ],
      "source": [
        "model_e10_path = '/content/drive/MyDrive/VU Thesis/Code/fine_tune/models/fine_tuned_v20_l4_e10_model'\n",
        "\n",
        "preds_e10 = predict_model(model_e10_path, test_data)\n",
        "# report = classification_report_f0_5(test_df.labels.tolist(), preds) #, output_dict=True)\n",
        "target_names = ['DET', 'G', 'PREP','SVA']\n",
        "# target_names = ['G', 'PREP', 'DET','SVA']\n",
        "report_e10, cf_matrix_e10 = fine_tune_eval(gold_labels, preds_e10, target_names)\n",
        "df_e10 = save_model_preds(test_df, preds_e10, outfile_path, 'v20_l4_e10')"
      ]
    },
    {
      "cell_type": "markdown",
      "metadata": {
        "id": "DM4eOco0paHA"
      },
      "source": [
        "#### O_RoBERTa"
      ]
    },
    {
      "cell_type": "code",
      "execution_count": null,
      "metadata": {
        "colab": {
          "base_uri": "https://localhost:8080/",
          "height": 383,
          "referenced_widgets": [
            "e15255e6c8b648819d954ab1d750bef5",
            "07115751a65247dbbe87ae98032ffa49",
            "a5c4bbb836c641d1885e347b54a836f9",
            "1b8405df8a05408593232d8a65fbf934",
            "3085307f83154c079c4783691babdc93",
            "3c3c8753e6e34dd1983a73df1882c163",
            "88bd84df44fc460693c386f94f88c6e9",
            "a0cb68463e644d5aabcb4666b89fcb26",
            "3ae955372efd4ae2b612abe8bfc64097",
            "56a7e5d08f7b40349fac93df3f3f7d99",
            "8c43072f08a342b5ab3f67716e38a4ef",
            "7b915bc97a474ff6a7b2b42c2a6542ae",
            "ac5b4f57b86c46b5b3a1aee13ff411ff",
            "d2fd011830da4504a4e556ed9b3f4dd3",
            "829fd92d0029452eb39d2953f9afc4bc",
            "eafa9f873e89444eb23ff5c94ead9121",
            "8af7f9b994c94d3198e24127a8f83241",
            "c3b44d9059bf40ae9212d71a3ea0700a",
            "ed2eb852134b4c27a1d0c75f407a444c",
            "96f0da88c86d4cb7846053cb73c0adda",
            "1ad8e61b4a73457ebe5901ab9b487677",
            "fcda6b77328f4fd9a9fad64bf051477c",
            "cf601507fcf240f9bef57f24ab2be48a",
            "1c574200b650452caaf91e03ad645576",
            "7b523911cb764c049a56c418029434eb",
            "a14b94a6b39946f4b0d79c2cb8f7f949",
            "b2e3cc73064a41cea4b14728c1af0064",
            "5984f5514dbf4b60b321353edf8d3989",
            "ba2a63b5b30249fb8308e379d82ec767",
            "4a9e9c4074a342248e979b1ce6695147",
            "b82817b25a8f490abb77474db8e16343",
            "a77dbce8d6f948f1b0bcb8ec9802267d",
            "e9c736f35dd94b9985fcfc625cea52c6",
            "632693f136574a2f9ce30753b6b52f78",
            "8c1d9f06bbdc4180af7c577b38f06023",
            "7420aa3b8c184a54b1bb3ef9726a6954",
            "81de49847e06414e9395019ea39eb4d1",
            "cedf05a7effa4ef692ba75e19d5bff8a",
            "dbde8fa81e2c42db84245c990f5b2fbe",
            "b32e43e5158f43669929710308121837",
            "8cdc5c1ace1b427cb5bafcfaba336631",
            "f44b9b8fbe3d480bb10267b6fd88bc91",
            "5b0a7ab26ec44d668c320285fff417b8",
            "de6e7e59927d4b6eb2d4c848c2ea2e8c",
            "7983deffcbbc46c88a3bfd883fd57420",
            "512fb87ffa4c4f58bb89bd6f8a3c004b",
            "a80b85b45ff84c32812142a6378364e7",
            "b297d4a2e07f4492a13098dabc7a11b4",
            "3c914a38ed344fa0b6ec84151eab42f4",
            "0199bbe222ef445d9c3db54f5f3ed552",
            "069f71d0c7a24686ad3d5cadf86327b9",
            "40637f238e4846e1a2223e653797a455",
            "875697b4f2254d0089f7b4cf45421ca3",
            "77f1b2fbb6354af5980d1ae49a0fdfd5",
            "0b9a135900b94b0593401bcbd0167cf8",
            "bca3a192033348468cf7955f8d9b533f",
            "fa0f946c4ce448c5b58a2b972d1b9bbc",
            "927ab7f4752b4b6e9305919d54629865",
            "a1a6f0c64f0543a19a6b6cede3da2a57",
            "fea8575a124547739f246bcc402fcd4b",
            "f5311c406cd849c8999e140f0e97eeda",
            "e717344d607846a5b73e26a231f69adf",
            "a950c4dee4094595aa41eaef94682772",
            "392749e5bcb4429d9f003968245a2894",
            "d21cfb447f5b4e77ad1d495ae25f1886",
            "611f785182294e49ad28928e19c12ff9",
            "bd422457895641888d350c9f1250aba7",
            "8e44293c81be47c183478616ac172d83",
            "da2f39bc01894537a56ee8feccab1770",
            "7a05a6019cd3473ba9a97cede58d94d4",
            "1c8b56fd144f47beb0e2496609c4f164",
            "a7c13e379b6246d4b0d1009f37587ff1",
            "e90dce8c19844887b4df329865dc4f77",
            "af5db5bc573e46169ef461a417b1b8ef",
            "4cc25f0e43d1472fae9d364529ea24d7",
            "2ed13d7dacab4ab79983fe233ac1391f",
            "b91fec8c1a3e495b92c39cb30dfe1121"
          ]
        },
        "id": "oPa9IEmwj30o",
        "outputId": "b9f88fa7-9c41-4215-8761-05e644caaef7"
      },
      "outputs": [
        {
          "name": "stdout",
          "output_type": "stream",
          "text": [
            "seed: 464\n"
          ]
        },
        {
          "name": "stderr",
          "output_type": "stream",
          "text": [
            "Some weights of RobertaForSequenceClassification were not initialized from the model checkpoint at /content/drive/MyDrive/VU Thesis/Code/baby_models/roberta-base and are newly initialized: ['classifier.dense.bias', 'classifier.dense.weight', 'classifier.out_proj.bias', 'classifier.out_proj.weight']\n",
            "You should probably TRAIN this model on a down-stream task to be able to use it for predictions and inference.\n"
          ]
        },
        {
          "data": {
            "application/vnd.jupyter.widget-view+json": {
              "model_id": "e15255e6c8b648819d954ab1d750bef5",
              "version_major": 2,
              "version_minor": 0
            },
            "text/plain": [
              "  0%|          | 0/41 [00:00<?, ?it/s]"
            ]
          },
          "metadata": {},
          "output_type": "display_data"
        },
        {
          "data": {
            "application/vnd.jupyter.widget-view+json": {
              "model_id": "7b915bc97a474ff6a7b2b42c2a6542ae",
              "version_major": 2,
              "version_minor": 0
            },
            "text/plain": [
              "Epoch:   0%|          | 0/5 [00:00<?, ?it/s]"
            ]
          },
          "metadata": {},
          "output_type": "display_data"
        },
        {
          "name": "stderr",
          "output_type": "stream",
          "text": [
            "/usr/local/lib/python3.11/dist-packages/simpletransformers/classification/classification_model.py:882: FutureWarning: `torch.cuda.amp.GradScaler(args...)` is deprecated. Please use `torch.amp.GradScaler('cuda', args...)` instead.\n",
            "  scaler = amp.GradScaler()\n"
          ]
        },
        {
          "data": {
            "application/vnd.jupyter.widget-view+json": {
              "model_id": "cf601507fcf240f9bef57f24ab2be48a",
              "version_major": 2,
              "version_minor": 0
            },
            "text/plain": [
              "Running Epoch 1 of 5:   0%|          | 0/2621 [00:00<?, ?it/s]"
            ]
          },
          "metadata": {},
          "output_type": "display_data"
        },
        {
          "name": "stderr",
          "output_type": "stream",
          "text": [
            "/usr/local/lib/python3.11/dist-packages/simpletransformers/classification/classification_model.py:905: FutureWarning: `torch.cuda.amp.autocast(args...)` is deprecated. Please use `torch.amp.autocast('cuda', args...)` instead.\n",
            "  with amp.autocast():\n"
          ]
        },
        {
          "data": {
            "application/vnd.jupyter.widget-view+json": {
              "model_id": "632693f136574a2f9ce30753b6b52f78",
              "version_major": 2,
              "version_minor": 0
            },
            "text/plain": [
              "Running Epoch 2 of 5:   0%|          | 0/2621 [00:00<?, ?it/s]"
            ]
          },
          "metadata": {},
          "output_type": "display_data"
        },
        {
          "data": {
            "application/vnd.jupyter.widget-view+json": {
              "model_id": "7983deffcbbc46c88a3bfd883fd57420",
              "version_major": 2,
              "version_minor": 0
            },
            "text/plain": [
              "Running Epoch 3 of 5:   0%|          | 0/2621 [00:00<?, ?it/s]"
            ]
          },
          "metadata": {},
          "output_type": "display_data"
        },
        {
          "data": {
            "application/vnd.jupyter.widget-view+json": {
              "model_id": "bca3a192033348468cf7955f8d9b533f",
              "version_major": 2,
              "version_minor": 0
            },
            "text/plain": [
              "Running Epoch 4 of 5:   0%|          | 0/2621 [00:00<?, ?it/s]"
            ]
          },
          "metadata": {},
          "output_type": "display_data"
        },
        {
          "data": {
            "application/vnd.jupyter.widget-view+json": {
              "model_id": "bd422457895641888d350c9f1250aba7",
              "version_major": 2,
              "version_minor": 0
            },
            "text/plain": [
              "Running Epoch 5 of 5:   0%|          | 0/2621 [00:00<?, ?it/s]"
            ]
          },
          "metadata": {},
          "output_type": "display_data"
        }
      ],
      "source": [
        "model_path_o = \"/content/drive/MyDrive/VU Thesis/Code/baby_models/roberta-base\"\n",
        "model_name_o = \"O_RoBERTa\"\n",
        "model_o = fine_tune_model(model_path_o, train_df, save_path, model_name_o, rand_seed)"
      ]
    },
    {
      "cell_type": "code",
      "execution_count": null,
      "metadata": {
        "colab": {
          "base_uri": "https://localhost:8080/",
          "height": 937,
          "referenced_widgets": [
            "9ea08ec3f2d94f1aa97151f224bacac4",
            "ea359df8ad9740e580547b697f8a1455",
            "6f8b3a223c16474291c98c3c1caaf4d2",
            "ed346806157843d48e0080c2ea9c63c6",
            "eade26f12e824bf0b87e0f1f854c2656",
            "82a658445d314931be3e5d99d064f3bc",
            "93962ad1a9174085bad8943e03c23446",
            "2bc349c0ef0348dba506cd05171eb2e7",
            "d56a3c490d97419e938ef6727318a827",
            "7482a147b49444b3859843adf3fd7dac",
            "c52b539913b741e185c2a16513b3050f",
            "67eead0344f74b7a911f66a00028e8f2",
            "7b093de4875644a394596cf2b0c9df37",
            "55d632098d054981a2a48f6be52bf105",
            "5b0f549e5fde4599b8a2f8e88c9cda9e",
            "2a070abe7fbf4b0a946bdb8672abbc49",
            "9fb5221bcdd743eeb12f176177ef3fea",
            "b875a7c0fabf4e02939adccf27bf4148",
            "b7bdb4ae781f4c76964790f1ce0bda03",
            "bca1b3b428d34f52b15f1a8ae54c3e4d",
            "bf54e2b5aa794b099d050e175c4dbe95",
            "e94a4d688dae4ff5be4a09b331982885"
          ]
        },
        "id": "dj35ccjyVfeC",
        "outputId": "412d7ce6-f601-4c7b-dace-e2b3a7de4458"
      },
      "outputs": [
        {
          "data": {
            "application/vnd.jupyter.widget-view+json": {
              "model_id": "9ea08ec3f2d94f1aa97151f224bacac4",
              "version_major": 2,
              "version_minor": 0
            },
            "text/plain": [
              "  0%|          | 0/13 [00:00<?, ?it/s]"
            ]
          },
          "metadata": {},
          "output_type": "display_data"
        },
        {
          "data": {
            "application/vnd.jupyter.widget-view+json": {
              "model_id": "67eead0344f74b7a911f66a00028e8f2",
              "version_major": 2,
              "version_minor": 0
            },
            "text/plain": [
              "  0%|          | 0/70 [00:00<?, ?it/s]"
            ]
          },
          "metadata": {},
          "output_type": "display_data"
        },
        {
          "name": "stderr",
          "output_type": "stream",
          "text": [
            "/usr/local/lib/python3.11/dist-packages/simpletransformers/classification/classification_model.py:2188: FutureWarning: `torch.cuda.amp.autocast(args...)` is deprecated. Please use `torch.amp.autocast('cuda', args...)` instead.\n",
            "  with amp.autocast():\n"
          ]
        },
        {
          "name": "stdout",
          "output_type": "stream",
          "text": [
            "['DET', 'G', 'PREP', 'SVA']\n",
            "precision_recall_f1-score\n",
            "['DET', 'G', 'PREP', 'SVA']\n",
            "              precision    recall f0.5-score   support\n",
            "\n",
            "         DET      0.999     1.000     0.999      1508\n",
            "           G      0.905     0.939     0.911      3494\n",
            "        PREP      0.722     0.617     0.698       879\n",
            "         SVA      0.995     0.992     0.995      1107\n",
            "\n",
            "    accuracy                          0.920      6988\n",
            "   macro avg      0.905     0.887     0.901      6988\n",
            "weighted avg      0.917     0.920     0.917      6988\n",
            "\n",
            "Confusion matrix\n",
            "['DET', 'G', 'PREP', 'SVA']\n",
            "[[1508    0    0    0]\n",
            " [   1 3280  209    4]\n",
            " [   0  336  542    1]\n",
            " [   0    9    0 1098]]\n"
          ]
        },
        {
          "data": {
            "image/png": "[encoded data removed]",
            "text/plain": [
              "<Figure size 640x480 with 2 Axes>"
            ]
          },
          "metadata": {},
          "output_type": "display_data"
        }
      ],
      "source": [
        "model_o_path = '/content/drive/MyDrive/VU Thesis/Code/fine_tune/models/fine_tuned_O_RoBERTa_model'\n",
        "\n",
        "preds_o = predict_model(model_o_path, test_data)\n",
        "# report = classification_report_f0_5(test_df.labels.tolist(), preds) #, output_dict=True)\n",
        "target_names = ['DET', 'G', 'PREP','SVA']\n",
        "# target_names = ['G', 'PREP', 'DET','SVA']\n",
        "report_o, cf_matrix_o = fine_tune_eval(gold_labels, preds_o, target_names)\n",
        "df_o = save_model_preds(test_df, preds_o, outfile_path, 'o_RoBERTa')\n"
      ]
    },
    {
      "cell_type": "markdown",
      "metadata": {
        "id": "1vXQGhP_peGA"
      },
      "source": [
        "#### BB_RoBERTa"
      ]
    },
    {
      "cell_type": "code",
      "execution_count": null,
      "metadata": {
        "colab": {
          "base_uri": "https://localhost:8080/",
          "height": 383,
          "referenced_widgets": [
            "260c61aff11944f0bc1a75d54149f1e7",
            "7d5760e9dee643189cfc6e46a79eda19",
            "cad4e541bf1f43e49fca447a6b55d44a",
            "e11ecec8877b4810885455e50a702789",
            "5b55d3440f10477dbf20d021a1bf2cf5",
            "364aa8cb01ec441a97185689fcac9e98",
            "f3de8435f05348d9beeb00140476a7e3",
            "cc62367e0f744435a082e34efa82f12f",
            "71951533de1c4f9c980f9cd4360e49c0",
            "624a0cb69d93480ab922083770021882",
            "cd19a52811504cc981a0fd6667af47ba",
            "ccebb911b9614365aa311f08360e4482",
            "ce6b6d2bdc67410090c5eda51ed3fc0f",
            "96e3ac690d1b464b854ca5f73b25440b",
            "97a746b1c4a548f5b82bfa4303bb3991",
            "c0cebf46b8da44f788b5e01c0a4d8da1",
            "48d259cabd954e7e92d038700ad122c5",
            "f56987a2cceb459292145f9a5d68161a",
            "a1fa6eb6f2c24b64ab1753507d651050",
            "67003e50a87e4c0486ab0f3d88e73989",
            "4623121843bc45df9133f1b9e975b278",
            "fcc7b44f45f548d08d2eb3772bb3bcda",
            "d2a1af21db424248b1f4c8c5308623f7",
            "b1b1dd9a87ef46cda2f9ecd34963e598",
            "d078fae38d504974adfd9a1cff0c3070",
            "6cf0d47e8e0742139b1e79440f00f5f6",
            "3880d541da4e4102b787937f92f02420",
            "7031dbbaf0f547a7acab675b57e2fe8e",
            "d18c92462532442599fef49f94abdd20",
            "6726473131df49b0a5d68f4e57746ab4",
            "7cf5c68d12de47e88d58e60d12aba5e2",
            "17b8e17fed6040feb767f6c99fedbd42",
            "2fb6d4c1b66f4662a1f4a54172b7171c",
            "f968915f844d41d891ea39a3907771ea",
            "cc7fcd53924b4915b26861fd11ef8919",
            "502278027b6541a699bb6a785b9e663e",
            "3409c3c889144a0d916fa11c3b958c54",
            "9263874c02814e888d83195b726b4a75",
            "39911ab8e8054c348487334129289659",
            "7ebd652ead6544db8226c5a4b2e448a6",
            "771eb8c896c74ea2bbd80f3b0535d314",
            "9bff7dfa433644b1a1925b097d1e5481",
            "aa844e91e2f24e0093f29b8f7469e53a",
            "d82e477e868a40e7a6820d9fe863f579",
            "bee00d134ad546669b115850cc44aee7",
            "81d5a30c3d964a5d849e995807695ed3",
            "bc7e9da3197d43218cad28d60c84391f",
            "4ac013e36b18493785524fff26e74bc1",
            "af8bfd0ab17141e68768d610c6c044b3",
            "c1283e691ba34f3fa78ecd1ebe8431f7",
            "8402a299accb4660ab13e2a42e903215",
            "8ecfc4ed13534cd286e844d890539a74",
            "595babfdbb0e4b5990c9a3ab16527027",
            "eec6bb7ea7864818b28321745bdd8cbc",
            "ae741c6cde0e455182a4c8e254b089e2",
            "2b071e151571405282428e4cefb7fd4c",
            "9817fbe4d8d2450eb41fc981a7fe9a3f",
            "fab2a15479ae4528b2dad080107526a3",
            "3d30b2573b1f45a588c1bcd903dccd72",
            "ed155069a8b641cdbcbb3e89f097d7f6",
            "ca4d6eee97254fa9a791bb6e131e35db",
            "25575fd3ba5d44e4af91eae93bef3ee5",
            "68714a3645c84418b2843360493d648c",
            "948f93a660de44faa06cf4548a479e99",
            "7aaa56ecb6c447beb60cb82564b5fc7f",
            "67c18bcca4e142069e1429e70cb243f4",
            "eac416e65537453b9a423003d931b03e",
            "0c60718c7cc042f8aca1c8c2ecb9d959",
            "ff6756fc1c55472299e15b6ca9aa3ca0",
            "924d86e04faa4d179b45acae75107550",
            "192cb4ba63dc41ad83963c6055954eef",
            "854495c731bf407da41d146f0ff343cf",
            "61909bdac1254d53b7b9fad5ac81ca72",
            "94ccbdb142e04b9795674bdbae73587f",
            "ef099aac0a09432791e2a7fd19537b7e",
            "cc6930a38bcb4b67a9fd803202b98855",
            "eacc0f7879de42eb875b68fee1782afd"
          ]
        },
        "id": "a7c7WP11j-MJ",
        "outputId": "59f6fd7a-36c7-4306-e5c7-1fd91d8f53ff"
      },
      "outputs": [
        {
          "name": "stdout",
          "output_type": "stream",
          "text": [
            "seed: 464\n"
          ]
        },
        {
          "name": "stderr",
          "output_type": "stream",
          "text": [
            "Some weights of RobertaForSequenceClassification were not initialized from the model checkpoint at /content/drive/MyDrive/VU Thesis/Code/baby_models/roberta-base-strict-small-2023 and are newly initialized: ['classifier.dense.bias', 'classifier.dense.weight', 'classifier.out_proj.bias', 'classifier.out_proj.weight']\n",
            "You should probably TRAIN this model on a down-stream task to be able to use it for predictions and inference.\n"
          ]
        },
        {
          "data": {
            "application/vnd.jupyter.widget-view+json": {
              "model_id": "260c61aff11944f0bc1a75d54149f1e7",
              "version_major": 2,
              "version_minor": 0
            },
            "text/plain": [
              "  0%|          | 0/41 [00:00<?, ?it/s]"
            ]
          },
          "metadata": {},
          "output_type": "display_data"
        },
        {
          "data": {
            "application/vnd.jupyter.widget-view+json": {
              "model_id": "ccebb911b9614365aa311f08360e4482",
              "version_major": 2,
              "version_minor": 0
            },
            "text/plain": [
              "Epoch:   0%|          | 0/5 [00:00<?, ?it/s]"
            ]
          },
          "metadata": {},
          "output_type": "display_data"
        },
        {
          "name": "stderr",
          "output_type": "stream",
          "text": [
            "/usr/local/lib/python3.11/dist-packages/simpletransformers/classification/classification_model.py:882: FutureWarning: `torch.cuda.amp.GradScaler(args...)` is deprecated. Please use `torch.amp.GradScaler('cuda', args...)` instead.\n",
            "  scaler = amp.GradScaler()\n"
          ]
        },
        {
          "data": {
            "application/vnd.jupyter.widget-view+json": {
              "model_id": "d2a1af21db424248b1f4c8c5308623f7",
              "version_major": 2,
              "version_minor": 0
            },
            "text/plain": [
              "Running Epoch 1 of 5:   0%|          | 0/2621 [00:00<?, ?it/s]"
            ]
          },
          "metadata": {},
          "output_type": "display_data"
        },
        {
          "name": "stderr",
          "output_type": "stream",
          "text": [
            "/usr/local/lib/python3.11/dist-packages/simpletransformers/classification/classification_model.py:905: FutureWarning: `torch.cuda.amp.autocast(args...)` is deprecated. Please use `torch.amp.autocast('cuda', args...)` instead.\n",
            "  with amp.autocast():\n"
          ]
        },
        {
          "data": {
            "application/vnd.jupyter.widget-view+json": {
              "model_id": "f968915f844d41d891ea39a3907771ea",
              "version_major": 2,
              "version_minor": 0
            },
            "text/plain": [
              "Running Epoch 2 of 5:   0%|          | 0/2621 [00:00<?, ?it/s]"
            ]
          },
          "metadata": {},
          "output_type": "display_data"
        },
        {
          "data": {
            "application/vnd.jupyter.widget-view+json": {
              "model_id": "bee00d134ad546669b115850cc44aee7",
              "version_major": 2,
              "version_minor": 0
            },
            "text/plain": [
              "Running Epoch 3 of 5:   0%|          | 0/2621 [00:00<?, ?it/s]"
            ]
          },
          "metadata": {},
          "output_type": "display_data"
        },
        {
          "data": {
            "application/vnd.jupyter.widget-view+json": {
              "model_id": "2b071e151571405282428e4cefb7fd4c",
              "version_major": 2,
              "version_minor": 0
            },
            "text/plain": [
              "Running Epoch 4 of 5:   0%|          | 0/2621 [00:00<?, ?it/s]"
            ]
          },
          "metadata": {},
          "output_type": "display_data"
        },
        {
          "data": {
            "application/vnd.jupyter.widget-view+json": {
              "model_id": "eac416e65537453b9a423003d931b03e",
              "version_major": 2,
              "version_minor": 0
            },
            "text/plain": [
              "Running Epoch 5 of 5:   0%|          | 0/2621 [00:00<?, ?it/s]"
            ]
          },
          "metadata": {},
          "output_type": "display_data"
        }
      ],
      "source": [
        "model_path_bb = \"/content/drive/MyDrive/VU Thesis/Code/baby_models/roberta-base-strict-small-2023\"\n",
        "model_name_bb = \"BB_RoBERTa\"\n",
        "model_bb = fine_tune_model(model_path_bb, train_df, save_path, model_name_bb, rand_seed)"
      ]
    },
    {
      "cell_type": "code",
      "execution_count": null,
      "metadata": {
        "colab": {
          "base_uri": "https://localhost:8080/",
          "height": 937,
          "referenced_widgets": [
            "c8545cfe351240339bb5de1be56f4ea0",
            "b550ffc8cf464121a76ae0da0c695f94",
            "aded47c5d60149bbb8906dbecee064c1",
            "3fff790d03624accb9220f9a0e7adda0",
            "fc292cdb9eb34fe0a8109b3f22aebf39",
            "93b476ea07d44171bd6ab46c06c41ab5",
            "6479a7b79b0d414c89c5651db4a7ff53",
            "3ec19906e9dc4b4aa1e224144658e1c7",
            "2bbf584fb1d14752874fef5f69f108b6",
            "b885bbf3452746bc8f401b955ae2bff5",
            "39be4c46d6eb4da6bc561f921a6e48e9",
            "424ab387c94941d49a6a4528144dfada",
            "c2f4a3d1a38b4f5887b87ed32e63fd3b",
            "1c0873dd13b141058a9d054fdc0bb99d",
            "bd34f1c6ce63408c86ccb083a24359a3",
            "3c6b02dadfd14a69a3cc9ecd7e9f7ae2",
            "121f63f0a5484918849557acf67b91a1",
            "31dad888832b459280245d30292bb545",
            "5e3e794d1f0f4e3f838e1d349d176354",
            "501d42323e64479aa0226a26510ca113",
            "c8790c88a05f45f8b1e8a9654c69e845",
            "35e3066babea45fca4825ecc752c0540"
          ]
        },
        "id": "rzj_udkrUujl",
        "outputId": "56f7d30e-984c-42bb-8d2e-75f203b6839b"
      },
      "outputs": [
        {
          "data": {
            "application/vnd.jupyter.widget-view+json": {
              "model_id": "c8545cfe351240339bb5de1be56f4ea0",
              "version_major": 2,
              "version_minor": 0
            },
            "text/plain": [
              "  0%|          | 0/13 [00:00<?, ?it/s]"
            ]
          },
          "metadata": {},
          "output_type": "display_data"
        },
        {
          "data": {
            "application/vnd.jupyter.widget-view+json": {
              "model_id": "424ab387c94941d49a6a4528144dfada",
              "version_major": 2,
              "version_minor": 0
            },
            "text/plain": [
              "  0%|          | 0/70 [00:00<?, ?it/s]"
            ]
          },
          "metadata": {},
          "output_type": "display_data"
        },
        {
          "name": "stderr",
          "output_type": "stream",
          "text": [
            "/usr/local/lib/python3.11/dist-packages/simpletransformers/classification/classification_model.py:2188: FutureWarning: `torch.cuda.amp.autocast(args...)` is deprecated. Please use `torch.amp.autocast('cuda', args...)` instead.\n",
            "  with amp.autocast():\n"
          ]
        },
        {
          "name": "stdout",
          "output_type": "stream",
          "text": [
            "['DET', 'G', 'PREP', 'SVA']\n",
            "precision_recall_f1-score\n",
            "['DET', 'G', 'PREP', 'SVA']\n",
            "              precision    recall f0.5-score   support\n",
            "\n",
            "         DET      0.999     1.000     0.999      1508\n",
            "           G      0.915     0.845     0.900      3494\n",
            "        PREP      0.538     0.702     0.565       879\n",
            "         SVA      0.985     0.986     0.985      1107\n",
            "\n",
            "    accuracy                          0.883      6988\n",
            "   macro avg      0.859     0.883     0.862      6988\n",
            "weighted avg      0.897     0.883     0.893      6988\n",
            "\n",
            "Confusion matrix\n",
            "['DET', 'G', 'PREP', 'SVA']\n",
            "[[1508    0    0    0]\n",
            " [   1 2951  529   13]\n",
            " [   0  258  617    4]\n",
            " [   0   15    0 1092]]\n"
          ]
        },
        {
          "data": {
            "image/png": "[encoded data removed]",
            "text/plain": [
              "<Figure size 640x480 with 2 Axes>"
            ]
          },
          "metadata": {},
          "output_type": "display_data"
        }
      ],
      "source": [
        "model_bb_path = '/content/drive/MyDrive/VU Thesis/Code/fine_tune/models/fine_tuned_BB_RoBERTa_model'\n",
        "\n",
        "preds_bb = predict_model(model_bb_path, test_data)\n",
        "# report = classification_report_f0_5(test_df.labels.tolist(), preds) #, output_dict=True)\n",
        "target_names = ['DET', 'G', 'PREP','SVA']\n",
        "# target_names = ['G', 'PREP', 'DET','SVA']\n",
        "report_bb, cf_matrix_bb = fine_tune_eval(gold_labels, preds_bb, target_names)\n",
        "df_bb = save_model_preds(test_df, preds_bb, outfile_path, 'bb_RoBERTa')"
      ]
    }
  ],
  "metadata": {
    "accelerator": "GPU",
    "colab": {
      "collapsed_sections": [
        "m30x0mKU6tN9",
        "0PJo_ncwpCKM",
        "9IxaqtGypLbn",
        "0oNDxB8WpGlz",
        "eYXhWEJ1pAlD",
        "omG7L9jDpI9q",
        "xEFeLcfopJwZ",
        "vwC9zAoUpVNw",
        "TihlCkCWpWcX",
        "FAIcbH8jpX1G",
        "Er4BtOLWpY8C",
        "DM4eOco0paHA",
        "1vXQGhP_peGA"
      ],
      "gpuType": "T4",
      "provenance": []
    },
    "kernelspec": {
      "display_name": "Python 3",
      "name": "python3"
    },
    "language_info": {
      "name": "python"
    }
  },
  "nbformat": 4,
  "nbformat_minor": 0
}
